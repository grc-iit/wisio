{
 "cells": [
  {
   "cell_type": "code",
   "execution_count": 1,
   "metadata": {},
   "outputs": [
    {
     "name": "stdout",
     "output_type": "stream",
     "text": [
      "time: 369 µs (started: 2023-07-16 20:05:57 -07:00)\n"
     ]
    }
   ],
   "source": [
    "%load_ext autoreload\n",
    "%load_ext autotime"
   ]
  },
  {
   "cell_type": "code",
   "execution_count": 2,
   "metadata": {},
   "outputs": [
    {
     "name": "stdout",
     "output_type": "stream",
     "text": [
      "time: 645 µs (started: 2023-07-16 20:05:57 -07:00)\n"
     ]
    }
   ],
   "source": [
    "import sys\n",
    "sys.path.append(\"../\")\n",
    "import warnings\n",
    "warnings.filterwarnings('ignore')"
   ]
  },
  {
   "cell_type": "code",
   "execution_count": 3,
   "metadata": {},
   "outputs": [
    {
     "name": "stdout",
     "output_type": "stream",
     "text": [
      "time: 5.57 s (started: 2023-07-16 20:05:58 -07:00)\n"
     ]
    }
   ],
   "source": [
    "import dask\n",
    "import dask.dataframe as dd\n",
    "import json\n",
    "import numpy as np\n",
    "import pandas as pd\n",
    "from dask import compute, delayed\n",
    "from dask.distributed import Client, Future, LocalCluster, as_completed, get_client, wait\n",
    "from typing import Union"
   ]
  },
  {
   "cell_type": "code",
   "execution_count": 4,
   "metadata": {},
   "outputs": [
    {
     "data": {
      "text/html": [
       "<div>\n",
       "    <div style=\"width: 24px; height: 24px; background-color: #e1e1e1; border: 3px solid #9D9D9D; border-radius: 5px; position: absolute;\"> </div>\n",
       "    <div style=\"margin-left: 48px;\">\n",
       "        <h3 style=\"margin-bottom: 0px;\">Client</h3>\n",
       "        <p style=\"color: #9D9D9D; margin-bottom: 0px;\">Client-df7627f5-244e-11ee-b66e-a4bf0121c5bd</p>\n",
       "        <table style=\"width: 100%; text-align: left;\">\n",
       "\n",
       "        <tr>\n",
       "        \n",
       "            <td style=\"text-align: left;\"><strong>Connection method:</strong> Cluster object</td>\n",
       "            <td style=\"text-align: left;\"><strong>Cluster type:</strong> distributed.LocalCluster</td>\n",
       "        \n",
       "        </tr>\n",
       "\n",
       "        \n",
       "            <tr>\n",
       "                <td style=\"text-align: left;\">\n",
       "                    <strong>Dashboard: </strong> <a href=\"http://127.0.0.1:8787/status\" target=\"_blank\">http://127.0.0.1:8787/status</a>\n",
       "                </td>\n",
       "                <td style=\"text-align: left;\"></td>\n",
       "            </tr>\n",
       "        \n",
       "\n",
       "        </table>\n",
       "\n",
       "        \n",
       "            <details>\n",
       "            <summary style=\"margin-bottom: 20px;\"><h3 style=\"display: inline;\">Cluster Info</h3></summary>\n",
       "            <div class=\"jp-RenderedHTMLCommon jp-RenderedHTML jp-mod-trusted jp-OutputArea-output\">\n",
       "    <div style=\"width: 24px; height: 24px; background-color: #e1e1e1; border: 3px solid #9D9D9D; border-radius: 5px; position: absolute;\">\n",
       "    </div>\n",
       "    <div style=\"margin-left: 48px;\">\n",
       "        <h3 style=\"margin-bottom: 0px; margin-top: 0px;\">LocalCluster</h3>\n",
       "        <p style=\"color: #9D9D9D; margin-bottom: 0px;\">b2590419</p>\n",
       "        <table style=\"width: 100%; text-align: left;\">\n",
       "            <tr>\n",
       "                <td style=\"text-align: left;\">\n",
       "                    <strong>Dashboard:</strong> <a href=\"http://127.0.0.1:8787/status\" target=\"_blank\">http://127.0.0.1:8787/status</a>\n",
       "                </td>\n",
       "                <td style=\"text-align: left;\">\n",
       "                    <strong>Workers:</strong> 16\n",
       "                </td>\n",
       "            </tr>\n",
       "            <tr>\n",
       "                <td style=\"text-align: left;\">\n",
       "                    <strong>Total threads:</strong> 48\n",
       "                </td>\n",
       "                <td style=\"text-align: left;\">\n",
       "                    <strong>Total memory:</strong> 125.47 GiB\n",
       "                </td>\n",
       "            </tr>\n",
       "            \n",
       "            <tr>\n",
       "    <td style=\"text-align: left;\"><strong>Status:</strong> running</td>\n",
       "    <td style=\"text-align: left;\"><strong>Using processes:</strong> True</td>\n",
       "</tr>\n",
       "\n",
       "            \n",
       "        </table>\n",
       "\n",
       "        <details>\n",
       "            <summary style=\"margin-bottom: 20px;\">\n",
       "                <h3 style=\"display: inline;\">Scheduler Info</h3>\n",
       "            </summary>\n",
       "\n",
       "            <div style=\"\">\n",
       "    <div>\n",
       "        <div style=\"width: 24px; height: 24px; background-color: #FFF7E5; border: 3px solid #FF6132; border-radius: 5px; position: absolute;\"> </div>\n",
       "        <div style=\"margin-left: 48px;\">\n",
       "            <h3 style=\"margin-bottom: 0px;\">Scheduler</h3>\n",
       "            <p style=\"color: #9D9D9D; margin-bottom: 0px;\">Scheduler-7a9c267b-276f-4591-85a0-b11140128034</p>\n",
       "            <table style=\"width: 100%; text-align: left;\">\n",
       "                <tr>\n",
       "                    <td style=\"text-align: left;\">\n",
       "                        <strong>Comm:</strong> tcp://127.0.0.1:37353\n",
       "                    </td>\n",
       "                    <td style=\"text-align: left;\">\n",
       "                        <strong>Workers:</strong> 16\n",
       "                    </td>\n",
       "                </tr>\n",
       "                <tr>\n",
       "                    <td style=\"text-align: left;\">\n",
       "                        <strong>Dashboard:</strong> <a href=\"http://127.0.0.1:8787/status\" target=\"_blank\">http://127.0.0.1:8787/status</a>\n",
       "                    </td>\n",
       "                    <td style=\"text-align: left;\">\n",
       "                        <strong>Total threads:</strong> 48\n",
       "                    </td>\n",
       "                </tr>\n",
       "                <tr>\n",
       "                    <td style=\"text-align: left;\">\n",
       "                        <strong>Started:</strong> Just now\n",
       "                    </td>\n",
       "                    <td style=\"text-align: left;\">\n",
       "                        <strong>Total memory:</strong> 125.47 GiB\n",
       "                    </td>\n",
       "                </tr>\n",
       "            </table>\n",
       "        </div>\n",
       "    </div>\n",
       "\n",
       "    <details style=\"margin-left: 48px;\">\n",
       "        <summary style=\"margin-bottom: 20px;\">\n",
       "            <h3 style=\"display: inline;\">Workers</h3>\n",
       "        </summary>\n",
       "\n",
       "        \n",
       "        <div style=\"margin-bottom: 20px;\">\n",
       "            <div style=\"width: 24px; height: 24px; background-color: #DBF5FF; border: 3px solid #4CC9FF; border-radius: 5px; position: absolute;\"> </div>\n",
       "            <div style=\"margin-left: 48px;\">\n",
       "            <details>\n",
       "                <summary>\n",
       "                    <h4 style=\"margin-bottom: 0px; display: inline;\">Worker: 0</h4>\n",
       "                </summary>\n",
       "                <table style=\"width: 100%; text-align: left;\">\n",
       "                    <tr>\n",
       "                        <td style=\"text-align: left;\">\n",
       "                            <strong>Comm: </strong> tcp://127.0.0.1:41179\n",
       "                        </td>\n",
       "                        <td style=\"text-align: left;\">\n",
       "                            <strong>Total threads: </strong> 3\n",
       "                        </td>\n",
       "                    </tr>\n",
       "                    <tr>\n",
       "                        <td style=\"text-align: left;\">\n",
       "                            <strong>Dashboard: </strong> <a href=\"http://127.0.0.1:38321/status\" target=\"_blank\">http://127.0.0.1:38321/status</a>\n",
       "                        </td>\n",
       "                        <td style=\"text-align: left;\">\n",
       "                            <strong>Memory: </strong> 7.84 GiB\n",
       "                        </td>\n",
       "                    </tr>\n",
       "                    <tr>\n",
       "                        <td style=\"text-align: left;\">\n",
       "                            <strong>Nanny: </strong> tcp://127.0.0.1:41051\n",
       "                        </td>\n",
       "                        <td style=\"text-align: left;\"></td>\n",
       "                    </tr>\n",
       "                    <tr>\n",
       "                        <td colspan=\"2\" style=\"text-align: left;\">\n",
       "                            <strong>Local directory: </strong> /var/tmp/playground-cm1-challenges/dask-worker-space/worker-hohjs2hn\n",
       "                        </td>\n",
       "                    </tr>\n",
       "\n",
       "                    \n",
       "\n",
       "                    \n",
       "\n",
       "                </table>\n",
       "            </details>\n",
       "            </div>\n",
       "        </div>\n",
       "        \n",
       "        <div style=\"margin-bottom: 20px;\">\n",
       "            <div style=\"width: 24px; height: 24px; background-color: #DBF5FF; border: 3px solid #4CC9FF; border-radius: 5px; position: absolute;\"> </div>\n",
       "            <div style=\"margin-left: 48px;\">\n",
       "            <details>\n",
       "                <summary>\n",
       "                    <h4 style=\"margin-bottom: 0px; display: inline;\">Worker: 1</h4>\n",
       "                </summary>\n",
       "                <table style=\"width: 100%; text-align: left;\">\n",
       "                    <tr>\n",
       "                        <td style=\"text-align: left;\">\n",
       "                            <strong>Comm: </strong> tcp://127.0.0.1:34947\n",
       "                        </td>\n",
       "                        <td style=\"text-align: left;\">\n",
       "                            <strong>Total threads: </strong> 3\n",
       "                        </td>\n",
       "                    </tr>\n",
       "                    <tr>\n",
       "                        <td style=\"text-align: left;\">\n",
       "                            <strong>Dashboard: </strong> <a href=\"http://127.0.0.1:37795/status\" target=\"_blank\">http://127.0.0.1:37795/status</a>\n",
       "                        </td>\n",
       "                        <td style=\"text-align: left;\">\n",
       "                            <strong>Memory: </strong> 7.84 GiB\n",
       "                        </td>\n",
       "                    </tr>\n",
       "                    <tr>\n",
       "                        <td style=\"text-align: left;\">\n",
       "                            <strong>Nanny: </strong> tcp://127.0.0.1:41399\n",
       "                        </td>\n",
       "                        <td style=\"text-align: left;\"></td>\n",
       "                    </tr>\n",
       "                    <tr>\n",
       "                        <td colspan=\"2\" style=\"text-align: left;\">\n",
       "                            <strong>Local directory: </strong> /var/tmp/playground-cm1-challenges/dask-worker-space/worker-y7yw460c\n",
       "                        </td>\n",
       "                    </tr>\n",
       "\n",
       "                    \n",
       "\n",
       "                    \n",
       "\n",
       "                </table>\n",
       "            </details>\n",
       "            </div>\n",
       "        </div>\n",
       "        \n",
       "        <div style=\"margin-bottom: 20px;\">\n",
       "            <div style=\"width: 24px; height: 24px; background-color: #DBF5FF; border: 3px solid #4CC9FF; border-radius: 5px; position: absolute;\"> </div>\n",
       "            <div style=\"margin-left: 48px;\">\n",
       "            <details>\n",
       "                <summary>\n",
       "                    <h4 style=\"margin-bottom: 0px; display: inline;\">Worker: 2</h4>\n",
       "                </summary>\n",
       "                <table style=\"width: 100%; text-align: left;\">\n",
       "                    <tr>\n",
       "                        <td style=\"text-align: left;\">\n",
       "                            <strong>Comm: </strong> tcp://127.0.0.1:45419\n",
       "                        </td>\n",
       "                        <td style=\"text-align: left;\">\n",
       "                            <strong>Total threads: </strong> 3\n",
       "                        </td>\n",
       "                    </tr>\n",
       "                    <tr>\n",
       "                        <td style=\"text-align: left;\">\n",
       "                            <strong>Dashboard: </strong> <a href=\"http://127.0.0.1:38509/status\" target=\"_blank\">http://127.0.0.1:38509/status</a>\n",
       "                        </td>\n",
       "                        <td style=\"text-align: left;\">\n",
       "                            <strong>Memory: </strong> 7.84 GiB\n",
       "                        </td>\n",
       "                    </tr>\n",
       "                    <tr>\n",
       "                        <td style=\"text-align: left;\">\n",
       "                            <strong>Nanny: </strong> tcp://127.0.0.1:33793\n",
       "                        </td>\n",
       "                        <td style=\"text-align: left;\"></td>\n",
       "                    </tr>\n",
       "                    <tr>\n",
       "                        <td colspan=\"2\" style=\"text-align: left;\">\n",
       "                            <strong>Local directory: </strong> /var/tmp/playground-cm1-challenges/dask-worker-space/worker-9n0zu68b\n",
       "                        </td>\n",
       "                    </tr>\n",
       "\n",
       "                    \n",
       "\n",
       "                    \n",
       "\n",
       "                </table>\n",
       "            </details>\n",
       "            </div>\n",
       "        </div>\n",
       "        \n",
       "        <div style=\"margin-bottom: 20px;\">\n",
       "            <div style=\"width: 24px; height: 24px; background-color: #DBF5FF; border: 3px solid #4CC9FF; border-radius: 5px; position: absolute;\"> </div>\n",
       "            <div style=\"margin-left: 48px;\">\n",
       "            <details>\n",
       "                <summary>\n",
       "                    <h4 style=\"margin-bottom: 0px; display: inline;\">Worker: 3</h4>\n",
       "                </summary>\n",
       "                <table style=\"width: 100%; text-align: left;\">\n",
       "                    <tr>\n",
       "                        <td style=\"text-align: left;\">\n",
       "                            <strong>Comm: </strong> tcp://127.0.0.1:41669\n",
       "                        </td>\n",
       "                        <td style=\"text-align: left;\">\n",
       "                            <strong>Total threads: </strong> 3\n",
       "                        </td>\n",
       "                    </tr>\n",
       "                    <tr>\n",
       "                        <td style=\"text-align: left;\">\n",
       "                            <strong>Dashboard: </strong> <a href=\"http://127.0.0.1:44045/status\" target=\"_blank\">http://127.0.0.1:44045/status</a>\n",
       "                        </td>\n",
       "                        <td style=\"text-align: left;\">\n",
       "                            <strong>Memory: </strong> 7.84 GiB\n",
       "                        </td>\n",
       "                    </tr>\n",
       "                    <tr>\n",
       "                        <td style=\"text-align: left;\">\n",
       "                            <strong>Nanny: </strong> tcp://127.0.0.1:35363\n",
       "                        </td>\n",
       "                        <td style=\"text-align: left;\"></td>\n",
       "                    </tr>\n",
       "                    <tr>\n",
       "                        <td colspan=\"2\" style=\"text-align: left;\">\n",
       "                            <strong>Local directory: </strong> /var/tmp/playground-cm1-challenges/dask-worker-space/worker-c3ibooab\n",
       "                        </td>\n",
       "                    </tr>\n",
       "\n",
       "                    \n",
       "\n",
       "                    \n",
       "\n",
       "                </table>\n",
       "            </details>\n",
       "            </div>\n",
       "        </div>\n",
       "        \n",
       "        <div style=\"margin-bottom: 20px;\">\n",
       "            <div style=\"width: 24px; height: 24px; background-color: #DBF5FF; border: 3px solid #4CC9FF; border-radius: 5px; position: absolute;\"> </div>\n",
       "            <div style=\"margin-left: 48px;\">\n",
       "            <details>\n",
       "                <summary>\n",
       "                    <h4 style=\"margin-bottom: 0px; display: inline;\">Worker: 4</h4>\n",
       "                </summary>\n",
       "                <table style=\"width: 100%; text-align: left;\">\n",
       "                    <tr>\n",
       "                        <td style=\"text-align: left;\">\n",
       "                            <strong>Comm: </strong> tcp://127.0.0.1:42265\n",
       "                        </td>\n",
       "                        <td style=\"text-align: left;\">\n",
       "                            <strong>Total threads: </strong> 3\n",
       "                        </td>\n",
       "                    </tr>\n",
       "                    <tr>\n",
       "                        <td style=\"text-align: left;\">\n",
       "                            <strong>Dashboard: </strong> <a href=\"http://127.0.0.1:38563/status\" target=\"_blank\">http://127.0.0.1:38563/status</a>\n",
       "                        </td>\n",
       "                        <td style=\"text-align: left;\">\n",
       "                            <strong>Memory: </strong> 7.84 GiB\n",
       "                        </td>\n",
       "                    </tr>\n",
       "                    <tr>\n",
       "                        <td style=\"text-align: left;\">\n",
       "                            <strong>Nanny: </strong> tcp://127.0.0.1:41433\n",
       "                        </td>\n",
       "                        <td style=\"text-align: left;\"></td>\n",
       "                    </tr>\n",
       "                    <tr>\n",
       "                        <td colspan=\"2\" style=\"text-align: left;\">\n",
       "                            <strong>Local directory: </strong> /var/tmp/playground-cm1-challenges/dask-worker-space/worker-gsznn3co\n",
       "                        </td>\n",
       "                    </tr>\n",
       "\n",
       "                    \n",
       "\n",
       "                    \n",
       "\n",
       "                </table>\n",
       "            </details>\n",
       "            </div>\n",
       "        </div>\n",
       "        \n",
       "        <div style=\"margin-bottom: 20px;\">\n",
       "            <div style=\"width: 24px; height: 24px; background-color: #DBF5FF; border: 3px solid #4CC9FF; border-radius: 5px; position: absolute;\"> </div>\n",
       "            <div style=\"margin-left: 48px;\">\n",
       "            <details>\n",
       "                <summary>\n",
       "                    <h4 style=\"margin-bottom: 0px; display: inline;\">Worker: 5</h4>\n",
       "                </summary>\n",
       "                <table style=\"width: 100%; text-align: left;\">\n",
       "                    <tr>\n",
       "                        <td style=\"text-align: left;\">\n",
       "                            <strong>Comm: </strong> tcp://127.0.0.1:34967\n",
       "                        </td>\n",
       "                        <td style=\"text-align: left;\">\n",
       "                            <strong>Total threads: </strong> 3\n",
       "                        </td>\n",
       "                    </tr>\n",
       "                    <tr>\n",
       "                        <td style=\"text-align: left;\">\n",
       "                            <strong>Dashboard: </strong> <a href=\"http://127.0.0.1:41573/status\" target=\"_blank\">http://127.0.0.1:41573/status</a>\n",
       "                        </td>\n",
       "                        <td style=\"text-align: left;\">\n",
       "                            <strong>Memory: </strong> 7.84 GiB\n",
       "                        </td>\n",
       "                    </tr>\n",
       "                    <tr>\n",
       "                        <td style=\"text-align: left;\">\n",
       "                            <strong>Nanny: </strong> tcp://127.0.0.1:36287\n",
       "                        </td>\n",
       "                        <td style=\"text-align: left;\"></td>\n",
       "                    </tr>\n",
       "                    <tr>\n",
       "                        <td colspan=\"2\" style=\"text-align: left;\">\n",
       "                            <strong>Local directory: </strong> /var/tmp/playground-cm1-challenges/dask-worker-space/worker-5uqxibyt\n",
       "                        </td>\n",
       "                    </tr>\n",
       "\n",
       "                    \n",
       "\n",
       "                    \n",
       "\n",
       "                </table>\n",
       "            </details>\n",
       "            </div>\n",
       "        </div>\n",
       "        \n",
       "        <div style=\"margin-bottom: 20px;\">\n",
       "            <div style=\"width: 24px; height: 24px; background-color: #DBF5FF; border: 3px solid #4CC9FF; border-radius: 5px; position: absolute;\"> </div>\n",
       "            <div style=\"margin-left: 48px;\">\n",
       "            <details>\n",
       "                <summary>\n",
       "                    <h4 style=\"margin-bottom: 0px; display: inline;\">Worker: 6</h4>\n",
       "                </summary>\n",
       "                <table style=\"width: 100%; text-align: left;\">\n",
       "                    <tr>\n",
       "                        <td style=\"text-align: left;\">\n",
       "                            <strong>Comm: </strong> tcp://127.0.0.1:46103\n",
       "                        </td>\n",
       "                        <td style=\"text-align: left;\">\n",
       "                            <strong>Total threads: </strong> 3\n",
       "                        </td>\n",
       "                    </tr>\n",
       "                    <tr>\n",
       "                        <td style=\"text-align: left;\">\n",
       "                            <strong>Dashboard: </strong> <a href=\"http://127.0.0.1:34519/status\" target=\"_blank\">http://127.0.0.1:34519/status</a>\n",
       "                        </td>\n",
       "                        <td style=\"text-align: left;\">\n",
       "                            <strong>Memory: </strong> 7.84 GiB\n",
       "                        </td>\n",
       "                    </tr>\n",
       "                    <tr>\n",
       "                        <td style=\"text-align: left;\">\n",
       "                            <strong>Nanny: </strong> tcp://127.0.0.1:39407\n",
       "                        </td>\n",
       "                        <td style=\"text-align: left;\"></td>\n",
       "                    </tr>\n",
       "                    <tr>\n",
       "                        <td colspan=\"2\" style=\"text-align: left;\">\n",
       "                            <strong>Local directory: </strong> /var/tmp/playground-cm1-challenges/dask-worker-space/worker-05cqkx44\n",
       "                        </td>\n",
       "                    </tr>\n",
       "\n",
       "                    \n",
       "\n",
       "                    \n",
       "\n",
       "                </table>\n",
       "            </details>\n",
       "            </div>\n",
       "        </div>\n",
       "        \n",
       "        <div style=\"margin-bottom: 20px;\">\n",
       "            <div style=\"width: 24px; height: 24px; background-color: #DBF5FF; border: 3px solid #4CC9FF; border-radius: 5px; position: absolute;\"> </div>\n",
       "            <div style=\"margin-left: 48px;\">\n",
       "            <details>\n",
       "                <summary>\n",
       "                    <h4 style=\"margin-bottom: 0px; display: inline;\">Worker: 7</h4>\n",
       "                </summary>\n",
       "                <table style=\"width: 100%; text-align: left;\">\n",
       "                    <tr>\n",
       "                        <td style=\"text-align: left;\">\n",
       "                            <strong>Comm: </strong> tcp://127.0.0.1:39393\n",
       "                        </td>\n",
       "                        <td style=\"text-align: left;\">\n",
       "                            <strong>Total threads: </strong> 3\n",
       "                        </td>\n",
       "                    </tr>\n",
       "                    <tr>\n",
       "                        <td style=\"text-align: left;\">\n",
       "                            <strong>Dashboard: </strong> <a href=\"http://127.0.0.1:34791/status\" target=\"_blank\">http://127.0.0.1:34791/status</a>\n",
       "                        </td>\n",
       "                        <td style=\"text-align: left;\">\n",
       "                            <strong>Memory: </strong> 7.84 GiB\n",
       "                        </td>\n",
       "                    </tr>\n",
       "                    <tr>\n",
       "                        <td style=\"text-align: left;\">\n",
       "                            <strong>Nanny: </strong> tcp://127.0.0.1:37427\n",
       "                        </td>\n",
       "                        <td style=\"text-align: left;\"></td>\n",
       "                    </tr>\n",
       "                    <tr>\n",
       "                        <td colspan=\"2\" style=\"text-align: left;\">\n",
       "                            <strong>Local directory: </strong> /var/tmp/playground-cm1-challenges/dask-worker-space/worker-ix5hcffg\n",
       "                        </td>\n",
       "                    </tr>\n",
       "\n",
       "                    \n",
       "\n",
       "                    \n",
       "\n",
       "                </table>\n",
       "            </details>\n",
       "            </div>\n",
       "        </div>\n",
       "        \n",
       "        <div style=\"margin-bottom: 20px;\">\n",
       "            <div style=\"width: 24px; height: 24px; background-color: #DBF5FF; border: 3px solid #4CC9FF; border-radius: 5px; position: absolute;\"> </div>\n",
       "            <div style=\"margin-left: 48px;\">\n",
       "            <details>\n",
       "                <summary>\n",
       "                    <h4 style=\"margin-bottom: 0px; display: inline;\">Worker: 8</h4>\n",
       "                </summary>\n",
       "                <table style=\"width: 100%; text-align: left;\">\n",
       "                    <tr>\n",
       "                        <td style=\"text-align: left;\">\n",
       "                            <strong>Comm: </strong> tcp://127.0.0.1:46273\n",
       "                        </td>\n",
       "                        <td style=\"text-align: left;\">\n",
       "                            <strong>Total threads: </strong> 3\n",
       "                        </td>\n",
       "                    </tr>\n",
       "                    <tr>\n",
       "                        <td style=\"text-align: left;\">\n",
       "                            <strong>Dashboard: </strong> <a href=\"http://127.0.0.1:33747/status\" target=\"_blank\">http://127.0.0.1:33747/status</a>\n",
       "                        </td>\n",
       "                        <td style=\"text-align: left;\">\n",
       "                            <strong>Memory: </strong> 7.84 GiB\n",
       "                        </td>\n",
       "                    </tr>\n",
       "                    <tr>\n",
       "                        <td style=\"text-align: left;\">\n",
       "                            <strong>Nanny: </strong> tcp://127.0.0.1:39659\n",
       "                        </td>\n",
       "                        <td style=\"text-align: left;\"></td>\n",
       "                    </tr>\n",
       "                    <tr>\n",
       "                        <td colspan=\"2\" style=\"text-align: left;\">\n",
       "                            <strong>Local directory: </strong> /var/tmp/playground-cm1-challenges/dask-worker-space/worker-pxyifuiv\n",
       "                        </td>\n",
       "                    </tr>\n",
       "\n",
       "                    \n",
       "\n",
       "                    \n",
       "\n",
       "                </table>\n",
       "            </details>\n",
       "            </div>\n",
       "        </div>\n",
       "        \n",
       "        <div style=\"margin-bottom: 20px;\">\n",
       "            <div style=\"width: 24px; height: 24px; background-color: #DBF5FF; border: 3px solid #4CC9FF; border-radius: 5px; position: absolute;\"> </div>\n",
       "            <div style=\"margin-left: 48px;\">\n",
       "            <details>\n",
       "                <summary>\n",
       "                    <h4 style=\"margin-bottom: 0px; display: inline;\">Worker: 9</h4>\n",
       "                </summary>\n",
       "                <table style=\"width: 100%; text-align: left;\">\n",
       "                    <tr>\n",
       "                        <td style=\"text-align: left;\">\n",
       "                            <strong>Comm: </strong> tcp://127.0.0.1:45955\n",
       "                        </td>\n",
       "                        <td style=\"text-align: left;\">\n",
       "                            <strong>Total threads: </strong> 3\n",
       "                        </td>\n",
       "                    </tr>\n",
       "                    <tr>\n",
       "                        <td style=\"text-align: left;\">\n",
       "                            <strong>Dashboard: </strong> <a href=\"http://127.0.0.1:41289/status\" target=\"_blank\">http://127.0.0.1:41289/status</a>\n",
       "                        </td>\n",
       "                        <td style=\"text-align: left;\">\n",
       "                            <strong>Memory: </strong> 7.84 GiB\n",
       "                        </td>\n",
       "                    </tr>\n",
       "                    <tr>\n",
       "                        <td style=\"text-align: left;\">\n",
       "                            <strong>Nanny: </strong> tcp://127.0.0.1:44001\n",
       "                        </td>\n",
       "                        <td style=\"text-align: left;\"></td>\n",
       "                    </tr>\n",
       "                    <tr>\n",
       "                        <td colspan=\"2\" style=\"text-align: left;\">\n",
       "                            <strong>Local directory: </strong> /var/tmp/playground-cm1-challenges/dask-worker-space/worker-yfhuw5gm\n",
       "                        </td>\n",
       "                    </tr>\n",
       "\n",
       "                    \n",
       "\n",
       "                    \n",
       "\n",
       "                </table>\n",
       "            </details>\n",
       "            </div>\n",
       "        </div>\n",
       "        \n",
       "        <div style=\"margin-bottom: 20px;\">\n",
       "            <div style=\"width: 24px; height: 24px; background-color: #DBF5FF; border: 3px solid #4CC9FF; border-radius: 5px; position: absolute;\"> </div>\n",
       "            <div style=\"margin-left: 48px;\">\n",
       "            <details>\n",
       "                <summary>\n",
       "                    <h4 style=\"margin-bottom: 0px; display: inline;\">Worker: 10</h4>\n",
       "                </summary>\n",
       "                <table style=\"width: 100%; text-align: left;\">\n",
       "                    <tr>\n",
       "                        <td style=\"text-align: left;\">\n",
       "                            <strong>Comm: </strong> tcp://127.0.0.1:42635\n",
       "                        </td>\n",
       "                        <td style=\"text-align: left;\">\n",
       "                            <strong>Total threads: </strong> 3\n",
       "                        </td>\n",
       "                    </tr>\n",
       "                    <tr>\n",
       "                        <td style=\"text-align: left;\">\n",
       "                            <strong>Dashboard: </strong> <a href=\"http://127.0.0.1:34973/status\" target=\"_blank\">http://127.0.0.1:34973/status</a>\n",
       "                        </td>\n",
       "                        <td style=\"text-align: left;\">\n",
       "                            <strong>Memory: </strong> 7.84 GiB\n",
       "                        </td>\n",
       "                    </tr>\n",
       "                    <tr>\n",
       "                        <td style=\"text-align: left;\">\n",
       "                            <strong>Nanny: </strong> tcp://127.0.0.1:40849\n",
       "                        </td>\n",
       "                        <td style=\"text-align: left;\"></td>\n",
       "                    </tr>\n",
       "                    <tr>\n",
       "                        <td colspan=\"2\" style=\"text-align: left;\">\n",
       "                            <strong>Local directory: </strong> /var/tmp/playground-cm1-challenges/dask-worker-space/worker-cq7cm_e7\n",
       "                        </td>\n",
       "                    </tr>\n",
       "\n",
       "                    \n",
       "\n",
       "                    \n",
       "\n",
       "                </table>\n",
       "            </details>\n",
       "            </div>\n",
       "        </div>\n",
       "        \n",
       "        <div style=\"margin-bottom: 20px;\">\n",
       "            <div style=\"width: 24px; height: 24px; background-color: #DBF5FF; border: 3px solid #4CC9FF; border-radius: 5px; position: absolute;\"> </div>\n",
       "            <div style=\"margin-left: 48px;\">\n",
       "            <details>\n",
       "                <summary>\n",
       "                    <h4 style=\"margin-bottom: 0px; display: inline;\">Worker: 11</h4>\n",
       "                </summary>\n",
       "                <table style=\"width: 100%; text-align: left;\">\n",
       "                    <tr>\n",
       "                        <td style=\"text-align: left;\">\n",
       "                            <strong>Comm: </strong> tcp://127.0.0.1:43189\n",
       "                        </td>\n",
       "                        <td style=\"text-align: left;\">\n",
       "                            <strong>Total threads: </strong> 3\n",
       "                        </td>\n",
       "                    </tr>\n",
       "                    <tr>\n",
       "                        <td style=\"text-align: left;\">\n",
       "                            <strong>Dashboard: </strong> <a href=\"http://127.0.0.1:41091/status\" target=\"_blank\">http://127.0.0.1:41091/status</a>\n",
       "                        </td>\n",
       "                        <td style=\"text-align: left;\">\n",
       "                            <strong>Memory: </strong> 7.84 GiB\n",
       "                        </td>\n",
       "                    </tr>\n",
       "                    <tr>\n",
       "                        <td style=\"text-align: left;\">\n",
       "                            <strong>Nanny: </strong> tcp://127.0.0.1:34921\n",
       "                        </td>\n",
       "                        <td style=\"text-align: left;\"></td>\n",
       "                    </tr>\n",
       "                    <tr>\n",
       "                        <td colspan=\"2\" style=\"text-align: left;\">\n",
       "                            <strong>Local directory: </strong> /var/tmp/playground-cm1-challenges/dask-worker-space/worker-2riadh_3\n",
       "                        </td>\n",
       "                    </tr>\n",
       "\n",
       "                    \n",
       "\n",
       "                    \n",
       "\n",
       "                </table>\n",
       "            </details>\n",
       "            </div>\n",
       "        </div>\n",
       "        \n",
       "        <div style=\"margin-bottom: 20px;\">\n",
       "            <div style=\"width: 24px; height: 24px; background-color: #DBF5FF; border: 3px solid #4CC9FF; border-radius: 5px; position: absolute;\"> </div>\n",
       "            <div style=\"margin-left: 48px;\">\n",
       "            <details>\n",
       "                <summary>\n",
       "                    <h4 style=\"margin-bottom: 0px; display: inline;\">Worker: 12</h4>\n",
       "                </summary>\n",
       "                <table style=\"width: 100%; text-align: left;\">\n",
       "                    <tr>\n",
       "                        <td style=\"text-align: left;\">\n",
       "                            <strong>Comm: </strong> tcp://127.0.0.1:39521\n",
       "                        </td>\n",
       "                        <td style=\"text-align: left;\">\n",
       "                            <strong>Total threads: </strong> 3\n",
       "                        </td>\n",
       "                    </tr>\n",
       "                    <tr>\n",
       "                        <td style=\"text-align: left;\">\n",
       "                            <strong>Dashboard: </strong> <a href=\"http://127.0.0.1:32929/status\" target=\"_blank\">http://127.0.0.1:32929/status</a>\n",
       "                        </td>\n",
       "                        <td style=\"text-align: left;\">\n",
       "                            <strong>Memory: </strong> 7.84 GiB\n",
       "                        </td>\n",
       "                    </tr>\n",
       "                    <tr>\n",
       "                        <td style=\"text-align: left;\">\n",
       "                            <strong>Nanny: </strong> tcp://127.0.0.1:38565\n",
       "                        </td>\n",
       "                        <td style=\"text-align: left;\"></td>\n",
       "                    </tr>\n",
       "                    <tr>\n",
       "                        <td colspan=\"2\" style=\"text-align: left;\">\n",
       "                            <strong>Local directory: </strong> /var/tmp/playground-cm1-challenges/dask-worker-space/worker-0_zsce3e\n",
       "                        </td>\n",
       "                    </tr>\n",
       "\n",
       "                    \n",
       "\n",
       "                    \n",
       "\n",
       "                </table>\n",
       "            </details>\n",
       "            </div>\n",
       "        </div>\n",
       "        \n",
       "        <div style=\"margin-bottom: 20px;\">\n",
       "            <div style=\"width: 24px; height: 24px; background-color: #DBF5FF; border: 3px solid #4CC9FF; border-radius: 5px; position: absolute;\"> </div>\n",
       "            <div style=\"margin-left: 48px;\">\n",
       "            <details>\n",
       "                <summary>\n",
       "                    <h4 style=\"margin-bottom: 0px; display: inline;\">Worker: 13</h4>\n",
       "                </summary>\n",
       "                <table style=\"width: 100%; text-align: left;\">\n",
       "                    <tr>\n",
       "                        <td style=\"text-align: left;\">\n",
       "                            <strong>Comm: </strong> tcp://127.0.0.1:36717\n",
       "                        </td>\n",
       "                        <td style=\"text-align: left;\">\n",
       "                            <strong>Total threads: </strong> 3\n",
       "                        </td>\n",
       "                    </tr>\n",
       "                    <tr>\n",
       "                        <td style=\"text-align: left;\">\n",
       "                            <strong>Dashboard: </strong> <a href=\"http://127.0.0.1:43793/status\" target=\"_blank\">http://127.0.0.1:43793/status</a>\n",
       "                        </td>\n",
       "                        <td style=\"text-align: left;\">\n",
       "                            <strong>Memory: </strong> 7.84 GiB\n",
       "                        </td>\n",
       "                    </tr>\n",
       "                    <tr>\n",
       "                        <td style=\"text-align: left;\">\n",
       "                            <strong>Nanny: </strong> tcp://127.0.0.1:45457\n",
       "                        </td>\n",
       "                        <td style=\"text-align: left;\"></td>\n",
       "                    </tr>\n",
       "                    <tr>\n",
       "                        <td colspan=\"2\" style=\"text-align: left;\">\n",
       "                            <strong>Local directory: </strong> /var/tmp/playground-cm1-challenges/dask-worker-space/worker-fmu3xzww\n",
       "                        </td>\n",
       "                    </tr>\n",
       "\n",
       "                    \n",
       "\n",
       "                    \n",
       "\n",
       "                </table>\n",
       "            </details>\n",
       "            </div>\n",
       "        </div>\n",
       "        \n",
       "        <div style=\"margin-bottom: 20px;\">\n",
       "            <div style=\"width: 24px; height: 24px; background-color: #DBF5FF; border: 3px solid #4CC9FF; border-radius: 5px; position: absolute;\"> </div>\n",
       "            <div style=\"margin-left: 48px;\">\n",
       "            <details>\n",
       "                <summary>\n",
       "                    <h4 style=\"margin-bottom: 0px; display: inline;\">Worker: 14</h4>\n",
       "                </summary>\n",
       "                <table style=\"width: 100%; text-align: left;\">\n",
       "                    <tr>\n",
       "                        <td style=\"text-align: left;\">\n",
       "                            <strong>Comm: </strong> tcp://127.0.0.1:44359\n",
       "                        </td>\n",
       "                        <td style=\"text-align: left;\">\n",
       "                            <strong>Total threads: </strong> 3\n",
       "                        </td>\n",
       "                    </tr>\n",
       "                    <tr>\n",
       "                        <td style=\"text-align: left;\">\n",
       "                            <strong>Dashboard: </strong> <a href=\"http://127.0.0.1:38025/status\" target=\"_blank\">http://127.0.0.1:38025/status</a>\n",
       "                        </td>\n",
       "                        <td style=\"text-align: left;\">\n",
       "                            <strong>Memory: </strong> 7.84 GiB\n",
       "                        </td>\n",
       "                    </tr>\n",
       "                    <tr>\n",
       "                        <td style=\"text-align: left;\">\n",
       "                            <strong>Nanny: </strong> tcp://127.0.0.1:42057\n",
       "                        </td>\n",
       "                        <td style=\"text-align: left;\"></td>\n",
       "                    </tr>\n",
       "                    <tr>\n",
       "                        <td colspan=\"2\" style=\"text-align: left;\">\n",
       "                            <strong>Local directory: </strong> /var/tmp/playground-cm1-challenges/dask-worker-space/worker-fhhe68bq\n",
       "                        </td>\n",
       "                    </tr>\n",
       "\n",
       "                    \n",
       "\n",
       "                    \n",
       "\n",
       "                </table>\n",
       "            </details>\n",
       "            </div>\n",
       "        </div>\n",
       "        \n",
       "        <div style=\"margin-bottom: 20px;\">\n",
       "            <div style=\"width: 24px; height: 24px; background-color: #DBF5FF; border: 3px solid #4CC9FF; border-radius: 5px; position: absolute;\"> </div>\n",
       "            <div style=\"margin-left: 48px;\">\n",
       "            <details>\n",
       "                <summary>\n",
       "                    <h4 style=\"margin-bottom: 0px; display: inline;\">Worker: 15</h4>\n",
       "                </summary>\n",
       "                <table style=\"width: 100%; text-align: left;\">\n",
       "                    <tr>\n",
       "                        <td style=\"text-align: left;\">\n",
       "                            <strong>Comm: </strong> tcp://127.0.0.1:33553\n",
       "                        </td>\n",
       "                        <td style=\"text-align: left;\">\n",
       "                            <strong>Total threads: </strong> 3\n",
       "                        </td>\n",
       "                    </tr>\n",
       "                    <tr>\n",
       "                        <td style=\"text-align: left;\">\n",
       "                            <strong>Dashboard: </strong> <a href=\"http://127.0.0.1:46375/status\" target=\"_blank\">http://127.0.0.1:46375/status</a>\n",
       "                        </td>\n",
       "                        <td style=\"text-align: left;\">\n",
       "                            <strong>Memory: </strong> 7.84 GiB\n",
       "                        </td>\n",
       "                    </tr>\n",
       "                    <tr>\n",
       "                        <td style=\"text-align: left;\">\n",
       "                            <strong>Nanny: </strong> tcp://127.0.0.1:42587\n",
       "                        </td>\n",
       "                        <td style=\"text-align: left;\"></td>\n",
       "                    </tr>\n",
       "                    <tr>\n",
       "                        <td colspan=\"2\" style=\"text-align: left;\">\n",
       "                            <strong>Local directory: </strong> /var/tmp/playground-cm1-challenges/dask-worker-space/worker-9fuis0rk\n",
       "                        </td>\n",
       "                    </tr>\n",
       "\n",
       "                    \n",
       "\n",
       "                    \n",
       "\n",
       "                </table>\n",
       "            </details>\n",
       "            </div>\n",
       "        </div>\n",
       "        \n",
       "\n",
       "    </details>\n",
       "</div>\n",
       "\n",
       "        </details>\n",
       "    </div>\n",
       "</div>\n",
       "            </details>\n",
       "        \n",
       "\n",
       "    </div>\n",
       "</div>"
      ],
      "text/plain": [
       "<Client: 'tcp://127.0.0.1:37353' processes=16 threads=48, memory=125.47 GiB>"
      ]
     },
     "execution_count": 4,
     "metadata": {},
     "output_type": "execute_result"
    },
    {
     "name": "stdout",
     "output_type": "stream",
     "text": [
      "time: 3.44 s (started: 2023-07-16 20:06:03 -07:00)\n"
     ]
    }
   ],
   "source": [
    "client = Client(LocalCluster(n_workers=16, local_directory=f\"/var/tmp/playground-cm1-challenges\"))\n",
    "client"
   ]
  },
  {
   "cell_type": "code",
   "execution_count": 5,
   "metadata": {},
   "outputs": [
    {
     "name": "stdout",
     "output_type": "stream",
     "text": [
      "time: 722 µs (started: 2023-07-16 20:06:07 -07:00)\n"
     ]
    }
   ],
   "source": [
    "# log_dir = \"/p/vast1/iopp/recorder_app_logs/montage/nodes-32/_parquet\"\n",
    "log_dir = \"/p/vast1/iopp/recorder_app_logs/montage_pegasus/nodes-32/_parquet\""
   ]
  },
  {
   "cell_type": "code",
   "execution_count": 6,
   "metadata": {},
   "outputs": [
    {
     "data": {
      "text/html": [
       "<div><strong>Dask DataFrame Structure:</strong></div>\n",
       "<div>\n",
       "<style scoped>\n",
       "    .dataframe tbody tr th:only-of-type {\n",
       "        vertical-align: middle;\n",
       "    }\n",
       "\n",
       "    .dataframe tbody tr th {\n",
       "        vertical-align: top;\n",
       "    }\n",
       "\n",
       "    .dataframe thead th {\n",
       "        text-align: right;\n",
       "    }\n",
       "</style>\n",
       "<table border=\"1\" class=\"dataframe\">\n",
       "  <thead>\n",
       "    <tr style=\"text-align: right;\">\n",
       "      <th></th>\n",
       "      <th>index</th>\n",
       "      <th>proc</th>\n",
       "      <th>rank</th>\n",
       "      <th>thread_id</th>\n",
       "      <th>cat</th>\n",
       "      <th>io_cat</th>\n",
       "      <th>tstart</th>\n",
       "      <th>tend</th>\n",
       "      <th>func_id</th>\n",
       "      <th>level</th>\n",
       "      <th>hostname</th>\n",
       "      <th>app</th>\n",
       "      <th>proc_name</th>\n",
       "      <th>file_name</th>\n",
       "      <th>size</th>\n",
       "      <th>acc_pat</th>\n",
       "      <th>bandwidth</th>\n",
       "      <th>duration</th>\n",
       "      <th>tmid</th>\n",
       "      <th>file_id</th>\n",
       "      <th>proc_id</th>\n",
       "    </tr>\n",
       "    <tr>\n",
       "      <th>npartitions=36</th>\n",
       "      <th></th>\n",
       "      <th></th>\n",
       "      <th></th>\n",
       "      <th></th>\n",
       "      <th></th>\n",
       "      <th></th>\n",
       "      <th></th>\n",
       "      <th></th>\n",
       "      <th></th>\n",
       "      <th></th>\n",
       "      <th></th>\n",
       "      <th></th>\n",
       "      <th></th>\n",
       "      <th></th>\n",
       "      <th></th>\n",
       "      <th></th>\n",
       "      <th></th>\n",
       "      <th></th>\n",
       "      <th></th>\n",
       "      <th></th>\n",
       "      <th></th>\n",
       "    </tr>\n",
       "  </thead>\n",
       "  <tbody>\n",
       "    <tr>\n",
       "      <th></th>\n",
       "      <td>int64</td>\n",
       "      <td>int64</td>\n",
       "      <td>int32</td>\n",
       "      <td>int32</td>\n",
       "      <td>int32</td>\n",
       "      <td>int32</td>\n",
       "      <td>float32</td>\n",
       "      <td>float32</td>\n",
       "      <td>object</td>\n",
       "      <td>int32</td>\n",
       "      <td>object</td>\n",
       "      <td>object</td>\n",
       "      <td>object</td>\n",
       "      <td>object</td>\n",
       "      <td>int64</td>\n",
       "      <td>int32</td>\n",
       "      <td>float32</td>\n",
       "      <td>float32</td>\n",
       "      <td>int64</td>\n",
       "      <td>int64</td>\n",
       "      <td>int64</td>\n",
       "    </tr>\n",
       "    <tr>\n",
       "      <th></th>\n",
       "      <td>...</td>\n",
       "      <td>...</td>\n",
       "      <td>...</td>\n",
       "      <td>...</td>\n",
       "      <td>...</td>\n",
       "      <td>...</td>\n",
       "      <td>...</td>\n",
       "      <td>...</td>\n",
       "      <td>...</td>\n",
       "      <td>...</td>\n",
       "      <td>...</td>\n",
       "      <td>...</td>\n",
       "      <td>...</td>\n",
       "      <td>...</td>\n",
       "      <td>...</td>\n",
       "      <td>...</td>\n",
       "      <td>...</td>\n",
       "      <td>...</td>\n",
       "      <td>...</td>\n",
       "      <td>...</td>\n",
       "      <td>...</td>\n",
       "    </tr>\n",
       "    <tr>\n",
       "      <th>...</th>\n",
       "      <td>...</td>\n",
       "      <td>...</td>\n",
       "      <td>...</td>\n",
       "      <td>...</td>\n",
       "      <td>...</td>\n",
       "      <td>...</td>\n",
       "      <td>...</td>\n",
       "      <td>...</td>\n",
       "      <td>...</td>\n",
       "      <td>...</td>\n",
       "      <td>...</td>\n",
       "      <td>...</td>\n",
       "      <td>...</td>\n",
       "      <td>...</td>\n",
       "      <td>...</td>\n",
       "      <td>...</td>\n",
       "      <td>...</td>\n",
       "      <td>...</td>\n",
       "      <td>...</td>\n",
       "      <td>...</td>\n",
       "      <td>...</td>\n",
       "    </tr>\n",
       "    <tr>\n",
       "      <th></th>\n",
       "      <td>...</td>\n",
       "      <td>...</td>\n",
       "      <td>...</td>\n",
       "      <td>...</td>\n",
       "      <td>...</td>\n",
       "      <td>...</td>\n",
       "      <td>...</td>\n",
       "      <td>...</td>\n",
       "      <td>...</td>\n",
       "      <td>...</td>\n",
       "      <td>...</td>\n",
       "      <td>...</td>\n",
       "      <td>...</td>\n",
       "      <td>...</td>\n",
       "      <td>...</td>\n",
       "      <td>...</td>\n",
       "      <td>...</td>\n",
       "      <td>...</td>\n",
       "      <td>...</td>\n",
       "      <td>...</td>\n",
       "      <td>...</td>\n",
       "    </tr>\n",
       "    <tr>\n",
       "      <th></th>\n",
       "      <td>...</td>\n",
       "      <td>...</td>\n",
       "      <td>...</td>\n",
       "      <td>...</td>\n",
       "      <td>...</td>\n",
       "      <td>...</td>\n",
       "      <td>...</td>\n",
       "      <td>...</td>\n",
       "      <td>...</td>\n",
       "      <td>...</td>\n",
       "      <td>...</td>\n",
       "      <td>...</td>\n",
       "      <td>...</td>\n",
       "      <td>...</td>\n",
       "      <td>...</td>\n",
       "      <td>...</td>\n",
       "      <td>...</td>\n",
       "      <td>...</td>\n",
       "      <td>...</td>\n",
       "      <td>...</td>\n",
       "      <td>...</td>\n",
       "    </tr>\n",
       "  </tbody>\n",
       "</table>\n",
       "</div>\n",
       "<div>Dask Name: read-parquet, 36 tasks</div>"
      ],
      "text/plain": [
       "Dask DataFrame Structure:\n",
       "                index   proc   rank thread_id    cat io_cat   tstart     tend func_id  level hostname     app proc_name file_name   size acc_pat bandwidth duration   tmid file_id proc_id\n",
       "npartitions=36                                                                                                                                                                            \n",
       "                int64  int64  int32     int32  int32  int32  float32  float32  object  int32   object  object    object    object  int64   int32   float32  float32  int64   int64   int64\n",
       "                  ...    ...    ...       ...    ...    ...      ...      ...     ...    ...      ...     ...       ...       ...    ...     ...       ...      ...    ...     ...     ...\n",
       "...               ...    ...    ...       ...    ...    ...      ...      ...     ...    ...      ...     ...       ...       ...    ...     ...       ...      ...    ...     ...     ...\n",
       "                  ...    ...    ...       ...    ...    ...      ...      ...     ...    ...      ...     ...       ...       ...    ...     ...       ...      ...    ...     ...     ...\n",
       "                  ...    ...    ...       ...    ...    ...      ...      ...     ...    ...      ...     ...       ...       ...    ...     ...       ...      ...    ...     ...     ...\n",
       "Dask Name: read-parquet, 36 tasks"
      ]
     },
     "execution_count": 6,
     "metadata": {},
     "output_type": "execute_result"
    },
    {
     "name": "stdout",
     "output_type": "stream",
     "text": [
      "time: 315 ms (started: 2023-07-16 20:06:07 -07:00)\n"
     ]
    }
   ],
   "source": [
    "all_view = dd.read_parquet(f\"{log_dir}/*.parquet\")\n",
    "all_view"
   ]
  },
  {
   "cell_type": "code",
   "execution_count": 7,
   "metadata": {},
   "outputs": [
    {
     "data": {
      "text/plain": [
       "12346353"
      ]
     },
     "execution_count": 7,
     "metadata": {},
     "output_type": "execute_result"
    },
    {
     "name": "stdout",
     "output_type": "stream",
     "text": [
      "time: 11.1 s (started: 2023-07-12 13:54:03 -07:00)\n"
     ]
    }
   ],
   "source": [
    "all_view.index.count().compute()"
   ]
  },
  {
   "cell_type": "code",
   "execution_count": 10,
   "metadata": {},
   "outputs": [
    {
     "data": {
      "text/html": [
       "<div>\n",
       "<style scoped>\n",
       "    .dataframe tbody tr th:only-of-type {\n",
       "        vertical-align: middle;\n",
       "    }\n",
       "\n",
       "    .dataframe tbody tr th {\n",
       "        vertical-align: top;\n",
       "    }\n",
       "\n",
       "    .dataframe thead th {\n",
       "        text-align: right;\n",
       "    }\n",
       "</style>\n",
       "<table border=\"1\" class=\"dataframe\">\n",
       "  <thead>\n",
       "    <tr style=\"text-align: right;\">\n",
       "      <th></th>\n",
       "      <th>index</th>\n",
       "      <th>proc</th>\n",
       "      <th>rank</th>\n",
       "      <th>thread_id</th>\n",
       "      <th>cat</th>\n",
       "      <th>io_cat</th>\n",
       "      <th>tstart</th>\n",
       "      <th>tend</th>\n",
       "      <th>func_id</th>\n",
       "      <th>level</th>\n",
       "      <th>...</th>\n",
       "      <th>proc_name</th>\n",
       "      <th>file_name</th>\n",
       "      <th>size</th>\n",
       "      <th>acc_pat</th>\n",
       "      <th>bandwidth</th>\n",
       "      <th>duration</th>\n",
       "      <th>tmid</th>\n",
       "      <th>file_id</th>\n",
       "      <th>proc_id</th>\n",
       "      <th>file_dir</th>\n",
       "    </tr>\n",
       "  </thead>\n",
       "  <tbody>\n",
       "    <tr>\n",
       "      <th>0</th>\n",
       "      <td>1</td>\n",
       "      <td>132672</td>\n",
       "      <td>0</td>\n",
       "      <td>321552</td>\n",
       "      <td>0</td>\n",
       "      <td>3</td>\n",
       "      <td>2.137661</td>\n",
       "      <td>2.137760</td>\n",
       "      <td>fopen64</td>\n",
       "      <td>0</td>\n",
       "      <td>...</td>\n",
       "      <td>mProject#lassen192#132672#35184372410384</td>\n",
       "      <td>/p/gpfs1/haridev/iopp/montage-workflow/scratch...</td>\n",
       "      <td>0</td>\n",
       "      <td>0</td>\n",
       "      <td>0.000000</td>\n",
       "      <td>0.000099</td>\n",
       "      <td>21377103</td>\n",
       "      <td>4007557435994691998</td>\n",
       "      <td>2303625805466626068</td>\n",
       "      <td>/p/gpfs1/haridev/iopp/montage-workflow/scratch...</td>\n",
       "    </tr>\n",
       "    <tr>\n",
       "      <th>1</th>\n",
       "      <td>2</td>\n",
       "      <td>132672</td>\n",
       "      <td>0</td>\n",
       "      <td>321552</td>\n",
       "      <td>0</td>\n",
       "      <td>1</td>\n",
       "      <td>2.137835</td>\n",
       "      <td>2.138117</td>\n",
       "      <td>fread</td>\n",
       "      <td>0</td>\n",
       "      <td>...</td>\n",
       "      <td>mProject#lassen192#132672#35184372410384</td>\n",
       "      <td>/p/gpfs1/haridev/iopp/montage-workflow/scratch...</td>\n",
       "      <td>2</td>\n",
       "      <td>0</td>\n",
       "      <td>0.006764</td>\n",
       "      <td>0.000282</td>\n",
       "      <td>21379759</td>\n",
       "      <td>4007557435994691998</td>\n",
       "      <td>2303625805466626068</td>\n",
       "      <td>/p/gpfs1/haridev/iopp/montage-workflow/scratch...</td>\n",
       "    </tr>\n",
       "    <tr>\n",
       "      <th>2</th>\n",
       "      <td>3</td>\n",
       "      <td>132672</td>\n",
       "      <td>0</td>\n",
       "      <td>321552</td>\n",
       "      <td>0</td>\n",
       "      <td>3</td>\n",
       "      <td>2.138125</td>\n",
       "      <td>2.138141</td>\n",
       "      <td>fclose</td>\n",
       "      <td>0</td>\n",
       "      <td>...</td>\n",
       "      <td>mProject#lassen192#132672#35184372410384</td>\n",
       "      <td>/p/gpfs1/haridev/iopp/montage-workflow/scratch...</td>\n",
       "      <td>0</td>\n",
       "      <td>0</td>\n",
       "      <td>0.000000</td>\n",
       "      <td>0.000016</td>\n",
       "      <td>21381327</td>\n",
       "      <td>4007557435994691998</td>\n",
       "      <td>2303625805466626068</td>\n",
       "      <td>/p/gpfs1/haridev/iopp/montage-workflow/scratch...</td>\n",
       "    </tr>\n",
       "    <tr>\n",
       "      <th>3</th>\n",
       "      <td>4</td>\n",
       "      <td>132672</td>\n",
       "      <td>0</td>\n",
       "      <td>321552</td>\n",
       "      <td>0</td>\n",
       "      <td>3</td>\n",
       "      <td>2.138159</td>\n",
       "      <td>2.138171</td>\n",
       "      <td>fopen64</td>\n",
       "      <td>0</td>\n",
       "      <td>...</td>\n",
       "      <td>mProject#lassen192#132672#35184372410384</td>\n",
       "      <td>/p/gpfs1/haridev/iopp/montage-workflow/scratch...</td>\n",
       "      <td>0</td>\n",
       "      <td>0</td>\n",
       "      <td>0.000000</td>\n",
       "      <td>0.000012</td>\n",
       "      <td>21381647</td>\n",
       "      <td>4007557435994691998</td>\n",
       "      <td>2303625805466626068</td>\n",
       "      <td>/p/gpfs1/haridev/iopp/montage-workflow/scratch...</td>\n",
       "    </tr>\n",
       "    <tr>\n",
       "      <th>4</th>\n",
       "      <td>5</td>\n",
       "      <td>132672</td>\n",
       "      <td>0</td>\n",
       "      <td>321552</td>\n",
       "      <td>0</td>\n",
       "      <td>1</td>\n",
       "      <td>2.138231</td>\n",
       "      <td>2.138246</td>\n",
       "      <td>fread</td>\n",
       "      <td>0</td>\n",
       "      <td>...</td>\n",
       "      <td>mProject#lassen192#132672#35184372410384</td>\n",
       "      <td>/p/gpfs1/haridev/iopp/montage-workflow/scratch...</td>\n",
       "      <td>2</td>\n",
       "      <td>0</td>\n",
       "      <td>0.127157</td>\n",
       "      <td>0.000015</td>\n",
       "      <td>21382382</td>\n",
       "      <td>4007557435994691998</td>\n",
       "      <td>2303625805466626068</td>\n",
       "      <td>/p/gpfs1/haridev/iopp/montage-workflow/scratch...</td>\n",
       "    </tr>\n",
       "    <tr>\n",
       "      <th>...</th>\n",
       "      <td>...</td>\n",
       "      <td>...</td>\n",
       "      <td>...</td>\n",
       "      <td>...</td>\n",
       "      <td>...</td>\n",
       "      <td>...</td>\n",
       "      <td>...</td>\n",
       "      <td>...</td>\n",
       "      <td>...</td>\n",
       "      <td>...</td>\n",
       "      <td>...</td>\n",
       "      <td>...</td>\n",
       "      <td>...</td>\n",
       "      <td>...</td>\n",
       "      <td>...</td>\n",
       "      <td>...</td>\n",
       "      <td>...</td>\n",
       "      <td>...</td>\n",
       "      <td>...</td>\n",
       "      <td>...</td>\n",
       "      <td>...</td>\n",
       "    </tr>\n",
       "    <tr>\n",
       "      <th>286057</th>\n",
       "      <td>2383210</td>\n",
       "      <td>63830</td>\n",
       "      <td>0</td>\n",
       "      <td>321552</td>\n",
       "      <td>0</td>\n",
       "      <td>2</td>\n",
       "      <td>18.125608</td>\n",
       "      <td>18.125610</td>\n",
       "      <td>fwrite</td>\n",
       "      <td>0</td>\n",
       "      <td>...</td>\n",
       "      <td>mAdd#lassen734#63830#35184372410384</td>\n",
       "      <td>/p/gpfs1/haridev/iopp/montage-workflow/scratch...</td>\n",
       "      <td>2880</td>\n",
       "      <td>0</td>\n",
       "      <td>2746.582031</td>\n",
       "      <td>0.000001</td>\n",
       "      <td>181256095</td>\n",
       "      <td>4007557436607364090</td>\n",
       "      <td>369428171584890900</td>\n",
       "      <td>/p/gpfs1/haridev/iopp/montage-workflow/scratch...</td>\n",
       "    </tr>\n",
       "    <tr>\n",
       "      <th>286058</th>\n",
       "      <td>2383211</td>\n",
       "      <td>63830</td>\n",
       "      <td>0</td>\n",
       "      <td>321552</td>\n",
       "      <td>0</td>\n",
       "      <td>3</td>\n",
       "      <td>18.125628</td>\n",
       "      <td>18.126268</td>\n",
       "      <td>fclose</td>\n",
       "      <td>0</td>\n",
       "      <td>...</td>\n",
       "      <td>mAdd#lassen734#63830#35184372410384</td>\n",
       "      <td>/p/gpfs1/haridev/iopp/montage-workflow/scratch...</td>\n",
       "      <td>0</td>\n",
       "      <td>0</td>\n",
       "      <td>0.000000</td>\n",
       "      <td>0.000640</td>\n",
       "      <td>181259478</td>\n",
       "      <td>4007557436607364090</td>\n",
       "      <td>369428171584890900</td>\n",
       "      <td>/p/gpfs1/haridev/iopp/montage-workflow/scratch...</td>\n",
       "    </tr>\n",
       "    <tr>\n",
       "      <th>286059</th>\n",
       "      <td>2383212</td>\n",
       "      <td>63830</td>\n",
       "      <td>0</td>\n",
       "      <td>321552</td>\n",
       "      <td>0</td>\n",
       "      <td>1</td>\n",
       "      <td>18.126276</td>\n",
       "      <td>18.131586</td>\n",
       "      <td>fread</td>\n",
       "      <td>0</td>\n",
       "      <td>...</td>\n",
       "      <td>mAdd#lassen734#63830#35184372410384</td>\n",
       "      <td>/p/gpfs1/haridev/iopp/montage-workflow/scratch...</td>\n",
       "      <td>2880</td>\n",
       "      <td>0</td>\n",
       "      <td>0.517237</td>\n",
       "      <td>0.005310</td>\n",
       "      <td>181289317</td>\n",
       "      <td>4007557438554618451</td>\n",
       "      <td>369428171584890900</td>\n",
       "      <td>/p/gpfs1/haridev/iopp/montage-workflow/scratch...</td>\n",
       "    </tr>\n",
       "    <tr>\n",
       "      <th>286060</th>\n",
       "      <td>2383213</td>\n",
       "      <td>63830</td>\n",
       "      <td>0</td>\n",
       "      <td>321552</td>\n",
       "      <td>0</td>\n",
       "      <td>2</td>\n",
       "      <td>18.131601</td>\n",
       "      <td>18.131601</td>\n",
       "      <td>fwrite</td>\n",
       "      <td>0</td>\n",
       "      <td>...</td>\n",
       "      <td>mAdd#lassen734#63830#35184372410384</td>\n",
       "      <td>/p/gpfs1/haridev/iopp/montage-workflow/scratch...</td>\n",
       "      <td>2880</td>\n",
       "      <td>0</td>\n",
       "      <td>0.000000</td>\n",
       "      <td>0.000000</td>\n",
       "      <td>181316017</td>\n",
       "      <td>4007557438554618451</td>\n",
       "      <td>369428171584890900</td>\n",
       "      <td>/p/gpfs1/haridev/iopp/montage-workflow/scratch...</td>\n",
       "    </tr>\n",
       "    <tr>\n",
       "      <th>286061</th>\n",
       "      <td>2383214</td>\n",
       "      <td>63830</td>\n",
       "      <td>0</td>\n",
       "      <td>321552</td>\n",
       "      <td>0</td>\n",
       "      <td>3</td>\n",
       "      <td>18.131618</td>\n",
       "      <td>18.131744</td>\n",
       "      <td>fclose</td>\n",
       "      <td>0</td>\n",
       "      <td>...</td>\n",
       "      <td>mAdd#lassen734#63830#35184372410384</td>\n",
       "      <td>/p/gpfs1/haridev/iopp/montage-workflow/scratch...</td>\n",
       "      <td>0</td>\n",
       "      <td>0</td>\n",
       "      <td>0.000000</td>\n",
       "      <td>0.000126</td>\n",
       "      <td>181316806</td>\n",
       "      <td>4007557438554618451</td>\n",
       "      <td>369428171584890900</td>\n",
       "      <td>/p/gpfs1/haridev/iopp/montage-workflow/scratch...</td>\n",
       "    </tr>\n",
       "  </tbody>\n",
       "</table>\n",
       "<p>12346353 rows × 22 columns</p>\n",
       "</div>"
      ],
      "text/plain": [
       "          index    proc  rank  thread_id  cat  io_cat     tstart       tend  \\\n",
       "0             1  132672     0     321552    0       3   2.137661   2.137760   \n",
       "1             2  132672     0     321552    0       1   2.137835   2.138117   \n",
       "2             3  132672     0     321552    0       3   2.138125   2.138141   \n",
       "3             4  132672     0     321552    0       3   2.138159   2.138171   \n",
       "4             5  132672     0     321552    0       1   2.138231   2.138246   \n",
       "...         ...     ...   ...        ...  ...     ...        ...        ...   \n",
       "286057  2383210   63830     0     321552    0       2  18.125608  18.125610   \n",
       "286058  2383211   63830     0     321552    0       3  18.125628  18.126268   \n",
       "286059  2383212   63830     0     321552    0       1  18.126276  18.131586   \n",
       "286060  2383213   63830     0     321552    0       2  18.131601  18.131601   \n",
       "286061  2383214   63830     0     321552    0       3  18.131618  18.131744   \n",
       "\n",
       "        func_id  level  ...                                 proc_name  \\\n",
       "0       fopen64      0  ...  mProject#lassen192#132672#35184372410384   \n",
       "1         fread      0  ...  mProject#lassen192#132672#35184372410384   \n",
       "2        fclose      0  ...  mProject#lassen192#132672#35184372410384   \n",
       "3       fopen64      0  ...  mProject#lassen192#132672#35184372410384   \n",
       "4         fread      0  ...  mProject#lassen192#132672#35184372410384   \n",
       "...         ...    ...  ...                                       ...   \n",
       "286057   fwrite      0  ...       mAdd#lassen734#63830#35184372410384   \n",
       "286058   fclose      0  ...       mAdd#lassen734#63830#35184372410384   \n",
       "286059    fread      0  ...       mAdd#lassen734#63830#35184372410384   \n",
       "286060   fwrite      0  ...       mAdd#lassen734#63830#35184372410384   \n",
       "286061   fclose      0  ...       mAdd#lassen734#63830#35184372410384   \n",
       "\n",
       "                                                file_name  size acc_pat  \\\n",
       "0       /p/gpfs1/haridev/iopp/montage-workflow/scratch...     0       0   \n",
       "1       /p/gpfs1/haridev/iopp/montage-workflow/scratch...     2       0   \n",
       "2       /p/gpfs1/haridev/iopp/montage-workflow/scratch...     0       0   \n",
       "3       /p/gpfs1/haridev/iopp/montage-workflow/scratch...     0       0   \n",
       "4       /p/gpfs1/haridev/iopp/montage-workflow/scratch...     2       0   \n",
       "...                                                   ...   ...     ...   \n",
       "286057  /p/gpfs1/haridev/iopp/montage-workflow/scratch...  2880       0   \n",
       "286058  /p/gpfs1/haridev/iopp/montage-workflow/scratch...     0       0   \n",
       "286059  /p/gpfs1/haridev/iopp/montage-workflow/scratch...  2880       0   \n",
       "286060  /p/gpfs1/haridev/iopp/montage-workflow/scratch...  2880       0   \n",
       "286061  /p/gpfs1/haridev/iopp/montage-workflow/scratch...     0       0   \n",
       "\n",
       "          bandwidth  duration       tmid              file_id  \\\n",
       "0          0.000000  0.000099   21377103  4007557435994691998   \n",
       "1          0.006764  0.000282   21379759  4007557435994691998   \n",
       "2          0.000000  0.000016   21381327  4007557435994691998   \n",
       "3          0.000000  0.000012   21381647  4007557435994691998   \n",
       "4          0.127157  0.000015   21382382  4007557435994691998   \n",
       "...             ...       ...        ...                  ...   \n",
       "286057  2746.582031  0.000001  181256095  4007557436607364090   \n",
       "286058     0.000000  0.000640  181259478  4007557436607364090   \n",
       "286059     0.517237  0.005310  181289317  4007557438554618451   \n",
       "286060     0.000000  0.000000  181316017  4007557438554618451   \n",
       "286061     0.000000  0.000126  181316806  4007557438554618451   \n",
       "\n",
       "                    proc_id                                           file_dir  \n",
       "0       2303625805466626068  /p/gpfs1/haridev/iopp/montage-workflow/scratch...  \n",
       "1       2303625805466626068  /p/gpfs1/haridev/iopp/montage-workflow/scratch...  \n",
       "2       2303625805466626068  /p/gpfs1/haridev/iopp/montage-workflow/scratch...  \n",
       "3       2303625805466626068  /p/gpfs1/haridev/iopp/montage-workflow/scratch...  \n",
       "4       2303625805466626068  /p/gpfs1/haridev/iopp/montage-workflow/scratch...  \n",
       "...                     ...                                                ...  \n",
       "286057   369428171584890900  /p/gpfs1/haridev/iopp/montage-workflow/scratch...  \n",
       "286058   369428171584890900  /p/gpfs1/haridev/iopp/montage-workflow/scratch...  \n",
       "286059   369428171584890900  /p/gpfs1/haridev/iopp/montage-workflow/scratch...  \n",
       "286060   369428171584890900  /p/gpfs1/haridev/iopp/montage-workflow/scratch...  \n",
       "286061   369428171584890900  /p/gpfs1/haridev/iopp/montage-workflow/scratch...  \n",
       "\n",
       "[12346353 rows x 22 columns]"
      ]
     },
     "execution_count": 10,
     "metadata": {},
     "output_type": "execute_result"
    },
    {
     "name": "stdout",
     "output_type": "stream",
     "text": [
      "time: 1min 18s (started: 2023-06-26 12:15:47 -07:00)\n"
     ]
    }
   ],
   "source": [
    "all_view['file_dir'] = all_view['file_name'].apply(lambda x: '/'.join(x.split('/')[:-1]))\n",
    "all_view.compute()"
   ]
  },
  {
   "cell_type": "markdown",
   "metadata": {},
   "source": [
    "## Eval I: Data Reduction"
   ]
  },
  {
   "cell_type": "code",
   "execution_count": 13,
   "metadata": {},
   "outputs": [
    {
     "data": {
      "text/plain": [
       "index          int64\n",
       "proc           int64\n",
       "rank           int32\n",
       "thread_id      int32\n",
       "cat            int32\n",
       "io_cat         int32\n",
       "tstart       float32\n",
       "tend         float32\n",
       "func_id       object\n",
       "level          int32\n",
       "hostname      object\n",
       "app           object\n",
       "proc_name     object\n",
       "file_name     object\n",
       "size           int64\n",
       "acc_pat        int32\n",
       "bandwidth    float32\n",
       "duration     float32\n",
       "tmid           int64\n",
       "file_id        int64\n",
       "proc_id        int64\n",
       "dtype: object"
      ]
     },
     "execution_count": 13,
     "metadata": {},
     "output_type": "execute_result"
    },
    {
     "name": "stdout",
     "output_type": "stream",
     "text": [
      "time: 7.52 ms (started: 2023-07-15 13:20:31 -07:00)\n"
     ]
    }
   ],
   "source": [
    "all_view.dtypes"
   ]
  },
  {
   "cell_type": "code",
   "execution_count": 31,
   "metadata": {},
   "outputs": [
    {
     "data": {
      "text/plain": [
       "index          int64\n",
       "proc           int64\n",
       "rank           int32\n",
       "thread_id      int32\n",
       "cat            int32\n",
       "io_cat         int32\n",
       "tstart       float32\n",
       "tend         float32\n",
       "func_id       object\n",
       "level          int32\n",
       "hostname      object\n",
       "app           object\n",
       "proc_name     object\n",
       "file_name     object\n",
       "size           int64\n",
       "acc_pat        int32\n",
       "bandwidth    float32\n",
       "duration     float32\n",
       "tmid           int64\n",
       "file_id        int64\n",
       "proc_id        int64\n",
       "dtype: object"
      ]
     },
     "execution_count": 31,
     "metadata": {},
     "output_type": "execute_result"
    },
    {
     "name": "stdout",
     "output_type": "stream",
     "text": [
      "time: 29 s (started: 2023-07-15 13:27:22 -07:00)\n"
     ]
    }
   ],
   "source": [
    "all_view.compute().infer_objects().dtypes"
   ]
  },
  {
   "cell_type": "code",
   "execution_count": 28,
   "metadata": {},
   "outputs": [
    {
     "name": "stdout",
     "output_type": "stream",
     "text": [
      "acc_pat dtype improvement (times): 3.9988807348675137\n",
      "time: 3.21 s (started: 2023-07-15 13:25:02 -07:00)\n"
     ]
    }
   ],
   "source": [
    "acc_pat = all_view['acc_pat']\n",
    "acc_pat_mem = acc_pat.memory_usage(deep=True).compute()\n",
    "acc_pat2 = acc_pat.astype(np.bool_)\n",
    "acc_pat2_mem = acc_pat2.memory_usage(deep=True).compute()\n",
    "print('acc_pat dtype improvement (times):', acc_pat_mem/acc_pat2_mem)"
   ]
  },
  {
   "cell_type": "code",
   "execution_count": 25,
   "metadata": {},
   "outputs": [
    {
     "data": {
      "text/plain": [
       "0    12345330\n",
       "1        1023\n",
       "Name: acc_pat, dtype: int64"
      ]
     },
     "execution_count": 25,
     "metadata": {},
     "output_type": "execute_result"
    },
    {
     "name": "stdout",
     "output_type": "stream",
     "text": [
      "time: 1.43 s (started: 2023-07-15 13:24:41 -07:00)\n"
     ]
    }
   ],
   "source": [
    "acc_pat.value_counts().compute()"
   ]
  },
  {
   "cell_type": "code",
   "execution_count": 26,
   "metadata": {},
   "outputs": [
    {
     "data": {
      "text/plain": [
       "False    12345330\n",
       "True         1023\n",
       "Name: acc_pat, dtype: int64"
      ]
     },
     "execution_count": 26,
     "metadata": {},
     "output_type": "execute_result"
    },
    {
     "name": "stdout",
     "output_type": "stream",
     "text": [
      "time: 1.39 s (started: 2023-07-15 13:24:48 -07:00)\n"
     ]
    }
   ],
   "source": [
    "acc_pat2.value_counts().compute()"
   ]
  },
  {
   "cell_type": "code",
   "execution_count": 22,
   "metadata": {},
   "outputs": [
    {
     "name": "stdout",
     "output_type": "stream",
     "text": [
      "io_cat dtype improvement (times): 3.9988807348675137\n",
      "time: 2.39 s (started: 2023-07-15 13:24:02 -07:00)\n"
     ]
    }
   ],
   "source": [
    "io_cat = all_view['io_cat']\n",
    "io_cat_mem = io_cat.memory_usage(deep=True).compute()\n",
    "io_cat2 = io_cat.astype(np.int8)\n",
    "io_cat2_mem = io_cat2.memory_usage(deep=True).compute()\n",
    "print('io_cat dtype improvement (times):', io_cat_mem/io_cat2_mem)"
   ]
  },
  {
   "cell_type": "code",
   "execution_count": 23,
   "metadata": {},
   "outputs": [
    {
     "data": {
      "text/plain": [
       "1    6683714\n",
       "2    5454853\n",
       "3     207786\n",
       "Name: io_cat, dtype: int64"
      ]
     },
     "execution_count": 23,
     "metadata": {},
     "output_type": "execute_result"
    },
    {
     "name": "stdout",
     "output_type": "stream",
     "text": [
      "time: 1.38 s (started: 2023-07-15 13:24:17 -07:00)\n"
     ]
    }
   ],
   "source": [
    "io_cat.value_counts().compute()"
   ]
  },
  {
   "cell_type": "code",
   "execution_count": 24,
   "metadata": {},
   "outputs": [
    {
     "data": {
      "text/plain": [
       "1    6683714\n",
       "2    5454853\n",
       "3     207786\n",
       "Name: io_cat, dtype: int64"
      ]
     },
     "execution_count": 24,
     "metadata": {},
     "output_type": "execute_result"
    },
    {
     "name": "stdout",
     "output_type": "stream",
     "text": [
      "time: 1.15 s (started: 2023-07-15 13:24:25 -07:00)\n"
     ]
    }
   ],
   "source": [
    "io_cat2.value_counts().compute()"
   ]
  },
  {
   "cell_type": "markdown",
   "metadata": {},
   "source": [
    "**File Name vs File ID**"
   ]
  },
  {
   "cell_type": "code",
   "execution_count": 7,
   "metadata": {},
   "outputs": [
    {
     "name": "stdout",
     "output_type": "stream",
     "text": [
      "file_id dtype improvement (times): 17.631651907126056\n",
      "time: 8.1 s (started: 2023-07-16 20:06:16 -07:00)\n"
     ]
    }
   ],
   "source": [
    "file_name = all_view['file_name']\n",
    "file_name_mem = file_name.memory_usage(deep=True).compute()\n",
    "file_id = all_view['file_id']\n",
    "file_id_mem = file_id.memory_usage(deep=True).compute()\n",
    "print('file_id dtype improvement (times):', file_name_mem/file_id_mem)"
   ]
  },
  {
   "cell_type": "code",
   "execution_count": 17,
   "metadata": {},
   "outputs": [
    {
     "data": {
      "text/plain": [
       "19680"
      ]
     },
     "execution_count": 17,
     "metadata": {},
     "output_type": "execute_result"
    },
    {
     "name": "stdout",
     "output_type": "stream",
     "text": [
      "time: 1.81 s (started: 2023-07-16 20:16:43 -07:00)\n"
     ]
    }
   ],
   "source": [
    "file_id.unique().count().compute()"
   ]
  },
  {
   "cell_type": "markdown",
   "metadata": {},
   "source": [
    "**Process Name vs Process ID**"
   ]
  },
  {
   "cell_type": "code",
   "execution_count": 35,
   "metadata": {},
   "outputs": [
    {
     "name": "stdout",
     "output_type": "stream",
     "text": [
      "proc_id dtype improvement (times): 11.88138911910808\n",
      "time: 3.36 s (started: 2023-07-15 13:32:43 -07:00)\n"
     ]
    }
   ],
   "source": [
    "proc_name = all_view['proc_name']\n",
    "proc_name_mem = proc_name.memory_usage(deep=True).compute()\n",
    "proc_id = all_view['proc_id']\n",
    "proc_id_mem = proc_id.memory_usage(deep=True).compute()\n",
    "print('proc_id dtype improvement (times):', proc_name_mem/proc_id_mem)"
   ]
  },
  {
   "cell_type": "code",
   "execution_count": 37,
   "metadata": {},
   "outputs": [
    {
     "data": {
      "text/plain": [
       "11488"
      ]
     },
     "execution_count": 37,
     "metadata": {},
     "output_type": "execute_result"
    },
    {
     "name": "stdout",
     "output_type": "stream",
     "text": [
      "time: 1.32 s (started: 2023-07-15 14:07:29 -07:00)\n"
     ]
    }
   ],
   "source": [
    "proc_id.unique().count().compute()"
   ]
  },
  {
   "cell_type": "markdown",
   "metadata": {},
   "source": [
    "**Func ID vs Categorical Func ID**"
   ]
  },
  {
   "cell_type": "code",
   "execution_count": 13,
   "metadata": {},
   "outputs": [
    {
     "name": "stdout",
     "output_type": "stream",
     "text": [
      "func_id dtype improvement (times): 62.30799010444749\n",
      "time: 10.3 s (started: 2023-07-16 13:47:54 -07:00)\n"
     ]
    }
   ],
   "source": [
    "func_id = all_view['func_id']\n",
    "func_id_mem = func_id.memory_usage(deep=True).compute()\n",
    "func_id2 = all_view['func_id'].astype('category')\n",
    "func_id2_mem = func_id2.memory_usage(deep=True).compute()\n",
    "print('func_id dtype improvement (times):', func_id_mem/func_id2_mem)"
   ]
  },
  {
   "cell_type": "code",
   "execution_count": 14,
   "metadata": {},
   "outputs": [
    {
     "data": {
      "text/plain": [
       "fread        6683714\n",
       "fwrite       5454853\n",
       "fopen64        93434\n",
       "fclose         81598\n",
       "vfprintf       11572\n",
       "pipe           11518\n",
       "__xstat64       6782\n",
       "remove          1518\n",
       "fseek           1361\n",
       "unlink             3\n",
       "Name: func_id, dtype: int64"
      ]
     },
     "execution_count": 14,
     "metadata": {},
     "output_type": "execute_result"
    },
    {
     "name": "stdout",
     "output_type": "stream",
     "text": [
      "time: 5.79 s (started: 2023-07-16 14:23:07 -07:00)\n"
     ]
    }
   ],
   "source": [
    "func_id.value_counts().compute()"
   ]
  },
  {
   "cell_type": "code",
   "execution_count": 11,
   "metadata": {},
   "outputs": [
    {
     "name": "stdout",
     "output_type": "stream",
     "text": [
      "time: 4.92 s (started: 2023-07-16 20:09:11 -07:00)\n"
     ]
    }
   ],
   "source": [
    "file_name_computed = file_name.compute()\n",
    "file_id_compute = file_id.compute()"
   ]
  },
  {
   "cell_type": "code",
   "execution_count": 15,
   "metadata": {},
   "outputs": [
    {
     "name": "stdout",
     "output_type": "stream",
     "text": [
      "11.7 s ± 263 ms per loop (mean ± std. dev. of 20 runs, 1 loop each)\n",
      "time: 3min 53s (started: 2023-07-16 20:10:43 -07:00)\n"
     ]
    }
   ],
   "source": [
    "%%timeit -r 20 -n 1\n",
    "\n",
    "_ = file_name_computed.sort_values()"
   ]
  },
  {
   "cell_type": "code",
   "execution_count": 16,
   "metadata": {},
   "outputs": [
    {
     "name": "stdout",
     "output_type": "stream",
     "text": [
      "2.47 s ± 177 ms per loop (mean ± std. dev. of 20 runs, 1 loop each)\n",
      "time: 49.6 s (started: 2023-07-16 20:14:37 -07:00)\n"
     ]
    }
   ],
   "source": [
    "%%timeit -r 20 -n 1\n",
    "\n",
    "_ = file_id_compute.sort_values()"
   ]
  },
  {
   "cell_type": "markdown",
   "metadata": {},
   "source": [
    "## Eval II: Preprocessing - Query via string vs. integer indices"
   ]
  },
  {
   "cell_type": "code",
   "execution_count": 7,
   "metadata": {},
   "outputs": [
    {
     "data": {
      "text/plain": [
       "MultiIndex([(-9222633358449720911,          '3-diff.000017.000048.fits'),\n",
       "            (-9221343239341138544,            '2-fit.000005.000017.txt'),\n",
       "            (-9220642067073431512,            '2-fit.000020.000022.txt'),\n",
       "            (-9219592665727134543,            '2-fit.000020.000032.txt'),\n",
       "            (-9218362651926525491,            '2-fit.000015.000047.txt'),\n",
       "            (-9216754904262680462,          '3-diff.000026.000039.fits'),\n",
       "            (-9216382566996869448,          '1-diff.000048.000057.fits'),\n",
       "            (-9215461525784070457,            '3-fit.000043.000057.txt'),\n",
       "            (-9214978144544274239,     '1-diff.000017.000026_area.fits'),\n",
       "            (-9214444624381405612,            '1-fit.000043.000047.txt'),\n",
       "            ...\n",
       "            ( 8857004603826425559,       'cposs2ukstu_red_001_004.fits'),\n",
       "            ( 8927141822935412591,  'cposs2ukstu_red_007_002_area.fits'),\n",
       "            ( 8948728582963324486,  'cposs2ukstu_red_006_007_area.fits'),\n",
       "            ( 8995390659947322629, 'cposs2ukstu_blue_007_006_area.fits'),\n",
       "            ( 9028763739195732746,      'cposs2ukstu_blue_004_002.fits'),\n",
       "            ( 9030355301346520223,                       '3-mosaic.png'),\n",
       "            ( 9127301346530444044,  'cposs2ukstu_red_001_008_area.fits'),\n",
       "            ( 9162823659526247915,        '2-updated-corrected.tbl.tmp'),\n",
       "            ( 9172298251601755208,  'cposs2ukstu_red_006_001_area.fits'),\n",
       "            ( 9221060788680195852,            '1-fit.000043.000049.txt')],\n",
       "           names=['file_id', 'file_name'], length=19680)"
      ]
     },
     "execution_count": 7,
     "metadata": {},
     "output_type": "execute_result"
    },
    {
     "name": "stdout",
     "output_type": "stream",
     "text": [
      "time: 8.99 s (started: 2023-07-03 19:54:34 -07:00)\n"
     ]
    }
   ],
   "source": [
    "file_grp = all_view.groupby(['file_id', 'file_name']).agg({'size': sum})\n",
    "files = file_grp.index.compute()\n",
    "files"
   ]
  },
  {
   "cell_type": "code",
   "execution_count": 8,
   "metadata": {},
   "outputs": [
    {
     "name": "stdout",
     "output_type": "stream",
     "text": [
      "time: 4.73 ms (started: 2023-07-03 19:54:54 -07:00)\n"
     ]
    }
   ],
   "source": [
    "file_ids = files.get_level_values(0)\n",
    "file_names = files.get_level_values(1)"
   ]
  },
  {
   "cell_type": "code",
   "execution_count": 9,
   "metadata": {},
   "outputs": [
    {
     "name": "stdout",
     "output_type": "stream",
     "text": [
      "time: 45.1 s (started: 2023-07-03 19:54:56 -07:00)\n"
     ]
    }
   ],
   "source": [
    "file_id_view = all_view.set_index('file_id').compute()\n",
    "file_name_view = all_view.set_index('file_name').compute()"
   ]
  },
  {
   "cell_type": "code",
   "execution_count": 10,
   "metadata": {},
   "outputs": [
    {
     "data": {
      "text/plain": [
       "2460.0"
      ]
     },
     "execution_count": 10,
     "metadata": {},
     "output_type": "execute_result"
    },
    {
     "name": "stdout",
     "output_type": "stream",
     "text": [
      "time: 7.08 ms (started: 2023-07-03 19:55:47 -07:00)\n"
     ]
    }
   ],
   "source": [
    "(19680 - (19680 % 2 ** 3)) / 2 ** 3"
   ]
  },
  {
   "cell_type": "code",
   "execution_count": 11,
   "metadata": {},
   "outputs": [
    {
     "name": "stdout",
     "output_type": "stream",
     "text": [
      "time: 1.69 ms (started: 2023-07-03 19:55:52 -07:00)\n"
     ]
    }
   ],
   "source": [
    "from time import time\n",
    "\n",
    "\n",
    "def m(l, nel):\n",
    "    return l[:int(nel)].memory_usage(deep=True)\n",
    "\n",
    "\n",
    "def x(df, l, nel):\n",
    "    # print(l, nel)\n",
    "    t0 = time()\n",
    "    df.loc[l[0]: l[int(nel) - 1]]\n",
    "    t1 = time() - t0\n",
    "    # print(f\"time,{t1}\")\n",
    "    memory_usage = m(l, nel)\n",
    "    # print(f\"mem,{memory_usage}\")"
   ]
  },
  {
   "cell_type": "code",
   "execution_count": 12,
   "metadata": {},
   "outputs": [
    {
     "data": {
      "text/plain": [
       "[2460.0, 4920.0, 9840.0]"
      ]
     },
     "execution_count": 12,
     "metadata": {},
     "output_type": "execute_result"
    },
    {
     "name": "stdout",
     "output_type": "stream",
     "text": [
      "time: 8.18 ms (started: 2023-07-03 19:55:56 -07:00)\n"
     ]
    }
   ],
   "source": [
    "mnel = (19680 - (19680 % 2 ** 3)) / 2 ** 3\n",
    "nels = [mnel, mnel * 2, mnel * 4]\n",
    "nels"
   ]
  },
  {
   "cell_type": "markdown",
   "metadata": {},
   "source": [
    "### Integer range queries"
   ]
  },
  {
   "cell_type": "code",
   "execution_count": 13,
   "metadata": {},
   "outputs": [
    {
     "name": "stdout",
     "output_type": "stream",
     "text": [
      "157 µs ± 40 µs per loop (mean ± std. dev. of 10 runs, 1000 loops each)\n",
      "time: 1.57 s (started: 2023-07-03 19:56:08 -07:00)\n"
     ]
    }
   ],
   "source": [
    "%%timeit -r 10 -n 1000\n",
    "\n",
    "x(file_id_view, file_ids, nels[0])"
   ]
  },
  {
   "cell_type": "code",
   "execution_count": 14,
   "metadata": {},
   "outputs": [
    {
     "data": {
      "text/plain": [
       "19680"
      ]
     },
     "execution_count": 14,
     "metadata": {},
     "output_type": "execute_result"
    },
    {
     "name": "stdout",
     "output_type": "stream",
     "text": [
      "time: 5.47 ms (started: 2023-07-03 19:56:11 -07:00)\n"
     ]
    }
   ],
   "source": [
    "m(file_ids, nels[0])"
   ]
  },
  {
   "cell_type": "code",
   "execution_count": 15,
   "metadata": {},
   "outputs": [
    {
     "name": "stdout",
     "output_type": "stream",
     "text": [
      "187 µs ± 15.6 µs per loop (mean ± std. dev. of 10 runs, 1000 loops each)\n",
      "time: 1.88 s (started: 2023-07-03 19:56:12 -07:00)\n"
     ]
    }
   ],
   "source": [
    "%%timeit -r 10 -n 1000\n",
    "\n",
    "x(file_id_view, file_ids, nels[1])"
   ]
  },
  {
   "cell_type": "code",
   "execution_count": 16,
   "metadata": {},
   "outputs": [
    {
     "data": {
      "text/plain": [
       "39360"
      ]
     },
     "execution_count": 16,
     "metadata": {},
     "output_type": "execute_result"
    },
    {
     "name": "stdout",
     "output_type": "stream",
     "text": [
      "time: 5.98 ms (started: 2023-07-03 19:56:14 -07:00)\n"
     ]
    }
   ],
   "source": [
    "m(file_ids, nels[1])"
   ]
  },
  {
   "cell_type": "code",
   "execution_count": 17,
   "metadata": {},
   "outputs": [
    {
     "name": "stdout",
     "output_type": "stream",
     "text": [
      "147 µs ± 8.19 µs per loop (mean ± std. dev. of 10 runs, 1000 loops each)\n",
      "time: 1.47 s (started: 2023-07-03 19:56:15 -07:00)\n"
     ]
    }
   ],
   "source": [
    "%%timeit -r 10 -n 1000\n",
    "\n",
    "x(file_id_view, file_ids, nels[2])"
   ]
  },
  {
   "cell_type": "code",
   "execution_count": 18,
   "metadata": {},
   "outputs": [
    {
     "data": {
      "text/plain": [
       "78720"
      ]
     },
     "execution_count": 18,
     "metadata": {},
     "output_type": "execute_result"
    },
    {
     "name": "stdout",
     "output_type": "stream",
     "text": [
      "time: 4.08 ms (started: 2023-07-03 19:56:16 -07:00)\n"
     ]
    }
   ],
   "source": [
    "m(file_ids, nels[2])"
   ]
  },
  {
   "cell_type": "markdown",
   "metadata": {},
   "source": [
    "### String range queries"
   ]
  },
  {
   "cell_type": "code",
   "execution_count": 40,
   "metadata": {},
   "outputs": [
    {
     "name": "stdout",
     "output_type": "stream",
     "text": [
      "644 µs ± 7.56 µs per loop (mean ± std. dev. of 10 runs, 1000 loops each)\n",
      "time: 6.45 s (started: 2023-07-03 20:13:29 -07:00)\n"
     ]
    }
   ],
   "source": [
    "%%timeit -r 10 -n 1000\n",
    "\n",
    "x(file_name_view, file_names, nels[0])"
   ]
  },
  {
   "cell_type": "code",
   "execution_count": 41,
   "metadata": {},
   "outputs": [
    {
     "data": {
      "text/plain": [
       "200270"
      ]
     },
     "execution_count": 41,
     "metadata": {},
     "output_type": "execute_result"
    },
    {
     "name": "stdout",
     "output_type": "stream",
     "text": [
      "time: 3.91 ms (started: 2023-07-03 20:13:36 -07:00)\n"
     ]
    }
   ],
   "source": [
    "m(file_names, nels[0])"
   ]
  },
  {
   "cell_type": "code",
   "execution_count": 42,
   "metadata": {},
   "outputs": [
    {
     "name": "stdout",
     "output_type": "stream",
     "text": [
      "994 µs ± 11.5 µs per loop (mean ± std. dev. of 10 runs, 1000 loops each)\n",
      "time: 9.94 s (started: 2023-07-03 20:13:36 -07:00)\n"
     ]
    }
   ],
   "source": [
    "%%timeit -r 10 -n 1000\n",
    "\n",
    "x(file_name_view, file_names, nels[1])"
   ]
  },
  {
   "cell_type": "code",
   "execution_count": 43,
   "metadata": {},
   "outputs": [
    {
     "data": {
      "text/plain": [
       "400612"
      ]
     },
     "execution_count": 43,
     "metadata": {},
     "output_type": "execute_result"
    },
    {
     "name": "stdout",
     "output_type": "stream",
     "text": [
      "time: 4.18 ms (started: 2023-07-03 20:13:46 -07:00)\n"
     ]
    }
   ],
   "source": [
    "m(file_names, nels[1])"
   ]
  },
  {
   "cell_type": "code",
   "execution_count": 44,
   "metadata": {},
   "outputs": [
    {
     "name": "stdout",
     "output_type": "stream",
     "text": [
      "1.7 ms ± 27.3 µs per loop (mean ± std. dev. of 10 runs, 1000 loops each)\n",
      "time: 17 s (started: 2023-07-03 20:13:46 -07:00)\n"
     ]
    }
   ],
   "source": [
    "%%timeit -r 10 -n 1000\n",
    "\n",
    "x(file_name_view, file_names, nels[2])"
   ]
  },
  {
   "cell_type": "code",
   "execution_count": 45,
   "metadata": {},
   "outputs": [
    {
     "data": {
      "text/plain": [
       "895545"
      ]
     },
     "execution_count": 45,
     "metadata": {},
     "output_type": "execute_result"
    },
    {
     "name": "stdout",
     "output_type": "stream",
     "text": [
      "time: 5.55 ms (started: 2023-07-03 20:14:03 -07:00)\n"
     ]
    }
   ],
   "source": [
    "m(file_names, nels[2])"
   ]
  },
  {
   "cell_type": "code",
   "execution_count": 46,
   "metadata": {},
   "outputs": [
    {
     "name": "stdout",
     "output_type": "stream",
     "text": [
      "766 µs ± 336 µs per loop (mean ± std. dev. of 5 runs, 1 loop each)\n",
      "time: 6.09 ms (started: 2023-07-03 20:14:03 -07:00)\n"
     ]
    }
   ],
   "source": [
    "%%timeit -n 1 -r 5\n",
    "\n",
    "for nel in nels:\n",
    "    x(file_id_view, file_ids, nel)"
   ]
  },
  {
   "cell_type": "code",
   "execution_count": 26,
   "metadata": {},
   "outputs": [
    {
     "name": "stdout",
     "output_type": "stream",
     "text": [
      "3.92 ms ± 184 µs per loop (mean ± std. dev. of 5 runs, 1 loop each)\n",
      "time: 21.7 ms (started: 2023-07-03 19:56:50 -07:00)\n"
     ]
    }
   ],
   "source": [
    "%%timeit -n 1 -r 5\n",
    "\n",
    "for nel in nels:\n",
    "    x(file_name_view, file_names, nel)"
   ]
  },
  {
   "cell_type": "markdown",
   "metadata": {},
   "source": [
    "## Eval III: Preprocessing - Iteration vs. preprocessing"
   ]
  },
  {
   "cell_type": "code",
   "execution_count": 34,
   "metadata": {},
   "outputs": [
    {
     "data": {
      "text/html": [
       "<div>\n",
       "<style scoped>\n",
       "    .dataframe tbody tr th:only-of-type {\n",
       "        vertical-align: middle;\n",
       "    }\n",
       "\n",
       "    .dataframe tbody tr th {\n",
       "        vertical-align: top;\n",
       "    }\n",
       "\n",
       "    .dataframe thead th {\n",
       "        text-align: right;\n",
       "    }\n",
       "</style>\n",
       "<table border=\"1\" class=\"dataframe\">\n",
       "  <thead>\n",
       "    <tr style=\"text-align: right;\">\n",
       "      <th></th>\n",
       "      <th>size</th>\n",
       "    </tr>\n",
       "    <tr>\n",
       "      <th>file_dir</th>\n",
       "      <th></th>\n",
       "    </tr>\n",
       "  </thead>\n",
       "  <tbody>\n",
       "    <tr>\n",
       "      <th></th>\n",
       "      <td>0</td>\n",
       "    </tr>\n",
       "    <tr>\n",
       "      <th>/p/gpfs1/iopp/temp/montage</th>\n",
       "      <td>0</td>\n",
       "    </tr>\n",
       "    <tr>\n",
       "      <th>/p/gpfs1/iopp/temp/montage/2854964</th>\n",
       "      <td>0</td>\n",
       "    </tr>\n",
       "    <tr>\n",
       "      <th>/p/gpfs1/iopp/temp/montage/2854964/30</th>\n",
       "      <td>24072977</td>\n",
       "    </tr>\n",
       "    <tr>\n",
       "      <th>/p/gpfs1/iopp/temp/montage/2854964/7</th>\n",
       "      <td>72092250</td>\n",
       "    </tr>\n",
       "    <tr>\n",
       "      <th>...</th>\n",
       "      <td>...</td>\n",
       "    </tr>\n",
       "    <tr>\n",
       "      <th>/p/gpfs1/iopp/temp/montage/2854964/6/run</th>\n",
       "      <td>1421042712</td>\n",
       "    </tr>\n",
       "    <tr>\n",
       "      <th>/p/gpfs1/iopp/temp/montage/2854964/0/run</th>\n",
       "      <td>3254544638</td>\n",
       "    </tr>\n",
       "    <tr>\n",
       "      <th>/p/gpfs1/iopp/temp/montage/2854964/25/run</th>\n",
       "      <td>4237098833</td>\n",
       "    </tr>\n",
       "    <tr>\n",
       "      <th>/p/gpfs1/iopp/temp/montage/2854964/1/run</th>\n",
       "      <td>8194391946</td>\n",
       "    </tr>\n",
       "    <tr>\n",
       "      <th>/p/gpfs1/iopp/temp/montage/2854964/5/run</th>\n",
       "      <td>14650030765</td>\n",
       "    </tr>\n",
       "  </tbody>\n",
       "</table>\n",
       "<p>99 rows × 1 columns</p>\n",
       "</div>"
      ],
      "text/plain": [
       "                                                  size\n",
       "file_dir                                              \n",
       "                                                     0\n",
       "/p/gpfs1/iopp/temp/montage                           0\n",
       "/p/gpfs1/iopp/temp/montage/2854964                   0\n",
       "/p/gpfs1/iopp/temp/montage/2854964/30         24072977\n",
       "/p/gpfs1/iopp/temp/montage/2854964/7          72092250\n",
       "...                                                ...\n",
       "/p/gpfs1/iopp/temp/montage/2854964/6/run    1421042712\n",
       "/p/gpfs1/iopp/temp/montage/2854964/0/run    3254544638\n",
       "/p/gpfs1/iopp/temp/montage/2854964/25/run   4237098833\n",
       "/p/gpfs1/iopp/temp/montage/2854964/1/run    8194391946\n",
       "/p/gpfs1/iopp/temp/montage/2854964/5/run   14650030765\n",
       "\n",
       "[99 rows x 1 columns]"
      ]
     },
     "execution_count": 34,
     "metadata": {},
     "output_type": "execute_result"
    },
    {
     "name": "stdout",
     "output_type": "stream",
     "text": [
      "time: 15 s (started: 2023-06-21 15:29:23 -07:00)\n"
     ]
    }
   ],
   "source": [
    "all_view['file_dir'] = all_view['file_name'].apply(lambda x: '/'.join(x.split('/')[:-1]))\n",
    "all_view.groupby(['file_dir']).agg({'size': sum}).sort_values('size').compute()"
   ]
  },
  {
   "cell_type": "code",
   "execution_count": 37,
   "metadata": {},
   "outputs": [
    {
     "data": {
      "text/html": [
       "<div>\n",
       "<style scoped>\n",
       "    .dataframe tbody tr th:only-of-type {\n",
       "        vertical-align: middle;\n",
       "    }\n",
       "\n",
       "    .dataframe tbody tr th {\n",
       "        vertical-align: top;\n",
       "    }\n",
       "\n",
       "    .dataframe thead th {\n",
       "        text-align: right;\n",
       "    }\n",
       "</style>\n",
       "<table border=\"1\" class=\"dataframe\">\n",
       "  <thead>\n",
       "    <tr style=\"text-align: right;\">\n",
       "      <th></th>\n",
       "      <th>index</th>\n",
       "      <th>proc</th>\n",
       "      <th>rank</th>\n",
       "      <th>thread_id</th>\n",
       "      <th>cat</th>\n",
       "      <th>io_cat</th>\n",
       "      <th>tstart</th>\n",
       "      <th>tend</th>\n",
       "      <th>func_id</th>\n",
       "      <th>level</th>\n",
       "      <th>...</th>\n",
       "      <th>file_name</th>\n",
       "      <th>size</th>\n",
       "      <th>acc_pat</th>\n",
       "      <th>bandwidth</th>\n",
       "      <th>duration</th>\n",
       "      <th>tmid</th>\n",
       "      <th>file_id</th>\n",
       "      <th>proc_id</th>\n",
       "      <th>file_dir</th>\n",
       "      <th>file_dir_id</th>\n",
       "    </tr>\n",
       "  </thead>\n",
       "  <tbody>\n",
       "    <tr>\n",
       "      <th>0</th>\n",
       "      <td>1</td>\n",
       "      <td>111084</td>\n",
       "      <td>0</td>\n",
       "      <td>314672</td>\n",
       "      <td>0</td>\n",
       "      <td>3</td>\n",
       "      <td>0.242405</td>\n",
       "      <td>0.242414</td>\n",
       "      <td>__xstat64</td>\n",
       "      <td>0</td>\n",
       "      <td>...</td>\n",
       "      <td>/p/gpfs1/iopp/temp/montage/2854964/2</td>\n",
       "      <td>0</td>\n",
       "      <td>0</td>\n",
       "      <td>0.000000</td>\n",
       "      <td>0.000009</td>\n",
       "      <td>2424094</td>\n",
       "      <td>1571755611461267775</td>\n",
       "      <td>-4245390515581891276</td>\n",
       "      <td>/p/gpfs1/iopp/temp/montage/2854964</td>\n",
       "      <td>1571755608527339520</td>\n",
       "    </tr>\n",
       "    <tr>\n",
       "      <th>1</th>\n",
       "      <td>2</td>\n",
       "      <td>111084</td>\n",
       "      <td>0</td>\n",
       "      <td>314672</td>\n",
       "      <td>0</td>\n",
       "      <td>3</td>\n",
       "      <td>0.242502</td>\n",
       "      <td>0.242732</td>\n",
       "      <td>fopen64</td>\n",
       "      <td>0</td>\n",
       "      <td>...</td>\n",
       "      <td>/p/gpfs1/iopp/temp/montage/2854964/2/run/Kimag...</td>\n",
       "      <td>0</td>\n",
       "      <td>0</td>\n",
       "      <td>0.000000</td>\n",
       "      <td>0.000230</td>\n",
       "      <td>2426168</td>\n",
       "      <td>7638324191939094055</td>\n",
       "      <td>-4245390515581891276</td>\n",
       "      <td>/p/gpfs1/iopp/temp/montage/2854964/2/run</td>\n",
       "      <td>7638324191741083648</td>\n",
       "    </tr>\n",
       "    <tr>\n",
       "      <th>2</th>\n",
       "      <td>3</td>\n",
       "      <td>111084</td>\n",
       "      <td>0</td>\n",
       "      <td>314672</td>\n",
       "      <td>0</td>\n",
       "      <td>3</td>\n",
       "      <td>0.242851</td>\n",
       "      <td>0.242868</td>\n",
       "      <td>opendir</td>\n",
       "      <td>0</td>\n",
       "      <td>...</td>\n",
       "      <td>/p/gpfs1/iopp/temp/montage/2854964/2</td>\n",
       "      <td>0</td>\n",
       "      <td>0</td>\n",
       "      <td>0.000000</td>\n",
       "      <td>0.000017</td>\n",
       "      <td>2428593</td>\n",
       "      <td>1571755611461267775</td>\n",
       "      <td>-4245390515581891276</td>\n",
       "      <td>/p/gpfs1/iopp/temp/montage/2854964</td>\n",
       "      <td>1571755608527339520</td>\n",
       "    </tr>\n",
       "    <tr>\n",
       "      <th>3</th>\n",
       "      <td>4</td>\n",
       "      <td>111084</td>\n",
       "      <td>0</td>\n",
       "      <td>314672</td>\n",
       "      <td>0</td>\n",
       "      <td>3</td>\n",
       "      <td>0.242946</td>\n",
       "      <td>0.242956</td>\n",
       "      <td>__xstat64</td>\n",
       "      <td>0</td>\n",
       "      <td>...</td>\n",
       "      <td>/p/gpfs1/iopp/temp/montage/2854964/2</td>\n",
       "      <td>0</td>\n",
       "      <td>0</td>\n",
       "      <td>0.000000</td>\n",
       "      <td>0.000010</td>\n",
       "      <td>2429507</td>\n",
       "      <td>1571755611461267775</td>\n",
       "      <td>-4245390515581891276</td>\n",
       "      <td>/p/gpfs1/iopp/temp/montage/2854964</td>\n",
       "      <td>1571755608527339520</td>\n",
       "    </tr>\n",
       "    <tr>\n",
       "      <th>4</th>\n",
       "      <td>5</td>\n",
       "      <td>111084</td>\n",
       "      <td>0</td>\n",
       "      <td>314672</td>\n",
       "      <td>0</td>\n",
       "      <td>3</td>\n",
       "      <td>0.243006</td>\n",
       "      <td>0.243016</td>\n",
       "      <td>__xstat64</td>\n",
       "      <td>0</td>\n",
       "      <td>...</td>\n",
       "      <td>/p/gpfs1/iopp/temp/montage/2854964</td>\n",
       "      <td>0</td>\n",
       "      <td>0</td>\n",
       "      <td>0.000000</td>\n",
       "      <td>0.000010</td>\n",
       "      <td>2430107</td>\n",
       "      <td>5347462497940582382</td>\n",
       "      <td>-4245390515581891276</td>\n",
       "      <td>/p/gpfs1/iopp/temp/montage</td>\n",
       "      <td>5347462496607272960</td>\n",
       "    </tr>\n",
       "    <tr>\n",
       "      <th>...</th>\n",
       "      <td>...</td>\n",
       "      <td>...</td>\n",
       "      <td>...</td>\n",
       "      <td>...</td>\n",
       "      <td>...</td>\n",
       "      <td>...</td>\n",
       "      <td>...</td>\n",
       "      <td>...</td>\n",
       "      <td>...</td>\n",
       "      <td>...</td>\n",
       "      <td>...</td>\n",
       "      <td>...</td>\n",
       "      <td>...</td>\n",
       "      <td>...</td>\n",
       "      <td>...</td>\n",
       "      <td>...</td>\n",
       "      <td>...</td>\n",
       "      <td>...</td>\n",
       "      <td>...</td>\n",
       "      <td>...</td>\n",
       "      <td>...</td>\n",
       "    </tr>\n",
       "    <tr>\n",
       "      <th>235304</th>\n",
       "      <td>2332457</td>\n",
       "      <td>41731</td>\n",
       "      <td>31</td>\n",
       "      <td>317888</td>\n",
       "      <td>0</td>\n",
       "      <td>2</td>\n",
       "      <td>1.604730</td>\n",
       "      <td>1.604747</td>\n",
       "      <td>fwrite</td>\n",
       "      <td>0</td>\n",
       "      <td>...</td>\n",
       "      <td>/p/gpfs1/iopp/temp/montage/2854964/1/run/ngc33...</td>\n",
       "      <td>96920</td>\n",
       "      <td>0</td>\n",
       "      <td>5469.237793</td>\n",
       "      <td>0.000017</td>\n",
       "      <td>16047384</td>\n",
       "      <td>7686174940287124680</td>\n",
       "      <td>8238577613900339652</td>\n",
       "      <td>/p/gpfs1/iopp/temp/montage/2854964/1/run</td>\n",
       "      <td>7686174937781895168</td>\n",
       "    </tr>\n",
       "    <tr>\n",
       "      <th>235305</th>\n",
       "      <td>2332458</td>\n",
       "      <td>41731</td>\n",
       "      <td>31</td>\n",
       "      <td>317888</td>\n",
       "      <td>0</td>\n",
       "      <td>2</td>\n",
       "      <td>1.604971</td>\n",
       "      <td>1.604992</td>\n",
       "      <td>fwrite</td>\n",
       "      <td>0</td>\n",
       "      <td>...</td>\n",
       "      <td>/p/gpfs1/iopp/temp/montage/2854964/1/run/ngc33...</td>\n",
       "      <td>96920</td>\n",
       "      <td>0</td>\n",
       "      <td>4359.911133</td>\n",
       "      <td>0.000021</td>\n",
       "      <td>16049814</td>\n",
       "      <td>7686174937900816169</td>\n",
       "      <td>8238577613900339652</td>\n",
       "      <td>/p/gpfs1/iopp/temp/montage/2854964/1/run</td>\n",
       "      <td>7686174937781895168</td>\n",
       "    </tr>\n",
       "    <tr>\n",
       "      <th>235306</th>\n",
       "      <td>2332459</td>\n",
       "      <td>41731</td>\n",
       "      <td>31</td>\n",
       "      <td>317888</td>\n",
       "      <td>0</td>\n",
       "      <td>3</td>\n",
       "      <td>1.605062</td>\n",
       "      <td>1.605241</td>\n",
       "      <td>fclose</td>\n",
       "      <td>0</td>\n",
       "      <td>...</td>\n",
       "      <td>/p/gpfs1/iopp/temp/montage/2854964/1/run/ngc33...</td>\n",
       "      <td>0</td>\n",
       "      <td>0</td>\n",
       "      <td>0.000000</td>\n",
       "      <td>0.000179</td>\n",
       "      <td>16051513</td>\n",
       "      <td>7686174940287124680</td>\n",
       "      <td>8238577613900339652</td>\n",
       "      <td>/p/gpfs1/iopp/temp/montage/2854964/1/run</td>\n",
       "      <td>7686174937781895168</td>\n",
       "    </tr>\n",
       "    <tr>\n",
       "      <th>235307</th>\n",
       "      <td>2332460</td>\n",
       "      <td>41731</td>\n",
       "      <td>31</td>\n",
       "      <td>317888</td>\n",
       "      <td>0</td>\n",
       "      <td>3</td>\n",
       "      <td>1.605244</td>\n",
       "      <td>1.605379</td>\n",
       "      <td>fclose</td>\n",
       "      <td>0</td>\n",
       "      <td>...</td>\n",
       "      <td>/p/gpfs1/iopp/temp/montage/2854964/1/run/ngc33...</td>\n",
       "      <td>0</td>\n",
       "      <td>0</td>\n",
       "      <td>0.000000</td>\n",
       "      <td>0.000135</td>\n",
       "      <td>16053112</td>\n",
       "      <td>7686174937900816169</td>\n",
       "      <td>8238577613900339652</td>\n",
       "      <td>/p/gpfs1/iopp/temp/montage/2854964/1/run</td>\n",
       "      <td>7686174937781895168</td>\n",
       "    </tr>\n",
       "    <tr>\n",
       "      <th>235308</th>\n",
       "      <td>2332461</td>\n",
       "      <td>41731</td>\n",
       "      <td>31</td>\n",
       "      <td>317888</td>\n",
       "      <td>2</td>\n",
       "      <td>0</td>\n",
       "      <td>1.605384</td>\n",
       "      <td>2.291897</td>\n",
       "      <td>MPI_Barrier</td>\n",
       "      <td>0</td>\n",
       "      <td>...</td>\n",
       "      <td>UNKNOWN</td>\n",
       "      <td>0</td>\n",
       "      <td>0</td>\n",
       "      <td>0.000000</td>\n",
       "      <td>0.686513</td>\n",
       "      <td>19486403</td>\n",
       "      <td>0</td>\n",
       "      <td>0</td>\n",
       "      <td></td>\n",
       "      <td>0</td>\n",
       "    </tr>\n",
       "  </tbody>\n",
       "</table>\n",
       "<p>6989131 rows × 23 columns</p>\n",
       "</div>"
      ],
      "text/plain": [
       "          index    proc  rank  thread_id  cat  io_cat    tstart      tend  \\\n",
       "0             1  111084     0     314672    0       3  0.242405  0.242414   \n",
       "1             2  111084     0     314672    0       3  0.242502  0.242732   \n",
       "2             3  111084     0     314672    0       3  0.242851  0.242868   \n",
       "3             4  111084     0     314672    0       3  0.242946  0.242956   \n",
       "4             5  111084     0     314672    0       3  0.243006  0.243016   \n",
       "...         ...     ...   ...        ...  ...     ...       ...       ...   \n",
       "235304  2332457   41731    31     317888    0       2  1.604730  1.604747   \n",
       "235305  2332458   41731    31     317888    0       2  1.604971  1.604992   \n",
       "235306  2332459   41731    31     317888    0       3  1.605062  1.605241   \n",
       "235307  2332460   41731    31     317888    0       3  1.605244  1.605379   \n",
       "235308  2332461   41731    31     317888    2       0  1.605384  2.291897   \n",
       "\n",
       "            func_id  level  ...  \\\n",
       "0         __xstat64      0  ...   \n",
       "1           fopen64      0  ...   \n",
       "2           opendir      0  ...   \n",
       "3         __xstat64      0  ...   \n",
       "4         __xstat64      0  ...   \n",
       "...             ...    ...  ...   \n",
       "235304       fwrite      0  ...   \n",
       "235305       fwrite      0  ...   \n",
       "235306       fclose      0  ...   \n",
       "235307       fclose      0  ...   \n",
       "235308  MPI_Barrier      0  ...   \n",
       "\n",
       "                                                file_name   size acc_pat  \\\n",
       "0                    /p/gpfs1/iopp/temp/montage/2854964/2      0       0   \n",
       "1       /p/gpfs1/iopp/temp/montage/2854964/2/run/Kimag...      0       0   \n",
       "2                    /p/gpfs1/iopp/temp/montage/2854964/2      0       0   \n",
       "3                    /p/gpfs1/iopp/temp/montage/2854964/2      0       0   \n",
       "4                      /p/gpfs1/iopp/temp/montage/2854964      0       0   \n",
       "...                                                   ...    ...     ...   \n",
       "235304  /p/gpfs1/iopp/temp/montage/2854964/1/run/ngc33...  96920       0   \n",
       "235305  /p/gpfs1/iopp/temp/montage/2854964/1/run/ngc33...  96920       0   \n",
       "235306  /p/gpfs1/iopp/temp/montage/2854964/1/run/ngc33...      0       0   \n",
       "235307  /p/gpfs1/iopp/temp/montage/2854964/1/run/ngc33...      0       0   \n",
       "235308                                            UNKNOWN      0       0   \n",
       "\n",
       "          bandwidth  duration      tmid              file_id  \\\n",
       "0          0.000000  0.000009   2424094  1571755611461267775   \n",
       "1          0.000000  0.000230   2426168  7638324191939094055   \n",
       "2          0.000000  0.000017   2428593  1571755611461267775   \n",
       "3          0.000000  0.000010   2429507  1571755611461267775   \n",
       "4          0.000000  0.000010   2430107  5347462497940582382   \n",
       "...             ...       ...       ...                  ...   \n",
       "235304  5469.237793  0.000017  16047384  7686174940287124680   \n",
       "235305  4359.911133  0.000021  16049814  7686174937900816169   \n",
       "235306     0.000000  0.000179  16051513  7686174940287124680   \n",
       "235307     0.000000  0.000135  16053112  7686174937900816169   \n",
       "235308     0.000000  0.686513  19486403                    0   \n",
       "\n",
       "                    proc_id                                  file_dir  \\\n",
       "0      -4245390515581891276        /p/gpfs1/iopp/temp/montage/2854964   \n",
       "1      -4245390515581891276  /p/gpfs1/iopp/temp/montage/2854964/2/run   \n",
       "2      -4245390515581891276        /p/gpfs1/iopp/temp/montage/2854964   \n",
       "3      -4245390515581891276        /p/gpfs1/iopp/temp/montage/2854964   \n",
       "4      -4245390515581891276                /p/gpfs1/iopp/temp/montage   \n",
       "...                     ...                                       ...   \n",
       "235304  8238577613900339652  /p/gpfs1/iopp/temp/montage/2854964/1/run   \n",
       "235305  8238577613900339652  /p/gpfs1/iopp/temp/montage/2854964/1/run   \n",
       "235306  8238577613900339652  /p/gpfs1/iopp/temp/montage/2854964/1/run   \n",
       "235307  8238577613900339652  /p/gpfs1/iopp/temp/montage/2854964/1/run   \n",
       "235308                    0                                             \n",
       "\n",
       "                file_dir_id  \n",
       "0       1571755608527339520  \n",
       "1       7638324191741083648  \n",
       "2       1571755608527339520  \n",
       "3       1571755608527339520  \n",
       "4       5347462496607272960  \n",
       "...                     ...  \n",
       "235304  7686174937781895168  \n",
       "235305  7686174937781895168  \n",
       "235306  7686174937781895168  \n",
       "235307  7686174937781895168  \n",
       "235308                    0  \n",
       "\n",
       "[6989131 rows x 23 columns]"
      ]
     },
     "execution_count": 37,
     "metadata": {},
     "output_type": "execute_result"
    },
    {
     "name": "stdout",
     "output_type": "stream",
     "text": [
      "time: 54 s (started: 2023-06-21 15:33:21 -07:00)\n"
     ]
    }
   ],
   "source": [
    "all_view['file_dir_id'] = all_view['file_id'] & 0b0111111111111111111111111111111100000000000000000000000000000000\n",
    "all_view.compute()"
   ]
  },
  {
   "cell_type": "code",
   "execution_count": 35,
   "metadata": {},
   "outputs": [
    {
     "data": {
      "text/html": [
       "<div>\n",
       "<style scoped>\n",
       "    .dataframe tbody tr th:only-of-type {\n",
       "        vertical-align: middle;\n",
       "    }\n",
       "\n",
       "    .dataframe tbody tr th {\n",
       "        vertical-align: top;\n",
       "    }\n",
       "\n",
       "    .dataframe thead th {\n",
       "        text-align: right;\n",
       "    }\n",
       "</style>\n",
       "<table border=\"1\" class=\"dataframe\">\n",
       "  <thead>\n",
       "    <tr style=\"text-align: right;\">\n",
       "      <th></th>\n",
       "      <th>size</th>\n",
       "      <th>file_dir</th>\n",
       "    </tr>\n",
       "    <tr>\n",
       "      <th>file_dir_id</th>\n",
       "      <th></th>\n",
       "      <th></th>\n",
       "    </tr>\n",
       "  </thead>\n",
       "  <tbody>\n",
       "    <tr>\n",
       "      <th>0</th>\n",
       "      <td>0</td>\n",
       "      <td>[, , , , , , , , , , , , , , , , , , , , , , ,...</td>\n",
       "    </tr>\n",
       "    <tr>\n",
       "      <th>113104467636781056</th>\n",
       "      <td>0</td>\n",
       "      <td>[, , , , , , , , , , , , , , , , , , , , , , ,...</td>\n",
       "    </tr>\n",
       "    <tr>\n",
       "      <th>1571755608527339520</th>\n",
       "      <td>0</td>\n",
       "      <td>[/p/gpfs1/iopp/temp/montage/2854964, /p/gpfs1/...</td>\n",
       "    </tr>\n",
       "    <tr>\n",
       "      <th>5347462496607272960</th>\n",
       "      <td>0</td>\n",
       "      <td>[/p/gpfs1/iopp/temp/montage, /p/gpfs1/iopp/tem...</td>\n",
       "    </tr>\n",
       "    <tr>\n",
       "      <th>8459554455933681664</th>\n",
       "      <td>24072977</td>\n",
       "      <td>[/p/gpfs1/iopp/temp/montage/2854964/30, /p/gpf...</td>\n",
       "    </tr>\n",
       "    <tr>\n",
       "      <th>...</th>\n",
       "      <td>...</td>\n",
       "      <td>...</td>\n",
       "    </tr>\n",
       "    <tr>\n",
       "      <th>7668160539272413184</th>\n",
       "      <td>1726748997</td>\n",
       "      <td>[/p/gpfs1/iopp/temp/montage/2854964/29/run, /p...</td>\n",
       "    </tr>\n",
       "    <tr>\n",
       "      <th>7672382663923073024</th>\n",
       "      <td>3254544638</td>\n",
       "      <td>[/p/gpfs1/iopp/temp/montage/2854964/0/run, /p/...</td>\n",
       "    </tr>\n",
       "    <tr>\n",
       "      <th>7701937536477691904</th>\n",
       "      <td>4237098833</td>\n",
       "      <td>[/p/gpfs1/iopp/temp/montage/2854964/25/run, /p...</td>\n",
       "    </tr>\n",
       "    <tr>\n",
       "      <th>7686174937781895168</th>\n",
       "      <td>8194391946</td>\n",
       "      <td>[/p/gpfs1/iopp/temp/montage/2854964/1/run, /p/...</td>\n",
       "    </tr>\n",
       "    <tr>\n",
       "      <th>7639450091647926272</th>\n",
       "      <td>14650030765</td>\n",
       "      <td>[/p/gpfs1/iopp/temp/montage/2854964/5/run, /p/...</td>\n",
       "    </tr>\n",
       "  </tbody>\n",
       "</table>\n",
       "<p>93 rows × 2 columns</p>\n",
       "</div>"
      ],
      "text/plain": [
       "                            size  \\\n",
       "file_dir_id                        \n",
       "0                              0   \n",
       "113104467636781056             0   \n",
       "1571755608527339520            0   \n",
       "5347462496607272960            0   \n",
       "8459554455933681664     24072977   \n",
       "...                          ...   \n",
       "7668160539272413184   1726748997   \n",
       "7672382663923073024   3254544638   \n",
       "7701937536477691904   4237098833   \n",
       "7686174937781895168   8194391946   \n",
       "7639450091647926272  14650030765   \n",
       "\n",
       "                                                              file_dir  \n",
       "file_dir_id                                                             \n",
       "0                    [, , , , , , , , , , , , , , , , , , , , , , ,...  \n",
       "113104467636781056   [, , , , , , , , , , , , , , , , , , , , , , ,...  \n",
       "1571755608527339520  [/p/gpfs1/iopp/temp/montage/2854964, /p/gpfs1/...  \n",
       "5347462496607272960  [/p/gpfs1/iopp/temp/montage, /p/gpfs1/iopp/tem...  \n",
       "8459554455933681664  [/p/gpfs1/iopp/temp/montage/2854964/30, /p/gpf...  \n",
       "...                                                                ...  \n",
       "7668160539272413184  [/p/gpfs1/iopp/temp/montage/2854964/29/run, /p...  \n",
       "7672382663923073024  [/p/gpfs1/iopp/temp/montage/2854964/0/run, /p/...  \n",
       "7701937536477691904  [/p/gpfs1/iopp/temp/montage/2854964/25/run, /p...  \n",
       "7686174937781895168  [/p/gpfs1/iopp/temp/montage/2854964/1/run, /p/...  \n",
       "7639450091647926272  [/p/gpfs1/iopp/temp/montage/2854964/5/run, /p/...  \n",
       "\n",
       "[93 rows x 2 columns]"
      ]
     },
     "execution_count": 35,
     "metadata": {},
     "output_type": "execute_result"
    },
    {
     "name": "stdout",
     "output_type": "stream",
     "text": [
      "time: 26.5 s (started: 2023-06-21 15:30:23 -07:00)\n"
     ]
    }
   ],
   "source": [
    "all_view['file_dir_id'] = all_view['file_id'] & 0b0111111111111111111111111111111100000000000000000000000000000000\n",
    "all_view.groupby(['file_dir_id']).agg({'size': sum, 'file_dir': list}).sort_values('size').compute()"
   ]
  },
  {
   "cell_type": "code",
   "execution_count": 87,
   "metadata": {},
   "outputs": [
    {
     "data": {
      "text/plain": [
       "6989131"
      ]
     },
     "execution_count": 87,
     "metadata": {},
     "output_type": "execute_result"
    },
    {
     "name": "stdout",
     "output_type": "stream",
     "text": [
      "time: 4.73 s (started: 2023-06-21 16:18:28 -07:00)\n"
     ]
    }
   ],
   "source": [
    "all_view.index.count().compute()"
   ]
  },
  {
   "cell_type": "code",
   "execution_count": 112,
   "metadata": {},
   "outputs": [
    {
     "name": "stdout",
     "output_type": "stream",
     "text": [
      "time: 697 ms (started: 2023-06-21 16:45:58 -07:00)\n"
     ]
    }
   ],
   "source": [
    "!mv /p/vast1/iopp/recorder_app_logs/montage/nodes-32/_parquet/global.json ../"
   ]
  },
  {
   "cell_type": "code",
   "execution_count": 27,
   "metadata": {},
   "outputs": [
    {
     "data": {
      "text/html": [
       "<div>\n",
       "<style scoped>\n",
       "    .dataframe tbody tr th:only-of-type {\n",
       "        vertical-align: middle;\n",
       "    }\n",
       "\n",
       "    .dataframe tbody tr th {\n",
       "        vertical-align: top;\n",
       "    }\n",
       "\n",
       "    .dataframe thead th {\n",
       "        text-align: right;\n",
       "    }\n",
       "</style>\n",
       "<table border=\"1\" class=\"dataframe\">\n",
       "  <thead>\n",
       "    <tr style=\"text-align: right;\">\n",
       "      <th></th>\n",
       "      <th>index</th>\n",
       "      <th>proc</th>\n",
       "      <th>rank</th>\n",
       "      <th>thread_id</th>\n",
       "      <th>cat</th>\n",
       "      <th>io_cat</th>\n",
       "      <th>tstart</th>\n",
       "      <th>tend</th>\n",
       "      <th>func_id</th>\n",
       "      <th>level</th>\n",
       "      <th>...</th>\n",
       "      <th>app</th>\n",
       "      <th>proc_name</th>\n",
       "      <th>file_name</th>\n",
       "      <th>size</th>\n",
       "      <th>acc_pat</th>\n",
       "      <th>bandwidth</th>\n",
       "      <th>duration</th>\n",
       "      <th>tmid</th>\n",
       "      <th>file_id</th>\n",
       "      <th>proc_id</th>\n",
       "    </tr>\n",
       "  </thead>\n",
       "  <tbody>\n",
       "    <tr>\n",
       "      <th>0</th>\n",
       "      <td>1</td>\n",
       "      <td>111084</td>\n",
       "      <td>0</td>\n",
       "      <td>314672</td>\n",
       "      <td>0</td>\n",
       "      <td>3</td>\n",
       "      <td>0.242405</td>\n",
       "      <td>0.242414</td>\n",
       "      <td>__xstat64</td>\n",
       "      <td>0</td>\n",
       "      <td>...</td>\n",
       "      <td>mImgtbl</td>\n",
       "      <td>mImgtbl#lassen247#111084#35184372403504</td>\n",
       "      <td>/p/gpfs1/iopp/temp/montage/2854964/2</td>\n",
       "      <td>0</td>\n",
       "      <td>0</td>\n",
       "      <td>0.000000</td>\n",
       "      <td>0.000009</td>\n",
       "      <td>2424094</td>\n",
       "      <td>1571755611461267775</td>\n",
       "      <td>-4245390515581891276</td>\n",
       "    </tr>\n",
       "    <tr>\n",
       "      <th>1</th>\n",
       "      <td>2</td>\n",
       "      <td>111084</td>\n",
       "      <td>0</td>\n",
       "      <td>314672</td>\n",
       "      <td>0</td>\n",
       "      <td>3</td>\n",
       "      <td>0.242502</td>\n",
       "      <td>0.242732</td>\n",
       "      <td>fopen64</td>\n",
       "      <td>0</td>\n",
       "      <td>...</td>\n",
       "      <td>mImgtbl</td>\n",
       "      <td>mImgtbl#lassen247#111084#35184372403504</td>\n",
       "      <td>/p/gpfs1/iopp/temp/montage/2854964/2/run/Kimag...</td>\n",
       "      <td>0</td>\n",
       "      <td>0</td>\n",
       "      <td>0.000000</td>\n",
       "      <td>0.000230</td>\n",
       "      <td>2426168</td>\n",
       "      <td>7638324191939094055</td>\n",
       "      <td>-4245390515581891276</td>\n",
       "    </tr>\n",
       "    <tr>\n",
       "      <th>2</th>\n",
       "      <td>3</td>\n",
       "      <td>111084</td>\n",
       "      <td>0</td>\n",
       "      <td>314672</td>\n",
       "      <td>0</td>\n",
       "      <td>3</td>\n",
       "      <td>0.242851</td>\n",
       "      <td>0.242868</td>\n",
       "      <td>opendir</td>\n",
       "      <td>0</td>\n",
       "      <td>...</td>\n",
       "      <td>mImgtbl</td>\n",
       "      <td>mImgtbl#lassen247#111084#35184372403504</td>\n",
       "      <td>/p/gpfs1/iopp/temp/montage/2854964/2</td>\n",
       "      <td>0</td>\n",
       "      <td>0</td>\n",
       "      <td>0.000000</td>\n",
       "      <td>0.000017</td>\n",
       "      <td>2428593</td>\n",
       "      <td>1571755611461267775</td>\n",
       "      <td>-4245390515581891276</td>\n",
       "    </tr>\n",
       "    <tr>\n",
       "      <th>3</th>\n",
       "      <td>4</td>\n",
       "      <td>111084</td>\n",
       "      <td>0</td>\n",
       "      <td>314672</td>\n",
       "      <td>0</td>\n",
       "      <td>3</td>\n",
       "      <td>0.242946</td>\n",
       "      <td>0.242956</td>\n",
       "      <td>__xstat64</td>\n",
       "      <td>0</td>\n",
       "      <td>...</td>\n",
       "      <td>mImgtbl</td>\n",
       "      <td>mImgtbl#lassen247#111084#35184372403504</td>\n",
       "      <td>/p/gpfs1/iopp/temp/montage/2854964/2</td>\n",
       "      <td>0</td>\n",
       "      <td>0</td>\n",
       "      <td>0.000000</td>\n",
       "      <td>0.000010</td>\n",
       "      <td>2429507</td>\n",
       "      <td>1571755611461267775</td>\n",
       "      <td>-4245390515581891276</td>\n",
       "    </tr>\n",
       "    <tr>\n",
       "      <th>4</th>\n",
       "      <td>5</td>\n",
       "      <td>111084</td>\n",
       "      <td>0</td>\n",
       "      <td>314672</td>\n",
       "      <td>0</td>\n",
       "      <td>3</td>\n",
       "      <td>0.243006</td>\n",
       "      <td>0.243016</td>\n",
       "      <td>__xstat64</td>\n",
       "      <td>0</td>\n",
       "      <td>...</td>\n",
       "      <td>mImgtbl</td>\n",
       "      <td>mImgtbl#lassen247#111084#35184372403504</td>\n",
       "      <td>/p/gpfs1/iopp/temp/montage/2854964</td>\n",
       "      <td>0</td>\n",
       "      <td>0</td>\n",
       "      <td>0.000000</td>\n",
       "      <td>0.000010</td>\n",
       "      <td>2430107</td>\n",
       "      <td>5347462497940582382</td>\n",
       "      <td>-4245390515581891276</td>\n",
       "    </tr>\n",
       "    <tr>\n",
       "      <th>...</th>\n",
       "      <td>...</td>\n",
       "      <td>...</td>\n",
       "      <td>...</td>\n",
       "      <td>...</td>\n",
       "      <td>...</td>\n",
       "      <td>...</td>\n",
       "      <td>...</td>\n",
       "      <td>...</td>\n",
       "      <td>...</td>\n",
       "      <td>...</td>\n",
       "      <td>...</td>\n",
       "      <td>...</td>\n",
       "      <td>...</td>\n",
       "      <td>...</td>\n",
       "      <td>...</td>\n",
       "      <td>...</td>\n",
       "      <td>...</td>\n",
       "      <td>...</td>\n",
       "      <td>...</td>\n",
       "      <td>...</td>\n",
       "      <td>...</td>\n",
       "    </tr>\n",
       "    <tr>\n",
       "      <th>6989126</th>\n",
       "      <td>2332457</td>\n",
       "      <td>41731</td>\n",
       "      <td>31</td>\n",
       "      <td>317888</td>\n",
       "      <td>0</td>\n",
       "      <td>2</td>\n",
       "      <td>1.604730</td>\n",
       "      <td>1.604747</td>\n",
       "      <td>fwrite</td>\n",
       "      <td>0</td>\n",
       "      <td>...</td>\n",
       "      <td>mAddMPI</td>\n",
       "      <td>mAddMPI#lassen246#41731#35184372406720</td>\n",
       "      <td>/p/gpfs1/iopp/temp/montage/2854964/1/run/ngc33...</td>\n",
       "      <td>96920</td>\n",
       "      <td>0</td>\n",
       "      <td>5469.237793</td>\n",
       "      <td>0.000017</td>\n",
       "      <td>16047384</td>\n",
       "      <td>7686174940287124680</td>\n",
       "      <td>8238577613900339652</td>\n",
       "    </tr>\n",
       "    <tr>\n",
       "      <th>6989127</th>\n",
       "      <td>2332458</td>\n",
       "      <td>41731</td>\n",
       "      <td>31</td>\n",
       "      <td>317888</td>\n",
       "      <td>0</td>\n",
       "      <td>2</td>\n",
       "      <td>1.604971</td>\n",
       "      <td>1.604992</td>\n",
       "      <td>fwrite</td>\n",
       "      <td>0</td>\n",
       "      <td>...</td>\n",
       "      <td>mAddMPI</td>\n",
       "      <td>mAddMPI#lassen246#41731#35184372406720</td>\n",
       "      <td>/p/gpfs1/iopp/temp/montage/2854964/1/run/ngc33...</td>\n",
       "      <td>96920</td>\n",
       "      <td>0</td>\n",
       "      <td>4359.911133</td>\n",
       "      <td>0.000021</td>\n",
       "      <td>16049814</td>\n",
       "      <td>7686174937900816169</td>\n",
       "      <td>8238577613900339652</td>\n",
       "    </tr>\n",
       "    <tr>\n",
       "      <th>6989128</th>\n",
       "      <td>2332459</td>\n",
       "      <td>41731</td>\n",
       "      <td>31</td>\n",
       "      <td>317888</td>\n",
       "      <td>0</td>\n",
       "      <td>3</td>\n",
       "      <td>1.605062</td>\n",
       "      <td>1.605241</td>\n",
       "      <td>fclose</td>\n",
       "      <td>0</td>\n",
       "      <td>...</td>\n",
       "      <td>mAddMPI</td>\n",
       "      <td>mAddMPI#lassen246#41731#35184372406720</td>\n",
       "      <td>/p/gpfs1/iopp/temp/montage/2854964/1/run/ngc33...</td>\n",
       "      <td>0</td>\n",
       "      <td>0</td>\n",
       "      <td>0.000000</td>\n",
       "      <td>0.000179</td>\n",
       "      <td>16051513</td>\n",
       "      <td>7686174940287124680</td>\n",
       "      <td>8238577613900339652</td>\n",
       "    </tr>\n",
       "    <tr>\n",
       "      <th>6989129</th>\n",
       "      <td>2332460</td>\n",
       "      <td>41731</td>\n",
       "      <td>31</td>\n",
       "      <td>317888</td>\n",
       "      <td>0</td>\n",
       "      <td>3</td>\n",
       "      <td>1.605244</td>\n",
       "      <td>1.605379</td>\n",
       "      <td>fclose</td>\n",
       "      <td>0</td>\n",
       "      <td>...</td>\n",
       "      <td>mAddMPI</td>\n",
       "      <td>mAddMPI#lassen246#41731#35184372406720</td>\n",
       "      <td>/p/gpfs1/iopp/temp/montage/2854964/1/run/ngc33...</td>\n",
       "      <td>0</td>\n",
       "      <td>0</td>\n",
       "      <td>0.000000</td>\n",
       "      <td>0.000135</td>\n",
       "      <td>16053112</td>\n",
       "      <td>7686174937900816169</td>\n",
       "      <td>8238577613900339652</td>\n",
       "    </tr>\n",
       "    <tr>\n",
       "      <th>6989130</th>\n",
       "      <td>2332461</td>\n",
       "      <td>41731</td>\n",
       "      <td>31</td>\n",
       "      <td>317888</td>\n",
       "      <td>2</td>\n",
       "      <td>0</td>\n",
       "      <td>1.605384</td>\n",
       "      <td>2.291897</td>\n",
       "      <td>MPI_Barrier</td>\n",
       "      <td>0</td>\n",
       "      <td>...</td>\n",
       "      <td>mAddMPI</td>\n",
       "      <td>UNKNOWN</td>\n",
       "      <td>UNKNOWN</td>\n",
       "      <td>0</td>\n",
       "      <td>0</td>\n",
       "      <td>0.000000</td>\n",
       "      <td>0.686513</td>\n",
       "      <td>19486403</td>\n",
       "      <td>0</td>\n",
       "      <td>0</td>\n",
       "    </tr>\n",
       "  </tbody>\n",
       "</table>\n",
       "<p>6989131 rows × 21 columns</p>\n",
       "</div>"
      ],
      "text/plain": [
       "           index    proc  rank  thread_id  cat  io_cat    tstart      tend  \\\n",
       "0              1  111084     0     314672    0       3  0.242405  0.242414   \n",
       "1              2  111084     0     314672    0       3  0.242502  0.242732   \n",
       "2              3  111084     0     314672    0       3  0.242851  0.242868   \n",
       "3              4  111084     0     314672    0       3  0.242946  0.242956   \n",
       "4              5  111084     0     314672    0       3  0.243006  0.243016   \n",
       "...          ...     ...   ...        ...  ...     ...       ...       ...   \n",
       "6989126  2332457   41731    31     317888    0       2  1.604730  1.604747   \n",
       "6989127  2332458   41731    31     317888    0       2  1.604971  1.604992   \n",
       "6989128  2332459   41731    31     317888    0       3  1.605062  1.605241   \n",
       "6989129  2332460   41731    31     317888    0       3  1.605244  1.605379   \n",
       "6989130  2332461   41731    31     317888    2       0  1.605384  2.291897   \n",
       "\n",
       "             func_id  level  ...      app  \\\n",
       "0          __xstat64      0  ...  mImgtbl   \n",
       "1            fopen64      0  ...  mImgtbl   \n",
       "2            opendir      0  ...  mImgtbl   \n",
       "3          __xstat64      0  ...  mImgtbl   \n",
       "4          __xstat64      0  ...  mImgtbl   \n",
       "...              ...    ...  ...      ...   \n",
       "6989126       fwrite      0  ...  mAddMPI   \n",
       "6989127       fwrite      0  ...  mAddMPI   \n",
       "6989128       fclose      0  ...  mAddMPI   \n",
       "6989129       fclose      0  ...  mAddMPI   \n",
       "6989130  MPI_Barrier      0  ...  mAddMPI   \n",
       "\n",
       "                                       proc_name  \\\n",
       "0        mImgtbl#lassen247#111084#35184372403504   \n",
       "1        mImgtbl#lassen247#111084#35184372403504   \n",
       "2        mImgtbl#lassen247#111084#35184372403504   \n",
       "3        mImgtbl#lassen247#111084#35184372403504   \n",
       "4        mImgtbl#lassen247#111084#35184372403504   \n",
       "...                                          ...   \n",
       "6989126   mAddMPI#lassen246#41731#35184372406720   \n",
       "6989127   mAddMPI#lassen246#41731#35184372406720   \n",
       "6989128   mAddMPI#lassen246#41731#35184372406720   \n",
       "6989129   mAddMPI#lassen246#41731#35184372406720   \n",
       "6989130                                  UNKNOWN   \n",
       "\n",
       "                                                 file_name   size  acc_pat  \\\n",
       "0                     /p/gpfs1/iopp/temp/montage/2854964/2      0        0   \n",
       "1        /p/gpfs1/iopp/temp/montage/2854964/2/run/Kimag...      0        0   \n",
       "2                     /p/gpfs1/iopp/temp/montage/2854964/2      0        0   \n",
       "3                     /p/gpfs1/iopp/temp/montage/2854964/2      0        0   \n",
       "4                       /p/gpfs1/iopp/temp/montage/2854964      0        0   \n",
       "...                                                    ...    ...      ...   \n",
       "6989126  /p/gpfs1/iopp/temp/montage/2854964/1/run/ngc33...  96920        0   \n",
       "6989127  /p/gpfs1/iopp/temp/montage/2854964/1/run/ngc33...  96920        0   \n",
       "6989128  /p/gpfs1/iopp/temp/montage/2854964/1/run/ngc33...      0        0   \n",
       "6989129  /p/gpfs1/iopp/temp/montage/2854964/1/run/ngc33...      0        0   \n",
       "6989130                                            UNKNOWN      0        0   \n",
       "\n",
       "           bandwidth  duration      tmid              file_id  \\\n",
       "0           0.000000  0.000009   2424094  1571755611461267775   \n",
       "1           0.000000  0.000230   2426168  7638324191939094055   \n",
       "2           0.000000  0.000017   2428593  1571755611461267775   \n",
       "3           0.000000  0.000010   2429507  1571755611461267775   \n",
       "4           0.000000  0.000010   2430107  5347462497940582382   \n",
       "...              ...       ...       ...                  ...   \n",
       "6989126  5469.237793  0.000017  16047384  7686174940287124680   \n",
       "6989127  4359.911133  0.000021  16049814  7686174937900816169   \n",
       "6989128     0.000000  0.000179  16051513  7686174940287124680   \n",
       "6989129     0.000000  0.000135  16053112  7686174937900816169   \n",
       "6989130     0.000000  0.686513  19486403                    0   \n",
       "\n",
       "                     proc_id  \n",
       "0       -4245390515581891276  \n",
       "1       -4245390515581891276  \n",
       "2       -4245390515581891276  \n",
       "3       -4245390515581891276  \n",
       "4       -4245390515581891276  \n",
       "...                      ...  \n",
       "6989126  8238577613900339652  \n",
       "6989127  8238577613900339652  \n",
       "6989128  8238577613900339652  \n",
       "6989129  8238577613900339652  \n",
       "6989130                    0  \n",
       "\n",
       "[6989131 rows x 21 columns]"
      ]
     },
     "execution_count": 27,
     "metadata": {},
     "output_type": "execute_result"
    },
    {
     "name": "stdout",
     "output_type": "stream",
     "text": [
      "time: 19.4 s (started: 2023-07-03 19:57:28 -07:00)\n"
     ]
    }
   ],
   "source": [
    "log_dir2 = \"/p/vast1/iopp/recorder_app_logs/montage/nodes-32/_parquet\"\n",
    "all_view2 = pd.read_parquet(f\"{log_dir2}\")\n",
    "all_view2"
   ]
  },
  {
   "cell_type": "markdown",
   "metadata": {},
   "source": [
    "### Data preparation"
   ]
  },
  {
   "cell_type": "code",
   "execution_count": 28,
   "metadata": {},
   "outputs": [
    {
     "name": "stdout",
     "output_type": "stream",
     "text": [
      "time: 1.03 ms (started: 2023-07-03 19:57:48 -07:00)\n"
     ]
    }
   ],
   "source": [
    "all_view_200k = all_view2.loc[:200_000]\n",
    "all_view_1m = all_view2.loc[:1_000_000]\n",
    "all_view_5m = all_view2.loc[:5_000_000]"
   ]
  },
  {
   "cell_type": "markdown",
   "metadata": {},
   "source": [
    "### Iteration "
   ]
  },
  {
   "cell_type": "code",
   "execution_count": 29,
   "metadata": {},
   "outputs": [
    {
     "name": "stdout",
     "output_type": "stream",
     "text": [
      "1.15 s ± 14.8 ms per loop (mean ± std. dev. of 10 runs, 1 loop each)\n",
      "time: 11.5 s (started: 2023-07-03 19:57:48 -07:00)\n"
     ]
    }
   ],
   "source": [
    "%%timeit -r 10 -n 1\n",
    "\n",
    "size = 0\n",
    "for row in all_view_200k.itertuples():\n",
    "    size = size + getattr(row, 'size')\n",
    "# size"
   ]
  },
  {
   "cell_type": "code",
   "execution_count": 30,
   "metadata": {},
   "outputs": [
    {
     "name": "stdout",
     "output_type": "stream",
     "text": [
      "5.72 s ± 47.3 ms per loop (mean ± std. dev. of 10 runs, 1 loop each)\n",
      "time: 57.2 s (started: 2023-07-03 19:57:59 -07:00)\n"
     ]
    }
   ],
   "source": [
    "%%timeit -r 10 -n 1\n",
    "\n",
    "size = 0\n",
    "for row in all_view_1m.itertuples():\n",
    "    size = size + getattr(row, 'size')\n",
    "# size"
   ]
  },
  {
   "cell_type": "code",
   "execution_count": 31,
   "metadata": {},
   "outputs": [
    {
     "name": "stdout",
     "output_type": "stream",
     "text": [
      "29.1 s ± 1.12 s per loop (mean ± std. dev. of 10 runs, 1 loop each)\n",
      "time: 4min 51s (started: 2023-07-03 19:58:56 -07:00)\n"
     ]
    }
   ],
   "source": [
    "%%timeit -r 10 -n 1\n",
    "\n",
    "size = 0\n",
    "for row in all_view_5m.itertuples():\n",
    "    size = size + getattr(row, 'size')\n",
    "# size"
   ]
  },
  {
   "cell_type": "code",
   "execution_count": 32,
   "metadata": {},
   "outputs": [
    {
     "name": "stdout",
     "output_type": "stream",
     "text": [
      "Architecture:          ppc64le\n",
      "Byte Order:            Little Endian\n",
      "CPU(s):                128\n",
      "On-line CPU(s) list:   0-127\n",
      "Thread(s) per core:    4\n",
      "Core(s) per socket:    16\n",
      "Socket(s):             2\n",
      "NUMA node(s):          6\n",
      "Model:                 2.1 (pvr 004e 1201)\n",
      "Model name:            POWER9, altivec supported\n",
      "CPU max MHz:           3800.0000\n",
      "CPU min MHz:           2300.0000\n",
      "L1d cache:             32K\n",
      "L1i cache:             32K\n",
      "L2 cache:              512K\n",
      "L3 cache:              10240K\n",
      "NUMA node0 CPU(s):     0-63\n",
      "NUMA node8 CPU(s):     64-127\n",
      "NUMA node252 CPU(s):   \n",
      "NUMA node253 CPU(s):   \n",
      "NUMA node254 CPU(s):   \n",
      "NUMA node255 CPU(s):   \n",
      "time: 278 ms (started: 2023-07-03 20:03:47 -07:00)\n"
     ]
    }
   ],
   "source": [
    "!lscpu "
   ]
  },
  {
   "cell_type": "code",
   "execution_count": 109,
   "metadata": {},
   "outputs": [
    {
     "data": {
      "text/plain": [
       "6989131"
      ]
     },
     "execution_count": 109,
     "metadata": {},
     "output_type": "execute_result"
    },
    {
     "name": "stdout",
     "output_type": "stream",
     "text": [
      "time: 4.76 s (started: 2023-06-21 16:43:48 -07:00)\n"
     ]
    }
   ],
   "source": [
    "all_view_5m.index.count().compute()"
   ]
  },
  {
   "cell_type": "markdown",
   "metadata": {},
   "source": [
    "## Eval IV: Preprocessing - Query on raw vs. preprocessed data"
   ]
  },
  {
   "cell_type": "code",
   "execution_count": 33,
   "metadata": {},
   "outputs": [
    {
     "name": "stdout",
     "output_type": "stream",
     "text": [
      "time: 2.38 ms (started: 2023-07-03 20:03:48 -07:00)\n"
     ]
    }
   ],
   "source": [
    "def find_func(df):\n",
    "    t0 = time()\n",
    "    cond = (df['func_id'].str.contains('read')) | (df['func_id'].str.contains('write'))\n",
    "    df[cond]\n",
    "    t1 = time()\n",
    "    df[~cond]\n",
    "    t2 = time() - t1\n",
    "    print(f\"data,{t1-t0}\")\n",
    "    print(f\"metadata,{t2}\")\n",
    "\n",
    "\n",
    "def find_func2(df):\n",
    "    t0 = time()\n",
    "    df[df['io_cat'].isin([1, 2])]\n",
    "    t1 = time()\n",
    "    df[df['io_cat'] == 3]\n",
    "    t2 = time() - t1\n",
    "    print(f\"data,{t1-t0}\")\n",
    "    print(f\"metadata,{t2}\")"
   ]
  },
  {
   "cell_type": "code",
   "execution_count": 34,
   "metadata": {},
   "outputs": [
    {
     "name": "stdout",
     "output_type": "stream",
     "text": [
      "data,0.35185909271240234\n",
      "metadata,0.003263711929321289\n",
      "data,0.33129191398620605\n",
      "metadata,0.0036649703979492188\n",
      "data,0.32831907272338867\n",
      "metadata,0.003201007843017578\n",
      "data,0.33491039276123047\n",
      "metadata,0.003296375274658203\n",
      "data,0.3273313045501709\n",
      "metadata,0.0032303333282470703\n",
      "data,0.3390803337097168\n",
      "metadata,0.003599405288696289\n",
      "data,0.34233856201171875\n",
      "metadata,0.003646373748779297\n",
      "data,0.3277597427368164\n",
      "metadata,0.0032143592834472656\n",
      "data,0.32671451568603516\n",
      "metadata,0.003208160400390625\n",
      "data,0.3285980224609375\n",
      "metadata,0.003377676010131836\n",
      "337 ms ± 7.93 ms per loop (mean ± std. dev. of 10 runs, 1 loop each)\n",
      "time: 3.38 s (started: 2023-07-03 20:03:48 -07:00)\n"
     ]
    }
   ],
   "source": [
    "%%timeit -r 10 -n 1\n",
    "\n",
    "find_func(all_view_200k)"
   ]
  },
  {
   "cell_type": "code",
   "execution_count": 35,
   "metadata": {},
   "outputs": [
    {
     "name": "stdout",
     "output_type": "stream",
     "text": [
      "data,0.022030115127563477\n",
      "metadata,0.0036873817443847656\n",
      "data,0.02002429962158203\n",
      "metadata,0.0027441978454589844\n",
      "data,0.01863884925842285\n",
      "metadata,0.0034470558166503906\n",
      "data,0.02010059356689453\n",
      "metadata,0.0031795501708984375\n",
      "data,0.02104496955871582\n",
      "metadata,0.004355430603027344\n",
      "data,0.01938605308532715\n",
      "metadata,0.0030698776245117188\n",
      "data,0.018854379653930664\n",
      "metadata,0.0032660961151123047\n",
      "data,0.018665313720703125\n",
      "metadata,0.0031821727752685547\n",
      "data,0.019803285598754883\n",
      "metadata,0.0032045841217041016\n",
      "data,0.019085168838500977\n",
      "metadata,0.0037970542907714844\n",
      "23.2 ms ± 1.29 ms per loop (mean ± std. dev. of 10 runs, 1 loop each)\n",
      "time: 235 ms (started: 2023-07-03 20:03:51 -07:00)\n"
     ]
    }
   ],
   "source": [
    "%%timeit -r 10 -n 1\n",
    "\n",
    "find_func2(all_view_200k)"
   ]
  },
  {
   "cell_type": "code",
   "execution_count": 36,
   "metadata": {},
   "outputs": [
    {
     "name": "stdout",
     "output_type": "stream",
     "text": [
      "data,1.7351508140563965\n",
      "metadata,0.005721569061279297\n",
      "data,1.6270883083343506\n",
      "metadata,0.007005214691162109\n",
      "data,1.6432061195373535\n",
      "metadata,0.006081104278564453\n",
      "data,1.6307802200317383\n",
      "metadata,0.00590968132019043\n",
      "data,1.6365070343017578\n",
      "metadata,0.006067514419555664\n",
      "data,1.6450905799865723\n",
      "metadata,0.00578618049621582\n",
      "data,1.6401088237762451\n",
      "metadata,0.00562286376953125\n",
      "data,1.6610126495361328\n",
      "metadata,0.0061435699462890625\n",
      "data,1.6280241012573242\n",
      "metadata,0.006081104278564453\n",
      "data,1.628856897354126\n",
      "metadata,0.005987882614135742\n",
      "1.65 s ± 30.8 ms per loop (mean ± std. dev. of 10 runs, 1 loop each)\n",
      "time: 16.5 s (started: 2023-07-03 20:03:51 -07:00)\n"
     ]
    }
   ],
   "source": [
    "%%timeit -r 10 -n 1\n",
    "\n",
    "find_func(all_view_1m)"
   ]
  },
  {
   "cell_type": "code",
   "execution_count": 37,
   "metadata": {},
   "outputs": [
    {
     "name": "stdout",
     "output_type": "stream",
     "text": [
      "data,0.10647368431091309\n",
      "metadata,0.006810665130615234\n",
      "data,0.10039424896240234\n",
      "metadata,0.005963802337646484\n",
      "data,0.10053801536560059\n",
      "metadata,0.005600452423095703\n",
      "data,0.10324645042419434\n",
      "metadata,0.005883455276489258\n",
      "data,0.10418081283569336\n",
      "metadata,0.0061914920806884766\n",
      "data,0.10621500015258789\n",
      "metadata,0.005346059799194336\n",
      "data,0.10210371017456055\n",
      "metadata,0.0074040889739990234\n",
      "data,0.10138583183288574\n",
      "metadata,0.005728721618652344\n",
      "data,0.10110235214233398\n",
      "metadata,0.006037473678588867\n",
      "data,0.1017918586730957\n",
      "metadata,0.005674600601196289\n",
      "109 ms ± 2.28 ms per loop (mean ± std. dev. of 10 runs, 1 loop each)\n",
      "time: 1.09 s (started: 2023-07-03 20:04:08 -07:00)\n"
     ]
    }
   ],
   "source": [
    "%%timeit -r 10 -n 1\n",
    "\n",
    "find_func2(all_view_1m)"
   ]
  },
  {
   "cell_type": "code",
   "execution_count": 38,
   "metadata": {},
   "outputs": [
    {
     "name": "stdout",
     "output_type": "stream",
     "text": [
      "data,8.539624452590942\n",
      "metadata,0.0176241397857666\n",
      "data,8.196680068969727\n",
      "metadata,0.01795673370361328\n",
      "data,8.175743341445923\n",
      "metadata,0.018639326095581055\n",
      "data,8.227416038513184\n",
      "metadata,0.020246267318725586\n",
      "data,8.241168975830078\n",
      "metadata,0.021834850311279297\n",
      "data,8.216010570526123\n",
      "metadata,0.019608020782470703\n",
      "data,8.247225761413574\n",
      "metadata,0.01794600486755371\n",
      "data,8.247453451156616\n",
      "metadata,0.019954681396484375\n",
      "data,8.19602346420288\n",
      "metadata,0.01918196678161621\n",
      "data,8.186300039291382\n",
      "metadata,0.01942276954650879\n",
      "8.27 s ± 100 ms per loop (mean ± std. dev. of 10 runs, 1 loop each)\n",
      "time: 1min 22s (started: 2023-07-03 20:04:09 -07:00)\n"
     ]
    }
   ],
   "source": [
    "%%timeit -r 10 -n 1\n",
    "\n",
    "find_func(all_view_5m)"
   ]
  },
  {
   "cell_type": "code",
   "execution_count": 39,
   "metadata": {},
   "outputs": [
    {
     "name": "stdout",
     "output_type": "stream",
     "text": [
      "data,0.5460391044616699\n",
      "metadata,0.015449285507202148\n",
      "data,0.5322365760803223\n",
      "metadata,0.016766786575317383\n",
      "data,0.534451961517334\n",
      "metadata,0.016060829162597656\n",
      "data,0.539341926574707\n",
      "metadata,0.015818119049072266\n",
      "data,0.5393798351287842\n",
      "metadata,0.017310142517089844\n",
      "data,0.54140305519104\n",
      "metadata,0.016079187393188477\n",
      "data,0.5332987308502197\n",
      "metadata,0.01547861099243164\n",
      "data,0.5393416881561279\n",
      "metadata,0.016664743423461914\n",
      "data,0.5380587577819824\n",
      "metadata,0.017776012420654297\n",
      "data,0.5386464595794678\n",
      "metadata,0.01598978042602539\n",
      "555 ms ± 3.84 ms per loop (mean ± std. dev. of 10 runs, 1 loop each)\n",
      "time: 5.55 s (started: 2023-07-03 20:05:32 -07:00)\n"
     ]
    }
   ],
   "source": [
    "%%timeit -r 10 -n 1\n",
    "\n",
    "find_func2(all_view_5m)"
   ]
  },
  {
   "cell_type": "code",
   "execution_count": 171,
   "metadata": {},
   "outputs": [
    {
     "name": "stdout",
     "output_type": "stream",
     "text": [
      "time: 2.31 ms (started: 2023-06-21 17:20:27 -07:00)\n"
     ]
    }
   ],
   "source": [
    "def calc_hlm_view(ddf, persist=False):\n",
    "    t0 = time()\n",
    "    hlm_view = ddf[(ddf['cat'] == 0) & (ddf['io_cat'].isin([1, 2, 3]))] \\\n",
    "        .groupby(['file_id']) \\\n",
    "        .agg({\n",
    "            'index': 'count',\n",
    "            'duration': sum,\n",
    "            'size': sum,\n",
    "        }) \\\n",
    "        .reset_index()\n",
    "    t1 = time()\n",
    "    if persist:\n",
    "        hlm_view = hlm_view.persist()\n",
    "        # wait(hlm_view)\n",
    "    t2 = time()\n",
    "    hlm_view['bw'] = hlm_view['size'] / hlm_view['duration']\n",
    "    hlm_view['bw_norm'] = hlm_view['bw'] / hlm_view['bw'].sum()\n",
    "    hlm_view['intensity'] = hlm_view['bw'] / hlm_view['index']\n",
    "    hlm_view['dur_per'] = hlm_view['duration'] / hlm_view['duration'].max()\n",
    "    final_view = hlm_view.compute()\n",
    "    t3 = time()\n",
    "    print(f\"q1,{t1-t0}\")\n",
    "    print(f\"persist,{t2-t1}\")\n",
    "    print(f\"q2,{t3-t2}\")"
   ]
  },
  {
   "cell_type": "code",
   "execution_count": 142,
   "metadata": {},
   "outputs": [
    {
     "name": "stdout",
     "output_type": "stream",
     "text": [
      "time: 9.88 s (started: 2023-06-21 17:08:22 -07:00)\n"
     ]
    }
   ],
   "source": [
    "all_view_200k_ddf = dd.from_pandas(all_view_200k, npartitions=20)\n",
    "all_view_1m_ddf = dd.from_pandas(all_view_1m, npartitions=100)\n",
    "all_view_5m_ddf = dd.from_pandas(all_view_5m, npartitions=500)"
   ]
  },
  {
   "cell_type": "code",
   "execution_count": 144,
   "metadata": {},
   "outputs": [
    {
     "name": "stdout",
     "output_type": "stream",
     "text": [
      "time: 1min 32s (started: 2023-06-21 17:09:50 -07:00)\n"
     ]
    }
   ],
   "source": [
    "all_view_25m_ddf = dd.from_pandas(dd.concat([all_view_5m_ddf]*5).compute(), npartitions=2500)"
   ]
  },
  {
   "cell_type": "code",
   "execution_count": 172,
   "metadata": {},
   "outputs": [
    {
     "name": "stdout",
     "output_type": "stream",
     "text": [
      "q1,0.037634849548339844\n",
      "persist,2.384185791015625e-07\n",
      "q2,0.3123667240142822\n",
      "time: 351 ms (started: 2023-06-21 17:20:31 -07:00)\n"
     ]
    }
   ],
   "source": [
    "calc_hlm_view(all_view_200k_ddf)"
   ]
  },
  {
   "cell_type": "code",
   "execution_count": 173,
   "metadata": {},
   "outputs": [
    {
     "name": "stdout",
     "output_type": "stream",
     "text": [
      "q1,0.02421855926513672\n",
      "persist,0.014767646789550781\n",
      "q2,0.31082749366760254\n",
      "time: 351 ms (started: 2023-06-21 17:20:34 -07:00)\n"
     ]
    }
   ],
   "source": [
    "calc_hlm_view(all_view_200k_ddf, True)"
   ]
  },
  {
   "cell_type": "code",
   "execution_count": 174,
   "metadata": {},
   "outputs": [
    {
     "name": "stdout",
     "output_type": "stream",
     "text": [
      "q1,0.0230865478515625\n",
      "persist,4.76837158203125e-07\n",
      "q2,0.886458158493042\n",
      "time: 911 ms (started: 2023-06-21 17:20:35 -07:00)\n"
     ]
    }
   ],
   "source": [
    "calc_hlm_view(all_view_1m_ddf)"
   ]
  },
  {
   "cell_type": "code",
   "execution_count": 175,
   "metadata": {},
   "outputs": [
    {
     "name": "stdout",
     "output_type": "stream",
     "text": [
      "q1,0.02448439598083496\n",
      "persist,0.03750467300415039\n",
      "q2,1.170438528060913\n",
      "time: 1.23 s (started: 2023-06-21 17:20:37 -07:00)\n"
     ]
    }
   ],
   "source": [
    "calc_hlm_view(all_view_1m_ddf, True)"
   ]
  },
  {
   "cell_type": "code",
   "execution_count": 176,
   "metadata": {},
   "outputs": [
    {
     "name": "stdout",
     "output_type": "stream",
     "text": [
      "q1,0.025345563888549805\n",
      "persist,4.76837158203125e-07\n",
      "q2,3.9722607135772705\n",
      "time: 4 s (started: 2023-06-21 17:20:40 -07:00)\n"
     ]
    }
   ],
   "source": [
    "calc_hlm_view(all_view_5m_ddf)"
   ]
  },
  {
   "cell_type": "code",
   "execution_count": 177,
   "metadata": {},
   "outputs": [
    {
     "name": "stdout",
     "output_type": "stream",
     "text": [
      "q1,0.024511098861694336\n",
      "persist,0.14873647689819336\n",
      "q2,3.4780001640319824\n",
      "time: 3.65 s (started: 2023-06-21 17:20:44 -07:00)\n"
     ]
    }
   ],
   "source": [
    "calc_hlm_view(all_view_5m_ddf, True)"
   ]
  },
  {
   "cell_type": "code",
   "execution_count": 178,
   "metadata": {},
   "outputs": [
    {
     "name": "stdout",
     "output_type": "stream",
     "text": [
      "q1,0.06383562088012695\n",
      "persist,4.76837158203125e-07\n",
      "q2,23.824289083480835\n",
      "time: 23.9 s (started: 2023-06-21 17:20:47 -07:00)\n"
     ]
    }
   ],
   "source": [
    "calc_hlm_view(all_view_25m_ddf)"
   ]
  },
  {
   "cell_type": "code",
   "execution_count": 179,
   "metadata": {},
   "outputs": [
    {
     "name": "stdout",
     "output_type": "stream",
     "text": [
      "q1,1.176560878753662\n",
      "persist,0.6906352043151855\n",
      "q2,23.874505758285522\n",
      "time: 25.7 s (started: 2023-06-21 17:21:11 -07:00)\n"
     ]
    }
   ],
   "source": [
    "calc_hlm_view(all_view_25m_ddf, True)"
   ]
  }
 ],
 "metadata": {
  "kernelspec": {
   "display_name": "venv-quartz2",
   "language": "python",
   "name": "python3"
  },
  "language_info": {
   "codemirror_mode": {
    "name": "ipython",
    "version": 3
   },
   "file_extension": ".py",
   "mimetype": "text/x-python",
   "name": "python",
   "nbconvert_exporter": "python",
   "pygments_lexer": "ipython3",
   "version": "3.9.12"
  }
 },
 "nbformat": 4,
 "nbformat_minor": 2
}

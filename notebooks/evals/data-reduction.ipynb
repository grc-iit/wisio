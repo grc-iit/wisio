{
 "cells": [
  {
   "cell_type": "code",
   "execution_count": 1,
   "metadata": {},
   "outputs": [
    {
     "name": "stdout",
     "output_type": "stream",
     "text": [
      "time: 422 µs (started: 2023-06-14 16:28:40 -07:00)\n"
     ]
    }
   ],
   "source": [
    "%load_ext autoreload\n",
    "%load_ext autotime"
   ]
  },
  {
   "cell_type": "code",
   "execution_count": 2,
   "metadata": {},
   "outputs": [
    {
     "name": "stdout",
     "output_type": "stream",
     "text": [
      "time: 636 µs (started: 2023-06-14 16:28:40 -07:00)\n"
     ]
    }
   ],
   "source": [
    "import sys\n",
    "sys.path.append(\"../../\")"
   ]
  },
  {
   "cell_type": "code",
   "execution_count": 102,
   "metadata": {},
   "outputs": [
    {
     "name": "stdout",
     "output_type": "stream",
     "text": [
      "Overwriting test.py\n",
      "time: 4.99 ms (started: 2023-06-14 18:06:00 -07:00)\n"
     ]
    }
   ],
   "source": [
    "%%writefile test.py\n",
    "\n",
    "# import resource\n",
    "\n",
    "# rsrc = resource.RLIMIT_DATA\n",
    "# soft, hard = resource.getrlimit(rsrc)\n",
    "# print('Soft limit starts as  :', soft)\n",
    "\n",
    "# resource.setrlimit(rsrc, (4 * (1024 ** 3), hard)) #limit to one kilobyte\n",
    "\n",
    "# soft, hard = resource.getrlimit(rsrc)\n",
    "# print('Soft limit changed to :', soft)\n",
    "\n",
    "import dask.dataframe as dd\n",
    "import itertools as it\n",
    "import pandas as pd\n",
    "from time import time\n",
    "\n",
    "# rsrc = resource.RLIMIT_DATA\n",
    "# soft, hard = resource.getrlimit(rsrc)\n",
    "# resource.setrlimit(rsrc, (1024 * 1024 * 765, hard))\n",
    "# soft, hard = resource.getrlimit(rsrc)\n",
    "\n",
    "indices = ['file_name', 'proc_name', 'io_cat', 'acc_pat']\n",
    "combinations = list(it.combinations(indices, r=2))[:5]\n",
    "\n",
    "def simple_pd(log_dir):\n",
    "    print(f\",PD\")\n",
    "    df = pd.read_parquet(log_dir, engine='pyarrow')\n",
    "    query_index = 0\n",
    "    for ix in ['file_name', 'proc_name']:\n",
    "        for col in ['size', 'duration', 'index', 'bandwidth', 'io_cat']: \n",
    "            query_index += 1 \n",
    "            t1 = time()\n",
    "            df.groupby([ix]).agg({col: 'sum'})\n",
    "            time_elapsed = time() - t1\n",
    "            print(f\"simple,Q{query_index},{time_elapsed}\")\n",
    "\n",
    "\n",
    "def simple_dask(log_dir):\n",
    "    print(f\",DASK\")\n",
    "    query_index = 0\n",
    "    ddf = dd.read_parquet(f\"{log_dir}/*.parquet\", engine='pyarrow')\n",
    "    for ix in ['file_name', 'proc_name']:\n",
    "        for col in ['size', 'duration', 'index', 'bandwidth', 'io_cat']:\n",
    "            query_index += 1 \n",
    "            t1 = time()\n",
    "            ddf.groupby([ix]).agg({col: 'sum'}).compute()\n",
    "            time_elapsed = time() - t1\n",
    "            print(f\"{time_elapsed}\")\n",
    "\n",
    "\n",
    "def simple_wisio_pd(log_dir):\n",
    "    print(f\",WISIO PD\")\n",
    "    query_index = 0\n",
    "    df = pd.read_parquet(log_dir, engine='pyarrow')\n",
    "    cols = ['size', 'duration', 'index', 'bandwidth', 'io_cat']\n",
    "    agg_dict = {col: sum for col in cols}\n",
    "    for ix in ['file_name', 'proc_name']:\n",
    "        for col in cols:\n",
    "            query_index += 1 \n",
    "            t1 = time()\n",
    "            if query_index == 1:\n",
    "                x = df.groupby(['file_name', 'proc_name']).agg(agg_dict)\n",
    "            x.groupby([ix]).agg({col: 'sum'})\n",
    "            time_elapsed = time() - t1\n",
    "            print(f\"{time_elapsed}\")\n",
    "\n",
    "\n",
    "def simple_wisio_dask(log_dir):\n",
    "    print(f\",WISIO DASK\")\n",
    "    query_index = 0\n",
    "    ddf = dd.read_parquet(f\"{log_dir}/*.parquet\", engine='pyarrow')\n",
    "    cols = ['size', 'duration', 'index', 'bandwidth', 'io_cat']\n",
    "    agg_dict = {col: sum for col in cols}\n",
    "    for ix in ['file_name', 'proc_name']:\n",
    "        for col in cols:\n",
    "            query_index += 1 \n",
    "            t1 = time()\n",
    "            if query_index == 1:\n",
    "                x = ddf.groupby(['file_name', 'proc_name']).agg(agg_dict).compute()\n",
    "            x.groupby([ix]).agg({col: 'sum'})\n",
    "            time_elapsed = time() - t1\n",
    "            print(f\"{time_elapsed}\")\n",
    "\n",
    "def medium_pd(log_dir):\n",
    "    print(f\",PD\")\n",
    "    df = pd.read_parquet(log_dir, engine='pyarrow')\n",
    "    query_index = 0\n",
    "    for ix, iy in combinations:\n",
    "        for col in ['size', 'duration']:\n",
    "            query_index += 1 \n",
    "            t1 = time()\n",
    "            df.groupby([ix, iy]).agg({col: 'sum'}).groupby([ix]).sum()\n",
    "            time_elapsed = time() - t1\n",
    "            print(f\"medium,Q{query_index},{time_elapsed}\")\n",
    "            \n",
    "\n",
    "def medium_dask(log_dir):\n",
    "    print(f\",DASK\")\n",
    "    ddf = dd.read_parquet(f\"{log_dir}/*.parquet\", engine='pyarrow')\n",
    "    query_index = 0\n",
    "    for ix, iy in combinations:\n",
    "        for col in ['size', 'duration']:\n",
    "            query_index += 1 \n",
    "            t1 = time()\n",
    "            ddf.groupby([ix, iy]).agg({col: 'sum'}).groupby([ix]).sum().compute()\n",
    "            time_elapsed = time() - t1\n",
    "            print(f\"{time_elapsed}\")\n",
    "\n",
    "def medium_wisio_pd(log_dir):\n",
    "    print(f\",WISIO PD\")\n",
    "    df = pd.read_parquet(log_dir, engine='pyarrow')\n",
    "    query_index = 0\n",
    "    for ix, iy in combinations:\n",
    "        for col in ['size', 'duration']:\n",
    "            query_index += 1 \n",
    "            t1 = time()\n",
    "            if query_index == 1:\n",
    "                x = df.groupby(indices).agg({'size': sum, 'duration': sum})\n",
    "            x.groupby([ix, iy]).agg({col: 'sum'}).groupby([ix]).sum()   \n",
    "            time_elapsed = time() - t1\n",
    "            print(f\"{time_elapsed}\")\n",
    "\n",
    "def medium_wisio_dask(log_dir):\n",
    "    print(f\",WISIO DASK\")\n",
    "    ddf = dd.read_parquet(f\"{log_dir}/*.parquet\", engine='pyarrow')\n",
    "    query_index = 0\n",
    "    for ix, iy in combinations:\n",
    "        for col in ['size', 'duration']:\n",
    "            query_index += 1 \n",
    "            t1 = time()\n",
    "            if query_index == 1:\n",
    "                x = ddf.groupby(indices).agg({'size': sum, 'duration': sum}).compute()\n",
    "            x.groupby([ix, iy]).agg({col: 'sum'}).groupby([ix]).sum()\n",
    "            time_elapsed = time() - t1\n",
    "            print(f\"{time_elapsed}\")\n",
    "\n",
    "def hard_pd(log_dir):\n",
    "    print(f\",PD\")\n",
    "    df = pd.read_parquet(log_dir, engine='pyarrow')\n",
    "    query_index = 0\n",
    "    \n",
    "    # groupby(id1).agg(id2:list,col:sum) groupby(id2).agg(id1:list, col:sum) explode merge agg"
   ]
  },
  {
   "cell_type": "code",
   "execution_count": 103,
   "metadata": {},
   "outputs": [
    {
     "name": "stdout",
     "output_type": "stream",
     "text": [
      "Appending to test.py\n",
      "time: 2.8 ms (started: 2023-06-14 18:06:05 -07:00)\n"
     ]
    }
   ],
   "source": [
    "%%writefile -a test.py\n",
    "\n",
    "import sys\n",
    "\n",
    "log_dir = sys.argv[1]\n",
    "log_index = sys.argv[2]\n",
    "\n",
    "for test_type in [\n",
    "    simple_pd, \n",
    "    simple_dask, \n",
    "    simple_wisio_pd, \n",
    "    simple_wisio_dask, \n",
    "    medium_pd, \n",
    "    medium_dask, \n",
    "    medium_wisio_pd, \n",
    "    medium_wisio_dask\n",
    "]:\n",
    "    print(f\",{log_index}\")\n",
    "    # try:\n",
    "    test_type(log_dir=log_dir)\n",
    "    # except:\n",
    "    #     print('\\n'*10)\n",
    "    #     continue\n",
    "\n"
   ]
  },
  {
   "attachments": {},
   "cell_type": "markdown",
   "metadata": {},
   "source": [
    "500k Records"
   ]
  },
  {
   "cell_type": "code",
   "execution_count": 64,
   "metadata": {},
   "outputs": [
    {
     "name": "stdout",
     "output_type": "stream",
     "text": [
      "~/projects/vani-analysis-tool/venv-quartz2/bin/python\n"
     ]
    },
    {
     "name": "stdout",
     "output_type": "stream",
     "text": [
      "time: 283 ms (started: 2023-06-14 17:42:35 -07:00)\n"
     ]
    }
   ],
   "source": [
    "!which python"
   ]
  },
  {
   "cell_type": "code",
   "execution_count": 65,
   "metadata": {},
   "outputs": [
    {
     "name": "stdout",
     "output_type": "stream",
     "text": [
      "['/g/g92/izzet/projects/vani-analysis-tool/notebooks/evals', '/collab/usr/gapps/python/build/spack-toss4.1/var/spack/environments/python/._view/75prb56irmif5ejtirjthpx6kq3gqo52/lib/python39.zip', '/collab/usr/gapps/python/build/spack-toss4.1/var/spack/environments/python/._view/75prb56irmif5ejtirjthpx6kq3gqo52/lib/python3.9', '/collab/usr/gapps/python/build/spack-toss4.1/var/spack/environments/python/._view/75prb56irmif5ejtirjthpx6kq3gqo52/lib/python3.9/lib-dynload', '/g/g92/izzet/projects/vani-analysis-tool/venv-quartz2/lib/python3.9/site-packages']\n",
      "['/g/g92/izzet/projects/vani-analysis-tool/notebooks/evals', '/collab/usr/gapps/python/build/spack-toss4.1/var/spack/environments/python/._view/75prb56irmif5ejtirjthpx6kq3gqo52/lib/python39.zip', '/collab/usr/gapps/python/build/spack-toss4.1/var/spack/environments/python/._view/75prb56irmif5ejtirjthpx6kq3gqo52/lib/python3.9', '/collab/usr/gapps/python/build/spack-toss4.1/var/spack/environments/python/._view/75prb56irmif5ejtirjthpx6kq3gqo52/lib/python3.9/lib-dynload', '/g/g92/izzet/projects/vani-analysis-tool/venv-quartz2/lib/python3.9/site-packages']\n",
      "^C\n",
      "Traceback (most recent call last):\n",
      "  File \"/g/g92/izzet/projects/vani-analysis-tool/notebooks/evals/test.py\", line 2, in <module>\n",
      "    import dask.dataframe as dd\n",
      "  File \"/g/g92/izzet/projects/vani-analysis-tool/venv-quartz2/lib/python3.9/site-packages/dask/__init__.py\", line 3, in <module>\n",
      "    from .base import annotate, compute, is_dask_collection, optimize, persist, visualize\n",
      "  File \"/g/g92/izzet/projects/vani-analysis-tool/venv-quartz2/lib/python3.9/site-packages/dask/base.py\", line 12, in <module>\n",
      "    from hashlib import md5\n",
      "  File \"/collab/usr/gapps/python/build/spack-toss4.1/var/spack/environments/python/._view/75prb56irmif5ejtirjthpx6kq3gqo52/lib/python3.9/hashlib.py\", line 170, in <module>\n",
      "    import _hashlib\n",
      "KeyboardInterrupt\n",
      "['/g/g92/izzet/projects/vani-analysis-tool/notebooks/evals', '/collab/usr/gapps/python/build/spack-toss4.1/var/spack/environments/python/._view/75prb56irmif5ejtirjthpx6kq3gqo52/lib/python39.zip', '/collab/usr/gapps/python/build/spack-toss4.1/var/spack/environments/python/._view/75prb56irmif5ejtirjthpx6kq3gqo52/lib/python3.9', '/collab/usr/gapps/python/build/spack-toss4.1/var/spack/environments/python/._view/75prb56irmif5ejtirjthpx6kq3gqo52/lib/python3.9/lib-dynload', '/g/g92/izzet/projects/vani-analysis-tool/venv-quartz2/lib/python3.9/site-packages']\n",
      "['/g/g92/izzet/projects/vani-analysis-tool/notebooks/evals', '/collab/usr/gapps/python/build/spack-toss4.1/var/spack/environments/python/._view/75prb56irmif5ejtirjthpx6kq3gqo52/lib/python39.zip', '/collab/usr/gapps/python/build/spack-toss4.1/var/spack/environments/python/._view/75prb56irmif5ejtirjthpx6kq3gqo52/lib/python3.9', '/collab/usr/gapps/python/build/spack-toss4.1/var/spack/environments/python/._view/75prb56irmif5ejtirjthpx6kq3gqo52/lib/python3.9/lib-dynload', '/g/g92/izzet/projects/vani-analysis-tool/venv-quartz2/lib/python3.9/site-packages']\n",
      "['/g/g92/izzet/projects/vani-analysis-tool/notebooks/evals', '/collab/usr/gapps/python/build/spack-toss4.1/var/spack/environments/python/._view/75prb56irmif5ejtirjthpx6kq3gqo52/lib/python39.zip', '/collab/usr/gapps/python/build/spack-toss4.1/var/spack/environments/python/._view/75prb56irmif5ejtirjthpx6kq3gqo52/lib/python3.9', '/collab/usr/gapps/python/build/spack-toss4.1/var/spack/environments/python/._view/75prb56irmif5ejtirjthpx6kq3gqo52/lib/python3.9/lib-dynload', '/g/g92/izzet/projects/vani-analysis-tool/venv-quartz2/lib/python3.9/site-packages']\n",
      "['/g/g92/izzet/projects/vani-analysis-tool/notebooks/evals', '/collab/usr/gapps/python/build/spack-toss4.1/var/spack/environments/python/._view/75prb56irmif5ejtirjthpx6kq3gqo52/lib/python39.zip', '/collab/usr/gapps/python/build/spack-toss4.1/var/spack/environments/python/._view/75prb56irmif5ejtirjthpx6kq3gqo52/lib/python3.9', '/collab/usr/gapps/python/build/spack-toss4.1/var/spack/environments/python/._view/75prb56irmif5ejtirjthpx6kq3gqo52/lib/python3.9/lib-dynload', '/g/g92/izzet/projects/vani-analysis-tool/venv-quartz2/lib/python3.9/site-packages']\n",
      "['/g/g92/izzet/projects/vani-analysis-tool/notebooks/evals', '/collab/usr/gapps/python/build/spack-toss4.1/var/spack/environments/python/._view/75prb56irmif5ejtirjthpx6kq3gqo52/lib/python39.zip', '/collab/usr/gapps/python/build/spack-toss4.1/var/spack/environments/python/._view/75prb56irmif5ejtirjthpx6kq3gqo52/lib/python3.9', '/collab/usr/gapps/python/build/spack-toss4.1/var/spack/environments/python/._view/75prb56irmif5ejtirjthpx6kq3gqo52/lib/python3.9/lib-dynload', '/g/g92/izzet/projects/vani-analysis-tool/venv-quartz2/lib/python3.9/site-packages']\n",
      "['/g/g92/izzet/projects/vani-analysis-tool/notebooks/evals', '/collab/usr/gapps/python/build/spack-toss4.1/var/spack/environments/python/._view/75prb56irmif5ejtirjthpx6kq3gqo52/lib/python39.zip', '/collab/usr/gapps/python/build/spack-toss4.1/var/spack/environments/python/._view/75prb56irmif5ejtirjthpx6kq3gqo52/lib/python3.9', '/collab/usr/gapps/python/build/spack-toss4.1/var/spack/environments/python/._view/75prb56irmif5ejtirjthpx6kq3gqo52/lib/python3.9/lib-dynload', '/g/g92/izzet/projects/vani-analysis-tool/venv-quartz2/lib/python3.9/site-packages']\n",
      "['/g/g92/izzet/projects/vani-analysis-tool/notebooks/evals', '/collab/usr/gapps/python/build/spack-toss4.1/var/spack/environments/python/._view/75prb56irmif5ejtirjthpx6kq3gqo52/lib/python39.zip', '/collab/usr/gapps/python/build/spack-toss4.1/var/spack/environments/python/._view/75prb56irmif5ejtirjthpx6kq3gqo52/lib/python3.9', '/collab/usr/gapps/python/build/spack-toss4.1/var/spack/environments/python/._view/75prb56irmif5ejtirjthpx6kq3gqo52/lib/python3.9/lib-dynload', '/g/g92/izzet/projects/vani-analysis-tool/venv-quartz2/lib/python3.9/site-packages']\n",
      "['/g/g92/izzet/projects/vani-analysis-tool/notebooks/evals', '/collab/usr/gapps/python/build/spack-toss4.1/var/spack/environments/python/._view/75prb56irmif5ejtirjthpx6kq3gqo52/lib/python39.zip', '/collab/usr/gapps/python/build/spack-toss4.1/var/spack/environments/python/._view/75prb56irmif5ejtirjthpx6kq3gqo52/lib/python3.9', '/collab/usr/gapps/python/build/spack-toss4.1/var/spack/environments/python/._view/75prb56irmif5ejtirjthpx6kq3gqo52/lib/python3.9/lib-dynload', '/g/g92/izzet/projects/vani-analysis-tool/venv-quartz2/lib/python3.9/site-packages']\n",
      "1.7 s ± 390 ms per loop (mean ± std. dev. of 10 runs, 1 loop each)\n",
      "time: 18.9 s (started: 2023-06-14 17:42:36 -07:00)\n"
     ]
    }
   ],
   "source": [
    "%%timeit -r 10\n",
    "\n",
    "!python test.py '../tmp/eval-samples/data-reduction-500k-dask' '500k'"
   ]
  },
  {
   "cell_type": "code",
   "execution_count": 16,
   "metadata": {},
   "outputs": [
    {
     "name": "stdout",
     "output_type": "stream",
     "text": [
      "1.97 s ± 67 ms per loop (mean ± std. dev. of 10 runs, 1 loop each)\n",
      "time: 21.6 s (started: 2023-06-14 16:45:34 -07:00)\n"
     ]
    }
   ],
   "source": [
    "%%timeit -r 10\n",
    "\n",
    "!python test.py '../tmp/eval-samples/data-reduction-1m-dask' 'simple_dask'"
   ]
  },
  {
   "cell_type": "code",
   "execution_count": 17,
   "metadata": {},
   "outputs": [
    {
     "name": "stdout",
     "output_type": "stream",
     "text": [
      "4.47 s ± 353 ms per loop (mean ± std. dev. of 10 runs, 1 loop each)\n",
      "time: 50 s (started: 2023-06-14 16:45:56 -07:00)\n"
     ]
    }
   ],
   "source": [
    "%%timeit -r 10\n",
    "\n",
    "!python test.py '../tmp/eval-samples/data-reduction-1m-dask' 'simple_wisio_pd'"
   ]
  },
  {
   "cell_type": "code",
   "execution_count": 18,
   "metadata": {},
   "outputs": [
    {
     "name": "stdout",
     "output_type": "stream",
     "text": [
      "1.98 s ± 147 ms per loop (mean ± std. dev. of 10 runs, 1 loop each)\n",
      "time: 21.8 s (started: 2023-06-14 16:46:46 -07:00)\n"
     ]
    }
   ],
   "source": [
    "%%timeit -r 10\n",
    "\n",
    "!python test.py '../tmp/eval-samples/data-reduction-1m-dask' 'simple_wisio_dask'"
   ]
  },
  {
   "attachments": {},
   "cell_type": "markdown",
   "metadata": {},
   "source": [
    "5m Records"
   ]
  },
  {
   "cell_type": "code",
   "execution_count": 19,
   "metadata": {},
   "outputs": [
    {
     "name": "stdout",
     "output_type": "stream",
     "text": [
      "21.5 s ± 782 ms per loop (mean ± std. dev. of 10 runs, 1 loop each)\n",
      "time: 4min 9s (started: 2023-06-14 16:47:56 -07:00)\n"
     ]
    }
   ],
   "source": [
    "%%timeit -r 10\n",
    "\n",
    "!python test.py '../tmp/eval-samples/data-reduction-5m-dask' 'simple_pd'"
   ]
  },
  {
   "cell_type": "code",
   "execution_count": 29,
   "metadata": {},
   "outputs": [
    {
     "name": "stdout",
     "output_type": "stream",
     "text": [
      "58.1 s ± 1.64 s per loop (mean ± std. dev. of 10 runs, 1 loop each)\n",
      "time: 10min 36s (started: 2023-06-14 17:04:45 -07:00)\n"
     ]
    }
   ],
   "source": [
    "%%timeit -r 10\n",
    "\n",
    "!python test.py '../tmp/eval-samples/data-reduction-5m-dask' 'simple_dask'"
   ]
  },
  {
   "cell_type": "code",
   "execution_count": 21,
   "metadata": {},
   "outputs": [
    {
     "name": "stdout",
     "output_type": "stream",
     "text": [
      "15.6 s ± 1.03 s per loop (mean ± std. dev. of 10 runs, 1 loop each)\n",
      "time: 2min 51s (started: 2023-06-14 16:52:27 -07:00)\n"
     ]
    }
   ],
   "source": [
    "%%timeit -r 10\n",
    "\n",
    "!python test.py '../tmp/eval-samples/data-reduction-5m-dask' 'simple_wisio_pd'"
   ]
  },
  {
   "cell_type": "code",
   "execution_count": 26,
   "metadata": {},
   "outputs": [
    {
     "name": "stdout",
     "output_type": "stream",
     "text": [
      "8.16 s ± 167 ms per loop (mean ± std. dev. of 10 runs, 1 loop each)\n",
      "time: 1min 30s (started: 2023-06-14 17:01:56 -07:00)\n"
     ]
    }
   ],
   "source": [
    "%%timeit -r 10\n",
    "\n",
    "!python test.py '../tmp/eval-samples/data-reduction-5m-dask' 'simple_wisio_dask'"
   ]
  },
  {
   "attachments": {},
   "cell_type": "markdown",
   "metadata": {},
   "source": [
    "## Dask"
   ]
  },
  {
   "cell_type": "code",
   "execution_count": 3,
   "metadata": {},
   "outputs": [
    {
     "name": "stderr",
     "output_type": "stream",
     "text": [
      "distributed.diskutils - INFO - Found stale lock file and directory '/var/tmp/dask-recorder/cluster-0-local/dask-worker-space/worker-qv85v2gp', purging\n",
      "distributed.diskutils - INFO - Found stale lock file and directory '/var/tmp/dask-recorder/cluster-0-local/dask-worker-space/worker-y2mlan68', purging\n",
      "distributed.diskutils - INFO - Found stale lock file and directory '/var/tmp/dask-recorder/cluster-0-local/dask-worker-space/worker-aujtvm72', purging\n",
      "distributed.diskutils - INFO - Found stale lock file and directory '/var/tmp/dask-recorder/cluster-0-local/dask-worker-space/worker-34ab2lp1', purging\n"
     ]
    },
    {
     "data": {
      "text/plain": [
       "<wisio.recorder.RecorderAnalyzer at 0x155540cea280>"
      ]
     },
     "execution_count": 3,
     "metadata": {},
     "output_type": "execute_result"
    },
    {
     "name": "stdout",
     "output_type": "stream",
     "text": [
      "time: 4.28 s (started: 2023-06-12 12:43:00 -07:00)\n"
     ]
    }
   ],
   "source": [
    "%autoreload 2\n",
    "\n",
    "from wisio.recorder import RecorderAnalyzer\n",
    "from wisio.rules import Rule\n",
    "from wisio._recorder.rules import RecorderRuleEngine\n",
    "\n",
    "recorder_analyzer = RecorderAnalyzer(\n",
    "    cluster_manager_args=dict(\n",
    "        force_local=True,\n",
    "        cluster_settings=dict(\n",
    "            cores=4,\n",
    "            dashboard_port=3660,\n",
    "            local_directory=\"/var/tmp/dask-recorder\",\n",
    "            log_file=\"%J.log\",\n",
    "            worker_queue=\"pdebug\"\n",
    "        )\n",
    "    ),\n",
    "    working_dir='.recorder',\n",
    "    debug=True\n",
    ") \n",
    "\n",
    "recorder_analyzer"
   ]
  },
  {
   "cell_type": "code",
   "execution_count": 53,
   "metadata": {},
   "outputs": [
    {
     "name": "stdout",
     "output_type": "stream",
     "text": [
      "time: 1.8 ms (started: 2023-06-12 13:38:56 -07:00)\n"
     ]
    }
   ],
   "source": [
    "def analyze_dask_small_writes(log_dir: str, view_type: str, checkpoint=True):\n",
    "    main_view, views, bottlenecks = recorder_analyzer.analyze_parquet(\n",
    "        log_dir=log_dir,\n",
    "        checkpoint=checkpoint,\n",
    "        desired_view_names=[view_type],\n",
    "    )\n",
    "\n",
    "    rule_engine = RecorderRuleEngine(rules={view_type: [Rule.BOTT_SMALL_WRITES]})\n",
    "\n",
    "    characteristics = rule_engine.process_characteristics(view=main_view)\n",
    "\n",
    "    processed_bottlenecks = rule_engine.process_bottlenecks(bottlenecks=bottlenecks, characteristics=characteristics, threshold=0.5)\n",
    "\n",
    "    return main_view, views, characteristics, processed_bottlenecks\n",
    "\n",
    "def analyze_dask_metadata_access(log_dir: str, view_type: str, checkpoint=True):\n",
    "    main_view, views, bottlenecks = recorder_analyzer.analyze_parquet(\n",
    "        log_dir=log_dir,\n",
    "        checkpoint=checkpoint,\n",
    "        desired_view_names=[view_type],\n",
    "    )\n",
    "\n",
    "    rule_engine = RecorderRuleEngine(rules={view_type: [Rule.BOTT_METADATA_ACCESS]})\n",
    "\n",
    "    characteristics = rule_engine.process_characteristics(view=main_view)\n",
    "\n",
    "    processed_bottlenecks = rule_engine.process_bottlenecks(bottlenecks=bottlenecks, characteristics=characteristics, threshold=0.01)\n",
    "\n",
    "    return main_view, views, characteristics, processed_bottlenecks"
   ]
  },
  {
   "attachments": {},
   "cell_type": "markdown",
   "metadata": {},
   "source": [
    "### File-based - Small Writes - 1m Records"
   ]
  },
  {
   "cell_type": "code",
   "execution_count": 20,
   "metadata": {},
   "outputs": [
    {
     "name": "stdout",
     "output_type": "stream",
     "text": [
      "44M\t../tmp/eval-samples/data-reduction-1m-dask/part.1.parquet\n",
      "40M\t../tmp/eval-samples/data-reduction-1m-dask/part.5.parquet\n",
      "44M\t../tmp/eval-samples/data-reduction-1m-dask/part.0.parquet\n",
      "43M\t../tmp/eval-samples/data-reduction-1m-dask/part.4.parquet\n",
      "0\t../tmp/eval-samples/data-reduction-1m-dask/global.json\n",
      "44M\t../tmp/eval-samples/data-reduction-1m-dask/part.3.parquet\n",
      "43M\t../tmp/eval-samples/data-reduction-1m-dask/part.2.parquet\n",
      "16K\t../tmp/eval-samples/data-reduction-1m-dask/_metadata\n",
      "4.0K\t../tmp/eval-samples/data-reduction-1m-dask/_common_metadata\n",
      "740K\t../tmp/eval-samples/data-reduction-1m-dask/checkpoints/_main_view/part.0.parquet\n",
      "12K\t../tmp/eval-samples/data-reduction-1m-dask/checkpoints/_main_view/_metadata\n",
      "8.0K\t../tmp/eval-samples/data-reduction-1m-dask/checkpoints/_main_view/_common_metadata\n",
      "764K\t../tmp/eval-samples/data-reduction-1m-dask/checkpoints/_main_view\n",
      "700K\t../tmp/eval-samples/data-reduction-1m-dask/checkpoints/file_name/part.0.parquet\n",
      "12K\t../tmp/eval-samples/data-reduction-1m-dask/checkpoints/file_name/_metadata\n",
      "8.0K\t../tmp/eval-samples/data-reduction-1m-dask/checkpoints/file_name/_common_metadata\n",
      "724K\t../tmp/eval-samples/data-reduction-1m-dask/checkpoints/file_name\n",
      "1.5M\t../tmp/eval-samples/data-reduction-1m-dask/checkpoints\n",
      "257M\t../tmp/eval-samples/data-reduction-1m-dask\n",
      "time: 308 ms (started: 2023-06-12 13:08:21 -07:00)\n"
     ]
    }
   ],
   "source": [
    "!du -ah ../tmp/eval-samples/data-reduction-1m-dask"
   ]
  },
  {
   "attachments": {},
   "cell_type": "markdown",
   "metadata": {},
   "source": [
    "#### Without Checkpointing"
   ]
  },
  {
   "cell_type": "code",
   "execution_count": 38,
   "metadata": {},
   "outputs": [
    {
     "name": "stderr",
     "output_type": "stream",
     "text": [
      "/g/g92/izzet/projects/vani-analysis-tool/notebooks/evals/../../wisio/_recorder/rules.py:121: SettingWithCopyWarning: \n",
      "A value is trying to be set on a copy of a slice from a DataFrame.\n",
      "Try using .loc[row_indexer,col_indexer] = value instead\n",
      "\n",
      "See the caveats in the documentation: https://pandas.pydata.org/pandas-docs/stable/user_guide/indexing.html#returning-a-view-versus-a-copy\n",
      "  xfer_bins[per_col] = xfer_bins[count_col] / xfer_bins[count_col].sum()\n"
     ]
    },
    {
     "name": "stdout",
     "output_type": "stream",
     "text": [
      "2.24 s ± 430 ms per loop (mean ± std. dev. of 10 runs, 1 loop each)\n",
      "time: 25.6 s (started: 2023-06-12 13:31:07 -07:00)\n"
     ]
    }
   ],
   "source": [
    "%%timeit -r 10\n",
    "\n",
    "main_view, views, characteristics, bottlenecks = analyze_dask_small_writes(log_dir='../tmp/eval-samples/data-reduction-1m-dask', view_type='file_name', checkpoint=False)"
   ]
  },
  {
   "attachments": {},
   "cell_type": "markdown",
   "metadata": {},
   "source": [
    "#### With Checkpointing"
   ]
  },
  {
   "attachments": {},
   "cell_type": "markdown",
   "metadata": {},
   "source": [
    "Create checkpoints"
   ]
  },
  {
   "cell_type": "code",
   "execution_count": 39,
   "metadata": {},
   "outputs": [
    {
     "name": "stdout",
     "output_type": "stream",
     "text": [
      "time: 741 ms (started: 2023-06-12 13:33:15 -07:00)\n"
     ]
    }
   ],
   "source": [
    "main_view, views, characteristics, bottlenecks = analyze_dask_small_writes(log_dir='../tmp/eval-samples/data-reduction-1m-dask', view_type='file_name', checkpoint=True)"
   ]
  },
  {
   "attachments": {},
   "cell_type": "markdown",
   "metadata": {},
   "source": [
    "Do the actual analysis"
   ]
  },
  {
   "cell_type": "code",
   "execution_count": 5,
   "metadata": {},
   "outputs": [
    {
     "name": "stderr",
     "output_type": "stream",
     "text": [
      "/g/g92/izzet/projects/vani-analysis-tool/notebooks/evals/../../wisio/_recorder/rules.py:121: SettingWithCopyWarning: \n",
      "A value is trying to be set on a copy of a slice from a DataFrame.\n",
      "Try using .loc[row_indexer,col_indexer] = value instead\n",
      "\n",
      "See the caveats in the documentation: https://pandas.pydata.org/pandas-docs/stable/user_guide/indexing.html#returning-a-view-versus-a-copy\n",
      "  xfer_bins[per_col] = xfer_bins[count_col] / xfer_bins[count_col].sum()\n"
     ]
    },
    {
     "name": "stdout",
     "output_type": "stream",
     "text": [
      "909 ms ± 235 ms per loop (mean ± std. dev. of 10 runs, 1 loop each)\n",
      "time: 14.3 s (started: 2023-06-12 12:43:04 -07:00)\n"
     ]
    }
   ],
   "source": [
    "%%timeit -r 10\n",
    "\n",
    "main_view, views, characteristics, bottlenecks = analyze_dask_small_writes(log_dir='../tmp/eval-samples/data-reduction-1m-dask', view_type='file_name')"
   ]
  },
  {
   "attachments": {},
   "cell_type": "markdown",
   "metadata": {},
   "source": [
    "List bottlenecks"
   ]
  },
  {
   "cell_type": "code",
   "execution_count": 35,
   "metadata": {},
   "outputs": [
    {
     "data": {
      "text/plain": [
       "{('file_name',): {<Rule.BOTT_SMALL_WRITES: 212>: {'/p/gpfs1/iopp/temp/montage/2854964/5/run/ngc3372.fits': RuleResult(data_dict={'llc': {'duration_sum': 0.56511009982205, 'index_count': 1888, 'size_min': 172352, 'size_max': 172352, 'size_sum': 324021760, 'read_time': 0.0, 'write_time': 0.5644265998198534, 'metadata_time': 0.0006835000021965243, 'read_size': 0, 'write_size': 324021760, 'metadata_size': 0, 'read_count': 0, 'write_count': 1880, 'metadata_count': 8, 'read_min': 0, 'read_max': 0, 'write_min': 344704, 'write_max': 344704, 'metadata_min': 0, 'metadata_max': 0, 'data_count': 1880, 'data_size': 324021760, 'data_time': 0.5644265998198534, 'sequential_time': 0.5644265998198534, 'random_time': 0.0, 'sequential_size': 324021760, 'random_size': 0, 'sequential_count': 1880, 'random_count': 0, 'close_time': 0.0003333999993628822, 'open_time': 0.00035010000283364207, 'seek_time': 0.0, 'stat_time': 0.0, 'close_count': 4, 'open_count': 4, 'seek_count': 0, 'stat_count': 0, 'duration_pero': 0.7923141995200133, 'duration_perr': 0.06626528764925264, 'duration_score': 'very high', 'duration_th': 0.75}, 'proc_name_list': ['mAddMPI#lassen576#16133#35184372406720'], 'trange_list': [1, 2]}, description=\"'/p/gpfs1/iopp/temp/montage/2854964/5/run/ngc3372.fits' is accessed by 1 process(es) during the 1-2th second(s) has an I/O time of 0.57 seconds which is 79.23% of overall I/O time of the workload.\", detail_list=None, reasons=[RuleReason(description=\"'write' time is 99.88% (0.56 seconds) of I/O time.\", value=0.9987905011741751), RuleReason(description='Average I/O accesses are 167.60 KB, which is smaller than 256.0 KB', value=171621.69491525425)], rule=<Rule.BOTT_SMALL_WRITES: 212>, value=0.9987905011741751, value_fmt='99.88%')}}}"
      ]
     },
     "execution_count": 35,
     "metadata": {},
     "output_type": "execute_result"
    },
    {
     "name": "stdout",
     "output_type": "stream",
     "text": [
      "time: 959 ms (started: 2023-06-12 13:30:04 -07:00)\n"
     ]
    }
   ],
   "source": [
    "main_view, views, characteristics, bottlenecks = analyze_dask_small_writes(log_dir='../tmp/eval-samples/data-reduction-1m-dask', view_type='file_name')\n",
    "\n",
    "bottlenecks"
   ]
  },
  {
   "attachments": {},
   "cell_type": "markdown",
   "metadata": {},
   "source": [
    "### File-based - Small Writes - 5m Records"
   ]
  },
  {
   "cell_type": "code",
   "execution_count": 19,
   "metadata": {},
   "outputs": [
    {
     "name": "stdout",
     "output_type": "stream",
     "text": [
      "48M\t../tmp/eval-samples/data-reduction-5m-dask/part.0.parquet\n",
      "48M\t../tmp/eval-samples/data-reduction-5m-dask/part.16.parquet\n",
      "46M\t../tmp/eval-samples/data-reduction-5m-dask/part.4.parquet\n",
      "48M\t../tmp/eval-samples/data-reduction-5m-dask/part.8.parquet\n",
      "49M\t../tmp/eval-samples/data-reduction-5m-dask/part.1.parquet\n",
      "48M\t../tmp/eval-samples/data-reduction-5m-dask/part.3.parquet\n",
      "47M\t../tmp/eval-samples/data-reduction-5m-dask/part.5.parquet\n",
      "48M\t../tmp/eval-samples/data-reduction-5m-dask/part.6.parquet\n",
      "48M\t../tmp/eval-samples/data-reduction-5m-dask/part.12.parquet\n",
      "48M\t../tmp/eval-samples/data-reduction-5m-dask/part.9.parquet\n",
      "48M\t../tmp/eval-samples/data-reduction-5m-dask/part.7.parquet\n",
      "45M\t../tmp/eval-samples/data-reduction-5m-dask/part.15.parquet\n",
      "49M\t../tmp/eval-samples/data-reduction-5m-dask/part.11.parquet\n",
      "48M\t../tmp/eval-samples/data-reduction-5m-dask/part.19.parquet\n",
      "48M\t../tmp/eval-samples/data-reduction-5m-dask/part.14.parquet\n",
      "49M\t../tmp/eval-samples/data-reduction-5m-dask/part.17.parquet\n",
      "48M\t../tmp/eval-samples/data-reduction-5m-dask/part.18.parquet\n",
      "48M\t../tmp/eval-samples/data-reduction-5m-dask/part.2.parquet\n",
      "45M\t../tmp/eval-samples/data-reduction-5m-dask/part.10.parquet\n",
      "46M\t../tmp/eval-samples/data-reduction-5m-dask/part.21.parquet\n",
      "47M\t../tmp/eval-samples/data-reduction-5m-dask/part.20.parquet\n",
      "48M\t../tmp/eval-samples/data-reduction-5m-dask/part.23.parquet\n",
      "48M\t../tmp/eval-samples/data-reduction-5m-dask/part.25.parquet\n",
      "48M\t../tmp/eval-samples/data-reduction-5m-dask/part.13.parquet\n",
      "48M\t../tmp/eval-samples/data-reduction-5m-dask/part.24.parquet\n",
      "49M\t../tmp/eval-samples/data-reduction-5m-dask/part.22.parquet\n",
      "45M\t../tmp/eval-samples/data-reduction-5m-dask/part.26.parquet\n",
      "64K\t../tmp/eval-samples/data-reduction-5m-dask/_metadata\n",
      "4.0K\t../tmp/eval-samples/data-reduction-5m-dask/_common_metadata\n",
      "0\t../tmp/eval-samples/data-reduction-5m-dask/global.json\n",
      "740K\t../tmp/eval-samples/data-reduction-5m-dask/checkpoints/_main_view/part.0.parquet\n",
      "12K\t../tmp/eval-samples/data-reduction-5m-dask/checkpoints/_main_view/_metadata\n",
      "8.0K\t../tmp/eval-samples/data-reduction-5m-dask/checkpoints/_main_view/_common_metadata\n",
      "764K\t../tmp/eval-samples/data-reduction-5m-dask/checkpoints/_main_view\n",
      "700K\t../tmp/eval-samples/data-reduction-5m-dask/checkpoints/file_name/part.0.parquet\n",
      "12K\t../tmp/eval-samples/data-reduction-5m-dask/checkpoints/file_name/_metadata\n",
      "8.0K\t../tmp/eval-samples/data-reduction-5m-dask/checkpoints/file_name/_common_metadata\n",
      "724K\t../tmp/eval-samples/data-reduction-5m-dask/checkpoints/file_name\n",
      "1.5M\t../tmp/eval-samples/data-reduction-5m-dask/checkpoints\n",
      "1.3G\t../tmp/eval-samples/data-reduction-5m-dask\n",
      "time: 277 ms (started: 2023-06-12 13:08:12 -07:00)\n"
     ]
    }
   ],
   "source": [
    "!du -ah ../tmp/eval-samples/data-reduction-5m-dask"
   ]
  },
  {
   "attachments": {},
   "cell_type": "markdown",
   "metadata": {},
   "source": [
    "#### Without Checkpointing"
   ]
  },
  {
   "cell_type": "code",
   "execution_count": 40,
   "metadata": {},
   "outputs": [
    {
     "name": "stdout",
     "output_type": "stream",
     "text": [
      "5.22 s ± 352 ms per loop (mean ± std. dev. of 10 runs, 1 loop each)\n",
      "time: 58.9 s (started: 2023-06-12 13:34:25 -07:00)\n"
     ]
    }
   ],
   "source": [
    "%%timeit -r 10\n",
    "\n",
    "main_view, views, characteristics, bottlenecks = analyze_dask_small_writes(log_dir='../tmp/eval-samples/data-reduction-5m-dask', view_type='file_name', checkpoint=False)"
   ]
  },
  {
   "attachments": {},
   "cell_type": "markdown",
   "metadata": {},
   "source": [
    "#### With Checkpointing"
   ]
  },
  {
   "attachments": {},
   "cell_type": "markdown",
   "metadata": {},
   "source": [
    "Create checkpoints"
   ]
  },
  {
   "cell_type": "code",
   "execution_count": 42,
   "metadata": {},
   "outputs": [
    {
     "name": "stdout",
     "output_type": "stream",
     "text": [
      "time: 778 ms (started: 2023-06-12 13:35:36 -07:00)\n"
     ]
    }
   ],
   "source": [
    "main_view, views, characteristics, bottlenecks = analyze_dask_small_writes(log_dir='../tmp/eval-samples/data-reduction-5m-dask', view_type='file_name', checkpoint=True)"
   ]
  },
  {
   "attachments": {},
   "cell_type": "markdown",
   "metadata": {},
   "source": [
    "Do the actual analysis"
   ]
  },
  {
   "cell_type": "code",
   "execution_count": 43,
   "metadata": {},
   "outputs": [
    {
     "name": "stderr",
     "output_type": "stream",
     "text": [
      "/g/g92/izzet/projects/vani-analysis-tool/notebooks/evals/../../wisio/_recorder/rules.py:121: SettingWithCopyWarning: \n",
      "A value is trying to be set on a copy of a slice from a DataFrame.\n",
      "Try using .loc[row_indexer,col_indexer] = value instead\n",
      "\n",
      "See the caveats in the documentation: https://pandas.pydata.org/pandas-docs/stable/user_guide/indexing.html#returning-a-view-versus-a-copy\n",
      "  xfer_bins[per_col] = xfer_bins[count_col] / xfer_bins[count_col].sum()\n"
     ]
    },
    {
     "name": "stdout",
     "output_type": "stream",
     "text": [
      "783 ms ± 57.7 ms per loop (mean ± std. dev. of 10 runs, 1 loop each)\n",
      "time: 8.96 s (started: 2023-06-12 13:35:39 -07:00)\n"
     ]
    }
   ],
   "source": [
    "%%timeit -r 10\n",
    "\n",
    "main_view, views, characteristics, bottlenecks = analyze_dask_small_writes(log_dir='../tmp/eval-samples/data-reduction-5m-dask', view_type='file_name', checkpoint=True)"
   ]
  },
  {
   "attachments": {},
   "cell_type": "markdown",
   "metadata": {},
   "source": [
    "List bottlenecks"
   ]
  },
  {
   "cell_type": "code",
   "execution_count": 44,
   "metadata": {},
   "outputs": [
    {
     "data": {
      "text/plain": [
       "{('file_name',): {<Rule.BOTT_SMALL_WRITES: 212>: {'/p/gpfs1/iopp/temp/montage/2854964/5/run/ngc3372.fits': RuleResult(data_dict={'llc': {'duration_sum': 2.82555049911025, 'index_count': 9440, 'size_min': 172352, 'size_max': 172352, 'size_sum': 1620108800, 'read_time': 0.0, 'write_time': 2.822132999099267, 'metadata_time': 0.0034175000109826215, 'read_size': 0, 'write_size': 1620108800, 'metadata_size': 0, 'read_count': 0, 'write_count': 9400, 'metadata_count': 40, 'read_min': 0, 'read_max': 0, 'write_min': 344704, 'write_max': 344704, 'metadata_min': 0, 'metadata_max': 0, 'data_count': 9400, 'data_size': 1620108800, 'data_time': 2.822132999099267, 'sequential_time': 2.822132999099267, 'random_time': 0.0, 'sequential_size': 1620108800, 'random_size': 0, 'sequential_count': 9400, 'random_count': 0, 'close_time': 0.0016669999968144111, 'open_time': 0.0017505000141682103, 'seek_time': 0.0, 'stat_time': 0.0, 'close_count': 20, 'open_count': 20, 'seek_count': 0, 'stat_count': 0, 'duration_pero': 0.7923141995200133, 'duration_perr': 0.06626528764925264, 'duration_score': 'very high', 'duration_th': 0.75}, 'proc_name_list': ['mAddMPI#lassen576#16133#35184372406720'], 'trange_list': [1, 2]}, description=\"'/p/gpfs1/iopp/temp/montage/2854964/5/run/ngc3372.fits' is accessed by 1 process(es) during the 1-2th second(s) has an I/O time of 2.83 seconds which is 79.23% of overall I/O time of the workload.\", detail_list=None, reasons=[RuleReason(description=\"'write' time is 99.88% (2.82 seconds) of I/O time.\", value=0.9987905011741751), RuleReason(description='Average I/O accesses are 167.60 KB, which is smaller than 256.0 KB', value=171621.69491525425)], rule=<Rule.BOTT_SMALL_WRITES: 212>, value=0.9987905011741751, value_fmt='99.88%')}}}"
      ]
     },
     "execution_count": 44,
     "metadata": {},
     "output_type": "execute_result"
    },
    {
     "name": "stdout",
     "output_type": "stream",
     "text": [
      "time: 877 ms (started: 2023-06-12 13:35:48 -07:00)\n"
     ]
    }
   ],
   "source": [
    "main_view, views, characteristics, bottlenecks = analyze_dask_small_writes(log_dir='../tmp/eval-samples/data-reduction-5m-dask', view_type='file_name', checkpoint=True)\n",
    "\n",
    "bottlenecks"
   ]
  },
  {
   "attachments": {},
   "cell_type": "markdown",
   "metadata": {},
   "source": [
    "### Time-based - Metadata Access - 1m Records"
   ]
  },
  {
   "attachments": {},
   "cell_type": "markdown",
   "metadata": {},
   "source": [
    "#### Without Checkpointing"
   ]
  },
  {
   "cell_type": "code",
   "execution_count": 57,
   "metadata": {},
   "outputs": [
    {
     "name": "stdout",
     "output_type": "stream",
     "text": [
      "2.3 s ± 373 ms per loop (mean ± std. dev. of 10 runs, 1 loop each)\n",
      "time: 25.1 s (started: 2023-06-12 13:40:38 -07:00)\n"
     ]
    }
   ],
   "source": [
    "%%timeit -r 10\n",
    "\n",
    "main_view, views, characteristics, bottlenecks = analyze_dask_metadata_access(log_dir='../tmp/eval-samples/data-reduction-1m-dask', view_type='trange', checkpoint=False)"
   ]
  },
  {
   "attachments": {},
   "cell_type": "markdown",
   "metadata": {},
   "source": [
    "#### With Checkpointing"
   ]
  },
  {
   "attachments": {},
   "cell_type": "markdown",
   "metadata": {},
   "source": [
    "Create checkpoints"
   ]
  },
  {
   "cell_type": "code",
   "execution_count": 58,
   "metadata": {},
   "outputs": [
    {
     "name": "stdout",
     "output_type": "stream",
     "text": [
      "time: 816 ms (started: 2023-06-12 13:41:58 -07:00)\n"
     ]
    }
   ],
   "source": [
    "main_view, views, characteristics, bottlenecks = analyze_dask_metadata_access(log_dir='../tmp/eval-samples/data-reduction-1m-dask', view_type='trange', checkpoint=True)"
   ]
  },
  {
   "attachments": {},
   "cell_type": "markdown",
   "metadata": {},
   "source": [
    "Do the actual analysis"
   ]
  },
  {
   "cell_type": "code",
   "execution_count": 59,
   "metadata": {},
   "outputs": [
    {
     "name": "stdout",
     "output_type": "stream",
     "text": [
      "805 ms ± 46.6 ms per loop (mean ± std. dev. of 10 runs, 1 loop each)\n",
      "time: 8.9 s (started: 2023-06-12 13:42:17 -07:00)\n"
     ]
    }
   ],
   "source": [
    "%%timeit -r 10\n",
    "\n",
    "main_view, views, characteristics, bottlenecks = analyze_dask_metadata_access(log_dir='../tmp/eval-samples/data-reduction-1m-dask', view_type='trange', checkpoint=True)"
   ]
  },
  {
   "attachments": {},
   "cell_type": "markdown",
   "metadata": {},
   "source": [
    "List bottlenecks"
   ]
  },
  {
   "cell_type": "code",
   "execution_count": 77,
   "metadata": {},
   "outputs": [
    {
     "data": {
      "text/plain": [
       "{('trange',): {<Rule.BOTT_METADATA_ACCESS: 207>: {4: RuleResult(data_dict={'llc': {'duration_sum': 0.07102449819046797, 'index_count': 46278, 'size_min': -2, 'size_max': 32768, 'size_sum': 209251785, 'read_time': 0.051251098273610296, 'write_time': 0.019084899927520382, 'metadata_time': 0.04143710181443794, 'read_size': 86837302, 'write_size': 122414699, 'metadata_size': -216, 'read_count': 4308, 'write_count': 40828, 'metadata_count': 1142, 'read_min': 74972, 'read_max': 1044224, 'write_min': 89924, 'write_max': 90034, 'metadata_min': -112, 'metadata_max': 0, 'data_count': 45136, 'data_size': 209252001, 'data_time': 0.07033599820113068, 'sequential_time': 0.07033599820113068, 'random_time': 0.0, 'sequential_size': 209252001, 'random_size': 0, 'sequential_count': 45136, 'random_count': 0, 'close_time': 0.0007828999750927323, 'open_time': 0.04054910180366278, 'seek_time': 0.00018719999889071914, 'stat_time': 0.00028920000022480963, 'close_count': 223, 'open_count': 250, 'seek_count': 162, 'stat_count': 44, 'duration_pero': 0.0995800967772679, 'duration_perr': 0.060113180742805444, 'duration_score': 'very low', 'duration_th': 0.01}, 'proc_name_list': ['mAddMPI#lassen246#41422#35184372406720', 'mImgtbl#lassen378#29393#35184372403504', 'mProjExec#lassen246#41328#35184372402064', 'mProjExec#lassen365#41843#35184372402064', 'mProjExec#lassen370#152919#35184372402064', 'mProjExec#lassen371#113999#35184372402064', 'mProjExec#lassen372#119618#35184372402064', 'mProjExec#lassen373#144728#35184372402064', 'mProjExec#lassen375#95463#35184372402064', 'mProjExec#lassen378#29468#35184372402064', 'mProjExec#lassen525#133663#35184372402064', 'mProjExec#lassen526#64843#35184372402064', 'mProjExec#lassen575#13713#35184372402064', 'mProjExec#lassen578#12373#35184372402064', 'mProjExec#lassen70#61898#35184372402064', 'mProjExec#lassen734#76225#35184372402064'], 'file_name_list': ['/p/gpfs1/iopp/temp/montage/2854964/30/run/Kprojdir/hdu0_2mass-atlas-000121s-k0720080.fits', '/p/gpfs1/iopp/temp/montage/2854964/30/run/Kprojdir/hdu0_2mass-atlas-000121s-k0720080_area.fits', '/p/gpfs1/iopp/temp/montage/2854964/30/run/Kprojdir/hdu0_2mass-atlas-000121s-k0720092.fits', '/p/gpfs1/iopp/temp/montage/2854964/30/run/Kprojdir/hdu0_2mass-atlas-000121s-k0720092_area.fits', '/p/gpfs1/iopp/temp/montage/2854964/30/run/ngc3372.fits', '/p/gpfs1/iopp/temp/montage/2854964/30/run/ngc3372_area.fits', '/p/gpfs1/iopp/temp/montage/2854964/17/2mass-atlas-000118s-k0990150.fits', '/p/gpfs1/iopp/temp/montage/2854964/17/2mass-atlas-000118s-k0990174.fits', '/p/gpfs1/iopp/temp/montage/2854964/17/2mass-atlas-000118s-k0990186.fits', '/p/gpfs1/iopp/temp/montage/2854964/17/2mass-atlas-000118s-k0990209.fits', '/p/gpfs1/iopp/temp/montage/2854964/17/2mass-atlas-000118s-k0990233.fits', '/p/gpfs1/iopp/temp/montage/2854964/17/2mass-atlas-000118s-k0990267.fits', '/p/gpfs1/iopp/temp/montage/2854964/17/2mass-atlas-000118s-k1000009.fits', '/p/gpfs1/iopp/temp/montage/2854964/17/2mass-atlas-000118s-k1000021.fits', '/p/gpfs1/iopp/temp/montage/2854964/17/2mass-atlas-000118s-k1000044.fits', '/p/gpfs1/iopp/temp/montage/2854964/17/2mass-atlas-000118s-k1000056.fits', '/p/gpfs1/iopp/temp/montage/2854964/17/2mass-atlas-000118s-k1000068.fits', '/p/gpfs1/iopp/temp/montage/2854964/17/2mass-atlas-000118s-k1000115.fits', '/p/gpfs1/iopp/temp/montage/2854964/17/2mass-atlas-000118s-k1000127.fits', '/p/gpfs1/iopp/temp/montage/2854964/17/2mass-atlas-000118s-k1000139.fits', '/p/gpfs1/iopp/temp/montage/2854964/17/2mass-atlas-000118s-k1000198.fits', '/p/gpfs1/iopp/temp/montage/2854964/17/out', '/p/gpfs1/iopp/temp/montage/2854964/17/run', '/p/gpfs1/iopp/temp/montage/2854964/17/run/Kimages.tbl', '/p/gpfs1/iopp/temp/montage/2854964/1/2mass-atlas-000108s-k1140092.fits', '/p/gpfs1/iopp/temp/montage/2854964/1/run/Kprojdir/hdu0_2mass-atlas-000115s-k0520044.fits', '/p/gpfs1/iopp/temp/montage/2854964/1/run/Kprojdir/hdu0_2mass-atlas-000115s-k0520044_area.fits', '/p/gpfs1/iopp/temp/montage/2854964/1/run/Kstats.tbl', '/p/gpfs1/iopp/temp/montage/2854964/1/run/Ktemplate.hdr', '/p/gpfs1/iopp/temp/montage/2854964/8/2mass-atlas-000118s-k0710080.fits', '/p/gpfs1/iopp/temp/montage/2854964/8/run/Kprojdir/hdu0_2mass-atlas-000118s-k0720186.fits', '/p/gpfs1/iopp/temp/montage/2854964/8/run/Kprojdir/hdu0_2mass-atlas-000118s-k0720186_area.fits', '/p/gpfs1/iopp/temp/montage/2854964/8/run/Kstats.tbl', '/p/gpfs1/iopp/temp/montage/2854964/8/run/Ktemplate.hdr', '/p/gpfs1/iopp/temp/montage/2854964/10/2mass-atlas-000118s-k0830233.fits', '/p/gpfs1/iopp/temp/montage/2854964/10/run/Kprojdir/hdu0_2mass-atlas-000118s-k0830009.fits', '/p/gpfs1/iopp/temp/montage/2854964/10/run/Kprojdir/hdu0_2mass-atlas-000118s-k0830009_area.fits', '/p/gpfs1/iopp/temp/montage/2854964/10/run/Kstats.tbl', '/p/gpfs1/iopp/temp/montage/2854964/10/run/Ktemplate.hdr', '/p/gpfs1/iopp/temp/montage/2854964/11/2mass-atlas-000118s-k0850044.fits', '/p/gpfs1/iopp/temp/montage/2854964/11/run/Kprojdir/hdu0_2mass-atlas-000118s-k0860068.fits', '/p/gpfs1/iopp/temp/montage/2854964/11/run/Kprojdir/hdu0_2mass-atlas-000118s-k0860068_area.fits', '/p/gpfs1/iopp/temp/montage/2854964/11/run/Kstats.tbl', '/p/gpfs1/iopp/temp/montage/2854964/11/run/Ktemplate.hdr', '/p/gpfs1/iopp/temp/montage/2854964/12/2mass-atlas-000118s-k0860092.fits', '/p/gpfs1/iopp/temp/montage/2854964/12/run/Kprojdir/hdu0_2mass-atlas-000118s-k0860186.fits', '/p/gpfs1/iopp/temp/montage/2854964/12/run/Kprojdir/hdu0_2mass-atlas-000118s-k0860186_area.fits', '/p/gpfs1/iopp/temp/montage/2854964/12/run/Kstats.tbl', '/p/gpfs1/iopp/temp/montage/2854964/12/run/Ktemplate.hdr', '/p/gpfs1/iopp/temp/montage/2854964/13/2mass-atlas-000118s-k0880221.fits', '/p/gpfs1/iopp/temp/montage/2854964/13/run/Kprojdir/hdu0_2mass-atlas-000118s-k0880162.fits', '/p/gpfs1/iopp/temp/montage/2854964/13/run/Kprojdir/hdu0_2mass-atlas-000118s-k0880162_area.fits', '/p/gpfs1/iopp/temp/montage/2854964/13/run/Kstats.tbl', '/p/gpfs1/iopp/temp/montage/2854964/13/run/Ktemplate.hdr', '/p/gpfs1/iopp/temp/montage/2854964/15/2mass-atlas-000118s-k0960186.fits', '/p/gpfs1/iopp/temp/montage/2854964/15/run/Kprojdir/hdu0_2mass-atlas-000118s-k0960257.fits', '/p/gpfs1/iopp/temp/montage/2854964/15/run/Kprojdir/hdu0_2mass-atlas-000118s-k0960257_area.fits', '/p/gpfs1/iopp/temp/montage/2854964/15/run/Kstats.tbl', '/p/gpfs1/iopp/temp/montage/2854964/15/run/Ktemplate.hdr', '/p/gpfs1/iopp/temp/montage/2854964/17/run/Kprojdir/hdu0_2mass-atlas-000118s-k0990174.fits', '/p/gpfs1/iopp/temp/montage/2854964/17/run/Kprojdir/hdu0_2mass-atlas-000118s-k0990174_area.fits', '/p/gpfs1/iopp/temp/montage/2854964/17/run/Kstats.tbl', '/p/gpfs1/iopp/temp/montage/2854964/17/run/Ktemplate.hdr', '/p/gpfs1/iopp/temp/montage/2854964/23/2mass-atlas-000118s-k1140068.fits', '/p/gpfs1/iopp/temp/montage/2854964/23/run/Kprojdir/hdu0_2mass-atlas-000118s-k1140198.fits', '/p/gpfs1/iopp/temp/montage/2854964/23/run/Kprojdir/hdu0_2mass-atlas-000118s-k1140198_area.fits', '/p/gpfs1/iopp/temp/montage/2854964/23/run/Kstats.tbl', '/p/gpfs1/iopp/temp/montage/2854964/23/run/Ktemplate.hdr', '/p/gpfs1/iopp/temp/montage/2854964/24/2mass-atlas-000118s-k1150162.fits', '/p/gpfs1/iopp/temp/montage/2854964/24/run/Kprojdir/hdu0_2mass-atlas-000118s-k1150233.fits', '/p/gpfs1/iopp/temp/montage/2854964/24/run/Kprojdir/hdu0_2mass-atlas-000118s-k1150233_area.fits', '/p/gpfs1/iopp/temp/montage/2854964/24/run/Kstats.tbl', '/p/gpfs1/iopp/temp/montage/2854964/24/run/Ktemplate.hdr', '/p/gpfs1/iopp/temp/montage/2854964/26/2mass-atlas-000121s-k0610080.fits', '/p/gpfs1/iopp/temp/montage/2854964/26/run/Kprojdir/hdu0_2mass-atlas-000121s-k0620044.fits', '/p/gpfs1/iopp/temp/montage/2854964/26/run/Kprojdir/hdu0_2mass-atlas-000121s-k0620044_area.fits', '/p/gpfs1/iopp/temp/montage/2854964/26/run/Kstats.tbl', '/p/gpfs1/iopp/temp/montage/2854964/26/run/Ktemplate.hdr', '/p/gpfs1/iopp/temp/montage/2854964/28/2mass-atlas-000121s-k0700044.fits', '/p/gpfs1/iopp/temp/montage/2854964/28/run/Kprojdir/hdu0_2mass-atlas-000121s-k0700174.fits', '/p/gpfs1/iopp/temp/montage/2854964/28/run/Kprojdir/hdu0_2mass-atlas-000121s-k0700174_area.fits', '/p/gpfs1/iopp/temp/montage/2854964/28/run/Kstats.tbl', '/p/gpfs1/iopp/temp/montage/2854964/28/run/Ktemplate.hdr', '/p/gpfs1/iopp/temp/montage/2854964/0/2mass-atlas-000108s-k0870256.fits', '/p/gpfs1/iopp/temp/montage/2854964/0/run/Ktemplate.hdr', '/p/gpfs1/iopp/temp/montage/2854964/31/2mass-atlas-000121s-k0730103.fits', '/p/gpfs1/iopp/temp/montage/2854964/31/run/Kprojdir/hdu0_2mass-atlas-000121s-k0740021.fits', '/p/gpfs1/iopp/temp/montage/2854964/31/run/Kprojdir/hdu0_2mass-atlas-000121s-k0740021_area.fits', '/p/gpfs1/iopp/temp/montage/2854964/31/run/Kstats.tbl', '/p/gpfs1/iopp/temp/montage/2854964/31/run/Ktemplate.hdr']}, description='16 process(es) access(es) 90 file(s) during the 4th second(s) and has an I/O time of 0.07 seconds which is 9.96% of overall I/O time of the workload.', detail_list=None, reasons=[RuleReason(description=\"Overall 58.34% (0.04 seconds) of I/O time is spent on metadata access, specifically 57.09% (0.04 seconds) on the 'open' operation.\", value=0.5709171178502572), RuleReason(description=\"All files are stored on GPFS and 'open's become costly without other I/O operations.\", value=None)], rule=<Rule.BOTT_METADATA_ACCESS: 207>, value=0.5834198462524177, value_fmt='58.34%'),\n",
       "   7: RuleResult(data_dict={'llc': {'duration_sum': 0.01986750004351734, 'index_count': 32749, 'size_min': -2, 'size_max': 32768, 'size_sum': 141400124, 'read_time': 0.0012329999939311165, 'write_time': 0.015817799847752667, 'metadata_time': 0.010275600136083085, 'read_size': 53643780, 'write_size': 87756480, 'metadata_size': -136, 'read_count': 1803, 'write_count': 30471, 'metadata_count': 475, 'read_min': 57652, 'read_max': 521024, 'write_min': 57600, 'write_max': 57600, 'metadata_min': -52, 'metadata_max': 0, 'data_count': 32274, 'data_size': 141400260, 'data_time': 0.016985199837449727, 'sequential_time': 0.016985199837449727, 'random_time': 0.0, 'sequential_size': 141400260, 'random_size': 0, 'sequential_count': 32274, 'random_count': 0, 'close_time': 0.0004458999956113985, 'open_time': 0.009779100144442054, 'seek_time': 4.129999979340937e-05, 'stat_time': 1.0099999599333387e-05, 'close_count': 161, 'open_count': 174, 'seek_count': 102, 'stat_count': 10, 'duration_pero': 0.0278552841267571, 'duration_perr': 0.01681530530241658, 'duration_score': 'very low', 'duration_th': 0.01}, 'proc_name_list': ['mProjExec#lassen246#41328#35184372402064', 'mProjExec#lassen365#41843#35184372402064', 'mProjExec#lassen370#152919#35184372402064', 'mProjExec#lassen371#113999#35184372402064', 'mProjExec#lassen372#119618#35184372402064', 'mProjExec#lassen373#144728#35184372402064', 'mProjExec#lassen375#95463#35184372402064', 'mProjExec#lassen525#133663#35184372402064', 'mProjExec#lassen526#64843#35184372402064', 'mProjExec#lassen528#142263#35184372402064', 'mProjExec#lassen575#13713#35184372402064', 'mProjExec#lassen578#12373#35184372402064', 'mProjExec#lassen734#76225#35184372402064'], 'file_name_list': ['/p/gpfs1/iopp/temp/montage/2854964/1/2mass-atlas-000109s-k1010256.fits', '/p/gpfs1/iopp/temp/montage/2854964/1/run/Kprojdir/hdu0_2mass-atlas-000109s-k0700009.fits', '/p/gpfs1/iopp/temp/montage/2854964/1/run/Kprojdir/hdu0_2mass-atlas-000109s-k0700009_area.fits', '/p/gpfs1/iopp/temp/montage/2854964/1/run/Kstats.tbl', '/p/gpfs1/iopp/temp/montage/2854964/1/run/Ktemplate.hdr', '/p/gpfs1/iopp/temp/montage/2854964/8/2mass-atlas-000118s-k0700103.fits', '/p/gpfs1/iopp/temp/montage/2854964/8/run/Ktemplate.hdr', '/p/gpfs1/iopp/temp/montage/2854964/10/2mass-atlas-000118s-k0830068.fits', '/p/gpfs1/iopp/temp/montage/2854964/10/run/Kprojdir/hdu0_2mass-atlas-000118s-k0840056.fits', '/p/gpfs1/iopp/temp/montage/2854964/10/run/Kprojdir/hdu0_2mass-atlas-000118s-k0840056_area.fits', '/p/gpfs1/iopp/temp/montage/2854964/10/run/Kstats.tbl', '/p/gpfs1/iopp/temp/montage/2854964/10/run/Ktemplate.hdr', '/p/gpfs1/iopp/temp/montage/2854964/11/2mass-atlas-000118s-k0850056.fits', '/p/gpfs1/iopp/temp/montage/2854964/11/run/Kprojdir/hdu0_2mass-atlas-000118s-k0860009.fits', '/p/gpfs1/iopp/temp/montage/2854964/11/run/Kprojdir/hdu0_2mass-atlas-000118s-k0860009_area.fits', '/p/gpfs1/iopp/temp/montage/2854964/11/run/Kstats.tbl', '/p/gpfs1/iopp/temp/montage/2854964/11/run/Ktemplate.hdr', '/p/gpfs1/iopp/temp/montage/2854964/12/2mass-atlas-000118s-k0870021.fits', '/p/gpfs1/iopp/temp/montage/2854964/12/run/Kprojdir/hdu0_2mass-atlas-000118s-k0860233.fits', '/p/gpfs1/iopp/temp/montage/2854964/12/run/Kprojdir/hdu0_2mass-atlas-000118s-k0860233_area.fits', '/p/gpfs1/iopp/temp/montage/2854964/12/run/Kstats.tbl', '/p/gpfs1/iopp/temp/montage/2854964/12/run/Ktemplate.hdr', '/p/gpfs1/iopp/temp/montage/2854964/13/2mass-atlas-000118s-k0880257.fits', '/p/gpfs1/iopp/temp/montage/2854964/13/run/Kprojdir/hdu0_2mass-atlas-000118s-k0880198.fits', '/p/gpfs1/iopp/temp/montage/2854964/13/run/Kprojdir/hdu0_2mass-atlas-000118s-k0880198_area.fits', '/p/gpfs1/iopp/temp/montage/2854964/13/run/Kstats.tbl', '/p/gpfs1/iopp/temp/montage/2854964/13/run/Ktemplate.hdr', '/p/gpfs1/iopp/temp/montage/2854964/15/2mass-atlas-000118s-k0970092.fits', '/p/gpfs1/iopp/temp/montage/2854964/15/run/Kprojdir/hdu0_2mass-atlas-000118s-k0970162.fits', '/p/gpfs1/iopp/temp/montage/2854964/15/run/Kprojdir/hdu0_2mass-atlas-000118s-k0970162_area.fits', '/p/gpfs1/iopp/temp/montage/2854964/15/run/Kstats.tbl', '/p/gpfs1/iopp/temp/montage/2854964/15/run/Ktemplate.hdr', '/p/gpfs1/iopp/temp/montage/2854964/23/2mass-atlas-000118s-k1140186.fits', '/p/gpfs1/iopp/temp/montage/2854964/23/run/Kprojdir/hdu0_2mass-atlas-000118s-k1140209.fits', '/p/gpfs1/iopp/temp/montage/2854964/23/run/Kprojdir/hdu0_2mass-atlas-000118s-k1140209_area.fits', '/p/gpfs1/iopp/temp/montage/2854964/23/run/Kstats.tbl', '/p/gpfs1/iopp/temp/montage/2854964/23/run/Ktemplate.hdr', '/p/gpfs1/iopp/temp/montage/2854964/24/2mass-atlas-000118s-k1150056.fits', '/p/gpfs1/iopp/temp/montage/2854964/24/run/Kprojdir/hdu0_2mass-atlas-000118s-k1150068.fits', '/p/gpfs1/iopp/temp/montage/2854964/24/run/Kprojdir/hdu0_2mass-atlas-000118s-k1150068_area.fits', '/p/gpfs1/iopp/temp/montage/2854964/24/run/Kstats.tbl', '/p/gpfs1/iopp/temp/montage/2854964/24/run/Ktemplate.hdr', '/p/gpfs1/iopp/temp/montage/2854964/25/2mass-atlas-000121s-k0590256.fits', '/p/gpfs1/iopp/temp/montage/2854964/25/run/Kprojdir/hdu0_2mass-atlas-000121s-k0590267.fits', '/p/gpfs1/iopp/temp/montage/2854964/25/run/Kprojdir/hdu0_2mass-atlas-000121s-k0590267_area.fits', '/p/gpfs1/iopp/temp/montage/2854964/25/run/Kstats.tbl', '/p/gpfs1/iopp/temp/montage/2854964/25/run/Ktemplate.hdr', '/p/gpfs1/iopp/temp/montage/2854964/26/2mass-atlas-000121s-k0610044.fits', '/p/gpfs1/iopp/temp/montage/2854964/26/run/Kprojdir/hdu0_2mass-atlas-000121s-k0610198.fits', '/p/gpfs1/iopp/temp/montage/2854964/26/run/Kprojdir/hdu0_2mass-atlas-000121s-k0610198_area.fits', '/p/gpfs1/iopp/temp/montage/2854964/26/run/Kstats.tbl', '/p/gpfs1/iopp/temp/montage/2854964/26/run/Ktemplate.hdr', '/p/gpfs1/iopp/temp/montage/2854964/28/2mass-atlas-000121s-k0630256.fits', '/p/gpfs1/iopp/temp/montage/2854964/28/run/Ktemplate.hdr', '/p/gpfs1/iopp/temp/montage/2854964/31/2mass-atlas-000121s-k0740056.fits', '/p/gpfs1/iopp/temp/montage/2854964/31/run/Ktemplate.hdr']}, description='13 process(es) access(es) 56 file(s) during the 7th second(s) and has an I/O time of 0.02 seconds which is 2.79% of overall I/O time of the workload.', detail_list=None, reasons=[RuleReason(description=\"Overall 51.72% (0.01 seconds) of I/O time is spent on metadata access, specifically 49.22% (0.01 seconds) on the 'open' operation.\", value=0.4922159367319555), RuleReason(description=\"All files are stored on GPFS and 'open's become costly without other I/O operations.\", value=None)], rule=<Rule.BOTT_METADATA_ACCESS: 207>, value=0.5172064987328872, value_fmt='51.72%'),\n",
       "   9: RuleResult(data_dict={'llc': {'duration_sum': 0.03779269941696839, 'index_count': 46901, 'size_min': -2, 'size_max': 32768, 'size_sum': 190549450, 'read_time': 0.0013797999831695051, 'write_time': 0.0143984998844644, 'metadata_time': 0.02982949950086322, 'read_size': 63340018, 'write_size': 127209600, 'metadata_size': -168, 'read_count': 2129, 'write_count': 44170, 'metadata_count': 602, 'read_min': 80696, 'read_max': 579712, 'write_min': 80640, 'write_max': 80640, 'metadata_min': -56, 'metadata_max': 0, 'data_count': 46299, 'data_size': 190549618, 'data_time': 0.015778299867633905, 'sequential_time': 0.015778299867633905, 'random_time': 0.0, 'sequential_size': 190549618, 'random_size': 0, 'sequential_count': 46299, 'random_count': 0, 'close_time': 0.028913699506119883, 'open_time': 0.0023973000061232597, 'seek_time': 4.230000047300564e-05, 'stat_time': 1.0099999599333387e-05, 'close_count': 196, 'open_count': 224, 'seek_count': 126, 'stat_count': 14, 'duration_pero': 0.052987360154569674, 'duration_perr': 0.03198670076792794, 'duration_score': 'very low', 'duration_th': 0.01}, 'proc_name_list': ['mProjExec#lassen246#41328#35184372402064', 'mProjExec#lassen365#41843#35184372402064', 'mProjExec#lassen370#152919#35184372402064', 'mProjExec#lassen371#113999#35184372402064', 'mProjExec#lassen372#119618#35184372402064', 'mProjExec#lassen373#144728#35184372402064', 'mProjExec#lassen375#95463#35184372402064', 'mProjExec#lassen378#29468#35184372402064', 'mProjExec#lassen525#133663#35184372402064', 'mProjExec#lassen526#64843#35184372402064', 'mProjExec#lassen575#13713#35184372402064', 'mProjExec#lassen578#12373#35184372402064', 'mProjExec#lassen70#61898#35184372402064', 'mProjExec#lassen734#76225#35184372402064'], 'file_name_list': ['/p/gpfs1/iopp/temp/montage/2854964/1/2mass-atlas-000108s-k1140080.fits', '/p/gpfs1/iopp/temp/montage/2854964/1/run/Kprojdir/hdu0_2mass-atlas-000109s-k1010256.fits', '/p/gpfs1/iopp/temp/montage/2854964/1/run/Kprojdir/hdu0_2mass-atlas-000109s-k1010256_area.fits', '/p/gpfs1/iopp/temp/montage/2854964/1/run/Kstats.tbl', '/p/gpfs1/iopp/temp/montage/2854964/1/run/Ktemplate.hdr', '/p/gpfs1/iopp/temp/montage/2854964/8/2mass-atlas-000118s-k0720080.fits', '/p/gpfs1/iopp/temp/montage/2854964/8/run/Kprojdir/hdu0_2mass-atlas-000118s-k0710068.fits', '/p/gpfs1/iopp/temp/montage/2854964/8/run/Kprojdir/hdu0_2mass-atlas-000118s-k0710068_area.fits', '/p/gpfs1/iopp/temp/montage/2854964/8/run/Kstats.tbl', '/p/gpfs1/iopp/temp/montage/2854964/8/run/Ktemplate.hdr', '/p/gpfs1/iopp/temp/montage/2854964/10/2mass-atlas-000118s-k0830267.fits', '/p/gpfs1/iopp/temp/montage/2854964/10/run/Kprojdir/hdu0_2mass-atlas-000118s-k0830033.fits', '/p/gpfs1/iopp/temp/montage/2854964/10/run/Kprojdir/hdu0_2mass-atlas-000118s-k0830033_area.fits', '/p/gpfs1/iopp/temp/montage/2854964/10/run/Kstats.tbl', '/p/gpfs1/iopp/temp/montage/2854964/10/run/Ktemplate.hdr', '/p/gpfs1/iopp/temp/montage/2854964/11/2mass-atlas-000118s-k0850221.fits', '/p/gpfs1/iopp/temp/montage/2854964/11/run/Kprojdir/hdu0_2mass-atlas-000118s-k0840267.fits', '/p/gpfs1/iopp/temp/montage/2854964/11/run/Kprojdir/hdu0_2mass-atlas-000118s-k0840267_area.fits', '/p/gpfs1/iopp/temp/montage/2854964/11/run/Kstats.tbl', '/p/gpfs1/iopp/temp/montage/2854964/11/run/Ktemplate.hdr', '/p/gpfs1/iopp/temp/montage/2854964/12/2mass-atlas-000118s-k0860245.fits', '/p/gpfs1/iopp/temp/montage/2854964/12/run/Kprojdir/hdu0_2mass-atlas-000118s-k0870174.fits', '/p/gpfs1/iopp/temp/montage/2854964/12/run/Kprojdir/hdu0_2mass-atlas-000118s-k0870174_area.fits', '/p/gpfs1/iopp/temp/montage/2854964/12/run/Kstats.tbl', '/p/gpfs1/iopp/temp/montage/2854964/12/run/Ktemplate.hdr', '/p/gpfs1/iopp/temp/montage/2854964/13/2mass-atlas-000118s-k0880044.fits', '/p/gpfs1/iopp/temp/montage/2854964/13/run/Kprojdir/hdu0_2mass-atlas-000118s-k0880186.fits', '/p/gpfs1/iopp/temp/montage/2854964/13/run/Kprojdir/hdu0_2mass-atlas-000118s-k0880186_area.fits', '/p/gpfs1/iopp/temp/montage/2854964/13/run/Kstats.tbl', '/p/gpfs1/iopp/temp/montage/2854964/13/run/Ktemplate.hdr', '/p/gpfs1/iopp/temp/montage/2854964/15/2mass-atlas-000118s-k0970033.fits', '/p/gpfs1/iopp/temp/montage/2854964/15/run/Kprojdir/hdu0_2mass-atlas-000118s-k0970009.fits', '/p/gpfs1/iopp/temp/montage/2854964/15/run/Kprojdir/hdu0_2mass-atlas-000118s-k0970009_area.fits', '/p/gpfs1/iopp/temp/montage/2854964/15/run/Kstats.tbl', '/p/gpfs1/iopp/temp/montage/2854964/15/run/Ktemplate.hdr', '/p/gpfs1/iopp/temp/montage/2854964/17/2mass-atlas-000118s-k0990186.fits', '/p/gpfs1/iopp/temp/montage/2854964/17/run/Kprojdir/hdu0_2mass-atlas-000118s-k1000068.fits', '/p/gpfs1/iopp/temp/montage/2854964/17/run/Kprojdir/hdu0_2mass-atlas-000118s-k1000068_area.fits', '/p/gpfs1/iopp/temp/montage/2854964/17/run/Kstats.tbl', '/p/gpfs1/iopp/temp/montage/2854964/17/run/Ktemplate.hdr', '/p/gpfs1/iopp/temp/montage/2854964/23/2mass-atlas-000118s-k1140103.fits', '/p/gpfs1/iopp/temp/montage/2854964/23/run/Kprojdir/hdu0_2mass-atlas-000118s-k1140033.fits', '/p/gpfs1/iopp/temp/montage/2854964/23/run/Kprojdir/hdu0_2mass-atlas-000118s-k1140033_area.fits', '/p/gpfs1/iopp/temp/montage/2854964/23/run/Kstats.tbl', '/p/gpfs1/iopp/temp/montage/2854964/23/run/Ktemplate.hdr', '/p/gpfs1/iopp/temp/montage/2854964/24/2mass-atlas-000118s-k1150033.fits', '/p/gpfs1/iopp/temp/montage/2854964/24/run/Kprojdir/hdu0_2mass-atlas-000118s-k1150174.fits', '/p/gpfs1/iopp/temp/montage/2854964/24/run/Kprojdir/hdu0_2mass-atlas-000118s-k1150174_area.fits', '/p/gpfs1/iopp/temp/montage/2854964/24/run/Kstats.tbl', '/p/gpfs1/iopp/temp/montage/2854964/24/run/Ktemplate.hdr', '/p/gpfs1/iopp/temp/montage/2854964/26/2mass-atlas-000121s-k0620068.fits', '/p/gpfs1/iopp/temp/montage/2854964/26/run/Kprojdir/hdu0_2mass-atlas-000121s-k0620021.fits', '/p/gpfs1/iopp/temp/montage/2854964/26/run/Kprojdir/hdu0_2mass-atlas-000121s-k0620021_area.fits', '/p/gpfs1/iopp/temp/montage/2854964/26/run/Kstats.tbl', '/p/gpfs1/iopp/temp/montage/2854964/26/run/Ktemplate.hdr', '/p/gpfs1/iopp/temp/montage/2854964/28/2mass-atlas-000121s-k0700162.fits', '/p/gpfs1/iopp/temp/montage/2854964/28/run/Kprojdir/hdu0_2mass-atlas-000121s-k0630186.fits', '/p/gpfs1/iopp/temp/montage/2854964/28/run/Kprojdir/hdu0_2mass-atlas-000121s-k0630186_area.fits', '/p/gpfs1/iopp/temp/montage/2854964/28/run/Kstats.tbl', '/p/gpfs1/iopp/temp/montage/2854964/28/run/Ktemplate.hdr', '/p/gpfs1/iopp/temp/montage/2854964/0/2mass-atlas-000108s-k1110162.fits', '/p/gpfs1/iopp/temp/montage/2854964/0/run/Kprojdir/hdu0_2mass-atlas-000108s-k1100162.fits', '/p/gpfs1/iopp/temp/montage/2854964/0/run/Kprojdir/hdu0_2mass-atlas-000108s-k1100162_area.fits', '/p/gpfs1/iopp/temp/montage/2854964/0/run/Kstats.tbl', '/p/gpfs1/iopp/temp/montage/2854964/0/run/Ktemplate.hdr', '/p/gpfs1/iopp/temp/montage/2854964/31/2mass-atlas-000121s-k0730162.fits', '/p/gpfs1/iopp/temp/montage/2854964/31/run/Kprojdir/hdu0_2mass-atlas-000121s-k0730139.fits', '/p/gpfs1/iopp/temp/montage/2854964/31/run/Kprojdir/hdu0_2mass-atlas-000121s-k0730139_area.fits', '/p/gpfs1/iopp/temp/montage/2854964/31/run/Kstats.tbl', '/p/gpfs1/iopp/temp/montage/2854964/31/run/Ktemplate.hdr']}, description='14 process(es) access(es) 70 file(s) during the 9th second(s) and has an I/O time of 0.04 seconds which is 5.30% of overall I/O time of the workload.', detail_list=None, reasons=[RuleReason(description=\"Overall 78.93% (0.03 seconds) of I/O time is spent on metadata access, specifically 76.51% (0.03 seconds) on the 'close' operation.\", value=0.7650604469163174)], rule=<Rule.BOTT_METADATA_ACCESS: 207>, value=0.7892926401407092, value_fmt='78.93%'),\n",
       "   10: RuleResult(data_dict={'llc': {'duration_sum': 0.026163800341294063, 'index_count': 51305, 'size_min': -2, 'size_max': 32768, 'size_sum': 207868939, 'read_time': 0.0013202999932673265, 'write_time': 0.015126099845815588, 'metadata_time': 0.01661610044607187, 'read_size': 68586559, 'write_size': 139282560, 'metadata_size': -180, 'read_count': 2301, 'write_count': 48362, 'metadata_count': 642, 'read_min': 86460, 'read_max': 621120, 'write_min': 86400, 'write_max': 86400, 'metadata_min': -60, 'metadata_max': 0, 'data_count': 50663, 'data_size': 207869119, 'data_time': 0.01631169983363634, 'sequential_time': 0.01631169983363634, 'random_time': 0.0, 'sequential_size': 207869119, 'random_size': 0, 'sequential_count': 50663, 'random_count': 0, 'close_time': 0.0011878000277647516, 'open_time': 0.016046800456024357, 'seek_time': 3.9700000229458965e-05, 'stat_time': 1.1000000085914508e-05, 'close_count': 208, 'open_count': 239, 'seek_count': 135, 'stat_count': 15, 'duration_pero': 0.0366830296084632, 'duration_perr': 0.022144320606350517, 'duration_score': 'very low', 'duration_th': 0.01}, 'proc_name_list': ['mProjExec#lassen246#41328#35184372402064', 'mProjExec#lassen365#41843#35184372402064', 'mProjExec#lassen370#152919#35184372402064', 'mProjExec#lassen371#113999#35184372402064', 'mProjExec#lassen372#119618#35184372402064', 'mProjExec#lassen373#144728#35184372402064', 'mProjExec#lassen375#95463#35184372402064', 'mProjExec#lassen378#29468#35184372402064', 'mProjExec#lassen525#133663#35184372402064', 'mProjExec#lassen526#64843#35184372402064', 'mProjExec#lassen528#142263#35184372402064', 'mProjExec#lassen575#13713#35184372402064', 'mProjExec#lassen578#12373#35184372402064', 'mProjExec#lassen70#61898#35184372402064', 'mProjExec#lassen734#76225#35184372402064'], 'file_name_list': ['/p/gpfs1/iopp/temp/montage/2854964/1/2mass-atlas-000115s-k0520033.fits', '/p/gpfs1/iopp/temp/montage/2854964/1/run/Kprojdir/hdu0_2mass-atlas-000108s-k1140080.fits', '/p/gpfs1/iopp/temp/montage/2854964/1/run/Kprojdir/hdu0_2mass-atlas-000108s-k1140080_area.fits', '/p/gpfs1/iopp/temp/montage/2854964/1/run/Kstats.tbl', '/p/gpfs1/iopp/temp/montage/2854964/1/run/Ktemplate.hdr', '/p/gpfs1/iopp/temp/montage/2854964/8/2mass-atlas-000118s-k0710209.fits', '/p/gpfs1/iopp/temp/montage/2854964/8/run/Kprojdir/hdu0_2mass-atlas-000118s-k0720080.fits', '/p/gpfs1/iopp/temp/montage/2854964/8/run/Kprojdir/hdu0_2mass-atlas-000118s-k0720080_area.fits', '/p/gpfs1/iopp/temp/montage/2854964/8/run/Kstats.tbl', '/p/gpfs1/iopp/temp/montage/2854964/8/run/Ktemplate.hdr', '/p/gpfs1/iopp/temp/montage/2854964/10/2mass-atlas-000118s-k0760221.fits', '/p/gpfs1/iopp/temp/montage/2854964/10/run/Kprojdir/hdu0_2mass-atlas-000118s-k0830267.fits', '/p/gpfs1/iopp/temp/montage/2854964/10/run/Kprojdir/hdu0_2mass-atlas-000118s-k0830267_area.fits', '/p/gpfs1/iopp/temp/montage/2854964/10/run/Kstats.tbl', '/p/gpfs1/iopp/temp/montage/2854964/10/run/Ktemplate.hdr', '/p/gpfs1/iopp/temp/montage/2854964/11/2mass-atlas-000118s-k0860080.fits', '/p/gpfs1/iopp/temp/montage/2854964/11/run/Kprojdir/hdu0_2mass-atlas-000118s-k0850221.fits', '/p/gpfs1/iopp/temp/montage/2854964/11/run/Kprojdir/hdu0_2mass-atlas-000118s-k0850221_area.fits', '/p/gpfs1/iopp/temp/montage/2854964/11/run/Kstats.tbl', '/p/gpfs1/iopp/temp/montage/2854964/11/run/Ktemplate.hdr', '/p/gpfs1/iopp/temp/montage/2854964/12/2mass-atlas-000118s-k0860221.fits', '/p/gpfs1/iopp/temp/montage/2854964/12/run/Kprojdir/hdu0_2mass-atlas-000118s-k0860245.fits', '/p/gpfs1/iopp/temp/montage/2854964/12/run/Kprojdir/hdu0_2mass-atlas-000118s-k0860245_area.fits', '/p/gpfs1/iopp/temp/montage/2854964/12/run/Kstats.tbl', '/p/gpfs1/iopp/temp/montage/2854964/12/run/Ktemplate.hdr', '/p/gpfs1/iopp/temp/montage/2854964/13/2mass-atlas-000118s-k0870233.fits', '/p/gpfs1/iopp/temp/montage/2854964/13/run/Kprojdir/hdu0_2mass-atlas-000118s-k0880044.fits', '/p/gpfs1/iopp/temp/montage/2854964/13/run/Kprojdir/hdu0_2mass-atlas-000118s-k0880044_area.fits', '/p/gpfs1/iopp/temp/montage/2854964/13/run/Kstats.tbl', '/p/gpfs1/iopp/temp/montage/2854964/13/run/Ktemplate.hdr', '/p/gpfs1/iopp/temp/montage/2854964/15/2mass-atlas-000118s-k0960151.fits', '/p/gpfs1/iopp/temp/montage/2854964/15/run/Kprojdir/hdu0_2mass-atlas-000118s-k0970033.fits', '/p/gpfs1/iopp/temp/montage/2854964/15/run/Kprojdir/hdu0_2mass-atlas-000118s-k0970033_area.fits', '/p/gpfs1/iopp/temp/montage/2854964/15/run/Kstats.tbl', '/p/gpfs1/iopp/temp/montage/2854964/15/run/Ktemplate.hdr', '/p/gpfs1/iopp/temp/montage/2854964/17/2mass-atlas-000118s-k1000009.fits', '/p/gpfs1/iopp/temp/montage/2854964/17/run/Kprojdir/hdu0_2mass-atlas-000118s-k0990186.fits', '/p/gpfs1/iopp/temp/montage/2854964/17/run/Kprojdir/hdu0_2mass-atlas-000118s-k0990186_area.fits', '/p/gpfs1/iopp/temp/montage/2854964/17/run/Kstats.tbl', '/p/gpfs1/iopp/temp/montage/2854964/17/run/Ktemplate.hdr', '/p/gpfs1/iopp/temp/montage/2854964/23/2mass-atlas-000118s-k1130233.fits', '/p/gpfs1/iopp/temp/montage/2854964/23/run/Kprojdir/hdu0_2mass-atlas-000118s-k1140103.fits', '/p/gpfs1/iopp/temp/montage/2854964/23/run/Kprojdir/hdu0_2mass-atlas-000118s-k1140103_area.fits', '/p/gpfs1/iopp/temp/montage/2854964/23/run/Kstats.tbl', '/p/gpfs1/iopp/temp/montage/2854964/23/run/Ktemplate.hdr', '/p/gpfs1/iopp/temp/montage/2854964/24/2mass-atlas-000118s-k1150186.fits', '/p/gpfs1/iopp/temp/montage/2854964/24/run/Kprojdir/hdu0_2mass-atlas-000118s-k1150033.fits', '/p/gpfs1/iopp/temp/montage/2854964/24/run/Kprojdir/hdu0_2mass-atlas-000118s-k1150033_area.fits', '/p/gpfs1/iopp/temp/montage/2854964/24/run/Kstats.tbl', '/p/gpfs1/iopp/temp/montage/2854964/24/run/Ktemplate.hdr', '/p/gpfs1/iopp/temp/montage/2854964/25/2mass-atlas-000118s-k1150256.fits', '/p/gpfs1/iopp/temp/montage/2854964/25/run/Kprojdir/hdu0_2mass-atlas-000121s-k0600080.fits', '/p/gpfs1/iopp/temp/montage/2854964/25/run/Kprojdir/hdu0_2mass-atlas-000121s-k0600080_area.fits', '/p/gpfs1/iopp/temp/montage/2854964/25/run/Kstats.tbl', '/p/gpfs1/iopp/temp/montage/2854964/25/run/Ktemplate.hdr', '/p/gpfs1/iopp/temp/montage/2854964/26/2mass-atlas-000121s-k0600150.fits', '/p/gpfs1/iopp/temp/montage/2854964/26/run/Kprojdir/hdu0_2mass-atlas-000121s-k0620068.fits', '/p/gpfs1/iopp/temp/montage/2854964/26/run/Kprojdir/hdu0_2mass-atlas-000121s-k0620068_area.fits', '/p/gpfs1/iopp/temp/montage/2854964/26/run/Kstats.tbl', '/p/gpfs1/iopp/temp/montage/2854964/26/run/Ktemplate.hdr', '/p/gpfs1/iopp/temp/montage/2854964/28/2mass-atlas-000121s-k0700092.fits', '/p/gpfs1/iopp/temp/montage/2854964/28/run/Kprojdir/hdu0_2mass-atlas-000121s-k0700162.fits', '/p/gpfs1/iopp/temp/montage/2854964/28/run/Kprojdir/hdu0_2mass-atlas-000121s-k0700162_area.fits', '/p/gpfs1/iopp/temp/montage/2854964/28/run/Kstats.tbl', '/p/gpfs1/iopp/temp/montage/2854964/28/run/Ktemplate.hdr', '/p/gpfs1/iopp/temp/montage/2854964/0/2mass-atlas-000108s-k1110221.fits', '/p/gpfs1/iopp/temp/montage/2854964/0/run/Kprojdir/hdu0_2mass-atlas-000108s-k1110162.fits', '/p/gpfs1/iopp/temp/montage/2854964/0/run/Kprojdir/hdu0_2mass-atlas-000108s-k1110162_area.fits', '/p/gpfs1/iopp/temp/montage/2854964/0/run/Kstats.tbl', '/p/gpfs1/iopp/temp/montage/2854964/0/run/Ktemplate.hdr', '/p/gpfs1/iopp/temp/montage/2854964/31/2mass-atlas-000121s-k0740233.fits', '/p/gpfs1/iopp/temp/montage/2854964/31/run/Kprojdir/hdu0_2mass-atlas-000121s-k0730162.fits', '/p/gpfs1/iopp/temp/montage/2854964/31/run/Kprojdir/hdu0_2mass-atlas-000121s-k0730162_area.fits', '/p/gpfs1/iopp/temp/montage/2854964/31/run/Kstats.tbl', '/p/gpfs1/iopp/temp/montage/2854964/31/run/Ktemplate.hdr']}, description='15 process(es) access(es) 75 file(s) during the 10th second(s) and has an I/O time of 0.03 seconds which is 3.67% of overall I/O time of the workload.', detail_list=None, reasons=[RuleReason(description=\"Overall 63.51% (0.02 seconds) of I/O time is spent on metadata access, specifically 61.33% (0.02 seconds) on the 'open' operation.\", value=0.6133207044351984), RuleReason(description=\"All files are stored on GPFS and 'open's become costly without other I/O operations.\", value=None)], rule=<Rule.BOTT_METADATA_ACCESS: 207>, value=0.6350797754654489, value_fmt='63.51%'),\n",
       "   13: RuleResult(data_dict={'llc': {'duration_sum': 0.02445710019486569, 'index_count': 43223, 'size_min': -2, 'size_max': 32768, 'size_sum': 163433774, 'read_time': 0.0012590999872372777, 'write_time': 0.014484099847152265, 'metadata_time': 0.01622100029567264, 'read_size': 44656938, 'write_size': 118776960, 'metadata_size': -124, 'read_count': 1509, 'write_count': 41242, 'metadata_count': 472, 'read_min': 69162, 'read_max': 488256, 'write_min': 77760, 'write_max': 77760, 'metadata_min': -48, 'metadata_max': 0, 'data_count': 42751, 'data_size': 163433898, 'data_time': 0.015743199834389543, 'sequential_time': 0.015743199834389543, 'random_time': 0.0, 'sequential_size': 163433898, 'random_size': 0, 'sequential_count': 42751, 'random_count': 0, 'close_time': 0.0004121000019949861, 'open_time': 0.0159135002977564, 'seek_time': 4.1300000589217234e-05, 'stat_time': 1.0900000233959872e-05, 'close_count': 146, 'open_count': 181, 'seek_count': 93, 'stat_count': 12, 'duration_pero': 0.03429014588409887, 'duration_perr': 0.020699816569153526, 'duration_score': 'very low', 'duration_th': 0.01}, 'proc_name_list': ['mProjExec#lassen246#41328#35184372402064', 'mProjExec#lassen365#41843#35184372402064', 'mProjExec#lassen370#152919#35184372402064', 'mProjExec#lassen372#119618#35184372402064', 'mProjExec#lassen373#144728#35184372402064', 'mProjExec#lassen375#95463#35184372402064', 'mProjExec#lassen378#29468#35184372402064', 'mProjExec#lassen525#133663#35184372402064', 'mProjExec#lassen526#64843#35184372402064', 'mProjExec#lassen528#142263#35184372402064', 'mProjExec#lassen575#13713#35184372402064', 'mProjExec#lassen578#12373#35184372402064', 'mProjExec#lassen70#61898#35184372402064', 'mProjExec#lassen734#76225#35184372402064'], 'file_name_list': ['/p/gpfs1/iopp/temp/montage/2854964/1/2mass-atlas-000109s-k1010245.fits', '/p/gpfs1/iopp/temp/montage/2854964/1/run/Kprojdir/hdu0_2mass-atlas-000109s-k1080033.fits', '/p/gpfs1/iopp/temp/montage/2854964/1/run/Kprojdir/hdu0_2mass-atlas-000109s-k1080033_area.fits', '/p/gpfs1/iopp/temp/montage/2854964/1/run/Kstats.tbl', '/p/gpfs1/iopp/temp/montage/2854964/1/run/Ktemplate.hdr', '/p/gpfs1/iopp/temp/montage/2854964/8/2mass-atlas-000118s-k0700245.fits', '/p/gpfs1/iopp/temp/montage/2854964/8/run/Kprojdir/hdu0_2mass-atlas-000118s-k0710221.fits', '/p/gpfs1/iopp/temp/montage/2854964/8/run/Kprojdir/hdu0_2mass-atlas-000118s-k0710221_area.fits', '/p/gpfs1/iopp/temp/montage/2854964/8/run/Kstats.tbl', '/p/gpfs1/iopp/temp/montage/2854964/8/run/Ktemplate.hdr', '/p/gpfs1/iopp/temp/montage/2854964/10/2mass-atlas-000118s-k0760245.fits', '/p/gpfs1/iopp/temp/montage/2854964/10/run/Kprojdir/hdu0_2mass-atlas-000118s-k0840021.fits', '/p/gpfs1/iopp/temp/montage/2854964/10/run/Kprojdir/hdu0_2mass-atlas-000118s-k0840021_area.fits', '/p/gpfs1/iopp/temp/montage/2854964/10/run/Kstats.tbl', '/p/gpfs1/iopp/temp/montage/2854964/10/run/Ktemplate.hdr', '/p/gpfs1/iopp/temp/montage/2854964/12/run/Kprojdir/hdu0_2mass-atlas-000118s-k0870009.fits', '/p/gpfs1/iopp/temp/montage/2854964/12/run/Kprojdir/hdu0_2mass-atlas-000118s-k0870009_area.fits', '/p/gpfs1/iopp/temp/montage/2854964/12/run/Ktemplate.hdr', '/p/gpfs1/iopp/temp/montage/2854964/13/2mass-atlas-000118s-k0880115.fits', '/p/gpfs1/iopp/temp/montage/2854964/13/run/Kprojdir/hdu0_2mass-atlas-000118s-k0880056.fits', '/p/gpfs1/iopp/temp/montage/2854964/13/run/Kprojdir/hdu0_2mass-atlas-000118s-k0880056_area.fits', '/p/gpfs1/iopp/temp/montage/2854964/13/run/Kstats.tbl', '/p/gpfs1/iopp/temp/montage/2854964/13/run/Ktemplate.hdr', '/p/gpfs1/iopp/temp/montage/2854964/15/2mass-atlas-000118s-k0970174.fits', '/p/gpfs1/iopp/temp/montage/2854964/15/run/Kprojdir/hdu0_2mass-atlas-000118s-k0960267.fits', '/p/gpfs1/iopp/temp/montage/2854964/15/run/Kprojdir/hdu0_2mass-atlas-000118s-k0960267_area.fits', '/p/gpfs1/iopp/temp/montage/2854964/15/run/Kstats.tbl', '/p/gpfs1/iopp/temp/montage/2854964/15/run/Ktemplate.hdr', '/p/gpfs1/iopp/temp/montage/2854964/17/2mass-atlas-000118s-k1000198.fits', '/p/gpfs1/iopp/temp/montage/2854964/17/run/Kprojdir/hdu0_2mass-atlas-000118s-k1000115.fits', '/p/gpfs1/iopp/temp/montage/2854964/17/run/Kprojdir/hdu0_2mass-atlas-000118s-k1000115_area.fits', '/p/gpfs1/iopp/temp/montage/2854964/17/run/Kstats.tbl', '/p/gpfs1/iopp/temp/montage/2854964/17/run/Ktemplate.hdr', '/p/gpfs1/iopp/temp/montage/2854964/23/2mass-atlas-000118s-k1140139.fits', '/p/gpfs1/iopp/temp/montage/2854964/23/run/Kprojdir/hdu0_2mass-atlas-000118s-k1140127.fits', '/p/gpfs1/iopp/temp/montage/2854964/23/run/Kprojdir/hdu0_2mass-atlas-000118s-k1140127_area.fits', '/p/gpfs1/iopp/temp/montage/2854964/23/run/Kstats.tbl', '/p/gpfs1/iopp/temp/montage/2854964/23/run/Ktemplate.hdr', '/p/gpfs1/iopp/temp/montage/2854964/24/2mass-atlas-000118s-k1140245.fits', '/p/gpfs1/iopp/temp/montage/2854964/24/run/Kprojdir/hdu0_2mass-atlas-000118s-k1150115.fits', '/p/gpfs1/iopp/temp/montage/2854964/24/run/Kprojdir/hdu0_2mass-atlas-000118s-k1150115_area.fits', '/p/gpfs1/iopp/temp/montage/2854964/24/run/Kstats.tbl', '/p/gpfs1/iopp/temp/montage/2854964/24/run/Ktemplate.hdr', '/p/gpfs1/iopp/temp/montage/2854964/25/run/Kprojdir/hdu0_2mass-atlas-000119s-k0590267.fits', '/p/gpfs1/iopp/temp/montage/2854964/25/run/Kprojdir/hdu0_2mass-atlas-000119s-k0590267_area.fits', '/p/gpfs1/iopp/temp/montage/2854964/25/run/Ktemplate.hdr', '/p/gpfs1/iopp/temp/montage/2854964/26/2mass-atlas-000121s-k0610150.fits', '/p/gpfs1/iopp/temp/montage/2854964/26/run/Kprojdir/hdu0_2mass-atlas-000121s-k0610139.fits', '/p/gpfs1/iopp/temp/montage/2854964/26/run/Kprojdir/hdu0_2mass-atlas-000121s-k0610139_area.fits', '/p/gpfs1/iopp/temp/montage/2854964/26/run/Kstats.tbl', '/p/gpfs1/iopp/temp/montage/2854964/26/run/Ktemplate.hdr', '/p/gpfs1/iopp/temp/montage/2854964/28/2mass-atlas-000121s-k0700068.fits', '/p/gpfs1/iopp/temp/montage/2854964/28/run/Kprojdir/hdu0_2mass-atlas-000121s-k0630174.fits', '/p/gpfs1/iopp/temp/montage/2854964/28/run/Kprojdir/hdu0_2mass-atlas-000121s-k0630174_area.fits', '/p/gpfs1/iopp/temp/montage/2854964/28/run/Kstats.tbl', '/p/gpfs1/iopp/temp/montage/2854964/28/run/Ktemplate.hdr', '/p/gpfs1/iopp/temp/montage/2854964/0/2mass-atlas-000108s-k1090198.fits', '/p/gpfs1/iopp/temp/montage/2854964/0/run/Kprojdir/hdu0_2mass-atlas-000108s-k1110256.fits', '/p/gpfs1/iopp/temp/montage/2854964/0/run/Kprojdir/hdu0_2mass-atlas-000108s-k1110256_area.fits', '/p/gpfs1/iopp/temp/montage/2854964/0/run/Kstats.tbl', '/p/gpfs1/iopp/temp/montage/2854964/0/run/Ktemplate.hdr', '/p/gpfs1/iopp/temp/montage/2854964/31/2mass-atlas-000121s-k0730221.fits', '/p/gpfs1/iopp/temp/montage/2854964/31/run/Kprojdir/hdu0_2mass-atlas-000121s-k0740198.fits', '/p/gpfs1/iopp/temp/montage/2854964/31/run/Kprojdir/hdu0_2mass-atlas-000121s-k0740198_area.fits', '/p/gpfs1/iopp/temp/montage/2854964/31/run/Kstats.tbl', '/p/gpfs1/iopp/temp/montage/2854964/31/run/Ktemplate.hdr']}, description='14 process(es) access(es) 66 file(s) during the 13th second(s) and has an I/O time of 0.02 seconds which is 3.43% of overall I/O time of the workload.', detail_list=None, reasons=[RuleReason(description=\"Overall 66.32% (0.02 seconds) of I/O time is spent on metadata access, specifically 65.07% (0.02 seconds) on the 'open' operation.\", value=0.6506699555942099), RuleReason(description=\"All files are stored on GPFS and 'open's become costly without other I/O operations.\", value=None)], rule=<Rule.BOTT_METADATA_ACCESS: 207>, value=0.6632429914597125, value_fmt='66.32%'),\n",
       "   15: RuleResult(data_dict={'llc': {'duration_sum': 0.019448899783469642, 'index_count': 42505, 'size_min': -2, 'size_max': 32768, 'size_sum': 176738602, 'read_time': 0.0013995999963754002, 'write_time': 0.014848899852438535, 'metadata_time': 0.010095599962539836, 'read_size': 62016846, 'write_size': 114721920, 'metadata_size': -164, 'read_count': 2091, 'write_count': 39834, 'metadata_count': 580, 'read_min': 74942, 'read_max': 642368, 'write_min': 74880, 'write_max': 74880, 'metadata_min': -64, 'metadata_max': 0, 'data_count': 41925, 'data_size': 176738766, 'data_time': 0.016177599836453282, 'sequential_time': 0.016177599836453282, 'random_time': 0.0, 'sequential_size': 176738766, 'random_size': 0, 'sequential_count': 41925, 'random_count': 0, 'close_time': 0.0015269999648808152, 'open_time': 0.009617899965633114, 'seek_time': 5.2599999833091715e-05, 'stat_time': 2.099999983329326e-05, 'close_count': 193, 'open_count': 214, 'seek_count': 123, 'stat_count': 13, 'duration_pero': 0.027268384458775587, 'duration_perr': 0.01646101356178715, 'duration_score': 'very low', 'duration_th': 0.01}, 'proc_name_list': ['mProjExec#lassen246#41328#35184372402064', 'mProjExec#lassen365#41843#35184372402064', 'mProjExec#lassen370#152919#35184372402064', 'mProjExec#lassen371#113999#35184372402064', 'mProjExec#lassen372#119618#35184372402064', 'mProjExec#lassen373#144728#35184372402064', 'mProjExec#lassen375#95463#35184372402064', 'mProjExec#lassen378#29468#35184372402064', 'mProjExec#lassen525#133663#35184372402064', 'mProjExec#lassen526#64843#35184372402064', 'mProjExec#lassen528#142263#35184372402064', 'mProjExec#lassen575#13713#35184372402064', 'mProjExec#lassen578#12373#35184372402064', 'mProjExec#lassen70#61898#35184372402064', 'mProjExec#lassen734#76225#35184372402064'], 'file_name_list': ['/p/gpfs1/iopp/temp/montage/2854964/1/2mass-atlas-000108s-k1140115.fits', '/p/gpfs1/iopp/temp/montage/2854964/1/run/Kprojdir/hdu0_2mass-atlas-000109s-k1010245.fits', '/p/gpfs1/iopp/temp/montage/2854964/1/run/Kprojdir/hdu0_2mass-atlas-000109s-k1010245_area.fits', '/p/gpfs1/iopp/temp/montage/2854964/1/run/Kstats.tbl', '/p/gpfs1/iopp/temp/montage/2854964/1/run/Ktemplate.hdr', '/p/gpfs1/iopp/temp/montage/2854964/8/2mass-atlas-000118s-k0710056.fits', '/p/gpfs1/iopp/temp/montage/2854964/8/run/Kprojdir/hdu0_2mass-atlas-000118s-k0700245.fits', '/p/gpfs1/iopp/temp/montage/2854964/8/run/Kprojdir/hdu0_2mass-atlas-000118s-k0700245_area.fits', '/p/gpfs1/iopp/temp/montage/2854964/8/run/Kstats.tbl', '/p/gpfs1/iopp/temp/montage/2854964/8/run/Ktemplate.hdr', '/p/gpfs1/iopp/temp/montage/2854964/10/2mass-atlas-000118s-k0760257.fits', '/p/gpfs1/iopp/temp/montage/2854964/10/run/Ktemplate.hdr', '/p/gpfs1/iopp/temp/montage/2854964/11/2mass-atlas-000118s-k0850233.fits', '/p/gpfs1/iopp/temp/montage/2854964/11/run/Kprojdir/hdu0_2mass-atlas-000118s-k0860044.fits', '/p/gpfs1/iopp/temp/montage/2854964/11/run/Kprojdir/hdu0_2mass-atlas-000118s-k0860044_area.fits', '/p/gpfs1/iopp/temp/montage/2854964/11/run/Kstats.tbl', '/p/gpfs1/iopp/temp/montage/2854964/11/run/Ktemplate.hdr', '/p/gpfs1/iopp/temp/montage/2854964/12/2mass-atlas-000118s-k0870056.fits', '/p/gpfs1/iopp/temp/montage/2854964/12/run/Kprojdir/hdu0_2mass-atlas-000118s-k0870115.fits', '/p/gpfs1/iopp/temp/montage/2854964/12/run/Kprojdir/hdu0_2mass-atlas-000118s-k0870115_area.fits', '/p/gpfs1/iopp/temp/montage/2854964/12/run/Kstats.tbl', '/p/gpfs1/iopp/temp/montage/2854964/12/run/Ktemplate.hdr', '/p/gpfs1/iopp/temp/montage/2854964/13/2mass-atlas-000118s-k0870221.fits', '/p/gpfs1/iopp/temp/montage/2854964/13/run/Kprojdir/hdu0_2mass-atlas-000118s-k0880115.fits', '/p/gpfs1/iopp/temp/montage/2854964/13/run/Kprojdir/hdu0_2mass-atlas-000118s-k0880115_area.fits', '/p/gpfs1/iopp/temp/montage/2854964/13/run/Kstats.tbl', '/p/gpfs1/iopp/temp/montage/2854964/13/run/Ktemplate.hdr', '/p/gpfs1/iopp/temp/montage/2854964/15/2mass-atlas-000118s-k0970150.fits', '/p/gpfs1/iopp/temp/montage/2854964/15/run/Ktemplate.hdr', '/p/gpfs1/iopp/temp/montage/2854964/17/2mass-atlas-000118s-k0990150.fits', '/p/gpfs1/iopp/temp/montage/2854964/17/2mass-atlas-000118s-k0990267.fits', '/p/gpfs1/iopp/temp/montage/2854964/17/run/Kprojdir/hdu0_2mass-atlas-000118s-k0990267.fits', '/p/gpfs1/iopp/temp/montage/2854964/17/run/Kprojdir/hdu0_2mass-atlas-000118s-k0990267_area.fits', '/p/gpfs1/iopp/temp/montage/2854964/17/run/Kprojdir/hdu0_2mass-atlas-000118s-k1000198.fits', '/p/gpfs1/iopp/temp/montage/2854964/17/run/Kprojdir/hdu0_2mass-atlas-000118s-k1000198_area.fits', '/p/gpfs1/iopp/temp/montage/2854964/17/run/Kstats.tbl', '/p/gpfs1/iopp/temp/montage/2854964/17/run/Ktemplate.hdr', '/p/gpfs1/iopp/temp/montage/2854964/23/2mass-atlas-000118s-k1140080.fits', '/p/gpfs1/iopp/temp/montage/2854964/23/run/Kprojdir/hdu0_2mass-atlas-000118s-k1140139.fits', '/p/gpfs1/iopp/temp/montage/2854964/23/run/Kprojdir/hdu0_2mass-atlas-000118s-k1140139_area.fits', '/p/gpfs1/iopp/temp/montage/2854964/23/run/Kstats.tbl', '/p/gpfs1/iopp/temp/montage/2854964/23/run/Ktemplate.hdr', '/p/gpfs1/iopp/temp/montage/2854964/24/2mass-atlas-000118s-k1150021.fits', '/p/gpfs1/iopp/temp/montage/2854964/24/run/Ktemplate.hdr', '/p/gpfs1/iopp/temp/montage/2854964/25/2mass-atlas-000119s-k0600009.fits', '/p/gpfs1/iopp/temp/montage/2854964/25/run/Kprojdir/hdu0_2mass-atlas-000121s-k0600033.fits', '/p/gpfs1/iopp/temp/montage/2854964/25/run/Kprojdir/hdu0_2mass-atlas-000121s-k0600033_area.fits', '/p/gpfs1/iopp/temp/montage/2854964/25/run/Kstats.tbl', '/p/gpfs1/iopp/temp/montage/2854964/25/run/Ktemplate.hdr', '/p/gpfs1/iopp/temp/montage/2854964/26/2mass-atlas-000121s-k0600267.fits', '/p/gpfs1/iopp/temp/montage/2854964/26/run/Kprojdir/hdu0_2mass-atlas-000121s-k0600198.fits', '/p/gpfs1/iopp/temp/montage/2854964/26/run/Kprojdir/hdu0_2mass-atlas-000121s-k0600198_area.fits', '/p/gpfs1/iopp/temp/montage/2854964/26/run/Kstats.tbl', '/p/gpfs1/iopp/temp/montage/2854964/26/run/Ktemplate.hdr', '/p/gpfs1/iopp/temp/montage/2854964/28/2mass-atlas-000121s-k0700021.fits', '/p/gpfs1/iopp/temp/montage/2854964/28/run/Kprojdir/hdu0_2mass-atlas-000121s-k0700068.fits', '/p/gpfs1/iopp/temp/montage/2854964/28/run/Kprojdir/hdu0_2mass-atlas-000121s-k0700068_area.fits', '/p/gpfs1/iopp/temp/montage/2854964/28/run/Kstats.tbl', '/p/gpfs1/iopp/temp/montage/2854964/28/run/Ktemplate.hdr', '/p/gpfs1/iopp/temp/montage/2854964/0/2mass-atlas-000108s-k1130245.fits', '/p/gpfs1/iopp/temp/montage/2854964/0/run/Kprojdir/hdu0_2mass-atlas-000108s-k1090198.fits', '/p/gpfs1/iopp/temp/montage/2854964/0/run/Kprojdir/hdu0_2mass-atlas-000108s-k1090198_area.fits', '/p/gpfs1/iopp/temp/montage/2854964/0/run/Kstats.tbl', '/p/gpfs1/iopp/temp/montage/2854964/0/run/Ktemplate.hdr', '/p/gpfs1/iopp/temp/montage/2854964/31/2mass-atlas-000121s-k0730209.fits', '/p/gpfs1/iopp/temp/montage/2854964/31/run/Kprojdir/hdu0_2mass-atlas-000121s-k0730221.fits', '/p/gpfs1/iopp/temp/montage/2854964/31/run/Kprojdir/hdu0_2mass-atlas-000121s-k0730221_area.fits', '/p/gpfs1/iopp/temp/montage/2854964/31/run/Kstats.tbl', '/p/gpfs1/iopp/temp/montage/2854964/31/run/Ktemplate.hdr']}, description='15 process(es) access(es) 69 file(s) during the 15th second(s) and has an I/O time of 0.02 seconds which is 2.73% of overall I/O time of the workload.', detail_list=None, reasons=[RuleReason(description=\"Overall 51.91% (0.01 seconds) of I/O time is spent on metadata access, specifically 49.45% (0.01 seconds) on the 'open' operation.\", value=0.49452154480263877), RuleReason(description=\"All files are stored on GPFS and 'open's become costly without other I/O operations.\", value=None)], rule=<Rule.BOTT_METADATA_ACCESS: 207>, value=0.5190833453273521, value_fmt='51.91%'),\n",
       "   18: RuleResult(data_dict={'llc': {'duration_sum': 0.04075389957262132, 'index_count': 41322, 'size_min': -2, 'size_max': 32768, 'size_sum': 170311970, 'read_time': 0.0012898999918888876, 'write_time': 0.011861999885752539, 'metadata_time': 0.03159869967936402, 'read_size': 58619966, 'write_size': 111692160, 'metadata_size': -156, 'read_count': 1981, 'write_count': 38782, 'metadata_count': 559, 'read_min': 74932, 'read_max': 538304, 'write_min': 74880, 'write_max': 74880, 'metadata_min': -52, 'metadata_max': 0, 'data_count': 40763, 'data_size': 170312126, 'data_time': 0.013014099873544183, 'sequential_time': 0.013014099873544183, 'random_time': 0.0, 'sequential_size': 170312126, 'random_size': 0, 'sequential_count': 40763, 'random_count': 0, 'close_time': 0.0007759000272926642, 'open_time': 0.031120299677240837, 'seek_time': 4.409999957033506e-05, 'stat_time': 9.999999747378752e-06, 'close_count': 182, 'open_count': 208, 'seek_count': 117, 'stat_count': 13, 'duration_pero': 0.05713911913336601, 'duration_perr': 0.03449297909030374, 'duration_score': 'very low', 'duration_th': 0.01}, 'proc_name_list': ['mProjExec#lassen365#41843#35184372402064', 'mProjExec#lassen370#152919#35184372402064', 'mProjExec#lassen371#113999#35184372402064', 'mProjExec#lassen372#119618#35184372402064', 'mProjExec#lassen373#144728#35184372402064', 'mProjExec#lassen375#95463#35184372402064', 'mProjExec#lassen378#29468#35184372402064', 'mProjExec#lassen525#133663#35184372402064', 'mProjExec#lassen526#64843#35184372402064', 'mProjExec#lassen528#142263#35184372402064', 'mProjExec#lassen575#13713#35184372402064', 'mProjExec#lassen578#12373#35184372402064', 'mProjExec#lassen734#76225#35184372402064'], 'file_name_list': ['/p/gpfs1/iopp/temp/montage/2854964/8/2mass-atlas-000118s-k0710044.fits', '/p/gpfs1/iopp/temp/montage/2854964/8/run/Kprojdir/hdu0_2mass-atlas-000118s-k0710021.fits', '/p/gpfs1/iopp/temp/montage/2854964/8/run/Kprojdir/hdu0_2mass-atlas-000118s-k0710021_area.fits', '/p/gpfs1/iopp/temp/montage/2854964/8/run/Kstats.tbl', '/p/gpfs1/iopp/temp/montage/2854964/8/run/Ktemplate.hdr', '/p/gpfs1/iopp/temp/montage/2854964/10/2mass-atlas-000118s-k0830221.fits', '/p/gpfs1/iopp/temp/montage/2854964/10/run/Kprojdir/hdu0_2mass-atlas-000118s-k0840162.fits', '/p/gpfs1/iopp/temp/montage/2854964/10/run/Kprojdir/hdu0_2mass-atlas-000118s-k0840162_area.fits', '/p/gpfs1/iopp/temp/montage/2854964/10/run/Kstats.tbl', '/p/gpfs1/iopp/temp/montage/2854964/10/run/Ktemplate.hdr', '/p/gpfs1/iopp/temp/montage/2854964/11/2mass-atlas-000118s-k0860056.fits', '/p/gpfs1/iopp/temp/montage/2854964/11/run/Kprojdir/hdu0_2mass-atlas-000118s-k0840257.fits', '/p/gpfs1/iopp/temp/montage/2854964/11/run/Kprojdir/hdu0_2mass-atlas-000118s-k0840257_area.fits', '/p/gpfs1/iopp/temp/montage/2854964/11/run/Kstats.tbl', '/p/gpfs1/iopp/temp/montage/2854964/11/run/Ktemplate.hdr', '/p/gpfs1/iopp/temp/montage/2854964/12/2mass-atlas-000118s-k0870033.fits', '/p/gpfs1/iopp/temp/montage/2854964/12/run/Kprojdir/hdu0_2mass-atlas-000118s-k0870068.fits', '/p/gpfs1/iopp/temp/montage/2854964/12/run/Kprojdir/hdu0_2mass-atlas-000118s-k0870068_area.fits', '/p/gpfs1/iopp/temp/montage/2854964/12/run/Kstats.tbl', '/p/gpfs1/iopp/temp/montage/2854964/12/run/Ktemplate.hdr', '/p/gpfs1/iopp/temp/montage/2854964/13/2mass-atlas-000118s-k0880080.fits', '/p/gpfs1/iopp/temp/montage/2854964/13/run/Kprojdir/hdu0_2mass-atlas-000118s-k0880009.fits', '/p/gpfs1/iopp/temp/montage/2854964/13/run/Kprojdir/hdu0_2mass-atlas-000118s-k0880009_area.fits', '/p/gpfs1/iopp/temp/montage/2854964/13/run/Kstats.tbl', '/p/gpfs1/iopp/temp/montage/2854964/13/run/Ktemplate.hdr', '/p/gpfs1/iopp/temp/montage/2854964/15/2mass-atlas-000118s-k0970068.fits', '/p/gpfs1/iopp/temp/montage/2854964/15/run/Kprojdir/hdu0_2mass-atlas-000118s-k0970021.fits', '/p/gpfs1/iopp/temp/montage/2854964/15/run/Kprojdir/hdu0_2mass-atlas-000118s-k0970021_area.fits', '/p/gpfs1/iopp/temp/montage/2854964/15/run/Kstats.tbl', '/p/gpfs1/iopp/temp/montage/2854964/15/run/Ktemplate.hdr', '/p/gpfs1/iopp/temp/montage/2854964/17/2mass-atlas-000118s-k1000127.fits', '/p/gpfs1/iopp/temp/montage/2854964/17/run/Kprojdir/hdu0_2mass-atlas-000118s-k1000044.fits', '/p/gpfs1/iopp/temp/montage/2854964/17/run/Kprojdir/hdu0_2mass-atlas-000118s-k1000044_area.fits', '/p/gpfs1/iopp/temp/montage/2854964/17/run/Kstats.tbl', '/p/gpfs1/iopp/temp/montage/2854964/17/run/Ktemplate.hdr', '/p/gpfs1/iopp/temp/montage/2854964/23/2mass-atlas-000118s-k1130256.fits', '/p/gpfs1/iopp/temp/montage/2854964/23/run/Kprojdir/hdu0_2mass-atlas-000118s-k1140021.fits', '/p/gpfs1/iopp/temp/montage/2854964/23/run/Kprojdir/hdu0_2mass-atlas-000118s-k1140021_area.fits', '/p/gpfs1/iopp/temp/montage/2854964/23/run/Kstats.tbl', '/p/gpfs1/iopp/temp/montage/2854964/23/run/Ktemplate.hdr', '/p/gpfs1/iopp/temp/montage/2854964/24/2mass-atlas-000118s-k1150127.fits', '/p/gpfs1/iopp/temp/montage/2854964/24/run/Kprojdir/hdu0_2mass-atlas-000118s-k1150209.fits', '/p/gpfs1/iopp/temp/montage/2854964/24/run/Kprojdir/hdu0_2mass-atlas-000118s-k1150209_area.fits', '/p/gpfs1/iopp/temp/montage/2854964/24/run/Kstats.tbl', '/p/gpfs1/iopp/temp/montage/2854964/24/run/Ktemplate.hdr', '/p/gpfs1/iopp/temp/montage/2854964/25/2mass-atlas-000119s-k0580021.fits', '/p/gpfs1/iopp/temp/montage/2854964/25/run/Kprojdir/hdu0_2mass-atlas-000119s-k0580009.fits', '/p/gpfs1/iopp/temp/montage/2854964/25/run/Kprojdir/hdu0_2mass-atlas-000119s-k0580009_area.fits', '/p/gpfs1/iopp/temp/montage/2854964/25/run/Kstats.tbl', '/p/gpfs1/iopp/temp/montage/2854964/25/run/Ktemplate.hdr', '/p/gpfs1/iopp/temp/montage/2854964/26/2mass-atlas-000121s-k0610021.fits', '/p/gpfs1/iopp/temp/montage/2854964/26/run/Kprojdir/hdu0_2mass-atlas-000121s-k0610209.fits', '/p/gpfs1/iopp/temp/montage/2854964/26/run/Kprojdir/hdu0_2mass-atlas-000121s-k0610209_area.fits', '/p/gpfs1/iopp/temp/montage/2854964/26/run/Kstats.tbl', '/p/gpfs1/iopp/temp/montage/2854964/26/run/Ktemplate.hdr', '/p/gpfs1/iopp/temp/montage/2854964/28/2mass-atlas-000121s-k0700186.fits', '/p/gpfs1/iopp/temp/montage/2854964/28/run/Kprojdir/hdu0_2mass-atlas-000121s-k0700115.fits', '/p/gpfs1/iopp/temp/montage/2854964/28/run/Kprojdir/hdu0_2mass-atlas-000121s-k0700115_area.fits', '/p/gpfs1/iopp/temp/montage/2854964/28/run/Kstats.tbl', '/p/gpfs1/iopp/temp/montage/2854964/28/run/Ktemplate.hdr', '/p/gpfs1/iopp/temp/montage/2854964/31/2mass-atlas-000121s-k0740245.fits', '/p/gpfs1/iopp/temp/montage/2854964/31/run/Kprojdir/hdu0_2mass-atlas-000121s-k0740267.fits', '/p/gpfs1/iopp/temp/montage/2854964/31/run/Kprojdir/hdu0_2mass-atlas-000121s-k0740267_area.fits', '/p/gpfs1/iopp/temp/montage/2854964/31/run/Kstats.tbl', '/p/gpfs1/iopp/temp/montage/2854964/31/run/Ktemplate.hdr']}, description='13 process(es) access(es) 65 file(s) during the 18th second(s) and has an I/O time of 0.04 seconds which is 5.71% of overall I/O time of the workload.', detail_list=None, reasons=[RuleReason(description=\"Overall 77.54% (0.03 seconds) of I/O time is spent on metadata access, specifically 76.36% (0.03 seconds) on the 'open' operation.\", value=0.7636152614496703), RuleReason(description=\"All files are stored on GPFS and 'open's become costly without other I/O operations.\", value=None)], rule=<Rule.BOTT_METADATA_ACCESS: 207>, value=0.7753540154619262, value_fmt='77.54%')}}}"
      ]
     },
     "execution_count": 77,
     "metadata": {},
     "output_type": "execute_result"
    },
    {
     "name": "stdout",
     "output_type": "stream",
     "text": [
      "time: 898 ms (started: 2023-06-12 13:54:27 -07:00)\n"
     ]
    }
   ],
   "source": [
    "main_view, views, characteristics, bottlenecks = analyze_dask_metadata_access(log_dir='../tmp/eval-samples/data-reduction-1m-dask', view_type='trange', checkpoint=True)\n",
    "\n",
    "bottlenecks"
   ]
  },
  {
   "attachments": {},
   "cell_type": "markdown",
   "metadata": {},
   "source": [
    "### Time-based - Metadata Access - 5m Records"
   ]
  },
  {
   "attachments": {},
   "cell_type": "markdown",
   "metadata": {},
   "source": [
    "#### Without Checkpointing"
   ]
  },
  {
   "cell_type": "code",
   "execution_count": 61,
   "metadata": {},
   "outputs": [
    {
     "name": "stdout",
     "output_type": "stream",
     "text": [
      "5.04 s ± 278 ms per loop (mean ± std. dev. of 10 runs, 1 loop each)\n",
      "time: 56.2 s (started: 2023-06-12 13:43:39 -07:00)\n"
     ]
    }
   ],
   "source": [
    "%%timeit -r 10\n",
    "\n",
    "main_view, views, characteristics, bottlenecks = analyze_dask_metadata_access(log_dir='../tmp/eval-samples/data-reduction-5m-dask', view_type='trange', checkpoint=False)"
   ]
  },
  {
   "attachments": {},
   "cell_type": "markdown",
   "metadata": {},
   "source": [
    "#### With Checkpointing"
   ]
  },
  {
   "attachments": {},
   "cell_type": "markdown",
   "metadata": {},
   "source": [
    "Create checkpoints"
   ]
  },
  {
   "cell_type": "code",
   "execution_count": 62,
   "metadata": {},
   "outputs": [
    {
     "name": "stdout",
     "output_type": "stream",
     "text": [
      "time: 1.74 s (started: 2023-06-12 13:44:51 -07:00)\n"
     ]
    }
   ],
   "source": [
    "main_view, views, characteristics, bottlenecks = analyze_dask_metadata_access(log_dir='../tmp/eval-samples/data-reduction-5m-dask', view_type='trange', checkpoint=True)"
   ]
  },
  {
   "attachments": {},
   "cell_type": "markdown",
   "metadata": {},
   "source": [
    "Do the actual analysis"
   ]
  },
  {
   "cell_type": "code",
   "execution_count": 63,
   "metadata": {},
   "outputs": [
    {
     "name": "stderr",
     "output_type": "stream",
     "text": [
      "/g/g92/izzet/projects/vani-analysis-tool/notebooks/evals/../../wisio/_recorder/rules.py:121: SettingWithCopyWarning: \n",
      "A value is trying to be set on a copy of a slice from a DataFrame.\n",
      "Try using .loc[row_indexer,col_indexer] = value instead\n",
      "\n",
      "See the caveats in the documentation: https://pandas.pydata.org/pandas-docs/stable/user_guide/indexing.html#returning-a-view-versus-a-copy\n",
      "  xfer_bins[per_col] = xfer_bins[count_col] / xfer_bins[count_col].sum()\n",
      "/g/g92/izzet/projects/vani-analysis-tool/notebooks/evals/../../wisio/_recorder/rules.py:121: SettingWithCopyWarning: \n",
      "A value is trying to be set on a copy of a slice from a DataFrame.\n",
      "Try using .loc[row_indexer,col_indexer] = value instead\n",
      "\n",
      "See the caveats in the documentation: https://pandas.pydata.org/pandas-docs/stable/user_guide/indexing.html#returning-a-view-versus-a-copy\n",
      "  xfer_bins[per_col] = xfer_bins[count_col] / xfer_bins[count_col].sum()\n"
     ]
    },
    {
     "name": "stdout",
     "output_type": "stream",
     "text": [
      "871 ms ± 65.2 ms per loop (mean ± std. dev. of 10 runs, 1 loop each)\n",
      "time: 9.61 s (started: 2023-06-12 13:45:03 -07:00)\n"
     ]
    }
   ],
   "source": [
    "%%timeit -r 10\n",
    "\n",
    "main_view, views, characteristics, bottlenecks = analyze_dask_metadata_access(log_dir='../tmp/eval-samples/data-reduction-5m-dask', view_type='trange', checkpoint=True)"
   ]
  },
  {
   "attachments": {},
   "cell_type": "markdown",
   "metadata": {},
   "source": [
    "List bottlenecks"
   ]
  },
  {
   "cell_type": "code",
   "execution_count": 64,
   "metadata": {},
   "outputs": [
    {
     "data": {
      "text/plain": [
       "{('trange',): {<Rule.BOTT_METADATA_ACCESS: 207>: {4: RuleResult(data_dict={'llc': {'duration_sum': 0.35512249095233983, 'index_count': 231390, 'size_min': -2, 'size_max': 32768, 'size_sum': 1046258925, 'read_time': 0.2562554913680515, 'write_time': 0.09542449963760191, 'metadata_time': 0.2071855090721897, 'read_size': 434186510, 'write_size': 612073495, 'metadata_size': -1080, 'read_count': 21540, 'write_count': 204140, 'metadata_count': 5710, 'read_min': 74972, 'read_max': 1044224, 'write_min': 89924, 'write_max': 90034, 'metadata_min': -112, 'metadata_max': 0, 'data_count': 225680, 'data_size': 1046260005, 'data_time': 0.3516799910056534, 'sequential_time': 0.3516799910056534, 'random_time': 0.0, 'sequential_size': 1046260005, 'random_size': 0, 'sequential_count': 225680, 'random_count': 0, 'close_time': 0.003914499875463662, 'open_time': 0.2027455090183139, 'seek_time': 0.0009359999944535957, 'stat_time': 0.0014460000011240481, 'close_count': 1115, 'open_count': 1250, 'seek_count': 810, 'stat_count': 220, 'duration_pero': 0.0995800967772679, 'duration_perr': 0.060113180742805444, 'duration_score': 'very low', 'duration_th': 0.01}, 'proc_name_list': ['mAddMPI#lassen246#41422#35184372406720', 'mImgtbl#lassen378#29393#35184372403504', 'mProjExec#lassen246#41328#35184372402064', 'mProjExec#lassen365#41843#35184372402064', 'mProjExec#lassen370#152919#35184372402064', 'mProjExec#lassen371#113999#35184372402064', 'mProjExec#lassen372#119618#35184372402064', 'mProjExec#lassen373#144728#35184372402064', 'mProjExec#lassen375#95463#35184372402064', 'mProjExec#lassen378#29468#35184372402064', 'mProjExec#lassen525#133663#35184372402064', 'mProjExec#lassen526#64843#35184372402064', 'mProjExec#lassen575#13713#35184372402064', 'mProjExec#lassen578#12373#35184372402064', 'mProjExec#lassen70#61898#35184372402064', 'mProjExec#lassen734#76225#35184372402064'], 'file_name_list': ['/p/gpfs1/iopp/temp/montage/2854964/30/run/Kprojdir/hdu0_2mass-atlas-000121s-k0720080.fits', '/p/gpfs1/iopp/temp/montage/2854964/30/run/Kprojdir/hdu0_2mass-atlas-000121s-k0720080_area.fits', '/p/gpfs1/iopp/temp/montage/2854964/30/run/Kprojdir/hdu0_2mass-atlas-000121s-k0720092.fits', '/p/gpfs1/iopp/temp/montage/2854964/30/run/Kprojdir/hdu0_2mass-atlas-000121s-k0720092_area.fits', '/p/gpfs1/iopp/temp/montage/2854964/30/run/ngc3372.fits', '/p/gpfs1/iopp/temp/montage/2854964/30/run/ngc3372_area.fits', '/p/gpfs1/iopp/temp/montage/2854964/17/2mass-atlas-000118s-k0990150.fits', '/p/gpfs1/iopp/temp/montage/2854964/17/2mass-atlas-000118s-k0990174.fits', '/p/gpfs1/iopp/temp/montage/2854964/17/2mass-atlas-000118s-k0990186.fits', '/p/gpfs1/iopp/temp/montage/2854964/17/2mass-atlas-000118s-k0990209.fits', '/p/gpfs1/iopp/temp/montage/2854964/17/2mass-atlas-000118s-k0990233.fits', '/p/gpfs1/iopp/temp/montage/2854964/17/2mass-atlas-000118s-k0990267.fits', '/p/gpfs1/iopp/temp/montage/2854964/17/2mass-atlas-000118s-k1000009.fits', '/p/gpfs1/iopp/temp/montage/2854964/17/2mass-atlas-000118s-k1000021.fits', '/p/gpfs1/iopp/temp/montage/2854964/17/2mass-atlas-000118s-k1000044.fits', '/p/gpfs1/iopp/temp/montage/2854964/17/2mass-atlas-000118s-k1000056.fits', '/p/gpfs1/iopp/temp/montage/2854964/17/2mass-atlas-000118s-k1000068.fits', '/p/gpfs1/iopp/temp/montage/2854964/17/2mass-atlas-000118s-k1000115.fits', '/p/gpfs1/iopp/temp/montage/2854964/17/2mass-atlas-000118s-k1000127.fits', '/p/gpfs1/iopp/temp/montage/2854964/17/2mass-atlas-000118s-k1000139.fits', '/p/gpfs1/iopp/temp/montage/2854964/17/2mass-atlas-000118s-k1000198.fits', '/p/gpfs1/iopp/temp/montage/2854964/17/out', '/p/gpfs1/iopp/temp/montage/2854964/17/run', '/p/gpfs1/iopp/temp/montage/2854964/17/run/Kimages.tbl', '/p/gpfs1/iopp/temp/montage/2854964/1/2mass-atlas-000108s-k1140092.fits', '/p/gpfs1/iopp/temp/montage/2854964/1/run/Kprojdir/hdu0_2mass-atlas-000115s-k0520044.fits', '/p/gpfs1/iopp/temp/montage/2854964/1/run/Kprojdir/hdu0_2mass-atlas-000115s-k0520044_area.fits', '/p/gpfs1/iopp/temp/montage/2854964/1/run/Kstats.tbl', '/p/gpfs1/iopp/temp/montage/2854964/1/run/Ktemplate.hdr', '/p/gpfs1/iopp/temp/montage/2854964/8/2mass-atlas-000118s-k0710080.fits', '/p/gpfs1/iopp/temp/montage/2854964/8/run/Kprojdir/hdu0_2mass-atlas-000118s-k0720186.fits', '/p/gpfs1/iopp/temp/montage/2854964/8/run/Kprojdir/hdu0_2mass-atlas-000118s-k0720186_area.fits', '/p/gpfs1/iopp/temp/montage/2854964/8/run/Kstats.tbl', '/p/gpfs1/iopp/temp/montage/2854964/8/run/Ktemplate.hdr', '/p/gpfs1/iopp/temp/montage/2854964/10/2mass-atlas-000118s-k0830233.fits', '/p/gpfs1/iopp/temp/montage/2854964/10/run/Kprojdir/hdu0_2mass-atlas-000118s-k0830009.fits', '/p/gpfs1/iopp/temp/montage/2854964/10/run/Kprojdir/hdu0_2mass-atlas-000118s-k0830009_area.fits', '/p/gpfs1/iopp/temp/montage/2854964/10/run/Kstats.tbl', '/p/gpfs1/iopp/temp/montage/2854964/10/run/Ktemplate.hdr', '/p/gpfs1/iopp/temp/montage/2854964/11/2mass-atlas-000118s-k0850044.fits', '/p/gpfs1/iopp/temp/montage/2854964/11/run/Kprojdir/hdu0_2mass-atlas-000118s-k0860068.fits', '/p/gpfs1/iopp/temp/montage/2854964/11/run/Kprojdir/hdu0_2mass-atlas-000118s-k0860068_area.fits', '/p/gpfs1/iopp/temp/montage/2854964/11/run/Kstats.tbl', '/p/gpfs1/iopp/temp/montage/2854964/11/run/Ktemplate.hdr', '/p/gpfs1/iopp/temp/montage/2854964/12/2mass-atlas-000118s-k0860092.fits', '/p/gpfs1/iopp/temp/montage/2854964/12/run/Kprojdir/hdu0_2mass-atlas-000118s-k0860186.fits', '/p/gpfs1/iopp/temp/montage/2854964/12/run/Kprojdir/hdu0_2mass-atlas-000118s-k0860186_area.fits', '/p/gpfs1/iopp/temp/montage/2854964/12/run/Kstats.tbl', '/p/gpfs1/iopp/temp/montage/2854964/12/run/Ktemplate.hdr', '/p/gpfs1/iopp/temp/montage/2854964/13/2mass-atlas-000118s-k0880221.fits', '/p/gpfs1/iopp/temp/montage/2854964/13/run/Kprojdir/hdu0_2mass-atlas-000118s-k0880162.fits', '/p/gpfs1/iopp/temp/montage/2854964/13/run/Kprojdir/hdu0_2mass-atlas-000118s-k0880162_area.fits', '/p/gpfs1/iopp/temp/montage/2854964/13/run/Kstats.tbl', '/p/gpfs1/iopp/temp/montage/2854964/13/run/Ktemplate.hdr', '/p/gpfs1/iopp/temp/montage/2854964/15/2mass-atlas-000118s-k0960186.fits', '/p/gpfs1/iopp/temp/montage/2854964/15/run/Kprojdir/hdu0_2mass-atlas-000118s-k0960257.fits', '/p/gpfs1/iopp/temp/montage/2854964/15/run/Kprojdir/hdu0_2mass-atlas-000118s-k0960257_area.fits', '/p/gpfs1/iopp/temp/montage/2854964/15/run/Kstats.tbl', '/p/gpfs1/iopp/temp/montage/2854964/15/run/Ktemplate.hdr', '/p/gpfs1/iopp/temp/montage/2854964/17/run/Kprojdir/hdu0_2mass-atlas-000118s-k0990174.fits', '/p/gpfs1/iopp/temp/montage/2854964/17/run/Kprojdir/hdu0_2mass-atlas-000118s-k0990174_area.fits', '/p/gpfs1/iopp/temp/montage/2854964/17/run/Kstats.tbl', '/p/gpfs1/iopp/temp/montage/2854964/17/run/Ktemplate.hdr', '/p/gpfs1/iopp/temp/montage/2854964/23/2mass-atlas-000118s-k1140068.fits', '/p/gpfs1/iopp/temp/montage/2854964/23/run/Kprojdir/hdu0_2mass-atlas-000118s-k1140198.fits', '/p/gpfs1/iopp/temp/montage/2854964/23/run/Kprojdir/hdu0_2mass-atlas-000118s-k1140198_area.fits', '/p/gpfs1/iopp/temp/montage/2854964/23/run/Kstats.tbl', '/p/gpfs1/iopp/temp/montage/2854964/23/run/Ktemplate.hdr', '/p/gpfs1/iopp/temp/montage/2854964/24/2mass-atlas-000118s-k1150162.fits', '/p/gpfs1/iopp/temp/montage/2854964/24/run/Kprojdir/hdu0_2mass-atlas-000118s-k1150233.fits', '/p/gpfs1/iopp/temp/montage/2854964/24/run/Kprojdir/hdu0_2mass-atlas-000118s-k1150233_area.fits', '/p/gpfs1/iopp/temp/montage/2854964/24/run/Kstats.tbl', '/p/gpfs1/iopp/temp/montage/2854964/24/run/Ktemplate.hdr', '/p/gpfs1/iopp/temp/montage/2854964/26/2mass-atlas-000121s-k0610080.fits', '/p/gpfs1/iopp/temp/montage/2854964/26/run/Kprojdir/hdu0_2mass-atlas-000121s-k0620044.fits', '/p/gpfs1/iopp/temp/montage/2854964/26/run/Kprojdir/hdu0_2mass-atlas-000121s-k0620044_area.fits', '/p/gpfs1/iopp/temp/montage/2854964/26/run/Kstats.tbl', '/p/gpfs1/iopp/temp/montage/2854964/26/run/Ktemplate.hdr', '/p/gpfs1/iopp/temp/montage/2854964/28/2mass-atlas-000121s-k0700044.fits', '/p/gpfs1/iopp/temp/montage/2854964/28/run/Kprojdir/hdu0_2mass-atlas-000121s-k0700174.fits', '/p/gpfs1/iopp/temp/montage/2854964/28/run/Kprojdir/hdu0_2mass-atlas-000121s-k0700174_area.fits', '/p/gpfs1/iopp/temp/montage/2854964/28/run/Kstats.tbl', '/p/gpfs1/iopp/temp/montage/2854964/28/run/Ktemplate.hdr', '/p/gpfs1/iopp/temp/montage/2854964/0/2mass-atlas-000108s-k0870256.fits', '/p/gpfs1/iopp/temp/montage/2854964/0/run/Ktemplate.hdr', '/p/gpfs1/iopp/temp/montage/2854964/31/2mass-atlas-000121s-k0730103.fits', '/p/gpfs1/iopp/temp/montage/2854964/31/run/Kprojdir/hdu0_2mass-atlas-000121s-k0740021.fits', '/p/gpfs1/iopp/temp/montage/2854964/31/run/Kprojdir/hdu0_2mass-atlas-000121s-k0740021_area.fits', '/p/gpfs1/iopp/temp/montage/2854964/31/run/Kstats.tbl', '/p/gpfs1/iopp/temp/montage/2854964/31/run/Ktemplate.hdr']}, description='16 process(es) access(es) 90 file(s) during the 4th second(s) and has an I/O time of 0.36 seconds which is 9.96% of overall I/O time of the workload.', detail_list=None, reasons=[RuleReason(description=\"Overall 58.34% (0.21 seconds) of I/O time is spent on metadata access, specifically 57.09% (0.20 seconds) on the 'open' operation.\", value=0.5709171178502572), RuleReason(description=\"All files are stored on GPFS and 'open's become costly without other I/O operations.\", value=None)], rule=<Rule.BOTT_METADATA_ACCESS: 207>, value=0.5834198462524177, value_fmt='58.34%'),\n",
       "   7: RuleResult(data_dict={'llc': {'duration_sum': 0.0993375002175867, 'index_count': 163745, 'size_min': -2, 'size_max': 32768, 'size_sum': 707000620, 'read_time': 0.006164999969655582, 'write_time': 0.07908899923876334, 'metadata_time': 0.051378000680415425, 'read_size': 268218900, 'write_size': 438782400, 'metadata_size': -680, 'read_count': 9015, 'write_count': 152355, 'metadata_count': 2375, 'read_min': 57652, 'read_max': 521024, 'write_min': 57600, 'write_max': 57600, 'metadata_min': -52, 'metadata_max': 0, 'data_count': 161370, 'data_size': 707001300, 'data_time': 0.08492599918724864, 'sequential_time': 0.08492599918724864, 'random_time': 0.0, 'sequential_size': 707001300, 'random_size': 0, 'sequential_count': 161370, 'random_count': 0, 'close_time': 0.0022294999780569924, 'open_time': 0.04889550072221027, 'seek_time': 0.00020649999896704685, 'stat_time': 5.0499997996666934e-05, 'close_count': 805, 'open_count': 870, 'seek_count': 510, 'stat_count': 50, 'duration_pero': 0.0278552841267571, 'duration_perr': 0.01681530530241658, 'duration_score': 'very low', 'duration_th': 0.01}, 'proc_name_list': ['mProjExec#lassen246#41328#35184372402064', 'mProjExec#lassen365#41843#35184372402064', 'mProjExec#lassen370#152919#35184372402064', 'mProjExec#lassen371#113999#35184372402064', 'mProjExec#lassen372#119618#35184372402064', 'mProjExec#lassen373#144728#35184372402064', 'mProjExec#lassen375#95463#35184372402064', 'mProjExec#lassen525#133663#35184372402064', 'mProjExec#lassen526#64843#35184372402064', 'mProjExec#lassen528#142263#35184372402064', 'mProjExec#lassen575#13713#35184372402064', 'mProjExec#lassen578#12373#35184372402064', 'mProjExec#lassen734#76225#35184372402064'], 'file_name_list': ['/p/gpfs1/iopp/temp/montage/2854964/1/2mass-atlas-000109s-k1010256.fits', '/p/gpfs1/iopp/temp/montage/2854964/1/run/Kprojdir/hdu0_2mass-atlas-000109s-k0700009.fits', '/p/gpfs1/iopp/temp/montage/2854964/1/run/Kprojdir/hdu0_2mass-atlas-000109s-k0700009_area.fits', '/p/gpfs1/iopp/temp/montage/2854964/1/run/Kstats.tbl', '/p/gpfs1/iopp/temp/montage/2854964/1/run/Ktemplate.hdr', '/p/gpfs1/iopp/temp/montage/2854964/8/2mass-atlas-000118s-k0700103.fits', '/p/gpfs1/iopp/temp/montage/2854964/8/run/Ktemplate.hdr', '/p/gpfs1/iopp/temp/montage/2854964/10/2mass-atlas-000118s-k0830068.fits', '/p/gpfs1/iopp/temp/montage/2854964/10/run/Kprojdir/hdu0_2mass-atlas-000118s-k0840056.fits', '/p/gpfs1/iopp/temp/montage/2854964/10/run/Kprojdir/hdu0_2mass-atlas-000118s-k0840056_area.fits', '/p/gpfs1/iopp/temp/montage/2854964/10/run/Kstats.tbl', '/p/gpfs1/iopp/temp/montage/2854964/10/run/Ktemplate.hdr', '/p/gpfs1/iopp/temp/montage/2854964/11/2mass-atlas-000118s-k0850056.fits', '/p/gpfs1/iopp/temp/montage/2854964/11/run/Kprojdir/hdu0_2mass-atlas-000118s-k0860009.fits', '/p/gpfs1/iopp/temp/montage/2854964/11/run/Kprojdir/hdu0_2mass-atlas-000118s-k0860009_area.fits', '/p/gpfs1/iopp/temp/montage/2854964/11/run/Kstats.tbl', '/p/gpfs1/iopp/temp/montage/2854964/11/run/Ktemplate.hdr', '/p/gpfs1/iopp/temp/montage/2854964/12/2mass-atlas-000118s-k0870021.fits', '/p/gpfs1/iopp/temp/montage/2854964/12/run/Kprojdir/hdu0_2mass-atlas-000118s-k0860233.fits', '/p/gpfs1/iopp/temp/montage/2854964/12/run/Kprojdir/hdu0_2mass-atlas-000118s-k0860233_area.fits', '/p/gpfs1/iopp/temp/montage/2854964/12/run/Kstats.tbl', '/p/gpfs1/iopp/temp/montage/2854964/12/run/Ktemplate.hdr', '/p/gpfs1/iopp/temp/montage/2854964/13/2mass-atlas-000118s-k0880257.fits', '/p/gpfs1/iopp/temp/montage/2854964/13/run/Kprojdir/hdu0_2mass-atlas-000118s-k0880198.fits', '/p/gpfs1/iopp/temp/montage/2854964/13/run/Kprojdir/hdu0_2mass-atlas-000118s-k0880198_area.fits', '/p/gpfs1/iopp/temp/montage/2854964/13/run/Kstats.tbl', '/p/gpfs1/iopp/temp/montage/2854964/13/run/Ktemplate.hdr', '/p/gpfs1/iopp/temp/montage/2854964/15/2mass-atlas-000118s-k0970092.fits', '/p/gpfs1/iopp/temp/montage/2854964/15/run/Kprojdir/hdu0_2mass-atlas-000118s-k0970162.fits', '/p/gpfs1/iopp/temp/montage/2854964/15/run/Kprojdir/hdu0_2mass-atlas-000118s-k0970162_area.fits', '/p/gpfs1/iopp/temp/montage/2854964/15/run/Kstats.tbl', '/p/gpfs1/iopp/temp/montage/2854964/15/run/Ktemplate.hdr', '/p/gpfs1/iopp/temp/montage/2854964/23/2mass-atlas-000118s-k1140186.fits', '/p/gpfs1/iopp/temp/montage/2854964/23/run/Kprojdir/hdu0_2mass-atlas-000118s-k1140209.fits', '/p/gpfs1/iopp/temp/montage/2854964/23/run/Kprojdir/hdu0_2mass-atlas-000118s-k1140209_area.fits', '/p/gpfs1/iopp/temp/montage/2854964/23/run/Kstats.tbl', '/p/gpfs1/iopp/temp/montage/2854964/23/run/Ktemplate.hdr', '/p/gpfs1/iopp/temp/montage/2854964/24/2mass-atlas-000118s-k1150056.fits', '/p/gpfs1/iopp/temp/montage/2854964/24/run/Kprojdir/hdu0_2mass-atlas-000118s-k1150068.fits', '/p/gpfs1/iopp/temp/montage/2854964/24/run/Kprojdir/hdu0_2mass-atlas-000118s-k1150068_area.fits', '/p/gpfs1/iopp/temp/montage/2854964/24/run/Kstats.tbl', '/p/gpfs1/iopp/temp/montage/2854964/24/run/Ktemplate.hdr', '/p/gpfs1/iopp/temp/montage/2854964/25/2mass-atlas-000121s-k0590256.fits', '/p/gpfs1/iopp/temp/montage/2854964/25/run/Kprojdir/hdu0_2mass-atlas-000121s-k0590267.fits', '/p/gpfs1/iopp/temp/montage/2854964/25/run/Kprojdir/hdu0_2mass-atlas-000121s-k0590267_area.fits', '/p/gpfs1/iopp/temp/montage/2854964/25/run/Kstats.tbl', '/p/gpfs1/iopp/temp/montage/2854964/25/run/Ktemplate.hdr', '/p/gpfs1/iopp/temp/montage/2854964/26/2mass-atlas-000121s-k0610044.fits', '/p/gpfs1/iopp/temp/montage/2854964/26/run/Kprojdir/hdu0_2mass-atlas-000121s-k0610198.fits', '/p/gpfs1/iopp/temp/montage/2854964/26/run/Kprojdir/hdu0_2mass-atlas-000121s-k0610198_area.fits', '/p/gpfs1/iopp/temp/montage/2854964/26/run/Kstats.tbl', '/p/gpfs1/iopp/temp/montage/2854964/26/run/Ktemplate.hdr', '/p/gpfs1/iopp/temp/montage/2854964/28/2mass-atlas-000121s-k0630256.fits', '/p/gpfs1/iopp/temp/montage/2854964/28/run/Ktemplate.hdr', '/p/gpfs1/iopp/temp/montage/2854964/31/2mass-atlas-000121s-k0740056.fits', '/p/gpfs1/iopp/temp/montage/2854964/31/run/Ktemplate.hdr']}, description='13 process(es) access(es) 56 file(s) during the 7th second(s) and has an I/O time of 0.10 seconds which is 2.79% of overall I/O time of the workload.', detail_list=None, reasons=[RuleReason(description=\"Overall 51.72% (0.05 seconds) of I/O time is spent on metadata access, specifically 49.22% (0.05 seconds) on the 'open' operation.\", value=0.4922159367319555), RuleReason(description=\"All files are stored on GPFS and 'open's become costly without other I/O operations.\", value=None)], rule=<Rule.BOTT_METADATA_ACCESS: 207>, value=0.5172064987328872, value_fmt='51.72%'),\n",
       "   9: RuleResult(data_dict={'llc': {'duration_sum': 0.18896349708484195, 'index_count': 234505, 'size_min': -2, 'size_max': 32768, 'size_sum': 952747250, 'read_time': 0.006898999915847526, 'write_time': 0.071992499422322, 'metadata_time': 0.1491474975043161, 'read_size': 316700090, 'write_size': 636048000, 'metadata_size': -840, 'read_count': 10645, 'write_count': 220850, 'metadata_count': 3010, 'read_min': 80696, 'read_max': 579712, 'write_min': 80640, 'write_max': 80640, 'metadata_min': -56, 'metadata_max': 0, 'data_count': 231495, 'data_size': 952748090, 'data_time': 0.07889149933816952, 'sequential_time': 0.07889149933816952, 'random_time': 0.0, 'sequential_size': 952748090, 'random_size': 0, 'sequential_count': 231495, 'random_count': 0, 'close_time': 0.14456849753059942, 'open_time': 0.011986500030616298, 'seek_time': 0.0002115000023650282, 'stat_time': 5.0499997996666934e-05, 'close_count': 980, 'open_count': 1120, 'seek_count': 630, 'stat_count': 70, 'duration_pero': 0.052987360154569674, 'duration_perr': 0.03198670076792794, 'duration_score': 'very low', 'duration_th': 0.01}, 'proc_name_list': ['mProjExec#lassen246#41328#35184372402064', 'mProjExec#lassen365#41843#35184372402064', 'mProjExec#lassen370#152919#35184372402064', 'mProjExec#lassen371#113999#35184372402064', 'mProjExec#lassen372#119618#35184372402064', 'mProjExec#lassen373#144728#35184372402064', 'mProjExec#lassen375#95463#35184372402064', 'mProjExec#lassen378#29468#35184372402064', 'mProjExec#lassen525#133663#35184372402064', 'mProjExec#lassen526#64843#35184372402064', 'mProjExec#lassen575#13713#35184372402064', 'mProjExec#lassen578#12373#35184372402064', 'mProjExec#lassen70#61898#35184372402064', 'mProjExec#lassen734#76225#35184372402064'], 'file_name_list': ['/p/gpfs1/iopp/temp/montage/2854964/1/2mass-atlas-000108s-k1140080.fits', '/p/gpfs1/iopp/temp/montage/2854964/1/run/Kprojdir/hdu0_2mass-atlas-000109s-k1010256.fits', '/p/gpfs1/iopp/temp/montage/2854964/1/run/Kprojdir/hdu0_2mass-atlas-000109s-k1010256_area.fits', '/p/gpfs1/iopp/temp/montage/2854964/1/run/Kstats.tbl', '/p/gpfs1/iopp/temp/montage/2854964/1/run/Ktemplate.hdr', '/p/gpfs1/iopp/temp/montage/2854964/8/2mass-atlas-000118s-k0720080.fits', '/p/gpfs1/iopp/temp/montage/2854964/8/run/Kprojdir/hdu0_2mass-atlas-000118s-k0710068.fits', '/p/gpfs1/iopp/temp/montage/2854964/8/run/Kprojdir/hdu0_2mass-atlas-000118s-k0710068_area.fits', '/p/gpfs1/iopp/temp/montage/2854964/8/run/Kstats.tbl', '/p/gpfs1/iopp/temp/montage/2854964/8/run/Ktemplate.hdr', '/p/gpfs1/iopp/temp/montage/2854964/10/2mass-atlas-000118s-k0830267.fits', '/p/gpfs1/iopp/temp/montage/2854964/10/run/Kprojdir/hdu0_2mass-atlas-000118s-k0830033.fits', '/p/gpfs1/iopp/temp/montage/2854964/10/run/Kprojdir/hdu0_2mass-atlas-000118s-k0830033_area.fits', '/p/gpfs1/iopp/temp/montage/2854964/10/run/Kstats.tbl', '/p/gpfs1/iopp/temp/montage/2854964/10/run/Ktemplate.hdr', '/p/gpfs1/iopp/temp/montage/2854964/11/2mass-atlas-000118s-k0850221.fits', '/p/gpfs1/iopp/temp/montage/2854964/11/run/Kprojdir/hdu0_2mass-atlas-000118s-k0840267.fits', '/p/gpfs1/iopp/temp/montage/2854964/11/run/Kprojdir/hdu0_2mass-atlas-000118s-k0840267_area.fits', '/p/gpfs1/iopp/temp/montage/2854964/11/run/Kstats.tbl', '/p/gpfs1/iopp/temp/montage/2854964/11/run/Ktemplate.hdr', '/p/gpfs1/iopp/temp/montage/2854964/12/2mass-atlas-000118s-k0860245.fits', '/p/gpfs1/iopp/temp/montage/2854964/12/run/Kprojdir/hdu0_2mass-atlas-000118s-k0870174.fits', '/p/gpfs1/iopp/temp/montage/2854964/12/run/Kprojdir/hdu0_2mass-atlas-000118s-k0870174_area.fits', '/p/gpfs1/iopp/temp/montage/2854964/12/run/Kstats.tbl', '/p/gpfs1/iopp/temp/montage/2854964/12/run/Ktemplate.hdr', '/p/gpfs1/iopp/temp/montage/2854964/13/2mass-atlas-000118s-k0880044.fits', '/p/gpfs1/iopp/temp/montage/2854964/13/run/Kprojdir/hdu0_2mass-atlas-000118s-k0880186.fits', '/p/gpfs1/iopp/temp/montage/2854964/13/run/Kprojdir/hdu0_2mass-atlas-000118s-k0880186_area.fits', '/p/gpfs1/iopp/temp/montage/2854964/13/run/Kstats.tbl', '/p/gpfs1/iopp/temp/montage/2854964/13/run/Ktemplate.hdr', '/p/gpfs1/iopp/temp/montage/2854964/15/2mass-atlas-000118s-k0970033.fits', '/p/gpfs1/iopp/temp/montage/2854964/15/run/Kprojdir/hdu0_2mass-atlas-000118s-k0970009.fits', '/p/gpfs1/iopp/temp/montage/2854964/15/run/Kprojdir/hdu0_2mass-atlas-000118s-k0970009_area.fits', '/p/gpfs1/iopp/temp/montage/2854964/15/run/Kstats.tbl', '/p/gpfs1/iopp/temp/montage/2854964/15/run/Ktemplate.hdr', '/p/gpfs1/iopp/temp/montage/2854964/17/2mass-atlas-000118s-k0990186.fits', '/p/gpfs1/iopp/temp/montage/2854964/17/run/Kprojdir/hdu0_2mass-atlas-000118s-k1000068.fits', '/p/gpfs1/iopp/temp/montage/2854964/17/run/Kprojdir/hdu0_2mass-atlas-000118s-k1000068_area.fits', '/p/gpfs1/iopp/temp/montage/2854964/17/run/Kstats.tbl', '/p/gpfs1/iopp/temp/montage/2854964/17/run/Ktemplate.hdr', '/p/gpfs1/iopp/temp/montage/2854964/23/2mass-atlas-000118s-k1140103.fits', '/p/gpfs1/iopp/temp/montage/2854964/23/run/Kprojdir/hdu0_2mass-atlas-000118s-k1140033.fits', '/p/gpfs1/iopp/temp/montage/2854964/23/run/Kprojdir/hdu0_2mass-atlas-000118s-k1140033_area.fits', '/p/gpfs1/iopp/temp/montage/2854964/23/run/Kstats.tbl', '/p/gpfs1/iopp/temp/montage/2854964/23/run/Ktemplate.hdr', '/p/gpfs1/iopp/temp/montage/2854964/24/2mass-atlas-000118s-k1150033.fits', '/p/gpfs1/iopp/temp/montage/2854964/24/run/Kprojdir/hdu0_2mass-atlas-000118s-k1150174.fits', '/p/gpfs1/iopp/temp/montage/2854964/24/run/Kprojdir/hdu0_2mass-atlas-000118s-k1150174_area.fits', '/p/gpfs1/iopp/temp/montage/2854964/24/run/Kstats.tbl', '/p/gpfs1/iopp/temp/montage/2854964/24/run/Ktemplate.hdr', '/p/gpfs1/iopp/temp/montage/2854964/26/2mass-atlas-000121s-k0620068.fits', '/p/gpfs1/iopp/temp/montage/2854964/26/run/Kprojdir/hdu0_2mass-atlas-000121s-k0620021.fits', '/p/gpfs1/iopp/temp/montage/2854964/26/run/Kprojdir/hdu0_2mass-atlas-000121s-k0620021_area.fits', '/p/gpfs1/iopp/temp/montage/2854964/26/run/Kstats.tbl', '/p/gpfs1/iopp/temp/montage/2854964/26/run/Ktemplate.hdr', '/p/gpfs1/iopp/temp/montage/2854964/28/2mass-atlas-000121s-k0700162.fits', '/p/gpfs1/iopp/temp/montage/2854964/28/run/Kprojdir/hdu0_2mass-atlas-000121s-k0630186.fits', '/p/gpfs1/iopp/temp/montage/2854964/28/run/Kprojdir/hdu0_2mass-atlas-000121s-k0630186_area.fits', '/p/gpfs1/iopp/temp/montage/2854964/28/run/Kstats.tbl', '/p/gpfs1/iopp/temp/montage/2854964/28/run/Ktemplate.hdr', '/p/gpfs1/iopp/temp/montage/2854964/0/2mass-atlas-000108s-k1110162.fits', '/p/gpfs1/iopp/temp/montage/2854964/0/run/Kprojdir/hdu0_2mass-atlas-000108s-k1100162.fits', '/p/gpfs1/iopp/temp/montage/2854964/0/run/Kprojdir/hdu0_2mass-atlas-000108s-k1100162_area.fits', '/p/gpfs1/iopp/temp/montage/2854964/0/run/Kstats.tbl', '/p/gpfs1/iopp/temp/montage/2854964/0/run/Ktemplate.hdr', '/p/gpfs1/iopp/temp/montage/2854964/31/2mass-atlas-000121s-k0730162.fits', '/p/gpfs1/iopp/temp/montage/2854964/31/run/Kprojdir/hdu0_2mass-atlas-000121s-k0730139.fits', '/p/gpfs1/iopp/temp/montage/2854964/31/run/Kprojdir/hdu0_2mass-atlas-000121s-k0730139_area.fits', '/p/gpfs1/iopp/temp/montage/2854964/31/run/Kstats.tbl', '/p/gpfs1/iopp/temp/montage/2854964/31/run/Ktemplate.hdr']}, description='14 process(es) access(es) 70 file(s) during the 9th second(s) and has an I/O time of 0.19 seconds which is 5.30% of overall I/O time of the workload.', detail_list=None, reasons=[RuleReason(description=\"Overall 78.93% (0.15 seconds) of I/O time is spent on metadata access, specifically 76.51% (0.14 seconds) on the 'close' operation.\", value=0.7650604469163174)], rule=<Rule.BOTT_METADATA_ACCESS: 207>, value=0.7892926401407092, value_fmt='78.93%'),\n",
       "   10: RuleResult(data_dict={'llc': {'duration_sum': 0.13081900170647032, 'index_count': 256525, 'size_min': -2, 'size_max': 32768, 'size_sum': 1039344695, 'read_time': 0.0066014999663366325, 'write_time': 0.07563049922907794, 'metadata_time': 0.08308050223035934, 'read_size': 342932795, 'write_size': 696412800, 'metadata_size': -900, 'read_count': 11505, 'write_count': 241810, 'metadata_count': 3210, 'read_min': 86460, 'read_max': 621120, 'write_min': 86400, 'write_max': 86400, 'metadata_min': -60, 'metadata_max': 0, 'data_count': 253315, 'data_size': 1039345595, 'data_time': 0.0815584991681817, 'sequential_time': 0.0815584991681817, 'random_time': 0.0, 'sequential_size': 1039345595, 'random_size': 0, 'sequential_count': 253315, 'random_count': 0, 'close_time': 0.005939000138823758, 'open_time': 0.08023400228012179, 'seek_time': 0.00019850000114729482, 'stat_time': 5.500000042957254e-05, 'close_count': 1040, 'open_count': 1195, 'seek_count': 675, 'stat_count': 75, 'duration_pero': 0.0366830296084632, 'duration_perr': 0.022144320606350517, 'duration_score': 'very low', 'duration_th': 0.01}, 'proc_name_list': ['mProjExec#lassen246#41328#35184372402064', 'mProjExec#lassen365#41843#35184372402064', 'mProjExec#lassen370#152919#35184372402064', 'mProjExec#lassen371#113999#35184372402064', 'mProjExec#lassen372#119618#35184372402064', 'mProjExec#lassen373#144728#35184372402064', 'mProjExec#lassen375#95463#35184372402064', 'mProjExec#lassen378#29468#35184372402064', 'mProjExec#lassen525#133663#35184372402064', 'mProjExec#lassen526#64843#35184372402064', 'mProjExec#lassen528#142263#35184372402064', 'mProjExec#lassen575#13713#35184372402064', 'mProjExec#lassen578#12373#35184372402064', 'mProjExec#lassen70#61898#35184372402064', 'mProjExec#lassen734#76225#35184372402064'], 'file_name_list': ['/p/gpfs1/iopp/temp/montage/2854964/1/2mass-atlas-000115s-k0520033.fits', '/p/gpfs1/iopp/temp/montage/2854964/1/run/Kprojdir/hdu0_2mass-atlas-000108s-k1140080.fits', '/p/gpfs1/iopp/temp/montage/2854964/1/run/Kprojdir/hdu0_2mass-atlas-000108s-k1140080_area.fits', '/p/gpfs1/iopp/temp/montage/2854964/1/run/Kstats.tbl', '/p/gpfs1/iopp/temp/montage/2854964/1/run/Ktemplate.hdr', '/p/gpfs1/iopp/temp/montage/2854964/8/2mass-atlas-000118s-k0710209.fits', '/p/gpfs1/iopp/temp/montage/2854964/8/run/Kprojdir/hdu0_2mass-atlas-000118s-k0720080.fits', '/p/gpfs1/iopp/temp/montage/2854964/8/run/Kprojdir/hdu0_2mass-atlas-000118s-k0720080_area.fits', '/p/gpfs1/iopp/temp/montage/2854964/8/run/Kstats.tbl', '/p/gpfs1/iopp/temp/montage/2854964/8/run/Ktemplate.hdr', '/p/gpfs1/iopp/temp/montage/2854964/10/2mass-atlas-000118s-k0760221.fits', '/p/gpfs1/iopp/temp/montage/2854964/10/run/Kprojdir/hdu0_2mass-atlas-000118s-k0830267.fits', '/p/gpfs1/iopp/temp/montage/2854964/10/run/Kprojdir/hdu0_2mass-atlas-000118s-k0830267_area.fits', '/p/gpfs1/iopp/temp/montage/2854964/10/run/Kstats.tbl', '/p/gpfs1/iopp/temp/montage/2854964/10/run/Ktemplate.hdr', '/p/gpfs1/iopp/temp/montage/2854964/11/2mass-atlas-000118s-k0860080.fits', '/p/gpfs1/iopp/temp/montage/2854964/11/run/Kprojdir/hdu0_2mass-atlas-000118s-k0850221.fits', '/p/gpfs1/iopp/temp/montage/2854964/11/run/Kprojdir/hdu0_2mass-atlas-000118s-k0850221_area.fits', '/p/gpfs1/iopp/temp/montage/2854964/11/run/Kstats.tbl', '/p/gpfs1/iopp/temp/montage/2854964/11/run/Ktemplate.hdr', '/p/gpfs1/iopp/temp/montage/2854964/12/2mass-atlas-000118s-k0860221.fits', '/p/gpfs1/iopp/temp/montage/2854964/12/run/Kprojdir/hdu0_2mass-atlas-000118s-k0860245.fits', '/p/gpfs1/iopp/temp/montage/2854964/12/run/Kprojdir/hdu0_2mass-atlas-000118s-k0860245_area.fits', '/p/gpfs1/iopp/temp/montage/2854964/12/run/Kstats.tbl', '/p/gpfs1/iopp/temp/montage/2854964/12/run/Ktemplate.hdr', '/p/gpfs1/iopp/temp/montage/2854964/13/2mass-atlas-000118s-k0870233.fits', '/p/gpfs1/iopp/temp/montage/2854964/13/run/Kprojdir/hdu0_2mass-atlas-000118s-k0880044.fits', '/p/gpfs1/iopp/temp/montage/2854964/13/run/Kprojdir/hdu0_2mass-atlas-000118s-k0880044_area.fits', '/p/gpfs1/iopp/temp/montage/2854964/13/run/Kstats.tbl', '/p/gpfs1/iopp/temp/montage/2854964/13/run/Ktemplate.hdr', '/p/gpfs1/iopp/temp/montage/2854964/15/2mass-atlas-000118s-k0960151.fits', '/p/gpfs1/iopp/temp/montage/2854964/15/run/Kprojdir/hdu0_2mass-atlas-000118s-k0970033.fits', '/p/gpfs1/iopp/temp/montage/2854964/15/run/Kprojdir/hdu0_2mass-atlas-000118s-k0970033_area.fits', '/p/gpfs1/iopp/temp/montage/2854964/15/run/Kstats.tbl', '/p/gpfs1/iopp/temp/montage/2854964/15/run/Ktemplate.hdr', '/p/gpfs1/iopp/temp/montage/2854964/17/2mass-atlas-000118s-k1000009.fits', '/p/gpfs1/iopp/temp/montage/2854964/17/run/Kprojdir/hdu0_2mass-atlas-000118s-k0990186.fits', '/p/gpfs1/iopp/temp/montage/2854964/17/run/Kprojdir/hdu0_2mass-atlas-000118s-k0990186_area.fits', '/p/gpfs1/iopp/temp/montage/2854964/17/run/Kstats.tbl', '/p/gpfs1/iopp/temp/montage/2854964/17/run/Ktemplate.hdr', '/p/gpfs1/iopp/temp/montage/2854964/23/2mass-atlas-000118s-k1130233.fits', '/p/gpfs1/iopp/temp/montage/2854964/23/run/Kprojdir/hdu0_2mass-atlas-000118s-k1140103.fits', '/p/gpfs1/iopp/temp/montage/2854964/23/run/Kprojdir/hdu0_2mass-atlas-000118s-k1140103_area.fits', '/p/gpfs1/iopp/temp/montage/2854964/23/run/Kstats.tbl', '/p/gpfs1/iopp/temp/montage/2854964/23/run/Ktemplate.hdr', '/p/gpfs1/iopp/temp/montage/2854964/24/2mass-atlas-000118s-k1150186.fits', '/p/gpfs1/iopp/temp/montage/2854964/24/run/Kprojdir/hdu0_2mass-atlas-000118s-k1150033.fits', '/p/gpfs1/iopp/temp/montage/2854964/24/run/Kprojdir/hdu0_2mass-atlas-000118s-k1150033_area.fits', '/p/gpfs1/iopp/temp/montage/2854964/24/run/Kstats.tbl', '/p/gpfs1/iopp/temp/montage/2854964/24/run/Ktemplate.hdr', '/p/gpfs1/iopp/temp/montage/2854964/25/2mass-atlas-000118s-k1150256.fits', '/p/gpfs1/iopp/temp/montage/2854964/25/run/Kprojdir/hdu0_2mass-atlas-000121s-k0600080.fits', '/p/gpfs1/iopp/temp/montage/2854964/25/run/Kprojdir/hdu0_2mass-atlas-000121s-k0600080_area.fits', '/p/gpfs1/iopp/temp/montage/2854964/25/run/Kstats.tbl', '/p/gpfs1/iopp/temp/montage/2854964/25/run/Ktemplate.hdr', '/p/gpfs1/iopp/temp/montage/2854964/26/2mass-atlas-000121s-k0600150.fits', '/p/gpfs1/iopp/temp/montage/2854964/26/run/Kprojdir/hdu0_2mass-atlas-000121s-k0620068.fits', '/p/gpfs1/iopp/temp/montage/2854964/26/run/Kprojdir/hdu0_2mass-atlas-000121s-k0620068_area.fits', '/p/gpfs1/iopp/temp/montage/2854964/26/run/Kstats.tbl', '/p/gpfs1/iopp/temp/montage/2854964/26/run/Ktemplate.hdr', '/p/gpfs1/iopp/temp/montage/2854964/28/2mass-atlas-000121s-k0700092.fits', '/p/gpfs1/iopp/temp/montage/2854964/28/run/Kprojdir/hdu0_2mass-atlas-000121s-k0700162.fits', '/p/gpfs1/iopp/temp/montage/2854964/28/run/Kprojdir/hdu0_2mass-atlas-000121s-k0700162_area.fits', '/p/gpfs1/iopp/temp/montage/2854964/28/run/Kstats.tbl', '/p/gpfs1/iopp/temp/montage/2854964/28/run/Ktemplate.hdr', '/p/gpfs1/iopp/temp/montage/2854964/0/2mass-atlas-000108s-k1110221.fits', '/p/gpfs1/iopp/temp/montage/2854964/0/run/Kprojdir/hdu0_2mass-atlas-000108s-k1110162.fits', '/p/gpfs1/iopp/temp/montage/2854964/0/run/Kprojdir/hdu0_2mass-atlas-000108s-k1110162_area.fits', '/p/gpfs1/iopp/temp/montage/2854964/0/run/Kstats.tbl', '/p/gpfs1/iopp/temp/montage/2854964/0/run/Ktemplate.hdr', '/p/gpfs1/iopp/temp/montage/2854964/31/2mass-atlas-000121s-k0740233.fits', '/p/gpfs1/iopp/temp/montage/2854964/31/run/Kprojdir/hdu0_2mass-atlas-000121s-k0730162.fits', '/p/gpfs1/iopp/temp/montage/2854964/31/run/Kprojdir/hdu0_2mass-atlas-000121s-k0730162_area.fits', '/p/gpfs1/iopp/temp/montage/2854964/31/run/Kstats.tbl', '/p/gpfs1/iopp/temp/montage/2854964/31/run/Ktemplate.hdr']}, description='15 process(es) access(es) 75 file(s) during the 10th second(s) and has an I/O time of 0.13 seconds which is 3.67% of overall I/O time of the workload.', detail_list=None, reasons=[RuleReason(description=\"Overall 63.51% (0.08 seconds) of I/O time is spent on metadata access, specifically 61.33% (0.08 seconds) on the 'open' operation.\", value=0.6133207044351984), RuleReason(description=\"All files are stored on GPFS and 'open's become costly without other I/O operations.\", value=None)], rule=<Rule.BOTT_METADATA_ACCESS: 207>, value=0.6350797754654489, value_fmt='63.51%'),\n",
       "   13: RuleResult(data_dict={'llc': {'duration_sum': 0.12228550097432844, 'index_count': 216115, 'size_min': -2, 'size_max': 32768, 'size_sum': 817168870, 'read_time': 0.006295499936186388, 'write_time': 0.07242049923576133, 'metadata_time': 0.08110500147836319, 'read_size': 223284690, 'write_size': 593884800, 'metadata_size': -620, 'read_count': 7545, 'write_count': 206210, 'metadata_count': 2360, 'read_min': 69162, 'read_max': 488256, 'write_min': 77760, 'write_max': 77760, 'metadata_min': -48, 'metadata_max': 0, 'data_count': 213755, 'data_size': 817169490, 'data_time': 0.07871599917194771, 'sequential_time': 0.07871599917194771, 'random_time': 0.0, 'sequential_size': 817169490, 'random_size': 0, 'sequential_count': 213755, 'random_count': 0, 'close_time': 0.0020605000099749304, 'open_time': 0.079567501488782, 'seek_time': 0.00020650000294608617, 'stat_time': 5.450000116979936e-05, 'close_count': 730, 'open_count': 905, 'seek_count': 465, 'stat_count': 60, 'duration_pero': 0.03429014588409887, 'duration_perr': 0.020699816569153526, 'duration_score': 'very low', 'duration_th': 0.01}, 'proc_name_list': ['mProjExec#lassen246#41328#35184372402064', 'mProjExec#lassen365#41843#35184372402064', 'mProjExec#lassen370#152919#35184372402064', 'mProjExec#lassen372#119618#35184372402064', 'mProjExec#lassen373#144728#35184372402064', 'mProjExec#lassen375#95463#35184372402064', 'mProjExec#lassen378#29468#35184372402064', 'mProjExec#lassen525#133663#35184372402064', 'mProjExec#lassen526#64843#35184372402064', 'mProjExec#lassen528#142263#35184372402064', 'mProjExec#lassen575#13713#35184372402064', 'mProjExec#lassen578#12373#35184372402064', 'mProjExec#lassen70#61898#35184372402064', 'mProjExec#lassen734#76225#35184372402064'], 'file_name_list': ['/p/gpfs1/iopp/temp/montage/2854964/1/2mass-atlas-000109s-k1010245.fits', '/p/gpfs1/iopp/temp/montage/2854964/1/run/Kprojdir/hdu0_2mass-atlas-000109s-k1080033.fits', '/p/gpfs1/iopp/temp/montage/2854964/1/run/Kprojdir/hdu0_2mass-atlas-000109s-k1080033_area.fits', '/p/gpfs1/iopp/temp/montage/2854964/1/run/Kstats.tbl', '/p/gpfs1/iopp/temp/montage/2854964/1/run/Ktemplate.hdr', '/p/gpfs1/iopp/temp/montage/2854964/8/2mass-atlas-000118s-k0700245.fits', '/p/gpfs1/iopp/temp/montage/2854964/8/run/Kprojdir/hdu0_2mass-atlas-000118s-k0710221.fits', '/p/gpfs1/iopp/temp/montage/2854964/8/run/Kprojdir/hdu0_2mass-atlas-000118s-k0710221_area.fits', '/p/gpfs1/iopp/temp/montage/2854964/8/run/Kstats.tbl', '/p/gpfs1/iopp/temp/montage/2854964/8/run/Ktemplate.hdr', '/p/gpfs1/iopp/temp/montage/2854964/10/2mass-atlas-000118s-k0760245.fits', '/p/gpfs1/iopp/temp/montage/2854964/10/run/Kprojdir/hdu0_2mass-atlas-000118s-k0840021.fits', '/p/gpfs1/iopp/temp/montage/2854964/10/run/Kprojdir/hdu0_2mass-atlas-000118s-k0840021_area.fits', '/p/gpfs1/iopp/temp/montage/2854964/10/run/Kstats.tbl', '/p/gpfs1/iopp/temp/montage/2854964/10/run/Ktemplate.hdr', '/p/gpfs1/iopp/temp/montage/2854964/12/run/Kprojdir/hdu0_2mass-atlas-000118s-k0870009.fits', '/p/gpfs1/iopp/temp/montage/2854964/12/run/Kprojdir/hdu0_2mass-atlas-000118s-k0870009_area.fits', '/p/gpfs1/iopp/temp/montage/2854964/12/run/Ktemplate.hdr', '/p/gpfs1/iopp/temp/montage/2854964/13/2mass-atlas-000118s-k0880115.fits', '/p/gpfs1/iopp/temp/montage/2854964/13/run/Kprojdir/hdu0_2mass-atlas-000118s-k0880056.fits', '/p/gpfs1/iopp/temp/montage/2854964/13/run/Kprojdir/hdu0_2mass-atlas-000118s-k0880056_area.fits', '/p/gpfs1/iopp/temp/montage/2854964/13/run/Kstats.tbl', '/p/gpfs1/iopp/temp/montage/2854964/13/run/Ktemplate.hdr', '/p/gpfs1/iopp/temp/montage/2854964/15/2mass-atlas-000118s-k0970174.fits', '/p/gpfs1/iopp/temp/montage/2854964/15/run/Kprojdir/hdu0_2mass-atlas-000118s-k0960267.fits', '/p/gpfs1/iopp/temp/montage/2854964/15/run/Kprojdir/hdu0_2mass-atlas-000118s-k0960267_area.fits', '/p/gpfs1/iopp/temp/montage/2854964/15/run/Kstats.tbl', '/p/gpfs1/iopp/temp/montage/2854964/15/run/Ktemplate.hdr', '/p/gpfs1/iopp/temp/montage/2854964/17/2mass-atlas-000118s-k1000198.fits', '/p/gpfs1/iopp/temp/montage/2854964/17/run/Kprojdir/hdu0_2mass-atlas-000118s-k1000115.fits', '/p/gpfs1/iopp/temp/montage/2854964/17/run/Kprojdir/hdu0_2mass-atlas-000118s-k1000115_area.fits', '/p/gpfs1/iopp/temp/montage/2854964/17/run/Kstats.tbl', '/p/gpfs1/iopp/temp/montage/2854964/17/run/Ktemplate.hdr', '/p/gpfs1/iopp/temp/montage/2854964/23/2mass-atlas-000118s-k1140139.fits', '/p/gpfs1/iopp/temp/montage/2854964/23/run/Kprojdir/hdu0_2mass-atlas-000118s-k1140127.fits', '/p/gpfs1/iopp/temp/montage/2854964/23/run/Kprojdir/hdu0_2mass-atlas-000118s-k1140127_area.fits', '/p/gpfs1/iopp/temp/montage/2854964/23/run/Kstats.tbl', '/p/gpfs1/iopp/temp/montage/2854964/23/run/Ktemplate.hdr', '/p/gpfs1/iopp/temp/montage/2854964/24/2mass-atlas-000118s-k1140245.fits', '/p/gpfs1/iopp/temp/montage/2854964/24/run/Kprojdir/hdu0_2mass-atlas-000118s-k1150115.fits', '/p/gpfs1/iopp/temp/montage/2854964/24/run/Kprojdir/hdu0_2mass-atlas-000118s-k1150115_area.fits', '/p/gpfs1/iopp/temp/montage/2854964/24/run/Kstats.tbl', '/p/gpfs1/iopp/temp/montage/2854964/24/run/Ktemplate.hdr', '/p/gpfs1/iopp/temp/montage/2854964/25/run/Kprojdir/hdu0_2mass-atlas-000119s-k0590267.fits', '/p/gpfs1/iopp/temp/montage/2854964/25/run/Kprojdir/hdu0_2mass-atlas-000119s-k0590267_area.fits', '/p/gpfs1/iopp/temp/montage/2854964/25/run/Ktemplate.hdr', '/p/gpfs1/iopp/temp/montage/2854964/26/2mass-atlas-000121s-k0610150.fits', '/p/gpfs1/iopp/temp/montage/2854964/26/run/Kprojdir/hdu0_2mass-atlas-000121s-k0610139.fits', '/p/gpfs1/iopp/temp/montage/2854964/26/run/Kprojdir/hdu0_2mass-atlas-000121s-k0610139_area.fits', '/p/gpfs1/iopp/temp/montage/2854964/26/run/Kstats.tbl', '/p/gpfs1/iopp/temp/montage/2854964/26/run/Ktemplate.hdr', '/p/gpfs1/iopp/temp/montage/2854964/28/2mass-atlas-000121s-k0700068.fits', '/p/gpfs1/iopp/temp/montage/2854964/28/run/Kprojdir/hdu0_2mass-atlas-000121s-k0630174.fits', '/p/gpfs1/iopp/temp/montage/2854964/28/run/Kprojdir/hdu0_2mass-atlas-000121s-k0630174_area.fits', '/p/gpfs1/iopp/temp/montage/2854964/28/run/Kstats.tbl', '/p/gpfs1/iopp/temp/montage/2854964/28/run/Ktemplate.hdr', '/p/gpfs1/iopp/temp/montage/2854964/0/2mass-atlas-000108s-k1090198.fits', '/p/gpfs1/iopp/temp/montage/2854964/0/run/Kprojdir/hdu0_2mass-atlas-000108s-k1110256.fits', '/p/gpfs1/iopp/temp/montage/2854964/0/run/Kprojdir/hdu0_2mass-atlas-000108s-k1110256_area.fits', '/p/gpfs1/iopp/temp/montage/2854964/0/run/Kstats.tbl', '/p/gpfs1/iopp/temp/montage/2854964/0/run/Ktemplate.hdr', '/p/gpfs1/iopp/temp/montage/2854964/31/2mass-atlas-000121s-k0730221.fits', '/p/gpfs1/iopp/temp/montage/2854964/31/run/Kprojdir/hdu0_2mass-atlas-000121s-k0740198.fits', '/p/gpfs1/iopp/temp/montage/2854964/31/run/Kprojdir/hdu0_2mass-atlas-000121s-k0740198_area.fits', '/p/gpfs1/iopp/temp/montage/2854964/31/run/Kstats.tbl', '/p/gpfs1/iopp/temp/montage/2854964/31/run/Ktemplate.hdr']}, description='14 process(es) access(es) 66 file(s) during the 13th second(s) and has an I/O time of 0.12 seconds which is 3.43% of overall I/O time of the workload.', detail_list=None, reasons=[RuleReason(description=\"Overall 66.32% (0.08 seconds) of I/O time is spent on metadata access, specifically 65.07% (0.08 seconds) on the 'open' operation.\", value=0.6506699555942099), RuleReason(description=\"All files are stored on GPFS and 'open's become costly without other I/O operations.\", value=None)], rule=<Rule.BOTT_METADATA_ACCESS: 207>, value=0.6632429914597125, value_fmt='66.32%'),\n",
       "   15: RuleResult(data_dict={'llc': {'duration_sum': 0.09724449891734821, 'index_count': 212525, 'size_min': -2, 'size_max': 32768, 'size_sum': 883693010, 'read_time': 0.006997999981877001, 'write_time': 0.07424449926219268, 'metadata_time': 0.05047799981269918, 'read_size': 310084230, 'write_size': 573609600, 'metadata_size': -820, 'read_count': 10455, 'write_count': 199170, 'metadata_count': 2900, 'read_min': 74942, 'read_max': 642368, 'write_min': 74880, 'write_max': 74880, 'metadata_min': -64, 'metadata_max': 0, 'data_count': 209625, 'data_size': 883693830, 'data_time': 0.08088799918226641, 'sequential_time': 0.08088799918226641, 'random_time': 0.0, 'sequential_size': 883693830, 'random_size': 0, 'sequential_count': 209625, 'random_count': 0, 'close_time': 0.007634999824404076, 'open_time': 0.04808949982816557, 'seek_time': 0.0002629999991654586, 'stat_time': 0.0001049999991664663, 'close_count': 965, 'open_count': 1070, 'seek_count': 615, 'stat_count': 65, 'duration_pero': 0.027268384458775587, 'duration_perr': 0.01646101356178715, 'duration_score': 'very low', 'duration_th': 0.01}, 'proc_name_list': ['mProjExec#lassen246#41328#35184372402064', 'mProjExec#lassen365#41843#35184372402064', 'mProjExec#lassen370#152919#35184372402064', 'mProjExec#lassen371#113999#35184372402064', 'mProjExec#lassen372#119618#35184372402064', 'mProjExec#lassen373#144728#35184372402064', 'mProjExec#lassen375#95463#35184372402064', 'mProjExec#lassen378#29468#35184372402064', 'mProjExec#lassen525#133663#35184372402064', 'mProjExec#lassen526#64843#35184372402064', 'mProjExec#lassen528#142263#35184372402064', 'mProjExec#lassen575#13713#35184372402064', 'mProjExec#lassen578#12373#35184372402064', 'mProjExec#lassen70#61898#35184372402064', 'mProjExec#lassen734#76225#35184372402064'], 'file_name_list': ['/p/gpfs1/iopp/temp/montage/2854964/1/2mass-atlas-000108s-k1140115.fits', '/p/gpfs1/iopp/temp/montage/2854964/1/run/Kprojdir/hdu0_2mass-atlas-000109s-k1010245.fits', '/p/gpfs1/iopp/temp/montage/2854964/1/run/Kprojdir/hdu0_2mass-atlas-000109s-k1010245_area.fits', '/p/gpfs1/iopp/temp/montage/2854964/1/run/Kstats.tbl', '/p/gpfs1/iopp/temp/montage/2854964/1/run/Ktemplate.hdr', '/p/gpfs1/iopp/temp/montage/2854964/8/2mass-atlas-000118s-k0710056.fits', '/p/gpfs1/iopp/temp/montage/2854964/8/run/Kprojdir/hdu0_2mass-atlas-000118s-k0700245.fits', '/p/gpfs1/iopp/temp/montage/2854964/8/run/Kprojdir/hdu0_2mass-atlas-000118s-k0700245_area.fits', '/p/gpfs1/iopp/temp/montage/2854964/8/run/Kstats.tbl', '/p/gpfs1/iopp/temp/montage/2854964/8/run/Ktemplate.hdr', '/p/gpfs1/iopp/temp/montage/2854964/10/2mass-atlas-000118s-k0760257.fits', '/p/gpfs1/iopp/temp/montage/2854964/10/run/Ktemplate.hdr', '/p/gpfs1/iopp/temp/montage/2854964/11/2mass-atlas-000118s-k0850233.fits', '/p/gpfs1/iopp/temp/montage/2854964/11/run/Kprojdir/hdu0_2mass-atlas-000118s-k0860044.fits', '/p/gpfs1/iopp/temp/montage/2854964/11/run/Kprojdir/hdu0_2mass-atlas-000118s-k0860044_area.fits', '/p/gpfs1/iopp/temp/montage/2854964/11/run/Kstats.tbl', '/p/gpfs1/iopp/temp/montage/2854964/11/run/Ktemplate.hdr', '/p/gpfs1/iopp/temp/montage/2854964/12/2mass-atlas-000118s-k0870056.fits', '/p/gpfs1/iopp/temp/montage/2854964/12/run/Kprojdir/hdu0_2mass-atlas-000118s-k0870115.fits', '/p/gpfs1/iopp/temp/montage/2854964/12/run/Kprojdir/hdu0_2mass-atlas-000118s-k0870115_area.fits', '/p/gpfs1/iopp/temp/montage/2854964/12/run/Kstats.tbl', '/p/gpfs1/iopp/temp/montage/2854964/12/run/Ktemplate.hdr', '/p/gpfs1/iopp/temp/montage/2854964/13/2mass-atlas-000118s-k0870221.fits', '/p/gpfs1/iopp/temp/montage/2854964/13/run/Kprojdir/hdu0_2mass-atlas-000118s-k0880115.fits', '/p/gpfs1/iopp/temp/montage/2854964/13/run/Kprojdir/hdu0_2mass-atlas-000118s-k0880115_area.fits', '/p/gpfs1/iopp/temp/montage/2854964/13/run/Kstats.tbl', '/p/gpfs1/iopp/temp/montage/2854964/13/run/Ktemplate.hdr', '/p/gpfs1/iopp/temp/montage/2854964/15/2mass-atlas-000118s-k0970150.fits', '/p/gpfs1/iopp/temp/montage/2854964/15/run/Ktemplate.hdr', '/p/gpfs1/iopp/temp/montage/2854964/17/2mass-atlas-000118s-k0990150.fits', '/p/gpfs1/iopp/temp/montage/2854964/17/2mass-atlas-000118s-k0990267.fits', '/p/gpfs1/iopp/temp/montage/2854964/17/run/Kprojdir/hdu0_2mass-atlas-000118s-k0990267.fits', '/p/gpfs1/iopp/temp/montage/2854964/17/run/Kprojdir/hdu0_2mass-atlas-000118s-k0990267_area.fits', '/p/gpfs1/iopp/temp/montage/2854964/17/run/Kprojdir/hdu0_2mass-atlas-000118s-k1000198.fits', '/p/gpfs1/iopp/temp/montage/2854964/17/run/Kprojdir/hdu0_2mass-atlas-000118s-k1000198_area.fits', '/p/gpfs1/iopp/temp/montage/2854964/17/run/Kstats.tbl', '/p/gpfs1/iopp/temp/montage/2854964/17/run/Ktemplate.hdr', '/p/gpfs1/iopp/temp/montage/2854964/23/2mass-atlas-000118s-k1140080.fits', '/p/gpfs1/iopp/temp/montage/2854964/23/run/Kprojdir/hdu0_2mass-atlas-000118s-k1140139.fits', '/p/gpfs1/iopp/temp/montage/2854964/23/run/Kprojdir/hdu0_2mass-atlas-000118s-k1140139_area.fits', '/p/gpfs1/iopp/temp/montage/2854964/23/run/Kstats.tbl', '/p/gpfs1/iopp/temp/montage/2854964/23/run/Ktemplate.hdr', '/p/gpfs1/iopp/temp/montage/2854964/24/2mass-atlas-000118s-k1150021.fits', '/p/gpfs1/iopp/temp/montage/2854964/24/run/Ktemplate.hdr', '/p/gpfs1/iopp/temp/montage/2854964/25/2mass-atlas-000119s-k0600009.fits', '/p/gpfs1/iopp/temp/montage/2854964/25/run/Kprojdir/hdu0_2mass-atlas-000121s-k0600033.fits', '/p/gpfs1/iopp/temp/montage/2854964/25/run/Kprojdir/hdu0_2mass-atlas-000121s-k0600033_area.fits', '/p/gpfs1/iopp/temp/montage/2854964/25/run/Kstats.tbl', '/p/gpfs1/iopp/temp/montage/2854964/25/run/Ktemplate.hdr', '/p/gpfs1/iopp/temp/montage/2854964/26/2mass-atlas-000121s-k0600267.fits', '/p/gpfs1/iopp/temp/montage/2854964/26/run/Kprojdir/hdu0_2mass-atlas-000121s-k0600198.fits', '/p/gpfs1/iopp/temp/montage/2854964/26/run/Kprojdir/hdu0_2mass-atlas-000121s-k0600198_area.fits', '/p/gpfs1/iopp/temp/montage/2854964/26/run/Kstats.tbl', '/p/gpfs1/iopp/temp/montage/2854964/26/run/Ktemplate.hdr', '/p/gpfs1/iopp/temp/montage/2854964/28/2mass-atlas-000121s-k0700021.fits', '/p/gpfs1/iopp/temp/montage/2854964/28/run/Kprojdir/hdu0_2mass-atlas-000121s-k0700068.fits', '/p/gpfs1/iopp/temp/montage/2854964/28/run/Kprojdir/hdu0_2mass-atlas-000121s-k0700068_area.fits', '/p/gpfs1/iopp/temp/montage/2854964/28/run/Kstats.tbl', '/p/gpfs1/iopp/temp/montage/2854964/28/run/Ktemplate.hdr', '/p/gpfs1/iopp/temp/montage/2854964/0/2mass-atlas-000108s-k1130245.fits', '/p/gpfs1/iopp/temp/montage/2854964/0/run/Kprojdir/hdu0_2mass-atlas-000108s-k1090198.fits', '/p/gpfs1/iopp/temp/montage/2854964/0/run/Kprojdir/hdu0_2mass-atlas-000108s-k1090198_area.fits', '/p/gpfs1/iopp/temp/montage/2854964/0/run/Kstats.tbl', '/p/gpfs1/iopp/temp/montage/2854964/0/run/Ktemplate.hdr', '/p/gpfs1/iopp/temp/montage/2854964/31/2mass-atlas-000121s-k0730209.fits', '/p/gpfs1/iopp/temp/montage/2854964/31/run/Kprojdir/hdu0_2mass-atlas-000121s-k0730221.fits', '/p/gpfs1/iopp/temp/montage/2854964/31/run/Kprojdir/hdu0_2mass-atlas-000121s-k0730221_area.fits', '/p/gpfs1/iopp/temp/montage/2854964/31/run/Kstats.tbl', '/p/gpfs1/iopp/temp/montage/2854964/31/run/Ktemplate.hdr']}, description='15 process(es) access(es) 69 file(s) during the 15th second(s) and has an I/O time of 0.10 seconds which is 2.73% of overall I/O time of the workload.', detail_list=None, reasons=[RuleReason(description=\"Overall 51.91% (0.05 seconds) of I/O time is spent on metadata access, specifically 49.45% (0.05 seconds) on the 'open' operation.\", value=0.49452154480263877), RuleReason(description=\"All files are stored on GPFS and 'open's become costly without other I/O operations.\", value=None)], rule=<Rule.BOTT_METADATA_ACCESS: 207>, value=0.5190833453273521, value_fmt='51.91%'),\n",
       "   18: RuleResult(data_dict={'llc': {'duration_sum': 0.2037694978631066, 'index_count': 206610, 'size_min': -2, 'size_max': 32768, 'size_sum': 851559850, 'read_time': 0.006449499959444438, 'write_time': 0.059309999428762694, 'metadata_time': 0.1579934983968201, 'read_size': 293099830, 'write_size': 558460800, 'metadata_size': -780, 'read_count': 9905, 'write_count': 193910, 'metadata_count': 2795, 'read_min': 74932, 'read_max': 538304, 'write_min': 74880, 'write_max': 74880, 'metadata_min': -52, 'metadata_max': 0, 'data_count': 203815, 'data_size': 851560630, 'data_time': 0.06507049936772091, 'sequential_time': 0.06507049936772091, 'random_time': 0.0, 'sequential_size': 851560630, 'random_size': 0, 'sequential_count': 203815, 'random_count': 0, 'close_time': 0.003879500136463321, 'open_time': 0.15560149838620418, 'seek_time': 0.0002204999978516753, 'stat_time': 4.999999873689376e-05, 'close_count': 910, 'open_count': 1040, 'seek_count': 585, 'stat_count': 65, 'duration_pero': 0.05713911913336601, 'duration_perr': 0.03449297909030374, 'duration_score': 'very low', 'duration_th': 0.01}, 'proc_name_list': ['mProjExec#lassen365#41843#35184372402064', 'mProjExec#lassen370#152919#35184372402064', 'mProjExec#lassen371#113999#35184372402064', 'mProjExec#lassen372#119618#35184372402064', 'mProjExec#lassen373#144728#35184372402064', 'mProjExec#lassen375#95463#35184372402064', 'mProjExec#lassen378#29468#35184372402064', 'mProjExec#lassen525#133663#35184372402064', 'mProjExec#lassen526#64843#35184372402064', 'mProjExec#lassen528#142263#35184372402064', 'mProjExec#lassen575#13713#35184372402064', 'mProjExec#lassen578#12373#35184372402064', 'mProjExec#lassen734#76225#35184372402064'], 'file_name_list': ['/p/gpfs1/iopp/temp/montage/2854964/8/2mass-atlas-000118s-k0710044.fits', '/p/gpfs1/iopp/temp/montage/2854964/8/run/Kprojdir/hdu0_2mass-atlas-000118s-k0710021.fits', '/p/gpfs1/iopp/temp/montage/2854964/8/run/Kprojdir/hdu0_2mass-atlas-000118s-k0710021_area.fits', '/p/gpfs1/iopp/temp/montage/2854964/8/run/Kstats.tbl', '/p/gpfs1/iopp/temp/montage/2854964/8/run/Ktemplate.hdr', '/p/gpfs1/iopp/temp/montage/2854964/10/2mass-atlas-000118s-k0830221.fits', '/p/gpfs1/iopp/temp/montage/2854964/10/run/Kprojdir/hdu0_2mass-atlas-000118s-k0840162.fits', '/p/gpfs1/iopp/temp/montage/2854964/10/run/Kprojdir/hdu0_2mass-atlas-000118s-k0840162_area.fits', '/p/gpfs1/iopp/temp/montage/2854964/10/run/Kstats.tbl', '/p/gpfs1/iopp/temp/montage/2854964/10/run/Ktemplate.hdr', '/p/gpfs1/iopp/temp/montage/2854964/11/2mass-atlas-000118s-k0860056.fits', '/p/gpfs1/iopp/temp/montage/2854964/11/run/Kprojdir/hdu0_2mass-atlas-000118s-k0840257.fits', '/p/gpfs1/iopp/temp/montage/2854964/11/run/Kprojdir/hdu0_2mass-atlas-000118s-k0840257_area.fits', '/p/gpfs1/iopp/temp/montage/2854964/11/run/Kstats.tbl', '/p/gpfs1/iopp/temp/montage/2854964/11/run/Ktemplate.hdr', '/p/gpfs1/iopp/temp/montage/2854964/12/2mass-atlas-000118s-k0870033.fits', '/p/gpfs1/iopp/temp/montage/2854964/12/run/Kprojdir/hdu0_2mass-atlas-000118s-k0870068.fits', '/p/gpfs1/iopp/temp/montage/2854964/12/run/Kprojdir/hdu0_2mass-atlas-000118s-k0870068_area.fits', '/p/gpfs1/iopp/temp/montage/2854964/12/run/Kstats.tbl', '/p/gpfs1/iopp/temp/montage/2854964/12/run/Ktemplate.hdr', '/p/gpfs1/iopp/temp/montage/2854964/13/2mass-atlas-000118s-k0880080.fits', '/p/gpfs1/iopp/temp/montage/2854964/13/run/Kprojdir/hdu0_2mass-atlas-000118s-k0880009.fits', '/p/gpfs1/iopp/temp/montage/2854964/13/run/Kprojdir/hdu0_2mass-atlas-000118s-k0880009_area.fits', '/p/gpfs1/iopp/temp/montage/2854964/13/run/Kstats.tbl', '/p/gpfs1/iopp/temp/montage/2854964/13/run/Ktemplate.hdr', '/p/gpfs1/iopp/temp/montage/2854964/15/2mass-atlas-000118s-k0970068.fits', '/p/gpfs1/iopp/temp/montage/2854964/15/run/Kprojdir/hdu0_2mass-atlas-000118s-k0970021.fits', '/p/gpfs1/iopp/temp/montage/2854964/15/run/Kprojdir/hdu0_2mass-atlas-000118s-k0970021_area.fits', '/p/gpfs1/iopp/temp/montage/2854964/15/run/Kstats.tbl', '/p/gpfs1/iopp/temp/montage/2854964/15/run/Ktemplate.hdr', '/p/gpfs1/iopp/temp/montage/2854964/17/2mass-atlas-000118s-k1000127.fits', '/p/gpfs1/iopp/temp/montage/2854964/17/run/Kprojdir/hdu0_2mass-atlas-000118s-k1000044.fits', '/p/gpfs1/iopp/temp/montage/2854964/17/run/Kprojdir/hdu0_2mass-atlas-000118s-k1000044_area.fits', '/p/gpfs1/iopp/temp/montage/2854964/17/run/Kstats.tbl', '/p/gpfs1/iopp/temp/montage/2854964/17/run/Ktemplate.hdr', '/p/gpfs1/iopp/temp/montage/2854964/23/2mass-atlas-000118s-k1130256.fits', '/p/gpfs1/iopp/temp/montage/2854964/23/run/Kprojdir/hdu0_2mass-atlas-000118s-k1140021.fits', '/p/gpfs1/iopp/temp/montage/2854964/23/run/Kprojdir/hdu0_2mass-atlas-000118s-k1140021_area.fits', '/p/gpfs1/iopp/temp/montage/2854964/23/run/Kstats.tbl', '/p/gpfs1/iopp/temp/montage/2854964/23/run/Ktemplate.hdr', '/p/gpfs1/iopp/temp/montage/2854964/24/2mass-atlas-000118s-k1150127.fits', '/p/gpfs1/iopp/temp/montage/2854964/24/run/Kprojdir/hdu0_2mass-atlas-000118s-k1150209.fits', '/p/gpfs1/iopp/temp/montage/2854964/24/run/Kprojdir/hdu0_2mass-atlas-000118s-k1150209_area.fits', '/p/gpfs1/iopp/temp/montage/2854964/24/run/Kstats.tbl', '/p/gpfs1/iopp/temp/montage/2854964/24/run/Ktemplate.hdr', '/p/gpfs1/iopp/temp/montage/2854964/25/2mass-atlas-000119s-k0580021.fits', '/p/gpfs1/iopp/temp/montage/2854964/25/run/Kprojdir/hdu0_2mass-atlas-000119s-k0580009.fits', '/p/gpfs1/iopp/temp/montage/2854964/25/run/Kprojdir/hdu0_2mass-atlas-000119s-k0580009_area.fits', '/p/gpfs1/iopp/temp/montage/2854964/25/run/Kstats.tbl', '/p/gpfs1/iopp/temp/montage/2854964/25/run/Ktemplate.hdr', '/p/gpfs1/iopp/temp/montage/2854964/26/2mass-atlas-000121s-k0610021.fits', '/p/gpfs1/iopp/temp/montage/2854964/26/run/Kprojdir/hdu0_2mass-atlas-000121s-k0610209.fits', '/p/gpfs1/iopp/temp/montage/2854964/26/run/Kprojdir/hdu0_2mass-atlas-000121s-k0610209_area.fits', '/p/gpfs1/iopp/temp/montage/2854964/26/run/Kstats.tbl', '/p/gpfs1/iopp/temp/montage/2854964/26/run/Ktemplate.hdr', '/p/gpfs1/iopp/temp/montage/2854964/28/2mass-atlas-000121s-k0700186.fits', '/p/gpfs1/iopp/temp/montage/2854964/28/run/Kprojdir/hdu0_2mass-atlas-000121s-k0700115.fits', '/p/gpfs1/iopp/temp/montage/2854964/28/run/Kprojdir/hdu0_2mass-atlas-000121s-k0700115_area.fits', '/p/gpfs1/iopp/temp/montage/2854964/28/run/Kstats.tbl', '/p/gpfs1/iopp/temp/montage/2854964/28/run/Ktemplate.hdr', '/p/gpfs1/iopp/temp/montage/2854964/31/2mass-atlas-000121s-k0740245.fits', '/p/gpfs1/iopp/temp/montage/2854964/31/run/Kprojdir/hdu0_2mass-atlas-000121s-k0740267.fits', '/p/gpfs1/iopp/temp/montage/2854964/31/run/Kprojdir/hdu0_2mass-atlas-000121s-k0740267_area.fits', '/p/gpfs1/iopp/temp/montage/2854964/31/run/Kstats.tbl', '/p/gpfs1/iopp/temp/montage/2854964/31/run/Ktemplate.hdr']}, description='13 process(es) access(es) 65 file(s) during the 18th second(s) and has an I/O time of 0.20 seconds which is 5.71% of overall I/O time of the workload.', detail_list=None, reasons=[RuleReason(description=\"Overall 77.54% (0.16 seconds) of I/O time is spent on metadata access, specifically 76.36% (0.16 seconds) on the 'open' operation.\", value=0.7636152614496703), RuleReason(description=\"All files are stored on GPFS and 'open's become costly without other I/O operations.\", value=None)], rule=<Rule.BOTT_METADATA_ACCESS: 207>, value=0.7753540154619262, value_fmt='77.54%')}}}"
      ]
     },
     "execution_count": 64,
     "metadata": {},
     "output_type": "execute_result"
    },
    {
     "name": "stdout",
     "output_type": "stream",
     "text": [
      "time: 1.02 s (started: 2023-06-12 13:45:24 -07:00)\n"
     ]
    }
   ],
   "source": [
    "main_view, views, characteristics, bottlenecks = analyze_dask_metadata_access(log_dir='../tmp/eval-samples/data-reduction-5m-dask', view_type='trange', checkpoint=True)\n",
    "\n",
    "bottlenecks"
   ]
  },
  {
   "attachments": {},
   "cell_type": "markdown",
   "metadata": {},
   "source": [
    "## Pandas"
   ]
  },
  {
   "cell_type": "code",
   "execution_count": 78,
   "metadata": {},
   "outputs": [
    {
     "name": "stdout",
     "output_type": "stream",
     "text": [
      "time: 974 µs (started: 2023-06-12 13:59:05 -07:00)\n"
     ]
    }
   ],
   "source": [
    "import numpy as np\n",
    "import pandas as pd\n",
    "from wisio._recorder.analysis import _set_derived_columns\n",
    "from wisio._recorder.constants import VIEW_TYPES, LOGICAL_VIEW_TYPES"
   ]
  },
  {
   "cell_type": "code",
   "execution_count": 79,
   "metadata": {},
   "outputs": [
    {
     "name": "stdout",
     "output_type": "stream",
     "text": [
      "time: 1.6 ms (started: 2023-06-12 13:59:14 -07:00)\n"
     ]
    }
   ],
   "source": [
    "def _get_agg_dict(view_columns: list, is_proc=False):\n",
    "    if is_proc:\n",
    "        agg_dict = {col: max if any(x in col for x in 'duration time'.split()) else sum for col in view_columns}\n",
    "    else:\n",
    "        agg_dict = {col: sum for col in view_columns}\n",
    "    agg_dict['size_min'] = min\n",
    "    agg_dict['size_max'] = max\n",
    "    for view_type in [*VIEW_TYPES, *LOGICAL_VIEW_TYPES]:\n",
    "        if view_type in agg_dict:\n",
    "            agg_dict.pop(view_type)\n",
    "    return agg_dict"
   ]
  },
  {
   "cell_type": "code",
   "execution_count": 93,
   "metadata": {},
   "outputs": [
    {
     "name": "stdout",
     "output_type": "stream",
     "text": [
      "time: 1.06 ms (started: 2023-06-12 14:07:30 -07:00)\n"
     ]
    }
   ],
   "source": [
    "METADATA_ACCESS_RATIO_THRESHOLD = 0.18\n",
    "METADATA_ACCESS_DURATION_THRESHOLD = 0.01\n",
    "SMALL_WRITE_DURATION_THRESHOLD = 0.5\n",
    "SMALL_WRITE_RATIO_THRESHOLD = 0.75\n",
    "SMALL_WRITE_SIZE_THRESHOLD = 256 * 1024"
   ]
  },
  {
   "cell_type": "code",
   "execution_count": 94,
   "metadata": {},
   "outputs": [
    {
     "name": "stdout",
     "output_type": "stream",
     "text": [
      "time: 5.04 ms (started: 2023-06-12 14:07:30 -07:00)\n"
     ]
    }
   ],
   "source": [
    "def analyze_pandas_small_writes(log_file: str, view_type: str):\n",
    "    sample_1m_df = pd.read_parquet(log_file)\n",
    "\n",
    "    tmid_max = sample_1m_df['tmid'].max()\n",
    "    tranges = np.arange(0, tmid_max, 1e7)\n",
    "\n",
    "    sample_1m_df = sample_1m_df[(sample_1m_df['cat'] == 0) & (sample_1m_df['io_cat'].isin([1, 2, 3]))]\n",
    "\n",
    "    max_io_time = sample_1m_df.groupby(['proc_name']).sum()['duration'].max()\n",
    "\n",
    "    sample_1m_bot_df = sample_1m_df \\\n",
    "        .assign(trange=lambda x: np.digitize(x['tmid'], bins=tranges, right=True)) \\\n",
    "        .groupby([view_type, 'io_cat', 'acc_pat', 'func_id']) \\\n",
    "        .agg({\n",
    "            'duration': ['sum'],\n",
    "            'size': ['min', 'max', 'sum'],\n",
    "            'index': ['count'],\n",
    "            'proc_name': [list],\n",
    "            'trange': [list],\n",
    "        })\n",
    "\n",
    "    sample_1m_bot_df.columns = ['_'.join(col) for col in sample_1m_bot_df.columns.values]\n",
    "    sample_1m_bot_df.reset_index(inplace=True)\n",
    "\n",
    "    _set_derived_columns(ddf=sample_1m_bot_df)\n",
    "\n",
    "    sample_1m_bot_df['write_time_ratio'] = sample_1m_bot_df['write_time'] / sample_1m_bot_df['duration_sum']\n",
    "    sample_1m_bot_df['write_avg_size'] = sample_1m_bot_df['write_size'] / sample_1m_bot_df['index_count']\n",
    "\n",
    "    sample_1m_bot_df.drop(columns=['io_cat', 'acc_pat', 'func_id'], inplace=True)\n",
    "\n",
    "    agg_dict = {col: sum for col in sample_1m_bot_df.columns}\n",
    "    agg_dict['size_min'] = min\n",
    "    agg_dict['size_max'] = max\n",
    "    agg_dict.pop(view_type)\n",
    "\n",
    "    sample_1m_bot_df = sample_1m_bot_df \\\n",
    "        .groupby([view_type]) \\\n",
    "        .agg(agg_dict)\n",
    "\n",
    "    sample_1m_bot_df['duration_ratio'] = sample_1m_bot_df['duration_sum'] / max_io_time\n",
    "\n",
    "    return sample_1m_bot_df.query(f\"duration_ratio > {SMALL_WRITE_DURATION_THRESHOLD} and write_time_ratio > {SMALL_WRITE_RATIO_THRESHOLD} and write_avg_size < {SMALL_WRITE_SIZE_THRESHOLD}\"), max_io_time\n",
    "\n",
    "def analyze_pandas_metadata_access(log_file: str, view_type: str):\n",
    "    sample_1m_df = pd.read_parquet(log_file)\n",
    "\n",
    "    tmid_max = sample_1m_df['tmid'].max()\n",
    "    tranges = np.arange(0, tmid_max, 1e7)\n",
    "\n",
    "    sample_1m_df = sample_1m_df[(sample_1m_df['cat'] == 0) & (sample_1m_df['io_cat'].isin([1, 2, 3]))]\n",
    "\n",
    "    max_io_time = sample_1m_df.groupby(['proc_name']).sum()['duration'].max()\n",
    "\n",
    "    sample_1m_bot_df = sample_1m_df \\\n",
    "        .assign(trange=lambda x: np.digitize(x['tmid'], bins=tranges, right=True)) \\\n",
    "        .groupby([view_type, 'proc_name', 'io_cat', 'acc_pat', 'func_id']) \\\n",
    "        .agg({\n",
    "            'duration': ['sum'],\n",
    "            'size': ['min', 'max', 'sum'],\n",
    "            'index': ['count'],\n",
    "            'proc_name': [list],\n",
    "            'trange': [list],\n",
    "        })\n",
    "\n",
    "    sample_1m_bot_df.columns = ['_'.join(col) for col in sample_1m_bot_df.columns.values]\n",
    "    sample_1m_bot_df.reset_index(inplace=True)\n",
    "\n",
    "    _set_derived_columns(ddf=sample_1m_bot_df)\n",
    "\n",
    "\n",
    "    sample_1m_bot_df.drop(columns=['io_cat', 'acc_pat', 'func_id'], inplace=True)\n",
    "\n",
    "    proc_agg_dict = _get_agg_dict(view_columns=sample_1m_bot_df.columns, is_proc=True)\n",
    "    non_proc_agg_dict = _get_agg_dict(view_columns=sample_1m_bot_df.columns, is_proc=False)\n",
    "\n",
    "    sample_1m_bot_df = sample_1m_bot_df \\\n",
    "        .groupby(['proc_name', view_type]) \\\n",
    "        .agg(proc_agg_dict) \\\n",
    "        .groupby([view_type]) \\\n",
    "        .agg(non_proc_agg_dict)\n",
    "\n",
    "    sample_1m_bot_df['duration_ratio'] = sample_1m_bot_df['duration_sum'] / max_io_time\n",
    "    sample_1m_bot_df['md_time_ratio'] = sample_1m_bot_df['metadata_time'] / sample_1m_bot_df['duration_sum']\n",
    "\n",
    "    return sample_1m_bot_df.query(f\"duration_ratio > {METADATA_ACCESS_DURATION_THRESHOLD} and md_time_ratio > {METADATA_ACCESS_RATIO_THRESHOLD}\"), max_io_time"
   ]
  },
  {
   "attachments": {},
   "cell_type": "markdown",
   "metadata": {},
   "source": [
    "### File-based - Small Writes - 1m Records"
   ]
  },
  {
   "cell_type": "code",
   "execution_count": 21,
   "metadata": {},
   "outputs": [
    {
     "name": "stdout",
     "output_type": "stream",
     "text": [
      "30M\t../tmp/eval-samples/data-reduction-1m-pandas/full.parquet\n",
      "30M\t../tmp/eval-samples/data-reduction-1m-pandas\n",
      "time: 280 ms (started: 2023-06-12 13:09:14 -07:00)\n"
     ]
    }
   ],
   "source": [
    "!du -ah ../tmp/eval-samples/data-reduction-1m-pandas"
   ]
  },
  {
   "cell_type": "code",
   "execution_count": 30,
   "metadata": {},
   "outputs": [
    {
     "name": "stdout",
     "output_type": "stream",
     "text": [
      "2.5 s ± 66.2 ms per loop (mean ± std. dev. of 10 runs, 1 loop each)\n",
      "time: 27.6 s (started: 2023-06-12 13:11:58 -07:00)\n"
     ]
    }
   ],
   "source": [
    "%%timeit -r 10\n",
    "\n",
    "file_name_bott_1m_df, max_io_time = analyze_pandas_small_writes(log_file='../tmp/eval-samples/data-reduction-1m-pandas/full.parquet', view_type='file_name')"
   ]
  },
  {
   "cell_type": "code",
   "execution_count": 99,
   "metadata": {},
   "outputs": [
    {
     "data": {
      "text/html": [
       "<div>\n",
       "<style scoped>\n",
       "    .dataframe tbody tr th:only-of-type {\n",
       "        vertical-align: middle;\n",
       "    }\n",
       "\n",
       "    .dataframe tbody tr th {\n",
       "        vertical-align: top;\n",
       "    }\n",
       "\n",
       "    .dataframe thead th {\n",
       "        text-align: right;\n",
       "    }\n",
       "</style>\n",
       "<table border=\"1\" class=\"dataframe\">\n",
       "  <thead>\n",
       "    <tr style=\"text-align: right;\">\n",
       "      <th></th>\n",
       "      <th>duration_sum</th>\n",
       "      <th>size_min</th>\n",
       "      <th>size_max</th>\n",
       "      <th>size_sum</th>\n",
       "      <th>index_count</th>\n",
       "      <th>proc_name_list</th>\n",
       "      <th>trange_list</th>\n",
       "      <th>read_time</th>\n",
       "      <th>write_time</th>\n",
       "      <th>metadata_time</th>\n",
       "      <th>...</th>\n",
       "      <th>open_time</th>\n",
       "      <th>seek_time</th>\n",
       "      <th>stat_time</th>\n",
       "      <th>close_count</th>\n",
       "      <th>open_count</th>\n",
       "      <th>seek_count</th>\n",
       "      <th>stat_count</th>\n",
       "      <th>write_time_ratio</th>\n",
       "      <th>write_avg_size</th>\n",
       "      <th>duration_ratio</th>\n",
       "    </tr>\n",
       "    <tr>\n",
       "      <th>file_name</th>\n",
       "      <th></th>\n",
       "      <th></th>\n",
       "      <th></th>\n",
       "      <th></th>\n",
       "      <th></th>\n",
       "      <th></th>\n",
       "      <th></th>\n",
       "      <th></th>\n",
       "      <th></th>\n",
       "      <th></th>\n",
       "      <th></th>\n",
       "      <th></th>\n",
       "      <th></th>\n",
       "      <th></th>\n",
       "      <th></th>\n",
       "      <th></th>\n",
       "      <th></th>\n",
       "      <th></th>\n",
       "      <th></th>\n",
       "      <th></th>\n",
       "      <th></th>\n",
       "    </tr>\n",
       "  </thead>\n",
       "  <tbody>\n",
       "    <tr>\n",
       "      <th>/p/gpfs1/iopp/temp/montage/2854964/5/run/ngc3372.fits</th>\n",
       "      <td>0.56511</td>\n",
       "      <td>0</td>\n",
       "      <td>172352</td>\n",
       "      <td>324021760</td>\n",
       "      <td>1888</td>\n",
       "      <td>[mAddMPI#lassen576#16133#35184372406720, mAddM...</td>\n",
       "      <td>[1, 1, 1, 1, 1, 1, 1, 1, 1, 1, 1, 1, 1, 1, 1, ...</td>\n",
       "      <td>0.0</td>\n",
       "      <td>0.564427</td>\n",
       "      <td>0.000683</td>\n",
       "      <td>...</td>\n",
       "      <td>0.00035</td>\n",
       "      <td>0.0</td>\n",
       "      <td>0.0</td>\n",
       "      <td>4</td>\n",
       "      <td>4</td>\n",
       "      <td>0</td>\n",
       "      <td>0</td>\n",
       "      <td>1.0</td>\n",
       "      <td>172352.0</td>\n",
       "      <td>0.792314</td>\n",
       "    </tr>\n",
       "  </tbody>\n",
       "</table>\n",
       "<p>1 rows × 42 columns</p>\n",
       "</div>"
      ],
      "text/plain": [
       "                                                    duration_sum  size_min  \\\n",
       "file_name                                                                    \n",
       "/p/gpfs1/iopp/temp/montage/2854964/5/run/ngc337...       0.56511         0   \n",
       "\n",
       "                                                    size_max   size_sum  \\\n",
       "file_name                                                                 \n",
       "/p/gpfs1/iopp/temp/montage/2854964/5/run/ngc337...    172352  324021760   \n",
       "\n",
       "                                                    index_count  \\\n",
       "file_name                                                         \n",
       "/p/gpfs1/iopp/temp/montage/2854964/5/run/ngc337...         1888   \n",
       "\n",
       "                                                                                       proc_name_list  \\\n",
       "file_name                                                                                               \n",
       "/p/gpfs1/iopp/temp/montage/2854964/5/run/ngc337...  [mAddMPI#lassen576#16133#35184372406720, mAddM...   \n",
       "\n",
       "                                                                                          trange_list  \\\n",
       "file_name                                                                                               \n",
       "/p/gpfs1/iopp/temp/montage/2854964/5/run/ngc337...  [1, 1, 1, 1, 1, 1, 1, 1, 1, 1, 1, 1, 1, 1, 1, ...   \n",
       "\n",
       "                                                    read_time  write_time  \\\n",
       "file_name                                                                   \n",
       "/p/gpfs1/iopp/temp/montage/2854964/5/run/ngc337...        0.0    0.564427   \n",
       "\n",
       "                                                    metadata_time  ...  \\\n",
       "file_name                                                          ...   \n",
       "/p/gpfs1/iopp/temp/montage/2854964/5/run/ngc337...       0.000683  ...   \n",
       "\n",
       "                                                    open_time  seek_time  \\\n",
       "file_name                                                                  \n",
       "/p/gpfs1/iopp/temp/montage/2854964/5/run/ngc337...    0.00035        0.0   \n",
       "\n",
       "                                                    stat_time  close_count  \\\n",
       "file_name                                                                    \n",
       "/p/gpfs1/iopp/temp/montage/2854964/5/run/ngc337...        0.0            4   \n",
       "\n",
       "                                                    open_count  seek_count  \\\n",
       "file_name                                                                    \n",
       "/p/gpfs1/iopp/temp/montage/2854964/5/run/ngc337...           4           0   \n",
       "\n",
       "                                                    stat_count  \\\n",
       "file_name                                                        \n",
       "/p/gpfs1/iopp/temp/montage/2854964/5/run/ngc337...           0   \n",
       "\n",
       "                                                    write_time_ratio  \\\n",
       "file_name                                                              \n",
       "/p/gpfs1/iopp/temp/montage/2854964/5/run/ngc337...               1.0   \n",
       "\n",
       "                                                    write_avg_size  \\\n",
       "file_name                                                            \n",
       "/p/gpfs1/iopp/temp/montage/2854964/5/run/ngc337...        172352.0   \n",
       "\n",
       "                                                    duration_ratio  \n",
       "file_name                                                           \n",
       "/p/gpfs1/iopp/temp/montage/2854964/5/run/ngc337...        0.792314  \n",
       "\n",
       "[1 rows x 42 columns]"
      ]
     },
     "execution_count": 99,
     "metadata": {},
     "output_type": "execute_result"
    },
    {
     "name": "stdout",
     "output_type": "stream",
     "text": [
      "time: 4.69 s (started: 2023-06-12 14:10:42 -07:00)\n"
     ]
    }
   ],
   "source": [
    "file_name_bott_1m_df, max_io_time = analyze_pandas_small_writes(log_file='../tmp/eval-samples/data-reduction-1m-pandas/full.parquet', view_type='file_name')\n",
    "\n",
    "file_name_bott_1m_df"
   ]
  },
  {
   "attachments": {},
   "cell_type": "markdown",
   "metadata": {},
   "source": [
    "### File-based - Small Writes - 5m Records"
   ]
  },
  {
   "cell_type": "code",
   "execution_count": 22,
   "metadata": {},
   "outputs": [
    {
     "name": "stdout",
     "output_type": "stream",
     "text": [
      "146M\t../tmp/eval-samples/data-reduction-5m-pandas/full.parquet\n",
      "146M\t../tmp/eval-samples/data-reduction-5m-pandas\n",
      "time: 277 ms (started: 2023-06-12 13:09:20 -07:00)\n"
     ]
    }
   ],
   "source": [
    "!du -ah ../tmp/eval-samples/data-reduction-5m-pandas"
   ]
  },
  {
   "cell_type": "code",
   "execution_count": 100,
   "metadata": {},
   "outputs": [
    {
     "name": "stdout",
     "output_type": "stream",
     "text": [
      "26.2 s ± 1.18 s per loop (mean ± std. dev. of 10 runs, 1 loop each)\n",
      "time: 4min 55s (started: 2023-06-12 14:10:48 -07:00)\n"
     ]
    }
   ],
   "source": [
    "%%timeit -r 10\n",
    "\n",
    "file_name_bott_5m_df, max_io_time = analyze_pandas_small_writes(log_file='../tmp/eval-samples/data-reduction-5m-pandas/full.parquet', view_type='file_name')"
   ]
  },
  {
   "cell_type": "code",
   "execution_count": 101,
   "metadata": {},
   "outputs": [
    {
     "data": {
      "text/html": [
       "<div>\n",
       "<style scoped>\n",
       "    .dataframe tbody tr th:only-of-type {\n",
       "        vertical-align: middle;\n",
       "    }\n",
       "\n",
       "    .dataframe tbody tr th {\n",
       "        vertical-align: top;\n",
       "    }\n",
       "\n",
       "    .dataframe thead th {\n",
       "        text-align: right;\n",
       "    }\n",
       "</style>\n",
       "<table border=\"1\" class=\"dataframe\">\n",
       "  <thead>\n",
       "    <tr style=\"text-align: right;\">\n",
       "      <th></th>\n",
       "      <th>duration_sum</th>\n",
       "      <th>size_min</th>\n",
       "      <th>size_max</th>\n",
       "      <th>size_sum</th>\n",
       "      <th>index_count</th>\n",
       "      <th>proc_name_list</th>\n",
       "      <th>trange_list</th>\n",
       "      <th>read_time</th>\n",
       "      <th>write_time</th>\n",
       "      <th>metadata_time</th>\n",
       "      <th>...</th>\n",
       "      <th>open_time</th>\n",
       "      <th>seek_time</th>\n",
       "      <th>stat_time</th>\n",
       "      <th>close_count</th>\n",
       "      <th>open_count</th>\n",
       "      <th>seek_count</th>\n",
       "      <th>stat_count</th>\n",
       "      <th>write_time_ratio</th>\n",
       "      <th>write_avg_size</th>\n",
       "      <th>duration_ratio</th>\n",
       "    </tr>\n",
       "    <tr>\n",
       "      <th>file_name</th>\n",
       "      <th></th>\n",
       "      <th></th>\n",
       "      <th></th>\n",
       "      <th></th>\n",
       "      <th></th>\n",
       "      <th></th>\n",
       "      <th></th>\n",
       "      <th></th>\n",
       "      <th></th>\n",
       "      <th></th>\n",
       "      <th></th>\n",
       "      <th></th>\n",
       "      <th></th>\n",
       "      <th></th>\n",
       "      <th></th>\n",
       "      <th></th>\n",
       "      <th></th>\n",
       "      <th></th>\n",
       "      <th></th>\n",
       "      <th></th>\n",
       "      <th></th>\n",
       "    </tr>\n",
       "  </thead>\n",
       "  <tbody>\n",
       "    <tr>\n",
       "      <th>/p/gpfs1/iopp/temp/montage/2854964/5/run/ngc3372.fits</th>\n",
       "      <td>2.825551</td>\n",
       "      <td>0</td>\n",
       "      <td>172352</td>\n",
       "      <td>1620108800</td>\n",
       "      <td>9440</td>\n",
       "      <td>[mAddMPI#lassen576#16133#35184372406720, mAddM...</td>\n",
       "      <td>[1, 1, 1, 1, 1, 1, 1, 1, 1, 1, 1, 1, 1, 1, 1, ...</td>\n",
       "      <td>0.0</td>\n",
       "      <td>2.822133</td>\n",
       "      <td>0.003418</td>\n",
       "      <td>...</td>\n",
       "      <td>0.001751</td>\n",
       "      <td>0.0</td>\n",
       "      <td>0.0</td>\n",
       "      <td>20</td>\n",
       "      <td>20</td>\n",
       "      <td>0</td>\n",
       "      <td>0</td>\n",
       "      <td>1.0</td>\n",
       "      <td>172352.0</td>\n",
       "      <td>0.792314</td>\n",
       "    </tr>\n",
       "  </tbody>\n",
       "</table>\n",
       "<p>1 rows × 42 columns</p>\n",
       "</div>"
      ],
      "text/plain": [
       "                                                    duration_sum  size_min  \\\n",
       "file_name                                                                    \n",
       "/p/gpfs1/iopp/temp/montage/2854964/5/run/ngc337...      2.825551         0   \n",
       "\n",
       "                                                    size_max    size_sum  \\\n",
       "file_name                                                                  \n",
       "/p/gpfs1/iopp/temp/montage/2854964/5/run/ngc337...    172352  1620108800   \n",
       "\n",
       "                                                    index_count  \\\n",
       "file_name                                                         \n",
       "/p/gpfs1/iopp/temp/montage/2854964/5/run/ngc337...         9440   \n",
       "\n",
       "                                                                                       proc_name_list  \\\n",
       "file_name                                                                                               \n",
       "/p/gpfs1/iopp/temp/montage/2854964/5/run/ngc337...  [mAddMPI#lassen576#16133#35184372406720, mAddM...   \n",
       "\n",
       "                                                                                          trange_list  \\\n",
       "file_name                                                                                               \n",
       "/p/gpfs1/iopp/temp/montage/2854964/5/run/ngc337...  [1, 1, 1, 1, 1, 1, 1, 1, 1, 1, 1, 1, 1, 1, 1, ...   \n",
       "\n",
       "                                                    read_time  write_time  \\\n",
       "file_name                                                                   \n",
       "/p/gpfs1/iopp/temp/montage/2854964/5/run/ngc337...        0.0    2.822133   \n",
       "\n",
       "                                                    metadata_time  ...  \\\n",
       "file_name                                                          ...   \n",
       "/p/gpfs1/iopp/temp/montage/2854964/5/run/ngc337...       0.003418  ...   \n",
       "\n",
       "                                                    open_time  seek_time  \\\n",
       "file_name                                                                  \n",
       "/p/gpfs1/iopp/temp/montage/2854964/5/run/ngc337...   0.001751        0.0   \n",
       "\n",
       "                                                    stat_time  close_count  \\\n",
       "file_name                                                                    \n",
       "/p/gpfs1/iopp/temp/montage/2854964/5/run/ngc337...        0.0           20   \n",
       "\n",
       "                                                    open_count  seek_count  \\\n",
       "file_name                                                                    \n",
       "/p/gpfs1/iopp/temp/montage/2854964/5/run/ngc337...          20           0   \n",
       "\n",
       "                                                    stat_count  \\\n",
       "file_name                                                        \n",
       "/p/gpfs1/iopp/temp/montage/2854964/5/run/ngc337...           0   \n",
       "\n",
       "                                                    write_time_ratio  \\\n",
       "file_name                                                              \n",
       "/p/gpfs1/iopp/temp/montage/2854964/5/run/ngc337...               1.0   \n",
       "\n",
       "                                                    write_avg_size  \\\n",
       "file_name                                                            \n",
       "/p/gpfs1/iopp/temp/montage/2854964/5/run/ngc337...        172352.0   \n",
       "\n",
       "                                                    duration_ratio  \n",
       "file_name                                                           \n",
       "/p/gpfs1/iopp/temp/montage/2854964/5/run/ngc337...        0.792314  \n",
       "\n",
       "[1 rows x 42 columns]"
      ]
     },
     "execution_count": 101,
     "metadata": {},
     "output_type": "execute_result"
    },
    {
     "name": "stdout",
     "output_type": "stream",
     "text": [
      "time: 26.7 s (started: 2023-06-12 14:15:44 -07:00)\n"
     ]
    }
   ],
   "source": [
    "file_name_bott_5m_df, max_io_time = analyze_pandas_small_writes(log_file='../tmp/eval-samples/data-reduction-5m-pandas/full.parquet', view_type='file_name')\n",
    "\n",
    "file_name_bott_5m_df"
   ]
  },
  {
   "attachments": {},
   "cell_type": "markdown",
   "metadata": {},
   "source": [
    "### Time-based - Metadata Access - 1m Records"
   ]
  },
  {
   "cell_type": "code",
   "execution_count": 96,
   "metadata": {},
   "outputs": [
    {
     "name": "stdout",
     "output_type": "stream",
     "text": [
      "3.85 s ± 550 ms per loop (mean ± std. dev. of 10 runs, 1 loop each)\n",
      "time: 43.8 s (started: 2023-06-12 14:08:41 -07:00)\n"
     ]
    }
   ],
   "source": [
    "%%timeit -r 10\n",
    "\n",
    "trange_bott_1m_df, max_io_time = analyze_pandas_metadata_access(log_file='../tmp/eval-samples/data-reduction-1m-pandas/full.parquet', view_type='trange')"
   ]
  },
  {
   "cell_type": "code",
   "execution_count": 97,
   "metadata": {},
   "outputs": [
    {
     "data": {
      "text/html": [
       "<div>\n",
       "<style scoped>\n",
       "    .dataframe tbody tr th:only-of-type {\n",
       "        vertical-align: middle;\n",
       "    }\n",
       "\n",
       "    .dataframe tbody tr th {\n",
       "        vertical-align: top;\n",
       "    }\n",
       "\n",
       "    .dataframe thead th {\n",
       "        text-align: right;\n",
       "    }\n",
       "</style>\n",
       "<table border=\"1\" class=\"dataframe\">\n",
       "  <thead>\n",
       "    <tr style=\"text-align: right;\">\n",
       "      <th></th>\n",
       "      <th>duration_sum</th>\n",
       "      <th>size_min</th>\n",
       "      <th>size_max</th>\n",
       "      <th>size_sum</th>\n",
       "      <th>index_count</th>\n",
       "      <th>proc_name_list</th>\n",
       "      <th>trange_list</th>\n",
       "      <th>read_time</th>\n",
       "      <th>write_time</th>\n",
       "      <th>metadata_time</th>\n",
       "      <th>...</th>\n",
       "      <th>close_time</th>\n",
       "      <th>open_time</th>\n",
       "      <th>seek_time</th>\n",
       "      <th>stat_time</th>\n",
       "      <th>close_count</th>\n",
       "      <th>open_count</th>\n",
       "      <th>seek_count</th>\n",
       "      <th>stat_count</th>\n",
       "      <th>duration_ratio</th>\n",
       "      <th>md_time_ratio</th>\n",
       "    </tr>\n",
       "    <tr>\n",
       "      <th>trange</th>\n",
       "      <th></th>\n",
       "      <th></th>\n",
       "      <th></th>\n",
       "      <th></th>\n",
       "      <th></th>\n",
       "      <th></th>\n",
       "      <th></th>\n",
       "      <th></th>\n",
       "      <th></th>\n",
       "      <th></th>\n",
       "      <th></th>\n",
       "      <th></th>\n",
       "      <th></th>\n",
       "      <th></th>\n",
       "      <th></th>\n",
       "      <th></th>\n",
       "      <th></th>\n",
       "      <th></th>\n",
       "      <th></th>\n",
       "      <th></th>\n",
       "      <th></th>\n",
       "    </tr>\n",
       "  </thead>\n",
       "  <tbody>\n",
       "    <tr>\n",
       "      <th>4</th>\n",
       "      <td>0.201307</td>\n",
       "      <td>-4</td>\n",
       "      <td>32768</td>\n",
       "      <td>209251785</td>\n",
       "      <td>46278</td>\n",
       "      <td>[mAddMPI#lassen246#41422#35184372406720, mAddM...</td>\n",
       "      <td>[4, 4, 4, 4, 4, 4, 4, 4, 4, 4, 4, 4, 4, 4, 4, ...</td>\n",
       "      <td>0.073773</td>\n",
       "      <td>0.130431</td>\n",
       "      <td>0.057102</td>\n",
       "      <td>...</td>\n",
       "      <td>0.007963</td>\n",
       "      <td>0.056690</td>\n",
       "      <td>0.000598</td>\n",
       "      <td>0.000415</td>\n",
       "      <td>223</td>\n",
       "      <td>250</td>\n",
       "      <td>162</td>\n",
       "      <td>44</td>\n",
       "      <td>0.282243</td>\n",
       "      <td>0.283657</td>\n",
       "    </tr>\n",
       "    <tr>\n",
       "      <th>7</th>\n",
       "      <td>0.088062</td>\n",
       "      <td>-4</td>\n",
       "      <td>32768</td>\n",
       "      <td>141400124</td>\n",
       "      <td>32749</td>\n",
       "      <td>[mProjExec#lassen246#41328#35184372402064, mPr...</td>\n",
       "      <td>[7, 7, 7, 7, 7, 7, 7, 7, 7, 7, 7, 7, 7, 7, 7, ...</td>\n",
       "      <td>0.014032</td>\n",
       "      <td>0.084562</td>\n",
       "      <td>0.020936</td>\n",
       "      <td>...</td>\n",
       "      <td>0.003913</td>\n",
       "      <td>0.020758</td>\n",
       "      <td>0.000373</td>\n",
       "      <td>0.000099</td>\n",
       "      <td>161</td>\n",
       "      <td>174</td>\n",
       "      <td>102</td>\n",
       "      <td>10</td>\n",
       "      <td>0.123467</td>\n",
       "      <td>0.237740</td>\n",
       "    </tr>\n",
       "    <tr>\n",
       "      <th>9</th>\n",
       "      <td>0.145615</td>\n",
       "      <td>-4</td>\n",
       "      <td>32768</td>\n",
       "      <td>190549450</td>\n",
       "      <td>46901</td>\n",
       "      <td>[mProjExec#lassen246#41328#35184372402064, mPr...</td>\n",
       "      <td>[9, 9, 9, 9, 9, 9, 9, 9, 9, 9, 9, 9, 9, 9, 9, ...</td>\n",
       "      <td>0.016931</td>\n",
       "      <td>0.123481</td>\n",
       "      <td>0.044911</td>\n",
       "      <td>...</td>\n",
       "      <td>0.034262</td>\n",
       "      <td>0.016806</td>\n",
       "      <td>0.000463</td>\n",
       "      <td>0.000135</td>\n",
       "      <td>196</td>\n",
       "      <td>224</td>\n",
       "      <td>126</td>\n",
       "      <td>14</td>\n",
       "      <td>0.204160</td>\n",
       "      <td>0.308425</td>\n",
       "    </tr>\n",
       "    <tr>\n",
       "      <th>10</th>\n",
       "      <td>0.143008</td>\n",
       "      <td>-4</td>\n",
       "      <td>32768</td>\n",
       "      <td>207868939</td>\n",
       "      <td>51305</td>\n",
       "      <td>[mProjExec#lassen246#41328#35184372402064, mPr...</td>\n",
       "      <td>[10, 10, 10, 10, 10, 10, 10, 10, 10, 10, 10, 1...</td>\n",
       "      <td>0.018035</td>\n",
       "      <td>0.135189</td>\n",
       "      <td>0.032654</td>\n",
       "      <td>...</td>\n",
       "      <td>0.006730</td>\n",
       "      <td>0.032256</td>\n",
       "      <td>0.000491</td>\n",
       "      <td>0.000146</td>\n",
       "      <td>208</td>\n",
       "      <td>239</td>\n",
       "      <td>135</td>\n",
       "      <td>15</td>\n",
       "      <td>0.200505</td>\n",
       "      <td>0.228339</td>\n",
       "    </tr>\n",
       "    <tr>\n",
       "      <th>11</th>\n",
       "      <td>0.109073</td>\n",
       "      <td>-4</td>\n",
       "      <td>32768</td>\n",
       "      <td>168742324</td>\n",
       "      <td>41405</td>\n",
       "      <td>[mProjExec#lassen365#41843#35184372402064, mPr...</td>\n",
       "      <td>[11, 11, 11, 11, 11, 11, 11, 11, 11, 11, 11, 1...</td>\n",
       "      <td>0.014811</td>\n",
       "      <td>0.109007</td>\n",
       "      <td>0.020422</td>\n",
       "      <td>...</td>\n",
       "      <td>0.004668</td>\n",
       "      <td>0.020407</td>\n",
       "      <td>0.000415</td>\n",
       "      <td>0.000129</td>\n",
       "      <td>177</td>\n",
       "      <td>203</td>\n",
       "      <td>114</td>\n",
       "      <td>13</td>\n",
       "      <td>0.152927</td>\n",
       "      <td>0.187235</td>\n",
       "    </tr>\n",
       "    <tr>\n",
       "      <th>13</th>\n",
       "      <td>0.123705</td>\n",
       "      <td>-4</td>\n",
       "      <td>32768</td>\n",
       "      <td>163433774</td>\n",
       "      <td>43223</td>\n",
       "      <td>[mProjExec#lassen246#41328#35184372402064, mPr...</td>\n",
       "      <td>[13, 13, 13, 13, 13, 13, 13, 13, 13, 13, 13, 1...</td>\n",
       "      <td>0.011930</td>\n",
       "      <td>0.115749</td>\n",
       "      <td>0.031493</td>\n",
       "      <td>...</td>\n",
       "      <td>0.004262</td>\n",
       "      <td>0.031493</td>\n",
       "      <td>0.000344</td>\n",
       "      <td>0.000118</td>\n",
       "      <td>146</td>\n",
       "      <td>181</td>\n",
       "      <td>93</td>\n",
       "      <td>12</td>\n",
       "      <td>0.173442</td>\n",
       "      <td>0.254579</td>\n",
       "    </tr>\n",
       "    <tr>\n",
       "      <th>15</th>\n",
       "      <td>0.115701</td>\n",
       "      <td>-4</td>\n",
       "      <td>32768</td>\n",
       "      <td>176738602</td>\n",
       "      <td>42505</td>\n",
       "      <td>[mProjExec#lassen246#41328#35184372402064, mPr...</td>\n",
       "      <td>[15, 15, 15, 15, 15, 15, 15, 15, 15, 15, 15, 1...</td>\n",
       "      <td>0.016492</td>\n",
       "      <td>0.111775</td>\n",
       "      <td>0.021066</td>\n",
       "      <td>...</td>\n",
       "      <td>0.005850</td>\n",
       "      <td>0.020854</td>\n",
       "      <td>0.000449</td>\n",
       "      <td>0.000127</td>\n",
       "      <td>193</td>\n",
       "      <td>214</td>\n",
       "      <td>123</td>\n",
       "      <td>13</td>\n",
       "      <td>0.162219</td>\n",
       "      <td>0.182073</td>\n",
       "    </tr>\n",
       "    <tr>\n",
       "      <th>18</th>\n",
       "      <td>0.131167</td>\n",
       "      <td>-4</td>\n",
       "      <td>32768</td>\n",
       "      <td>170311970</td>\n",
       "      <td>41322</td>\n",
       "      <td>[mProjExec#lassen365#41843#35184372402064, mPr...</td>\n",
       "      <td>[18, 18, 18, 18, 18, 18, 18, 18, 18, 18, 18, 1...</td>\n",
       "      <td>0.015736</td>\n",
       "      <td>0.107912</td>\n",
       "      <td>0.047644</td>\n",
       "      <td>...</td>\n",
       "      <td>0.005127</td>\n",
       "      <td>0.047430</td>\n",
       "      <td>0.000432</td>\n",
       "      <td>0.000126</td>\n",
       "      <td>182</td>\n",
       "      <td>208</td>\n",
       "      <td>117</td>\n",
       "      <td>13</td>\n",
       "      <td>0.183904</td>\n",
       "      <td>0.363230</td>\n",
       "    </tr>\n",
       "  </tbody>\n",
       "</table>\n",
       "<p>8 rows × 41 columns</p>\n",
       "</div>"
      ],
      "text/plain": [
       "        duration_sum  size_min  size_max   size_sum  index_count  \\\n",
       "trange                                                             \n",
       "4           0.201307        -4     32768  209251785        46278   \n",
       "7           0.088062        -4     32768  141400124        32749   \n",
       "9           0.145615        -4     32768  190549450        46901   \n",
       "10          0.143008        -4     32768  207868939        51305   \n",
       "11          0.109073        -4     32768  168742324        41405   \n",
       "13          0.123705        -4     32768  163433774        43223   \n",
       "15          0.115701        -4     32768  176738602        42505   \n",
       "18          0.131167        -4     32768  170311970        41322   \n",
       "\n",
       "                                           proc_name_list  \\\n",
       "trange                                                      \n",
       "4       [mAddMPI#lassen246#41422#35184372406720, mAddM...   \n",
       "7       [mProjExec#lassen246#41328#35184372402064, mPr...   \n",
       "9       [mProjExec#lassen246#41328#35184372402064, mPr...   \n",
       "10      [mProjExec#lassen246#41328#35184372402064, mPr...   \n",
       "11      [mProjExec#lassen365#41843#35184372402064, mPr...   \n",
       "13      [mProjExec#lassen246#41328#35184372402064, mPr...   \n",
       "15      [mProjExec#lassen246#41328#35184372402064, mPr...   \n",
       "18      [mProjExec#lassen365#41843#35184372402064, mPr...   \n",
       "\n",
       "                                              trange_list  read_time  \\\n",
       "trange                                                                 \n",
       "4       [4, 4, 4, 4, 4, 4, 4, 4, 4, 4, 4, 4, 4, 4, 4, ...   0.073773   \n",
       "7       [7, 7, 7, 7, 7, 7, 7, 7, 7, 7, 7, 7, 7, 7, 7, ...   0.014032   \n",
       "9       [9, 9, 9, 9, 9, 9, 9, 9, 9, 9, 9, 9, 9, 9, 9, ...   0.016931   \n",
       "10      [10, 10, 10, 10, 10, 10, 10, 10, 10, 10, 10, 1...   0.018035   \n",
       "11      [11, 11, 11, 11, 11, 11, 11, 11, 11, 11, 11, 1...   0.014811   \n",
       "13      [13, 13, 13, 13, 13, 13, 13, 13, 13, 13, 13, 1...   0.011930   \n",
       "15      [15, 15, 15, 15, 15, 15, 15, 15, 15, 15, 15, 1...   0.016492   \n",
       "18      [18, 18, 18, 18, 18, 18, 18, 18, 18, 18, 18, 1...   0.015736   \n",
       "\n",
       "        write_time  metadata_time  ...  close_time  open_time  seek_time  \\\n",
       "trange                             ...                                     \n",
       "4         0.130431       0.057102  ...    0.007963   0.056690   0.000598   \n",
       "7         0.084562       0.020936  ...    0.003913   0.020758   0.000373   \n",
       "9         0.123481       0.044911  ...    0.034262   0.016806   0.000463   \n",
       "10        0.135189       0.032654  ...    0.006730   0.032256   0.000491   \n",
       "11        0.109007       0.020422  ...    0.004668   0.020407   0.000415   \n",
       "13        0.115749       0.031493  ...    0.004262   0.031493   0.000344   \n",
       "15        0.111775       0.021066  ...    0.005850   0.020854   0.000449   \n",
       "18        0.107912       0.047644  ...    0.005127   0.047430   0.000432   \n",
       "\n",
       "        stat_time  close_count  open_count  seek_count  stat_count  \\\n",
       "trange                                                               \n",
       "4        0.000415          223         250         162          44   \n",
       "7        0.000099          161         174         102          10   \n",
       "9        0.000135          196         224         126          14   \n",
       "10       0.000146          208         239         135          15   \n",
       "11       0.000129          177         203         114          13   \n",
       "13       0.000118          146         181          93          12   \n",
       "15       0.000127          193         214         123          13   \n",
       "18       0.000126          182         208         117          13   \n",
       "\n",
       "        duration_ratio  md_time_ratio  \n",
       "trange                                 \n",
       "4             0.282243       0.283657  \n",
       "7             0.123467       0.237740  \n",
       "9             0.204160       0.308425  \n",
       "10            0.200505       0.228339  \n",
       "11            0.152927       0.187235  \n",
       "13            0.173442       0.254579  \n",
       "15            0.162219       0.182073  \n",
       "18            0.183904       0.363230  \n",
       "\n",
       "[8 rows x 41 columns]"
      ]
     },
     "execution_count": 97,
     "metadata": {},
     "output_type": "execute_result"
    },
    {
     "name": "stdout",
     "output_type": "stream",
     "text": [
      "time: 4.23 s (started: 2023-06-12 14:09:25 -07:00)\n"
     ]
    }
   ],
   "source": [
    "trange_bott_1m_df, max_io_time = analyze_pandas_metadata_access(log_file='../tmp/eval-samples/data-reduction-1m-pandas/full.parquet', view_type='trange')\n",
    "\n",
    "trange_bott_1m_df"
   ]
  },
  {
   "attachments": {},
   "cell_type": "markdown",
   "metadata": {},
   "source": [
    "### Time-based - Metadata Access - 5m Records"
   ]
  },
  {
   "cell_type": "code",
   "execution_count": 102,
   "metadata": {},
   "outputs": [
    {
     "name": "stdout",
     "output_type": "stream",
     "text": [
      "27.5 s ± 2.22 s per loop (mean ± std. dev. of 10 runs, 1 loop each)\n",
      "time: 5min 3s (started: 2023-06-12 14:16:11 -07:00)\n"
     ]
    }
   ],
   "source": [
    "%%timeit -r 10\n",
    "\n",
    "trange_bott_5m_df, max_io_time = analyze_pandas_metadata_access(log_file='../tmp/eval-samples/data-reduction-5m-pandas/full.parquet', view_type='trange')"
   ]
  },
  {
   "cell_type": "code",
   "execution_count": 103,
   "metadata": {},
   "outputs": [
    {
     "data": {
      "text/html": [
       "<div>\n",
       "<style scoped>\n",
       "    .dataframe tbody tr th:only-of-type {\n",
       "        vertical-align: middle;\n",
       "    }\n",
       "\n",
       "    .dataframe tbody tr th {\n",
       "        vertical-align: top;\n",
       "    }\n",
       "\n",
       "    .dataframe thead th {\n",
       "        text-align: right;\n",
       "    }\n",
       "</style>\n",
       "<table border=\"1\" class=\"dataframe\">\n",
       "  <thead>\n",
       "    <tr style=\"text-align: right;\">\n",
       "      <th></th>\n",
       "      <th>duration_sum</th>\n",
       "      <th>size_min</th>\n",
       "      <th>size_max</th>\n",
       "      <th>size_sum</th>\n",
       "      <th>index_count</th>\n",
       "      <th>proc_name_list</th>\n",
       "      <th>trange_list</th>\n",
       "      <th>read_time</th>\n",
       "      <th>write_time</th>\n",
       "      <th>metadata_time</th>\n",
       "      <th>...</th>\n",
       "      <th>close_time</th>\n",
       "      <th>open_time</th>\n",
       "      <th>seek_time</th>\n",
       "      <th>stat_time</th>\n",
       "      <th>close_count</th>\n",
       "      <th>open_count</th>\n",
       "      <th>seek_count</th>\n",
       "      <th>stat_count</th>\n",
       "      <th>duration_ratio</th>\n",
       "      <th>md_time_ratio</th>\n",
       "    </tr>\n",
       "    <tr>\n",
       "      <th>trange</th>\n",
       "      <th></th>\n",
       "      <th></th>\n",
       "      <th></th>\n",
       "      <th></th>\n",
       "      <th></th>\n",
       "      <th></th>\n",
       "      <th></th>\n",
       "      <th></th>\n",
       "      <th></th>\n",
       "      <th></th>\n",
       "      <th></th>\n",
       "      <th></th>\n",
       "      <th></th>\n",
       "      <th></th>\n",
       "      <th></th>\n",
       "      <th></th>\n",
       "      <th></th>\n",
       "      <th></th>\n",
       "      <th></th>\n",
       "      <th></th>\n",
       "      <th></th>\n",
       "    </tr>\n",
       "  </thead>\n",
       "  <tbody>\n",
       "    <tr>\n",
       "      <th>4</th>\n",
       "      <td>1.006534</td>\n",
       "      <td>-4</td>\n",
       "      <td>32768</td>\n",
       "      <td>1046258925</td>\n",
       "      <td>231390</td>\n",
       "      <td>[mAddMPI#lassen246#41422#35184372406720, mAddM...</td>\n",
       "      <td>[4, 4, 4, 4, 4, 4, 4, 4, 4, 4, 4, 4, 4, 4, 4, ...</td>\n",
       "      <td>0.368865</td>\n",
       "      <td>0.652157</td>\n",
       "      <td>0.285511</td>\n",
       "      <td>...</td>\n",
       "      <td>0.039816</td>\n",
       "      <td>0.283451</td>\n",
       "      <td>0.002989</td>\n",
       "      <td>0.002075</td>\n",
       "      <td>1115</td>\n",
       "      <td>1250</td>\n",
       "      <td>810</td>\n",
       "      <td>220</td>\n",
       "      <td>0.282243</td>\n",
       "      <td>0.283657</td>\n",
       "    </tr>\n",
       "    <tr>\n",
       "      <th>7</th>\n",
       "      <td>0.440308</td>\n",
       "      <td>-4</td>\n",
       "      <td>32768</td>\n",
       "      <td>707000620</td>\n",
       "      <td>163745</td>\n",
       "      <td>[mProjExec#lassen246#41328#35184372402064, mPr...</td>\n",
       "      <td>[7, 7, 7, 7, 7, 7, 7, 7, 7, 7, 7, 7, 7, 7, 7, ...</td>\n",
       "      <td>0.070159</td>\n",
       "      <td>0.422810</td>\n",
       "      <td>0.104679</td>\n",
       "      <td>...</td>\n",
       "      <td>0.019567</td>\n",
       "      <td>0.103788</td>\n",
       "      <td>0.001866</td>\n",
       "      <td>0.000496</td>\n",
       "      <td>805</td>\n",
       "      <td>870</td>\n",
       "      <td>510</td>\n",
       "      <td>50</td>\n",
       "      <td>0.123467</td>\n",
       "      <td>0.237740</td>\n",
       "    </tr>\n",
       "    <tr>\n",
       "      <th>9</th>\n",
       "      <td>0.728076</td>\n",
       "      <td>-4</td>\n",
       "      <td>32768</td>\n",
       "      <td>952747250</td>\n",
       "      <td>234505</td>\n",
       "      <td>[mProjExec#lassen246#41328#35184372402064, mPr...</td>\n",
       "      <td>[9, 9, 9, 9, 9, 9, 9, 9, 9, 9, 9, 9, 9, 9, 9, ...</td>\n",
       "      <td>0.084655</td>\n",
       "      <td>0.617402</td>\n",
       "      <td>0.224557</td>\n",
       "      <td>...</td>\n",
       "      <td>0.171313</td>\n",
       "      <td>0.084028</td>\n",
       "      <td>0.002315</td>\n",
       "      <td>0.000675</td>\n",
       "      <td>980</td>\n",
       "      <td>1120</td>\n",
       "      <td>630</td>\n",
       "      <td>70</td>\n",
       "      <td>0.204160</td>\n",
       "      <td>0.308425</td>\n",
       "    </tr>\n",
       "    <tr>\n",
       "      <th>10</th>\n",
       "      <td>0.715041</td>\n",
       "      <td>-4</td>\n",
       "      <td>32768</td>\n",
       "      <td>1039344695</td>\n",
       "      <td>256525</td>\n",
       "      <td>[mProjExec#lassen246#41328#35184372402064, mPr...</td>\n",
       "      <td>[10, 10, 10, 10, 10, 10, 10, 10, 10, 10, 10, 1...</td>\n",
       "      <td>0.090176</td>\n",
       "      <td>0.675944</td>\n",
       "      <td>0.163272</td>\n",
       "      <td>...</td>\n",
       "      <td>0.033650</td>\n",
       "      <td>0.161281</td>\n",
       "      <td>0.002453</td>\n",
       "      <td>0.000731</td>\n",
       "      <td>1040</td>\n",
       "      <td>1195</td>\n",
       "      <td>675</td>\n",
       "      <td>75</td>\n",
       "      <td>0.200505</td>\n",
       "      <td>0.228339</td>\n",
       "    </tr>\n",
       "    <tr>\n",
       "      <th>11</th>\n",
       "      <td>0.545367</td>\n",
       "      <td>-4</td>\n",
       "      <td>32768</td>\n",
       "      <td>843711620</td>\n",
       "      <td>207025</td>\n",
       "      <td>[mProjExec#lassen365#41843#35184372402064, mPr...</td>\n",
       "      <td>[11, 11, 11, 11, 11, 11, 11, 11, 11, 11, 11, 1...</td>\n",
       "      <td>0.074055</td>\n",
       "      <td>0.545034</td>\n",
       "      <td>0.102112</td>\n",
       "      <td>...</td>\n",
       "      <td>0.023338</td>\n",
       "      <td>0.102037</td>\n",
       "      <td>0.002077</td>\n",
       "      <td>0.000647</td>\n",
       "      <td>885</td>\n",
       "      <td>1015</td>\n",
       "      <td>570</td>\n",
       "      <td>65</td>\n",
       "      <td>0.152927</td>\n",
       "      <td>0.187235</td>\n",
       "    </tr>\n",
       "    <tr>\n",
       "      <th>13</th>\n",
       "      <td>0.618527</td>\n",
       "      <td>-4</td>\n",
       "      <td>32768</td>\n",
       "      <td>817168870</td>\n",
       "      <td>216115</td>\n",
       "      <td>[mProjExec#lassen246#41328#35184372402064, mPr...</td>\n",
       "      <td>[13, 13, 13, 13, 13, 13, 13, 13, 13, 13, 13, 1...</td>\n",
       "      <td>0.059649</td>\n",
       "      <td>0.578745</td>\n",
       "      <td>0.157464</td>\n",
       "      <td>...</td>\n",
       "      <td>0.021311</td>\n",
       "      <td>0.157464</td>\n",
       "      <td>0.001718</td>\n",
       "      <td>0.000590</td>\n",
       "      <td>730</td>\n",
       "      <td>905</td>\n",
       "      <td>465</td>\n",
       "      <td>60</td>\n",
       "      <td>0.173442</td>\n",
       "      <td>0.254579</td>\n",
       "    </tr>\n",
       "    <tr>\n",
       "      <th>15</th>\n",
       "      <td>0.578506</td>\n",
       "      <td>-4</td>\n",
       "      <td>32768</td>\n",
       "      <td>883693010</td>\n",
       "      <td>212525</td>\n",
       "      <td>[mProjExec#lassen246#41328#35184372402064, mPr...</td>\n",
       "      <td>[15, 15, 15, 15, 15, 15, 15, 15, 15, 15, 15, 1...</td>\n",
       "      <td>0.082460</td>\n",
       "      <td>0.558873</td>\n",
       "      <td>0.105330</td>\n",
       "      <td>...</td>\n",
       "      <td>0.029250</td>\n",
       "      <td>0.104269</td>\n",
       "      <td>0.002247</td>\n",
       "      <td>0.000635</td>\n",
       "      <td>965</td>\n",
       "      <td>1070</td>\n",
       "      <td>615</td>\n",
       "      <td>65</td>\n",
       "      <td>0.162219</td>\n",
       "      <td>0.182073</td>\n",
       "    </tr>\n",
       "    <tr>\n",
       "      <th>18</th>\n",
       "      <td>0.655837</td>\n",
       "      <td>-4</td>\n",
       "      <td>32768</td>\n",
       "      <td>851559850</td>\n",
       "      <td>206610</td>\n",
       "      <td>[mProjExec#lassen365#41843#35184372402064, mPr...</td>\n",
       "      <td>[18, 18, 18, 18, 18, 18, 18, 18, 18, 18, 18, 1...</td>\n",
       "      <td>0.078681</td>\n",
       "      <td>0.539562</td>\n",
       "      <td>0.238220</td>\n",
       "      <td>...</td>\n",
       "      <td>0.025637</td>\n",
       "      <td>0.237152</td>\n",
       "      <td>0.002162</td>\n",
       "      <td>0.000629</td>\n",
       "      <td>910</td>\n",
       "      <td>1040</td>\n",
       "      <td>585</td>\n",
       "      <td>65</td>\n",
       "      <td>0.183904</td>\n",
       "      <td>0.363230</td>\n",
       "    </tr>\n",
       "  </tbody>\n",
       "</table>\n",
       "<p>8 rows × 41 columns</p>\n",
       "</div>"
      ],
      "text/plain": [
       "        duration_sum  size_min  size_max    size_sum  index_count  \\\n",
       "trange                                                              \n",
       "4           1.006534        -4     32768  1046258925       231390   \n",
       "7           0.440308        -4     32768   707000620       163745   \n",
       "9           0.728076        -4     32768   952747250       234505   \n",
       "10          0.715041        -4     32768  1039344695       256525   \n",
       "11          0.545367        -4     32768   843711620       207025   \n",
       "13          0.618527        -4     32768   817168870       216115   \n",
       "15          0.578506        -4     32768   883693010       212525   \n",
       "18          0.655837        -4     32768   851559850       206610   \n",
       "\n",
       "                                           proc_name_list  \\\n",
       "trange                                                      \n",
       "4       [mAddMPI#lassen246#41422#35184372406720, mAddM...   \n",
       "7       [mProjExec#lassen246#41328#35184372402064, mPr...   \n",
       "9       [mProjExec#lassen246#41328#35184372402064, mPr...   \n",
       "10      [mProjExec#lassen246#41328#35184372402064, mPr...   \n",
       "11      [mProjExec#lassen365#41843#35184372402064, mPr...   \n",
       "13      [mProjExec#lassen246#41328#35184372402064, mPr...   \n",
       "15      [mProjExec#lassen246#41328#35184372402064, mPr...   \n",
       "18      [mProjExec#lassen365#41843#35184372402064, mPr...   \n",
       "\n",
       "                                              trange_list  read_time  \\\n",
       "trange                                                                 \n",
       "4       [4, 4, 4, 4, 4, 4, 4, 4, 4, 4, 4, 4, 4, 4, 4, ...   0.368865   \n",
       "7       [7, 7, 7, 7, 7, 7, 7, 7, 7, 7, 7, 7, 7, 7, 7, ...   0.070159   \n",
       "9       [9, 9, 9, 9, 9, 9, 9, 9, 9, 9, 9, 9, 9, 9, 9, ...   0.084655   \n",
       "10      [10, 10, 10, 10, 10, 10, 10, 10, 10, 10, 10, 1...   0.090176   \n",
       "11      [11, 11, 11, 11, 11, 11, 11, 11, 11, 11, 11, 1...   0.074055   \n",
       "13      [13, 13, 13, 13, 13, 13, 13, 13, 13, 13, 13, 1...   0.059649   \n",
       "15      [15, 15, 15, 15, 15, 15, 15, 15, 15, 15, 15, 1...   0.082460   \n",
       "18      [18, 18, 18, 18, 18, 18, 18, 18, 18, 18, 18, 1...   0.078681   \n",
       "\n",
       "        write_time  metadata_time  ...  close_time  open_time  seek_time  \\\n",
       "trange                             ...                                     \n",
       "4         0.652157       0.285511  ...    0.039816   0.283451   0.002989   \n",
       "7         0.422810       0.104679  ...    0.019567   0.103788   0.001866   \n",
       "9         0.617402       0.224557  ...    0.171313   0.084028   0.002315   \n",
       "10        0.675944       0.163272  ...    0.033650   0.161281   0.002453   \n",
       "11        0.545034       0.102112  ...    0.023338   0.102037   0.002077   \n",
       "13        0.578745       0.157464  ...    0.021311   0.157464   0.001718   \n",
       "15        0.558873       0.105330  ...    0.029250   0.104269   0.002247   \n",
       "18        0.539562       0.238220  ...    0.025637   0.237152   0.002162   \n",
       "\n",
       "        stat_time  close_count  open_count  seek_count  stat_count  \\\n",
       "trange                                                               \n",
       "4        0.002075         1115        1250         810         220   \n",
       "7        0.000496          805         870         510          50   \n",
       "9        0.000675          980        1120         630          70   \n",
       "10       0.000731         1040        1195         675          75   \n",
       "11       0.000647          885        1015         570          65   \n",
       "13       0.000590          730         905         465          60   \n",
       "15       0.000635          965        1070         615          65   \n",
       "18       0.000629          910        1040         585          65   \n",
       "\n",
       "        duration_ratio  md_time_ratio  \n",
       "trange                                 \n",
       "4             0.282243       0.283657  \n",
       "7             0.123467       0.237740  \n",
       "9             0.204160       0.308425  \n",
       "10            0.200505       0.228339  \n",
       "11            0.152927       0.187235  \n",
       "13            0.173442       0.254579  \n",
       "15            0.162219       0.182073  \n",
       "18            0.183904       0.363230  \n",
       "\n",
       "[8 rows x 41 columns]"
      ]
     },
     "execution_count": 103,
     "metadata": {},
     "output_type": "execute_result"
    },
    {
     "name": "stdout",
     "output_type": "stream",
     "text": [
      "time: 28.5 s (started: 2023-06-12 14:21:16 -07:00)\n"
     ]
    }
   ],
   "source": [
    "trange_bott_5m_df, max_io_time = analyze_pandas_metadata_access(log_file='../tmp/eval-samples/data-reduction-5m-pandas/full.parquet', view_type='trange')\n",
    "\n",
    "trange_bott_5m_df"
   ]
  },
  {
   "cell_type": "code",
   "execution_count": null,
   "metadata": {},
   "outputs": [],
   "source": []
  }
 ],
 "metadata": {
  "kernelspec": {
   "display_name": "venv-quartz2",
   "language": "python",
   "name": "python3"
  },
  "language_info": {
   "codemirror_mode": {
    "name": "ipython",
    "version": 3
   },
   "file_extension": ".py",
   "mimetype": "text/x-python",
   "name": "python",
   "nbconvert_exporter": "python",
   "pygments_lexer": "ipython3",
   "version": "3.9.12"
  },
  "orig_nbformat": 4
 },
 "nbformat": 4,
 "nbformat_minor": 2
}

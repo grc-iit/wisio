{
 "cells": [
  {
   "cell_type": "code",
   "execution_count": 1,
   "id": "e56e6ce0-06ee-41a6-8ef6-335cf761a1cd",
   "metadata": {},
   "outputs": [
    {
     "name": "stderr",
     "output_type": "stream",
     "text": [
      "/usr/workspace/iopp/projects/digio-venv-lassen/lib/python3.9/site-packages/dask_jobqueue/core.py:251: FutureWarning: job_extra has been renamed to job_extra_directives. You are still using it (even if only set to []; please also check config files). If you did not set job_extra_directives yet, job_extra will be respected for now, but it will be removed in a future release. If you already set job_extra_directives, job_extra is ignored and you can remove it.\n",
      "  warnings.warn(warn, FutureWarning)\n",
      "/usr/workspace/iopp/projects/digio-venv-lassen/lib/python3.9/site-packages/distributed/node.py:183: UserWarning: Port 8788 is already in use.\n",
      "Perhaps you already have a cluster running?\n",
      "Hosting the HTTP server on port 41505 instead\n",
      "  warnings.warn(\n"
     ]
    }
   ],
   "source": [
    "%run init.ipynb"
   ]
  },
  {
   "cell_type": "code",
   "execution_count": 3,
   "id": "21796ca6-ccb6-471c-8410-a1caef730151",
   "metadata": {},
   "outputs": [],
   "source": [
    "import dask\n",
    "import dask.dataframe as dd\n",
    "import functools\n",
    "import glob\n",
    "import json\n",
    "import logging\n",
    "import math\n",
    "import os\n",
    "import psutil\n",
    "import socket\n",
    "from anytree import PostOrderIter\n",
    "from concurrent.futures import ThreadPoolExecutor, as_completed\n",
    "from dask.distributed import Client, LocalCluster, get_task_stream, progress, wait\n",
    "from distributed.diagnostics.plugin import SchedulerPlugin\n",
    "from dask_jobqueue import LSFCluster\n",
    "from time import perf_counter, sleep\n",
    "from tqdm.auto import tqdm\n",
    "from typing import Union"
   ]
  },
  {
   "cell_type": "code",
   "execution_count": 4,
   "id": "af43a5cc-6496-4337-a00b-d3c39bc614b1",
   "metadata": {},
   "outputs": [],
   "source": [
    "def draw_graph(future):\n",
    "    dask_graph = future.__dask_graph__()\n",
    "    edges = []\n",
    "    edge_count = {}\n",
    "    for key, value in dask_graph.dependencies.items():\n",
    "        vals = list(value)\n",
    "        destination = key.split(\"-\")[0]\n",
    "        for val in vals:\n",
    "            source = val.split(\"-\")[0]\n",
    "            str_edge = str(source) + \"-\" + str(destination)\n",
    "            if str_edge not in edge_count:\n",
    "                edge_count[str_edge] = 0\n",
    "            edge_count[str_edge] = edge_count[str_edge] + 1\n",
    "            edges.append((source, destination))\n",
    "    #print(edges[:5])\n",
    "    import networkx as nx\n",
    "    dag = nx.DiGraph()\n",
    "    dag.add_edges_from(edges)\n",
    "    import graphviz\n",
    "    dot = graphviz.Digraph()\n",
    "    for node in dag.nodes:\n",
    "        dot.node(node)\n",
    "        #print(node)\n",
    "    for edge_str, count in edge_count.items():\n",
    "        source, destination  = edge_str.split(\"-\")\n",
    "        dot.edge(source, destination, label=str(count))\n",
    "    return dot"
   ]
  },
  {
   "cell_type": "code",
   "execution_count": 15,
   "id": "9b7ce75b-fcf8-475b-8f5a-1a4c5dba9dac",
   "metadata": {},
   "outputs": [],
   "source": [
    "delimiter = '-'\n",
    "def merge(x, y):\n",
    "    import numpy as np\n",
    "    return {\n",
    "        'read': {\n",
    "            'uniq_ranks': x['read']['uniq_ranks'].union(y['read']['uniq_ranks']),\n",
    "            'agg_dur': x['read']['agg_dur'] + y['read']['agg_dur'],\n",
    "            'total_io_size': x['read']['total_io_size'] + y['read']['total_io_size'],\n",
    "            'uniq_filenames': x['read']['uniq_filenames'].union(y['read']['uniq_filenames']),\n",
    "            'bw_sum': x['read']['bw_sum'] + y['read']['bw_sum'],\n",
    "            'ops': x['read']['ops'] + y['read']['ops'],\n",
    "        },\n",
    "        'write': {\n",
    "            'uniq_ranks': x['write']['uniq_ranks'].union(y['write']['uniq_ranks']),\n",
    "            'agg_dur': x['write']['agg_dur'] + y['write']['agg_dur'],\n",
    "            'total_io_size': x['write']['total_io_size'] + y['write']['total_io_size'],\n",
    "            'uniq_filenames': x['write']['uniq_filenames'].union(y['write']['uniq_filenames']),\n",
    "            'bw_sum': x['write']['bw_sum'] + y['write']['bw_sum'],\n",
    "            'ops': x['write']['ops'] + y['write']['ops'],\n",
    "        },\n",
    "        'metadata': {\n",
    "            'uniq_ranks': x['metadata']['uniq_ranks'].union(y['metadata']['uniq_ranks']),\n",
    "            'agg_dur': x['metadata']['agg_dur'] + y['metadata']['agg_dur'],\n",
    "            'uniq_filenames': x['metadata']['uniq_filenames'].union(y['metadata']['uniq_filenames']),\n",
    "            'ops': x['metadata']['ops'] + y['metadata']['ops'],\n",
    "        }\n",
    "    }\n",
    "\n",
    "def filter(target_ddf, filter_group_index: str):\n",
    "    import numpy as np\n",
    "    #target_ddf = ddf.loc[start:stop]\n",
    "    # Select dataframes\n",
    "    #result = wait(target_ddf)\n",
    "    import intervals\n",
    "    if target_ddf.empty:\n",
    "        return {\n",
    "        'read': {\n",
    "            'uniq_ranks': intervals.openclosed(0, 0),\n",
    "            'agg_dur': 0.0,\n",
    "            'total_io_size': 0,\n",
    "            'uniq_filenames': intervals.openclosed(0, 0),\n",
    "            'bw_sum': 0.0,\n",
    "            'ops': 0,\n",
    "        },\n",
    "        'write': {\n",
    "            'uniq_ranks': intervals.openclosed(0, 0),\n",
    "            'agg_dur': 0.0,\n",
    "            'total_io_size': 0,\n",
    "            'uniq_filenames': intervals.openclosed(0, 0),\n",
    "            'bw_sum': 0.0,\n",
    "            'ops': 0,\n",
    "        },\n",
    "        'metadata': {\n",
    "            'uniq_ranks': intervals.openclosed(0, 0),\n",
    "            'agg_dur': 0.0,\n",
    "            'total_io_size': 0,\n",
    "            'uniq_filenames': intervals.openclosed(0, 0),\n",
    "            'bw_sum': 0.0,\n",
    "            'ops': 0,\n",
    "        }\n",
    "    }\n",
    "    import pandas as pd\n",
    "    def f(x):\n",
    "        d = {}\n",
    "        d['duration'] = x['duration'].sum()\n",
    "        d['size'] = x['size'].sum()\n",
    "        d['bandwidth'] = x['bandwidth'].sum()\n",
    "        d['index'] = x['index'].count()\n",
    "        d['proc_id'] = intervals.closed(x['proc_id'].min(), x['proc_id'].max())\n",
    "        d['file_id'] = intervals.closed(x['file_id'].min(), x['file_id'].max())\n",
    "        return pd.Series(d, index=['duration', 'size', 'bandwidth', 'index', 'proc_id', 'file_id'])\n",
    "    \n",
    "    aggregated_values = target_ddf.groupby('io_cat').apply(f)\n",
    "    \n",
    "    \n",
    "#     read_ddf = target_ddf[(target_ddf['io_cat'] == 1)]\n",
    "#     write_ddf = target_ddf[(target_ddf['io_cat'] == 2)]\n",
    "#     metadata_ddf = target_ddf[(target_ddf['io_cat'] == 3)]\n",
    "#     # TODO: on same compute run for all ddf.\n",
    "#     # Create tasks\n",
    "#     read_tasks = [\n",
    "#         read_ddf.index.unique() if filter_group_index == 'proc_id' else read_ddf['proc_id'].unique(),\n",
    "#         read_ddf['duration'].sum(),\n",
    "#         read_ddf['size'].sum(),\n",
    "#         read_ddf.index.unique() if filter_group_index == 'file_id' else read_ddf['file_id'].unique(),\n",
    "#         read_ddf['bandwidth'].sum(),\n",
    "#         read_ddf['index'].count(),\n",
    "#     ]\n",
    "#     write_tasks = [\n",
    "#         write_ddf.index.unique() if filter_group_index == 'proc_id' else write_ddf['proc_id'].unique(),\n",
    "#         write_ddf['duration'].sum(),\n",
    "#         write_ddf['size'].sum(),\n",
    "#         write_ddf.index.unique() if filter_group_index == 'file_id' else write_ddf['file_id'].unique(),\n",
    "#         write_ddf['bandwidth'].sum(),\n",
    "#         write_ddf['index'].count(),\n",
    "#     ]\n",
    "#     metadata_tasks = [\n",
    "#         metadata_ddf.index.unique() if filter_group_index == 'proc_id' else metadata_ddf['proc_id'].unique(),\n",
    "#         metadata_ddf['duration'].sum(),\n",
    "#         metadata_ddf.index.unique() if filter_group_index == 'file_id' else metadata_ddf['file_id'].unique(),\n",
    "#         metadata_ddf['index'].count(),\n",
    "#     ]\n",
    "#     filter_tasks = []\n",
    "#     filter_tasks.extend(read_tasks)\n",
    "#     filter_tasks.extend(write_tasks)\n",
    "#     filter_tasks.extend(metadata_tasks)\n",
    "#     # Compute all\n",
    "#     filter_results = dask.compute(*filter_tasks)\n",
    "    # Clear dataframes\n",
    "    #del read_ddf\n",
    "    del target_ddf\n",
    "    # Arrange results\n",
    "    #read_start, read_end = 0, len(read_tasks)\n",
    "    #write_start, write_end = len(read_tasks), len(read_tasks) + len(write_tasks)\n",
    "    #metadata_start, metadata_end = len(read_tasks) + len(write_tasks), 0\n",
    "    filter_result = {\n",
    "        'read': {\n",
    "            'uniq_ranks': aggregated_values.loc[1]['proc_id'],\n",
    "            'agg_dur': aggregated_values.loc[1]['duration'],\n",
    "            'total_io_size': aggregated_values.loc[1]['size'],\n",
    "            'uniq_filenames': aggregated_values.loc[1]['file_id'],\n",
    "            'bw_sum': aggregated_values.loc[1]['bandwidth'],\n",
    "            'ops': aggregated_values.loc[1]['index'],\n",
    "        },\n",
    "        'write': {\n",
    "            'uniq_ranks': aggregated_values.loc[2]['proc_id'],\n",
    "            'agg_dur': aggregated_values.loc[2]['duration'],\n",
    "            'total_io_size': aggregated_values.loc[2]['size'],\n",
    "            'uniq_filenames': aggregated_values.loc[2]['file_id'],\n",
    "            'bw_sum': aggregated_values.loc[2]['bandwidth'],\n",
    "            'ops': aggregated_values.loc[2]['index'],\n",
    "        },\n",
    "        'metadata': {\n",
    "            'uniq_ranks': aggregated_values.loc[3]['proc_id'],\n",
    "            'agg_dur': aggregated_values.loc[3]['duration'],\n",
    "            'total_io_size': aggregated_values.loc[3]['size'],\n",
    "            'uniq_filenames': aggregated_values.loc[3]['file_id'],\n",
    "            'bw_sum': aggregated_values.loc[3]['bandwidth'],\n",
    "            'ops': aggregated_values.loc[3]['index'],\n",
    "        }\n",
    "    }\n",
    "    # Return results\n",
    "    return filter_result\n",
    "# def cal_len(x):\n",
    "#     return {\n",
    "#         'read': {\n",
    "#             'uniq_ranks': len(x['read']['uniq_ranks']),\n",
    "#             'agg_dur': x['read']['agg_dur'],\n",
    "#             'total_io_size': x['read']['total_io_size'],\n",
    "#             'uniq_filenames': len(x['read']['uniq_filenames']),\n",
    "#             'bw_sum': x['read']['bw_sum'],\n",
    "#             'ops': x['read']['ops'],\n",
    "#         },\n",
    "#         'write': {\n",
    "#             'uniq_ranks': len(x['write']['uniq_ranks']),\n",
    "#             'agg_dur': x['write']['agg_dur'],\n",
    "#             'total_io_size': x['write']['total_io_size'],\n",
    "#             'uniq_filenames': len(x['write']['uniq_filenames']),\n",
    "#             'bw_sum': x['write']['bw_sum'],\n",
    "#             'ops': x['write']['ops'],\n",
    "#         },\n",
    "#         'metadata': {\n",
    "#             'uniq_ranks': len(x['metadata']['uniq_ranks']),\n",
    "#             'agg_dur': x['metadata']['agg_dur'],\n",
    "#             'uniq_filenames': len(x['metadata']['uniq_filenames']),\n",
    "#             'ops': x['metadata']['ops']\n",
    "#         }\n",
    "#     }\n",
    "\n",
    "from dask.graph_manipulation import bind\n",
    "def compute_min_max(log_dir: str, filter_group_index: str, depth):\n",
    "    with open(f\"{log_dir}/global.json\") as file:\n",
    "        global_metrics = json.load(file)\n",
    "        min_val, max_val = global_metrics[filter_group_index][0], global_metrics[filter_group_index][1]\n",
    "        next_tasks = 2 ** depth\n",
    "        interval = math.ceil((max_val - min_val) * 1.0 / next_tasks)\n",
    "        time_range = range(min_val, max_val, interval)\n",
    "        return interval, time_range\n",
    "def compute_metrics(ddf, filter_group_index: str, interval, time_range, wait_persist_delayed):\n",
    "    iterations = list(range(0, MAX_DEPTH + 1))\n",
    "    iterations.reverse()\n",
    "    all_tasks = [0] * (MAX_DEPTH + 1)\n",
    "    for i in iterations:\n",
    "        tasks = []\n",
    "        if i == MAX_DEPTH:\n",
    "            for start in time_range:\n",
    "                stop = start + interval - 1\n",
    "                \n",
    "                target_ddf = delayed_func(lambda ddf, start, stop, ignore: ddf.loc[start:stop].reset_index().compute(), f\"splice_ddf{delimiter}{start}_{stop}\", [ddf, start, stop,wait_persist_delayed])\n",
    "                tasks.append(delayed_func(filter, f\"filter{delimiter}{start}_{stop}\", [target_ddf, filter_group_index]))\n",
    "        else:\n",
    "            next_tasks = len(all_tasks[i + 1])\n",
    "            if next_tasks % 2 == 1:\n",
    "                next_tasks = next_tasks - 1\n",
    "            for t in range(0, next_tasks, 2):\n",
    "                tasks.append(delayed_func(merge, f\"merge{delimiter}{i}_{t}_{t+1}\", [all_tasks[i + 1][t], all_tasks[i + 1][t + 1]]))\n",
    "            next_tasks = len(all_tasks[i + 1])\n",
    "            if next_tasks % 2 == 1:\n",
    "                tasks.append(all_tasks[i + 1][next_tasks - 1])\n",
    "            # TODO why are we calling len on everything?\n",
    "#             for t, next_tasks in enumerate(all_tasks[i + 1]):\n",
    "#                 all_tasks[i + 1][t] = delayed_func(cal_len, f\"cal_len{delimiter}{i+1}_{t}\", [next_tasks])\n",
    "        all_tasks[i] = tasks\n",
    "#     if len(all_tasks[0]) == 2:\n",
    "#         all_tasks[0] = [delayed_func(merge, f\"merge{delimiter}{0}_{0}_{1}\", [all_tasks[0][0], all_tasks[0][1]])]\n",
    "#         all_tasks[0] = [delayed_func(cal_len,f\"cal_len{delimiter}0_{t}\",all_tasks[0][0])]\n",
    "#     for t, next_tasks in enumerate(all_tasks[0]):\n",
    "#         all_tasks[0][t] = delayed_func(cal_len,f\"cal_len{delimiter}0_{t}\",[next_tasks])\n",
    "    #print(all_tasks)\n",
    "    return all_tasks"
   ]
  },
  {
   "cell_type": "code",
   "execution_count": 16,
   "id": "93ee5b93-a7bd-4413-9d21-749e668703e5",
   "metadata": {},
   "outputs": [
    {
     "name": "stdout",
     "output_type": "stream",
     "text": [
      "15\n"
     ]
    }
   ],
   "source": [
    "import dask\n",
    "def delayed_func(func, name, args, nout=1):\n",
    "    if name:\n",
    "        func.__name__ = name\n",
    "    obj = dask.delayed(func, nout=nout)(*args, dask_key_name=name)\n",
    "    return obj\n",
    "def wait_delayed(ddf):\n",
    "    result = wait(ddf)\n",
    "    return 1\n",
    "def dummy(x):\n",
    "    return x\n",
    "MAX_DEPTH = 10\n",
    "log_dir = \"/p/gpfs1/iopp/recorder_app_logs/genome_pegasus/nodes-32/_parquet\"\n",
    "filter_group_index='proc_id'\n",
    "delayed_list =[]\n",
    "interval, time_range = compute_min_max(log_dir, filter_group_index, MAX_DEPTH)\n",
    "read_delayed = delayed_func(lambda log_dir: dd.read_parquet(f\"{log_dir}/*.parquet\", index=False), f\"read_parquet_{filter_group_index}\", [log_dir])\n",
    "delayed_list.append(read_delayed)\n",
    "index_delayed = delayed_func(lambda filter_group_index, ddf: ddf.set_index([filter_group_index]), f\"index_delayed_{filter_group_index}\", [filter_group_index, read_delayed])\n",
    "delayed_list.append(index_delayed)\n",
    "persist_delayed = delayed_func(lambda ddf: ddf.persist(), f\"persist_{filter_group_index}\" , [index_delayed])\n",
    "delayed_list.append(persist_delayed)\n",
    "#unique_processes = delayed_func(lambda ddf: ddf.groupby(ddf.index)['hostname','rank','thread_id'].min().compute(), f\"groupby_{filter_group_index}\" , [index_delayed])\n",
    "#delayed_list.append(unique_processes)\n",
    "wait_persist_delayed = delayed_func(wait_delayed, f\"wait_delayed_{filter_group_index}\", [persist_delayed])\n",
    "delayed_list.append(wait_persist_delayed)\n",
    "compute_metrics_delayed = compute_metrics(persist_delayed, filter_group_index, interval, time_range, wait_persist_delayed)\n",
    "compute_metrics_delayed.reverse()\n",
    "for index, compute_metric_item in enumerate(compute_metrics_delayed):\n",
    "    delayed_list.append(dask.delayed(dummy)(compute_metric_item,dask_key_name=f\"depth_{len(compute_metrics_delayed) - index - 1}_{filter_group_index}\"))\n",
    "print(len(delayed_list))\n",
    "#compute_metrics_delayed = delayed_func(compute_metrics, \"compute_metrics\", [wait_persist_delayed, filter_group_index, compute_min_max_delayed])\n",
    "total = dask.delayed(delayed_list)(dask_key_name=f\"{filter_group_index}_all\")"
   ]
  },
  {
   "cell_type": "code",
   "execution_count": 17,
   "id": "156daa8d-a431-4b6e-b753-ce0dc4a0087c",
   "metadata": {},
   "outputs": [],
   "source": [
    "dot = draw_graph(total)"
   ]
  },
  {
   "cell_type": "code",
   "execution_count": 18,
   "id": "e7882abb-0851-4406-98e1-0e61dcda8de3",
   "metadata": {
    "tags": []
   },
   "outputs": [
    {
     "data": {
      "image/svg+xml": "<?xml version=\"1.0\" encoding=\"UTF-8\" standalone=\"no\"?>\n<!DOCTYPE svg PUBLIC \"-//W3C//DTD SVG 1.1//EN\"\n \"http://www.w3.org/Graphics/SVG/1.1/DTD/svg11.dtd\">\n<!-- Generated by graphviz version 2.42.3 (20191010.1750)\n -->\n<!-- Title: %3 Pages: 1 -->\n<svg width=\"2205pt\" height=\"848pt\"\n viewBox=\"0.00 0.00 2205.44 848.00\" xmlns=\"http://www.w3.org/2000/svg\" xmlns:xlink=\"http://www.w3.org/1999/xlink\">\n<g id=\"graph0\" class=\"graph\" transform=\"scale(1 1) rotate(0) translate(4 844)\">\n<title>%3</title>\n<polygon fill=\"white\" stroke=\"transparent\" points=\"-4,4 -4,-844 2201.44,-844 2201.44,4 -4,4\"/>\n<!-- read_parquet_proc_id -->\n<g id=\"node1\" class=\"node\">\n<title>read_parquet_proc_id</title>\n<ellipse fill=\"none\" stroke=\"black\" cx=\"112.44\" cy=\"-822\" rx=\"112.38\" ry=\"18\"/>\n<text text-anchor=\"middle\" x=\"112.44\" y=\"-818.3\" font-family=\"Times,serif\" font-size=\"14.00\">read_parquet_proc_id</text>\n</g>\n<!-- list -->\n<g id=\"node2\" class=\"node\">\n<title>list</title>\n<ellipse fill=\"none\" stroke=\"black\" cx=\"1215.44\" cy=\"-105\" rx=\"27\" ry=\"18\"/>\n<text text-anchor=\"middle\" x=\"1215.44\" y=\"-101.3\" font-family=\"Times,serif\" font-size=\"14.00\">list</text>\n</g>\n<!-- read_parquet_proc_id&#45;&gt;list -->\n<g id=\"edge1\" class=\"edge\">\n<title>read_parquet_proc_id&#45;&gt;list</title>\n<path fill=\"none\" stroke=\"black\" d=\"M107.29,-803.92C102.61,-786.88 96.44,-759.88 96.44,-736 96.44,-736 96.44,-736 96.44,-191 96.44,-141.46 5.01,-174.42 278.44,-141 457.15,-119.16 1026.55,-108.93 1178.09,-106.55\"/>\n<polygon fill=\"black\" stroke=\"black\" points=\"1178.33,-110.05 1188.27,-106.4 1178.22,-103.05 1178.33,-110.05\"/>\n<text text-anchor=\"middle\" x=\"101.44\" y=\"-470.3\" font-family=\"Times,serif\" font-size=\"14.00\">1</text>\n</g>\n<!-- index_delayed_proc_id -->\n<g id=\"node16\" class=\"node\">\n<title>index_delayed_proc_id</title>\n<ellipse fill=\"none\" stroke=\"black\" cx=\"1268.44\" cy=\"-735\" rx=\"116.18\" ry=\"18\"/>\n<text text-anchor=\"middle\" x=\"1268.44\" y=\"-731.3\" font-family=\"Times,serif\" font-size=\"14.00\">index_delayed_proc_id</text>\n</g>\n<!-- read_parquet_proc_id&#45;&gt;index_delayed_proc_id -->\n<g id=\"edge16\" class=\"edge\">\n<title>read_parquet_proc_id&#45;&gt;index_delayed_proc_id</title>\n<path fill=\"none\" stroke=\"black\" d=\"M212.25,-813.66C426.68,-797.89 930.11,-760.88 1155.67,-744.29\"/>\n<polygon fill=\"black\" stroke=\"black\" points=\"1156.16,-747.77 1165.87,-743.54 1155.64,-740.78 1156.16,-747.77\"/>\n<text text-anchor=\"middle\" x=\"764.44\" y=\"-774.8\" font-family=\"Times,serif\" font-size=\"14.00\">1</text>\n</g>\n<!-- proc_id_all -->\n<g id=\"node20\" class=\"node\">\n<title>proc_id_all</title>\n<ellipse fill=\"none\" stroke=\"black\" cx=\"1215.44\" cy=\"-18\" rx=\"61.99\" ry=\"18\"/>\n<text text-anchor=\"middle\" x=\"1215.44\" y=\"-14.3\" font-family=\"Times,serif\" font-size=\"14.00\">proc_id_all</text>\n</g>\n<!-- list&#45;&gt;proc_id_all -->\n<g id=\"edge45\" class=\"edge\">\n<title>list&#45;&gt;proc_id_all</title>\n<path fill=\"none\" stroke=\"black\" d=\"M1215.44,-86.8C1215.44,-75.16 1215.44,-59.55 1215.44,-46.24\"/>\n<polygon fill=\"black\" stroke=\"black\" points=\"1218.94,-46.18 1215.44,-36.18 1211.94,-46.18 1218.94,-46.18\"/>\n<text text-anchor=\"middle\" x=\"1220.44\" y=\"-57.8\" font-family=\"Times,serif\" font-size=\"14.00\">1</text>\n</g>\n<!-- depth_7_proc_id -->\n<g id=\"node3\" class=\"node\">\n<title>depth_7_proc_id</title>\n<ellipse fill=\"none\" stroke=\"black\" cx=\"250.44\" cy=\"-192\" rx=\"87.99\" ry=\"18\"/>\n<text text-anchor=\"middle\" x=\"250.44\" y=\"-188.3\" font-family=\"Times,serif\" font-size=\"14.00\">depth_7_proc_id</text>\n</g>\n<!-- depth_7_proc_id&#45;&gt;list -->\n<g id=\"edge2\" class=\"edge\">\n<title>depth_7_proc_id&#45;&gt;list</title>\n<path fill=\"none\" stroke=\"black\" d=\"M312.82,-179.26C323.99,-177.36 335.54,-175.51 346.44,-174 666.54,-129.52 1057.31,-111.93 1178.09,-107.32\"/>\n<polygon fill=\"black\" stroke=\"black\" points=\"1178.42,-110.81 1188.28,-106.94 1178.16,-103.82 1178.42,-110.81\"/>\n<text text-anchor=\"middle\" x=\"636.44\" y=\"-144.8\" font-family=\"Times,serif\" font-size=\"14.00\">1</text>\n</g>\n<!-- depth_4_proc_id -->\n<g id=\"node4\" class=\"node\">\n<title>depth_4_proc_id</title>\n<ellipse fill=\"none\" stroke=\"black\" cx=\"1601.44\" cy=\"-192\" rx=\"87.99\" ry=\"18\"/>\n<text text-anchor=\"middle\" x=\"1601.44\" y=\"-188.3\" font-family=\"Times,serif\" font-size=\"14.00\">depth_4_proc_id</text>\n</g>\n<!-- depth_4_proc_id&#45;&gt;list -->\n<g id=\"edge3\" class=\"edge\">\n<title>depth_4_proc_id&#45;&gt;list</title>\n<path fill=\"none\" stroke=\"black\" d=\"M1544.07,-178.37C1463.13,-160.54 1317.85,-128.55 1250.94,-113.82\"/>\n<polygon fill=\"black\" stroke=\"black\" points=\"1251.42,-110.34 1240.9,-111.61 1249.91,-117.18 1251.42,-110.34\"/>\n<text text-anchor=\"middle\" x=\"1436.44\" y=\"-144.8\" font-family=\"Times,serif\" font-size=\"14.00\">1</text>\n</g>\n<!-- depth_5_proc_id -->\n<g id=\"node5\" class=\"node\">\n<title>depth_5_proc_id</title>\n<ellipse fill=\"none\" stroke=\"black\" cx=\"829.44\" cy=\"-192\" rx=\"87.99\" ry=\"18\"/>\n<text text-anchor=\"middle\" x=\"829.44\" y=\"-188.3\" font-family=\"Times,serif\" font-size=\"14.00\">depth_5_proc_id</text>\n</g>\n<!-- depth_5_proc_id&#45;&gt;list -->\n<g id=\"edge4\" class=\"edge\">\n<title>depth_5_proc_id&#45;&gt;list</title>\n<path fill=\"none\" stroke=\"black\" d=\"M886.81,-178.37C967.75,-160.54 1113.03,-128.55 1179.94,-113.82\"/>\n<polygon fill=\"black\" stroke=\"black\" points=\"1180.97,-117.18 1189.98,-111.61 1179.46,-110.34 1180.97,-117.18\"/>\n<text text-anchor=\"middle\" x=\"1050.44\" y=\"-144.8\" font-family=\"Times,serif\" font-size=\"14.00\">1</text>\n</g>\n<!-- depth_3_proc_id -->\n<g id=\"node6\" class=\"node\">\n<title>depth_3_proc_id</title>\n<ellipse fill=\"none\" stroke=\"black\" cx=\"1215.44\" cy=\"-192\" rx=\"87.99\" ry=\"18\"/>\n<text text-anchor=\"middle\" x=\"1215.44\" y=\"-188.3\" font-family=\"Times,serif\" font-size=\"14.00\">depth_3_proc_id</text>\n</g>\n<!-- depth_3_proc_id&#45;&gt;list -->\n<g id=\"edge5\" class=\"edge\">\n<title>depth_3_proc_id&#45;&gt;list</title>\n<path fill=\"none\" stroke=\"black\" d=\"M1215.44,-173.8C1215.44,-162.16 1215.44,-146.55 1215.44,-133.24\"/>\n<polygon fill=\"black\" stroke=\"black\" points=\"1218.94,-133.18 1215.44,-123.18 1211.94,-133.18 1218.94,-133.18\"/>\n<text text-anchor=\"middle\" x=\"1220.44\" y=\"-144.8\" font-family=\"Times,serif\" font-size=\"14.00\">1</text>\n</g>\n<!-- depth_1_proc_id -->\n<g id=\"node7\" class=\"node\">\n<title>depth_1_proc_id</title>\n<ellipse fill=\"none\" stroke=\"black\" cx=\"1022.44\" cy=\"-192\" rx=\"87.99\" ry=\"18\"/>\n<text text-anchor=\"middle\" x=\"1022.44\" y=\"-188.3\" font-family=\"Times,serif\" font-size=\"14.00\">depth_1_proc_id</text>\n</g>\n<!-- depth_1_proc_id&#45;&gt;list -->\n<g id=\"edge6\" class=\"edge\">\n<title>depth_1_proc_id&#45;&gt;list</title>\n<path fill=\"none\" stroke=\"black\" d=\"M1057.84,-175.41C1094.05,-159.46 1149.75,-134.93 1184.32,-119.71\"/>\n<polygon fill=\"black\" stroke=\"black\" points=\"1185.74,-122.91 1193.48,-115.67 1182.91,-116.5 1185.74,-122.91\"/>\n<text text-anchor=\"middle\" x=\"1135.44\" y=\"-144.8\" font-family=\"Times,serif\" font-size=\"14.00\">1</text>\n</g>\n<!-- persist_proc_id -->\n<g id=\"node8\" class=\"node\">\n<title>persist_proc_id</title>\n<ellipse fill=\"none\" stroke=\"black\" cx=\"1268.44\" cy=\"-648\" rx=\"82.59\" ry=\"18\"/>\n<text text-anchor=\"middle\" x=\"1268.44\" y=\"-644.3\" font-family=\"Times,serif\" font-size=\"14.00\">persist_proc_id</text>\n</g>\n<!-- persist_proc_id&#45;&gt;list -->\n<g id=\"edge7\" class=\"edge\">\n<title>persist_proc_id&#45;&gt;list</title>\n<path fill=\"none\" stroke=\"black\" d=\"M1351.32,-647.59C1570.64,-648.05 2149.44,-641.71 2149.44,-562 2149.44,-562 2149.44,-562 2149.44,-191 2149.44,-131.99 2084.1,-153.57 2026.44,-141 1875.97,-108.2 1391.31,-105.9 1252.76,-105.92\"/>\n<polygon fill=\"black\" stroke=\"black\" points=\"1252.64,-102.42 1242.65,-105.93 1252.65,-109.42 1252.64,-102.42\"/>\n<text text-anchor=\"middle\" x=\"2154.44\" y=\"-383.3\" font-family=\"Times,serif\" font-size=\"14.00\">1</text>\n</g>\n<!-- wait_delayed_proc_id -->\n<g id=\"node14\" class=\"node\">\n<title>wait_delayed_proc_id</title>\n<ellipse fill=\"none\" stroke=\"black\" cx=\"1121.44\" cy=\"-561\" rx=\"111.28\" ry=\"18\"/>\n<text text-anchor=\"middle\" x=\"1121.44\" y=\"-557.3\" font-family=\"Times,serif\" font-size=\"14.00\">wait_delayed_proc_id</text>\n</g>\n<!-- persist_proc_id&#45;&gt;wait_delayed_proc_id -->\n<g id=\"edge18\" class=\"edge\">\n<title>persist_proc_id&#45;&gt;wait_delayed_proc_id</title>\n<path fill=\"none\" stroke=\"black\" d=\"M1240.79,-631.01C1217.58,-617.59 1184.21,-598.29 1158.65,-583.52\"/>\n<polygon fill=\"black\" stroke=\"black\" points=\"1160.38,-580.47 1149.97,-578.5 1156.87,-586.53 1160.38,-580.47\"/>\n<text text-anchor=\"middle\" x=\"1208.44\" y=\"-600.8\" font-family=\"Times,serif\" font-size=\"14.00\">1</text>\n</g>\n<!-- splice_ddf -->\n<g id=\"node18\" class=\"node\">\n<title>splice_ddf</title>\n<ellipse fill=\"none\" stroke=\"black\" cx=\"1195.44\" cy=\"-474\" rx=\"57.69\" ry=\"18\"/>\n<text text-anchor=\"middle\" x=\"1195.44\" y=\"-470.3\" font-family=\"Times,serif\" font-size=\"14.00\">splice_ddf</text>\n</g>\n<!-- persist_proc_id&#45;&gt;splice_ddf -->\n<g id=\"edge21\" class=\"edge\">\n<title>persist_proc_id&#45;&gt;splice_ddf</title>\n<path fill=\"none\" stroke=\"black\" d=\"M1265.83,-629.83C1262.21,-608.71 1254.57,-572.07 1241.44,-543 1234.53,-527.7 1224.23,-512.08 1215.14,-499.67\"/>\n<polygon fill=\"black\" stroke=\"black\" points=\"1217.9,-497.52 1209.09,-491.64 1212.31,-501.74 1217.9,-497.52\"/>\n<text text-anchor=\"middle\" x=\"1271.94\" y=\"-557.3\" font-family=\"Times,serif\" font-size=\"14.00\">1025</text>\n</g>\n<!-- depth_2_proc_id -->\n<g id=\"node9\" class=\"node\">\n<title>depth_2_proc_id</title>\n<ellipse fill=\"none\" stroke=\"black\" cx=\"1794.44\" cy=\"-192\" rx=\"87.99\" ry=\"18\"/>\n<text text-anchor=\"middle\" x=\"1794.44\" y=\"-188.3\" font-family=\"Times,serif\" font-size=\"14.00\">depth_2_proc_id</text>\n</g>\n<!-- depth_2_proc_id&#45;&gt;list -->\n<g id=\"edge8\" class=\"edge\">\n<title>depth_2_proc_id&#45;&gt;list</title>\n<path fill=\"none\" stroke=\"black\" d=\"M1731.24,-179.48C1720.31,-177.58 1709.05,-175.69 1698.44,-174 1531.96,-147.55 1332.34,-121.12 1251.78,-110.67\"/>\n<polygon fill=\"black\" stroke=\"black\" points=\"1252.03,-107.17 1241.67,-109.36 1251.14,-114.11 1252.03,-107.17\"/>\n<text text-anchor=\"middle\" x=\"1583.44\" y=\"-144.8\" font-family=\"Times,serif\" font-size=\"14.00\">1</text>\n</g>\n<!-- depth_0_proc_id -->\n<g id=\"node10\" class=\"node\">\n<title>depth_0_proc_id</title>\n<ellipse fill=\"none\" stroke=\"black\" cx=\"1987.44\" cy=\"-192\" rx=\"87.99\" ry=\"18\"/>\n<text text-anchor=\"middle\" x=\"1987.44\" y=\"-188.3\" font-family=\"Times,serif\" font-size=\"14.00\">depth_0_proc_id</text>\n</g>\n<!-- depth_0_proc_id&#45;&gt;list -->\n<g id=\"edge9\" class=\"edge\">\n<title>depth_0_proc_id&#45;&gt;list</title>\n<path fill=\"none\" stroke=\"black\" d=\"M1925.05,-179.34C1913.88,-177.43 1902.33,-175.56 1891.44,-174 1648.71,-139.15 1354.41,-116.06 1252.37,-108.61\"/>\n<polygon fill=\"black\" stroke=\"black\" points=\"1252.5,-105.11 1242.27,-107.88 1251.99,-112.09 1252.5,-105.11\"/>\n<text text-anchor=\"middle\" x=\"1748.44\" y=\"-144.8\" font-family=\"Times,serif\" font-size=\"14.00\">1</text>\n</g>\n<!-- depth_8_proc_id -->\n<g id=\"node11\" class=\"node\">\n<title>depth_8_proc_id</title>\n<ellipse fill=\"none\" stroke=\"black\" cx=\"443.44\" cy=\"-192\" rx=\"87.99\" ry=\"18\"/>\n<text text-anchor=\"middle\" x=\"443.44\" y=\"-188.3\" font-family=\"Times,serif\" font-size=\"14.00\">depth_8_proc_id</text>\n</g>\n<!-- depth_8_proc_id&#45;&gt;list -->\n<g id=\"edge10\" class=\"edge\">\n<title>depth_8_proc_id&#45;&gt;list</title>\n<path fill=\"none\" stroke=\"black\" d=\"M506.09,-179.3C517.18,-177.4 528.63,-175.55 539.44,-174 782.16,-139.11 1076.47,-116.04 1178.51,-108.6\"/>\n<polygon fill=\"black\" stroke=\"black\" points=\"1178.89,-112.09 1188.61,-107.87 1178.38,-105.1 1178.89,-112.09\"/>\n<text text-anchor=\"middle\" x=\"803.44\" y=\"-144.8\" font-family=\"Times,serif\" font-size=\"14.00\">1</text>\n</g>\n<!-- depth_9_proc_id -->\n<g id=\"node12\" class=\"node\">\n<title>depth_9_proc_id</title>\n<ellipse fill=\"none\" stroke=\"black\" cx=\"636.44\" cy=\"-192\" rx=\"87.99\" ry=\"18\"/>\n<text text-anchor=\"middle\" x=\"636.44\" y=\"-188.3\" font-family=\"Times,serif\" font-size=\"14.00\">depth_9_proc_id</text>\n</g>\n<!-- depth_9_proc_id&#45;&gt;list -->\n<g id=\"edge11\" class=\"edge\">\n<title>depth_9_proc_id&#45;&gt;list</title>\n<path fill=\"none\" stroke=\"black\" d=\"M699.64,-179.48C710.57,-177.58 721.83,-175.69 732.44,-174 898.92,-147.55 1098.54,-121.12 1179.1,-110.67\"/>\n<polygon fill=\"black\" stroke=\"black\" points=\"1179.75,-114.11 1189.21,-109.36 1178.85,-107.17 1179.75,-114.11\"/>\n<text text-anchor=\"middle\" x=\"948.44\" y=\"-144.8\" font-family=\"Times,serif\" font-size=\"14.00\">1</text>\n</g>\n<!-- depth_10_proc_id -->\n<g id=\"node13\" class=\"node\">\n<title>depth_10_proc_id</title>\n<ellipse fill=\"none\" stroke=\"black\" cx=\"1960.44\" cy=\"-246\" rx=\"93.68\" ry=\"18\"/>\n<text text-anchor=\"middle\" x=\"1960.44\" y=\"-242.3\" font-family=\"Times,serif\" font-size=\"14.00\">depth_10_proc_id</text>\n</g>\n<!-- depth_10_proc_id&#45;&gt;list -->\n<g id=\"edge12\" class=\"edge\">\n<title>depth_10_proc_id&#45;&gt;list</title>\n<path fill=\"none\" stroke=\"black\" d=\"M2027.85,-233.48C2052.86,-227.72 2076.98,-219.85 2084.44,-210 2094.1,-197.24 2095.17,-185.87 2084.44,-174 2027.95,-111.52 1412.47,-106.28 1253,-105.98\"/>\n<polygon fill=\"black\" stroke=\"black\" points=\"1252.74,-102.48 1242.74,-105.97 1252.74,-109.48 1252.74,-102.48\"/>\n<text text-anchor=\"middle\" x=\"2096.44\" y=\"-188.3\" font-family=\"Times,serif\" font-size=\"14.00\">1</text>\n</g>\n<!-- wait_delayed_proc_id&#45;&gt;list -->\n<g id=\"edge13\" class=\"edge\">\n<title>wait_delayed_proc_id&#45;&gt;list</title>\n<path fill=\"none\" stroke=\"black\" d=\"M1013.93,-556.26C758.13,-546.66 134.44,-518.75 134.44,-475 134.44,-475 134.44,-475 134.44,-191 134.44,-132.32 -252.08,-195.15 508.44,-141 764.43,-122.77 1073.23,-110.99 1178.35,-107.27\"/>\n<polygon fill=\"black\" stroke=\"black\" points=\"1178.57,-110.76 1188.44,-106.92 1178.33,-103.77 1178.57,-110.76\"/>\n<text text-anchor=\"middle\" x=\"139.44\" y=\"-339.8\" font-family=\"Times,serif\" font-size=\"14.00\">1</text>\n</g>\n<!-- wait_delayed_proc_id&#45;&gt;splice_ddf -->\n<g id=\"edge20\" class=\"edge\">\n<title>wait_delayed_proc_id&#45;&gt;splice_ddf</title>\n<path fill=\"none\" stroke=\"black\" d=\"M1136.42,-542.8C1147.29,-530.31 1162.15,-513.24 1174.24,-499.35\"/>\n<polygon fill=\"black\" stroke=\"black\" points=\"1177.06,-501.44 1180.99,-491.6 1171.78,-496.84 1177.06,-501.44\"/>\n<text text-anchor=\"middle\" x=\"1180.94\" y=\"-513.8\" font-family=\"Times,serif\" font-size=\"14.00\">1025</text>\n</g>\n<!-- depth_6_proc_id -->\n<g id=\"node15\" class=\"node\">\n<title>depth_6_proc_id</title>\n<ellipse fill=\"none\" stroke=\"black\" cx=\"1408.44\" cy=\"-192\" rx=\"87.99\" ry=\"18\"/>\n<text text-anchor=\"middle\" x=\"1408.44\" y=\"-188.3\" font-family=\"Times,serif\" font-size=\"14.00\">depth_6_proc_id</text>\n</g>\n<!-- depth_6_proc_id&#45;&gt;list -->\n<g id=\"edge14\" class=\"edge\">\n<title>depth_6_proc_id&#45;&gt;list</title>\n<path fill=\"none\" stroke=\"black\" d=\"M1373.04,-175.41C1336.83,-159.46 1281.13,-134.93 1246.56,-119.71\"/>\n<polygon fill=\"black\" stroke=\"black\" points=\"1247.97,-116.5 1237.4,-115.67 1245.14,-122.91 1247.97,-116.5\"/>\n<text text-anchor=\"middle\" x=\"1328.44\" y=\"-144.8\" font-family=\"Times,serif\" font-size=\"14.00\">1</text>\n</g>\n<!-- index_delayed_proc_id&#45;&gt;list -->\n<g id=\"edge15\" class=\"edge\">\n<title>index_delayed_proc_id&#45;&gt;list</title>\n<path fill=\"none\" stroke=\"black\" d=\"M1379.29,-729.41C1623.72,-718.55 2187.44,-689.16 2187.44,-649 2187.44,-649 2187.44,-649 2187.44,-191 2187.44,-171.75 2146.7,-154.13 2092.44,-141 2010.1,-121.07 1408.98,-109.35 1252.56,-106.62\"/>\n<polygon fill=\"black\" stroke=\"black\" points=\"1252.56,-103.12 1242.5,-106.45 1252.43,-110.12 1252.56,-103.12\"/>\n<text text-anchor=\"middle\" x=\"2192.44\" y=\"-426.8\" font-family=\"Times,serif\" font-size=\"14.00\">1</text>\n</g>\n<!-- index_delayed_proc_id&#45;&gt;persist_proc_id -->\n<g id=\"edge17\" class=\"edge\">\n<title>index_delayed_proc_id&#45;&gt;persist_proc_id</title>\n<path fill=\"none\" stroke=\"black\" d=\"M1268.44,-716.8C1268.44,-705.16 1268.44,-689.55 1268.44,-676.24\"/>\n<polygon fill=\"black\" stroke=\"black\" points=\"1271.94,-676.18 1268.44,-666.18 1264.94,-676.18 1271.94,-676.18\"/>\n<text text-anchor=\"middle\" x=\"1273.44\" y=\"-687.8\" font-family=\"Times,serif\" font-size=\"14.00\">1</text>\n</g>\n<!-- filter -->\n<g id=\"node17\" class=\"node\">\n<title>filter</title>\n<ellipse fill=\"none\" stroke=\"black\" cx=\"1195.44\" cy=\"-387\" rx=\"33.6\" ry=\"18\"/>\n<text text-anchor=\"middle\" x=\"1195.44\" y=\"-383.3\" font-family=\"Times,serif\" font-size=\"14.00\">filter</text>\n</g>\n<!-- filter&#45;&gt;depth_7_proc_id -->\n<g id=\"edge30\" class=\"edge\">\n<title>filter&#45;&gt;depth_7_proc_id</title>\n<path fill=\"none\" stroke=\"black\" d=\"M1161.36,-386.62C1065.18,-387.47 784.24,-383.71 563.44,-318 464.36,-288.51 352.97,-240.19 293.44,-213.08\"/>\n<polygon fill=\"black\" stroke=\"black\" points=\"294.54,-209.73 284,-208.75 291.63,-216.1 294.54,-209.73\"/>\n<text text-anchor=\"middle\" x=\"568.44\" y=\"-296.3\" font-family=\"Times,serif\" font-size=\"14.00\">1</text>\n</g>\n<!-- filter&#45;&gt;depth_4_proc_id -->\n<g id=\"edge36\" class=\"edge\">\n<title>filter&#45;&gt;depth_4_proc_id</title>\n<path fill=\"none\" stroke=\"black\" d=\"M1223.24,-376.56C1276.75,-357.96 1397.19,-314.02 1492.44,-264 1519.85,-249.6 1549.17,-230.26 1570.49,-215.4\"/>\n<polygon fill=\"black\" stroke=\"black\" points=\"1572.65,-218.16 1578.82,-209.54 1568.62,-212.43 1572.65,-218.16\"/>\n<text text-anchor=\"middle\" x=\"1457.44\" y=\"-296.3\" font-family=\"Times,serif\" font-size=\"14.00\">1</text>\n</g>\n<!-- filter&#45;&gt;depth_5_proc_id -->\n<g id=\"edge34\" class=\"edge\">\n<title>filter&#45;&gt;depth_5_proc_id</title>\n<path fill=\"none\" stroke=\"black\" d=\"M1162.9,-381.79C1099.55,-372.02 958.37,-342.36 872.44,-264 858.81,-251.57 848.07,-233.83 840.72,-219.19\"/>\n<polygon fill=\"black\" stroke=\"black\" points=\"843.85,-217.63 836.39,-210.1 837.54,-220.64 843.85,-217.63\"/>\n<text text-anchor=\"middle\" x=\"954.44\" y=\"-296.3\" font-family=\"Times,serif\" font-size=\"14.00\">1</text>\n</g>\n<!-- filter&#45;&gt;depth_3_proc_id -->\n<g id=\"edge38\" class=\"edge\">\n<title>filter&#45;&gt;depth_3_proc_id</title>\n<path fill=\"none\" stroke=\"black\" d=\"M1198.92,-368.72C1203.47,-345.16 1211.26,-301.59 1214.44,-264 1215.65,-249.7 1215.96,-233.73 1215.95,-220.55\"/>\n<polygon fill=\"black\" stroke=\"black\" points=\"1219.45,-220.22 1215.87,-210.25 1212.45,-220.28 1219.45,-220.22\"/>\n<text text-anchor=\"middle\" x=\"1217.44\" y=\"-296.3\" font-family=\"Times,serif\" font-size=\"14.00\">1</text>\n</g>\n<!-- filter&#45;&gt;depth_1_proc_id -->\n<g id=\"edge42\" class=\"edge\">\n<title>filter&#45;&gt;depth_1_proc_id</title>\n<path fill=\"none\" stroke=\"black\" d=\"M1163.17,-381.56C1126.67,-374.71 1068.43,-357.89 1038.44,-318 1017.32,-289.9 1016.4,-247.84 1018.66,-220.4\"/>\n<polygon fill=\"black\" stroke=\"black\" points=\"1022.15,-220.62 1019.68,-210.32 1015.19,-219.91 1022.15,-220.62\"/>\n<text text-anchor=\"middle\" x=\"1043.44\" y=\"-296.3\" font-family=\"Times,serif\" font-size=\"14.00\">1</text>\n</g>\n<!-- filter&#45;&gt;depth_2_proc_id -->\n<g id=\"edge39\" class=\"edge\">\n<title>filter&#45;&gt;depth_2_proc_id</title>\n<path fill=\"none\" stroke=\"black\" d=\"M1227.13,-380.72C1304.21,-367.26 1506.77,-328.12 1665.44,-264 1699,-250.44 1734.91,-230.15 1760.29,-214.73\"/>\n<polygon fill=\"black\" stroke=\"black\" points=\"1762.46,-217.51 1769.15,-209.3 1758.79,-211.55 1762.46,-217.51\"/>\n<text text-anchor=\"middle\" x=\"1622.44\" y=\"-296.3\" font-family=\"Times,serif\" font-size=\"14.00\">1</text>\n</g>\n<!-- filter&#45;&gt;depth_0_proc_id -->\n<g id=\"edge44\" class=\"edge\">\n<title>filter&#45;&gt;depth_0_proc_id</title>\n<path fill=\"none\" stroke=\"black\" d=\"M1227.48,-381.02C1271.13,-374.24 1351.69,-361.72 1420.44,-351 1514.22,-336.37 1539.89,-343.05 1631.44,-318 1735.72,-289.47 1754.85,-262.11 1857.44,-228 1878.6,-220.97 1902.04,-214.31 1923.12,-208.74\"/>\n<polygon fill=\"black\" stroke=\"black\" points=\"1924.15,-212.08 1932.94,-206.17 1922.38,-205.31 1924.15,-212.08\"/>\n<text text-anchor=\"middle\" x=\"1733.44\" y=\"-296.3\" font-family=\"Times,serif\" font-size=\"14.00\">1</text>\n</g>\n<!-- filter&#45;&gt;depth_8_proc_id -->\n<g id=\"edge27\" class=\"edge\">\n<title>filter&#45;&gt;depth_8_proc_id</title>\n<path fill=\"none\" stroke=\"black\" d=\"M1161.39,-386.69C1059.46,-387.37 750.29,-379.17 531.44,-264 507.85,-251.59 484.53,-232.37 467.83,-217.05\"/>\n<polygon fill=\"black\" stroke=\"black\" points=\"469.88,-214.18 460.19,-209.9 465.09,-219.29 469.88,-214.18\"/>\n<text text-anchor=\"middle\" x=\"657.44\" y=\"-296.3\" font-family=\"Times,serif\" font-size=\"14.00\">1</text>\n</g>\n<!-- filter&#45;&gt;depth_9_proc_id -->\n<g id=\"edge24\" class=\"edge\">\n<title>filter&#45;&gt;depth_9_proc_id</title>\n<path fill=\"none\" stroke=\"black\" d=\"M1161.62,-385.46C1076.11,-382.56 847.26,-365.21 694.44,-264 676.91,-252.39 662.03,-233.86 651.73,-218.64\"/>\n<polygon fill=\"black\" stroke=\"black\" points=\"654.6,-216.62 646.21,-210.14 648.72,-220.44 654.6,-216.62\"/>\n<text text-anchor=\"middle\" x=\"802.44\" y=\"-296.3\" font-family=\"Times,serif\" font-size=\"14.00\">1</text>\n</g>\n<!-- filter&#45;&gt;depth_10_proc_id -->\n<g id=\"edge19\" class=\"edge\">\n<title>filter&#45;&gt;depth_10_proc_id</title>\n<path fill=\"none\" stroke=\"black\" d=\"M1229.33,-386.07C1338.46,-385.97 1679.62,-383.03 1784.44,-351 1840.84,-333.77 1898.17,-295.1 1931.46,-270.07\"/>\n<polygon fill=\"black\" stroke=\"black\" points=\"1933.96,-272.56 1939.79,-263.72 1929.72,-267 1933.96,-272.56\"/>\n<text text-anchor=\"middle\" x=\"1839.94\" y=\"-339.8\" font-family=\"Times,serif\" font-size=\"14.00\">1025</text>\n</g>\n<!-- filter&#45;&gt;depth_6_proc_id -->\n<g id=\"edge32\" class=\"edge\">\n<title>filter&#45;&gt;depth_6_proc_id</title>\n<path fill=\"none\" stroke=\"black\" d=\"M1213.48,-371.45C1241.03,-349.05 1294.96,-304.46 1338.44,-264 1354.69,-248.88 1372.23,-231.09 1385.68,-217.1\"/>\n<polygon fill=\"black\" stroke=\"black\" points=\"1388.32,-219.4 1392.71,-209.76 1383.26,-214.57 1388.32,-219.4\"/>\n<text text-anchor=\"middle\" x=\"1321.44\" y=\"-296.3\" font-family=\"Times,serif\" font-size=\"14.00\">1</text>\n</g>\n<!-- merge -->\n<g id=\"node19\" class=\"node\">\n<title>merge</title>\n<ellipse fill=\"none\" stroke=\"black\" cx=\"1097.44\" cy=\"-300\" rx=\"40.09\" ry=\"18\"/>\n<text text-anchor=\"middle\" x=\"1097.44\" y=\"-296.3\" font-family=\"Times,serif\" font-size=\"14.00\">merge</text>\n</g>\n<!-- filter&#45;&gt;merge -->\n<g id=\"edge25\" class=\"edge\">\n<title>filter&#45;&gt;merge</title>\n<path fill=\"none\" stroke=\"black\" d=\"M1178.37,-371.19C1162.96,-357.83 1140.09,-337.99 1122.59,-322.82\"/>\n<polygon fill=\"black\" stroke=\"black\" points=\"1124.82,-320.12 1114.97,-316.21 1120.24,-325.4 1124.82,-320.12\"/>\n<text text-anchor=\"middle\" x=\"1169.94\" y=\"-339.8\" font-family=\"Times,serif\" font-size=\"14.00\">1024</text>\n</g>\n<!-- splice_ddf&#45;&gt;filter -->\n<g id=\"edge22\" class=\"edge\">\n<title>splice_ddf&#45;&gt;filter</title>\n<path fill=\"none\" stroke=\"black\" d=\"M1195.44,-455.8C1195.44,-444.16 1195.44,-428.55 1195.44,-415.24\"/>\n<polygon fill=\"black\" stroke=\"black\" points=\"1198.94,-415.18 1195.44,-405.18 1191.94,-415.18 1198.94,-415.18\"/>\n<text text-anchor=\"middle\" x=\"1213.94\" y=\"-426.8\" font-family=\"Times,serif\" font-size=\"14.00\">1025</text>\n</g>\n<!-- merge&#45;&gt;depth_7_proc_id -->\n<g id=\"edge29\" class=\"edge\">\n<title>merge&#45;&gt;depth_7_proc_id</title>\n<path fill=\"none\" stroke=\"black\" d=\"M1065.77,-288.69C1056.42,-286.05 1046.1,-283.53 1036.44,-282 848.39,-252.25 797.49,-286.59 608.44,-264 504.4,-251.57 385.39,-225.57 314.16,-208.72\"/>\n<polygon fill=\"black\" stroke=\"black\" points=\"314.55,-205.22 304.01,-206.31 312.92,-212.03 314.55,-205.22\"/>\n<text text-anchor=\"middle\" x=\"622.44\" y=\"-242.3\" font-family=\"Times,serif\" font-size=\"14.00\">128</text>\n</g>\n<!-- merge&#45;&gt;depth_4_proc_id -->\n<g id=\"edge35\" class=\"edge\">\n<title>merge&#45;&gt;depth_4_proc_id</title>\n<path fill=\"none\" stroke=\"black\" d=\"M1133.99,-292.4C1168.74,-285.92 1222.4,-275.38 1268.44,-264 1324.15,-250.24 1336.44,-240.54 1392.44,-228 1442.07,-216.89 1455.29,-218.43 1505.44,-210 1512.69,-208.78 1520.25,-207.48 1527.8,-206.17\"/>\n<polygon fill=\"black\" stroke=\"black\" points=\"1528.44,-209.61 1537.69,-204.45 1527.24,-202.72 1528.44,-209.61\"/>\n<text text-anchor=\"middle\" x=\"1401.94\" y=\"-242.3\" font-family=\"Times,serif\" font-size=\"14.00\">16</text>\n</g>\n<!-- merge&#45;&gt;depth_5_proc_id -->\n<g id=\"edge33\" class=\"edge\">\n<title>merge&#45;&gt;depth_5_proc_id</title>\n<path fill=\"none\" stroke=\"black\" d=\"M1073.34,-285.41C1045.22,-269.97 997.03,-244.73 953.44,-228 934.41,-220.7 913.23,-214.16 893.82,-208.76\"/>\n<polygon fill=\"black\" stroke=\"black\" points=\"894.73,-205.38 884.16,-206.13 892.89,-212.14 894.73,-205.38\"/>\n<text text-anchor=\"middle\" x=\"1037.94\" y=\"-242.3\" font-family=\"Times,serif\" font-size=\"14.00\">32</text>\n</g>\n<!-- merge&#45;&gt;depth_3_proc_id -->\n<g id=\"edge37\" class=\"edge\">\n<title>merge&#45;&gt;depth_3_proc_id</title>\n<path fill=\"none\" stroke=\"black\" d=\"M1107.96,-282.6C1118.42,-267.18 1135.58,-244.13 1154.44,-228 1160.38,-222.92 1167.16,-218.2 1173.99,-213.96\"/>\n<polygon fill=\"black\" stroke=\"black\" points=\"1175.77,-216.97 1182.61,-208.88 1172.22,-210.94 1175.77,-216.97\"/>\n<text text-anchor=\"middle\" x=\"1159.44\" y=\"-242.3\" font-family=\"Times,serif\" font-size=\"14.00\">8</text>\n</g>\n<!-- merge&#45;&gt;depth_1_proc_id -->\n<g id=\"edge41\" class=\"edge\">\n<title>merge&#45;&gt;depth_1_proc_id</title>\n<path fill=\"none\" stroke=\"black\" d=\"M1095.43,-281.74C1092.91,-266.36 1087.37,-243.89 1075.44,-228 1071.84,-223.2 1067.37,-218.85 1062.56,-214.99\"/>\n<polygon fill=\"black\" stroke=\"black\" points=\"1064.41,-212 1054.26,-208.95 1060.29,-217.67 1064.41,-212\"/>\n<text text-anchor=\"middle\" x=\"1095.44\" y=\"-242.3\" font-family=\"Times,serif\" font-size=\"14.00\">2</text>\n</g>\n<!-- merge&#45;&gt;depth_2_proc_id -->\n<g id=\"edge40\" class=\"edge\">\n<title>merge&#45;&gt;depth_2_proc_id</title>\n<path fill=\"none\" stroke=\"black\" d=\"M1134.69,-292.56C1155.71,-289.08 1182.48,-284.92 1206.44,-282 1297.23,-270.95 1321.13,-278.45 1411.44,-264 1480.85,-252.9 1496.31,-240.73 1565.44,-228 1624.1,-217.2 1639.5,-219.2 1698.44,-210 1705.82,-208.85 1713.52,-207.59 1721.19,-206.29\"/>\n<polygon fill=\"black\" stroke=\"black\" points=\"1721.98,-209.71 1731.24,-204.57 1720.8,-202.81 1721.98,-209.71\"/>\n<text text-anchor=\"middle\" x=\"1570.44\" y=\"-242.3\" font-family=\"Times,serif\" font-size=\"14.00\">4</text>\n</g>\n<!-- merge&#45;&gt;depth_0_proc_id -->\n<g id=\"edge43\" class=\"edge\">\n<title>merge&#45;&gt;depth_0_proc_id</title>\n<path fill=\"none\" stroke=\"black\" d=\"M1134.15,-292.28C1155.23,-288.67 1182.24,-284.47 1206.44,-282 1369.79,-265.33 1412.59,-284.98 1575.44,-264 1652.47,-254.08 1669.84,-240.8 1746.44,-228 1810.49,-217.3 1827.22,-219.66 1891.44,-210 1898.97,-208.87 1906.82,-207.61 1914.65,-206.3\"/>\n<polygon fill=\"black\" stroke=\"black\" points=\"1915.24,-209.75 1924.52,-204.62 1914.07,-202.85 1915.24,-209.75\"/>\n<text text-anchor=\"middle\" x=\"1751.44\" y=\"-242.3\" font-family=\"Times,serif\" font-size=\"14.00\">1</text>\n</g>\n<!-- merge&#45;&gt;depth_8_proc_id -->\n<g id=\"edge26\" class=\"edge\">\n<title>merge&#45;&gt;depth_8_proc_id</title>\n<path fill=\"none\" stroke=\"black\" d=\"M1065.74,-288.85C1056.39,-286.21 1046.08,-283.65 1036.44,-282 920.09,-262.05 887.83,-283.74 771.44,-264 711.91,-253.9 699.34,-241.3 640.44,-228 638.87,-227.65 572.82,-215.92 517.64,-206.14\"/>\n<polygon fill=\"black\" stroke=\"black\" points=\"517.94,-202.64 507.48,-204.34 516.72,-209.53 517.94,-202.64\"/>\n<text text-anchor=\"middle\" x=\"785.44\" y=\"-242.3\" font-family=\"Times,serif\" font-size=\"14.00\">256</text>\n</g>\n<!-- merge&#45;&gt;depth_9_proc_id -->\n<g id=\"edge23\" class=\"edge\">\n<title>merge&#45;&gt;depth_9_proc_id</title>\n<path fill=\"none\" stroke=\"black\" d=\"M1065.01,-289.21C1055.83,-286.64 1045.79,-284.03 1036.44,-282 985.88,-271.04 971.86,-275.58 921.44,-264 868,-251.73 856.55,-241.64 803.44,-228 772.77,-220.12 738.59,-212.72 709.19,-206.77\"/>\n<polygon fill=\"black\" stroke=\"black\" points=\"709.49,-203.27 699,-204.73 708.12,-210.13 709.49,-203.27\"/>\n<text text-anchor=\"middle\" x=\"935.44\" y=\"-242.3\" font-family=\"Times,serif\" font-size=\"14.00\">512</text>\n</g>\n<!-- merge&#45;&gt;depth_6_proc_id -->\n<g id=\"edge31\" class=\"edge\">\n<title>merge&#45;&gt;depth_6_proc_id</title>\n<path fill=\"none\" stroke=\"black\" d=\"M1123.42,-286.02C1159.91,-267.92 1224.68,-236.39 1249.44,-228 1276.14,-218.95 1306.18,-211.64 1332.89,-206.08\"/>\n<polygon fill=\"black\" stroke=\"black\" points=\"1333.85,-209.46 1342.96,-204.04 1332.46,-202.6 1333.85,-209.46\"/>\n<text text-anchor=\"middle\" x=\"1258.94\" y=\"-242.3\" font-family=\"Times,serif\" font-size=\"14.00\">64</text>\n</g>\n<!-- merge&#45;&gt;merge -->\n<g id=\"edge28\" class=\"edge\">\n<title>merge&#45;&gt;merge</title>\n<path fill=\"none\" stroke=\"black\" d=\"M1133.88,-307.88C1146.02,-307.88 1155.74,-305.25 1155.74,-300 1155.74,-296.31 1150.93,-293.91 1143.86,-292.82\"/>\n<polygon fill=\"black\" stroke=\"black\" points=\"1144.09,-289.33 1133.88,-292.12 1143.61,-296.31 1144.09,-289.33\"/>\n<text text-anchor=\"middle\" x=\"1174.24\" y=\"-296.3\" font-family=\"Times,serif\" font-size=\"14.00\">1022</text>\n</g>\n</g>\n</svg>\n",
      "text/plain": [
       "<graphviz.graphs.Digraph at 0x200039e68470>"
      ]
     },
     "execution_count": 18,
     "metadata": {},
     "output_type": "execute_result"
    }
   ],
   "source": [
    "dot"
   ]
  },
  {
   "cell_type": "code",
   "execution_count": 19,
   "id": "ad5e9d55-1032-4ff0-b8c5-452ff49607f9",
   "metadata": {},
   "outputs": [
    {
     "name": "stdout",
     "output_type": "stream",
     "text": [
      "CPU times: user 1.96 s, sys: 267 ms, total: 2.23 s\n",
      "Wall time: 2.22 s\n"
     ]
    }
   ],
   "source": [
    "%%time\n",
    "# Progress bar on a single-machine scheduler\n",
    "from dask.distributed import performance_report\n",
    "from dask.distributed import as_completed\n",
    "futures = client.compute(delayed_list, sync=False)"
   ]
  },
  {
   "cell_type": "code",
   "execution_count": 20,
   "id": "dfd51323-a2c3-4d2a-ac2b-8dc4797303a8",
   "metadata": {
    "tags": []
   },
   "outputs": [
    {
     "data": {
      "text/plain": [
       "[Delayed('read_parquet_proc_id'),\n",
       " Delayed('index_delayed_proc_id'),\n",
       " Delayed('persist_proc_id'),\n",
       " Delayed('wait_delayed_proc_id'),\n",
       " Delayed('depth_10_proc_id'),\n",
       " Delayed('depth_9_proc_id'),\n",
       " Delayed('depth_8_proc_id'),\n",
       " Delayed('depth_7_proc_id'),\n",
       " Delayed('depth_6_proc_id'),\n",
       " Delayed('depth_5_proc_id'),\n",
       " Delayed('depth_4_proc_id'),\n",
       " Delayed('depth_3_proc_id'),\n",
       " Delayed('depth_2_proc_id'),\n",
       " Delayed('depth_1_proc_id'),\n",
       " Delayed('depth_0_proc_id')]"
      ]
     },
     "execution_count": 20,
     "metadata": {},
     "output_type": "execute_result"
    }
   ],
   "source": [
    "delayed_list"
   ]
  },
  {
   "cell_type": "code",
   "execution_count": 21,
   "id": "1f1180e2-d714-49ba-a2c9-c655b8835158",
   "metadata": {
    "tags": []
   },
   "outputs": [
    {
     "name": "stdout",
     "output_type": "stream",
     "text": [
      "read_parquet_proc_id finished 0.22495956420898439\n",
      "index_delayed_proc_id finished 2.666178560256958\n",
      "persist_proc_id finished 2.6776389956474302\n",
      "wait_delayed_proc_id finished 9.30384316444397\n",
      "depth_10_proc_id finished 14.726682285467783\n",
      "depth_9_proc_id finished 14.731636369228363\n",
      "depth_8_proc_id finished 14.734405295054119\n",
      "depth_7_proc_id finished 14.735019373893739\n",
      "depth_6_proc_id finished 14.735296408335367\n",
      "depth_5_proc_id finished 14.735868942737579\n",
      "depth_4_proc_id finished 14.735869471232096\n",
      "depth_3_proc_id finished 14.736102811495464\n",
      "depth_2_proc_id finished 14.736213334401448\n",
      "depth_1_proc_id finished 14.736419606208802\n",
      "depth_0_proc_id finished 14.736497449874879\n",
      "CPU times: user 5min 44s, sys: 14.2 s, total: 5min 58s\n",
      "Wall time: 14min 44s\n"
     ]
    }
   ],
   "source": [
    "%%time\n",
    "import time\n",
    "start_time = time.time()\n",
    "for future in as_completed(futures):\n",
    "    end_time = time.time() - start_time\n",
    "    print(f\"{future.key} {future.status} {end_time/60}\")"
   ]
  },
  {
   "cell_type": "code",
   "execution_count": null,
   "id": "dba3862e-0860-4ea1-aabf-38ba8cfa9449",
   "metadata": {
    "tags": []
   },
   "outputs": [],
   "source": [
    "futures[-1:][0].result()"
   ]
  },
  {
   "cell_type": "code",
   "execution_count": null,
   "id": "745e8f7e-a19c-499e-8c7b-aff62fe69589",
   "metadata": {},
   "outputs": [],
   "source": [
    "%%time\n",
    "# Progress bar on a single-machine scheduler\n",
    "from dask.diagnostics import ProgressBar\n",
    "futures_2 = client.compute(delayed_list[5:], sync=False)"
   ]
  },
  {
   "cell_type": "code",
   "execution_count": null,
   "id": "c8ec7fd0-6fe8-4abb-a671-00a715316ea8",
   "metadata": {},
   "outputs": [],
   "source": [
    "futures_2"
   ]
  },
  {
   "cell_type": "code",
   "execution_count": null,
   "id": "caf07812-961e-4f82-9a46-6e023141d212",
   "metadata": {},
   "outputs": [],
   "source": [
    "futures_2[-1:][0].result()"
   ]
  },
  {
   "cell_type": "code",
   "execution_count": null,
   "id": "0b58c99f-5800-482b-8e50-ea3702f2f496",
   "metadata": {},
   "outputs": [],
   "source": [
    "for future in futures:\n",
    "    if future.status not in [\"finished\"]:\n",
    "        print(f\"canceling {future.key}\")\n",
    "        future.cancel()"
   ]
  },
  {
   "cell_type": "code",
   "execution_count": null,
   "id": "70c0f330-3349-42e2-b07d-add0e0efad12",
   "metadata": {},
   "outputs": [],
   "source": [
    "for future in futures:\n",
    "    if \"depth\" in future.key:\n",
    "        print(f\"canceling {future.key}\")\n",
    "        future.cancel()"
   ]
  },
  {
   "cell_type": "code",
   "execution_count": null,
   "id": "05ad846f-0fc3-48d3-9f59-a3dcea830d6b",
   "metadata": {},
   "outputs": [],
   "source": [
    "for future in futures:\n",
    "    future.cancel()"
   ]
  },
  {
   "cell_type": "code",
   "execution_count": null,
   "id": "3f9ab6c6-af2d-4d72-a33b-05ed897fe459",
   "metadata": {
    "tags": []
   },
   "outputs": [],
   "source": [
    "for future in futures:\n",
    "    if future.status in [\"error\"]:\n",
    "        print(f\"printing exception {future.key}\")\n",
    "        print(future.exception())"
   ]
  },
  {
   "cell_type": "code",
   "execution_count": null,
   "id": "c956b25d-e447-4cf5-96fc-cfc53079bac4",
   "metadata": {},
   "outputs": [],
   "source": [
    "for future in futures:\n",
    "    if future.status  in [\"error\"]:\n",
    "        print(f\"canceling {future.key}\")\n",
    "        future.cancel()"
   ]
  },
  {
   "cell_type": "code",
   "execution_count": null,
   "id": "2d41a04f-5739-4d9d-9e0d-cc99826ecec8",
   "metadata": {
    "tags": []
   },
   "outputs": [],
   "source": [
    "if futures[4].done():\n",
    "    metrics = futures[4].result()\n",
    "else:\n",
    "    print(\"future is pending\")"
   ]
  },
  {
   "cell_type": "code",
   "execution_count": null,
   "id": "21a291c6-ffdd-4134-b474-366b8c4a215d",
   "metadata": {},
   "outputs": [],
   "source": [
    "metrics"
   ]
  },
  {
   "cell_type": "code",
   "execution_count": null,
   "id": "4053b7cf-4ffd-4a1a-a567-62e5b281c6df",
   "metadata": {},
   "outputs": [],
   "source": [
    "import numpy as np\n",
    "PARTITION_FOLDER = \"partitioned_hari\"\n",
    "def indexed_ddf(log_dir: str, filter_group_index: str):\n",
    "    ddf = dd.read_parquet(f\"{log_dir}/*.parquet\", index=False)\n",
    "    #ddf[filter_group_index] = ddf[filter_group_index].astype(np.int64)\n",
    "    ddf = ddf.set_index([filter_group_index])\n",
    "    ddf = ddf.persist()\n",
    "    #result = wait(ddf)\n",
    "    return ddf\n",
    "\n",
    "def compute_metrics(ddf, filter_group_index: str, interval):\n",
    "    min_val, max_val = interval\n",
    "    \n",
    "\n",
    "    depth = 10\n",
    "    next_tasks = 2 ** depth\n",
    "    interval = math.ceil((max_val - min_val) * 1.0 / next_tasks)\n",
    "    iterations = list(range(0, depth + 1))\n",
    "    iterations.reverse()\n",
    "    all_tasks = [0] * (depth + 1)\n",
    "    time_range = range(min_val, max_val, interval)\n",
    "    for i in iterations:\n",
    "        tasks = []\n",
    "        if i == depth:\n",
    "            for start in time_range:\n",
    "                stop = start + interval - 1\n",
    "                target_ddf = ddf.loc[start:stop]\n",
    "                tasks.append(dask.delayed(filter)(target_ddf, filter_group_index))\n",
    "        else:\n",
    "            next_tasks = len(all_tasks[i + 1])\n",
    "            if next_tasks % 2 == 1:\n",
    "                next_tasks = next_tasks - 1\n",
    "            for t in range(0, next_tasks, 2):\n",
    "                tasks.append(dask.delayed(merge)(all_tasks[i + 1][t], all_tasks[i + 1][t + 1]))\n",
    "            next_tasks = len(all_tasks[i + 1])\n",
    "            if next_tasks % 2 == 1:\n",
    "                tasks.append(all_tasks[i + 1][next_tasks - 1])\n",
    "            # TODO why are we calling len on everything?\n",
    "            for t, next_tasks in enumerate(all_tasks[i + 1]):\n",
    "                all_tasks[i + 1][t] = dask.delayed(cal_len)(next_tasks)\n",
    "        all_tasks[i] = tasks\n",
    "    for t, next_tasks in enumerate(all_tasks[0]):\n",
    "        all_tasks[0][t] = dask.delayed(cal_len)(next_tasks)\n",
    "    metrics = dask.compute(all_tasks)    \n",
    "    #result = wait(metrics_futures)\n",
    "    #metrics = client.gather(metrics_futures)\n",
    "    return metrics"
   ]
  },
  {
   "cell_type": "code",
   "execution_count": null,
   "id": "9d003126-e7b2-4f00-9e91-c2c785e81735",
   "metadata": {},
   "outputs": [],
   "source": [
    "# json_index = 'tmid'\n",
    "# futures = []\n",
    "# args = [log_dir, json_index, filter_group_index]\n",
    "# interval_ft = vn.clients[filter_group_index].submit(compute_min_max, *args, key=f'{filter_group_index}_compute_min_max')\n",
    "# futures.append(interval_ft)\n",
    "# args = [log_dir, filter_group_index]\n",
    "# indexed_ft = vn.clients[filter_group_index].submit(indexed_ddf, *args, key=f'{filter_group_index}_indexed_ddf')\n",
    "# futures.append(indexed_ft)\n",
    "# args = [indexed_ft, filter_group_index, interval_ft]\n",
    "# metrics_ft = vn.clients[filter_group_index].submit(compute_metrics, *args, key=f'{filter_group_index}_compute_metrics')\n",
    "# futures.append(metrics_ft)"
   ]
  },
  {
   "cell_type": "code",
   "execution_count": null,
   "id": "4287737e-0c1a-4a36-b300-9c8102338faa",
   "metadata": {},
   "outputs": [],
   "source": [
    "# from dask.distributed import as_completed\n",
    "# from tqdm.auto import tqdm\n",
    "# metrics_map = {}\n",
    "# for future in tqdm(as_completed(futures)):\n",
    "#     if \"compute_metrics\" in future.key:\n",
    "#         metrics_map[future.key] = future.result(timeout=(2*60*60))\n",
    "#     print(f'{future.key} completed')"
   ]
  },
  {
   "cell_type": "code",
   "execution_count": null,
   "id": "ef67575d-295b-4c1c-b1b9-4adfd94f0edc",
   "metadata": {
    "tags": []
   },
   "outputs": [],
   "source": [
    "# metrics_map"
   ]
  },
  {
   "cell_type": "code",
   "execution_count": null,
   "id": "580447c9-0593-4bed-94e0-68fd4b779c1c",
   "metadata": {},
   "outputs": [],
   "source": [
    "json_keys = dict(tmid='tmid', proc_id='proc_id', file_id='file_id')\n",
    "futures = []\n",
    "for filter_group_index in vn.filter_group_indices:\n",
    "    json_index = json_keys[filter_group_index]\n",
    "    args = [log_dir, json_index, filter_group_index]\n",
    "    interval_ft = vn.clients[filter_group_index].submit(compute_min_max, *args, key=f'{filter_group_index}_compute_min_max')\n",
    "    futures.append(interval_ft)\n",
    "    args = [log_dir, filter_group_index]\n",
    "    indexed_ft = vn.clients[filter_group_index].submit(indexed_ddf, *args, key=f'{filter_group_index}_indexed_ddf')\n",
    "    futures.append(indexed_ft)\n",
    "    args = [indexed_ft, filter_group_index, interval_ft]\n",
    "    metrics_ft = vn.clients[filter_group_index].submit(compute_metrics, *args, key=f'{filter_group_index}_compute_metrics')\n",
    "    futures.append(metrics_ft)\n"
   ]
  },
  {
   "cell_type": "code",
   "execution_count": null,
   "id": "2af9ecbc-4a95-430d-96aa-7482cd428cbe",
   "metadata": {
    "tags": []
   },
   "outputs": [],
   "source": [
    "%%time\n",
    "from dask.distributed import as_completed\n",
    "from tqdm.auto import tqdm\n",
    "metrics_map = {}\n",
    "for future in tqdm(as_completed(futures)):\n",
    "    if \"compute_metrics\" in future.key:\n",
    "        metrics_map[future.key] = future.result(timeout=(2*60*60))\n",
    "    print(f'{future.key} completed')"
   ]
  },
  {
   "cell_type": "code",
   "execution_count": null,
   "id": "17f5d0c7-694d-4d72-a8a9-c32482186efc",
   "metadata": {},
   "outputs": [],
   "source": [
    "# min_val, max_val = metrics_map[\"tmid_compute_min_max\"]\n",
    "# depth = 10\n",
    "# next_tasks = 2 ** depth\n",
    "# interval = math.ceil((max_val - min_val) * 1.0 / next_tasks)\n",
    "# time_range = range(min_val, max_val, interval)\n",
    "# for start in time_range:\n",
    "#     print(start, start + interval - 1)"
   ]
  },
  {
   "cell_type": "code",
   "execution_count": null,
   "id": "f2e891a2-f7ab-4463-8a08-641cd5d3cb3f",
   "metadata": {},
   "outputs": [],
   "source": [
    "def merge_result(x, y):\n",
    "    return {\n",
    "        'read': {\n",
    "            'uniq_ranks': x['read']['uniq_ranks'] + y['read']['uniq_ranks'],\n",
    "            'agg_dur': x['read']['agg_dur'] + y['read']['agg_dur'],\n",
    "            'total_io_size': x['read']['total_io_size'] + y['read']['total_io_size'],\n",
    "            'uniq_filenames': x['read']['uniq_filenames'] + y['read']['uniq_filenames'],\n",
    "            'bw_sum': x['read']['bw_sum'] + y['read']['bw_sum'],\n",
    "            'ops': x['read']['ops'] + y['read']['ops'],\n",
    "        },\n",
    "        'write': {\n",
    "            'uniq_ranks': x['write']['uniq_ranks'] + y['write']['uniq_ranks'],\n",
    "            'agg_dur': x['write']['agg_dur'] + y['write']['agg_dur'],\n",
    "            'total_io_size': x['write']['total_io_size'] + y['write']['total_io_size'],\n",
    "            'uniq_filenames': x['write']['uniq_filenames'] + y['write']['uniq_filenames'],\n",
    "            'bw_sum': x['write']['bw_sum'] + y['write']['bw_sum'],\n",
    "            'ops': x['write']['ops'] + y['write']['ops'],\n",
    "        },\n",
    "        'metadata': {\n",
    "            'uniq_ranks': x['metadata']['uniq_ranks'] + y['metadata']['uniq_ranks'],\n",
    "            'agg_dur': x['metadata']['agg_dur'] + y['metadata']['agg_dur'],\n",
    "            'uniq_filenames': x['metadata']['uniq_filenames'] + y['metadata']['uniq_filenames'],\n",
    "            'ops': x['metadata']['ops'] + y['metadata']['ops'],\n",
    "        }\n",
    "    }"
   ]
  },
  {
   "cell_type": "code",
   "execution_count": null,
   "id": "3459637a-4a6b-4564-81fd-7c38569d5640",
   "metadata": {},
   "outputs": [],
   "source": [
    "metrics_map['tmid_compute_metrics'][0][0]"
   ]
  },
  {
   "cell_type": "code",
   "execution_count": null,
   "id": "9157a600-18a1-4247-9d4c-3bd2f1d6cddc",
   "metadata": {},
   "outputs": [],
   "source": [
    "merge_result(metrics_map['proc_id_compute_metrics'][0][0][0],metrics_map['proc_id_compute_metrics'][0][0][1])"
   ]
  },
  {
   "cell_type": "code",
   "execution_count": null,
   "id": "c6ad400d-8cdd-4dd3-a8ef-12175353311f",
   "metadata": {},
   "outputs": [],
   "source": [
    "metrics_map['file_id_compute_metrics'][0][0]"
   ]
  },
  {
   "cell_type": "code",
   "execution_count": null,
   "id": "9dd9e5a6-6ee9-4211-9898-f854f9d352b7",
   "metadata": {
    "tags": []
   },
   "outputs": [],
   "source": [
    "metrics_map"
   ]
  },
  {
   "cell_type": "code",
   "execution_count": null,
   "id": "0aaa6121-a22e-4aed-b3aa-c7c1a781f307",
   "metadata": {},
   "outputs": [],
   "source": [
    "metrics_map['file_id_indexed_ddf'].compute()"
   ]
  },
  {
   "cell_type": "code",
   "execution_count": null,
   "id": "e487d8b5-bb34-44b0-8a1c-6b5ac7f00921",
   "metadata": {},
   "outputs": [],
   "source": [
    "metrics_map['tmid_compute_metrics'][0][10]"
   ]
  },
  {
   "cell_type": "code",
   "execution_count": null,
   "id": "696688ed-27f3-4afd-a41b-ae7d6e013734",
   "metadata": {
    "tags": []
   },
   "outputs": [],
   "source": [
    "metrics_map['proc_id_compute_metrics'][0][0]"
   ]
  },
  {
   "cell_type": "code",
   "execution_count": null,
   "id": "834b0de2-9580-4d4b-8ba8-7b273e877ea9",
   "metadata": {},
   "outputs": [],
   "source": [
    "metrics_map['file_id_compute_metrics'][0][0][0]"
   ]
  },
  {
   "cell_type": "code",
   "execution_count": null,
   "id": "392ccfd6-e953-4b2e-9f80-8c0ddc928f11",
   "metadata": {},
   "outputs": [],
   "source": [
    "import dask.dataframe as dd\n",
    "from dask.distributed import Client, LocalCluster\n",
    "local_client = Client(LocalCluster(n_workers=16))"
   ]
  },
  {
   "cell_type": "code",
   "execution_count": null,
   "id": "80679d0b-c47b-4bcc-b0c4-a94e4f0d4206",
   "metadata": {},
   "outputs": [],
   "source": [
    "local_client"
   ]
  },
  {
   "cell_type": "code",
   "execution_count": null,
   "id": "e449aaae-13fb-4815-afdf-ea2bbfc6d5e8",
   "metadata": {},
   "outputs": [],
   "source": [
    "log_dir = \"/p/gpfs1/iopp/recorder_app_logs/genome_pegasus/nodes-32/_parquet\"\n",
    "ddf = dd.read_parquet(f\"{log_dir}/*.parquet\", index=False)"
   ]
  },
  {
   "cell_type": "code",
   "execution_count": null,
   "id": "d3ad1157-b3c5-4ef6-b43c-0695c34671ae",
   "metadata": {},
   "outputs": [],
   "source": [
    "values = dd.compute(ddf['tmid'].min(), ddf['tmid'].max(), ddf['file_id'].min(), ddf['file_id'].max(), ddf['proc_id'].min(), ddf['proc_id'].max())"
   ]
  },
  {
   "cell_type": "code",
   "execution_count": null,
   "id": "88b67fc7-4055-4f00-bb34-396a5ff6cb30",
   "metadata": {},
   "outputs": [],
   "source": [
    "values"
   ]
  },
  {
   "cell_type": "code",
   "execution_count": null,
   "id": "84c919e1-9a92-4ecb-af93-a2885fbddc3e",
   "metadata": {},
   "outputs": [],
   "source": [
    "min_val, max_val = -9223371986035283781, 9223369538921024184\n",
    "\n",
    "next_tasks = 2 ** 10\n",
    "interval = math.ceil((max_val - min_val) * 1.0 / next_tasks)\n",
    "time_range = range(min_val, max_val, interval)\n",
    "print(time_range)\n",
    "for start in time_range:\n",
    "    print(start, start + interval -1)"
   ]
  },
  {
   "cell_type": "code",
   "execution_count": null,
   "id": "59b3173a-d505-4624-931c-0a654afe9039",
   "metadata": {},
   "outputs": [],
   "source": [
    "!pip install python-intervals"
   ]
  },
  {
   "cell_type": "code",
   "execution_count": null,
   "id": "c9efadee-a7e7-4fda-acb9-0bef0ae16138",
   "metadata": {},
   "outputs": [],
   "source": []
  }
 ],
 "metadata": {
  "kernelspec": {
   "display_name": "Python 3.7.2 ('venv-quartz': virtualenv)",
   "language": "python",
   "name": "python3"
  },
  "language_info": {
   "codemirror_mode": {
    "name": "ipython",
    "version": 3
   },
   "file_extension": ".py",
   "mimetype": "text/x-python",
   "name": "python",
   "nbconvert_exporter": "python",
   "pygments_lexer": "ipython3",
   "version": "3.7.2"
  },
  "vscode": {
   "interpreter": {
    "hash": "60e611992ff4884e53704c792d3e673c1345bc4edefd19673c75adce4311bc94"
   }
  },
  "widgets": {
   "application/vnd.jupyter.widget-state+json": {
    "state": {},
    "version_major": 2,
    "version_minor": 0
   }
  }
 },
 "nbformat": 4,
 "nbformat_minor": 5
}

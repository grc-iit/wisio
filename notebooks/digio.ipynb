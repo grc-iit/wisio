{
 "cells": [
  {
   "cell_type": "code",
   "execution_count": 7,
   "id": "29bc6ef2-c509-4ef8-baec-c35bf6b61288",
   "metadata": {},
   "outputs": [],
   "source": [
    "import sys\n",
    "import os\n",
    "sys.path.append(os.path.dirname(os.getcwd()))"
   ]
  },
  {
   "cell_type": "code",
   "execution_count": 8,
   "id": "7e619c48-bf08-42ce-92ff-e41e69fa713d",
   "metadata": {},
   "outputs": [],
   "source": [
    "from vani.analyzer import Analyzer"
   ]
  },
  {
   "cell_type": "code",
   "execution_count": 9,
   "id": "4bb8ece5-4b75-4cb8-819b-32527d8bc590",
   "metadata": {},
   "outputs": [
    {
     "name": "stderr",
     "output_type": "stream",
     "text": [
      "distributed.http.proxy - INFO - To route to workers diagnostics web server please install jupyter-server-proxy: python -m pip install jupyter-server-proxy\n",
      "distributed.scheduler - INFO - Clear task state\n",
      "distributed.scheduler - INFO -   Scheduler at: tcp://192.168.66.200:46575\n",
      "distributed.scheduler - INFO -   dashboard at:       192.168.66.200:3446\n",
      "distributed.nanny - INFO -         Start Nanny at: 'tcp://192.168.66.200:35603'\n",
      "distributed.nanny - INFO -         Start Nanny at: 'tcp://192.168.66.200:44123'\n",
      "distributed.nanny - INFO -         Start Nanny at: 'tcp://192.168.66.200:43801'\n",
      "distributed.nanny - INFO -         Start Nanny at: 'tcp://192.168.66.200:41211'\n",
      "distributed.nanny - INFO -         Start Nanny at: 'tcp://192.168.66.200:36795'\n",
      "distributed.nanny - INFO -         Start Nanny at: 'tcp://192.168.66.200:41135'\n",
      "distributed.nanny - INFO -         Start Nanny at: 'tcp://192.168.66.200:41879'\n",
      "distributed.nanny - INFO -         Start Nanny at: 'tcp://192.168.66.200:40775'\n",
      "distributed.nanny - INFO -         Start Nanny at: 'tcp://192.168.66.200:34255'\n",
      "distributed.nanny - INFO -         Start Nanny at: 'tcp://192.168.66.200:41815'\n",
      "distributed.nanny - INFO -         Start Nanny at: 'tcp://192.168.66.200:46373'\n",
      "distributed.nanny - INFO -         Start Nanny at: 'tcp://192.168.66.200:46653'\n",
      "distributed.nanny - INFO -         Start Nanny at: 'tcp://192.168.66.200:45197'\n",
      "distributed.nanny - INFO -         Start Nanny at: 'tcp://192.168.66.200:40717'\n",
      "distributed.nanny - INFO -         Start Nanny at: 'tcp://192.168.66.200:40025'\n",
      "distributed.nanny - INFO -         Start Nanny at: 'tcp://192.168.66.200:36113'\n",
      "distributed.diskutils - INFO - Found stale lock file and directory '/var/tmp/dask/local/dask-worker-space/worker-q31t0k5b', purging\n",
      "distributed.diskutils - INFO - Found stale lock file and directory '/var/tmp/dask/local/dask-worker-space/worker-v3lyo7gc', purging\n",
      "distributed.diskutils - INFO - Found stale lock file and directory '/var/tmp/dask/local/dask-worker-space/worker-2nolo4fh', purging\n",
      "distributed.diskutils - INFO - Found stale lock file and directory '/var/tmp/dask/local/dask-worker-space/worker-u0ajlz6j', purging\n",
      "distributed.diskutils - INFO - Found stale lock file and directory '/var/tmp/dask/local/dask-worker-space/worker-tk0hmvr3', purging\n",
      "distributed.diskutils - INFO - Found stale lock file and directory '/var/tmp/dask/local/dask-worker-space/worker-dd6zl4ya', purging\n",
      "distributed.diskutils - INFO - Found stale lock file and directory '/var/tmp/dask/local/dask-worker-space/worker-uh2wqjd1', purging\n",
      "distributed.diskutils - INFO - Found stale lock file and directory '/var/tmp/dask/local/dask-worker-space/worker-ula9cqv9', purging\n",
      "distributed.diskutils - INFO - Found stale lock file and directory '/var/tmp/dask/local/dask-worker-space/worker-481zvpjf', purging\n",
      "distributed.diskutils - INFO - Found stale lock file and directory '/var/tmp/dask/local/dask-worker-space/worker-yuium7g2', purging\n",
      "distributed.diskutils - INFO - Found stale lock file and directory '/var/tmp/dask/local/dask-worker-space/worker-l7ptbz9v', purging\n",
      "distributed.diskutils - INFO - Found stale lock file and directory '/var/tmp/dask/local/dask-worker-space/worker-h7xdn5h0', purging\n",
      "distributed.diskutils - INFO - Found stale lock file and directory '/var/tmp/dask/local/dask-worker-space/worker-hsejv8bd', purging\n",
      "distributed.diskutils - INFO - Found stale lock file and directory '/var/tmp/dask/local/dask-worker-space/worker-1qon0083', purging\n",
      "distributed.diskutils - INFO - Found stale lock file and directory '/var/tmp/dask/local/dask-worker-space/worker-yin16ina', purging\n",
      "distributed.diskutils - INFO - Found stale lock file and directory '/var/tmp/dask/local/dask-worker-space/worker-lohysir8', purging\n",
      "distributed.worker - INFO -       Start worker at: tcp://192.168.66.200:43963\n",
      "distributed.worker - INFO -          Listening to: tcp://192.168.66.200:43963\n",
      "distributed.worker - INFO -          dashboard at:       192.168.66.200:45401\n",
      "distributed.worker - INFO - Waiting to connect to: tcp://192.168.66.200:46575\n",
      "distributed.worker - INFO - -------------------------------------------------\n",
      "distributed.worker - INFO -               Threads:                          8\n",
      "distributed.worker - INFO -       Local Directory: /var/tmp/dask/local/dask-worker-space/worker-huahx7sk\n",
      "distributed.worker - INFO - -------------------------------------------------\n",
      "distributed.worker - INFO -       Start worker at: tcp://192.168.66.200:44289\n",
      "distributed.worker - INFO -          Listening to: tcp://192.168.66.200:44289\n",
      "distributed.worker - INFO -          dashboard at:       192.168.66.200:45079\n",
      "distributed.worker - INFO - Waiting to connect to: tcp://192.168.66.200:46575\n",
      "distributed.worker - INFO - -------------------------------------------------\n",
      "distributed.worker - INFO -               Threads:                          8\n",
      "distributed.worker - INFO -       Local Directory: /var/tmp/dask/local/dask-worker-space/worker-ypazkhum\n",
      "distributed.worker - INFO - -------------------------------------------------\n",
      "distributed.worker - INFO -       Start worker at: tcp://192.168.66.200:36255\n",
      "distributed.worker - INFO -          Listening to: tcp://192.168.66.200:36255\n",
      "distributed.worker - INFO -          dashboard at:       192.168.66.200:44633\n",
      "distributed.worker - INFO - Waiting to connect to: tcp://192.168.66.200:46575\n",
      "distributed.worker - INFO - -------------------------------------------------\n",
      "distributed.worker - INFO -               Threads:                          8\n",
      "distributed.worker - INFO -       Local Directory: /var/tmp/dask/local/dask-worker-space/worker-d4f61bxi\n",
      "distributed.worker - INFO - -------------------------------------------------\n",
      "distributed.worker - INFO -       Start worker at: tcp://192.168.66.200:36599\n",
      "distributed.worker - INFO -          Listening to: tcp://192.168.66.200:36599\n",
      "distributed.worker - INFO -          dashboard at:       192.168.66.200:34341\n",
      "distributed.worker - INFO - Waiting to connect to: tcp://192.168.66.200:46575\n",
      "distributed.worker - INFO - -------------------------------------------------\n",
      "distributed.worker - INFO -               Threads:                          8\n",
      "distributed.worker - INFO -       Local Directory: /var/tmp/dask/local/dask-worker-space/worker-p_kwy4dl\n",
      "distributed.worker - INFO - -------------------------------------------------\n",
      "distributed.worker - INFO -       Start worker at: tcp://192.168.66.200:33283\n",
      "distributed.worker - INFO -          Listening to: tcp://192.168.66.200:33283\n",
      "distributed.worker - INFO -          dashboard at:       192.168.66.200:44313\n",
      "distributed.worker - INFO - Waiting to connect to: tcp://192.168.66.200:46575\n",
      "distributed.worker - INFO - -------------------------------------------------\n",
      "distributed.worker - INFO -               Threads:                          8\n",
      "distributed.worker - INFO -       Local Directory: /var/tmp/dask/local/dask-worker-space/worker-x45m8nk9\n",
      "distributed.worker - INFO - -------------------------------------------------\n",
      "distributed.worker - INFO -       Start worker at: tcp://192.168.66.200:35117\n",
      "distributed.worker - INFO -          Listening to: tcp://192.168.66.200:35117\n",
      "distributed.worker - INFO -          dashboard at:       192.168.66.200:38077\n",
      "distributed.worker - INFO - Waiting to connect to: tcp://192.168.66.200:46575\n",
      "distributed.worker - INFO - -------------------------------------------------\n",
      "distributed.worker - INFO -               Threads:                          8\n",
      "distributed.worker - INFO -       Local Directory: /var/tmp/dask/local/dask-worker-space/worker-61uj4u0f\n",
      "distributed.worker - INFO - -------------------------------------------------\n",
      "distributed.worker - INFO -       Start worker at: tcp://192.168.66.200:39045\n",
      "distributed.worker - INFO -          Listening to: tcp://192.168.66.200:39045\n",
      "distributed.worker - INFO -          dashboard at:       192.168.66.200:41609\n",
      "distributed.worker - INFO - Waiting to connect to: tcp://192.168.66.200:46575\n",
      "distributed.worker - INFO - -------------------------------------------------\n",
      "distributed.worker - INFO -               Threads:                          8\n",
      "distributed.worker - INFO -       Local Directory: /var/tmp/dask/local/dask-worker-space/worker-13xl6r2_\n",
      "distributed.worker - INFO - -------------------------------------------------\n",
      "distributed.worker - INFO -       Start worker at: tcp://192.168.66.200:38945\n",
      "distributed.worker - INFO -          Listening to: tcp://192.168.66.200:38945\n",
      "distributed.worker - INFO -          dashboard at:       192.168.66.200:39835\n",
      "distributed.worker - INFO - Waiting to connect to: tcp://192.168.66.200:46575\n",
      "distributed.worker - INFO - -------------------------------------------------\n",
      "distributed.worker - INFO -               Threads:                          8\n",
      "distributed.worker - INFO -       Local Directory: /var/tmp/dask/local/dask-worker-space/worker-2bw6tsx7\n",
      "distributed.worker - INFO - -------------------------------------------------\n",
      "distributed.worker - INFO -       Start worker at: tcp://192.168.66.200:42279\n",
      "distributed.worker - INFO -          Listening to: tcp://192.168.66.200:42279\n",
      "distributed.worker - INFO -          dashboard at:       192.168.66.200:46045\n",
      "distributed.worker - INFO - Waiting to connect to: tcp://192.168.66.200:46575\n",
      "distributed.worker - INFO - -------------------------------------------------\n",
      "distributed.worker - INFO -               Threads:                          8\n",
      "distributed.worker - INFO -       Local Directory: /var/tmp/dask/local/dask-worker-space/worker-3levehnj\n",
      "distributed.worker - INFO - -------------------------------------------------\n",
      "distributed.worker - INFO -       Start worker at: tcp://192.168.66.200:34367\n",
      "distributed.worker - INFO -          Listening to: tcp://192.168.66.200:34367\n",
      "distributed.worker - INFO -          dashboard at:       192.168.66.200:46239\n",
      "distributed.worker - INFO - Waiting to connect to: tcp://192.168.66.200:46575\n",
      "distributed.worker - INFO - -------------------------------------------------\n",
      "distributed.worker - INFO -               Threads:                          8\n",
      "distributed.worker - INFO -       Local Directory: /var/tmp/dask/local/dask-worker-space/worker-4ylunp11\n",
      "distributed.worker - INFO - -------------------------------------------------\n",
      "distributed.worker - INFO -       Start worker at: tcp://192.168.66.200:44515\n",
      "distributed.worker - INFO -          Listening to: tcp://192.168.66.200:44515\n",
      "distributed.worker - INFO -          dashboard at:       192.168.66.200:36219\n",
      "distributed.worker - INFO - Waiting to connect to: tcp://192.168.66.200:46575\n",
      "distributed.worker - INFO - -------------------------------------------------\n",
      "distributed.worker - INFO -               Threads:                          8\n",
      "distributed.worker - INFO -       Local Directory: /var/tmp/dask/local/dask-worker-space/worker-awlbz8bf\n",
      "distributed.worker - INFO - -------------------------------------------------\n",
      "distributed.worker - INFO -       Start worker at: tcp://192.168.66.200:33723\n",
      "distributed.worker - INFO -          Listening to: tcp://192.168.66.200:33723\n",
      "distributed.worker - INFO -          dashboard at:       192.168.66.200:33007\n",
      "distributed.worker - INFO - Waiting to connect to: tcp://192.168.66.200:46575\n",
      "distributed.worker - INFO - -------------------------------------------------\n",
      "distributed.worker - INFO -               Threads:                          8\n",
      "distributed.worker - INFO -       Local Directory: /var/tmp/dask/local/dask-worker-space/worker-ukfu3e0w\n",
      "distributed.worker - INFO - -------------------------------------------------\n",
      "distributed.worker - INFO -       Start worker at: tcp://192.168.66.200:38185\n",
      "distributed.worker - INFO -          Listening to: tcp://192.168.66.200:38185\n",
      "distributed.worker - INFO -          dashboard at:       192.168.66.200:43255\n",
      "distributed.worker - INFO - Waiting to connect to: tcp://192.168.66.200:46575\n",
      "distributed.worker - INFO - -------------------------------------------------\n",
      "distributed.worker - INFO -               Threads:                          8\n",
      "distributed.worker - INFO -       Local Directory: /var/tmp/dask/local/dask-worker-space/worker-0vvbb6rv\n",
      "distributed.worker - INFO - -------------------------------------------------\n",
      "distributed.worker - INFO -       Start worker at: tcp://192.168.66.200:33211\n",
      "distributed.worker - INFO -          Listening to: tcp://192.168.66.200:33211\n",
      "distributed.worker - INFO -          dashboard at:       192.168.66.200:38621\n",
      "distributed.worker - INFO - Waiting to connect to: tcp://192.168.66.200:46575\n",
      "distributed.worker - INFO - -------------------------------------------------\n",
      "distributed.worker - INFO -               Threads:                          8\n",
      "distributed.worker - INFO -       Local Directory: /var/tmp/dask/local/dask-worker-space/worker-cdxh44o1\n",
      "distributed.worker - INFO - -------------------------------------------------\n",
      "distributed.worker - INFO -       Start worker at: tcp://192.168.66.200:42603\n",
      "distributed.worker - INFO -          Listening to: tcp://192.168.66.200:42603\n",
      "distributed.worker - INFO -          dashboard at:       192.168.66.200:35085\n",
      "distributed.worker - INFO - Waiting to connect to: tcp://192.168.66.200:46575\n",
      "distributed.worker - INFO - -------------------------------------------------\n",
      "distributed.worker - INFO -               Threads:                          8\n",
      "distributed.worker - INFO -       Local Directory: /var/tmp/dask/local/dask-worker-space/worker-zieqmdt5\n",
      "distributed.worker - INFO - -------------------------------------------------\n",
      "distributed.worker - INFO -       Start worker at: tcp://192.168.66.200:43333\n",
      "distributed.worker - INFO -          Listening to: tcp://192.168.66.200:43333\n",
      "distributed.worker - INFO -          dashboard at:       192.168.66.200:36555\n",
      "distributed.worker - INFO - Waiting to connect to: tcp://192.168.66.200:46575\n",
      "distributed.worker - INFO - -------------------------------------------------\n",
      "distributed.worker - INFO -               Threads:                          8\n",
      "distributed.worker - INFO -       Local Directory: /var/tmp/dask/local/dask-worker-space/worker-y3wh8hjg\n",
      "distributed.worker - INFO - -------------------------------------------------\n",
      "distributed.scheduler - INFO - Register worker <WorkerState 'tcp://192.168.66.200:36599', name: 12, status: undefined, memory: 0, processing: 0>\n",
      "distributed.scheduler - INFO - Starting worker compute stream, tcp://192.168.66.200:36599\n",
      "distributed.worker - INFO -         Registered to: tcp://192.168.66.200:46575\n",
      "distributed.core - INFO - Starting established connection\n",
      "distributed.worker - INFO - -------------------------------------------------\n",
      "distributed.core - INFO - Starting established connection\n",
      "distributed.scheduler - INFO - Register worker <WorkerState 'tcp://192.168.66.200:44289', name: 9, status: undefined, memory: 0, processing: 0>\n",
      "distributed.scheduler - INFO - Starting worker compute stream, tcp://192.168.66.200:44289\n",
      "distributed.worker - INFO -         Registered to: tcp://192.168.66.200:46575\n",
      "distributed.core - INFO - Starting established connection\n",
      "distributed.worker - INFO - -------------------------------------------------\n",
      "distributed.core - INFO - Starting established connection\n",
      "distributed.scheduler - INFO - Register worker <WorkerState 'tcp://192.168.66.200:33283', name: 11, status: undefined, memory: 0, processing: 0>\n",
      "distributed.scheduler - INFO - Starting worker compute stream, tcp://192.168.66.200:33283\n",
      "distributed.worker - INFO -         Registered to: tcp://192.168.66.200:46575\n",
      "distributed.worker - INFO - -------------------------------------------------\n",
      "distributed.core - INFO - Starting established connection\n",
      "distributed.core - INFO - Starting established connection\n",
      "distributed.scheduler - INFO - Register worker <WorkerState 'tcp://192.168.66.200:36255', name: 7, status: undefined, memory: 0, processing: 0>\n",
      "distributed.scheduler - INFO - Starting worker compute stream, tcp://192.168.66.200:36255\n",
      "distributed.worker - INFO -         Registered to: tcp://192.168.66.200:46575\n",
      "distributed.core - INFO - Starting established connection\n",
      "distributed.worker - INFO - -------------------------------------------------\n",
      "distributed.core - INFO - Starting established connection\n",
      "distributed.scheduler - INFO - Register worker <WorkerState 'tcp://192.168.66.200:43963', name: 0, status: undefined, memory: 0, processing: 0>\n",
      "distributed.scheduler - INFO - Starting worker compute stream, tcp://192.168.66.200:43963\n",
      "distributed.worker - INFO -         Registered to: tcp://192.168.66.200:46575\n",
      "distributed.worker - INFO - -------------------------------------------------\n",
      "distributed.core - INFO - Starting established connection\n",
      "distributed.core - INFO - Starting established connection\n",
      "distributed.scheduler - INFO - Register worker <WorkerState 'tcp://192.168.66.200:35117', name: 15, status: undefined, memory: 0, processing: 0>\n",
      "distributed.scheduler - INFO - Starting worker compute stream, tcp://192.168.66.200:35117\n",
      "distributed.worker - INFO -         Registered to: tcp://192.168.66.200:46575\n",
      "distributed.worker - INFO - -------------------------------------------------\n",
      "distributed.core - INFO - Starting established connection\n",
      "distributed.core - INFO - Starting established connection\n",
      "distributed.scheduler - INFO - Register worker <WorkerState 'tcp://192.168.66.200:44515', name: 6, status: undefined, memory: 0, processing: 0>\n",
      "distributed.scheduler - INFO - Starting worker compute stream, tcp://192.168.66.200:44515\n",
      "distributed.core - INFO - Starting established connection\n",
      "distributed.worker - INFO -         Registered to: tcp://192.168.66.200:46575\n",
      "distributed.worker - INFO - -------------------------------------------------\n",
      "distributed.core - INFO - Starting established connection\n",
      "distributed.scheduler - INFO - Register worker <WorkerState 'tcp://192.168.66.200:33723', name: 2, status: undefined, memory: 0, processing: 0>\n",
      "distributed.scheduler - INFO - Starting worker compute stream, tcp://192.168.66.200:33723\n",
      "distributed.worker - INFO -         Registered to: tcp://192.168.66.200:46575\n",
      "distributed.core - INFO - Starting established connection\n",
      "distributed.worker - INFO - -------------------------------------------------\n",
      "distributed.core - INFO - Starting established connection\n",
      "distributed.scheduler - INFO - Register worker <WorkerState 'tcp://192.168.66.200:38945', name: 10, status: undefined, memory: 0, processing: 0>\n",
      "distributed.scheduler - INFO - Starting worker compute stream, tcp://192.168.66.200:38945\n",
      "distributed.worker - INFO -         Registered to: tcp://192.168.66.200:46575\n",
      "distributed.core - INFO - Starting established connection\n",
      "distributed.worker - INFO - -------------------------------------------------\n",
      "distributed.core - INFO - Starting established connection\n",
      "distributed.scheduler - INFO - Register worker <WorkerState 'tcp://192.168.66.200:34367', name: 8, status: undefined, memory: 0, processing: 0>\n",
      "distributed.scheduler - INFO - Starting worker compute stream, tcp://192.168.66.200:34367\n",
      "distributed.worker - INFO -         Registered to: tcp://192.168.66.200:46575\n",
      "distributed.worker - INFO - -------------------------------------------------\n",
      "distributed.core - INFO - Starting established connection\n",
      "distributed.scheduler - INFO - Register worker <WorkerState 'tcp://192.168.66.200:42279', name: 14, status: undefined, memory: 0, processing: 0>\n",
      "distributed.core - INFO - Starting established connection\n",
      "distributed.scheduler - INFO - Starting worker compute stream, tcp://192.168.66.200:42279\n",
      "distributed.core - INFO - Starting established connection\n",
      "distributed.worker - INFO -         Registered to: tcp://192.168.66.200:46575\n",
      "distributed.worker - INFO - -------------------------------------------------\n",
      "distributed.core - INFO - Starting established connection\n",
      "distributed.scheduler - INFO - Register worker <WorkerState 'tcp://192.168.66.200:42603', name: 3, status: undefined, memory: 0, processing: 0>\n",
      "distributed.scheduler - INFO - Starting worker compute stream, tcp://192.168.66.200:42603\n",
      "distributed.worker - INFO -         Registered to: tcp://192.168.66.200:46575\n",
      "distributed.core - INFO - Starting established connection\n",
      "distributed.worker - INFO - -------------------------------------------------\n",
      "distributed.core - INFO - Starting established connection\n",
      "distributed.scheduler - INFO - Register worker <WorkerState 'tcp://192.168.66.200:33211', name: 1, status: undefined, memory: 0, processing: 0>\n",
      "distributed.scheduler - INFO - Starting worker compute stream, tcp://192.168.66.200:33211\n",
      "distributed.worker - INFO -         Registered to: tcp://192.168.66.200:46575\n",
      "distributed.core - INFO - Starting established connection\n",
      "distributed.scheduler - INFO - Register worker <WorkerState 'tcp://192.168.66.200:38185', name: 4, status: undefined, memory: 0, processing: 0>\n",
      "distributed.worker - INFO - -------------------------------------------------\n",
      "distributed.core - INFO - Starting established connection\n",
      "distributed.scheduler - INFO - Starting worker compute stream, tcp://192.168.66.200:38185\n",
      "distributed.worker - INFO -         Registered to: tcp://192.168.66.200:46575\n",
      "distributed.core - INFO - Starting established connection\n",
      "distributed.worker - INFO - -------------------------------------------------\n",
      "distributed.core - INFO - Starting established connection\n",
      "distributed.scheduler - INFO - Register worker <WorkerState 'tcp://192.168.66.200:39045', name: 13, status: undefined, memory: 0, processing: 0>\n",
      "distributed.scheduler - INFO - Starting worker compute stream, tcp://192.168.66.200:39045\n",
      "distributed.worker - INFO -         Registered to: tcp://192.168.66.200:46575\n",
      "distributed.worker - INFO - -------------------------------------------------\n",
      "distributed.core - INFO - Starting established connection\n",
      "distributed.core - INFO - Starting established connection\n",
      "distributed.scheduler - INFO - Register worker <WorkerState 'tcp://192.168.66.200:43333', name: 5, status: undefined, memory: 0, processing: 0>\n",
      "distributed.scheduler - INFO - Starting worker compute stream, tcp://192.168.66.200:43333\n",
      "distributed.worker - INFO -         Registered to: tcp://192.168.66.200:46575\n",
      "distributed.core - INFO - Starting established connection\n",
      "distributed.worker - INFO - -------------------------------------------------\n",
      "distributed.core - INFO - Starting established connection\n"
     ]
    },
    {
     "name": "stdout",
     "output_type": "stream",
     "text": [
      "Dashboard link: http://192.168.66.200:3446/status\n",
      "Dashboard link: http://192.168.66.200:3447/status\n",
      "#!/usr/bin/env bash\n",
      "\n",
      "#BSUB -J dask-worker\n",
      "#BSUB -G asccasc\n",
      "#BSUB -q pdebug\n",
      "#BSUB -W 120\n",
      "\n",
      "/usr/workspace/iopp/projects/digio-venv-lassen/bin/python -m distributed.cli.dask_worker tcp://192.168.66.200:40671 --nthreads 1 --nprocs 16 --memory-limit 93.13GiB --name dummy-name --nanny --death-timeout 7200 --local-directory /var/tmp/dask/tmid\n",
      "\n",
      "Dashboard link: http://192.168.66.200:3448/status\n",
      "#!/usr/bin/env bash\n",
      "\n",
      "#BSUB -J dask-worker\n",
      "#BSUB -G asccasc\n",
      "#BSUB -q pdebug\n",
      "#BSUB -W 120\n",
      "\n",
      "/usr/workspace/iopp/projects/digio-venv-lassen/bin/python -m distributed.cli.dask_worker tcp://192.168.66.200:46047 --nthreads 1 --nprocs 16 --memory-limit 93.13GiB --name dummy-name --nanny --death-timeout 7200 --local-directory /var/tmp/dask/proc_id\n",
      "\n",
      "Dashboard link: http://192.168.66.200:3449/status\n",
      "#!/usr/bin/env bash\n",
      "\n",
      "#BSUB -J dask-worker\n",
      "#BSUB -G asccasc\n",
      "#BSUB -q pdebug\n",
      "#BSUB -W 120\n",
      "\n",
      "/usr/workspace/iopp/projects/digio-venv-lassen/bin/python -m distributed.cli.dask_worker tcp://192.168.66.200:38515 --nthreads 1 --nprocs 16 --memory-limit 93.13GiB --name dummy-name --nanny --death-timeout 7200 --local-directory /var/tmp/dask/file_id\n",
      "\n",
      "<Client: 'tcp://192.168.66.200:46575' processes=16 threads=128>\n",
      "<Client: 'tcp://192.168.66.200:40671' processes=0 threads=0, memory=0 B>\n",
      "<Client: 'tcp://192.168.66.200:46047' processes=0 threads=0, memory=0 B>\n",
      "<Client: 'tcp://192.168.66.200:38515' processes=0 threads=0, memory=0 B>\n"
     ]
    }
   ],
   "source": [
    "# Initialize analyzer\n",
    "cluster_settings = dict(\n",
    "    dashboard_port=3446,\n",
    "    local_directory=\"/var/tmp/dask\",\n",
    "    log_file=\"digio.worker.log\"\n",
    ")\n",
    "vn = Analyzer(debug=True, cluster_settings=cluster_settings)\n",
    "\n",
    "# Analysis configuration\n",
    "log_dir = \"/p/gpfs1/iopp/recorder_app_logs/genome_pegasus/nodes-32/_parquet\""
   ]
  },
  {
   "cell_type": "code",
   "execution_count": 10,
   "id": "6569cc59-2172-4770-865f-c5ac740b81ad",
   "metadata": {},
   "outputs": [
    {
     "name": "stdout",
     "output_type": "stream",
     "text": [
      "Created index for \n"
     ]
    },
    {
     "data": {
      "application/vnd.jupyter.widget-view+json": {
       "model_id": "087a4147caac4a13a87b6b32f71e17dc",
       "version_major": 2,
       "version_minor": 0
      },
      "text/plain": [
       "list:   0%|          | 0/1 [00:00<?, ?it/s]"
      ]
     },
     "metadata": {},
     "output_type": "display_data"
    },
    {
     "data": {
      "application/vnd.jupyter.widget-view+json": {
       "model_id": "b319a17d57914ed69e7d10a354c8bd98",
       "version_major": 2,
       "version_minor": 0
      },
      "text/plain": [
       "list:   0%|          | 0/1 [00:00<?, ?it/s]"
      ]
     },
     "metadata": {},
     "output_type": "display_data"
    },
    {
     "data": {
      "application/vnd.jupyter.widget-view+json": {
       "model_id": "3c64cad271f24930bac6bde4813a7757",
       "version_major": 2,
       "version_minor": 0
      },
      "text/plain": [
       "min:   0%|          | 0/159 [00:00<?, ?it/s]"
      ]
     },
     "metadata": {},
     "output_type": "display_data"
    },
    {
     "data": {
      "application/vnd.jupyter.widget-view+json": {
       "model_id": "91948cd5a56a4ec1a4a592bc14dba9f3",
       "version_major": 2,
       "version_minor": 0
      },
      "text/plain": [
       "min:   0%|          | 0/159 [00:00<?, ?it/s]"
      ]
     },
     "metadata": {},
     "output_type": "display_data"
    },
    {
     "data": {
      "application/vnd.jupyter.widget-view+json": {
       "model_id": "f9d649dc02fa4a2da4bac2b289107c94",
       "version_major": 2,
       "version_minor": 0
      },
      "text/plain": [
       "min_max_of_json_values:   0%|          | 0/160 [00:00<?, ?it/s]"
      ]
     },
     "metadata": {},
     "output_type": "display_data"
    },
    {
     "data": {
      "application/vnd.jupyter.widget-view+json": {
       "model_id": "af26ed7f3a97463394613ec486fd8853",
       "version_major": 2,
       "version_minor": 0
      },
      "text/plain": [
       "min_max_of_json_values:   0%|          | 0/160 [00:00<?, ?it/s]"
      ]
     },
     "metadata": {},
     "output_type": "display_data"
    },
    {
     "data": {
      "application/vnd.jupyter.widget-view+json": {
       "model_id": "d1ddf5c16abd4ba5b3bcd9a1026d3c8b",
       "version_major": 2,
       "version_minor": 0
      },
      "text/plain": [
       "getitem:   0%|          | 0/320 [00:00<?, ?it/s]"
      ]
     },
     "metadata": {},
     "output_type": "display_data"
    },
    {
     "data": {
      "application/vnd.jupyter.widget-view+json": {
       "model_id": "799b5cdb19c24382bd85d22dd863398c",
       "version_major": 2,
       "version_minor": 0
      },
      "text/plain": [
       "getitem:   0%|          | 0/320 [00:00<?, ?it/s]"
      ]
     },
     "metadata": {},
     "output_type": "display_data"
    },
    {
     "data": {
      "application/vnd.jupyter.widget-view+json": {
       "model_id": "7419c60686aa4235a1c33c43412d8217",
       "version_major": 2,
       "version_minor": 0
      },
      "text/plain": [
       "max:   0%|          | 0/159 [00:00<?, ?it/s]"
      ]
     },
     "metadata": {},
     "output_type": "display_data"
    },
    {
     "data": {
      "application/vnd.jupyter.widget-view+json": {
       "model_id": "abc5fc050e5a43baa8c5affd16d80d41",
       "version_major": 2,
       "version_minor": 0
      },
      "text/plain": [
       "max:   0%|          | 0/159 [00:00<?, ?it/s]"
      ]
     },
     "metadata": {},
     "output_type": "display_data"
    },
    {
     "data": {
      "application/vnd.jupyter.widget-view+json": {
       "model_id": "8b86f439c4d54bc8ba41fbfb4ca473ee",
       "version_major": 2,
       "version_minor": 0
      },
      "text/plain": [
       "apply:   0%|          | 0/1 [00:00<?, ?it/s]"
      ]
     },
     "metadata": {},
     "output_type": "display_data"
    },
    {
     "data": {
      "application/vnd.jupyter.widget-view+json": {
       "model_id": "5bf0acef679e4ed88996b36156c33076",
       "version_major": 2,
       "version_minor": 0
      },
      "text/plain": [
       "apply:   0%|          | 0/1 [00:00<?, ?it/s]"
      ]
     },
     "metadata": {},
     "output_type": "display_data"
    },
    {
     "name": "stdout",
     "output_type": "stream",
     "text": [
      "Created index for \n",
      "Created index for \n"
     ]
    }
   ],
   "source": [
    "analysis = vn.analyze_parquet_logs(log_dir, depth=10, persist_stats=True, stats_file_prefix=\"cm1_\")"
   ]
  },
  {
   "cell_type": "code",
   "execution_count": null,
   "id": "7541e2c4-f702-46bc-87a3-fc73fed7f372",
   "metadata": {},
   "outputs": [],
   "source": []
  }
 ],
 "metadata": {
  "kernelspec": {
   "display_name": "digio",
   "language": "python",
   "name": "digio"
  },
  "language_info": {
   "codemirror_mode": {
    "name": "ipython",
    "version": 3
   },
   "file_extension": ".py",
   "mimetype": "text/x-python",
   "name": "python",
   "nbconvert_exporter": "python",
   "pygments_lexer": "ipython3",
   "version": "3.7.2"
  },
  "widgets": {
   "application/vnd.jupyter.widget-state+json": {
    "state": {
     "01c93b00c9074112b8e06e25432f29df": {
      "model_module": "@jupyter-widgets/base",
      "model_module_version": "2.0.0",
      "model_name": "LayoutModel",
      "state": {}
     },
     "036a541d84024c19b757ff53e275f5f3": {
      "model_module": "@jupyter-widgets/base",
      "model_module_version": "2.0.0",
      "model_name": "LayoutModel",
      "state": {}
     },
     "04729ae9c1ef4b1ca5e1993551ef960e": {
      "model_module": "@jupyter-widgets/base",
      "model_module_version": "2.0.0",
      "model_name": "LayoutModel",
      "state": {}
     },
     "05f9a89f36cf4ae694b3c1b1c6c37a92": {
      "model_module": "@jupyter-widgets/controls",
      "model_module_version": "2.0.0",
      "model_name": "FloatProgressModel",
      "state": {
       "bar_style": "success",
       "layout": "IPY_MODEL_35f713e9409d4d609604869bfcdbd7df",
       "max": 320,
       "style": "IPY_MODEL_0d92cc5201344059bff900c36267ba73",
       "value": 320
      }
     },
     "076173ce47434d058b89b8768e5f7427": {
      "model_module": "@jupyter-widgets/base",
      "model_module_version": "2.0.0",
      "model_name": "LayoutModel",
      "state": {}
     },
     "087a4147caac4a13a87b6b32f71e17dc": {
      "model_module": "@jupyter-widgets/controls",
      "model_module_version": "2.0.0",
      "model_name": "HBoxModel",
      "state": {
       "children": [
        "IPY_MODEL_175b3cd332d84ab1b8737f7f1ddbffb2",
        "IPY_MODEL_e82285b770404f8d8b68e41bde7cf000",
        "IPY_MODEL_34406ac3196143779354f1ef96843e13"
       ],
       "layout": "IPY_MODEL_92d3ce0954564a4daceadf1ae20724dc"
      }
     },
     "08d9b7283be04804a2de20efa19287e5": {
      "model_module": "@jupyter-widgets/controls",
      "model_module_version": "2.0.0",
      "model_name": "FloatProgressModel",
      "state": {
       "bar_style": "success",
       "layout": "IPY_MODEL_f277548c412a47aebccdb9a33dc62ad4",
       "max": 159,
       "style": "IPY_MODEL_64b8d33606974d019e0a41df1068f884",
       "value": 159
      }
     },
     "09bf76e749d049b0824e8d3088993768": {
      "model_module": "@jupyter-widgets/controls",
      "model_module_version": "2.0.0",
      "model_name": "HTMLModel",
      "state": {
       "layout": "IPY_MODEL_51534c6a4b4541f79653512132e12d32",
       "style": "IPY_MODEL_59fc89cfa3ff4c0294106a657f22960d",
       "value": "apply: 100%"
      }
     },
     "0b6595387d5847f6ba17a5d507c2dde3": {
      "model_module": "@jupyter-widgets/controls",
      "model_module_version": "2.0.0",
      "model_name": "HTMLStyleModel",
      "state": {
       "description_width": "",
       "font_size": null,
       "text_color": null
      }
     },
     "0d92cc5201344059bff900c36267ba73": {
      "model_module": "@jupyter-widgets/controls",
      "model_module_version": "2.0.0",
      "model_name": "ProgressStyleModel",
      "state": {
       "description_width": ""
      }
     },
     "0dbeaf013bd74dfcbf7bbb2a45cc719b": {
      "model_module": "@jupyter-widgets/controls",
      "model_module_version": "2.0.0",
      "model_name": "HTMLModel",
      "state": {
       "layout": "IPY_MODEL_52fb3a0c7fc4410a85b1bf18c0cc79f9",
       "style": "IPY_MODEL_6c02b0df3146465fae782b214786ff4f",
       "value": "getitem: "
      }
     },
     "108f7802886c42b69b0acd74dd3f34f6": {
      "model_module": "@jupyter-widgets/base",
      "model_module_version": "2.0.0",
      "model_name": "LayoutModel",
      "state": {}
     },
     "1173c5ec059446b5bfcf17f8560bff2d": {
      "model_module": "@jupyter-widgets/controls",
      "model_module_version": "2.0.0",
      "model_name": "FloatProgressModel",
      "state": {
       "bar_style": "success",
       "layout": "IPY_MODEL_86ea0e5d3a3044d197ecd5fb2b235112",
       "max": 1,
       "style": "IPY_MODEL_44a3d82086a84adfad269055c6f28ea9",
       "value": 1
      }
     },
     "175b3cd332d84ab1b8737f7f1ddbffb2": {
      "model_module": "@jupyter-widgets/controls",
      "model_module_version": "2.0.0",
      "model_name": "HTMLModel",
      "state": {
       "layout": "IPY_MODEL_036a541d84024c19b757ff53e275f5f3",
       "style": "IPY_MODEL_73981c32c5ef4211bfcdd2641363183c",
       "value": "list: 100%"
      }
     },
     "1840827a1f854e97a858eceb1e35f8e0": {
      "model_module": "@jupyter-widgets/controls",
      "model_module_version": "2.0.0",
      "model_name": "ProgressStyleModel",
      "state": {
       "description_width": ""
      }
     },
     "1972324b40e94911976c8ca700c5f416": {
      "model_module": "@jupyter-widgets/base",
      "model_module_version": "2.0.0",
      "model_name": "LayoutModel",
      "state": {}
     },
     "1b422ae733c7495ca55a2644fee6ee19": {
      "model_module": "@jupyter-widgets/base",
      "model_module_version": "2.0.0",
      "model_name": "LayoutModel",
      "state": {}
     },
     "1df0ca8dc8a540f59f2d4cece8438c90": {
      "model_module": "@jupyter-widgets/controls",
      "model_module_version": "2.0.0",
      "model_name": "HTMLStyleModel",
      "state": {
       "description_width": "",
       "font_size": null,
       "text_color": null
      }
     },
     "1e1749d998054f56aa7904bdc11325c6": {
      "model_module": "@jupyter-widgets/base",
      "model_module_version": "2.0.0",
      "model_name": "LayoutModel",
      "state": {}
     },
     "1fb7aad2b93a473284d850b22396d356": {
      "model_module": "@jupyter-widgets/base",
      "model_module_version": "2.0.0",
      "model_name": "LayoutModel",
      "state": {}
     },
     "21b6fdb44a9d4b48b608c55af85c01ad": {
      "model_module": "@jupyter-widgets/controls",
      "model_module_version": "2.0.0",
      "model_name": "HTMLStyleModel",
      "state": {
       "description_width": "",
       "font_size": null,
       "text_color": null
      }
     },
     "231e4e30ed744553bd6146692b0b83c8": {
      "model_module": "@jupyter-widgets/controls",
      "model_module_version": "2.0.0",
      "model_name": "HTMLModel",
      "state": {
       "layout": "IPY_MODEL_4e05539de6a34ffb9be1def53121b5ca",
       "style": "IPY_MODEL_980272f7248a4acfa0e29c5e010a2519",
       "value": "max: "
      }
     },
     "25f2b1bc8b114f29b66d7e6fcf1d133b": {
      "model_module": "@jupyter-widgets/base",
      "model_module_version": "2.0.0",
      "model_name": "LayoutModel",
      "state": {}
     },
     "26e0ee8bde6f445882a1a479dad86406": {
      "model_module": "@jupyter-widgets/base",
      "model_module_version": "2.0.0",
      "model_name": "LayoutModel",
      "state": {}
     },
     "284aacbcdae0473d8215f79487f5be1d": {
      "model_module": "@jupyter-widgets/controls",
      "model_module_version": "2.0.0",
      "model_name": "HTMLModel",
      "state": {
       "layout": "IPY_MODEL_b9129ed6fae34103b1041bdf4e21bc84",
       "style": "IPY_MODEL_69d1d05b4d8d4dbab79fee3d645b414a",
       "value": " 960/? [00:10&lt;00:00, 80.37it/s]"
      }
     },
     "2971e83d5c664531a0c302ac70418409": {
      "model_module": "@jupyter-widgets/base",
      "model_module_version": "2.0.0",
      "model_name": "LayoutModel",
      "state": {}
     },
     "2ab64aab06cb4450b48b166a50a96adf": {
      "model_module": "@jupyter-widgets/controls",
      "model_module_version": "2.0.0",
      "model_name": "FloatProgressModel",
      "state": {
       "bar_style": "success",
       "layout": "IPY_MODEL_fa37af42806b49819c8141b3536324b9",
       "max": 160,
       "style": "IPY_MODEL_669e6355c6ca4626b49e85b40cc35c12",
       "value": 160
      }
     },
     "2b7a7f83fb834c779a24dea079c6e4a2": {
      "model_module": "@jupyter-widgets/controls",
      "model_module_version": "2.0.0",
      "model_name": "HTMLModel",
      "state": {
       "layout": "IPY_MODEL_35be121224fe494d9f20ab9a69618876",
       "style": "IPY_MODEL_ed0fc1dbf9e4424386b8e375b3d8f43d",
       "value": " 1/1 [00:04&lt;00:00,  4.21s/it]"
      }
     },
     "2cbc79d4963f44bb9a3ff5a29d7b80f0": {
      "model_module": "@jupyter-widgets/controls",
      "model_module_version": "2.0.0",
      "model_name": "HTMLModel",
      "state": {
       "layout": "IPY_MODEL_be6b8112ba6d4c6a9878530bdecf1364",
       "style": "IPY_MODEL_a8b67ecc7e4e421fb39ffe821928e667",
       "value": " 1/1 [00:10&lt;00:00, 10.31s/it]"
      }
     },
     "2f9b2df455ec41588c8af0b866955368": {
      "model_module": "@jupyter-widgets/controls",
      "model_module_version": "2.0.0",
      "model_name": "FloatProgressModel",
      "state": {
       "bar_style": "success",
       "layout": "IPY_MODEL_5002d704a4054110aced43b175e34dfc",
       "max": 320,
       "style": "IPY_MODEL_35a407bfe7b04949bf1f320af0a9d9b9",
       "value": 320
      }
     },
     "34406ac3196143779354f1ef96843e13": {
      "model_module": "@jupyter-widgets/controls",
      "model_module_version": "2.0.0",
      "model_name": "HTMLModel",
      "state": {
       "layout": "IPY_MODEL_81cc3968ae4348fd839526bccbf63610",
       "style": "IPY_MODEL_b9f842a2f8f64e8fa07e2d99f73d749a",
       "value": " 1/1 [00:04&lt;00:00,  4.28s/it]"
      }
     },
     "35a407bfe7b04949bf1f320af0a9d9b9": {
      "model_module": "@jupyter-widgets/controls",
      "model_module_version": "2.0.0",
      "model_name": "ProgressStyleModel",
      "state": {
       "description_width": ""
      }
     },
     "35be121224fe494d9f20ab9a69618876": {
      "model_module": "@jupyter-widgets/base",
      "model_module_version": "2.0.0",
      "model_name": "LayoutModel",
      "state": {}
     },
     "35f713e9409d4d609604869bfcdbd7df": {
      "model_module": "@jupyter-widgets/base",
      "model_module_version": "2.0.0",
      "model_name": "LayoutModel",
      "state": {}
     },
     "37d2250efc6847de9ef054eba2daf3a7": {
      "model_module": "@jupyter-widgets/controls",
      "model_module_version": "2.0.0",
      "model_name": "HTMLStyleModel",
      "state": {
       "description_width": "",
       "font_size": null,
       "text_color": null
      }
     },
     "3817668027a046beb6d34427bf2d6623": {
      "model_module": "@jupyter-widgets/base",
      "model_module_version": "2.0.0",
      "model_name": "LayoutModel",
      "state": {}
     },
     "3c64cad271f24930bac6bde4813a7757": {
      "model_module": "@jupyter-widgets/controls",
      "model_module_version": "2.0.0",
      "model_name": "HBoxModel",
      "state": {
       "children": [
        "IPY_MODEL_b940d994f8c34f9db226d10ae9def1c8",
        "IPY_MODEL_6f057a1ca72c47c9b865d8add309b195",
        "IPY_MODEL_f4e5124fb2c6478da7742e1a714c748a"
       ],
       "layout": "IPY_MODEL_6d22f40e93a24cf98040a6cf886ab385"
      }
     },
     "3f2b8c41a0614005896c112888f3ba65": {
      "model_module": "@jupyter-widgets/base",
      "model_module_version": "2.0.0",
      "model_name": "LayoutModel",
      "state": {}
     },
     "432f07e7f0bc4c79a84557df13b1471a": {
      "model_module": "@jupyter-widgets/controls",
      "model_module_version": "2.0.0",
      "model_name": "HTMLStyleModel",
      "state": {
       "description_width": "",
       "font_size": null,
       "text_color": null
      }
     },
     "44a3d82086a84adfad269055c6f28ea9": {
      "model_module": "@jupyter-widgets/controls",
      "model_module_version": "2.0.0",
      "model_name": "ProgressStyleModel",
      "state": {
       "description_width": ""
      }
     },
     "486016496645430e85476824106e74c6": {
      "model_module": "@jupyter-widgets/controls",
      "model_module_version": "2.0.0",
      "model_name": "FloatProgressModel",
      "state": {
       "bar_style": "success",
       "layout": "IPY_MODEL_7fa22f2816574043a3c6ea706a40ed6f",
       "max": 160,
       "style": "IPY_MODEL_54143dd7aa274c89a4c39cd910e4f19e",
       "value": 160
      }
     },
     "49cf25ab306041d3b949a3f7fb9bdf11": {
      "model_module": "@jupyter-widgets/base",
      "model_module_version": "2.0.0",
      "model_name": "LayoutModel",
      "state": {}
     },
     "4d3e9c4749a44fceb5efa69579589e6e": {
      "model_module": "@jupyter-widgets/controls",
      "model_module_version": "2.0.0",
      "model_name": "HTMLModel",
      "state": {
       "layout": "IPY_MODEL_04729ae9c1ef4b1ca5e1993551ef960e",
       "style": "IPY_MODEL_63d37b6d1ecf4c728abebad08db93423",
       "value": "min_max_of_json_values: "
      }
     },
     "4e05539de6a34ffb9be1def53121b5ca": {
      "model_module": "@jupyter-widgets/base",
      "model_module_version": "2.0.0",
      "model_name": "LayoutModel",
      "state": {}
     },
     "5002d704a4054110aced43b175e34dfc": {
      "model_module": "@jupyter-widgets/base",
      "model_module_version": "2.0.0",
      "model_name": "LayoutModel",
      "state": {}
     },
     "5094f69a1802489da6a95acbd05041e4": {
      "model_module": "@jupyter-widgets/controls",
      "model_module_version": "2.0.0",
      "model_name": "HTMLModel",
      "state": {
       "layout": "IPY_MODEL_26e0ee8bde6f445882a1a479dad86406",
       "style": "IPY_MODEL_0b6595387d5847f6ba17a5d507c2dde3",
       "value": "list: 100%"
      }
     },
     "51534c6a4b4541f79653512132e12d32": {
      "model_module": "@jupyter-widgets/base",
      "model_module_version": "2.0.0",
      "model_name": "LayoutModel",
      "state": {}
     },
     "51567f75772f4462b67dc4f3312c020c": {
      "model_module": "@jupyter-widgets/controls",
      "model_module_version": "2.0.0",
      "model_name": "HTMLStyleModel",
      "state": {
       "description_width": "",
       "font_size": null,
       "text_color": null
      }
     },
     "52fb3a0c7fc4410a85b1bf18c0cc79f9": {
      "model_module": "@jupyter-widgets/base",
      "model_module_version": "2.0.0",
      "model_name": "LayoutModel",
      "state": {}
     },
     "54143dd7aa274c89a4c39cd910e4f19e": {
      "model_module": "@jupyter-widgets/controls",
      "model_module_version": "2.0.0",
      "model_name": "ProgressStyleModel",
      "state": {
       "description_width": ""
      }
     },
     "56434bc6b57a4797b468e5dd3f99b54e": {
      "model_module": "@jupyter-widgets/controls",
      "model_module_version": "2.0.0",
      "model_name": "HTMLModel",
      "state": {
       "layout": "IPY_MODEL_108f7802886c42b69b0acd74dd3f34f6",
       "style": "IPY_MODEL_1df0ca8dc8a540f59f2d4cece8438c90",
       "value": " 476/? [00:10&lt;00:00, 55.17it/s]"
      }
     },
     "56e00b4f34064677b074c76316becce2": {
      "model_module": "@jupyter-widgets/base",
      "model_module_version": "2.0.0",
      "model_name": "LayoutModel",
      "state": {}
     },
     "593abacb7cec4f4f8c448a890e2101df": {
      "model_module": "@jupyter-widgets/controls",
      "model_module_version": "2.0.0",
      "model_name": "HTMLStyleModel",
      "state": {
       "description_width": "",
       "font_size": null,
       "text_color": null
      }
     },
     "598cae5a7bc64d1988020e2d055837e8": {
      "model_module": "@jupyter-widgets/base",
      "model_module_version": "2.0.0",
      "model_name": "LayoutModel",
      "state": {}
     },
     "59fc89cfa3ff4c0294106a657f22960d": {
      "model_module": "@jupyter-widgets/controls",
      "model_module_version": "2.0.0",
      "model_name": "HTMLStyleModel",
      "state": {
       "description_width": "",
       "font_size": null,
       "text_color": null
      }
     },
     "5bb29f6fef6b419bac23b78c24c660b4": {
      "model_module": "@jupyter-widgets/controls",
      "model_module_version": "2.0.0",
      "model_name": "FloatProgressModel",
      "state": {
       "bar_style": "success",
       "layout": "IPY_MODEL_25f2b1bc8b114f29b66d7e6fcf1d133b",
       "max": 159,
       "style": "IPY_MODEL_a532c6adb07c465b8c8080a108293937",
       "value": 159
      }
     },
     "5bf0acef679e4ed88996b36156c33076": {
      "model_module": "@jupyter-widgets/controls",
      "model_module_version": "2.0.0",
      "model_name": "HBoxModel",
      "state": {
       "children": [
        "IPY_MODEL_09bf76e749d049b0824e8d3088993768",
        "IPY_MODEL_b9b4692828fd4536ab320e94409a418b",
        "IPY_MODEL_2cbc79d4963f44bb9a3ff5a29d7b80f0"
       ],
       "layout": "IPY_MODEL_3f2b8c41a0614005896c112888f3ba65"
      }
     },
     "60640616436f42c7afe17f32eca4fcbe": {
      "model_module": "@jupyter-widgets/base",
      "model_module_version": "2.0.0",
      "model_name": "LayoutModel",
      "state": {}
     },
     "63d37b6d1ecf4c728abebad08db93423": {
      "model_module": "@jupyter-widgets/controls",
      "model_module_version": "2.0.0",
      "model_name": "HTMLStyleModel",
      "state": {
       "description_width": "",
       "font_size": null,
       "text_color": null
      }
     },
     "64b8d33606974d019e0a41df1068f884": {
      "model_module": "@jupyter-widgets/controls",
      "model_module_version": "2.0.0",
      "model_name": "ProgressStyleModel",
      "state": {
       "description_width": ""
      }
     },
     "669e6355c6ca4626b49e85b40cc35c12": {
      "model_module": "@jupyter-widgets/controls",
      "model_module_version": "2.0.0",
      "model_name": "ProgressStyleModel",
      "state": {
       "description_width": ""
      }
     },
     "681661d4810842eda9a33ca76386c146": {
      "model_module": "@jupyter-widgets/controls",
      "model_module_version": "2.0.0",
      "model_name": "HTMLModel",
      "state": {
       "layout": "IPY_MODEL_ab2a899ed9b44604b27b8d530e37685f",
       "style": "IPY_MODEL_872d7c2fbc814e3db6247c3e2f65024f",
       "value": " 476/? [00:10&lt;00:00, 52.47it/s]"
      }
     },
     "69d1d05b4d8d4dbab79fee3d645b414a": {
      "model_module": "@jupyter-widgets/controls",
      "model_module_version": "2.0.0",
      "model_name": "HTMLStyleModel",
      "state": {
       "description_width": "",
       "font_size": null,
       "text_color": null
      }
     },
     "6c02b0df3146465fae782b214786ff4f": {
      "model_module": "@jupyter-widgets/controls",
      "model_module_version": "2.0.0",
      "model_name": "HTMLStyleModel",
      "state": {
       "description_width": "",
       "font_size": null,
       "text_color": null
      }
     },
     "6cd190964c014046a199e7e62c229780": {
      "model_module": "@jupyter-widgets/base",
      "model_module_version": "2.0.0",
      "model_name": "LayoutModel",
      "state": {}
     },
     "6d22f40e93a24cf98040a6cf886ab385": {
      "model_module": "@jupyter-widgets/base",
      "model_module_version": "2.0.0",
      "model_name": "LayoutModel",
      "state": {}
     },
     "6de8bd34f58a4e61906e772142c016b1": {
      "model_module": "@jupyter-widgets/base",
      "model_module_version": "2.0.0",
      "model_name": "LayoutModel",
      "state": {}
     },
     "6dee900485e04d2286eaafef35cd5dd0": {
      "model_module": "@jupyter-widgets/base",
      "model_module_version": "2.0.0",
      "model_name": "LayoutModel",
      "state": {}
     },
     "6e4072a04e804b4c869136c633b8ffb7": {
      "model_module": "@jupyter-widgets/controls",
      "model_module_version": "2.0.0",
      "model_name": "HTMLModel",
      "state": {
       "layout": "IPY_MODEL_80f5cc95f9f64e8fa00a46386540391c",
       "style": "IPY_MODEL_21b6fdb44a9d4b48b608c55af85c01ad",
       "value": " 480/? [00:04&lt;00:00, 146.09it/s]"
      }
     },
     "6f057a1ca72c47c9b865d8add309b195": {
      "model_module": "@jupyter-widgets/controls",
      "model_module_version": "2.0.0",
      "model_name": "FloatProgressModel",
      "state": {
       "bar_style": "success",
       "layout": "IPY_MODEL_1972324b40e94911976c8ca700c5f416",
       "max": 159,
       "style": "IPY_MODEL_c5abf1df56d34b81b3cf18d93c482b8c",
       "value": 159
      }
     },
     "73981c32c5ef4211bfcdd2641363183c": {
      "model_module": "@jupyter-widgets/controls",
      "model_module_version": "2.0.0",
      "model_name": "HTMLStyleModel",
      "state": {
       "description_width": "",
       "font_size": null,
       "text_color": null
      }
     },
     "7419c60686aa4235a1c33c43412d8217": {
      "model_module": "@jupyter-widgets/controls",
      "model_module_version": "2.0.0",
      "model_name": "HBoxModel",
      "state": {
       "children": [
        "IPY_MODEL_aa8aac28b24b4b2aadc56f64ceb9938b",
        "IPY_MODEL_5bb29f6fef6b419bac23b78c24c660b4",
        "IPY_MODEL_ce58aff622b24e14a5ca544c7742dc26"
       ],
       "layout": "IPY_MODEL_1b422ae733c7495ca55a2644fee6ee19"
      }
     },
     "7476082e4546485b9da552543034782e": {
      "model_module": "@jupyter-widgets/controls",
      "model_module_version": "2.0.0",
      "model_name": "HTMLModel",
      "state": {
       "layout": "IPY_MODEL_9bc1bf856d9240c1bc74ed59b7407642",
       "style": "IPY_MODEL_432f07e7f0bc4c79a84557df13b1471a",
       "value": " 1/1 [00:10&lt;00:00, 10.62s/it]"
      }
     },
     "799b5cdb19c24382bd85d22dd863398c": {
      "model_module": "@jupyter-widgets/controls",
      "model_module_version": "2.0.0",
      "model_name": "HBoxModel",
      "state": {
       "children": [
        "IPY_MODEL_d629f67508864158bb147e6951d19c85",
        "IPY_MODEL_2f9b2df455ec41588c8af0b866955368",
        "IPY_MODEL_284aacbcdae0473d8215f79487f5be1d"
       ],
       "layout": "IPY_MODEL_60640616436f42c7afe17f32eca4fcbe"
      }
     },
     "79b072fb81c44513944dd58efefa7309": {
      "model_module": "@jupyter-widgets/base",
      "model_module_version": "2.0.0",
      "model_name": "LayoutModel",
      "state": {}
     },
     "7ce4fd1c5e7347f494e3d5108b953af6": {
      "model_module": "@jupyter-widgets/controls",
      "model_module_version": "2.0.0",
      "model_name": "ProgressStyleModel",
      "state": {
       "description_width": ""
      }
     },
     "7fa22f2816574043a3c6ea706a40ed6f": {
      "model_module": "@jupyter-widgets/base",
      "model_module_version": "2.0.0",
      "model_name": "LayoutModel",
      "state": {}
     },
     "80f5cc95f9f64e8fa00a46386540391c": {
      "model_module": "@jupyter-widgets/base",
      "model_module_version": "2.0.0",
      "model_name": "LayoutModel",
      "state": {}
     },
     "81cc3968ae4348fd839526bccbf63610": {
      "model_module": "@jupyter-widgets/base",
      "model_module_version": "2.0.0",
      "model_name": "LayoutModel",
      "state": {}
     },
     "86585b86695c4567acd07cd3b5e2b67c": {
      "model_module": "@jupyter-widgets/base",
      "model_module_version": "2.0.0",
      "model_name": "LayoutModel",
      "state": {}
     },
     "86ea0e5d3a3044d197ecd5fb2b235112": {
      "model_module": "@jupyter-widgets/base",
      "model_module_version": "2.0.0",
      "model_name": "LayoutModel",
      "state": {}
     },
     "872d7c2fbc814e3db6247c3e2f65024f": {
      "model_module": "@jupyter-widgets/controls",
      "model_module_version": "2.0.0",
      "model_name": "HTMLStyleModel",
      "state": {
       "description_width": "",
       "font_size": null,
       "text_color": null
      }
     },
     "890b4b51a72043d8b5ea6f549e64fe69": {
      "model_module": "@jupyter-widgets/controls",
      "model_module_version": "2.0.0",
      "model_name": "HTMLStyleModel",
      "state": {
       "description_width": "",
       "font_size": null,
       "text_color": null
      }
     },
     "8a257213c8334538ae8f121aa0ec1a3c": {
      "model_module": "@jupyter-widgets/controls",
      "model_module_version": "2.0.0",
      "model_name": "HTMLModel",
      "state": {
       "layout": "IPY_MODEL_d337d880dfcb4e86b9c6e24c5c8a316d",
       "style": "IPY_MODEL_c3359cff68cd4be6abc8229e731782a6",
       "value": " 960/? [00:04&lt;00:00, 423.89it/s]"
      }
     },
     "8b86f439c4d54bc8ba41fbfb4ca473ee": {
      "model_module": "@jupyter-widgets/controls",
      "model_module_version": "2.0.0",
      "model_name": "HBoxModel",
      "state": {
       "children": [
        "IPY_MODEL_e581240dea5a46689512a7af73890069",
        "IPY_MODEL_cffd47ab1a7a4281994d929365d2af9a",
        "IPY_MODEL_2b7a7f83fb834c779a24dea079c6e4a2"
       ],
       "layout": "IPY_MODEL_1fb7aad2b93a473284d850b22396d356"
      }
     },
     "90bec512dda94d66973b15235882ac4a": {
      "model_module": "@jupyter-widgets/base",
      "model_module_version": "2.0.0",
      "model_name": "LayoutModel",
      "state": {}
     },
     "91948cd5a56a4ec1a4a592bc14dba9f3": {
      "model_module": "@jupyter-widgets/controls",
      "model_module_version": "2.0.0",
      "model_name": "HBoxModel",
      "state": {
       "children": [
        "IPY_MODEL_96b81c1ee9584c95a647838355450e83",
        "IPY_MODEL_08d9b7283be04804a2de20efa19287e5",
        "IPY_MODEL_56434bc6b57a4797b468e5dd3f99b54e"
       ],
       "layout": "IPY_MODEL_6dee900485e04d2286eaafef35cd5dd0"
      }
     },
     "92d3ce0954564a4daceadf1ae20724dc": {
      "model_module": "@jupyter-widgets/base",
      "model_module_version": "2.0.0",
      "model_name": "LayoutModel",
      "state": {}
     },
     "96b81c1ee9584c95a647838355450e83": {
      "model_module": "@jupyter-widgets/controls",
      "model_module_version": "2.0.0",
      "model_name": "HTMLModel",
      "state": {
       "layout": "IPY_MODEL_1e1749d998054f56aa7904bdc11325c6",
       "style": "IPY_MODEL_cae5292c73084fe99216dd80cb1d9323",
       "value": "min: "
      }
     },
     "980272f7248a4acfa0e29c5e010a2519": {
      "model_module": "@jupyter-widgets/controls",
      "model_module_version": "2.0.0",
      "model_name": "HTMLStyleModel",
      "state": {
       "description_width": "",
       "font_size": null,
       "text_color": null
      }
     },
     "9bc1bf856d9240c1bc74ed59b7407642": {
      "model_module": "@jupyter-widgets/base",
      "model_module_version": "2.0.0",
      "model_name": "LayoutModel",
      "state": {}
     },
     "9f05248785b74d18bd8fd474c88f879d": {
      "model_module": "@jupyter-widgets/controls",
      "model_module_version": "2.0.0",
      "model_name": "HTMLModel",
      "state": {
       "layout": "IPY_MODEL_076173ce47434d058b89b8768e5f7427",
       "style": "IPY_MODEL_ee9ddd54c52d4939843b8f5d9ac75c89",
       "value": " 480/? [00:10&lt;00:00, 38.17it/s]"
      }
     },
     "a09ca7d7a6ff48f19a0e1e29c98b28df": {
      "model_module": "@jupyter-widgets/base",
      "model_module_version": "2.0.0",
      "model_name": "LayoutModel",
      "state": {}
     },
     "a532c6adb07c465b8c8080a108293937": {
      "model_module": "@jupyter-widgets/controls",
      "model_module_version": "2.0.0",
      "model_name": "ProgressStyleModel",
      "state": {
       "description_width": ""
      }
     },
     "a8b67ecc7e4e421fb39ffe821928e667": {
      "model_module": "@jupyter-widgets/controls",
      "model_module_version": "2.0.0",
      "model_name": "HTMLStyleModel",
      "state": {
       "description_width": "",
       "font_size": null,
       "text_color": null
      }
     },
     "aa8aac28b24b4b2aadc56f64ceb9938b": {
      "model_module": "@jupyter-widgets/controls",
      "model_module_version": "2.0.0",
      "model_name": "HTMLModel",
      "state": {
       "layout": "IPY_MODEL_6cd190964c014046a199e7e62c229780",
       "style": "IPY_MODEL_bee244da715a454ab3d19543a4c04adf",
       "value": "max: "
      }
     },
     "ab2a899ed9b44604b27b8d530e37685f": {
      "model_module": "@jupyter-widgets/base",
      "model_module_version": "2.0.0",
      "model_name": "LayoutModel",
      "state": {}
     },
     "abc5fc050e5a43baa8c5affd16d80d41": {
      "model_module": "@jupyter-widgets/controls",
      "model_module_version": "2.0.0",
      "model_name": "HBoxModel",
      "state": {
       "children": [
        "IPY_MODEL_231e4e30ed744553bd6146692b0b83c8",
        "IPY_MODEL_ba706c7629e54a87a50a3059480bdbc9",
        "IPY_MODEL_681661d4810842eda9a33ca76386c146"
       ],
       "layout": "IPY_MODEL_01c93b00c9074112b8e06e25432f29df"
      }
     },
     "acd97b15611b4be6bf6f4e6902d30a3f": {
      "model_module": "@jupyter-widgets/controls",
      "model_module_version": "2.0.0",
      "model_name": "ProgressStyleModel",
      "state": {
       "description_width": ""
      }
     },
     "af26ed7f3a97463394613ec486fd8853": {
      "model_module": "@jupyter-widgets/controls",
      "model_module_version": "2.0.0",
      "model_name": "HBoxModel",
      "state": {
       "children": [
        "IPY_MODEL_4d3e9c4749a44fceb5efa69579589e6e",
        "IPY_MODEL_2ab64aab06cb4450b48b166a50a96adf",
        "IPY_MODEL_9f05248785b74d18bd8fd474c88f879d"
       ],
       "layout": "IPY_MODEL_79b072fb81c44513944dd58efefa7309"
      }
     },
     "b1cf55fd28b446f889fc67477e5de269": {
      "model_module": "@jupyter-widgets/controls",
      "model_module_version": "2.0.0",
      "model_name": "HTMLModel",
      "state": {
       "layout": "IPY_MODEL_b45557e99c944849a643ca053cc192b1",
       "style": "IPY_MODEL_593abacb7cec4f4f8c448a890e2101df",
       "value": "min_max_of_json_values: "
      }
     },
     "b319a17d57914ed69e7d10a354c8bd98": {
      "model_module": "@jupyter-widgets/controls",
      "model_module_version": "2.0.0",
      "model_name": "HBoxModel",
      "state": {
       "children": [
        "IPY_MODEL_5094f69a1802489da6a95acbd05041e4",
        "IPY_MODEL_1173c5ec059446b5bfcf17f8560bff2d",
        "IPY_MODEL_7476082e4546485b9da552543034782e"
       ],
       "layout": "IPY_MODEL_a09ca7d7a6ff48f19a0e1e29c98b28df"
      }
     },
     "b45557e99c944849a643ca053cc192b1": {
      "model_module": "@jupyter-widgets/base",
      "model_module_version": "2.0.0",
      "model_name": "LayoutModel",
      "state": {}
     },
     "b9129ed6fae34103b1041bdf4e21bc84": {
      "model_module": "@jupyter-widgets/base",
      "model_module_version": "2.0.0",
      "model_name": "LayoutModel",
      "state": {}
     },
     "b940d994f8c34f9db226d10ae9def1c8": {
      "model_module": "@jupyter-widgets/controls",
      "model_module_version": "2.0.0",
      "model_name": "HTMLModel",
      "state": {
       "layout": "IPY_MODEL_cdfc6ea3937d4ba69488503ed2ef993e",
       "style": "IPY_MODEL_eb90d4fb2db845b0a10442a890811f98",
       "value": "min: "
      }
     },
     "b99cfd70aef14b84b72d831510b08e1a": {
      "model_module": "@jupyter-widgets/controls",
      "model_module_version": "2.0.0",
      "model_name": "HTMLStyleModel",
      "state": {
       "description_width": "",
       "font_size": null,
       "text_color": null
      }
     },
     "b9b4692828fd4536ab320e94409a418b": {
      "model_module": "@jupyter-widgets/controls",
      "model_module_version": "2.0.0",
      "model_name": "FloatProgressModel",
      "state": {
       "bar_style": "success",
       "layout": "IPY_MODEL_56e00b4f34064677b074c76316becce2",
       "max": 1,
       "style": "IPY_MODEL_acd97b15611b4be6bf6f4e6902d30a3f",
       "value": 1
      }
     },
     "b9f842a2f8f64e8fa07e2d99f73d749a": {
      "model_module": "@jupyter-widgets/controls",
      "model_module_version": "2.0.0",
      "model_name": "HTMLStyleModel",
      "state": {
       "description_width": "",
       "font_size": null,
       "text_color": null
      }
     },
     "ba706c7629e54a87a50a3059480bdbc9": {
      "model_module": "@jupyter-widgets/controls",
      "model_module_version": "2.0.0",
      "model_name": "FloatProgressModel",
      "state": {
       "bar_style": "success",
       "layout": "IPY_MODEL_49cf25ab306041d3b949a3f7fb9bdf11",
       "max": 159,
       "style": "IPY_MODEL_c227091f9e3043c4ba665cec869be172",
       "value": 159
      }
     },
     "be6b8112ba6d4c6a9878530bdecf1364": {
      "model_module": "@jupyter-widgets/base",
      "model_module_version": "2.0.0",
      "model_name": "LayoutModel",
      "state": {}
     },
     "bee244da715a454ab3d19543a4c04adf": {
      "model_module": "@jupyter-widgets/controls",
      "model_module_version": "2.0.0",
      "model_name": "HTMLStyleModel",
      "state": {
       "description_width": "",
       "font_size": null,
       "text_color": null
      }
     },
     "c162f7a0b4634d45b9e89b5e34cab4c2": {
      "model_module": "@jupyter-widgets/base",
      "model_module_version": "2.0.0",
      "model_name": "LayoutModel",
      "state": {}
     },
     "c227091f9e3043c4ba665cec869be172": {
      "model_module": "@jupyter-widgets/controls",
      "model_module_version": "2.0.0",
      "model_name": "ProgressStyleModel",
      "state": {
       "description_width": ""
      }
     },
     "c3359cff68cd4be6abc8229e731782a6": {
      "model_module": "@jupyter-widgets/controls",
      "model_module_version": "2.0.0",
      "model_name": "HTMLStyleModel",
      "state": {
       "description_width": "",
       "font_size": null,
       "text_color": null
      }
     },
     "c5abf1df56d34b81b3cf18d93c482b8c": {
      "model_module": "@jupyter-widgets/controls",
      "model_module_version": "2.0.0",
      "model_name": "ProgressStyleModel",
      "state": {
       "description_width": ""
      }
     },
     "c7e11887717a4c49af2045fb33d594d5": {
      "model_module": "@jupyter-widgets/base",
      "model_module_version": "2.0.0",
      "model_name": "LayoutModel",
      "state": {}
     },
     "cae5292c73084fe99216dd80cb1d9323": {
      "model_module": "@jupyter-widgets/controls",
      "model_module_version": "2.0.0",
      "model_name": "HTMLStyleModel",
      "state": {
       "description_width": "",
       "font_size": null,
       "text_color": null
      }
     },
     "cdfc6ea3937d4ba69488503ed2ef993e": {
      "model_module": "@jupyter-widgets/base",
      "model_module_version": "2.0.0",
      "model_name": "LayoutModel",
      "state": {}
     },
     "ce58aff622b24e14a5ca544c7742dc26": {
      "model_module": "@jupyter-widgets/controls",
      "model_module_version": "2.0.0",
      "model_name": "HTMLModel",
      "state": {
       "layout": "IPY_MODEL_2971e83d5c664531a0c302ac70418409",
       "style": "IPY_MODEL_51567f75772f4462b67dc4f3312c020c",
       "value": " 476/? [00:04&lt;00:00, 312.12it/s]"
      }
     },
     "cffd47ab1a7a4281994d929365d2af9a": {
      "model_module": "@jupyter-widgets/controls",
      "model_module_version": "2.0.0",
      "model_name": "FloatProgressModel",
      "state": {
       "bar_style": "success",
       "layout": "IPY_MODEL_3817668027a046beb6d34427bf2d6623",
       "max": 1,
       "style": "IPY_MODEL_1840827a1f854e97a858eceb1e35f8e0",
       "value": 1
      }
     },
     "d1ddf5c16abd4ba5b3bcd9a1026d3c8b": {
      "model_module": "@jupyter-widgets/controls",
      "model_module_version": "2.0.0",
      "model_name": "HBoxModel",
      "state": {
       "children": [
        "IPY_MODEL_0dbeaf013bd74dfcbf7bbb2a45cc719b",
        "IPY_MODEL_05f9a89f36cf4ae694b3c1b1c6c37a92",
        "IPY_MODEL_8a257213c8334538ae8f121aa0ec1a3c"
       ],
       "layout": "IPY_MODEL_90bec512dda94d66973b15235882ac4a"
      }
     },
     "d337d880dfcb4e86b9c6e24c5c8a316d": {
      "model_module": "@jupyter-widgets/base",
      "model_module_version": "2.0.0",
      "model_name": "LayoutModel",
      "state": {}
     },
     "d629f67508864158bb147e6951d19c85": {
      "model_module": "@jupyter-widgets/controls",
      "model_module_version": "2.0.0",
      "model_name": "HTMLModel",
      "state": {
       "layout": "IPY_MODEL_6de8bd34f58a4e61906e772142c016b1",
       "style": "IPY_MODEL_37d2250efc6847de9ef054eba2daf3a7",
       "value": "getitem: "
      }
     },
     "e581240dea5a46689512a7af73890069": {
      "model_module": "@jupyter-widgets/controls",
      "model_module_version": "2.0.0",
      "model_name": "HTMLModel",
      "state": {
       "layout": "IPY_MODEL_598cae5a7bc64d1988020e2d055837e8",
       "style": "IPY_MODEL_890b4b51a72043d8b5ea6f549e64fe69",
       "value": "apply: 100%"
      }
     },
     "e82285b770404f8d8b68e41bde7cf000": {
      "model_module": "@jupyter-widgets/controls",
      "model_module_version": "2.0.0",
      "model_name": "FloatProgressModel",
      "state": {
       "bar_style": "success",
       "layout": "IPY_MODEL_c162f7a0b4634d45b9e89b5e34cab4c2",
       "max": 1,
       "style": "IPY_MODEL_7ce4fd1c5e7347f494e3d5108b953af6",
       "value": 1
      }
     },
     "eb90d4fb2db845b0a10442a890811f98": {
      "model_module": "@jupyter-widgets/controls",
      "model_module_version": "2.0.0",
      "model_name": "HTMLStyleModel",
      "state": {
       "description_width": "",
       "font_size": null,
       "text_color": null
      }
     },
     "ed0fc1dbf9e4424386b8e375b3d8f43d": {
      "model_module": "@jupyter-widgets/controls",
      "model_module_version": "2.0.0",
      "model_name": "HTMLStyleModel",
      "state": {
       "description_width": "",
       "font_size": null,
       "text_color": null
      }
     },
     "ee9ddd54c52d4939843b8f5d9ac75c89": {
      "model_module": "@jupyter-widgets/controls",
      "model_module_version": "2.0.0",
      "model_name": "HTMLStyleModel",
      "state": {
       "description_width": "",
       "font_size": null,
       "text_color": null
      }
     },
     "f277548c412a47aebccdb9a33dc62ad4": {
      "model_module": "@jupyter-widgets/base",
      "model_module_version": "2.0.0",
      "model_name": "LayoutModel",
      "state": {}
     },
     "f4e5124fb2c6478da7742e1a714c748a": {
      "model_module": "@jupyter-widgets/controls",
      "model_module_version": "2.0.0",
      "model_name": "HTMLModel",
      "state": {
       "layout": "IPY_MODEL_c7e11887717a4c49af2045fb33d594d5",
       "style": "IPY_MODEL_b99cfd70aef14b84b72d831510b08e1a",
       "value": " 476/? [00:04&lt;00:00, 500.00it/s]"
      }
     },
     "f9d649dc02fa4a2da4bac2b289107c94": {
      "model_module": "@jupyter-widgets/controls",
      "model_module_version": "2.0.0",
      "model_name": "HBoxModel",
      "state": {
       "children": [
        "IPY_MODEL_b1cf55fd28b446f889fc67477e5de269",
        "IPY_MODEL_486016496645430e85476824106e74c6",
        "IPY_MODEL_6e4072a04e804b4c869136c633b8ffb7"
       ],
       "layout": "IPY_MODEL_86585b86695c4567acd07cd3b5e2b67c"
      }
     },
     "fa37af42806b49819c8141b3536324b9": {
      "model_module": "@jupyter-widgets/base",
      "model_module_version": "2.0.0",
      "model_name": "LayoutModel",
      "state": {}
     }
    },
    "version_major": 2,
    "version_minor": 0
   }
  }
 },
 "nbformat": 4,
 "nbformat_minor": 5
}

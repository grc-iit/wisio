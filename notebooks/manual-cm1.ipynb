{
 "cells": [
  {
   "cell_type": "code",
   "execution_count": 1,
   "metadata": {},
   "outputs": [
    {
     "name": "stdout",
     "output_type": "stream",
     "text": [
      "time: 373 µs (started: 2023-03-02 14:01:10 -08:00)\n"
     ]
    }
   ],
   "source": [
    "%load_ext autoreload\n",
    "%load_ext autotime"
   ]
  },
  {
   "cell_type": "code",
   "execution_count": 2,
   "metadata": {},
   "outputs": [
    {
     "name": "stdout",
     "output_type": "stream",
     "text": [
      "time: 719 µs (started: 2023-03-02 14:01:12 -08:00)\n"
     ]
    }
   ],
   "source": [
    "import sys\n",
    "sys.path.append(\"../\")\n",
    "import warnings\n",
    "warnings.filterwarnings('ignore')"
   ]
  },
  {
   "attachments": {},
   "cell_type": "markdown",
   "metadata": {},
   "source": [
    "Some logs are stored in VAST with some stored in GPFS.\n",
    "\n",
    "Set `log_dir` to `/vast1/` when running the notebook on Quartz, otherwise use `/gpfs1/`."
   ]
  },
  {
   "cell_type": "code",
   "execution_count": 3,
   "metadata": {},
   "outputs": [
    {
     "name": "stdout",
     "output_type": "stream",
     "text": [
      "time: 1.94 ms (started: 2023-03-02 14:01:34 -08:00)\n"
     ]
    }
   ],
   "source": [
    "log_dir = \"/p/vast1/iopp/recorder_app_logs/cm1/nodes-32/workflow-4/_parquet\"\n",
    "# log_dir = \"/p/gpfs1/iopp/recorder_app_logs/hacc/nodes-32/workflow-0/_parquet\"\n",
    "# log_dir = \"/p/gpfs1/iopp/recorder_app_logs/montage/nodes-32/_parquet\"\n",
    "# log_dir = \"/p/gpfs1/iopp/recorder_app_logs/genome_pegasus/nodes-32/_parquet\"\n",
    "# log_dir = \"/p/gpfs1/iopp/recorder_app_logs/lbann-jag/nodes-32/_parquet\"\n"
   ]
  },
  {
   "attachments": {},
   "cell_type": "markdown",
   "metadata": {},
   "source": [
    "`RecorderAnalyzer` is the main part that initializes the cluster. It creates `LocalCluster` or `LSFCluster` depending on the `force_local` variable. When it is set to `true`, it will just create a `LocalCluster`. "
   ]
  },
  {
   "cell_type": "code",
   "execution_count": 16,
   "metadata": {},
   "outputs": [
    {
     "data": {
      "text/plain": [
       "<wisio.recorder.RecorderAnalyzer at 0x2aaae08784a8>"
      ]
     },
     "execution_count": 16,
     "metadata": {},
     "output_type": "execute_result"
    },
    {
     "name": "stdout",
     "output_type": "stream",
     "text": [
      "time: 3.1 s (started: 2023-03-02 14:04:51 -08:00)\n"
     ]
    }
   ],
   "source": [
    "%autoreload 2\n",
    "\n",
    "from wisio.recorder import VIEW_TYPES, RecorderAnalyzer\n",
    "\n",
    "recorder_analyzer = RecorderAnalyzer(\n",
    "    cluster_manager_args=dict(\n",
    "        force_local=True,\n",
    "        cluster_settings=dict(\n",
    "            cores=4,\n",
    "            dashboard_port=3646,\n",
    "            local_directory=\"/var/tmp/dask-recorder\",\n",
    "            log_file=\"%J.log\",\n",
    "            worker_queue=\"pdebug\"\n",
    "        )\n",
    "    ),\n",
    "    working_dir='.recorder',\n",
    "    debug=True\n",
    ")\n",
    "\n",
    "recorder_analyzer\n"
   ]
  },
  {
   "cell_type": "code",
   "execution_count": 17,
   "metadata": {},
   "outputs": [
    {
     "data": {
      "text/plain": [
       "['http://192.168.134.14:42439/status']"
      ]
     },
     "execution_count": 17,
     "metadata": {},
     "output_type": "execute_result"
    },
    {
     "name": "stdout",
     "output_type": "stream",
     "text": [
      "time: 11.7 ms (started: 2023-03-02 14:04:55 -08:00)\n"
     ]
    }
   ],
   "source": [
    "[client.dashboard_link for client in recorder_analyzer.cluster_manager.clients]\n"
   ]
  },
  {
   "attachments": {},
   "cell_type": "markdown",
   "metadata": {},
   "source": [
    "From this point on, every step is exactly the same within the `analyze_parquet` method of `RecorderAnalyzer`."
   ]
  },
  {
   "cell_type": "code",
   "execution_count": 18,
   "metadata": {},
   "outputs": [
    {
     "data": {
      "text/plain": [
       "{'file_id': [901974072163427748, 4531734248727221027],\n",
       " 'proc_id': [6860131432589748884, 6860131432673569428],\n",
       " 'tmid': [0, 6683055996]}"
      ]
     },
     "execution_count": 18,
     "metadata": {},
     "output_type": "execute_result"
    },
    {
     "name": "stdout",
     "output_type": "stream",
     "text": [
      "time: 11.6 ms (started: 2023-03-02 14:04:55 -08:00)\n"
     ]
    }
   ],
   "source": [
    "%autoreload 2\n",
    "\n",
    "global_min_max = recorder_analyzer.load_global_min_max(log_dir=log_dir)\n",
    "global_min_max\n"
   ]
  },
  {
   "cell_type": "code",
   "execution_count": 22,
   "metadata": {},
   "outputs": [
    {
     "name": "stdout",
     "output_type": "stream",
     "text": [
      "time: 882 µs (started: 2023-03-02 14:05:26 -08:00)\n"
     ]
    }
   ],
   "source": [
    "%autoreload 2\n",
    "\n",
    "from wisio._recorder.analysis import (\n",
    "    compute_main_view,\n",
    "    compute_max_io_time,\n",
    "    compute_unique_file_names,\n",
    "    compute_unique_proc_names,\n",
    "    compute_view\n",
    ")"
   ]
  },
  {
   "attachments": {},
   "cell_type": "markdown",
   "metadata": {},
   "source": [
    "`compute_main_view` automatically does `persist` before returning the DataFrame. You may play with that part if the `main_view` doesn't fit within the allocated memory. That said, `persist`ing it increases performance significantly."
   ]
  },
  {
   "cell_type": "code",
   "execution_count": 28,
   "metadata": {},
   "outputs": [
    {
     "data": {
      "text/html": [
       "<div><strong>Dask DataFrame Structure:</strong></div>\n",
       "<div>\n",
       "<style scoped>\n",
       "    .dataframe tbody tr th:only-of-type {\n",
       "        vertical-align: middle;\n",
       "    }\n",
       "\n",
       "    .dataframe tbody tr th {\n",
       "        vertical-align: top;\n",
       "    }\n",
       "\n",
       "    .dataframe thead th {\n",
       "        text-align: right;\n",
       "    }\n",
       "</style>\n",
       "<table border=\"1\" class=\"dataframe\">\n",
       "  <thead>\n",
       "    <tr style=\"text-align: right;\">\n",
       "      <th></th>\n",
       "      <th>trange</th>\n",
       "      <th>file_id</th>\n",
       "      <th>proc_id</th>\n",
       "      <th>io_cat</th>\n",
       "      <th>acc_pat</th>\n",
       "      <th>duration_sum</th>\n",
       "      <th>index_count</th>\n",
       "      <th>size_min</th>\n",
       "      <th>size_max</th>\n",
       "      <th>size_sum</th>\n",
       "      <th>func_id</th>\n",
       "      <th>read_time</th>\n",
       "      <th>write_time</th>\n",
       "      <th>metadata_time</th>\n",
       "      <th>read_size</th>\n",
       "      <th>write_size</th>\n",
       "      <th>metadata_size</th>\n",
       "      <th>read_count</th>\n",
       "      <th>write_count</th>\n",
       "      <th>metadata_count</th>\n",
       "      <th>data_count</th>\n",
       "      <th>data_size</th>\n",
       "      <th>data_time</th>\n",
       "      <th>sequential_time</th>\n",
       "      <th>random_time</th>\n",
       "      <th>sequential_size</th>\n",
       "      <th>random_size</th>\n",
       "      <th>sequential_count</th>\n",
       "      <th>random_count</th>\n",
       "    </tr>\n",
       "    <tr>\n",
       "      <th>npartitions=1</th>\n",
       "      <th></th>\n",
       "      <th></th>\n",
       "      <th></th>\n",
       "      <th></th>\n",
       "      <th></th>\n",
       "      <th></th>\n",
       "      <th></th>\n",
       "      <th></th>\n",
       "      <th></th>\n",
       "      <th></th>\n",
       "      <th></th>\n",
       "      <th></th>\n",
       "      <th></th>\n",
       "      <th></th>\n",
       "      <th></th>\n",
       "      <th></th>\n",
       "      <th></th>\n",
       "      <th></th>\n",
       "      <th></th>\n",
       "      <th></th>\n",
       "      <th></th>\n",
       "      <th></th>\n",
       "      <th></th>\n",
       "      <th></th>\n",
       "      <th></th>\n",
       "      <th></th>\n",
       "      <th></th>\n",
       "      <th></th>\n",
       "      <th></th>\n",
       "    </tr>\n",
       "  </thead>\n",
       "  <tbody>\n",
       "    <tr>\n",
       "      <th></th>\n",
       "      <td>int64</td>\n",
       "      <td>int64</td>\n",
       "      <td>int64</td>\n",
       "      <td>int64</td>\n",
       "      <td>int64</td>\n",
       "      <td>float32</td>\n",
       "      <td>int64</td>\n",
       "      <td>int64</td>\n",
       "      <td>int64</td>\n",
       "      <td>int64</td>\n",
       "      <td>object</td>\n",
       "      <td>int64</td>\n",
       "      <td>int64</td>\n",
       "      <td>int64</td>\n",
       "      <td>int64</td>\n",
       "      <td>int64</td>\n",
       "      <td>int64</td>\n",
       "      <td>int64</td>\n",
       "      <td>int64</td>\n",
       "      <td>int64</td>\n",
       "      <td>int64</td>\n",
       "      <td>int64</td>\n",
       "      <td>int64</td>\n",
       "      <td>int64</td>\n",
       "      <td>int64</td>\n",
       "      <td>int64</td>\n",
       "      <td>int64</td>\n",
       "      <td>int64</td>\n",
       "      <td>int64</td>\n",
       "    </tr>\n",
       "    <tr>\n",
       "      <th></th>\n",
       "      <td>...</td>\n",
       "      <td>...</td>\n",
       "      <td>...</td>\n",
       "      <td>...</td>\n",
       "      <td>...</td>\n",
       "      <td>...</td>\n",
       "      <td>...</td>\n",
       "      <td>...</td>\n",
       "      <td>...</td>\n",
       "      <td>...</td>\n",
       "      <td>...</td>\n",
       "      <td>...</td>\n",
       "      <td>...</td>\n",
       "      <td>...</td>\n",
       "      <td>...</td>\n",
       "      <td>...</td>\n",
       "      <td>...</td>\n",
       "      <td>...</td>\n",
       "      <td>...</td>\n",
       "      <td>...</td>\n",
       "      <td>...</td>\n",
       "      <td>...</td>\n",
       "      <td>...</td>\n",
       "      <td>...</td>\n",
       "      <td>...</td>\n",
       "      <td>...</td>\n",
       "      <td>...</td>\n",
       "      <td>...</td>\n",
       "      <td>...</td>\n",
       "    </tr>\n",
       "  </tbody>\n",
       "</table>\n",
       "</div>\n",
       "<div>Dask Name: rename, 1 tasks</div>"
      ],
      "text/plain": [
       "Dask DataFrame Structure:\n",
       "              trange file_id proc_id io_cat acc_pat duration_sum index_count size_min size_max size_sum func_id read_time write_time metadata_time read_size write_size metadata_size read_count write_count metadata_count data_count data_size data_time sequential_time random_time sequential_size random_size sequential_count random_count\n",
       "npartitions=1                                                                                                                                                                                                                                                                                                                                   \n",
       "               int64   int64   int64  int64   int64      float32       int64    int64    int64    int64  object     int64      int64         int64     int64      int64         int64      int64       int64          int64      int64     int64     int64           int64       int64           int64       int64            int64        int64\n",
       "                 ...     ...     ...    ...     ...          ...         ...      ...      ...      ...     ...       ...        ...           ...       ...        ...           ...        ...         ...            ...        ...       ...       ...             ...         ...             ...         ...              ...          ...\n",
       "Dask Name: rename, 1 tasks"
      ]
     },
     "execution_count": 28,
     "metadata": {},
     "output_type": "execute_result"
    },
    {
     "name": "stdout",
     "output_type": "stream",
     "text": [
      "time: 739 ms (started: 2023-03-02 14:08:04 -08:00)\n"
     ]
    }
   ],
   "source": [
    "%autoreload 2\n",
    "\n",
    "main_view = compute_main_view(\n",
    "    log_dir=log_dir,\n",
    "    global_min_max=global_min_max,\n",
    "    view_types=VIEW_TYPES\n",
    ")\n",
    "\n",
    "main_view\n"
   ]
  },
  {
   "attachments": {},
   "cell_type": "markdown",
   "metadata": {},
   "source": [
    "`max_io_time` is just a `dd.Scalar` since I tried to compute everyting lazily."
   ]
  },
  {
   "cell_type": "code",
   "execution_count": 29,
   "metadata": {},
   "outputs": [
    {
     "data": {
      "text/plain": [
       "dd.Scalar<series-..., dtype=float32>"
      ]
     },
     "execution_count": 29,
     "metadata": {},
     "output_type": "execute_result"
    },
    {
     "name": "stdout",
     "output_type": "stream",
     "text": [
      "time: 22.8 ms (started: 2023-03-02 14:08:11 -08:00)\n"
     ]
    }
   ],
   "source": [
    "%autoreload 2\n",
    "\n",
    "max_io_time = compute_max_io_time(main_view=main_view)\n",
    "max_io_time"
   ]
  },
  {
   "attachments": {},
   "cell_type": "markdown",
   "metadata": {},
   "source": [
    "`unique_file_names` and `unique_proc_names` are evaluated lazily too. I'm merging them back after computing `low_level_view`, `mid_level_view` and `high_level_view`."
   ]
  },
  {
   "cell_type": "code",
   "execution_count": 30,
   "metadata": {},
   "outputs": [
    {
     "name": "stdout",
     "output_type": "stream",
     "text": [
      "time: 86.3 ms (started: 2023-03-02 14:08:14 -08:00)\n"
     ]
    }
   ],
   "source": [
    "%autoreload 2\n",
    "\n",
    "unique_file_names = compute_unique_file_names(log_dir=log_dir)\n",
    "unique_proc_names = compute_unique_proc_names(log_dir=log_dir)"
   ]
  },
  {
   "attachments": {},
   "cell_type": "markdown",
   "metadata": {},
   "source": [
    "You may configure `delta` and `cut` using the following variables."
   ]
  },
  {
   "cell_type": "code",
   "execution_count": 26,
   "metadata": {},
   "outputs": [
    {
     "name": "stdout",
     "output_type": "stream",
     "text": [
      "time: 831 µs (started: 2023-03-02 14:06:50 -08:00)\n"
     ]
    }
   ],
   "source": [
    "DELTA = 0.0001\n",
    "CUT = 0.5"
   ]
  },
  {
   "attachments": {},
   "cell_type": "markdown",
   "metadata": {},
   "source": [
    "The following is how all the views (including `expanded_view` and `bottleneck_view`-I didn't like the `cut_view` name). So, if you want to play with that part `compute_view` is the method you should look for."
   ]
  },
  {
   "cell_type": "code",
   "execution_count": 31,
   "metadata": {},
   "outputs": [
    {
     "data": {
      "text/plain": [
       "15"
      ]
     },
     "execution_count": 31,
     "metadata": {},
     "output_type": "execute_result"
    },
    {
     "name": "stdout",
     "output_type": "stream",
     "text": [
      "time: 2.63 s (started: 2023-03-02 14:08:19 -08:00)\n"
     ]
    }
   ],
   "source": [
    "%autoreload 2\n",
    "\n",
    "import itertools as it\n",
    "\n",
    "def _view_permutations(r: int):\n",
    "    return it.permutations(VIEW_TYPES, r + 1)\n",
    "\n",
    "views = {}\n",
    "for view_permutation in it.chain.from_iterable(map(_view_permutations, range(len(VIEW_TYPES)))):\n",
    "    # Compute view\n",
    "    views[view_permutation] = compute_view(\n",
    "        main_view=main_view,\n",
    "        views=views,\n",
    "        view_permutation=view_permutation,\n",
    "        max_io_time=max_io_time,\n",
    "        delta=DELTA,\n",
    "        cut=CUT\n",
    "    )\n",
    "\n",
    "\n",
    "len(views)"
   ]
  },
  {
   "attachments": {},
   "cell_type": "markdown",
   "metadata": {},
   "source": [
    "The following just initializes the bottleneck detector."
   ]
  },
  {
   "cell_type": "code",
   "execution_count": 32,
   "metadata": {},
   "outputs": [
    {
     "data": {
      "text/plain": [
       "<wisio._recorder.bottlenecks.RecorderBottleneckDetector at 0x2aabdb1d5e48>"
      ]
     },
     "execution_count": 32,
     "metadata": {},
     "output_type": "execute_result"
    },
    {
     "name": "stdout",
     "output_type": "stream",
     "text": [
      "time: 4.95 ms (started: 2023-03-02 14:08:26 -08:00)\n"
     ]
    }
   ],
   "source": [
    "%autoreload 2\n",
    "\n",
    "from wisio._recorder.bottlenecks import RecorderBottleneckDetector\n",
    "\n",
    "bottleneck_detector = RecorderBottleneckDetector(\n",
    "    logger=recorder_analyzer.logger,\n",
    "    log_dir=log_dir,\n",
    "    views=views,\n",
    "    view_types=VIEW_TYPES,\n",
    "    unique_file_names=unique_file_names,\n",
    "    unique_proc_names=unique_proc_names\n",
    ")\n",
    "\n",
    "bottleneck_detector\n"
   ]
  },
  {
   "attachments": {},
   "cell_type": "markdown",
   "metadata": {},
   "source": [
    "This part is where our nested loops lie. The output type is `{view_type: bottleneck_dict}`."
   ]
  },
  {
   "cell_type": "code",
   "execution_count": 33,
   "metadata": {},
   "outputs": [
    {
     "data": {
      "text/plain": [
       "15"
      ]
     },
     "execution_count": 33,
     "metadata": {},
     "output_type": "execute_result"
    },
    {
     "name": "stdout",
     "output_type": "stream",
     "text": [
      "time: 40.1 s (started: 2023-03-02 14:08:35 -08:00)\n"
     ]
    }
   ],
   "source": [
    "%autoreload 2\n",
    "\n",
    "bottlenecks = bottleneck_detector.detect_bottlenecks(max_io_time=max_io_time)\n",
    "\n",
    "len(bottlenecks)"
   ]
  },
  {
   "attachments": {},
   "cell_type": "markdown",
   "metadata": {},
   "source": [
    "The following saves the bottlenecks per `view_type`. "
   ]
  },
  {
   "cell_type": "code",
   "execution_count": 36,
   "metadata": {},
   "outputs": [
    {
     "name": "stdout",
     "output_type": "stream",
     "text": [
      "time: 6.68 s (started: 2023-03-02 14:11:17 -08:00)\n"
     ]
    }
   ],
   "source": [
    "%autoreload 2\n",
    "\n",
    "recorder_analyzer.save_bottlenecks(log_dir=log_dir, bottlenecks=bottlenecks)\n"
   ]
  }
 ],
 "metadata": {
  "kernelspec": {
   "display_name": "venv-quartz",
   "language": "python",
   "name": "python3"
  },
  "language_info": {
   "codemirror_mode": {
    "name": "ipython",
    "version": 3
   },
   "file_extension": ".py",
   "mimetype": "text/x-python",
   "name": "python",
   "nbconvert_exporter": "python",
   "pygments_lexer": "ipython3",
   "version": "3.7.2"
  },
  "orig_nbformat": 4
 },
 "nbformat": 4,
 "nbformat_minor": 2
}

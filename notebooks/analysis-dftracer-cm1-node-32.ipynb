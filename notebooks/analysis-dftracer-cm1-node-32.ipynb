{
 "cells": [
  {
   "cell_type": "code",
   "execution_count": 1,
   "id": "d02cc099",
   "metadata": {
    "execution": {
     "iopub.execute_input": "2024-10-09T22:43:39.725073Z",
     "iopub.status.busy": "2024-10-09T22:43:39.724597Z",
     "iopub.status.idle": "2024-10-09T22:43:39.756219Z",
     "shell.execute_reply": "2024-10-09T22:43:39.755590Z"
    },
    "papermill": {
     "duration": 0.037454,
     "end_time": "2024-10-09T22:43:39.757594",
     "exception": false,
     "start_time": "2024-10-09T22:43:39.720140",
     "status": "completed"
    },
    "tags": []
   },
   "outputs": [
    {
     "name": "stdout",
     "output_type": "stream",
     "text": [
      "time: 191 µs (started: 2024-10-09 15:43:39 -07:00)\n"
     ]
    }
   ],
   "source": [
    "%load_ext autoreload\n",
    "%load_ext autotime"
   ]
  },
  {
   "cell_type": "code",
   "execution_count": 2,
   "id": "de62d55f",
   "metadata": {
    "execution": {
     "iopub.execute_input": "2024-10-09T22:43:39.765183Z",
     "iopub.status.busy": "2024-10-09T22:43:39.764621Z",
     "iopub.status.idle": "2024-10-09T22:43:39.768763Z",
     "shell.execute_reply": "2024-10-09T22:43:39.768164Z"
    },
    "papermill": {
     "duration": 0.009105,
     "end_time": "2024-10-09T22:43:39.770119",
     "exception": false,
     "start_time": "2024-10-09T22:43:39.761014",
     "status": "completed"
    },
    "tags": []
   },
   "outputs": [
    {
     "name": "stdout",
     "output_type": "stream",
     "text": [
      "time: 538 µs (started: 2024-10-09 15:43:39 -07:00)\n"
     ]
    }
   ],
   "source": [
    "import os\n",
    "import sys\n",
    "import time\n",
    "import warnings\n",
    "\n",
    "# Add WisIO to the path\n",
    "sys.path.append(os.path.abspath(\"../\"))\n",
    "\n",
    "# Filter warnings\n",
    "warnings.filterwarnings('ignore')"
   ]
  },
  {
   "cell_type": "code",
   "execution_count": 3,
   "id": "91d03e89",
   "metadata": {
    "execution": {
     "iopub.execute_input": "2024-10-09T22:43:39.777696Z",
     "iopub.status.busy": "2024-10-09T22:43:39.777159Z",
     "iopub.status.idle": "2024-10-09T22:43:39.781563Z",
     "shell.execute_reply": "2024-10-09T22:43:39.780965Z"
    },
    "papermill": {
     "duration": 0.009526,
     "end_time": "2024-10-09T22:43:39.782917",
     "exception": false,
     "start_time": "2024-10-09T22:43:39.773391",
     "status": "completed"
    },
    "tags": [
     "parameters",
     "parameters2"
    ]
   },
   "outputs": [
    {
     "name": "stdout",
     "output_type": "stream",
     "text": [
      "time: 753 µs (started: 2024-10-09 15:43:39 -07:00)\n"
     ]
    }
   ],
   "source": [
    "analyzer = \"dftracer\"\n",
    "checkpoint = True\n",
    "logical_view_types = False\n",
    "output_max_bottlenecks = 1\n",
    "output_root_only = False\n",
    "run_dir = f\".wisio/{analyzer}/{int(time.time())}\"\n",
    "bottleneck_dir = f\"{run_dir}/bottlenecks\"\n",
    "checkpoint_dir = f\"{run_dir}/checkpoints\"\n",
    "percentile = 0.95\n",
    "trace_path = \"/p/lustre3/iopp/dftracer-traces-lfs/v1.0.5-develop/corona/cm1/APP/node-1/v1/RAW/*.pfw.gz\""
   ]
  },
  {
   "cell_type": "code",
   "execution_count": 4,
   "id": "f77f8601",
   "metadata": {
    "execution": {
     "iopub.execute_input": "2024-10-09T22:43:39.790559Z",
     "iopub.status.busy": "2024-10-09T22:43:39.790289Z",
     "iopub.status.idle": "2024-10-09T22:43:39.794458Z",
     "shell.execute_reply": "2024-10-09T22:43:39.793851Z"
    },
    "papermill": {
     "duration": 0.009353,
     "end_time": "2024-10-09T22:43:39.795862",
     "exception": false,
     "start_time": "2024-10-09T22:43:39.786509",
     "status": "completed"
    },
    "tags": [
     "injected-parameters"
    ]
   },
   "outputs": [
    {
     "name": "stdout",
     "output_type": "stream",
     "text": [
      "time: 638 µs (started: 2024-10-09 15:43:39 -07:00)\n"
     ]
    }
   ],
   "source": [
    "# Parameters\n",
    "analyzer = \"dftracer\"\n",
    "checkpoint = True\n",
    "checkpoint_dir = \"/usr/workspace/iopp/wisio_logs/_checkpoints/dftracer-cm1-node-32\"\n",
    "logical_view_types = False\n",
    "output_max_bottlenecks = 1\n",
    "output_root_only = False\n",
    "run_dir = \".wisio/dftracer/cm1-node-32\"\n",
    "percentile = 0.99\n",
    "trace_path = \"/p/lustre3/iopp/dftracer-traces-lfs/v1.0.5-develop/corona/cm1/APP/node-32/v1/COMPACT/*.pfw.gz\"\n"
   ]
  },
  {
   "cell_type": "code",
   "execution_count": 5,
   "id": "2bd050e1",
   "metadata": {
    "execution": {
     "iopub.execute_input": "2024-10-09T22:43:39.803853Z",
     "iopub.status.busy": "2024-10-09T22:43:39.803435Z",
     "iopub.status.idle": "2024-10-09T22:43:45.541353Z",
     "shell.execute_reply": "2024-10-09T22:43:45.540558Z"
    },
    "papermill": {
     "duration": 5.743527,
     "end_time": "2024-10-09T22:43:45.542921",
     "exception": false,
     "start_time": "2024-10-09T22:43:39.799394",
     "status": "completed"
    },
    "tags": []
   },
   "outputs": [
    {
     "name": "stdout",
     "output_type": "stream",
     "text": [
      "time: 5.73 s (started: 2024-10-09 15:43:39 -07:00)\n"
     ]
    }
   ],
   "source": [
    "from distributed import Client\n",
    "from hydra import compose, initialize\n",
    "from hydra.core.hydra_config import HydraConfig\n",
    "from hydra.utils import instantiate\n",
    "from wisio.config import init_hydra_config_store\n",
    "from wisio.utils.file_utils import ensure_dir\n",
    "\n",
    "ensure_dir(run_dir)\n",
    "\n",
    "with initialize(version_base=None, config_path=None):\n",
    "    init_hydra_config_store()\n",
    "    cfg = compose(\n",
    "        config_name=\"config\",\n",
    "        overrides=[\n",
    "            f\"+analyzer={analyzer}\",\n",
    "            f\"analyzer.bottleneck_dir={bottleneck_dir}\",\n",
    "            f\"analyzer.checkpoint={checkpoint}\",\n",
    "            f\"analyzer.checkpoint_dir={checkpoint_dir}\",\n",
    "            f\"hydra.run.dir={run_dir}\",\n",
    "            f\"hydra.runtime.output_dir={run_dir}\",\n",
    "            f\"logical_view_types={logical_view_types}\",\n",
    "            f\"output.max_bottlenecks={output_max_bottlenecks}\",\n",
    "            f\"output.root_only={output_root_only}\",\n",
    "            f\"percentile={percentile}\",\n",
    "            f\"trace_path={trace_path}\",\n",
    "        ],\n",
    "        return_hydra_config=True,\n",
    "    )\n",
    "    HydraConfig.instance().set_config(cfg)\n",
    "    cluster = instantiate(cfg.cluster)\n",
    "    client = Client(cluster)\n",
    "    analyzer = instantiate(cfg.analyzer)\n",
    "    output = instantiate(cfg.output)"
   ]
  },
  {
   "cell_type": "code",
   "execution_count": 6,
   "id": "4345e12f",
   "metadata": {
    "execution": {
     "iopub.execute_input": "2024-10-09T22:43:45.552203Z",
     "iopub.status.busy": "2024-10-09T22:43:45.551370Z",
     "iopub.status.idle": "2024-10-09T22:45:11.290792Z",
     "shell.execute_reply": "2024-10-09T22:45:11.285837Z"
    },
    "papermill": {
     "duration": 85.745595,
     "end_time": "2024-10-09T22:45:11.292439",
     "exception": false,
     "start_time": "2024-10-09T22:43:45.546844",
     "status": "completed"
    },
    "tags": []
   },
   "outputs": [
    {
     "name": "stdout",
     "output_type": "stream",
     "text": [
      "time: 1min 25s (started: 2024-10-09 15:43:45 -07:00)\n"
     ]
    }
   ],
   "source": [
    "result = analyzer.analyze_trace(\n",
    "    trace_path=cfg.trace_path,\n",
    "    # accuracy=cfg.accuracy,\n",
    "    exclude_bottlenecks=cfg.exclude_bottlenecks,\n",
    "    exclude_characteristics=cfg.exclude_characteristics,\n",
    "    logical_view_types=cfg.logical_view_types,\n",
    "    metrics=cfg.metrics,\n",
    "    percentile=cfg.percentile,\n",
    "    view_types=cfg.view_types,\n",
    ")"
   ]
  },
  {
   "cell_type": "code",
   "execution_count": 7,
   "id": "3d12668e",
   "metadata": {
    "execution": {
     "iopub.execute_input": "2024-10-09T22:45:11.301571Z",
     "iopub.status.busy": "2024-10-09T22:45:11.301153Z",
     "iopub.status.idle": "2024-10-09T22:45:16.411925Z",
     "shell.execute_reply": "2024-10-09T22:45:16.410225Z"
    },
    "papermill": {
     "duration": 5.117187,
     "end_time": "2024-10-09T22:45:16.413504",
     "exception": false,
     "start_time": "2024-10-09T22:45:11.296317",
     "status": "completed"
    },
    "tags": []
   },
   "outputs": [
    {
     "data": {
      "text/html": [
       "<pre style=\"white-space:pre;overflow-x:auto;line-height:normal;font-family:Menlo,'DejaVu Sans Mono',consolas,'Courier New',monospace\">╭────────────────────────────────────────────── I/O Characteristics ──────────────────────────────────────────────╮\n",
       "│                                                                                                                 │\n",
       "│ <span style=\"color: #008080; text-decoration-color: #008080\"> Runtime         </span> 280.35 seconds                                                                                │\n",
       "│ <span style=\"color: #008080; text-decoration-color: #008080\"> I/O Time        </span> 2.25 seconds                                                                                  │\n",
       "│ <span style=\"color: #008080; text-decoration-color: #008080\">                 </span> ├── Read - 0.03 seconds (1.48%)                                                               │\n",
       "│ <span style=\"color: #008080; text-decoration-color: #008080\">                 </span> ├── Write - 0.08 seconds (3.56%)                                                              │\n",
       "│ <span style=\"color: #008080; text-decoration-color: #008080\">                 </span> └── Metadata - 2.15 seconds (95.74%)                                                          │\n",
       "│ <span style=\"color: #008080; text-decoration-color: #008080\"> I/O Operations  </span> 2,587,987 ops                                                                                 │\n",
       "│ <span style=\"color: #008080; text-decoration-color: #008080\">                 </span> ├── Read - 256,001 ops (9.89%)                                                                │\n",
       "│ <span style=\"color: #008080; text-decoration-color: #008080\">                 </span> ├── Write - 245,617 ops (9.49%)                                                               │\n",
       "│ <span style=\"color: #008080; text-decoration-color: #008080\">                 </span> └── Metadata - 2,077,153 ops (80.26%)                                                         │\n",
       "│ <span style=\"color: #008080; text-decoration-color: #008080\"> I/O Size        </span> 4.64 GiB                                                                                      │\n",
       "│ <span style=\"color: #008080; text-decoration-color: #008080\">                 </span> ├── Read - 27.84 MiB (0.59%)                                                                  │\n",
       "│ <span style=\"color: #008080; text-decoration-color: #008080\">                 </span> └── Write - 4.61 GiB (99.41%)                                                                 │\n",
       "│ <span style=\"color: #008080; text-decoration-color: #008080\"> Read Requests   </span> 4 kiB-16 kiB - 256,001 ops                                                                    │\n",
       "│ <span style=\"color: #008080; text-decoration-color: #008080\">                 </span> ├── &lt;4 kiB - 254,976 ops (99.60%)                                                             │\n",
       "│ <span style=\"color: #008080; text-decoration-color: #008080\">                 </span> └── 4-16 kiB - 1,025 ops (0.40%)                                                              │\n",
       "│ <span style=\"color: #008080; text-decoration-color: #008080\"> Write Requests  </span> 4 kiB-64 kiB - 245,617 ops                                                                    │\n",
       "│ <span style=\"color: #008080; text-decoration-color: #008080\">                 </span> ├── &lt;4 kiB - 133,273 ops (54.26%)                                                             │\n",
       "│ <span style=\"color: #008080; text-decoration-color: #008080\">                 </span> ├── 4-16 kiB - 43,736 ops (17.81%)                                                            │\n",
       "│ <span style=\"color: #008080; text-decoration-color: #008080\">                 </span> └── 16-64 kiB - 68,608 ops (27.93%)                                                           │\n",
       "│ <span style=\"color: #008080; text-decoration-color: #008080\"> Nodes           </span> 32 nodes                                                                                      │\n",
       "│ <span style=\"color: #008080; text-decoration-color: #008080\">                 </span> ├── 13788 - 2.25 s (100.00%) - 887.05 kiB/144.52 MiB R/W (0.02/3.04%) - 80,206 ops (3.10%)    │\n",
       "│ <span style=\"color: #008080; text-decoration-color: #008080\">                 </span> ├── 31683 - 1.89 s (84.24%) - 897.63 kiB/150.23 MiB R/W (0.02/3.16%) - 83,211 ops (3.22%)     │\n",
       "│ <span style=\"color: #008080; text-decoration-color: #008080\">                 </span> ├── 7375 - 1.40 s (62.31%) - 891.13 kiB/148.62 MiB R/W (0.02/3.13%) - 81,052 ops (3.13%)      │\n",
       "│ <span style=\"color: #008080; text-decoration-color: #008080\">                 </span> ├── 27953 - 1.40 s (62.21%) - 893.22 kiB/148.62 MiB R/W (0.02/3.13%) - 81,007 ops (3.13%)     │\n",
       "│ <span style=\"color: #008080; text-decoration-color: #008080\">                 </span> ├── 475 - 1.40 s (62.12%) - 891.22 kiB/144.52 MiB R/W (0.02/3.04%) - 80,023 ops (3.09%)       │\n",
       "│ <span style=\"color: #008080; text-decoration-color: #008080\">                 </span> ├── 46749 - 1.39 s (61.76%) - 888.74 kiB/148.62 MiB R/W (0.02/3.13%) - 81,141 ops (3.14%)     │\n",
       "│ <span style=\"color: #008080; text-decoration-color: #008080\">                 </span> ├── 7923 - 1.39 s (61.60%) - 891.05 kiB/148.62 MiB R/W (0.02/3.13%) - 81,314 ops (3.14%)      │\n",
       "│ <span style=\"color: #008080; text-decoration-color: #008080\">                 </span> ├── 42785 - 1.38 s (61.52%) - 890.97 kiB/148.62 MiB R/W (0.02/3.13%) - 81,081 ops (3.13%)     │\n",
       "│ <span style=\"color: #008080; text-decoration-color: #008080\">                 </span> ├── 36834 - 1.38 s (61.32%) - 891.84 kiB/148.62 MiB R/W (0.02/3.13%) - 81,068 ops (3.13%)     │\n",
       "│ <span style=\"color: #008080; text-decoration-color: #008080\">                 </span> ├── 54829 - 1.38 s (61.22%) - 891.56 kiB/144.52 MiB R/W (0.02/3.04%) - 80,125 ops (3.10%)     │\n",
       "│ <span style=\"color: #008080; text-decoration-color: #008080\">                 </span> ├── 19921 - 1.38 s (61.14%) - 889.03 kiB/148.62 MiB R/W (0.02/3.13%) - 80,948 ops (3.13%)     │\n",
       "│ <span style=\"color: #008080; text-decoration-color: #008080\">                 </span> ├── 27579 - 1.37 s (60.97%) - 891.11 kiB/148.62 MiB R/W (0.02/3.13%) - 81,062 ops (3.13%)     │\n",
       "│ <span style=\"color: #008080; text-decoration-color: #008080\">                 </span> ├── 13118 - 1.37 s (60.93%) - 890.48 kiB/144.52 MiB R/W (0.02/3.04%) - 79,970 ops (3.09%)     │\n",
       "│ <span style=\"color: #008080; text-decoration-color: #008080\">                 </span> ├── 33121 - 1.37 s (60.88%) - 890.68 kiB/144.52 MiB R/W (0.02/3.04%) - 80,011 ops (3.09%)     │\n",
       "│ <span style=\"color: #008080; text-decoration-color: #008080\">                 </span> ├── 50209 - 1.37 s (60.84%) - 890.42 kiB/148.62 MiB R/W (0.02/3.13%) - 81,003 ops (3.13%)     │\n",
       "│ <span style=\"color: #008080; text-decoration-color: #008080\">                 </span> ├── 25074 - 1.37 s (60.79%) - 891.21 kiB/148.62 MiB R/W (0.02/3.13%) - 80,948 ops (3.13%)     │\n",
       "│ <span style=\"color: #008080; text-decoration-color: #008080\">                 </span> ├── 50452 - 1.37 s (60.79%) - 890.27 kiB/148.62 MiB R/W (0.02/3.13%) - 81,274 ops (3.14%)     │\n",
       "│ <span style=\"color: #008080; text-decoration-color: #008080\">                 </span> ├── 40970 - 1.37 s (60.72%) - 890.71 kiB/148.62 MiB R/W (0.02/3.13%) - 81,031 ops (3.13%)     │\n",
       "│ <span style=\"color: #008080; text-decoration-color: #008080\">                 </span> ├── 15659 - 1.37 s (60.71%) - 891.07 kiB/144.52 MiB R/W (0.02/3.04%) - 79,972 ops (3.09%)     │\n",
       "│ <span style=\"color: #008080; text-decoration-color: #008080\">                 </span> ├── 4798 - 1.36 s (60.55%) - 891.05 kiB/148.62 MiB R/W (0.02/3.13%) - 80,956 ops (3.13%)      │\n",
       "│ <span style=\"color: #008080; text-decoration-color: #008080\">                 </span> ├── 27280 - 1.36 s (60.46%) - 890.46 kiB/148.62 MiB R/W (0.02/3.13%) - 81,002 ops (3.13%)     │\n",
       "│ <span style=\"color: #008080; text-decoration-color: #008080\">                 </span> ├── 42374 - 1.36 s (60.43%) - 891.58 kiB/148.62 MiB R/W (0.02/3.13%) - 80,972 ops (3.13%)     │\n",
       "│ <span style=\"color: #008080; text-decoration-color: #008080\">                 </span> ├── 38041 - 1.35 s (60.07%) - 890.13 kiB/148.62 MiB R/W (0.02/3.13%) - 81,001 ops (3.13%)     │\n",
       "│ <span style=\"color: #008080; text-decoration-color: #008080\">                 </span> ├── 37889 - 1.35 s (60.02%) - 890.37 kiB/148.62 MiB R/W (0.02/3.13%) - 81,104 ops (3.13%)     │\n",
       "│ <span style=\"color: #008080; text-decoration-color: #008080\">                 </span> ├── 60716 - 1.35 s (59.98%) - 890.22 kiB/148.62 MiB R/W (0.02/3.13%) - 80,983 ops (3.13%)     │\n",
       "│ <span style=\"color: #008080; text-decoration-color: #008080\">                 </span> ├── 64729 - 1.35 s (59.88%) - 890.70 kiB/148.62 MiB R/W (0.02/3.13%) - 81,364 ops (3.14%)     │\n",
       "│ <span style=\"color: #008080; text-decoration-color: #008080\">                 </span> ├── 25361 - 1.34 s (59.38%) - 890.90 kiB/148.62 MiB R/W (0.02/3.13%) - 80,972 ops (3.13%)     │\n",
       "│ <span style=\"color: #008080; text-decoration-color: #008080\">                 </span> ├── 25567 - 1.33 s (59.11%) - 890.68 kiB/144.52 MiB R/W (0.02/3.04%) - 80,029 ops (3.09%)     │\n",
       "│ <span style=\"color: #008080; text-decoration-color: #008080\">                 </span> ├── 36309 - 1.33 s (59.00%) - 890.75 kiB/148.62 MiB R/W (0.02/3.13%) - 81,054 ops (3.13%)     │\n",
       "│ <span style=\"color: #008080; text-decoration-color: #008080\">                 </span> ├── 10210 - 1.32 s (58.81%) - 890.65 kiB/148.62 MiB R/W (0.02/3.13%) - 80,990 ops (3.13%)     │\n",
       "│ <span style=\"color: #008080; text-decoration-color: #008080\">                 </span> ├── 24484 - 1.32 s (58.65%) - 891.44 kiB/148.62 MiB R/W (0.02/3.13%) - 81,164 ops (3.14%)     │\n",
       "│ <span style=\"color: #008080; text-decoration-color: #008080\">                 </span> └── 31113 - 0.60 s (26.59%) - 891.53 kiB/144.52 MiB R/W (0.02/3.04%) - 79,949 ops (3.09%)     │\n",
       "│ <span style=\"color: #008080; text-decoration-color: #008080\"> Apps            </span> 1 app                                                                                         │\n",
       "│ <span style=\"color: #008080; text-decoration-color: #008080\"> Processes/Ranks </span> 1,024 processes                                                                               │\n",
       "│ <span style=\"color: #008080; text-decoration-color: #008080\"> Files           </span> 32,369 files                                                                                  │\n",
       "│ <span style=\"color: #008080; text-decoration-color: #008080\">                 </span> ├── Shared: 11,706 files (36.16%)                                                             │\n",
       "│ <span style=\"color: #008080; text-decoration-color: #008080\">                 </span> └── FPP: 20,663 files (63.84%)                                                                │\n",
       "│ <span style=\"color: #008080; text-decoration-color: #008080\"> Time Periods    </span> 141 time periods (Time Granularity: 1,000,000.0)                                              │\n",
       "│ <span style=\"color: #008080; text-decoration-color: #008080\"> Access Pattern  </span> <span style=\"font-weight: bold\">Sequential</span>: 501,618 ops (100.00%) - <span style=\"font-weight: bold\">Random</span>: 0 ops (0.00%)                                     │\n",
       "│                                                                                                                 │\n",
       "╰─ <span style=\"font-weight: bold\">R</span>: Read - <span style=\"font-weight: bold\">W</span>: Write - <span style=\"font-weight: bold\">M</span>: Metadata  ─────────────────────────────────────────────────────────────────────────────╯\n",
       "                                                                                                                   \n",
       "╭───────────────────────────────────── 360 I/O Bottlenecks with 1072 Reasons ─────────────────────────────────────╮\n",
       "│                                                                                                                 │\n",
       "│  Time View (2 bottlenecks with 6 reasons)                                                                       │\n",
       "│  ├── <span style=\"color: #d70000; text-decoration-color: #d70000\">[CR1] 1 process accesses 2 files within 1 time period (238) across 15 I/O operations and has an I/O time </span>  │\n",
       "│  │   <span style=\"color: #d70000; text-decoration-color: #d70000\">of 0.01 seconds which is 0.26% of overall I/O time of the workload.</span>                                        │\n",
       "│  │   ├── <span style=\"color: #d70000; text-decoration-color: #d70000\">[Excessive metadata access] Overall 66.22% (0.00 seconds) of I/O time is spent on metadata access, </span>    │\n",
       "│  │   │   <span style=\"color: #d70000; text-decoration-color: #d70000\">specifically 21.84% (0.00 seconds) on the 'open' operation.</span>                                            │\n",
       "│  │   ├── <span style=\"color: #d70000; text-decoration-color: #d70000\">[Operation imbalance] 'write' operations are 33.33% (5 operations) of total I/O operations.</span>            │\n",
       "│  │   └── <span style=\"color: #d70000; text-decoration-color: #d70000\">[Size imbalance] 'write' size is 100.00% (11.45 kiB) of total I/O size.</span>                                │\n",
       "│  └── (1 more)                                                                                                   │\n",
       "│  File View (324 bottlenecks with 972 reasons)                                                                   │\n",
       "│  ├── <span style=\"color: #d70000; text-decoration-color: #d70000\">[CR3] 1 process accesses 1 file (14346) within 1 time period across 5 I/O operations and has an I/O time </span>  │\n",
       "│  │   <span style=\"color: #d70000; text-decoration-color: #d70000\">of 0.09 seconds which is 3.81% of overall I/O time of the workload.</span>                                        │\n",
       "│  │   ├── <span style=\"color: #d70000; text-decoration-color: #d70000\">[Excessive metadata access] Overall 99.61% (0.09 seconds) of I/O time is spent on metadata access, </span>    │\n",
       "│  │   │   <span style=\"color: #d70000; text-decoration-color: #d70000\">specifically 53.67% (0.05 seconds) on the 'open' operation.</span>                                            │\n",
       "│  │   ├── <span style=\"color: #d70000; text-decoration-color: #d70000\">[Operation imbalance] 'write' operations are 20.00% (1 operations) of total I/O operations.</span>            │\n",
       "│  │   └── <span style=\"color: #d70000; text-decoration-color: #d70000\">[Size imbalance] 'write' size is 100.00% (2.34 kiB) of total I/O size.</span>                                 │\n",
       "│  └── (323 more)                                                                                                 │\n",
       "│  Process View (11 bottlenecks with 22 reasons)                                                                  │\n",
       "│  ├── <span style=\"color: #d78700; text-decoration-color: #d78700\">[HI327] 1 process (app#13788#763896#763896) accesses 598 files within 23 time periods across 2,505 I/O </span>    │\n",
       "│  │   <span style=\"color: #d78700; text-decoration-color: #d78700\">operations and has an I/O time of 2.25 seconds which is 99.99% of overall I/O time of the workload.</span>        │\n",
       "│  │   ├── <span style=\"color: #d78700; text-decoration-color: #d78700\">[Excessive metadata access] Overall 95.65% (2.15 seconds) of I/O time is spent on metadata access, </span>    │\n",
       "│  │   │   <span style=\"color: #d78700; text-decoration-color: #d78700\">specifically 53.22% (1.20 seconds) on the 'open' operation.</span>                                            │\n",
       "│  │   └── <span style=\"color: #d78700; text-decoration-color: #d78700\">[Size imbalance] 'write' size is 99.41% (4.54 MiB) of total I/O size.</span>                                  │\n",
       "│  └── (10 more)                                                                                                  │\n",
       "│  Time&gt;File View (1 bottleneck with 4 reasons)                                                                   │\n",
       "│  └── <span style=\"color: #d7d700; text-decoration-color: #d7d700\">[MD338] 1 process accesses 1 file (15919) within 2 time periods across 8 I/O operations and has an I/O </span>    │\n",
       "│      <span style=\"color: #d7d700; text-decoration-color: #d7d700\">time of 0.00 seconds which is 0.17% of overall I/O time of the workload.</span>                                   │\n",
       "│      ├── <span style=\"color: #d7d700; text-decoration-color: #d7d700\">[Operation imbalance] 'write' operations are 12.50% (1 operations) of total I/O operations.</span>            │\n",
       "│      ├── <span style=\"color: #d7d700; text-decoration-color: #d7d700\">[Size imbalance] 'write' size is 100.00% (568.0 B) of total I/O size.</span>                                  │\n",
       "│      ├── <span style=\"color: #d7d700; text-decoration-color: #d7d700\">[Small writes] 'write' time is 50.16% (0.00 seconds) of I/O time.</span>                                      │\n",
       "│      └── <span style=\"color: #d7d700; text-decoration-color: #d7d700\">[Small writes] Average 'write's are 71.0 B, which is smaller than 1.00 MiB.</span>                            │\n",
       "│  Time&gt;Process View (1 bottleneck with 3 reasons)                                                                │\n",
       "│  └── <span style=\"color: #87af00; text-decoration-color: #87af00\">[LO339] 1 process (app#31683#2636064#2636064) accesses 2 files within 2 time periods across 26 I/O </span>        │\n",
       "│      <span style=\"color: #87af00; text-decoration-color: #87af00\">operations and has an I/O time of 0.01 seconds which is 0.43% of overall I/O time of the workload.</span>         │\n",
       "│      ├── <span style=\"color: #87af00; text-decoration-color: #87af00\">[Excessive metadata access] Overall 78.65% (0.01 seconds) of I/O time is spent on metadata access, </span>    │\n",
       "│      │   <span style=\"color: #87af00; text-decoration-color: #87af00\">specifically 29.90% (0.00 seconds) on the 'open' operation.</span>                                            │\n",
       "│      ├── <span style=\"color: #87af00; text-decoration-color: #87af00\">[Operation imbalance] 'write' operations are 34.62% (9 operations) of total I/O operations.</span>            │\n",
       "│      └── <span style=\"color: #87af00; text-decoration-color: #87af00\">[Size imbalance] 'write' size is 100.00% (22.34 kiB) of total I/O size.</span>                                │\n",
       "│  File&gt;Time View (1 bottleneck with 3 reasons)                                                                   │\n",
       "│  └── <span style=\"color: #d7d700; text-decoration-color: #d7d700\">[MD340] 24 processes access 28 files within 1 time period (136) across 140 I/O operations and have an I/O</span>  │\n",
       "│      <span style=\"color: #d7d700; text-decoration-color: #d7d700\">time of 0.13 seconds which is 5.69% of overall I/O time of the workload.</span>                                   │\n",
       "│      ├── <span style=\"color: #d7d700; text-decoration-color: #d7d700\">[Excessive metadata access] Overall 99.39% (0.13 seconds) of I/O time is spent on metadata access, </span>    │\n",
       "│      │   <span style=\"color: #d7d700; text-decoration-color: #d7d700\">specifically 63.74% (0.08 seconds) on the 'open' operation.</span>                                            │\n",
       "│      ├── <span style=\"color: #d7d700; text-decoration-color: #d7d700\">[Operation imbalance] 'write' operations are 20.00% (28 operations) of total I/O operations.</span>           │\n",
       "│      └── <span style=\"color: #d7d700; text-decoration-color: #d7d700\">[Size imbalance] 'write' size is 100.00% (67.50 kiB) of total I/O size.</span>                                │\n",
       "│  File&gt;Process View (2 bottlenecks with 6 reasons)                                                               │\n",
       "│  ├── <span style=\"color: #87af00; text-decoration-color: #87af00\">[LO341] 1 process (app#13788#763928#763928) accesses 5 files within 4 time periods across 25 I/O </span>          │\n",
       "│  │   <span style=\"color: #87af00; text-decoration-color: #87af00\">operations and has an I/O time of 0.32 seconds which is 14.18% of overall I/O time of the workload.</span>        │\n",
       "│  │   ├── <span style=\"color: #87af00; text-decoration-color: #87af00\">[Excessive metadata access] Overall 99.50% (0.32 seconds) of I/O time is spent on metadata access, </span>    │\n",
       "│  │   │   <span style=\"color: #87af00; text-decoration-color: #87af00\">specifically 49.47% (0.16 seconds) on the 'open' operation.</span>                                            │\n",
       "│  │   ├── <span style=\"color: #87af00; text-decoration-color: #87af00\">[Operation imbalance] 'write' operations are 20.00% (5 operations) of total I/O operations.</span>            │\n",
       "│  │   └── <span style=\"color: #87af00; text-decoration-color: #87af00\">[Size imbalance] 'write' size is 100.00% (9.38 kiB) of total I/O size.</span>                                 │\n",
       "│  └── (1 more)                                                                                                   │\n",
       "│  Process&gt;Time View (1 bottleneck with 3 reasons)                                                                │\n",
       "│  └── <span style=\"color: #d70000; text-decoration-color: #d70000\">[CR343] 11 processes access 44 files within 1 time period (248) across 319 I/O operations and have an I/O</span>  │\n",
       "│      <span style=\"color: #d70000; text-decoration-color: #d70000\">time of 0.22 seconds which is 9.69% of overall I/O time of the workload.</span>                                   │\n",
       "│      ├── <span style=\"color: #d70000; text-decoration-color: #d70000\">[Excessive metadata access] Overall 98.32% (0.21 seconds) of I/O time is spent on metadata access, </span>    │\n",
       "│      │   <span style=\"color: #d70000; text-decoration-color: #d70000\">specifically 75.79% (0.17 seconds) on the 'open' operation.</span>                                            │\n",
       "│      ├── <span style=\"color: #d70000; text-decoration-color: #d70000\">[Operation imbalance] 'write' operations are 44.83% (143 operations) of total I/O operations.</span>          │\n",
       "│      └── <span style=\"color: #d70000; text-decoration-color: #d70000\">[Size imbalance] 'write' size is 100.00% (519.41 kiB) of total I/O size.</span>                               │\n",
       "│  Process&gt;File View (11 bottlenecks with 33 reasons)                                                             │\n",
       "│  ├── <span style=\"color: #d70000; text-decoration-color: #d70000\">[CR344] 1 process accesses 1 file (14346) within 1 time period across 5 I/O operations and has an I/O </span>     │\n",
       "│  │   <span style=\"color: #d70000; text-decoration-color: #d70000\">time of 0.09 seconds which is 3.81% of overall I/O time of the workload.</span>                                   │\n",
       "│  │   ├── <span style=\"color: #d70000; text-decoration-color: #d70000\">[Excessive metadata access] Overall 99.61% (0.09 seconds) of I/O time is spent on metadata access, </span>    │\n",
       "│  │   │   <span style=\"color: #d70000; text-decoration-color: #d70000\">specifically 53.67% (0.05 seconds) on the 'open' operation.</span>                                            │\n",
       "│  │   ├── <span style=\"color: #d70000; text-decoration-color: #d70000\">[Operation imbalance] 'write' operations are 20.00% (1 operations) of total I/O operations.</span>            │\n",
       "│  │   └── <span style=\"color: #d70000; text-decoration-color: #d70000\">[Size imbalance] 'write' size is 100.00% (2.34 kiB) of total I/O size.</span>                                 │\n",
       "│  └── (10 more)                                                                                                  │\n",
       "│  Time&gt;File&gt;Process View (1 bottleneck with 4 reasons)                                                           │\n",
       "│  └── <span style=\"color: #87af00; text-decoration-color: #87af00\">[LO355] 1 process (app#31683#2636064#2636064) accesses 1 file within 2 time periods across 8 I/O </span>          │\n",
       "│      <span style=\"color: #87af00; text-decoration-color: #87af00\">operations and has an I/O time of 0.00 seconds which is 0.17% of overall I/O time of the workload.</span>         │\n",
       "│      ├── <span style=\"color: #87af00; text-decoration-color: #87af00\">[Operation imbalance] 'write' operations are 12.50% (1 operations) of total I/O operations.</span>            │\n",
       "│      ├── <span style=\"color: #87af00; text-decoration-color: #87af00\">[Size imbalance] 'write' size is 100.00% (568.0 B) of total I/O size.</span>                                  │\n",
       "│      ├── <span style=\"color: #87af00; text-decoration-color: #87af00\">[Small writes] 'write' time is 50.16% (0.00 seconds) of I/O time.</span>                                      │\n",
       "│      └── <span style=\"color: #87af00; text-decoration-color: #87af00\">[Small writes] Average 'write's are 71.0 B, which is smaller than 1.00 MiB.</span>                            │\n",
       "│  Time&gt;Process&gt;File View (1 bottleneck with 4 reasons)                                                           │\n",
       "│  └── <span style=\"color: #d7d700; text-decoration-color: #d7d700\">[MD356] 1 process accesses 1 file (15919) within 2 time periods across 8 I/O operations and has an I/O </span>    │\n",
       "│      <span style=\"color: #d7d700; text-decoration-color: #d7d700\">time of 0.00 seconds which is 0.17% of overall I/O time of the workload.</span>                                   │\n",
       "│      ├── <span style=\"color: #d7d700; text-decoration-color: #d7d700\">[Operation imbalance] 'write' operations are 12.50% (1 operations) of total I/O operations.</span>            │\n",
       "│      ├── <span style=\"color: #d7d700; text-decoration-color: #d7d700\">[Size imbalance] 'write' size is 100.00% (568.0 B) of total I/O size.</span>                                  │\n",
       "│      ├── <span style=\"color: #d7d700; text-decoration-color: #d7d700\">[Small writes] 'write' time is 50.16% (0.00 seconds) of I/O time.</span>                                      │\n",
       "│      └── <span style=\"color: #d7d700; text-decoration-color: #d7d700\">[Small writes] Average 'write's are 71.0 B, which is smaller than 1.00 MiB.</span>                            │\n",
       "│  File&gt;Time&gt;Process View (1 bottleneck with 3 reasons)                                                           │\n",
       "│  └── <span style=\"color: #d7d700; text-decoration-color: #d7d700\">[MD357] 1 process (app#13788#763869#763869) accesses 1 file within 1 time period across 5 I/O operations </span>  │\n",
       "│      <span style=\"color: #d7d700; text-decoration-color: #d7d700\">and has an I/O time of 0.08 seconds which is 3.41% of overall I/O time of the workload.</span>                    │\n",
       "│      ├── <span style=\"color: #d7d700; text-decoration-color: #d7d700\">[Excessive metadata access] Overall 99.54% (0.08 seconds) of I/O time is spent on metadata access, </span>    │\n",
       "│      │   <span style=\"color: #d7d700; text-decoration-color: #d7d700\">specifically 46.97% (0.04 seconds) on the 'open' operation.</span>                                            │\n",
       "│      ├── <span style=\"color: #d7d700; text-decoration-color: #d7d700\">[Operation imbalance] 'write' operations are 20.00% (1 operations) of total I/O operations.</span>            │\n",
       "│      └── <span style=\"color: #d7d700; text-decoration-color: #d7d700\">[Size imbalance] 'write' size is 100.00% (2.34 kiB) of total I/O size.</span>                                 │\n",
       "│  File&gt;Process&gt;Time View (1 bottleneck with 3 reasons)                                                           │\n",
       "│  └── <span style=\"color: #d7d700; text-decoration-color: #d7d700\">[MD358] 1 process accesses 2 files within 1 time period (136) across 10 I/O operations and has an I/O </span>     │\n",
       "│      <span style=\"color: #d7d700; text-decoration-color: #d7d700\">time of 0.12 seconds which is 5.52% of overall I/O time of the workload.</span>                                   │\n",
       "│      ├── <span style=\"color: #d7d700; text-decoration-color: #d7d700\">[Excessive metadata access] Overall 99.45% (0.12 seconds) of I/O time is spent on metadata access, </span>    │\n",
       "│      │   <span style=\"color: #d7d700; text-decoration-color: #d7d700\">specifically 57.40% (0.07 seconds) on the 'open' operation.</span>                                            │\n",
       "│      ├── <span style=\"color: #d7d700; text-decoration-color: #d7d700\">[Operation imbalance] 'write' operations are 20.00% (2 operations) of total I/O operations.</span>            │\n",
       "│      └── <span style=\"color: #d7d700; text-decoration-color: #d7d700\">[Size imbalance] 'write' size is 100.00% (4.84 kiB) of total I/O size.</span>                                 │\n",
       "│  Process&gt;Time&gt;File View (1 bottleneck with 3 reasons)                                                           │\n",
       "│  └── <span style=\"color: #d78700; text-decoration-color: #d78700\">[HI359] 1 process accesses 1 file (44025) within 1 time period across 5 I/O operations and has an I/O </span>     │\n",
       "│      <span style=\"color: #d78700; text-decoration-color: #d78700\">time of 0.08 seconds which is 3.59% of overall I/O time of the workload.</span>                                   │\n",
       "│      ├── <span style=\"color: #d78700; text-decoration-color: #d78700\">[Excessive metadata access] Overall 99.47% (0.08 seconds) of I/O time is spent on metadata access, </span>    │\n",
       "│      │   <span style=\"color: #d78700; text-decoration-color: #d78700\">specifically 36.74% (0.03 seconds) on the 'open' operation.</span>                                            │\n",
       "│      ├── <span style=\"color: #d78700; text-decoration-color: #d78700\">[Operation imbalance] 'write' operations are 20.00% (1 operations) of total I/O operations.</span>            │\n",
       "│      └── <span style=\"color: #d78700; text-decoration-color: #d78700\">[Size imbalance] 'write' size is 100.00% (2.34 kiB) of total I/O size.</span>                                 │\n",
       "│  Process&gt;File&gt;Time View (1 bottleneck with 3 reasons)                                                           │\n",
       "│  └── <span style=\"color: #d78700; text-decoration-color: #d78700\">[HI360] 1 process accesses 1 file within 1 time period (248) across 5 I/O operations and has an I/O time </span>  │\n",
       "│      <span style=\"color: #d78700; text-decoration-color: #d78700\">of 0.08 seconds which is 3.59% of overall I/O time of the workload.</span>                                        │\n",
       "│      ├── <span style=\"color: #d78700; text-decoration-color: #d78700\">[Excessive metadata access] Overall 99.47% (0.08 seconds) of I/O time is spent on metadata access, </span>    │\n",
       "│      │   <span style=\"color: #d78700; text-decoration-color: #d78700\">specifically 36.74% (0.03 seconds) on the 'open' operation.</span>                                            │\n",
       "│      ├── <span style=\"color: #d78700; text-decoration-color: #d78700\">[Operation imbalance] 'write' operations are 20.00% (1 operations) of total I/O operations.</span>            │\n",
       "│      └── <span style=\"color: #d78700; text-decoration-color: #d78700\">[Size imbalance] 'write' size is 100.00% (2.34 kiB) of total I/O size.</span>                                 │\n",
       "│                                                                                                                 │\n",
       "╰─────────────────────────────────────────────────────────────────────────────────────────────────────────────────╯\n",
       "</pre>\n"
      ],
      "text/plain": [
       "╭────────────────────────────────────────────── I/O Characteristics ──────────────────────────────────────────────╮\n",
       "│                                                                                                                 │\n",
       "│ \u001b[36m \u001b[0m\u001b[36mRuntime        \u001b[0m\u001b[36m \u001b[0m 280.35 seconds                                                                                │\n",
       "│ \u001b[36m \u001b[0m\u001b[36mI/O Time       \u001b[0m\u001b[36m \u001b[0m 2.25 seconds                                                                                  │\n",
       "│ \u001b[36m                 \u001b[0m ├── Read - 0.03 seconds (1.48%)                                                               │\n",
       "│ \u001b[36m                 \u001b[0m ├── Write - 0.08 seconds (3.56%)                                                              │\n",
       "│ \u001b[36m                 \u001b[0m └── Metadata - 2.15 seconds (95.74%)                                                          │\n",
       "│ \u001b[36m \u001b[0m\u001b[36mI/O Operations \u001b[0m\u001b[36m \u001b[0m 2,587,987 ops                                                                                 │\n",
       "│ \u001b[36m                 \u001b[0m ├── Read - 256,001 ops (9.89%)                                                                │\n",
       "│ \u001b[36m                 \u001b[0m ├── Write - 245,617 ops (9.49%)                                                               │\n",
       "│ \u001b[36m                 \u001b[0m └── Metadata - 2,077,153 ops (80.26%)                                                         │\n",
       "│ \u001b[36m \u001b[0m\u001b[36mI/O Size       \u001b[0m\u001b[36m \u001b[0m 4.64 GiB                                                                                      │\n",
       "│ \u001b[36m                 \u001b[0m ├── Read - 27.84 MiB (0.59%)                                                                  │\n",
       "│ \u001b[36m                 \u001b[0m └── Write - 4.61 GiB (99.41%)                                                                 │\n",
       "│ \u001b[36m \u001b[0m\u001b[36mRead Requests  \u001b[0m\u001b[36m \u001b[0m 4 kiB-16 kiB - 256,001 ops                                                                    │\n",
       "│ \u001b[36m                 \u001b[0m ├── <4 kiB - 254,976 ops (99.60%)                                                             │\n",
       "│ \u001b[36m                 \u001b[0m └── 4-16 kiB - 1,025 ops (0.40%)                                                              │\n",
       "│ \u001b[36m \u001b[0m\u001b[36mWrite Requests \u001b[0m\u001b[36m \u001b[0m 4 kiB-64 kiB - 245,617 ops                                                                    │\n",
       "│ \u001b[36m                 \u001b[0m ├── <4 kiB - 133,273 ops (54.26%)                                                             │\n",
       "│ \u001b[36m                 \u001b[0m ├── 4-16 kiB - 43,736 ops (17.81%)                                                            │\n",
       "│ \u001b[36m                 \u001b[0m └── 16-64 kiB - 68,608 ops (27.93%)                                                           │\n",
       "│ \u001b[36m \u001b[0m\u001b[36mNodes          \u001b[0m\u001b[36m \u001b[0m 32 nodes                                                                                      │\n",
       "│ \u001b[36m                 \u001b[0m ├── 13788 - 2.25 s (100.00%) - 887.05 kiB/144.52 MiB R/W (0.02/3.04%) - 80,206 ops (3.10%)    │\n",
       "│ \u001b[36m                 \u001b[0m ├── 31683 - 1.89 s (84.24%) - 897.63 kiB/150.23 MiB R/W (0.02/3.16%) - 83,211 ops (3.22%)     │\n",
       "│ \u001b[36m                 \u001b[0m ├── 7375 - 1.40 s (62.31%) - 891.13 kiB/148.62 MiB R/W (0.02/3.13%) - 81,052 ops (3.13%)      │\n",
       "│ \u001b[36m                 \u001b[0m ├── 27953 - 1.40 s (62.21%) - 893.22 kiB/148.62 MiB R/W (0.02/3.13%) - 81,007 ops (3.13%)     │\n",
       "│ \u001b[36m                 \u001b[0m ├── 475 - 1.40 s (62.12%) - 891.22 kiB/144.52 MiB R/W (0.02/3.04%) - 80,023 ops (3.09%)       │\n",
       "│ \u001b[36m                 \u001b[0m ├── 46749 - 1.39 s (61.76%) - 888.74 kiB/148.62 MiB R/W (0.02/3.13%) - 81,141 ops (3.14%)     │\n",
       "│ \u001b[36m                 \u001b[0m ├── 7923 - 1.39 s (61.60%) - 891.05 kiB/148.62 MiB R/W (0.02/3.13%) - 81,314 ops (3.14%)      │\n",
       "│ \u001b[36m                 \u001b[0m ├── 42785 - 1.38 s (61.52%) - 890.97 kiB/148.62 MiB R/W (0.02/3.13%) - 81,081 ops (3.13%)     │\n",
       "│ \u001b[36m                 \u001b[0m ├── 36834 - 1.38 s (61.32%) - 891.84 kiB/148.62 MiB R/W (0.02/3.13%) - 81,068 ops (3.13%)     │\n",
       "│ \u001b[36m                 \u001b[0m ├── 54829 - 1.38 s (61.22%) - 891.56 kiB/144.52 MiB R/W (0.02/3.04%) - 80,125 ops (3.10%)     │\n",
       "│ \u001b[36m                 \u001b[0m ├── 19921 - 1.38 s (61.14%) - 889.03 kiB/148.62 MiB R/W (0.02/3.13%) - 80,948 ops (3.13%)     │\n",
       "│ \u001b[36m                 \u001b[0m ├── 27579 - 1.37 s (60.97%) - 891.11 kiB/148.62 MiB R/W (0.02/3.13%) - 81,062 ops (3.13%)     │\n",
       "│ \u001b[36m                 \u001b[0m ├── 13118 - 1.37 s (60.93%) - 890.48 kiB/144.52 MiB R/W (0.02/3.04%) - 79,970 ops (3.09%)     │\n",
       "│ \u001b[36m                 \u001b[0m ├── 33121 - 1.37 s (60.88%) - 890.68 kiB/144.52 MiB R/W (0.02/3.04%) - 80,011 ops (3.09%)     │\n",
       "│ \u001b[36m                 \u001b[0m ├── 50209 - 1.37 s (60.84%) - 890.42 kiB/148.62 MiB R/W (0.02/3.13%) - 81,003 ops (3.13%)     │\n",
       "│ \u001b[36m                 \u001b[0m ├── 25074 - 1.37 s (60.79%) - 891.21 kiB/148.62 MiB R/W (0.02/3.13%) - 80,948 ops (3.13%)     │\n",
       "│ \u001b[36m                 \u001b[0m ├── 50452 - 1.37 s (60.79%) - 890.27 kiB/148.62 MiB R/W (0.02/3.13%) - 81,274 ops (3.14%)     │\n",
       "│ \u001b[36m                 \u001b[0m ├── 40970 - 1.37 s (60.72%) - 890.71 kiB/148.62 MiB R/W (0.02/3.13%) - 81,031 ops (3.13%)     │\n",
       "│ \u001b[36m                 \u001b[0m ├── 15659 - 1.37 s (60.71%) - 891.07 kiB/144.52 MiB R/W (0.02/3.04%) - 79,972 ops (3.09%)     │\n",
       "│ \u001b[36m                 \u001b[0m ├── 4798 - 1.36 s (60.55%) - 891.05 kiB/148.62 MiB R/W (0.02/3.13%) - 80,956 ops (3.13%)      │\n",
       "│ \u001b[36m                 \u001b[0m ├── 27280 - 1.36 s (60.46%) - 890.46 kiB/148.62 MiB R/W (0.02/3.13%) - 81,002 ops (3.13%)     │\n",
       "│ \u001b[36m                 \u001b[0m ├── 42374 - 1.36 s (60.43%) - 891.58 kiB/148.62 MiB R/W (0.02/3.13%) - 80,972 ops (3.13%)     │\n",
       "│ \u001b[36m                 \u001b[0m ├── 38041 - 1.35 s (60.07%) - 890.13 kiB/148.62 MiB R/W (0.02/3.13%) - 81,001 ops (3.13%)     │\n",
       "│ \u001b[36m                 \u001b[0m ├── 37889 - 1.35 s (60.02%) - 890.37 kiB/148.62 MiB R/W (0.02/3.13%) - 81,104 ops (3.13%)     │\n",
       "│ \u001b[36m                 \u001b[0m ├── 60716 - 1.35 s (59.98%) - 890.22 kiB/148.62 MiB R/W (0.02/3.13%) - 80,983 ops (3.13%)     │\n",
       "│ \u001b[36m                 \u001b[0m ├── 64729 - 1.35 s (59.88%) - 890.70 kiB/148.62 MiB R/W (0.02/3.13%) - 81,364 ops (3.14%)     │\n",
       "│ \u001b[36m                 \u001b[0m ├── 25361 - 1.34 s (59.38%) - 890.90 kiB/148.62 MiB R/W (0.02/3.13%) - 80,972 ops (3.13%)     │\n",
       "│ \u001b[36m                 \u001b[0m ├── 25567 - 1.33 s (59.11%) - 890.68 kiB/144.52 MiB R/W (0.02/3.04%) - 80,029 ops (3.09%)     │\n",
       "│ \u001b[36m                 \u001b[0m ├── 36309 - 1.33 s (59.00%) - 890.75 kiB/148.62 MiB R/W (0.02/3.13%) - 81,054 ops (3.13%)     │\n",
       "│ \u001b[36m                 \u001b[0m ├── 10210 - 1.32 s (58.81%) - 890.65 kiB/148.62 MiB R/W (0.02/3.13%) - 80,990 ops (3.13%)     │\n",
       "│ \u001b[36m                 \u001b[0m ├── 24484 - 1.32 s (58.65%) - 891.44 kiB/148.62 MiB R/W (0.02/3.13%) - 81,164 ops (3.14%)     │\n",
       "│ \u001b[36m                 \u001b[0m └── 31113 - 0.60 s (26.59%) - 891.53 kiB/144.52 MiB R/W (0.02/3.04%) - 79,949 ops (3.09%)     │\n",
       "│ \u001b[36m \u001b[0m\u001b[36mApps           \u001b[0m\u001b[36m \u001b[0m 1 app                                                                                         │\n",
       "│ \u001b[36m \u001b[0m\u001b[36mProcesses/Ranks\u001b[0m\u001b[36m \u001b[0m 1,024 processes                                                                               │\n",
       "│ \u001b[36m \u001b[0m\u001b[36mFiles          \u001b[0m\u001b[36m \u001b[0m 32,369 files                                                                                  │\n",
       "│ \u001b[36m                 \u001b[0m ├── Shared: 11,706 files (36.16%)                                                             │\n",
       "│ \u001b[36m                 \u001b[0m └── FPP: 20,663 files (63.84%)                                                                │\n",
       "│ \u001b[36m \u001b[0m\u001b[36mTime Periods   \u001b[0m\u001b[36m \u001b[0m 141 time periods (Time Granularity: 1,000,000.0)                                              │\n",
       "│ \u001b[36m \u001b[0m\u001b[36mAccess Pattern \u001b[0m\u001b[36m \u001b[0m \u001b[1mSequential\u001b[0m: 501,618 ops (100.00%) - \u001b[1mRandom\u001b[0m: 0 ops (0.00%)                                     │\n",
       "│                                                                                                                 │\n",
       "╰─ \u001b[1mR\u001b[0m: Read - \u001b[1mW\u001b[0m: Write - \u001b[1mM\u001b[0m: Metadata  ─────────────────────────────────────────────────────────────────────────────╯\n",
       "                                                                                                                   \n",
       "╭───────────────────────────────────── 360 I/O Bottlenecks with 1072 Reasons ─────────────────────────────────────╮\n",
       "│                                                                                                                 │\n",
       "│  Time View (2 bottlenecks with 6 reasons)                                                                       │\n",
       "│  ├── \u001b[38;5;160m[CR1] 1 process accesses 2 files within 1 time period (238) across 15 I/O operations and has an I/O time \u001b[0m  │\n",
       "│  │   \u001b[38;5;160mof 0.01 seconds which is 0.26% of overall I/O time of the workload.\u001b[0m                                        │\n",
       "│  │   ├── \u001b[38;5;160m[Excessive metadata access] Overall 66.22% (0.00 seconds) of I/O time is spent on metadata access, \u001b[0m    │\n",
       "│  │   │   \u001b[38;5;160mspecifically 21.84% (0.00 seconds) on the 'open' operation.\u001b[0m                                            │\n",
       "│  │   ├── \u001b[38;5;160m[Operation imbalance] 'write' operations are 33.33% (5 operations) of total I/O operations.\u001b[0m            │\n",
       "│  │   └── \u001b[38;5;160m[Size imbalance] 'write' size is 100.00% (11.45 kiB) of total I/O size.\u001b[0m                                │\n",
       "│  └── (1 more)                                                                                                   │\n",
       "│  File View (324 bottlenecks with 972 reasons)                                                                   │\n",
       "│  ├── \u001b[38;5;160m[CR3] 1 process accesses 1 file (14346) within 1 time period across 5 I/O operations and has an I/O time \u001b[0m  │\n",
       "│  │   \u001b[38;5;160mof 0.09 seconds which is 3.81% of overall I/O time of the workload.\u001b[0m                                        │\n",
       "│  │   ├── \u001b[38;5;160m[Excessive metadata access] Overall 99.61% (0.09 seconds) of I/O time is spent on metadata access, \u001b[0m    │\n",
       "│  │   │   \u001b[38;5;160mspecifically 53.67% (0.05 seconds) on the 'open' operation.\u001b[0m                                            │\n",
       "│  │   ├── \u001b[38;5;160m[Operation imbalance] 'write' operations are 20.00% (1 operations) of total I/O operations.\u001b[0m            │\n",
       "│  │   └── \u001b[38;5;160m[Size imbalance] 'write' size is 100.00% (2.34 kiB) of total I/O size.\u001b[0m                                 │\n",
       "│  └── (323 more)                                                                                                 │\n",
       "│  Process View (11 bottlenecks with 22 reasons)                                                                  │\n",
       "│  ├── \u001b[38;5;172m[HI327] 1 process (app#13788#763896#763896) accesses 598 files within 23 time periods across 2,505 I/O \u001b[0m    │\n",
       "│  │   \u001b[38;5;172moperations and has an I/O time of 2.25 seconds which is 99.99% of overall I/O time of the workload.\u001b[0m        │\n",
       "│  │   ├── \u001b[38;5;172m[Excessive metadata access] Overall 95.65% (2.15 seconds) of I/O time is spent on metadata access, \u001b[0m    │\n",
       "│  │   │   \u001b[38;5;172mspecifically 53.22% (1.20 seconds) on the 'open' operation.\u001b[0m                                            │\n",
       "│  │   └── \u001b[38;5;172m[Size imbalance] 'write' size is 99.41% (4.54 MiB) of total I/O size.\u001b[0m                                  │\n",
       "│  └── (10 more)                                                                                                  │\n",
       "│  Time>File View (1 bottleneck with 4 reasons)                                                                   │\n",
       "│  └── \u001b[38;5;184m[MD338] 1 process accesses 1 file (15919) within 2 time periods across 8 I/O operations and has an I/O \u001b[0m    │\n",
       "│      \u001b[38;5;184mtime of 0.00 seconds which is 0.17% of overall I/O time of the workload.\u001b[0m                                   │\n",
       "│      ├── \u001b[38;5;184m[Operation imbalance] 'write' operations are 12.50% (1 operations) of total I/O operations.\u001b[0m            │\n",
       "│      ├── \u001b[38;5;184m[Size imbalance] 'write' size is 100.00% (568.0 B) of total I/O size.\u001b[0m                                  │\n",
       "│      ├── \u001b[38;5;184m[Small writes] 'write' time is 50.16% (0.00 seconds) of I/O time.\u001b[0m                                      │\n",
       "│      └── \u001b[38;5;184m[Small writes] Average 'write's are 71.0 B, which is smaller than 1.00 MiB.\u001b[0m                            │\n",
       "│  Time>Process View (1 bottleneck with 3 reasons)                                                                │\n",
       "│  └── \u001b[38;5;106m[LO339] 1 process (app#31683#2636064#2636064) accesses 2 files within 2 time periods across 26 I/O \u001b[0m        │\n",
       "│      \u001b[38;5;106moperations and has an I/O time of 0.01 seconds which is 0.43% of overall I/O time of the workload.\u001b[0m         │\n",
       "│      ├── \u001b[38;5;106m[Excessive metadata access] Overall 78.65% (0.01 seconds) of I/O time is spent on metadata access, \u001b[0m    │\n",
       "│      │   \u001b[38;5;106mspecifically 29.90% (0.00 seconds) on the 'open' operation.\u001b[0m                                            │\n",
       "│      ├── \u001b[38;5;106m[Operation imbalance] 'write' operations are 34.62% (9 operations) of total I/O operations.\u001b[0m            │\n",
       "│      └── \u001b[38;5;106m[Size imbalance] 'write' size is 100.00% (22.34 kiB) of total I/O size.\u001b[0m                                │\n",
       "│  File>Time View (1 bottleneck with 3 reasons)                                                                   │\n",
       "│  └── \u001b[38;5;184m[MD340] 24 processes access 28 files within 1 time period (136) across 140 I/O operations and have an I/O\u001b[0m  │\n",
       "│      \u001b[38;5;184mtime of 0.13 seconds which is 5.69% of overall I/O time of the workload.\u001b[0m                                   │\n",
       "│      ├── \u001b[38;5;184m[Excessive metadata access] Overall 99.39% (0.13 seconds) of I/O time is spent on metadata access, \u001b[0m    │\n",
       "│      │   \u001b[38;5;184mspecifically 63.74% (0.08 seconds) on the 'open' operation.\u001b[0m                                            │\n",
       "│      ├── \u001b[38;5;184m[Operation imbalance] 'write' operations are 20.00% (28 operations) of total I/O operations.\u001b[0m           │\n",
       "│      └── \u001b[38;5;184m[Size imbalance] 'write' size is 100.00% (67.50 kiB) of total I/O size.\u001b[0m                                │\n",
       "│  File>Process View (2 bottlenecks with 6 reasons)                                                               │\n",
       "│  ├── \u001b[38;5;106m[LO341] 1 process (app#13788#763928#763928) accesses 5 files within 4 time periods across 25 I/O \u001b[0m          │\n",
       "│  │   \u001b[38;5;106moperations and has an I/O time of 0.32 seconds which is 14.18% of overall I/O time of the workload.\u001b[0m        │\n",
       "│  │   ├── \u001b[38;5;106m[Excessive metadata access] Overall 99.50% (0.32 seconds) of I/O time is spent on metadata access, \u001b[0m    │\n",
       "│  │   │   \u001b[38;5;106mspecifically 49.47% (0.16 seconds) on the 'open' operation.\u001b[0m                                            │\n",
       "│  │   ├── \u001b[38;5;106m[Operation imbalance] 'write' operations are 20.00% (5 operations) of total I/O operations.\u001b[0m            │\n",
       "│  │   └── \u001b[38;5;106m[Size imbalance] 'write' size is 100.00% (9.38 kiB) of total I/O size.\u001b[0m                                 │\n",
       "│  └── (1 more)                                                                                                   │\n",
       "│  Process>Time View (1 bottleneck with 3 reasons)                                                                │\n",
       "│  └── \u001b[38;5;160m[CR343] 11 processes access 44 files within 1 time period (248) across 319 I/O operations and have an I/O\u001b[0m  │\n",
       "│      \u001b[38;5;160mtime of 0.22 seconds which is 9.69% of overall I/O time of the workload.\u001b[0m                                   │\n",
       "│      ├── \u001b[38;5;160m[Excessive metadata access] Overall 98.32% (0.21 seconds) of I/O time is spent on metadata access, \u001b[0m    │\n",
       "│      │   \u001b[38;5;160mspecifically 75.79% (0.17 seconds) on the 'open' operation.\u001b[0m                                            │\n",
       "│      ├── \u001b[38;5;160m[Operation imbalance] 'write' operations are 44.83% (143 operations) of total I/O operations.\u001b[0m          │\n",
       "│      └── \u001b[38;5;160m[Size imbalance] 'write' size is 100.00% (519.41 kiB) of total I/O size.\u001b[0m                               │\n",
       "│  Process>File View (11 bottlenecks with 33 reasons)                                                             │\n",
       "│  ├── \u001b[38;5;160m[CR344] 1 process accesses 1 file (14346) within 1 time period across 5 I/O operations and has an I/O \u001b[0m     │\n",
       "│  │   \u001b[38;5;160mtime of 0.09 seconds which is 3.81% of overall I/O time of the workload.\u001b[0m                                   │\n",
       "│  │   ├── \u001b[38;5;160m[Excessive metadata access] Overall 99.61% (0.09 seconds) of I/O time is spent on metadata access, \u001b[0m    │\n",
       "│  │   │   \u001b[38;5;160mspecifically 53.67% (0.05 seconds) on the 'open' operation.\u001b[0m                                            │\n",
       "│  │   ├── \u001b[38;5;160m[Operation imbalance] 'write' operations are 20.00% (1 operations) of total I/O operations.\u001b[0m            │\n",
       "│  │   └── \u001b[38;5;160m[Size imbalance] 'write' size is 100.00% (2.34 kiB) of total I/O size.\u001b[0m                                 │\n",
       "│  └── (10 more)                                                                                                  │\n",
       "│  Time>File>Process View (1 bottleneck with 4 reasons)                                                           │\n",
       "│  └── \u001b[38;5;106m[LO355] 1 process (app#31683#2636064#2636064) accesses 1 file within 2 time periods across 8 I/O \u001b[0m          │\n",
       "│      \u001b[38;5;106moperations and has an I/O time of 0.00 seconds which is 0.17% of overall I/O time of the workload.\u001b[0m         │\n",
       "│      ├── \u001b[38;5;106m[Operation imbalance] 'write' operations are 12.50% (1 operations) of total I/O operations.\u001b[0m            │\n",
       "│      ├── \u001b[38;5;106m[Size imbalance] 'write' size is 100.00% (568.0 B) of total I/O size.\u001b[0m                                  │\n",
       "│      ├── \u001b[38;5;106m[Small writes] 'write' time is 50.16% (0.00 seconds) of I/O time.\u001b[0m                                      │\n",
       "│      └── \u001b[38;5;106m[Small writes] Average 'write's are 71.0 B, which is smaller than 1.00 MiB.\u001b[0m                            │\n",
       "│  Time>Process>File View (1 bottleneck with 4 reasons)                                                           │\n",
       "│  └── \u001b[38;5;184m[MD356] 1 process accesses 1 file (15919) within 2 time periods across 8 I/O operations and has an I/O \u001b[0m    │\n",
       "│      \u001b[38;5;184mtime of 0.00 seconds which is 0.17% of overall I/O time of the workload.\u001b[0m                                   │\n",
       "│      ├── \u001b[38;5;184m[Operation imbalance] 'write' operations are 12.50% (1 operations) of total I/O operations.\u001b[0m            │\n",
       "│      ├── \u001b[38;5;184m[Size imbalance] 'write' size is 100.00% (568.0 B) of total I/O size.\u001b[0m                                  │\n",
       "│      ├── \u001b[38;5;184m[Small writes] 'write' time is 50.16% (0.00 seconds) of I/O time.\u001b[0m                                      │\n",
       "│      └── \u001b[38;5;184m[Small writes] Average 'write's are 71.0 B, which is smaller than 1.00 MiB.\u001b[0m                            │\n",
       "│  File>Time>Process View (1 bottleneck with 3 reasons)                                                           │\n",
       "│  └── \u001b[38;5;184m[MD357] 1 process (app#13788#763869#763869) accesses 1 file within 1 time period across 5 I/O operations \u001b[0m  │\n",
       "│      \u001b[38;5;184mand has an I/O time of 0.08 seconds which is 3.41% of overall I/O time of the workload.\u001b[0m                    │\n",
       "│      ├── \u001b[38;5;184m[Excessive metadata access] Overall 99.54% (0.08 seconds) of I/O time is spent on metadata access, \u001b[0m    │\n",
       "│      │   \u001b[38;5;184mspecifically 46.97% (0.04 seconds) on the 'open' operation.\u001b[0m                                            │\n",
       "│      ├── \u001b[38;5;184m[Operation imbalance] 'write' operations are 20.00% (1 operations) of total I/O operations.\u001b[0m            │\n",
       "│      └── \u001b[38;5;184m[Size imbalance] 'write' size is 100.00% (2.34 kiB) of total I/O size.\u001b[0m                                 │\n",
       "│  File>Process>Time View (1 bottleneck with 3 reasons)                                                           │\n",
       "│  └── \u001b[38;5;184m[MD358] 1 process accesses 2 files within 1 time period (136) across 10 I/O operations and has an I/O \u001b[0m     │\n",
       "│      \u001b[38;5;184mtime of 0.12 seconds which is 5.52% of overall I/O time of the workload.\u001b[0m                                   │\n",
       "│      ├── \u001b[38;5;184m[Excessive metadata access] Overall 99.45% (0.12 seconds) of I/O time is spent on metadata access, \u001b[0m    │\n",
       "│      │   \u001b[38;5;184mspecifically 57.40% (0.07 seconds) on the 'open' operation.\u001b[0m                                            │\n",
       "│      ├── \u001b[38;5;184m[Operation imbalance] 'write' operations are 20.00% (2 operations) of total I/O operations.\u001b[0m            │\n",
       "│      └── \u001b[38;5;184m[Size imbalance] 'write' size is 100.00% (4.84 kiB) of total I/O size.\u001b[0m                                 │\n",
       "│  Process>Time>File View (1 bottleneck with 3 reasons)                                                           │\n",
       "│  └── \u001b[38;5;172m[HI359] 1 process accesses 1 file (44025) within 1 time period across 5 I/O operations and has an I/O \u001b[0m     │\n",
       "│      \u001b[38;5;172mtime of 0.08 seconds which is 3.59% of overall I/O time of the workload.\u001b[0m                                   │\n",
       "│      ├── \u001b[38;5;172m[Excessive metadata access] Overall 99.47% (0.08 seconds) of I/O time is spent on metadata access, \u001b[0m    │\n",
       "│      │   \u001b[38;5;172mspecifically 36.74% (0.03 seconds) on the 'open' operation.\u001b[0m                                            │\n",
       "│      ├── \u001b[38;5;172m[Operation imbalance] 'write' operations are 20.00% (1 operations) of total I/O operations.\u001b[0m            │\n",
       "│      └── \u001b[38;5;172m[Size imbalance] 'write' size is 100.00% (2.34 kiB) of total I/O size.\u001b[0m                                 │\n",
       "│  Process>File>Time View (1 bottleneck with 3 reasons)                                                           │\n",
       "│  └── \u001b[38;5;172m[HI360] 1 process accesses 1 file within 1 time period (248) across 5 I/O operations and has an I/O time \u001b[0m  │\n",
       "│      \u001b[38;5;172mof 0.08 seconds which is 3.59% of overall I/O time of the workload.\u001b[0m                                        │\n",
       "│      ├── \u001b[38;5;172m[Excessive metadata access] Overall 99.47% (0.08 seconds) of I/O time is spent on metadata access, \u001b[0m    │\n",
       "│      │   \u001b[38;5;172mspecifically 36.74% (0.03 seconds) on the 'open' operation.\u001b[0m                                            │\n",
       "│      ├── \u001b[38;5;172m[Operation imbalance] 'write' operations are 20.00% (1 operations) of total I/O operations.\u001b[0m            │\n",
       "│      └── \u001b[38;5;172m[Size imbalance] 'write' size is 100.00% (2.34 kiB) of total I/O size.\u001b[0m                                 │\n",
       "│                                                                                                                 │\n",
       "╰─────────────────────────────────────────────────────────────────────────────────────────────────────────────────╯\n"
      ]
     },
     "metadata": {},
     "output_type": "display_data"
    },
    {
     "name": "stdout",
     "output_type": "stream",
     "text": [
      "time: 5.11 s (started: 2024-10-09 15:45:11 -07:00)\n"
     ]
    }
   ],
   "source": [
    "output.handle_result(metrics=cfg.metrics, result=result)"
   ]
  },
  {
   "cell_type": "code",
   "execution_count": null,
   "id": "2a485654",
   "metadata": {
    "papermill": {
     "duration": 0.005425,
     "end_time": "2024-10-09T22:45:16.424698",
     "exception": false,
     "start_time": "2024-10-09T22:45:16.419273",
     "status": "completed"
    },
    "tags": []
   },
   "outputs": [],
   "source": []
  }
 ],
 "metadata": {
  "kernelspec": {
   "display_name": "venv-corona",
   "language": "python",
   "name": "python3"
  },
  "language_info": {
   "codemirror_mode": {
    "name": "ipython",
    "version": 3
   },
   "file_extension": ".py",
   "mimetype": "text/x-python",
   "name": "python",
   "nbconvert_exporter": "python",
   "pygments_lexer": "ipython3",
   "version": "3.9.12"
  },
  "papermill": {
   "default_parameters": {},
   "duration": 100.684903,
   "end_time": "2024-10-09T22:45:19.048516",
   "environment_variables": {},
   "exception": null,
   "input_path": "analysis.ipynb",
   "output_path": "analysis-dftracer-cm1-node-32.ipynb",
   "parameters": {
    "analyzer": "dftracer",
    "checkpoint": true,
    "checkpoint_dir": "/usr/workspace/iopp/wisio_logs/_checkpoints/dftracer-cm1-node-32",
    "logical_view_types": false,
    "output_max_bottlenecks": 1,
    "output_root_only": false,
    "percentile": 0.99,
    "run_dir": ".wisio/dftracer/cm1-node-32",
    "trace_path": "/p/lustre3/iopp/dftracer-traces-lfs/v1.0.5-develop/corona/cm1/APP/node-32/v1/COMPACT/*.pfw.gz"
   },
   "start_time": "2024-10-09T22:43:38.363613",
   "version": "2.6.0"
  }
 },
 "nbformat": 4,
 "nbformat_minor": 5
}
{
 "cells": [
  {
   "cell_type": "code",
   "execution_count": 1,
   "id": "f5bfa4c1",
   "metadata": {
    "execution": {
     "iopub.execute_input": "2024-10-09T03:01:03.061683Z",
     "iopub.status.busy": "2024-10-09T03:01:03.061231Z",
     "iopub.status.idle": "2024-10-09T03:01:03.096254Z",
     "shell.execute_reply": "2024-10-09T03:01:03.095720Z"
    },
    "papermill": {
     "duration": 0.041237,
     "end_time": "2024-10-09T03:01:03.097678",
     "exception": false,
     "start_time": "2024-10-09T03:01:03.056441",
     "status": "completed"
    },
    "tags": []
   },
   "outputs": [
    {
     "name": "stdout",
     "output_type": "stream",
     "text": [
      "time: 188 µs (started: 2024-10-08 20:01:03 -07:00)\n"
     ]
    }
   ],
   "source": [
    "%load_ext autoreload\n",
    "%load_ext autotime"
   ]
  },
  {
   "cell_type": "code",
   "execution_count": 2,
   "id": "9e7a385d",
   "metadata": {
    "execution": {
     "iopub.execute_input": "2024-10-09T03:01:03.105529Z",
     "iopub.status.busy": "2024-10-09T03:01:03.105083Z",
     "iopub.status.idle": "2024-10-09T03:01:03.109025Z",
     "shell.execute_reply": "2024-10-09T03:01:03.108551Z"
    },
    "papermill": {
     "duration": 0.008919,
     "end_time": "2024-10-09T03:01:03.110310",
     "exception": false,
     "start_time": "2024-10-09T03:01:03.101391",
     "status": "completed"
    },
    "tags": []
   },
   "outputs": [
    {
     "name": "stdout",
     "output_type": "stream",
     "text": [
      "time: 558 µs (started: 2024-10-08 20:01:03 -07:00)\n"
     ]
    }
   ],
   "source": [
    "import os\n",
    "import sys\n",
    "import time\n",
    "import warnings\n",
    "\n",
    "# Add WisIO to the path\n",
    "sys.path.append(os.path.abspath(\"../\"))\n",
    "\n",
    "# Filter warnings\n",
    "warnings.filterwarnings('ignore')"
   ]
  },
  {
   "cell_type": "code",
   "execution_count": 3,
   "id": "af2e5be8",
   "metadata": {
    "execution": {
     "iopub.execute_input": "2024-10-09T03:01:03.117760Z",
     "iopub.status.busy": "2024-10-09T03:01:03.117341Z",
     "iopub.status.idle": "2024-10-09T03:01:03.121470Z",
     "shell.execute_reply": "2024-10-09T03:01:03.120988Z"
    },
    "papermill": {
     "duration": 0.009208,
     "end_time": "2024-10-09T03:01:03.122747",
     "exception": false,
     "start_time": "2024-10-09T03:01:03.113539",
     "status": "completed"
    },
    "tags": [
     "parameters"
    ]
   },
   "outputs": [
    {
     "name": "stdout",
     "output_type": "stream",
     "text": [
      "time: 738 µs (started: 2024-10-08 20:01:03 -07:00)\n"
     ]
    }
   ],
   "source": [
    "analyzer = \"dftracer\"\n",
    "checkpoint = True\n",
    "logical_view_types = False\n",
    "output_max_bottlenecks = 1\n",
    "output_root_only = False\n",
    "run_dir = f\".wisio/{analyzer}/{int(time.time())}\"\n",
    "bottleneck_dir = f\"{run_dir}/bottlenecks\"\n",
    "checkpoint_dir = f\"{run_dir}/checkpoints\"\n",
    "percentile = 0.95\n",
    "trace_path = \"/p/lustre3/iopp/dftracer-traces-lfs/v1.0.5-develop/corona/cm1/APP/node-1/v1/RAW/*.pfw.gz\""
   ]
  },
  {
   "cell_type": "code",
   "execution_count": 4,
   "id": "da6aba3d",
   "metadata": {
    "execution": {
     "iopub.execute_input": "2024-10-09T03:01:03.131443Z",
     "iopub.status.busy": "2024-10-09T03:01:03.130983Z",
     "iopub.status.idle": "2024-10-09T03:01:03.134850Z",
     "shell.execute_reply": "2024-10-09T03:01:03.134358Z"
    },
    "papermill": {
     "duration": 0.010067,
     "end_time": "2024-10-09T03:01:03.136130",
     "exception": false,
     "start_time": "2024-10-09T03:01:03.126063",
     "status": "completed"
    },
    "tags": [
     "injected-parameters"
    ]
   },
   "outputs": [
    {
     "name": "stdout",
     "output_type": "stream",
     "text": [
      "time: 643 µs (started: 2024-10-08 20:01:03 -07:00)\n"
     ]
    }
   ],
   "source": [
    "# Parameters\n",
    "analyzer = \"dftracer\"\n",
    "checkpoint = True\n",
    "checkpoint_dir = \"/usr/workspace/iopp/wisio_logs/_checkpoints/dftracer-resnet50-dlio-v100-node-4-v1\"\n",
    "logical_view_types = False\n",
    "output_max_bottlenecks = 1\n",
    "output_root_only = False\n",
    "run_dir = \".wisio/dftracer/resnet50-dlio-v100-node-4-v1\"\n",
    "percentile = 0.99\n",
    "trace_path = \"/p/lustre3/iopp/dftracer-traces-lfs/v1.0.5-develop/corona/resnet50/dlio-v100/node-4/v1/RAW/*.pfw.gz\"\n"
   ]
  },
  {
   "cell_type": "code",
   "execution_count": 5,
   "id": "d262cf2f",
   "metadata": {
    "execution": {
     "iopub.execute_input": "2024-10-09T03:01:03.143863Z",
     "iopub.status.busy": "2024-10-09T03:01:03.143597Z",
     "iopub.status.idle": "2024-10-09T03:01:10.090368Z",
     "shell.execute_reply": "2024-10-09T03:01:10.089544Z"
    },
    "papermill": {
     "duration": 6.952383,
     "end_time": "2024-10-09T03:01:10.091900",
     "exception": false,
     "start_time": "2024-10-09T03:01:03.139517",
     "status": "completed"
    },
    "tags": []
   },
   "outputs": [
    {
     "name": "stdout",
     "output_type": "stream",
     "text": [
      "time: 6.94 s (started: 2024-10-08 20:01:03 -07:00)\n"
     ]
    }
   ],
   "source": [
    "from distributed import Client\n",
    "from hydra import compose, initialize\n",
    "from hydra.core.hydra_config import HydraConfig\n",
    "from hydra.utils import instantiate\n",
    "from wisio.config import init_hydra_config_store\n",
    "from wisio.utils.file_utils import ensure_dir\n",
    "\n",
    "ensure_dir(run_dir)\n",
    "\n",
    "with initialize(version_base=None, config_path=None):\n",
    "    init_hydra_config_store()\n",
    "    cfg = compose(\n",
    "        config_name=\"config\",\n",
    "        overrides=[\n",
    "            f\"+analyzer={analyzer}\",\n",
    "            f\"analyzer.bottleneck_dir={bottleneck_dir}\",\n",
    "            f\"analyzer.checkpoint={checkpoint}\",\n",
    "            f\"analyzer.checkpoint_dir={checkpoint_dir}\",\n",
    "            f\"hydra.run.dir={run_dir}\",\n",
    "            f\"hydra.runtime.output_dir={run_dir}\",\n",
    "            f\"logical_view_types={logical_view_types}\",\n",
    "            f\"output.max_bottlenecks={output_max_bottlenecks}\",\n",
    "            f\"output.root_only={output_root_only}\",\n",
    "            f\"percentile={percentile}\",\n",
    "            f\"trace_path={trace_path}\",\n",
    "        ],\n",
    "        return_hydra_config=True,\n",
    "    )\n",
    "    HydraConfig.instance().set_config(cfg)\n",
    "    cluster = instantiate(cfg.cluster)\n",
    "    client = Client(cluster)\n",
    "    analyzer = instantiate(cfg.analyzer)\n",
    "    output = instantiate(cfg.output)"
   ]
  },
  {
   "cell_type": "code",
   "execution_count": 6,
   "id": "a6f2c7a4",
   "metadata": {
    "execution": {
     "iopub.execute_input": "2024-10-09T03:01:10.101863Z",
     "iopub.status.busy": "2024-10-09T03:01:10.101395Z",
     "iopub.status.idle": "2024-10-09T03:02:46.341437Z",
     "shell.execute_reply": "2024-10-09T03:02:46.336784Z"
    },
    "papermill": {
     "duration": 96.246836,
     "end_time": "2024-10-09T03:02:46.343184",
     "exception": false,
     "start_time": "2024-10-09T03:01:10.096348",
     "status": "completed"
    },
    "tags": []
   },
   "outputs": [
    {
     "name": "stdout",
     "output_type": "stream",
     "text": [
      "time: 1min 36s (started: 2024-10-08 20:01:10 -07:00)\n"
     ]
    }
   ],
   "source": [
    "result = analyzer.analyze_trace(\n",
    "    trace_path=cfg.trace_path,\n",
    "    # accuracy=cfg.accuracy,\n",
    "    exclude_bottlenecks=cfg.exclude_bottlenecks,\n",
    "    exclude_characteristics=cfg.exclude_characteristics,\n",
    "    logical_view_types=cfg.logical_view_types,\n",
    "    metrics=cfg.metrics,\n",
    "    percentile=cfg.percentile,\n",
    "    view_types=cfg.view_types,\n",
    ")"
   ]
  },
  {
   "cell_type": "code",
   "execution_count": 7,
   "id": "998b105d",
   "metadata": {
    "execution": {
     "iopub.execute_input": "2024-10-09T03:02:46.353285Z",
     "iopub.status.busy": "2024-10-09T03:02:46.352163Z",
     "iopub.status.idle": "2024-10-09T03:02:49.872393Z",
     "shell.execute_reply": "2024-10-09T03:02:49.871072Z"
    },
    "papermill": {
     "duration": 3.526873,
     "end_time": "2024-10-09T03:02:49.873905",
     "exception": false,
     "start_time": "2024-10-09T03:02:46.347032",
     "status": "completed"
    },
    "tags": []
   },
   "outputs": [
    {
     "data": {
      "text/html": [
       "<pre style=\"white-space:pre;overflow-x:auto;line-height:normal;font-family:Menlo,'DejaVu Sans Mono',consolas,'Courier New',monospace\">╭────────────────────────────────────────────── I/O Characteristics ──────────────────────────────────────────────╮\n",
       "│                                                                                                                 │\n",
       "│ <span style=\"color: #008080; text-decoration-color: #008080\"> Runtime         </span> 670.59 seconds                                                                                │\n",
       "│ <span style=\"color: #008080; text-decoration-color: #008080\"> I/O Time        </span> 2.46 seconds                                                                                  │\n",
       "│ <span style=\"color: #008080; text-decoration-color: #008080\">                 </span> ├── Read - 2.43 seconds (99.07%)                                                              │\n",
       "│ <span style=\"color: #008080; text-decoration-color: #008080\">                 </span> ├── Write - 0.00 seconds (0.09%)                                                              │\n",
       "│ <span style=\"color: #008080; text-decoration-color: #008080\">                 </span> └── Metadata - 2.02 seconds (82.20%)                                                          │\n",
       "│ <span style=\"color: #008080; text-decoration-color: #008080\"> I/O Operations  </span> 5,025,183 ops                                                                                 │\n",
       "│ <span style=\"color: #008080; text-decoration-color: #008080\">                 </span> ├── Read - 2,907,480 ops (57.86%)                                                             │\n",
       "│ <span style=\"color: #008080; text-decoration-color: #008080\">                 </span> ├── Write - 1,071 ops (0.02%)                                                                 │\n",
       "│ <span style=\"color: #008080; text-decoration-color: #008080\">                 </span> └── Metadata - 2,107,800 ops (41.94%)                                                         │\n",
       "│ <span style=\"color: #008080; text-decoration-color: #008080\"> I/O Size        </span> 694.15 GiB                                                                                    │\n",
       "│ <span style=\"color: #008080; text-decoration-color: #008080\">                 </span> ├── Read - 694.15 GiB (100.00%)                                                               │\n",
       "│ <span style=\"color: #008080; text-decoration-color: #008080\">                 </span> └── Write - 57.67 kiB (0.00%)                                                                 │\n",
       "│ <span style=\"color: #008080; text-decoration-color: #008080\"> Read Requests   </span> 4 kiB-256 kiB - 2,907,352 ops                                                                 │\n",
       "│ <span style=\"color: #008080; text-decoration-color: #008080\">                 </span> ├── &lt;4 kiB - 43,928 ops (1.51%)                                                               │\n",
       "│ <span style=\"color: #008080; text-decoration-color: #008080\">                 </span> ├── 4-16 kiB - 5,088 ops (0.18%)                                                              │\n",
       "│ <span style=\"color: #008080; text-decoration-color: #008080\">                 </span> ├── 16-64 kiB - 7,776 ops (0.27%)                                                             │\n",
       "│ <span style=\"color: #008080; text-decoration-color: #008080\">                 </span> └── 64-256 kiB - 2,850,560 ops (98.05%)                                                       │\n",
       "│ <span style=\"color: #008080; text-decoration-color: #008080\"> Write Requests  </span> 4 kiB-4 kiB - 1,071 ops                                                                       │\n",
       "│ <span style=\"color: #008080; text-decoration-color: #008080\">                 </span> └── &lt;4 kiB - 1,071 ops (100.00%)                                                              │\n",
       "│ <span style=\"color: #008080; text-decoration-color: #008080\"> Nodes           </span> 4 nodes                                                                                       │\n",
       "│ <span style=\"color: #008080; text-decoration-color: #008080\">                 </span> ├── 3711816138385082254 - 2.46 s (100.00%) - 173.54 GiB/10.56 kiB R/W (25.00/0.00%) -         │\n",
       "│ <span style=\"color: #008080; text-decoration-color: #008080\">                 </span> │   1,256,298 ops (25.00%)                                                                    │\n",
       "│ <span style=\"color: #008080; text-decoration-color: #008080\">                 </span> ├── 15474261681015172046 - 2.22 s (90.40%) - 173.54 GiB/10.56 kiB R/W (25.00/0.00%) -         │\n",
       "│ <span style=\"color: #008080; text-decoration-color: #008080\">                 </span> │   1,256,276 ops (25.00%)                                                                    │\n",
       "│ <span style=\"color: #008080; text-decoration-color: #008080\">                 </span> ├── 15046189470787716924 - 2.22 s (90.34%) - 173.54 GiB/10.56 kiB R/W (25.00/0.00%) -         │\n",
       "│ <span style=\"color: #008080; text-decoration-color: #008080\">                 </span> │   1,256,284 ops (25.00%)                                                                    │\n",
       "│ <span style=\"color: #008080; text-decoration-color: #008080\">                 </span> └── 15461096182755994450 - 2.17 s (88.45%) - 173.54 GiB/25.98 kiB R/W (25.00/0.00%) -         │\n",
       "│ <span style=\"color: #008080; text-decoration-color: #008080\">                 </span>     1,256,325 ops (25.00%)                                                                    │\n",
       "│ <span style=\"color: #008080; text-decoration-color: #008080\"> Apps            </span> 1 app                                                                                         │\n",
       "│ <span style=\"color: #008080; text-decoration-color: #008080\"> Processes/Ranks </span> 3,097 processes                                                                               │\n",
       "│ <span style=\"color: #008080; text-decoration-color: #008080\"> Files           </span> 6,544 files                                                                                   │\n",
       "│ <span style=\"color: #008080; text-decoration-color: #008080\">                 </span> ├── Shared: 5,870 files (89.70%)                                                              │\n",
       "│ <span style=\"color: #008080; text-decoration-color: #008080\">                 </span> └── FPP: 674 files (10.30%)                                                                   │\n",
       "│ <span style=\"color: #008080; text-decoration-color: #008080\"> Time Periods    </span> 635 time periods (Time Granularity: 1,000,000.0)                                              │\n",
       "│ <span style=\"color: #008080; text-decoration-color: #008080\"> Access Pattern  </span> <span style=\"font-weight: bold\">Sequential</span>: 2,908,551 ops (100.00%) - <span style=\"font-weight: bold\">Random</span>: 0 ops (0.00%)                                   │\n",
       "│                                                                                                                 │\n",
       "╰─ <span style=\"font-weight: bold\">R</span>: Read - <span style=\"font-weight: bold\">W</span>: Write - <span style=\"font-weight: bold\">M</span>: Metadata  ─────────────────────────────────────────────────────────────────────────────╯\n",
       "                                                                                                                   \n",
       "╭───────────────────────────────────── 132 I/O Bottlenecks with 512 Reasons ──────────────────────────────────────╮\n",
       "│                                                                                                                 │\n",
       "│  Time View (7 bottlenecks with 28 reasons)                                                                      │\n",
       "│  ├── <span style=\"color: #d70000; text-decoration-color: #d70000\">[CR1] 192 processes access 192 files within 1 time period (38) across 4,416 I/O operations and have an </span>    │\n",
       "│  │   <span style=\"color: #d70000; text-decoration-color: #d70000\">I/O time of 0.31 seconds which is 12.81% of overall I/O time of the workload.</span>                              │\n",
       "│  │   ├── <span style=\"color: #d70000; text-decoration-color: #d70000\">[Operation imbalance] 'read' operations are 100.00% (4,416 operations) of total I/O operations.</span>        │\n",
       "│  │   ├── <span style=\"color: #d70000; text-decoration-color: #d70000\">[Size imbalance] 'read' size is 100.00% (1.08 GiB) of total I/O size.</span>                                  │\n",
       "│  │   ├── <span style=\"color: #d70000; text-decoration-color: #d70000\">[Small reads] 'read' time is 100.00% (0.31 seconds) of I/O time.</span>                                       │\n",
       "│  │   └── <span style=\"color: #d70000; text-decoration-color: #d70000\">[Small reads] Average 'read's are 256.00 kiB, which is smaller than 1.00 MiB.</span>                          │\n",
       "│  └── (6 more)                                                                                                   │\n",
       "│  File View (66 bottlenecks with 264 reasons)                                                                    │\n",
       "│  ├── <span style=\"color: #d70000; text-decoration-color: #d70000\">[CR8] 3 processes access 1 file (13902077175587233792) within 2 time periods across 7 I/O operations and </span>  │\n",
       "│  │   <span style=\"color: #d70000; text-decoration-color: #d70000\">have an I/O time of 0.33 seconds which is 13.61% of overall I/O time of the workload.</span>                      │\n",
       "│  │   ├── <span style=\"color: #d70000; text-decoration-color: #d70000\">[Operation imbalance] 'read' operations are 57.14% (4 operations) of total I/O operations.</span>             │\n",
       "│  │   ├── <span style=\"color: #d70000; text-decoration-color: #d70000\">[Size imbalance] 'read' size is 100.00% (1.00 MiB) of total I/O size.</span>                                  │\n",
       "│  │   ├── <span style=\"color: #d70000; text-decoration-color: #d70000\">[Small reads] 'read' time is 98.33% (0.33 seconds) of I/O time.</span>                                        │\n",
       "│  │   └── <span style=\"color: #d70000; text-decoration-color: #d70000\">[Small reads] Average 'read's are 146.29 kiB, which is smaller than 1.00 MiB.</span>                          │\n",
       "│  └── (65 more)                                                                                                  │\n",
       "│  Process View (31 bottlenecks with 108 reasons)                                                                 │\n",
       "│  ├── <span style=\"color: #d70000; text-decoration-color: #d70000\">[CR74] 1 process (app#3711816138385082254#302138#302604) accesses 1 file within 1 time period across 3 </span>    │\n",
       "│  │   <span style=\"color: #d70000; text-decoration-color: #d70000\">I/O operations and has an I/O time of 0.01 seconds which is 0.43% of overall I/O time of the workload.</span>     │\n",
       "│  │   ├── <span style=\"color: #d70000; text-decoration-color: #d70000\">[Excessive metadata access] Overall 95.88% (0.01 seconds) of I/O time is spent on metadata access, </span>    │\n",
       "│  │   │   <span style=\"color: #d70000; text-decoration-color: #d70000\">specifically 95.88% (0.01 seconds) on the 'open' operation.</span>                                            │\n",
       "│  │   ├── <span style=\"color: #d70000; text-decoration-color: #d70000\">[Operation imbalance] 'read' operations are 66.67% (2 operations) of total I/O operations.</span>             │\n",
       "│  │   └── <span style=\"color: #d70000; text-decoration-color: #d70000\">[Size imbalance] 'read' size is 100.00% (512.00 kiB) of total I/O size.</span>                                │\n",
       "│  └── (30 more)                                                                                                  │\n",
       "│  Time&gt;File View (10 bottlenecks with 40 reasons)                                                                │\n",
       "│  ├── <span style=\"color: #d75f00; text-decoration-color: #d75f00\">[VH105] 1 process accesses 1 file (17330365225753602506) within 2 time periods across 26 I/O operations </span>   │\n",
       "│  │   <span style=\"color: #d75f00; text-decoration-color: #d75f00\">and has an I/O time of 0.50 seconds which is 20.51% of overall I/O time of the workload.</span>                   │\n",
       "│  │   ├── <span style=\"color: #d75f00; text-decoration-color: #d75f00\">[Operation imbalance] 'read' operations are 96.15% (25 operations) of total I/O operations.</span>            │\n",
       "│  │   ├── <span style=\"color: #d75f00; text-decoration-color: #d75f00\">[Size imbalance] 'read' size is 100.00% (6.25 MiB) of total I/O size.</span>                                  │\n",
       "│  │   ├── <span style=\"color: #d75f00; text-decoration-color: #d75f00\">[Small reads] 'read' time is 99.20% (0.50 seconds) of I/O time.</span>                                        │\n",
       "│  │   └── <span style=\"color: #d75f00; text-decoration-color: #d75f00\">[Small reads] Average 'read's are 246.15 kiB, which is smaller than 1.00 MiB.</span>                          │\n",
       "│  └── (9 more)                                                                                                   │\n",
       "│  Time&gt;Process View (6 bottlenecks with 24 reasons)                                                              │\n",
       "│  ├── <span style=\"color: #d78700; text-decoration-color: #d78700\">[HI115] 1 process (app#3711816138385082254#302135#302572) accesses 1 file within 2 time periods across 24</span>  │\n",
       "│  │   <span style=\"color: #d78700; text-decoration-color: #d78700\">I/O operations and has an I/O time of 0.31 seconds which is 12.68% of overall I/O time of the workload.</span>    │\n",
       "│  │   ├── <span style=\"color: #d78700; text-decoration-color: #d78700\">[Operation imbalance] 'read' operations are 100.00% (24 operations) of total I/O operations.</span>           │\n",
       "│  │   ├── <span style=\"color: #d78700; text-decoration-color: #d78700\">[Size imbalance] 'read' size is 100.00% (6.00 MiB) of total I/O size.</span>                                  │\n",
       "│  │   ├── <span style=\"color: #d78700; text-decoration-color: #d78700\">[Small reads] 'read' time is 100.00% (0.31 seconds) of I/O time.</span>                                       │\n",
       "│  │   └── <span style=\"color: #d78700; text-decoration-color: #d78700\">[Small reads] Average 'read's are 256.00 kiB, which is smaller than 1.00 MiB.</span>                          │\n",
       "│  └── (5 more)                                                                                                   │\n",
       "│  File&gt;Time View (1 bottleneck with 4 reasons)                                                                   │\n",
       "│  └── <span style=\"color: #d78700; text-decoration-color: #d78700\">[HI121] 66 processes access 66 files within 1 time period (36) across 198 I/O operations and have an I/O </span>  │\n",
       "│      <span style=\"color: #d78700; text-decoration-color: #d78700\">time of 0.33 seconds which is 13.61% of overall I/O time of the workload.</span>                                  │\n",
       "│      ├── <span style=\"color: #d78700; text-decoration-color: #d78700\">[Operation imbalance] 'read' operations are 66.67% (132 operations) of total I/O operations.</span>           │\n",
       "│      ├── <span style=\"color: #d78700; text-decoration-color: #d78700\">[Size imbalance] 'read' size is 100.00% (33.00 MiB) of total I/O size.</span>                                 │\n",
       "│      ├── <span style=\"color: #d78700; text-decoration-color: #d78700\">[Small reads] 'read' time is 98.33% (0.33 seconds) of I/O time.</span>                                        │\n",
       "│      └── <span style=\"color: #d78700; text-decoration-color: #d78700\">[Small reads] Average 'read's are 170.67 kiB, which is smaller than 1.00 MiB.</span>                          │\n",
       "│  File&gt;Process View (2 bottlenecks with 8 reasons)                                                               │\n",
       "│  ├── <span style=\"color: #d75f00; text-decoration-color: #d75f00\">[VH122] 1 process (app#3711816138385082254#302131#302561) accesses 1 file within 1 time period across 3 </span>   │\n",
       "│  │   <span style=\"color: #d75f00; text-decoration-color: #d75f00\">I/O operations and has an I/O time of 0.33 seconds which is 13.61% of overall I/O time of the workload.</span>    │\n",
       "│  │   ├── <span style=\"color: #d75f00; text-decoration-color: #d75f00\">[Operation imbalance] 'read' operations are 66.67% (2 operations) of total I/O operations.</span>             │\n",
       "│  │   ├── <span style=\"color: #d75f00; text-decoration-color: #d75f00\">[Size imbalance] 'read' size is 100.00% (512.00 kiB) of total I/O size.</span>                                │\n",
       "│  │   ├── <span style=\"color: #d75f00; text-decoration-color: #d75f00\">[Small reads] 'read' time is 98.33% (0.33 seconds) of I/O time.</span>                                        │\n",
       "│  │   └── <span style=\"color: #d75f00; text-decoration-color: #d75f00\">[Small reads] Average 'read's are 170.67 kiB, which is smaller than 1.00 MiB.</span>                          │\n",
       "│  └── (1 more)                                                                                                   │\n",
       "│  Process&gt;Time View (2 bottlenecks with 8 reasons)                                                               │\n",
       "│  ├── <span style=\"color: #d70000; text-decoration-color: #d70000\">[CR124] 3 processes access 3 files within 1 time period (61) across 69 I/O operations and have an I/O </span>     │\n",
       "│  │   <span style=\"color: #d70000; text-decoration-color: #d70000\">time of 0.29 seconds which is 12.00% of overall I/O time of the workload.</span>                                  │\n",
       "│  │   ├── <span style=\"color: #d70000; text-decoration-color: #d70000\">[Operation imbalance] 'read' operations are 100.00% (69 operations) of total I/O operations.</span>           │\n",
       "│  │   ├── <span style=\"color: #d70000; text-decoration-color: #d70000\">[Size imbalance] 'read' size is 100.00% (17.25 MiB) of total I/O size.</span>                                 │\n",
       "│  │   ├── <span style=\"color: #d70000; text-decoration-color: #d70000\">[Small reads] 'read' time is 100.00% (0.29 seconds) of I/O time.</span>                                       │\n",
       "│  │   └── <span style=\"color: #d70000; text-decoration-color: #d70000\">[Small reads] Average 'read's are 256.00 kiB, which is smaller than 1.00 MiB.</span>                          │\n",
       "│  └── (1 more)                                                                                                   │\n",
       "│  Process&gt;File View (1 bottleneck with 4 reasons)                                                                │\n",
       "│  └── <span style=\"color: #d70000; text-decoration-color: #d70000\">[CR126] 1 process accesses 1 file (4697642793751056384) within 1 time period across 3 I/O operations and </span>  │\n",
       "│      <span style=\"color: #d70000; text-decoration-color: #d70000\">has an I/O time of 0.23 seconds which is 9.31% of overall I/O time of the workload.</span>                        │\n",
       "│      ├── <span style=\"color: #d70000; text-decoration-color: #d70000\">[Operation imbalance] 'read' operations are 66.67% (2 operations) of total I/O operations.</span>             │\n",
       "│      ├── <span style=\"color: #d70000; text-decoration-color: #d70000\">[Size imbalance] 'read' size is 100.00% (512.00 kiB) of total I/O size.</span>                                │\n",
       "│      ├── <span style=\"color: #d70000; text-decoration-color: #d70000\">[Small reads] 'read' time is 99.32% (0.23 seconds) of I/O time.</span>                                        │\n",
       "│      └── <span style=\"color: #d70000; text-decoration-color: #d70000\">[Small reads] Average 'read's are 170.67 kiB, which is smaller than 1.00 MiB.</span>                          │\n",
       "│  Time&gt;File&gt;Process View (1 bottleneck with 4 reasons)                                                           │\n",
       "│  └── <span style=\"color: #87af00; text-decoration-color: #87af00\">[LO127] 1 process (app#3711816138385082254#302133#302550) accesses 1 file within 2 time periods across 26</span>  │\n",
       "│      <span style=\"color: #87af00; text-decoration-color: #87af00\">I/O operations and has an I/O time of 0.50 seconds which is 20.51% of overall I/O time of the workload.</span>    │\n",
       "│      ├── <span style=\"color: #87af00; text-decoration-color: #87af00\">[Operation imbalance] 'read' operations are 96.15% (25 operations) of total I/O operations.</span>            │\n",
       "│      ├── <span style=\"color: #87af00; text-decoration-color: #87af00\">[Size imbalance] 'read' size is 100.00% (6.25 MiB) of total I/O size.</span>                                  │\n",
       "│      ├── <span style=\"color: #87af00; text-decoration-color: #87af00\">[Small reads] 'read' time is 99.20% (0.50 seconds) of I/O time.</span>                                        │\n",
       "│      └── <span style=\"color: #87af00; text-decoration-color: #87af00\">[Small reads] Average 'read's are 246.15 kiB, which is smaller than 1.00 MiB.</span>                          │\n",
       "│  Time&gt;Process&gt;File View (1 bottleneck with 4 reasons)                                                           │\n",
       "│  └── <span style=\"color: #d7d700; text-decoration-color: #d7d700\">[MD128] 1 process accesses 1 file (8613411488301772026) within 2 time periods across 24 I/O operations </span>    │\n",
       "│      <span style=\"color: #d7d700; text-decoration-color: #d7d700\">and has an I/O time of 0.41 seconds which is 16.74% of overall I/O time of the workload.</span>                   │\n",
       "│      ├── <span style=\"color: #d7d700; text-decoration-color: #d7d700\">[Operation imbalance] 'read' operations are 100.00% (24 operations) of total I/O operations.</span>           │\n",
       "│      ├── <span style=\"color: #d7d700; text-decoration-color: #d7d700\">[Size imbalance] 'read' size is 100.00% (6.00 MiB) of total I/O size.</span>                                  │\n",
       "│      ├── <span style=\"color: #d7d700; text-decoration-color: #d7d700\">[Small reads] 'read' time is 100.00% (0.41 seconds) of I/O time.</span>                                       │\n",
       "│      └── <span style=\"color: #d7d700; text-decoration-color: #d7d700\">[Small reads] Average 'read's are 256.00 kiB, which is smaller than 1.00 MiB.</span>                          │\n",
       "│  File&gt;Time&gt;Process View (1 bottleneck with 4 reasons)                                                           │\n",
       "│  └── <span style=\"color: #d78700; text-decoration-color: #d78700\">[HI129] 1 process (app#3711816138385082254#302131#302561) accesses 1 file within 1 time period across 3 </span>   │\n",
       "│      <span style=\"color: #d78700; text-decoration-color: #d78700\">I/O operations and has an I/O time of 0.33 seconds which is 13.61% of overall I/O time of the workload.</span>    │\n",
       "│      ├── <span style=\"color: #d78700; text-decoration-color: #d78700\">[Operation imbalance] 'read' operations are 66.67% (2 operations) of total I/O operations.</span>             │\n",
       "│      ├── <span style=\"color: #d78700; text-decoration-color: #d78700\">[Size imbalance] 'read' size is 100.00% (512.00 kiB) of total I/O size.</span>                                │\n",
       "│      ├── <span style=\"color: #d78700; text-decoration-color: #d78700\">[Small reads] 'read' time is 98.33% (0.33 seconds) of I/O time.</span>                                        │\n",
       "│      └── <span style=\"color: #d78700; text-decoration-color: #d78700\">[Small reads] Average 'read's are 170.67 kiB, which is smaller than 1.00 MiB.</span>                          │\n",
       "│  File&gt;Process&gt;Time View (1 bottleneck with 4 reasons)                                                           │\n",
       "│  └── <span style=\"color: #87af00; text-decoration-color: #87af00\">[LO130] 2 processes access 2 files within 1 time period (36) across 6 I/O operations and have an I/O time</span>  │\n",
       "│      <span style=\"color: #87af00; text-decoration-color: #87af00\">of 0.33 seconds which is 13.61% of overall I/O time of the workload.</span>                                       │\n",
       "│      ├── <span style=\"color: #87af00; text-decoration-color: #87af00\">[Operation imbalance] 'read' operations are 66.67% (4 operations) of total I/O operations.</span>             │\n",
       "│      ├── <span style=\"color: #87af00; text-decoration-color: #87af00\">[Size imbalance] 'read' size is 100.00% (1.00 MiB) of total I/O size.</span>                                  │\n",
       "│      ├── <span style=\"color: #87af00; text-decoration-color: #87af00\">[Small reads] 'read' time is 98.33% (0.33 seconds) of I/O time.</span>                                        │\n",
       "│      └── <span style=\"color: #87af00; text-decoration-color: #87af00\">[Small reads] Average 'read's are 170.67 kiB, which is smaller than 1.00 MiB.</span>                          │\n",
       "│  Process&gt;Time&gt;File View (1 bottleneck with 4 reasons)                                                           │\n",
       "│  └── <span style=\"color: #d7d700; text-decoration-color: #d7d700\">[MD131] 1 process accesses 1 file (13995637173354911817) within 1 time period across 23 I/O operations </span>    │\n",
       "│      <span style=\"color: #d7d700; text-decoration-color: #d7d700\">and has an I/O time of 0.29 seconds which is 12.00% of overall I/O time of the workload.</span>                   │\n",
       "│      ├── <span style=\"color: #d7d700; text-decoration-color: #d7d700\">[Operation imbalance] 'read' operations are 100.00% (23 operations) of total I/O operations.</span>           │\n",
       "│      ├── <span style=\"color: #d7d700; text-decoration-color: #d7d700\">[Size imbalance] 'read' size is 100.00% (5.75 MiB) of total I/O size.</span>                                  │\n",
       "│      ├── <span style=\"color: #d7d700; text-decoration-color: #d7d700\">[Small reads] 'read' time is 100.00% (0.29 seconds) of I/O time.</span>                                       │\n",
       "│      └── <span style=\"color: #d7d700; text-decoration-color: #d7d700\">[Small reads] Average 'read's are 256.00 kiB, which is smaller than 1.00 MiB.</span>                          │\n",
       "│  Process&gt;File&gt;Time View (1 bottleneck with 4 reasons)                                                           │\n",
       "│  └── <span style=\"color: #87af00; text-decoration-color: #87af00\">[LO132] 1 process accesses 1 file within 1 time period (36) across 3 I/O operations and has an I/O time </span>   │\n",
       "│      <span style=\"color: #87af00; text-decoration-color: #87af00\">of 0.23 seconds which is 9.31% of overall I/O time of the workload.</span>                                        │\n",
       "│      ├── <span style=\"color: #87af00; text-decoration-color: #87af00\">[Operation imbalance] 'read' operations are 66.67% (2 operations) of total I/O operations.</span>             │\n",
       "│      ├── <span style=\"color: #87af00; text-decoration-color: #87af00\">[Size imbalance] 'read' size is 100.00% (512.00 kiB) of total I/O size.</span>                                │\n",
       "│      ├── <span style=\"color: #87af00; text-decoration-color: #87af00\">[Small reads] 'read' time is 99.32% (0.23 seconds) of I/O time.</span>                                        │\n",
       "│      └── <span style=\"color: #87af00; text-decoration-color: #87af00\">[Small reads] Average 'read's are 170.67 kiB, which is smaller than 1.00 MiB.</span>                          │\n",
       "│                                                                                                                 │\n",
       "╰─────────────────────────────────────────────────────────────────────────────────────────────────────────────────╯\n",
       "</pre>\n"
      ],
      "text/plain": [
       "╭────────────────────────────────────────────── I/O Characteristics ──────────────────────────────────────────────╮\n",
       "│                                                                                                                 │\n",
       "│ \u001b[36m \u001b[0m\u001b[36mRuntime        \u001b[0m\u001b[36m \u001b[0m 670.59 seconds                                                                                │\n",
       "│ \u001b[36m \u001b[0m\u001b[36mI/O Time       \u001b[0m\u001b[36m \u001b[0m 2.46 seconds                                                                                  │\n",
       "│ \u001b[36m                 \u001b[0m ├── Read - 2.43 seconds (99.07%)                                                              │\n",
       "│ \u001b[36m                 \u001b[0m ├── Write - 0.00 seconds (0.09%)                                                              │\n",
       "│ \u001b[36m                 \u001b[0m └── Metadata - 2.02 seconds (82.20%)                                                          │\n",
       "│ \u001b[36m \u001b[0m\u001b[36mI/O Operations \u001b[0m\u001b[36m \u001b[0m 5,025,183 ops                                                                                 │\n",
       "│ \u001b[36m                 \u001b[0m ├── Read - 2,907,480 ops (57.86%)                                                             │\n",
       "│ \u001b[36m                 \u001b[0m ├── Write - 1,071 ops (0.02%)                                                                 │\n",
       "│ \u001b[36m                 \u001b[0m └── Metadata - 2,107,800 ops (41.94%)                                                         │\n",
       "│ \u001b[36m \u001b[0m\u001b[36mI/O Size       \u001b[0m\u001b[36m \u001b[0m 694.15 GiB                                                                                    │\n",
       "│ \u001b[36m                 \u001b[0m ├── Read - 694.15 GiB (100.00%)                                                               │\n",
       "│ \u001b[36m                 \u001b[0m └── Write - 57.67 kiB (0.00%)                                                                 │\n",
       "│ \u001b[36m \u001b[0m\u001b[36mRead Requests  \u001b[0m\u001b[36m \u001b[0m 4 kiB-256 kiB - 2,907,352 ops                                                                 │\n",
       "│ \u001b[36m                 \u001b[0m ├── <4 kiB - 43,928 ops (1.51%)                                                               │\n",
       "│ \u001b[36m                 \u001b[0m ├── 4-16 kiB - 5,088 ops (0.18%)                                                              │\n",
       "│ \u001b[36m                 \u001b[0m ├── 16-64 kiB - 7,776 ops (0.27%)                                                             │\n",
       "│ \u001b[36m                 \u001b[0m └── 64-256 kiB - 2,850,560 ops (98.05%)                                                       │\n",
       "│ \u001b[36m \u001b[0m\u001b[36mWrite Requests \u001b[0m\u001b[36m \u001b[0m 4 kiB-4 kiB - 1,071 ops                                                                       │\n",
       "│ \u001b[36m                 \u001b[0m └── <4 kiB - 1,071 ops (100.00%)                                                              │\n",
       "│ \u001b[36m \u001b[0m\u001b[36mNodes          \u001b[0m\u001b[36m \u001b[0m 4 nodes                                                                                       │\n",
       "│ \u001b[36m                 \u001b[0m ├── 3711816138385082254 - 2.46 s (100.00%) - 173.54 GiB/10.56 kiB R/W (25.00/0.00%) -         │\n",
       "│ \u001b[36m                 \u001b[0m │   1,256,298 ops (25.00%)                                                                    │\n",
       "│ \u001b[36m                 \u001b[0m ├── 15474261681015172046 - 2.22 s (90.40%) - 173.54 GiB/10.56 kiB R/W (25.00/0.00%) -         │\n",
       "│ \u001b[36m                 \u001b[0m │   1,256,276 ops (25.00%)                                                                    │\n",
       "│ \u001b[36m                 \u001b[0m ├── 15046189470787716924 - 2.22 s (90.34%) - 173.54 GiB/10.56 kiB R/W (25.00/0.00%) -         │\n",
       "│ \u001b[36m                 \u001b[0m │   1,256,284 ops (25.00%)                                                                    │\n",
       "│ \u001b[36m                 \u001b[0m └── 15461096182755994450 - 2.17 s (88.45%) - 173.54 GiB/25.98 kiB R/W (25.00/0.00%) -         │\n",
       "│ \u001b[36m                 \u001b[0m     1,256,325 ops (25.00%)                                                                    │\n",
       "│ \u001b[36m \u001b[0m\u001b[36mApps           \u001b[0m\u001b[36m \u001b[0m 1 app                                                                                         │\n",
       "│ \u001b[36m \u001b[0m\u001b[36mProcesses/Ranks\u001b[0m\u001b[36m \u001b[0m 3,097 processes                                                                               │\n",
       "│ \u001b[36m \u001b[0m\u001b[36mFiles          \u001b[0m\u001b[36m \u001b[0m 6,544 files                                                                                   │\n",
       "│ \u001b[36m                 \u001b[0m ├── Shared: 5,870 files (89.70%)                                                              │\n",
       "│ \u001b[36m                 \u001b[0m └── FPP: 674 files (10.30%)                                                                   │\n",
       "│ \u001b[36m \u001b[0m\u001b[36mTime Periods   \u001b[0m\u001b[36m \u001b[0m 635 time periods (Time Granularity: 1,000,000.0)                                              │\n",
       "│ \u001b[36m \u001b[0m\u001b[36mAccess Pattern \u001b[0m\u001b[36m \u001b[0m \u001b[1mSequential\u001b[0m: 2,908,551 ops (100.00%) - \u001b[1mRandom\u001b[0m: 0 ops (0.00%)                                   │\n",
       "│                                                                                                                 │\n",
       "╰─ \u001b[1mR\u001b[0m: Read - \u001b[1mW\u001b[0m: Write - \u001b[1mM\u001b[0m: Metadata  ─────────────────────────────────────────────────────────────────────────────╯\n",
       "                                                                                                                   \n",
       "╭───────────────────────────────────── 132 I/O Bottlenecks with 512 Reasons ──────────────────────────────────────╮\n",
       "│                                                                                                                 │\n",
       "│  Time View (7 bottlenecks with 28 reasons)                                                                      │\n",
       "│  ├── \u001b[38;5;160m[CR1] 192 processes access 192 files within 1 time period (38) across 4,416 I/O operations and have an \u001b[0m    │\n",
       "│  │   \u001b[38;5;160mI/O time of 0.31 seconds which is 12.81% of overall I/O time of the workload.\u001b[0m                              │\n",
       "│  │   ├── \u001b[38;5;160m[Operation imbalance] 'read' operations are 100.00% (4,416 operations) of total I/O operations.\u001b[0m        │\n",
       "│  │   ├── \u001b[38;5;160m[Size imbalance] 'read' size is 100.00% (1.08 GiB) of total I/O size.\u001b[0m                                  │\n",
       "│  │   ├── \u001b[38;5;160m[Small reads] 'read' time is 100.00% (0.31 seconds) of I/O time.\u001b[0m                                       │\n",
       "│  │   └── \u001b[38;5;160m[Small reads] Average 'read's are 256.00 kiB, which is smaller than 1.00 MiB.\u001b[0m                          │\n",
       "│  └── (6 more)                                                                                                   │\n",
       "│  File View (66 bottlenecks with 264 reasons)                                                                    │\n",
       "│  ├── \u001b[38;5;160m[CR8] 3 processes access 1 file (13902077175587233792) within 2 time periods across 7 I/O operations and \u001b[0m  │\n",
       "│  │   \u001b[38;5;160mhave an I/O time of 0.33 seconds which is 13.61% of overall I/O time of the workload.\u001b[0m                      │\n",
       "│  │   ├── \u001b[38;5;160m[Operation imbalance] 'read' operations are 57.14% (4 operations) of total I/O operations.\u001b[0m             │\n",
       "│  │   ├── \u001b[38;5;160m[Size imbalance] 'read' size is 100.00% (1.00 MiB) of total I/O size.\u001b[0m                                  │\n",
       "│  │   ├── \u001b[38;5;160m[Small reads] 'read' time is 98.33% (0.33 seconds) of I/O time.\u001b[0m                                        │\n",
       "│  │   └── \u001b[38;5;160m[Small reads] Average 'read's are 146.29 kiB, which is smaller than 1.00 MiB.\u001b[0m                          │\n",
       "│  └── (65 more)                                                                                                  │\n",
       "│  Process View (31 bottlenecks with 108 reasons)                                                                 │\n",
       "│  ├── \u001b[38;5;160m[CR74] 1 process (app#3711816138385082254#302138#302604) accesses 1 file within 1 time period across 3 \u001b[0m    │\n",
       "│  │   \u001b[38;5;160mI/O operations and has an I/O time of 0.01 seconds which is 0.43% of overall I/O time of the workload.\u001b[0m     │\n",
       "│  │   ├── \u001b[38;5;160m[Excessive metadata access] Overall 95.88% (0.01 seconds) of I/O time is spent on metadata access, \u001b[0m    │\n",
       "│  │   │   \u001b[38;5;160mspecifically 95.88% (0.01 seconds) on the 'open' operation.\u001b[0m                                            │\n",
       "│  │   ├── \u001b[38;5;160m[Operation imbalance] 'read' operations are 66.67% (2 operations) of total I/O operations.\u001b[0m             │\n",
       "│  │   └── \u001b[38;5;160m[Size imbalance] 'read' size is 100.00% (512.00 kiB) of total I/O size.\u001b[0m                                │\n",
       "│  └── (30 more)                                                                                                  │\n",
       "│  Time>File View (10 bottlenecks with 40 reasons)                                                                │\n",
       "│  ├── \u001b[38;5;166m[VH105] 1 process accesses 1 file (17330365225753602506) within 2 time periods across 26 I/O operations \u001b[0m   │\n",
       "│  │   \u001b[38;5;166mand has an I/O time of 0.50 seconds which is 20.51% of overall I/O time of the workload.\u001b[0m                   │\n",
       "│  │   ├── \u001b[38;5;166m[Operation imbalance] 'read' operations are 96.15% (25 operations) of total I/O operations.\u001b[0m            │\n",
       "│  │   ├── \u001b[38;5;166m[Size imbalance] 'read' size is 100.00% (6.25 MiB) of total I/O size.\u001b[0m                                  │\n",
       "│  │   ├── \u001b[38;5;166m[Small reads] 'read' time is 99.20% (0.50 seconds) of I/O time.\u001b[0m                                        │\n",
       "│  │   └── \u001b[38;5;166m[Small reads] Average 'read's are 246.15 kiB, which is smaller than 1.00 MiB.\u001b[0m                          │\n",
       "│  └── (9 more)                                                                                                   │\n",
       "│  Time>Process View (6 bottlenecks with 24 reasons)                                                              │\n",
       "│  ├── \u001b[38;5;172m[HI115] 1 process (app#3711816138385082254#302135#302572) accesses 1 file within 2 time periods across 24\u001b[0m  │\n",
       "│  │   \u001b[38;5;172mI/O operations and has an I/O time of 0.31 seconds which is 12.68% of overall I/O time of the workload.\u001b[0m    │\n",
       "│  │   ├── \u001b[38;5;172m[Operation imbalance] 'read' operations are 100.00% (24 operations) of total I/O operations.\u001b[0m           │\n",
       "│  │   ├── \u001b[38;5;172m[Size imbalance] 'read' size is 100.00% (6.00 MiB) of total I/O size.\u001b[0m                                  │\n",
       "│  │   ├── \u001b[38;5;172m[Small reads] 'read' time is 100.00% (0.31 seconds) of I/O time.\u001b[0m                                       │\n",
       "│  │   └── \u001b[38;5;172m[Small reads] Average 'read's are 256.00 kiB, which is smaller than 1.00 MiB.\u001b[0m                          │\n",
       "│  └── (5 more)                                                                                                   │\n",
       "│  File>Time View (1 bottleneck with 4 reasons)                                                                   │\n",
       "│  └── \u001b[38;5;172m[HI121] 66 processes access 66 files within 1 time period (36) across 198 I/O operations and have an I/O \u001b[0m  │\n",
       "│      \u001b[38;5;172mtime of 0.33 seconds which is 13.61% of overall I/O time of the workload.\u001b[0m                                  │\n",
       "│      ├── \u001b[38;5;172m[Operation imbalance] 'read' operations are 66.67% (132 operations) of total I/O operations.\u001b[0m           │\n",
       "│      ├── \u001b[38;5;172m[Size imbalance] 'read' size is 100.00% (33.00 MiB) of total I/O size.\u001b[0m                                 │\n",
       "│      ├── \u001b[38;5;172m[Small reads] 'read' time is 98.33% (0.33 seconds) of I/O time.\u001b[0m                                        │\n",
       "│      └── \u001b[38;5;172m[Small reads] Average 'read's are 170.67 kiB, which is smaller than 1.00 MiB.\u001b[0m                          │\n",
       "│  File>Process View (2 bottlenecks with 8 reasons)                                                               │\n",
       "│  ├── \u001b[38;5;166m[VH122] 1 process (app#3711816138385082254#302131#302561) accesses 1 file within 1 time period across 3 \u001b[0m   │\n",
       "│  │   \u001b[38;5;166mI/O operations and has an I/O time of 0.33 seconds which is 13.61% of overall I/O time of the workload.\u001b[0m    │\n",
       "│  │   ├── \u001b[38;5;166m[Operation imbalance] 'read' operations are 66.67% (2 operations) of total I/O operations.\u001b[0m             │\n",
       "│  │   ├── \u001b[38;5;166m[Size imbalance] 'read' size is 100.00% (512.00 kiB) of total I/O size.\u001b[0m                                │\n",
       "│  │   ├── \u001b[38;5;166m[Small reads] 'read' time is 98.33% (0.33 seconds) of I/O time.\u001b[0m                                        │\n",
       "│  │   └── \u001b[38;5;166m[Small reads] Average 'read's are 170.67 kiB, which is smaller than 1.00 MiB.\u001b[0m                          │\n",
       "│  └── (1 more)                                                                                                   │\n",
       "│  Process>Time View (2 bottlenecks with 8 reasons)                                                               │\n",
       "│  ├── \u001b[38;5;160m[CR124] 3 processes access 3 files within 1 time period (61) across 69 I/O operations and have an I/O \u001b[0m     │\n",
       "│  │   \u001b[38;5;160mtime of 0.29 seconds which is 12.00% of overall I/O time of the workload.\u001b[0m                                  │\n",
       "│  │   ├── \u001b[38;5;160m[Operation imbalance] 'read' operations are 100.00% (69 operations) of total I/O operations.\u001b[0m           │\n",
       "│  │   ├── \u001b[38;5;160m[Size imbalance] 'read' size is 100.00% (17.25 MiB) of total I/O size.\u001b[0m                                 │\n",
       "│  │   ├── \u001b[38;5;160m[Small reads] 'read' time is 100.00% (0.29 seconds) of I/O time.\u001b[0m                                       │\n",
       "│  │   └── \u001b[38;5;160m[Small reads] Average 'read's are 256.00 kiB, which is smaller than 1.00 MiB.\u001b[0m                          │\n",
       "│  └── (1 more)                                                                                                   │\n",
       "│  Process>File View (1 bottleneck with 4 reasons)                                                                │\n",
       "│  └── \u001b[38;5;160m[CR126] 1 process accesses 1 file (4697642793751056384) within 1 time period across 3 I/O operations and \u001b[0m  │\n",
       "│      \u001b[38;5;160mhas an I/O time of 0.23 seconds which is 9.31% of overall I/O time of the workload.\u001b[0m                        │\n",
       "│      ├── \u001b[38;5;160m[Operation imbalance] 'read' operations are 66.67% (2 operations) of total I/O operations.\u001b[0m             │\n",
       "│      ├── \u001b[38;5;160m[Size imbalance] 'read' size is 100.00% (512.00 kiB) of total I/O size.\u001b[0m                                │\n",
       "│      ├── \u001b[38;5;160m[Small reads] 'read' time is 99.32% (0.23 seconds) of I/O time.\u001b[0m                                        │\n",
       "│      └── \u001b[38;5;160m[Small reads] Average 'read's are 170.67 kiB, which is smaller than 1.00 MiB.\u001b[0m                          │\n",
       "│  Time>File>Process View (1 bottleneck with 4 reasons)                                                           │\n",
       "│  └── \u001b[38;5;106m[LO127] 1 process (app#3711816138385082254#302133#302550) accesses 1 file within 2 time periods across 26\u001b[0m  │\n",
       "│      \u001b[38;5;106mI/O operations and has an I/O time of 0.50 seconds which is 20.51% of overall I/O time of the workload.\u001b[0m    │\n",
       "│      ├── \u001b[38;5;106m[Operation imbalance] 'read' operations are 96.15% (25 operations) of total I/O operations.\u001b[0m            │\n",
       "│      ├── \u001b[38;5;106m[Size imbalance] 'read' size is 100.00% (6.25 MiB) of total I/O size.\u001b[0m                                  │\n",
       "│      ├── \u001b[38;5;106m[Small reads] 'read' time is 99.20% (0.50 seconds) of I/O time.\u001b[0m                                        │\n",
       "│      └── \u001b[38;5;106m[Small reads] Average 'read's are 246.15 kiB, which is smaller than 1.00 MiB.\u001b[0m                          │\n",
       "│  Time>Process>File View (1 bottleneck with 4 reasons)                                                           │\n",
       "│  └── \u001b[38;5;184m[MD128] 1 process accesses 1 file (8613411488301772026) within 2 time periods across 24 I/O operations \u001b[0m    │\n",
       "│      \u001b[38;5;184mand has an I/O time of 0.41 seconds which is 16.74% of overall I/O time of the workload.\u001b[0m                   │\n",
       "│      ├── \u001b[38;5;184m[Operation imbalance] 'read' operations are 100.00% (24 operations) of total I/O operations.\u001b[0m           │\n",
       "│      ├── \u001b[38;5;184m[Size imbalance] 'read' size is 100.00% (6.00 MiB) of total I/O size.\u001b[0m                                  │\n",
       "│      ├── \u001b[38;5;184m[Small reads] 'read' time is 100.00% (0.41 seconds) of I/O time.\u001b[0m                                       │\n",
       "│      └── \u001b[38;5;184m[Small reads] Average 'read's are 256.00 kiB, which is smaller than 1.00 MiB.\u001b[0m                          │\n",
       "│  File>Time>Process View (1 bottleneck with 4 reasons)                                                           │\n",
       "│  └── \u001b[38;5;172m[HI129] 1 process (app#3711816138385082254#302131#302561) accesses 1 file within 1 time period across 3 \u001b[0m   │\n",
       "│      \u001b[38;5;172mI/O operations and has an I/O time of 0.33 seconds which is 13.61% of overall I/O time of the workload.\u001b[0m    │\n",
       "│      ├── \u001b[38;5;172m[Operation imbalance] 'read' operations are 66.67% (2 operations) of total I/O operations.\u001b[0m             │\n",
       "│      ├── \u001b[38;5;172m[Size imbalance] 'read' size is 100.00% (512.00 kiB) of total I/O size.\u001b[0m                                │\n",
       "│      ├── \u001b[38;5;172m[Small reads] 'read' time is 98.33% (0.33 seconds) of I/O time.\u001b[0m                                        │\n",
       "│      └── \u001b[38;5;172m[Small reads] Average 'read's are 170.67 kiB, which is smaller than 1.00 MiB.\u001b[0m                          │\n",
       "│  File>Process>Time View (1 bottleneck with 4 reasons)                                                           │\n",
       "│  └── \u001b[38;5;106m[LO130] 2 processes access 2 files within 1 time period (36) across 6 I/O operations and have an I/O time\u001b[0m  │\n",
       "│      \u001b[38;5;106mof 0.33 seconds which is 13.61% of overall I/O time of the workload.\u001b[0m                                       │\n",
       "│      ├── \u001b[38;5;106m[Operation imbalance] 'read' operations are 66.67% (4 operations) of total I/O operations.\u001b[0m             │\n",
       "│      ├── \u001b[38;5;106m[Size imbalance] 'read' size is 100.00% (1.00 MiB) of total I/O size.\u001b[0m                                  │\n",
       "│      ├── \u001b[38;5;106m[Small reads] 'read' time is 98.33% (0.33 seconds) of I/O time.\u001b[0m                                        │\n",
       "│      └── \u001b[38;5;106m[Small reads] Average 'read's are 170.67 kiB, which is smaller than 1.00 MiB.\u001b[0m                          │\n",
       "│  Process>Time>File View (1 bottleneck with 4 reasons)                                                           │\n",
       "│  └── \u001b[38;5;184m[MD131] 1 process accesses 1 file (13995637173354911817) within 1 time period across 23 I/O operations \u001b[0m    │\n",
       "│      \u001b[38;5;184mand has an I/O time of 0.29 seconds which is 12.00% of overall I/O time of the workload.\u001b[0m                   │\n",
       "│      ├── \u001b[38;5;184m[Operation imbalance] 'read' operations are 100.00% (23 operations) of total I/O operations.\u001b[0m           │\n",
       "│      ├── \u001b[38;5;184m[Size imbalance] 'read' size is 100.00% (5.75 MiB) of total I/O size.\u001b[0m                                  │\n",
       "│      ├── \u001b[38;5;184m[Small reads] 'read' time is 100.00% (0.29 seconds) of I/O time.\u001b[0m                                       │\n",
       "│      └── \u001b[38;5;184m[Small reads] Average 'read's are 256.00 kiB, which is smaller than 1.00 MiB.\u001b[0m                          │\n",
       "│  Process>File>Time View (1 bottleneck with 4 reasons)                                                           │\n",
       "│  └── \u001b[38;5;106m[LO132] 1 process accesses 1 file within 1 time period (36) across 3 I/O operations and has an I/O time \u001b[0m   │\n",
       "│      \u001b[38;5;106mof 0.23 seconds which is 9.31% of overall I/O time of the workload.\u001b[0m                                        │\n",
       "│      ├── \u001b[38;5;106m[Operation imbalance] 'read' operations are 66.67% (2 operations) of total I/O operations.\u001b[0m             │\n",
       "│      ├── \u001b[38;5;106m[Size imbalance] 'read' size is 100.00% (512.00 kiB) of total I/O size.\u001b[0m                                │\n",
       "│      ├── \u001b[38;5;106m[Small reads] 'read' time is 99.32% (0.23 seconds) of I/O time.\u001b[0m                                        │\n",
       "│      └── \u001b[38;5;106m[Small reads] Average 'read's are 170.67 kiB, which is smaller than 1.00 MiB.\u001b[0m                          │\n",
       "│                                                                                                                 │\n",
       "╰─────────────────────────────────────────────────────────────────────────────────────────────────────────────────╯\n"
      ]
     },
     "metadata": {},
     "output_type": "display_data"
    },
    {
     "name": "stdout",
     "output_type": "stream",
     "text": [
      "time: 3.51 s (started: 2024-10-08 20:02:46 -07:00)\n"
     ]
    }
   ],
   "source": [
    "output.handle_result(metrics=cfg.metrics, result=result)"
   ]
  },
  {
   "cell_type": "code",
   "execution_count": null,
   "id": "4763eca1",
   "metadata": {
    "papermill": {
     "duration": 0.005166,
     "end_time": "2024-10-09T03:02:49.884940",
     "exception": false,
     "start_time": "2024-10-09T03:02:49.879774",
     "status": "completed"
    },
    "tags": []
   },
   "outputs": [],
   "source": []
  }
 ],
 "metadata": {
  "kernelspec": {
   "display_name": "venv-corona",
   "language": "python",
   "name": "python3"
  },
  "language_info": {
   "codemirror_mode": {
    "name": "ipython",
    "version": 3
   },
   "file_extension": ".py",
   "mimetype": "text/x-python",
   "name": "python",
   "nbconvert_exporter": "python",
   "pygments_lexer": "ipython3",
   "version": "3.9.12"
  },
  "papermill": {
   "default_parameters": {},
   "duration": 112.134959,
   "end_time": "2024-10-09T03:02:52.509409",
   "environment_variables": {},
   "exception": null,
   "input_path": "analysis.ipynb",
   "output_path": "analysis-dftracer-resnet50-dlio-v100-node-4-v1.ipynb",
   "parameters": {
    "analyzer": "dftracer",
    "checkpoint": true,
    "checkpoint_dir": "/usr/workspace/iopp/wisio_logs/_checkpoints/dftracer-resnet50-dlio-v100-node-4-v1",
    "logical_view_types": false,
    "output_max_bottlenecks": 1,
    "output_root_only": false,
    "percentile": 0.99,
    "run_dir": ".wisio/dftracer/resnet50-dlio-v100-node-4-v1",
    "trace_path": "/p/lustre3/iopp/dftracer-traces-lfs/v1.0.5-develop/corona/resnet50/dlio-v100/node-4/v1/RAW/*.pfw.gz"
   },
   "start_time": "2024-10-09T03:01:00.374450",
   "version": "2.6.0"
  }
 },
 "nbformat": 4,
 "nbformat_minor": 5
}
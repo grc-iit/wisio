{
 "cells": [
  {
   "cell_type": "code",
   "execution_count": null,
   "metadata": {},
   "outputs": [],
   "source": [
    "!pip install duckdb"
   ]
  },
  {
   "cell_type": "code",
   "execution_count": null,
   "metadata": {},
   "outputs": [],
   "source": [
    "import duckdb"
   ]
  },
  {
   "cell_type": "code",
   "execution_count": null,
   "metadata": {},
   "outputs": [],
   "source": [
    "# !rm /p/vast1/iopp/recorder_app_logs/genome_pegasus/nodes-32/_parquet/*.parquet\n",
    "!ls /p/vast1/iopp/recorder_app_logs/genome_pegasus/nodes-32/_parquet"
   ]
  },
  {
   "cell_type": "code",
   "execution_count": null,
   "metadata": {},
   "outputs": [],
   "source": [
    "duckdb.query('''\n",
    "    select count(*)\n",
    "    from '/p/vast1/iopp/recorder_app_logs/genome_pegasus/nodes-32/_parquet/0_0.parquet'\n",
    "''').to_df()"
   ]
  },
  {
   "cell_type": "code",
   "execution_count": null,
   "metadata": {},
   "outputs": [],
   "source": [
    "import datafusion\n",
    "from datafusion import column\n",
    "from datafusion import functions as f\n",
    "\n",
    "ctx = datafusion.SessionContext()\n",
    "# df = ctx.read_parquet(\"/p/vast1/iopp/recorder_app_logs/genome_pegasus/nodes-32/_parquet/indexed/file_id/*.parquet\")\n",
    "# df = ctx.read_parquet(\"/p/vast1/iopp/recorder_app_logs/cm1/nodes-32/workflow-4/_parquet/indexed/file_id/*.parquet\")\n",
    "# df = ctx.read_parquet(\"/p/vast1/iopp/recorder_app_logs/cm1/nodes-32/workflow-4/_parquet/*.parquet\")\n",
    "# df = ctx.read_parquet(\"/p/vast1/iopp/recorder_app_logs/hacc/nodes-32/workflow-0/_parquet/*.parquet\")\n",
    "ctx"
   ]
  },
  {
   "cell_type": "code",
   "execution_count": null,
   "metadata": {},
   "outputs": [],
   "source": [
    "df = ctx.read_parquet(\"/p/vast1/iopp/recorder_app_logs/montage/nodes-32/_parquet/*.parquet\")\n",
    "df"
   ]
  },
  {
   "cell_type": "code",
   "execution_count": null,
   "metadata": {},
   "outputs": [],
   "source": [
    "%%time\n",
    "results = df.aggregate([column(\"filename\")], [f.sum(column(\"duration\"))]).sort(column(\"SUM(?table?.duration)\").sort(ascending=False)).collect()\n",
    "len(results)"
   ]
  },
  {
   "cell_type": "code",
   "execution_count": null,
   "metadata": {},
   "outputs": [],
   "source": [
    "%%time\n",
    "sum([len(results[r].columns[0]) for r in range(len(results))])"
   ]
  },
  {
   "cell_type": "code",
   "execution_count": null,
   "metadata": {},
   "outputs": [],
   "source": [
    "%%time\n",
    "results[0].column(0)[0], results[0].column(1)[0]"
   ]
  },
  {
   "cell_type": "code",
   "execution_count": null,
   "metadata": {},
   "outputs": [],
   "source": [
    "%%time\n",
    "results = df.aggregate([column(\"filename\")], [f.sum(column(\"size\"))]).sort(column(\"SUM(?table?.size)\").sort(ascending=False)).collect()\n",
    "len(results)"
   ]
  },
  {
   "cell_type": "code",
   "execution_count": null,
   "metadata": {},
   "outputs": [],
   "source": [
    "%%time\n",
    "sum([len(results[r].columns[0]) for r in range(len(results))])"
   ]
  },
  {
   "cell_type": "code",
   "execution_count": null,
   "metadata": {},
   "outputs": [],
   "source": [
    "%%time\n",
    "results[0].column(0)[0], results[0].column(1)[0]"
   ]
  },
  {
   "cell_type": "code",
   "execution_count": null,
   "metadata": {},
   "outputs": [],
   "source": [
    "%%time\n",
    "results = df.aggregate([column(\"filename\"), column(\"proc_id\"), column(\"io_cat\")], [f.sum(column(\"size\"))]).sort(column(\"SUM(?table?.size)\").sort(ascending=False)).collect()\n",
    "len(results)"
   ]
  },
  {
   "cell_type": "code",
   "execution_count": null,
   "metadata": {},
   "outputs": [],
   "source": [
    "%%time\n",
    "sum([len(results[r].columns[0]) for r in range(len(results))])"
   ]
  },
  {
   "cell_type": "code",
   "execution_count": null,
   "metadata": {},
   "outputs": [],
   "source": [
    "%%time\n",
    "results[0].column(0)[0], results[0].column(1)[0], results[0].column(2)[0], results[0].column(3)[0]"
   ]
  },
  {
   "cell_type": "code",
   "execution_count": null,
   "metadata": {},
   "outputs": [],
   "source": [
    "results[0].column(0)[1], results[0].column(1)[1], results[0].column(2)[1], results[0].column(3)[1]"
   ]
  },
  {
   "cell_type": "code",
   "execution_count": null,
   "metadata": {},
   "outputs": [],
   "source": [
    "ctx2 = datafusion.SessionContext()\n",
    "# df = ctx.read_parquet(\"/p/vast1/iopp/recorder_app_logs/genome_pegasus/nodes-32/_parquet/indexed/file_id/*.parquet\")\n",
    "# df = ctx.read_parquet(\"/p/vast1/iopp/recorder_app_logs/cm1/nodes-32/workflow-4/_parquet/indexed/file_id/*.parquet\")\n",
    "# df = ctx.read_parquet(\"/p/vast1/iopp/recorder_app_logs/cm1/nodes-32/workflow-4/_parquet/*.parquet\")\n",
    "# df = ctx.read_parquet(\"/p/vast1/iopp/recorder_app_logs/hacc/nodes-32/workflow-0/_parquet/*.parquet\")\n",
    "ctx2.register_parquet(\"montage\", \"/p/vast1/iopp/recorder_app_logs/montage/nodes-32/_parquet/*.parquet\")\n",
    "\n",
    "ctx2"
   ]
  },
  {
   "cell_type": "code",
   "execution_count": null,
   "metadata": {},
   "outputs": [],
   "source": [
    "%%time\n",
    "sql_df = ctx2.sql(\"SELECT filename, SUM(duration) FROM montage GROUP BY filename LIMIT 100\")\n",
    "sql_res = sql_df.collect()\n",
    "sql_res"
   ]
  },
  {
   "cell_type": "code",
   "execution_count": null,
   "metadata": {},
   "outputs": [],
   "source": [
    "len(sql_res)"
   ]
  },
  {
   "cell_type": "code",
   "execution_count": null,
   "metadata": {},
   "outputs": [],
   "source": [
    "sql_res[0].column(0)[0], sql_res[0].column(1)[0]"
   ]
  },
  {
   "cell_type": "code",
   "execution_count": null,
   "metadata": {},
   "outputs": [],
   "source": [
    "ctx2.register_parquet(\"hacc\", \"/p/vast1/iopp/recorder_app_logs/hacc/nodes-32/workflow-0/_parquet/*.parquet\")"
   ]
  },
  {
   "cell_type": "code",
   "execution_count": null,
   "metadata": {},
   "outputs": [],
   "source": [
    "%%time\n",
    "sql_hacc_df = ctx2.sql(\"SELECT filename, SUM(duration) FROM hacc GROUP BY filename LIMIT 100\")\n",
    "sql_hacc_res = sql_hacc_df.collect()\n",
    "sql_hacc_res"
   ]
  },
  {
   "cell_type": "code",
   "execution_count": null,
   "metadata": {},
   "outputs": [],
   "source": [
    "sql_hacc_res[0].column(0)[0], sql_hacc_res[0].column(1)[0]"
   ]
  },
  {
   "cell_type": "code",
   "execution_count": null,
   "metadata": {},
   "outputs": [],
   "source": [
    "ctx2.register_parquet(\"genome\", \"/p/vast1/iopp/recorder_app_logs/genome_pegasus/nodes-32/_parquet/*.parquet\")"
   ]
  },
  {
   "cell_type": "code",
   "execution_count": null,
   "metadata": {},
   "outputs": [],
   "source": [
    "%%time\n",
    "sql_gen_df = ctx2.sql(\"SELECT filename, SUM(duration) FROM genome GROUP BY filename LIMIT 100\")\n",
    "sql_gen_res = sql_gen_df.collect()\n",
    "sql_gen_res"
   ]
  },
  {
   "cell_type": "code",
   "execution_count": null,
   "metadata": {},
   "outputs": [],
   "source": [
    "gen_df_0 = ctx.read_parquet(\"/p/vast1/iopp/recorder_app_logs/genome_pegasus/nodes-32/_parquet/0_0.parquet\")\n",
    "gen_df_0"
   ]
  },
  {
   "cell_type": "code",
   "execution_count": null,
   "metadata": {},
   "outputs": [],
   "source": [
    "%%time\n",
    "gen_res_0 = gen_df_0.aggregate(\n",
    "    [column(\"filename\"), column(\"proc_id\"), column(\"io_cat\")], \n",
    "    [f.sum(column(\"duration\")), f.sum(column(\"size\")), f.count(column(\"index\"))]\n",
    ").sort(column(\"COUNT(?table?.index)\").sort(ascending=False)).collect()\n",
    "len(gen_res_0)"
   ]
  },
  {
   "cell_type": "code",
   "execution_count": null,
   "metadata": {},
   "outputs": [],
   "source": [
    "gen_res_0[0].column(0)[0], gen_res_0[0].column(1)[0], gen_res_0[0].column(2)[0], gen_res_0[0].column(3)[0], gen_res_0[0].column(4)[0], gen_res_0[0].column(5)[0]"
   ]
  },
  {
   "cell_type": "code",
   "execution_count": null,
   "metadata": {},
   "outputs": [],
   "source": [
    "gen_res_0[0].to_pandas()"
   ]
  },
  {
   "cell_type": "code",
   "execution_count": null,
   "metadata": {},
   "outputs": [],
   "source": [
    "cm1_dir = \"/p/vast1/iopp/recorder_app_logs/cm1/nodes-32/workflow-4/_parquet\"\n",
    "\n",
    "cm1_ddf = dd.read_parquet(f\"{cm1_dir}/*.parquet\")\n",
    "\n",
    "cm1_ddf"
   ]
  },
  {
   "cell_type": "code",
   "execution_count": null,
   "metadata": {},
   "outputs": [],
   "source": [
    "import polars as pl\n",
    "\n",
    "# cm1_pl_df = pl.read_parquet(f\"{cm1_dir}/*.parquet\")\n",
    "\n",
    "# cm1_pl_df"
   ]
  },
  {
   "cell_type": "code",
   "execution_count": null,
   "metadata": {},
   "outputs": [],
   "source": [
    "%%time\n",
    "cm1_pl_agg_df = cm1_pl_df \\\n",
    "    .groupby([\"filename\", \"proc_id\", \"io_cat\"]) \\\n",
    "    .agg([pl.sum(\"duration\"), pl.sum(\"size\")]) \\\n",
    "    .sort(\"duration\", reverse=True)\n",
    "cm1_pl_agg_df\n"
   ]
  },
  {
   "cell_type": "code",
   "execution_count": null,
   "metadata": {},
   "outputs": [],
   "source": [
    "cm1_pl_agg_df[0]['filename']"
   ]
  },
  {
   "cell_type": "code",
   "execution_count": null,
   "metadata": {},
   "outputs": [],
   "source": [
    "gen_dir = \"/p/vast1/iopp/recorder_app_logs/genome_pegasus/nodes-32/_parquet\"\n",
    "# gen_pl_df = pl.read_parquet(f\"{gen_dir}/*.parquet\", n_rows=10)"
   ]
  },
  {
   "cell_type": "code",
   "execution_count": null,
   "metadata": {},
   "outputs": [],
   "source": [
    "q1 = (\n",
    "    pl.scan_parquet(f\"{gen_dir}/*.parquet\")\n",
    "    .groupby([\"file_id\", \"proc_id\", \"io_cat\"])\n",
    "    .agg([pl.sum(\"duration\"), pl.sum(\"size\")])\n",
    "    .sort(\"duration\", reverse=True)\n",
    ")\n",
    "# q1"
   ]
  },
  {
   "cell_type": "code",
   "execution_count": null,
   "metadata": {},
   "outputs": [],
   "source": [
    "%%time\n",
    "q1.collect()"
   ]
  },
  {
   "cell_type": "code",
   "execution_count": null,
   "metadata": {},
   "outputs": [],
   "source": []
  }
 ],
 "metadata": {
  "kernelspec": {
   "display_name": "iopp",
   "language": "python",
   "name": "iopp"
  },
  "language_info": {
   "codemirror_mode": {
    "name": "ipython",
    "version": 3
   },
   "file_extension": ".py",
   "mimetype": "text/x-python",
   "name": "python",
   "nbconvert_exporter": "python",
   "pygments_lexer": "ipython3",
   "version": "3.9.7"
  },
  "vscode": {
   "interpreter": {
    "hash": "5fec0851e4f6f01b6df5374e9d9a00bfd82bb6133a08238edb641111344e8885"
   }
  }
 },
 "nbformat": 4,
 "nbformat_minor": 4
}

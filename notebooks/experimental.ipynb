{
 "cells": [
  {
   "cell_type": "code",
   "execution_count": 1,
   "metadata": {},
   "outputs": [],
   "source": [
    "import duckdb"
   ]
  },
  {
   "cell_type": "code",
   "execution_count": 2,
   "metadata": {},
   "outputs": [
    {
     "name": "stdout",
     "output_type": "stream",
     "text": [
      "0_0.parquet    18_11.parquet  23_6.parquet   29_61.parquet  5_21.parquet\n",
      "10_0.parquet   18_12.parquet  23_7.parquet   29_62.parquet  5_22.parquet\n",
      "10_1.parquet   18_13.parquet  23_8.parquet   29_63.parquet  5_23.parquet\n",
      "10_10.parquet  18_14.parquet  23_9.parquet   29_64.parquet  5_24.parquet\n",
      "10_11.parquet  18_15.parquet  24_0.parquet   29_65.parquet  5_25.parquet\n",
      "10_12.parquet  18_16.parquet  24_1.parquet   29_66.parquet  5_26.parquet\n",
      "10_13.parquet  18_17.parquet  24_10.parquet  29_67.parquet  5_27.parquet\n",
      "10_14.parquet  18_18.parquet  24_11.parquet  29_68.parquet  5_28.parquet\n",
      "10_15.parquet  18_19.parquet  24_12.parquet  29_69.parquet  5_29.parquet\n",
      "10_16.parquet  18_2.parquet   24_13.parquet  29_7.parquet   5_3.parquet\n",
      "10_17.parquet  18_3.parquet   24_14.parquet  29_70.parquet  5_4.parquet\n",
      "10_18.parquet  18_4.parquet   24_15.parquet  29_71.parquet  5_5.parquet\n",
      "10_19.parquet  18_5.parquet   24_16.parquet  29_72.parquet  5_6.parquet\n",
      "10_2.parquet   18_6.parquet   24_2.parquet   29_73.parquet  5_7.parquet\n",
      "10_20.parquet  18_7.parquet   24_3.parquet   29_74.parquet  5_8.parquet\n",
      "10_21.parquet  18_8.parquet   24_4.parquet   29_75.parquet  5_9.parquet\n",
      "10_22.parquet  18_9.parquet   24_5.parquet   29_76.parquet  6_0.parquet\n",
      "10_23.parquet  19_0.parquet   24_6.parquet   29_77.parquet  6_1.parquet\n",
      "10_24.parquet  19_1.parquet   24_7.parquet   29_78.parquet  6_10.parquet\n",
      "10_25.parquet  19_10.parquet  24_8.parquet   29_79.parquet  6_11.parquet\n",
      "10_26.parquet  19_11.parquet  24_9.parquet   29_8.parquet   6_12.parquet\n",
      "10_27.parquet  19_12.parquet  25_0.parquet   29_80.parquet  6_13.parquet\n",
      "10_3.parquet   19_13.parquet  25_1.parquet   29_81.parquet  6_14.parquet\n",
      "10_4.parquet   19_14.parquet  25_10.parquet  29_82.parquet  6_15.parquet\n",
      "10_5.parquet   19_15.parquet  25_11.parquet  29_83.parquet  6_16.parquet\n",
      "10_6.parquet   19_16.parquet  25_12.parquet  29_84.parquet  6_17.parquet\n",
      "10_7.parquet   19_17.parquet  25_13.parquet  29_85.parquet  6_18.parquet\n",
      "10_8.parquet   19_18.parquet  25_14.parquet  29_86.parquet  6_19.parquet\n",
      "10_9.parquet   19_19.parquet  25_15.parquet  29_87.parquet  6_2.parquet\n",
      "11_0.parquet   19_2.parquet   25_16.parquet  29_9.parquet   6_20.parquet\n",
      "11_1.parquet   19_20.parquet  25_2.parquet   2_0.parquet    6_21.parquet\n",
      "11_10.parquet  19_21.parquet  25_3.parquet   2_1.parquet    6_22.parquet\n",
      "11_11.parquet  19_22.parquet  25_4.parquet   2_10.parquet   6_23.parquet\n",
      "11_12.parquet  19_3.parquet   25_5.parquet   2_11.parquet   6_24.parquet\n",
      "11_13.parquet  19_4.parquet   25_6.parquet   2_12.parquet   6_25.parquet\n",
      "11_14.parquet  19_5.parquet   25_7.parquet   2_13.parquet   6_26.parquet\n",
      "11_15.parquet  19_6.parquet   25_8.parquet   2_14.parquet   6_27.parquet\n",
      "11_16.parquet  19_7.parquet   25_9.parquet   2_15.parquet   6_28.parquet\n",
      "11_17.parquet  19_8.parquet   26_0.parquet   2_16.parquet   6_29.parquet\n",
      "11_18.parquet  19_9.parquet   26_1.parquet   2_17.parquet   6_3.parquet\n",
      "11_2.parquet   1_0.parquet    26_10.parquet  2_18.parquet   6_4.parquet\n",
      "11_3.parquet   1_1.parquet    26_11.parquet  2_19.parquet   6_5.parquet\n",
      "11_4.parquet   1_10.parquet   26_12.parquet  2_2.parquet    6_6.parquet\n",
      "11_5.parquet   1_11.parquet   26_13.parquet  2_20.parquet   6_7.parquet\n",
      "11_6.parquet   1_12.parquet   26_14.parquet  2_21.parquet   6_8.parquet\n",
      "11_7.parquet   1_13.parquet   26_2.parquet   2_22.parquet   6_9.parquet\n",
      "11_8.parquet   1_14.parquet   26_3.parquet   2_23.parquet   7_0.parquet\n",
      "11_9.parquet   1_15.parquet   26_4.parquet   2_24.parquet   7_1.parquet\n",
      "12_0.parquet   1_16.parquet   26_5.parquet   2_25.parquet   7_10.parquet\n",
      "12_1.parquet   1_17.parquet   26_6.parquet   2_26.parquet   7_11.parquet\n",
      "12_10.parquet  1_18.parquet   26_7.parquet   2_27.parquet   7_12.parquet\n",
      "12_11.parquet  1_19.parquet   26_8.parquet   2_28.parquet   7_13.parquet\n",
      "12_12.parquet  1_2.parquet    26_9.parquet   2_3.parquet    7_14.parquet\n",
      "12_2.parquet   1_20.parquet   27_0.parquet   2_4.parquet    7_15.parquet\n",
      "12_3.parquet   1_21.parquet   27_1.parquet   2_5.parquet    7_16.parquet\n",
      "12_4.parquet   1_22.parquet   27_10.parquet  2_6.parquet    7_17.parquet\n",
      "12_5.parquet   1_23.parquet   27_11.parquet  2_7.parquet    7_18.parquet\n",
      "12_6.parquet   1_24.parquet   27_12.parquet  2_8.parquet    7_19.parquet\n",
      "12_7.parquet   1_3.parquet    27_13.parquet  2_9.parquet    7_2.parquet\n",
      "12_8.parquet   1_4.parquet    27_14.parquet  30_0.parquet   7_20.parquet\n",
      "12_9.parquet   1_5.parquet    27_15.parquet  30_1.parquet   7_21.parquet\n",
      "13_0.parquet   1_6.parquet    27_2.parquet   30_2.parquet   7_22.parquet\n",
      "13_1.parquet   1_7.parquet    27_3.parquet   30_3.parquet   7_23.parquet\n",
      "13_10.parquet  1_8.parquet    27_4.parquet   30_4.parquet   7_24.parquet\n",
      "13_11.parquet  1_9.parquet    27_5.parquet   31_0.parquet   7_25.parquet\n",
      "13_12.parquet  20_0.parquet   27_6.parquet   31_1.parquet   7_26.parquet\n",
      "13_13.parquet  20_1.parquet   27_7.parquet   31_2.parquet   7_27.parquet\n",
      "13_14.parquet  20_10.parquet  27_8.parquet   31_3.parquet   7_28.parquet\n",
      "13_15.parquet  20_11.parquet  27_9.parquet   31_4.parquet   7_3.parquet\n",
      "13_16.parquet  20_12.parquet  28_0.parquet   3_0.parquet    7_4.parquet\n",
      "13_17.parquet  20_13.parquet  28_1.parquet   3_1.parquet    7_5.parquet\n",
      "13_18.parquet  20_14.parquet  28_10.parquet  3_10.parquet   7_6.parquet\n",
      "13_19.parquet  20_15.parquet  28_11.parquet  3_11.parquet   7_7.parquet\n",
      "13_2.parquet   20_16.parquet  28_12.parquet  3_12.parquet   7_8.parquet\n",
      "13_20.parquet  20_17.parquet  28_13.parquet  3_13.parquet   7_9.parquet\n",
      "13_21.parquet  20_2.parquet   28_2.parquet   3_14.parquet   8_0.parquet\n",
      "13_22.parquet  20_3.parquet   28_3.parquet   3_15.parquet   8_1.parquet\n",
      "13_23.parquet  20_4.parquet   28_4.parquet   3_16.parquet   8_10.parquet\n",
      "13_3.parquet   20_5.parquet   28_5.parquet   3_17.parquet   8_11.parquet\n",
      "13_4.parquet   20_6.parquet   28_6.parquet   3_18.parquet   8_12.parquet\n",
      "13_5.parquet   20_7.parquet   28_7.parquet   3_19.parquet   8_13.parquet\n",
      "13_6.parquet   20_8.parquet   28_8.parquet   3_2.parquet    8_14.parquet\n",
      "13_7.parquet   20_9.parquet   28_9.parquet   3_20.parquet   8_15.parquet\n",
      "13_8.parquet   21_0.parquet   29_0.parquet   3_21.parquet   8_16.parquet\n",
      "13_9.parquet   21_1.parquet   29_1.parquet   3_22.parquet   8_17.parquet\n",
      "14_0.parquet   21_10.parquet  29_10.parquet  3_23.parquet   8_18.parquet\n",
      "14_1.parquet   21_11.parquet  29_11.parquet  3_24.parquet   8_19.parquet\n",
      "14_10.parquet  21_12.parquet  29_12.parquet  3_25.parquet   8_2.parquet\n",
      "14_11.parquet  21_13.parquet  29_13.parquet  3_26.parquet   8_20.parquet\n",
      "14_2.parquet   21_14.parquet  29_14.parquet  3_27.parquet   8_21.parquet\n",
      "14_3.parquet   21_15.parquet  29_15.parquet  3_28.parquet   8_22.parquet\n",
      "14_4.parquet   21_16.parquet  29_16.parquet  3_3.parquet    8_23.parquet\n",
      "14_5.parquet   21_17.parquet  29_17.parquet  3_4.parquet    8_24.parquet\n",
      "14_6.parquet   21_18.parquet  29_18.parquet  3_5.parquet    8_25.parquet\n",
      "14_7.parquet   21_19.parquet  29_19.parquet  3_6.parquet    8_26.parquet\n",
      "14_8.parquet   21_2.parquet   29_2.parquet   3_7.parquet    8_27.parquet\n",
      "14_9.parquet   21_20.parquet  29_20.parquet  3_8.parquet    8_28.parquet\n",
      "15_0.parquet   21_21.parquet  29_21.parquet  3_9.parquet    8_29.parquet\n",
      "15_1.parquet   21_22.parquet  29_22.parquet  4_0.parquet    8_3.parquet\n",
      "15_2.parquet   21_3.parquet   29_23.parquet  4_1.parquet    8_4.parquet\n",
      "15_3.parquet   21_4.parquet   29_24.parquet  4_10.parquet   8_5.parquet\n",
      "15_4.parquet   21_5.parquet   29_25.parquet  4_11.parquet   8_6.parquet\n",
      "15_5.parquet   21_6.parquet   29_26.parquet  4_12.parquet   8_7.parquet\n",
      "15_6.parquet   21_7.parquet   29_27.parquet  4_13.parquet   8_8.parquet\n",
      "16_0.parquet   21_8.parquet   29_28.parquet  4_14.parquet   8_9.parquet\n",
      "16_1.parquet   21_9.parquet   29_29.parquet  4_15.parquet   9_0.parquet\n",
      "16_10.parquet  22_0.parquet   29_3.parquet   4_16.parquet   9_1.parquet\n",
      "16_11.parquet  22_1.parquet   29_30.parquet  4_17.parquet   9_10.parquet\n",
      "16_12.parquet  22_10.parquet  29_31.parquet  4_18.parquet   9_11.parquet\n",
      "16_2.parquet   22_11.parquet  29_32.parquet  4_19.parquet   9_12.parquet\n",
      "16_3.parquet   22_12.parquet  29_33.parquet  4_2.parquet    9_13.parquet\n",
      "16_4.parquet   22_13.parquet  29_34.parquet  4_20.parquet   9_14.parquet\n",
      "16_5.parquet   22_14.parquet  29_35.parquet  4_21.parquet   9_15.parquet\n",
      "16_6.parquet   22_15.parquet  29_36.parquet  4_22.parquet   9_16.parquet\n",
      "16_7.parquet   22_16.parquet  29_37.parquet  4_23.parquet   9_17.parquet\n",
      "16_8.parquet   22_17.parquet  29_38.parquet  4_24.parquet   9_18.parquet\n",
      "16_9.parquet   22_18.parquet  29_39.parquet  4_25.parquet   9_19.parquet\n",
      "17_0.parquet   22_2.parquet   29_4.parquet   4_26.parquet   9_2.parquet\n",
      "17_1.parquet   22_3.parquet   29_40.parquet  4_27.parquet   9_20.parquet\n",
      "17_10.parquet  22_4.parquet   29_41.parquet  4_28.parquet   9_21.parquet\n",
      "17_11.parquet  22_5.parquet   29_42.parquet  4_3.parquet    9_22.parquet\n",
      "17_12.parquet  22_6.parquet   29_43.parquet  4_4.parquet    9_23.parquet\n",
      "17_13.parquet  22_7.parquet   29_44.parquet  4_5.parquet    9_24.parquet\n",
      "17_14.parquet  22_8.parquet   29_45.parquet  4_6.parquet    9_25.parquet\n",
      "17_15.parquet  22_9.parquet   29_46.parquet  4_7.parquet    9_26.parquet\n",
      "17_16.parquet  23_0.parquet   29_47.parquet  4_8.parquet    9_27.parquet\n",
      "17_17.parquet  23_1.parquet   29_48.parquet  4_9.parquet    9_28.parquet\n",
      "17_18.parquet  23_10.parquet  29_49.parquet  5_0.parquet    9_3.parquet\n",
      "17_19.parquet  23_11.parquet  29_5.parquet   5_1.parquet    9_4.parquet\n",
      "17_2.parquet   23_12.parquet  29_50.parquet  5_10.parquet   9_5.parquet\n",
      "17_20.parquet  23_13.parquet  29_51.parquet  5_11.parquet   9_6.parquet\n",
      "17_3.parquet   23_14.parquet  29_52.parquet  5_12.parquet   9_7.parquet\n",
      "17_4.parquet   23_15.parquet  29_53.parquet  5_13.parquet   9_8.parquet\n",
      "17_5.parquet   23_16.parquet  29_54.parquet  5_14.parquet   9_9.parquet\n",
      "17_6.parquet   23_17.parquet  29_55.parquet  5_15.parquet   global.json\n",
      "17_7.parquet   23_18.parquet  29_56.parquet  5_16.parquet   indexed\n",
      "17_8.parquet   23_19.parquet  29_57.parquet  5_17.parquet   stage1\n",
      "17_9.parquet   23_2.parquet   29_58.parquet  5_18.parquet\n",
      "18_0.parquet   23_3.parquet   29_59.parquet  5_19.parquet\n",
      "18_1.parquet   23_4.parquet   29_6.parquet   5_2.parquet\n",
      "18_10.parquet  23_5.parquet   29_60.parquet  5_20.parquet\n"
     ]
    }
   ],
   "source": [
    "# !rm /p/vast1/iopp/recorder_app_logs/genome_pegasus/nodes-32/_parquet/*.parquet\n",
    "!ls /p/vast1/iopp/recorder_app_logs/genome_pegasus/nodes-32/_parquet"
   ]
  },
  {
   "cell_type": "code",
   "execution_count": 3,
   "metadata": {},
   "outputs": [
    {
     "data": {
      "text/html": [
       "<div>\n",
       "<style scoped>\n",
       "    .dataframe tbody tr th:only-of-type {\n",
       "        vertical-align: middle;\n",
       "    }\n",
       "\n",
       "    .dataframe tbody tr th {\n",
       "        vertical-align: top;\n",
       "    }\n",
       "\n",
       "    .dataframe thead th {\n",
       "        text-align: right;\n",
       "    }\n",
       "</style>\n",
       "<table border=\"1\" class=\"dataframe\">\n",
       "  <thead>\n",
       "    <tr style=\"text-align: right;\">\n",
       "      <th></th>\n",
       "      <th>count_star()</th>\n",
       "    </tr>\n",
       "  </thead>\n",
       "  <tbody>\n",
       "    <tr>\n",
       "      <th>0</th>\n",
       "      <td>164121</td>\n",
       "    </tr>\n",
       "  </tbody>\n",
       "</table>\n",
       "</div>"
      ],
      "text/plain": [
       "   count_star()\n",
       "0        164121"
      ]
     },
     "execution_count": 3,
     "metadata": {},
     "output_type": "execute_result"
    }
   ],
   "source": [
    "duckdb.query('''\n",
    "    select count(*)\n",
    "    from '/p/vast1/iopp/recorder_app_logs/genome_pegasus/nodes-32/_parquet/0_0.parquet'\n",
    "''').to_df()"
   ]
  },
  {
   "cell_type": "code",
   "execution_count": 1,
   "metadata": {},
   "outputs": [
    {
     "data": {
      "text/plain": [
       "<datafusion.SessionContext at 0x2aaab76f9bc0>"
      ]
     },
     "execution_count": 1,
     "metadata": {},
     "output_type": "execute_result"
    }
   ],
   "source": [
    "import datafusion\n",
    "from datafusion import column\n",
    "from datafusion import functions as f\n",
    "\n",
    "ctx = datafusion.SessionContext()\n",
    "# df = ctx.read_parquet(\"/p/vast1/iopp/recorder_app_logs/genome_pegasus/nodes-32/_parquet/indexed/file_id/*.parquet\")\n",
    "# df = ctx.read_parquet(\"/p/vast1/iopp/recorder_app_logs/cm1/nodes-32/workflow-4/_parquet/indexed/file_id/*.parquet\")\n",
    "# df = ctx.read_parquet(\"/p/vast1/iopp/recorder_app_logs/cm1/nodes-32/workflow-4/_parquet/*.parquet\")\n",
    "# df = ctx.read_parquet(\"/p/vast1/iopp/recorder_app_logs/hacc/nodes-32/workflow-0/_parquet/*.parquet\")\n",
    "ctx"
   ]
  },
  {
   "cell_type": "code",
   "execution_count": null,
   "metadata": {},
   "outputs": [],
   "source": [
    "df = ctx.read_parquet(\"/p/vast1/iopp/recorder_app_logs/montage/nodes-32/_parquet/*.parquet\")\n",
    "df"
   ]
  },
  {
   "cell_type": "code",
   "execution_count": 23,
   "metadata": {},
   "outputs": [
    {
     "name": "stdout",
     "output_type": "stream",
     "text": [
      "CPU times: user 4.18 s, sys: 2.57 s, total: 6.76 s\n",
      "Wall time: 18.5 s\n"
     ]
    },
    {
     "data": {
      "text/plain": [
       "1"
      ]
     },
     "execution_count": 23,
     "metadata": {},
     "output_type": "execute_result"
    }
   ],
   "source": [
    "%%time\n",
    "results = df.aggregate([column(\"filename\")], [f.sum(column(\"duration\"))]).sort(column(\"SUM(?table?.duration)\").sort(ascending=False)).collect()\n",
    "len(results)"
   ]
  },
  {
   "cell_type": "code",
   "execution_count": 24,
   "metadata": {},
   "outputs": [
    {
     "name": "stdout",
     "output_type": "stream",
     "text": [
      "CPU times: user 28 µs, sys: 24 µs, total: 52 µs\n",
      "Wall time: 60.1 µs\n"
     ]
    },
    {
     "data": {
      "text/plain": [
       "1934"
      ]
     },
     "execution_count": 24,
     "metadata": {},
     "output_type": "execute_result"
    }
   ],
   "source": [
    "%%time\n",
    "sum([len(results[r].columns[0]) for r in range(len(results))])"
   ]
  },
  {
   "cell_type": "code",
   "execution_count": 26,
   "metadata": {},
   "outputs": [
    {
     "name": "stdout",
     "output_type": "stream",
     "text": [
      "CPU times: user 38 µs, sys: 31 µs, total: 69 µs\n",
      "Wall time: 78.7 µs\n"
     ]
    },
    {
     "data": {
      "text/plain": [
       "(<pyarrow.StringScalar: ''>, <pyarrow.DoubleScalar: 183.01135390461445>)"
      ]
     },
     "execution_count": 26,
     "metadata": {},
     "output_type": "execute_result"
    }
   ],
   "source": [
    "%%time\n",
    "results[0].column(0)[0], results[0].column(1)[0]"
   ]
  },
  {
   "cell_type": "code",
   "execution_count": 27,
   "metadata": {},
   "outputs": [
    {
     "name": "stdout",
     "output_type": "stream",
     "text": [
      "CPU times: user 4.01 s, sys: 1.94 s, total: 5.95 s\n",
      "Wall time: 12.1 s\n"
     ]
    },
    {
     "data": {
      "text/plain": [
       "1"
      ]
     },
     "execution_count": 27,
     "metadata": {},
     "output_type": "execute_result"
    }
   ],
   "source": [
    "%%time\n",
    "results = df.aggregate([column(\"filename\")], [f.sum(column(\"size\"))]).sort(column(\"SUM(?table?.size)\").sort(ascending=False)).collect()\n",
    "len(results)"
   ]
  },
  {
   "cell_type": "code",
   "execution_count": 28,
   "metadata": {},
   "outputs": [
    {
     "name": "stdout",
     "output_type": "stream",
     "text": [
      "CPU times: user 51 µs, sys: 0 ns, total: 51 µs\n",
      "Wall time: 58.7 µs\n"
     ]
    },
    {
     "data": {
      "text/plain": [
       "1934"
      ]
     },
     "execution_count": 28,
     "metadata": {},
     "output_type": "execute_result"
    }
   ],
   "source": [
    "%%time\n",
    "sum([len(results[r].columns[0]) for r in range(len(results))])"
   ]
  },
  {
   "cell_type": "code",
   "execution_count": 29,
   "metadata": {},
   "outputs": [
    {
     "name": "stdout",
     "output_type": "stream",
     "text": [
      "CPU times: user 34 µs, sys: 25 µs, total: 59 µs\n",
      "Wall time: 65.6 µs\n"
     ]
    },
    {
     "data": {
      "text/plain": [
       "(<pyarrow.StringScalar: '/p/gpfs1/iopp/temp/montage/2854964/5/run/ngc3372.fits'>,\n",
       " <pyarrow.Int64Scalar: 38171201556>)"
      ]
     },
     "execution_count": 29,
     "metadata": {},
     "output_type": "execute_result"
    }
   ],
   "source": [
    "%%time\n",
    "results[0].column(0)[0], results[0].column(1)[0]"
   ]
  },
  {
   "cell_type": "code",
   "execution_count": 30,
   "metadata": {},
   "outputs": [
    {
     "name": "stdout",
     "output_type": "stream",
     "text": [
      "CPU times: user 4.97 s, sys: 2.34 s, total: 7.31 s\n",
      "Wall time: 15 s\n"
     ]
    },
    {
     "data": {
      "text/plain": [
       "2"
      ]
     },
     "execution_count": 30,
     "metadata": {},
     "output_type": "execute_result"
    }
   ],
   "source": [
    "%%time\n",
    "results = df.aggregate([column(\"filename\"), column(\"proc_id\"), column(\"io_cat\")], [f.sum(column(\"size\"))]).sort(column(\"SUM(?table?.size)\").sort(ascending=False)).collect()\n",
    "len(results)"
   ]
  },
  {
   "cell_type": "code",
   "execution_count": 31,
   "metadata": {},
   "outputs": [
    {
     "name": "stdout",
     "output_type": "stream",
     "text": [
      "CPU times: user 46 µs, sys: 29 µs, total: 75 µs\n",
      "Wall time: 83.7 µs\n"
     ]
    },
    {
     "data": {
      "text/plain": [
       "8486"
      ]
     },
     "execution_count": 31,
     "metadata": {},
     "output_type": "execute_result"
    }
   ],
   "source": [
    "%%time\n",
    "sum([len(results[r].columns[0]) for r in range(len(results))])"
   ]
  },
  {
   "cell_type": "code",
   "execution_count": 35,
   "metadata": {},
   "outputs": [
    {
     "name": "stdout",
     "output_type": "stream",
     "text": [
      "CPU times: user 100 µs, sys: 0 ns, total: 100 µs\n",
      "Wall time: 110 µs\n"
     ]
    },
    {
     "data": {
      "text/plain": [
       "(<pyarrow.StringScalar: '/p/gpfs1/iopp/temp/montage/2854964/5/run/ngc3372.fits'>,\n",
       " <pyarrow.Int64Scalar: 5901139297808997828>,\n",
       " <pyarrow.Int32Scalar: 1>,\n",
       " <pyarrow.Int64Scalar: 37846454032>)"
      ]
     },
     "execution_count": 35,
     "metadata": {},
     "output_type": "execute_result"
    }
   ],
   "source": [
    "%%time\n",
    "results[0].column(0)[0], results[0].column(1)[0], results[0].column(2)[0], results[0].column(3)[0]"
   ]
  },
  {
   "cell_type": "code",
   "execution_count": 36,
   "metadata": {},
   "outputs": [
    {
     "data": {
      "text/plain": [
       "(<pyarrow.StringScalar: '/p/gpfs1/iopp/temp/montage/2854964/25/run/ngc3372.fits'>,\n",
       " <pyarrow.Int64Scalar: 9060729382066249156>,\n",
       " <pyarrow.Int32Scalar: 1>,\n",
       " <pyarrow.Int64Scalar: 10943646736>)"
      ]
     },
     "execution_count": 36,
     "metadata": {},
     "output_type": "execute_result"
    }
   ],
   "source": [
    "results[0].column(0)[1], results[0].column(1)[1], results[0].column(2)[1], results[0].column(3)[1]"
   ]
  },
  {
   "cell_type": "code",
   "execution_count": 37,
   "metadata": {},
   "outputs": [
    {
     "data": {
      "text/plain": [
       "<datafusion.SessionContext at 0x2aab35a00d00>"
      ]
     },
     "execution_count": 37,
     "metadata": {},
     "output_type": "execute_result"
    }
   ],
   "source": [
    "ctx2 = datafusion.SessionContext()\n",
    "# df = ctx.read_parquet(\"/p/vast1/iopp/recorder_app_logs/genome_pegasus/nodes-32/_parquet/indexed/file_id/*.parquet\")\n",
    "# df = ctx.read_parquet(\"/p/vast1/iopp/recorder_app_logs/cm1/nodes-32/workflow-4/_parquet/indexed/file_id/*.parquet\")\n",
    "# df = ctx.read_parquet(\"/p/vast1/iopp/recorder_app_logs/cm1/nodes-32/workflow-4/_parquet/*.parquet\")\n",
    "# df = ctx.read_parquet(\"/p/vast1/iopp/recorder_app_logs/hacc/nodes-32/workflow-0/_parquet/*.parquet\")\n",
    "ctx2.register_parquet(\"montage\", \"/p/vast1/iopp/recorder_app_logs/montage/nodes-32/_parquet/*.parquet\")\n",
    "\n",
    "ctx2"
   ]
  },
  {
   "cell_type": "code",
   "execution_count": 53,
   "metadata": {},
   "outputs": [
    {
     "name": "stdout",
     "output_type": "stream",
     "text": [
      "CPU times: user 4.48 s, sys: 2.4 s, total: 6.88 s\n",
      "Wall time: 6.82 s\n"
     ]
    },
    {
     "data": {
      "text/plain": [
       "[pyarrow.RecordBatch\n",
       " filename: string\n",
       " SUM(montage.duration): double,\n",
       " pyarrow.RecordBatch\n",
       " filename: string\n",
       " SUM(montage.duration): double]"
      ]
     },
     "execution_count": 53,
     "metadata": {},
     "output_type": "execute_result"
    }
   ],
   "source": [
    "%%time\n",
    "sql_df = ctx2.sql(\"SELECT filename, SUM(duration) FROM montage GROUP BY filename LIMIT 100\")\n",
    "sql_res = sql_df.collect()\n",
    "sql_res"
   ]
  },
  {
   "cell_type": "code",
   "execution_count": 54,
   "metadata": {},
   "outputs": [
    {
     "data": {
      "text/plain": [
       "2"
      ]
     },
     "execution_count": 54,
     "metadata": {},
     "output_type": "execute_result"
    }
   ],
   "source": [
    "len(sql_res)"
   ]
  },
  {
   "cell_type": "code",
   "execution_count": 57,
   "metadata": {},
   "outputs": [
    {
     "data": {
      "text/plain": [
       "(<pyarrow.StringScalar: '/p/gpfs1/iopp/temp/montage/2854964/13/2mass-atlas-000118s-k0880056.fits'>,\n",
       " <pyarrow.DoubleScalar: 0.008495999910110186>)"
      ]
     },
     "execution_count": 57,
     "metadata": {},
     "output_type": "execute_result"
    }
   ],
   "source": [
    "sql_res[0].column(0)[0], sql_res[0].column(1)[0]"
   ]
  },
  {
   "cell_type": "code",
   "execution_count": 59,
   "metadata": {},
   "outputs": [],
   "source": [
    "ctx2.register_parquet(\"hacc\", \"/p/vast1/iopp/recorder_app_logs/hacc/nodes-32/workflow-0/_parquet/*.parquet\")"
   ]
  },
  {
   "cell_type": "code",
   "execution_count": 62,
   "metadata": {},
   "outputs": [
    {
     "name": "stdout",
     "output_type": "stream",
     "text": [
      "CPU times: user 335 ms, sys: 514 ms, total: 849 ms\n",
      "Wall time: 671 ms\n"
     ]
    },
    {
     "data": {
      "text/plain": [
       "[pyarrow.RecordBatch\n",
       " filename: string\n",
       " SUM(hacc.duration): double,\n",
       " pyarrow.RecordBatch\n",
       " filename: string\n",
       " SUM(hacc.duration): double]"
      ]
     },
     "execution_count": 62,
     "metadata": {},
     "output_type": "execute_result"
    }
   ],
   "source": [
    "%%time\n",
    "sql_hacc_df = ctx2.sql(\"SELECT filename, SUM(duration) FROM hacc GROUP BY filename LIMIT 100\")\n",
    "sql_hacc_res = sql_hacc_df.collect()\n",
    "sql_hacc_res"
   ]
  },
  {
   "cell_type": "code",
   "execution_count": 63,
   "metadata": {},
   "outputs": [
    {
     "data": {
      "text/plain": [
       "(<pyarrow.StringScalar: '/p/gpfs1/iopp/temp/hacc_dir//test-Part00000750-of-00001280.data'>,\n",
       " <pyarrow.DoubleScalar: 23.446508407592773>)"
      ]
     },
     "execution_count": 63,
     "metadata": {},
     "output_type": "execute_result"
    }
   ],
   "source": [
    "sql_hacc_res[0].column(0)[0], sql_hacc_res[0].column(1)[0]"
   ]
  },
  {
   "cell_type": "code",
   "execution_count": 64,
   "metadata": {},
   "outputs": [],
   "source": [
    "ctx2.register_parquet(\"genome\", \"/p/vast1/iopp/recorder_app_logs/genome_pegasus/nodes-32/_parquet/*.parquet\")"
   ]
  },
  {
   "cell_type": "code",
   "execution_count": null,
   "metadata": {},
   "outputs": [],
   "source": [
    "%%time\n",
    "sql_gen_df = ctx2.sql(\"SELECT filename, SUM(duration) FROM genome GROUP BY filename LIMIT 100\")\n",
    "sql_gen_res = sql_gen_df.collect()\n",
    "sql_gen_res"
   ]
  },
  {
   "cell_type": "code",
   "execution_count": 3,
   "metadata": {},
   "outputs": [
    {
     "data": {
      "text/plain": [
       "<datafusion.DataFrame at 0x2aaadc59a110>"
      ]
     },
     "execution_count": 3,
     "metadata": {},
     "output_type": "execute_result"
    }
   ],
   "source": [
    "gen_df_0 = ctx.read_parquet(\"/p/vast1/iopp/recorder_app_logs/genome_pegasus/nodes-32/_parquet/0_0.parquet\")\n",
    "gen_df_0"
   ]
  },
  {
   "cell_type": "code",
   "execution_count": 33,
   "metadata": {},
   "outputs": [
    {
     "name": "stdout",
     "output_type": "stream",
     "text": [
      "CPU times: user 97.4 ms, sys: 40.3 ms, total: 138 ms\n",
      "Wall time: 180 ms\n"
     ]
    },
    {
     "data": {
      "text/plain": [
       "1"
      ]
     },
     "execution_count": 33,
     "metadata": {},
     "output_type": "execute_result"
    }
   ],
   "source": [
    "%%time\n",
    "gen_res_0 = gen_df_0.aggregate(\n",
    "    [column(\"filename\"), column(\"proc_id\"), column(\"io_cat\")], \n",
    "    [f.sum(column(\"duration\")), f.sum(column(\"size\")), f.count(column(\"index\"))]\n",
    ").sort(column(\"COUNT(?table?.index)\").sort(ascending=False)).collect()\n",
    "len(gen_res_0)"
   ]
  },
  {
   "cell_type": "code",
   "execution_count": 34,
   "metadata": {},
   "outputs": [
    {
     "data": {
      "text/plain": [
       "(<pyarrow.StringScalar: ''>,\n",
       " <pyarrow.Int64Scalar: 7523492661920059012>,\n",
       " <pyarrow.Int32Scalar: 0>,\n",
       " <pyarrow.DoubleScalar: 0.049798899821666964>,\n",
       " <pyarrow.Int64Scalar: 0>,\n",
       " <pyarrow.Int64Scalar: 9160>)"
      ]
     },
     "execution_count": 34,
     "metadata": {},
     "output_type": "execute_result"
    }
   ],
   "source": [
    "gen_res_0[0].column(0)[0], gen_res_0[0].column(1)[0], gen_res_0[0].column(2)[0], gen_res_0[0].column(3)[0], gen_res_0[0].column(4)[0], gen_res_0[0].column(5)[0]"
   ]
  },
  {
   "cell_type": "code",
   "execution_count": 37,
   "metadata": {},
   "outputs": [
    {
     "data": {
      "text/html": [
       "<div>\n",
       "<style scoped>\n",
       "    .dataframe tbody tr th:only-of-type {\n",
       "        vertical-align: middle;\n",
       "    }\n",
       "\n",
       "    .dataframe tbody tr th {\n",
       "        vertical-align: top;\n",
       "    }\n",
       "\n",
       "    .dataframe thead th {\n",
       "        text-align: right;\n",
       "    }\n",
       "</style>\n",
       "<table border=\"1\" class=\"dataframe\">\n",
       "  <thead>\n",
       "    <tr style=\"text-align: right;\">\n",
       "      <th></th>\n",
       "      <th>filename</th>\n",
       "      <th>proc_id</th>\n",
       "      <th>io_cat</th>\n",
       "      <th>SUM(?table?.duration)</th>\n",
       "      <th>SUM(?table?.size)</th>\n",
       "      <th>COUNT(?table?.index)</th>\n",
       "    </tr>\n",
       "  </thead>\n",
       "  <tbody>\n",
       "    <tr>\n",
       "      <th>0</th>\n",
       "      <td></td>\n",
       "      <td>7523492661920059012</td>\n",
       "      <td>0</td>\n",
       "      <td>0.049799</td>\n",
       "      <td>0</td>\n",
       "      <td>9160</td>\n",
       "    </tr>\n",
       "    <tr>\n",
       "      <th>1</th>\n",
       "      <td>%p</td>\n",
       "      <td>6865593879370974948</td>\n",
       "      <td>3</td>\n",
       "      <td>0.004954</td>\n",
       "      <td>0</td>\n",
       "      <td>1746</td>\n",
       "    </tr>\n",
       "    <tr>\n",
       "      <th>2</th>\n",
       "      <td>%p</td>\n",
       "      <td>6865593827831367396</td>\n",
       "      <td>3</td>\n",
       "      <td>0.003910</td>\n",
       "      <td>0</td>\n",
       "      <td>1740</td>\n",
       "    </tr>\n",
       "    <tr>\n",
       "      <th>3</th>\n",
       "      <td>%p</td>\n",
       "      <td>6691484417816315620</td>\n",
       "      <td>3</td>\n",
       "      <td>0.005259</td>\n",
       "      <td>0</td>\n",
       "      <td>1739</td>\n",
       "    </tr>\n",
       "    <tr>\n",
       "      <th>4</th>\n",
       "      <td>%p</td>\n",
       "      <td>6691484434996184804</td>\n",
       "      <td>3</td>\n",
       "      <td>0.005689</td>\n",
       "      <td>0</td>\n",
       "      <td>1739</td>\n",
       "    </tr>\n",
       "    <tr>\n",
       "      <th>...</th>\n",
       "      <td>...</td>\n",
       "      <td>...</td>\n",
       "      <td>...</td>\n",
       "      <td>...</td>\n",
       "      <td>...</td>\n",
       "      <td>...</td>\n",
       "    </tr>\n",
       "    <tr>\n",
       "      <th>3341</th>\n",
       "      <td>/p/gpfs1/iopp/temp/1000-genome-haridev/scratch...</td>\n",
       "      <td>7523492661920059012</td>\n",
       "      <td>3</td>\n",
       "      <td>0.002793</td>\n",
       "      <td>0</td>\n",
       "      <td>1</td>\n",
       "    </tr>\n",
       "    <tr>\n",
       "      <th>3342</th>\n",
       "      <td>/p/gpfs1/iopp/temp/1000-genome-haridev/scratch...</td>\n",
       "      <td>7523492661920059012</td>\n",
       "      <td>3</td>\n",
       "      <td>0.002850</td>\n",
       "      <td>0</td>\n",
       "      <td>1</td>\n",
       "    </tr>\n",
       "    <tr>\n",
       "      <th>3343</th>\n",
       "      <td>/p/gpfs1/iopp/temp/1000-genome-haridev/scratch...</td>\n",
       "      <td>7523492661920059012</td>\n",
       "      <td>3</td>\n",
       "      <td>0.002582</td>\n",
       "      <td>0</td>\n",
       "      <td>1</td>\n",
       "    </tr>\n",
       "    <tr>\n",
       "      <th>3344</th>\n",
       "      <td>/p/gpfs1/iopp/temp/1000-genome-haridev/scratch...</td>\n",
       "      <td>7523492661920059012</td>\n",
       "      <td>3</td>\n",
       "      <td>0.002947</td>\n",
       "      <td>0</td>\n",
       "      <td>1</td>\n",
       "    </tr>\n",
       "    <tr>\n",
       "      <th>3345</th>\n",
       "      <td>/p/gpfs1/iopp/temp/1000-genome-haridev/scratch...</td>\n",
       "      <td>7523492661920059012</td>\n",
       "      <td>3</td>\n",
       "      <td>0.003159</td>\n",
       "      <td>0</td>\n",
       "      <td>1</td>\n",
       "    </tr>\n",
       "  </tbody>\n",
       "</table>\n",
       "<p>3346 rows × 6 columns</p>\n",
       "</div>"
      ],
      "text/plain": [
       "                                               filename              proc_id  \\\n",
       "0                                                        7523492661920059012   \n",
       "1                                                    %p  6865593879370974948   \n",
       "2                                                    %p  6865593827831367396   \n",
       "3                                                    %p  6691484417816315620   \n",
       "4                                                    %p  6691484434996184804   \n",
       "...                                                 ...                  ...   \n",
       "3341  /p/gpfs1/iopp/temp/1000-genome-haridev/scratch...  7523492661920059012   \n",
       "3342  /p/gpfs1/iopp/temp/1000-genome-haridev/scratch...  7523492661920059012   \n",
       "3343  /p/gpfs1/iopp/temp/1000-genome-haridev/scratch...  7523492661920059012   \n",
       "3344  /p/gpfs1/iopp/temp/1000-genome-haridev/scratch...  7523492661920059012   \n",
       "3345  /p/gpfs1/iopp/temp/1000-genome-haridev/scratch...  7523492661920059012   \n",
       "\n",
       "      io_cat  SUM(?table?.duration)  SUM(?table?.size)  COUNT(?table?.index)  \n",
       "0          0               0.049799                  0                  9160  \n",
       "1          3               0.004954                  0                  1746  \n",
       "2          3               0.003910                  0                  1740  \n",
       "3          3               0.005259                  0                  1739  \n",
       "4          3               0.005689                  0                  1739  \n",
       "...      ...                    ...                ...                   ...  \n",
       "3341       3               0.002793                  0                     1  \n",
       "3342       3               0.002850                  0                     1  \n",
       "3343       3               0.002582                  0                     1  \n",
       "3344       3               0.002947                  0                     1  \n",
       "3345       3               0.003159                  0                     1  \n",
       "\n",
       "[3346 rows x 6 columns]"
      ]
     },
     "execution_count": 37,
     "metadata": {},
     "output_type": "execute_result"
    }
   ],
   "source": [
    "gen_res_0[0].to_pandas()"
   ]
  },
  {
   "cell_type": "code",
   "execution_count": 7,
   "metadata": {},
   "outputs": [
    {
     "data": {
      "text/html": [
       "<div><strong>Dask DataFrame Structure:</strong></div>\n",
       "<div>\n",
       "<style scoped>\n",
       "    .dataframe tbody tr th:only-of-type {\n",
       "        vertical-align: middle;\n",
       "    }\n",
       "\n",
       "    .dataframe tbody tr th {\n",
       "        vertical-align: top;\n",
       "    }\n",
       "\n",
       "    .dataframe thead th {\n",
       "        text-align: right;\n",
       "    }\n",
       "</style>\n",
       "<table border=\"1\" class=\"dataframe\">\n",
       "  <thead>\n",
       "    <tr style=\"text-align: right;\">\n",
       "      <th></th>\n",
       "      <th>index</th>\n",
       "      <th>proc</th>\n",
       "      <th>rank</th>\n",
       "      <th>thread_id</th>\n",
       "      <th>cat</th>\n",
       "      <th>io_cat</th>\n",
       "      <th>tstart</th>\n",
       "      <th>tend</th>\n",
       "      <th>func_id</th>\n",
       "      <th>level</th>\n",
       "      <th>hostname</th>\n",
       "      <th>app</th>\n",
       "      <th>filename</th>\n",
       "      <th>size</th>\n",
       "      <th>acc_pat</th>\n",
       "      <th>bandwidth</th>\n",
       "      <th>duration</th>\n",
       "      <th>tmid</th>\n",
       "      <th>file_id</th>\n",
       "      <th>proc_id</th>\n",
       "    </tr>\n",
       "    <tr>\n",
       "      <th>npartitions=1</th>\n",
       "      <th></th>\n",
       "      <th></th>\n",
       "      <th></th>\n",
       "      <th></th>\n",
       "      <th></th>\n",
       "      <th></th>\n",
       "      <th></th>\n",
       "      <th></th>\n",
       "      <th></th>\n",
       "      <th></th>\n",
       "      <th></th>\n",
       "      <th></th>\n",
       "      <th></th>\n",
       "      <th></th>\n",
       "      <th></th>\n",
       "      <th></th>\n",
       "      <th></th>\n",
       "      <th></th>\n",
       "      <th></th>\n",
       "      <th></th>\n",
       "    </tr>\n",
       "  </thead>\n",
       "  <tbody>\n",
       "    <tr>\n",
       "      <th></th>\n",
       "      <td>int64</td>\n",
       "      <td>int64</td>\n",
       "      <td>int32</td>\n",
       "      <td>int32</td>\n",
       "      <td>int32</td>\n",
       "      <td>int32</td>\n",
       "      <td>float32</td>\n",
       "      <td>float32</td>\n",
       "      <td>object</td>\n",
       "      <td>int32</td>\n",
       "      <td>object</td>\n",
       "      <td>object</td>\n",
       "      <td>object</td>\n",
       "      <td>int64</td>\n",
       "      <td>int32</td>\n",
       "      <td>float32</td>\n",
       "      <td>float32</td>\n",
       "      <td>int64</td>\n",
       "      <td>int64</td>\n",
       "      <td>int64</td>\n",
       "    </tr>\n",
       "    <tr>\n",
       "      <th></th>\n",
       "      <td>...</td>\n",
       "      <td>...</td>\n",
       "      <td>...</td>\n",
       "      <td>...</td>\n",
       "      <td>...</td>\n",
       "      <td>...</td>\n",
       "      <td>...</td>\n",
       "      <td>...</td>\n",
       "      <td>...</td>\n",
       "      <td>...</td>\n",
       "      <td>...</td>\n",
       "      <td>...</td>\n",
       "      <td>...</td>\n",
       "      <td>...</td>\n",
       "      <td>...</td>\n",
       "      <td>...</td>\n",
       "      <td>...</td>\n",
       "      <td>...</td>\n",
       "      <td>...</td>\n",
       "      <td>...</td>\n",
       "    </tr>\n",
       "  </tbody>\n",
       "</table>\n",
       "</div>\n",
       "<div>Dask Name: read-parquet, 1 tasks</div>"
      ],
      "text/plain": [
       "Dask DataFrame Structure:\n",
       "               index   proc   rank thread_id    cat io_cat   tstart     tend func_id  level hostname     app filename   size acc_pat bandwidth duration   tmid file_id proc_id\n",
       "npartitions=1                                                                                                                                                                 \n",
       "               int64  int64  int32     int32  int32  int32  float32  float32  object  int32   object  object   object  int64   int32   float32  float32  int64   int64   int64\n",
       "                 ...    ...    ...       ...    ...    ...      ...      ...     ...    ...      ...     ...      ...    ...     ...       ...      ...    ...     ...     ...\n",
       "Dask Name: read-parquet, 1 tasks"
      ]
     },
     "execution_count": 7,
     "metadata": {},
     "output_type": "execute_result"
    }
   ],
   "source": [
    "cm1_dir = \"/p/vast1/iopp/recorder_app_logs/cm1/nodes-32/workflow-4/_parquet\"\n",
    "\n",
    "cm1_ddf = dd.read_parquet(f\"{cm1_dir}/*.parquet\")\n",
    "\n",
    "cm1_ddf"
   ]
  },
  {
   "cell_type": "code",
   "execution_count": 1,
   "metadata": {},
   "outputs": [],
   "source": [
    "import polars as pl\n",
    "\n",
    "# cm1_pl_df = pl.read_parquet(f\"{cm1_dir}/*.parquet\")\n",
    "\n",
    "# cm1_pl_df"
   ]
  },
  {
   "cell_type": "code",
   "execution_count": null,
   "metadata": {},
   "outputs": [],
   "source": [
    "%%time\n",
    "cm1_pl_agg_df = cm1_pl_df \\\n",
    "    .groupby([\"filename\", \"proc_id\", \"io_cat\"]) \\\n",
    "    .agg([pl.sum(\"duration\"), pl.sum(\"size\")]) \\\n",
    "    .sort(\"duration\", reverse=True)\n",
    "cm1_pl_agg_df\n"
   ]
  },
  {
   "cell_type": "code",
   "execution_count": null,
   "metadata": {},
   "outputs": [],
   "source": [
    "cm1_pl_agg_df[0]['filename']"
   ]
  },
  {
   "cell_type": "code",
   "execution_count": 3,
   "metadata": {},
   "outputs": [],
   "source": [
    "gen_dir = \"/p/vast1/iopp/recorder_app_logs/genome_pegasus/nodes-32/_parquet\"\n",
    "# gen_pl_df = pl.read_parquet(f\"{gen_dir}/*.parquet\", n_rows=10)"
   ]
  },
  {
   "cell_type": "code",
   "execution_count": 20,
   "metadata": {},
   "outputs": [],
   "source": [
    "q1 = (\n",
    "    pl.scan_parquet(f\"{gen_dir}/*.parquet\")\n",
    "    .groupby([\"file_id\", \"proc_id\", \"io_cat\"])\n",
    "    .agg([pl.sum(\"duration\"), pl.sum(\"size\")])\n",
    "    .sort(\"duration\", reverse=True)\n",
    ")\n",
    "# q1"
   ]
  },
  {
   "cell_type": "code",
   "execution_count": 21,
   "metadata": {},
   "outputs": [],
   "source": [
    "%%time\n",
    "q1.collect()"
   ]
  },
  {
   "cell_type": "code",
   "execution_count": null,
   "metadata": {},
   "outputs": [],
   "source": []
  }
 ],
 "metadata": {
  "kernelspec": {
   "display_name": "venv-quartz",
   "language": "python",
   "name": "python3"
  },
  "language_info": {
   "codemirror_mode": {
    "name": "ipython",
    "version": 3
   },
   "file_extension": ".py",
   "mimetype": "text/x-python",
   "name": "python",
   "nbconvert_exporter": "python",
   "pygments_lexer": "ipython3",
   "version": "3.7.2"
  },
  "orig_nbformat": 4,
  "vscode": {
   "interpreter": {
    "hash": "5fec0851e4f6f01b6df5374e9d9a00bfd82bb6133a08238edb641111344e8885"
   }
  }
 },
 "nbformat": 4,
 "nbformat_minor": 2
}

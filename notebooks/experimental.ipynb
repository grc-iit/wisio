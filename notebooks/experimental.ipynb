{
 "cells": [
  {
   "cell_type": "code",
   "execution_count": 1,
   "metadata": {},
   "outputs": [
    {
     "data": {
      "text/plain": [
       "<datafusion.SessionContext at 0x2aaab76f9bc0>"
      ]
     },
     "execution_count": 1,
     "metadata": {},
     "output_type": "execute_result"
    }
   ],
   "source": [
    "import datafusion\n",
    "from datafusion import column\n",
    "from datafusion import functions as f\n",
    "\n",
    "ctx = datafusion.SessionContext()\n",
    "# df = ctx.read_parquet(\"/p/vast1/iopp/recorder_app_logs/genome_pegasus/nodes-32/_parquet/indexed/file_id/*.parquet\")\n",
    "# df = ctx.read_parquet(\"/p/vast1/iopp/recorder_app_logs/cm1/nodes-32/workflow-4/_parquet/indexed/file_id/*.parquet\")\n",
    "# df = ctx.read_parquet(\"/p/vast1/iopp/recorder_app_logs/cm1/nodes-32/workflow-4/_parquet/*.parquet\")\n",
    "# df = ctx.read_parquet(\"/p/vast1/iopp/recorder_app_logs/hacc/nodes-32/workflow-0/_parquet/*.parquet\")\n",
    "ctx"
   ]
  },
  {
   "cell_type": "code",
   "execution_count": null,
   "metadata": {},
   "outputs": [],
   "source": [
    "df = ctx.read_parquet(\"/p/vast1/iopp/recorder_app_logs/montage/nodes-32/_parquet/*.parquet\")\n",
    "df"
   ]
  },
  {
   "cell_type": "code",
   "execution_count": 23,
   "metadata": {},
   "outputs": [
    {
     "name": "stdout",
     "output_type": "stream",
     "text": [
      "CPU times: user 4.18 s, sys: 2.57 s, total: 6.76 s\n",
      "Wall time: 18.5 s\n"
     ]
    },
    {
     "data": {
      "text/plain": [
       "1"
      ]
     },
     "execution_count": 23,
     "metadata": {},
     "output_type": "execute_result"
    }
   ],
   "source": [
    "%%time\n",
    "results = df.aggregate([column(\"filename\")], [f.sum(column(\"duration\"))]).sort(column(\"SUM(?table?.duration)\").sort(ascending=False)).collect()\n",
    "len(results)"
   ]
  },
  {
   "cell_type": "code",
   "execution_count": 24,
   "metadata": {},
   "outputs": [
    {
     "name": "stdout",
     "output_type": "stream",
     "text": [
      "CPU times: user 28 µs, sys: 24 µs, total: 52 µs\n",
      "Wall time: 60.1 µs\n"
     ]
    },
    {
     "data": {
      "text/plain": [
       "1934"
      ]
     },
     "execution_count": 24,
     "metadata": {},
     "output_type": "execute_result"
    }
   ],
   "source": [
    "%%time\n",
    "sum([len(results[r].columns[0]) for r in range(len(results))])"
   ]
  },
  {
   "cell_type": "code",
   "execution_count": 26,
   "metadata": {},
   "outputs": [
    {
     "name": "stdout",
     "output_type": "stream",
     "text": [
      "CPU times: user 38 µs, sys: 31 µs, total: 69 µs\n",
      "Wall time: 78.7 µs\n"
     ]
    },
    {
     "data": {
      "text/plain": [
       "(<pyarrow.StringScalar: ''>, <pyarrow.DoubleScalar: 183.01135390461445>)"
      ]
     },
     "execution_count": 26,
     "metadata": {},
     "output_type": "execute_result"
    }
   ],
   "source": [
    "%%time\n",
    "results[0].column(0)[0], results[0].column(1)[0]"
   ]
  },
  {
   "cell_type": "code",
   "execution_count": 27,
   "metadata": {},
   "outputs": [
    {
     "name": "stdout",
     "output_type": "stream",
     "text": [
      "CPU times: user 4.01 s, sys: 1.94 s, total: 5.95 s\n",
      "Wall time: 12.1 s\n"
     ]
    },
    {
     "data": {
      "text/plain": [
       "1"
      ]
     },
     "execution_count": 27,
     "metadata": {},
     "output_type": "execute_result"
    }
   ],
   "source": [
    "%%time\n",
    "results = df.aggregate([column(\"filename\")], [f.sum(column(\"size\"))]).sort(column(\"SUM(?table?.size)\").sort(ascending=False)).collect()\n",
    "len(results)"
   ]
  },
  {
   "cell_type": "code",
   "execution_count": 28,
   "metadata": {},
   "outputs": [
    {
     "name": "stdout",
     "output_type": "stream",
     "text": [
      "CPU times: user 51 µs, sys: 0 ns, total: 51 µs\n",
      "Wall time: 58.7 µs\n"
     ]
    },
    {
     "data": {
      "text/plain": [
       "1934"
      ]
     },
     "execution_count": 28,
     "metadata": {},
     "output_type": "execute_result"
    }
   ],
   "source": [
    "%%time\n",
    "sum([len(results[r].columns[0]) for r in range(len(results))])"
   ]
  },
  {
   "cell_type": "code",
   "execution_count": 29,
   "metadata": {},
   "outputs": [
    {
     "name": "stdout",
     "output_type": "stream",
     "text": [
      "CPU times: user 34 µs, sys: 25 µs, total: 59 µs\n",
      "Wall time: 65.6 µs\n"
     ]
    },
    {
     "data": {
      "text/plain": [
       "(<pyarrow.StringScalar: '/p/gpfs1/iopp/temp/montage/2854964/5/run/ngc3372.fits'>,\n",
       " <pyarrow.Int64Scalar: 38171201556>)"
      ]
     },
     "execution_count": 29,
     "metadata": {},
     "output_type": "execute_result"
    }
   ],
   "source": [
    "%%time\n",
    "results[0].column(0)[0], results[0].column(1)[0]"
   ]
  },
  {
   "cell_type": "code",
   "execution_count": 30,
   "metadata": {},
   "outputs": [
    {
     "name": "stdout",
     "output_type": "stream",
     "text": [
      "CPU times: user 4.97 s, sys: 2.34 s, total: 7.31 s\n",
      "Wall time: 15 s\n"
     ]
    },
    {
     "data": {
      "text/plain": [
       "2"
      ]
     },
     "execution_count": 30,
     "metadata": {},
     "output_type": "execute_result"
    }
   ],
   "source": [
    "%%time\n",
    "results = df.aggregate([column(\"filename\"), column(\"proc_id\"), column(\"io_cat\")], [f.sum(column(\"size\"))]).sort(column(\"SUM(?table?.size)\").sort(ascending=False)).collect()\n",
    "len(results)"
   ]
  },
  {
   "cell_type": "code",
   "execution_count": 31,
   "metadata": {},
   "outputs": [
    {
     "name": "stdout",
     "output_type": "stream",
     "text": [
      "CPU times: user 46 µs, sys: 29 µs, total: 75 µs\n",
      "Wall time: 83.7 µs\n"
     ]
    },
    {
     "data": {
      "text/plain": [
       "8486"
      ]
     },
     "execution_count": 31,
     "metadata": {},
     "output_type": "execute_result"
    }
   ],
   "source": [
    "%%time\n",
    "sum([len(results[r].columns[0]) for r in range(len(results))])"
   ]
  },
  {
   "cell_type": "code",
   "execution_count": 35,
   "metadata": {},
   "outputs": [
    {
     "name": "stdout",
     "output_type": "stream",
     "text": [
      "CPU times: user 100 µs, sys: 0 ns, total: 100 µs\n",
      "Wall time: 110 µs\n"
     ]
    },
    {
     "data": {
      "text/plain": [
       "(<pyarrow.StringScalar: '/p/gpfs1/iopp/temp/montage/2854964/5/run/ngc3372.fits'>,\n",
       " <pyarrow.Int64Scalar: 5901139297808997828>,\n",
       " <pyarrow.Int32Scalar: 1>,\n",
       " <pyarrow.Int64Scalar: 37846454032>)"
      ]
     },
     "execution_count": 35,
     "metadata": {},
     "output_type": "execute_result"
    }
   ],
   "source": [
    "%%time\n",
    "results[0].column(0)[0], results[0].column(1)[0], results[0].column(2)[0], results[0].column(3)[0]"
   ]
  },
  {
   "cell_type": "code",
   "execution_count": 36,
   "metadata": {},
   "outputs": [
    {
     "data": {
      "text/plain": [
       "(<pyarrow.StringScalar: '/p/gpfs1/iopp/temp/montage/2854964/25/run/ngc3372.fits'>,\n",
       " <pyarrow.Int64Scalar: 9060729382066249156>,\n",
       " <pyarrow.Int32Scalar: 1>,\n",
       " <pyarrow.Int64Scalar: 10943646736>)"
      ]
     },
     "execution_count": 36,
     "metadata": {},
     "output_type": "execute_result"
    }
   ],
   "source": [
    "results[0].column(0)[1], results[0].column(1)[1], results[0].column(2)[1], results[0].column(3)[1]"
   ]
  },
  {
   "cell_type": "code",
   "execution_count": 37,
   "metadata": {},
   "outputs": [
    {
     "data": {
      "text/plain": [
       "<datafusion.SessionContext at 0x2aab35a00d00>"
      ]
     },
     "execution_count": 37,
     "metadata": {},
     "output_type": "execute_result"
    }
   ],
   "source": [
    "ctx2 = datafusion.SessionContext()\n",
    "# df = ctx.read_parquet(\"/p/vast1/iopp/recorder_app_logs/genome_pegasus/nodes-32/_parquet/indexed/file_id/*.parquet\")\n",
    "# df = ctx.read_parquet(\"/p/vast1/iopp/recorder_app_logs/cm1/nodes-32/workflow-4/_parquet/indexed/file_id/*.parquet\")\n",
    "# df = ctx.read_parquet(\"/p/vast1/iopp/recorder_app_logs/cm1/nodes-32/workflow-4/_parquet/*.parquet\")\n",
    "# df = ctx.read_parquet(\"/p/vast1/iopp/recorder_app_logs/hacc/nodes-32/workflow-0/_parquet/*.parquet\")\n",
    "ctx2.register_parquet(\"montage\", \"/p/vast1/iopp/recorder_app_logs/montage/nodes-32/_parquet/*.parquet\")\n",
    "\n",
    "ctx2"
   ]
  },
  {
   "cell_type": "code",
   "execution_count": 53,
   "metadata": {},
   "outputs": [
    {
     "name": "stdout",
     "output_type": "stream",
     "text": [
      "CPU times: user 4.48 s, sys: 2.4 s, total: 6.88 s\n",
      "Wall time: 6.82 s\n"
     ]
    },
    {
     "data": {
      "text/plain": [
       "[pyarrow.RecordBatch\n",
       " filename: string\n",
       " SUM(montage.duration): double,\n",
       " pyarrow.RecordBatch\n",
       " filename: string\n",
       " SUM(montage.duration): double]"
      ]
     },
     "execution_count": 53,
     "metadata": {},
     "output_type": "execute_result"
    }
   ],
   "source": [
    "%%time\n",
    "sql_df = ctx2.sql(\"SELECT filename, SUM(duration) FROM montage GROUP BY filename LIMIT 100\")\n",
    "sql_res = sql_df.collect()\n",
    "sql_res"
   ]
  },
  {
   "cell_type": "code",
   "execution_count": 54,
   "metadata": {},
   "outputs": [
    {
     "data": {
      "text/plain": [
       "2"
      ]
     },
     "execution_count": 54,
     "metadata": {},
     "output_type": "execute_result"
    }
   ],
   "source": [
    "len(sql_res)"
   ]
  },
  {
   "cell_type": "code",
   "execution_count": 57,
   "metadata": {},
   "outputs": [
    {
     "data": {
      "text/plain": [
       "(<pyarrow.StringScalar: '/p/gpfs1/iopp/temp/montage/2854964/13/2mass-atlas-000118s-k0880056.fits'>,\n",
       " <pyarrow.DoubleScalar: 0.008495999910110186>)"
      ]
     },
     "execution_count": 57,
     "metadata": {},
     "output_type": "execute_result"
    }
   ],
   "source": [
    "sql_res[0].column(0)[0], sql_res[0].column(1)[0]"
   ]
  },
  {
   "cell_type": "code",
   "execution_count": 59,
   "metadata": {},
   "outputs": [],
   "source": [
    "ctx2.register_parquet(\"hacc\", \"/p/vast1/iopp/recorder_app_logs/hacc/nodes-32/workflow-0/_parquet/*.parquet\")"
   ]
  },
  {
   "cell_type": "code",
   "execution_count": 62,
   "metadata": {},
   "outputs": [
    {
     "name": "stdout",
     "output_type": "stream",
     "text": [
      "CPU times: user 335 ms, sys: 514 ms, total: 849 ms\n",
      "Wall time: 671 ms\n"
     ]
    },
    {
     "data": {
      "text/plain": [
       "[pyarrow.RecordBatch\n",
       " filename: string\n",
       " SUM(hacc.duration): double,\n",
       " pyarrow.RecordBatch\n",
       " filename: string\n",
       " SUM(hacc.duration): double]"
      ]
     },
     "execution_count": 62,
     "metadata": {},
     "output_type": "execute_result"
    }
   ],
   "source": [
    "%%time\n",
    "sql_hacc_df = ctx2.sql(\"SELECT filename, SUM(duration) FROM hacc GROUP BY filename LIMIT 100\")\n",
    "sql_hacc_res = sql_hacc_df.collect()\n",
    "sql_hacc_res"
   ]
  },
  {
   "cell_type": "code",
   "execution_count": 63,
   "metadata": {},
   "outputs": [
    {
     "data": {
      "text/plain": [
       "(<pyarrow.StringScalar: '/p/gpfs1/iopp/temp/hacc_dir//test-Part00000750-of-00001280.data'>,\n",
       " <pyarrow.DoubleScalar: 23.446508407592773>)"
      ]
     },
     "execution_count": 63,
     "metadata": {},
     "output_type": "execute_result"
    }
   ],
   "source": [
    "sql_hacc_res[0].column(0)[0], sql_hacc_res[0].column(1)[0]"
   ]
  },
  {
   "cell_type": "code",
   "execution_count": 64,
   "metadata": {},
   "outputs": [],
   "source": [
    "ctx2.register_parquet(\"genome\", \"/p/vast1/iopp/recorder_app_logs/genome_pegasus/nodes-32/_parquet/*.parquet\")"
   ]
  },
  {
   "cell_type": "code",
   "execution_count": null,
   "metadata": {},
   "outputs": [],
   "source": [
    "%%time\n",
    "sql_gen_df = ctx2.sql(\"SELECT filename, SUM(duration) FROM genome GROUP BY filename LIMIT 100\")\n",
    "sql_gen_res = sql_gen_df.collect()\n",
    "sql_gen_res"
   ]
  },
  {
   "cell_type": "code",
   "execution_count": 3,
   "metadata": {},
   "outputs": [
    {
     "data": {
      "text/plain": [
       "<datafusion.DataFrame at 0x2aaadc59a110>"
      ]
     },
     "execution_count": 3,
     "metadata": {},
     "output_type": "execute_result"
    }
   ],
   "source": [
    "gen_df_0 = ctx.read_parquet(\"/p/vast1/iopp/recorder_app_logs/genome_pegasus/nodes-32/_parquet/0_0.parquet\")\n",
    "gen_df_0"
   ]
  },
  {
   "cell_type": "code",
   "execution_count": 33,
   "metadata": {},
   "outputs": [
    {
     "name": "stdout",
     "output_type": "stream",
     "text": [
      "CPU times: user 97.4 ms, sys: 40.3 ms, total: 138 ms\n",
      "Wall time: 180 ms\n"
     ]
    },
    {
     "data": {
      "text/plain": [
       "1"
      ]
     },
     "execution_count": 33,
     "metadata": {},
     "output_type": "execute_result"
    }
   ],
   "source": [
    "%%time\n",
    "gen_res_0 = gen_df_0.aggregate(\n",
    "    [column(\"filename\"), column(\"proc_id\"), column(\"io_cat\")], \n",
    "    [f.sum(column(\"duration\")), f.sum(column(\"size\")), f.count(column(\"index\"))]\n",
    ").sort(column(\"COUNT(?table?.index)\").sort(ascending=False)).collect()\n",
    "len(gen_res_0)"
   ]
  },
  {
   "cell_type": "code",
   "execution_count": 34,
   "metadata": {},
   "outputs": [
    {
     "data": {
      "text/plain": [
       "(<pyarrow.StringScalar: ''>,\n",
       " <pyarrow.Int64Scalar: 7523492661920059012>,\n",
       " <pyarrow.Int32Scalar: 0>,\n",
       " <pyarrow.DoubleScalar: 0.049798899821666964>,\n",
       " <pyarrow.Int64Scalar: 0>,\n",
       " <pyarrow.Int64Scalar: 9160>)"
      ]
     },
     "execution_count": 34,
     "metadata": {},
     "output_type": "execute_result"
    }
   ],
   "source": [
    "gen_res_0[0].column(0)[0], gen_res_0[0].column(1)[0], gen_res_0[0].column(2)[0], gen_res_0[0].column(3)[0], gen_res_0[0].column(4)[0], gen_res_0[0].column(5)[0]"
   ]
  },
  {
   "cell_type": "code",
   "execution_count": 37,
   "metadata": {},
   "outputs": [
    {
     "data": {
      "text/html": [
       "<div>\n",
       "<style scoped>\n",
       "    .dataframe tbody tr th:only-of-type {\n",
       "        vertical-align: middle;\n",
       "    }\n",
       "\n",
       "    .dataframe tbody tr th {\n",
       "        vertical-align: top;\n",
       "    }\n",
       "\n",
       "    .dataframe thead th {\n",
       "        text-align: right;\n",
       "    }\n",
       "</style>\n",
       "<table border=\"1\" class=\"dataframe\">\n",
       "  <thead>\n",
       "    <tr style=\"text-align: right;\">\n",
       "      <th></th>\n",
       "      <th>filename</th>\n",
       "      <th>proc_id</th>\n",
       "      <th>io_cat</th>\n",
       "      <th>SUM(?table?.duration)</th>\n",
       "      <th>SUM(?table?.size)</th>\n",
       "      <th>COUNT(?table?.index)</th>\n",
       "    </tr>\n",
       "  </thead>\n",
       "  <tbody>\n",
       "    <tr>\n",
       "      <th>0</th>\n",
       "      <td></td>\n",
       "      <td>7523492661920059012</td>\n",
       "      <td>0</td>\n",
       "      <td>0.049799</td>\n",
       "      <td>0</td>\n",
       "      <td>9160</td>\n",
       "    </tr>\n",
       "    <tr>\n",
       "      <th>1</th>\n",
       "      <td>%p</td>\n",
       "      <td>6865593879370974948</td>\n",
       "      <td>3</td>\n",
       "      <td>0.004954</td>\n",
       "      <td>0</td>\n",
       "      <td>1746</td>\n",
       "    </tr>\n",
       "    <tr>\n",
       "      <th>2</th>\n",
       "      <td>%p</td>\n",
       "      <td>6865593827831367396</td>\n",
       "      <td>3</td>\n",
       "      <td>0.003910</td>\n",
       "      <td>0</td>\n",
       "      <td>1740</td>\n",
       "    </tr>\n",
       "    <tr>\n",
       "      <th>3</th>\n",
       "      <td>%p</td>\n",
       "      <td>6691484417816315620</td>\n",
       "      <td>3</td>\n",
       "      <td>0.005259</td>\n",
       "      <td>0</td>\n",
       "      <td>1739</td>\n",
       "    </tr>\n",
       "    <tr>\n",
       "      <th>4</th>\n",
       "      <td>%p</td>\n",
       "      <td>6691484434996184804</td>\n",
       "      <td>3</td>\n",
       "      <td>0.005689</td>\n",
       "      <td>0</td>\n",
       "      <td>1739</td>\n",
       "    </tr>\n",
       "    <tr>\n",
       "      <th>...</th>\n",
       "      <td>...</td>\n",
       "      <td>...</td>\n",
       "      <td>...</td>\n",
       "      <td>...</td>\n",
       "      <td>...</td>\n",
       "      <td>...</td>\n",
       "    </tr>\n",
       "    <tr>\n",
       "      <th>3341</th>\n",
       "      <td>/p/gpfs1/iopp/temp/1000-genome-haridev/scratch...</td>\n",
       "      <td>7523492661920059012</td>\n",
       "      <td>3</td>\n",
       "      <td>0.002793</td>\n",
       "      <td>0</td>\n",
       "      <td>1</td>\n",
       "    </tr>\n",
       "    <tr>\n",
       "      <th>3342</th>\n",
       "      <td>/p/gpfs1/iopp/temp/1000-genome-haridev/scratch...</td>\n",
       "      <td>7523492661920059012</td>\n",
       "      <td>3</td>\n",
       "      <td>0.002850</td>\n",
       "      <td>0</td>\n",
       "      <td>1</td>\n",
       "    </tr>\n",
       "    <tr>\n",
       "      <th>3343</th>\n",
       "      <td>/p/gpfs1/iopp/temp/1000-genome-haridev/scratch...</td>\n",
       "      <td>7523492661920059012</td>\n",
       "      <td>3</td>\n",
       "      <td>0.002582</td>\n",
       "      <td>0</td>\n",
       "      <td>1</td>\n",
       "    </tr>\n",
       "    <tr>\n",
       "      <th>3344</th>\n",
       "      <td>/p/gpfs1/iopp/temp/1000-genome-haridev/scratch...</td>\n",
       "      <td>7523492661920059012</td>\n",
       "      <td>3</td>\n",
       "      <td>0.002947</td>\n",
       "      <td>0</td>\n",
       "      <td>1</td>\n",
       "    </tr>\n",
       "    <tr>\n",
       "      <th>3345</th>\n",
       "      <td>/p/gpfs1/iopp/temp/1000-genome-haridev/scratch...</td>\n",
       "      <td>7523492661920059012</td>\n",
       "      <td>3</td>\n",
       "      <td>0.003159</td>\n",
       "      <td>0</td>\n",
       "      <td>1</td>\n",
       "    </tr>\n",
       "  </tbody>\n",
       "</table>\n",
       "<p>3346 rows × 6 columns</p>\n",
       "</div>"
      ],
      "text/plain": [
       "                                               filename              proc_id  \\\n",
       "0                                                        7523492661920059012   \n",
       "1                                                    %p  6865593879370974948   \n",
       "2                                                    %p  6865593827831367396   \n",
       "3                                                    %p  6691484417816315620   \n",
       "4                                                    %p  6691484434996184804   \n",
       "...                                                 ...                  ...   \n",
       "3341  /p/gpfs1/iopp/temp/1000-genome-haridev/scratch...  7523492661920059012   \n",
       "3342  /p/gpfs1/iopp/temp/1000-genome-haridev/scratch...  7523492661920059012   \n",
       "3343  /p/gpfs1/iopp/temp/1000-genome-haridev/scratch...  7523492661920059012   \n",
       "3344  /p/gpfs1/iopp/temp/1000-genome-haridev/scratch...  7523492661920059012   \n",
       "3345  /p/gpfs1/iopp/temp/1000-genome-haridev/scratch...  7523492661920059012   \n",
       "\n",
       "      io_cat  SUM(?table?.duration)  SUM(?table?.size)  COUNT(?table?.index)  \n",
       "0          0               0.049799                  0                  9160  \n",
       "1          3               0.004954                  0                  1746  \n",
       "2          3               0.003910                  0                  1740  \n",
       "3          3               0.005259                  0                  1739  \n",
       "4          3               0.005689                  0                  1739  \n",
       "...      ...                    ...                ...                   ...  \n",
       "3341       3               0.002793                  0                     1  \n",
       "3342       3               0.002850                  0                     1  \n",
       "3343       3               0.002582                  0                     1  \n",
       "3344       3               0.002947                  0                     1  \n",
       "3345       3               0.003159                  0                     1  \n",
       "\n",
       "[3346 rows x 6 columns]"
      ]
     },
     "execution_count": 37,
     "metadata": {},
     "output_type": "execute_result"
    }
   ],
   "source": [
    "gen_res_0[0].to_pandas()"
   ]
  },
  {
   "cell_type": "code",
   "execution_count": 7,
   "metadata": {},
   "outputs": [
    {
     "data": {
      "text/html": [
       "<div><strong>Dask DataFrame Structure:</strong></div>\n",
       "<div>\n",
       "<style scoped>\n",
       "    .dataframe tbody tr th:only-of-type {\n",
       "        vertical-align: middle;\n",
       "    }\n",
       "\n",
       "    .dataframe tbody tr th {\n",
       "        vertical-align: top;\n",
       "    }\n",
       "\n",
       "    .dataframe thead th {\n",
       "        text-align: right;\n",
       "    }\n",
       "</style>\n",
       "<table border=\"1\" class=\"dataframe\">\n",
       "  <thead>\n",
       "    <tr style=\"text-align: right;\">\n",
       "      <th></th>\n",
       "      <th>index</th>\n",
       "      <th>proc</th>\n",
       "      <th>rank</th>\n",
       "      <th>thread_id</th>\n",
       "      <th>cat</th>\n",
       "      <th>io_cat</th>\n",
       "      <th>tstart</th>\n",
       "      <th>tend</th>\n",
       "      <th>func_id</th>\n",
       "      <th>level</th>\n",
       "      <th>hostname</th>\n",
       "      <th>app</th>\n",
       "      <th>filename</th>\n",
       "      <th>size</th>\n",
       "      <th>acc_pat</th>\n",
       "      <th>bandwidth</th>\n",
       "      <th>duration</th>\n",
       "      <th>tmid</th>\n",
       "      <th>file_id</th>\n",
       "      <th>proc_id</th>\n",
       "    </tr>\n",
       "    <tr>\n",
       "      <th>npartitions=1</th>\n",
       "      <th></th>\n",
       "      <th></th>\n",
       "      <th></th>\n",
       "      <th></th>\n",
       "      <th></th>\n",
       "      <th></th>\n",
       "      <th></th>\n",
       "      <th></th>\n",
       "      <th></th>\n",
       "      <th></th>\n",
       "      <th></th>\n",
       "      <th></th>\n",
       "      <th></th>\n",
       "      <th></th>\n",
       "      <th></th>\n",
       "      <th></th>\n",
       "      <th></th>\n",
       "      <th></th>\n",
       "      <th></th>\n",
       "      <th></th>\n",
       "    </tr>\n",
       "  </thead>\n",
       "  <tbody>\n",
       "    <tr>\n",
       "      <th></th>\n",
       "      <td>int64</td>\n",
       "      <td>int64</td>\n",
       "      <td>int32</td>\n",
       "      <td>int32</td>\n",
       "      <td>int32</td>\n",
       "      <td>int32</td>\n",
       "      <td>float32</td>\n",
       "      <td>float32</td>\n",
       "      <td>object</td>\n",
       "      <td>int32</td>\n",
       "      <td>object</td>\n",
       "      <td>object</td>\n",
       "      <td>object</td>\n",
       "      <td>int64</td>\n",
       "      <td>int32</td>\n",
       "      <td>float32</td>\n",
       "      <td>float32</td>\n",
       "      <td>int64</td>\n",
       "      <td>int64</td>\n",
       "      <td>int64</td>\n",
       "    </tr>\n",
       "    <tr>\n",
       "      <th></th>\n",
       "      <td>...</td>\n",
       "      <td>...</td>\n",
       "      <td>...</td>\n",
       "      <td>...</td>\n",
       "      <td>...</td>\n",
       "      <td>...</td>\n",
       "      <td>...</td>\n",
       "      <td>...</td>\n",
       "      <td>...</td>\n",
       "      <td>...</td>\n",
       "      <td>...</td>\n",
       "      <td>...</td>\n",
       "      <td>...</td>\n",
       "      <td>...</td>\n",
       "      <td>...</td>\n",
       "      <td>...</td>\n",
       "      <td>...</td>\n",
       "      <td>...</td>\n",
       "      <td>...</td>\n",
       "      <td>...</td>\n",
       "    </tr>\n",
       "  </tbody>\n",
       "</table>\n",
       "</div>\n",
       "<div>Dask Name: read-parquet, 1 tasks</div>"
      ],
      "text/plain": [
       "Dask DataFrame Structure:\n",
       "               index   proc   rank thread_id    cat io_cat   tstart     tend func_id  level hostname     app filename   size acc_pat bandwidth duration   tmid file_id proc_id\n",
       "npartitions=1                                                                                                                                                                 \n",
       "               int64  int64  int32     int32  int32  int32  float32  float32  object  int32   object  object   object  int64   int32   float32  float32  int64   int64   int64\n",
       "                 ...    ...    ...       ...    ...    ...      ...      ...     ...    ...      ...     ...      ...    ...     ...       ...      ...    ...     ...     ...\n",
       "Dask Name: read-parquet, 1 tasks"
      ]
     },
     "execution_count": 7,
     "metadata": {},
     "output_type": "execute_result"
    }
   ],
   "source": [
    "cm1_dir = \"/p/vast1/iopp/recorder_app_logs/cm1/nodes-32/workflow-4/_parquet\"\n",
    "\n",
    "cm1_ddf = dd.read_parquet(f\"{cm1_dir}/*.parquet\")\n",
    "\n",
    "cm1_ddf"
   ]
  },
  {
   "cell_type": "code",
   "execution_count": 1,
   "metadata": {},
   "outputs": [],
   "source": [
    "import polars as pl\n",
    "\n",
    "# cm1_pl_df = pl.read_parquet(f\"{cm1_dir}/*.parquet\")\n",
    "\n",
    "# cm1_pl_df"
   ]
  },
  {
   "cell_type": "code",
   "execution_count": null,
   "metadata": {},
   "outputs": [],
   "source": [
    "%%time\n",
    "cm1_pl_agg_df = cm1_pl_df \\\n",
    "    .groupby([\"filename\", \"proc_id\", \"io_cat\"]) \\\n",
    "    .agg([pl.sum(\"duration\"), pl.sum(\"size\")]) \\\n",
    "    .sort(\"duration\", reverse=True)\n",
    "cm1_pl_agg_df\n"
   ]
  },
  {
   "cell_type": "code",
   "execution_count": null,
   "metadata": {},
   "outputs": [],
   "source": [
    "cm1_pl_agg_df[0]['filename']"
   ]
  },
  {
   "cell_type": "code",
   "execution_count": 3,
   "metadata": {},
   "outputs": [],
   "source": [
    "gen_dir = \"/p/vast1/iopp/recorder_app_logs/genome_pegasus/nodes-32/_parquet\"\n",
    "# gen_pl_df = pl.read_parquet(f\"{gen_dir}/*.parquet\", n_rows=10)"
   ]
  },
  {
   "cell_type": "code",
   "execution_count": 20,
   "metadata": {},
   "outputs": [],
   "source": [
    "q1 = (\n",
    "    pl.scan_parquet(f\"{gen_dir}/*.parquet\")\n",
    "    .groupby([\"file_id\", \"proc_id\", \"io_cat\"])\n",
    "    .agg([pl.sum(\"duration\"), pl.sum(\"size\")])\n",
    "    .sort(\"duration\", reverse=True)\n",
    ")\n",
    "# q1"
   ]
  },
  {
   "cell_type": "code",
   "execution_count": 21,
   "metadata": {},
   "outputs": [],
   "source": [
    "%%time\n",
    "q1.collect()"
   ]
  },
  {
   "cell_type": "code",
   "execution_count": null,
   "metadata": {},
   "outputs": [],
   "source": []
  }
 ],
 "metadata": {
  "kernelspec": {
   "display_name": "venv-quartz",
   "language": "python",
   "name": "python3"
  },
  "language_info": {
   "codemirror_mode": {
    "name": "ipython",
    "version": 3
   },
   "file_extension": ".py",
   "mimetype": "text/x-python",
   "name": "python",
   "nbconvert_exporter": "python",
   "pygments_lexer": "ipython3",
   "version": "3.7.2 (default, Feb 26 2019, 08:59:10) \n[GCC 4.9.3]"
  },
  "orig_nbformat": 4,
  "vscode": {
   "interpreter": {
    "hash": "5fec0851e4f6f01b6df5374e9d9a00bfd82bb6133a08238edb641111344e8885"
   }
  }
 },
 "nbformat": 4,
 "nbformat_minor": 2
}

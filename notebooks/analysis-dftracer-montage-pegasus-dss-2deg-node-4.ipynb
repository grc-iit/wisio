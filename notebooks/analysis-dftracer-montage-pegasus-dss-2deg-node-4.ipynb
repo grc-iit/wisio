{
 "cells": [
  {
   "cell_type": "code",
   "execution_count": 1,
   "id": "96152eb1",
   "metadata": {
    "execution": {
     "iopub.execute_input": "2024-10-09T04:44:57.342259Z",
     "iopub.status.busy": "2024-10-09T04:44:57.341913Z",
     "iopub.status.idle": "2024-10-09T04:44:57.376194Z",
     "shell.execute_reply": "2024-10-09T04:44:57.375701Z"
    },
    "papermill": {
     "duration": 0.043372,
     "end_time": "2024-10-09T04:44:57.378912",
     "exception": false,
     "start_time": "2024-10-09T04:44:57.335540",
     "status": "completed"
    },
    "tags": []
   },
   "outputs": [
    {
     "name": "stdout",
     "output_type": "stream",
     "text": [
      "time: 173 µs (started: 2024-10-08 21:44:57 -07:00)\n"
     ]
    }
   ],
   "source": [
    "%load_ext autoreload\n",
    "%load_ext autotime"
   ]
  },
  {
   "cell_type": "code",
   "execution_count": 2,
   "id": "0aee0317",
   "metadata": {
    "execution": {
     "iopub.execute_input": "2024-10-09T04:44:57.390639Z",
     "iopub.status.busy": "2024-10-09T04:44:57.389055Z",
     "iopub.status.idle": "2024-10-09T04:44:57.396714Z",
     "shell.execute_reply": "2024-10-09T04:44:57.396209Z"
    },
    "papermill": {
     "duration": 0.01527,
     "end_time": "2024-10-09T04:44:57.398240",
     "exception": false,
     "start_time": "2024-10-09T04:44:57.382970",
     "status": "completed"
    },
    "tags": []
   },
   "outputs": [
    {
     "name": "stdout",
     "output_type": "stream",
     "text": [
      "time: 683 µs (started: 2024-10-08 21:44:57 -07:00)\n"
     ]
    }
   ],
   "source": [
    "import os\n",
    "import sys\n",
    "import time\n",
    "import warnings\n",
    "\n",
    "# Add WisIO to the path\n",
    "sys.path.append(os.path.abspath(\"../\"))\n",
    "\n",
    "# Filter warnings\n",
    "warnings.filterwarnings('ignore')"
   ]
  },
  {
   "cell_type": "code",
   "execution_count": 3,
   "id": "564129c4",
   "metadata": {
    "execution": {
     "iopub.execute_input": "2024-10-09T04:44:57.407262Z",
     "iopub.status.busy": "2024-10-09T04:44:57.406685Z",
     "iopub.status.idle": "2024-10-09T04:44:57.411233Z",
     "shell.execute_reply": "2024-10-09T04:44:57.410719Z"
    },
    "papermill": {
     "duration": 0.010624,
     "end_time": "2024-10-09T04:44:57.412648",
     "exception": false,
     "start_time": "2024-10-09T04:44:57.402024",
     "status": "completed"
    },
    "tags": [
     "parameters",
     "parameters2"
    ]
   },
   "outputs": [
    {
     "name": "stdout",
     "output_type": "stream",
     "text": [
      "time: 777 µs (started: 2024-10-08 21:44:57 -07:00)\n"
     ]
    }
   ],
   "source": [
    "analyzer = \"dftracer\"\n",
    "checkpoint = True\n",
    "logical_view_types = False\n",
    "output_max_bottlenecks = 1\n",
    "output_root_only = False\n",
    "run_dir = f\".wisio/{analyzer}/{int(time.time())}\"\n",
    "bottleneck_dir = f\"{run_dir}/bottlenecks\"\n",
    "checkpoint_dir = f\"{run_dir}/checkpoints\"\n",
    "percentile = 0.95\n",
    "trace_path = \"/p/lustre3/iopp/dftracer-traces-lfs/v1.0.5-develop/corona/cm1/APP/node-1/v1/RAW/*.pfw.gz\""
   ]
  },
  {
   "cell_type": "code",
   "execution_count": 4,
   "id": "85e6cc2b",
   "metadata": {
    "execution": {
     "iopub.execute_input": "2024-10-09T04:44:57.421822Z",
     "iopub.status.busy": "2024-10-09T04:44:57.421631Z",
     "iopub.status.idle": "2024-10-09T04:44:57.425860Z",
     "shell.execute_reply": "2024-10-09T04:44:57.425340Z"
    },
    "papermill": {
     "duration": 0.010127,
     "end_time": "2024-10-09T04:44:57.427267",
     "exception": false,
     "start_time": "2024-10-09T04:44:57.417140",
     "status": "completed"
    },
    "tags": [
     "injected-parameters"
    ]
   },
   "outputs": [
    {
     "name": "stdout",
     "output_type": "stream",
     "text": [
      "time: 715 µs (started: 2024-10-08 21:44:57 -07:00)\n"
     ]
    }
   ],
   "source": [
    "# Parameters\n",
    "analyzer = \"dftracer\"\n",
    "checkpoint = True\n",
    "checkpoint_dir = \"/usr/workspace/iopp/wisio_logs/_checkpoints/dftracer-montage-pegasus-dss-2deg-node-4\"\n",
    "logical_view_types = False\n",
    "output_max_bottlenecks = 1\n",
    "output_root_only = False\n",
    "run_dir = \".wisio/dftracer/montage-pegasus-dss-2deg-node-4\"\n",
    "percentile = 0.99\n",
    "trace_path = \"/p/lustre3/iopp/dftracer-traces-lfs/v1.0.5-develop/corona/montage/pegasus-dss-2deg/node-4/v1/COMPACT/*.pfw.gz\"\n"
   ]
  },
  {
   "cell_type": "code",
   "execution_count": 5,
   "id": "32975426",
   "metadata": {
    "execution": {
     "iopub.execute_input": "2024-10-09T04:44:57.435345Z",
     "iopub.status.busy": "2024-10-09T04:44:57.435159Z",
     "iopub.status.idle": "2024-10-09T04:45:06.154461Z",
     "shell.execute_reply": "2024-10-09T04:45:06.152959Z"
    },
    "papermill": {
     "duration": 8.725583,
     "end_time": "2024-10-09T04:45:06.156591",
     "exception": false,
     "start_time": "2024-10-09T04:44:57.431008",
     "status": "completed"
    },
    "tags": []
   },
   "outputs": [
    {
     "name": "stdout",
     "output_type": "stream",
     "text": [
      "time: 8.71 s (started: 2024-10-08 21:44:57 -07:00)\n"
     ]
    }
   ],
   "source": [
    "from distributed import Client\n",
    "from hydra import compose, initialize\n",
    "from hydra.core.hydra_config import HydraConfig\n",
    "from hydra.utils import instantiate\n",
    "from wisio.config import init_hydra_config_store\n",
    "from wisio.utils.file_utils import ensure_dir\n",
    "\n",
    "ensure_dir(run_dir)\n",
    "\n",
    "with initialize(version_base=None, config_path=None):\n",
    "    init_hydra_config_store()\n",
    "    cfg = compose(\n",
    "        config_name=\"config\",\n",
    "        overrides=[\n",
    "            f\"+analyzer={analyzer}\",\n",
    "            f\"analyzer.bottleneck_dir={bottleneck_dir}\",\n",
    "            f\"analyzer.checkpoint={checkpoint}\",\n",
    "            f\"analyzer.checkpoint_dir={checkpoint_dir}\",\n",
    "            f\"hydra.run.dir={run_dir}\",\n",
    "            f\"hydra.runtime.output_dir={run_dir}\",\n",
    "            f\"logical_view_types={logical_view_types}\",\n",
    "            f\"output.max_bottlenecks={output_max_bottlenecks}\",\n",
    "            f\"output.root_only={output_root_only}\",\n",
    "            f\"percentile={percentile}\",\n",
    "            f\"trace_path={trace_path}\",\n",
    "        ],\n",
    "        return_hydra_config=True,\n",
    "    )\n",
    "    HydraConfig.instance().set_config(cfg)\n",
    "    cluster = instantiate(cfg.cluster)\n",
    "    client = Client(cluster)\n",
    "    analyzer = instantiate(cfg.analyzer)\n",
    "    output = instantiate(cfg.output)"
   ]
  },
  {
   "cell_type": "code",
   "execution_count": 6,
   "id": "4dabc87e",
   "metadata": {
    "execution": {
     "iopub.execute_input": "2024-10-09T04:45:06.172442Z",
     "iopub.status.busy": "2024-10-09T04:45:06.171809Z",
     "iopub.status.idle": "2024-10-09T04:53:18.486855Z",
     "shell.execute_reply": "2024-10-09T04:53:18.486238Z"
    },
    "papermill": {
     "duration": 492.32892,
     "end_time": "2024-10-09T04:53:18.492820",
     "exception": false,
     "start_time": "2024-10-09T04:45:06.163900",
     "status": "completed"
    },
    "tags": []
   },
   "outputs": [
    {
     "name": "stdout",
     "output_type": "stream",
     "text": [
      "time: 8min 12s (started: 2024-10-08 21:45:06 -07:00)\n"
     ]
    }
   ],
   "source": [
    "result = analyzer.analyze_trace(\n",
    "    trace_path=cfg.trace_path,\n",
    "    # accuracy=cfg.accuracy,\n",
    "    exclude_bottlenecks=cfg.exclude_bottlenecks,\n",
    "    exclude_characteristics=cfg.exclude_characteristics,\n",
    "    logical_view_types=cfg.logical_view_types,\n",
    "    metrics=cfg.metrics,\n",
    "    percentile=cfg.percentile,\n",
    "    view_types=cfg.view_types,\n",
    ")"
   ]
  },
  {
   "cell_type": "code",
   "execution_count": 7,
   "id": "61e9d8d7",
   "metadata": {
    "execution": {
     "iopub.execute_input": "2024-10-09T04:53:18.507357Z",
     "iopub.status.busy": "2024-10-09T04:53:18.506034Z",
     "iopub.status.idle": "2024-10-09T04:53:39.755971Z",
     "shell.execute_reply": "2024-10-09T04:53:39.754922Z"
    },
    "papermill": {
     "duration": 21.260224,
     "end_time": "2024-10-09T04:53:39.757692",
     "exception": false,
     "start_time": "2024-10-09T04:53:18.497468",
     "status": "completed"
    },
    "tags": []
   },
   "outputs": [
    {
     "data": {
      "text/html": [
       "<pre style=\"white-space:pre;overflow-x:auto;line-height:normal;font-family:Menlo,'DejaVu Sans Mono',consolas,'Courier New',monospace\">╭────────────────────────────────────────────── I/O Characteristics ──────────────────────────────────────────────╮\n",
       "│                                                                                                                 │\n",
       "│ <span style=\"color: #008080; text-decoration-color: #008080\"> Runtime         </span> 1060.98 seconds                                                                               │\n",
       "│ <span style=\"color: #008080; text-decoration-color: #008080\"> I/O Time        </span> 2.06 seconds                                                                                  │\n",
       "│ <span style=\"color: #008080; text-decoration-color: #008080\">                 </span> ├── Read - 0.05 seconds (2.50%)                                                               │\n",
       "│ <span style=\"color: #008080; text-decoration-color: #008080\">                 </span> ├── Write - 0.01 seconds (0.47%)                                                              │\n",
       "│ <span style=\"color: #008080; text-decoration-color: #008080\">                 </span> └── Metadata - 2.06 seconds (99.97%)                                                          │\n",
       "│ <span style=\"color: #008080; text-decoration-color: #008080\"> I/O Operations  </span> 1,674,447 ops                                                                                 │\n",
       "│ <span style=\"color: #008080; text-decoration-color: #008080\">                 </span> ├── Read - 79,940 ops (4.77%)                                                                 │\n",
       "│ <span style=\"color: #008080; text-decoration-color: #008080\">                 </span> ├── Write - 26,224 ops (1.57%)                                                                │\n",
       "│ <span style=\"color: #008080; text-decoration-color: #008080\">                 </span> └── Metadata - 1,566,555 ops (93.56%)                                                         │\n",
       "│ <span style=\"color: #008080; text-decoration-color: #008080\"> I/O Size        </span> 799.85 MiB                                                                                    │\n",
       "│ <span style=\"color: #008080; text-decoration-color: #008080\">                 </span> ├── Read - 5.94 MiB (0.74%)                                                                   │\n",
       "│ <span style=\"color: #008080; text-decoration-color: #008080\">                 </span> └── Write - 793.91 MiB (99.26%)                                                               │\n",
       "│ <span style=\"color: #008080; text-decoration-color: #008080\"> Read Requests   </span> 4 kiB-4 kiB - 73,492 ops                                                                      │\n",
       "│ <span style=\"color: #008080; text-decoration-color: #008080\">                 </span> └── &lt;4 kiB - 73,492 ops (100.00%)                                                             │\n",
       "│ <span style=\"color: #008080; text-decoration-color: #008080\"> Write Requests  </span> 4 kiB-64 kiB - 26,224 ops                                                                     │\n",
       "│ <span style=\"color: #008080; text-decoration-color: #008080\">                 </span> ├── &lt;4 kiB - 13,360 ops (50.95%)                                                              │\n",
       "│ <span style=\"color: #008080; text-decoration-color: #008080\">                 </span> └── 16-64 kiB - 12,864 ops (49.05%)                                                           │\n",
       "│ <span style=\"color: #008080; text-decoration-color: #008080\"> Nodes           </span> 4 nodes                                                                                       │\n",
       "│ <span style=\"color: #008080; text-decoration-color: #008080\">                 </span> ├── 14275 - 2.06 s (100.00%) - 1.53 MiB/198.50 MiB R/W (0.19/24.82%) - 454,930 ops (27.17%)   │\n",
       "│ <span style=\"color: #008080; text-decoration-color: #008080\">                 </span> ├── 29933 - 1.84 s (89.62%) - 1.48 MiB/198.47 MiB R/W (0.19/24.81%) - 406,273 ops (24.26%)    │\n",
       "│ <span style=\"color: #008080; text-decoration-color: #008080\">                 </span> ├── 7703 - 1.27 s (61.54%) - 1.48 MiB/198.47 MiB R/W (0.19/24.81%) - 404,826 ops (24.18%)     │\n",
       "│ <span style=\"color: #008080; text-decoration-color: #008080\">                 </span> └── 38179 - 1.04 s (50.45%) - 1.45 MiB/198.47 MiB R/W (0.18/24.81%) - 408,418 ops (24.39%)    │\n",
       "│ <span style=\"color: #008080; text-decoration-color: #008080\"> Apps            </span> 1 app                                                                                         │\n",
       "│ <span style=\"color: #008080; text-decoration-color: #008080\"> Processes/Ranks </span> 20,397 processes                                                                              │\n",
       "│ <span style=\"color: #008080; text-decoration-color: #008080\"> Files           </span> 39,978 files                                                                                  │\n",
       "│ <span style=\"color: #008080; text-decoration-color: #008080\">                 </span> ├── Shared: 24,021 files (60.09%)                                                             │\n",
       "│ <span style=\"color: #008080; text-decoration-color: #008080\">                 </span> └── FPP: 15,957 files (39.91%)                                                                │\n",
       "│ <span style=\"color: #008080; text-decoration-color: #008080\"> Time Periods    </span> 385 time periods (Time Granularity: 1,000,000.0)                                              │\n",
       "│ <span style=\"color: #008080; text-decoration-color: #008080\"> Access Pattern  </span> <span style=\"font-weight: bold\">Sequential</span>: 106,164 ops (100.00%) - <span style=\"font-weight: bold\">Random</span>: 0 ops (0.00%)                                     │\n",
       "│                                                                                                                 │\n",
       "╰─ <span style=\"font-weight: bold\">R</span>: Read - <span style=\"font-weight: bold\">W</span>: Write - <span style=\"font-weight: bold\">M</span>: Metadata  ─────────────────────────────────────────────────────────────────────────────╯\n",
       "                                                                                                                   \n",
       "╭───────────────────────────────────── 637 I/O Bottlenecks with 148 Reasons ──────────────────────────────────────╮\n",
       "│                                                                                                                 │\n",
       "│  Time View (4 bottlenecks with 5 reasons)                                                                       │\n",
       "│  ├── <span style=\"color: #d70000; text-decoration-color: #d70000\">[CR1] 13 processes access 21 files within 1 time period (423) across 25 I/O operations and have an I/O </span>    │\n",
       "│  │   <span style=\"color: #d70000; text-decoration-color: #d70000\">time of 1.01 seconds which is 48.96% of overall I/O time of the workload.</span>                                  │\n",
       "│  │   └── <span style=\"color: #d70000; text-decoration-color: #d70000\">[Excessive metadata access] Overall 100.00% (1.01 seconds) of I/O time is spent on metadata access, </span>   │\n",
       "│  │       <span style=\"color: #d70000; text-decoration-color: #d70000\">specifically 98.61% (0.99 seconds) on the 'open' operation.</span>                                            │\n",
       "│  └── (3 more)                                                                                                   │\n",
       "│  File View (400 bottlenecks with 59 reasons)                                                                    │\n",
       "│  ├── <span style=\"color: #d70000; text-decoration-color: #d70000\">[CR5] 1 process accesses 1 file (11130) within 1 time period across 4 I/O operations and has an I/O time </span>  │\n",
       "│  │   <span style=\"color: #d70000; text-decoration-color: #d70000\">of 1.88 seconds which is 91.49% of overall I/O time of the workload.</span>                                       │\n",
       "│  │   ├── <span style=\"color: #d70000; text-decoration-color: #d70000\">[Excessive metadata access] Overall 100.00% (1.88 seconds) of I/O time is spent on metadata access, </span>   │\n",
       "│  │   │   <span style=\"color: #d70000; text-decoration-color: #d70000\">specifically 10.26% (0.19 seconds) on the 'open' operation.</span>                                            │\n",
       "│  │   └── <span style=\"color: #d70000; text-decoration-color: #d70000\">[Operation imbalance] 'read' operations are 25.00% (1 operations) of total I/O operations.</span>             │\n",
       "│  └── (399 more)                                                                                                 │\n",
       "│  Process View (204 bottlenecks with 38 reasons)                                                                 │\n",
       "│  ├── <span style=\"color: #d70000; text-decoration-color: #d70000\">[CR405] 1 process (app#29933#2134171#2134171) accesses 79 files within 3 time periods across 98 I/O </span>       │\n",
       "│  │   <span style=\"color: #d70000; text-decoration-color: #d70000\">operations and has an I/O time of 1.84 seconds which is 89.62% of overall I/O time of the workload.</span>        │\n",
       "│  │   ├── <span style=\"color: #d70000; text-decoration-color: #d70000\">[Excessive metadata access] Overall 100.00% (1.84 seconds) of I/O time is spent on metadata access, </span>   │\n",
       "│  │   │   <span style=\"color: #d70000; text-decoration-color: #d70000\">specifically 9.13% (0.17 seconds) on the 'open' operation.</span>                                             │\n",
       "│  │   └── <span style=\"color: #d70000; text-decoration-color: #d70000\">[Size imbalance] 'read' size is 100.00% (64.0 B) of total I/O size.</span>                                    │\n",
       "│  └── (203 more)                                                                                                 │\n",
       "│  Time&gt;File View (2 bottlenecks with 2 reasons)                                                                  │\n",
       "│  ├── <span style=\"color: #d70000; text-decoration-color: #d70000\">[CR609] 1 process accesses 1 file (61588) within 1 time period across 1 I/O operation and has an I/O time</span>  │\n",
       "│  │   <span style=\"color: #d70000; text-decoration-color: #d70000\">of 1.64 seconds which is 79.64% of overall I/O time of the workload.</span>                                       │\n",
       "│  │   └── <span style=\"color: #d70000; text-decoration-color: #d70000\">[Excessive metadata access] Overall 100.00% (1.64 seconds) of I/O time is spent on metadata access, </span>   │\n",
       "│  │       <span style=\"color: #d70000; text-decoration-color: #d70000\">specifically 100.00% (1.64 seconds) on the 'open' operation.</span>                                           │\n",
       "│  └── (1 more)                                                                                                   │\n",
       "│  Time&gt;Process View (1 bottleneck with 1 reason)                                                                 │\n",
       "│  └── <span style=\"color: #d70000; text-decoration-color: #d70000\">[CR611] 1 process (app#29933#2134228#2134228) accesses 1 file within 1 time period across 1 I/O operation</span>  │\n",
       "│      <span style=\"color: #d70000; text-decoration-color: #d70000\">and has an I/O time of 1.64 seconds which is 79.64% of overall I/O time of the workload.</span>                   │\n",
       "│      └── <span style=\"color: #d70000; text-decoration-color: #d70000\">[Excessive metadata access] Overall 100.00% (1.64 seconds) of I/O time is spent on metadata access, </span>   │\n",
       "│          <span style=\"color: #d70000; text-decoration-color: #d70000\">specifically 100.00% (1.64 seconds) on the 'open' operation.</span>                                           │\n",
       "│  File&gt;Time View (2 bottlenecks with 3 reasons)                                                                  │\n",
       "│  ├── <span style=\"color: #d70000; text-decoration-color: #d70000\">[CR612] 4 processes access 4 files within 1 time period (422) across 4 I/O operations and have an I/O </span>     │\n",
       "│  │   <span style=\"color: #d70000; text-decoration-color: #d70000\">time of 1.52 seconds which is 73.89% of overall I/O time of the workload.</span>                                  │\n",
       "│  │   └── <span style=\"color: #d70000; text-decoration-color: #d70000\">[Excessive metadata access] Overall 100.00% (1.52 seconds) of I/O time is spent on metadata access, </span>   │\n",
       "│  │       <span style=\"color: #d70000; text-decoration-color: #d70000\">specifically 100.00% (1.52 seconds) on the 'open' operation.</span>                                           │\n",
       "│  └── (1 more)                                                                                                   │\n",
       "│  File&gt;Process View (6 bottlenecks with 12 reasons)                                                              │\n",
       "│  ├── <span style=\"color: #d70000; text-decoration-color: #d70000\">[CR614] 1 process (app#14275#3756471#3756471) accesses 1 file within 2 time periods across 4 I/O </span>          │\n",
       "│  │   <span style=\"color: #d70000; text-decoration-color: #d70000\">operations and has an I/O time of 2.04 seconds which is 99.29% of overall I/O time of the workload.</span>        │\n",
       "│  │   ├── <span style=\"color: #d70000; text-decoration-color: #d70000\">[Excessive metadata access] Overall 100.00% (2.04 seconds) of I/O time is spent on metadata access, </span>   │\n",
       "│  │   │   <span style=\"color: #d70000; text-decoration-color: #d70000\">specifically 17.42% (0.36 seconds) on the 'open' operation.</span>                                            │\n",
       "│  │   └── <span style=\"color: #d70000; text-decoration-color: #d70000\">[Operation imbalance] 'read' operations are 25.00% (1 operations) of total I/O operations.</span>             │\n",
       "│  └── (5 more)                                                                                                   │\n",
       "│  Process&gt;Time View (2 bottlenecks with 2 reasons)                                                               │\n",
       "│  ├── <span style=\"color: #d70000; text-decoration-color: #d70000\">[CR620] 3 processes access 3 files within 1 time period (422) across 3 I/O operations and have an I/O </span>     │\n",
       "│  │   <span style=\"color: #d70000; text-decoration-color: #d70000\">time of 1.52 seconds which is 73.89% of overall I/O time of the workload.</span>                                  │\n",
       "│  │   └── <span style=\"color: #d70000; text-decoration-color: #d70000\">[Excessive metadata access] Overall 100.00% (1.52 seconds) of I/O time is spent on metadata access, </span>   │\n",
       "│  │       <span style=\"color: #d70000; text-decoration-color: #d70000\">specifically 100.00% (1.52 seconds) on the 'open' operation.</span>                                           │\n",
       "│  └── (1 more)                                                                                                   │\n",
       "│  Process&gt;File View (10 bottlenecks with 20 reasons)                                                             │\n",
       "│  ├── <span style=\"color: #d70000; text-decoration-color: #d70000\">[CR622] 1 process accesses 1 file (54683) within 2 time periods across 4 I/O operations and has an I/O </span>    │\n",
       "│  │   <span style=\"color: #d70000; text-decoration-color: #d70000\">time of 2.04 seconds which is 99.29% of overall I/O time of the workload.</span>                                  │\n",
       "│  │   ├── <span style=\"color: #d70000; text-decoration-color: #d70000\">[Excessive metadata access] Overall 100.00% (2.04 seconds) of I/O time is spent on metadata access, </span>   │\n",
       "│  │   │   <span style=\"color: #d70000; text-decoration-color: #d70000\">specifically 17.42% (0.36 seconds) on the 'open' operation.</span>                                            │\n",
       "│  │   └── <span style=\"color: #d70000; text-decoration-color: #d70000\">[Operation imbalance] 'read' operations are 25.00% (1 operations) of total I/O operations.</span>             │\n",
       "│  └── (9 more)                                                                                                   │\n",
       "│  Time&gt;File&gt;Process View (1 bottleneck with 1 reason)                                                            │\n",
       "│  └── <span style=\"color: #87af00; text-decoration-color: #87af00\">[LO632] 1 process (app#29933#2134228#2134228) accesses 1 file within 1 time period across 1 I/O operation</span>  │\n",
       "│      <span style=\"color: #87af00; text-decoration-color: #87af00\">and has an I/O time of 1.64 seconds which is 79.64% of overall I/O time of the workload.</span>                   │\n",
       "│      └── <span style=\"color: #87af00; text-decoration-color: #87af00\">[Excessive metadata access] Overall 100.00% (1.64 seconds) of I/O time is spent on metadata access, </span>   │\n",
       "│          <span style=\"color: #87af00; text-decoration-color: #87af00\">specifically 100.00% (1.64 seconds) on the 'open' operation.</span>                                           │\n",
       "│  Time&gt;Process&gt;File View (1 bottleneck with 1 reason)                                                            │\n",
       "│  └── <span style=\"color: #87af00; text-decoration-color: #87af00\">[LO633] 1 process accesses 1 file (61588) within 1 time period across 1 I/O operation and has an I/O time</span>  │\n",
       "│      <span style=\"color: #87af00; text-decoration-color: #87af00\">of 1.64 seconds which is 79.64% of overall I/O time of the workload.</span>                                       │\n",
       "│      └── <span style=\"color: #87af00; text-decoration-color: #87af00\">[Excessive metadata access] Overall 100.00% (1.64 seconds) of I/O time is spent on metadata access, </span>   │\n",
       "│          <span style=\"color: #87af00; text-decoration-color: #87af00\">specifically 100.00% (1.64 seconds) on the 'open' operation.</span>                                           │\n",
       "│  File&gt;Time&gt;Process View (1 bottleneck with 1 reason)                                                            │\n",
       "│  └── <span style=\"color: #d78700; text-decoration-color: #d78700\">[HI634] 1 process (app#29933#2134241#2134241) accesses 1 file within 1 time period across 1 I/O operation</span>  │\n",
       "│      <span style=\"color: #d78700; text-decoration-color: #d78700\">and has an I/O time of 1.52 seconds which is 73.89% of overall I/O time of the workload.</span>                   │\n",
       "│      └── <span style=\"color: #d78700; text-decoration-color: #d78700\">[Excessive metadata access] Overall 100.00% (1.52 seconds) of I/O time is spent on metadata access, </span>   │\n",
       "│          <span style=\"color: #d78700; text-decoration-color: #d78700\">specifically 100.00% (1.52 seconds) on the 'open' operation.</span>                                           │\n",
       "│  File&gt;Process&gt;Time View (1 bottleneck with 1 reason)                                                            │\n",
       "│  └── <span style=\"color: #d70000; text-decoration-color: #d70000\">[CR635] 1 process accesses 1 file within 1 time period (422) across 1 I/O operation and has an I/O time </span>   │\n",
       "│      <span style=\"color: #d70000; text-decoration-color: #d70000\">of 1.52 seconds which is 73.89% of overall I/O time of the workload.</span>                                       │\n",
       "│      └── <span style=\"color: #d70000; text-decoration-color: #d70000\">[Excessive metadata access] Overall 100.00% (1.52 seconds) of I/O time is spent on metadata access, </span>   │\n",
       "│          <span style=\"color: #d70000; text-decoration-color: #d70000\">specifically 100.00% (1.52 seconds) on the 'open' operation.</span>                                           │\n",
       "│  Process&gt;Time&gt;File View (1 bottleneck with 1 reason)                                                            │\n",
       "│  └── <span style=\"color: #d78700; text-decoration-color: #d78700\">[HI636] 1 process accesses 1 file (49781) within 1 time period across 1 I/O operation and has an I/O time</span>  │\n",
       "│      <span style=\"color: #d78700; text-decoration-color: #d78700\">of 1.52 seconds which is 73.89% of overall I/O time of the workload.</span>                                       │\n",
       "│      └── <span style=\"color: #d78700; text-decoration-color: #d78700\">[Excessive metadata access] Overall 100.00% (1.52 seconds) of I/O time is spent on metadata access, </span>   │\n",
       "│          <span style=\"color: #d78700; text-decoration-color: #d78700\">specifically 100.00% (1.52 seconds) on the 'open' operation.</span>                                           │\n",
       "│  Process&gt;File&gt;Time View (1 bottleneck with 1 reason)                                                            │\n",
       "│  └── <span style=\"color: #d70000; text-decoration-color: #d70000\">[CR637] 2 processes access 2 files within 1 time period (422) across 2 I/O operations and have an I/O </span>     │\n",
       "│      <span style=\"color: #d70000; text-decoration-color: #d70000\">time of 1.52 seconds which is 73.89% of overall I/O time of the workload.</span>                                  │\n",
       "│      └── <span style=\"color: #d70000; text-decoration-color: #d70000\">[Excessive metadata access] Overall 100.00% (1.52 seconds) of I/O time is spent on metadata access, </span>   │\n",
       "│          <span style=\"color: #d70000; text-decoration-color: #d70000\">specifically 100.00% (1.52 seconds) on the 'open' operation.</span>                                           │\n",
       "│                                                                                                                 │\n",
       "╰─────────────────────────────────────────────────────────────────────────────────────────────────────────────────╯\n",
       "</pre>\n"
      ],
      "text/plain": [
       "╭────────────────────────────────────────────── I/O Characteristics ──────────────────────────────────────────────╮\n",
       "│                                                                                                                 │\n",
       "│ \u001b[36m \u001b[0m\u001b[36mRuntime        \u001b[0m\u001b[36m \u001b[0m 1060.98 seconds                                                                               │\n",
       "│ \u001b[36m \u001b[0m\u001b[36mI/O Time       \u001b[0m\u001b[36m \u001b[0m 2.06 seconds                                                                                  │\n",
       "│ \u001b[36m                 \u001b[0m ├── Read - 0.05 seconds (2.50%)                                                               │\n",
       "│ \u001b[36m                 \u001b[0m ├── Write - 0.01 seconds (0.47%)                                                              │\n",
       "│ \u001b[36m                 \u001b[0m └── Metadata - 2.06 seconds (99.97%)                                                          │\n",
       "│ \u001b[36m \u001b[0m\u001b[36mI/O Operations \u001b[0m\u001b[36m \u001b[0m 1,674,447 ops                                                                                 │\n",
       "│ \u001b[36m                 \u001b[0m ├── Read - 79,940 ops (4.77%)                                                                 │\n",
       "│ \u001b[36m                 \u001b[0m ├── Write - 26,224 ops (1.57%)                                                                │\n",
       "│ \u001b[36m                 \u001b[0m └── Metadata - 1,566,555 ops (93.56%)                                                         │\n",
       "│ \u001b[36m \u001b[0m\u001b[36mI/O Size       \u001b[0m\u001b[36m \u001b[0m 799.85 MiB                                                                                    │\n",
       "│ \u001b[36m                 \u001b[0m ├── Read - 5.94 MiB (0.74%)                                                                   │\n",
       "│ \u001b[36m                 \u001b[0m └── Write - 793.91 MiB (99.26%)                                                               │\n",
       "│ \u001b[36m \u001b[0m\u001b[36mRead Requests  \u001b[0m\u001b[36m \u001b[0m 4 kiB-4 kiB - 73,492 ops                                                                      │\n",
       "│ \u001b[36m                 \u001b[0m └── <4 kiB - 73,492 ops (100.00%)                                                             │\n",
       "│ \u001b[36m \u001b[0m\u001b[36mWrite Requests \u001b[0m\u001b[36m \u001b[0m 4 kiB-64 kiB - 26,224 ops                                                                     │\n",
       "│ \u001b[36m                 \u001b[0m ├── <4 kiB - 13,360 ops (50.95%)                                                              │\n",
       "│ \u001b[36m                 \u001b[0m └── 16-64 kiB - 12,864 ops (49.05%)                                                           │\n",
       "│ \u001b[36m \u001b[0m\u001b[36mNodes          \u001b[0m\u001b[36m \u001b[0m 4 nodes                                                                                       │\n",
       "│ \u001b[36m                 \u001b[0m ├── 14275 - 2.06 s (100.00%) - 1.53 MiB/198.50 MiB R/W (0.19/24.82%) - 454,930 ops (27.17%)   │\n",
       "│ \u001b[36m                 \u001b[0m ├── 29933 - 1.84 s (89.62%) - 1.48 MiB/198.47 MiB R/W (0.19/24.81%) - 406,273 ops (24.26%)    │\n",
       "│ \u001b[36m                 \u001b[0m ├── 7703 - 1.27 s (61.54%) - 1.48 MiB/198.47 MiB R/W (0.19/24.81%) - 404,826 ops (24.18%)     │\n",
       "│ \u001b[36m                 \u001b[0m └── 38179 - 1.04 s (50.45%) - 1.45 MiB/198.47 MiB R/W (0.18/24.81%) - 408,418 ops (24.39%)    │\n",
       "│ \u001b[36m \u001b[0m\u001b[36mApps           \u001b[0m\u001b[36m \u001b[0m 1 app                                                                                         │\n",
       "│ \u001b[36m \u001b[0m\u001b[36mProcesses/Ranks\u001b[0m\u001b[36m \u001b[0m 20,397 processes                                                                              │\n",
       "│ \u001b[36m \u001b[0m\u001b[36mFiles          \u001b[0m\u001b[36m \u001b[0m 39,978 files                                                                                  │\n",
       "│ \u001b[36m                 \u001b[0m ├── Shared: 24,021 files (60.09%)                                                             │\n",
       "│ \u001b[36m                 \u001b[0m └── FPP: 15,957 files (39.91%)                                                                │\n",
       "│ \u001b[36m \u001b[0m\u001b[36mTime Periods   \u001b[0m\u001b[36m \u001b[0m 385 time periods (Time Granularity: 1,000,000.0)                                              │\n",
       "│ \u001b[36m \u001b[0m\u001b[36mAccess Pattern \u001b[0m\u001b[36m \u001b[0m \u001b[1mSequential\u001b[0m: 106,164 ops (100.00%) - \u001b[1mRandom\u001b[0m: 0 ops (0.00%)                                     │\n",
       "│                                                                                                                 │\n",
       "╰─ \u001b[1mR\u001b[0m: Read - \u001b[1mW\u001b[0m: Write - \u001b[1mM\u001b[0m: Metadata  ─────────────────────────────────────────────────────────────────────────────╯\n",
       "                                                                                                                   \n",
       "╭───────────────────────────────────── 637 I/O Bottlenecks with 148 Reasons ──────────────────────────────────────╮\n",
       "│                                                                                                                 │\n",
       "│  Time View (4 bottlenecks with 5 reasons)                                                                       │\n",
       "│  ├── \u001b[38;5;160m[CR1] 13 processes access 21 files within 1 time period (423) across 25 I/O operations and have an I/O \u001b[0m    │\n",
       "│  │   \u001b[38;5;160mtime of 1.01 seconds which is 48.96% of overall I/O time of the workload.\u001b[0m                                  │\n",
       "│  │   └── \u001b[38;5;160m[Excessive metadata access] Overall 100.00% (1.01 seconds) of I/O time is spent on metadata access, \u001b[0m   │\n",
       "│  │       \u001b[38;5;160mspecifically 98.61% (0.99 seconds) on the 'open' operation.\u001b[0m                                            │\n",
       "│  └── (3 more)                                                                                                   │\n",
       "│  File View (400 bottlenecks with 59 reasons)                                                                    │\n",
       "│  ├── \u001b[38;5;160m[CR5] 1 process accesses 1 file (11130) within 1 time period across 4 I/O operations and has an I/O time \u001b[0m  │\n",
       "│  │   \u001b[38;5;160mof 1.88 seconds which is 91.49% of overall I/O time of the workload.\u001b[0m                                       │\n",
       "│  │   ├── \u001b[38;5;160m[Excessive metadata access] Overall 100.00% (1.88 seconds) of I/O time is spent on metadata access, \u001b[0m   │\n",
       "│  │   │   \u001b[38;5;160mspecifically 10.26% (0.19 seconds) on the 'open' operation.\u001b[0m                                            │\n",
       "│  │   └── \u001b[38;5;160m[Operation imbalance] 'read' operations are 25.00% (1 operations) of total I/O operations.\u001b[0m             │\n",
       "│  └── (399 more)                                                                                                 │\n",
       "│  Process View (204 bottlenecks with 38 reasons)                                                                 │\n",
       "│  ├── \u001b[38;5;160m[CR405] 1 process (app#29933#2134171#2134171) accesses 79 files within 3 time periods across 98 I/O \u001b[0m       │\n",
       "│  │   \u001b[38;5;160moperations and has an I/O time of 1.84 seconds which is 89.62% of overall I/O time of the workload.\u001b[0m        │\n",
       "│  │   ├── \u001b[38;5;160m[Excessive metadata access] Overall 100.00% (1.84 seconds) of I/O time is spent on metadata access, \u001b[0m   │\n",
       "│  │   │   \u001b[38;5;160mspecifically 9.13% (0.17 seconds) on the 'open' operation.\u001b[0m                                             │\n",
       "│  │   └── \u001b[38;5;160m[Size imbalance] 'read' size is 100.00% (64.0 B) of total I/O size.\u001b[0m                                    │\n",
       "│  └── (203 more)                                                                                                 │\n",
       "│  Time>File View (2 bottlenecks with 2 reasons)                                                                  │\n",
       "│  ├── \u001b[38;5;160m[CR609] 1 process accesses 1 file (61588) within 1 time period across 1 I/O operation and has an I/O time\u001b[0m  │\n",
       "│  │   \u001b[38;5;160mof 1.64 seconds which is 79.64% of overall I/O time of the workload.\u001b[0m                                       │\n",
       "│  │   └── \u001b[38;5;160m[Excessive metadata access] Overall 100.00% (1.64 seconds) of I/O time is spent on metadata access, \u001b[0m   │\n",
       "│  │       \u001b[38;5;160mspecifically 100.00% (1.64 seconds) on the 'open' operation.\u001b[0m                                           │\n",
       "│  └── (1 more)                                                                                                   │\n",
       "│  Time>Process View (1 bottleneck with 1 reason)                                                                 │\n",
       "│  └── \u001b[38;5;160m[CR611] 1 process (app#29933#2134228#2134228) accesses 1 file within 1 time period across 1 I/O operation\u001b[0m  │\n",
       "│      \u001b[38;5;160mand has an I/O time of 1.64 seconds which is 79.64% of overall I/O time of the workload.\u001b[0m                   │\n",
       "│      └── \u001b[38;5;160m[Excessive metadata access] Overall 100.00% (1.64 seconds) of I/O time is spent on metadata access, \u001b[0m   │\n",
       "│          \u001b[38;5;160mspecifically 100.00% (1.64 seconds) on the 'open' operation.\u001b[0m                                           │\n",
       "│  File>Time View (2 bottlenecks with 3 reasons)                                                                  │\n",
       "│  ├── \u001b[38;5;160m[CR612] 4 processes access 4 files within 1 time period (422) across 4 I/O operations and have an I/O \u001b[0m     │\n",
       "│  │   \u001b[38;5;160mtime of 1.52 seconds which is 73.89% of overall I/O time of the workload.\u001b[0m                                  │\n",
       "│  │   └── \u001b[38;5;160m[Excessive metadata access] Overall 100.00% (1.52 seconds) of I/O time is spent on metadata access, \u001b[0m   │\n",
       "│  │       \u001b[38;5;160mspecifically 100.00% (1.52 seconds) on the 'open' operation.\u001b[0m                                           │\n",
       "│  └── (1 more)                                                                                                   │\n",
       "│  File>Process View (6 bottlenecks with 12 reasons)                                                              │\n",
       "│  ├── \u001b[38;5;160m[CR614] 1 process (app#14275#3756471#3756471) accesses 1 file within 2 time periods across 4 I/O \u001b[0m          │\n",
       "│  │   \u001b[38;5;160moperations and has an I/O time of 2.04 seconds which is 99.29% of overall I/O time of the workload.\u001b[0m        │\n",
       "│  │   ├── \u001b[38;5;160m[Excessive metadata access] Overall 100.00% (2.04 seconds) of I/O time is spent on metadata access, \u001b[0m   │\n",
       "│  │   │   \u001b[38;5;160mspecifically 17.42% (0.36 seconds) on the 'open' operation.\u001b[0m                                            │\n",
       "│  │   └── \u001b[38;5;160m[Operation imbalance] 'read' operations are 25.00% (1 operations) of total I/O operations.\u001b[0m             │\n",
       "│  └── (5 more)                                                                                                   │\n",
       "│  Process>Time View (2 bottlenecks with 2 reasons)                                                               │\n",
       "│  ├── \u001b[38;5;160m[CR620] 3 processes access 3 files within 1 time period (422) across 3 I/O operations and have an I/O \u001b[0m     │\n",
       "│  │   \u001b[38;5;160mtime of 1.52 seconds which is 73.89% of overall I/O time of the workload.\u001b[0m                                  │\n",
       "│  │   └── \u001b[38;5;160m[Excessive metadata access] Overall 100.00% (1.52 seconds) of I/O time is spent on metadata access, \u001b[0m   │\n",
       "│  │       \u001b[38;5;160mspecifically 100.00% (1.52 seconds) on the 'open' operation.\u001b[0m                                           │\n",
       "│  └── (1 more)                                                                                                   │\n",
       "│  Process>File View (10 bottlenecks with 20 reasons)                                                             │\n",
       "│  ├── \u001b[38;5;160m[CR622] 1 process accesses 1 file (54683) within 2 time periods across 4 I/O operations and has an I/O \u001b[0m    │\n",
       "│  │   \u001b[38;5;160mtime of 2.04 seconds which is 99.29% of overall I/O time of the workload.\u001b[0m                                  │\n",
       "│  │   ├── \u001b[38;5;160m[Excessive metadata access] Overall 100.00% (2.04 seconds) of I/O time is spent on metadata access, \u001b[0m   │\n",
       "│  │   │   \u001b[38;5;160mspecifically 17.42% (0.36 seconds) on the 'open' operation.\u001b[0m                                            │\n",
       "│  │   └── \u001b[38;5;160m[Operation imbalance] 'read' operations are 25.00% (1 operations) of total I/O operations.\u001b[0m             │\n",
       "│  └── (9 more)                                                                                                   │\n",
       "│  Time>File>Process View (1 bottleneck with 1 reason)                                                            │\n",
       "│  └── \u001b[38;5;106m[LO632] 1 process (app#29933#2134228#2134228) accesses 1 file within 1 time period across 1 I/O operation\u001b[0m  │\n",
       "│      \u001b[38;5;106mand has an I/O time of 1.64 seconds which is 79.64% of overall I/O time of the workload.\u001b[0m                   │\n",
       "│      └── \u001b[38;5;106m[Excessive metadata access] Overall 100.00% (1.64 seconds) of I/O time is spent on metadata access, \u001b[0m   │\n",
       "│          \u001b[38;5;106mspecifically 100.00% (1.64 seconds) on the 'open' operation.\u001b[0m                                           │\n",
       "│  Time>Process>File View (1 bottleneck with 1 reason)                                                            │\n",
       "│  └── \u001b[38;5;106m[LO633] 1 process accesses 1 file (61588) within 1 time period across 1 I/O operation and has an I/O time\u001b[0m  │\n",
       "│      \u001b[38;5;106mof 1.64 seconds which is 79.64% of overall I/O time of the workload.\u001b[0m                                       │\n",
       "│      └── \u001b[38;5;106m[Excessive metadata access] Overall 100.00% (1.64 seconds) of I/O time is spent on metadata access, \u001b[0m   │\n",
       "│          \u001b[38;5;106mspecifically 100.00% (1.64 seconds) on the 'open' operation.\u001b[0m                                           │\n",
       "│  File>Time>Process View (1 bottleneck with 1 reason)                                                            │\n",
       "│  └── \u001b[38;5;172m[HI634] 1 process (app#29933#2134241#2134241) accesses 1 file within 1 time period across 1 I/O operation\u001b[0m  │\n",
       "│      \u001b[38;5;172mand has an I/O time of 1.52 seconds which is 73.89% of overall I/O time of the workload.\u001b[0m                   │\n",
       "│      └── \u001b[38;5;172m[Excessive metadata access] Overall 100.00% (1.52 seconds) of I/O time is spent on metadata access, \u001b[0m   │\n",
       "│          \u001b[38;5;172mspecifically 100.00% (1.52 seconds) on the 'open' operation.\u001b[0m                                           │\n",
       "│  File>Process>Time View (1 bottleneck with 1 reason)                                                            │\n",
       "│  └── \u001b[38;5;160m[CR635] 1 process accesses 1 file within 1 time period (422) across 1 I/O operation and has an I/O time \u001b[0m   │\n",
       "│      \u001b[38;5;160mof 1.52 seconds which is 73.89% of overall I/O time of the workload.\u001b[0m                                       │\n",
       "│      └── \u001b[38;5;160m[Excessive metadata access] Overall 100.00% (1.52 seconds) of I/O time is spent on metadata access, \u001b[0m   │\n",
       "│          \u001b[38;5;160mspecifically 100.00% (1.52 seconds) on the 'open' operation.\u001b[0m                                           │\n",
       "│  Process>Time>File View (1 bottleneck with 1 reason)                                                            │\n",
       "│  └── \u001b[38;5;172m[HI636] 1 process accesses 1 file (49781) within 1 time period across 1 I/O operation and has an I/O time\u001b[0m  │\n",
       "│      \u001b[38;5;172mof 1.52 seconds which is 73.89% of overall I/O time of the workload.\u001b[0m                                       │\n",
       "│      └── \u001b[38;5;172m[Excessive metadata access] Overall 100.00% (1.52 seconds) of I/O time is spent on metadata access, \u001b[0m   │\n",
       "│          \u001b[38;5;172mspecifically 100.00% (1.52 seconds) on the 'open' operation.\u001b[0m                                           │\n",
       "│  Process>File>Time View (1 bottleneck with 1 reason)                                                            │\n",
       "│  └── \u001b[38;5;160m[CR637] 2 processes access 2 files within 1 time period (422) across 2 I/O operations and have an I/O \u001b[0m     │\n",
       "│      \u001b[38;5;160mtime of 1.52 seconds which is 73.89% of overall I/O time of the workload.\u001b[0m                                  │\n",
       "│      └── \u001b[38;5;160m[Excessive metadata access] Overall 100.00% (1.52 seconds) of I/O time is spent on metadata access, \u001b[0m   │\n",
       "│          \u001b[38;5;160mspecifically 100.00% (1.52 seconds) on the 'open' operation.\u001b[0m                                           │\n",
       "│                                                                                                                 │\n",
       "╰─────────────────────────────────────────────────────────────────────────────────────────────────────────────────╯\n"
      ]
     },
     "metadata": {},
     "output_type": "display_data"
    },
    {
     "name": "stdout",
     "output_type": "stream",
     "text": [
      "time: 21.2 s (started: 2024-10-08 21:53:18 -07:00)\n"
     ]
    }
   ],
   "source": [
    "output.handle_result(metrics=cfg.metrics, result=result)"
   ]
  },
  {
   "cell_type": "code",
   "execution_count": null,
   "id": "ee6344e4",
   "metadata": {
    "papermill": {
     "duration": 0.005181,
     "end_time": "2024-10-09T04:53:39.769037",
     "exception": false,
     "start_time": "2024-10-09T04:53:39.763856",
     "status": "completed"
    },
    "tags": []
   },
   "outputs": [],
   "source": []
  }
 ],
 "metadata": {
  "kernelspec": {
   "display_name": "venv-corona",
   "language": "python",
   "name": "python3"
  },
  "language_info": {
   "codemirror_mode": {
    "name": "ipython",
    "version": 3
   },
   "file_extension": ".py",
   "mimetype": "text/x-python",
   "name": "python",
   "nbconvert_exporter": "python",
   "pygments_lexer": "ipython3",
   "version": "3.9.12"
  },
  "papermill": {
   "default_parameters": {},
   "duration": 527.648586,
   "end_time": "2024-10-09T04:53:42.502692",
   "environment_variables": {},
   "exception": null,
   "input_path": "analysis.ipynb",
   "output_path": "analysis-dftracer-montage-pegasus-dss-2deg-node-4.ipynb",
   "parameters": {
    "analyzer": "dftracer",
    "checkpoint": true,
    "checkpoint_dir": "/usr/workspace/iopp/wisio_logs/_checkpoints/dftracer-montage-pegasus-dss-2deg-node-4",
    "logical_view_types": false,
    "output_max_bottlenecks": 1,
    "output_root_only": false,
    "percentile": 0.99,
    "run_dir": ".wisio/dftracer/montage-pegasus-dss-2deg-node-4",
    "trace_path": "/p/lustre3/iopp/dftracer-traces-lfs/v1.0.5-develop/corona/montage/pegasus-dss-2deg/node-4/v1/COMPACT/*.pfw.gz"
   },
   "start_time": "2024-10-09T04:44:54.854106",
   "version": "2.6.0"
  }
 },
 "nbformat": 4,
 "nbformat_minor": 5
}
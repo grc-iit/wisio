{
 "cells": [
  {
   "cell_type": "code",
   "execution_count": 1,
   "id": "b11c0f79",
   "metadata": {
    "execution": {
     "iopub.execute_input": "2024-10-09T01:01:30.593847Z",
     "iopub.status.busy": "2024-10-09T01:01:30.593172Z",
     "iopub.status.idle": "2024-10-09T01:01:30.631413Z",
     "shell.execute_reply": "2024-10-09T01:01:30.630549Z"
    },
    "papermill": {
     "duration": 0.044875,
     "end_time": "2024-10-09T01:01:30.632994",
     "exception": false,
     "start_time": "2024-10-09T01:01:30.588119",
     "status": "completed"
    },
    "tags": []
   },
   "outputs": [
    {
     "name": "stdout",
     "output_type": "stream",
     "text": [
      "time: 196 µs (started: 2024-10-08 18:01:30 -07:00)\n"
     ]
    }
   ],
   "source": [
    "%load_ext autoreload\n",
    "%load_ext autotime"
   ]
  },
  {
   "cell_type": "code",
   "execution_count": 2,
   "id": "6ac17667",
   "metadata": {
    "execution": {
     "iopub.execute_input": "2024-10-09T01:01:30.640701Z",
     "iopub.status.busy": "2024-10-09T01:01:30.640331Z",
     "iopub.status.idle": "2024-10-09T01:01:30.645117Z",
     "shell.execute_reply": "2024-10-09T01:01:30.644323Z"
    },
    "papermill": {
     "duration": 0.010044,
     "end_time": "2024-10-09T01:01:30.646606",
     "exception": false,
     "start_time": "2024-10-09T01:01:30.636562",
     "status": "completed"
    },
    "tags": []
   },
   "outputs": [
    {
     "name": "stdout",
     "output_type": "stream",
     "text": [
      "time: 579 µs (started: 2024-10-08 18:01:30 -07:00)\n"
     ]
    }
   ],
   "source": [
    "import os\n",
    "import sys\n",
    "import time\n",
    "import warnings\n",
    "\n",
    "# Add WisIO to the path\n",
    "sys.path.append(os.path.abspath(\"../\"))\n",
    "\n",
    "# Filter warnings\n",
    "warnings.filterwarnings('ignore')"
   ]
  },
  {
   "cell_type": "code",
   "execution_count": 3,
   "id": "d9dff217",
   "metadata": {
    "execution": {
     "iopub.execute_input": "2024-10-09T01:01:30.654208Z",
     "iopub.status.busy": "2024-10-09T01:01:30.653661Z",
     "iopub.status.idle": "2024-10-09T01:01:30.658699Z",
     "shell.execute_reply": "2024-10-09T01:01:30.657927Z"
    },
    "papermill": {
     "duration": 0.010362,
     "end_time": "2024-10-09T01:01:30.660170",
     "exception": false,
     "start_time": "2024-10-09T01:01:30.649808",
     "status": "completed"
    },
    "tags": [
     "parameters"
    ]
   },
   "outputs": [
    {
     "name": "stdout",
     "output_type": "stream",
     "text": [
      "time: 819 µs (started: 2024-10-08 18:01:30 -07:00)\n"
     ]
    }
   ],
   "source": [
    "analyzer = \"dftracer\"\n",
    "checkpoint = True\n",
    "logical_view_types = False\n",
    "output_max_bottlenecks = 1\n",
    "output_root_only = False\n",
    "run_dir = f\".wisio/{analyzer}/{int(time.time())}\"\n",
    "bottleneck_dir = f\"{run_dir}/bottlenecks\"\n",
    "checkpoint_dir = f\"{run_dir}/checkpoints\"\n",
    "percentile = 0.95\n",
    "trace_path = \"/p/lustre3/iopp/dftracer-traces-lfs/v1.0.5-develop/corona/cm1/APP/node-1/v1/RAW/*.pfw.gz\""
   ]
  },
  {
   "cell_type": "code",
   "execution_count": 4,
   "id": "1b91c39b",
   "metadata": {
    "execution": {
     "iopub.execute_input": "2024-10-09T01:01:30.667801Z",
     "iopub.status.busy": "2024-10-09T01:01:30.667273Z",
     "iopub.status.idle": "2024-10-09T01:01:30.671956Z",
     "shell.execute_reply": "2024-10-09T01:01:30.671187Z"
    },
    "papermill": {
     "duration": 0.010079,
     "end_time": "2024-10-09T01:01:30.673435",
     "exception": false,
     "start_time": "2024-10-09T01:01:30.663356",
     "status": "completed"
    },
    "tags": [
     "injected-parameters"
    ]
   },
   "outputs": [
    {
     "name": "stdout",
     "output_type": "stream",
     "text": [
      "time: 697 µs (started: 2024-10-08 18:01:30 -07:00)\n"
     ]
    }
   ],
   "source": [
    "# Parameters\n",
    "analyzer = \"dftracer\"\n",
    "checkpoint = True\n",
    "checkpoint_dir = \"/usr/workspace/iopp/wisio_logs/_checkpoints/dftracer-cosmoflow-dlio-v100-node-4-v1\"\n",
    "logical_view_types = False\n",
    "output_max_bottlenecks = 1\n",
    "output_root_only = False\n",
    "run_dir = \".wisio/dftracer/cosmoflow-dlio-v100-node-4-v1\"\n",
    "percentile = 0.99\n",
    "trace_path = \"/p/lustre3/iopp/dftracer-traces-lfs/v1.0.5-develop/corona/cosmoflow/dlio-v100/node-4/v1/RAW/*.pfw.gz\"\n"
   ]
  },
  {
   "cell_type": "code",
   "execution_count": 5,
   "id": "6b4ee739",
   "metadata": {
    "execution": {
     "iopub.execute_input": "2024-10-09T01:01:30.681639Z",
     "iopub.status.busy": "2024-10-09T01:01:30.681096Z",
     "iopub.status.idle": "2024-10-09T01:01:39.370393Z",
     "shell.execute_reply": "2024-10-09T01:01:39.369689Z"
    },
    "papermill": {
     "duration": 8.694951,
     "end_time": "2024-10-09T01:01:39.371914",
     "exception": false,
     "start_time": "2024-10-09T01:01:30.676963",
     "status": "completed"
    },
    "tags": []
   },
   "outputs": [
    {
     "name": "stdout",
     "output_type": "stream",
     "text": [
      "time: 8.68 s (started: 2024-10-08 18:01:30 -07:00)\n"
     ]
    }
   ],
   "source": [
    "from distributed import Client\n",
    "from hydra import compose, initialize\n",
    "from hydra.core.hydra_config import HydraConfig\n",
    "from hydra.utils import instantiate\n",
    "from wisio.config import init_hydra_config_store\n",
    "from wisio.utils.file_utils import ensure_dir\n",
    "\n",
    "ensure_dir(run_dir)\n",
    "\n",
    "with initialize(version_base=None, config_path=None):\n",
    "    init_hydra_config_store()\n",
    "    cfg = compose(\n",
    "        config_name=\"config\",\n",
    "        overrides=[\n",
    "            f\"+analyzer={analyzer}\",\n",
    "            f\"analyzer.bottleneck_dir={bottleneck_dir}\",\n",
    "            f\"analyzer.checkpoint={checkpoint}\",\n",
    "            f\"analyzer.checkpoint_dir={checkpoint_dir}\",\n",
    "            f\"hydra.run.dir={run_dir}\",\n",
    "            f\"hydra.runtime.output_dir={run_dir}\",\n",
    "            f\"logical_view_types={logical_view_types}\",\n",
    "            f\"output.max_bottlenecks={output_max_bottlenecks}\",\n",
    "            f\"output.root_only={output_root_only}\",\n",
    "            f\"percentile={percentile}\",\n",
    "            f\"trace_path={trace_path}\",\n",
    "        ],\n",
    "        return_hydra_config=True,\n",
    "    )\n",
    "    HydraConfig.instance().set_config(cfg)\n",
    "    cluster = instantiate(cfg.cluster)\n",
    "    client = Client(cluster)\n",
    "    analyzer = instantiate(cfg.analyzer)\n",
    "    output = instantiate(cfg.output)"
   ]
  },
  {
   "cell_type": "code",
   "execution_count": 6,
   "id": "b38fea05",
   "metadata": {
    "execution": {
     "iopub.execute_input": "2024-10-09T01:01:39.381644Z",
     "iopub.status.busy": "2024-10-09T01:01:39.380759Z",
     "iopub.status.idle": "2024-10-09T01:19:29.354367Z",
     "shell.execute_reply": "2024-10-09T01:19:29.353688Z"
    },
    "papermill": {
     "duration": 1069.983971,
     "end_time": "2024-10-09T01:19:29.360025",
     "exception": false,
     "start_time": "2024-10-09T01:01:39.376054",
     "status": "completed"
    },
    "tags": []
   },
   "outputs": [
    {
     "name": "stdout",
     "output_type": "stream",
     "text": [
      "time: 17min 49s (started: 2024-10-08 18:01:39 -07:00)\n"
     ]
    }
   ],
   "source": [
    "result = analyzer.analyze_trace(\n",
    "    trace_path=cfg.trace_path,\n",
    "    # accuracy=cfg.accuracy,\n",
    "    exclude_bottlenecks=cfg.exclude_bottlenecks,\n",
    "    exclude_characteristics=cfg.exclude_characteristics,\n",
    "    logical_view_types=cfg.logical_view_types,\n",
    "    metrics=cfg.metrics,\n",
    "    percentile=cfg.percentile,\n",
    "    view_types=cfg.view_types,\n",
    ")"
   ]
  },
  {
   "cell_type": "code",
   "execution_count": 7,
   "id": "46d65dc2",
   "metadata": {
    "execution": {
     "iopub.execute_input": "2024-10-09T01:19:29.370830Z",
     "iopub.status.busy": "2024-10-09T01:19:29.370366Z",
     "iopub.status.idle": "2024-10-09T01:26:24.804186Z",
     "shell.execute_reply": "2024-10-09T01:26:24.802897Z"
    },
    "papermill": {
     "duration": 415.441381,
     "end_time": "2024-10-09T01:26:24.806575",
     "exception": false,
     "start_time": "2024-10-09T01:19:29.365194",
     "status": "completed"
    },
    "tags": []
   },
   "outputs": [
    {
     "data": {
      "text/html": [
       "<pre style=\"white-space:pre;overflow-x:auto;line-height:normal;font-family:Menlo,'DejaVu Sans Mono',consolas,'Courier New',monospace\">╭────────────────────────────────────────────── I/O Characteristics ──────────────────────────────────────────────╮\n",
       "│                                                                                                                 │\n",
       "│ <span style=\"color: #008080; text-decoration-color: #008080\"> Runtime         </span> 1179.61 seconds                                                                               │\n",
       "│ <span style=\"color: #008080; text-decoration-color: #008080\"> I/O Time        </span> 56.68 seconds                                                                                 │\n",
       "│ <span style=\"color: #008080; text-decoration-color: #008080\">                 </span> ├── Read - 53.77 seconds (94.87%)                                                             │\n",
       "│ <span style=\"color: #008080; text-decoration-color: #008080\">                 </span> ├── Write - 0.01 seconds (0.01%)                                                              │\n",
       "│ <span style=\"color: #008080; text-decoration-color: #008080\">                 </span> └── Metadata - 3.20 seconds (5.64%)                                                           │\n",
       "│ <span style=\"color: #008080; text-decoration-color: #008080\"> I/O Operations  </span> 39,207,478 ops                                                                                │\n",
       "│ <span style=\"color: #008080; text-decoration-color: #008080\">                 </span> ├── Read - 31,856,216 ops (81.25%)                                                            │\n",
       "│ <span style=\"color: #008080; text-decoration-color: #008080\">                 </span> ├── Write - 1,855 ops (0.00%)                                                                 │\n",
       "│ <span style=\"color: #008080; text-decoration-color: #008080\">                 </span> └── Metadata - 7,340,575 ops (18.72%)                                                         │\n",
       "│ <span style=\"color: #008080; text-decoration-color: #008080\"> I/O Size        </span> 6.74 TiB                                                                                      │\n",
       "│ <span style=\"color: #008080; text-decoration-color: #008080\">                 </span> ├── Read - 6.74 TiB (100.00%)                                                                 │\n",
       "│ <span style=\"color: #008080; text-decoration-color: #008080\">                 </span> └── Write - 215.48 kiB (0.00%)                                                                │\n",
       "│ <span style=\"color: #008080; text-decoration-color: #008080\"> Read Requests   </span> 4 kiB-256 kiB - 31,855,638 ops                                                                │\n",
       "│ <span style=\"color: #008080; text-decoration-color: #008080\">                 </span> ├── &lt;4 kiB - 43,936 ops (0.14%)                                                               │\n",
       "│ <span style=\"color: #008080; text-decoration-color: #008080\">                 </span> ├── 4-16 kiB - 5,088 ops (0.02%)                                                              │\n",
       "│ <span style=\"color: #008080; text-decoration-color: #008080\">                 </span> ├── 16-64 kiB - 7,980 ops (0.03%)                                                             │\n",
       "│ <span style=\"color: #008080; text-decoration-color: #008080\">                 </span> └── 64-256 kiB - 31,798,634 ops (99.82%)                                                      │\n",
       "│ <span style=\"color: #008080; text-decoration-color: #008080\"> Write Requests  </span> 4 kiB-4 kiB - 1,855 ops                                                                       │\n",
       "│ <span style=\"color: #008080; text-decoration-color: #008080\">                 </span> └── &lt;4 kiB - 1,855 ops (100.00%)                                                              │\n",
       "│ <span style=\"color: #008080; text-decoration-color: #008080\"> Nodes           </span> 4 nodes                                                                                       │\n",
       "│ <span style=\"color: #008080; text-decoration-color: #008080\">                 </span> ├── 14200274195875936004 - 56.68 s (100.00%) - 1.69 TiB/183.79 kiB R/W (25.00/0.00%) -        │\n",
       "│ <span style=\"color: #008080; text-decoration-color: #008080\">                 </span> │   9,802,590 ops (25.00%)                                                                    │\n",
       "│ <span style=\"color: #008080; text-decoration-color: #008080\">                 </span> ├── 17424505939907203644 - 56.61 s (99.88%) - 1.69 TiB/10.56 kiB R/W (25.00/0.00%) -          │\n",
       "│ <span style=\"color: #008080; text-decoration-color: #008080\">                 </span> │   9,801,486 ops (25.00%)                                                                    │\n",
       "│ <span style=\"color: #008080; text-decoration-color: #008080\">                 </span> ├── 12775585946864612109 - 56.25 s (99.25%) - 1.69 TiB/10.56 kiB R/W (25.00/0.00%) -          │\n",
       "│ <span style=\"color: #008080; text-decoration-color: #008080\">                 </span> │   9,801,058 ops (25.00%)                                                                    │\n",
       "│ <span style=\"color: #008080; text-decoration-color: #008080\">                 </span> └── 16317731584986882421 - 54.87 s (96.82%) - 1.69 TiB/10.56 kiB R/W (25.00/0.00%) -          │\n",
       "│ <span style=\"color: #008080; text-decoration-color: #008080\">                 </span>     9,802,344 ops (25.00%)                                                                    │\n",
       "│ <span style=\"color: #008080; text-decoration-color: #008080\"> Apps            </span> 1 app                                                                                         │\n",
       "│ <span style=\"color: #008080; text-decoration-color: #008080\"> Processes/Ranks </span> 3,091 processes                                                                               │\n",
       "│ <span style=\"color: #008080; text-decoration-color: #008080\"> Files           </span> 553,096 files                                                                                 │\n",
       "│ <span style=\"color: #008080; text-decoration-color: #008080\">                 </span> ├── Shared: 529,138 files (95.67%)                                                            │\n",
       "│ <span style=\"color: #008080; text-decoration-color: #008080\">                 </span> └── FPP: 23,958 files (4.33%)                                                                 │\n",
       "│ <span style=\"color: #008080; text-decoration-color: #008080\"> Time Periods    </span> 965 time periods (Time Granularity: 1,000,000.0)                                              │\n",
       "│ <span style=\"color: #008080; text-decoration-color: #008080\"> Access Pattern  </span> <span style=\"font-weight: bold\">Sequential</span>: 31,858,071 ops (100.00%) - <span style=\"font-weight: bold\">Random</span>: 0 ops (0.00%)                                  │\n",
       "│                                                                                                                 │\n",
       "╰─ <span style=\"font-weight: bold\">R</span>: Read - <span style=\"font-weight: bold\">W</span>: Write - <span style=\"font-weight: bold\">M</span>: Metadata  ─────────────────────────────────────────────────────────────────────────────╯\n",
       "                                                                                                                   \n",
       "╭──────────────────────────────────── 5783 I/O Bottlenecks with 23132 Reasons ────────────────────────────────────╮\n",
       "│                                                                                                                 │\n",
       "│  Time View (10 bottlenecks with 40 reasons)                                                                     │\n",
       "│  ├── <span style=\"color: #d70000; text-decoration-color: #d70000\">[CR1] 472 processes access 534 files within 1 time period (312) across 4,456 I/O operations and have an </span>   │\n",
       "│  │   <span style=\"color: #d70000; text-decoration-color: #d70000\">I/O time of 1.06 seconds which is 1.87% of overall I/O time of the workload.</span>                               │\n",
       "│  │   ├── <span style=\"color: #d70000; text-decoration-color: #d70000\">[Operation imbalance] 'read' operations are 84.09% (3,747 operations) of total I/O operations.</span>         │\n",
       "│  │   ├── <span style=\"color: #d70000; text-decoration-color: #d70000\">[Size imbalance] 'read' size is 100.00% (827.30 MiB) of total I/O size.</span>                                │\n",
       "│  │   ├── <span style=\"color: #d70000; text-decoration-color: #d70000\">[Small reads] 'read' time is 100.00% (1.06 seconds) of I/O time.</span>                                       │\n",
       "│  │   └── <span style=\"color: #d70000; text-decoration-color: #d70000\">[Small reads] Average 'read's are 190.11 kiB, which is smaller than 1.00 MiB.</span>                          │\n",
       "│  └── (9 more)                                                                                                   │\n",
       "│  File View (5531 bottlenecks with 22124 reasons)                                                                │\n",
       "│  ├── <span style=\"color: #d70000; text-decoration-color: #d70000\">[CR11] 1 process accesses 1 file (5170880276189303808) within 1 time period across 2 I/O operations and </span>   │\n",
       "│  │   <span style=\"color: #d70000; text-decoration-color: #d70000\">has an I/O time of 0.09 seconds which is 0.16% of overall I/O time of the workload.</span>                        │\n",
       "│  │   ├── <span style=\"color: #d70000; text-decoration-color: #d70000\">[Operation imbalance] 'read' operations are 50.00% (1 operations) of total I/O operations.</span>             │\n",
       "│  │   ├── <span style=\"color: #d70000; text-decoration-color: #d70000\">[Size imbalance] 'read' size is 100.00% (256.00 kiB) of total I/O size.</span>                                │\n",
       "│  │   ├── <span style=\"color: #d70000; text-decoration-color: #d70000\">[Small reads] 'read' time is 95.90% (0.09 seconds) of I/O time.</span>                                        │\n",
       "│  │   └── <span style=\"color: #d70000; text-decoration-color: #d70000\">[Small reads] Average 'read's are 128.00 kiB, which is smaller than 1.00 MiB.</span>                          │\n",
       "│  └── (5530 more)                                                                                                │\n",
       "│  Process View (31 bottlenecks with 124 reasons)                                                                 │\n",
       "│  ├── <span style=\"color: #d78700; text-decoration-color: #d78700\">[HI5542] 1 process (app#12775585946864612109#652156#652554) accesses 1 file within 1 time period across </span>   │\n",
       "│  │   <span style=\"color: #d78700; text-decoration-color: #d78700\">13 I/O operations and has an I/O time of 0.13 seconds which is 0.24% of overall I/O time of the workload.</span>  │\n",
       "│  │   ├── <span style=\"color: #d78700; text-decoration-color: #d78700\">[Operation imbalance] 'read' operations are 92.31% (12 operations) of total I/O operations.</span>            │\n",
       "│  │   ├── <span style=\"color: #d78700; text-decoration-color: #d78700\">[Size imbalance] 'read' size is 100.00% (2.68 MiB) of total I/O size.</span>                                  │\n",
       "│  │   ├── <span style=\"color: #d78700; text-decoration-color: #d78700\">[Small reads] 'read' time is 94.69% (0.13 seconds) of I/O time.</span>                                        │\n",
       "│  │   └── <span style=\"color: #d78700; text-decoration-color: #d78700\">[Small reads] Average 'read's are 211.39 kiB, which is smaller than 1.00 MiB.</span>                          │\n",
       "│  └── (30 more)                                                                                                  │\n",
       "│  Time&gt;File View (141 bottlenecks with 564 reasons)                                                              │\n",
       "│  ├── <span style=\"color: #d70000; text-decoration-color: #d70000\">[CR5573] 1 process accesses 1 file (17160125741824085971) within 1 time period across 3 I/O operations </span>    │\n",
       "│  │   <span style=\"color: #d70000; text-decoration-color: #d70000\">and has an I/O time of 1.45 seconds which is 2.55% of overall I/O time of the workload.</span>                    │\n",
       "│  │   ├── <span style=\"color: #d70000; text-decoration-color: #d70000\">[Operation imbalance] 'read' operations are 66.67% (2 operations) of total I/O operations.</span>             │\n",
       "│  │   ├── <span style=\"color: #d70000; text-decoration-color: #d70000\">[Size imbalance] 'read' size is 100.00% (512.00 kiB) of total I/O size.</span>                                │\n",
       "│  │   ├── <span style=\"color: #d70000; text-decoration-color: #d70000\">[Small reads] 'read' time is 99.76% (1.44 seconds) of I/O time.</span>                                        │\n",
       "│  │   └── <span style=\"color: #d70000; text-decoration-color: #d70000\">[Small reads] Average 'read's are 170.67 kiB, which is smaller than 1.00 MiB.</span>                          │\n",
       "│  └── (140 more)                                                                                                 │\n",
       "│  Time&gt;Process View (29 bottlenecks with 116 reasons)                                                            │\n",
       "│  ├── <span style=\"color: #d75f00; text-decoration-color: #d75f00\">[VH5714] 1 process (app#14200274195875936004#1481569#1482068) accesses 4 files within 1 time period </span>       │\n",
       "│  │   <span style=\"color: #d75f00; text-decoration-color: #d75f00\">across 45 I/O operations and has an I/O time of 1.72 seconds which is 3.04% of overall I/O time of the </span>    │\n",
       "│  │   <span style=\"color: #d75f00; text-decoration-color: #d75f00\">workload.</span>                                                                                                  │\n",
       "│  │   ├── <span style=\"color: #d75f00; text-decoration-color: #d75f00\">[Operation imbalance] 'read' operations are 84.44% (38 operations) of total I/O operations.</span>            │\n",
       "│  │   ├── <span style=\"color: #d75f00; text-decoration-color: #d75f00\">[Size imbalance] 'read' size is 100.00% (8.49 MiB) of total I/O size.</span>                                  │\n",
       "│  │   ├── <span style=\"color: #d75f00; text-decoration-color: #d75f00\">[Small reads] 'read' time is 99.17% (1.71 seconds) of I/O time.</span>                                        │\n",
       "│  │   └── <span style=\"color: #d75f00; text-decoration-color: #d75f00\">[Small reads] Average 'read's are 193.10 kiB, which is smaller than 1.00 MiB.</span>                          │\n",
       "│  └── (28 more)                                                                                                  │\n",
       "│  File&gt;Time View (2 bottlenecks with 8 reasons)                                                                  │\n",
       "│  ├── <span style=\"color: #d70000; text-decoration-color: #d70000\">[CR5743] 1 process accesses 1 file within 1 time period (988) across 7 I/O operations and has an I/O time</span>  │\n",
       "│  │   <span style=\"color: #d70000; text-decoration-color: #d70000\">of 0.48 seconds which is 0.85% of overall I/O time of the workload.</span>                                        │\n",
       "│  │   ├── <span style=\"color: #d70000; text-decoration-color: #d70000\">[Operation imbalance] 'read' operations are 85.71% (6 operations) of total I/O operations.</span>             │\n",
       "│  │   ├── <span style=\"color: #d70000; text-decoration-color: #d70000\">[Size imbalance] 'read' size is 100.00% (1.50 MiB) of total I/O size.</span>                                  │\n",
       "│  │   ├── <span style=\"color: #d70000; text-decoration-color: #d70000\">[Small reads] 'read' time is 99.43% (0.48 seconds) of I/O time.</span>                                        │\n",
       "│  │   └── <span style=\"color: #d70000; text-decoration-color: #d70000\">[Small reads] Average 'read's are 219.43 kiB, which is smaller than 1.00 MiB.</span>                          │\n",
       "│  └── (1 more)                                                                                                   │\n",
       "│  File&gt;Process View (29 bottlenecks with 116 reasons)                                                            │\n",
       "│  ├── <span style=\"color: #d70000; text-decoration-color: #d70000\">[CR5745] 1 process (app#17424505939907203644#336891#337658) accesses 1 file within 2 time periods across </span>  │\n",
       "│  │   <span style=\"color: #d70000; text-decoration-color: #d70000\">14 I/O operations and has an I/O time of 1.15 seconds which is 2.04% of overall I/O time of the workload.</span>  │\n",
       "│  │   ├── <span style=\"color: #d70000; text-decoration-color: #d70000\">[Operation imbalance] 'read' operations are 85.71% (12 operations) of total I/O operations.</span>            │\n",
       "│  │   ├── <span style=\"color: #d70000; text-decoration-color: #d70000\">[Size imbalance] 'read' size is 100.00% (2.73 MiB) of total I/O size.</span>                                  │\n",
       "│  │   ├── <span style=\"color: #d70000; text-decoration-color: #d70000\">[Small reads] 'read' time is 99.82% (1.15 seconds) of I/O time.</span>                                        │\n",
       "│  │   └── <span style=\"color: #d70000; text-decoration-color: #d70000\">[Small reads] Average 'read's are 199.94 kiB, which is smaller than 1.00 MiB.</span>                          │\n",
       "│  └── (28 more)                                                                                                  │\n",
       "│  Process&gt;Time View (1 bottleneck with 4 reasons)                                                                │\n",
       "│  └── <span style=\"color: #d78700; text-decoration-color: #d78700\">[HI5774] 2 processes access 2 files within 1 time period (992) across 26 I/O operations and have an I/O </span>   │\n",
       "│      <span style=\"color: #d78700; text-decoration-color: #d78700\">time of 0.13 seconds which is 0.24% of overall I/O time of the workload.</span>                                   │\n",
       "│      ├── <span style=\"color: #d78700; text-decoration-color: #d78700\">[Operation imbalance] 'read' operations are 92.31% (24 operations) of total I/O operations.</span>            │\n",
       "│      ├── <span style=\"color: #d78700; text-decoration-color: #d78700\">[Size imbalance] 'read' size is 100.00% (5.37 MiB) of total I/O size.</span>                                  │\n",
       "│      ├── <span style=\"color: #d78700; text-decoration-color: #d78700\">[Small reads] 'read' time is 99.39% (0.13 seconds) of I/O time.</span>                                        │\n",
       "│      └── <span style=\"color: #d78700; text-decoration-color: #d78700\">[Small reads] Average 'read's are 211.69 kiB, which is smaller than 1.00 MiB.</span>                          │\n",
       "│  Process&gt;File View (1 bottleneck with 4 reasons)                                                                │\n",
       "│  └── <span style=\"color: #d7d700; text-decoration-color: #d7d700\">[MD5775] 1 process accesses 1 file (15783548033139866057) within 1 time period across 13 I/O operations </span>   │\n",
       "│      <span style=\"color: #d7d700; text-decoration-color: #d7d700\">and has an I/O time of 0.17 seconds which is 0.30% of overall I/O time of the workload.</span>                    │\n",
       "│      ├── <span style=\"color: #d7d700; text-decoration-color: #d7d700\">[Operation imbalance] 'read' operations are 92.31% (12 operations) of total I/O operations.</span>            │\n",
       "│      ├── <span style=\"color: #d7d700; text-decoration-color: #d7d700\">[Size imbalance] 'read' size is 100.00% (2.70 MiB) of total I/O size.</span>                                  │\n",
       "│      ├── <span style=\"color: #d7d700; text-decoration-color: #d7d700\">[Small reads] 'read' time is 96.86% (0.17 seconds) of I/O time.</span>                                        │\n",
       "│      └── <span style=\"color: #d7d700; text-decoration-color: #d7d700\">[Small reads] Average 'read's are 212.38 kiB, which is smaller than 1.00 MiB.</span>                          │\n",
       "│  Time&gt;File&gt;Process View (2 bottlenecks with 8 reasons)                                                          │\n",
       "│  ├── <span style=\"color: #d75f00; text-decoration-color: #d75f00\">[VH5776] 1 process (app#14200274195875936004#1481569#1482068) accesses 1 file within 1 time period across</span>  │\n",
       "│  │   <span style=\"color: #d75f00; text-decoration-color: #d75f00\">3 I/O operations and has an I/O time of 1.45 seconds which is 2.55% of overall I/O time of the workload.</span>   │\n",
       "│  │   ├── <span style=\"color: #d75f00; text-decoration-color: #d75f00\">[Operation imbalance] 'read' operations are 66.67% (2 operations) of total I/O operations.</span>             │\n",
       "│  │   ├── <span style=\"color: #d75f00; text-decoration-color: #d75f00\">[Size imbalance] 'read' size is 100.00% (512.00 kiB) of total I/O size.</span>                                │\n",
       "│  │   ├── <span style=\"color: #d75f00; text-decoration-color: #d75f00\">[Small reads] 'read' time is 99.76% (1.44 seconds) of I/O time.</span>                                        │\n",
       "│  │   └── <span style=\"color: #d75f00; text-decoration-color: #d75f00\">[Small reads] Average 'read's are 170.67 kiB, which is smaller than 1.00 MiB.</span>                          │\n",
       "│  └── (1 more)                                                                                                   │\n",
       "│  Time&gt;Process&gt;File View (2 bottlenecks with 8 reasons)                                                          │\n",
       "│  ├── <span style=\"color: #d70000; text-decoration-color: #d70000\">[CR5778] 1 process accesses 1 file (17160125741824085971) within 1 time period across 3 I/O operations </span>    │\n",
       "│  │   <span style=\"color: #d70000; text-decoration-color: #d70000\">and has an I/O time of 1.45 seconds which is 2.55% of overall I/O time of the workload.</span>                    │\n",
       "│  │   ├── <span style=\"color: #d70000; text-decoration-color: #d70000\">[Operation imbalance] 'read' operations are 66.67% (2 operations) of total I/O operations.</span>             │\n",
       "│  │   ├── <span style=\"color: #d70000; text-decoration-color: #d70000\">[Size imbalance] 'read' size is 100.00% (512.00 kiB) of total I/O size.</span>                                │\n",
       "│  │   ├── <span style=\"color: #d70000; text-decoration-color: #d70000\">[Small reads] 'read' time is 99.76% (1.44 seconds) of I/O time.</span>                                        │\n",
       "│  │   └── <span style=\"color: #d70000; text-decoration-color: #d70000\">[Small reads] Average 'read's are 170.67 kiB, which is smaller than 1.00 MiB.</span>                          │\n",
       "│  └── (1 more)                                                                                                   │\n",
       "│  File&gt;Time&gt;Process View (1 bottleneck with 4 reasons)                                                           │\n",
       "│  └── <span style=\"color: #d7d700; text-decoration-color: #d7d700\">[MD5780] 1 process (app#16317731584986882421#863291#863857) accesses 1 file within 1 time period across 2</span>  │\n",
       "│      <span style=\"color: #d7d700; text-decoration-color: #d7d700\">I/O operations and has an I/O time of 0.61 seconds which is 1.08% of overall I/O time of the workload.</span>     │\n",
       "│      ├── <span style=\"color: #d7d700; text-decoration-color: #d7d700\">[Operation imbalance] 'read' operations are 50.00% (1 operations) of total I/O operations.</span>             │\n",
       "│      ├── <span style=\"color: #d7d700; text-decoration-color: #d7d700\">[Size imbalance] 'read' size is 100.00% (256.00 kiB) of total I/O size.</span>                                │\n",
       "│      ├── <span style=\"color: #d7d700; text-decoration-color: #d7d700\">[Small reads] 'read' time is 99.37% (0.61 seconds) of I/O time.</span>                                        │\n",
       "│      └── <span style=\"color: #d7d700; text-decoration-color: #d7d700\">[Small reads] Average 'read's are 128.00 kiB, which is smaller than 1.00 MiB.</span>                          │\n",
       "│  File&gt;Process&gt;Time View (1 bottleneck with 4 reasons)                                                           │\n",
       "│  └── <span style=\"color: #d78700; text-decoration-color: #d78700\">[HI5781] 9 processes access 9 files within 1 time period (912) across 70 I/O operations and have an I/O </span>   │\n",
       "│      <span style=\"color: #d78700; text-decoration-color: #d78700\">time of 1.05 seconds which is 1.85% of overall I/O time of the workload.</span>                                   │\n",
       "│      ├── <span style=\"color: #d78700; text-decoration-color: #d78700\">[Operation imbalance] 'read' operations are 81.43% (57 operations) of total I/O operations.</span>            │\n",
       "│      ├── <span style=\"color: #d78700; text-decoration-color: #d78700\">[Size imbalance] 'read' size is 100.00% (12.96 MiB) of total I/O size.</span>                                 │\n",
       "│      ├── <span style=\"color: #d78700; text-decoration-color: #d78700\">[Small reads] 'read' time is 99.92% (1.05 seconds) of I/O time.</span>                                        │\n",
       "│      └── <span style=\"color: #d78700; text-decoration-color: #d78700\">[Small reads] Average 'read's are 189.60 kiB, which is smaller than 1.00 MiB.</span>                          │\n",
       "│  Process&gt;Time&gt;File View (1 bottleneck with 4 reasons)                                                           │\n",
       "│  └── <span style=\"color: #87af00; text-decoration-color: #87af00\">[LO5782] 1 process accesses 1 file (8041759682111731106) within 1 time period across 13 I/O operations </span>    │\n",
       "│      <span style=\"color: #87af00; text-decoration-color: #87af00\">and has an I/O time of 0.13 seconds which is 0.24% of overall I/O time of the workload.</span>                    │\n",
       "│      ├── <span style=\"color: #87af00; text-decoration-color: #87af00\">[Operation imbalance] 'read' operations are 92.31% (12 operations) of total I/O operations.</span>            │\n",
       "│      ├── <span style=\"color: #87af00; text-decoration-color: #87af00\">[Size imbalance] 'read' size is 100.00% (2.66 MiB) of total I/O size.</span>                                  │\n",
       "│      ├── <span style=\"color: #87af00; text-decoration-color: #87af00\">[Small reads] 'read' time is 99.39% (0.13 seconds) of I/O time.</span>                                        │\n",
       "│      └── <span style=\"color: #87af00; text-decoration-color: #87af00\">[Small reads] Average 'read's are 209.86 kiB, which is smaller than 1.00 MiB.</span>                          │\n",
       "│  Process&gt;File&gt;Time View (1 bottleneck with 4 reasons)                                                           │\n",
       "│  └── <span style=\"color: #87af00; text-decoration-color: #87af00\">[LO5783] 1 process accesses 1 file within 1 time period (804) across 13 I/O operations and has an I/O </span>     │\n",
       "│      <span style=\"color: #87af00; text-decoration-color: #87af00\">time of 0.17 seconds which is 0.30% of overall I/O time of the workload.</span>                                   │\n",
       "│      ├── <span style=\"color: #87af00; text-decoration-color: #87af00\">[Operation imbalance] 'read' operations are 92.31% (12 operations) of total I/O operations.</span>            │\n",
       "│      ├── <span style=\"color: #87af00; text-decoration-color: #87af00\">[Size imbalance] 'read' size is 100.00% (2.70 MiB) of total I/O size.</span>                                  │\n",
       "│      ├── <span style=\"color: #87af00; text-decoration-color: #87af00\">[Small reads] 'read' time is 96.86% (0.17 seconds) of I/O time.</span>                                        │\n",
       "│      └── <span style=\"color: #87af00; text-decoration-color: #87af00\">[Small reads] Average 'read's are 212.38 kiB, which is smaller than 1.00 MiB.</span>                          │\n",
       "│                                                                                                                 │\n",
       "╰─────────────────────────────────────────────────────────────────────────────────────────────────────────────────╯\n",
       "</pre>\n"
      ],
      "text/plain": [
       "╭────────────────────────────────────────────── I/O Characteristics ──────────────────────────────────────────────╮\n",
       "│                                                                                                                 │\n",
       "│ \u001b[36m \u001b[0m\u001b[36mRuntime        \u001b[0m\u001b[36m \u001b[0m 1179.61 seconds                                                                               │\n",
       "│ \u001b[36m \u001b[0m\u001b[36mI/O Time       \u001b[0m\u001b[36m \u001b[0m 56.68 seconds                                                                                 │\n",
       "│ \u001b[36m                 \u001b[0m ├── Read - 53.77 seconds (94.87%)                                                             │\n",
       "│ \u001b[36m                 \u001b[0m ├── Write - 0.01 seconds (0.01%)                                                              │\n",
       "│ \u001b[36m                 \u001b[0m └── Metadata - 3.20 seconds (5.64%)                                                           │\n",
       "│ \u001b[36m \u001b[0m\u001b[36mI/O Operations \u001b[0m\u001b[36m \u001b[0m 39,207,478 ops                                                                                │\n",
       "│ \u001b[36m                 \u001b[0m ├── Read - 31,856,216 ops (81.25%)                                                            │\n",
       "│ \u001b[36m                 \u001b[0m ├── Write - 1,855 ops (0.00%)                                                                 │\n",
       "│ \u001b[36m                 \u001b[0m └── Metadata - 7,340,575 ops (18.72%)                                                         │\n",
       "│ \u001b[36m \u001b[0m\u001b[36mI/O Size       \u001b[0m\u001b[36m \u001b[0m 6.74 TiB                                                                                      │\n",
       "│ \u001b[36m                 \u001b[0m ├── Read - 6.74 TiB (100.00%)                                                                 │\n",
       "│ \u001b[36m                 \u001b[0m └── Write - 215.48 kiB (0.00%)                                                                │\n",
       "│ \u001b[36m \u001b[0m\u001b[36mRead Requests  \u001b[0m\u001b[36m \u001b[0m 4 kiB-256 kiB - 31,855,638 ops                                                                │\n",
       "│ \u001b[36m                 \u001b[0m ├── <4 kiB - 43,936 ops (0.14%)                                                               │\n",
       "│ \u001b[36m                 \u001b[0m ├── 4-16 kiB - 5,088 ops (0.02%)                                                              │\n",
       "│ \u001b[36m                 \u001b[0m ├── 16-64 kiB - 7,980 ops (0.03%)                                                             │\n",
       "│ \u001b[36m                 \u001b[0m └── 64-256 kiB - 31,798,634 ops (99.82%)                                                      │\n",
       "│ \u001b[36m \u001b[0m\u001b[36mWrite Requests \u001b[0m\u001b[36m \u001b[0m 4 kiB-4 kiB - 1,855 ops                                                                       │\n",
       "│ \u001b[36m                 \u001b[0m └── <4 kiB - 1,855 ops (100.00%)                                                              │\n",
       "│ \u001b[36m \u001b[0m\u001b[36mNodes          \u001b[0m\u001b[36m \u001b[0m 4 nodes                                                                                       │\n",
       "│ \u001b[36m                 \u001b[0m ├── 14200274195875936004 - 56.68 s (100.00%) - 1.69 TiB/183.79 kiB R/W (25.00/0.00%) -        │\n",
       "│ \u001b[36m                 \u001b[0m │   9,802,590 ops (25.00%)                                                                    │\n",
       "│ \u001b[36m                 \u001b[0m ├── 17424505939907203644 - 56.61 s (99.88%) - 1.69 TiB/10.56 kiB R/W (25.00/0.00%) -          │\n",
       "│ \u001b[36m                 \u001b[0m │   9,801,486 ops (25.00%)                                                                    │\n",
       "│ \u001b[36m                 \u001b[0m ├── 12775585946864612109 - 56.25 s (99.25%) - 1.69 TiB/10.56 kiB R/W (25.00/0.00%) -          │\n",
       "│ \u001b[36m                 \u001b[0m │   9,801,058 ops (25.00%)                                                                    │\n",
       "│ \u001b[36m                 \u001b[0m └── 16317731584986882421 - 54.87 s (96.82%) - 1.69 TiB/10.56 kiB R/W (25.00/0.00%) -          │\n",
       "│ \u001b[36m                 \u001b[0m     9,802,344 ops (25.00%)                                                                    │\n",
       "│ \u001b[36m \u001b[0m\u001b[36mApps           \u001b[0m\u001b[36m \u001b[0m 1 app                                                                                         │\n",
       "│ \u001b[36m \u001b[0m\u001b[36mProcesses/Ranks\u001b[0m\u001b[36m \u001b[0m 3,091 processes                                                                               │\n",
       "│ \u001b[36m \u001b[0m\u001b[36mFiles          \u001b[0m\u001b[36m \u001b[0m 553,096 files                                                                                 │\n",
       "│ \u001b[36m                 \u001b[0m ├── Shared: 529,138 files (95.67%)                                                            │\n",
       "│ \u001b[36m                 \u001b[0m └── FPP: 23,958 files (4.33%)                                                                 │\n",
       "│ \u001b[36m \u001b[0m\u001b[36mTime Periods   \u001b[0m\u001b[36m \u001b[0m 965 time periods (Time Granularity: 1,000,000.0)                                              │\n",
       "│ \u001b[36m \u001b[0m\u001b[36mAccess Pattern \u001b[0m\u001b[36m \u001b[0m \u001b[1mSequential\u001b[0m: 31,858,071 ops (100.00%) - \u001b[1mRandom\u001b[0m: 0 ops (0.00%)                                  │\n",
       "│                                                                                                                 │\n",
       "╰─ \u001b[1mR\u001b[0m: Read - \u001b[1mW\u001b[0m: Write - \u001b[1mM\u001b[0m: Metadata  ─────────────────────────────────────────────────────────────────────────────╯\n",
       "                                                                                                                   \n",
       "╭──────────────────────────────────── 5783 I/O Bottlenecks with 23132 Reasons ────────────────────────────────────╮\n",
       "│                                                                                                                 │\n",
       "│  Time View (10 bottlenecks with 40 reasons)                                                                     │\n",
       "│  ├── \u001b[38;5;160m[CR1] 472 processes access 534 files within 1 time period (312) across 4,456 I/O operations and have an \u001b[0m   │\n",
       "│  │   \u001b[38;5;160mI/O time of 1.06 seconds which is 1.87% of overall I/O time of the workload.\u001b[0m                               │\n",
       "│  │   ├── \u001b[38;5;160m[Operation imbalance] 'read' operations are 84.09% (3,747 operations) of total I/O operations.\u001b[0m         │\n",
       "│  │   ├── \u001b[38;5;160m[Size imbalance] 'read' size is 100.00% (827.30 MiB) of total I/O size.\u001b[0m                                │\n",
       "│  │   ├── \u001b[38;5;160m[Small reads] 'read' time is 100.00% (1.06 seconds) of I/O time.\u001b[0m                                       │\n",
       "│  │   └── \u001b[38;5;160m[Small reads] Average 'read's are 190.11 kiB, which is smaller than 1.00 MiB.\u001b[0m                          │\n",
       "│  └── (9 more)                                                                                                   │\n",
       "│  File View (5531 bottlenecks with 22124 reasons)                                                                │\n",
       "│  ├── \u001b[38;5;160m[CR11] 1 process accesses 1 file (5170880276189303808) within 1 time period across 2 I/O operations and \u001b[0m   │\n",
       "│  │   \u001b[38;5;160mhas an I/O time of 0.09 seconds which is 0.16% of overall I/O time of the workload.\u001b[0m                        │\n",
       "│  │   ├── \u001b[38;5;160m[Operation imbalance] 'read' operations are 50.00% (1 operations) of total I/O operations.\u001b[0m             │\n",
       "│  │   ├── \u001b[38;5;160m[Size imbalance] 'read' size is 100.00% (256.00 kiB) of total I/O size.\u001b[0m                                │\n",
       "│  │   ├── \u001b[38;5;160m[Small reads] 'read' time is 95.90% (0.09 seconds) of I/O time.\u001b[0m                                        │\n",
       "│  │   └── \u001b[38;5;160m[Small reads] Average 'read's are 128.00 kiB, which is smaller than 1.00 MiB.\u001b[0m                          │\n",
       "│  └── (5530 more)                                                                                                │\n",
       "│  Process View (31 bottlenecks with 124 reasons)                                                                 │\n",
       "│  ├── \u001b[38;5;172m[HI5542] 1 process (app#12775585946864612109#652156#652554) accesses 1 file within 1 time period across \u001b[0m   │\n",
       "│  │   \u001b[38;5;172m13 I/O operations and has an I/O time of 0.13 seconds which is 0.24% of overall I/O time of the workload.\u001b[0m  │\n",
       "│  │   ├── \u001b[38;5;172m[Operation imbalance] 'read' operations are 92.31% (12 operations) of total I/O operations.\u001b[0m            │\n",
       "│  │   ├── \u001b[38;5;172m[Size imbalance] 'read' size is 100.00% (2.68 MiB) of total I/O size.\u001b[0m                                  │\n",
       "│  │   ├── \u001b[38;5;172m[Small reads] 'read' time is 94.69% (0.13 seconds) of I/O time.\u001b[0m                                        │\n",
       "│  │   └── \u001b[38;5;172m[Small reads] Average 'read's are 211.39 kiB, which is smaller than 1.00 MiB.\u001b[0m                          │\n",
       "│  └── (30 more)                                                                                                  │\n",
       "│  Time>File View (141 bottlenecks with 564 reasons)                                                              │\n",
       "│  ├── \u001b[38;5;160m[CR5573] 1 process accesses 1 file (17160125741824085971) within 1 time period across 3 I/O operations \u001b[0m    │\n",
       "│  │   \u001b[38;5;160mand has an I/O time of 1.45 seconds which is 2.55% of overall I/O time of the workload.\u001b[0m                    │\n",
       "│  │   ├── \u001b[38;5;160m[Operation imbalance] 'read' operations are 66.67% (2 operations) of total I/O operations.\u001b[0m             │\n",
       "│  │   ├── \u001b[38;5;160m[Size imbalance] 'read' size is 100.00% (512.00 kiB) of total I/O size.\u001b[0m                                │\n",
       "│  │   ├── \u001b[38;5;160m[Small reads] 'read' time is 99.76% (1.44 seconds) of I/O time.\u001b[0m                                        │\n",
       "│  │   └── \u001b[38;5;160m[Small reads] Average 'read's are 170.67 kiB, which is smaller than 1.00 MiB.\u001b[0m                          │\n",
       "│  └── (140 more)                                                                                                 │\n",
       "│  Time>Process View (29 bottlenecks with 116 reasons)                                                            │\n",
       "│  ├── \u001b[38;5;166m[VH5714] 1 process (app#14200274195875936004#1481569#1482068) accesses 4 files within 1 time period \u001b[0m       │\n",
       "│  │   \u001b[38;5;166macross 45 I/O operations and has an I/O time of 1.72 seconds which is 3.04% of overall I/O time of the \u001b[0m    │\n",
       "│  │   \u001b[38;5;166mworkload.\u001b[0m                                                                                                  │\n",
       "│  │   ├── \u001b[38;5;166m[Operation imbalance] 'read' operations are 84.44% (38 operations) of total I/O operations.\u001b[0m            │\n",
       "│  │   ├── \u001b[38;5;166m[Size imbalance] 'read' size is 100.00% (8.49 MiB) of total I/O size.\u001b[0m                                  │\n",
       "│  │   ├── \u001b[38;5;166m[Small reads] 'read' time is 99.17% (1.71 seconds) of I/O time.\u001b[0m                                        │\n",
       "│  │   └── \u001b[38;5;166m[Small reads] Average 'read's are 193.10 kiB, which is smaller than 1.00 MiB.\u001b[0m                          │\n",
       "│  └── (28 more)                                                                                                  │\n",
       "│  File>Time View (2 bottlenecks with 8 reasons)                                                                  │\n",
       "│  ├── \u001b[38;5;160m[CR5743] 1 process accesses 1 file within 1 time period (988) across 7 I/O operations and has an I/O time\u001b[0m  │\n",
       "│  │   \u001b[38;5;160mof 0.48 seconds which is 0.85% of overall I/O time of the workload.\u001b[0m                                        │\n",
       "│  │   ├── \u001b[38;5;160m[Operation imbalance] 'read' operations are 85.71% (6 operations) of total I/O operations.\u001b[0m             │\n",
       "│  │   ├── \u001b[38;5;160m[Size imbalance] 'read' size is 100.00% (1.50 MiB) of total I/O size.\u001b[0m                                  │\n",
       "│  │   ├── \u001b[38;5;160m[Small reads] 'read' time is 99.43% (0.48 seconds) of I/O time.\u001b[0m                                        │\n",
       "│  │   └── \u001b[38;5;160m[Small reads] Average 'read's are 219.43 kiB, which is smaller than 1.00 MiB.\u001b[0m                          │\n",
       "│  └── (1 more)                                                                                                   │\n",
       "│  File>Process View (29 bottlenecks with 116 reasons)                                                            │\n",
       "│  ├── \u001b[38;5;160m[CR5745] 1 process (app#17424505939907203644#336891#337658) accesses 1 file within 2 time periods across \u001b[0m  │\n",
       "│  │   \u001b[38;5;160m14 I/O operations and has an I/O time of 1.15 seconds which is 2.04% of overall I/O time of the workload.\u001b[0m  │\n",
       "│  │   ├── \u001b[38;5;160m[Operation imbalance] 'read' operations are 85.71% (12 operations) of total I/O operations.\u001b[0m            │\n",
       "│  │   ├── \u001b[38;5;160m[Size imbalance] 'read' size is 100.00% (2.73 MiB) of total I/O size.\u001b[0m                                  │\n",
       "│  │   ├── \u001b[38;5;160m[Small reads] 'read' time is 99.82% (1.15 seconds) of I/O time.\u001b[0m                                        │\n",
       "│  │   └── \u001b[38;5;160m[Small reads] Average 'read's are 199.94 kiB, which is smaller than 1.00 MiB.\u001b[0m                          │\n",
       "│  └── (28 more)                                                                                                  │\n",
       "│  Process>Time View (1 bottleneck with 4 reasons)                                                                │\n",
       "│  └── \u001b[38;5;172m[HI5774] 2 processes access 2 files within 1 time period (992) across 26 I/O operations and have an I/O \u001b[0m   │\n",
       "│      \u001b[38;5;172mtime of 0.13 seconds which is 0.24% of overall I/O time of the workload.\u001b[0m                                   │\n",
       "│      ├── \u001b[38;5;172m[Operation imbalance] 'read' operations are 92.31% (24 operations) of total I/O operations.\u001b[0m            │\n",
       "│      ├── \u001b[38;5;172m[Size imbalance] 'read' size is 100.00% (5.37 MiB) of total I/O size.\u001b[0m                                  │\n",
       "│      ├── \u001b[38;5;172m[Small reads] 'read' time is 99.39% (0.13 seconds) of I/O time.\u001b[0m                                        │\n",
       "│      └── \u001b[38;5;172m[Small reads] Average 'read's are 211.69 kiB, which is smaller than 1.00 MiB.\u001b[0m                          │\n",
       "│  Process>File View (1 bottleneck with 4 reasons)                                                                │\n",
       "│  └── \u001b[38;5;184m[MD5775] 1 process accesses 1 file (15783548033139866057) within 1 time period across 13 I/O operations \u001b[0m   │\n",
       "│      \u001b[38;5;184mand has an I/O time of 0.17 seconds which is 0.30% of overall I/O time of the workload.\u001b[0m                    │\n",
       "│      ├── \u001b[38;5;184m[Operation imbalance] 'read' operations are 92.31% (12 operations) of total I/O operations.\u001b[0m            │\n",
       "│      ├── \u001b[38;5;184m[Size imbalance] 'read' size is 100.00% (2.70 MiB) of total I/O size.\u001b[0m                                  │\n",
       "│      ├── \u001b[38;5;184m[Small reads] 'read' time is 96.86% (0.17 seconds) of I/O time.\u001b[0m                                        │\n",
       "│      └── \u001b[38;5;184m[Small reads] Average 'read's are 212.38 kiB, which is smaller than 1.00 MiB.\u001b[0m                          │\n",
       "│  Time>File>Process View (2 bottlenecks with 8 reasons)                                                          │\n",
       "│  ├── \u001b[38;5;166m[VH5776] 1 process (app#14200274195875936004#1481569#1482068) accesses 1 file within 1 time period across\u001b[0m  │\n",
       "│  │   \u001b[38;5;166m3 I/O operations and has an I/O time of 1.45 seconds which is 2.55% of overall I/O time of the workload.\u001b[0m   │\n",
       "│  │   ├── \u001b[38;5;166m[Operation imbalance] 'read' operations are 66.67% (2 operations) of total I/O operations.\u001b[0m             │\n",
       "│  │   ├── \u001b[38;5;166m[Size imbalance] 'read' size is 100.00% (512.00 kiB) of total I/O size.\u001b[0m                                │\n",
       "│  │   ├── \u001b[38;5;166m[Small reads] 'read' time is 99.76% (1.44 seconds) of I/O time.\u001b[0m                                        │\n",
       "│  │   └── \u001b[38;5;166m[Small reads] Average 'read's are 170.67 kiB, which is smaller than 1.00 MiB.\u001b[0m                          │\n",
       "│  └── (1 more)                                                                                                   │\n",
       "│  Time>Process>File View (2 bottlenecks with 8 reasons)                                                          │\n",
       "│  ├── \u001b[38;5;160m[CR5778] 1 process accesses 1 file (17160125741824085971) within 1 time period across 3 I/O operations \u001b[0m    │\n",
       "│  │   \u001b[38;5;160mand has an I/O time of 1.45 seconds which is 2.55% of overall I/O time of the workload.\u001b[0m                    │\n",
       "│  │   ├── \u001b[38;5;160m[Operation imbalance] 'read' operations are 66.67% (2 operations) of total I/O operations.\u001b[0m             │\n",
       "│  │   ├── \u001b[38;5;160m[Size imbalance] 'read' size is 100.00% (512.00 kiB) of total I/O size.\u001b[0m                                │\n",
       "│  │   ├── \u001b[38;5;160m[Small reads] 'read' time is 99.76% (1.44 seconds) of I/O time.\u001b[0m                                        │\n",
       "│  │   └── \u001b[38;5;160m[Small reads] Average 'read's are 170.67 kiB, which is smaller than 1.00 MiB.\u001b[0m                          │\n",
       "│  └── (1 more)                                                                                                   │\n",
       "│  File>Time>Process View (1 bottleneck with 4 reasons)                                                           │\n",
       "│  └── \u001b[38;5;184m[MD5780] 1 process (app#16317731584986882421#863291#863857) accesses 1 file within 1 time period across 2\u001b[0m  │\n",
       "│      \u001b[38;5;184mI/O operations and has an I/O time of 0.61 seconds which is 1.08% of overall I/O time of the workload.\u001b[0m     │\n",
       "│      ├── \u001b[38;5;184m[Operation imbalance] 'read' operations are 50.00% (1 operations) of total I/O operations.\u001b[0m             │\n",
       "│      ├── \u001b[38;5;184m[Size imbalance] 'read' size is 100.00% (256.00 kiB) of total I/O size.\u001b[0m                                │\n",
       "│      ├── \u001b[38;5;184m[Small reads] 'read' time is 99.37% (0.61 seconds) of I/O time.\u001b[0m                                        │\n",
       "│      └── \u001b[38;5;184m[Small reads] Average 'read's are 128.00 kiB, which is smaller than 1.00 MiB.\u001b[0m                          │\n",
       "│  File>Process>Time View (1 bottleneck with 4 reasons)                                                           │\n",
       "│  └── \u001b[38;5;172m[HI5781] 9 processes access 9 files within 1 time period (912) across 70 I/O operations and have an I/O \u001b[0m   │\n",
       "│      \u001b[38;5;172mtime of 1.05 seconds which is 1.85% of overall I/O time of the workload.\u001b[0m                                   │\n",
       "│      ├── \u001b[38;5;172m[Operation imbalance] 'read' operations are 81.43% (57 operations) of total I/O operations.\u001b[0m            │\n",
       "│      ├── \u001b[38;5;172m[Size imbalance] 'read' size is 100.00% (12.96 MiB) of total I/O size.\u001b[0m                                 │\n",
       "│      ├── \u001b[38;5;172m[Small reads] 'read' time is 99.92% (1.05 seconds) of I/O time.\u001b[0m                                        │\n",
       "│      └── \u001b[38;5;172m[Small reads] Average 'read's are 189.60 kiB, which is smaller than 1.00 MiB.\u001b[0m                          │\n",
       "│  Process>Time>File View (1 bottleneck with 4 reasons)                                                           │\n",
       "│  └── \u001b[38;5;106m[LO5782] 1 process accesses 1 file (8041759682111731106) within 1 time period across 13 I/O operations \u001b[0m    │\n",
       "│      \u001b[38;5;106mand has an I/O time of 0.13 seconds which is 0.24% of overall I/O time of the workload.\u001b[0m                    │\n",
       "│      ├── \u001b[38;5;106m[Operation imbalance] 'read' operations are 92.31% (12 operations) of total I/O operations.\u001b[0m            │\n",
       "│      ├── \u001b[38;5;106m[Size imbalance] 'read' size is 100.00% (2.66 MiB) of total I/O size.\u001b[0m                                  │\n",
       "│      ├── \u001b[38;5;106m[Small reads] 'read' time is 99.39% (0.13 seconds) of I/O time.\u001b[0m                                        │\n",
       "│      └── \u001b[38;5;106m[Small reads] Average 'read's are 209.86 kiB, which is smaller than 1.00 MiB.\u001b[0m                          │\n",
       "│  Process>File>Time View (1 bottleneck with 4 reasons)                                                           │\n",
       "│  └── \u001b[38;5;106m[LO5783] 1 process accesses 1 file within 1 time period (804) across 13 I/O operations and has an I/O \u001b[0m     │\n",
       "│      \u001b[38;5;106mtime of 0.17 seconds which is 0.30% of overall I/O time of the workload.\u001b[0m                                   │\n",
       "│      ├── \u001b[38;5;106m[Operation imbalance] 'read' operations are 92.31% (12 operations) of total I/O operations.\u001b[0m            │\n",
       "│      ├── \u001b[38;5;106m[Size imbalance] 'read' size is 100.00% (2.70 MiB) of total I/O size.\u001b[0m                                  │\n",
       "│      ├── \u001b[38;5;106m[Small reads] 'read' time is 96.86% (0.17 seconds) of I/O time.\u001b[0m                                        │\n",
       "│      └── \u001b[38;5;106m[Small reads] Average 'read's are 212.38 kiB, which is smaller than 1.00 MiB.\u001b[0m                          │\n",
       "│                                                                                                                 │\n",
       "╰─────────────────────────────────────────────────────────────────────────────────────────────────────────────────╯\n"
      ]
     },
     "metadata": {},
     "output_type": "display_data"
    },
    {
     "name": "stdout",
     "output_type": "stream",
     "text": [
      "time: 6min 55s (started: 2024-10-08 18:19:29 -07:00)\n"
     ]
    }
   ],
   "source": [
    "output.handle_result(metrics=cfg.metrics, result=result)"
   ]
  },
  {
   "cell_type": "code",
   "execution_count": null,
   "id": "c805b14b",
   "metadata": {
    "papermill": {
     "duration": 0.005086,
     "end_time": "2024-10-09T01:26:24.817536",
     "exception": false,
     "start_time": "2024-10-09T01:26:24.812450",
     "status": "completed"
    },
    "tags": []
   },
   "outputs": [],
   "source": []
  }
 ],
 "metadata": {
  "kernelspec": {
   "display_name": "venv-corona",
   "language": "python",
   "name": "python3"
  },
  "language_info": {
   "codemirror_mode": {
    "name": "ipython",
    "version": 3
   },
   "file_extension": ".py",
   "mimetype": "text/x-python",
   "name": "python",
   "nbconvert_exporter": "python",
   "pygments_lexer": "ipython3",
   "version": "3.9.12"
  },
  "papermill": {
   "default_parameters": {},
   "duration": 1499.181786,
   "end_time": "2024-10-09T01:26:27.545627",
   "environment_variables": {},
   "exception": null,
   "input_path": "analysis.ipynb",
   "output_path": "analysis-dftracer-cosmoflow-dlio-v100-node-4-v1.ipynb",
   "parameters": {
    "analyzer": "dftracer",
    "checkpoint": true,
    "checkpoint_dir": "/usr/workspace/iopp/wisio_logs/_checkpoints/dftracer-cosmoflow-dlio-v100-node-4-v1",
    "logical_view_types": false,
    "output_max_bottlenecks": 1,
    "output_root_only": false,
    "percentile": 0.99,
    "run_dir": ".wisio/dftracer/cosmoflow-dlio-v100-node-4-v1",
    "trace_path": "/p/lustre3/iopp/dftracer-traces-lfs/v1.0.5-develop/corona/cosmoflow/dlio-v100/node-4/v1/RAW/*.pfw.gz"
   },
   "start_time": "2024-10-09T01:01:28.363841",
   "version": "2.6.0"
  }
 },
 "nbformat": 4,
 "nbformat_minor": 5
}
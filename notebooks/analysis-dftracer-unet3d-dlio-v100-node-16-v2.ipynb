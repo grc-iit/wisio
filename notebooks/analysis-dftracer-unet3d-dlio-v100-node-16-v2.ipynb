{
 "cells": [
  {
   "cell_type": "code",
   "execution_count": 1,
   "id": "112c0b76",
   "metadata": {
    "execution": {
     "iopub.execute_input": "2024-10-09T23:58:14.362221Z",
     "iopub.status.busy": "2024-10-09T23:58:14.361862Z",
     "iopub.status.idle": "2024-10-09T23:58:14.409681Z",
     "shell.execute_reply": "2024-10-09T23:58:14.408648Z"
    },
    "papermill": {
     "duration": 0.058748,
     "end_time": "2024-10-09T23:58:14.412312",
     "exception": false,
     "start_time": "2024-10-09T23:58:14.353564",
     "status": "completed"
    },
    "tags": []
   },
   "outputs": [
    {
     "name": "stdout",
     "output_type": "stream",
     "text": [
      "time: 284 µs (started: 2024-10-09 16:58:14 -07:00)\n"
     ]
    }
   ],
   "source": [
    "%load_ext autoreload\n",
    "%load_ext autotime"
   ]
  },
  {
   "cell_type": "code",
   "execution_count": 2,
   "id": "bfdf0562",
   "metadata": {
    "execution": {
     "iopub.execute_input": "2024-10-09T23:58:14.423968Z",
     "iopub.status.busy": "2024-10-09T23:58:14.423575Z",
     "iopub.status.idle": "2024-10-09T23:58:14.429951Z",
     "shell.execute_reply": "2024-10-09T23:58:14.429054Z"
    },
    "papermill": {
     "duration": 0.015458,
     "end_time": "2024-10-09T23:58:14.432721",
     "exception": false,
     "start_time": "2024-10-09T23:58:14.417263",
     "status": "completed"
    },
    "tags": []
   },
   "outputs": [
    {
     "name": "stdout",
     "output_type": "stream",
     "text": [
      "time: 1.23 ms (started: 2024-10-09 16:58:14 -07:00)\n"
     ]
    }
   ],
   "source": [
    "import os\n",
    "import sys\n",
    "import time\n",
    "import warnings\n",
    "\n",
    "# Add WisIO to the path\n",
    "sys.path.append(os.path.abspath(\"../\"))\n",
    "\n",
    "# Filter warnings\n",
    "warnings.filterwarnings('ignore')"
   ]
  },
  {
   "cell_type": "code",
   "execution_count": 3,
   "id": "542c0f34",
   "metadata": {
    "execution": {
     "iopub.execute_input": "2024-10-09T23:58:14.445234Z",
     "iopub.status.busy": "2024-10-09T23:58:14.444879Z",
     "iopub.status.idle": "2024-10-09T23:58:14.451477Z",
     "shell.execute_reply": "2024-10-09T23:58:14.450615Z"
    },
    "papermill": {
     "duration": 0.015569,
     "end_time": "2024-10-09T23:58:14.453817",
     "exception": false,
     "start_time": "2024-10-09T23:58:14.438248",
     "status": "completed"
    },
    "tags": [
     "parameters",
     "parameters2"
    ]
   },
   "outputs": [
    {
     "name": "stdout",
     "output_type": "stream",
     "text": [
      "time: 1.32 ms (started: 2024-10-09 16:58:14 -07:00)\n"
     ]
    }
   ],
   "source": [
    "analyzer = \"dftracer\"\n",
    "checkpoint = True\n",
    "logical_view_types = False\n",
    "output_max_bottlenecks = 1\n",
    "output_root_only = False\n",
    "run_dir = f\".wisio/{analyzer}/{int(time.time())}\"\n",
    "bottleneck_dir = f\"{run_dir}/bottlenecks\"\n",
    "checkpoint_dir = f\"{run_dir}/checkpoints\"\n",
    "percentile = 0.95\n",
    "trace_path = \"/p/lustre3/iopp/dftracer-traces-lfs/v1.0.5-develop/corona/cm1/APP/node-1/v1/RAW/*.pfw.gz\""
   ]
  },
  {
   "cell_type": "code",
   "execution_count": 4,
   "id": "f700afc9",
   "metadata": {
    "execution": {
     "iopub.execute_input": "2024-10-09T23:58:14.465815Z",
     "iopub.status.busy": "2024-10-09T23:58:14.465175Z",
     "iopub.status.idle": "2024-10-09T23:58:14.471669Z",
     "shell.execute_reply": "2024-10-09T23:58:14.470815Z"
    },
    "papermill": {
     "duration": 0.014854,
     "end_time": "2024-10-09T23:58:14.473902",
     "exception": false,
     "start_time": "2024-10-09T23:58:14.459048",
     "status": "completed"
    },
    "tags": [
     "injected-parameters"
    ]
   },
   "outputs": [
    {
     "name": "stdout",
     "output_type": "stream",
     "text": [
      "time: 1.2 ms (started: 2024-10-09 16:58:14 -07:00)\n"
     ]
    }
   ],
   "source": [
    "# Parameters\n",
    "analyzer = \"dftracer\"\n",
    "checkpoint = True\n",
    "checkpoint_dir = \"/usr/workspace/iopp/wisio_logs/_checkpoints/dftracer-unet3d-dlio-v100-node-16-v2\"\n",
    "logical_view_types = False\n",
    "output_max_bottlenecks = 1\n",
    "output_root_only = False\n",
    "run_dir = \".wisio/dftracer/unet3d-dlio-v100-node-16-v2\"\n",
    "percentile = 0.99\n",
    "trace_path = \"/p/lustre3/iopp/dftracer-traces-lfs/v1.0.5-develop/corona/unet3d/dlio-v100/node-16/v2/RAW/*.pfw.gz\"\n"
   ]
  },
  {
   "cell_type": "code",
   "execution_count": 5,
   "id": "9708bdf7",
   "metadata": {
    "execution": {
     "iopub.execute_input": "2024-10-09T23:58:14.485739Z",
     "iopub.status.busy": "2024-10-09T23:58:14.485173Z",
     "iopub.status.idle": "2024-10-09T23:58:24.356332Z",
     "shell.execute_reply": "2024-10-09T23:58:24.354918Z"
    },
    "papermill": {
     "duration": 9.879995,
     "end_time": "2024-10-09T23:58:24.359069",
     "exception": false,
     "start_time": "2024-10-09T23:58:14.479074",
     "status": "completed"
    },
    "tags": []
   },
   "outputs": [
    {
     "name": "stdout",
     "output_type": "stream",
     "text": [
      "time: 9.86 s (started: 2024-10-09 16:58:14 -07:00)\n"
     ]
    }
   ],
   "source": [
    "from distributed import Client\n",
    "from hydra import compose, initialize\n",
    "from hydra.core.hydra_config import HydraConfig\n",
    "from hydra.utils import instantiate\n",
    "from wisio.config import init_hydra_config_store\n",
    "from wisio.utils.file_utils import ensure_dir\n",
    "\n",
    "ensure_dir(run_dir)\n",
    "\n",
    "with initialize(version_base=None, config_path=None):\n",
    "    init_hydra_config_store()\n",
    "    cfg = compose(\n",
    "        config_name=\"config\",\n",
    "        overrides=[\n",
    "            f\"+analyzer={analyzer}\",\n",
    "            f\"analyzer.bottleneck_dir={bottleneck_dir}\",\n",
    "            f\"analyzer.checkpoint={checkpoint}\",\n",
    "            f\"analyzer.checkpoint_dir={checkpoint_dir}\",\n",
    "            f\"hydra.run.dir={run_dir}\",\n",
    "            f\"hydra.runtime.output_dir={run_dir}\",\n",
    "            f\"logical_view_types={logical_view_types}\",\n",
    "            f\"output.max_bottlenecks={output_max_bottlenecks}\",\n",
    "            f\"output.root_only={output_root_only}\",\n",
    "            f\"percentile={percentile}\",\n",
    "            f\"trace_path={trace_path}\",\n",
    "        ],\n",
    "        return_hydra_config=True,\n",
    "    )\n",
    "    HydraConfig.instance().set_config(cfg)\n",
    "    cluster = instantiate(cfg.cluster)\n",
    "    client = Client(cluster)\n",
    "    analyzer = instantiate(cfg.analyzer)\n",
    "    output = instantiate(cfg.output)"
   ]
  },
  {
   "cell_type": "code",
   "execution_count": 6,
   "id": "52759a0e",
   "metadata": {
    "execution": {
     "iopub.execute_input": "2024-10-09T23:58:24.374437Z",
     "iopub.status.busy": "2024-10-09T23:58:24.373427Z",
     "iopub.status.idle": "2024-10-10T00:02:50.081452Z",
     "shell.execute_reply": "2024-10-10T00:02:50.079749Z"
    },
    "papermill": {
     "duration": 265.72395,
     "end_time": "2024-10-10T00:02:50.089302",
     "exception": false,
     "start_time": "2024-10-09T23:58:24.365352",
     "status": "completed"
    },
    "tags": []
   },
   "outputs": [
    {
     "name": "stdout",
     "output_type": "stream",
     "text": [
      "time: 4min 25s (started: 2024-10-09 16:58:24 -07:00)\n"
     ]
    }
   ],
   "source": [
    "result = analyzer.analyze_trace(\n",
    "    trace_path=cfg.trace_path,\n",
    "    # accuracy=cfg.accuracy,\n",
    "    exclude_bottlenecks=cfg.exclude_bottlenecks,\n",
    "    exclude_characteristics=cfg.exclude_characteristics,\n",
    "    logical_view_types=cfg.logical_view_types,\n",
    "    metrics=cfg.metrics,\n",
    "    percentile=cfg.percentile,\n",
    "    view_types=cfg.view_types,\n",
    ")"
   ]
  },
  {
   "cell_type": "code",
   "execution_count": 7,
   "id": "523fd980",
   "metadata": {
    "execution": {
     "iopub.execute_input": "2024-10-10T00:02:50.105992Z",
     "iopub.status.busy": "2024-10-10T00:02:50.105192Z",
     "iopub.status.idle": "2024-10-10T00:03:00.471395Z",
     "shell.execute_reply": "2024-10-10T00:03:00.470129Z"
    },
    "papermill": {
     "duration": 10.378408,
     "end_time": "2024-10-10T00:03:00.473946",
     "exception": false,
     "start_time": "2024-10-10T00:02:50.095538",
     "status": "completed"
    },
    "tags": []
   },
   "outputs": [
    {
     "data": {
      "text/html": [
       "<pre style=\"white-space:pre;overflow-x:auto;line-height:normal;font-family:Menlo,'DejaVu Sans Mono',consolas,'Courier New',monospace\">╭────────────────────────────────────────────── I/O Characteristics ──────────────────────────────────────────────╮\n",
       "│                                                                                                                 │\n",
       "│ <span style=\"color: #008080; text-decoration-color: #008080\"> Runtime         </span> 51.55 seconds                                                                                 │\n",
       "│ <span style=\"color: #008080; text-decoration-color: #008080\"> I/O Time        </span> 2.75 seconds                                                                                  │\n",
       "│ <span style=\"color: #008080; text-decoration-color: #008080\">                 </span> ├── Read - 0.26 seconds (9.44%)                                                               │\n",
       "│ <span style=\"color: #008080; text-decoration-color: #008080\">                 </span> ├── Write - 0.00 seconds (0.02%)                                                              │\n",
       "│ <span style=\"color: #008080; text-decoration-color: #008080\">                 </span> └── Metadata - 2.50 seconds (90.83%)                                                          │\n",
       "│ <span style=\"color: #008080; text-decoration-color: #008080\"> I/O Operations  </span> 10,366,437 ops                                                                                │\n",
       "│ <span style=\"color: #008080; text-decoration-color: #008080\">                 </span> ├── Read - 267,648 ops (2.58%)                                                                │\n",
       "│ <span style=\"color: #008080; text-decoration-color: #008080\">                 </span> ├── Write - 4,003 ops (0.04%)                                                                 │\n",
       "│ <span style=\"color: #008080; text-decoration-color: #008080\">                 </span> └── Metadata - 10,056,898 ops (97.01%)                                                        │\n",
       "│ <span style=\"color: #008080; text-decoration-color: #008080\"> I/O Size        </span> 715.55 MiB                                                                                    │\n",
       "│ <span style=\"color: #008080; text-decoration-color: #008080\">                 </span> ├── Read - 715.38 MiB (99.98%)                                                                │\n",
       "│ <span style=\"color: #008080; text-decoration-color: #008080\">                 </span> └── Write - 175.93 kiB (0.02%)                                                                │\n",
       "│ <span style=\"color: #008080; text-decoration-color: #008080\"> Read Requests   </span> 4 kiB-64 kiB - 267,130 ops                                                                    │\n",
       "│ <span style=\"color: #008080; text-decoration-color: #008080\">                 </span> ├── &lt;4 kiB - 191,005 ops (71.50%)                                                             │\n",
       "│ <span style=\"color: #008080; text-decoration-color: #008080\">                 </span> ├── 4-16 kiB - 33,033 ops (12.37%)                                                            │\n",
       "│ <span style=\"color: #008080; text-decoration-color: #008080\">                 </span> └── 16-64 kiB - 43,092 ops (16.13%)                                                           │\n",
       "│ <span style=\"color: #008080; text-decoration-color: #008080\"> Write Requests  </span> 4 kiB-4 kiB - 4,003 ops                                                                       │\n",
       "│ <span style=\"color: #008080; text-decoration-color: #008080\">                 </span> └── &lt;4 kiB - 4,003 ops (100.00%)                                                              │\n",
       "│ <span style=\"color: #008080; text-decoration-color: #008080\"> Nodes           </span> 16 nodes                                                                                      │\n",
       "│ <span style=\"color: #008080; text-decoration-color: #008080\">                 </span> ├── 16317731584986882421 - 2.75 s (100.00%) - 44.71 MiB/10.56 kiB R/W (6.25/0.00%) - 647,899  │\n",
       "│ <span style=\"color: #008080; text-decoration-color: #008080\">                 </span> │   ops (6.25%)                                                                               │\n",
       "│ <span style=\"color: #008080; text-decoration-color: #008080\">                 </span> ├── 1995665909820648179 - 2.71 s (98.67%) - 44.72 MiB/10.56 kiB R/W (6.25/0.00%) - 647,899    │\n",
       "│ <span style=\"color: #008080; text-decoration-color: #008080\">                 </span> │   ops (6.25%)                                                                               │\n",
       "│ <span style=\"color: #008080; text-decoration-color: #008080\">                 </span> ├── 3084974796030094918 - 2.71 s (98.46%) - 44.70 MiB/10.56 kiB R/W (6.25/0.00%) - 647,899    │\n",
       "│ <span style=\"color: #008080; text-decoration-color: #008080\">                 </span> │   ops (6.25%)                                                                               │\n",
       "│ <span style=\"color: #008080; text-decoration-color: #008080\">                 </span> ├── 13943161580101246997 - 2.71 s (98.38%) - 44.71 MiB/10.56 kiB R/W (6.25/0.00%) - 647,908   │\n",
       "│ <span style=\"color: #008080; text-decoration-color: #008080\">                 </span> │   ops (6.25%)                                                                               │\n",
       "│ <span style=\"color: #008080; text-decoration-color: #008080\">                 </span> ├── 12578331172924968642 - 2.70 s (98.30%) - 44.72 MiB/10.56 kiB R/W (6.25/0.00%) - 647,898   │\n",
       "│ <span style=\"color: #008080; text-decoration-color: #008080\">                 </span> │   ops (6.25%)                                                                               │\n",
       "│ <span style=\"color: #008080; text-decoration-color: #008080\">                 </span> ├── 4805284303638872715 - 2.68 s (97.59%) - 44.72 MiB/10.56 kiB R/W (6.25/0.00%) - 647,899    │\n",
       "│ <span style=\"color: #008080; text-decoration-color: #008080\">                 </span> │   ops (6.25%)                                                                               │\n",
       "│ <span style=\"color: #008080; text-decoration-color: #008080\">                 </span> ├── 17424505939907203644 - 2.68 s (97.56%) - 44.71 MiB/10.56 kiB R/W (6.25/0.00%) - 647,897   │\n",
       "│ <span style=\"color: #008080; text-decoration-color: #008080\">                 </span> │   ops (6.25%)                                                                               │\n",
       "│ <span style=\"color: #008080; text-decoration-color: #008080\">                 </span> ├── 3206708581496198598 - 2.68 s (97.42%) - 44.71 MiB/10.56 kiB R/W (6.25/0.00%) - 647,899    │\n",
       "│ <span style=\"color: #008080; text-decoration-color: #008080\">                 </span> │   ops (6.25%)                                                                               │\n",
       "│ <span style=\"color: #008080; text-decoration-color: #008080\">                 </span> ├── 6968018510730723892 - 2.68 s (97.42%) - 44.72 MiB/10.56 kiB R/W (6.25/0.00%) - 647,899    │\n",
       "│ <span style=\"color: #008080; text-decoration-color: #008080\">                 </span> │   ops (6.25%)                                                                               │\n",
       "│ <span style=\"color: #008080; text-decoration-color: #008080\">                 </span> ├── 15461096182755994450 - 2.68 s (97.41%) - 44.72 MiB/17.50 kiB R/W (6.25/0.00%) - 647,940   │\n",
       "│ <span style=\"color: #008080; text-decoration-color: #008080\">                 </span> │   ops (6.25%)                                                                               │\n",
       "│ <span style=\"color: #008080; text-decoration-color: #008080\">                 </span> ├── 784840397337378243 - 2.68 s (97.38%) - 44.71 MiB/10.56 kiB R/W (6.25/0.00%) - 647,899     │\n",
       "│ <span style=\"color: #008080; text-decoration-color: #008080\">                 </span> │   ops (6.25%)                                                                               │\n",
       "│ <span style=\"color: #008080; text-decoration-color: #008080\">                 </span> ├── 14200274195875936004 - 2.67 s (97.18%) - 44.72 MiB/10.56 kiB R/W (6.25/0.00%) - 647,899   │\n",
       "│ <span style=\"color: #008080; text-decoration-color: #008080\">                 </span> │   ops (6.25%)                                                                               │\n",
       "│ <span style=\"color: #008080; text-decoration-color: #008080\">                 </span> ├── 11940681009529776706 - 2.67 s (97.14%) - 44.71 MiB/10.56 kiB R/W (6.25/0.00%) - 647,899   │\n",
       "│ <span style=\"color: #008080; text-decoration-color: #008080\">                 </span> │   ops (6.25%)                                                                               │\n",
       "│ <span style=\"color: #008080; text-decoration-color: #008080\">                 </span> ├── 16718576285930604672 - 2.66 s (96.54%) - 44.71 MiB/10.56 kiB R/W (6.25/0.00%) - 647,903   │\n",
       "│ <span style=\"color: #008080; text-decoration-color: #008080\">                 </span> │   ops (6.25%)                                                                               │\n",
       "│ <span style=\"color: #008080; text-decoration-color: #008080\">                 </span> ├── 12775585946864612109 - 2.65 s (96.48%) - 44.71 MiB/10.56 kiB R/W (6.25/0.00%) - 647,901   │\n",
       "│ <span style=\"color: #008080; text-decoration-color: #008080\">                 </span> │   ops (6.25%)                                                                               │\n",
       "│ <span style=\"color: #008080; text-decoration-color: #008080\">                 </span> └── 11048751769900308354 - 2.55 s (92.62%) - 44.71 MiB/10.56 kiB R/W (6.25/0.00%) - 647,899   │\n",
       "│ <span style=\"color: #008080; text-decoration-color: #008080\">                 </span>     ops (6.25%)                                                                               │\n",
       "│ <span style=\"color: #008080; text-decoration-color: #008080\"> Apps            </span> 1 app                                                                                         │\n",
       "│ <span style=\"color: #008080; text-decoration-color: #008080\"> Processes/Ranks </span> 896 processes                                                                                 │\n",
       "│ <span style=\"color: #008080; text-decoration-color: #008080\"> Files           </span> 9,182 files                                                                                   │\n",
       "│ <span style=\"color: #008080; text-decoration-color: #008080\">                 </span> ├── Shared: 5,212 files (56.76%)                                                              │\n",
       "│ <span style=\"color: #008080; text-decoration-color: #008080\">                 </span> └── FPP: 3,970 files (43.24%)                                                                 │\n",
       "│ <span style=\"color: #008080; text-decoration-color: #008080\"> Time Periods    </span> 33 time periods (Time Granularity: 1,000,000.0)                                               │\n",
       "│ <span style=\"color: #008080; text-decoration-color: #008080\"> Access Pattern  </span> <span style=\"font-weight: bold\">Sequential</span>: 271,651 ops (100.00%) - <span style=\"font-weight: bold\">Random</span>: 0 ops (0.00%)                                     │\n",
       "│                                                                                                                 │\n",
       "╰─ <span style=\"font-weight: bold\">R</span>: Read - <span style=\"font-weight: bold\">W</span>: Write - <span style=\"font-weight: bold\">M</span>: Metadata  ─────────────────────────────────────────────────────────────────────────────╯\n",
       "                                                                                                                   \n",
       "╭────────────────────────────────────── 140 I/O Bottlenecks with 84 Reasons ──────────────────────────────────────╮\n",
       "│                                                                                                                 │\n",
       "│  Time View (1 bottleneck with 3 reasons)                                                                        │\n",
       "│  └── <span style=\"color: #d70000; text-decoration-color: #d70000\">[CR1] 627 processes access 804 files within 1 time period (45) across 51,694 I/O operations and have an </span>   │\n",
       "│      <span style=\"color: #d70000; text-decoration-color: #d70000\">I/O time of 0.53 seconds which is 19.23% of overall I/O time of the workload.</span>                              │\n",
       "│      ├── <span style=\"color: #d70000; text-decoration-color: #d70000\">[Excessive metadata access] Overall 99.98% (0.53 seconds) of I/O time is spent on metadata access, </span>    │\n",
       "│      │   <span style=\"color: #d70000; text-decoration-color: #d70000\">specifically 57.12% (0.30 seconds) on the 'open' operation.</span>                                            │\n",
       "│      ├── <span style=\"color: #d70000; text-decoration-color: #d70000\">[Operation imbalance] 'read' operations are 13.14% (6,794 operations) of total I/O operations.</span>         │\n",
       "│      └── <span style=\"color: #d70000; text-decoration-color: #d70000\">[Size imbalance] 'read' size is 100.00% (48.97 MiB) of total I/O size.</span>                                 │\n",
       "│  File View (93 bottlenecks with 13 reasons)                                                                     │\n",
       "│  ├── <span style=\"color: #d70000; text-decoration-color: #d70000\">[CR2] 1 process accesses 1 file (15155830501235021824) within 1 time period across 1 I/O operation and </span>    │\n",
       "│  │   <span style=\"color: #d70000; text-decoration-color: #d70000\">has an I/O time of 0.02 seconds which is 0.85% of overall I/O time of the workload.</span>                        │\n",
       "│  │   └── <span style=\"color: #d70000; text-decoration-color: #d70000\">[Excessive metadata access] No reason found, investigation needed!</span>                                     │\n",
       "│  └── (92 more)                                                                                                  │\n",
       "│  Process View (9 bottlenecks with 18 reasons)                                                                   │\n",
       "│  ├── <span style=\"color: #d70000; text-decoration-color: #d70000\">[CR95] 1 process (app#4805284303638872715#1925230#1925428) accesses 58 files within 4 time periods across</span>  │\n",
       "│  │   <span style=\"color: #d70000; text-decoration-color: #d70000\">434 I/O operations and has an I/O time of 0.59 seconds which is 21.56% of overall I/O time of the </span>         │\n",
       "│  │   <span style=\"color: #d70000; text-decoration-color: #d70000\">workload.</span>                                                                                                  │\n",
       "│  │   ├── <span style=\"color: #d70000; text-decoration-color: #d70000\">[Excessive metadata access] Overall 96.02% (0.57 seconds) of I/O time is spent on metadata access, </span>    │\n",
       "│  │   │   <span style=\"color: #d70000; text-decoration-color: #d70000\">specifically 80.34% (0.48 seconds) on the 'open' operation.</span>                                            │\n",
       "│  │   └── <span style=\"color: #d70000; text-decoration-color: #d70000\">[Size imbalance] 'read' size is 100.00% (149.61 kiB) of total I/O size.</span>                                │\n",
       "│  └── (8 more)                                                                                                   │\n",
       "│  Time&gt;File View (9 bottlenecks with 0 reasons)                                                                  │\n",
       "│  ├── <span style=\"color: #d70000; text-decoration-color: #d70000\">[CR104] 175 processes access 1 file (6952528268796599296) within 1 time period across 347 I/O operations </span>  │\n",
       "│  │   <span style=\"color: #d70000; text-decoration-color: #d70000\">and have an I/O time of 0.27 seconds which is 9.82% of overall I/O time of the workload.</span>                   │\n",
       "│  │   └── <span style=\"color: #d70000; text-decoration-color: #d70000\">[Excessive metadata access] No reason found, investigation needed!</span>                                     │\n",
       "│  └── (8 more)                                                                                                   │\n",
       "│  Time&gt;Process View (7 bottlenecks with 16 reasons)                                                              │\n",
       "│  ├── <span style=\"color: #d70000; text-decoration-color: #d70000\">[CR113] 1 process (app#784840397337378243#304015#305288) accesses 10 files within 1 time period across 13</span>  │\n",
       "│  │   <span style=\"color: #d70000; text-decoration-color: #d70000\">I/O operations and has an I/O time of 0.26 seconds which is 9.35% of overall I/O time of the workload.</span>     │\n",
       "│  │   └── <span style=\"color: #d70000; text-decoration-color: #d70000\">[Excessive metadata access] Overall 100.00% (0.26 seconds) of I/O time is spent on metadata access, </span>   │\n",
       "│  │       <span style=\"color: #d70000; text-decoration-color: #d70000\">specifically 99.95% (0.26 seconds) on the 'open' operation.</span>                                            │\n",
       "│  └── (6 more)                                                                                                   │\n",
       "│  File&gt;Time View (1 bottleneck with 0 reasons)                                                                   │\n",
       "│  └── <span style=\"color: #d75f00; text-decoration-color: #d75f00\">[VH120] 128 processes access 2 files within 1 time period (1) across 385 I/O operations and have an I/O </span>   │\n",
       "│      <span style=\"color: #d75f00; text-decoration-color: #d75f00\">time of 0.02 seconds which is 0.85% of overall I/O time of the workload.</span>                                   │\n",
       "│      └── <span style=\"color: #d75f00; text-decoration-color: #d75f00\">[Excessive metadata access] No reason found, investigation needed!</span>                                     │\n",
       "│  File&gt;Process View (9 bottlenecks with 25 reasons)                                                              │\n",
       "│  ├── <span style=\"color: #d70000; text-decoration-color: #d70000\">[CR121] 1 process (app#6968018510730723892#1970805#1970998) accesses 9 files within 2 time periods across</span>  │\n",
       "│  │   <span style=\"color: #d70000; text-decoration-color: #d70000\">45 I/O operations and has an I/O time of 0.51 seconds which is 18.69% of overall I/O time of the </span>          │\n",
       "│  │   <span style=\"color: #d70000; text-decoration-color: #d70000\">workload.</span>                                                                                                  │\n",
       "│  │   ├── <span style=\"color: #d70000; text-decoration-color: #d70000\">[Excessive metadata access] Overall 99.99% (0.51 seconds) of I/O time is spent on metadata access, </span>    │\n",
       "│  │   │   <span style=\"color: #d70000; text-decoration-color: #d70000\">specifically 46.63% (0.24 seconds) on the 'open' operation.</span>                                            │\n",
       "│  │   ├── <span style=\"color: #d70000; text-decoration-color: #d70000\">[Operation imbalance] 'read' operations are 15.56% (7 operations) of total I/O operations.</span>             │\n",
       "│  │   └── <span style=\"color: #d70000; text-decoration-color: #d70000\">[Size imbalance] 'read' size is 100.00% (25.95 kiB) of total I/O size.</span>                                 │\n",
       "│  └── (8 more)                                                                                                   │\n",
       "│  Process&gt;Time View (1 bottleneck with 3 reasons)                                                                │\n",
       "│  └── <span style=\"color: #d75f00; text-decoration-color: #d75f00\">[VH130] 7 processes access 17 files within 1 time period (44) across 139 I/O operations and have an I/O </span>   │\n",
       "│      <span style=\"color: #d75f00; text-decoration-color: #d75f00\">time of 0.21 seconds which is 7.74% of overall I/O time of the workload.</span>                                   │\n",
       "│      ├── <span style=\"color: #d75f00; text-decoration-color: #d75f00\">[Excessive metadata access] Overall 88.98% (0.19 seconds) of I/O time is spent on metadata access, </span>    │\n",
       "│      │   <span style=\"color: #d75f00; text-decoration-color: #d75f00\">specifically 75.59% (0.16 seconds) on the 'open' operation.</span>                                            │\n",
       "│      ├── <span style=\"color: #d75f00; text-decoration-color: #d75f00\">[Operation imbalance] 'read' operations are 21.58% (30 operations) of total I/O operations.</span>            │\n",
       "│      └── <span style=\"color: #d75f00; text-decoration-color: #d75f00\">[Size imbalance] 'read' size is 100.00% (192.11 kiB) of total I/O size.</span>                                │\n",
       "│  Process&gt;File View (1 bottleneck with 0 reasons)                                                                │\n",
       "│  └── <span style=\"color: #d70000; text-decoration-color: #d70000\">[CR131] 9 processes access 1 file (4122024983496710656) within 2 time periods across 27 I/O operations </span>    │\n",
       "│      <span style=\"color: #d70000; text-decoration-color: #d70000\">and have an I/O time of 0.28 seconds which is 10.18% of overall I/O time of the workload.</span>                  │\n",
       "│      └── <span style=\"color: #d70000; text-decoration-color: #d70000\">[Excessive metadata access] No reason found, investigation needed!</span>                                     │\n",
       "│  Time&gt;File&gt;Process View (4 bottlenecks with 0 reasons)                                                          │\n",
       "│  ├── <span style=\"color: #d70000; text-decoration-color: #d70000\">[CR132] 1 process (app#3206708581496198598#308724#308907) accesses 2 files within 1 time period across 3 </span>  │\n",
       "│  │   <span style=\"color: #d70000; text-decoration-color: #d70000\">I/O operations and has an I/O time of 0.26 seconds which is 9.32% of overall I/O time of the workload.</span>     │\n",
       "│  │   └── <span style=\"color: #d70000; text-decoration-color: #d70000\">[Excessive metadata access] No reason found, investigation needed!</span>                                     │\n",
       "│  └── (3 more)                                                                                                   │\n",
       "│  Time&gt;Process&gt;File View (1 bottleneck with 0 reasons)                                                           │\n",
       "│  └── <span style=\"color: #d70000; text-decoration-color: #d70000\">[CR136] 2 processes access 1 file (4122024983496710656) within 1 time period across 4 I/O operations and </span>  │\n",
       "│      <span style=\"color: #d70000; text-decoration-color: #d70000\">have an I/O time of 0.28 seconds which is 10.18% of overall I/O time of the workload.</span>                      │\n",
       "│      └── <span style=\"color: #d70000; text-decoration-color: #d70000\">[Excessive metadata access] No reason found, investigation needed!</span>                                     │\n",
       "│  File&gt;Time&gt;Process View (1 bottleneck with 0 reasons)                                                           │\n",
       "│  └── <span style=\"color: #d70000; text-decoration-color: #d70000\">[CR137] 1 process (app#12775585946864612109#673631#673631) accesses 2 files within 1 time period across 4</span>  │\n",
       "│      <span style=\"color: #d70000; text-decoration-color: #d70000\">I/O operations and has an I/O time of 0.02 seconds which is 0.85% of overall I/O time of the workload.</span>     │\n",
       "│      └── <span style=\"color: #d70000; text-decoration-color: #d70000\">[Excessive metadata access] No reason found, investigation needed!</span>                                     │\n",
       "│  File&gt;Process&gt;Time View (1 bottleneck with 3 reasons)                                                           │\n",
       "│  └── <span style=\"color: #d7d700; text-decoration-color: #d7d700\">[MD138] 1 process accesses 2 files within 1 time period (44) across 14 I/O operations and has an I/O time</span>  │\n",
       "│      <span style=\"color: #d7d700; text-decoration-color: #d7d700\">of 0.03 seconds which is 1.15% of overall I/O time of the workload.</span>                                        │\n",
       "│      ├── <span style=\"color: #d7d700; text-decoration-color: #d7d700\">[Excessive metadata access] Overall 75.81% (0.02 seconds) of I/O time is spent on metadata access, </span>    │\n",
       "│      │   <span style=\"color: #d7d700; text-decoration-color: #d7d700\">specifically 51.19% (0.02 seconds) on the 'open' operation.</span>                                            │\n",
       "│      ├── <span style=\"color: #d7d700; text-decoration-color: #d7d700\">[Operation imbalance] 'read' operations are 28.57% (4 operations) of total I/O operations.</span>             │\n",
       "│      └── <span style=\"color: #d7d700; text-decoration-color: #d7d700\">[Size imbalance] 'read' size is 100.00% (20.23 kiB) of total I/O size.</span>                                 │\n",
       "│  Process&gt;Time&gt;File View (1 bottleneck with 3 reasons)                                                           │\n",
       "│  └── <span style=\"color: #d70000; text-decoration-color: #d70000\">[CR139] 2 processes access 1 file (2281500865640454144) within 1 time period across 9 I/O operations and </span>  │\n",
       "│      <span style=\"color: #d70000; text-decoration-color: #d70000\">have an I/O time of 0.12 seconds which is 4.50% of overall I/O time of the workload.</span>                       │\n",
       "│      ├── <span style=\"color: #d70000; text-decoration-color: #d70000\">[Excessive metadata access] Overall 100.00% (0.12 seconds) of I/O time is spent on metadata access, </span>   │\n",
       "│      │   <span style=\"color: #d70000; text-decoration-color: #d70000\">specifically 93.62% (0.12 seconds) on the 'open' operation.</span>                                            │\n",
       "│      ├── <span style=\"color: #d70000; text-decoration-color: #d70000\">[Operation imbalance] 'read' operations are 22.22% (2 operations) of total I/O operations.</span>             │\n",
       "│      └── <span style=\"color: #d70000; text-decoration-color: #d70000\">[Size imbalance] 'read' size is 100.00% (10.99 kiB) of total I/O size.</span>                                 │\n",
       "│  Process&gt;File&gt;Time View (1 bottleneck with 0 reasons)                                                           │\n",
       "│  └── <span style=\"color: #d7d700; text-decoration-color: #d7d700\">[MD140] 7 processes access 1 file within 1 time period (45) across 18 I/O operations and have an I/O time</span>  │\n",
       "│      <span style=\"color: #d7d700; text-decoration-color: #d7d700\">of 0.28 seconds which is 10.18% of overall I/O time of the workload.</span>                                       │\n",
       "│      └── <span style=\"color: #d7d700; text-decoration-color: #d7d700\">[Excessive metadata access] No reason found, investigation needed!</span>                                     │\n",
       "│                                                                                                                 │\n",
       "╰─────────────────────────────────────────────────────────────────────────────────────────────────────────────────╯\n",
       "</pre>\n"
      ],
      "text/plain": [
       "╭────────────────────────────────────────────── I/O Characteristics ──────────────────────────────────────────────╮\n",
       "│                                                                                                                 │\n",
       "│ \u001b[36m \u001b[0m\u001b[36mRuntime        \u001b[0m\u001b[36m \u001b[0m 51.55 seconds                                                                                 │\n",
       "│ \u001b[36m \u001b[0m\u001b[36mI/O Time       \u001b[0m\u001b[36m \u001b[0m 2.75 seconds                                                                                  │\n",
       "│ \u001b[36m                 \u001b[0m ├── Read - 0.26 seconds (9.44%)                                                               │\n",
       "│ \u001b[36m                 \u001b[0m ├── Write - 0.00 seconds (0.02%)                                                              │\n",
       "│ \u001b[36m                 \u001b[0m └── Metadata - 2.50 seconds (90.83%)                                                          │\n",
       "│ \u001b[36m \u001b[0m\u001b[36mI/O Operations \u001b[0m\u001b[36m \u001b[0m 10,366,437 ops                                                                                │\n",
       "│ \u001b[36m                 \u001b[0m ├── Read - 267,648 ops (2.58%)                                                                │\n",
       "│ \u001b[36m                 \u001b[0m ├── Write - 4,003 ops (0.04%)                                                                 │\n",
       "│ \u001b[36m                 \u001b[0m └── Metadata - 10,056,898 ops (97.01%)                                                        │\n",
       "│ \u001b[36m \u001b[0m\u001b[36mI/O Size       \u001b[0m\u001b[36m \u001b[0m 715.55 MiB                                                                                    │\n",
       "│ \u001b[36m                 \u001b[0m ├── Read - 715.38 MiB (99.98%)                                                                │\n",
       "│ \u001b[36m                 \u001b[0m └── Write - 175.93 kiB (0.02%)                                                                │\n",
       "│ \u001b[36m \u001b[0m\u001b[36mRead Requests  \u001b[0m\u001b[36m \u001b[0m 4 kiB-64 kiB - 267,130 ops                                                                    │\n",
       "│ \u001b[36m                 \u001b[0m ├── <4 kiB - 191,005 ops (71.50%)                                                             │\n",
       "│ \u001b[36m                 \u001b[0m ├── 4-16 kiB - 33,033 ops (12.37%)                                                            │\n",
       "│ \u001b[36m                 \u001b[0m └── 16-64 kiB - 43,092 ops (16.13%)                                                           │\n",
       "│ \u001b[36m \u001b[0m\u001b[36mWrite Requests \u001b[0m\u001b[36m \u001b[0m 4 kiB-4 kiB - 4,003 ops                                                                       │\n",
       "│ \u001b[36m                 \u001b[0m └── <4 kiB - 4,003 ops (100.00%)                                                              │\n",
       "│ \u001b[36m \u001b[0m\u001b[36mNodes          \u001b[0m\u001b[36m \u001b[0m 16 nodes                                                                                      │\n",
       "│ \u001b[36m                 \u001b[0m ├── 16317731584986882421 - 2.75 s (100.00%) - 44.71 MiB/10.56 kiB R/W (6.25/0.00%) - 647,899  │\n",
       "│ \u001b[36m                 \u001b[0m │   ops (6.25%)                                                                               │\n",
       "│ \u001b[36m                 \u001b[0m ├── 1995665909820648179 - 2.71 s (98.67%) - 44.72 MiB/10.56 kiB R/W (6.25/0.00%) - 647,899    │\n",
       "│ \u001b[36m                 \u001b[0m │   ops (6.25%)                                                                               │\n",
       "│ \u001b[36m                 \u001b[0m ├── 3084974796030094918 - 2.71 s (98.46%) - 44.70 MiB/10.56 kiB R/W (6.25/0.00%) - 647,899    │\n",
       "│ \u001b[36m                 \u001b[0m │   ops (6.25%)                                                                               │\n",
       "│ \u001b[36m                 \u001b[0m ├── 13943161580101246997 - 2.71 s (98.38%) - 44.71 MiB/10.56 kiB R/W (6.25/0.00%) - 647,908   │\n",
       "│ \u001b[36m                 \u001b[0m │   ops (6.25%)                                                                               │\n",
       "│ \u001b[36m                 \u001b[0m ├── 12578331172924968642 - 2.70 s (98.30%) - 44.72 MiB/10.56 kiB R/W (6.25/0.00%) - 647,898   │\n",
       "│ \u001b[36m                 \u001b[0m │   ops (6.25%)                                                                               │\n",
       "│ \u001b[36m                 \u001b[0m ├── 4805284303638872715 - 2.68 s (97.59%) - 44.72 MiB/10.56 kiB R/W (6.25/0.00%) - 647,899    │\n",
       "│ \u001b[36m                 \u001b[0m │   ops (6.25%)                                                                               │\n",
       "│ \u001b[36m                 \u001b[0m ├── 17424505939907203644 - 2.68 s (97.56%) - 44.71 MiB/10.56 kiB R/W (6.25/0.00%) - 647,897   │\n",
       "│ \u001b[36m                 \u001b[0m │   ops (6.25%)                                                                               │\n",
       "│ \u001b[36m                 \u001b[0m ├── 3206708581496198598 - 2.68 s (97.42%) - 44.71 MiB/10.56 kiB R/W (6.25/0.00%) - 647,899    │\n",
       "│ \u001b[36m                 \u001b[0m │   ops (6.25%)                                                                               │\n",
       "│ \u001b[36m                 \u001b[0m ├── 6968018510730723892 - 2.68 s (97.42%) - 44.72 MiB/10.56 kiB R/W (6.25/0.00%) - 647,899    │\n",
       "│ \u001b[36m                 \u001b[0m │   ops (6.25%)                                                                               │\n",
       "│ \u001b[36m                 \u001b[0m ├── 15461096182755994450 - 2.68 s (97.41%) - 44.72 MiB/17.50 kiB R/W (6.25/0.00%) - 647,940   │\n",
       "│ \u001b[36m                 \u001b[0m │   ops (6.25%)                                                                               │\n",
       "│ \u001b[36m                 \u001b[0m ├── 784840397337378243 - 2.68 s (97.38%) - 44.71 MiB/10.56 kiB R/W (6.25/0.00%) - 647,899     │\n",
       "│ \u001b[36m                 \u001b[0m │   ops (6.25%)                                                                               │\n",
       "│ \u001b[36m                 \u001b[0m ├── 14200274195875936004 - 2.67 s (97.18%) - 44.72 MiB/10.56 kiB R/W (6.25/0.00%) - 647,899   │\n",
       "│ \u001b[36m                 \u001b[0m │   ops (6.25%)                                                                               │\n",
       "│ \u001b[36m                 \u001b[0m ├── 11940681009529776706 - 2.67 s (97.14%) - 44.71 MiB/10.56 kiB R/W (6.25/0.00%) - 647,899   │\n",
       "│ \u001b[36m                 \u001b[0m │   ops (6.25%)                                                                               │\n",
       "│ \u001b[36m                 \u001b[0m ├── 16718576285930604672 - 2.66 s (96.54%) - 44.71 MiB/10.56 kiB R/W (6.25/0.00%) - 647,903   │\n",
       "│ \u001b[36m                 \u001b[0m │   ops (6.25%)                                                                               │\n",
       "│ \u001b[36m                 \u001b[0m ├── 12775585946864612109 - 2.65 s (96.48%) - 44.71 MiB/10.56 kiB R/W (6.25/0.00%) - 647,901   │\n",
       "│ \u001b[36m                 \u001b[0m │   ops (6.25%)                                                                               │\n",
       "│ \u001b[36m                 \u001b[0m └── 11048751769900308354 - 2.55 s (92.62%) - 44.71 MiB/10.56 kiB R/W (6.25/0.00%) - 647,899   │\n",
       "│ \u001b[36m                 \u001b[0m     ops (6.25%)                                                                               │\n",
       "│ \u001b[36m \u001b[0m\u001b[36mApps           \u001b[0m\u001b[36m \u001b[0m 1 app                                                                                         │\n",
       "│ \u001b[36m \u001b[0m\u001b[36mProcesses/Ranks\u001b[0m\u001b[36m \u001b[0m 896 processes                                                                                 │\n",
       "│ \u001b[36m \u001b[0m\u001b[36mFiles          \u001b[0m\u001b[36m \u001b[0m 9,182 files                                                                                   │\n",
       "│ \u001b[36m                 \u001b[0m ├── Shared: 5,212 files (56.76%)                                                              │\n",
       "│ \u001b[36m                 \u001b[0m └── FPP: 3,970 files (43.24%)                                                                 │\n",
       "│ \u001b[36m \u001b[0m\u001b[36mTime Periods   \u001b[0m\u001b[36m \u001b[0m 33 time periods (Time Granularity: 1,000,000.0)                                               │\n",
       "│ \u001b[36m \u001b[0m\u001b[36mAccess Pattern \u001b[0m\u001b[36m \u001b[0m \u001b[1mSequential\u001b[0m: 271,651 ops (100.00%) - \u001b[1mRandom\u001b[0m: 0 ops (0.00%)                                     │\n",
       "│                                                                                                                 │\n",
       "╰─ \u001b[1mR\u001b[0m: Read - \u001b[1mW\u001b[0m: Write - \u001b[1mM\u001b[0m: Metadata  ─────────────────────────────────────────────────────────────────────────────╯\n",
       "                                                                                                                   \n",
       "╭────────────────────────────────────── 140 I/O Bottlenecks with 84 Reasons ──────────────────────────────────────╮\n",
       "│                                                                                                                 │\n",
       "│  Time View (1 bottleneck with 3 reasons)                                                                        │\n",
       "│  └── \u001b[38;5;160m[CR1] 627 processes access 804 files within 1 time period (45) across 51,694 I/O operations and have an \u001b[0m   │\n",
       "│      \u001b[38;5;160mI/O time of 0.53 seconds which is 19.23% of overall I/O time of the workload.\u001b[0m                              │\n",
       "│      ├── \u001b[38;5;160m[Excessive metadata access] Overall 99.98% (0.53 seconds) of I/O time is spent on metadata access, \u001b[0m    │\n",
       "│      │   \u001b[38;5;160mspecifically 57.12% (0.30 seconds) on the 'open' operation.\u001b[0m                                            │\n",
       "│      ├── \u001b[38;5;160m[Operation imbalance] 'read' operations are 13.14% (6,794 operations) of total I/O operations.\u001b[0m         │\n",
       "│      └── \u001b[38;5;160m[Size imbalance] 'read' size is 100.00% (48.97 MiB) of total I/O size.\u001b[0m                                 │\n",
       "│  File View (93 bottlenecks with 13 reasons)                                                                     │\n",
       "│  ├── \u001b[38;5;160m[CR2] 1 process accesses 1 file (15155830501235021824) within 1 time period across 1 I/O operation and \u001b[0m    │\n",
       "│  │   \u001b[38;5;160mhas an I/O time of 0.02 seconds which is 0.85% of overall I/O time of the workload.\u001b[0m                        │\n",
       "│  │   └── \u001b[38;5;160m[Excessive metadata access] No reason found, investigation needed!\u001b[0m                                     │\n",
       "│  └── (92 more)                                                                                                  │\n",
       "│  Process View (9 bottlenecks with 18 reasons)                                                                   │\n",
       "│  ├── \u001b[38;5;160m[CR95] 1 process (app#4805284303638872715#1925230#1925428) accesses 58 files within 4 time periods across\u001b[0m  │\n",
       "│  │   \u001b[38;5;160m434 I/O operations and has an I/O time of 0.59 seconds which is 21.56% of overall I/O time of the \u001b[0m         │\n",
       "│  │   \u001b[38;5;160mworkload.\u001b[0m                                                                                                  │\n",
       "│  │   ├── \u001b[38;5;160m[Excessive metadata access] Overall 96.02% (0.57 seconds) of I/O time is spent on metadata access, \u001b[0m    │\n",
       "│  │   │   \u001b[38;5;160mspecifically 80.34% (0.48 seconds) on the 'open' operation.\u001b[0m                                            │\n",
       "│  │   └── \u001b[38;5;160m[Size imbalance] 'read' size is 100.00% (149.61 kiB) of total I/O size.\u001b[0m                                │\n",
       "│  └── (8 more)                                                                                                   │\n",
       "│  Time>File View (9 bottlenecks with 0 reasons)                                                                  │\n",
       "│  ├── \u001b[38;5;160m[CR104] 175 processes access 1 file (6952528268796599296) within 1 time period across 347 I/O operations \u001b[0m  │\n",
       "│  │   \u001b[38;5;160mand have an I/O time of 0.27 seconds which is 9.82% of overall I/O time of the workload.\u001b[0m                   │\n",
       "│  │   └── \u001b[38;5;160m[Excessive metadata access] No reason found, investigation needed!\u001b[0m                                     │\n",
       "│  └── (8 more)                                                                                                   │\n",
       "│  Time>Process View (7 bottlenecks with 16 reasons)                                                              │\n",
       "│  ├── \u001b[38;5;160m[CR113] 1 process (app#784840397337378243#304015#305288) accesses 10 files within 1 time period across 13\u001b[0m  │\n",
       "│  │   \u001b[38;5;160mI/O operations and has an I/O time of 0.26 seconds which is 9.35% of overall I/O time of the workload.\u001b[0m     │\n",
       "│  │   └── \u001b[38;5;160m[Excessive metadata access] Overall 100.00% (0.26 seconds) of I/O time is spent on metadata access, \u001b[0m   │\n",
       "│  │       \u001b[38;5;160mspecifically 99.95% (0.26 seconds) on the 'open' operation.\u001b[0m                                            │\n",
       "│  └── (6 more)                                                                                                   │\n",
       "│  File>Time View (1 bottleneck with 0 reasons)                                                                   │\n",
       "│  └── \u001b[38;5;166m[VH120] 128 processes access 2 files within 1 time period (1) across 385 I/O operations and have an I/O \u001b[0m   │\n",
       "│      \u001b[38;5;166mtime of 0.02 seconds which is 0.85% of overall I/O time of the workload.\u001b[0m                                   │\n",
       "│      └── \u001b[38;5;166m[Excessive metadata access] No reason found, investigation needed!\u001b[0m                                     │\n",
       "│  File>Process View (9 bottlenecks with 25 reasons)                                                              │\n",
       "│  ├── \u001b[38;5;160m[CR121] 1 process (app#6968018510730723892#1970805#1970998) accesses 9 files within 2 time periods across\u001b[0m  │\n",
       "│  │   \u001b[38;5;160m45 I/O operations and has an I/O time of 0.51 seconds which is 18.69% of overall I/O time of the \u001b[0m          │\n",
       "│  │   \u001b[38;5;160mworkload.\u001b[0m                                                                                                  │\n",
       "│  │   ├── \u001b[38;5;160m[Excessive metadata access] Overall 99.99% (0.51 seconds) of I/O time is spent on metadata access, \u001b[0m    │\n",
       "│  │   │   \u001b[38;5;160mspecifically 46.63% (0.24 seconds) on the 'open' operation.\u001b[0m                                            │\n",
       "│  │   ├── \u001b[38;5;160m[Operation imbalance] 'read' operations are 15.56% (7 operations) of total I/O operations.\u001b[0m             │\n",
       "│  │   └── \u001b[38;5;160m[Size imbalance] 'read' size is 100.00% (25.95 kiB) of total I/O size.\u001b[0m                                 │\n",
       "│  └── (8 more)                                                                                                   │\n",
       "│  Process>Time View (1 bottleneck with 3 reasons)                                                                │\n",
       "│  └── \u001b[38;5;166m[VH130] 7 processes access 17 files within 1 time period (44) across 139 I/O operations and have an I/O \u001b[0m   │\n",
       "│      \u001b[38;5;166mtime of 0.21 seconds which is 7.74% of overall I/O time of the workload.\u001b[0m                                   │\n",
       "│      ├── \u001b[38;5;166m[Excessive metadata access] Overall 88.98% (0.19 seconds) of I/O time is spent on metadata access, \u001b[0m    │\n",
       "│      │   \u001b[38;5;166mspecifically 75.59% (0.16 seconds) on the 'open' operation.\u001b[0m                                            │\n",
       "│      ├── \u001b[38;5;166m[Operation imbalance] 'read' operations are 21.58% (30 operations) of total I/O operations.\u001b[0m            │\n",
       "│      └── \u001b[38;5;166m[Size imbalance] 'read' size is 100.00% (192.11 kiB) of total I/O size.\u001b[0m                                │\n",
       "│  Process>File View (1 bottleneck with 0 reasons)                                                                │\n",
       "│  └── \u001b[38;5;160m[CR131] 9 processes access 1 file (4122024983496710656) within 2 time periods across 27 I/O operations \u001b[0m    │\n",
       "│      \u001b[38;5;160mand have an I/O time of 0.28 seconds which is 10.18% of overall I/O time of the workload.\u001b[0m                  │\n",
       "│      └── \u001b[38;5;160m[Excessive metadata access] No reason found, investigation needed!\u001b[0m                                     │\n",
       "│  Time>File>Process View (4 bottlenecks with 0 reasons)                                                          │\n",
       "│  ├── \u001b[38;5;160m[CR132] 1 process (app#3206708581496198598#308724#308907) accesses 2 files within 1 time period across 3 \u001b[0m  │\n",
       "│  │   \u001b[38;5;160mI/O operations and has an I/O time of 0.26 seconds which is 9.32% of overall I/O time of the workload.\u001b[0m     │\n",
       "│  │   └── \u001b[38;5;160m[Excessive metadata access] No reason found, investigation needed!\u001b[0m                                     │\n",
       "│  └── (3 more)                                                                                                   │\n",
       "│  Time>Process>File View (1 bottleneck with 0 reasons)                                                           │\n",
       "│  └── \u001b[38;5;160m[CR136] 2 processes access 1 file (4122024983496710656) within 1 time period across 4 I/O operations and \u001b[0m  │\n",
       "│      \u001b[38;5;160mhave an I/O time of 0.28 seconds which is 10.18% of overall I/O time of the workload.\u001b[0m                      │\n",
       "│      └── \u001b[38;5;160m[Excessive metadata access] No reason found, investigation needed!\u001b[0m                                     │\n",
       "│  File>Time>Process View (1 bottleneck with 0 reasons)                                                           │\n",
       "│  └── \u001b[38;5;160m[CR137] 1 process (app#12775585946864612109#673631#673631) accesses 2 files within 1 time period across 4\u001b[0m  │\n",
       "│      \u001b[38;5;160mI/O operations and has an I/O time of 0.02 seconds which is 0.85% of overall I/O time of the workload.\u001b[0m     │\n",
       "│      └── \u001b[38;5;160m[Excessive metadata access] No reason found, investigation needed!\u001b[0m                                     │\n",
       "│  File>Process>Time View (1 bottleneck with 3 reasons)                                                           │\n",
       "│  └── \u001b[38;5;184m[MD138] 1 process accesses 2 files within 1 time period (44) across 14 I/O operations and has an I/O time\u001b[0m  │\n",
       "│      \u001b[38;5;184mof 0.03 seconds which is 1.15% of overall I/O time of the workload.\u001b[0m                                        │\n",
       "│      ├── \u001b[38;5;184m[Excessive metadata access] Overall 75.81% (0.02 seconds) of I/O time is spent on metadata access, \u001b[0m    │\n",
       "│      │   \u001b[38;5;184mspecifically 51.19% (0.02 seconds) on the 'open' operation.\u001b[0m                                            │\n",
       "│      ├── \u001b[38;5;184m[Operation imbalance] 'read' operations are 28.57% (4 operations) of total I/O operations.\u001b[0m             │\n",
       "│      └── \u001b[38;5;184m[Size imbalance] 'read' size is 100.00% (20.23 kiB) of total I/O size.\u001b[0m                                 │\n",
       "│  Process>Time>File View (1 bottleneck with 3 reasons)                                                           │\n",
       "│  └── \u001b[38;5;160m[CR139] 2 processes access 1 file (2281500865640454144) within 1 time period across 9 I/O operations and \u001b[0m  │\n",
       "│      \u001b[38;5;160mhave an I/O time of 0.12 seconds which is 4.50% of overall I/O time of the workload.\u001b[0m                       │\n",
       "│      ├── \u001b[38;5;160m[Excessive metadata access] Overall 100.00% (0.12 seconds) of I/O time is spent on metadata access, \u001b[0m   │\n",
       "│      │   \u001b[38;5;160mspecifically 93.62% (0.12 seconds) on the 'open' operation.\u001b[0m                                            │\n",
       "│      ├── \u001b[38;5;160m[Operation imbalance] 'read' operations are 22.22% (2 operations) of total I/O operations.\u001b[0m             │\n",
       "│      └── \u001b[38;5;160m[Size imbalance] 'read' size is 100.00% (10.99 kiB) of total I/O size.\u001b[0m                                 │\n",
       "│  Process>File>Time View (1 bottleneck with 0 reasons)                                                           │\n",
       "│  └── \u001b[38;5;184m[MD140] 7 processes access 1 file within 1 time period (45) across 18 I/O operations and have an I/O time\u001b[0m  │\n",
       "│      \u001b[38;5;184mof 0.28 seconds which is 10.18% of overall I/O time of the workload.\u001b[0m                                       │\n",
       "│      └── \u001b[38;5;184m[Excessive metadata access] No reason found, investigation needed!\u001b[0m                                     │\n",
       "│                                                                                                                 │\n",
       "╰─────────────────────────────────────────────────────────────────────────────────────────────────────────────────╯\n"
      ]
     },
     "metadata": {},
     "output_type": "display_data"
    },
    {
     "name": "stdout",
     "output_type": "stream",
     "text": [
      "time: 10.4 s (started: 2024-10-09 17:02:50 -07:00)\n"
     ]
    }
   ],
   "source": [
    "output.handle_result(metrics=cfg.metrics, result=result)"
   ]
  },
  {
   "cell_type": "code",
   "execution_count": null,
   "id": "4d51308f",
   "metadata": {
    "papermill": {
     "duration": 0.007594,
     "end_time": "2024-10-10T00:03:00.489911",
     "exception": false,
     "start_time": "2024-10-10T00:03:00.482317",
     "status": "completed"
    },
    "tags": []
   },
   "outputs": [],
   "source": []
  }
 ],
 "metadata": {
  "kernelspec": {
   "display_name": "venv-corona",
   "language": "python",
   "name": "python3"
  },
  "language_info": {
   "codemirror_mode": {
    "name": "ipython",
    "version": 3
   },
   "file_extension": ".py",
   "mimetype": "text/x-python",
   "name": "python",
   "nbconvert_exporter": "python",
   "pygments_lexer": "ipython3",
   "version": "3.9.12"
  },
  "papermill": {
   "default_parameters": {},
   "duration": 291.901623,
   "end_time": "2024-10-10T00:03:03.124739",
   "environment_variables": {},
   "exception": null,
   "input_path": "analysis.ipynb",
   "output_path": "analysis-dftracer-unet3d-dlio-v100-node-16-v2.ipynb",
   "parameters": {
    "analyzer": "dftracer",
    "checkpoint": true,
    "checkpoint_dir": "/usr/workspace/iopp/wisio_logs/_checkpoints/dftracer-unet3d-dlio-v100-node-16-v2",
    "logical_view_types": false,
    "output_max_bottlenecks": 1,
    "output_root_only": false,
    "percentile": 0.99,
    "run_dir": ".wisio/dftracer/unet3d-dlio-v100-node-16-v2",
    "trace_path": "/p/lustre3/iopp/dftracer-traces-lfs/v1.0.5-develop/corona/unet3d/dlio-v100/node-16/v2/RAW/*.pfw.gz"
   },
   "start_time": "2024-10-09T23:58:11.223116",
   "version": "2.6.0"
  }
 },
 "nbformat": 4,
 "nbformat_minor": 5
}
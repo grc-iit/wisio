{
 "cells": [
  {
   "cell_type": "code",
   "execution_count": 743,
   "id": "94c4878e-5f85-4951-bfa4-34172db4fac2",
   "metadata": {},
   "outputs": [],
   "source": [
    "import json\n",
    "import os\n",
    "from IPython.display import Image, JSON, display"
   ]
  },
  {
   "cell_type": "code",
   "execution_count": 744,
   "id": "c41c5614-2357-4bea-8e90-795bef73f98f",
   "metadata": {},
   "outputs": [
    {
     "name": "stdout",
     "output_type": "stream",
     "text": [
      "all_scores.json        figures\t\t\t montage.ipynb\n",
      "cm1.ipynb\t       flamegraph.pl\t\t montage_metrics.json\n",
      "cm1_files.json\t       flamegraphs\t\t montage_scores.json\n",
      "cm1_metrics.json       gen_files.json\t\t requirements.txt\n",
      "darshan.ipynb\t       gen_scores.json\t\t scoring.ipynb\n",
      "dask-playground.ipynb  genome.ipynb\t\t vani-cm1.ipynb\n",
      "dask-worker-space      genome_metrics.json\t vani-demo.ipynb\n",
      "digio-run.ipynb        genome_metrics_4096.json  vani-hacc.ipynb\n",
      "digio.ipynb\t       init.ipynb\t\t vani-playground.ipynb\n"
     ]
    }
   ],
   "source": [
    "!ls"
   ]
  },
  {
   "cell_type": "code",
   "execution_count": 745,
   "id": "4d934e6e",
   "metadata": {},
   "outputs": [],
   "source": [
    "import numpy as np\n",
    "from json import JSONEncoder\n",
    "\n",
    "class NpEncoder(JSONEncoder):\n",
    "    def default(self, obj):\n",
    "        if isinstance(obj, np.integer):\n",
    "            return int(obj)\n",
    "        if isinstance(obj, np.floating):\n",
    "            return float(obj)\n",
    "        if isinstance(obj, np.ndarray):\n",
    "            return obj.tolist()\n",
    "        return super(NpEncoder, self).default(obj)"
   ]
  },
  {
   "cell_type": "code",
   "execution_count": 747,
   "id": "22ed4677",
   "metadata": {},
   "outputs": [],
   "source": [
    "depth = 5\n",
    "\n",
    "def load_metrics(metrics_dir, fg_index):\n",
    "    i = 0\n",
    "    metrics = [0] * (depth + 1)\n",
    "    metric_files = os.listdir(metrics_dir)\n",
    "    metric_files.reverse()\n",
    "#     for metric_file in os.listdir(metrics_dir):\n",
    "#         if metric_file.startswith(f\"metrics-{fg_index}\"):\n",
    "#             metrics_len = metrics_len + 1\n",
    "    for metric_file in metric_files:\n",
    "        if metric_file.startswith(f\"metrics-{fg_index}\"):\n",
    "            print(metric_file, i)\n",
    "            if fg_index == 'tmid':\n",
    "                if metric_file.endswith(f\"{i}.json\"):\n",
    "                    with open(f\"{metrics_dir}/{metric_file}\", \"r\") as file:\n",
    "                        metrics[i] = json.load(file)\n",
    "                    i = i + 1\n",
    "                    if i > depth:\n",
    "                        break\n",
    "            else:\n",
    "                with open(f\"{metrics_dir}/{metric_file}\", \"r\") as file:\n",
    "                    metrics[i] = json.load(file)\n",
    "    if fg_index == 'tmid':\n",
    "        return metrics\n",
    "#         return [item for sublist in metrics for item in sublist]\n",
    "    return metrics[0]\n",
    "#     return [item for sublist in metrics[0] for item in sublist]\n",
    "\n",
    "def load_scores(score_dir, fg_index):\n",
    "    \n",
    "    scores = [0] * (depth + 1)\n",
    "    score_files = os.listdir(score_dir)\n",
    "#     score_files.reverse()\n",
    "    i = len(score_files)\n",
    "    for score_file in score_files:\n",
    "        if score_file.startswith(f\"scores-{fg_index}\"):\n",
    "            print(score_file, i)\n",
    "            if fg_index == 'tmid':\n",
    "                if score_file.endswith(f\"{i}.json\"):\n",
    "                    with open(f\"{score_dir}/{score_file}\", \"r\") as file:\n",
    "                        scores[i] = json.load(file)\n",
    "                    i = i + 1\n",
    "                    if i > depth:\n",
    "                        break\n",
    "            else:\n",
    "                with open(f\"{score_dir}/{score_file}\", \"r\") as file:\n",
    "                    scores[i] = json.load(file)\n",
    "                        \n",
    "#             with open(f\"{score_dir}/{score_file}\", \"r\") as file:\n",
    "#                 scores[i] = json.load(file)\n",
    "#             i = i + 1\n",
    "#             if i > depth:\n",
    "#                 break\n",
    "    if fg_index == 'tmid':\n",
    "        return scores\n",
    "    return scores[0]\n"
   ]
  },
  {
   "cell_type": "code",
   "execution_count": 742,
   "id": "e3f9fc8c-75e8-4995-9abc-a7d8d251ceec",
   "metadata": {},
   "outputs": [
    {
     "name": "stdout",
     "output_type": "stream",
     "text": [
      "scores-tmid-74b3189e588fc74e05308e20ecca1710-10.json 32\n",
      "scores-tmid-74b3189e588fc74e05308e20ecca1710-9.json 32\n",
      "scores-tmid-74b3189e588fc74e05308e20ecca1710-8.json 32\n",
      "scores-tmid-74b3189e588fc74e05308e20ecca1710-7.json 32\n",
      "scores-tmid-74b3189e588fc74e05308e20ecca1710-6.json 32\n",
      "scores-tmid-74b3189e588fc74e05308e20ecca1710-5.json 32\n",
      "scores-tmid-74b3189e588fc74e05308e20ecca1710-4.json 32\n",
      "scores-tmid-74b3189e588fc74e05308e20ecca1710-3.json 32\n",
      "scores-tmid-74b3189e588fc74e05308e20ecca1710-2.json 32\n",
      "scores-tmid-74b3189e588fc74e05308e20ecca1710-1.json 32\n",
      "scores-tmid-74b3189e588fc74e05308e20ecca1710-0.json 32\n",
      "scores-proc_id-9e9fcab30fa8077b509ff82a573107c1-0.json 32\n"
     ]
    },
    {
     "ename": "IndexError",
     "evalue": "list assignment index out of range",
     "output_type": "error",
     "traceback": [
      "\u001b[0;31m---------------------------------------------------------------------------\u001b[0m",
      "\u001b[0;31mIndexError\u001b[0m                                Traceback (most recent call last)",
      "\u001b[0;32m/var/tmp/ipykernel_56446/4084879535.py\u001b[0m in \u001b[0;36m<module>\u001b[0;34m\u001b[0m\n\u001b[1;32m      1\u001b[0m \u001b[0mcm1_scores_tmid\u001b[0m \u001b[0;34m=\u001b[0m \u001b[0mload_scores\u001b[0m\u001b[0;34m(\u001b[0m\u001b[0;34m\"../vani/.digio/1668121029_cm1\"\u001b[0m\u001b[0;34m,\u001b[0m \u001b[0;34m'tmid'\u001b[0m\u001b[0;34m)\u001b[0m\u001b[0;34m\u001b[0m\u001b[0;34m\u001b[0m\u001b[0m\n\u001b[0;32m----> 2\u001b[0;31m \u001b[0mcm1_scores_proc_id\u001b[0m \u001b[0;34m=\u001b[0m \u001b[0mload_scores\u001b[0m\u001b[0;34m(\u001b[0m\u001b[0;34m\"../vani/.digio/1668121029_cm1\"\u001b[0m\u001b[0;34m,\u001b[0m \u001b[0;34m'proc_id'\u001b[0m\u001b[0;34m)\u001b[0m\u001b[0;34m\u001b[0m\u001b[0;34m\u001b[0m\u001b[0m\n\u001b[0m\u001b[1;32m      3\u001b[0m \u001b[0mcm1_scores_file_id\u001b[0m \u001b[0;34m=\u001b[0m \u001b[0mload_scores\u001b[0m\u001b[0;34m(\u001b[0m\u001b[0;34m\"../vani/.digio/1668121029_cm1\"\u001b[0m\u001b[0;34m,\u001b[0m \u001b[0;34m'file_id'\u001b[0m\u001b[0;34m)\u001b[0m\u001b[0;34m\u001b[0m\u001b[0;34m\u001b[0m\u001b[0m\n",
      "\u001b[0;32m/var/tmp/ipykernel_56446/3638073568.py\u001b[0m in \u001b[0;36mload_scores\u001b[0;34m(score_dir, fg_index)\u001b[0m\n\u001b[1;32m     46\u001b[0m             \u001b[0;32melse\u001b[0m\u001b[0;34m:\u001b[0m\u001b[0;34m\u001b[0m\u001b[0;34m\u001b[0m\u001b[0m\n\u001b[1;32m     47\u001b[0m                 \u001b[0;32mwith\u001b[0m \u001b[0mopen\u001b[0m\u001b[0;34m(\u001b[0m\u001b[0;34mf\"{score_dir}/{score_file}\"\u001b[0m\u001b[0;34m,\u001b[0m \u001b[0;34m\"r\"\u001b[0m\u001b[0;34m)\u001b[0m \u001b[0;32mas\u001b[0m \u001b[0mfile\u001b[0m\u001b[0;34m:\u001b[0m\u001b[0;34m\u001b[0m\u001b[0;34m\u001b[0m\u001b[0m\n\u001b[0;32m---> 48\u001b[0;31m                     \u001b[0mscores\u001b[0m\u001b[0;34m[\u001b[0m\u001b[0mi\u001b[0m\u001b[0;34m]\u001b[0m \u001b[0;34m=\u001b[0m \u001b[0mjson\u001b[0m\u001b[0;34m.\u001b[0m\u001b[0mload\u001b[0m\u001b[0;34m(\u001b[0m\u001b[0mfile\u001b[0m\u001b[0;34m)\u001b[0m\u001b[0;34m\u001b[0m\u001b[0;34m\u001b[0m\u001b[0m\n\u001b[0m\u001b[1;32m     49\u001b[0m \u001b[0;34m\u001b[0m\u001b[0m\n\u001b[1;32m     50\u001b[0m \u001b[0;31m#             with open(f\"{score_dir}/{score_file}\", \"r\") as file:\u001b[0m\u001b[0;34m\u001b[0m\u001b[0;34m\u001b[0m\u001b[0;34m\u001b[0m\u001b[0m\n",
      "\u001b[0;31mIndexError\u001b[0m: list assignment index out of range"
     ]
    }
   ],
   "source": [
    "cm1_scores_tmid = load_scores(\"../vani/.digio/1668121029_cm1\", 'tmid')\n",
    "cm1_scores_proc_id = load_scores(\"../vani/.digio/1668121029_cm1\", 'proc_id')\n",
    "cm1_scores_file_id = load_scores(\"../vani/.digio/1668121029_cm1\", 'file_id')\n"
   ]
  },
  {
   "cell_type": "code",
   "execution_count": 750,
   "id": "841556a6-3283-4555-847e-9dc5f18950ed",
   "metadata": {},
   "outputs": [
    {
     "name": "stdout",
     "output_type": "stream",
     "text": [
      "metrics-tmid-0.json 0\n",
      "metrics-tmid-1.json 1\n",
      "metrics-tmid-2.json 2\n",
      "metrics-tmid-3.json 3\n",
      "metrics-tmid-4.json 4\n",
      "metrics-tmid-5.json 5\n",
      "metrics-proc_id.json 0\n",
      "metrics-file_id.json 0\n"
     ]
    }
   ],
   "source": [
    "cm1_metrics_tmid = load_metrics(\"../vani/.digio/1668121029_cm1\", 'tmid')\n",
    "cm1_metrics_proc_id = load_metrics(\"../vani/.digio/1668121029_cm1\", 'proc_id')\n",
    "cm1_metrics_file_id = load_metrics(\"../vani/.digio/1668384064\", 'file_id')\n"
   ]
  },
  {
   "cell_type": "code",
   "execution_count": 769,
   "id": "b14086cd-ca52-4266-9aab-aeb935fb6f06",
   "metadata": {},
   "outputs": [
    {
     "data": {
      "text/plain": [
       "{'start': -9210576409139474804,\n",
       " 'stop': -9210576409139474804,\n",
       " 'read': {'uniq_ranks': 0,\n",
       "  'uniq_ranks_interval': '()',\n",
       "  'agg_dur': 0.0,\n",
       "  'total_io_size': 0,\n",
       "  'uniq_filenames': 0,\n",
       "  'uniq_filenames_interval': '()',\n",
       "  'bw_sum': 0.0,\n",
       "  'ops': 0,\n",
       "  'time_interval': '()'},\n",
       " 'write': {'uniq_ranks': 0,\n",
       "  'uniq_ranks_interval': '()',\n",
       "  'agg_dur': 0.0,\n",
       "  'total_io_size': 0,\n",
       "  'uniq_filenames': 0,\n",
       "  'uniq_filenames_interval': '()',\n",
       "  'bw_sum': 0.0,\n",
       "  'ops': 0,\n",
       "  'time_interval': '()'},\n",
       " 'metadata': {'uniq_ranks': 1,\n",
       "  'uniq_ranks_interval': '[5117778030848174740]',\n",
       "  'agg_dur': 0.0006430000066757202,\n",
       "  'uniq_filenames': 1,\n",
       "  'uniq_filenames_interval': '[-9210576409139474804]',\n",
       "  'ops': 1,\n",
       "  'time_interval': '[488.5]'}}"
      ]
     },
     "execution_count": 769,
     "metadata": {},
     "output_type": "execute_result"
    }
   ],
   "source": [
    "cm1_metrics_file_id[0]"
   ]
  },
  {
   "cell_type": "code",
   "execution_count": 751,
   "id": "dfa34131-8178-427e-8fc3-19f37e549935",
   "metadata": {},
   "outputs": [],
   "source": [
    "def load_global_min_max(log_dir):\n",
    "    with open(f\"{log_dir}/global.json\") as file:\n",
    "        global_min_max = json.load(file)\n",
    "        return global_min_max\n",
    "\n",
    "def min_max(metric, global_min_max):\n",
    "    # print(\"++min_max++\")\n",
    "    # print(\"metrics\", metrics)\n",
    "    # print(\"global_min_max\", global_min_max)\n",
    "    # print(\"metric\", metric)\n",
    "    # if hasattr(metric, \"__len__\"):\n",
    "    #     metric = metric[0][0]\n",
    "    time_start, time_end = tuple(global_min_max['tmid'])\n",
    "#     print(\"time_start, time_end\", time_start, time_end)\n",
    "    bw = (metric['read']['bw_sum'] + metric['write']['bw_sum']) / 1024.0 / 1024.0\n",
    "    size = (metric['read']['total_io_size'] + metric['write']['total_io_size']) / 1024.0 / 1024.0 / 1024.0\n",
    "    uniq_files = max(max(metric['read']['uniq_filenames'], metric['write']['uniq_filenames']),\n",
    "                     metric['metadata']['uniq_filenames'])\n",
    "    uniq_ranks = max(max(metric['read']['uniq_ranks'], metric['write']['uniq_ranks']),\n",
    "                     metric['metadata']['uniq_ranks'])\n",
    "    return {\n",
    "        'size': (0, size),\n",
    "        'time': ((time_start * 1.0 / 1e7) / uniq_ranks, (time_end * 1.0 / 1e7) / uniq_ranks),\n",
    "        'ops': (0, metric['read']['ops'] + metric['write']['ops'] + metric['metadata']['ops']),\n",
    "        'files': (0, uniq_files),\n",
    "        'bw': (0, bw),\n",
    "        'parallelism': (0, uniq_ranks),\n",
    "        'xfer': (0, 16)\n",
    "    }"
   ]
  },
  {
   "cell_type": "code",
   "execution_count": 752,
   "id": "acbff9bb-47ba-478b-8200-7d0d1beadafc",
   "metadata": {},
   "outputs": [
    {
     "data": {
      "text/plain": [
       "{'size': (0, 21.17757113277912),\n",
       " 'time': (0.0, 0.5221137496875),\n",
       " 'ops': (0, 27463),\n",
       " 'files': (0, 1547),\n",
       " 'bw': (0, 6.582580448797671),\n",
       " 'parallelism': (0, 1280),\n",
       " 'xfer': (0, 16)}"
      ]
     },
     "execution_count": 752,
     "metadata": {},
     "output_type": "execute_result"
    }
   ],
   "source": [
    "log_dir = \"/p/gpfs1/iopp/recorder_app_logs/cm1/nodes-32/workflow-4/_parquet\"\n",
    "\n",
    "global_min_max = load_global_min_max(log_dir)\n",
    "\n",
    "min_max_vals = min_max(cm1_metrics[0], global_min_max)\n",
    "\n",
    "min_max_vals"
   ]
  },
  {
   "cell_type": "code",
   "execution_count": 701,
   "id": "b0226475-7fd4-4860-b2c4-351a170f42e9",
   "metadata": {},
   "outputs": [],
   "source": [
    "import pandas as pd\n",
    "\n",
    "cm1_metrics_tmid_df = pd.json_normalize(cm1_metrics_tmid)\n",
    "cm1_metrics_proc_id_df = pd.json_normalize(cm1_metrics_proc_id)\n",
    "cm1_metrics_file_id_df = pd.json_normalize(cm1_metrics_file_id)\n"
   ]
  },
  {
   "cell_type": "code",
   "execution_count": 753,
   "id": "8198412a-dc62-4374-8451-1fd7721c264d",
   "metadata": {},
   "outputs": [],
   "source": [
    "def trans_obser(name, o):\n",
    "    return f\"{name}={o['label']} {o['value']:.5f}{o['unit']} {o['percentage']*100:.1f}%\"\n",
    "            \n",
    "def trans_score(start, stop, s):\n",
    "    obs=[]\n",
    "    for o in s:        \n",
    "        if isinstance(s[o], dict):\n",
    "            obs.append(trans_obser(o, s[o]))\n",
    "    obs.append(f\"score={s['score']*100:.1f}%\")\n",
    "    ret = \" | \".join(obs)\n",
    "    return f\"[{start}-{stop}] {ret}\"\n"
   ]
  },
  {
   "cell_type": "code",
   "execution_count": 754,
   "id": "e371910f-61eb-4577-be5d-707f8b3b803d",
   "metadata": {},
   "outputs": [],
   "source": [
    "# print(len(cm1_metrics_file_id))\n",
    "# print(len(cm1_scores_file_id))\n",
    "\n",
    "# print(len(cm1_metrics_tmid))\n",
    "# print(len(cm1_scores_tmid))\n",
    "\n",
    "def convert_scores_to_hier(raw_scores, raw_metrics):\n",
    "    scores_hier = [0] * len(raw_metrics)\n",
    "    j = 0\n",
    "    for i, metrics in enumerate(raw_metrics):\n",
    "        scores = [0] * len(metrics)\n",
    "        for m, metric in enumerate(metrics):\n",
    "            scores[m] = raw_scores[j]\n",
    "            j = j + 1\n",
    "        scores_hier[i] = scores\n",
    "    return scores_hier\n",
    "\n",
    "# cm1_scores_proc_id_hier = convert_scores_to_hier(cm1_scores_proc_id, cm1_metrics_proc_id)\n",
    "# cm1_scores_file_id_hier = convert_scores_to_hier(cm1_scores_file_id, cm1_metrics_file_id)\n",
    "\n",
    "# print(cm1_metrics_proc_id[0][0])\n",
    "# print(cm1_scores_proc_id_hier[0][0])   \n",
    "\n",
    "# print(cm1_metrics_file_id[0][0])\n",
    "# print(cm1_scores_file_id_hier[0][0])\n",
    "\n",
    "# print(len(cm1_metrics_file_id[-1]))\n",
    "# print(len(cm1_scores_file_id_hier[-30]))"
   ]
  },
  {
   "cell_type": "code",
   "execution_count": 755,
   "id": "2ab7e2ca-6d3e-4081-ad57-be82c0467b00",
   "metadata": {},
   "outputs": [
    {
     "ename": "IndexError",
     "evalue": "list index out of range",
     "output_type": "error",
     "traceback": [
      "\u001b[0;31m---------------------------------------------------------------------------\u001b[0m",
      "\u001b[0;31mIndexError\u001b[0m                                Traceback (most recent call last)",
      "\u001b[0;32m/var/tmp/ipykernel_56446/3278856630.py\u001b[0m in \u001b[0;36m<module>\u001b[0;34m\u001b[0m\n\u001b[1;32m      1\u001b[0m \u001b[0mcm1_scores_proc_id_hier\u001b[0m \u001b[0;34m=\u001b[0m \u001b[0mconvert_scores_to_hier\u001b[0m\u001b[0;34m(\u001b[0m\u001b[0mcm1_scores_proc_id\u001b[0m\u001b[0;34m,\u001b[0m \u001b[0mcm1_metrics_proc_id\u001b[0m\u001b[0;34m)\u001b[0m\u001b[0;34m\u001b[0m\u001b[0;34m\u001b[0m\u001b[0m\n\u001b[0;32m----> 2\u001b[0;31m \u001b[0mcm1_scores_file_id_hier\u001b[0m \u001b[0;34m=\u001b[0m \u001b[0mconvert_scores_to_hier\u001b[0m\u001b[0;34m(\u001b[0m\u001b[0mcm1_scores_file_id\u001b[0m\u001b[0;34m,\u001b[0m \u001b[0mcm1_metrics_file_id\u001b[0m\u001b[0;34m)\u001b[0m\u001b[0;34m\u001b[0m\u001b[0;34m\u001b[0m\u001b[0m\n\u001b[0m",
      "\u001b[0;32m/var/tmp/ipykernel_56446/2214831108.py\u001b[0m in \u001b[0;36mconvert_scores_to_hier\u001b[0;34m(raw_scores, raw_metrics)\u001b[0m\n\u001b[1;32m     11\u001b[0m         \u001b[0mscores\u001b[0m \u001b[0;34m=\u001b[0m \u001b[0;34m[\u001b[0m\u001b[0;36m0\u001b[0m\u001b[0;34m]\u001b[0m \u001b[0;34m*\u001b[0m \u001b[0mlen\u001b[0m\u001b[0;34m(\u001b[0m\u001b[0mmetrics\u001b[0m\u001b[0;34m)\u001b[0m\u001b[0;34m\u001b[0m\u001b[0;34m\u001b[0m\u001b[0m\n\u001b[1;32m     12\u001b[0m         \u001b[0;32mfor\u001b[0m \u001b[0mm\u001b[0m\u001b[0;34m,\u001b[0m \u001b[0mmetric\u001b[0m \u001b[0;32min\u001b[0m \u001b[0menumerate\u001b[0m\u001b[0;34m(\u001b[0m\u001b[0mmetrics\u001b[0m\u001b[0;34m)\u001b[0m\u001b[0;34m:\u001b[0m\u001b[0;34m\u001b[0m\u001b[0;34m\u001b[0m\u001b[0m\n\u001b[0;32m---> 13\u001b[0;31m             \u001b[0mscores\u001b[0m\u001b[0;34m[\u001b[0m\u001b[0mm\u001b[0m\u001b[0;34m]\u001b[0m \u001b[0;34m=\u001b[0m \u001b[0mraw_scores\u001b[0m\u001b[0;34m[\u001b[0m\u001b[0mj\u001b[0m\u001b[0;34m]\u001b[0m\u001b[0;34m\u001b[0m\u001b[0;34m\u001b[0m\u001b[0m\n\u001b[0m\u001b[1;32m     14\u001b[0m             \u001b[0mj\u001b[0m \u001b[0;34m=\u001b[0m \u001b[0mj\u001b[0m \u001b[0;34m+\u001b[0m \u001b[0;36m1\u001b[0m\u001b[0;34m\u001b[0m\u001b[0;34m\u001b[0m\u001b[0m\n\u001b[1;32m     15\u001b[0m         \u001b[0mscores_hier\u001b[0m\u001b[0;34m[\u001b[0m\u001b[0mi\u001b[0m\u001b[0;34m]\u001b[0m \u001b[0;34m=\u001b[0m \u001b[0mscores\u001b[0m\u001b[0;34m\u001b[0m\u001b[0;34m\u001b[0m\u001b[0m\n",
      "\u001b[0;31mIndexError\u001b[0m: list index out of range"
     ]
    }
   ],
   "source": [
    "cm1_scores_proc_id_hier = convert_scores_to_hier(cm1_scores_proc_id, cm1_metrics_proc_id)\n",
    "cm1_scores_file_id_hier = convert_scores_to_hier(cm1_scores_file_id, cm1_metrics_file_id)\n"
   ]
  },
  {
   "cell_type": "code",
   "execution_count": 756,
   "id": "535ee8d5",
   "metadata": {},
   "outputs": [],
   "source": [
    "from anytree import AnyNode, RenderTree\n",
    "\n",
    "def convert_to_nodes(scores_hier, skip=0, depth=0):\n",
    "    read_nodes = [0] * (len(scores_hier) - skip)\n",
    "    write_nodes = [0] * (len(scores_hier) - skip)\n",
    "    metadata_nodes = [0] * (len(scores_hier) - skip)\n",
    "    \n",
    "#     print(len(read_nodes))\n",
    "\n",
    "    i = 0\n",
    "    for s, scores in enumerate(scores_hier):\n",
    "        \n",
    "        if s < skip:            \n",
    "            continue\n",
    "\n",
    "        read_nodes[i] = [0] * len(scores)\n",
    "        write_nodes[i] = [0] * len(scores)\n",
    "        metadata_nodes[i] = [0] * len(scores)\n",
    "\n",
    "        read_parent = None\n",
    "        write_parent = None\n",
    "        metadata_parent = None\n",
    "        k = 0\n",
    "\n",
    "        for j, score in enumerate(scores):\n",
    "\n",
    "            start, stop = score['start'], score['stop']\n",
    "            read_score, write_score, metadata_score = score['read'], score['write'], score['metadata']\n",
    "\n",
    "            if i > 0 and j % 2 == 0:\n",
    "                read_parent = read_nodes[i-1][k]\n",
    "                write_parent = write_nodes[i-1][k]\n",
    "                metadata_parent = metadata_nodes[i-1][k]\n",
    "                k = k + 1\n",
    "\n",
    "            read_nodes[i][j] = AnyNode(id=f\"read-{start}-{stop}\", parent=read_parent, start=start, stop=stop,\n",
    "                                       score=read_score, trans=trans_score(start, stop, read_score))\n",
    "            write_nodes[i][j] = AnyNode(id=f\"write-{start}-{stop}\", parent=write_parent, start=start, stop=stop,\n",
    "                                        score=write_score, trans=trans_score(start, stop, write_score))\n",
    "            metadata_nodes[i][j] = AnyNode(id=f\"metadata-{start}-{stop}\", parent=metadata_parent, start=start,\n",
    "                                           stop=stop, score=metadata_score, trans=trans_score(start, stop, metadata_score))\n",
    "\n",
    "        i = i + 1\n",
    "            \n",
    "        if depth > 0 and i > depth:\n",
    "            break\n",
    "            \n",
    "    return read_nodes, write_nodes, metadata_nodes\n",
    "\n",
    "def render_scores(fg_index, read_nodes, write_nodes, metadata_nodes, obs, percentage):\n",
    "    \n",
    "    read_node_root = AnyNode(id='read-root', children=[read_nodes[0][0]], trans='read')\n",
    "    write_node_root = AnyNode(id='write-root', children=[write_nodes[0][0]], trans='write')\n",
    "    metadata_node_root = AnyNode(id='metadata-root', children=[metadata_nodes[0][0]], trans='metadata')\n",
    "    root = AnyNode(id='root', children=[read_node_root,write_node_root,metadata_node_root], trans='timeline')\n",
    "\n",
    "#     def mysort(items):\n",
    "#         print(items)\n",
    "#         if len(items) == 3:\n",
    "#             return items\n",
    "#         return sorted(items, key=lambda item: item.score[obs]['percentage'], reverse=True)\n",
    "    \n",
    "    for pre, fill, node in RenderTree(root):\n",
    "        \n",
    "        if hasattr(node, 'score'):\n",
    "            if obs in node.score and (node.score[obs]['percentage'] * 100) >= percentage:\n",
    "                print(\"%s%s\" % (pre, node.trans))\n",
    "                if fg_index == 'tmid':\n",
    "                    for i, metrics in enumerate(cm1_metrics_tmid):\n",
    "                        for j, metric in enumerate(metrics):\n",
    "                            if metric['start'] == node.start and metric['stop'] == node.stop:\n",
    "                                grp = 'read'\n",
    "                                if node.id.startswith('write'):\n",
    "                                    grp = 'write'\n",
    "                                elif node.id.startswith('metadata'):\n",
    "                                    grp = 'metadata'\n",
    "                                for attr in ['uniq_ranks', 'uniq_ranks_interval', 'uniq_filenames', 'uniq_filenames_interval']:\n",
    "                                    print(\"%s%s=%s\" % (fill, attr, metric[grp][attr]))\n",
    "#                 elif fg_index == 'proc_id':\n",
    "#                     for i, metrics in enumerate(cm1_metrics_proc_id_hier):\n",
    "#                         for j, metric in enumerate(metrics):\n",
    "#                             if metric['start'] == node.start and metric['stop'] == node.stop:\n",
    "#                                 grp = 'read'\n",
    "#                                 if node.id.startswith('write'):\n",
    "#                                     grp = 'write'\n",
    "#                                 elif node.id.startswith('metadata'):\n",
    "#                                     grp = 'metadata'\n",
    "#                                 for attr in ['uniq_ranks', 'uniq_ranks_interval', 'uniq_filenames', 'uniq_filenames_interval']:\n",
    "#                                     print(\"%s%s=%s\" % (fill, attr, metric[grp][attr]))\n",
    "        else:\n",
    "            print(\"%s%s\" % (pre, node.trans))\n",
    "    \n",
    "#     print(RenderTree(root).by_attr('trans'))\n"
   ]
  },
  {
   "cell_type": "markdown",
   "id": "c59a26c2-c38e-4cac-999a-caafbe845a36",
   "metadata": {},
   "source": [
    "### I/O Time (>30%)"
   ]
  },
  {
   "cell_type": "markdown",
   "id": "237a81e3-dc55-4084-9ad3-e8ec7d6f9df9",
   "metadata": {},
   "source": [
    "#### Time-based"
   ]
  },
  {
   "cell_type": "code",
   "execution_count": 725,
   "id": "eed9d49f-7cd2-4390-a41c-7a5e4faa9e44",
   "metadata": {},
   "outputs": [
    {
     "name": "stdout",
     "output_type": "stream",
     "text": [
      "timeline\n",
      "├── read\n",
      "├── write\n",
      "│   └── [0-6683056127] size=1 1.14632GB 5.4% | time=10 0.57940 111.0% | ops=1 2303.00000 8.4% | files=6 772.00000 49.9% | bw=9 1.11530MB/s 16.9% | parallelism=10 1.00000 0.1% | xfer=10 0.50970MB 3.2% | score=67.1%\n",
      "│       uniq_ranks=1\n",
      "│       uniq_ranks_interval=[5117778030848174740]\n",
      "│       uniq_filenames=772\n",
      "│       uniq_filenames_interval=[4531734244435428412,4531734248727221027]\n",
      "│       ├── [0-3341528063] size=1 0.42935GB 2.0% | time=5 0.23367 44.8% | ops=1 1103.00000 4.0% | files=8 374.00000 24.2% | bw=10 0.48240MB/s 7.3% | parallelism=10 1.00000 0.1% | xfer=10 0.39860MB 2.5% | score=64.3%\n",
      "│       │   uniq_ranks=1\n",
      "│       │   uniq_ranks_interval=[5117778030848174740]\n",
      "│       │   uniq_filenames=374\n",
      "│       │   uniq_filenames_interval=[4531734244435428412,4531734248727221027]\n",
      "│       └── [3341528064-6683056127] size=1 0.71697GB 3.4% | time=7 0.34573 66.2% | ops=1 1200.00000 4.4% | files=8 408.00000 26.4% | bw=10 0.63290MB/s 9.6% | parallelism=10 1.00000 0.1% | xfer=10 0.61182MB 3.8% | score=67.1%\n",
      "│           uniq_ranks=1\n",
      "│           uniq_ranks_interval=[5117778030848174740]\n",
      "│           uniq_filenames=408\n",
      "│           uniq_filenames_interval=[4531734244436746973,4531734248722472348]\n",
      "│           └── [5012292096-6683056127] size=1 0.35824GB 1.7% | time=4 0.18926 36.2% | ops=1 588.00000 2.1% | files=9 205.00000 13.3% | bw=10 0.30368MB/s 4.6% | parallelism=10 1.00000 0.1% | xfer=10 0.62388MB 3.9% | score=64.3%\n",
      "│               uniq_ranks=1\n",
      "│               uniq_ranks_interval=[5117778030848174740]\n",
      "│               uniq_filenames=205\n",
      "│               uniq_filenames_interval=[4531734244455765367,4531734248722472348]\n",
      "└── metadata\n",
      "                        ├── [6265365120-6474210623] time=7 0.34334 65.8% | ops=1 374.00000 1.4% | files=10 49.00000 3.2% | parallelism=10 1.00000 0.1% | score=70.0%\n",
      "                        │   uniq_ranks=1\n",
      "                        │   uniq_ranks_interval=[5117778030848174740]\n",
      "                        │   uniq_filenames=49\n",
      "                        │   uniq_filenames_interval=[-9168195151421661530,8557651473096541745]\n"
     ]
    }
   ],
   "source": [
    "cm1_read_nodes_tmid, cm1_write_nodes_tmid, cm1_metadata_nodes_tmid = convert_to_nodes(cm1_scores_tmid)\n",
    "\n",
    "render_scores('tmid', cm1_read_nodes_tmid, cm1_write_nodes_tmid, cm1_metadata_nodes_tmid, 'time', 30)"
   ]
  },
  {
   "cell_type": "markdown",
   "id": "97a6ffa1-c082-45f2-9006-7ad678cebe09",
   "metadata": {
    "tags": []
   },
   "source": [
    "#### Process-based"
   ]
  },
  {
   "cell_type": "code",
   "execution_count": 682,
   "id": "8e079e09-d4bb-40fb-bad5-ee05c0712ae6",
   "metadata": {},
   "outputs": [
    {
     "name": "stdout",
     "output_type": "stream",
     "text": [
      "timeline\n",
      "├── read\n",
      "├── write\n",
      "│   └── [5117778030848174740-5117778030848240275] size=1 1.14632GB 5.4% | time=10 0.57940 111.0% | ops=1 2303.00000 8.4% | files=6 772.00000 49.9% | bw=10 1.11530MB/s 0.1% | parallelism=10 1.00000 0.1% | xfer=10 0.50970MB 3.2% | score=68.6%\n",
      "│       ├── [5117778030848174740-5117778030848305811] size=1 1.14632GB 5.4% | time=10 0.57940 111.0% | ops=1 2303.00000 8.4% | files=6 772.00000 49.9% | bw=10 1.11530MB/s 0.1% | parallelism=10 1.00000 0.1% | xfer=10 0.50970MB 3.2% | score=68.6%\n",
      "│       │   ├── [5117778030848174740-5117778030848436883] size=1 1.14632GB 5.4% | time=10 0.57940 111.0% | ops=1 2303.00000 8.4% | files=6 772.00000 49.9% | bw=10 1.11530MB/s 0.1% | parallelism=10 1.00000 0.1% | xfer=10 0.50970MB 3.2% | score=68.6%\n",
      "│       │   │   ├── [5117778030848174740-5117778030848699027] size=1 1.14632GB 5.4% | time=10 0.57940 111.0% | ops=1 2303.00000 8.4% | files=6 772.00000 49.9% | bw=10 1.11530MB/s 0.1% | parallelism=10 1.00000 0.1% | xfer=10 0.50970MB 3.2% | score=68.6%\n",
      "│       │   │   │   ├── [5117778030848174740-5117778030849223315] size=1 1.14632GB 5.4% | time=10 0.57940 111.0% | ops=1 2303.00000 8.4% | files=6 772.00000 49.9% | bw=10 1.11530MB/s 0.1% | parallelism=10 1.00000 0.1% | xfer=10 0.50970MB 3.2% | score=68.6%\n",
      "│       │   │   │   │   ├── [5117778030848174740-5117778030850271891] size=1 1.14632GB 5.4% | time=10 0.57940 111.0% | ops=1 2303.00000 8.4% | files=6 772.00000 49.9% | bw=10 1.11530MB/s 0.1% | parallelism=10 1.00000 0.1% | xfer=10 0.50970MB 3.2% | score=68.6%\n",
      "│       │   │   │   │   │   ├── [5117778030848174740-5117778030852369043] size=1 1.14632GB 5.4% | time=10 0.57940 111.0% | ops=1 2303.00000 8.4% | files=6 772.00000 49.9% | bw=10 1.11530MB/s 0.1% | parallelism=10 1.00000 0.1% | xfer=10 0.50970MB 3.2% | score=68.6%\n",
      "│       │   │   │   │   │   │   ├── [5117778030848174740-5117778030856563347] size=1 1.14632GB 5.4% | time=10 0.57940 111.0% | ops=1 2303.00000 8.4% | files=6 772.00000 49.9% | bw=10 1.11530MB/s 0.1% | parallelism=10 1.00000 0.1% | xfer=10 0.50970MB 3.2% | score=68.6%\n",
      "│       │   │   │   │   │   │   │   ├── [5117778030848174740-5117778030864951955] size=1 1.14632GB 5.4% | time=10 0.57940 111.0% | ops=1 2303.00000 8.4% | files=6 772.00000 49.9% | bw=10 1.11530MB/s 0.1% | parallelism=10 1.00000 0.1% | xfer=10 0.50970MB 3.2% | score=68.6%\n",
      "│       │   │   │   │   │   │   │   │   ├── [5117778030848174740-5117778030881729171] size=1 1.14632GB 5.4% | time=10 0.57940 111.0% | ops=1 2303.00000 8.4% | files=6 772.00000 49.9% | bw=10 1.11530MB/s 0.1% | parallelism=10 1.00000 0.1% | xfer=10 0.50970MB 3.2% | score=68.6%\n",
      "│       │   │   │   │   │   │   │   │   │   ├── [5117778030848174740-5117778030915283603] size=1 1.14632GB 5.4% | time=10 0.57940 111.0% | ops=1 2303.00000 8.4% | files=6 772.00000 49.9% | bw=10 1.11530MB/s 0.1% | parallelism=10 1.00000 0.1% | xfer=10 0.50970MB 3.2% | score=68.6%\n",
      "└── metadata\n",
      "    └── [5117778030848174740-5117778030848240275] time=10 3.53438 676.9% | ops=10 12722.00000 46.3% | files=1 1517.00000 98.1% | parallelism=10 1.00000 0.1% | score=77.5%\n",
      "        ├── [5117778030848174740-5117778030848305811] time=10 1.76720 338.5% | ops=10 12727.00000 46.3% | files=1 1517.00000 98.1% | parallelism=10 2.00000 0.2% | score=77.5%\n",
      "        │   ├── [5117778030848174740-5117778030848436883] time=10 0.88362 169.2% | ops=10 12737.00000 46.4% | files=1 1517.00000 98.1% | parallelism=10 4.00000 0.3% | score=77.5%\n",
      "        │   │   ├── [5117778030848174740-5117778030848699027] time=9 0.44182 84.6% | ops=10 12757.00000 46.5% | files=1 1517.00000 98.1% | parallelism=10 8.00000 0.6% | score=75.0%\n",
      "        │   │   │   ├── [5117778030848174740-5117778030849223315] time=5 0.22093 42.3% | ops=10 12797.00000 46.6% | files=1 1517.00000 98.1% | parallelism=10 16.00000 1.2% | score=65.0%\n",
      "        │   │       ├── [5117778030850271892-5117778030851320467] time=4 0.18639 35.7% | ops=1 235.00000 0.9% | files=10 49.00000 3.2% | parallelism=10 16.00000 1.2% | score=62.5%\n",
      "        │       │   └── [5117778030853417620-5117778030854466195] time=4 0.20087 38.5% | ops=1 235.00000 0.9% | files=10 49.00000 3.2% | parallelism=10 16.00000 1.2% | score=62.5%\n",
      "        │           └── [5117778030855514772-5117778030856563347] time=4 0.18655 35.7% | ops=1 232.00000 0.8% | files=10 46.00000 3.0% | parallelism=10 16.00000 1.2% | score=62.5%\n",
      "            │   └── [5117778030850796180-5117778030851320467] time=8 0.37276 71.4% | ops=1 195.00000 0.7% | files=10 49.00000 3.2% | parallelism=10 8.00000 0.6% | score=72.5%\n",
      "            │       ├── [5117778030858660500-5117778030859709075] time=4 0.17423 33.4% | ops=1 232.00000 0.8% | files=10 46.00000 3.0% | parallelism=10 16.00000 1.2% | score=62.5%\n",
      "                │   ├── [5117778030860757652-5117778030861806227] time=4 0.20237 38.8% | ops=1 236.00000 0.9% | files=10 50.00000 3.2% | parallelism=10 16.00000 1.2% | score=62.5%\n",
      "                    └── [5117778030863903380-5117778030864951955] time=4 0.17687 33.9% | ops=1 234.00000 0.9% | files=10 48.00000 3.1% | parallelism=10 16.00000 1.2% | score=62.5%\n"
     ]
    }
   ],
   "source": [
    "cm1_read_nodes_proc_id, cm1_write_nodes_proc_id, cm1_metadata_nodes_proc_id = convert_to_nodes(cm1_scores_proc_id_hier, skip=0, depth=10)\n",
    "\n",
    "render_scores('proc_id', cm1_read_nodes_proc_id, cm1_write_nodes_proc_id, cm1_metadata_nodes_proc_id, 'time', 30)"
   ]
  },
  {
   "cell_type": "markdown",
   "id": "2d5ae2c2-939f-497d-8b35-5c676a66043f",
   "metadata": {
    "tags": []
   },
   "source": [
    "#### File-based"
   ]
  },
  {
   "cell_type": "code",
   "execution_count": 759,
   "id": "f37890ef-7a3b-4c7b-b228-0ffecc6ecf51",
   "metadata": {},
   "outputs": [
    {
     "data": {
      "text/plain": [
       "{'start': -9210576409139474804,\n",
       " 'stop': -9168195151421661531,\n",
       " 'read': {'size': {'label': 1, 'value': 0.0, 'unit': 'GB', 'percentage': 0.0},\n",
       "  'time': {'label': 1, 'value': 0, 'unit': '', 'percentage': 0.0},\n",
       "  'ops': {'label': 1, 'value': 0, 'unit': '', 'percentage': 0.0},\n",
       "  'files': {'label': 10, 'value': 0, 'unit': '', 'percentage': 0.0},\n",
       "  'bw': {'label': 10, 'value': 0.0, 'unit': 'MB/s', 'percentage': 0.0},\n",
       "  'parallelism': {'label': 10, 'value': 0, 'unit': '', 'percentage': 0.0},\n",
       "  'xfer': {'label': 10, 'value': 0, 'unit': 'MB', 'percentage': 0.0},\n",
       "  'score': 0.6142857142857143},\n",
       " 'write': {'size': {'label': 1, 'value': 0.0, 'unit': 'GB', 'percentage': 0.0},\n",
       "  'time': {'label': 1, 'value': 0, 'unit': '', 'percentage': 0.0},\n",
       "  'ops': {'label': 1, 'value': 0, 'unit': '', 'percentage': 0.0},\n",
       "  'files': {'label': 10, 'value': 0, 'unit': '', 'percentage': 0.0},\n",
       "  'bw': {'label': 10, 'value': 0.0, 'unit': 'MB/s', 'percentage': 0.0},\n",
       "  'parallelism': {'label': 10, 'value': 0, 'unit': '', 'percentage': 0.0},\n",
       "  'xfer': {'label': 10, 'value': 0, 'unit': 'MB', 'percentage': 0.0},\n",
       "  'score': 0.6142857142857143},\n",
       " 'metadata': {'time': {'label': 1,\n",
       "   'value': 0.0006430000066757202,\n",
       "   'unit': '',\n",
       "   'percentage': 0.001231532414269063},\n",
       "  'ops': {'label': 1,\n",
       "   'value': 1,\n",
       "   'unit': '',\n",
       "   'percentage': 3.64126278993555e-05},\n",
       "  'files': {'label': 10,\n",
       "   'value': 1,\n",
       "   'unit': '',\n",
       "   'percentage': 0.0006464124111182935},\n",
       "  'parallelism': {'label': 10,\n",
       "   'value': 1,\n",
       "   'unit': '',\n",
       "   'percentage': 0.00078125},\n",
       "  'score': 0.55}}"
      ]
     },
     "execution_count": 759,
     "metadata": {},
     "output_type": "execute_result"
    }
   ],
   "source": [
    "cm1_scores_file_id[0]"
   ]
  },
  {
   "cell_type": "code",
   "execution_count": 763,
   "id": "57abdcc6-5035-4ef0-bf01-e13cb5da48aa",
   "metadata": {},
   "outputs": [
    {
     "data": {
      "text/plain": [
       "3129"
      ]
     },
     "execution_count": 763,
     "metadata": {},
     "output_type": "execute_result"
    }
   ],
   "source": [
    "# cm1_scores_file_id_hier2 = cm1_scores_file_id_hier\n",
    "# cm1_scores_file_id_hier2.reverse()\n",
    "\n",
    "cm1_read_nodes_file_id, cm1_write_nodes_file_id, cm1_metadata_nodes_file_id = convert_to_nodes([cm1_scores_file_id], skip=0, depth=5)\n",
    "\n",
    "len(cm1_read_nodes_file_id[0])"
   ]
  },
  {
   "cell_type": "code",
   "execution_count": 766,
   "id": "addb907c-f707-4022-becc-ecc35a9e07fe",
   "metadata": {},
   "outputs": [
    {
     "name": "stdout",
     "output_type": "stream",
     "text": [
      "timeline\n",
      "├── read\n",
      "│   └── [-9210576409139474804--9168195151421661531] size=1 0.00000GB 0.0% | time=1 0.00000 0.0% | ops=1 0.00000 0.0% | files=10 0.00000 0.0% | bw=10 0.00000MB/s 0.0% | parallelism=10 0.00000 0.0% | xfer=10 0.00000MB 0.0% | score=61.4%\n",
      "├── write\n",
      "│   └── [-9210576409139474804--9168195151421661531] size=1 0.00000GB 0.0% | time=1 0.00000 0.0% | ops=1 0.00000 0.0% | files=10 0.00000 0.0% | bw=10 0.00000MB/s 0.0% | parallelism=10 0.00000 0.0% | xfer=10 0.00000MB 0.0% | score=61.4%\n",
      "└── metadata\n",
      "    └── [-9210576409139474804--9168195151421661531] time=1 0.00064 0.1% | ops=1 1.00000 0.0% | files=10 1.00000 0.1% | parallelism=10 1.00000 0.1% | score=55.0%\n"
     ]
    }
   ],
   "source": [
    "\n",
    "render_scores('file_id', cm1_read_nodes_file_id, cm1_write_nodes_file_id, cm1_metadata_nodes_file_id, 'time', -1)"
   ]
  },
  {
   "cell_type": "markdown",
   "id": "606060b1-75cb-4677-88ab-bcfe41650eeb",
   "metadata": {},
   "source": [
    "### Bandwidth (>30%)"
   ]
  },
  {
   "cell_type": "markdown",
   "id": "6d738141-15cf-4d92-be4d-469471f87bae",
   "metadata": {
    "tags": []
   },
   "source": [
    "#### Time-based"
   ]
  },
  {
   "cell_type": "code",
   "execution_count": 669,
   "id": "075bcab3-0745-4858-84ce-03897d4f6263",
   "metadata": {},
   "outputs": [
    {
     "name": "stdout",
     "output_type": "stream",
     "text": [
      "timeline\n",
      "├── read\n",
      "│   └── [0-6683056127] size=10 20.03125GB 94.6% | time=1 0.00000 0.0% | ops=1 1282.00000 4.7% | files=10 2.00000 0.1% | bw=2 5.46728MB/s 83.1% | parallelism=10 1280.00000 100.0% | xfer=1 16.00000MB 100.0% | score=50.0%\n",
      "│       uniq_ranks=1280\n",
      "│       uniq_ranks_interval=[5117778030848174740,5117778030931995284]\n",
      "│       uniq_filenames=2\n",
      "│       uniq_filenames_interval=[4531734244992817467] | [4531734245959907731]\n",
      "│       ├── [0-3341528063] size=10 20.03125GB 94.6% | time=1 0.00000 0.0% | ops=1 1282.00000 4.7% | files=10 2.00000 0.1% | bw=2 5.46728MB/s 83.1% | parallelism=10 1280.00000 100.0% | xfer=1 16.00000MB 100.0% | score=50.0%\n",
      "│       │   uniq_ranks=1280\n",
      "│       │   uniq_ranks_interval=[5117778030848174740,5117778030931995284]\n",
      "│       │   uniq_filenames=2\n",
      "│       │   uniq_filenames_interval=[4531734244992817467] | [4531734245959907731]\n",
      "│       │   ├── [0-1670764031] size=10 20.03125GB 94.6% | time=1 0.00000 0.0% | ops=1 1282.00000 4.7% | files=10 2.00000 0.1% | bw=2 5.46728MB/s 83.1% | parallelism=10 1280.00000 100.0% | xfer=1 16.00000MB 100.0% | score=50.0%\n",
      "│       │   │   uniq_ranks=1280\n",
      "│       │   │   uniq_ranks_interval=[5117778030848174740,5117778030931995284]\n",
      "│       │   │   uniq_filenames=2\n",
      "│       │   │   uniq_filenames_interval=[4531734244992817467] | [4531734245959907731]\n",
      "│       │   │   ├── [0-835382015] size=10 20.03125GB 94.6% | time=1 0.00000 0.0% | ops=1 1282.00000 4.7% | files=10 2.00000 0.1% | bw=2 5.46728MB/s 83.1% | parallelism=10 1280.00000 100.0% | xfer=1 16.00000MB 100.0% | score=50.0%\n",
      "│       │   │   │   uniq_ranks=1280\n",
      "│       │   │   │   uniq_ranks_interval=[5117778030848174740,5117778030931995284]\n",
      "│       │   │   │   uniq_filenames=2\n",
      "│       │   │   │   uniq_filenames_interval=[4531734244992817467] | [4531734245959907731]\n",
      "│       │   │   │   ├── [0-417691007] size=10 20.03125GB 94.6% | time=1 0.00000 0.0% | ops=1 1282.00000 4.7% | files=10 2.00000 0.1% | bw=2 5.46728MB/s 83.1% | parallelism=10 1280.00000 100.0% | xfer=1 16.00000MB 100.0% | score=50.0%\n",
      "│       │   │   │   │   uniq_ranks=1280\n",
      "│       │   │   │   │   uniq_ranks_interval=[5117778030848174740,5117778030931995284]\n",
      "│       │   │   │   │   uniq_filenames=2\n",
      "│       │   │   │   │   uniq_filenames_interval=[4531734244992817467] | [4531734245959907731]\n",
      "│       │   │   │   │   ├── [0-208845503] size=10 20.03125GB 94.6% | time=1 0.00000 0.0% | ops=1 1282.00000 4.7% | files=10 2.00000 0.1% | bw=2 5.46728MB/s 83.1% | parallelism=10 1280.00000 100.0% | xfer=1 16.00000MB 100.0% | score=50.0%\n",
      "│       │   │   │   │   │   uniq_ranks=1280\n",
      "│       │   │   │   │   │   uniq_ranks_interval=[5117778030848174740,5117778030931995284]\n",
      "│       │   │   │   │   │   uniq_filenames=2\n",
      "│       │   │   │   │   │   uniq_filenames_interval=[4531734244992817467] | [4531734245959907731]\n",
      "├── write\n",
      "└── metadata\n"
     ]
    }
   ],
   "source": [
    "cm1_read_nodes_tmid, cm1_write_nodes_tmid, cm1_metadata_nodes_tmid = convert_to_nodes(cm1_scores_tmid)\n",
    "\n",
    "render_scores('tmid', cm1_read_nodes_tmid, cm1_write_nodes_tmid, cm1_metadata_nodes_tmid, 'bw', 30)"
   ]
  },
  {
   "cell_type": "markdown",
   "id": "bce604c4-f4d5-47fc-8f4d-207d751178eb",
   "metadata": {
    "tags": []
   },
   "source": [
    "#### Process-based"
   ]
  },
  {
   "cell_type": "code",
   "execution_count": 670,
   "id": "ed4dbbd5-ba40-4dd6-850c-14982f996e66",
   "metadata": {},
   "outputs": [
    {
     "name": "stdout",
     "output_type": "stream",
     "text": [
      "timeline\n",
      "├── read\n",
      "│       │   │   │   │   │   │   │   │   ├── [5117778030848174740-5117778030881729171] size=4 8.03125GB 37.9% | time=1 0.00003 0.0% | ops=1 514.00000 1.9% | files=10 2.00000 0.1% | bw=6 798.07963MB/s 40.3% | parallelism=2 512.00000 40.0% | xfer=1 16.00000MB 100.0% | score=35.7%\n",
      "│       │   │   │   │   │   │   │   │   │   ├── [5117778030848174740-5117778030915283603] size=8 16.03125GB 75.7% | time=1 0.00003 0.0% | ops=1 1026.00000 3.7% | files=10 2.00000 0.1% | bw=2 1588.11621MB/s 80.2% | parallelism=5 1024.00000 80.0% | xfer=1 16.00000MB 100.0% | score=40.0%\n",
      "│       │   │   │   │   │   │   │   │   └── [5117778030881729172-5117778030915283603] size=4 8.00000GB 37.8% | time=1 0.00003 0.0% | ops=1 512.00000 1.9% | files=10 1.00000 0.1% | bw=7 790.03658MB/s 39.9% | parallelism=2 512.00000 40.0% | xfer=1 16.00000MB 100.0% | score=37.1%\n",
      "├── write\n",
      "└── metadata\n"
     ]
    }
   ],
   "source": [
    "cm1_read_nodes_proc_id, cm1_write_nodes_proc_id, cm1_metadata_nodes_proc_id = convert_to_nodes(cm1_scores_proc_id_hier, skip=0, depth=10)\n",
    "\n",
    "render_scores('proc_id', cm1_read_nodes_proc_id, cm1_write_nodes_proc_id, cm1_metadata_nodes_proc_id, 'bw', 30)"
   ]
  },
  {
   "cell_type": "markdown",
   "id": "560bbfb4-4cee-4b5b-95c7-8b45232db792",
   "metadata": {
    "tags": []
   },
   "source": [
    "#### File-based"
   ]
  },
  {
   "cell_type": "code",
   "execution_count": 671,
   "id": "6b29b1c4-9da5-4543-8684-001832e84086",
   "metadata": {},
   "outputs": [
    {
     "name": "stdout",
     "output_type": "stream",
     "text": [
      "timeline\n",
      "├── read\n",
      "│       │   │   │   │   │   │   │   │   │   ├── [-9210576409139474804-4531734246940490828] size=10 20.03125GB 94.6% | time=1 0.00000 0.0% | ops=1 1282.00000 4.7% | files=10 2.00000 0.1% | bw=3 3.24548MB/s 74.4% | parallelism=10 1280.00000 100.0% | xfer=1 16.00000MB 100.0% | score=51.4%\n",
      "│       │   │   │   │   │   │   │   │   └── [3397145568057025648-4531734246940490828] size=10 20.03125GB 94.6% | time=1 0.00000 0.0% | ops=1 1282.00000 4.7% | files=10 2.00000 0.1% | bw=3 3.24548MB/s 74.4% | parallelism=10 1280.00000 100.0% | xfer=1 16.00000MB 100.0% | score=51.4%\n",
      "│       │   │   │   │   │   │       ├── [3397145568057025648-4531734245418630802] size=10 20.01562GB 94.5% | time=1 0.00000 0.0% | ops=1 1281.00000 4.7% | files=10 1.00000 0.1% | bw=3 3.23381MB/s 74.2% | parallelism=10 1280.00000 100.0% | xfer=1 16.00000MB 100.0% | score=51.4%\n",
      "│       │   │   │   │       │   └── [4531734244708386771-4531734245418630802] size=10 20.01562GB 94.5% | time=1 0.00000 0.0% | ops=1 1281.00000 4.7% | files=10 1.00000 0.1% | bw=3 3.23381MB/s 74.2% | parallelism=10 1280.00000 100.0% | xfer=1 16.00000MB 100.0% | score=51.4%\n",
      "│       │   │       │       ├── [4531734244708386771-4531734245060174002] size=10 20.01562GB 94.5% | time=1 0.00000 0.0% | ops=1 1281.00000 4.7% | files=10 1.00000 0.1% | bw=3 3.23381MB/s 74.2% | parallelism=10 1280.00000 100.0% | xfer=1 16.00000MB 100.0% | score=51.4%\n",
      "│           │       │   └── [4531734244917028216-4531734245060174002] size=10 20.01562GB 94.5% | time=1 0.00000 0.0% | ops=1 1281.00000 4.7% | files=10 1.00000 0.1% | bw=3 3.23381MB/s 74.2% | parallelism=10 1280.00000 100.0% | xfer=1 16.00000MB 100.0% | score=51.4%\n",
      "├── write\n",
      "└── metadata\n"
     ]
    }
   ],
   "source": [
    "cm1_read_nodes_file_id, cm1_write_nodes_file_id, cm1_metadata_nodes_file_id = convert_to_nodes(cm1_scores_file_id_hier, skip=0, depth=10)\n",
    "\n",
    "render_scores('file_id', cm1_read_nodes_file_id, cm1_write_nodes_file_id, cm1_metadata_nodes_file_id, 'bw', 30)"
   ]
  },
  {
   "cell_type": "code",
   "execution_count": 305,
   "id": "3ae19f42-d6e0-4266-beba-28a6c0fe453a",
   "metadata": {},
   "outputs": [
    {
     "name": "stdout",
     "output_type": "stream",
     "text": [
      "timeline\n",
      "├── read\n",
      "│   └── [0-337020927] size=5 790.00000GB 50.0% | time=10 0.64205 2438.5% | ops=3 12800.00000 17.6% | files=6 1279.00000 49.9% | bw=7 27.86151MB/s 36.2% | parallelism=10 1280.00000 100.0% | xfer=1 63.20000MB 395.0% | score=60.0%\n",
      "│       ├── [0-168510463] size=1 52.35938GB 3.3% | time=10 0.32624 1239.0% | ops=1 919.00000 1.3% | files=10 194.00000 7.6% | bw=10 1.61632MB/s 2.1% | parallelism=8 194.00000 15.2% | xfer=1 58.34168MB 364.6% | score=58.6%\n",
      "│       │   ├── [0-84255231] size=1 0.39844GB 0.0% | time=4 0.00987 37.5% | ops=1 17.00000 0.0% | files=10 17.00000 0.7% | bw=10 0.04011MB/s 0.1% | parallelism=10 17.00000 1.3% | xfer=1 24.00000MB 150.0% | score=52.9%\n",
      "│       │   └── [84255232-168510463] size=1 51.96094GB 3.3% | time=10 0.32537 1235.8% | ops=1 902.00000 1.2% | files=10 194.00000 7.6% | bw=10 1.57621MB/s 2.0% | parallelism=8 194.00000 15.2% | xfer=1 58.98891MB 368.7% | score=58.6%\n",
      "│       └── [168510464-337020927] size=5 737.64062GB 46.7% | time=10 0.63211 2400.7% | ops=3 11881.00000 16.3% | files=6 1199.00000 46.8% | bw=7 26.24518MB/s 34.1% | parallelism=9 1200.00000 93.8% | xfer=1 63.57579MB 397.3% | score=58.6%\n",
      "│           ├── [168510464-252765695] size=5 684.92188GB 43.3% | time=10 0.63451 2409.9% | ops=3 11032.00000 15.1% | files=6 1119.00000 43.7% | bw=7 24.39584MB/s 31.7% | parallelism=7 1120.00000 87.5% | xfer=1 63.57505MB 397.3% | score=55.7%\n",
      "│           └── [252765696-337020927] size=1 52.71875GB 3.3% | time=10 0.49360 1874.7% | ops=1 849.00000 1.2% | files=10 97.00000 3.8% | bw=10 1.84935MB/s 2.4% | parallelism=10 97.00000 7.6% | xfer=1 63.58539MB 397.4% | score=61.4%\n",
      "├── write\n",
      "│   └── [0-337020927] size=5 790.00000GB 50.0% | time=10 0.76425 2902.6% | ops=3 12800.00000 17.6% | files=6 1279.00000 49.9% | bw=4 49.20547MB/s 63.8% | parallelism=10 1280.00000 100.0% | xfer=1 63.20000MB 395.0% | score=55.7%\n",
      "│       ├── [0-168510463] size=4 509.33594GB 32.2% | time=10 0.81988 3113.9% | ops=2 8223.00000 11.3% | files=7 838.00000 32.7% | bw=7 27.97882MB/s 36.3% | parallelism=2 839.00000 65.5% | xfer=1 63.42697MB 396.4% | score=47.1%\n",
      "│       │   ├── [0-84255231] size=1 24.68750GB 1.6% | time=10 1.10476 4195.9% | ops=1 400.00000 0.5% | files=10 40.00000 1.6% | bw=10 0.58512MB/s 0.8% | parallelism=10 40.00000 3.1% | xfer=1 63.20000MB 395.0% | score=61.4%\n",
      "│       │   └── [84255232-168510463] size=4 484.64844GB 30.7% | time=10 0.80561 3059.7% | ops=2 7823.00000 10.7% | files=7 798.00000 31.2% | bw=7 27.39370MB/s 35.5% | parallelism=2 799.00000 62.4% | xfer=1 63.43858MB 396.5% | score=47.1%\n",
      "│       └── [168510464-337020927] size=2 280.66406GB 17.8% | time=10 0.57272 2175.2% | ops=1 4577.00000 6.3% | files=9 507.00000 19.8% | bw=8 21.22664MB/s 27.5% | parallelism=2 507.00000 39.6% | xfer=1 62.79222MB 392.5% | score=47.1%\n",
      "│           ├── [168510464-252765695] size=2 273.87500GB 17.3% | time=10 0.57936 2200.4% | ops=1 4467.00000 6.1% | files=9 496.00000 19.4% | bw=8 20.54118MB/s 26.7% | parallelism=2 496.00000 38.8% | xfer=1 62.78218MB 392.4% | score=47.1%\n",
      "│           └── [252765696-337020927] size=1 6.78906GB 0.4% | time=10 0.27303 1036.9% | ops=1 110.00000 0.2% | files=10 11.00000 0.4% | bw=10 0.68546MB/s 0.9% | parallelism=10 11.00000 0.9% | xfer=1 63.20000MB 395.0% | score=61.4%\n",
      "└── metadata\n",
      "    └── [0-337020927] time=10 3.24979 12342.6% | ops=9 47328.00000 64.9% | files=1 2561.00000 100.0% | parallelism=10 1280.00000 100.0% | score=75.0%\n",
      "        ├── [0-168510463] time=10 3.24631 12329.4% | ops=8 25822.00000 35.4% | files=1 2560.00000 100.0% | parallelism=10 1280.00000 100.0% | score=72.5%\n",
      "        │   ├── [0-84255231] time=10 2.14731 8155.5% | ops=3 14008.00000 19.2% | files=2 2281.00000 89.1% | parallelism=10 1280.00000 100.0% | score=62.5%\n",
      "        │   └── [84255232-168510463] time=10 1.10072 4180.5% | ops=3 11814.00000 16.2% | files=6 1277.00000 49.9% | parallelism=10 1278.00000 99.8% | score=72.5%\n",
      "        └── [168510464-337020927] time=2 0.00367 13.9% | ops=6 21506.00000 29.5% | files=6 1213.00000 47.4% | parallelism=9 1213.00000 94.8% | score=57.5%\n",
      "            ├── [168510464-252765695] time=2 0.00367 13.9% | ops=6 20115.00000 27.6% | files=6 1205.00000 47.1% | parallelism=9 1204.00000 94.1% | score=57.5%\n",
      "            └── [252765696-337020927] time=1 0.00019 0.7% | ops=1 1391.00000 1.9% | files=10 187.00000 7.3% | parallelism=9 186.00000 14.5% | score=52.5%\n"
     ]
    }
   ],
   "source": [
    "hacc_read_nodes, hacc_write_nodes, hacc_metadata_nodes = convert_to_nodes(hacc_scores)\n",
    "\n",
    "render_scores(hacc_read_nodes, hacc_write_nodes, hacc_metadata_nodes)"
   ]
  },
  {
   "cell_type": "code",
   "execution_count": 306,
   "id": "7f887a50-658b-4daf-9206-a345f51e24ca",
   "metadata": {},
   "outputs": [
    {
     "name": "stdout",
     "output_type": "stream",
     "text": [
      "timeline\n",
      "├── read\n",
      "│   └── [0-1752591359] size=9 28.58594GB 83.6% | time=2 0.12653 14.7% | ops=9 3180300.00000 65.0% | files=2 1597.00000 86.1% | bw=3 2675.30679MB/s 71.6% | parallelism=7 178.00000 87.3% | xfer=10 0.00920MB 0.1% | score=60.0%\n",
      "│       ├── [0-876295679] size=9 28.58594GB 83.6% | time=2 0.12653 14.7% | ops=9 3180300.00000 65.0% | files=2 1597.00000 86.1% | bw=3 2675.30679MB/s 71.6% | parallelism=7 178.00000 87.3% | xfer=10 0.00920MB 0.1% | score=60.0%\n",
      "│       │   ├── [0-438147839] size=8 26.53391GB 77.6% | time=2 0.12443 14.5% | ops=9 3167516.00000 64.8% | files=2 1597.00000 86.1% | bw=4 2606.71389MB/s 69.8% | parallelism=7 178.00000 87.3% | xfer=10 0.00858MB 0.1% | score=60.0%\n",
      "│       │   └── [438147840-876295679] size=1 2.05203GB 6.0% | time=5 0.37519 43.7% | ops=1 12784.00000 0.3% | files=10 1.00000 0.1% | bw=10 68.59290MB/s 1.8% | parallelism=10 1.00000 0.5% | xfer=10 0.16437MB 1.0% | score=67.1%\n",
      "│       └── [876295680-1752591359] size=1 0.00000GB 0.0% | time=1 0.00000 0.0% | ops=1 0.00000 0.0% | files=10 0.00000 0.0% | bw=10 0.00000MB/s 0.0% | parallelism=10 0.00000 0.0% | xfer=10 0.00000MB 0.0% | score=61.4%\n",
      "│           ├── [876295680-1314443519] size=1 0.00000GB 0.0% | time=1 0.00000 0.0% | ops=1 0.00000 0.0% | files=10 0.00000 0.0% | bw=10 0.00000MB/s 0.0% | parallelism=10 0.00000 0.0% | xfer=10 0.00000MB 0.0% | score=61.4%\n",
      "│           └── [1314443520-1752591359] size=1 0.00000GB 0.0% | time=1 0.00000 0.0% | ops=1 0.00000 0.0% | files=10 0.00000 0.0% | bw=10 0.00000MB/s 0.0% | parallelism=10 0.00000 0.0% | xfer=10 0.00000MB 0.0% | score=61.4%\n",
      "├── write\n",
      "│   └── [0-1752591359] size=2 5.58879GB 16.4% | time=1 0.03467 4.0% | ops=8 1649867.00000 33.7% | files=4 1187.00000 64.0% | bw=8 1059.96718MB/s 28.4% | parallelism=10 204.00000 100.0% | xfer=10 0.00347MB 0.0% | score=61.4%\n",
      "│       ├── [0-876295679] size=2 5.58550GB 16.3% | time=1 0.03484 4.1% | ops=8 1649866.00000 33.7% | files=4 1186.00000 63.9% | bw=8 1059.95934MB/s 28.4% | parallelism=10 203.00000 99.5% | xfer=10 0.00347MB 0.0% | score=61.4%\n",
      "│       │   ├── [0-438147839] size=2 5.57842GB 16.3% | time=1 0.03518 4.1% | ops=8 1649864.00000 33.7% | files=4 1184.00000 63.8% | bw=8 1059.94460MB/s 28.4% | parallelism=10 201.00000 98.5% | xfer=10 0.00346MB 0.0% | score=61.4%\n",
      "│       │   └── [438147840-876295679] size=1 0.00708GB 0.0% | time=1 0.00047 0.1% | ops=1 2.00000 0.0% | files=10 2.00000 0.1% | bw=10 0.01474MB/s 0.0% | parallelism=10 2.00000 1.0% | xfer=8 3.62437MB 22.7% | score=58.6%\n",
      "│       └── [876295680-1752591359] size=1 0.00329GB 0.0% | time=1 0.00041 0.0% | ops=1 1.00000 0.0% | files=10 1.00000 0.1% | bw=10 0.00784MB/s 0.0% | parallelism=10 1.00000 0.5% | xfer=8 3.37066MB 21.1% | score=58.6%\n",
      "│           ├── [876295680-1314443519] size=1 0.00000GB 0.0% | time=1 0.00000 0.0% | ops=1 0.00000 0.0% | files=10 0.00000 0.0% | bw=10 0.00000MB/s 0.0% | parallelism=10 0.00000 0.0% | xfer=10 0.00000MB 0.0% | score=61.4%\n",
      "│           └── [1314443520-1752591359] size=1 0.00329GB 0.0% | time=1 0.00041 0.0% | ops=1 1.00000 0.0% | files=10 1.00000 0.1% | bw=10 0.00784MB/s 0.0% | parallelism=10 1.00000 0.5% | xfer=8 3.37066MB 21.1% | score=58.6%\n",
      "└── metadata\n",
      "    └── [0-1752591359] time=1 0.00966 1.1% | ops=1 58872.00000 1.2% | files=1 1855.00000 100.0% | parallelism=10 204.00000 100.0% | score=32.5%\n",
      "        ├── [0-876295679] time=1 0.00965 1.1% | ops=1 58869.00000 1.2% | files=1 1854.00000 99.9% | parallelism=10 204.00000 100.0% | score=32.5%\n",
      "        │   ├── [0-438147839] time=1 0.00963 1.1% | ops=1 58863.00000 1.2% | files=1 1852.00000 99.8% | parallelism=10 204.00000 100.0% | score=32.5%\n",
      "        │   └── [438147840-876295679] time=1 0.00233 0.3% | ops=1 6.00000 0.0% | files=10 4.00000 0.2% | parallelism=10 2.00000 1.0% | score=55.0%\n",
      "        └── [876295680-1752591359] time=1 0.00190 0.2% | ops=1 3.00000 0.0% | files=10 2.00000 0.1% | parallelism=10 1.00000 0.5% | score=55.0%\n",
      "            ├── [876295680-1314443519] time=1 0.00000 0.0% | ops=1 0.00000 0.0% | files=10 0.00000 0.0% | parallelism=10 0.00000 0.0% | score=55.0%\n",
      "            └── [1314443520-1752591359] time=1 0.00190 0.2% | ops=1 3.00000 0.0% | files=10 2.00000 0.1% | parallelism=10 1.00000 0.5% | score=55.0%\n"
     ]
    }
   ],
   "source": [
    "montage_read_nodes, montage_write_nodes, montage_metadata_nodes = convert_to_nodes(montage_scores)\n",
    "\n",
    "render_scores(montage_read_nodes, montage_write_nodes, montage_metadata_nodes)"
   ]
  },
  {
   "cell_type": "code",
   "execution_count": 123,
   "id": "cdb5a085",
   "metadata": {},
   "outputs": [],
   "source": [
    "from anytree import findall\n",
    "\n",
    "# root.children[0].children[0].score['time']['label']\n",
    "\n",
    "cm1_read_root = cm1_read_nodes[0][0]\n",
    "cm1_write_root = cm1_write_nodes[0][0]\n",
    "cm1_metadata_root = cm1_metadata_nodes[0][0]\n",
    "hacc_read_root = hacc_read_nodes[0][0]\n",
    "hacc_write_root = hacc_write_nodes[0][0]\n",
    "hacc_metadata_root = hacc_metadata_nodes[0][0]\n",
    "montage_read_root = montage_read_nodes[0][0]\n",
    "montage_write_root = montage_write_nodes[0][0]\n",
    "montage_metadata_root = montage_metadata_nodes[0][0]\n",
    "\n",
    "def render_cross_nodes(root_nodes):\n",
    "    for m in ['time', 'bw']:\n",
    "    \n",
    "        print(\"-\" * 30)\n",
    "\n",
    "        for app, root in zip(['cm1', 'hacc', 'montage'], root_nodes):\n",
    "\n",
    "            nodes = findall(root, filter_=lambda n: hasattr(n, 'score') and m in n.score and n.score[m]['value'] > 0 and n.score[m]['label'] == 10)\n",
    "    #         node_root = AnyNode(children=nodes, trans=f\"{app}-{m}\")\n",
    "    #         print(RenderTree(node_root).by_attr('trans'))\n",
    "            if nodes:\n",
    "                print(f\"{app}-{m}\")\n",
    "                nodes = list(set(nodes))\n",
    "                nodes.sort(key=lambda n: n.start + n.stop)\n",
    "    #             node_root = AnyNode(children=nodes, trans=f\"{app}-{m}\")\n",
    "    #             print(RenderTree(node_root).by_attr('trans'))\n",
    "                for node in nodes:\n",
    "                    print(RenderTree(node).by_attr('trans'))\n"
   ]
  },
  {
   "cell_type": "code",
   "execution_count": 129,
   "id": "944f752d",
   "metadata": {},
   "outputs": [
    {
     "name": "stdout",
     "output_type": "stream",
     "text": [
      "------------------------------\n",
      "hacc-time\n",
      "[0-168510463] size=1 52.35938GB 3.3% | time=10 0.32624 1239.0% | ops=1 919.00000 1.3% | files=10 194.00000 7.6% | bw=10 1.61632MB/s 2.1% | parallelism=8 194.00000 15.2% | xfer=1 58.34168MB 364.6% | score=58.6%\n",
      "├── [0-84255231] size=1 0.39844GB 0.0% | time=4 0.00987 37.5% | ops=1 17.00000 0.0% | files=10 17.00000 0.7% | bw=10 0.04011MB/s 0.1% | parallelism=10 17.00000 1.3% | xfer=1 24.00000MB 150.0% | score=52.9%\n",
      "└── [84255232-168510463] size=1 51.96094GB 3.3% | time=10 0.32537 1235.8% | ops=1 902.00000 1.2% | files=10 194.00000 7.6% | bw=10 1.57621MB/s 2.0% | parallelism=8 194.00000 15.2% | xfer=1 58.98891MB 368.7% | score=58.6%\n",
      "[84255232-168510463] size=1 51.96094GB 3.3% | time=10 0.32537 1235.8% | ops=1 902.00000 1.2% | files=10 194.00000 7.6% | bw=10 1.57621MB/s 2.0% | parallelism=8 194.00000 15.2% | xfer=1 58.98891MB 368.7% | score=58.6%\n",
      "[0-337020927] size=5 790.00000GB 50.0% | time=10 0.64205 2438.5% | ops=3 12800.00000 17.6% | files=6 1279.00000 49.9% | bw=7 27.86151MB/s 36.2% | parallelism=10 1280.00000 100.0% | xfer=1 63.20000MB 395.0% | score=60.0%\n",
      "├── [0-168510463] size=1 52.35938GB 3.3% | time=10 0.32624 1239.0% | ops=1 919.00000 1.3% | files=10 194.00000 7.6% | bw=10 1.61632MB/s 2.1% | parallelism=8 194.00000 15.2% | xfer=1 58.34168MB 364.6% | score=58.6%\n",
      "│   ├── [0-84255231] size=1 0.39844GB 0.0% | time=4 0.00987 37.5% | ops=1 17.00000 0.0% | files=10 17.00000 0.7% | bw=10 0.04011MB/s 0.1% | parallelism=10 17.00000 1.3% | xfer=1 24.00000MB 150.0% | score=52.9%\n",
      "│   └── [84255232-168510463] size=1 51.96094GB 3.3% | time=10 0.32537 1235.8% | ops=1 902.00000 1.2% | files=10 194.00000 7.6% | bw=10 1.57621MB/s 2.0% | parallelism=8 194.00000 15.2% | xfer=1 58.98891MB 368.7% | score=58.6%\n",
      "└── [168510464-337020927] size=5 737.64062GB 46.7% | time=10 0.63211 2400.7% | ops=3 11881.00000 16.3% | files=6 1199.00000 46.8% | bw=7 26.24518MB/s 34.1% | parallelism=9 1200.00000 93.8% | xfer=1 63.57579MB 397.3% | score=58.6%\n",
      "    ├── [168510464-252765695] size=5 684.92188GB 43.3% | time=10 0.63451 2409.9% | ops=3 11032.00000 15.1% | files=6 1119.00000 43.7% | bw=7 24.39584MB/s 31.7% | parallelism=7 1120.00000 87.5% | xfer=1 63.57505MB 397.3% | score=55.7%\n",
      "    └── [252765696-337020927] size=1 52.71875GB 3.3% | time=10 0.49360 1874.7% | ops=1 849.00000 1.2% | files=10 97.00000 3.8% | bw=10 1.84935MB/s 2.4% | parallelism=10 97.00000 7.6% | xfer=1 63.58539MB 397.4% | score=61.4%\n",
      "[168510464-252765695] size=5 684.92188GB 43.3% | time=10 0.63451 2409.9% | ops=3 11032.00000 15.1% | files=6 1119.00000 43.7% | bw=7 24.39584MB/s 31.7% | parallelism=7 1120.00000 87.5% | xfer=1 63.57505MB 397.3% | score=55.7%\n",
      "[168510464-337020927] size=5 737.64062GB 46.7% | time=10 0.63211 2400.7% | ops=3 11881.00000 16.3% | files=6 1199.00000 46.8% | bw=7 26.24518MB/s 34.1% | parallelism=9 1200.00000 93.8% | xfer=1 63.57579MB 397.3% | score=58.6%\n",
      "├── [168510464-252765695] size=5 684.92188GB 43.3% | time=10 0.63451 2409.9% | ops=3 11032.00000 15.1% | files=6 1119.00000 43.7% | bw=7 24.39584MB/s 31.7% | parallelism=7 1120.00000 87.5% | xfer=1 63.57505MB 397.3% | score=55.7%\n",
      "└── [252765696-337020927] size=1 52.71875GB 3.3% | time=10 0.49360 1874.7% | ops=1 849.00000 1.2% | files=10 97.00000 3.8% | bw=10 1.84935MB/s 2.4% | parallelism=10 97.00000 7.6% | xfer=1 63.58539MB 397.4% | score=61.4%\n",
      "[252765696-337020927] size=1 52.71875GB 3.3% | time=10 0.49360 1874.7% | ops=1 849.00000 1.2% | files=10 97.00000 3.8% | bw=10 1.84935MB/s 2.4% | parallelism=10 97.00000 7.6% | xfer=1 63.58539MB 397.4% | score=61.4%\n",
      "------------------------------\n",
      "hacc-bw\n",
      "[0-84255231] size=1 0.39844GB 0.0% | time=4 0.00987 37.5% | ops=1 17.00000 0.0% | files=10 17.00000 0.7% | bw=10 0.04011MB/s 0.1% | parallelism=10 17.00000 1.3% | xfer=1 24.00000MB 150.0% | score=52.9%\n",
      "[0-168510463] size=1 52.35938GB 3.3% | time=10 0.32624 1239.0% | ops=1 919.00000 1.3% | files=10 194.00000 7.6% | bw=10 1.61632MB/s 2.1% | parallelism=8 194.00000 15.2% | xfer=1 58.34168MB 364.6% | score=58.6%\n",
      "├── [0-84255231] size=1 0.39844GB 0.0% | time=4 0.00987 37.5% | ops=1 17.00000 0.0% | files=10 17.00000 0.7% | bw=10 0.04011MB/s 0.1% | parallelism=10 17.00000 1.3% | xfer=1 24.00000MB 150.0% | score=52.9%\n",
      "└── [84255232-168510463] size=1 51.96094GB 3.3% | time=10 0.32537 1235.8% | ops=1 902.00000 1.2% | files=10 194.00000 7.6% | bw=10 1.57621MB/s 2.0% | parallelism=8 194.00000 15.2% | xfer=1 58.98891MB 368.7% | score=58.6%\n",
      "[84255232-168510463] size=1 51.96094GB 3.3% | time=10 0.32537 1235.8% | ops=1 902.00000 1.2% | files=10 194.00000 7.6% | bw=10 1.57621MB/s 2.0% | parallelism=8 194.00000 15.2% | xfer=1 58.98891MB 368.7% | score=58.6%\n",
      "[252765696-337020927] size=1 52.71875GB 3.3% | time=10 0.49360 1874.7% | ops=1 849.00000 1.2% | files=10 97.00000 3.8% | bw=10 1.84935MB/s 2.4% | parallelism=10 97.00000 7.6% | xfer=1 63.58539MB 397.4% | score=61.4%\n",
      "montage-bw\n",
      "[438147840-876295679] size=1 2.05203GB 6.0% | time=5 0.37519 43.7% | ops=1 12784.00000 0.3% | files=10 1.00000 0.1% | bw=10 68.59290MB/s 1.8% | parallelism=10 1.00000 0.5% | xfer=10 0.16437MB 1.0% | score=67.1%\n"
     ]
    }
   ],
   "source": [
    "render_cross_nodes([cm1_read_root, hacc_read_root, montage_read_root])"
   ]
  },
  {
   "cell_type": "code",
   "execution_count": 127,
   "id": "2ac1615f-de99-41fb-86be-1081f6b025c0",
   "metadata": {},
   "outputs": [
    {
     "name": "stdout",
     "output_type": "stream",
     "text": [
      "------------------------------\n",
      "cm1-time\n",
      "[0-6683056127] size=1 1.14632GB 5.4% | time=10 0.57940 111.0% | ops=1 2303.00000 8.4% | files=6 772.00000 49.9% | bw=10 1.11530MB/s 0.1% | parallelism=10 1.00000 0.1% | xfer=10 0.50970MB 3.2% | score=68.6%\n",
      "├── [0-3341528063] size=1 0.42935GB 2.0% | time=5 0.23367 44.8% | ops=1 1103.00000 4.0% | files=8 374.00000 24.2% | bw=10 0.48240MB/s 0.0% | parallelism=10 1.00000 0.1% | xfer=10 0.39860MB 2.5% | score=64.3%\n",
      "│   ├── [0-1670764031] size=1 0.28207GB 1.3% | time=3 0.13777 26.4% | ops=1 528.00000 1.9% | files=9 184.00000 11.9% | bw=10 0.25983MB/s 0.0% | parallelism=10 1.00000 0.1% | xfer=10 0.54704MB 3.4% | score=62.9%\n",
      "│   └── [1670764032-3341528063] size=1 0.14728GB 0.7% | time=2 0.09590 18.4% | ops=1 575.00000 2.1% | files=9 200.00000 12.9% | bw=10 0.22256MB/s 0.0% | parallelism=10 1.00000 0.1% | xfer=10 0.26229MB 1.6% | score=61.4%\n",
      "└── [3341528064-6683056127] size=1 0.71697GB 3.4% | time=7 0.34573 66.2% | ops=1 1200.00000 4.4% | files=8 408.00000 26.4% | bw=10 0.63290MB/s 0.0% | parallelism=10 1.00000 0.1% | xfer=10 0.61182MB 3.8% | score=67.1%\n",
      "    ├── [3341528064-5012292095] size=1 0.35873GB 1.7% | time=3 0.15646 30.0% | ops=1 612.00000 2.2% | files=9 213.00000 13.8% | bw=10 0.32922MB/s 0.0% | parallelism=10 1.00000 0.1% | xfer=10 0.60023MB 3.8% | score=62.9%\n",
      "    └── [5012292096-6683056127] size=1 0.35824GB 1.7% | time=4 0.18926 36.2% | ops=1 588.00000 2.1% | files=9 205.00000 13.3% | bw=10 0.30368MB/s 0.0% | parallelism=10 1.00000 0.1% | xfer=10 0.62388MB 3.9% | score=64.3%\n",
      "hacc-time\n",
      "[0-84255231] size=1 24.68750GB 1.6% | time=10 1.10476 4195.9% | ops=1 400.00000 0.5% | files=10 40.00000 1.6% | bw=10 0.58512MB/s 0.8% | parallelism=10 40.00000 3.1% | xfer=1 63.20000MB 395.0% | score=61.4%\n",
      "[0-168510463] size=4 509.33594GB 32.2% | time=10 0.81988 3113.9% | ops=2 8223.00000 11.3% | files=7 838.00000 32.7% | bw=7 27.97882MB/s 36.3% | parallelism=2 839.00000 65.5% | xfer=1 63.42697MB 396.4% | score=47.1%\n",
      "├── [0-84255231] size=1 24.68750GB 1.6% | time=10 1.10476 4195.9% | ops=1 400.00000 0.5% | files=10 40.00000 1.6% | bw=10 0.58512MB/s 0.8% | parallelism=10 40.00000 3.1% | xfer=1 63.20000MB 395.0% | score=61.4%\n",
      "└── [84255232-168510463] size=4 484.64844GB 30.7% | time=10 0.80561 3059.7% | ops=2 7823.00000 10.7% | files=7 798.00000 31.2% | bw=7 27.39370MB/s 35.5% | parallelism=2 799.00000 62.4% | xfer=1 63.43858MB 396.5% | score=47.1%\n",
      "[84255232-168510463] size=4 484.64844GB 30.7% | time=10 0.80561 3059.7% | ops=2 7823.00000 10.7% | files=7 798.00000 31.2% | bw=7 27.39370MB/s 35.5% | parallelism=2 799.00000 62.4% | xfer=1 63.43858MB 396.5% | score=47.1%\n",
      "[0-337020927] size=5 790.00000GB 50.0% | time=10 0.76425 2902.6% | ops=3 12800.00000 17.6% | files=6 1279.00000 49.9% | bw=4 49.20547MB/s 63.8% | parallelism=10 1280.00000 100.0% | xfer=1 63.20000MB 395.0% | score=55.7%\n",
      "├── [0-168510463] size=4 509.33594GB 32.2% | time=10 0.81988 3113.9% | ops=2 8223.00000 11.3% | files=7 838.00000 32.7% | bw=7 27.97882MB/s 36.3% | parallelism=2 839.00000 65.5% | xfer=1 63.42697MB 396.4% | score=47.1%\n",
      "│   ├── [0-84255231] size=1 24.68750GB 1.6% | time=10 1.10476 4195.9% | ops=1 400.00000 0.5% | files=10 40.00000 1.6% | bw=10 0.58512MB/s 0.8% | parallelism=10 40.00000 3.1% | xfer=1 63.20000MB 395.0% | score=61.4%\n",
      "│   └── [84255232-168510463] size=4 484.64844GB 30.7% | time=10 0.80561 3059.7% | ops=2 7823.00000 10.7% | files=7 798.00000 31.2% | bw=7 27.39370MB/s 35.5% | parallelism=2 799.00000 62.4% | xfer=1 63.43858MB 396.5% | score=47.1%\n",
      "└── [168510464-337020927] size=2 280.66406GB 17.8% | time=10 0.57272 2175.2% | ops=1 4577.00000 6.3% | files=9 507.00000 19.8% | bw=8 21.22664MB/s 27.5% | parallelism=2 507.00000 39.6% | xfer=1 62.79222MB 392.5% | score=47.1%\n",
      "    ├── [168510464-252765695] size=2 273.87500GB 17.3% | time=10 0.57936 2200.4% | ops=1 4467.00000 6.1% | files=9 496.00000 19.4% | bw=8 20.54118MB/s 26.7% | parallelism=2 496.00000 38.8% | xfer=1 62.78218MB 392.4% | score=47.1%\n",
      "    └── [252765696-337020927] size=1 6.78906GB 0.4% | time=10 0.27303 1036.9% | ops=1 110.00000 0.2% | files=10 11.00000 0.4% | bw=10 0.68546MB/s 0.9% | parallelism=10 11.00000 0.9% | xfer=1 63.20000MB 395.0% | score=61.4%\n",
      "[168510464-252765695] size=2 273.87500GB 17.3% | time=10 0.57936 2200.4% | ops=1 4467.00000 6.1% | files=9 496.00000 19.4% | bw=8 20.54118MB/s 26.7% | parallelism=2 496.00000 38.8% | xfer=1 62.78218MB 392.4% | score=47.1%\n",
      "[168510464-337020927] size=2 280.66406GB 17.8% | time=10 0.57272 2175.2% | ops=1 4577.00000 6.3% | files=9 507.00000 19.8% | bw=8 21.22664MB/s 27.5% | parallelism=2 507.00000 39.6% | xfer=1 62.79222MB 392.5% | score=47.1%\n",
      "├── [168510464-252765695] size=2 273.87500GB 17.3% | time=10 0.57936 2200.4% | ops=1 4467.00000 6.1% | files=9 496.00000 19.4% | bw=8 20.54118MB/s 26.7% | parallelism=2 496.00000 38.8% | xfer=1 62.78218MB 392.4% | score=47.1%\n",
      "└── [252765696-337020927] size=1 6.78906GB 0.4% | time=10 0.27303 1036.9% | ops=1 110.00000 0.2% | files=10 11.00000 0.4% | bw=10 0.68546MB/s 0.9% | parallelism=10 11.00000 0.9% | xfer=1 63.20000MB 395.0% | score=61.4%\n",
      "[252765696-337020927] size=1 6.78906GB 0.4% | time=10 0.27303 1036.9% | ops=1 110.00000 0.2% | files=10 11.00000 0.4% | bw=10 0.68546MB/s 0.9% | parallelism=10 11.00000 0.9% | xfer=1 63.20000MB 395.0% | score=61.4%\n",
      "------------------------------\n",
      "cm1-bw\n",
      "[0-1670764031] size=1 0.28207GB 1.3% | time=3 0.13777 26.4% | ops=1 528.00000 1.9% | files=9 184.00000 11.9% | bw=10 0.25983MB/s 0.0% | parallelism=10 1.00000 0.1% | xfer=10 0.54704MB 3.4% | score=62.9%\n",
      "[0-3341528063] size=1 0.42935GB 2.0% | time=5 0.23367 44.8% | ops=1 1103.00000 4.0% | files=8 374.00000 24.2% | bw=10 0.48240MB/s 0.0% | parallelism=10 1.00000 0.1% | xfer=10 0.39860MB 2.5% | score=64.3%\n",
      "├── [0-1670764031] size=1 0.28207GB 1.3% | time=3 0.13777 26.4% | ops=1 528.00000 1.9% | files=9 184.00000 11.9% | bw=10 0.25983MB/s 0.0% | parallelism=10 1.00000 0.1% | xfer=10 0.54704MB 3.4% | score=62.9%\n",
      "└── [1670764032-3341528063] size=1 0.14728GB 0.7% | time=2 0.09590 18.4% | ops=1 575.00000 2.1% | files=9 200.00000 12.9% | bw=10 0.22256MB/s 0.0% | parallelism=10 1.00000 0.1% | xfer=10 0.26229MB 1.6% | score=61.4%\n",
      "[1670764032-3341528063] size=1 0.14728GB 0.7% | time=2 0.09590 18.4% | ops=1 575.00000 2.1% | files=9 200.00000 12.9% | bw=10 0.22256MB/s 0.0% | parallelism=10 1.00000 0.1% | xfer=10 0.26229MB 1.6% | score=61.4%\n",
      "[0-6683056127] size=1 1.14632GB 5.4% | time=10 0.57940 111.0% | ops=1 2303.00000 8.4% | files=6 772.00000 49.9% | bw=10 1.11530MB/s 0.1% | parallelism=10 1.00000 0.1% | xfer=10 0.50970MB 3.2% | score=68.6%\n",
      "├── [0-3341528063] size=1 0.42935GB 2.0% | time=5 0.23367 44.8% | ops=1 1103.00000 4.0% | files=8 374.00000 24.2% | bw=10 0.48240MB/s 0.0% | parallelism=10 1.00000 0.1% | xfer=10 0.39860MB 2.5% | score=64.3%\n",
      "│   ├── [0-1670764031] size=1 0.28207GB 1.3% | time=3 0.13777 26.4% | ops=1 528.00000 1.9% | files=9 184.00000 11.9% | bw=10 0.25983MB/s 0.0% | parallelism=10 1.00000 0.1% | xfer=10 0.54704MB 3.4% | score=62.9%\n",
      "│   └── [1670764032-3341528063] size=1 0.14728GB 0.7% | time=2 0.09590 18.4% | ops=1 575.00000 2.1% | files=9 200.00000 12.9% | bw=10 0.22256MB/s 0.0% | parallelism=10 1.00000 0.1% | xfer=10 0.26229MB 1.6% | score=61.4%\n",
      "└── [3341528064-6683056127] size=1 0.71697GB 3.4% | time=7 0.34573 66.2% | ops=1 1200.00000 4.4% | files=8 408.00000 26.4% | bw=10 0.63290MB/s 0.0% | parallelism=10 1.00000 0.1% | xfer=10 0.61182MB 3.8% | score=67.1%\n",
      "    ├── [3341528064-5012292095] size=1 0.35873GB 1.7% | time=3 0.15646 30.0% | ops=1 612.00000 2.2% | files=9 213.00000 13.8% | bw=10 0.32922MB/s 0.0% | parallelism=10 1.00000 0.1% | xfer=10 0.60023MB 3.8% | score=62.9%\n",
      "    └── [5012292096-6683056127] size=1 0.35824GB 1.7% | time=4 0.18926 36.2% | ops=1 588.00000 2.1% | files=9 205.00000 13.3% | bw=10 0.30368MB/s 0.0% | parallelism=10 1.00000 0.1% | xfer=10 0.62388MB 3.9% | score=64.3%\n",
      "[3341528064-5012292095] size=1 0.35873GB 1.7% | time=3 0.15646 30.0% | ops=1 612.00000 2.2% | files=9 213.00000 13.8% | bw=10 0.32922MB/s 0.0% | parallelism=10 1.00000 0.1% | xfer=10 0.60023MB 3.8% | score=62.9%\n",
      "[3341528064-6683056127] size=1 0.71697GB 3.4% | time=7 0.34573 66.2% | ops=1 1200.00000 4.4% | files=8 408.00000 26.4% | bw=10 0.63290MB/s 0.0% | parallelism=10 1.00000 0.1% | xfer=10 0.61182MB 3.8% | score=67.1%\n",
      "├── [3341528064-5012292095] size=1 0.35873GB 1.7% | time=3 0.15646 30.0% | ops=1 612.00000 2.2% | files=9 213.00000 13.8% | bw=10 0.32922MB/s 0.0% | parallelism=10 1.00000 0.1% | xfer=10 0.60023MB 3.8% | score=62.9%\n",
      "└── [5012292096-6683056127] size=1 0.35824GB 1.7% | time=4 0.18926 36.2% | ops=1 588.00000 2.1% | files=9 205.00000 13.3% | bw=10 0.30368MB/s 0.0% | parallelism=10 1.00000 0.1% | xfer=10 0.62388MB 3.9% | score=64.3%\n",
      "[5012292096-6683056127] size=1 0.35824GB 1.7% | time=4 0.18926 36.2% | ops=1 588.00000 2.1% | files=9 205.00000 13.3% | bw=10 0.30368MB/s 0.0% | parallelism=10 1.00000 0.1% | xfer=10 0.62388MB 3.9% | score=64.3%\n",
      "hacc-bw\n",
      "[0-84255231] size=1 24.68750GB 1.6% | time=10 1.10476 4195.9% | ops=1 400.00000 0.5% | files=10 40.00000 1.6% | bw=10 0.58512MB/s 0.8% | parallelism=10 40.00000 3.1% | xfer=1 63.20000MB 395.0% | score=61.4%\n",
      "[252765696-337020927] size=1 6.78906GB 0.4% | time=10 0.27303 1036.9% | ops=1 110.00000 0.2% | files=10 11.00000 0.4% | bw=10 0.68546MB/s 0.9% | parallelism=10 11.00000 0.9% | xfer=1 63.20000MB 395.0% | score=61.4%\n",
      "montage-bw\n",
      "[438147840-876295679] size=1 0.00708GB 0.0% | time=1 0.00047 0.1% | ops=1 2.00000 0.0% | files=10 2.00000 0.1% | bw=10 0.01474MB/s 0.0% | parallelism=10 2.00000 1.0% | xfer=8 3.62437MB 22.7% | score=58.6%\n",
      "[876295680-1752591359] size=1 0.00329GB 0.0% | time=1 0.00041 0.0% | ops=1 1.00000 0.0% | files=10 1.00000 0.1% | bw=10 0.00784MB/s 0.0% | parallelism=10 1.00000 0.5% | xfer=8 3.37066MB 21.1% | score=58.6%\n",
      "├── [876295680-1314443519] size=1 0.00000GB 0.0% | time=1 0.00000 0.0% | ops=1 0.00000 0.0% | files=10 0.00000 0.0% | bw=10 0.00000MB/s 0.0% | parallelism=10 0.00000 0.0% | xfer=10 0.00000MB 0.0% | score=61.4%\n",
      "└── [1314443520-1752591359] size=1 0.00329GB 0.0% | time=1 0.00041 0.0% | ops=1 1.00000 0.0% | files=10 1.00000 0.1% | bw=10 0.00784MB/s 0.0% | parallelism=10 1.00000 0.5% | xfer=8 3.37066MB 21.1% | score=58.6%\n",
      "[1314443520-1752591359] size=1 0.00329GB 0.0% | time=1 0.00041 0.0% | ops=1 1.00000 0.0% | files=10 1.00000 0.1% | bw=10 0.00784MB/s 0.0% | parallelism=10 1.00000 0.5% | xfer=8 3.37066MB 21.1% | score=58.6%\n"
     ]
    }
   ],
   "source": [
    "render_cross_nodes([cm1_write_root, hacc_write_root, montage_write_root])"
   ]
  },
  {
   "cell_type": "code",
   "execution_count": 128,
   "id": "30d828b4-8ed0-44a2-acfb-e8abae6c97ce",
   "metadata": {},
   "outputs": [
    {
     "name": "stdout",
     "output_type": "stream",
     "text": [
      "------------------------------\n",
      "cm1-time\n",
      "[3341528064-6683056127] time=10 0.60209 115.3% | ops=8 9734.00000 35.4% | files=5 807.00000 52.2% | parallelism=10 32.00000 2.5% | score=82.5%\n",
      "├── [3341528064-5012292095] time=7 0.35785 68.5% | ops=3 4930.00000 18.0% | files=8 417.00000 27.0% | parallelism=10 32.00000 2.5% | score=70.0%\n",
      "└── [5012292096-6683056127] time=5 0.24423 46.8% | ops=3 4804.00000 17.5% | files=8 401.00000 25.9% | parallelism=10 32.00000 2.5% | score=65.0%\n",
      "hacc-time\n",
      "[0-84255231] time=10 2.14731 8155.5% | ops=3 14008.00000 19.2% | files=2 2281.00000 89.1% | parallelism=10 1280.00000 100.0% | score=62.5%\n",
      "[0-168510463] time=10 3.24631 12329.4% | ops=8 25822.00000 35.4% | files=1 2560.00000 100.0% | parallelism=10 1280.00000 100.0% | score=72.5%\n",
      "├── [0-84255231] time=10 2.14731 8155.5% | ops=3 14008.00000 19.2% | files=2 2281.00000 89.1% | parallelism=10 1280.00000 100.0% | score=62.5%\n",
      "└── [84255232-168510463] time=10 1.10072 4180.5% | ops=3 11814.00000 16.2% | files=6 1277.00000 49.9% | parallelism=10 1278.00000 99.8% | score=72.5%\n",
      "[84255232-168510463] time=10 1.10072 4180.5% | ops=3 11814.00000 16.2% | files=6 1277.00000 49.9% | parallelism=10 1278.00000 99.8% | score=72.5%\n",
      "[0-337020927] time=10 3.24979 12342.6% | ops=9 47328.00000 64.9% | files=1 2561.00000 100.0% | parallelism=10 1280.00000 100.0% | score=75.0%\n",
      "├── [0-168510463] time=10 3.24631 12329.4% | ops=8 25822.00000 35.4% | files=1 2560.00000 100.0% | parallelism=10 1280.00000 100.0% | score=72.5%\n",
      "│   ├── [0-84255231] time=10 2.14731 8155.5% | ops=3 14008.00000 19.2% | files=2 2281.00000 89.1% | parallelism=10 1280.00000 100.0% | score=62.5%\n",
      "│   └── [84255232-168510463] time=10 1.10072 4180.5% | ops=3 11814.00000 16.2% | files=6 1277.00000 49.9% | parallelism=10 1278.00000 99.8% | score=72.5%\n",
      "└── [168510464-337020927] time=2 0.00367 13.9% | ops=6 21506.00000 29.5% | files=6 1213.00000 47.4% | parallelism=9 1213.00000 94.8% | score=57.5%\n",
      "    ├── [168510464-252765695] time=2 0.00367 13.9% | ops=6 20115.00000 27.6% | files=6 1205.00000 47.1% | parallelism=9 1204.00000 94.1% | score=57.5%\n",
      "    └── [252765696-337020927] time=1 0.00019 0.7% | ops=1 1391.00000 1.9% | files=10 187.00000 7.3% | parallelism=9 186.00000 14.5% | score=52.5%\n",
      "------------------------------\n"
     ]
    }
   ],
   "source": [
    "render_cross_nodes([cm1_metadata_root, hacc_metadata_root, montage_metadata_root])"
   ]
  },
  {
   "cell_type": "code",
   "execution_count": 192,
   "id": "336227e0-89e8-48da-8b1e-3b6920758a8e",
   "metadata": {},
   "outputs": [
    {
     "data": {
      "text/html": [
       "<div>\n",
       "<style scoped>\n",
       "    .dataframe tbody tr th:only-of-type {\n",
       "        vertical-align: middle;\n",
       "    }\n",
       "\n",
       "    .dataframe tbody tr th {\n",
       "        vertical-align: top;\n",
       "    }\n",
       "\n",
       "    .dataframe thead th {\n",
       "        text-align: right;\n",
       "    }\n",
       "</style>\n",
       "<table border=\"1\" class=\"dataframe\">\n",
       "  <thead>\n",
       "    <tr style=\"text-align: right;\">\n",
       "      <th></th>\n",
       "      <th>size</th>\n",
       "      <th>time</th>\n",
       "      <th>ops</th>\n",
       "      <th>files</th>\n",
       "      <th>bw</th>\n",
       "      <th>parallelism</th>\n",
       "      <th>xfer</th>\n",
       "    </tr>\n",
       "  </thead>\n",
       "  <tbody>\n",
       "    <tr>\n",
       "      <th>0</th>\n",
       "      <td>1.0</td>\n",
       "      <td>10.0</td>\n",
       "      <td>1.0</td>\n",
       "      <td>6.0</td>\n",
       "      <td>10.0</td>\n",
       "      <td>10.0</td>\n",
       "      <td>10.0</td>\n",
       "    </tr>\n",
       "    <tr>\n",
       "      <th>1</th>\n",
       "      <td>0.0</td>\n",
       "      <td>10.0</td>\n",
       "      <td>8.0</td>\n",
       "      <td>5.0</td>\n",
       "      <td>0.0</td>\n",
       "      <td>10.0</td>\n",
       "      <td>0.0</td>\n",
       "    </tr>\n",
       "    <tr>\n",
       "      <th>2</th>\n",
       "      <td>5.0</td>\n",
       "      <td>10.0</td>\n",
       "      <td>3.0</td>\n",
       "      <td>6.0</td>\n",
       "      <td>7.0</td>\n",
       "      <td>10.0</td>\n",
       "      <td>1.0</td>\n",
       "    </tr>\n",
       "    <tr>\n",
       "      <th>3</th>\n",
       "      <td>1.0</td>\n",
       "      <td>10.0</td>\n",
       "      <td>1.0</td>\n",
       "      <td>10.0</td>\n",
       "      <td>10.0</td>\n",
       "      <td>8.0</td>\n",
       "      <td>1.0</td>\n",
       "    </tr>\n",
       "    <tr>\n",
       "      <th>4</th>\n",
       "      <td>1.0</td>\n",
       "      <td>10.0</td>\n",
       "      <td>1.0</td>\n",
       "      <td>10.0</td>\n",
       "      <td>10.0</td>\n",
       "      <td>8.0</td>\n",
       "      <td>1.0</td>\n",
       "    </tr>\n",
       "    <tr>\n",
       "      <th>5</th>\n",
       "      <td>5.0</td>\n",
       "      <td>10.0</td>\n",
       "      <td>3.0</td>\n",
       "      <td>6.0</td>\n",
       "      <td>7.0</td>\n",
       "      <td>9.0</td>\n",
       "      <td>1.0</td>\n",
       "    </tr>\n",
       "    <tr>\n",
       "      <th>6</th>\n",
       "      <td>5.0</td>\n",
       "      <td>10.0</td>\n",
       "      <td>3.0</td>\n",
       "      <td>6.0</td>\n",
       "      <td>7.0</td>\n",
       "      <td>7.0</td>\n",
       "      <td>1.0</td>\n",
       "    </tr>\n",
       "    <tr>\n",
       "      <th>7</th>\n",
       "      <td>1.0</td>\n",
       "      <td>10.0</td>\n",
       "      <td>1.0</td>\n",
       "      <td>10.0</td>\n",
       "      <td>10.0</td>\n",
       "      <td>10.0</td>\n",
       "      <td>1.0</td>\n",
       "    </tr>\n",
       "    <tr>\n",
       "      <th>8</th>\n",
       "      <td>5.0</td>\n",
       "      <td>10.0</td>\n",
       "      <td>3.0</td>\n",
       "      <td>6.0</td>\n",
       "      <td>4.0</td>\n",
       "      <td>10.0</td>\n",
       "      <td>1.0</td>\n",
       "    </tr>\n",
       "    <tr>\n",
       "      <th>9</th>\n",
       "      <td>4.0</td>\n",
       "      <td>10.0</td>\n",
       "      <td>2.0</td>\n",
       "      <td>7.0</td>\n",
       "      <td>7.0</td>\n",
       "      <td>2.0</td>\n",
       "      <td>1.0</td>\n",
       "    </tr>\n",
       "    <tr>\n",
       "      <th>10</th>\n",
       "      <td>1.0</td>\n",
       "      <td>10.0</td>\n",
       "      <td>1.0</td>\n",
       "      <td>10.0</td>\n",
       "      <td>10.0</td>\n",
       "      <td>10.0</td>\n",
       "      <td>1.0</td>\n",
       "    </tr>\n",
       "    <tr>\n",
       "      <th>11</th>\n",
       "      <td>4.0</td>\n",
       "      <td>10.0</td>\n",
       "      <td>2.0</td>\n",
       "      <td>7.0</td>\n",
       "      <td>7.0</td>\n",
       "      <td>2.0</td>\n",
       "      <td>1.0</td>\n",
       "    </tr>\n",
       "    <tr>\n",
       "      <th>12</th>\n",
       "      <td>2.0</td>\n",
       "      <td>10.0</td>\n",
       "      <td>1.0</td>\n",
       "      <td>9.0</td>\n",
       "      <td>8.0</td>\n",
       "      <td>2.0</td>\n",
       "      <td>1.0</td>\n",
       "    </tr>\n",
       "    <tr>\n",
       "      <th>13</th>\n",
       "      <td>2.0</td>\n",
       "      <td>10.0</td>\n",
       "      <td>1.0</td>\n",
       "      <td>9.0</td>\n",
       "      <td>8.0</td>\n",
       "      <td>2.0</td>\n",
       "      <td>1.0</td>\n",
       "    </tr>\n",
       "    <tr>\n",
       "      <th>14</th>\n",
       "      <td>1.0</td>\n",
       "      <td>10.0</td>\n",
       "      <td>1.0</td>\n",
       "      <td>10.0</td>\n",
       "      <td>10.0</td>\n",
       "      <td>10.0</td>\n",
       "      <td>1.0</td>\n",
       "    </tr>\n",
       "    <tr>\n",
       "      <th>15</th>\n",
       "      <td>0.0</td>\n",
       "      <td>10.0</td>\n",
       "      <td>9.0</td>\n",
       "      <td>1.0</td>\n",
       "      <td>0.0</td>\n",
       "      <td>10.0</td>\n",
       "      <td>0.0</td>\n",
       "    </tr>\n",
       "    <tr>\n",
       "      <th>16</th>\n",
       "      <td>0.0</td>\n",
       "      <td>10.0</td>\n",
       "      <td>8.0</td>\n",
       "      <td>1.0</td>\n",
       "      <td>0.0</td>\n",
       "      <td>10.0</td>\n",
       "      <td>0.0</td>\n",
       "    </tr>\n",
       "    <tr>\n",
       "      <th>17</th>\n",
       "      <td>0.0</td>\n",
       "      <td>10.0</td>\n",
       "      <td>3.0</td>\n",
       "      <td>2.0</td>\n",
       "      <td>0.0</td>\n",
       "      <td>10.0</td>\n",
       "      <td>0.0</td>\n",
       "    </tr>\n",
       "    <tr>\n",
       "      <th>18</th>\n",
       "      <td>0.0</td>\n",
       "      <td>10.0</td>\n",
       "      <td>3.0</td>\n",
       "      <td>6.0</td>\n",
       "      <td>0.0</td>\n",
       "      <td>10.0</td>\n",
       "      <td>0.0</td>\n",
       "    </tr>\n",
       "  </tbody>\n",
       "</table>\n",
       "</div>"
      ],
      "text/plain": [
       "    size  time  ops  files    bw  parallelism  xfer\n",
       "0    1.0  10.0  1.0    6.0  10.0         10.0  10.0\n",
       "1    0.0  10.0  8.0    5.0   0.0         10.0   0.0\n",
       "2    5.0  10.0  3.0    6.0   7.0         10.0   1.0\n",
       "3    1.0  10.0  1.0   10.0  10.0          8.0   1.0\n",
       "4    1.0  10.0  1.0   10.0  10.0          8.0   1.0\n",
       "5    5.0  10.0  3.0    6.0   7.0          9.0   1.0\n",
       "6    5.0  10.0  3.0    6.0   7.0          7.0   1.0\n",
       "7    1.0  10.0  1.0   10.0  10.0         10.0   1.0\n",
       "8    5.0  10.0  3.0    6.0   4.0         10.0   1.0\n",
       "9    4.0  10.0  2.0    7.0   7.0          2.0   1.0\n",
       "10   1.0  10.0  1.0   10.0  10.0         10.0   1.0\n",
       "11   4.0  10.0  2.0    7.0   7.0          2.0   1.0\n",
       "12   2.0  10.0  1.0    9.0   8.0          2.0   1.0\n",
       "13   2.0  10.0  1.0    9.0   8.0          2.0   1.0\n",
       "14   1.0  10.0  1.0   10.0  10.0         10.0   1.0\n",
       "15   0.0  10.0  9.0    1.0   0.0         10.0   0.0\n",
       "16   0.0  10.0  8.0    1.0   0.0         10.0   0.0\n",
       "17   0.0  10.0  3.0    2.0   0.0         10.0   0.0\n",
       "18   0.0  10.0  3.0    6.0   0.0         10.0   0.0"
      ]
     },
     "execution_count": 192,
     "metadata": {},
     "output_type": "execute_result"
    }
   ],
   "source": [
    "import pandas as pd\n",
    "from anytree import PreOrderIter\n",
    "\n",
    "def metric_df(m):\n",
    "    cols = ['size','time','ops','files','bw','parallelism','xfer']\n",
    "    df = pd.DataFrame(columns=cols)\n",
    "\n",
    "    for root in [cm1_read_root, cm1_write_root, cm1_metadata_root, \n",
    "                 hacc_read_root, hacc_write_root, hacc_metadata_root, \n",
    "                 montage_read_root, montage_write_root, montage_metadata_root]:\n",
    "        for node in PreOrderIter(root):\n",
    "            item = {}\n",
    "            for col in cols:\n",
    "                if col in node.score:\n",
    "                    item[col] = float(node.score[col]['label'])\n",
    "                else:\n",
    "                    item[col] = 0.0\n",
    "            if node.score[m]['label'] == 10:\n",
    "                df = df.append(item, ignore_index=True)\n",
    "    return df\n",
    "                  \n",
    "df = metric_df('time')\n",
    "\n",
    "df"
   ]
  },
  {
   "cell_type": "code",
   "execution_count": 189,
   "id": "73422ab7-75e1-4acf-ac09-0b80192fb685",
   "metadata": {},
   "outputs": [
    {
     "data": {
      "text/html": [
       "<div>\n",
       "<style scoped>\n",
       "    .dataframe tbody tr th:only-of-type {\n",
       "        vertical-align: middle;\n",
       "    }\n",
       "\n",
       "    .dataframe tbody tr th {\n",
       "        vertical-align: top;\n",
       "    }\n",
       "\n",
       "    .dataframe thead th {\n",
       "        text-align: right;\n",
       "    }\n",
       "</style>\n",
       "<table border=\"1\" class=\"dataframe\">\n",
       "  <thead>\n",
       "    <tr style=\"text-align: right;\">\n",
       "      <th></th>\n",
       "      <th>size</th>\n",
       "      <th>time</th>\n",
       "      <th>ops</th>\n",
       "      <th>files</th>\n",
       "      <th>bw</th>\n",
       "      <th>parallelism</th>\n",
       "      <th>xfer</th>\n",
       "    </tr>\n",
       "  </thead>\n",
       "  <tbody>\n",
       "    <tr>\n",
       "      <th>size</th>\n",
       "      <td>1.000000</td>\n",
       "      <td>NaN</td>\n",
       "      <td>-0.262091</td>\n",
       "      <td>0.133078</td>\n",
       "      <td>0.300279</td>\n",
       "      <td>-0.347036</td>\n",
       "      <td>0.012952</td>\n",
       "    </tr>\n",
       "    <tr>\n",
       "      <th>time</th>\n",
       "      <td>NaN</td>\n",
       "      <td>NaN</td>\n",
       "      <td>NaN</td>\n",
       "      <td>NaN</td>\n",
       "      <td>NaN</td>\n",
       "      <td>NaN</td>\n",
       "      <td>NaN</td>\n",
       "    </tr>\n",
       "    <tr>\n",
       "      <th>ops</th>\n",
       "      <td>-0.262091</td>\n",
       "      <td>NaN</td>\n",
       "      <td>1.000000</td>\n",
       "      <td>-0.818423</td>\n",
       "      <td>-0.821523</td>\n",
       "      <td>0.343476</td>\n",
       "      <td>-0.332465</td>\n",
       "    </tr>\n",
       "    <tr>\n",
       "      <th>files</th>\n",
       "      <td>0.133078</td>\n",
       "      <td>NaN</td>\n",
       "      <td>-0.818423</td>\n",
       "      <td>1.000000</td>\n",
       "      <td>0.851789</td>\n",
       "      <td>-0.303835</td>\n",
       "      <td>0.105686</td>\n",
       "    </tr>\n",
       "    <tr>\n",
       "      <th>bw</th>\n",
       "      <td>0.300279</td>\n",
       "      <td>NaN</td>\n",
       "      <td>-0.821523</td>\n",
       "      <td>0.851789</td>\n",
       "      <td>1.000000</td>\n",
       "      <td>-0.279460</td>\n",
       "      <td>0.416533</td>\n",
       "    </tr>\n",
       "    <tr>\n",
       "      <th>parallelism</th>\n",
       "      <td>-0.347036</td>\n",
       "      <td>NaN</td>\n",
       "      <td>0.343476</td>\n",
       "      <td>-0.303835</td>\n",
       "      <td>-0.279460</td>\n",
       "      <td>1.000000</td>\n",
       "      <td>0.066240</td>\n",
       "    </tr>\n",
       "    <tr>\n",
       "      <th>xfer</th>\n",
       "      <td>0.012952</td>\n",
       "      <td>NaN</td>\n",
       "      <td>-0.332465</td>\n",
       "      <td>0.105686</td>\n",
       "      <td>0.416533</td>\n",
       "      <td>0.066240</td>\n",
       "      <td>1.000000</td>\n",
       "    </tr>\n",
       "  </tbody>\n",
       "</table>\n",
       "</div>"
      ],
      "text/plain": [
       "                 size  time       ops     files        bw  parallelism  \\\n",
       "size         1.000000   NaN -0.262091  0.133078  0.300279    -0.347036   \n",
       "time              NaN   NaN       NaN       NaN       NaN          NaN   \n",
       "ops         -0.262091   NaN  1.000000 -0.818423 -0.821523     0.343476   \n",
       "files        0.133078   NaN -0.818423  1.000000  0.851789    -0.303835   \n",
       "bw           0.300279   NaN -0.821523  0.851789  1.000000    -0.279460   \n",
       "parallelism -0.347036   NaN  0.343476 -0.303835 -0.279460     1.000000   \n",
       "xfer         0.012952   NaN -0.332465  0.105686  0.416533     0.066240   \n",
       "\n",
       "                 xfer  \n",
       "size         0.012952  \n",
       "time              NaN  \n",
       "ops         -0.332465  \n",
       "files        0.105686  \n",
       "bw           0.416533  \n",
       "parallelism  0.066240  \n",
       "xfer         1.000000  "
      ]
     },
     "execution_count": 189,
     "metadata": {},
     "output_type": "execute_result"
    }
   ],
   "source": [
    "df.corr()"
   ]
  },
  {
   "cell_type": "code",
   "execution_count": 191,
   "id": "7204b9c2-5d3c-4a6c-922f-04dbac6a3211",
   "metadata": {},
   "outputs": [
    {
     "data": {
      "text/plain": [
       "<matplotlib.axes._subplots.AxesSubplot at 0x20003d3b6588>"
      ]
     },
     "execution_count": 191,
     "metadata": {},
     "output_type": "execute_result"
    },
    {
     "data": {
      "image/png": "[encoded data removed]",
      "text/plain": [
       "<Figure size 640x480 with 2 Axes>"
      ]
     },
     "metadata": {},
     "output_type": "display_data"
    }
   ],
   "source": [
    "import seaborn as sns\n",
    "sns.heatmap(df.corr())"
   ]
  },
  {
   "cell_type": "code",
   "execution_count": null,
   "id": "86d75ede-5c6c-409e-a7ea-9eb7c3128173",
   "metadata": {},
   "outputs": [],
   "source": []
  }
 ],
 "metadata": {
  "kernelspec": {
   "display_name": "digio-virenv-lassen",
   "language": "python",
   "name": "digio-virenv-lassen"
  },
  "language_info": {
   "codemirror_mode": {
    "name": "ipython",
    "version": 3
   },
   "file_extension": ".py",
   "mimetype": "text/x-python",
   "name": "python",
   "nbconvert_exporter": "python",
   "pygments_lexer": "ipython3",
   "version": "3.7.2"
  },
  "vscode": {
   "interpreter": {
    "hash": "60e611992ff4884e53704c792d3e673c1345bc4edefd19673c75adce4311bc94"
   }
  }
 },
 "nbformat": 4,
 "nbformat_minor": 5
}

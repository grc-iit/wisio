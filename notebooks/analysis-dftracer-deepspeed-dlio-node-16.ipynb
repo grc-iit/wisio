{
 "cells": [
  {
   "cell_type": "code",
   "execution_count": 1,
   "id": "0e636848",
   "metadata": {
    "execution": {
     "iopub.execute_input": "2024-10-08T20:42:53.255299Z",
     "iopub.status.busy": "2024-10-08T20:42:53.254529Z",
     "iopub.status.idle": "2024-10-08T20:42:53.294012Z",
     "shell.execute_reply": "2024-10-08T20:42:53.293471Z"
    },
    "papermill": {
     "duration": 0.047097,
     "end_time": "2024-10-08T20:42:53.295550",
     "exception": false,
     "start_time": "2024-10-08T20:42:53.248453",
     "status": "completed"
    },
    "tags": []
   },
   "outputs": [
    {
     "name": "stdout",
     "output_type": "stream",
     "text": [
      "time: 213 µs (started: 2024-10-08 13:42:53 -07:00)\n"
     ]
    }
   ],
   "source": [
    "%load_ext autoreload\n",
    "%load_ext autotime"
   ]
  },
  {
   "cell_type": "code",
   "execution_count": 2,
   "id": "4357264e",
   "metadata": {
    "execution": {
     "iopub.execute_input": "2024-10-08T20:42:53.307767Z",
     "iopub.status.busy": "2024-10-08T20:42:53.307406Z",
     "iopub.status.idle": "2024-10-08T20:42:53.311559Z",
     "shell.execute_reply": "2024-10-08T20:42:53.311016Z"
    },
    "papermill": {
     "duration": 0.015936,
     "end_time": "2024-10-08T20:42:53.315905",
     "exception": false,
     "start_time": "2024-10-08T20:42:53.299969",
     "status": "completed"
    },
    "tags": []
   },
   "outputs": [
    {
     "name": "stdout",
     "output_type": "stream",
     "text": [
      "time: 612 µs (started: 2024-10-08 13:42:53 -07:00)\n"
     ]
    }
   ],
   "source": [
    "import os\n",
    "import sys\n",
    "import time\n",
    "import warnings\n",
    "\n",
    "# Add WisIO to the path\n",
    "sys.path.append(os.path.abspath(\"../\"))\n",
    "\n",
    "# Filter warnings\n",
    "warnings.filterwarnings('ignore')"
   ]
  },
  {
   "cell_type": "code",
   "execution_count": 3,
   "id": "2ec27af6",
   "metadata": {
    "execution": {
     "iopub.execute_input": "2024-10-08T20:42:53.323978Z",
     "iopub.status.busy": "2024-10-08T20:42:53.323521Z",
     "iopub.status.idle": "2024-10-08T20:42:53.327904Z",
     "shell.execute_reply": "2024-10-08T20:42:53.327386Z"
    },
    "papermill": {
     "duration": 0.010724,
     "end_time": "2024-10-08T20:42:53.330176",
     "exception": false,
     "start_time": "2024-10-08T20:42:53.319452",
     "status": "completed"
    },
    "tags": [
     "parameters"
    ]
   },
   "outputs": [
    {
     "name": "stdout",
     "output_type": "stream",
     "text": [
      "time: 741 µs (started: 2024-10-08 13:42:53 -07:00)\n"
     ]
    }
   ],
   "source": [
    "analyzer = \"dftracer\"\n",
    "checkpoint = True\n",
    "logical_view_types = False\n",
    "output_max_bottlenecks = 1\n",
    "output_root_only = False\n",
    "run_dir = f\".wisio/{analyzer}/{int(time.time())}\"\n",
    "bottleneck_dir = f\"{run_dir}/bottlenecks\"\n",
    "checkpoint_dir = f\"{run_dir}/checkpoints\"\n",
    "trace_path = \"/p/lustre3/iopp/dftracer-traces/v1.0.5-develop/corona/cm1_1_48_20240926/cm1_1_48_20240926-COMPACT/*.pfw.gz\""
   ]
  },
  {
   "cell_type": "code",
   "execution_count": 4,
   "id": "9b92f220",
   "metadata": {
    "execution": {
     "iopub.execute_input": "2024-10-08T20:42:53.339044Z",
     "iopub.status.busy": "2024-10-08T20:42:53.338626Z",
     "iopub.status.idle": "2024-10-08T20:42:53.343937Z",
     "shell.execute_reply": "2024-10-08T20:42:53.343407Z"
    },
    "papermill": {
     "duration": 0.017723,
     "end_time": "2024-10-08T20:42:53.351320",
     "exception": false,
     "start_time": "2024-10-08T20:42:53.333597",
     "status": "completed"
    },
    "tags": [
     "injected-parameters"
    ]
   },
   "outputs": [
    {
     "name": "stdout",
     "output_type": "stream",
     "text": [
      "time: 1.08 ms (started: 2024-10-08 13:42:53 -07:00)\n"
     ]
    }
   ],
   "source": [
    "# Parameters\n",
    "analyzer = \"dftracer\"\n",
    "checkpoint = True\n",
    "checkpoint_dir = \"/usr/workspace/iopp/wisio_logs/_checkpoints/dftracer-deepspeed-dlio-node-16\"\n",
    "logical_view_types = False\n",
    "output_max_bottlenecks = 1\n",
    "output_root_only = False\n",
    "run_dir = \".wisio/dftracer/deepspeed-dlio-node-16\"\n",
    "trace_path = \"/p/lustre3/iopp/dftracer-traces/v1.0.5-develop/corona/megatron_deepspeed-1_16_8/megatron_deepspeed-1_16_8-COMPACT/*.pfw.gz\"\n"
   ]
  },
  {
   "cell_type": "code",
   "execution_count": 5,
   "id": "07f41642",
   "metadata": {
    "execution": {
     "iopub.execute_input": "2024-10-08T20:42:53.360291Z",
     "iopub.status.busy": "2024-10-08T20:42:53.359932Z",
     "iopub.status.idle": "2024-10-08T20:43:06.200550Z",
     "shell.execute_reply": "2024-10-08T20:43:06.199091Z"
    },
    "papermill": {
     "duration": 12.84683,
     "end_time": "2024-10-08T20:43:06.202449",
     "exception": false,
     "start_time": "2024-10-08T20:42:53.355619",
     "status": "completed"
    },
    "tags": []
   },
   "outputs": [
    {
     "name": "stdout",
     "output_type": "stream",
     "text": [
      "time: 12.8 s (started: 2024-10-08 13:42:53 -07:00)\n"
     ]
    }
   ],
   "source": [
    "from distributed import Client\n",
    "from hydra import compose, initialize\n",
    "from hydra.core.hydra_config import HydraConfig\n",
    "from hydra.utils import instantiate\n",
    "from wisio.config import init_hydra_config_store\n",
    "from wisio.utils.file_utils import ensure_dir\n",
    "\n",
    "ensure_dir(run_dir)\n",
    "\n",
    "with initialize(version_base=None, config_path=None):\n",
    "    init_hydra_config_store()\n",
    "    cfg = compose(\n",
    "        config_name=\"config\",\n",
    "        overrides=[\n",
    "            f\"+analyzer={analyzer}\",\n",
    "            f\"analyzer.bottleneck_dir={bottleneck_dir}\",\n",
    "            f\"analyzer.checkpoint={checkpoint}\",\n",
    "            f\"analyzer.checkpoint_dir={checkpoint_dir}\",\n",
    "            f\"hydra.run.dir={run_dir}\",\n",
    "            f\"hydra.runtime.output_dir={run_dir}\",\n",
    "            f\"logical_view_types={logical_view_types}\",\n",
    "            f\"output.max_bottlenecks={output_max_bottlenecks}\",\n",
    "            f\"output.root_only={output_root_only}\",\n",
    "            f\"trace_path={trace_path}\",\n",
    "        ],\n",
    "        return_hydra_config=True,\n",
    "    )\n",
    "    HydraConfig.instance().set_config(cfg)\n",
    "    cluster = instantiate(cfg.cluster)\n",
    "    client = Client(cluster)\n",
    "    analyzer = instantiate(cfg.analyzer)\n",
    "    output = instantiate(cfg.output)"
   ]
  },
  {
   "cell_type": "code",
   "execution_count": 6,
   "id": "95cbe040",
   "metadata": {
    "execution": {
     "iopub.execute_input": "2024-10-08T20:43:06.213275Z",
     "iopub.status.busy": "2024-10-08T20:43:06.211950Z",
     "iopub.status.idle": "2024-10-08T20:52:44.209546Z",
     "shell.execute_reply": "2024-10-08T20:52:44.208529Z"
    },
    "papermill": {
     "duration": 578.010267,
     "end_time": "2024-10-08T20:52:44.217105",
     "exception": false,
     "start_time": "2024-10-08T20:43:06.206838",
     "status": "completed"
    },
    "tags": []
   },
   "outputs": [
    {
     "name": "stdout",
     "output_type": "stream",
     "text": [
      "time: 9min 37s (started: 2024-10-08 13:43:06 -07:00)\n"
     ]
    }
   ],
   "source": [
    "result = analyzer.analyze_trace(\n",
    "    trace_path=cfg.trace_path,\n",
    "    # accuracy=cfg.accuracy,\n",
    "    exclude_bottlenecks=cfg.exclude_bottlenecks,\n",
    "    exclude_characteristics=cfg.exclude_characteristics,\n",
    "    logical_view_types=cfg.logical_view_types,\n",
    "    metrics=cfg.metrics,\n",
    "    threshold=cfg.threshold,\n",
    "    view_types=cfg.view_types,\n",
    ")"
   ]
  },
  {
   "cell_type": "code",
   "execution_count": 7,
   "id": "ff26c07d",
   "metadata": {
    "execution": {
     "iopub.execute_input": "2024-10-08T20:52:44.235100Z",
     "iopub.status.busy": "2024-10-08T20:52:44.234866Z",
     "iopub.status.idle": "2024-10-08T21:01:17.821414Z",
     "shell.execute_reply": "2024-10-08T21:01:17.820227Z"
    },
    "papermill": {
     "duration": 513.601748,
     "end_time": "2024-10-08T21:01:17.822948",
     "exception": false,
     "start_time": "2024-10-08T20:52:44.221200",
     "status": "completed"
    },
    "tags": []
   },
   "outputs": [
    {
     "data": {
      "text/html": [
       "<pre style=\"white-space:pre;overflow-x:auto;line-height:normal;font-family:Menlo,'DejaVu Sans Mono',consolas,'Courier New',monospace\">╭────────────────────────────────────────────── I/O Characteristics ──────────────────────────────────────────────╮\n",
       "│                                                                                                                 │\n",
       "│ <span style=\"color: #008080; text-decoration-color: #008080\"> Runtime         </span> 501.06 seconds                                                                                │\n",
       "│ <span style=\"color: #008080; text-decoration-color: #008080\"> I/O Time        </span> 181.40 seconds                                                                                │\n",
       "│ <span style=\"color: #008080; text-decoration-color: #008080\">                 </span> ├── Read - 1.79 seconds (0.99%)                                                               │\n",
       "│ <span style=\"color: #008080; text-decoration-color: #008080\">                 </span> ├── Write - 158.26 seconds (87.24%)                                                           │\n",
       "│ <span style=\"color: #008080; text-decoration-color: #008080\">                 </span> └── Metadata - 24.63 seconds (13.58%)                                                         │\n",
       "│ <span style=\"color: #008080; text-decoration-color: #008080\"> I/O Operations  </span> 25,740,376 ops                                                                                │\n",
       "│ <span style=\"color: #008080; text-decoration-color: #008080\">                 </span> ├── Read - 1,293,952 ops (5.03%)                                                              │\n",
       "│ <span style=\"color: #008080; text-decoration-color: #008080\">                 </span> ├── Write - 653,917 ops (2.54%)                                                               │\n",
       "│ <span style=\"color: #008080; text-decoration-color: #008080\">                 </span> └── Metadata - 23,298,811 ops (90.51%)                                                        │\n",
       "│ <span style=\"color: #008080; text-decoration-color: #008080\"> I/O Size        </span> 5.72 TiB                                                                                      │\n",
       "│ <span style=\"color: #008080; text-decoration-color: #008080\">                 </span> ├── Read - 7.52 GiB (0.13%)                                                                   │\n",
       "│ <span style=\"color: #008080; text-decoration-color: #008080\">                 </span> └── Write - 5.71 TiB (99.87%)                                                                 │\n",
       "│ <span style=\"color: #008080; text-decoration-color: #008080\"> Read Requests   </span> 4 kiB-1 MiB - 1,293,426 ops                                                                   │\n",
       "│ <span style=\"color: #008080; text-decoration-color: #008080\">                 </span> ├── &lt;4 kiB - 641,399 ops (49.59%)                                                             │\n",
       "│ <span style=\"color: #008080; text-decoration-color: #008080\">                 </span> ├── 4-16 kiB - 370,563 ops (28.65%)                                                           │\n",
       "│ <span style=\"color: #008080; text-decoration-color: #008080\">                 </span> ├── 16-64 kiB - 242,872 ops (18.78%)                                                          │\n",
       "│ <span style=\"color: #008080; text-decoration-color: #008080\">                 </span> ├── 64-256 kiB - 36,288 ops (2.81%)                                                           │\n",
       "│ <span style=\"color: #008080; text-decoration-color: #008080\">                 </span> └── 256 kiB-1 MiB - 2,304 ops (0.18%)                                                         │\n",
       "│ <span style=\"color: #008080; text-decoration-color: #008080\"> Write Requests  </span> 4 kiB-&gt;64 MiB - 653,917 ops                                                                   │\n",
       "│ <span style=\"color: #008080; text-decoration-color: #008080\">                 </span> ├── &lt;4 kiB - 532,768 ops (81.47%)                                                             │\n",
       "│ <span style=\"color: #008080; text-decoration-color: #008080\">                 </span> ├── 4-16 kiB - 129 ops (0.02%)                                                                │\n",
       "│ <span style=\"color: #008080; text-decoration-color: #008080\">                 </span> ├── 16-64 kiB - 9,984 ops (1.53%)                                                             │\n",
       "│ <span style=\"color: #008080; text-decoration-color: #008080\">                 </span> ├── 1-4 MiB - 297 ops (0.05%)                                                                 │\n",
       "│ <span style=\"color: #008080; text-decoration-color: #008080\">                 </span> ├── 16-64 MiB - 2,591 ops (0.40%)                                                             │\n",
       "│ <span style=\"color: #008080; text-decoration-color: #008080\">                 </span> └── &gt;64 MiB - 108,148 ops (16.54%)                                                            │\n",
       "│ <span style=\"color: #008080; text-decoration-color: #008080\"> Nodes           </span> 16 nodes                                                                                      │\n",
       "│ <span style=\"color: #008080; text-decoration-color: #008080\">                 </span> ├── 26265 - 181.40 s (100.00%) - 481.36 MiB/365.34 GiB R/W (0.01/6.24%) - 1,608,261 ops       │\n",
       "│ <span style=\"color: #008080; text-decoration-color: #008080\">                 </span> │   (6.25%)                                                                                   │\n",
       "│ <span style=\"color: #008080; text-decoration-color: #008080\">                 </span> ├── 7923 - 181.32 s (99.95%) - 481.35 MiB/365.34 GiB R/W (0.01/6.24%) - 1,608,274 ops         │\n",
       "│ <span style=\"color: #008080; text-decoration-color: #008080\">                 </span> │   (6.25%)                                                                                   │\n",
       "│ <span style=\"color: #008080; text-decoration-color: #008080\">                 </span> ├── 50452 - 180.36 s (99.43%) - 481.35 MiB/365.34 GiB R/W (0.01/6.24%) - 1,608,251 ops        │\n",
       "│ <span style=\"color: #008080; text-decoration-color: #008080\">                 </span> │   (6.25%)                                                                                   │\n",
       "│ <span style=\"color: #008080; text-decoration-color: #008080\">                 </span> ├── 31683 - 180.34 s (99.41%) - 481.32 MiB/365.34 GiB R/W (0.01/6.24%) - 1,608,267 ops        │\n",
       "│ <span style=\"color: #008080; text-decoration-color: #008080\">                 </span> │   (6.25%)                                                                                   │\n",
       "│ <span style=\"color: #008080; text-decoration-color: #008080\">                 </span> ├── 28275 - 179.59 s (99.00%) - 481.35 MiB/365.34 GiB R/W (0.01/6.24%) - 1,608,279 ops        │\n",
       "│ <span style=\"color: #008080; text-decoration-color: #008080\">                 </span> │   (6.25%)                                                                                   │\n",
       "│ <span style=\"color: #008080; text-decoration-color: #008080\">                 </span> ├── 25074 - 179.52 s (98.97%) - 481.35 MiB/365.34 GiB R/W (0.01/6.24%) - 1,608,280 ops        │\n",
       "│ <span style=\"color: #008080; text-decoration-color: #008080\">                 </span> │   (6.25%)                                                                                   │\n",
       "│ <span style=\"color: #008080; text-decoration-color: #008080\">                 </span> ├── 25361 - 179.32 s (98.85%) - 481.35 MiB/365.34 GiB R/W (0.01/6.24%) - 1,608,278 ops        │\n",
       "│ <span style=\"color: #008080; text-decoration-color: #008080\">                 </span> │   (6.25%)                                                                                   │\n",
       "│ <span style=\"color: #008080; text-decoration-color: #008080\">                 </span> ├── 4798 - 177.94 s (98.09%) - 481.35 MiB/365.34 GiB R/W (0.01/6.24%) - 1,608,278 ops         │\n",
       "│ <span style=\"color: #008080; text-decoration-color: #008080\">                 </span> │   (6.25%)                                                                                   │\n",
       "│ <span style=\"color: #008080; text-decoration-color: #008080\">                 </span> ├── 64729 - 177.65 s (97.93%) - 481.35 MiB/365.34 GiB R/W (0.01/6.24%) - 1,608,275 ops        │\n",
       "│ <span style=\"color: #008080; text-decoration-color: #008080\">                 </span> │   (6.25%)                                                                                   │\n",
       "│ <span style=\"color: #008080; text-decoration-color: #008080\">                 </span> ├── 61960 - 177.43 s (97.81%) - 481.34 MiB/365.20 GiB R/W (0.01/6.24%) - 1,608,268 ops        │\n",
       "│ <span style=\"color: #008080; text-decoration-color: #008080\">                 </span> │   (6.25%)                                                                                   │\n",
       "│ <span style=\"color: #008080; text-decoration-color: #008080\">                 </span> ├── 2158 - 177.20 s (97.69%) - 481.35 MiB/365.34 GiB R/W (0.01/6.24%) - 1,608,281 ops         │\n",
       "│ <span style=\"color: #008080; text-decoration-color: #008080\">                 </span> │   (6.25%)                                                                                   │\n",
       "│ <span style=\"color: #008080; text-decoration-color: #008080\">                 </span> ├── 8184 - 176.94 s (97.54%) - 481.36 MiB/365.35 GiB R/W (0.01/6.24%) - 1,616,338 ops         │\n",
       "│ <span style=\"color: #008080; text-decoration-color: #008080\">                 </span> │   (6.28%)                                                                                   │\n",
       "│ <span style=\"color: #008080; text-decoration-color: #008080\">                 </span> ├── 10210 - 176.30 s (97.19%) - 481.35 MiB/365.34 GiB R/W (0.01/6.24%) - 1,608,279 ops        │\n",
       "│ <span style=\"color: #008080; text-decoration-color: #008080\">                 </span> │   (6.25%)                                                                                   │\n",
       "│ <span style=\"color: #008080; text-decoration-color: #008080\">                 </span> ├── 27953 - 132.32 s (72.95%) - 481.35 MiB/365.34 GiB R/W (0.01/6.24%) - 1,608,217 ops        │\n",
       "│ <span style=\"color: #008080; text-decoration-color: #008080\">                 </span> │   (6.25%)                                                                                   │\n",
       "│ <span style=\"color: #008080; text-decoration-color: #008080\">                 </span> ├── 7375 - 106.80 s (58.87%) - 481.35 MiB/365.34 GiB R/W (0.01/6.24%) - 1,608,282 ops         │\n",
       "│ <span style=\"color: #008080; text-decoration-color: #008080\">                 </span> │   (6.25%)                                                                                   │\n",
       "│ <span style=\"color: #008080; text-decoration-color: #008080\">                 </span> └── 42374 - 106.76 s (58.85%) - 481.35 MiB/365.20 GiB R/W (0.01/6.24%) - 1,608,268 ops        │\n",
       "│ <span style=\"color: #008080; text-decoration-color: #008080\">                 </span>     (6.25%)                                                                                   │\n",
       "│ <span style=\"color: #008080; text-decoration-color: #008080\"> Apps            </span> 1 app                                                                                         │\n",
       "│ <span style=\"color: #008080; text-decoration-color: #008080\"> Processes/Ranks </span> 1,024 processes                                                                               │\n",
       "│ <span style=\"color: #008080; text-decoration-color: #008080\"> Files           </span> 65,515 files                                                                                  │\n",
       "│ <span style=\"color: #008080; text-decoration-color: #008080\">                 </span> ├── Shared: 65,508 files (99.99%)                                                             │\n",
       "│ <span style=\"color: #008080; text-decoration-color: #008080\">                 </span> └── FPP: 7 files (0.01%)                                                                      │\n",
       "│ <span style=\"color: #008080; text-decoration-color: #008080\"> Time Periods    </span> 375 time periods (Time Granularity: 1,000,000.0)                                              │\n",
       "│ <span style=\"color: #008080; text-decoration-color: #008080\"> Access Pattern  </span> <span style=\"font-weight: bold\">Sequential</span>: 1,947,869 ops (100.00%) - <span style=\"font-weight: bold\">Random</span>: 0 ops (0.00%)                                   │\n",
       "│                                                                                                                 │\n",
       "╰─ <span style=\"font-weight: bold\">R</span>: Read - <span style=\"font-weight: bold\">W</span>: Write - <span style=\"font-weight: bold\">M</span>: Metadata  ─────────────────────────────────────────────────────────────────────────────╯\n",
       "                                                                                                                   \n",
       "╭─────────────────────────────────── 39990 I/O Bottlenecks with 80047 Reasons ────────────────────────────────────╮\n",
       "│                                                                                                                 │\n",
       "│  Time View (188 bottlenecks with 378 reasons)                                                                   │\n",
       "│  ├── <span style=\"color: #d70000; text-decoration-color: #d70000\">[CR1] 9 processes access 9 files within 1 time period (369) across 9 I/O operations and have an I/O time </span>  │\n",
       "│  │   <span style=\"color: #d70000; text-decoration-color: #d70000\">of 2.78 seconds which is 1.53% of overall I/O time of the workload.</span>                                        │\n",
       "│  │   ├── <span style=\"color: #d70000; text-decoration-color: #d70000\">[Operation imbalance] 'write' operations are 100.00% (9 operations) of total I/O operations.</span>           │\n",
       "│  │   └── <span style=\"color: #d70000; text-decoration-color: #d70000\">[Size imbalance] 'write' size is 100.00% (1.88 GiB) of total I/O size.</span>                                 │\n",
       "│  └── (187 more)                                                                                                 │\n",
       "│  File View (17477 bottlenecks with 36933 reasons)                                                               │\n",
       "│  ├── <span style=\"color: #d70000; text-decoration-color: #d70000\">[CR189] 5 processes access 1 file (9297) within 11 time periods across 31 I/O operations and have an I/O </span>  │\n",
       "│  │   <span style=\"color: #d70000; text-decoration-color: #d70000\">time of 23.90 seconds which is 13.18% of overall I/O time of the workload.</span>                                 │\n",
       "│  │   ├── <span style=\"color: #d70000; text-decoration-color: #d70000\">[Operation imbalance] 'write' operations are 41.94% (13 operations) of total I/O operations.</span>           │\n",
       "│  │   └── <span style=\"color: #d70000; text-decoration-color: #d70000\">[Size imbalance] 'write' size is 100.00% (5.24 GiB) of total I/O size.</span>                                 │\n",
       "│  └── (17476 more)                                                                                               │\n",
       "│  Process View (748 bottlenecks with 452 reasons)                                                                │\n",
       "│  ├── <span style=\"color: #d70000; text-decoration-color: #d70000\">[CR17666] 1 process (app#27953#3665840#3665993) accesses 1 file within 1 time period across 1 I/O </span>         │\n",
       "│  │   <span style=\"color: #d70000; text-decoration-color: #d70000\">operation and has an I/O time of 0.23 seconds which is 0.13% of overall I/O time of the workload.</span>          │\n",
       "│  │   └── <span style=\"color: #d70000; text-decoration-color: #d70000\">[Excessive metadata access] No reason found, investigation needed!</span>                                     │\n",
       "│  └── (747 more)                                                                                                 │\n",
       "│  Time&gt;File View (1992 bottlenecks with 3984 reasons)                                                            │\n",
       "│  ├── <span style=\"color: #d70000; text-decoration-color: #d70000\">[CR18414] 1 process accesses 1 file (52341) within 5 time periods across 11 I/O operations and has an I/O</span>  │\n",
       "│  │   <span style=\"color: #d70000; text-decoration-color: #d70000\">time of 28.90 seconds which is 15.93% of overall I/O time of the workload.</span>                                 │\n",
       "│  │   ├── <span style=\"color: #d70000; text-decoration-color: #d70000\">[Operation imbalance] 'write' operations are 90.91% (10 operations) of total I/O operations.</span>           │\n",
       "│  │   └── <span style=\"color: #d70000; text-decoration-color: #d70000\">[Size imbalance] 'write' size is 100.00% (5.24 GiB) of total I/O size.</span>                                 │\n",
       "│  └── (1991 more)                                                                                                │\n",
       "│  Time&gt;Process View (103 bottlenecks with 206 reasons)                                                           │\n",
       "│  ├── <span style=\"color: #87af00; text-decoration-color: #87af00\">[LO20406] 1 process (app#25361#1870213#1870213) accesses 179 files within 99 time periods across 1,617 </span>    │\n",
       "│  │   <span style=\"color: #87af00; text-decoration-color: #87af00\">I/O operations and has an I/O time of 166.89 seconds which is 92.00% of overall I/O time of the workload.</span>  │\n",
       "│  │   ├── <span style=\"color: #87af00; text-decoration-color: #87af00\">[Operation imbalance] 'write' operations are 56.46% (913 operations) of total I/O operations.</span>          │\n",
       "│  │   └── <span style=\"color: #87af00; text-decoration-color: #87af00\">[Size imbalance] 'write' size is 100.00% (45.24 GiB) of total I/O size.</span>                                │\n",
       "│  └── (102 more)                                                                                                 │\n",
       "│  File&gt;Time View (188 bottlenecks with 376 reasons)                                                              │\n",
       "│  ├── <span style=\"color: #d70000; text-decoration-color: #d70000\">[CR20509] 9 processes access 9 files within 1 time period (369) across 9 I/O operations and have an I/O </span>   │\n",
       "│  │   <span style=\"color: #d70000; text-decoration-color: #d70000\">time of 2.78 seconds which is 1.53% of overall I/O time of the workload.</span>                                   │\n",
       "│  │   ├── <span style=\"color: #d70000; text-decoration-color: #d70000\">[Operation imbalance] 'write' operations are 100.00% (9 operations) of total I/O operations.</span>           │\n",
       "│  │   └── <span style=\"color: #d70000; text-decoration-color: #d70000\">[Size imbalance] 'write' size is 100.00% (1.88 GiB) of total I/O size.</span>                                 │\n",
       "│  └── (187 more)                                                                                                 │\n",
       "│  File&gt;Process View (128 bottlenecks with 192 reasons)                                                           │\n",
       "│  ├── <span style=\"color: #d78700; text-decoration-color: #d78700\">[HI20697] 1 process (app#25074#574392#574392) accesses 2,488 files within 143 time periods across 5,950 </span>   │\n",
       "│  │   <span style=\"color: #d78700; text-decoration-color: #d78700\">I/O operations and has an I/O time of 158.64 seconds which is 87.46% of overall I/O time of the workload.</span>  │\n",
       "│  │   └── <span style=\"color: #d78700; text-decoration-color: #d78700\">[Size imbalance] 'write' size is 100.00% (43.28 GiB) of total I/O size.</span>                                │\n",
       "│  └── (127 more)                                                                                                 │\n",
       "│  Process&gt;Time View (193 bottlenecks with 392 reasons)                                                           │\n",
       "│  ├── <span style=\"color: #d70000; text-decoration-color: #d70000\">[CR20825] 4 processes access 4 files within 1 time period (369) across 4 I/O operations and have an I/O </span>   │\n",
       "│  │   <span style=\"color: #d70000; text-decoration-color: #d70000\">time of 2.78 seconds which is 1.53% of overall I/O time of the workload.</span>                                   │\n",
       "│  │   ├── <span style=\"color: #d70000; text-decoration-color: #d70000\">[Operation imbalance] 'write' operations are 100.00% (4 operations) of total I/O operations.</span>           │\n",
       "│  │   └── <span style=\"color: #d70000; text-decoration-color: #d70000\">[Size imbalance] 'write' size is 100.00% (1.88 GiB) of total I/O size.</span>                                 │\n",
       "│  └── (192 more)                                                                                                 │\n",
       "│  Process&gt;File View (15325 bottlenecks with 29838 reasons)                                                       │\n",
       "│  ├── <span style=\"color: #d70000; text-decoration-color: #d70000\">[CR21018] 1 process accesses 1 file (52341) within 7 time periods across 15 I/O operations and has an I/O</span>  │\n",
       "│  │   <span style=\"color: #d70000; text-decoration-color: #d70000\">time of 28.91 seconds which is 15.94% of overall I/O time of the workload.</span>                                 │\n",
       "│  │   ├── <span style=\"color: #d70000; text-decoration-color: #d70000\">[Operation imbalance] 'write' operations are 73.33% (11 operations) of total I/O operations.</span>           │\n",
       "│  │   └── <span style=\"color: #d70000; text-decoration-color: #d70000\">[Size imbalance] 'write' size is 100.00% (5.24 GiB) of total I/O size.</span>                                 │\n",
       "│  └── (15324 more)                                                                                               │\n",
       "│  Time&gt;File&gt;Process View (75 bottlenecks with 150 reasons)                                                       │\n",
       "│  ├── <span style=\"color: #d78700; text-decoration-color: #d78700\">[HI36343] 1 process (app#27953#3665840#3665840) accesses 5 files within 41 time periods across 57 I/O </span>     │\n",
       "│  │   <span style=\"color: #d78700; text-decoration-color: #d78700\">operations and has an I/O time of 59.92 seconds which is 33.03% of overall I/O time of the workload.</span>       │\n",
       "│  │   ├── <span style=\"color: #d78700; text-decoration-color: #d78700\">[Operation imbalance] 'write' operations are 85.96% (49 operations) of total I/O operations.</span>           │\n",
       "│  │   └── <span style=\"color: #d78700; text-decoration-color: #d78700\">[Size imbalance] 'write' size is 100.00% (21.10 GiB) of total I/O size.</span>                                │\n",
       "│  └── (74 more)                                                                                                  │\n",
       "│  Time&gt;Process&gt;File View (1571 bottlenecks with 3142 reasons)                                                    │\n",
       "│  ├── <span style=\"color: #d70000; text-decoration-color: #d70000\">[CR36418] 1 process accesses 1 file (52341) within 5 time periods across 11 I/O operations and has an I/O</span>  │\n",
       "│  │   <span style=\"color: #d70000; text-decoration-color: #d70000\">time of 28.90 seconds which is 15.93% of overall I/O time of the workload.</span>                                 │\n",
       "│  │   ├── <span style=\"color: #d70000; text-decoration-color: #d70000\">[Operation imbalance] 'write' operations are 90.91% (10 operations) of total I/O operations.</span>           │\n",
       "│  │   └── <span style=\"color: #d70000; text-decoration-color: #d70000\">[Size imbalance] 'write' size is 100.00% (5.24 GiB) of total I/O size.</span>                                 │\n",
       "│  └── (1570 more)                                                                                                │\n",
       "│  File&gt;Time&gt;Process View (100 bottlenecks with 200 reasons)                                                      │\n",
       "│  ├── <span style=\"color: #87af00; text-decoration-color: #87af00\">[LO37989] 1 process (app#64729#2572377#2572377) accesses 152 files within 97 time periods across 1,376 </span>    │\n",
       "│  │   <span style=\"color: #87af00; text-decoration-color: #87af00\">I/O operations and has an I/O time of 157.78 seconds which is 86.98% of overall I/O time of the workload.</span>  │\n",
       "│  │   ├── <span style=\"color: #87af00; text-decoration-color: #87af00\">[Operation imbalance] 'write' operations are 56.69% (780 operations) of total I/O operations.</span>          │\n",
       "│  │   └── <span style=\"color: #87af00; text-decoration-color: #87af00\">[Size imbalance] 'write' size is 100.00% (41.73 GiB) of total I/O size.</span>                                │\n",
       "│  └── (99 more)                                                                                                  │\n",
       "│  File&gt;Process&gt;Time View (130 bottlenecks with 260 reasons)                                                      │\n",
       "│  ├── <span style=\"color: #d70000; text-decoration-color: #d70000\">[CR38089] 9 processes access 9 files within 1 time period (369) across 9 I/O operations and have an I/O </span>   │\n",
       "│  │   <span style=\"color: #d70000; text-decoration-color: #d70000\">time of 2.78 seconds which is 1.53% of overall I/O time of the workload.</span>                                   │\n",
       "│  │   ├── <span style=\"color: #d70000; text-decoration-color: #d70000\">[Operation imbalance] 'write' operations are 100.00% (9 operations) of total I/O operations.</span>           │\n",
       "│  │   └── <span style=\"color: #d70000; text-decoration-color: #d70000\">[Size imbalance] 'write' size is 100.00% (1.88 GiB) of total I/O size.</span>                                 │\n",
       "│  └── (129 more)                                                                                                 │\n",
       "│  Process&gt;Time&gt;File View (1645 bottlenecks with 3290 reasons)                                                    │\n",
       "│  ├── <span style=\"color: #d70000; text-decoration-color: #d70000\">[CR38219] 1 process accesses 1 file (52341) within 5 time periods across 11 I/O operations and has an I/O</span>  │\n",
       "│  │   <span style=\"color: #d70000; text-decoration-color: #d70000\">time of 28.90 seconds which is 15.93% of overall I/O time of the workload.</span>                                 │\n",
       "│  │   ├── <span style=\"color: #d70000; text-decoration-color: #d70000\">[Operation imbalance] 'write' operations are 90.91% (10 operations) of total I/O operations.</span>           │\n",
       "│  │   └── <span style=\"color: #d70000; text-decoration-color: #d70000\">[Size imbalance] 'write' size is 100.00% (5.24 GiB) of total I/O size.</span>                                 │\n",
       "│  └── (1644 more)                                                                                                │\n",
       "│  Process&gt;File&gt;Time View (127 bottlenecks with 254 reasons)                                                      │\n",
       "│  ├── <span style=\"color: #d70000; text-decoration-color: #d70000\">[CR39864] 4 processes access 4 files within 1 time period (369) across 4 I/O operations and have an I/O </span>   │\n",
       "│  │   <span style=\"color: #d70000; text-decoration-color: #d70000\">time of 2.78 seconds which is 1.53% of overall I/O time of the workload.</span>                                   │\n",
       "│  │   ├── <span style=\"color: #d70000; text-decoration-color: #d70000\">[Operation imbalance] 'write' operations are 100.00% (4 operations) of total I/O operations.</span>           │\n",
       "│  │   └── <span style=\"color: #d70000; text-decoration-color: #d70000\">[Size imbalance] 'write' size is 100.00% (1.88 GiB) of total I/O size.</span>                                 │\n",
       "│  └── (126 more)                                                                                                 │\n",
       "│                                                                                                                 │\n",
       "╰─────────────────────────────────────────────────────────────────────────────────────────────────────────────────╯\n",
       "</pre>\n"
      ],
      "text/plain": [
       "╭────────────────────────────────────────────── I/O Characteristics ──────────────────────────────────────────────╮\n",
       "│                                                                                                                 │\n",
       "│ \u001b[36m \u001b[0m\u001b[36mRuntime        \u001b[0m\u001b[36m \u001b[0m 501.06 seconds                                                                                │\n",
       "│ \u001b[36m \u001b[0m\u001b[36mI/O Time       \u001b[0m\u001b[36m \u001b[0m 181.40 seconds                                                                                │\n",
       "│ \u001b[36m                 \u001b[0m ├── Read - 1.79 seconds (0.99%)                                                               │\n",
       "│ \u001b[36m                 \u001b[0m ├── Write - 158.26 seconds (87.24%)                                                           │\n",
       "│ \u001b[36m                 \u001b[0m └── Metadata - 24.63 seconds (13.58%)                                                         │\n",
       "│ \u001b[36m \u001b[0m\u001b[36mI/O Operations \u001b[0m\u001b[36m \u001b[0m 25,740,376 ops                                                                                │\n",
       "│ \u001b[36m                 \u001b[0m ├── Read - 1,293,952 ops (5.03%)                                                              │\n",
       "│ \u001b[36m                 \u001b[0m ├── Write - 653,917 ops (2.54%)                                                               │\n",
       "│ \u001b[36m                 \u001b[0m └── Metadata - 23,298,811 ops (90.51%)                                                        │\n",
       "│ \u001b[36m \u001b[0m\u001b[36mI/O Size       \u001b[0m\u001b[36m \u001b[0m 5.72 TiB                                                                                      │\n",
       "│ \u001b[36m                 \u001b[0m ├── Read - 7.52 GiB (0.13%)                                                                   │\n",
       "│ \u001b[36m                 \u001b[0m └── Write - 5.71 TiB (99.87%)                                                                 │\n",
       "│ \u001b[36m \u001b[0m\u001b[36mRead Requests  \u001b[0m\u001b[36m \u001b[0m 4 kiB-1 MiB - 1,293,426 ops                                                                   │\n",
       "│ \u001b[36m                 \u001b[0m ├── <4 kiB - 641,399 ops (49.59%)                                                             │\n",
       "│ \u001b[36m                 \u001b[0m ├── 4-16 kiB - 370,563 ops (28.65%)                                                           │\n",
       "│ \u001b[36m                 \u001b[0m ├── 16-64 kiB - 242,872 ops (18.78%)                                                          │\n",
       "│ \u001b[36m                 \u001b[0m ├── 64-256 kiB - 36,288 ops (2.81%)                                                           │\n",
       "│ \u001b[36m                 \u001b[0m └── 256 kiB-1 MiB - 2,304 ops (0.18%)                                                         │\n",
       "│ \u001b[36m \u001b[0m\u001b[36mWrite Requests \u001b[0m\u001b[36m \u001b[0m 4 kiB->64 MiB - 653,917 ops                                                                   │\n",
       "│ \u001b[36m                 \u001b[0m ├── <4 kiB - 532,768 ops (81.47%)                                                             │\n",
       "│ \u001b[36m                 \u001b[0m ├── 4-16 kiB - 129 ops (0.02%)                                                                │\n",
       "│ \u001b[36m                 \u001b[0m ├── 16-64 kiB - 9,984 ops (1.53%)                                                             │\n",
       "│ \u001b[36m                 \u001b[0m ├── 1-4 MiB - 297 ops (0.05%)                                                                 │\n",
       "│ \u001b[36m                 \u001b[0m ├── 16-64 MiB - 2,591 ops (0.40%)                                                             │\n",
       "│ \u001b[36m                 \u001b[0m └── >64 MiB - 108,148 ops (16.54%)                                                            │\n",
       "│ \u001b[36m \u001b[0m\u001b[36mNodes          \u001b[0m\u001b[36m \u001b[0m 16 nodes                                                                                      │\n",
       "│ \u001b[36m                 \u001b[0m ├── 26265 - 181.40 s (100.00%) - 481.36 MiB/365.34 GiB R/W (0.01/6.24%) - 1,608,261 ops       │\n",
       "│ \u001b[36m                 \u001b[0m │   (6.25%)                                                                                   │\n",
       "│ \u001b[36m                 \u001b[0m ├── 7923 - 181.32 s (99.95%) - 481.35 MiB/365.34 GiB R/W (0.01/6.24%) - 1,608,274 ops         │\n",
       "│ \u001b[36m                 \u001b[0m │   (6.25%)                                                                                   │\n",
       "│ \u001b[36m                 \u001b[0m ├── 50452 - 180.36 s (99.43%) - 481.35 MiB/365.34 GiB R/W (0.01/6.24%) - 1,608,251 ops        │\n",
       "│ \u001b[36m                 \u001b[0m │   (6.25%)                                                                                   │\n",
       "│ \u001b[36m                 \u001b[0m ├── 31683 - 180.34 s (99.41%) - 481.32 MiB/365.34 GiB R/W (0.01/6.24%) - 1,608,267 ops        │\n",
       "│ \u001b[36m                 \u001b[0m │   (6.25%)                                                                                   │\n",
       "│ \u001b[36m                 \u001b[0m ├── 28275 - 179.59 s (99.00%) - 481.35 MiB/365.34 GiB R/W (0.01/6.24%) - 1,608,279 ops        │\n",
       "│ \u001b[36m                 \u001b[0m │   (6.25%)                                                                                   │\n",
       "│ \u001b[36m                 \u001b[0m ├── 25074 - 179.52 s (98.97%) - 481.35 MiB/365.34 GiB R/W (0.01/6.24%) - 1,608,280 ops        │\n",
       "│ \u001b[36m                 \u001b[0m │   (6.25%)                                                                                   │\n",
       "│ \u001b[36m                 \u001b[0m ├── 25361 - 179.32 s (98.85%) - 481.35 MiB/365.34 GiB R/W (0.01/6.24%) - 1,608,278 ops        │\n",
       "│ \u001b[36m                 \u001b[0m │   (6.25%)                                                                                   │\n",
       "│ \u001b[36m                 \u001b[0m ├── 4798 - 177.94 s (98.09%) - 481.35 MiB/365.34 GiB R/W (0.01/6.24%) - 1,608,278 ops         │\n",
       "│ \u001b[36m                 \u001b[0m │   (6.25%)                                                                                   │\n",
       "│ \u001b[36m                 \u001b[0m ├── 64729 - 177.65 s (97.93%) - 481.35 MiB/365.34 GiB R/W (0.01/6.24%) - 1,608,275 ops        │\n",
       "│ \u001b[36m                 \u001b[0m │   (6.25%)                                                                                   │\n",
       "│ \u001b[36m                 \u001b[0m ├── 61960 - 177.43 s (97.81%) - 481.34 MiB/365.20 GiB R/W (0.01/6.24%) - 1,608,268 ops        │\n",
       "│ \u001b[36m                 \u001b[0m │   (6.25%)                                                                                   │\n",
       "│ \u001b[36m                 \u001b[0m ├── 2158 - 177.20 s (97.69%) - 481.35 MiB/365.34 GiB R/W (0.01/6.24%) - 1,608,281 ops         │\n",
       "│ \u001b[36m                 \u001b[0m │   (6.25%)                                                                                   │\n",
       "│ \u001b[36m                 \u001b[0m ├── 8184 - 176.94 s (97.54%) - 481.36 MiB/365.35 GiB R/W (0.01/6.24%) - 1,616,338 ops         │\n",
       "│ \u001b[36m                 \u001b[0m │   (6.28%)                                                                                   │\n",
       "│ \u001b[36m                 \u001b[0m ├── 10210 - 176.30 s (97.19%) - 481.35 MiB/365.34 GiB R/W (0.01/6.24%) - 1,608,279 ops        │\n",
       "│ \u001b[36m                 \u001b[0m │   (6.25%)                                                                                   │\n",
       "│ \u001b[36m                 \u001b[0m ├── 27953 - 132.32 s (72.95%) - 481.35 MiB/365.34 GiB R/W (0.01/6.24%) - 1,608,217 ops        │\n",
       "│ \u001b[36m                 \u001b[0m │   (6.25%)                                                                                   │\n",
       "│ \u001b[36m                 \u001b[0m ├── 7375 - 106.80 s (58.87%) - 481.35 MiB/365.34 GiB R/W (0.01/6.24%) - 1,608,282 ops         │\n",
       "│ \u001b[36m                 \u001b[0m │   (6.25%)                                                                                   │\n",
       "│ \u001b[36m                 \u001b[0m └── 42374 - 106.76 s (58.85%) - 481.35 MiB/365.20 GiB R/W (0.01/6.24%) - 1,608,268 ops        │\n",
       "│ \u001b[36m                 \u001b[0m     (6.25%)                                                                                   │\n",
       "│ \u001b[36m \u001b[0m\u001b[36mApps           \u001b[0m\u001b[36m \u001b[0m 1 app                                                                                         │\n",
       "│ \u001b[36m \u001b[0m\u001b[36mProcesses/Ranks\u001b[0m\u001b[36m \u001b[0m 1,024 processes                                                                               │\n",
       "│ \u001b[36m \u001b[0m\u001b[36mFiles          \u001b[0m\u001b[36m \u001b[0m 65,515 files                                                                                  │\n",
       "│ \u001b[36m                 \u001b[0m ├── Shared: 65,508 files (99.99%)                                                             │\n",
       "│ \u001b[36m                 \u001b[0m └── FPP: 7 files (0.01%)                                                                      │\n",
       "│ \u001b[36m \u001b[0m\u001b[36mTime Periods   \u001b[0m\u001b[36m \u001b[0m 375 time periods (Time Granularity: 1,000,000.0)                                              │\n",
       "│ \u001b[36m \u001b[0m\u001b[36mAccess Pattern \u001b[0m\u001b[36m \u001b[0m \u001b[1mSequential\u001b[0m: 1,947,869 ops (100.00%) - \u001b[1mRandom\u001b[0m: 0 ops (0.00%)                                   │\n",
       "│                                                                                                                 │\n",
       "╰─ \u001b[1mR\u001b[0m: Read - \u001b[1mW\u001b[0m: Write - \u001b[1mM\u001b[0m: Metadata  ─────────────────────────────────────────────────────────────────────────────╯\n",
       "                                                                                                                   \n",
       "╭─────────────────────────────────── 39990 I/O Bottlenecks with 80047 Reasons ────────────────────────────────────╮\n",
       "│                                                                                                                 │\n",
       "│  Time View (188 bottlenecks with 378 reasons)                                                                   │\n",
       "│  ├── \u001b[38;5;160m[CR1] 9 processes access 9 files within 1 time period (369) across 9 I/O operations and have an I/O time \u001b[0m  │\n",
       "│  │   \u001b[38;5;160mof 2.78 seconds which is 1.53% of overall I/O time of the workload.\u001b[0m                                        │\n",
       "│  │   ├── \u001b[38;5;160m[Operation imbalance] 'write' operations are 100.00% (9 operations) of total I/O operations.\u001b[0m           │\n",
       "│  │   └── \u001b[38;5;160m[Size imbalance] 'write' size is 100.00% (1.88 GiB) of total I/O size.\u001b[0m                                 │\n",
       "│  └── (187 more)                                                                                                 │\n",
       "│  File View (17477 bottlenecks with 36933 reasons)                                                               │\n",
       "│  ├── \u001b[38;5;160m[CR189] 5 processes access 1 file (9297) within 11 time periods across 31 I/O operations and have an I/O \u001b[0m  │\n",
       "│  │   \u001b[38;5;160mtime of 23.90 seconds which is 13.18% of overall I/O time of the workload.\u001b[0m                                 │\n",
       "│  │   ├── \u001b[38;5;160m[Operation imbalance] 'write' operations are 41.94% (13 operations) of total I/O operations.\u001b[0m           │\n",
       "│  │   └── \u001b[38;5;160m[Size imbalance] 'write' size is 100.00% (5.24 GiB) of total I/O size.\u001b[0m                                 │\n",
       "│  └── (17476 more)                                                                                               │\n",
       "│  Process View (748 bottlenecks with 452 reasons)                                                                │\n",
       "│  ├── \u001b[38;5;160m[CR17666] 1 process (app#27953#3665840#3665993) accesses 1 file within 1 time period across 1 I/O \u001b[0m         │\n",
       "│  │   \u001b[38;5;160moperation and has an I/O time of 0.23 seconds which is 0.13% of overall I/O time of the workload.\u001b[0m          │\n",
       "│  │   └── \u001b[38;5;160m[Excessive metadata access] No reason found, investigation needed!\u001b[0m                                     │\n",
       "│  └── (747 more)                                                                                                 │\n",
       "│  Time>File View (1992 bottlenecks with 3984 reasons)                                                            │\n",
       "│  ├── \u001b[38;5;160m[CR18414] 1 process accesses 1 file (52341) within 5 time periods across 11 I/O operations and has an I/O\u001b[0m  │\n",
       "│  │   \u001b[38;5;160mtime of 28.90 seconds which is 15.93% of overall I/O time of the workload.\u001b[0m                                 │\n",
       "│  │   ├── \u001b[38;5;160m[Operation imbalance] 'write' operations are 90.91% (10 operations) of total I/O operations.\u001b[0m           │\n",
       "│  │   └── \u001b[38;5;160m[Size imbalance] 'write' size is 100.00% (5.24 GiB) of total I/O size.\u001b[0m                                 │\n",
       "│  └── (1991 more)                                                                                                │\n",
       "│  Time>Process View (103 bottlenecks with 206 reasons)                                                           │\n",
       "│  ├── \u001b[38;5;106m[LO20406] 1 process (app#25361#1870213#1870213) accesses 179 files within 99 time periods across 1,617 \u001b[0m    │\n",
       "│  │   \u001b[38;5;106mI/O operations and has an I/O time of 166.89 seconds which is 92.00% of overall I/O time of the workload.\u001b[0m  │\n",
       "│  │   ├── \u001b[38;5;106m[Operation imbalance] 'write' operations are 56.46% (913 operations) of total I/O operations.\u001b[0m          │\n",
       "│  │   └── \u001b[38;5;106m[Size imbalance] 'write' size is 100.00% (45.24 GiB) of total I/O size.\u001b[0m                                │\n",
       "│  └── (102 more)                                                                                                 │\n",
       "│  File>Time View (188 bottlenecks with 376 reasons)                                                              │\n",
       "│  ├── \u001b[38;5;160m[CR20509] 9 processes access 9 files within 1 time period (369) across 9 I/O operations and have an I/O \u001b[0m   │\n",
       "│  │   \u001b[38;5;160mtime of 2.78 seconds which is 1.53% of overall I/O time of the workload.\u001b[0m                                   │\n",
       "│  │   ├── \u001b[38;5;160m[Operation imbalance] 'write' operations are 100.00% (9 operations) of total I/O operations.\u001b[0m           │\n",
       "│  │   └── \u001b[38;5;160m[Size imbalance] 'write' size is 100.00% (1.88 GiB) of total I/O size.\u001b[0m                                 │\n",
       "│  └── (187 more)                                                                                                 │\n",
       "│  File>Process View (128 bottlenecks with 192 reasons)                                                           │\n",
       "│  ├── \u001b[38;5;172m[HI20697] 1 process (app#25074#574392#574392) accesses 2,488 files within 143 time periods across 5,950 \u001b[0m   │\n",
       "│  │   \u001b[38;5;172mI/O operations and has an I/O time of 158.64 seconds which is 87.46% of overall I/O time of the workload.\u001b[0m  │\n",
       "│  │   └── \u001b[38;5;172m[Size imbalance] 'write' size is 100.00% (43.28 GiB) of total I/O size.\u001b[0m                                │\n",
       "│  └── (127 more)                                                                                                 │\n",
       "│  Process>Time View (193 bottlenecks with 392 reasons)                                                           │\n",
       "│  ├── \u001b[38;5;160m[CR20825] 4 processes access 4 files within 1 time period (369) across 4 I/O operations and have an I/O \u001b[0m   │\n",
       "│  │   \u001b[38;5;160mtime of 2.78 seconds which is 1.53% of overall I/O time of the workload.\u001b[0m                                   │\n",
       "│  │   ├── \u001b[38;5;160m[Operation imbalance] 'write' operations are 100.00% (4 operations) of total I/O operations.\u001b[0m           │\n",
       "│  │   └── \u001b[38;5;160m[Size imbalance] 'write' size is 100.00% (1.88 GiB) of total I/O size.\u001b[0m                                 │\n",
       "│  └── (192 more)                                                                                                 │\n",
       "│  Process>File View (15325 bottlenecks with 29838 reasons)                                                       │\n",
       "│  ├── \u001b[38;5;160m[CR21018] 1 process accesses 1 file (52341) within 7 time periods across 15 I/O operations and has an I/O\u001b[0m  │\n",
       "│  │   \u001b[38;5;160mtime of 28.91 seconds which is 15.94% of overall I/O time of the workload.\u001b[0m                                 │\n",
       "│  │   ├── \u001b[38;5;160m[Operation imbalance] 'write' operations are 73.33% (11 operations) of total I/O operations.\u001b[0m           │\n",
       "│  │   └── \u001b[38;5;160m[Size imbalance] 'write' size is 100.00% (5.24 GiB) of total I/O size.\u001b[0m                                 │\n",
       "│  └── (15324 more)                                                                                               │\n",
       "│  Time>File>Process View (75 bottlenecks with 150 reasons)                                                       │\n",
       "│  ├── \u001b[38;5;172m[HI36343] 1 process (app#27953#3665840#3665840) accesses 5 files within 41 time periods across 57 I/O \u001b[0m     │\n",
       "│  │   \u001b[38;5;172moperations and has an I/O time of 59.92 seconds which is 33.03% of overall I/O time of the workload.\u001b[0m       │\n",
       "│  │   ├── \u001b[38;5;172m[Operation imbalance] 'write' operations are 85.96% (49 operations) of total I/O operations.\u001b[0m           │\n",
       "│  │   └── \u001b[38;5;172m[Size imbalance] 'write' size is 100.00% (21.10 GiB) of total I/O size.\u001b[0m                                │\n",
       "│  └── (74 more)                                                                                                  │\n",
       "│  Time>Process>File View (1571 bottlenecks with 3142 reasons)                                                    │\n",
       "│  ├── \u001b[38;5;160m[CR36418] 1 process accesses 1 file (52341) within 5 time periods across 11 I/O operations and has an I/O\u001b[0m  │\n",
       "│  │   \u001b[38;5;160mtime of 28.90 seconds which is 15.93% of overall I/O time of the workload.\u001b[0m                                 │\n",
       "│  │   ├── \u001b[38;5;160m[Operation imbalance] 'write' operations are 90.91% (10 operations) of total I/O operations.\u001b[0m           │\n",
       "│  │   └── \u001b[38;5;160m[Size imbalance] 'write' size is 100.00% (5.24 GiB) of total I/O size.\u001b[0m                                 │\n",
       "│  └── (1570 more)                                                                                                │\n",
       "│  File>Time>Process View (100 bottlenecks with 200 reasons)                                                      │\n",
       "│  ├── \u001b[38;5;106m[LO37989] 1 process (app#64729#2572377#2572377) accesses 152 files within 97 time periods across 1,376 \u001b[0m    │\n",
       "│  │   \u001b[38;5;106mI/O operations and has an I/O time of 157.78 seconds which is 86.98% of overall I/O time of the workload.\u001b[0m  │\n",
       "│  │   ├── \u001b[38;5;106m[Operation imbalance] 'write' operations are 56.69% (780 operations) of total I/O operations.\u001b[0m          │\n",
       "│  │   └── \u001b[38;5;106m[Size imbalance] 'write' size is 100.00% (41.73 GiB) of total I/O size.\u001b[0m                                │\n",
       "│  └── (99 more)                                                                                                  │\n",
       "│  File>Process>Time View (130 bottlenecks with 260 reasons)                                                      │\n",
       "│  ├── \u001b[38;5;160m[CR38089] 9 processes access 9 files within 1 time period (369) across 9 I/O operations and have an I/O \u001b[0m   │\n",
       "│  │   \u001b[38;5;160mtime of 2.78 seconds which is 1.53% of overall I/O time of the workload.\u001b[0m                                   │\n",
       "│  │   ├── \u001b[38;5;160m[Operation imbalance] 'write' operations are 100.00% (9 operations) of total I/O operations.\u001b[0m           │\n",
       "│  │   └── \u001b[38;5;160m[Size imbalance] 'write' size is 100.00% (1.88 GiB) of total I/O size.\u001b[0m                                 │\n",
       "│  └── (129 more)                                                                                                 │\n",
       "│  Process>Time>File View (1645 bottlenecks with 3290 reasons)                                                    │\n",
       "│  ├── \u001b[38;5;160m[CR38219] 1 process accesses 1 file (52341) within 5 time periods across 11 I/O operations and has an I/O\u001b[0m  │\n",
       "│  │   \u001b[38;5;160mtime of 28.90 seconds which is 15.93% of overall I/O time of the workload.\u001b[0m                                 │\n",
       "│  │   ├── \u001b[38;5;160m[Operation imbalance] 'write' operations are 90.91% (10 operations) of total I/O operations.\u001b[0m           │\n",
       "│  │   └── \u001b[38;5;160m[Size imbalance] 'write' size is 100.00% (5.24 GiB) of total I/O size.\u001b[0m                                 │\n",
       "│  └── (1644 more)                                                                                                │\n",
       "│  Process>File>Time View (127 bottlenecks with 254 reasons)                                                      │\n",
       "│  ├── \u001b[38;5;160m[CR39864] 4 processes access 4 files within 1 time period (369) across 4 I/O operations and have an I/O \u001b[0m   │\n",
       "│  │   \u001b[38;5;160mtime of 2.78 seconds which is 1.53% of overall I/O time of the workload.\u001b[0m                                   │\n",
       "│  │   ├── \u001b[38;5;160m[Operation imbalance] 'write' operations are 100.00% (4 operations) of total I/O operations.\u001b[0m           │\n",
       "│  │   └── \u001b[38;5;160m[Size imbalance] 'write' size is 100.00% (1.88 GiB) of total I/O size.\u001b[0m                                 │\n",
       "│  └── (126 more)                                                                                                 │\n",
       "│                                                                                                                 │\n",
       "╰─────────────────────────────────────────────────────────────────────────────────────────────────────────────────╯\n"
      ]
     },
     "metadata": {},
     "output_type": "display_data"
    },
    {
     "name": "stdout",
     "output_type": "stream",
     "text": [
      "time: 8min 33s (started: 2024-10-08 13:52:44 -07:00)\n"
     ]
    }
   ],
   "source": [
    "output.handle_result(metrics=cfg.metrics, result=result)"
   ]
  }
 ],
 "metadata": {
  "kernelspec": {
   "display_name": "venv-corona",
   "language": "python",
   "name": "python3"
  },
  "language_info": {
   "codemirror_mode": {
    "name": "ipython",
    "version": 3
   },
   "file_extension": ".py",
   "mimetype": "text/x-python",
   "name": "python",
   "nbconvert_exporter": "python",
   "pygments_lexer": "ipython3",
   "version": "3.9.12"
  },
  "papermill": {
   "default_parameters": {},
   "duration": 1110.922272,
   "end_time": "2024-10-08T21:01:20.451558",
   "environment_variables": {},
   "exception": null,
   "input_path": "analysis.ipynb",
   "output_path": "analysis-dftracer-deepspeed-dlio-node-16.ipynb",
   "parameters": {
    "analyzer": "dftracer",
    "checkpoint": true,
    "checkpoint_dir": "/usr/workspace/iopp/wisio_logs/_checkpoints/dftracer-deepspeed-dlio-node-16",
    "logical_view_types": false,
    "output_max_bottlenecks": 1,
    "output_root_only": false,
    "run_dir": ".wisio/dftracer/deepspeed-dlio-node-16",
    "trace_path": "/p/lustre3/iopp/dftracer-traces/v1.0.5-develop/corona/megatron_deepspeed-1_16_8/megatron_deepspeed-1_16_8-COMPACT/*.pfw.gz"
   },
   "start_time": "2024-10-08T20:42:49.529286",
   "version": "2.6.0"
  }
 },
 "nbformat": 4,
 "nbformat_minor": 5
}
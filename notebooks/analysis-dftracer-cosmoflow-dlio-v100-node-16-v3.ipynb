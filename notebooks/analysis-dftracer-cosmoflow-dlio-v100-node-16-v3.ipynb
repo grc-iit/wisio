{
 "cells": [
  {
   "cell_type": "code",
   "execution_count": 1,
   "id": "fdbd2d76",
   "metadata": {
    "execution": {
     "iopub.execute_input": "2024-10-09T22:45:20.973231Z",
     "iopub.status.busy": "2024-10-09T22:45:20.972934Z",
     "iopub.status.idle": "2024-10-09T22:45:21.007220Z",
     "shell.execute_reply": "2024-10-09T22:45:21.006612Z"
    },
    "papermill": {
     "duration": 0.040388,
     "end_time": "2024-10-09T22:45:21.008592",
     "exception": false,
     "start_time": "2024-10-09T22:45:20.968204",
     "status": "completed"
    },
    "tags": []
   },
   "outputs": [
    {
     "name": "stdout",
     "output_type": "stream",
     "text": [
      "time: 182 µs (started: 2024-10-09 15:45:21 -07:00)\n"
     ]
    }
   ],
   "source": [
    "%load_ext autoreload\n",
    "%load_ext autotime"
   ]
  },
  {
   "cell_type": "code",
   "execution_count": 2,
   "id": "8bbe8dbb",
   "metadata": {
    "execution": {
     "iopub.execute_input": "2024-10-09T22:45:21.016384Z",
     "iopub.status.busy": "2024-10-09T22:45:21.016103Z",
     "iopub.status.idle": "2024-10-09T22:45:21.020225Z",
     "shell.execute_reply": "2024-10-09T22:45:21.019628Z"
    },
    "papermill": {
     "duration": 0.009405,
     "end_time": "2024-10-09T22:45:21.021599",
     "exception": false,
     "start_time": "2024-10-09T22:45:21.012194",
     "status": "completed"
    },
    "tags": []
   },
   "outputs": [
    {
     "name": "stdout",
     "output_type": "stream",
     "text": [
      "time: 537 µs (started: 2024-10-09 15:45:21 -07:00)\n"
     ]
    }
   ],
   "source": [
    "import os\n",
    "import sys\n",
    "import time\n",
    "import warnings\n",
    "\n",
    "# Add WisIO to the path\n",
    "sys.path.append(os.path.abspath(\"../\"))\n",
    "\n",
    "# Filter warnings\n",
    "warnings.filterwarnings('ignore')"
   ]
  },
  {
   "cell_type": "code",
   "execution_count": 3,
   "id": "123f40e6",
   "metadata": {
    "execution": {
     "iopub.execute_input": "2024-10-09T22:45:21.029069Z",
     "iopub.status.busy": "2024-10-09T22:45:21.028694Z",
     "iopub.status.idle": "2024-10-09T22:45:21.033052Z",
     "shell.execute_reply": "2024-10-09T22:45:21.032458Z"
    },
    "papermill": {
     "duration": 0.009568,
     "end_time": "2024-10-09T22:45:21.034385",
     "exception": false,
     "start_time": "2024-10-09T22:45:21.024817",
     "status": "completed"
    },
    "tags": [
     "parameters",
     "parameters2"
    ]
   },
   "outputs": [
    {
     "name": "stdout",
     "output_type": "stream",
     "text": [
      "time: 751 µs (started: 2024-10-09 15:45:21 -07:00)\n"
     ]
    }
   ],
   "source": [
    "analyzer = \"dftracer\"\n",
    "checkpoint = True\n",
    "logical_view_types = False\n",
    "output_max_bottlenecks = 1\n",
    "output_root_only = False\n",
    "run_dir = f\".wisio/{analyzer}/{int(time.time())}\"\n",
    "bottleneck_dir = f\"{run_dir}/bottlenecks\"\n",
    "checkpoint_dir = f\"{run_dir}/checkpoints\"\n",
    "percentile = 0.95\n",
    "trace_path = \"/p/lustre3/iopp/dftracer-traces-lfs/v1.0.5-develop/corona/cm1/APP/node-1/v1/RAW/*.pfw.gz\""
   ]
  },
  {
   "cell_type": "code",
   "execution_count": 4,
   "id": "6e677d62",
   "metadata": {
    "execution": {
     "iopub.execute_input": "2024-10-09T22:45:21.041857Z",
     "iopub.status.busy": "2024-10-09T22:45:21.041585Z",
     "iopub.status.idle": "2024-10-09T22:45:21.045750Z",
     "shell.execute_reply": "2024-10-09T22:45:21.045164Z"
    },
    "papermill": {
     "duration": 0.009511,
     "end_time": "2024-10-09T22:45:21.047118",
     "exception": false,
     "start_time": "2024-10-09T22:45:21.037607",
     "status": "completed"
    },
    "tags": [
     "injected-parameters"
    ]
   },
   "outputs": [
    {
     "name": "stdout",
     "output_type": "stream",
     "text": [
      "time: 659 µs (started: 2024-10-09 15:45:21 -07:00)\n"
     ]
    }
   ],
   "source": [
    "# Parameters\n",
    "analyzer = \"dftracer\"\n",
    "checkpoint = True\n",
    "checkpoint_dir = \"/usr/workspace/iopp/wisio_logs/_checkpoints/dftracer-cosmoflow-dlio-v100-node-16-v3\"\n",
    "logical_view_types = False\n",
    "output_max_bottlenecks = 1\n",
    "output_root_only = False\n",
    "run_dir = \".wisio/dftracer/cosmoflow-dlio-v100-node-16-v3\"\n",
    "percentile = 0.99\n",
    "trace_path = \"/p/lustre3/iopp/dftracer-traces-lfs/v1.0.5-develop/corona/cosmoflow/dlio-v100/node-16/v3/COMPACT/*.pfw.gz\"\n"
   ]
  },
  {
   "cell_type": "code",
   "execution_count": 5,
   "id": "7ccccd27",
   "metadata": {
    "execution": {
     "iopub.execute_input": "2024-10-09T22:45:21.054769Z",
     "iopub.status.busy": "2024-10-09T22:45:21.054490Z",
     "iopub.status.idle": "2024-10-09T22:45:28.487903Z",
     "shell.execute_reply": "2024-10-09T22:45:28.486924Z"
    },
    "papermill": {
     "duration": 7.439007,
     "end_time": "2024-10-09T22:45:28.489496",
     "exception": false,
     "start_time": "2024-10-09T22:45:21.050489",
     "status": "completed"
    },
    "tags": []
   },
   "outputs": [
    {
     "name": "stdout",
     "output_type": "stream",
     "text": [
      "time: 7.43 s (started: 2024-10-09 15:45:21 -07:00)\n"
     ]
    }
   ],
   "source": [
    "from distributed import Client\n",
    "from hydra import compose, initialize\n",
    "from hydra.core.hydra_config import HydraConfig\n",
    "from hydra.utils import instantiate\n",
    "from wisio.config import init_hydra_config_store\n",
    "from wisio.utils.file_utils import ensure_dir\n",
    "\n",
    "ensure_dir(run_dir)\n",
    "\n",
    "with initialize(version_base=None, config_path=None):\n",
    "    init_hydra_config_store()\n",
    "    cfg = compose(\n",
    "        config_name=\"config\",\n",
    "        overrides=[\n",
    "            f\"+analyzer={analyzer}\",\n",
    "            f\"analyzer.bottleneck_dir={bottleneck_dir}\",\n",
    "            f\"analyzer.checkpoint={checkpoint}\",\n",
    "            f\"analyzer.checkpoint_dir={checkpoint_dir}\",\n",
    "            f\"hydra.run.dir={run_dir}\",\n",
    "            f\"hydra.runtime.output_dir={run_dir}\",\n",
    "            f\"logical_view_types={logical_view_types}\",\n",
    "            f\"output.max_bottlenecks={output_max_bottlenecks}\",\n",
    "            f\"output.root_only={output_root_only}\",\n",
    "            f\"percentile={percentile}\",\n",
    "            f\"trace_path={trace_path}\",\n",
    "        ],\n",
    "        return_hydra_config=True,\n",
    "    )\n",
    "    HydraConfig.instance().set_config(cfg)\n",
    "    cluster = instantiate(cfg.cluster)\n",
    "    client = Client(cluster)\n",
    "    analyzer = instantiate(cfg.analyzer)\n",
    "    output = instantiate(cfg.output)"
   ]
  },
  {
   "cell_type": "code",
   "execution_count": 6,
   "id": "e050d970",
   "metadata": {
    "execution": {
     "iopub.execute_input": "2024-10-09T22:45:28.499414Z",
     "iopub.status.busy": "2024-10-09T22:45:28.498631Z",
     "iopub.status.idle": "2024-10-09T23:21:50.871047Z",
     "shell.execute_reply": "2024-10-09T23:21:50.869692Z"
    },
    "papermill": {
     "duration": 2182.383034,
     "end_time": "2024-10-09T23:21:50.876648",
     "exception": false,
     "start_time": "2024-10-09T22:45:28.493614",
     "status": "completed"
    },
    "tags": []
   },
   "outputs": [
    {
     "name": "stdout",
     "output_type": "stream",
     "text": [
      "time: 36min 22s (started: 2024-10-09 15:45:28 -07:00)\n"
     ]
    }
   ],
   "source": [
    "result = analyzer.analyze_trace(\n",
    "    trace_path=cfg.trace_path,\n",
    "    # accuracy=cfg.accuracy,\n",
    "    exclude_bottlenecks=cfg.exclude_bottlenecks,\n",
    "    exclude_characteristics=cfg.exclude_characteristics,\n",
    "    logical_view_types=cfg.logical_view_types,\n",
    "    metrics=cfg.metrics,\n",
    "    percentile=cfg.percentile,\n",
    "    view_types=cfg.view_types,\n",
    ")"
   ]
  },
  {
   "cell_type": "code",
   "execution_count": 7,
   "id": "a097d2c8",
   "metadata": {
    "execution": {
     "iopub.execute_input": "2024-10-09T23:21:50.885693Z",
     "iopub.status.busy": "2024-10-09T23:21:50.885270Z",
     "iopub.status.idle": "2024-10-09T23:27:26.809232Z",
     "shell.execute_reply": "2024-10-09T23:27:26.808086Z"
    },
    "papermill": {
     "duration": 335.930229,
     "end_time": "2024-10-09T23:27:26.810887",
     "exception": false,
     "start_time": "2024-10-09T23:21:50.880658",
     "status": "completed"
    },
    "tags": []
   },
   "outputs": [
    {
     "data": {
      "text/html": [
       "<pre style=\"white-space:pre;overflow-x:auto;line-height:normal;font-family:Menlo,'DejaVu Sans Mono',consolas,'Courier New',monospace\">╭────────────────────────────────────────────── I/O Characteristics ──────────────────────────────────────────────╮\n",
       "│                                                                                                                 │\n",
       "│ <span style=\"color: #008080; text-decoration-color: #008080\"> Runtime         </span> 769.93 seconds                                                                                │\n",
       "│ <span style=\"color: #008080; text-decoration-color: #008080\"> I/O Time        </span> 34.48 seconds                                                                                 │\n",
       "│ <span style=\"color: #008080; text-decoration-color: #008080\">                 </span> ├── Read - 32.23 seconds (93.47%)                                                             │\n",
       "│ <span style=\"color: #008080; text-decoration-color: #008080\">                 </span> ├── Write - 0.00 seconds (0.01%)                                                              │\n",
       "│ <span style=\"color: #008080; text-decoration-color: #008080\">                 </span> └── Metadata - 2.60 seconds (7.55%)                                                           │\n",
       "│ <span style=\"color: #008080; text-decoration-color: #008080\"> I/O Operations  </span> 45,802,980 ops                                                                                │\n",
       "│ <span style=\"color: #008080; text-decoration-color: #008080\">                 </span> ├── Read - 32,131,265 ops (70.15%)                                                            │\n",
       "│ <span style=\"color: #008080; text-decoration-color: #008080\">                 </span> ├── Write - 4,217 ops (0.01%)                                                                 │\n",
       "│ <span style=\"color: #008080; text-decoration-color: #008080\">                 </span> └── Metadata - 13,632,170 ops (29.76%)                                                        │\n",
       "│ <span style=\"color: #008080; text-decoration-color: #008080\"> I/O Size        </span> 6.76 TiB                                                                                      │\n",
       "│ <span style=\"color: #008080; text-decoration-color: #008080\">                 </span> ├── Read - 6.76 TiB (100.00%)                                                                 │\n",
       "│ <span style=\"color: #008080; text-decoration-color: #008080\">                 </span> └── Write - 218.81 kiB (0.00%)                                                                │\n",
       "│ <span style=\"color: #008080; text-decoration-color: #008080\"> Read Requests   </span> 4 kiB-256 kiB - 32,130,509 ops                                                                │\n",
       "│ <span style=\"color: #008080; text-decoration-color: #008080\">                 </span> ├── &lt;4 kiB - 175,248 ops (0.55%)                                                              │\n",
       "│ <span style=\"color: #008080; text-decoration-color: #008080\">                 </span> ├── 4-16 kiB - 20,092 ops (0.06%)                                                             │\n",
       "│ <span style=\"color: #008080; text-decoration-color: #008080\">                 </span> ├── 16-64 kiB - 31,444 ops (0.10%)                                                            │\n",
       "│ <span style=\"color: #008080; text-decoration-color: #008080\">                 </span> └── 64-256 kiB - 31,903,725 ops (99.29%)                                                      │\n",
       "│ <span style=\"color: #008080; text-decoration-color: #008080\"> Write Requests  </span> 4 kiB-4 kiB - 4,217 ops                                                                       │\n",
       "│ <span style=\"color: #008080; text-decoration-color: #008080\">                 </span> └── &lt;4 kiB - 4,217 ops (100.00%)                                                              │\n",
       "│ <span style=\"color: #008080; text-decoration-color: #008080\"> Nodes           </span> 16 nodes                                                                                      │\n",
       "│ <span style=\"color: #008080; text-decoration-color: #008080\">                 </span> ├── 3903101653980564509 - 34.48 s (100.00%) - 432.81 GiB/10.56 kiB R/W (6.25/0.00%) -         │\n",
       "│ <span style=\"color: #008080; text-decoration-color: #008080\">                 </span> │   2,862,327 ops (6.25%)                                                                     │\n",
       "│ <span style=\"color: #008080; text-decoration-color: #008080\">                 </span> ├── 16317731584986882421 - 34.10 s (98.88%) - 432.80 GiB/60.38 kiB R/W (6.25/0.00%) -         │\n",
       "│ <span style=\"color: #008080; text-decoration-color: #008080\">                 </span> │   2,862,635 ops (6.25%)                                                                     │\n",
       "│ <span style=\"color: #008080; text-decoration-color: #008080\">                 </span> ├── 17424505939907203644 - 33.81 s (98.07%) - 432.84 GiB/10.56 kiB R/W (6.25/0.00%) -         │\n",
       "│ <span style=\"color: #008080; text-decoration-color: #008080\">                 </span> │   2,862,193 ops (6.25%)                                                                     │\n",
       "│ <span style=\"color: #008080; text-decoration-color: #008080\">                 </span> ├── 3331529830307220231 - 33.52 s (97.23%) - 432.91 GiB/10.56 kiB R/W (6.25/0.00%) -          │\n",
       "│ <span style=\"color: #008080; text-decoration-color: #008080\">                 </span> │   2,863,177 ops (6.25%)                                                                     │\n",
       "│ <span style=\"color: #008080; text-decoration-color: #008080\">                 </span> ├── 11940681009529776706 - 33.47 s (97.06%) - 432.79 GiB/10.56 kiB R/W (6.25/0.00%) -         │\n",
       "│ <span style=\"color: #008080; text-decoration-color: #008080\">                 </span> │   2,862,420 ops (6.25%)                                                                     │\n",
       "│ <span style=\"color: #008080; text-decoration-color: #008080\">                 </span> ├── 9984750283406985853 - 32.90 s (95.43%) - 432.78 GiB/10.56 kiB R/W (6.25/0.00%) -          │\n",
       "│ <span style=\"color: #008080; text-decoration-color: #008080\">                 </span> │   2,862,194 ops (6.25%)                                                                     │\n",
       "│ <span style=\"color: #008080; text-decoration-color: #008080\">                 </span> ├── 13943161580101246997 - 32.81 s (95.16%) - 432.86 GiB/10.56 kiB R/W (6.25/0.00%) -         │\n",
       "│ <span style=\"color: #008080; text-decoration-color: #008080\">                 </span> │   2,862,867 ops (6.25%)                                                                     │\n",
       "│ <span style=\"color: #008080; text-decoration-color: #008080\">                 </span> ├── 1279741891957567472 - 32.71 s (94.88%) - 432.83 GiB/10.56 kiB R/W (6.25/0.00%) -          │\n",
       "│ <span style=\"color: #008080; text-decoration-color: #008080\">                 </span> │   2,862,622 ops (6.25%)                                                                     │\n",
       "│ <span style=\"color: #008080; text-decoration-color: #008080\">                 </span> ├── 11194065546293973417 - 32.62 s (94.62%) - 432.82 GiB/10.56 kiB R/W (6.25/0.00%) -         │\n",
       "│ <span style=\"color: #008080; text-decoration-color: #008080\">                 </span> │   2,862,524 ops (6.25%)                                                                     │\n",
       "│ <span style=\"color: #008080; text-decoration-color: #008080\">                 </span> ├── 3206708581496198598 - 32.56 s (94.44%) - 432.85 GiB/10.56 kiB R/W (6.25/0.00%) -          │\n",
       "│ <span style=\"color: #008080; text-decoration-color: #008080\">                 </span> │   2,862,722 ops (6.25%)                                                                     │\n",
       "│ <span style=\"color: #008080; text-decoration-color: #008080\">                 </span> ├── 15304651522364908113 - 32.19 s (93.36%) - 432.83 GiB/10.56 kiB R/W (6.25/0.00%) -         │\n",
       "│ <span style=\"color: #008080; text-decoration-color: #008080\">                 </span> │   2,862,762 ops (6.25%)                                                                     │\n",
       "│ <span style=\"color: #008080; text-decoration-color: #008080\">                 </span> ├── 3084974796030094918 - 32.10 s (93.10%) - 432.87 GiB/10.56 kiB R/W (6.25/0.00%) -          │\n",
       "│ <span style=\"color: #008080; text-decoration-color: #008080\">                 </span> │   2,863,185 ops (6.25%)                                                                     │\n",
       "│ <span style=\"color: #008080; text-decoration-color: #008080\">                 </span> ├── 706977058488264986 - 32.03 s (92.90%) - 432.78 GiB/10.56 kiB R/W (6.25/0.00%) -           │\n",
       "│ <span style=\"color: #008080; text-decoration-color: #008080\">                 </span> │   2,862,329 ops (6.25%)                                                                     │\n",
       "│ <span style=\"color: #008080; text-decoration-color: #008080\">                 </span> ├── 11048751769900308354 - 31.93 s (92.59%) - 432.92 GiB/10.56 kiB R/W (6.25/0.00%) -         │\n",
       "│ <span style=\"color: #008080; text-decoration-color: #008080\">                 </span> │   2,863,049 ops (6.25%)                                                                     │\n",
       "│ <span style=\"color: #008080; text-decoration-color: #008080\">                 </span> ├── 16718576285930604672 - 31.77 s (92.14%) - 432.80 GiB/10.56 kiB R/W (6.25/0.00%) -         │\n",
       "│ <span style=\"color: #008080; text-decoration-color: #008080\">                 </span> │   2,862,666 ops (6.25%)                                                                     │\n",
       "│ <span style=\"color: #008080; text-decoration-color: #008080\">                 </span> └── 784840397337378243 - 30.77 s (89.23%) - 432.93 GiB/10.56 kiB R/W (6.25/0.00%) -           │\n",
       "│ <span style=\"color: #008080; text-decoration-color: #008080\">                 </span>     2,863,308 ops (6.25%)                                                                     │\n",
       "│ <span style=\"color: #008080; text-decoration-color: #008080\"> Apps            </span> 1 app                                                                                         │\n",
       "│ <span style=\"color: #008080; text-decoration-color: #008080\"> Processes/Ranks </span> 12,288 processes                                                                              │\n",
       "│ <span style=\"color: #008080; text-decoration-color: #008080\"> Files           </span> 679,966 files                                                                                 │\n",
       "│ <span style=\"color: #008080; text-decoration-color: #008080\">                 </span> ├── Shared: 531,094 files (78.11%)                                                            │\n",
       "│ <span style=\"color: #008080; text-decoration-color: #008080\">                 </span> └── FPP: 148,872 files (21.89%)                                                               │\n",
       "│ <span style=\"color: #008080; text-decoration-color: #008080\"> Time Periods    </span> 332 time periods (Time Granularity: 1,000,000.0)                                              │\n",
       "│ <span style=\"color: #008080; text-decoration-color: #008080\"> Access Pattern  </span> <span style=\"font-weight: bold\">Sequential</span>: 32,135,482 ops (100.00%) - <span style=\"font-weight: bold\">Random</span>: 0 ops (0.00%)                                  │\n",
       "│                                                                                                                 │\n",
       "╰─ <span style=\"font-weight: bold\">R</span>: Read - <span style=\"font-weight: bold\">W</span>: Write - <span style=\"font-weight: bold\">M</span>: Metadata  ─────────────────────────────────────────────────────────────────────────────╯\n",
       "                                                                                                                   \n",
       "╭──────────────────────────────────── 7242 I/O Bottlenecks with 28943 Reasons ────────────────────────────────────╮\n",
       "│                                                                                                                 │\n",
       "│  Time View (4 bottlenecks with 10 reasons)                                                                      │\n",
       "│  ├── <span style=\"color: #d70000; text-decoration-color: #d70000\">[CR1] 1 process accesses 25 files within 1 time period (78) across 101 I/O operations and has an I/O time</span>  │\n",
       "│  │   <span style=\"color: #d70000; text-decoration-color: #d70000\">of 0.01 seconds which is 0.03% of overall I/O time of the workload.</span>                                        │\n",
       "│  │   ├── <span style=\"color: #d70000; text-decoration-color: #d70000\">[Excessive metadata access] Overall 95.70% (0.01 seconds) of I/O time is spent on metadata access, </span>    │\n",
       "│  │   │   <span style=\"color: #d70000; text-decoration-color: #d70000\">specifically 8.48% (0.00 seconds) on the 'open' operation.</span>                                             │\n",
       "│  │   └── <span style=\"color: #d70000; text-decoration-color: #d70000\">[Size imbalance] 'read' size is 100.00% (2.15 kiB) of total I/O size.</span>                                  │\n",
       "│  └── (3 more)                                                                                                   │\n",
       "│  File View (6800 bottlenecks with 27199 reasons)                                                                │\n",
       "│  ├── <span style=\"color: #d70000; text-decoration-color: #d70000\">[CR5] 1 process accesses 1 file (5500457635699601408) within 1 time period across 2 I/O operations and </span>    │\n",
       "│  │   <span style=\"color: #d70000; text-decoration-color: #d70000\">has an I/O time of 0.16 seconds which is 0.47% of overall I/O time of the workload.</span>                        │\n",
       "│  │   ├── <span style=\"color: #d70000; text-decoration-color: #d70000\">[Operation imbalance] 'read' operations are 50.00% (1 operations) of total I/O operations.</span>             │\n",
       "│  │   ├── <span style=\"color: #d70000; text-decoration-color: #d70000\">[Size imbalance] 'read' size is 100.00% (256.00 kiB) of total I/O size.</span>                                │\n",
       "│  │   ├── <span style=\"color: #d70000; text-decoration-color: #d70000\">[Small reads] 'read' time is 93.91% (0.15 seconds) of I/O time.</span>                                        │\n",
       "│  │   └── <span style=\"color: #d70000; text-decoration-color: #d70000\">[Small reads] Average 'read's are 128.00 kiB, which is smaller than 1.00 MiB.</span>                          │\n",
       "│  └── (6799 more)                                                                                                │\n",
       "│  Process View (123 bottlenecks with 492 reasons)                                                                │\n",
       "│  ├── <span style=\"color: #d75f00; text-decoration-color: #d75f00\">[VH6805] 1 process (app#3903101653980564509#312638#313167) accesses 230 files within 83 time periods </span>      │\n",
       "│  │   <span style=\"color: #d75f00; text-decoration-color: #d75f00\">across 3,231 I/O operations and has an I/O time of 34.48 seconds which is 100.00% of overall I/O time of </span>  │\n",
       "│  │   <span style=\"color: #d75f00; text-decoration-color: #d75f00\">the workload.</span>                                                                                              │\n",
       "│  │   ├── <span style=\"color: #d75f00; text-decoration-color: #d75f00\">[Operation imbalance] 'read' operations are 85.82% (2,773 operations) of total I/O operations.</span>         │\n",
       "│  │   ├── <span style=\"color: #d75f00; text-decoration-color: #d75f00\">[Size imbalance] 'read' size is 100.00% (616.77 MiB) of total I/O size.</span>                                │\n",
       "│  │   ├── <span style=\"color: #d75f00; text-decoration-color: #d75f00\">[Small reads] 'read' time is 93.47% (32.23 seconds) of I/O time.</span>                                       │\n",
       "│  │   └── <span style=\"color: #d75f00; text-decoration-color: #d75f00\">[Small reads] Average 'read's are 195.47 kiB, which is smaller than 1.00 MiB.</span>                          │\n",
       "│  └── (122 more)                                                                                                 │\n",
       "│  Time&gt;File View (3 bottlenecks with 4 reasons)                                                                  │\n",
       "│  ├── <span style=\"color: #d70000; text-decoration-color: #d70000\">[CR6928] 8 processes access 1 file (11665403757839435776) within 4 time periods across 8 I/O operations </span>   │\n",
       "│  │   <span style=\"color: #d70000; text-decoration-color: #d70000\">and have an I/O time of 0.00 seconds which is 0.00% of overall I/O time of the workload.</span>                   │\n",
       "│  │   └── <span style=\"color: #d70000; text-decoration-color: #d70000\">[Excessive metadata access] No reason found, investigation needed!</span>                                     │\n",
       "│  └── (2 more)                                                                                                   │\n",
       "│  Time&gt;Process View (1 bottleneck with 2 reasons)                                                                │\n",
       "│  └── <span style=\"color: #d75f00; text-decoration-color: #d75f00\">[VH6931] 1 process (app#1279741891957567472#800470#800470) accesses 25 files within 1 time period across </span>  │\n",
       "│      <span style=\"color: #d75f00; text-decoration-color: #d75f00\">101 I/O operations and has an I/O time of 0.01 seconds which is 0.03% of overall I/O time of the </span>          │\n",
       "│      <span style=\"color: #d75f00; text-decoration-color: #d75f00\">workload.</span>                                                                                                  │\n",
       "│      ├── <span style=\"color: #d75f00; text-decoration-color: #d75f00\">[Excessive metadata access] Overall 95.70% (0.01 seconds) of I/O time is spent on metadata access, </span>    │\n",
       "│      │   <span style=\"color: #d75f00; text-decoration-color: #d75f00\">specifically 8.48% (0.00 seconds) on the 'open' operation.</span>                                             │\n",
       "│      └── <span style=\"color: #d75f00; text-decoration-color: #d75f00\">[Size imbalance] 'read' size is 100.00% (2.15 kiB) of total I/O size.</span>                                  │\n",
       "│  File&gt;Time View (1 bottleneck with 4 reasons)                                                                   │\n",
       "│  └── <span style=\"color: #d70000; text-decoration-color: #d70000\">[CR6932] 36 processes access 38 files within 1 time period (322) across 268 I/O operations and have an </span>    │\n",
       "│      <span style=\"color: #d70000; text-decoration-color: #d70000\">I/O time of 0.44 seconds which is 1.27% of overall I/O time of the workload.</span>                               │\n",
       "│      ├── <span style=\"color: #d70000; text-decoration-color: #d70000\">[Operation imbalance] 'read' operations are 81.72% (219 operations) of total I/O operations.</span>           │\n",
       "│      ├── <span style=\"color: #d70000; text-decoration-color: #d70000\">[Size imbalance] 'read' size is 100.00% (50.65 MiB) of total I/O size.</span>                                 │\n",
       "│      ├── <span style=\"color: #d70000; text-decoration-color: #d70000\">[Small reads] 'read' time is 98.46% (0.43 seconds) of I/O time.</span>                                        │\n",
       "│      └── <span style=\"color: #d70000; text-decoration-color: #d70000\">[Small reads] Average 'read's are 193.51 kiB, which is smaller than 1.00 MiB.</span>                          │\n",
       "│  File&gt;Process View (21 bottlenecks with 84 reasons)                                                             │\n",
       "│  ├── <span style=\"color: #d78700; text-decoration-color: #d78700\">[HI6933] 1 process (app#3903101653980564509#312642#313079) accesses 1 file within 1 time period across 2 </span>  │\n",
       "│  │   <span style=\"color: #d78700; text-decoration-color: #d78700\">I/O operations and has an I/O time of 0.08 seconds which is 0.24% of overall I/O time of the workload.</span>     │\n",
       "│  │   ├── <span style=\"color: #d78700; text-decoration-color: #d78700\">[Operation imbalance] 'read' operations are 50.00% (1 operations) of total I/O operations.</span>             │\n",
       "│  │   ├── <span style=\"color: #d78700; text-decoration-color: #d78700\">[Size imbalance] 'read' size is 100.00% (256.00 kiB) of total I/O size.</span>                                │\n",
       "│  │   ├── <span style=\"color: #d78700; text-decoration-color: #d78700\">[Small reads] 'read' time is 92.48% (0.08 seconds) of I/O time.</span>                                        │\n",
       "│  │   └── <span style=\"color: #d78700; text-decoration-color: #d78700\">[Small reads] Average 'read's are 128.00 kiB, which is smaller than 1.00 MiB.</span>                          │\n",
       "│  └── (20 more)                                                                                                  │\n",
       "│  Process&gt;Time View (1 bottleneck with 4 reasons)                                                                │\n",
       "│  └── <span style=\"color: #d78700; text-decoration-color: #d78700\">[HI6954] 91 processes access 92 files within 1 time period (298) across 1,285 I/O operations and have an </span>  │\n",
       "│      <span style=\"color: #d78700; text-decoration-color: #d78700\">I/O time of 0.41 seconds which is 1.18% of overall I/O time of the workload.</span>                               │\n",
       "│      ├── <span style=\"color: #d78700; text-decoration-color: #d78700\">[Operation imbalance] 'read' operations are 85.53% (1,099 operations) of total I/O operations.</span>         │\n",
       "│      ├── <span style=\"color: #d78700; text-decoration-color: #d78700\">[Size imbalance] 'read' size is 100.00% (244.61 MiB) of total I/O size.</span>                                │\n",
       "│      ├── <span style=\"color: #d78700; text-decoration-color: #d78700\">[Small reads] 'read' time is 93.55% (0.38 seconds) of I/O time.</span>                                        │\n",
       "│      └── <span style=\"color: #d78700; text-decoration-color: #d78700\">[Small reads] Average 'read's are 194.93 kiB, which is smaller than 1.00 MiB.</span>                          │\n",
       "│  Process&gt;File View (282 bottlenecks with 1128 reasons)                                                          │\n",
       "│  ├── <span style=\"color: #d70000; text-decoration-color: #d70000\">[CR6955] 1 process accesses 1 file (12293736938569607168) within 1 time period across 2 I/O operations </span>    │\n",
       "│  │   <span style=\"color: #d70000; text-decoration-color: #d70000\">and has an I/O time of 0.13 seconds which is 0.37% of overall I/O time of the workload.</span>                    │\n",
       "│  │   ├── <span style=\"color: #d70000; text-decoration-color: #d70000\">[Operation imbalance] 'read' operations are 50.00% (1 operations) of total I/O operations.</span>             │\n",
       "│  │   ├── <span style=\"color: #d70000; text-decoration-color: #d70000\">[Size imbalance] 'read' size is 100.00% (256.00 kiB) of total I/O size.</span>                                │\n",
       "│  │   ├── <span style=\"color: #d70000; text-decoration-color: #d70000\">[Small reads] 'read' time is 90.16% (0.11 seconds) of I/O time.</span>                                        │\n",
       "│  │   └── <span style=\"color: #d70000; text-decoration-color: #d70000\">[Small reads] Average 'read's are 128.00 kiB, which is smaller than 1.00 MiB.</span>                          │\n",
       "│  └── (281 more)                                                                                                 │\n",
       "│  Time&gt;File&gt;Process View (1 bottleneck with 0 reasons)                                                           │\n",
       "│  └── <span style=\"color: #d75f00; text-decoration-color: #d75f00\">[VH7237] 1 process (app#1279741891957567472#800470#800470) accesses 2 files within 1 time period across 5</span>  │\n",
       "│      <span style=\"color: #d75f00; text-decoration-color: #d75f00\">I/O operations and has an I/O time of 0.00 seconds which is 0.01% of overall I/O time of the workload.</span>     │\n",
       "│      └── <span style=\"color: #d75f00; text-decoration-color: #d75f00\">[Excessive metadata access] No reason found, investigation needed!</span>                                     │\n",
       "│  Time&gt;Process&gt;File View (1 bottleneck with 0 reasons)                                                           │\n",
       "│  └── <span style=\"color: #d70000; text-decoration-color: #d70000\">[CR7238] 1 process accesses 1 file (11665403757839435776) within 1 time period across 1 I/O operation and</span>  │\n",
       "│      <span style=\"color: #d70000; text-decoration-color: #d70000\">has an I/O time of 0.00 seconds which is 0.00% of overall I/O time of the workload.</span>                        │\n",
       "│      └── <span style=\"color: #d70000; text-decoration-color: #d70000\">[Excessive metadata access] No reason found, investigation needed!</span>                                     │\n",
       "│  File&gt;Time&gt;Process View (1 bottleneck with 4 reasons)                                                           │\n",
       "│  └── <span style=\"color: #d75f00; text-decoration-color: #d75f00\">[VH7239] 1 process (app#1279741891957567472#800471#800964) accesses 1 file within 1 time period across 2 </span>  │\n",
       "│      <span style=\"color: #d75f00; text-decoration-color: #d75f00\">I/O operations and has an I/O time of 0.12 seconds which is 0.35% of overall I/O time of the workload.</span>     │\n",
       "│      ├── <span style=\"color: #d75f00; text-decoration-color: #d75f00\">[Operation imbalance] 'read' operations are 50.00% (1 operations) of total I/O operations.</span>             │\n",
       "│      ├── <span style=\"color: #d75f00; text-decoration-color: #d75f00\">[Size imbalance] 'read' size is 100.00% (256.00 kiB) of total I/O size.</span>                                │\n",
       "│      ├── <span style=\"color: #d75f00; text-decoration-color: #d75f00\">[Small reads] 'read' time is 89.52% (0.11 seconds) of I/O time.</span>                                        │\n",
       "│      └── <span style=\"color: #d75f00; text-decoration-color: #d75f00\">[Small reads] Average 'read's are 128.00 kiB, which is smaller than 1.00 MiB.</span>                          │\n",
       "│  File&gt;Process&gt;Time View (1 bottleneck with 4 reasons)                                                           │\n",
       "│  └── <span style=\"color: #d78700; text-decoration-color: #d78700\">[HI7240] 1 process accesses 1 file within 1 time period (313) across 2 I/O operations and has an I/O time</span>  │\n",
       "│      <span style=\"color: #d78700; text-decoration-color: #d78700\">of 0.11 seconds which is 0.32% of overall I/O time of the workload.</span>                                        │\n",
       "│      ├── <span style=\"color: #d78700; text-decoration-color: #d78700\">[Operation imbalance] 'read' operations are 50.00% (1 operations) of total I/O operations.</span>             │\n",
       "│      ├── <span style=\"color: #d78700; text-decoration-color: #d78700\">[Size imbalance] 'read' size is 100.00% (256.00 kiB) of total I/O size.</span>                                │\n",
       "│      ├── <span style=\"color: #d78700; text-decoration-color: #d78700\">[Small reads] 'read' time is 87.06% (0.09 seconds) of I/O time.</span>                                        │\n",
       "│      └── <span style=\"color: #d78700; text-decoration-color: #d78700\">[Small reads] Average 'read's are 128.00 kiB, which is smaller than 1.00 MiB.</span>                          │\n",
       "│  Process&gt;Time&gt;File View (1 bottleneck with 4 reasons)                                                           │\n",
       "│  └── <span style=\"color: #d7d700; text-decoration-color: #d7d700\">[MD7241] 1 process accesses 1 file (8072548941229095936) within 1 time period across 14 I/O operations </span>    │\n",
       "│      <span style=\"color: #d7d700; text-decoration-color: #d7d700\">and has an I/O time of 0.41 seconds which is 1.18% of overall I/O time of the workload.</span>                    │\n",
       "│      ├── <span style=\"color: #d7d700; text-decoration-color: #d7d700\">[Operation imbalance] 'read' operations are 85.71% (12 operations) of total I/O operations.</span>            │\n",
       "│      ├── <span style=\"color: #d7d700; text-decoration-color: #d7d700\">[Size imbalance] 'read' size is 100.00% (2.72 MiB) of total I/O size.</span>                                  │\n",
       "│      ├── <span style=\"color: #d7d700; text-decoration-color: #d7d700\">[Small reads] 'read' time is 93.55% (0.38 seconds) of I/O time.</span>                                        │\n",
       "│      └── <span style=\"color: #d7d700; text-decoration-color: #d7d700\">[Small reads] Average 'read's are 198.87 kiB, which is smaller than 1.00 MiB.</span>                          │\n",
       "│  Process&gt;File&gt;Time View (1 bottleneck with 4 reasons)                                                           │\n",
       "│  └── <span style=\"color: #d70000; text-decoration-color: #d70000\">[CR7242] 1 process accesses 1 file within 1 time period (350) across 3 I/O operations and has an I/O time</span>  │\n",
       "│      <span style=\"color: #d70000; text-decoration-color: #d70000\">of 0.33 seconds which is 0.94% of overall I/O time of the workload.</span>                                        │\n",
       "│      ├── <span style=\"color: #d70000; text-decoration-color: #d70000\">[Operation imbalance] 'read' operations are 66.67% (2 operations) of total I/O operations.</span>             │\n",
       "│      ├── <span style=\"color: #d70000; text-decoration-color: #d70000\">[Size imbalance] 'read' size is 100.00% (512.00 kiB) of total I/O size.</span>                                │\n",
       "│      ├── <span style=\"color: #d70000; text-decoration-color: #d70000\">[Small reads] 'read' time is 97.37% (0.32 seconds) of I/O time.</span>                                        │\n",
       "│      └── <span style=\"color: #d70000; text-decoration-color: #d70000\">[Small reads] Average 'read's are 170.67 kiB, which is smaller than 1.00 MiB.</span>                          │\n",
       "│                                                                                                                 │\n",
       "╰─────────────────────────────────────────────────────────────────────────────────────────────────────────────────╯\n",
       "</pre>\n"
      ],
      "text/plain": [
       "╭────────────────────────────────────────────── I/O Characteristics ──────────────────────────────────────────────╮\n",
       "│                                                                                                                 │\n",
       "│ \u001b[36m \u001b[0m\u001b[36mRuntime        \u001b[0m\u001b[36m \u001b[0m 769.93 seconds                                                                                │\n",
       "│ \u001b[36m \u001b[0m\u001b[36mI/O Time       \u001b[0m\u001b[36m \u001b[0m 34.48 seconds                                                                                 │\n",
       "│ \u001b[36m                 \u001b[0m ├── Read - 32.23 seconds (93.47%)                                                             │\n",
       "│ \u001b[36m                 \u001b[0m ├── Write - 0.00 seconds (0.01%)                                                              │\n",
       "│ \u001b[36m                 \u001b[0m └── Metadata - 2.60 seconds (7.55%)                                                           │\n",
       "│ \u001b[36m \u001b[0m\u001b[36mI/O Operations \u001b[0m\u001b[36m \u001b[0m 45,802,980 ops                                                                                │\n",
       "│ \u001b[36m                 \u001b[0m ├── Read - 32,131,265 ops (70.15%)                                                            │\n",
       "│ \u001b[36m                 \u001b[0m ├── Write - 4,217 ops (0.01%)                                                                 │\n",
       "│ \u001b[36m                 \u001b[0m └── Metadata - 13,632,170 ops (29.76%)                                                        │\n",
       "│ \u001b[36m \u001b[0m\u001b[36mI/O Size       \u001b[0m\u001b[36m \u001b[0m 6.76 TiB                                                                                      │\n",
       "│ \u001b[36m                 \u001b[0m ├── Read - 6.76 TiB (100.00%)                                                                 │\n",
       "│ \u001b[36m                 \u001b[0m └── Write - 218.81 kiB (0.00%)                                                                │\n",
       "│ \u001b[36m \u001b[0m\u001b[36mRead Requests  \u001b[0m\u001b[36m \u001b[0m 4 kiB-256 kiB - 32,130,509 ops                                                                │\n",
       "│ \u001b[36m                 \u001b[0m ├── <4 kiB - 175,248 ops (0.55%)                                                              │\n",
       "│ \u001b[36m                 \u001b[0m ├── 4-16 kiB - 20,092 ops (0.06%)                                                             │\n",
       "│ \u001b[36m                 \u001b[0m ├── 16-64 kiB - 31,444 ops (0.10%)                                                            │\n",
       "│ \u001b[36m                 \u001b[0m └── 64-256 kiB - 31,903,725 ops (99.29%)                                                      │\n",
       "│ \u001b[36m \u001b[0m\u001b[36mWrite Requests \u001b[0m\u001b[36m \u001b[0m 4 kiB-4 kiB - 4,217 ops                                                                       │\n",
       "│ \u001b[36m                 \u001b[0m └── <4 kiB - 4,217 ops (100.00%)                                                              │\n",
       "│ \u001b[36m \u001b[0m\u001b[36mNodes          \u001b[0m\u001b[36m \u001b[0m 16 nodes                                                                                      │\n",
       "│ \u001b[36m                 \u001b[0m ├── 3903101653980564509 - 34.48 s (100.00%) - 432.81 GiB/10.56 kiB R/W (6.25/0.00%) -         │\n",
       "│ \u001b[36m                 \u001b[0m │   2,862,327 ops (6.25%)                                                                     │\n",
       "│ \u001b[36m                 \u001b[0m ├── 16317731584986882421 - 34.10 s (98.88%) - 432.80 GiB/60.38 kiB R/W (6.25/0.00%) -         │\n",
       "│ \u001b[36m                 \u001b[0m │   2,862,635 ops (6.25%)                                                                     │\n",
       "│ \u001b[36m                 \u001b[0m ├── 17424505939907203644 - 33.81 s (98.07%) - 432.84 GiB/10.56 kiB R/W (6.25/0.00%) -         │\n",
       "│ \u001b[36m                 \u001b[0m │   2,862,193 ops (6.25%)                                                                     │\n",
       "│ \u001b[36m                 \u001b[0m ├── 3331529830307220231 - 33.52 s (97.23%) - 432.91 GiB/10.56 kiB R/W (6.25/0.00%) -          │\n",
       "│ \u001b[36m                 \u001b[0m │   2,863,177 ops (6.25%)                                                                     │\n",
       "│ \u001b[36m                 \u001b[0m ├── 11940681009529776706 - 33.47 s (97.06%) - 432.79 GiB/10.56 kiB R/W (6.25/0.00%) -         │\n",
       "│ \u001b[36m                 \u001b[0m │   2,862,420 ops (6.25%)                                                                     │\n",
       "│ \u001b[36m                 \u001b[0m ├── 9984750283406985853 - 32.90 s (95.43%) - 432.78 GiB/10.56 kiB R/W (6.25/0.00%) -          │\n",
       "│ \u001b[36m                 \u001b[0m │   2,862,194 ops (6.25%)                                                                     │\n",
       "│ \u001b[36m                 \u001b[0m ├── 13943161580101246997 - 32.81 s (95.16%) - 432.86 GiB/10.56 kiB R/W (6.25/0.00%) -         │\n",
       "│ \u001b[36m                 \u001b[0m │   2,862,867 ops (6.25%)                                                                     │\n",
       "│ \u001b[36m                 \u001b[0m ├── 1279741891957567472 - 32.71 s (94.88%) - 432.83 GiB/10.56 kiB R/W (6.25/0.00%) -          │\n",
       "│ \u001b[36m                 \u001b[0m │   2,862,622 ops (6.25%)                                                                     │\n",
       "│ \u001b[36m                 \u001b[0m ├── 11194065546293973417 - 32.62 s (94.62%) - 432.82 GiB/10.56 kiB R/W (6.25/0.00%) -         │\n",
       "│ \u001b[36m                 \u001b[0m │   2,862,524 ops (6.25%)                                                                     │\n",
       "│ \u001b[36m                 \u001b[0m ├── 3206708581496198598 - 32.56 s (94.44%) - 432.85 GiB/10.56 kiB R/W (6.25/0.00%) -          │\n",
       "│ \u001b[36m                 \u001b[0m │   2,862,722 ops (6.25%)                                                                     │\n",
       "│ \u001b[36m                 \u001b[0m ├── 15304651522364908113 - 32.19 s (93.36%) - 432.83 GiB/10.56 kiB R/W (6.25/0.00%) -         │\n",
       "│ \u001b[36m                 \u001b[0m │   2,862,762 ops (6.25%)                                                                     │\n",
       "│ \u001b[36m                 \u001b[0m ├── 3084974796030094918 - 32.10 s (93.10%) - 432.87 GiB/10.56 kiB R/W (6.25/0.00%) -          │\n",
       "│ \u001b[36m                 \u001b[0m │   2,863,185 ops (6.25%)                                                                     │\n",
       "│ \u001b[36m                 \u001b[0m ├── 706977058488264986 - 32.03 s (92.90%) - 432.78 GiB/10.56 kiB R/W (6.25/0.00%) -           │\n",
       "│ \u001b[36m                 \u001b[0m │   2,862,329 ops (6.25%)                                                                     │\n",
       "│ \u001b[36m                 \u001b[0m ├── 11048751769900308354 - 31.93 s (92.59%) - 432.92 GiB/10.56 kiB R/W (6.25/0.00%) -         │\n",
       "│ \u001b[36m                 \u001b[0m │   2,863,049 ops (6.25%)                                                                     │\n",
       "│ \u001b[36m                 \u001b[0m ├── 16718576285930604672 - 31.77 s (92.14%) - 432.80 GiB/10.56 kiB R/W (6.25/0.00%) -         │\n",
       "│ \u001b[36m                 \u001b[0m │   2,862,666 ops (6.25%)                                                                     │\n",
       "│ \u001b[36m                 \u001b[0m └── 784840397337378243 - 30.77 s (89.23%) - 432.93 GiB/10.56 kiB R/W (6.25/0.00%) -           │\n",
       "│ \u001b[36m                 \u001b[0m     2,863,308 ops (6.25%)                                                                     │\n",
       "│ \u001b[36m \u001b[0m\u001b[36mApps           \u001b[0m\u001b[36m \u001b[0m 1 app                                                                                         │\n",
       "│ \u001b[36m \u001b[0m\u001b[36mProcesses/Ranks\u001b[0m\u001b[36m \u001b[0m 12,288 processes                                                                              │\n",
       "│ \u001b[36m \u001b[0m\u001b[36mFiles          \u001b[0m\u001b[36m \u001b[0m 679,966 files                                                                                 │\n",
       "│ \u001b[36m                 \u001b[0m ├── Shared: 531,094 files (78.11%)                                                            │\n",
       "│ \u001b[36m                 \u001b[0m └── FPP: 148,872 files (21.89%)                                                               │\n",
       "│ \u001b[36m \u001b[0m\u001b[36mTime Periods   \u001b[0m\u001b[36m \u001b[0m 332 time periods (Time Granularity: 1,000,000.0)                                              │\n",
       "│ \u001b[36m \u001b[0m\u001b[36mAccess Pattern \u001b[0m\u001b[36m \u001b[0m \u001b[1mSequential\u001b[0m: 32,135,482 ops (100.00%) - \u001b[1mRandom\u001b[0m: 0 ops (0.00%)                                  │\n",
       "│                                                                                                                 │\n",
       "╰─ \u001b[1mR\u001b[0m: Read - \u001b[1mW\u001b[0m: Write - \u001b[1mM\u001b[0m: Metadata  ─────────────────────────────────────────────────────────────────────────────╯\n",
       "                                                                                                                   \n",
       "╭──────────────────────────────────── 7242 I/O Bottlenecks with 28943 Reasons ────────────────────────────────────╮\n",
       "│                                                                                                                 │\n",
       "│  Time View (4 bottlenecks with 10 reasons)                                                                      │\n",
       "│  ├── \u001b[38;5;160m[CR1] 1 process accesses 25 files within 1 time period (78) across 101 I/O operations and has an I/O time\u001b[0m  │\n",
       "│  │   \u001b[38;5;160mof 0.01 seconds which is 0.03% of overall I/O time of the workload.\u001b[0m                                        │\n",
       "│  │   ├── \u001b[38;5;160m[Excessive metadata access] Overall 95.70% (0.01 seconds) of I/O time is spent on metadata access, \u001b[0m    │\n",
       "│  │   │   \u001b[38;5;160mspecifically 8.48% (0.00 seconds) on the 'open' operation.\u001b[0m                                             │\n",
       "│  │   └── \u001b[38;5;160m[Size imbalance] 'read' size is 100.00% (2.15 kiB) of total I/O size.\u001b[0m                                  │\n",
       "│  └── (3 more)                                                                                                   │\n",
       "│  File View (6800 bottlenecks with 27199 reasons)                                                                │\n",
       "│  ├── \u001b[38;5;160m[CR5] 1 process accesses 1 file (5500457635699601408) within 1 time period across 2 I/O operations and \u001b[0m    │\n",
       "│  │   \u001b[38;5;160mhas an I/O time of 0.16 seconds which is 0.47% of overall I/O time of the workload.\u001b[0m                        │\n",
       "│  │   ├── \u001b[38;5;160m[Operation imbalance] 'read' operations are 50.00% (1 operations) of total I/O operations.\u001b[0m             │\n",
       "│  │   ├── \u001b[38;5;160m[Size imbalance] 'read' size is 100.00% (256.00 kiB) of total I/O size.\u001b[0m                                │\n",
       "│  │   ├── \u001b[38;5;160m[Small reads] 'read' time is 93.91% (0.15 seconds) of I/O time.\u001b[0m                                        │\n",
       "│  │   └── \u001b[38;5;160m[Small reads] Average 'read's are 128.00 kiB, which is smaller than 1.00 MiB.\u001b[0m                          │\n",
       "│  └── (6799 more)                                                                                                │\n",
       "│  Process View (123 bottlenecks with 492 reasons)                                                                │\n",
       "│  ├── \u001b[38;5;166m[VH6805] 1 process (app#3903101653980564509#312638#313167) accesses 230 files within 83 time periods \u001b[0m      │\n",
       "│  │   \u001b[38;5;166macross 3,231 I/O operations and has an I/O time of 34.48 seconds which is 100.00% of overall I/O time of \u001b[0m  │\n",
       "│  │   \u001b[38;5;166mthe workload.\u001b[0m                                                                                              │\n",
       "│  │   ├── \u001b[38;5;166m[Operation imbalance] 'read' operations are 85.82% (2,773 operations) of total I/O operations.\u001b[0m         │\n",
       "│  │   ├── \u001b[38;5;166m[Size imbalance] 'read' size is 100.00% (616.77 MiB) of total I/O size.\u001b[0m                                │\n",
       "│  │   ├── \u001b[38;5;166m[Small reads] 'read' time is 93.47% (32.23 seconds) of I/O time.\u001b[0m                                       │\n",
       "│  │   └── \u001b[38;5;166m[Small reads] Average 'read's are 195.47 kiB, which is smaller than 1.00 MiB.\u001b[0m                          │\n",
       "│  └── (122 more)                                                                                                 │\n",
       "│  Time>File View (3 bottlenecks with 4 reasons)                                                                  │\n",
       "│  ├── \u001b[38;5;160m[CR6928] 8 processes access 1 file (11665403757839435776) within 4 time periods across 8 I/O operations \u001b[0m   │\n",
       "│  │   \u001b[38;5;160mand have an I/O time of 0.00 seconds which is 0.00% of overall I/O time of the workload.\u001b[0m                   │\n",
       "│  │   └── \u001b[38;5;160m[Excessive metadata access] No reason found, investigation needed!\u001b[0m                                     │\n",
       "│  └── (2 more)                                                                                                   │\n",
       "│  Time>Process View (1 bottleneck with 2 reasons)                                                                │\n",
       "│  └── \u001b[38;5;166m[VH6931] 1 process (app#1279741891957567472#800470#800470) accesses 25 files within 1 time period across \u001b[0m  │\n",
       "│      \u001b[38;5;166m101 I/O operations and has an I/O time of 0.01 seconds which is 0.03% of overall I/O time of the \u001b[0m          │\n",
       "│      \u001b[38;5;166mworkload.\u001b[0m                                                                                                  │\n",
       "│      ├── \u001b[38;5;166m[Excessive metadata access] Overall 95.70% (0.01 seconds) of I/O time is spent on metadata access, \u001b[0m    │\n",
       "│      │   \u001b[38;5;166mspecifically 8.48% (0.00 seconds) on the 'open' operation.\u001b[0m                                             │\n",
       "│      └── \u001b[38;5;166m[Size imbalance] 'read' size is 100.00% (2.15 kiB) of total I/O size.\u001b[0m                                  │\n",
       "│  File>Time View (1 bottleneck with 4 reasons)                                                                   │\n",
       "│  └── \u001b[38;5;160m[CR6932] 36 processes access 38 files within 1 time period (322) across 268 I/O operations and have an \u001b[0m    │\n",
       "│      \u001b[38;5;160mI/O time of 0.44 seconds which is 1.27% of overall I/O time of the workload.\u001b[0m                               │\n",
       "│      ├── \u001b[38;5;160m[Operation imbalance] 'read' operations are 81.72% (219 operations) of total I/O operations.\u001b[0m           │\n",
       "│      ├── \u001b[38;5;160m[Size imbalance] 'read' size is 100.00% (50.65 MiB) of total I/O size.\u001b[0m                                 │\n",
       "│      ├── \u001b[38;5;160m[Small reads] 'read' time is 98.46% (0.43 seconds) of I/O time.\u001b[0m                                        │\n",
       "│      └── \u001b[38;5;160m[Small reads] Average 'read's are 193.51 kiB, which is smaller than 1.00 MiB.\u001b[0m                          │\n",
       "│  File>Process View (21 bottlenecks with 84 reasons)                                                             │\n",
       "│  ├── \u001b[38;5;172m[HI6933] 1 process (app#3903101653980564509#312642#313079) accesses 1 file within 1 time period across 2 \u001b[0m  │\n",
       "│  │   \u001b[38;5;172mI/O operations and has an I/O time of 0.08 seconds which is 0.24% of overall I/O time of the workload.\u001b[0m     │\n",
       "│  │   ├── \u001b[38;5;172m[Operation imbalance] 'read' operations are 50.00% (1 operations) of total I/O operations.\u001b[0m             │\n",
       "│  │   ├── \u001b[38;5;172m[Size imbalance] 'read' size is 100.00% (256.00 kiB) of total I/O size.\u001b[0m                                │\n",
       "│  │   ├── \u001b[38;5;172m[Small reads] 'read' time is 92.48% (0.08 seconds) of I/O time.\u001b[0m                                        │\n",
       "│  │   └── \u001b[38;5;172m[Small reads] Average 'read's are 128.00 kiB, which is smaller than 1.00 MiB.\u001b[0m                          │\n",
       "│  └── (20 more)                                                                                                  │\n",
       "│  Process>Time View (1 bottleneck with 4 reasons)                                                                │\n",
       "│  └── \u001b[38;5;172m[HI6954] 91 processes access 92 files within 1 time period (298) across 1,285 I/O operations and have an \u001b[0m  │\n",
       "│      \u001b[38;5;172mI/O time of 0.41 seconds which is 1.18% of overall I/O time of the workload.\u001b[0m                               │\n",
       "│      ├── \u001b[38;5;172m[Operation imbalance] 'read' operations are 85.53% (1,099 operations) of total I/O operations.\u001b[0m         │\n",
       "│      ├── \u001b[38;5;172m[Size imbalance] 'read' size is 100.00% (244.61 MiB) of total I/O size.\u001b[0m                                │\n",
       "│      ├── \u001b[38;5;172m[Small reads] 'read' time is 93.55% (0.38 seconds) of I/O time.\u001b[0m                                        │\n",
       "│      └── \u001b[38;5;172m[Small reads] Average 'read's are 194.93 kiB, which is smaller than 1.00 MiB.\u001b[0m                          │\n",
       "│  Process>File View (282 bottlenecks with 1128 reasons)                                                          │\n",
       "│  ├── \u001b[38;5;160m[CR6955] 1 process accesses 1 file (12293736938569607168) within 1 time period across 2 I/O operations \u001b[0m    │\n",
       "│  │   \u001b[38;5;160mand has an I/O time of 0.13 seconds which is 0.37% of overall I/O time of the workload.\u001b[0m                    │\n",
       "│  │   ├── \u001b[38;5;160m[Operation imbalance] 'read' operations are 50.00% (1 operations) of total I/O operations.\u001b[0m             │\n",
       "│  │   ├── \u001b[38;5;160m[Size imbalance] 'read' size is 100.00% (256.00 kiB) of total I/O size.\u001b[0m                                │\n",
       "│  │   ├── \u001b[38;5;160m[Small reads] 'read' time is 90.16% (0.11 seconds) of I/O time.\u001b[0m                                        │\n",
       "│  │   └── \u001b[38;5;160m[Small reads] Average 'read's are 128.00 kiB, which is smaller than 1.00 MiB.\u001b[0m                          │\n",
       "│  └── (281 more)                                                                                                 │\n",
       "│  Time>File>Process View (1 bottleneck with 0 reasons)                                                           │\n",
       "│  └── \u001b[38;5;166m[VH7237] 1 process (app#1279741891957567472#800470#800470) accesses 2 files within 1 time period across 5\u001b[0m  │\n",
       "│      \u001b[38;5;166mI/O operations and has an I/O time of 0.00 seconds which is 0.01% of overall I/O time of the workload.\u001b[0m     │\n",
       "│      └── \u001b[38;5;166m[Excessive metadata access] No reason found, investigation needed!\u001b[0m                                     │\n",
       "│  Time>Process>File View (1 bottleneck with 0 reasons)                                                           │\n",
       "│  └── \u001b[38;5;160m[CR7238] 1 process accesses 1 file (11665403757839435776) within 1 time period across 1 I/O operation and\u001b[0m  │\n",
       "│      \u001b[38;5;160mhas an I/O time of 0.00 seconds which is 0.00% of overall I/O time of the workload.\u001b[0m                        │\n",
       "│      └── \u001b[38;5;160m[Excessive metadata access] No reason found, investigation needed!\u001b[0m                                     │\n",
       "│  File>Time>Process View (1 bottleneck with 4 reasons)                                                           │\n",
       "│  └── \u001b[38;5;166m[VH7239] 1 process (app#1279741891957567472#800471#800964) accesses 1 file within 1 time period across 2 \u001b[0m  │\n",
       "│      \u001b[38;5;166mI/O operations and has an I/O time of 0.12 seconds which is 0.35% of overall I/O time of the workload.\u001b[0m     │\n",
       "│      ├── \u001b[38;5;166m[Operation imbalance] 'read' operations are 50.00% (1 operations) of total I/O operations.\u001b[0m             │\n",
       "│      ├── \u001b[38;5;166m[Size imbalance] 'read' size is 100.00% (256.00 kiB) of total I/O size.\u001b[0m                                │\n",
       "│      ├── \u001b[38;5;166m[Small reads] 'read' time is 89.52% (0.11 seconds) of I/O time.\u001b[0m                                        │\n",
       "│      └── \u001b[38;5;166m[Small reads] Average 'read's are 128.00 kiB, which is smaller than 1.00 MiB.\u001b[0m                          │\n",
       "│  File>Process>Time View (1 bottleneck with 4 reasons)                                                           │\n",
       "│  └── \u001b[38;5;172m[HI7240] 1 process accesses 1 file within 1 time period (313) across 2 I/O operations and has an I/O time\u001b[0m  │\n",
       "│      \u001b[38;5;172mof 0.11 seconds which is 0.32% of overall I/O time of the workload.\u001b[0m                                        │\n",
       "│      ├── \u001b[38;5;172m[Operation imbalance] 'read' operations are 50.00% (1 operations) of total I/O operations.\u001b[0m             │\n",
       "│      ├── \u001b[38;5;172m[Size imbalance] 'read' size is 100.00% (256.00 kiB) of total I/O size.\u001b[0m                                │\n",
       "│      ├── \u001b[38;5;172m[Small reads] 'read' time is 87.06% (0.09 seconds) of I/O time.\u001b[0m                                        │\n",
       "│      └── \u001b[38;5;172m[Small reads] Average 'read's are 128.00 kiB, which is smaller than 1.00 MiB.\u001b[0m                          │\n",
       "│  Process>Time>File View (1 bottleneck with 4 reasons)                                                           │\n",
       "│  └── \u001b[38;5;184m[MD7241] 1 process accesses 1 file (8072548941229095936) within 1 time period across 14 I/O operations \u001b[0m    │\n",
       "│      \u001b[38;5;184mand has an I/O time of 0.41 seconds which is 1.18% of overall I/O time of the workload.\u001b[0m                    │\n",
       "│      ├── \u001b[38;5;184m[Operation imbalance] 'read' operations are 85.71% (12 operations) of total I/O operations.\u001b[0m            │\n",
       "│      ├── \u001b[38;5;184m[Size imbalance] 'read' size is 100.00% (2.72 MiB) of total I/O size.\u001b[0m                                  │\n",
       "│      ├── \u001b[38;5;184m[Small reads] 'read' time is 93.55% (0.38 seconds) of I/O time.\u001b[0m                                        │\n",
       "│      └── \u001b[38;5;184m[Small reads] Average 'read's are 198.87 kiB, which is smaller than 1.00 MiB.\u001b[0m                          │\n",
       "│  Process>File>Time View (1 bottleneck with 4 reasons)                                                           │\n",
       "│  └── \u001b[38;5;160m[CR7242] 1 process accesses 1 file within 1 time period (350) across 3 I/O operations and has an I/O time\u001b[0m  │\n",
       "│      \u001b[38;5;160mof 0.33 seconds which is 0.94% of overall I/O time of the workload.\u001b[0m                                        │\n",
       "│      ├── \u001b[38;5;160m[Operation imbalance] 'read' operations are 66.67% (2 operations) of total I/O operations.\u001b[0m             │\n",
       "│      ├── \u001b[38;5;160m[Size imbalance] 'read' size is 100.00% (512.00 kiB) of total I/O size.\u001b[0m                                │\n",
       "│      ├── \u001b[38;5;160m[Small reads] 'read' time is 97.37% (0.32 seconds) of I/O time.\u001b[0m                                        │\n",
       "│      └── \u001b[38;5;160m[Small reads] Average 'read's are 170.67 kiB, which is smaller than 1.00 MiB.\u001b[0m                          │\n",
       "│                                                                                                                 │\n",
       "╰─────────────────────────────────────────────────────────────────────────────────────────────────────────────────╯\n"
      ]
     },
     "metadata": {},
     "output_type": "display_data"
    },
    {
     "name": "stdout",
     "output_type": "stream",
     "text": [
      "time: 5min 35s (started: 2024-10-09 16:21:50 -07:00)\n"
     ]
    }
   ],
   "source": [
    "output.handle_result(metrics=cfg.metrics, result=result)"
   ]
  },
  {
   "cell_type": "code",
   "execution_count": null,
   "id": "a898110c",
   "metadata": {
    "papermill": {
     "duration": 3.38856,
     "end_time": "2024-10-09T23:27:33.141733",
     "exception": false,
     "start_time": "2024-10-09T23:27:29.753173",
     "status": "completed"
    },
    "tags": []
   },
   "outputs": [],
   "source": []
  }
 ],
 "metadata": {
  "kernelspec": {
   "display_name": "venv-corona",
   "language": "python",
   "name": "python3"
  },
  "language_info": {
   "codemirror_mode": {
    "name": "ipython",
    "version": 3
   },
   "file_extension": ".py",
   "mimetype": "text/x-python",
   "name": "python",
   "nbconvert_exporter": "python",
   "pygments_lexer": "ipython3",
   "version": "3.9.12"
  },
  "papermill": {
   "default_parameters": {},
   "duration": 2538.969259,
   "end_time": "2024-10-09T23:27:38.031505",
   "environment_variables": {},
   "exception": null,
   "input_path": "analysis.ipynb",
   "output_path": "analysis-dftracer-cosmoflow-dlio-v100-node-16-v3.ipynb",
   "parameters": {
    "analyzer": "dftracer",
    "checkpoint": true,
    "checkpoint_dir": "/usr/workspace/iopp/wisio_logs/_checkpoints/dftracer-cosmoflow-dlio-v100-node-16-v3",
    "logical_view_types": false,
    "output_max_bottlenecks": 1,
    "output_root_only": false,
    "percentile": 0.99,
    "run_dir": ".wisio/dftracer/cosmoflow-dlio-v100-node-16-v3",
    "trace_path": "/p/lustre3/iopp/dftracer-traces-lfs/v1.0.5-develop/corona/cosmoflow/dlio-v100/node-16/v3/COMPACT/*.pfw.gz"
   },
   "start_time": "2024-10-09T22:45:19.062246",
   "version": "2.6.0"
  }
 },
 "nbformat": 4,
 "nbformat_minor": 5
}
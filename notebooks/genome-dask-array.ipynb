{
 "cells": [
  {
   "cell_type": "code",
   "execution_count": 1,
   "id": "d7e83ce8-6351-4227-ac5e-531c7a77b1aa",
   "metadata": {},
   "outputs": [
    {
     "name": "stderr",
     "output_type": "stream",
     "text": [
      "/usr/WS2/iopp/projects/vani-analysis-tool/virenv-lassen/lib/python3.7/site-packages/distributed/node.py:182: UserWarning: Port 8788 is already in use.\n",
      "Perhaps you already have a cluster running?\n",
      "Hosting the HTTP server on port 43593 instead\n",
      "  f\"Port {expected} is already in use.\\n\"\n"
     ]
    }
   ],
   "source": [
    "%run init.ipynb"
   ]
  },
  {
   "cell_type": "code",
   "execution_count": 2,
   "id": "4ced0313-2929-4707-9c12-b6b46b7760bf",
   "metadata": {},
   "outputs": [],
   "source": [
    "import json\n",
    "import numpy as np\n",
    "from json import JSONEncoder\n",
    "\n",
    "class NpEncoder(JSONEncoder):\n",
    "    def default(self, obj):\n",
    "        if isinstance(obj, np.integer):\n",
    "            return int(obj)\n",
    "        if isinstance(obj, np.floating):\n",
    "            return float(obj)\n",
    "        if isinstance(obj, np.ndarray):\n",
    "            return obj.tolist()\n",
    "        return super(NpEncoder, self).default(obj)"
   ]
  },
  {
   "cell_type": "code",
   "execution_count": 3,
   "id": "eec865bc-61c0-4fcf-993d-dd279e8c481d",
   "metadata": {},
   "outputs": [
    {
     "data": {
      "text/html": [
       "<div>\n",
       "    <div style=\"width: 24px; height: 24px; background-color: #e1e1e1; border: 3px solid #9D9D9D; border-radius: 5px; position: absolute;\"> </div>\n",
       "    <div style=\"margin-left: 48px;\">\n",
       "        <h3 style=\"margin-bottom: 0px;\">Client</h3>\n",
       "        <p style=\"color: #9D9D9D; margin-bottom: 0px;\">Client-a56bd03a-831e-11ed-a194-70e28414902d</p>\n",
       "        <table style=\"width: 100%; text-align: left;\">\n",
       "\n",
       "        <tr>\n",
       "        \n",
       "            <td style=\"text-align: left;\"><strong>Connection method:</strong> Cluster object</td>\n",
       "            <td style=\"text-align: left;\"><strong>Cluster type:</strong> dask_jobqueue.LSFCluster</td>\n",
       "        \n",
       "        </tr>\n",
       "\n",
       "        \n",
       "            <tr>\n",
       "                <td style=\"text-align: left;\">\n",
       "                    <strong>Dashboard: </strong> <a href=\"http://192.168.66.200:43593/status\" target=\"_blank\">http://192.168.66.200:43593/status</a>\n",
       "                </td>\n",
       "                <td style=\"text-align: left;\"></td>\n",
       "            </tr>\n",
       "        \n",
       "\n",
       "        </table>\n",
       "\n",
       "        \n",
       "            <details>\n",
       "            <summary style=\"margin-bottom: 20px;\"><h3 style=\"display: inline;\">Cluster Info</h3></summary>\n",
       "            <div class=\"jp-RenderedHTMLCommon jp-RenderedHTML jp-mod-trusted jp-OutputArea-output\">\n",
       "    <div style=\"width: 24px; height: 24px; background-color: #e1e1e1; border: 3px solid #9D9D9D; border-radius: 5px; position: absolute;\">\n",
       "    </div>\n",
       "    <div style=\"margin-left: 48px;\">\n",
       "        <h3 style=\"margin-bottom: 0px; margin-top: 0px;\">LSFCluster</h3>\n",
       "        <p style=\"color: #9D9D9D; margin-bottom: 0px;\">d9ab8aa1</p>\n",
       "        <table style=\"width: 100%; text-align: left;\">\n",
       "            <tr>\n",
       "                <td style=\"text-align: left;\">\n",
       "                    <strong>Dashboard:</strong> <a href=\"http://192.168.66.200:43593/status\" target=\"_blank\">http://192.168.66.200:43593/status</a>\n",
       "                </td>\n",
       "                <td style=\"text-align: left;\">\n",
       "                    <strong>Workers:</strong> 0\n",
       "                </td>\n",
       "            </tr>\n",
       "            <tr>\n",
       "                <td style=\"text-align: left;\">\n",
       "                    <strong>Total threads:</strong> 0\n",
       "                </td>\n",
       "                <td style=\"text-align: left;\">\n",
       "                    <strong>Total memory:</strong> 0 B\n",
       "                </td>\n",
       "            </tr>\n",
       "            \n",
       "        </table>\n",
       "\n",
       "        <details>\n",
       "            <summary style=\"margin-bottom: 20px;\">\n",
       "                <h3 style=\"display: inline;\">Scheduler Info</h3>\n",
       "            </summary>\n",
       "\n",
       "            <div style=\"\">\n",
       "    <div>\n",
       "        <div style=\"width: 24px; height: 24px; background-color: #FFF7E5; border: 3px solid #FF6132; border-radius: 5px; position: absolute;\"> </div>\n",
       "        <div style=\"margin-left: 48px;\">\n",
       "            <h3 style=\"margin-bottom: 0px;\">Scheduler</h3>\n",
       "            <p style=\"color: #9D9D9D; margin-bottom: 0px;\">Scheduler-a0fa7048-b3f4-40fc-979b-8caa84168da5</p>\n",
       "            <table style=\"width: 100%; text-align: left;\">\n",
       "                <tr>\n",
       "                    <td style=\"text-align: left;\">\n",
       "                        <strong>Comm:</strong> tcp://192.168.66.200:44799\n",
       "                    </td>\n",
       "                    <td style=\"text-align: left;\">\n",
       "                        <strong>Workers:</strong> 0\n",
       "                    </td>\n",
       "                </tr>\n",
       "                <tr>\n",
       "                    <td style=\"text-align: left;\">\n",
       "                        <strong>Dashboard:</strong> <a href=\"http://192.168.66.200:43593/status\" target=\"_blank\">http://192.168.66.200:43593/status</a>\n",
       "                    </td>\n",
       "                    <td style=\"text-align: left;\">\n",
       "                        <strong>Total threads:</strong> 0\n",
       "                    </td>\n",
       "                </tr>\n",
       "                <tr>\n",
       "                    <td style=\"text-align: left;\">\n",
       "                        <strong>Started:</strong> Just now\n",
       "                    </td>\n",
       "                    <td style=\"text-align: left;\">\n",
       "                        <strong>Total memory:</strong> 0 B\n",
       "                    </td>\n",
       "                </tr>\n",
       "            </table>\n",
       "        </div>\n",
       "    </div>\n",
       "\n",
       "    <details style=\"margin-left: 48px;\">\n",
       "        <summary style=\"margin-bottom: 20px;\">\n",
       "            <h3 style=\"display: inline;\">Workers</h3>\n",
       "        </summary>\n",
       "\n",
       "        \n",
       "\n",
       "    </details>\n",
       "</div>\n",
       "\n",
       "        </details>\n",
       "    </div>\n",
       "</div>\n",
       "            </details>\n",
       "        \n",
       "\n",
       "    </div>\n",
       "</div>"
      ],
      "text/plain": [
       "<Client: 'tcp://192.168.66.200:44799' processes=0 threads=0, memory=0 B>"
      ]
     },
     "execution_count": 3,
     "metadata": {},
     "output_type": "execute_result"
    }
   ],
   "source": [
    "client"
   ]
  },
  {
   "cell_type": "code",
   "execution_count": 4,
   "id": "68d168bd-84a0-42bc-bafe-e4031b83e2f8",
   "metadata": {},
   "outputs": [],
   "source": [
    "log_dir = \"/p/gpfs1/iopp/recorder_app_logs/genome_pegasus/nodes-32/_parquet\""
   ]
  },
  {
   "cell_type": "code",
   "execution_count": 5,
   "id": "c68f1118-543b-46f3-822c-9ad223cca30b",
   "metadata": {},
   "outputs": [
    {
     "data": {
      "text/html": [
       "<div><strong>Dask DataFrame Structure:</strong></div>\n",
       "<div>\n",
       "<style scoped>\n",
       "    .dataframe tbody tr th:only-of-type {\n",
       "        vertical-align: middle;\n",
       "    }\n",
       "\n",
       "    .dataframe tbody tr th {\n",
       "        vertical-align: top;\n",
       "    }\n",
       "\n",
       "    .dataframe thead th {\n",
       "        text-align: right;\n",
       "    }\n",
       "</style>\n",
       "<table border=\"1\" class=\"dataframe\">\n",
       "  <thead>\n",
       "    <tr style=\"text-align: right;\">\n",
       "      <th></th>\n",
       "      <th>index</th>\n",
       "      <th>proc</th>\n",
       "      <th>rank</th>\n",
       "      <th>thread_id</th>\n",
       "      <th>cat</th>\n",
       "      <th>io_cat</th>\n",
       "      <th>tstart</th>\n",
       "      <th>tend</th>\n",
       "      <th>func_id</th>\n",
       "      <th>level</th>\n",
       "      <th>hostname</th>\n",
       "      <th>app</th>\n",
       "      <th>filename</th>\n",
       "      <th>size</th>\n",
       "      <th>bandwidth</th>\n",
       "      <th>duration</th>\n",
       "      <th>tmid</th>\n",
       "      <th>proc_id</th>\n",
       "    </tr>\n",
       "    <tr>\n",
       "      <th>npartitions=2286</th>\n",
       "      <th></th>\n",
       "      <th></th>\n",
       "      <th></th>\n",
       "      <th></th>\n",
       "      <th></th>\n",
       "      <th></th>\n",
       "      <th></th>\n",
       "      <th></th>\n",
       "      <th></th>\n",
       "      <th></th>\n",
       "      <th></th>\n",
       "      <th></th>\n",
       "      <th></th>\n",
       "      <th></th>\n",
       "      <th></th>\n",
       "      <th></th>\n",
       "      <th></th>\n",
       "      <th></th>\n",
       "    </tr>\n",
       "  </thead>\n",
       "  <tbody>\n",
       "    <tr>\n",
       "      <th>-9223371986035283781</th>\n",
       "      <td>int64</td>\n",
       "      <td>int64</td>\n",
       "      <td>int32</td>\n",
       "      <td>int32</td>\n",
       "      <td>int32</td>\n",
       "      <td>int32</td>\n",
       "      <td>float32</td>\n",
       "      <td>float32</td>\n",
       "      <td>object</td>\n",
       "      <td>int32</td>\n",
       "      <td>object</td>\n",
       "      <td>object</td>\n",
       "      <td>object</td>\n",
       "      <td>int64</td>\n",
       "      <td>float32</td>\n",
       "      <td>float32</td>\n",
       "      <td>int64</td>\n",
       "      <td>int64</td>\n",
       "    </tr>\n",
       "    <tr>\n",
       "      <th>-8872388567018363149</th>\n",
       "      <td>...</td>\n",
       "      <td>...</td>\n",
       "      <td>...</td>\n",
       "      <td>...</td>\n",
       "      <td>...</td>\n",
       "      <td>...</td>\n",
       "      <td>...</td>\n",
       "      <td>...</td>\n",
       "      <td>...</td>\n",
       "      <td>...</td>\n",
       "      <td>...</td>\n",
       "      <td>...</td>\n",
       "      <td>...</td>\n",
       "      <td>...</td>\n",
       "      <td>...</td>\n",
       "      <td>...</td>\n",
       "      <td>...</td>\n",
       "      <td>...</td>\n",
       "    </tr>\n",
       "    <tr>\n",
       "      <th>...</th>\n",
       "      <td>...</td>\n",
       "      <td>...</td>\n",
       "      <td>...</td>\n",
       "      <td>...</td>\n",
       "      <td>...</td>\n",
       "      <td>...</td>\n",
       "      <td>...</td>\n",
       "      <td>...</td>\n",
       "      <td>...</td>\n",
       "      <td>...</td>\n",
       "      <td>...</td>\n",
       "      <td>...</td>\n",
       "      <td>...</td>\n",
       "      <td>...</td>\n",
       "      <td>...</td>\n",
       "      <td>...</td>\n",
       "      <td>...</td>\n",
       "      <td>...</td>\n",
       "    </tr>\n",
       "    <tr>\n",
       "      <th>8752386220556340459</th>\n",
       "      <td>...</td>\n",
       "      <td>...</td>\n",
       "      <td>...</td>\n",
       "      <td>...</td>\n",
       "      <td>...</td>\n",
       "      <td>...</td>\n",
       "      <td>...</td>\n",
       "      <td>...</td>\n",
       "      <td>...</td>\n",
       "      <td>...</td>\n",
       "      <td>...</td>\n",
       "      <td>...</td>\n",
       "      <td>...</td>\n",
       "      <td>...</td>\n",
       "      <td>...</td>\n",
       "      <td>...</td>\n",
       "      <td>...</td>\n",
       "      <td>...</td>\n",
       "    </tr>\n",
       "    <tr>\n",
       "      <th>9223369538921024184</th>\n",
       "      <td>...</td>\n",
       "      <td>...</td>\n",
       "      <td>...</td>\n",
       "      <td>...</td>\n",
       "      <td>...</td>\n",
       "      <td>...</td>\n",
       "      <td>...</td>\n",
       "      <td>...</td>\n",
       "      <td>...</td>\n",
       "      <td>...</td>\n",
       "      <td>...</td>\n",
       "      <td>...</td>\n",
       "      <td>...</td>\n",
       "      <td>...</td>\n",
       "      <td>...</td>\n",
       "      <td>...</td>\n",
       "      <td>...</td>\n",
       "      <td>...</td>\n",
       "    </tr>\n",
       "  </tbody>\n",
       "</table>\n",
       "</div>\n",
       "<div>Dask Name: read-parquet, 2286 tasks</div>"
      ],
      "text/plain": [
       "Dask DataFrame Structure:\n",
       "                      index   proc   rank thread_id    cat io_cat   tstart     tend func_id  level hostname     app filename   size bandwidth duration   tmid proc_id\n",
       "npartitions=2286                                                                                                                                                     \n",
       "-9223371986035283781  int64  int64  int32     int32  int32  int32  float32  float32  object  int32   object  object   object  int64   float32  float32  int64   int64\n",
       "-8872388567018363149    ...    ...    ...       ...    ...    ...      ...      ...     ...    ...      ...     ...      ...    ...       ...      ...    ...     ...\n",
       "...                     ...    ...    ...       ...    ...    ...      ...      ...     ...    ...      ...     ...      ...    ...       ...      ...    ...     ...\n",
       " 8752386220556340459    ...    ...    ...       ...    ...    ...      ...      ...     ...    ...      ...     ...      ...    ...       ...      ...    ...     ...\n",
       " 9223369538921024184    ...    ...    ...       ...    ...    ...      ...      ...     ...    ...      ...     ...      ...    ...       ...      ...    ...     ...\n",
       "Dask Name: read-parquet, 2286 tasks"
      ]
     },
     "execution_count": 5,
     "metadata": {},
     "output_type": "execute_result"
    }
   ],
   "source": [
    "import dask\n",
    "import dask.dataframe as dd\n",
    "\n",
    "indexed_dir = f\"{log_dir}/indexed/file_id\"\n",
    "indexed_ddf = dd.read_parquet(f\"{indexed_dir}/*.parquet\", calculate_divisions=True, index=['file_id'])\n",
    "indexed_ddf"
   ]
  },
  {
   "cell_type": "code",
   "execution_count": 6,
   "id": "a0232705-83c3-4016-9392-9b4189afe69e",
   "metadata": {},
   "outputs": [
    {
     "name": "stdout",
     "output_type": "stream",
     "text": [
      "CPU times: user 5.6 s, sys: 223 ms, total: 5.83 s\n",
      "Wall time: 26.4 s\n"
     ]
    },
    {
     "data": {
      "text/plain": [
       "21260259"
      ]
     },
     "execution_count": 6,
     "metadata": {},
     "output_type": "execute_result"
    }
   ],
   "source": [
    "%%time\n",
    "\n",
    "indexed_ddf.index.nunique().compute()"
   ]
  },
  {
   "cell_type": "code",
   "execution_count": 7,
   "id": "114b4639-0788-439a-9051-978b5a794b84",
   "metadata": {},
   "outputs": [
    {
     "name": "stdout",
     "output_type": "stream",
     "text": [
      "CPU times: user 42.1 s, sys: 1.18 s, total: 43.3 s\n",
      "Wall time: 1min 4s\n"
     ]
    }
   ],
   "source": [
    "%%time\n",
    "\n",
    "filenames = indexed_ddf.index.unique().compute()\n",
    "filenames = list(filenames)\n",
    "filenames.sort()\n",
    "with open(f\"{log_dir}/filenames.json\", \"w\") as file:\n",
    "    json.dump(filenames, file, cls=NpEncoder)"
   ]
  },
  {
   "cell_type": "code",
   "execution_count": 6,
   "id": "b1e3d215-9920-481d-a060-62ea1d915d1b",
   "metadata": {},
   "outputs": [],
   "source": [
    "import dask.array as da\n",
    "import dask.bag as db\n",
    "import dask.dataframe as dd\n",
    "import math\n",
    "import numpy as np\n",
    "import time\n",
    "from dask.distributed import as_completed\n",
    "from dask.diagnostics import ProgressBar\n",
    "from time import sleep\n",
    "\n",
    "def clear_logs(dask_scheduler): # As suggested in #3898 \n",
    "    dask_scheduler.log.clear()\n",
    "    dask_scheduler.transition_log.clear()\n",
    "    dask_scheduler.events.clear()\n",
    "\n",
    "def read_global_json(log_dir):\n",
    "    with open(f\"{log_dir}/filenames.json\") as file:\n",
    "        filenames = json.load(file)\n",
    "    return np.array(filenames)\n",
    "\n",
    "def proc_metrics(index, filenames, ddf):\n",
    "\n",
    "    # print(\"filenames\", len(filenames))\n",
    "    dask.distributed.get_worker().log_event(\"filenames\", len(filenames))\n",
    "    dask.distributed.get_worker().log_event(\"filenames_shape\", np.array(filenames).shape)\n",
    "\n",
    "    filename = f\"{log_dir}/metrics/file_id/{index}.parquet\"\n",
    "    splice_ddf = ddf.loc[filenames].reset_index()\n",
    "    target_ddf = splice_ddf.compute()\n",
    "    aggregate = target_ddf.groupby(['index','io_cat']).agg({\n",
    "        'duration':sum, \n",
    "        'size':sum, \n",
    "        'index':'count',\n",
    "        'filename':min\n",
    "    })\n",
    "    aggregate.reset_index(inplace=True)\n",
    "    aggregate.columns  = ['_'.join(col) for col in aggregate.columns.values]\n",
    "    aggregate.to_parquet(filename)\n",
    "\n",
    "    return filename"
   ]
  },
  {
   "cell_type": "code",
   "execution_count": 9,
   "id": "cc1e0599-9982-4bc0-8e90-43329739ac03",
   "metadata": {},
   "outputs": [
    {
     "name": "stdout",
     "output_type": "stream",
     "text": [
      "CPU times: user 3.24 s, sys: 182 ms, total: 3.42 s\n",
      "Wall time: 3.24 s\n"
     ]
    }
   ],
   "source": [
    "%%time\n",
    "\n",
    "n_el = 21260259\n",
    "n_buckets = math.ceil(math.sqrt(n_el))\n",
    "\n",
    "cm1_indexed_d = dask.delayed(lambda indexed_dir: dd.read_parquet(f\"{indexed_dir}/*.parquet\", calculate_divisions=True, index=['file_id']))(indexed_dir)\n",
    "cm1_persisted_d = dask.delayed(lambda ddf: ddf.persist())(cm1_indexed_d)\n",
    "cm1_files_d = dask.delayed(lambda log_dir: read_global_json(log_dir))(log_dir)\n",
    "cm1_files_a = da.from_delayed(cm1_files_d, shape=(n_el,), dtype=int)\n",
    "\n",
    "delayed_result = [\n",
    "    dask.delayed(lambda i, filenames: len(filenames))(i, cm1_files_a[i*n_buckets:(i+1)*n_buckets])\n",
    "    for i in range(0, n_buckets)\n",
    "]\n",
    "\n",
    "result = dask.delayed(list)(delayed_result)\n",
    "# result.visualize(\"mapped_direct.png\")"
   ]
  },
  {
   "cell_type": "code",
   "execution_count": 10,
   "id": "ec754ace-a82b-4610-810b-2ba49c423072",
   "metadata": {},
   "outputs": [
    {
     "name": "stdout",
     "output_type": "stream",
     "text": [
      "4611\n",
      "4611\n",
      "3549\n",
      "CPU times: user 26.8 s, sys: 724 ms, total: 27.6 s\n",
      "Wall time: 1min 8s\n"
     ]
    }
   ],
   "source": [
    "%%time\n",
    "\n",
    "client.run_on_scheduler(clear_logs)\n",
    "metrics = result.compute()\n",
    "\n",
    "print(len(metrics))\n",
    "print(metrics[0])\n",
    "print(metrics[-1])"
   ]
  },
  {
   "cell_type": "code",
   "execution_count": 11,
   "id": "1352e9e5-e079-428f-ae25-cc1c8062a73c",
   "metadata": {},
   "outputs": [
    {
     "name": "stdout",
     "output_type": "stream",
     "text": [
      "CPU times: user 4.87 s, sys: 69 ms, total: 4.94 s\n",
      "Wall time: 4.9 s\n"
     ]
    }
   ],
   "source": [
    "%%time\n",
    "\n",
    "n_el = 21260259\n",
    "n_buckets = math.ceil(math.sqrt(n_el))\n",
    "\n",
    "cm1_indexed_d = dask.delayed(lambda indexed_dir: dd.read_parquet(f\"{indexed_dir}/*.parquet\", calculate_divisions=True, index=['file_id']))(indexed_dir)\n",
    "cm1_persisted_d = dask.delayed(lambda ddf: ddf.persist())(cm1_indexed_d)\n",
    "cm1_files_d = dask.delayed(lambda log_dir: read_global_json(log_dir))(log_dir)\n",
    "cm1_files_a = da.from_delayed(cm1_files_d, shape=(n_el,), dtype=int)\n",
    "cm1_files_a = cm1_files_a.rechunk(n_buckets)\n",
    "\n",
    "# delayed_result = [\n",
    "#     dask.delayed(lambda i, filenames, ddf: ddf.loc[filenames].index.count().compute())(i, filenames, cm1_persisted_d)\n",
    "#     for i, filenames in enumerate(cm1_files_a.blocks.ravel()[:10])\n",
    "# ]\n",
    "delayed_result = [\n",
    "    dask.delayed(lambda i, filenames: len(filenames))(i, filenames)\n",
    "    for i, filenames in enumerate(cm1_files_a.blocks.ravel())\n",
    "]\n",
    "\n",
    "result2 = dask.delayed(list)(delayed_result)\n",
    "# result2.visualize(\"mapped_rechunk.png\")"
   ]
  },
  {
   "cell_type": "code",
   "execution_count": 12,
   "id": "9bd37876-41cb-40fd-ab5e-084fef024cf8",
   "metadata": {},
   "outputs": [
    {
     "name": "stdout",
     "output_type": "stream",
     "text": [
      "4611\n",
      "4611\n",
      "3549\n",
      "CPU times: user 34 s, sys: 663 ms, total: 34.7 s\n",
      "Wall time: 1min 15s\n"
     ]
    }
   ],
   "source": [
    "%%time\n",
    "\n",
    "client.run_on_scheduler(clear_logs)\n",
    "metrics2 = result2.compute()\n",
    "\n",
    "print(len(metrics2))\n",
    "print(metrics2[0])\n",
    "print(metrics2[-1])"
   ]
  },
  {
   "cell_type": "code",
   "execution_count": 13,
   "id": "579f231b-2b60-4cf7-8cc7-2a58f8e980de",
   "metadata": {},
   "outputs": [
    {
     "name": "stdout",
     "output_type": "stream",
     "text": [
      "CPU times: user 3.75 s, sys: 223 ms, total: 3.98 s\n",
      "Wall time: 3.8 s\n"
     ]
    }
   ],
   "source": [
    "%%time\n",
    "\n",
    "n_el = 21260259\n",
    "n_buckets = math.ceil(math.sqrt(n_el))\n",
    "\n",
    "cm1_indexed_d = dask.delayed(lambda indexed_dir: dd.read_parquet(f\"{indexed_dir}/*.parquet\", calculate_divisions=True, index=['file_id']))(indexed_dir)\n",
    "cm1_persisted_d = dask.delayed(lambda ddf: ddf.persist())(cm1_indexed_d)\n",
    "cm1_files_d = dask.delayed(lambda log_dir: read_global_json(log_dir))(log_dir)\n",
    "cm1_files_a = da.from_delayed(cm1_files_d, shape=(n_el,), dtype=int)\n",
    "\n",
    "delayed_result = [\n",
    "    dask.delayed(lambda i, filenames, ddf: ddf.loc[filenames].index.count().compute())(i, cm1_files_a[i*n_buckets:(i+1)*n_buckets], cm1_persisted_d)\n",
    "    for i in range(0, n_buckets)\n",
    "]\n",
    "\n",
    "result3 = dask.delayed(list)(delayed_result)"
   ]
  },
  {
   "cell_type": "code",
   "execution_count": 14,
   "id": "fc3b2fb9-f5e3-4548-8480-8baa7f1e20fa",
   "metadata": {},
   "outputs": [
    {
     "name": "stdout",
     "output_type": "stream",
     "text": [
      "4611\n",
      "4612\n",
      "3549\n",
      "CPU times: user 2min 2s, sys: 2.73 s, total: 2min 5s\n",
      "Wall time: 2min 59s\n"
     ]
    }
   ],
   "source": [
    "%%time\n",
    "\n",
    "client.run_on_scheduler(clear_logs)\n",
    "metrics3 = result3.compute()\n",
    "\n",
    "print(len(metrics3))\n",
    "print(metrics3[0])\n",
    "print(metrics3[-1])"
   ]
  },
  {
   "cell_type": "code",
   "execution_count": 15,
   "id": "1ee5635a-88d1-42be-b41c-22a62f9b6e10",
   "metadata": {},
   "outputs": [
    {
     "name": "stdout",
     "output_type": "stream",
     "text": [
      "CPU times: user 5.35 s, sys: 79.2 ms, total: 5.43 s\n",
      "Wall time: 5.38 s\n"
     ]
    }
   ],
   "source": [
    "%%time\n",
    "\n",
    "n_el = 21260259\n",
    "n_buckets = math.ceil(math.sqrt(n_el))\n",
    "\n",
    "cm1_indexed_d = dask.delayed(lambda indexed_dir: dd.read_parquet(f\"{indexed_dir}/*.parquet\", calculate_divisions=True, index=['file_id']))(indexed_dir)\n",
    "cm1_persisted_d = dask.delayed(lambda ddf: ddf.persist())(cm1_indexed_d)\n",
    "cm1_files_d = dask.delayed(lambda log_dir: read_global_json(log_dir))(log_dir)\n",
    "cm1_files_a = da.from_delayed(cm1_files_d, shape=(n_el,), dtype=int)\n",
    "cm1_files_a = cm1_files_a.rechunk(n_buckets)\n",
    "\n",
    "# delayed_result = [\n",
    "#     dask.delayed(lambda i, filenames, ddf: ddf.loc[filenames].index.count().compute())(i, filenames, cm1_persisted_d)\n",
    "#     for i, filenames in enumerate(cm1_files_a.blocks.ravel()[:10])\n",
    "# ]\n",
    "delayed_result = [\n",
    "    dask.delayed(lambda i, filenames, ddf: ddf.loc[filenames].index.count().compute())(i, filenames, cm1_persisted_d)\n",
    "    for i, filenames in enumerate(cm1_files_a.blocks.ravel())\n",
    "]\n",
    "\n",
    "result4 = dask.delayed(list)(delayed_result)"
   ]
  },
  {
   "cell_type": "code",
   "execution_count": 16,
   "id": "153fae1f-35f3-4900-9171-728a78732626",
   "metadata": {},
   "outputs": [
    {
     "name": "stdout",
     "output_type": "stream",
     "text": [
      "4611\n",
      "4612\n",
      "3549\n",
      "CPU times: user 2min 40s, sys: 3.5 s, total: 2min 44s\n",
      "Wall time: 3min 28s\n"
     ]
    }
   ],
   "source": [
    "%%time\n",
    "\n",
    "client.run_on_scheduler(clear_logs)\n",
    "metrics4 = result4.compute()\n",
    "\n",
    "print(len(metrics4))\n",
    "print(metrics4[0])\n",
    "print(metrics4[-1])"
   ]
  },
  {
   "cell_type": "code",
   "execution_count": 17,
   "id": "4fc4ce30-b1a6-4c93-9560-75e42e07fec7",
   "metadata": {},
   "outputs": [
    {
     "name": "stdout",
     "output_type": "stream",
     "text": [
      "CPU times: user 3.25 s, sys: 186 ms, total: 3.44 s\n",
      "Wall time: 7.61 s\n"
     ]
    }
   ],
   "source": [
    "%%time\n",
    "\n",
    "n_el = 21260259\n",
    "n_buckets = math.ceil(math.sqrt(n_el))\n",
    "\n",
    "cm1_indexed_d = dask.delayed(lambda indexed_dir: dd.read_parquet(f\"{indexed_dir}/*.parquet\", calculate_divisions=True, index=['file_id']))(indexed_dir)\n",
    "cm1_persisted_d = dask.delayed(lambda ddf: ddf.persist())(cm1_indexed_d)\n",
    "cm1_files_d = dask.delayed(lambda log_dir: read_global_json(log_dir))(log_dir)\n",
    "cm1_files_a = da.from_delayed(cm1_files_d, shape=(n_el,), dtype=int)\n",
    "cm1_files_a = cm1_files_a.rechunk(n_buckets)\n",
    "\n",
    "# delayed_result = [\n",
    "#     dask.delayed(lambda i, filenames, ddf: ddf.loc[filenames].index.count().compute())(i, filenames, cm1_persisted_d)\n",
    "#     for i, filenames in enumerate(cm1_files_a.blocks.ravel()[:10])\n",
    "# ]\n",
    "# delayed_result = [\n",
    "#     dask.delayed(lambda i, filenames, ddf: ddf.loc[filenames].index.count().compute())(i, filenames, cm1_persisted_d)\n",
    "#     for i, filenames in enumerate(cm1_files_a.blocks.ravel())\n",
    "# ]\n",
    "\n",
    "result5 = cm1_files_a.map_blocks(lambda filenames, ddf: ddf.loc[filenames].index.count().compute(), cm1_persisted_d)"
   ]
  },
  {
   "cell_type": "code",
   "execution_count": 18,
   "id": "35fc27de-9288-498c-ba70-a17a35bee57d",
   "metadata": {},
   "outputs": [
    {
     "name": "stdout",
     "output_type": "stream",
     "text": [
      "CPU times: user 63 ms, sys: 48 µs, total: 63.1 ms\n",
      "Wall time: 61.7 ms\n"
     ]
    }
   ],
   "source": [
    "%%time\n",
    "\n",
    "client.run_on_scheduler(clear_logs)\n",
    "# metrics5 = result5.compute()\n",
    "\n",
    "# print(len(metrics5))\n",
    "# print(metrics5[0])\n",
    "# print(metrics5[-1])"
   ]
  },
  {
   "cell_type": "code",
   "execution_count": 8,
   "id": "911d868f-a2b0-4c3f-a9de-95a324567ff8",
   "metadata": {},
   "outputs": [
    {
     "name": "stdout",
     "output_type": "stream",
     "text": [
      "CPU times: user 3.97 s, sys: 155 ms, total: 4.12 s\n",
      "Wall time: 4.09 s\n"
     ]
    }
   ],
   "source": [
    "%%time\n",
    "\n",
    "def proc_metrics(ddf, filenames):\n",
    "    return ddf.loc[filenames].reset_index().groupby(['index', 'io_cat']).agg({\n",
    "        'duration':sum, \n",
    "        'size':sum, \n",
    "        'index':'count',\n",
    "        'filename':min\n",
    "    }).compute()\n",
    "\n",
    "n_el = 21260259\n",
    "n_buckets = math.ceil(math.sqrt(n_el))\n",
    "\n",
    "cm1_indexed_d = dask.delayed(lambda indexed_dir: dd.read_parquet(f\"{indexed_dir}/*.parquet\", calculate_divisions=True, index=['file_id']))(indexed_dir)\n",
    "cm1_persisted_d = dask.delayed(lambda ddf: ddf.persist())(cm1_indexed_d)\n",
    "cm1_files_d = dask.delayed(lambda log_dir: read_global_json(log_dir))(log_dir)\n",
    "cm1_files_a = da.from_delayed(cm1_files_d, shape=(n_el,), dtype=int)\n",
    "cm1_files_a = cm1_files_a.rechunk(n_buckets)\n",
    "\n",
    "# delayed_result = [\n",
    "#     dask.delayed(lambda i, filenames, ddf: ddf.loc[filenames].index.count().compute())(i, filenames, cm1_persisted_d)\n",
    "#     for i, filenames in enumerate(cm1_files_a.blocks.ravel()[:10])\n",
    "# ]\n",
    "delayed_result = [\n",
    "    dask.delayed(proc_metrics)(cm1_persisted_d, filenames)\n",
    "    for i, filenames in enumerate(cm1_files_a.blocks.ravel())\n",
    "]\n",
    "\n",
    "result6 = dask.delayed(list)(delayed_result)"
   ]
  },
  {
   "cell_type": "code",
   "execution_count": null,
   "id": "690935bf-5350-459d-b2b4-fc54acba80fa",
   "metadata": {},
   "outputs": [],
   "source": [
    "%%time\n",
    "\n",
    "client.run_on_scheduler(clear_logs)\n",
    "metrics6 = result6.compute()\n",
    "\n",
    "print(len(metrics6))\n",
    "print(metrics6[0])\n",
    "print(metrics6[-1])"
   ]
  },
  {
   "cell_type": "code",
   "execution_count": null,
   "id": "9a01dc15-1872-457a-b534-ac4852c91113",
   "metadata": {},
   "outputs": [],
   "source": [
    "%%time\n",
    "\n",
    "def proc_metrics(ddf):\n",
    "#     target_ddf = ddf.loc[filenames].compute()\n",
    "    return ddf.reset_index().groupby(['index', 'io_cat']).agg({\n",
    "        'duration':sum, \n",
    "        'size':sum, \n",
    "        'index':'count',\n",
    "        'filename':min\n",
    "    })\n",
    "\n",
    "n_el = 21260259\n",
    "n_buckets = math.ceil(math.sqrt(n_el))\n",
    "# n_buckets = 32\n",
    "\n",
    "cm1_indexed_d = dask.delayed(lambda indexed_dir: dd.read_parquet(f\"{indexed_dir}/*.parquet\", calculate_divisions=True, index=['file_id']))(indexed_dir)\n",
    "cm1_persisted_d = dask.delayed(lambda ddf: ddf.persist())(cm1_indexed_d)\n",
    "cm1_files_d = dask.delayed(lambda log_dir: read_global_json(log_dir))(log_dir)\n",
    "cm1_files_a = da.from_delayed(cm1_files_d, shape=(n_el,), dtype=int)\n",
    "cm1_files_a = cm1_files_a.rechunk(n_buckets)\n",
    "\n",
    "# delayed_result = [\n",
    "#     dask.delayed(lambda i, filenames, ddf: ddf.loc[filenames].index.count().compute())(i, filenames, cm1_persisted_d)\n",
    "#     for i, filenames in enumerate(cm1_files_a.blocks.ravel()[:10])\n",
    "# ]\n",
    "\n",
    "t0 = time.time()\n",
    "task_ddfs_d = [\n",
    "    dask.delayed(lambda ddf, filenames: ddf.loc[filenames])(cm1_persisted_d, filenames)\n",
    "    for i, filenames in enumerate(cm1_files_a.blocks.ravel())\n",
    "]\n",
    "task_ddfs = client.compute(task_ddfs_d, sync=True)\n",
    "print(\"Task ddf\", time.time()-t0)\n",
    "\n",
    "delayed_result = [\n",
    "    dask.delayed(proc_metrics)(task_ddfs[i])\n",
    "    for i, filenames in enumerate(cm1_files_a.blocks.ravel())\n",
    "]\n",
    "\n",
    "result7 = dask.delayed(list)(delayed_result)"
   ]
  },
  {
   "cell_type": "code",
   "execution_count": null,
   "id": "46640b93-097a-41d8-863d-5b110fc00ff7",
   "metadata": {},
   "outputs": [],
   "source": [
    "%%time\n",
    "\n",
    "client.run_on_scheduler(clear_logs)\n",
    "metrics7 = result7.compute()\n",
    "\n",
    "print(len(metrics7))\n",
    "print(metrics7[0])\n",
    "print(metrics7[-1])"
   ]
  },
  {
   "cell_type": "code",
   "execution_count": null,
   "id": "c51b01b0-47e0-4a1b-8acb-bf35d377505d",
   "metadata": {},
   "outputs": [],
   "source": [
    "%%time\n",
    "\n",
    "def proc_metrics(ddf):\n",
    "#     target_ddf = ddf.loc[filenames].compute()\n",
    "    return ddf.reset_index().groupby(['index', 'io_cat']).agg({\n",
    "        'duration':sum, \n",
    "        'size':sum, \n",
    "        'index':'count',\n",
    "        'filename':min\n",
    "    })\n",
    "\n",
    "n_el = 21260259\n",
    "n_buckets = math.ceil(math.sqrt(n_el))\n",
    "\n",
    "cm1_indexed_d = dask.delayed(lambda indexed_dir: dd.read_parquet(f\"{indexed_dir}/*.parquet\", calculate_divisions=True, index=['file_id']))(indexed_dir)\n",
    "cm1_persisted_d = dask.delayed(lambda ddf: ddf.persist())(cm1_indexed_d)\n",
    "cm1_files_d = dask.delayed(lambda log_dir: read_global_json(log_dir))(log_dir)\n",
    "cm1_files_a = da.from_delayed(cm1_files_d, shape=(n_el,), dtype=int)\n",
    "\n",
    "tasks = {}\n",
    "for i in range(0, n_buckets):\n",
    "    start = i*n_buckets\n",
    "    stop = (i+1)*n_buckets\n",
    "    \n",
    "    target_ddfs = [\n",
    "        dask.delayed(lambda ddf, filename: ddf.loc[[filename]])(cm1_persisted_d, cm1_files_a[i], dask_key_name=f\"target-ddf-{i}\")\n",
    "        for i in range(start, stop)\n",
    "    ]\n",
    "    print('target_ddfs', len(target_ddfs))\n",
    "    delayed_result = [\n",
    "        dask.delayed(proc_metrics)(target_ddfs[i], dask_key_name=f\"metric-{i}\")\n",
    "        for i in range(start, stop)\n",
    "    ]\n",
    "    print('delayed_result', len(delayed_result))\n",
    "    t0 = time.time()\n",
    "    bucket_futures = client.compute(delayed_result, sync=False)\n",
    "    print('bucket_futures', len(bucket_futures))\n",
    "    for future in as_completed(bucket_futures):  \n",
    "        tasks[future.key] = future.result()\n",
    "        now = time.time()\n",
    "        print('\\rCompleted', len(tasks), now-t0)\n"
   ]
  },
  {
   "cell_type": "code",
   "execution_count": null,
   "id": "22199eeb-6e31-49aa-b9b5-1a6d936163c0",
   "metadata": {},
   "outputs": [],
   "source": [
    "%%time\n",
    "\n",
    "client.run_on_scheduler(clear_logs)\n",
    "metrics8 = result8.compute()\n",
    "\n",
    "print(len(metrics8))\n",
    "print(metrics8[0])\n",
    "print(metrics8[-1])"
   ]
  },
  {
   "cell_type": "code",
   "execution_count": 7,
   "id": "869a2311-fcaf-429e-89c7-fb2f634011ba",
   "metadata": {},
   "outputs": [
    {
     "name": "stdout",
     "output_type": "stream",
     "text": [
      "Target ddf 16 42.540334701538086\n",
      "processing 0 of 16\r"
     ]
    },
    {
     "name": "stderr",
     "output_type": "stream",
     "text": [
      "/usr/WS2/iopp/projects/vani-analysis-tool/virenv-lassen/lib/python3.7/site-packages/distributed/worker.py:4504: UserWarning: Large object of size 1.89 MiB detected in task graph: \n",
      "  (\"('read-parquet-7fc378b9b14dcc5f1c4fa663b16a2bc8' ... 6802749], None)\n",
      "Consider scattering large objects ahead of time\n",
      "with client.scatter to reduce scheduler burden and \n",
      "keep data on workers\n",
      "\n",
      "    future = client.submit(func, big_data)    # bad\n",
      "\n",
      "    big_future = client.scatter(big_data)     # good\n",
      "    future = client.submit(func, big_future)  # good\n",
      "  % (format_bytes(len(b)), s)\n"
     ]
    },
    {
     "name": "stdout",
     "output_type": "stream",
     "text": [
      "CPU times: user 1min 32s, sys: 1.58 s, total: 1min 34s\n",
      "Wall time: 1min 54s\n"
     ]
    }
   ],
   "source": [
    "%%time\n",
    "\n",
    "n_el = 21260259\n",
    "n_buckets = math.ceil(n_el*1.0/ 64*4) \n",
    "# n_buckets = math.ceil(math.sqrt(n_el))\n",
    "\n",
    "cm1_indexed_d = dask.delayed(lambda indexed_dir: dd.read_parquet(f\"{indexed_dir}/*.parquet\", calculate_divisions=True, index=['file_id']))(indexed_dir)\n",
    "cm1_persisted_d = dask.delayed(lambda ddf: ddf.persist())(cm1_indexed_d)\n",
    "cm1_files_d = dask.delayed(lambda log_dir: read_global_json(log_dir))(log_dir)\n",
    "cm1_files_a = da.from_delayed(cm1_files_d, shape=(n_el,), dtype=int)\n",
    "\n",
    "def cal_metrics_file(ddf, index, file_lists, log_dir):\n",
    "    filename = f\"{log_dir}/metrics/file_id/{index}.parquet\"\n",
    "#     splice_ddf = ddf.loc[file_lists]\n",
    "#     splice_ddf.reset_index()\n",
    "#     target_ddf = splice_ddf.compute()\n",
    "    aggregate = ddf.reset_index().groupby(['index','io_cat']).agg({'duration':sum, \n",
    "                                                              'size':sum, \n",
    "                                                              'bandwidth':sum, \n",
    "                                                              'index':'count', \n",
    "                                                              'proc_id':[min,max], \n",
    "                                                              'filename':min})\n",
    "    aggregate.reset_index(inplace=True)\n",
    "    aggregate.columns  = ['_'.join(col) for col in aggregate.columns.values]\n",
    "    aggregate.to_parquet(filename)\n",
    "    return filename\n",
    "\n",
    "filter_group_index = 'file_id'\n",
    "\n",
    "futures = []\n",
    "target_ddfs = []\n",
    "file_range = range(0, n_el, n_buckets)\n",
    "\n",
    "for index, file_index in enumerate(file_range):\n",
    "    selected_files = cm1_files_a[file_index:file_index+n_buckets]\n",
    "    target_ddf = dask.delayed(lambda ddf, files, _: ddf.loc[files])(cm1_indexed_d, selected_files, cm1_persisted_d, dask_key_name=f\"target_ddf_{index}_{filter_group_index}\")\n",
    "    target_ddfs.append(target_ddf)\n",
    "\n",
    "t0 = time.time()\n",
    "target_ddfs_ = client.compute(target_ddfs, sync=True)\n",
    "print(\"Target ddf\", len(target_ddfs_), time.time()-t0)\n",
    "\n",
    "for index, file_index in enumerate(file_range):\n",
    "    print(f\"processing {index} of {len(file_range)}\", end='\\r')\n",
    "    selected_files = [] # cm1_files_a[file_index:file_index+n_buckets]\n",
    "    #seleceted_files_future = client.scatter(seleceted_files) doesnt help as list of futures is larger as list of file ids :D\n",
    "    #print(len(seleceted_files), index)\n",
    "#     target_ddf = dask.delayed(lambda ddf, files, _: ddf.loc[files].compute().reset_index())(cm1_indexed_d, selected_files, cm1_persisted_d, dask_key_name=f\"target_ddf_{index}_{filter_group_index}\")\n",
    "    cal_metrics = dask.delayed(cal_metrics_file)(target_ddfs_[index], index, selected_files, log_dir, dask_key_name=f\"cal_metrics_{index}_{filter_group_index}\")\n",
    "    futures.append(client.compute(cal_metrics, sync=False))\n",
    "    #cal_metrics.append(delayed_func(cal_metrics,  , []))"
   ]
  },
  {
   "cell_type": "code",
   "execution_count": null,
   "id": "f250d14c-e99e-474c-8a05-fb98bd786e28",
   "metadata": {},
   "outputs": [],
   "source": [
    "futures"
   ]
  },
  {
   "cell_type": "code",
   "execution_count": 8,
   "id": "334fffc3-dce5-437f-8528-0989aa7147e3",
   "metadata": {},
   "outputs": [
    {
     "name": "stdout",
     "output_type": "stream",
     "text": [
      "Completed 7 of 16 in 3.8645090897878014\r"
     ]
    },
    {
     "ename": "KeyboardInterrupt",
     "evalue": "",
     "output_type": "error",
     "traceback": [
      "\u001b[0;31m---------------------------------------------------------------------------\u001b[0m",
      "\u001b[0;31mKeyboardInterrupt\u001b[0m                         Traceback (most recent call last)",
      "\u001b[0;32m<timed exec>\u001b[0m in \u001b[0;36m<module>\u001b[0;34m\u001b[0m\n",
      "\u001b[0;32m/usr/WS2/iopp/projects/vani-analysis-tool/virenv-lassen/lib/python3.7/site-packages/distributed/client.py\u001b[0m in \u001b[0;36m__next__\u001b[0;34m(self)\u001b[0m\n\u001b[1;32m   5025\u001b[0m                 \u001b[0;32mraise\u001b[0m \u001b[0mStopIteration\u001b[0m\u001b[0;34m(\u001b[0m\u001b[0;34m)\u001b[0m\u001b[0;34m\u001b[0m\u001b[0;34m\u001b[0m\u001b[0m\n\u001b[1;32m   5026\u001b[0m             \u001b[0;32mwith\u001b[0m \u001b[0mself\u001b[0m\u001b[0;34m.\u001b[0m\u001b[0mthread_condition\u001b[0m\u001b[0;34m:\u001b[0m\u001b[0;34m\u001b[0m\u001b[0;34m\u001b[0m\u001b[0m\n\u001b[0;32m-> 5027\u001b[0;31m                 \u001b[0mself\u001b[0m\u001b[0;34m.\u001b[0m\u001b[0mthread_condition\u001b[0m\u001b[0;34m.\u001b[0m\u001b[0mwait\u001b[0m\u001b[0;34m(\u001b[0m\u001b[0mtimeout\u001b[0m\u001b[0;34m=\u001b[0m\u001b[0;36m0.100\u001b[0m\u001b[0;34m)\u001b[0m\u001b[0;34m\u001b[0m\u001b[0;34m\u001b[0m\u001b[0m\n\u001b[0m\u001b[1;32m   5028\u001b[0m         \u001b[0;32mreturn\u001b[0m \u001b[0mself\u001b[0m\u001b[0;34m.\u001b[0m\u001b[0m_get_and_raise\u001b[0m\u001b[0;34m(\u001b[0m\u001b[0;34m)\u001b[0m\u001b[0;34m\u001b[0m\u001b[0;34m\u001b[0m\u001b[0m\n\u001b[1;32m   5029\u001b[0m \u001b[0;34m\u001b[0m\u001b[0m\n",
      "\u001b[0;32m/usr/tce/packages/python/python-3.7.2/lib/python3.7/threading.py\u001b[0m in \u001b[0;36mwait\u001b[0;34m(self, timeout)\u001b[0m\n\u001b[1;32m    298\u001b[0m             \u001b[0;32melse\u001b[0m\u001b[0;34m:\u001b[0m\u001b[0;34m\u001b[0m\u001b[0;34m\u001b[0m\u001b[0m\n\u001b[1;32m    299\u001b[0m                 \u001b[0;32mif\u001b[0m \u001b[0mtimeout\u001b[0m \u001b[0;34m>\u001b[0m \u001b[0;36m0\u001b[0m\u001b[0;34m:\u001b[0m\u001b[0;34m\u001b[0m\u001b[0;34m\u001b[0m\u001b[0m\n\u001b[0;32m--> 300\u001b[0;31m                     \u001b[0mgotit\u001b[0m \u001b[0;34m=\u001b[0m \u001b[0mwaiter\u001b[0m\u001b[0;34m.\u001b[0m\u001b[0macquire\u001b[0m\u001b[0;34m(\u001b[0m\u001b[0;32mTrue\u001b[0m\u001b[0;34m,\u001b[0m \u001b[0mtimeout\u001b[0m\u001b[0;34m)\u001b[0m\u001b[0;34m\u001b[0m\u001b[0;34m\u001b[0m\u001b[0m\n\u001b[0m\u001b[1;32m    301\u001b[0m                 \u001b[0;32melse\u001b[0m\u001b[0;34m:\u001b[0m\u001b[0;34m\u001b[0m\u001b[0;34m\u001b[0m\u001b[0m\n\u001b[1;32m    302\u001b[0m                     \u001b[0mgotit\u001b[0m \u001b[0;34m=\u001b[0m \u001b[0mwaiter\u001b[0m\u001b[0;34m.\u001b[0m\u001b[0macquire\u001b[0m\u001b[0;34m(\u001b[0m\u001b[0;32mFalse\u001b[0m\u001b[0;34m)\u001b[0m\u001b[0;34m\u001b[0m\u001b[0;34m\u001b[0m\u001b[0m\n",
      "\u001b[0;31mKeyboardInterrupt\u001b[0m: "
     ]
    }
   ],
   "source": [
    "%%time\n",
    "import time\n",
    "from dask.distributed import as_completed\n",
    "start_time = time.time()\n",
    "metrics = []\n",
    "for future in as_completed(futures):\n",
    "    end_time = time.time() - start_time\n",
    "    #filename = future.result()\n",
    "    metrics.append(future.result())\n",
    "    print(f\"Completed {len(metrics)} of {len(futures)} in {end_time/60}\", end='\\r')"
   ]
  },
  {
   "cell_type": "code",
   "execution_count": null,
   "id": "41e6275c-f79c-4a7b-9383-c43f5e5a0848",
   "metadata": {},
   "outputs": [],
   "source": [
    "for f in futures:\n",
    "    f.cancel()"
   ]
  },
  {
   "cell_type": "code",
   "execution_count": null,
   "id": "1f9cc891-ef82-4369-ae48-8807617bb3f2",
   "metadata": {},
   "outputs": [],
   "source": [
    "futures"
   ]
  },
  {
   "cell_type": "code",
   "execution_count": 16,
   "id": "739b35e1-72be-42fd-832c-0e44b8482a9b",
   "metadata": {},
   "outputs": [
    {
     "data": {
      "text/plain": [
       "4609"
      ]
     },
     "execution_count": 16,
     "metadata": {},
     "output_type": "execute_result"
    }
   ],
   "source": [
    "finished = 0\n",
    "for f in futures:\n",
    "    if f.status == 'finished':\n",
    "        finished = finished + 1\n",
    "finished"
   ]
  },
  {
   "cell_type": "code",
   "execution_count": 11,
   "id": "b485759e-c3af-4b38-a489-2a56b91f955b",
   "metadata": {},
   "outputs": [
    {
     "data": {
      "text/plain": [
       "['/p/gpfs1/iopp/recorder_app_logs/genome_pegasus/nodes-32/_parquet/metrics/file_id/0.parquet',\n",
       " '/p/gpfs1/iopp/recorder_app_logs/genome_pegasus/nodes-32/_parquet/metrics/file_id/1.parquet',\n",
       " '/p/gpfs1/iopp/recorder_app_logs/genome_pegasus/nodes-32/_parquet/metrics/file_id/7.parquet',\n",
       " '/p/gpfs1/iopp/recorder_app_logs/genome_pegasus/nodes-32/_parquet/metrics/file_id/3.parquet',\n",
       " '/p/gpfs1/iopp/recorder_app_logs/genome_pegasus/nodes-32/_parquet/metrics/file_id/15.parquet',\n",
       " '/p/gpfs1/iopp/recorder_app_logs/genome_pegasus/nodes-32/_parquet/metrics/file_id/4.parquet',\n",
       " '/p/gpfs1/iopp/recorder_app_logs/genome_pegasus/nodes-32/_parquet/metrics/file_id/17.parquet',\n",
       " '/p/gpfs1/iopp/recorder_app_logs/genome_pegasus/nodes-32/_parquet/metrics/file_id/10.parquet',\n",
       " '/p/gpfs1/iopp/recorder_app_logs/genome_pegasus/nodes-32/_parquet/metrics/file_id/13.parquet',\n",
       " '/p/gpfs1/iopp/recorder_app_logs/genome_pegasus/nodes-32/_parquet/metrics/file_id/5.parquet',\n",
       " '/p/gpfs1/iopp/recorder_app_logs/genome_pegasus/nodes-32/_parquet/metrics/file_id/2.parquet',\n",
       " '/p/gpfs1/iopp/recorder_app_logs/genome_pegasus/nodes-32/_parquet/metrics/file_id/8.parquet',\n",
       " '/p/gpfs1/iopp/recorder_app_logs/genome_pegasus/nodes-32/_parquet/metrics/file_id/14.parquet',\n",
       " '/p/gpfs1/iopp/recorder_app_logs/genome_pegasus/nodes-32/_parquet/metrics/file_id/9.parquet',\n",
       " '/p/gpfs1/iopp/recorder_app_logs/genome_pegasus/nodes-32/_parquet/metrics/file_id/11.parquet',\n",
       " '/p/gpfs1/iopp/recorder_app_logs/genome_pegasus/nodes-32/_parquet/metrics/file_id/63.parquet',\n",
       " '/p/gpfs1/iopp/recorder_app_logs/genome_pegasus/nodes-32/_parquet/metrics/file_id/62.parquet',\n",
       " '/p/gpfs1/iopp/recorder_app_logs/genome_pegasus/nodes-32/_parquet/metrics/file_id/12.parquet',\n",
       " '/p/gpfs1/iopp/recorder_app_logs/genome_pegasus/nodes-32/_parquet/metrics/file_id/16.parquet',\n",
       " '/p/gpfs1/iopp/recorder_app_logs/genome_pegasus/nodes-32/_parquet/metrics/file_id/61.parquet',\n",
       " '/p/gpfs1/iopp/recorder_app_logs/genome_pegasus/nodes-32/_parquet/metrics/file_id/60.parquet',\n",
       " '/p/gpfs1/iopp/recorder_app_logs/genome_pegasus/nodes-32/_parquet/metrics/file_id/6.parquet',\n",
       " '/p/gpfs1/iopp/recorder_app_logs/genome_pegasus/nodes-32/_parquet/metrics/file_id/57.parquet',\n",
       " '/p/gpfs1/iopp/recorder_app_logs/genome_pegasus/nodes-32/_parquet/metrics/file_id/59.parquet',\n",
       " '/p/gpfs1/iopp/recorder_app_logs/genome_pegasus/nodes-32/_parquet/metrics/file_id/53.parquet',\n",
       " '/p/gpfs1/iopp/recorder_app_logs/genome_pegasus/nodes-32/_parquet/metrics/file_id/19.parquet',\n",
       " '/p/gpfs1/iopp/recorder_app_logs/genome_pegasus/nodes-32/_parquet/metrics/file_id/52.parquet',\n",
       " '/p/gpfs1/iopp/recorder_app_logs/genome_pegasus/nodes-32/_parquet/metrics/file_id/58.parquet',\n",
       " '/p/gpfs1/iopp/recorder_app_logs/genome_pegasus/nodes-32/_parquet/metrics/file_id/56.parquet',\n",
       " '/p/gpfs1/iopp/recorder_app_logs/genome_pegasus/nodes-32/_parquet/metrics/file_id/20.parquet',\n",
       " '/p/gpfs1/iopp/recorder_app_logs/genome_pegasus/nodes-32/_parquet/metrics/file_id/22.parquet',\n",
       " '/p/gpfs1/iopp/recorder_app_logs/genome_pegasus/nodes-32/_parquet/metrics/file_id/21.parquet',\n",
       " '/p/gpfs1/iopp/recorder_app_logs/genome_pegasus/nodes-32/_parquet/metrics/file_id/32.parquet',\n",
       " '/p/gpfs1/iopp/recorder_app_logs/genome_pegasus/nodes-32/_parquet/metrics/file_id/45.parquet',\n",
       " '/p/gpfs1/iopp/recorder_app_logs/genome_pegasus/nodes-32/_parquet/metrics/file_id/28.parquet',\n",
       " '/p/gpfs1/iopp/recorder_app_logs/genome_pegasus/nodes-32/_parquet/metrics/file_id/27.parquet',\n",
       " '/p/gpfs1/iopp/recorder_app_logs/genome_pegasus/nodes-32/_parquet/metrics/file_id/54.parquet',\n",
       " '/p/gpfs1/iopp/recorder_app_logs/genome_pegasus/nodes-32/_parquet/metrics/file_id/39.parquet',\n",
       " '/p/gpfs1/iopp/recorder_app_logs/genome_pegasus/nodes-32/_parquet/metrics/file_id/33.parquet',\n",
       " '/p/gpfs1/iopp/recorder_app_logs/genome_pegasus/nodes-32/_parquet/metrics/file_id/41.parquet',\n",
       " '/p/gpfs1/iopp/recorder_app_logs/genome_pegasus/nodes-32/_parquet/metrics/file_id/36.parquet',\n",
       " '/p/gpfs1/iopp/recorder_app_logs/genome_pegasus/nodes-32/_parquet/metrics/file_id/25.parquet',\n",
       " '/p/gpfs1/iopp/recorder_app_logs/genome_pegasus/nodes-32/_parquet/metrics/file_id/24.parquet',\n",
       " '/p/gpfs1/iopp/recorder_app_logs/genome_pegasus/nodes-32/_parquet/metrics/file_id/31.parquet',\n",
       " '/p/gpfs1/iopp/recorder_app_logs/genome_pegasus/nodes-32/_parquet/metrics/file_id/40.parquet',\n",
       " '/p/gpfs1/iopp/recorder_app_logs/genome_pegasus/nodes-32/_parquet/metrics/file_id/34.parquet',\n",
       " '/p/gpfs1/iopp/recorder_app_logs/genome_pegasus/nodes-32/_parquet/metrics/file_id/44.parquet',\n",
       " '/p/gpfs1/iopp/recorder_app_logs/genome_pegasus/nodes-32/_parquet/metrics/file_id/35.parquet',\n",
       " '/p/gpfs1/iopp/recorder_app_logs/genome_pegasus/nodes-32/_parquet/metrics/file_id/55.parquet',\n",
       " '/p/gpfs1/iopp/recorder_app_logs/genome_pegasus/nodes-32/_parquet/metrics/file_id/51.parquet',\n",
       " '/p/gpfs1/iopp/recorder_app_logs/genome_pegasus/nodes-32/_parquet/metrics/file_id/26.parquet',\n",
       " '/p/gpfs1/iopp/recorder_app_logs/genome_pegasus/nodes-32/_parquet/metrics/file_id/46.parquet',\n",
       " '/p/gpfs1/iopp/recorder_app_logs/genome_pegasus/nodes-32/_parquet/metrics/file_id/42.parquet',\n",
       " '/p/gpfs1/iopp/recorder_app_logs/genome_pegasus/nodes-32/_parquet/metrics/file_id/18.parquet',\n",
       " '/p/gpfs1/iopp/recorder_app_logs/genome_pegasus/nodes-32/_parquet/metrics/file_id/47.parquet',\n",
       " '/p/gpfs1/iopp/recorder_app_logs/genome_pegasus/nodes-32/_parquet/metrics/file_id/50.parquet',\n",
       " '/p/gpfs1/iopp/recorder_app_logs/genome_pegasus/nodes-32/_parquet/metrics/file_id/37.parquet',\n",
       " '/p/gpfs1/iopp/recorder_app_logs/genome_pegasus/nodes-32/_parquet/metrics/file_id/29.parquet',\n",
       " '/p/gpfs1/iopp/recorder_app_logs/genome_pegasus/nodes-32/_parquet/metrics/file_id/38.parquet',\n",
       " '/p/gpfs1/iopp/recorder_app_logs/genome_pegasus/nodes-32/_parquet/metrics/file_id/48.parquet',\n",
       " '/p/gpfs1/iopp/recorder_app_logs/genome_pegasus/nodes-32/_parquet/metrics/file_id/49.parquet',\n",
       " '/p/gpfs1/iopp/recorder_app_logs/genome_pegasus/nodes-32/_parquet/metrics/file_id/43.parquet',\n",
       " '/p/gpfs1/iopp/recorder_app_logs/genome_pegasus/nodes-32/_parquet/metrics/file_id/30.parquet',\n",
       " '/p/gpfs1/iopp/recorder_app_logs/genome_pegasus/nodes-32/_parquet/metrics/file_id/23.parquet']"
      ]
     },
     "execution_count": 11,
     "metadata": {},
     "output_type": "execute_result"
    }
   ],
   "source": [
    "metrics"
   ]
  },
  {
   "cell_type": "code",
   "execution_count": 12,
   "id": "ec52ae6c-0633-4e57-9e92-d6e96c162fe2",
   "metadata": {},
   "outputs": [
    {
     "data": {
      "text/html": [
       "<div><strong>Dask DataFrame Structure:</strong></div>\n",
       "<div>\n",
       "<style scoped>\n",
       "    .dataframe tbody tr th:only-of-type {\n",
       "        vertical-align: middle;\n",
       "    }\n",
       "\n",
       "    .dataframe tbody tr th {\n",
       "        vertical-align: top;\n",
       "    }\n",
       "\n",
       "    .dataframe thead th {\n",
       "        text-align: right;\n",
       "    }\n",
       "</style>\n",
       "<table border=\"1\" class=\"dataframe\">\n",
       "  <thead>\n",
       "    <tr style=\"text-align: right;\">\n",
       "      <th></th>\n",
       "      <th>index_</th>\n",
       "      <th>io_cat_</th>\n",
       "      <th>duration_sum</th>\n",
       "      <th>size_sum</th>\n",
       "      <th>bandwidth_sum</th>\n",
       "      <th>index_count</th>\n",
       "      <th>proc_id_min</th>\n",
       "      <th>proc_id_max</th>\n",
       "      <th>filename_min</th>\n",
       "    </tr>\n",
       "    <tr>\n",
       "      <th>npartitions=1</th>\n",
       "      <th></th>\n",
       "      <th></th>\n",
       "      <th></th>\n",
       "      <th></th>\n",
       "      <th></th>\n",
       "      <th></th>\n",
       "      <th></th>\n",
       "      <th></th>\n",
       "      <th></th>\n",
       "    </tr>\n",
       "  </thead>\n",
       "  <tbody>\n",
       "    <tr>\n",
       "      <th></th>\n",
       "      <td>int64</td>\n",
       "      <td>int64</td>\n",
       "      <td>float32</td>\n",
       "      <td>int64</td>\n",
       "      <td>float32</td>\n",
       "      <td>int64</td>\n",
       "      <td>int64</td>\n",
       "      <td>int64</td>\n",
       "      <td>object</td>\n",
       "    </tr>\n",
       "    <tr>\n",
       "      <th></th>\n",
       "      <td>...</td>\n",
       "      <td>...</td>\n",
       "      <td>...</td>\n",
       "      <td>...</td>\n",
       "      <td>...</td>\n",
       "      <td>...</td>\n",
       "      <td>...</td>\n",
       "      <td>...</td>\n",
       "      <td>...</td>\n",
       "    </tr>\n",
       "  </tbody>\n",
       "</table>\n",
       "</div>\n",
       "<div>Dask Name: read-parquet, 1 tasks</div>"
      ],
      "text/plain": [
       "Dask DataFrame Structure:\n",
       "              index_ io_cat_ duration_sum size_sum bandwidth_sum index_count proc_id_min proc_id_max filename_min\n",
       "npartitions=1                                                                                                    \n",
       "               int64   int64      float32    int64       float32       int64       int64       int64       object\n",
       "                 ...     ...          ...      ...           ...         ...         ...         ...          ...\n",
       "Dask Name: read-parquet, 1 tasks"
      ]
     },
     "execution_count": 12,
     "metadata": {},
     "output_type": "execute_result"
    }
   ],
   "source": [
    "file_ddf_0 = dd.read_parquet(\"/p/gpfs1/iopp/recorder_app_logs/genome_pegasus/nodes-32/_parquet/metrics/file_id/0.parquet\")\n",
    "\n",
    "file_ddf_0"
   ]
  },
  {
   "cell_type": "code",
   "execution_count": 13,
   "id": "8c1bd0b2-464b-4867-ab2e-4e417c126f15",
   "metadata": {},
   "outputs": [
    {
     "data": {
      "text/html": [
       "<div>\n",
       "<style scoped>\n",
       "    .dataframe tbody tr th:only-of-type {\n",
       "        vertical-align: middle;\n",
       "    }\n",
       "\n",
       "    .dataframe tbody tr th {\n",
       "        vertical-align: top;\n",
       "    }\n",
       "\n",
       "    .dataframe thead th {\n",
       "        text-align: right;\n",
       "    }\n",
       "</style>\n",
       "<table border=\"1\" class=\"dataframe\">\n",
       "  <thead>\n",
       "    <tr style=\"text-align: right;\">\n",
       "      <th></th>\n",
       "      <th>index_</th>\n",
       "      <th>io_cat_</th>\n",
       "      <th>duration_sum</th>\n",
       "      <th>size_sum</th>\n",
       "      <th>bandwidth_sum</th>\n",
       "      <th>index_count</th>\n",
       "      <th>proc_id_min</th>\n",
       "      <th>proc_id_max</th>\n",
       "      <th>filename_min</th>\n",
       "    </tr>\n",
       "  </thead>\n",
       "  <tbody>\n",
       "    <tr>\n",
       "      <th>0</th>\n",
       "      <td>12707</td>\n",
       "      <td>3</td>\n",
       "      <td>0.000094</td>\n",
       "      <td>0</td>\n",
       "      <td>0.0</td>\n",
       "      <td>1</td>\n",
       "      <td>3612142438820350027</td>\n",
       "      <td>3612142438820350027</td>\n",
       "      <td>tmpz6yqykx9/chr5.HG00123</td>\n",
       "    </tr>\n",
       "    <tr>\n",
       "      <th>1</th>\n",
       "      <td>12818</td>\n",
       "      <td>3</td>\n",
       "      <td>0.000099</td>\n",
       "      <td>0</td>\n",
       "      <td>0.0</td>\n",
       "      <td>1</td>\n",
       "      <td>3612142438820350027</td>\n",
       "      <td>3612142438820350027</td>\n",
       "      <td>tmpz6yqykx9/chr5.HG00142</td>\n",
       "    </tr>\n",
       "    <tr>\n",
       "      <th>2</th>\n",
       "      <td>13160</td>\n",
       "      <td>3</td>\n",
       "      <td>0.000091</td>\n",
       "      <td>0</td>\n",
       "      <td>0.0</td>\n",
       "      <td>1</td>\n",
       "      <td>3612142438820350027</td>\n",
       "      <td>3612142438820350027</td>\n",
       "      <td>tmpz6yqykx9/chr5.HG00253</td>\n",
       "    </tr>\n",
       "    <tr>\n",
       "      <th>3</th>\n",
       "      <td>13377</td>\n",
       "      <td>3</td>\n",
       "      <td>0.000119</td>\n",
       "      <td>0</td>\n",
       "      <td>0.0</td>\n",
       "      <td>1</td>\n",
       "      <td>3612142438820350027</td>\n",
       "      <td>3612142438820350027</td>\n",
       "      <td>tmpz6yqykx9/chr5.HG00290</td>\n",
       "    </tr>\n",
       "    <tr>\n",
       "      <th>4</th>\n",
       "      <td>13712</td>\n",
       "      <td>3</td>\n",
       "      <td>0.000093</td>\n",
       "      <td>0</td>\n",
       "      <td>0.0</td>\n",
       "      <td>1</td>\n",
       "      <td>3612142438820350027</td>\n",
       "      <td>3612142438820350027</td>\n",
       "      <td>tmpz6yqykx9/chr5.HG00366</td>\n",
       "    </tr>\n",
       "  </tbody>\n",
       "</table>\n",
       "</div>"
      ],
      "text/plain": [
       "   index_  io_cat_  duration_sum  size_sum  bandwidth_sum  index_count  \\\n",
       "0   12707        3      0.000094         0            0.0            1   \n",
       "1   12818        3      0.000099         0            0.0            1   \n",
       "2   13160        3      0.000091         0            0.0            1   \n",
       "3   13377        3      0.000119         0            0.0            1   \n",
       "4   13712        3      0.000093         0            0.0            1   \n",
       "\n",
       "           proc_id_min          proc_id_max              filename_min  \n",
       "0  3612142438820350027  3612142438820350027  tmpz6yqykx9/chr5.HG00123  \n",
       "1  3612142438820350027  3612142438820350027  tmpz6yqykx9/chr5.HG00142  \n",
       "2  3612142438820350027  3612142438820350027  tmpz6yqykx9/chr5.HG00253  \n",
       "3  3612142438820350027  3612142438820350027  tmpz6yqykx9/chr5.HG00290  \n",
       "4  3612142438820350027  3612142438820350027  tmpz6yqykx9/chr5.HG00366  "
      ]
     },
     "execution_count": 13,
     "metadata": {},
     "output_type": "execute_result"
    }
   ],
   "source": [
    "file_ddf_0.head()"
   ]
  },
  {
   "cell_type": "code",
   "execution_count": null,
   "id": "b1b690e4-9882-4ced-9bc3-c6696b886b57",
   "metadata": {},
   "outputs": [],
   "source": []
  }
 ],
 "metadata": {
  "kernelspec": {
   "display_name": "digio-virenv-lassen",
   "language": "python",
   "name": "digio-virenv-lassen"
  },
  "language_info": {
   "codemirror_mode": {
    "name": "ipython",
    "version": 3
   },
   "file_extension": ".py",
   "mimetype": "text/x-python",
   "name": "python",
   "nbconvert_exporter": "python",
   "pygments_lexer": "ipython3",
   "version": "3.7.2"
  },
  "vscode": {
   "interpreter": {
    "hash": "60e611992ff4884e53704c792d3e673c1345bc4edefd19673c75adce4311bc94"
   }
  }
 },
 "nbformat": 4,
 "nbformat_minor": 5
}

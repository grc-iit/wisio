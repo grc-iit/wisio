{
 "cells": [
  {
   "cell_type": "markdown",
   "id": "bc5435c1-732a-4910-89b7-f43f515fa954",
   "metadata": {},
   "source": [
    "# VANI"
   ]
  },
  {
   "cell_type": "markdown",
   "id": "569476c7-d3de-42a0-b9e2-1bdae2a37d3b",
   "metadata": {},
   "source": [
    "**Initial notebook configuration**"
   ]
  },
  {
   "cell_type": "code",
   "execution_count": 1,
   "id": "22f9e735-9736-4603-b4b9-207740614b6a",
   "metadata": {},
   "outputs": [],
   "source": [
    "%load_ext autoreload\n",
    "# %load_ext snakeviz\n",
    "# %load_ext jupyterflame"
   ]
  },
  {
   "cell_type": "code",
   "execution_count": 2,
   "id": "a49c5a6e-9862-41ba-b219-b00389cc3687",
   "metadata": {},
   "outputs": [
    {
     "name": "stdout",
     "output_type": "stream",
     "text": [
      "/usr/workspace/iopp/projects/vani-analysis-tool/vani-env/bin/python\n",
      "3.7.2 (default, Feb 26 2019, 08:59:10) \n",
      "[GCC 4.9.3]\n",
      "sys.version_info(major=3, minor=7, micro=2, releaselevel='final', serial=0)\n"
     ]
    }
   ],
   "source": [
    "import os\n",
    "import sys\n",
    "print(sys.executable)\n",
    "print(sys.version)\n",
    "print(sys.version_info)"
   ]
  },
  {
   "cell_type": "code",
   "execution_count": 3,
   "id": "06fe52a1-0a7c-4bc2-8992-0197d82beb24",
   "metadata": {},
   "outputs": [],
   "source": [
    "# Filter unnecessary warnings\n",
    "import warnings\n",
    "warnings.simplefilter(action='ignore', category=FutureWarning)"
   ]
  },
  {
   "cell_type": "markdown",
   "id": "9dc61e64-3fc5-4e15-86dd-8937201a9732",
   "metadata": {},
   "source": [
    "**Import libraries**"
   ]
  },
  {
   "cell_type": "code",
   "execution_count": 4,
   "id": "888298d3",
   "metadata": {},
   "outputs": [],
   "source": [
    "import os,sys\n",
    "sys.path.append(os.path.dirname(os.getcwd()))"
   ]
  },
  {
   "cell_type": "code",
   "execution_count": 5,
   "id": "076b1f4f-7e8f-4a64-8e21-8efe9889fab7",
   "metadata": {},
   "outputs": [],
   "source": [
    "# Import VANI library\n",
    "import dask\n",
    "import numpy as np\n",
    "import pandas as pd\n",
    "from vani.analyzer import Analyzer, ClusterOptions, ClusterType"
   ]
  },
  {
   "cell_type": "markdown",
   "id": "7c056dcd-e1ed-432d-9bfd-08f904dd4611",
   "metadata": {},
   "source": [
    "**Initialize VANI Analyzer**"
   ]
  },
  {
   "cell_type": "code",
   "execution_count": 6,
   "id": "a3e9af43-f87a-4e4b-889b-b430277010b3",
   "metadata": {},
   "outputs": [
    {
     "data": {
      "application/vnd.jupyter.widget-view+json": {
       "model_id": "00111f5a28e840ebbf88e9aad3dbf9c9",
       "version_major": 2,
       "version_minor": 0
      },
      "text/plain": [
       "  0%|          | 0/3 [00:00<?, ?it/s]"
      ]
     },
     "metadata": {},
     "output_type": "display_data"
    },
    {
     "name": "stderr",
     "output_type": "stream",
     "text": [
      "Task exception was never retrieved\n",
      "future: <Task finished coro=<_wrap_awaitable() done, defined at /usr/tce/packages/python/python-3.7.2/lib/python3.7/asyncio/tasks.py:596> exception=RuntimeError('Command exited with non-zero exit code.\\nExit code: 127\\nCommand:\\nbsub< /var/tmp/haridev/tmp_a87jc0x.sh 2> /dev/null\\nstdout:\\n\\nstderr:\\n\\n')>\n",
      "Traceback (most recent call last):\n",
      "  File \"/usr/tce/packages/python/python-3.7.2/lib/python3.7/asyncio/tasks.py\", line 603, in _wrap_awaitable\n",
      "    return (yield from awaitable.__await__())\n",
      "  File \"/usr/workspace/iopp/projects/vani-analysis-tool/vani-env/lib/python3.7/site-packages/distributed/deploy/spec.py\", line 59, in _\n",
      "    await self.start()\n",
      "  File \"/usr/workspace/iopp/projects/vani-analysis-tool/vani-env/lib/python3.7/site-packages/dask_jobqueue/core.py\", line 335, in start\n",
      "    out = await self._submit_job(fn)\n",
      "  File \"/usr/workspace/iopp/projects/vani-analysis-tool/vani-env/lib/python3.7/site-packages/dask_jobqueue/lsf.py\", line 109, in _submit_job\n",
      "    return self._call(piped_cmd, shell=True)\n",
      "  File \"/usr/workspace/iopp/projects/vani-analysis-tool/vani-env/lib/python3.7/site-packages/dask_jobqueue/core.py\", line 418, in _call\n",
      "    \"stderr:\\n{}\\n\".format(proc.returncode, cmd_str, out, err)\n",
      "RuntimeError: Command exited with non-zero exit code.\n",
      "Exit code: 127\n",
      "Command:\n",
      "bsub< /var/tmp/haridev/tmp_a87jc0x.sh 2> /dev/null\n",
      "stdout:\n",
      "\n",
      "stderr:\n",
      "\n",
      "\n",
      "Task exception was never retrieved\n",
      "future: <Task finished coro=<_wrap_awaitable() done, defined at /usr/tce/packages/python/python-3.7.2/lib/python3.7/asyncio/tasks.py:596> exception=RuntimeError('Command exited with non-zero exit code.\\nExit code: 127\\nCommand:\\nbsub< /var/tmp/haridev/tmpr0s9d5au.sh 2> /dev/null\\nstdout:\\n\\nstderr:\\n\\n')>\n",
      "Traceback (most recent call last):\n",
      "  File \"/usr/tce/packages/python/python-3.7.2/lib/python3.7/asyncio/tasks.py\", line 603, in _wrap_awaitable\n",
      "    return (yield from awaitable.__await__())\n",
      "  File \"/usr/workspace/iopp/projects/vani-analysis-tool/vani-env/lib/python3.7/site-packages/distributed/deploy/spec.py\", line 59, in _\n",
      "    await self.start()\n",
      "  File \"/usr/workspace/iopp/projects/vani-analysis-tool/vani-env/lib/python3.7/site-packages/dask_jobqueue/core.py\", line 335, in start\n",
      "    out = await self._submit_job(fn)\n",
      "  File \"/usr/workspace/iopp/projects/vani-analysis-tool/vani-env/lib/python3.7/site-packages/dask_jobqueue/lsf.py\", line 109, in _submit_job\n",
      "    return self._call(piped_cmd, shell=True)\n",
      "  File \"/usr/workspace/iopp/projects/vani-analysis-tool/vani-env/lib/python3.7/site-packages/dask_jobqueue/core.py\", line 418, in _call\n",
      "    \"stderr:\\n{}\\n\".format(proc.returncode, cmd_str, out, err)\n",
      "RuntimeError: Command exited with non-zero exit code.\n",
      "Exit code: 127\n",
      "Command:\n",
      "bsub< /var/tmp/haridev/tmpr0s9d5au.sh 2> /dev/null\n",
      "stdout:\n",
      "\n",
      "stderr:\n",
      "\n",
      "\n",
      "tornado.application - ERROR - Exception in callback functools.partial(<bound method IOLoop._discard_future_result of <zmq.eventloop.ioloop.ZMQIOLoop object at 0x2aab301190f0>>, <Task finished coro=<SpecCluster._correct_state_internal() done, defined at /usr/workspace/iopp/projects/vani-analysis-tool/vani-env/lib/python3.7/site-packages/distributed/deploy/spec.py:310> exception=RuntimeError('Command exited with non-zero exit code.\\nExit code: 127\\nCommand:\\nbsub< /var/tmp/haridev/tmpo_j3d9la.sh 2> /dev/null\\nstdout:\\n\\nstderr:\\n\\n')>)\n",
      "Traceback (most recent call last):\n",
      "  File \"/usr/workspace/iopp/projects/vani-analysis-tool/vani-env/lib/python3.7/site-packages/tornado/ioloop.py\", line 740, in _run_callback\n",
      "    ret = callback()\n",
      "  File \"/usr/workspace/iopp/projects/vani-analysis-tool/vani-env/lib/python3.7/site-packages/tornado/ioloop.py\", line 764, in _discard_future_result\n",
      "    future.result()\n",
      "  File \"/usr/workspace/iopp/projects/vani-analysis-tool/vani-env/lib/python3.7/site-packages/distributed/deploy/spec.py\", line 348, in _correct_state_internal\n",
      "    await w  # for tornado gen.coroutine support\n",
      "  File \"/usr/workspace/iopp/projects/vani-analysis-tool/vani-env/lib/python3.7/site-packages/distributed/deploy/spec.py\", line 59, in _\n",
      "    await self.start()\n",
      "  File \"/usr/workspace/iopp/projects/vani-analysis-tool/vani-env/lib/python3.7/site-packages/dask_jobqueue/core.py\", line 335, in start\n",
      "    out = await self._submit_job(fn)\n",
      "  File \"/usr/workspace/iopp/projects/vani-analysis-tool/vani-env/lib/python3.7/site-packages/dask_jobqueue/lsf.py\", line 109, in _submit_job\n",
      "    return self._call(piped_cmd, shell=True)\n",
      "  File \"/usr/workspace/iopp/projects/vani-analysis-tool/vani-env/lib/python3.7/site-packages/dask_jobqueue/core.py\", line 418, in _call\n",
      "    \"stderr:\\n{}\\n\".format(proc.returncode, cmd_str, out, err)\n",
      "RuntimeError: Command exited with non-zero exit code.\n",
      "Exit code: 127\n",
      "Command:\n",
      "bsub< /var/tmp/haridev/tmpo_j3d9la.sh 2> /dev/null\n",
      "stdout:\n",
      "\n",
      "stderr:\n",
      "\n",
      "\n"
     ]
    },
    {
     "name": "stdout",
     "output_type": "stream",
     "text": [
      "#!/usr/bin/env bash\n",
      "\n",
      "#BSUB -J dask-worker\n",
      "#BSUB -G asccasc\n",
      "#BSUB -q pdebug\n",
      "#BSUB -W 02:00\n",
      "#BSUB -o vani.log\n",
      "#BSUB -e vani.log\n",
      "\n",
      "/usr/workspace/iopp/projects/vani-analysis-tool/vani-env/bin/python -m distributed.cli.dask_worker tcp://192.168.135.138:42290 --nthreads 1 --nprocs 4 --memory-limit 29.80GiB --name dummy-name --nanny --death-timeout 300\n",
      "\n",
      "0/8 workers running\r"
     ]
    },
    {
     "ename": "KeyboardInterrupt",
     "evalue": "",
     "output_type": "error",
     "traceback": [
      "\u001b[0;31m---------------------------------------------------------------------------\u001b[0m",
      "\u001b[0;31mKeyboardInterrupt\u001b[0m                         Traceback (most recent call last)",
      "\u001b[0;32m/var/tmp/haridev/ipykernel_61947/2388094842.py\u001b[0m in \u001b[0;36m<module>\u001b[0;34m\u001b[0m\n\u001b[1;32m      3\u001b[0m \u001b[0;31m# Initialize analyzer\u001b[0m\u001b[0;34m\u001b[0m\u001b[0;34m\u001b[0m\u001b[0;34m\u001b[0m\u001b[0m\n\u001b[1;32m      4\u001b[0m \u001b[0mco\u001b[0m \u001b[0;34m=\u001b[0m \u001b[0mClusterOptions\u001b[0m\u001b[0;34m(\u001b[0m\u001b[0mcluster_type\u001b[0m\u001b[0;34m=\u001b[0m\u001b[0mClusterType\u001b[0m\u001b[0;34m.\u001b[0m\u001b[0mLSF\u001b[0m\u001b[0;34m)\u001b[0m\u001b[0;34m\u001b[0m\u001b[0;34m\u001b[0m\u001b[0m\n\u001b[0;32m----> 5\u001b[0;31m \u001b[0mvn\u001b[0m \u001b[0;34m=\u001b[0m \u001b[0mAnalyzer\u001b[0m\u001b[0;34m(\u001b[0m\u001b[0mn_workers\u001b[0m\u001b[0;34m=\u001b[0m\u001b[0;36m8\u001b[0m\u001b[0;34m,\u001b[0m \u001b[0mcluster_options\u001b[0m\u001b[0;34m=\u001b[0m\u001b[0mco\u001b[0m\u001b[0;34m,\u001b[0m \u001b[0mdebug\u001b[0m\u001b[0;34m=\u001b[0m\u001b[0;32mTrue\u001b[0m\u001b[0;34m)\u001b[0m\u001b[0;34m\u001b[0m\u001b[0;34m\u001b[0m\u001b[0m\n\u001b[0m",
      "\u001b[0;32m/usr/WS2/iopp/projects/vani-analysis-tool/vani/analyzer.py\u001b[0m in \u001b[0;36m__init__\u001b[0;34m(self, n_workers, cluster_options, debug)\u001b[0m\n\u001b[1;32m     64\u001b[0m         \u001b[0;32mif\u001b[0m \u001b[0;34m(\u001b[0m\u001b[0mcluster_options\u001b[0m\u001b[0;34m.\u001b[0m\u001b[0mcluster_type\u001b[0m \u001b[0;34m!=\u001b[0m \u001b[0mClusterType\u001b[0m\u001b[0;34m.\u001b[0m\u001b[0mLocal\u001b[0m\u001b[0;34m)\u001b[0m\u001b[0;34m:\u001b[0m\u001b[0;34m\u001b[0m\u001b[0;34m\u001b[0m\u001b[0m\n\u001b[1;32m     65\u001b[0m             \u001b[0mself\u001b[0m\u001b[0;34m.\u001b[0m\u001b[0mcluster\u001b[0m\u001b[0;34m.\u001b[0m\u001b[0mscale\u001b[0m\u001b[0;34m(\u001b[0m\u001b[0mn_workers\u001b[0m\u001b[0;34m)\u001b[0m\u001b[0;34m\u001b[0m\u001b[0;34m\u001b[0m\u001b[0m\n\u001b[0;32m---> 66\u001b[0;31m             \u001b[0mself\u001b[0m\u001b[0;34m.\u001b[0m\u001b[0m__wait_until_workers_alive\u001b[0m\u001b[0;34m(\u001b[0m\u001b[0;34m)\u001b[0m\u001b[0;34m\u001b[0m\u001b[0;34m\u001b[0m\u001b[0m\n\u001b[0m\u001b[1;32m     67\u001b[0m         \u001b[0mpbar\u001b[0m\u001b[0;34m.\u001b[0m\u001b[0mupdate\u001b[0m\u001b[0;34m(\u001b[0m\u001b[0;34m)\u001b[0m\u001b[0;34m\u001b[0m\u001b[0;34m\u001b[0m\u001b[0m\n\u001b[1;32m     68\u001b[0m \u001b[0;34m\u001b[0m\u001b[0m\n",
      "\u001b[0;32m/usr/WS2/iopp/projects/vani-analysis-tool/vani/analyzer.py\u001b[0m in \u001b[0;36m__wait_until_workers_alive\u001b[0;34m(self)\u001b[0m\n\u001b[1;32m    346\u001b[0m             \u001b[0mself\u001b[0m\u001b[0;34m.\u001b[0m\u001b[0mcluster\u001b[0m\u001b[0;34m.\u001b[0m\u001b[0m_correct_state\u001b[0m\u001b[0;34m(\u001b[0m\u001b[0;34m)\u001b[0m\u001b[0;34m\u001b[0m\u001b[0;34m\u001b[0m\u001b[0m\n\u001b[1;32m    347\u001b[0m             \u001b[0;31m# Sleep a little\u001b[0m\u001b[0;34m\u001b[0m\u001b[0;34m\u001b[0m\u001b[0;34m\u001b[0m\u001b[0m\n\u001b[0;32m--> 348\u001b[0;31m             \u001b[0msleep\u001b[0m\u001b[0;34m(\u001b[0m\u001b[0mWORKER_CHECK_INTERVAL\u001b[0m\u001b[0;34m)\u001b[0m\u001b[0;34m\u001b[0m\u001b[0;34m\u001b[0m\u001b[0m\n\u001b[0m\u001b[1;32m    349\u001b[0m             \u001b[0;31m# Get current number of workers\u001b[0m\u001b[0;34m\u001b[0m\u001b[0;34m\u001b[0m\u001b[0;34m\u001b[0m\u001b[0m\n\u001b[1;32m    350\u001b[0m             \u001b[0mcurrent_n_workers\u001b[0m \u001b[0;34m=\u001b[0m \u001b[0mself\u001b[0m\u001b[0;34m.\u001b[0m\u001b[0m_current_n_workers\u001b[0m\u001b[0;34m(\u001b[0m\u001b[0;34m)\u001b[0m\u001b[0;34m\u001b[0m\u001b[0;34m\u001b[0m\u001b[0m\n",
      "\u001b[0;31mKeyboardInterrupt\u001b[0m: "
     ]
    },
    {
     "name": "stderr",
     "output_type": "stream",
     "text": [
      "Task exception was never retrieved\n",
      "future: <Task finished coro=<_wrap_awaitable() done, defined at /usr/tce/packages/python/python-3.7.2/lib/python3.7/asyncio/tasks.py:596> exception=RuntimeError('Command exited with non-zero exit code.\\nExit code: 127\\nCommand:\\nbsub< /var/tmp/haridev/tmpehd9nioe.sh 2> /dev/null\\nstdout:\\n\\nstderr:\\n\\n')>\n",
      "Traceback (most recent call last):\n",
      "  File \"/usr/tce/packages/python/python-3.7.2/lib/python3.7/asyncio/tasks.py\", line 603, in _wrap_awaitable\n",
      "    return (yield from awaitable.__await__())\n",
      "  File \"/usr/workspace/iopp/projects/vani-analysis-tool/vani-env/lib/python3.7/site-packages/distributed/deploy/spec.py\", line 59, in _\n",
      "    await self.start()\n",
      "  File \"/usr/workspace/iopp/projects/vani-analysis-tool/vani-env/lib/python3.7/site-packages/dask_jobqueue/core.py\", line 335, in start\n",
      "    out = await self._submit_job(fn)\n",
      "  File \"/usr/workspace/iopp/projects/vani-analysis-tool/vani-env/lib/python3.7/site-packages/dask_jobqueue/lsf.py\", line 109, in _submit_job\n",
      "    return self._call(piped_cmd, shell=True)\n",
      "  File \"/usr/workspace/iopp/projects/vani-analysis-tool/vani-env/lib/python3.7/site-packages/dask_jobqueue/core.py\", line 418, in _call\n",
      "    \"stderr:\\n{}\\n\".format(proc.returncode, cmd_str, out, err)\n",
      "RuntimeError: Command exited with non-zero exit code.\n",
      "Exit code: 127\n",
      "Command:\n",
      "bsub< /var/tmp/haridev/tmpehd9nioe.sh 2> /dev/null\n",
      "stdout:\n",
      "\n",
      "stderr:\n",
      "\n",
      "\n",
      "Task exception was never retrieved\n",
      "future: <Task finished coro=<_wrap_awaitable() done, defined at /usr/tce/packages/python/python-3.7.2/lib/python3.7/asyncio/tasks.py:596> exception=RuntimeError('Command exited with non-zero exit code.\\nExit code: 127\\nCommand:\\nbsub< /var/tmp/haridev/tmp5k77tn9x.sh 2> /dev/null\\nstdout:\\n\\nstderr:\\n\\n')>\n",
      "Traceback (most recent call last):\n",
      "  File \"/usr/tce/packages/python/python-3.7.2/lib/python3.7/asyncio/tasks.py\", line 603, in _wrap_awaitable\n",
      "    return (yield from awaitable.__await__())\n",
      "  File \"/usr/workspace/iopp/projects/vani-analysis-tool/vani-env/lib/python3.7/site-packages/distributed/deploy/spec.py\", line 59, in _\n",
      "    await self.start()\n",
      "  File \"/usr/workspace/iopp/projects/vani-analysis-tool/vani-env/lib/python3.7/site-packages/dask_jobqueue/core.py\", line 335, in start\n",
      "    out = await self._submit_job(fn)\n",
      "  File \"/usr/workspace/iopp/projects/vani-analysis-tool/vani-env/lib/python3.7/site-packages/dask_jobqueue/lsf.py\", line 109, in _submit_job\n",
      "    return self._call(piped_cmd, shell=True)\n",
      "  File \"/usr/workspace/iopp/projects/vani-analysis-tool/vani-env/lib/python3.7/site-packages/dask_jobqueue/core.py\", line 418, in _call\n",
      "    \"stderr:\\n{}\\n\".format(proc.returncode, cmd_str, out, err)\n",
      "RuntimeError: Command exited with non-zero exit code.\n",
      "Exit code: 127\n",
      "Command:\n",
      "bsub< /var/tmp/haridev/tmp5k77tn9x.sh 2> /dev/null\n",
      "stdout:\n",
      "\n",
      "stderr:\n",
      "\n",
      "\n",
      "Task exception was never retrieved\n",
      "future: <Task finished coro=<SpecCluster._correct_state_internal() done, defined at /usr/workspace/iopp/projects/vani-analysis-tool/vani-env/lib/python3.7/site-packages/distributed/deploy/spec.py:310> exception=RuntimeError('Command exited with non-zero exit code.\\nExit code: 127\\nCommand:\\nbsub< /var/tmp/haridev/tmprw2nygtz.sh 2> /dev/null\\nstdout:\\n\\nstderr:\\n\\n')>\n",
      "Traceback (most recent call last):\n",
      "  File \"/usr/workspace/iopp/projects/vani-analysis-tool/vani-env/lib/python3.7/site-packages/distributed/deploy/spec.py\", line 348, in _correct_state_internal\n",
      "    await w  # for tornado gen.coroutine support\n",
      "  File \"/usr/workspace/iopp/projects/vani-analysis-tool/vani-env/lib/python3.7/site-packages/distributed/deploy/spec.py\", line 59, in _\n",
      "    await self.start()\n",
      "  File \"/usr/workspace/iopp/projects/vani-analysis-tool/vani-env/lib/python3.7/site-packages/dask_jobqueue/core.py\", line 335, in start\n",
      "    out = await self._submit_job(fn)\n",
      "  File \"/usr/workspace/iopp/projects/vani-analysis-tool/vani-env/lib/python3.7/site-packages/dask_jobqueue/lsf.py\", line 109, in _submit_job\n",
      "    return self._call(piped_cmd, shell=True)\n",
      "  File \"/usr/workspace/iopp/projects/vani-analysis-tool/vani-env/lib/python3.7/site-packages/dask_jobqueue/core.py\", line 418, in _call\n",
      "    \"stderr:\\n{}\\n\".format(proc.returncode, cmd_str, out, err)\n",
      "RuntimeError: Command exited with non-zero exit code.\n",
      "Exit code: 127\n",
      "Command:\n",
      "bsub< /var/tmp/haridev/tmprw2nygtz.sh 2> /dev/null\n",
      "stdout:\n",
      "\n",
      "stderr:\n",
      "\n",
      "\n"
     ]
    }
   ],
   "source": [
    "%autoreload 2\n",
    "\n",
    "# Initialize analyzer\n",
    "co = ClusterOptions(cluster_type=ClusterType.Local)\n",
    "vn = Analyzer(n_workers=8, cluster_options=co, debug=True)"
   ]
  },
  {
   "cell_type": "markdown",
   "id": "c1b19ba0-5305-48ad-889c-003181813b03",
   "metadata": {},
   "source": [
    "**Analyze logs**"
   ]
  },
  {
   "cell_type": "code",
   "execution_count": null,
   "id": "9378d3ba-b1cb-418e-9a66-8927436dae98",
   "metadata": {},
   "outputs": [],
   "source": [
    "%autoreload 2\n",
    "\n",
    "# Analysis configuration\n",
    "# log_dir = \"/p/gpfs1/iopp/parquet_app_logs/hacc/nodes-32/workflow-0\"\n",
    "log_dir = \"/p/gpfs1/iopp/parquet_app_logs/cm1/nodes-32/workflow-4\"\n",
    "# log_dir = \"/p/gpfs1/iopp/parquet_app_logs/lbann-cosmoflow/nodes-32\"\n",
    "# log_dir = \"/p/gpfs1/iopp/recorder_app_logs/montage_pegasus/nodes-32/_parquet\"\n",
    "# log_dir = \"/p/gpfs1/iopp/recorder_app_logs/genome_pegasus/nodes-32/_parquet\"\n",
    "\n",
    "# Do the analysis  \n",
    "io_df_read_write, job_time = vn.analyze_parquet_logs(log_dir, granularity=0.006622314453125) #, precision_level=1/2/3) "
   ]
  },
  {
   "cell_type": "code",
   "execution_count": null,
   "id": "2d08daf6-e5b4-4264-9373-9cdea371f6b5",
   "metadata": {},
   "outputs": [],
   "source": [
    "io_df_read_write[\"duration\"].max().compute()"
   ]
  },
  {
   "cell_type": "code",
   "execution_count": null,
   "id": "ce9f5783-87c4-44fe-8418-f34735a508de",
   "metadata": {},
   "outputs": [],
   "source": []
  }
 ],
 "metadata": {
  "kernelspec": {
   "display_name": "Python 3.7.2 ('vani-env': venv)",
   "language": "python",
   "name": "python3"
  },
  "language_info": {
   "codemirror_mode": {
    "name": "ipython",
    "version": 3
   },
   "file_extension": ".py",
   "mimetype": "text/x-python",
   "name": "python",
   "nbconvert_exporter": "python",
   "pygments_lexer": "ipython3",
   "version": "3.7.2"
  },
  "vscode": {
   "interpreter": {
    "hash": "f8c268aa3addfe1817a21ef25014b175c7e6b7ef4b4b0c4c205bd87d8cc9be76"
   }
  }
 },
 "nbformat": 4,
 "nbformat_minor": 5
}

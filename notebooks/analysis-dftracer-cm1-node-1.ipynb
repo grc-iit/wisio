{
 "cells": [
  {
   "cell_type": "code",
   "execution_count": 1,
   "id": "b9f32d07",
   "metadata": {
    "execution": {
     "iopub.execute_input": "2024-10-09T22:42:52.750697Z",
     "iopub.status.busy": "2024-10-09T22:42:52.750264Z",
     "iopub.status.idle": "2024-10-09T22:42:52.791429Z",
     "shell.execute_reply": "2024-10-09T22:42:52.790799Z"
    },
    "papermill": {
     "duration": 0.050757,
     "end_time": "2024-10-09T22:42:52.792871",
     "exception": false,
     "start_time": "2024-10-09T22:42:52.742114",
     "status": "completed"
    },
    "tags": []
   },
   "outputs": [
    {
     "name": "stdout",
     "output_type": "stream",
     "text": [
      "time: 199 µs (started: 2024-10-09 15:42:52 -07:00)\n"
     ]
    }
   ],
   "source": [
    "%load_ext autoreload\n",
    "%load_ext autotime"
   ]
  },
  {
   "cell_type": "code",
   "execution_count": 2,
   "id": "9f503590",
   "metadata": {
    "execution": {
     "iopub.execute_input": "2024-10-09T22:42:52.800700Z",
     "iopub.status.busy": "2024-10-09T22:42:52.800268Z",
     "iopub.status.idle": "2024-10-09T22:42:52.804446Z",
     "shell.execute_reply": "2024-10-09T22:42:52.803841Z"
    },
    "papermill": {
     "duration": 0.009163,
     "end_time": "2024-10-09T22:42:52.805745",
     "exception": false,
     "start_time": "2024-10-09T22:42:52.796582",
     "status": "completed"
    },
    "tags": []
   },
   "outputs": [
    {
     "name": "stdout",
     "output_type": "stream",
     "text": [
      "time: 591 µs (started: 2024-10-09 15:42:52 -07:00)\n"
     ]
    }
   ],
   "source": [
    "import os\n",
    "import sys\n",
    "import time\n",
    "import warnings\n",
    "\n",
    "# Add WisIO to the path\n",
    "sys.path.append(os.path.abspath(\"../\"))\n",
    "\n",
    "# Filter warnings\n",
    "warnings.filterwarnings('ignore')"
   ]
  },
  {
   "cell_type": "code",
   "execution_count": 3,
   "id": "303dbdd8",
   "metadata": {
    "execution": {
     "iopub.execute_input": "2024-10-09T22:42:52.813352Z",
     "iopub.status.busy": "2024-10-09T22:42:52.812816Z",
     "iopub.status.idle": "2024-10-09T22:42:52.817214Z",
     "shell.execute_reply": "2024-10-09T22:42:52.816608Z"
    },
    "papermill": {
     "duration": 0.009521,
     "end_time": "2024-10-09T22:42:52.818567",
     "exception": false,
     "start_time": "2024-10-09T22:42:52.809046",
     "status": "completed"
    },
    "tags": [
     "parameters",
     "parameters2"
    ]
   },
   "outputs": [
    {
     "name": "stdout",
     "output_type": "stream",
     "text": [
      "time: 750 µs (started: 2024-10-09 15:42:52 -07:00)\n"
     ]
    }
   ],
   "source": [
    "analyzer = \"dftracer\"\n",
    "checkpoint = True\n",
    "logical_view_types = False\n",
    "output_max_bottlenecks = 1\n",
    "output_root_only = False\n",
    "run_dir = f\".wisio/{analyzer}/{int(time.time())}\"\n",
    "bottleneck_dir = f\"{run_dir}/bottlenecks\"\n",
    "checkpoint_dir = f\"{run_dir}/checkpoints\"\n",
    "percentile = 0.95\n",
    "trace_path = \"/p/lustre3/iopp/dftracer-traces-lfs/v1.0.5-develop/corona/cm1/APP/node-1/v1/RAW/*.pfw.gz\""
   ]
  },
  {
   "cell_type": "code",
   "execution_count": 4,
   "id": "44b55212",
   "metadata": {
    "execution": {
     "iopub.execute_input": "2024-10-09T22:42:52.826483Z",
     "iopub.status.busy": "2024-10-09T22:42:52.826048Z",
     "iopub.status.idle": "2024-10-09T22:42:52.830297Z",
     "shell.execute_reply": "2024-10-09T22:42:52.829686Z"
    },
    "papermill": {
     "duration": 0.009602,
     "end_time": "2024-10-09T22:42:52.831630",
     "exception": false,
     "start_time": "2024-10-09T22:42:52.822028",
     "status": "completed"
    },
    "tags": [
     "injected-parameters"
    ]
   },
   "outputs": [
    {
     "name": "stdout",
     "output_type": "stream",
     "text": [
      "time: 655 µs (started: 2024-10-09 15:42:52 -07:00)\n"
     ]
    }
   ],
   "source": [
    "# Parameters\n",
    "analyzer = \"dftracer\"\n",
    "checkpoint = True\n",
    "checkpoint_dir = \"/usr/workspace/iopp/wisio_logs/_checkpoints/dftracer-cm1-node-1\"\n",
    "logical_view_types = False\n",
    "output_max_bottlenecks = 1\n",
    "output_root_only = False\n",
    "run_dir = \".wisio/dftracer/cm1-node-1\"\n",
    "percentile = 0.99\n",
    "trace_path = \"/p/lustre3/iopp/dftracer-traces-lfs/v1.0.5-develop/corona/cm1/APP/node-1/v1/COMPACT/*.pfw.gz\"\n"
   ]
  },
  {
   "cell_type": "code",
   "execution_count": 5,
   "id": "7a9a27f7",
   "metadata": {
    "execution": {
     "iopub.execute_input": "2024-10-09T22:42:52.840580Z",
     "iopub.status.busy": "2024-10-09T22:42:52.840171Z",
     "iopub.status.idle": "2024-10-09T22:42:59.670986Z",
     "shell.execute_reply": "2024-10-09T22:42:59.670390Z"
    },
    "papermill": {
     "duration": 6.836993,
     "end_time": "2024-10-09T22:42:59.672453",
     "exception": false,
     "start_time": "2024-10-09T22:42:52.835460",
     "status": "completed"
    },
    "tags": []
   },
   "outputs": [
    {
     "name": "stdout",
     "output_type": "stream",
     "text": [
      "time: 6.82 s (started: 2024-10-09 15:42:52 -07:00)\n"
     ]
    }
   ],
   "source": [
    "from distributed import Client\n",
    "from hydra import compose, initialize\n",
    "from hydra.core.hydra_config import HydraConfig\n",
    "from hydra.utils import instantiate\n",
    "from wisio.config import init_hydra_config_store\n",
    "from wisio.utils.file_utils import ensure_dir\n",
    "\n",
    "ensure_dir(run_dir)\n",
    "\n",
    "with initialize(version_base=None, config_path=None):\n",
    "    init_hydra_config_store()\n",
    "    cfg = compose(\n",
    "        config_name=\"config\",\n",
    "        overrides=[\n",
    "            f\"+analyzer={analyzer}\",\n",
    "            f\"analyzer.bottleneck_dir={bottleneck_dir}\",\n",
    "            f\"analyzer.checkpoint={checkpoint}\",\n",
    "            f\"analyzer.checkpoint_dir={checkpoint_dir}\",\n",
    "            f\"hydra.run.dir={run_dir}\",\n",
    "            f\"hydra.runtime.output_dir={run_dir}\",\n",
    "            f\"logical_view_types={logical_view_types}\",\n",
    "            f\"output.max_bottlenecks={output_max_bottlenecks}\",\n",
    "            f\"output.root_only={output_root_only}\",\n",
    "            f\"percentile={percentile}\",\n",
    "            f\"trace_path={trace_path}\",\n",
    "        ],\n",
    "        return_hydra_config=True,\n",
    "    )\n",
    "    HydraConfig.instance().set_config(cfg)\n",
    "    cluster = instantiate(cfg.cluster)\n",
    "    client = Client(cluster)\n",
    "    analyzer = instantiate(cfg.analyzer)\n",
    "    output = instantiate(cfg.output)"
   ]
  },
  {
   "cell_type": "code",
   "execution_count": 6,
   "id": "12d5db2a",
   "metadata": {
    "execution": {
     "iopub.execute_input": "2024-10-09T22:42:59.681771Z",
     "iopub.status.busy": "2024-10-09T22:42:59.681238Z",
     "iopub.status.idle": "2024-10-09T22:43:33.706839Z",
     "shell.execute_reply": "2024-10-09T22:43:33.702461Z"
    },
    "papermill": {
     "duration": 34.032534,
     "end_time": "2024-10-09T22:43:33.709334",
     "exception": false,
     "start_time": "2024-10-09T22:42:59.676800",
     "status": "completed"
    },
    "tags": []
   },
   "outputs": [
    {
     "name": "stdout",
     "output_type": "stream",
     "text": [
      "time: 34 s (started: 2024-10-09 15:42:59 -07:00)\n"
     ]
    }
   ],
   "source": [
    "result = analyzer.analyze_trace(\n",
    "    trace_path=cfg.trace_path,\n",
    "    # accuracy=cfg.accuracy,\n",
    "    exclude_bottlenecks=cfg.exclude_bottlenecks,\n",
    "    exclude_characteristics=cfg.exclude_characteristics,\n",
    "    logical_view_types=cfg.logical_view_types,\n",
    "    metrics=cfg.metrics,\n",
    "    percentile=cfg.percentile,\n",
    "    view_types=cfg.view_types,\n",
    ")"
   ]
  },
  {
   "cell_type": "code",
   "execution_count": 7,
   "id": "4f4d74ba",
   "metadata": {
    "execution": {
     "iopub.execute_input": "2024-10-09T22:43:33.718419Z",
     "iopub.status.busy": "2024-10-09T22:43:33.717978Z",
     "iopub.status.idle": "2024-10-09T22:43:35.714383Z",
     "shell.execute_reply": "2024-10-09T22:43:35.713201Z"
    },
    "papermill": {
     "duration": 2.00276,
     "end_time": "2024-10-09T22:43:35.715940",
     "exception": false,
     "start_time": "2024-10-09T22:43:33.713180",
     "status": "completed"
    },
    "tags": []
   },
   "outputs": [
    {
     "data": {
      "text/html": [
       "<pre style=\"white-space:pre;overflow-x:auto;line-height:normal;font-family:Menlo,'DejaVu Sans Mono',consolas,'Courier New',monospace\">╭────────────────────────────────────────────── I/O Characteristics ──────────────────────────────────────────────╮\n",
       "│                                                                                                                 │\n",
       "│ <span style=\"color: #008080; text-decoration-color: #008080\"> Runtime         </span> 145.36 seconds                                                                                │\n",
       "│ <span style=\"color: #008080; text-decoration-color: #008080\"> I/O Time        </span> 1.35 seconds                                                                                  │\n",
       "│ <span style=\"color: #008080; text-decoration-color: #008080\">                 </span> ├── Read - 0.03 seconds (1.96%)                                                               │\n",
       "│ <span style=\"color: #008080; text-decoration-color: #008080\">                 </span> ├── Write - 0.15 seconds (10.86%)                                                             │\n",
       "│ <span style=\"color: #008080; text-decoration-color: #008080\">                 </span> └── Metadata - 1.19 seconds (88.42%)                                                          │\n",
       "│ <span style=\"color: #008080; text-decoration-color: #008080\"> I/O Operations  </span> 231,337 ops                                                                                   │\n",
       "│ <span style=\"color: #008080; text-decoration-color: #008080\">                 </span> ├── Read - 13,489 ops (5.83%)                                                                 │\n",
       "│ <span style=\"color: #008080; text-decoration-color: #008080\">                 </span> ├── Write - 112,353 ops (48.57%)                                                              │\n",
       "│ <span style=\"color: #008080; text-decoration-color: #008080\">                 </span> └── Metadata - 105,063 ops (45.42%)                                                           │\n",
       "│ <span style=\"color: #008080; text-decoration-color: #008080\"> I/O Size        </span> 690.06 MiB                                                                                    │\n",
       "│ <span style=\"color: #008080; text-decoration-color: #008080\">                 </span> ├── Read - 1.76 MiB (0.26%)                                                                   │\n",
       "│ <span style=\"color: #008080; text-decoration-color: #008080\">                 </span> └── Write - 688.30 MiB (99.74%)                                                               │\n",
       "│ <span style=\"color: #008080; text-decoration-color: #008080\"> Read Requests   </span> 4 kiB-16 kiB - 13,489 ops                                                                     │\n",
       "│ <span style=\"color: #008080; text-decoration-color: #008080\">                 </span> ├── &lt;4 kiB - 13,440 ops (99.64%)                                                              │\n",
       "│ <span style=\"color: #008080; text-decoration-color: #008080\">                 </span> └── 4-16 kiB - 49 ops (0.36%)                                                                 │\n",
       "│ <span style=\"color: #008080; text-decoration-color: #008080\"> Write Requests  </span> 4 kiB-64 kiB - 112,353 ops                                                                    │\n",
       "│ <span style=\"color: #008080; text-decoration-color: #008080\">                 </span> ├── &lt;4 kiB - 1,945 ops (1.73%)                                                                │\n",
       "│ <span style=\"color: #008080; text-decoration-color: #008080\">                 </span> ├── 4-16 kiB - 107,192 ops (95.41%)                                                           │\n",
       "│ <span style=\"color: #008080; text-decoration-color: #008080\">                 </span> └── 16-64 kiB - 3,216 ops (2.86%)                                                             │\n",
       "│ <span style=\"color: #008080; text-decoration-color: #008080\"> Nodes           </span> 1 node                                                                                        │\n",
       "│ <span style=\"color: #008080; text-decoration-color: #008080\"> Apps            </span> 1 app                                                                                         │\n",
       "│ <span style=\"color: #008080; text-decoration-color: #008080\"> Processes/Ranks </span> 48 processes                                                                                  │\n",
       "│ <span style=\"color: #008080; text-decoration-color: #008080\"> Files           </span> 2,556 files                                                                                   │\n",
       "│ <span style=\"color: #008080; text-decoration-color: #008080\">                 </span> ├── Shared: 669 files (26.17%)                                                                │\n",
       "│ <span style=\"color: #008080; text-decoration-color: #008080\">                 </span> └── FPP: 1,887 files (73.83%)                                                                 │\n",
       "│ <span style=\"color: #008080; text-decoration-color: #008080\"> Time Periods    </span> 126 time periods (Time Granularity: 1,000,000.0)                                              │\n",
       "│ <span style=\"color: #008080; text-decoration-color: #008080\"> Access Pattern  </span> <span style=\"font-weight: bold\">Sequential</span>: 125,842 ops (100.00%) - <span style=\"font-weight: bold\">Random</span>: 0 ops (0.00%)                                     │\n",
       "│                                                                                                                 │\n",
       "╰─ <span style=\"font-weight: bold\">R</span>: Read - <span style=\"font-weight: bold\">W</span>: Write - <span style=\"font-weight: bold\">M</span>: Metadata  ─────────────────────────────────────────────────────────────────────────────╯\n",
       "                                                                                                                   \n",
       "╭────────────────────────────────────── 49 I/O Bottlenecks with 147 Reasons ──────────────────────────────────────╮\n",
       "│                                                                                                                 │\n",
       "│  Time View (2 bottlenecks with 6 reasons)                                                                       │\n",
       "│  ├── <span style=\"color: #d70000; text-decoration-color: #d70000\">[CR1] 1 process accesses 2 files within 1 time period (10) across 15 I/O operations and has an I/O time </span>   │\n",
       "│  │   <span style=\"color: #d70000; text-decoration-color: #d70000\">of 0.01 seconds which is 0.70% of overall I/O time of the workload.</span>                                        │\n",
       "│  │   ├── <span style=\"color: #d70000; text-decoration-color: #d70000\">[Excessive metadata access] Overall 75.64% (0.01 seconds) of I/O time is spent on metadata access, </span>    │\n",
       "│  │   │   <span style=\"color: #d70000; text-decoration-color: #d70000\">specifically 18.43% (0.00 seconds) on the 'open' operation.</span>                                            │\n",
       "│  │   ├── <span style=\"color: #d70000; text-decoration-color: #d70000\">[Operation imbalance] 'write' operations are 33.33% (5 operations) of total I/O operations.</span>            │\n",
       "│  │   └── <span style=\"color: #d70000; text-decoration-color: #d70000\">[Size imbalance] 'write' size is 100.00% (11.45 kiB) of total I/O size.</span>                                │\n",
       "│  └── (1 more)                                                                                                   │\n",
       "│  File View (26 bottlenecks with 78 reasons)                                                                     │\n",
       "│  ├── <span style=\"color: #d70000; text-decoration-color: #d70000\">[CR3] 1 process accesses 1 file (30516) within 9 time periods across 61 I/O operations and has an I/O </span>     │\n",
       "│  │   <span style=\"color: #d70000; text-decoration-color: #d70000\">time of 0.11 seconds which is 8.02% of overall I/O time of the workload.</span>                                   │\n",
       "│  │   ├── <span style=\"color: #d70000; text-decoration-color: #d70000\">[Excessive metadata access] Overall 99.20% (0.11 seconds) of I/O time is spent on metadata access, </span>    │\n",
       "│  │   │   <span style=\"color: #d70000; text-decoration-color: #d70000\">specifically 48.42% (0.05 seconds) on the 'open' operation.</span>                                            │\n",
       "│  │   ├── <span style=\"color: #d70000; text-decoration-color: #d70000\">[Operation imbalance] 'write' operations are 27.87% (17 operations) of total I/O operations.</span>           │\n",
       "│  │   └── <span style=\"color: #d70000; text-decoration-color: #d70000\">[Size imbalance] 'write' size is 100.00% (6.39 kiB) of total I/O size.</span>                                 │\n",
       "│  └── (25 more)                                                                                                  │\n",
       "│  Process View (1 bottleneck with 3 reasons)                                                                     │\n",
       "│  └── <span style=\"color: #d7d700; text-decoration-color: #d7d700\">[MD29] 1 process (app#5692#3537780#3537780) accesses 671 files within 125 time periods across 6,985 I/O </span>   │\n",
       "│      <span style=\"color: #d7d700; text-decoration-color: #d7d700\">operations and has an I/O time of 1.35 seconds which is 100.00% of overall I/O time of the workload.</span>       │\n",
       "│      ├── <span style=\"color: #d7d700; text-decoration-color: #d7d700\">[Excessive metadata access] Overall 88.42% (1.19 seconds) of I/O time is spent on metadata access, </span>    │\n",
       "│      │   <span style=\"color: #d7d700; text-decoration-color: #d7d700\">specifically 36.85% (0.50 seconds) on the 'open' operation.</span>                                            │\n",
       "│      ├── <span style=\"color: #d7d700; text-decoration-color: #d7d700\">[Operation imbalance] 'write' operations are 43.39% (3,031 operations) of total I/O operations.</span>        │\n",
       "│      └── <span style=\"color: #d7d700; text-decoration-color: #d7d700\">[Size imbalance] 'write' size is 99.73% (15.73 MiB) of total I/O size.</span>                                 │\n",
       "│  Time&gt;File View (1 bottleneck with 3 reasons)                                                                   │\n",
       "│  └── <span style=\"color: #87af00; text-decoration-color: #87af00\">[LO30] 1 process accesses 1 file (45382) within 2 time periods across 18 I/O operations and has an I/O </span>    │\n",
       "│      <span style=\"color: #87af00; text-decoration-color: #87af00\">time of 0.01 seconds which is 0.84% of overall I/O time of the workload.</span>                                   │\n",
       "│      ├── <span style=\"color: #87af00; text-decoration-color: #87af00\">[Excessive metadata access] Overall 67.28% (0.01 seconds) of I/O time is spent on metadata access, </span>    │\n",
       "│      │   <span style=\"color: #87af00; text-decoration-color: #87af00\">specifically 13.64% (0.00 seconds) on the 'open' operation.</span>                                            │\n",
       "│      ├── <span style=\"color: #87af00; text-decoration-color: #87af00\">[Operation imbalance] 'write' operations are 44.44% (8 operations) of total I/O operations.</span>            │\n",
       "│      └── <span style=\"color: #87af00; text-decoration-color: #87af00\">[Size imbalance] 'write' size is 100.00% (21.79 kiB) of total I/O size.</span>                                │\n",
       "│  Time&gt;Process View (1 bottleneck with 3 reasons)                                                                │\n",
       "│  └── <span style=\"color: #87af00; text-decoration-color: #87af00\">[LO31] 1 process (app#5692#3537780#3537780) accesses 2 files within 2 time periods across 30 I/O </span>          │\n",
       "│      <span style=\"color: #87af00; text-decoration-color: #87af00\">operations and has an I/O time of 0.02 seconds which is 1.26% of overall I/O time of the workload.</span>         │\n",
       "│      ├── <span style=\"color: #87af00; text-decoration-color: #87af00\">[Excessive metadata access] Overall 78.04% (0.01 seconds) of I/O time is spent on metadata access, </span>    │\n",
       "│      │   <span style=\"color: #87af00; text-decoration-color: #87af00\">specifically 17.78% (0.00 seconds) on the 'open' operation.</span>                                            │\n",
       "│      ├── <span style=\"color: #87af00; text-decoration-color: #87af00\">[Operation imbalance] 'write' operations are 33.33% (10 operations) of total I/O operations.</span>           │\n",
       "│      └── <span style=\"color: #87af00; text-decoration-color: #87af00\">[Size imbalance] 'write' size is 100.00% (22.89 kiB) of total I/O size.</span>                                │\n",
       "│  File&gt;Time View (1 bottleneck with 3 reasons)                                                                   │\n",
       "│  └── <span style=\"color: #d70000; text-decoration-color: #d70000\">[CR32] 1 process accesses 1 file within 1 time period (20) across 7 I/O operations and has an I/O time of</span>  │\n",
       "│      <span style=\"color: #d70000; text-decoration-color: #d70000\">0.01 seconds which is 1.06% of overall I/O time of the workload.</span>                                           │\n",
       "│      ├── <span style=\"color: #d70000; text-decoration-color: #d70000\">[Excessive metadata access] Overall 95.86% (0.01 seconds) of I/O time is spent on metadata access, </span>    │\n",
       "│      │   <span style=\"color: #d70000; text-decoration-color: #d70000\">specifically 50.23% (0.01 seconds) on the 'open' operation.</span>                                            │\n",
       "│      ├── <span style=\"color: #d70000; text-decoration-color: #d70000\">[Operation imbalance] 'write' operations are 28.57% (2 operations) of total I/O operations.</span>            │\n",
       "│      └── <span style=\"color: #d70000; text-decoration-color: #d70000\">[Size imbalance] 'write' size is 100.00% (727.0 B) of total I/O size.</span>                                  │\n",
       "│  File&gt;Process View (1 bottleneck with 3 reasons)                                                                │\n",
       "│  └── <span style=\"color: #d7d700; text-decoration-color: #d7d700\">[MD33] 1 process (app#5692#3537780#3537780) accesses 1 file within 9 time periods across 61 I/O </span>           │\n",
       "│      <span style=\"color: #d7d700; text-decoration-color: #d7d700\">operations and has an I/O time of 0.11 seconds which is 8.02% of overall I/O time of the workload.</span>         │\n",
       "│      ├── <span style=\"color: #d7d700; text-decoration-color: #d7d700\">[Excessive metadata access] Overall 99.20% (0.11 seconds) of I/O time is spent on metadata access, </span>    │\n",
       "│      │   <span style=\"color: #d7d700; text-decoration-color: #d7d700\">specifically 48.42% (0.05 seconds) on the 'open' operation.</span>                                            │\n",
       "│      ├── <span style=\"color: #d7d700; text-decoration-color: #d7d700\">[Operation imbalance] 'write' operations are 27.87% (17 operations) of total I/O operations.</span>           │\n",
       "│      └── <span style=\"color: #d7d700; text-decoration-color: #d7d700\">[Size imbalance] 'write' size is 100.00% (6.39 kiB) of total I/O size.</span>                                 │\n",
       "│  Process&gt;Time View (2 bottlenecks with 6 reasons)                                                               │\n",
       "│  ├── <span style=\"color: #d78700; text-decoration-color: #d78700\">[HI34] 1 process accesses 2 files within 1 time period (14) across 15 I/O operations and has an I/O time </span>  │\n",
       "│  │   <span style=\"color: #d78700; text-decoration-color: #d78700\">of 0.01 seconds which is 0.56% of overall I/O time of the workload.</span>                                        │\n",
       "│  │   ├── <span style=\"color: #d78700; text-decoration-color: #d78700\">[Excessive metadata access] Overall 81.05% (0.01 seconds) of I/O time is spent on metadata access, </span>    │\n",
       "│  │   │   <span style=\"color: #d78700; text-decoration-color: #d78700\">specifically 16.95% (0.00 seconds) on the 'open' operation.</span>                                            │\n",
       "│  │   ├── <span style=\"color: #d78700; text-decoration-color: #d78700\">[Operation imbalance] 'write' operations are 33.33% (5 operations) of total I/O operations.</span>            │\n",
       "│  │   └── <span style=\"color: #d78700; text-decoration-color: #d78700\">[Size imbalance] 'write' size is 100.00% (11.45 kiB) of total I/O size.</span>                                │\n",
       "│  └── (1 more)                                                                                                   │\n",
       "│  Process&gt;File View (7 bottlenecks with 21 reasons)                                                              │\n",
       "│  ├── <span style=\"color: #d70000; text-decoration-color: #d70000\">[CR36] 1 process accesses 1 file (30516) within 9 time periods across 61 I/O operations and has an I/O </span>    │\n",
       "│  │   <span style=\"color: #d70000; text-decoration-color: #d70000\">time of 0.11 seconds which is 8.02% of overall I/O time of the workload.</span>                                   │\n",
       "│  │   ├── <span style=\"color: #d70000; text-decoration-color: #d70000\">[Excessive metadata access] Overall 99.20% (0.11 seconds) of I/O time is spent on metadata access, </span>    │\n",
       "│  │   │   <span style=\"color: #d70000; text-decoration-color: #d70000\">specifically 48.42% (0.05 seconds) on the 'open' operation.</span>                                            │\n",
       "│  │   ├── <span style=\"color: #d70000; text-decoration-color: #d70000\">[Operation imbalance] 'write' operations are 27.87% (17 operations) of total I/O operations.</span>           │\n",
       "│  │   └── <span style=\"color: #d70000; text-decoration-color: #d70000\">[Size imbalance] 'write' size is 100.00% (6.39 kiB) of total I/O size.</span>                                 │\n",
       "│  └── (6 more)                                                                                                   │\n",
       "│  Time&gt;File&gt;Process View (1 bottleneck with 3 reasons)                                                           │\n",
       "│  └── <span style=\"color: #87af00; text-decoration-color: #87af00\">[LO43] 1 process (app#5692#3537780#3537780) accesses 1 file within 2 time periods across 18 I/O </span>           │\n",
       "│      <span style=\"color: #87af00; text-decoration-color: #87af00\">operations and has an I/O time of 0.01 seconds which is 0.84% of overall I/O time of the workload.</span>         │\n",
       "│      ├── <span style=\"color: #87af00; text-decoration-color: #87af00\">[Excessive metadata access] Overall 67.28% (0.01 seconds) of I/O time is spent on metadata access, </span>    │\n",
       "│      │   <span style=\"color: #87af00; text-decoration-color: #87af00\">specifically 13.64% (0.00 seconds) on the 'open' operation.</span>                                            │\n",
       "│      ├── <span style=\"color: #87af00; text-decoration-color: #87af00\">[Operation imbalance] 'write' operations are 44.44% (8 operations) of total I/O operations.</span>            │\n",
       "│      └── <span style=\"color: #87af00; text-decoration-color: #87af00\">[Size imbalance] 'write' size is 100.00% (21.79 kiB) of total I/O size.</span>                                │\n",
       "│  Time&gt;Process&gt;File View (1 bottleneck with 3 reasons)                                                           │\n",
       "│  └── <span style=\"color: #87af00; text-decoration-color: #87af00\">[LO44] 1 process accesses 1 file (45382) within 2 time periods across 18 I/O operations and has an I/O </span>    │\n",
       "│      <span style=\"color: #87af00; text-decoration-color: #87af00\">time of 0.01 seconds which is 0.84% of overall I/O time of the workload.</span>                                   │\n",
       "│      ├── <span style=\"color: #87af00; text-decoration-color: #87af00\">[Excessive metadata access] Overall 67.28% (0.01 seconds) of I/O time is spent on metadata access, </span>    │\n",
       "│      │   <span style=\"color: #87af00; text-decoration-color: #87af00\">specifically 13.64% (0.00 seconds) on the 'open' operation.</span>                                            │\n",
       "│      ├── <span style=\"color: #87af00; text-decoration-color: #87af00\">[Operation imbalance] 'write' operations are 44.44% (8 operations) of total I/O operations.</span>            │\n",
       "│      └── <span style=\"color: #87af00; text-decoration-color: #87af00\">[Size imbalance] 'write' size is 100.00% (21.79 kiB) of total I/O size.</span>                                │\n",
       "│  File&gt;Time&gt;Process View (1 bottleneck with 3 reasons)                                                           │\n",
       "│  └── <span style=\"color: #87af00; text-decoration-color: #87af00\">[LO45] 1 process (app#5692#3537780#3537780) accesses 1 file within 1 time period across 7 I/O operations </span>  │\n",
       "│      <span style=\"color: #87af00; text-decoration-color: #87af00\">and has an I/O time of 0.01 seconds which is 1.06% of overall I/O time of the workload.</span>                    │\n",
       "│      ├── <span style=\"color: #87af00; text-decoration-color: #87af00\">[Excessive metadata access] Overall 95.86% (0.01 seconds) of I/O time is spent on metadata access, </span>    │\n",
       "│      │   <span style=\"color: #87af00; text-decoration-color: #87af00\">specifically 50.23% (0.01 seconds) on the 'open' operation.</span>                                            │\n",
       "│      ├── <span style=\"color: #87af00; text-decoration-color: #87af00\">[Operation imbalance] 'write' operations are 28.57% (2 operations) of total I/O operations.</span>            │\n",
       "│      └── <span style=\"color: #87af00; text-decoration-color: #87af00\">[Size imbalance] 'write' size is 100.00% (727.0 B) of total I/O size.</span>                                  │\n",
       "│  File&gt;Process&gt;Time View (1 bottleneck with 3 reasons)                                                           │\n",
       "│  └── <span style=\"color: #d7d700; text-decoration-color: #d7d700\">[MD46] 1 process accesses 1 file within 1 time period (126) across 7 I/O operations and has an I/O time </span>   │\n",
       "│      <span style=\"color: #d7d700; text-decoration-color: #d7d700\">of 0.02 seconds which is 1.37% of overall I/O time of the workload.</span>                                        │\n",
       "│      ├── <span style=\"color: #d7d700; text-decoration-color: #d7d700\">[Excessive metadata access] Overall 99.81% (0.02 seconds) of I/O time is spent on metadata access, </span>    │\n",
       "│      │   <span style=\"color: #d7d700; text-decoration-color: #d7d700\">specifically 35.18% (0.01 seconds) on the 'open' operation.</span>                                            │\n",
       "│      ├── <span style=\"color: #d7d700; text-decoration-color: #d7d700\">[Operation imbalance] 'write' operations are 28.57% (2 operations) of total I/O operations.</span>            │\n",
       "│      └── <span style=\"color: #d7d700; text-decoration-color: #d7d700\">[Size imbalance] 'write' size is 100.00% (727.0 B) of total I/O size.</span>                                  │\n",
       "│  Process&gt;Time&gt;File View (1 bottleneck with 3 reasons)                                                           │\n",
       "│  └── <span style=\"color: #87af00; text-decoration-color: #87af00\">[LO47] 1 process accesses 1 file (45382) within 2 time periods across 18 I/O operations and has an I/O </span>    │\n",
       "│      <span style=\"color: #87af00; text-decoration-color: #87af00\">time of 0.01 seconds which is 0.84% of overall I/O time of the workload.</span>                                   │\n",
       "│      ├── <span style=\"color: #87af00; text-decoration-color: #87af00\">[Excessive metadata access] Overall 67.28% (0.01 seconds) of I/O time is spent on metadata access, </span>    │\n",
       "│      │   <span style=\"color: #87af00; text-decoration-color: #87af00\">specifically 13.64% (0.00 seconds) on the 'open' operation.</span>                                            │\n",
       "│      ├── <span style=\"color: #87af00; text-decoration-color: #87af00\">[Operation imbalance] 'write' operations are 44.44% (8 operations) of total I/O operations.</span>            │\n",
       "│      └── <span style=\"color: #87af00; text-decoration-color: #87af00\">[Size imbalance] 'write' size is 100.00% (21.79 kiB) of total I/O size.</span>                                │\n",
       "│  Process&gt;File&gt;Time View (2 bottlenecks with 6 reasons)                                                          │\n",
       "│  ├── <span style=\"color: #d75f00; text-decoration-color: #d75f00\">[VH48] 1 process accesses 3 files within 1 time period (88) across 22 I/O operations and has an I/O time </span>  │\n",
       "│  │   <span style=\"color: #d75f00; text-decoration-color: #d75f00\">of 0.05 seconds which is 3.41% of overall I/O time of the workload.</span>                                        │\n",
       "│  │   ├── <span style=\"color: #d75f00; text-decoration-color: #d75f00\">[Excessive metadata access] Overall 99.63% (0.05 seconds) of I/O time is spent on metadata access, </span>    │\n",
       "│  │   │   <span style=\"color: #d75f00; text-decoration-color: #d75f00\">specifically 65.23% (0.03 seconds) on the 'open' operation.</span>                                            │\n",
       "│  │   ├── <span style=\"color: #d75f00; text-decoration-color: #d75f00\">[Operation imbalance] 'write' operations are 31.82% (7 operations) of total I/O operations.</span>            │\n",
       "│  │   └── <span style=\"color: #d75f00; text-decoration-color: #d75f00\">[Size imbalance] 'write' size is 100.00% (11.63 kiB) of total I/O size.</span>                                │\n",
       "│  └── (1 more)                                                                                                   │\n",
       "│                                                                                                                 │\n",
       "╰─────────────────────────────────────────────────────────────────────────────────────────────────────────────────╯\n",
       "</pre>\n"
      ],
      "text/plain": [
       "╭────────────────────────────────────────────── I/O Characteristics ──────────────────────────────────────────────╮\n",
       "│                                                                                                                 │\n",
       "│ \u001b[36m \u001b[0m\u001b[36mRuntime        \u001b[0m\u001b[36m \u001b[0m 145.36 seconds                                                                                │\n",
       "│ \u001b[36m \u001b[0m\u001b[36mI/O Time       \u001b[0m\u001b[36m \u001b[0m 1.35 seconds                                                                                  │\n",
       "│ \u001b[36m                 \u001b[0m ├── Read - 0.03 seconds (1.96%)                                                               │\n",
       "│ \u001b[36m                 \u001b[0m ├── Write - 0.15 seconds (10.86%)                                                             │\n",
       "│ \u001b[36m                 \u001b[0m └── Metadata - 1.19 seconds (88.42%)                                                          │\n",
       "│ \u001b[36m \u001b[0m\u001b[36mI/O Operations \u001b[0m\u001b[36m \u001b[0m 231,337 ops                                                                                   │\n",
       "│ \u001b[36m                 \u001b[0m ├── Read - 13,489 ops (5.83%)                                                                 │\n",
       "│ \u001b[36m                 \u001b[0m ├── Write - 112,353 ops (48.57%)                                                              │\n",
       "│ \u001b[36m                 \u001b[0m └── Metadata - 105,063 ops (45.42%)                                                           │\n",
       "│ \u001b[36m \u001b[0m\u001b[36mI/O Size       \u001b[0m\u001b[36m \u001b[0m 690.06 MiB                                                                                    │\n",
       "│ \u001b[36m                 \u001b[0m ├── Read - 1.76 MiB (0.26%)                                                                   │\n",
       "│ \u001b[36m                 \u001b[0m └── Write - 688.30 MiB (99.74%)                                                               │\n",
       "│ \u001b[36m \u001b[0m\u001b[36mRead Requests  \u001b[0m\u001b[36m \u001b[0m 4 kiB-16 kiB - 13,489 ops                                                                     │\n",
       "│ \u001b[36m                 \u001b[0m ├── <4 kiB - 13,440 ops (99.64%)                                                              │\n",
       "│ \u001b[36m                 \u001b[0m └── 4-16 kiB - 49 ops (0.36%)                                                                 │\n",
       "│ \u001b[36m \u001b[0m\u001b[36mWrite Requests \u001b[0m\u001b[36m \u001b[0m 4 kiB-64 kiB - 112,353 ops                                                                    │\n",
       "│ \u001b[36m                 \u001b[0m ├── <4 kiB - 1,945 ops (1.73%)                                                                │\n",
       "│ \u001b[36m                 \u001b[0m ├── 4-16 kiB - 107,192 ops (95.41%)                                                           │\n",
       "│ \u001b[36m                 \u001b[0m └── 16-64 kiB - 3,216 ops (2.86%)                                                             │\n",
       "│ \u001b[36m \u001b[0m\u001b[36mNodes          \u001b[0m\u001b[36m \u001b[0m 1 node                                                                                        │\n",
       "│ \u001b[36m \u001b[0m\u001b[36mApps           \u001b[0m\u001b[36m \u001b[0m 1 app                                                                                         │\n",
       "│ \u001b[36m \u001b[0m\u001b[36mProcesses/Ranks\u001b[0m\u001b[36m \u001b[0m 48 processes                                                                                  │\n",
       "│ \u001b[36m \u001b[0m\u001b[36mFiles          \u001b[0m\u001b[36m \u001b[0m 2,556 files                                                                                   │\n",
       "│ \u001b[36m                 \u001b[0m ├── Shared: 669 files (26.17%)                                                                │\n",
       "│ \u001b[36m                 \u001b[0m └── FPP: 1,887 files (73.83%)                                                                 │\n",
       "│ \u001b[36m \u001b[0m\u001b[36mTime Periods   \u001b[0m\u001b[36m \u001b[0m 126 time periods (Time Granularity: 1,000,000.0)                                              │\n",
       "│ \u001b[36m \u001b[0m\u001b[36mAccess Pattern \u001b[0m\u001b[36m \u001b[0m \u001b[1mSequential\u001b[0m: 125,842 ops (100.00%) - \u001b[1mRandom\u001b[0m: 0 ops (0.00%)                                     │\n",
       "│                                                                                                                 │\n",
       "╰─ \u001b[1mR\u001b[0m: Read - \u001b[1mW\u001b[0m: Write - \u001b[1mM\u001b[0m: Metadata  ─────────────────────────────────────────────────────────────────────────────╯\n",
       "                                                                                                                   \n",
       "╭────────────────────────────────────── 49 I/O Bottlenecks with 147 Reasons ──────────────────────────────────────╮\n",
       "│                                                                                                                 │\n",
       "│  Time View (2 bottlenecks with 6 reasons)                                                                       │\n",
       "│  ├── \u001b[38;5;160m[CR1] 1 process accesses 2 files within 1 time period (10) across 15 I/O operations and has an I/O time \u001b[0m   │\n",
       "│  │   \u001b[38;5;160mof 0.01 seconds which is 0.70% of overall I/O time of the workload.\u001b[0m                                        │\n",
       "│  │   ├── \u001b[38;5;160m[Excessive metadata access] Overall 75.64% (0.01 seconds) of I/O time is spent on metadata access, \u001b[0m    │\n",
       "│  │   │   \u001b[38;5;160mspecifically 18.43% (0.00 seconds) on the 'open' operation.\u001b[0m                                            │\n",
       "│  │   ├── \u001b[38;5;160m[Operation imbalance] 'write' operations are 33.33% (5 operations) of total I/O operations.\u001b[0m            │\n",
       "│  │   └── \u001b[38;5;160m[Size imbalance] 'write' size is 100.00% (11.45 kiB) of total I/O size.\u001b[0m                                │\n",
       "│  └── (1 more)                                                                                                   │\n",
       "│  File View (26 bottlenecks with 78 reasons)                                                                     │\n",
       "│  ├── \u001b[38;5;160m[CR3] 1 process accesses 1 file (30516) within 9 time periods across 61 I/O operations and has an I/O \u001b[0m     │\n",
       "│  │   \u001b[38;5;160mtime of 0.11 seconds which is 8.02% of overall I/O time of the workload.\u001b[0m                                   │\n",
       "│  │   ├── \u001b[38;5;160m[Excessive metadata access] Overall 99.20% (0.11 seconds) of I/O time is spent on metadata access, \u001b[0m    │\n",
       "│  │   │   \u001b[38;5;160mspecifically 48.42% (0.05 seconds) on the 'open' operation.\u001b[0m                                            │\n",
       "│  │   ├── \u001b[38;5;160m[Operation imbalance] 'write' operations are 27.87% (17 operations) of total I/O operations.\u001b[0m           │\n",
       "│  │   └── \u001b[38;5;160m[Size imbalance] 'write' size is 100.00% (6.39 kiB) of total I/O size.\u001b[0m                                 │\n",
       "│  └── (25 more)                                                                                                  │\n",
       "│  Process View (1 bottleneck with 3 reasons)                                                                     │\n",
       "│  └── \u001b[38;5;184m[MD29] 1 process (app#5692#3537780#3537780) accesses 671 files within 125 time periods across 6,985 I/O \u001b[0m   │\n",
       "│      \u001b[38;5;184moperations and has an I/O time of 1.35 seconds which is 100.00% of overall I/O time of the workload.\u001b[0m       │\n",
       "│      ├── \u001b[38;5;184m[Excessive metadata access] Overall 88.42% (1.19 seconds) of I/O time is spent on metadata access, \u001b[0m    │\n",
       "│      │   \u001b[38;5;184mspecifically 36.85% (0.50 seconds) on the 'open' operation.\u001b[0m                                            │\n",
       "│      ├── \u001b[38;5;184m[Operation imbalance] 'write' operations are 43.39% (3,031 operations) of total I/O operations.\u001b[0m        │\n",
       "│      └── \u001b[38;5;184m[Size imbalance] 'write' size is 99.73% (15.73 MiB) of total I/O size.\u001b[0m                                 │\n",
       "│  Time>File View (1 bottleneck with 3 reasons)                                                                   │\n",
       "│  └── \u001b[38;5;106m[LO30] 1 process accesses 1 file (45382) within 2 time periods across 18 I/O operations and has an I/O \u001b[0m    │\n",
       "│      \u001b[38;5;106mtime of 0.01 seconds which is 0.84% of overall I/O time of the workload.\u001b[0m                                   │\n",
       "│      ├── \u001b[38;5;106m[Excessive metadata access] Overall 67.28% (0.01 seconds) of I/O time is spent on metadata access, \u001b[0m    │\n",
       "│      │   \u001b[38;5;106mspecifically 13.64% (0.00 seconds) on the 'open' operation.\u001b[0m                                            │\n",
       "│      ├── \u001b[38;5;106m[Operation imbalance] 'write' operations are 44.44% (8 operations) of total I/O operations.\u001b[0m            │\n",
       "│      └── \u001b[38;5;106m[Size imbalance] 'write' size is 100.00% (21.79 kiB) of total I/O size.\u001b[0m                                │\n",
       "│  Time>Process View (1 bottleneck with 3 reasons)                                                                │\n",
       "│  └── \u001b[38;5;106m[LO31] 1 process (app#5692#3537780#3537780) accesses 2 files within 2 time periods across 30 I/O \u001b[0m          │\n",
       "│      \u001b[38;5;106moperations and has an I/O time of 0.02 seconds which is 1.26% of overall I/O time of the workload.\u001b[0m         │\n",
       "│      ├── \u001b[38;5;106m[Excessive metadata access] Overall 78.04% (0.01 seconds) of I/O time is spent on metadata access, \u001b[0m    │\n",
       "│      │   \u001b[38;5;106mspecifically 17.78% (0.00 seconds) on the 'open' operation.\u001b[0m                                            │\n",
       "│      ├── \u001b[38;5;106m[Operation imbalance] 'write' operations are 33.33% (10 operations) of total I/O operations.\u001b[0m           │\n",
       "│      └── \u001b[38;5;106m[Size imbalance] 'write' size is 100.00% (22.89 kiB) of total I/O size.\u001b[0m                                │\n",
       "│  File>Time View (1 bottleneck with 3 reasons)                                                                   │\n",
       "│  └── \u001b[38;5;160m[CR32] 1 process accesses 1 file within 1 time period (20) across 7 I/O operations and has an I/O time of\u001b[0m  │\n",
       "│      \u001b[38;5;160m0.01 seconds which is 1.06% of overall I/O time of the workload.\u001b[0m                                           │\n",
       "│      ├── \u001b[38;5;160m[Excessive metadata access] Overall 95.86% (0.01 seconds) of I/O time is spent on metadata access, \u001b[0m    │\n",
       "│      │   \u001b[38;5;160mspecifically 50.23% (0.01 seconds) on the 'open' operation.\u001b[0m                                            │\n",
       "│      ├── \u001b[38;5;160m[Operation imbalance] 'write' operations are 28.57% (2 operations) of total I/O operations.\u001b[0m            │\n",
       "│      └── \u001b[38;5;160m[Size imbalance] 'write' size is 100.00% (727.0 B) of total I/O size.\u001b[0m                                  │\n",
       "│  File>Process View (1 bottleneck with 3 reasons)                                                                │\n",
       "│  └── \u001b[38;5;184m[MD33] 1 process (app#5692#3537780#3537780) accesses 1 file within 9 time periods across 61 I/O \u001b[0m           │\n",
       "│      \u001b[38;5;184moperations and has an I/O time of 0.11 seconds which is 8.02% of overall I/O time of the workload.\u001b[0m         │\n",
       "│      ├── \u001b[38;5;184m[Excessive metadata access] Overall 99.20% (0.11 seconds) of I/O time is spent on metadata access, \u001b[0m    │\n",
       "│      │   \u001b[38;5;184mspecifically 48.42% (0.05 seconds) on the 'open' operation.\u001b[0m                                            │\n",
       "│      ├── \u001b[38;5;184m[Operation imbalance] 'write' operations are 27.87% (17 operations) of total I/O operations.\u001b[0m           │\n",
       "│      └── \u001b[38;5;184m[Size imbalance] 'write' size is 100.00% (6.39 kiB) of total I/O size.\u001b[0m                                 │\n",
       "│  Process>Time View (2 bottlenecks with 6 reasons)                                                               │\n",
       "│  ├── \u001b[38;5;172m[HI34] 1 process accesses 2 files within 1 time period (14) across 15 I/O operations and has an I/O time \u001b[0m  │\n",
       "│  │   \u001b[38;5;172mof 0.01 seconds which is 0.56% of overall I/O time of the workload.\u001b[0m                                        │\n",
       "│  │   ├── \u001b[38;5;172m[Excessive metadata access] Overall 81.05% (0.01 seconds) of I/O time is spent on metadata access, \u001b[0m    │\n",
       "│  │   │   \u001b[38;5;172mspecifically 16.95% (0.00 seconds) on the 'open' operation.\u001b[0m                                            │\n",
       "│  │   ├── \u001b[38;5;172m[Operation imbalance] 'write' operations are 33.33% (5 operations) of total I/O operations.\u001b[0m            │\n",
       "│  │   └── \u001b[38;5;172m[Size imbalance] 'write' size is 100.00% (11.45 kiB) of total I/O size.\u001b[0m                                │\n",
       "│  └── (1 more)                                                                                                   │\n",
       "│  Process>File View (7 bottlenecks with 21 reasons)                                                              │\n",
       "│  ├── \u001b[38;5;160m[CR36] 1 process accesses 1 file (30516) within 9 time periods across 61 I/O operations and has an I/O \u001b[0m    │\n",
       "│  │   \u001b[38;5;160mtime of 0.11 seconds which is 8.02% of overall I/O time of the workload.\u001b[0m                                   │\n",
       "│  │   ├── \u001b[38;5;160m[Excessive metadata access] Overall 99.20% (0.11 seconds) of I/O time is spent on metadata access, \u001b[0m    │\n",
       "│  │   │   \u001b[38;5;160mspecifically 48.42% (0.05 seconds) on the 'open' operation.\u001b[0m                                            │\n",
       "│  │   ├── \u001b[38;5;160m[Operation imbalance] 'write' operations are 27.87% (17 operations) of total I/O operations.\u001b[0m           │\n",
       "│  │   └── \u001b[38;5;160m[Size imbalance] 'write' size is 100.00% (6.39 kiB) of total I/O size.\u001b[0m                                 │\n",
       "│  └── (6 more)                                                                                                   │\n",
       "│  Time>File>Process View (1 bottleneck with 3 reasons)                                                           │\n",
       "│  └── \u001b[38;5;106m[LO43] 1 process (app#5692#3537780#3537780) accesses 1 file within 2 time periods across 18 I/O \u001b[0m           │\n",
       "│      \u001b[38;5;106moperations and has an I/O time of 0.01 seconds which is 0.84% of overall I/O time of the workload.\u001b[0m         │\n",
       "│      ├── \u001b[38;5;106m[Excessive metadata access] Overall 67.28% (0.01 seconds) of I/O time is spent on metadata access, \u001b[0m    │\n",
       "│      │   \u001b[38;5;106mspecifically 13.64% (0.00 seconds) on the 'open' operation.\u001b[0m                                            │\n",
       "│      ├── \u001b[38;5;106m[Operation imbalance] 'write' operations are 44.44% (8 operations) of total I/O operations.\u001b[0m            │\n",
       "│      └── \u001b[38;5;106m[Size imbalance] 'write' size is 100.00% (21.79 kiB) of total I/O size.\u001b[0m                                │\n",
       "│  Time>Process>File View (1 bottleneck with 3 reasons)                                                           │\n",
       "│  └── \u001b[38;5;106m[LO44] 1 process accesses 1 file (45382) within 2 time periods across 18 I/O operations and has an I/O \u001b[0m    │\n",
       "│      \u001b[38;5;106mtime of 0.01 seconds which is 0.84% of overall I/O time of the workload.\u001b[0m                                   │\n",
       "│      ├── \u001b[38;5;106m[Excessive metadata access] Overall 67.28% (0.01 seconds) of I/O time is spent on metadata access, \u001b[0m    │\n",
       "│      │   \u001b[38;5;106mspecifically 13.64% (0.00 seconds) on the 'open' operation.\u001b[0m                                            │\n",
       "│      ├── \u001b[38;5;106m[Operation imbalance] 'write' operations are 44.44% (8 operations) of total I/O operations.\u001b[0m            │\n",
       "│      └── \u001b[38;5;106m[Size imbalance] 'write' size is 100.00% (21.79 kiB) of total I/O size.\u001b[0m                                │\n",
       "│  File>Time>Process View (1 bottleneck with 3 reasons)                                                           │\n",
       "│  └── \u001b[38;5;106m[LO45] 1 process (app#5692#3537780#3537780) accesses 1 file within 1 time period across 7 I/O operations \u001b[0m  │\n",
       "│      \u001b[38;5;106mand has an I/O time of 0.01 seconds which is 1.06% of overall I/O time of the workload.\u001b[0m                    │\n",
       "│      ├── \u001b[38;5;106m[Excessive metadata access] Overall 95.86% (0.01 seconds) of I/O time is spent on metadata access, \u001b[0m    │\n",
       "│      │   \u001b[38;5;106mspecifically 50.23% (0.01 seconds) on the 'open' operation.\u001b[0m                                            │\n",
       "│      ├── \u001b[38;5;106m[Operation imbalance] 'write' operations are 28.57% (2 operations) of total I/O operations.\u001b[0m            │\n",
       "│      └── \u001b[38;5;106m[Size imbalance] 'write' size is 100.00% (727.0 B) of total I/O size.\u001b[0m                                  │\n",
       "│  File>Process>Time View (1 bottleneck with 3 reasons)                                                           │\n",
       "│  └── \u001b[38;5;184m[MD46] 1 process accesses 1 file within 1 time period (126) across 7 I/O operations and has an I/O time \u001b[0m   │\n",
       "│      \u001b[38;5;184mof 0.02 seconds which is 1.37% of overall I/O time of the workload.\u001b[0m                                        │\n",
       "│      ├── \u001b[38;5;184m[Excessive metadata access] Overall 99.81% (0.02 seconds) of I/O time is spent on metadata access, \u001b[0m    │\n",
       "│      │   \u001b[38;5;184mspecifically 35.18% (0.01 seconds) on the 'open' operation.\u001b[0m                                            │\n",
       "│      ├── \u001b[38;5;184m[Operation imbalance] 'write' operations are 28.57% (2 operations) of total I/O operations.\u001b[0m            │\n",
       "│      └── \u001b[38;5;184m[Size imbalance] 'write' size is 100.00% (727.0 B) of total I/O size.\u001b[0m                                  │\n",
       "│  Process>Time>File View (1 bottleneck with 3 reasons)                                                           │\n",
       "│  └── \u001b[38;5;106m[LO47] 1 process accesses 1 file (45382) within 2 time periods across 18 I/O operations and has an I/O \u001b[0m    │\n",
       "│      \u001b[38;5;106mtime of 0.01 seconds which is 0.84% of overall I/O time of the workload.\u001b[0m                                   │\n",
       "│      ├── \u001b[38;5;106m[Excessive metadata access] Overall 67.28% (0.01 seconds) of I/O time is spent on metadata access, \u001b[0m    │\n",
       "│      │   \u001b[38;5;106mspecifically 13.64% (0.00 seconds) on the 'open' operation.\u001b[0m                                            │\n",
       "│      ├── \u001b[38;5;106m[Operation imbalance] 'write' operations are 44.44% (8 operations) of total I/O operations.\u001b[0m            │\n",
       "│      └── \u001b[38;5;106m[Size imbalance] 'write' size is 100.00% (21.79 kiB) of total I/O size.\u001b[0m                                │\n",
       "│  Process>File>Time View (2 bottlenecks with 6 reasons)                                                          │\n",
       "│  ├── \u001b[38;5;166m[VH48] 1 process accesses 3 files within 1 time period (88) across 22 I/O operations and has an I/O time \u001b[0m  │\n",
       "│  │   \u001b[38;5;166mof 0.05 seconds which is 3.41% of overall I/O time of the workload.\u001b[0m                                        │\n",
       "│  │   ├── \u001b[38;5;166m[Excessive metadata access] Overall 99.63% (0.05 seconds) of I/O time is spent on metadata access, \u001b[0m    │\n",
       "│  │   │   \u001b[38;5;166mspecifically 65.23% (0.03 seconds) on the 'open' operation.\u001b[0m                                            │\n",
       "│  │   ├── \u001b[38;5;166m[Operation imbalance] 'write' operations are 31.82% (7 operations) of total I/O operations.\u001b[0m            │\n",
       "│  │   └── \u001b[38;5;166m[Size imbalance] 'write' size is 100.00% (11.63 kiB) of total I/O size.\u001b[0m                                │\n",
       "│  └── (1 more)                                                                                                   │\n",
       "│                                                                                                                 │\n",
       "╰─────────────────────────────────────────────────────────────────────────────────────────────────────────────────╯\n"
      ]
     },
     "metadata": {},
     "output_type": "display_data"
    },
    {
     "name": "stdout",
     "output_type": "stream",
     "text": [
      "time: 1.99 s (started: 2024-10-09 15:43:33 -07:00)\n"
     ]
    }
   ],
   "source": [
    "output.handle_result(metrics=cfg.metrics, result=result)"
   ]
  },
  {
   "cell_type": "code",
   "execution_count": null,
   "id": "feb7ea7e",
   "metadata": {
    "papermill": {
     "duration": 0.004603,
     "end_time": "2024-10-09T22:43:35.725702",
     "exception": false,
     "start_time": "2024-10-09T22:43:35.721099",
     "status": "completed"
    },
    "tags": []
   },
   "outputs": [],
   "source": []
  }
 ],
 "metadata": {
  "kernelspec": {
   "display_name": "venv-corona",
   "language": "python",
   "name": "python3"
  },
  "language_info": {
   "codemirror_mode": {
    "name": "ipython",
    "version": 3
   },
   "file_extension": ".py",
   "mimetype": "text/x-python",
   "name": "python",
   "nbconvert_exporter": "python",
   "pygments_lexer": "ipython3",
   "version": "3.9.12"
  },
  "papermill": {
   "default_parameters": {},
   "duration": 47.920356,
   "end_time": "2024-10-09T22:43:38.350908",
   "environment_variables": {},
   "exception": null,
   "input_path": "analysis.ipynb",
   "output_path": "analysis-dftracer-cm1-node-1.ipynb",
   "parameters": {
    "analyzer": "dftracer",
    "checkpoint": true,
    "checkpoint_dir": "/usr/workspace/iopp/wisio_logs/_checkpoints/dftracer-cm1-node-1",
    "logical_view_types": false,
    "output_max_bottlenecks": 1,
    "output_root_only": false,
    "percentile": 0.99,
    "run_dir": ".wisio/dftracer/cm1-node-1",
    "trace_path": "/p/lustre3/iopp/dftracer-traces-lfs/v1.0.5-develop/corona/cm1/APP/node-1/v1/COMPACT/*.pfw.gz"
   },
   "start_time": "2024-10-09T22:42:50.430552",
   "version": "2.6.0"
  }
 },
 "nbformat": 4,
 "nbformat_minor": 5
}
{
 "cells": [
  {
   "cell_type": "code",
   "execution_count": 1,
   "metadata": {},
   "outputs": [],
   "source": [
    "import sys\n",
    "sys.path.append(\"../\")\n"
   ]
  },
  {
   "cell_type": "code",
   "execution_count": 2,
   "metadata": {},
   "outputs": [],
   "source": [
    "import json\n",
    "import pandas as pd\n",
    "from IPython.display import JSON, display\n",
    "from jsondiff import diff\n"
   ]
  },
  {
   "cell_type": "code",
   "execution_count": 3,
   "metadata": {},
   "outputs": [],
   "source": [
    "log_dir = \"/p/vast1/iopp/recorder_app_logs/montage/nodes-32/_parquet\"\n"
   ]
  },
  {
   "cell_type": "code",
   "execution_count": 4,
   "metadata": {},
   "outputs": [
    {
     "name": "stdout",
     "output_type": "stream",
     "text": [
      "file_id.json\n",
      "proc_id_file_id.json\n",
      "proc_id_trange_file_id.json\n",
      "trange_file_id.json\n",
      "trange_proc_id_file_id.json\n"
     ]
    }
   ],
   "source": [
    "!ls $log_dir/bottlenecks | grep file_id.json"
   ]
  },
  {
   "cell_type": "code",
   "execution_count": 12,
   "metadata": {},
   "outputs": [],
   "source": [
    "with open(f\"{log_dir}/bottlenecks/proc_id_trange_file_id.json\") as json_file:\n",
    "    proc_id_trange_file_id = json.load(json_file)\n",
    "\n",
    "with open(f\"{log_dir}/bottlenecks/trange_proc_id_file_id.json\") as json_file:\n",
    "    trange_proc_id_file_id = json.load(json_file)\n"
   ]
  },
  {
   "cell_type": "code",
   "execution_count": 13,
   "metadata": {},
   "outputs": [
    {
     "data": {
      "text/plain": [
       "{}"
      ]
     },
     "execution_count": 13,
     "metadata": {},
     "output_type": "execute_result"
    }
   ],
   "source": [
    "diff(proc_id_trange_file_id, trange_proc_id_file_id)"
   ]
  },
  {
   "cell_type": "code",
   "execution_count": 7,
   "metadata": {},
   "outputs": [
    {
     "name": "stdout",
     "output_type": "stream",
     "text": [
      "file_id_proc_id.json\n",
      "file_id_trange_proc_id.json\n",
      "proc_id.json\n",
      "trange_file_id_proc_id.json\n",
      "trange_proc_id.json\n"
     ]
    }
   ],
   "source": [
    "!ls $log_dir/bottlenecks | grep proc_id.json"
   ]
  },
  {
   "cell_type": "code",
   "execution_count": 8,
   "metadata": {},
   "outputs": [],
   "source": [
    "with open(f\"{log_dir}/bottlenecks/file_id_trange_proc_id.json\") as json_file:\n",
    "    file_id_trange_proc_id = json.load(json_file)\n",
    "\n",
    "with open(f\"{log_dir}/bottlenecks/file_id_trange_proc_id.json\") as json_file:\n",
    "    file_id_trange_proc_id = json.load(json_file)\n"
   ]
  },
  {
   "cell_type": "code",
   "execution_count": 9,
   "metadata": {},
   "outputs": [
    {
     "data": {
      "text/plain": [
       "{}"
      ]
     },
     "execution_count": 9,
     "metadata": {},
     "output_type": "execute_result"
    }
   ],
   "source": [
    "diff(file_id_proc_id, file_id_trange_proc_id)"
   ]
  },
  {
   "cell_type": "code",
   "execution_count": 10,
   "metadata": {},
   "outputs": [],
   "source": [
    "with open(f\"{log_dir}/bottlenecks/proc_id.json\") as json_file:\n",
    "    proc_id = json.load(json_file)\n",
    "\n",
    "with open(f\"{log_dir}/bottlenecks/trange_file_id_proc_id.json\") as json_file:\n",
    "    trange_file_id_proc_id = json.load(json_file)\n"
   ]
  },
  {
   "cell_type": "code",
   "execution_count": 11,
   "metadata": {},
   "outputs": [
    {
     "data": {
      "text/plain": [
       "{'mViewer-lassen355-0': {'llc': {'duration_perr': 0.050715360790491104},\n",
       "  'trange': {'1': {'llc': {'duration_perr': 0.004645717795938253},\n",
       "    'file_id': {'/p/gpfs1/iopp/temp/montage/2854964/5/run/ngc3372.fits': {'llc': {'duration_perr': 0.004645717795938253}}}},\n",
       "   '2': {'llc': {'duration_perr': 0.0037889662198722363},\n",
       "    'file_id': {'/p/gpfs1/iopp/temp/montage/2854964/5/run/ngc3372.fits': {'llc': {'duration_perr': 0.0037889662198722363}}}},\n",
       "   '3': {'llc': {'duration_perr': 0.003809405490756035},\n",
       "    'file_id': {'/p/gpfs1/iopp/temp/montage/2854964/5/run/ngc3372.fits': {'llc': {'duration_perr': 0.003809405490756035}}}},\n",
       "   '4': {'llc': {'duration_perr': 0.003882818855345249},\n",
       "    'file_id': {'/p/gpfs1/iopp/temp/montage/2854964/5/run/ngc3372.fits': {'llc': {'duration_perr': 0.003882818855345249}}}},\n",
       "   '5': {'llc': {'duration_perr': 0.0036696544848382473},\n",
       "    'file_id': {'/p/gpfs1/iopp/temp/montage/2854964/5/run/ngc3372.fits': {'llc': {'duration_perr': 0.0036696544848382473}}}},\n",
       "   '6': {'llc': {'duration_perr': 0.003330581123009324},\n",
       "    'file_id': {'/p/gpfs1/iopp/temp/montage/2854964/5/run/ngc3372.fits': {'llc': {'duration_perr': 0.003330581123009324}}}},\n",
       "   '7': {'llc': {'duration_perr': 0.0031364865135401487},\n",
       "    'file_id': {'/p/gpfs1/iopp/temp/montage/2854964/5/run/ngc3372.fits': {'llc': {'duration_perr': 0.0031364865135401487}}}},\n",
       "   '8': {'llc': {'duration_perr': 0.0032693897373974323},\n",
       "    'file_id': {'/p/gpfs1/iopp/temp/montage/2854964/5/run/ngc3372.fits': {'llc': {'duration_perr': 0.0032693897373974323}}}},\n",
       "   '9': {'llc': {'duration_perr': 0.003206617897376418},\n",
       "    'file_id': {'/p/gpfs1/iopp/temp/montage/2854964/5/run/ngc3372.fits': {'llc': {'duration_perr': 0.003206617897376418}}}},\n",
       "   '10': {'llc': {'duration_perr': 0.0027937572449445724},\n",
       "    'file_id': {'/p/gpfs1/iopp/temp/montage/2854964/5/run/ngc3372.fits': {'llc': {'duration_perr': 0.0027937572449445724}}}},\n",
       "   '38': {'llc': {'duration_perr': 0.000462145108031109},\n",
       "    'file_id': {'/p/gpfs1/iopp/temp/montage/2854964/5/run/ngc3372.fits': {'llc': {'duration_perr': 0.000462145108031109}}}},\n",
       "   '39': {'llc': {'duration_perr': 0.0007147509604692459},\n",
       "    'file_id': {'/p/gpfs1/iopp/temp/montage/2854964/5/run/ngc3372.fits': {'llc': {'duration_perr': 0.0007147509604692459}}}},\n",
       "   '40': {'llc': {'duration_perr': 0.0006544707575812936},\n",
       "    'file_id': {'/p/gpfs1/iopp/temp/montage/2854964/5/run/ngc3372.fits': {'llc': {'duration_perr': 0.0006544707575812936}}}},\n",
       "   '41': {'llc': {'duration_perr': 0.0006161709898151457},\n",
       "    'file_id': {'/p/gpfs1/iopp/temp/montage/2854964/5/run/ngc3372.fits': {'llc': {'duration_perr': 0.0006161709898151457}}}},\n",
       "   '42': {'llc': {'duration_perr': 0.0006555731524713337},\n",
       "    'file_id': {'/p/gpfs1/iopp/temp/montage/2854964/5/run/ngc3372.fits': {'llc': {'duration_perr': 0.0006555731524713337}}}},\n",
       "   '43': {'llc': {'duration_perr': 0.0008143939194269478},\n",
       "    'file_id': {'/p/gpfs1/iopp/temp/montage/2854964/5/run/ngc3372.fits': {'llc': {'duration_perr': 0.0008143939194269478}}}},\n",
       "   '44': {'llc': {'duration_perr': 0.0007958190981298685},\n",
       "    'file_id': {'/p/gpfs1/iopp/temp/montage/2854964/5/run/ngc3372.fits': {'llc': {'duration_perr': 0.0007958190981298685}}}},\n",
       "   '45': {'llc': {'duration_perr': 0.000814095779787749},\n",
       "    'file_id': {'/p/gpfs1/iopp/temp/montage/2854964/5/run/ngc3372.fits': {'llc': {'duration_perr': 0.000814095779787749}}}},\n",
       "   '46': {'llc': {'duration_perr': 0.000816165586002171},\n",
       "    'file_id': {'/p/gpfs1/iopp/temp/montage/2854964/5/run/ngc3372.fits': {'llc': {'duration_perr': 0.000816165586002171}}}},\n",
       "   '47': {'llc': {'duration_perr': 0.0008164805476553738},\n",
       "    'file_id': {'/p/gpfs1/iopp/temp/montage/2854964/5/run/ngc3372.fits': {'llc': {'duration_perr': 0.0008164805476553738}}}},\n",
       "   '48': {'llc': {'duration_perr': 0.0008136261603794992},\n",
       "    'file_id': {'/p/gpfs1/iopp/temp/montage/2854964/5/run/ngc3372.fits': {'llc': {'duration_perr': 0.0008136261603794992}}}},\n",
       "   '49': {'llc': {'duration_perr': 0.0008147988701239228},\n",
       "    'file_id': {'/p/gpfs1/iopp/temp/montage/2854964/5/run/ngc3372.fits': {'llc': {'duration_perr': 0.0008147988701239228}}}},\n",
       "   '50': {'llc': {'duration_perr': 0.0008083082502707839},\n",
       "    'file_id': {'/p/gpfs1/iopp/temp/montage/2854964/5/run/ngc3372.fits': {'llc': {'duration_perr': 0.0008083082502707839}}}},\n",
       "   '51': {'llc': {'duration_perr': 0.0007475106394849718},\n",
       "    'file_id': {'/p/gpfs1/iopp/temp/montage/2854964/5/run/ngc3372.fits': {'llc': {'duration_perr': 0.0007475106394849718}}}},\n",
       "   '52': {'llc': {'duration_perr': 0.0007004029466770589},\n",
       "    'file_id': {'/p/gpfs1/iopp/temp/montage/2854964/5/run/ngc3372.fits': {'llc': {'duration_perr': 0.0007004029466770589}}}},\n",
       "   '53': {'llc': {'duration_perr': 0.0007522604428231716},\n",
       "    'file_id': {'/p/gpfs1/iopp/temp/montage/2854964/5/run/ngc3372.fits': {'llc': {'duration_perr': 0.0007522604428231716}}}},\n",
       "   '54': {'llc': {'duration_perr': 0.0008080045226961374},\n",
       "    'file_id': {'/p/gpfs1/iopp/temp/montage/2854964/5/run/ngc3372.fits': {'llc': {'duration_perr': 0.0008080045226961374}}}},\n",
       "   '55': {'llc': {'duration_perr': 0.0008179991273209453},\n",
       "    'file_id': {'/p/gpfs1/iopp/temp/montage/2854964/5/run/ngc3372.fits': {'llc': {'duration_perr': 0.0008179991273209453}}}},\n",
       "   '56': {'llc': {'duration_perr': 0.0007740608416497707},\n",
       "    'file_id': {'/p/gpfs1/iopp/temp/montage/2854964/5/run/ngc3372.fits': {'llc': {'duration_perr': 0.0007740608416497707}}}},\n",
       "   '57': {'llc': {'duration_perr': 0.0007720866706222296},\n",
       "    'file_id': {'/p/gpfs1/iopp/temp/montage/2854964/5/run/ngc3372.fits': {'llc': {'duration_perr': 0.0007720866706222296}}}},\n",
       "   '58': {'llc': {'duration_perr': 0.00014774053124710917},\n",
       "    'file_id': {'/p/gpfs1/iopp/temp/montage/2854964/5/run/ngc3372.fits': {'llc': {'duration_perr': 0.00014774053124710917}}}},\n",
       "   '176': {'llc': {'duration_perr': 6.510033563245088e-05},\n",
       "    'file_id': {'/p/gpfs1/iopp/temp/montage/2854964/5/run/ngc3372.png': {'llc': {'duration_perr': 6.39220088487491e-05}},\n",
       "     '/p/gpfs1/iopp/temp/montage/2854964/5/run/ngc3372.fits': {'llc': {'duration_perr': 1.1783246236518607e-06}}}}}},\n",
       " 'mViewer-lassen528-0': {'llc': {'duration_perr': 0.10083094239234924},\n",
       "  'trange': {'1': {'llc': {'duration_perr': 0.010016575455665588},\n",
       "    'file_id': {'/p/gpfs1/iopp/temp/montage/2854964/25/run/ngc3372.fits': {'llc': {'duration_perr': 0.010016575455665588}}}},\n",
       "   '2': {'llc': {'duration_perr': 0.009377669543027878},\n",
       "    'file_id': {'/p/gpfs1/iopp/temp/montage/2854964/25/run/ngc3372.fits': {'llc': {'duration_perr': 0.009377669543027878}}}},\n",
       "   '3': {'llc': {'duration_perr': 0.038303788751363754},\n",
       "    'file_id': {'/p/gpfs1/iopp/temp/montage/2854964/25/run/ngc3372.fits': {'llc': {'duration_perr': 0.038303788751363754}}}},\n",
       "   '4': {'llc': {'duration_perr': 0.006520770024508238},\n",
       "    'file_id': {'/p/gpfs1/iopp/temp/montage/2854964/25/run/ngc3372.fits': {'llc': {'duration_perr': 0.006520770024508238}}}},\n",
       "   '5': {'llc': {'duration_perr': 0.008984764106571674},\n",
       "    'file_id': {'/p/gpfs1/iopp/temp/montage/2854964/25/run/ngc3372.fits': {'llc': {'duration_perr': 0.008984764106571674}}}},\n",
       "   '6': {'llc': {'duration_perr': 0.008473018184304237},\n",
       "    'file_id': {'/p/gpfs1/iopp/temp/montage/2854964/25/run/ngc3372.fits': {'llc': {'duration_perr': 0.008473018184304237}}}},\n",
       "   '7': {'llc': {'duration_perr': 0.0012778270756825805},\n",
       "    'file_id': {'/p/gpfs1/iopp/temp/montage/2854964/25/run/ngc3372.fits': {'llc': {'duration_perr': 0.0012778270756825805}}}},\n",
       "   '15': {'llc': {'duration_perr': 0.0010988932335749269},\n",
       "    'file_id': {'/p/gpfs1/iopp/temp/montage/2854964/25/run/ngc3372.fits': {'llc': {'duration_perr': 0.0010988932335749269}}}},\n",
       "   '16': {'llc': {'duration_perr': 0.0026497370563447475},\n",
       "    'file_id': {'/p/gpfs1/iopp/temp/montage/2854964/25/run/ngc3372.fits': {'llc': {'duration_perr': 0.0026497370563447475}}}},\n",
       "   '17': {'llc': {'duration_perr': 0.0026936361100524664},\n",
       "    'file_id': {'/p/gpfs1/iopp/temp/montage/2854964/25/run/ngc3372.fits': {'llc': {'duration_perr': 0.0026936361100524664}}}},\n",
       "   '18': {'llc': {'duration_perr': 0.0020892482716590166},\n",
       "    'file_id': {'/p/gpfs1/iopp/temp/montage/2854964/25/run/ngc3372.fits': {'llc': {'duration_perr': 0.0020892482716590166}}}},\n",
       "   '19': {'llc': {'duration_perr': 0.0017423485405743122},\n",
       "    'file_id': {'/p/gpfs1/iopp/temp/montage/2854964/25/run/ngc3372.fits': {'llc': {'duration_perr': 0.0017423485405743122}}}},\n",
       "   '20': {'llc': {'duration_perr': 0.002806555712595582},\n",
       "    'file_id': {'/p/gpfs1/iopp/temp/montage/2854964/25/run/ngc3372.fits': {'llc': {'duration_perr': 0.002806555712595582}}}},\n",
       "   '21': {'llc': {'duration_perr': 0.002785860560834408},\n",
       "    'file_id': {'/p/gpfs1/iopp/temp/montage/2854964/25/run/ngc3372.fits': {'llc': {'duration_perr': 0.002785860560834408}}}},\n",
       "   '22': {'llc': {'duration_perr': 0.0019289792980998755},\n",
       "    'file_id': {'/p/gpfs1/iopp/temp/montage/2854964/25/run/ngc3372.fits': {'llc': {'duration_perr': 0.0019289792980998755}}}},\n",
       "   '58': {'llc': {'duration_perr': 8.127346518449485e-05},\n",
       "    'file_id': {'/p/gpfs1/iopp/temp/montage/2854964/25/run/ngc3372.png': {'llc': {'duration_perr': 8.045510912779719e-05}},\n",
       "     '/p/gpfs1/iopp/temp/montage/2854964/25/run/ngc3372.fits': {'llc': {'duration_perr': 8.183591262422851e-07}}}}}}}"
      ]
     },
     "execution_count": 11,
     "metadata": {},
     "output_type": "execute_result"
    }
   ],
   "source": [
    "diff(proc_id, trange_file_id_proc_id)"
   ]
  },
  {
   "cell_type": "code",
   "execution_count": null,
   "metadata": {},
   "outputs": [],
   "source": []
  }
 ],
 "metadata": {
  "kernelspec": {
   "display_name": "venv-quartz",
   "language": "python",
   "name": "python3"
  },
  "language_info": {
   "codemirror_mode": {
    "name": "ipython",
    "version": 3
   },
   "file_extension": ".py",
   "mimetype": "text/x-python",
   "name": "python",
   "nbconvert_exporter": "python",
   "pygments_lexer": "ipython3",
   "version": "3.7.2"
  },
  "orig_nbformat": 4
 },
 "nbformat": 4,
 "nbformat_minor": 2
}

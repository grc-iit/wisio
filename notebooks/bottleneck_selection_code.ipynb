{
 "cells": [
  {
   "cell_type": "code",
   "execution_count": 1,
   "id": "9fb0c1d8-eb53-4f32-a9e8-f95094cb52dc",
   "metadata": {},
   "outputs": [],
   "source": [
    "import pandas as pd"
   ]
  },
  {
   "cell_type": "code",
   "execution_count": 28,
   "id": "d7bfd097-6d77-492c-91d8-20c5835f4273",
   "metadata": {},
   "outputs": [
    {
     "name": "stdout",
     "output_type": "stream",
     "text": [
      "    trange  proc_id  file_id     val\n",
      "0        1        1        1  1000.0\n",
      "1        1        1        2  1000.0\n",
      "2        1        2        1  2300.0\n",
      "3        1        2        2  1500.0\n",
      "4        2        1        1  1000.0\n",
      "5        2        1        2  1000.0\n",
      "6        2        2        1  2300.0\n",
      "7        2        2        2  1500.0\n",
      "8        3        1        1  1000.0\n",
      "9        3        1        2  1000.0\n",
      "10       3        2        1  2300.0\n",
      "11       3        2        2  1500.0\n"
     ]
    }
   ],
   "source": [
    "technologies = [\n",
    "            (1, 1,1,1000.0),\n",
    "            (1, 1,2,1000.0),\n",
    "            (1,2,1,2300.0),\n",
    "            (1,2,2,1500.0),\n",
    "            (2, 1,1,1000.0),\n",
    "            (2, 1,2,1000.0),\n",
    "            (2,2,1,2300.0),\n",
    "            (2,2,2,1500.0),\n",
    "            (3, 1,1,1000.0),\n",
    "            (3, 1,2,1000.0),\n",
    "            (3,2,1,2300.0),\n",
    "            (3,2,2,1500.0)\n",
    "            ]\n",
    "df = pd.DataFrame(technologies,columns = ['trange','proc_id','file_id','val'])\n",
    "print(df)"
   ]
  },
  {
   "cell_type": "code",
   "execution_count": 57,
   "id": "55ee675f-852d-46f9-b80a-4b8145b145d0",
   "metadata": {},
   "outputs": [],
   "source": [
    "all_grp = df.groupby(['trange', 'proc_id','file_id']).first()\n",
    "slg = df.groupby(['trange', 'proc_id']).agg({'val':sum})\n",
    "hlg = slg.groupby(['trange']).max()"
   ]
  },
  {
   "cell_type": "code",
   "execution_count": 58,
   "id": "c3d0e790-748f-4cfc-9a00-3a3d82cbd0ac",
   "metadata": {},
   "outputs": [
    {
     "data": {
      "text/plain": [
       "{'val': 1000.0}"
      ]
     },
     "execution_count": 58,
     "metadata": {},
     "output_type": "execute_result"
    }
   ],
   "source": [
    "all_grp.loc[(1,1,1)].to_dict()"
   ]
  },
  {
   "cell_type": "code",
   "execution_count": 59,
   "id": "4cddb227-38de-49eb-b240-1280a3c98ea6",
   "metadata": {},
   "outputs": [
    {
     "data": {
      "text/plain": [
       "{'val': 3800.0}"
      ]
     },
     "execution_count": 59,
     "metadata": {},
     "output_type": "execute_result"
    }
   ],
   "source": [
    "hlg.loc[(1,)].to_dict()"
   ]
  },
  {
   "cell_type": "code",
   "execution_count": 61,
   "id": "4bbefac4-a73d-4ebe-a7a8-5731de59aa84",
   "metadata": {},
   "outputs": [
    {
     "data": {
      "text/plain": [
       "Int64Index([1, 2], dtype='int64', name='proc_id')"
      ]
     },
     "execution_count": 61,
     "metadata": {},
     "output_type": "execute_result"
    }
   ],
   "source": [
    "selected_trange_df = all_grp.loc[(1,)]\n",
    "selected_trange_df.index.get_level_values(0).unique()"
   ]
  },
  {
   "cell_type": "code",
   "execution_count": 51,
   "id": "2151fdce-3482-413a-8f53-10e33e6cfd0b",
   "metadata": {},
   "outputs": [
    {
     "data": {
      "text/plain": [
       "array([1, 2, 3])"
      ]
     },
     "execution_count": 51,
     "metadata": {},
     "output_type": "execute_result"
    }
   ],
   "source": [
    "trange_values = df['trange'].unique()\n",
    "trange_values"
   ]
  },
  {
   "cell_type": "code",
   "execution_count": 62,
   "id": "1005dbe6-24db-430f-992e-c8c8452e7064",
   "metadata": {},
   "outputs": [
    {
     "data": {
      "text/plain": [
       "{1: {'procs': {1: {'files': {1: {'llc': {'val': 1000.0}},\n",
       "     2: {'llc': {'val': 1000.0}}},\n",
       "    'llc': {'val': 2000.0}},\n",
       "   2: {'files': {1: {'llc': {'val': 2300.0}}, 2: {'llc': {'val': 1500.0}}},\n",
       "    'llc': {'val': 3800.0}}},\n",
       "  'llc': {'val': 3800.0}},\n",
       " 2: {'procs': {1: {'files': {1: {'llc': {'val': 1000.0}},\n",
       "     2: {'llc': {'val': 1000.0}}},\n",
       "    'llc': {'val': 2000.0}},\n",
       "   2: {'files': {1: {'llc': {'val': 2300.0}}, 2: {'llc': {'val': 1500.0}}},\n",
       "    'llc': {'val': 3800.0}}},\n",
       "  'llc': {'val': 3800.0}},\n",
       " 3: {'procs': {1: {'files': {1: {'llc': {'val': 1000.0}},\n",
       "     2: {'llc': {'val': 1000.0}}},\n",
       "    'llc': {'val': 2000.0}},\n",
       "   2: {'files': {1: {'llc': {'val': 2300.0}}, 2: {'llc': {'val': 1500.0}}},\n",
       "    'llc': {'val': 3800.0}}},\n",
       "  'llc': {'val': 3800.0}}}"
      ]
     },
     "execution_count": 62,
     "metadata": {},
     "output_type": "execute_result"
    }
   ],
   "source": [
    "final_d = {}\n",
    "for trange in trange_values:\n",
    "    llc = hlg.loc[(trange,)].to_dict()\n",
    "    final_d[trange] = {'procs':{}, 'llc':llc}\n",
    "    selected_trange_df = all_grp.loc[(trange,)]\n",
    "    proc_values = selected_trange_df.index.get_level_values(0).unique()\n",
    "    for proc_value in proc_values:\n",
    "        llc = slg.loc[(trange,proc_value)].to_dict()\n",
    "        final_d[trange]['procs'][proc_value] = {'files':{}, 'llc':llc}\n",
    "        selected_proc_df = selected_trange_df.loc[(proc_value,)]\n",
    "        file_values = selected_proc_df.index.get_level_values(0).unique()\n",
    "        for file_value in file_values:\n",
    "            llc = all_grp.loc[(trange,proc_value,file_value)].to_dict()\n",
    "            final_d[trange]['procs'][proc_value]['files'][file_value] = {'llc':llc}\n",
    "final_d           "
   ]
  },
  {
   "cell_type": "code",
   "execution_count": null,
   "id": "195a1ff6-4fdb-4688-a507-aa1e4d7b8794",
   "metadata": {},
   "outputs": [],
   "source": []
  }
 ],
 "metadata": {
  "kernelspec": {
   "display_name": "Python 3 (ipykernel)",
   "language": "python",
   "name": "python3"
  },
  "language_info": {
   "codemirror_mode": {
    "name": "ipython",
    "version": 3
   },
   "file_extension": ".py",
   "mimetype": "text/x-python",
   "name": "python",
   "nbconvert_exporter": "python",
   "pygments_lexer": "ipython3",
   "version": "3.9.7"
  },
  "widgets": {
   "application/vnd.jupyter.widget-state+json": {
    "state": {},
    "version_major": 2,
    "version_minor": 0
   }
  }
 },
 "nbformat": 4,
 "nbformat_minor": 5
}

{
 "cells": [
  {
   "cell_type": "code",
   "execution_count": 1,
   "id": "9fb0c1d8-eb53-4f32-a9e8-f95094cb52dc",
   "metadata": {},
   "outputs": [],
   "source": [
    "import pandas as pd"
   ]
  },
  {
   "cell_type": "code",
   "execution_count": 28,
   "id": "d7bfd097-6d77-492c-91d8-20c5835f4273",
   "metadata": {},
   "outputs": [
    {
     "name": "stdout",
     "output_type": "stream",
     "text": [
      "    trange  proc_id  file_id     val\n",
      "0        1        1        1  1000.0\n",
      "1        1        1        2  1000.0\n",
      "2        1        2        1  2300.0\n",
      "3        1        2        2  1500.0\n",
      "4        2        1        1  1000.0\n",
      "5        2        1        2  1000.0\n",
      "6        2        2        1  2300.0\n",
      "7        2        2        2  1500.0\n",
      "8        3        1        1  1000.0\n",
      "9        3        1        2  1000.0\n",
      "10       3        2        1  2300.0\n",
      "11       3        2        2  1500.0\n"
     ]
    }
   ],
   "source": [
    "technologies = [\n",
    "            (1, 1,1,1000.0),\n",
    "            (1, 1,2,1000.0),\n",
    "            (1,2,1,2300.0),\n",
    "            (1,2,2,1500.0),\n",
    "            (2, 1,1,1000.0),\n",
    "            (2, 1,2,1000.0),\n",
    "            (2,2,1,2300.0),\n",
    "            (2,2,2,1500.0),\n",
    "            (3, 1,1,1000.0),\n",
    "            (3, 1,2,1000.0),\n",
    "            (3,2,1,2300.0),\n",
    "            (3,2,2,1500.0)\n",
    "            ]\n",
    "df = pd.DataFrame(technologies,columns = ['trange','proc_id','file_id','val'])\n",
    "print(df)"
   ]
  },
  {
   "cell_type": "code",
   "execution_count": 70,
   "id": "752e0e5f-8b96-41d4-ba33-c3d71a74ec3f",
   "metadata": {},
   "outputs": [],
   "source": [
    "order=['trange', 'proc_id', 'file_id']\n",
    "order=['file_id', 'proc_id', 'trange']\n",
    "order=['proc_id', 'trange', 'file_id']"
   ]
  },
  {
   "cell_type": "code",
   "execution_count": 77,
   "id": "55ee675f-852d-46f9-b80a-4b8145b145d0",
   "metadata": {},
   "outputs": [],
   "source": [
    "def get_dict(df, order):\n",
    "    all_grp = df.groupby(order).first()\n",
    "    slg = df.groupby(order[:2]).agg({'val':sum})\n",
    "    hlg = slg.groupby(order[0]).max()\n",
    "    final_d = {}\n",
    "    hl_values = df[order[0]].unique()\n",
    "    for hl in hl_values:\n",
    "        llc = hlg.loc[(hl,)].to_dict()\n",
    "        final_d[hl] = {order[1]:{}, 'llc':llc}\n",
    "        selected_hl_df = all_grp.loc[(hl,)]\n",
    "        sl_values = selected_hl_df.index.get_level_values(0).unique()\n",
    "        for sl in sl_values:\n",
    "            llc = slg.loc[(hl,sl)].to_dict()\n",
    "            final_d[hl][order[1]][sl] = {order[2]:{}, 'llc':llc}\n",
    "            selected_all_df = selected_hl_df.loc[(sl,)]\n",
    "            all_values = selected_all_df.index.get_level_values(0).unique()\n",
    "            for all_value in all_values:\n",
    "                llc = all_grp.loc[(hl,sl,all_value)].to_dict()\n",
    "                final_d[hl][order[1]][sl][order[2]][all_value] = {'llc':llc}\n",
    "    return final_d"
   ]
  },
  {
   "cell_type": "code",
   "execution_count": 78,
   "id": "9c2d037f-d2f3-46bb-916f-3c895c838c36",
   "metadata": {
    "collapsed": true,
    "jupyter": {
     "outputs_hidden": true
    },
    "tags": []
   },
   "outputs": [
    {
     "data": {
      "text/plain": [
       "{1: {'proc_id': {1: {'file_id': {1: {'llc': {'val': 1000.0}},\n",
       "     2: {'llc': {'val': 1000.0}}},\n",
       "    'llc': {'val': 2000.0}},\n",
       "   2: {'file_id': {1: {'llc': {'val': 2300.0}}, 2: {'llc': {'val': 1500.0}}},\n",
       "    'llc': {'val': 3800.0}}},\n",
       "  'llc': {'val': 3800.0}},\n",
       " 2: {'proc_id': {1: {'file_id': {1: {'llc': {'val': 1000.0}},\n",
       "     2: {'llc': {'val': 1000.0}}},\n",
       "    'llc': {'val': 2000.0}},\n",
       "   2: {'file_id': {1: {'llc': {'val': 2300.0}}, 2: {'llc': {'val': 1500.0}}},\n",
       "    'llc': {'val': 3800.0}}},\n",
       "  'llc': {'val': 3800.0}},\n",
       " 3: {'proc_id': {1: {'file_id': {1: {'llc': {'val': 1000.0}},\n",
       "     2: {'llc': {'val': 1000.0}}},\n",
       "    'llc': {'val': 2000.0}},\n",
       "   2: {'file_id': {1: {'llc': {'val': 2300.0}}, 2: {'llc': {'val': 1500.0}}},\n",
       "    'llc': {'val': 3800.0}}},\n",
       "  'llc': {'val': 3800.0}}}"
      ]
     },
     "execution_count": 78,
     "metadata": {},
     "output_type": "execute_result"
    }
   ],
   "source": [
    "final_trange = get_dict(df, ['trange', 'proc_id', 'file_id'])\n",
    "final_trange"
   ]
  },
  {
   "cell_type": "code",
   "execution_count": 79,
   "id": "c3d0e790-748f-4cfc-9a00-3a3d82cbd0ac",
   "metadata": {},
   "outputs": [
    {
     "data": {
      "text/plain": [
       "{1: {'proc_id': {1: {'trange': {1: {'llc': {'val': 1000.0}},\n",
       "     2: {'llc': {'val': 1000.0}},\n",
       "     3: {'llc': {'val': 1000.0}}},\n",
       "    'llc': {'val': 3000.0}},\n",
       "   2: {'trange': {1: {'llc': {'val': 2300.0}},\n",
       "     2: {'llc': {'val': 2300.0}},\n",
       "     3: {'llc': {'val': 2300.0}}},\n",
       "    'llc': {'val': 6900.0}}},\n",
       "  'llc': {'val': 6900.0}},\n",
       " 2: {'proc_id': {1: {'trange': {1: {'llc': {'val': 1000.0}},\n",
       "     2: {'llc': {'val': 1000.0}},\n",
       "     3: {'llc': {'val': 1000.0}}},\n",
       "    'llc': {'val': 3000.0}},\n",
       "   2: {'trange': {1: {'llc': {'val': 1500.0}},\n",
       "     2: {'llc': {'val': 1500.0}},\n",
       "     3: {'llc': {'val': 1500.0}}},\n",
       "    'llc': {'val': 4500.0}}},\n",
       "  'llc': {'val': 4500.0}}}"
      ]
     },
     "execution_count": 79,
     "metadata": {},
     "output_type": "execute_result"
    }
   ],
   "source": [
    "final_file = get_dict(df, ['file_id', 'proc_id', 'trange'])\n",
    "final_file"
   ]
  },
  {
   "cell_type": "code",
   "execution_count": 80,
   "id": "25207a60-f996-4f40-96e5-801f592f3ff7",
   "metadata": {},
   "outputs": [
    {
     "data": {
      "text/plain": [
       "{1: {'trange': {1: {'file_id': {1: {'llc': {'val': 1000.0}},\n",
       "     2: {'llc': {'val': 1000.0}}},\n",
       "    'llc': {'val': 2000.0}},\n",
       "   2: {'file_id': {1: {'llc': {'val': 1000.0}}, 2: {'llc': {'val': 1000.0}}},\n",
       "    'llc': {'val': 2000.0}},\n",
       "   3: {'file_id': {1: {'llc': {'val': 1000.0}}, 2: {'llc': {'val': 1000.0}}},\n",
       "    'llc': {'val': 2000.0}}},\n",
       "  'llc': {'val': 2000.0}},\n",
       " 2: {'trange': {1: {'file_id': {1: {'llc': {'val': 2300.0}},\n",
       "     2: {'llc': {'val': 1500.0}}},\n",
       "    'llc': {'val': 3800.0}},\n",
       "   2: {'file_id': {1: {'llc': {'val': 2300.0}}, 2: {'llc': {'val': 1500.0}}},\n",
       "    'llc': {'val': 3800.0}},\n",
       "   3: {'file_id': {1: {'llc': {'val': 2300.0}}, 2: {'llc': {'val': 1500.0}}},\n",
       "    'llc': {'val': 3800.0}}},\n",
       "  'llc': {'val': 3800.0}}}"
      ]
     },
     "execution_count": 80,
     "metadata": {},
     "output_type": "execute_result"
    }
   ],
   "source": [
    "final_proc = get_dict(df, ['proc_id', 'trange', 'file_id'])\n",
    "final_proc"
   ]
  },
  {
   "cell_type": "code",
   "execution_count": null,
   "id": "195a1ff6-4fdb-4688-a507-aa1e4d7b8794",
   "metadata": {},
   "outputs": [],
   "source": []
  }
 ],
 "metadata": {
  "kernelspec": {
   "display_name": "Python 3 (ipykernel)",
   "language": "python",
   "name": "python3"
  },
  "language_info": {
   "codemirror_mode": {
    "name": "ipython",
    "version": 3
   },
   "file_extension": ".py",
   "mimetype": "text/x-python",
   "name": "python",
   "nbconvert_exporter": "python",
   "pygments_lexer": "ipython3",
   "version": "3.9.7"
  },
  "widgets": {
   "application/vnd.jupyter.widget-state+json": {
    "state": {},
    "version_major": 2,
    "version_minor": 0
   }
  }
 },
 "nbformat": 4,
 "nbformat_minor": 5
}

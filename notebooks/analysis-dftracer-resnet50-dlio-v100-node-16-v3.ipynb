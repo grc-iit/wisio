{
 "cells": [
  {
   "cell_type": "code",
   "execution_count": 1,
   "id": "6835c857",
   "metadata": {
    "execution": {
     "iopub.execute_input": "2024-10-09T23:27:40.751335Z",
     "iopub.status.busy": "2024-10-09T23:27:40.750876Z",
     "iopub.status.idle": "2024-10-09T23:27:40.784780Z",
     "shell.execute_reply": "2024-10-09T23:27:40.784178Z"
    },
    "papermill": {
     "duration": 0.040649,
     "end_time": "2024-10-09T23:27:40.786160",
     "exception": false,
     "start_time": "2024-10-09T23:27:40.745511",
     "status": "completed"
    },
    "tags": []
   },
   "outputs": [
    {
     "name": "stdout",
     "output_type": "stream",
     "text": [
      "time: 178 µs (started: 2024-10-09 16:27:40 -07:00)\n"
     ]
    }
   ],
   "source": [
    "%load_ext autoreload\n",
    "%load_ext autotime"
   ]
  },
  {
   "cell_type": "code",
   "execution_count": 2,
   "id": "e2015a5a",
   "metadata": {
    "execution": {
     "iopub.execute_input": "2024-10-09T23:27:40.793699Z",
     "iopub.status.busy": "2024-10-09T23:27:40.793422Z",
     "iopub.status.idle": "2024-10-09T23:27:40.797475Z",
     "shell.execute_reply": "2024-10-09T23:27:40.796886Z"
    },
    "papermill": {
     "duration": 0.008997,
     "end_time": "2024-10-09T23:27:40.798769",
     "exception": false,
     "start_time": "2024-10-09T23:27:40.789772",
     "status": "completed"
    },
    "tags": []
   },
   "outputs": [
    {
     "name": "stdout",
     "output_type": "stream",
     "text": [
      "time: 541 µs (started: 2024-10-09 16:27:40 -07:00)\n"
     ]
    }
   ],
   "source": [
    "import os\n",
    "import sys\n",
    "import time\n",
    "import warnings\n",
    "\n",
    "# Add WisIO to the path\n",
    "sys.path.append(os.path.abspath(\"../\"))\n",
    "\n",
    "# Filter warnings\n",
    "warnings.filterwarnings('ignore')"
   ]
  },
  {
   "cell_type": "code",
   "execution_count": 3,
   "id": "a734351d",
   "metadata": {
    "execution": {
     "iopub.execute_input": "2024-10-09T23:27:40.806228Z",
     "iopub.status.busy": "2024-10-09T23:27:40.805744Z",
     "iopub.status.idle": "2024-10-09T23:27:40.810177Z",
     "shell.execute_reply": "2024-10-09T23:27:40.809550Z"
    },
    "papermill": {
     "duration": 0.009512,
     "end_time": "2024-10-09T23:27:40.811534",
     "exception": false,
     "start_time": "2024-10-09T23:27:40.802022",
     "status": "completed"
    },
    "tags": [
     "parameters",
     "parameters2"
    ]
   },
   "outputs": [
    {
     "name": "stdout",
     "output_type": "stream",
     "text": [
      "time: 758 µs (started: 2024-10-09 16:27:40 -07:00)\n"
     ]
    }
   ],
   "source": [
    "analyzer = \"dftracer\"\n",
    "checkpoint = True\n",
    "logical_view_types = False\n",
    "output_max_bottlenecks = 1\n",
    "output_root_only = False\n",
    "run_dir = f\".wisio/{analyzer}/{int(time.time())}\"\n",
    "bottleneck_dir = f\"{run_dir}/bottlenecks\"\n",
    "checkpoint_dir = f\"{run_dir}/checkpoints\"\n",
    "percentile = 0.95\n",
    "trace_path = \"/p/lustre3/iopp/dftracer-traces-lfs/v1.0.5-develop/corona/cm1/APP/node-1/v1/RAW/*.pfw.gz\""
   ]
  },
  {
   "cell_type": "code",
   "execution_count": 4,
   "id": "64b765f8",
   "metadata": {
    "execution": {
     "iopub.execute_input": "2024-10-09T23:27:40.819174Z",
     "iopub.status.busy": "2024-10-09T23:27:40.818731Z",
     "iopub.status.idle": "2024-10-09T23:27:40.822887Z",
     "shell.execute_reply": "2024-10-09T23:27:40.822290Z"
    },
    "papermill": {
     "duration": 0.009436,
     "end_time": "2024-10-09T23:27:40.824235",
     "exception": false,
     "start_time": "2024-10-09T23:27:40.814799",
     "status": "completed"
    },
    "tags": [
     "injected-parameters"
    ]
   },
   "outputs": [
    {
     "name": "stdout",
     "output_type": "stream",
     "text": [
      "time: 645 µs (started: 2024-10-09 16:27:40 -07:00)\n"
     ]
    }
   ],
   "source": [
    "# Parameters\n",
    "analyzer = \"dftracer\"\n",
    "checkpoint = True\n",
    "checkpoint_dir = \"/usr/workspace/iopp/wisio_logs/_checkpoints/dftracer-resnet50-dlio-v100-node-16-v3\"\n",
    "logical_view_types = False\n",
    "output_max_bottlenecks = 1\n",
    "output_root_only = False\n",
    "run_dir = \".wisio/dftracer/resnet50-dlio-v100-node-16-v3\"\n",
    "percentile = 0.99\n",
    "trace_path = \"/p/lustre3/iopp/dftracer-traces-lfs/v1.0.5-develop/corona/resnet50/dlio-v100/node-16/v3/COMPACT/*.pfw.gz\"\n"
   ]
  },
  {
   "cell_type": "code",
   "execution_count": 5,
   "id": "a27a8b8e",
   "metadata": {
    "execution": {
     "iopub.execute_input": "2024-10-09T23:27:40.832046Z",
     "iopub.status.busy": "2024-10-09T23:27:40.831689Z",
     "iopub.status.idle": "2024-10-09T23:27:47.194556Z",
     "shell.execute_reply": "2024-10-09T23:27:47.193725Z"
    },
    "papermill": {
     "duration": 6.368502,
     "end_time": "2024-10-09T23:27:47.196168",
     "exception": false,
     "start_time": "2024-10-09T23:27:40.827666",
     "status": "completed"
    },
    "tags": []
   },
   "outputs": [
    {
     "name": "stdout",
     "output_type": "stream",
     "text": [
      "time: 6.36 s (started: 2024-10-09 16:27:40 -07:00)\n"
     ]
    }
   ],
   "source": [
    "from distributed import Client\n",
    "from hydra import compose, initialize\n",
    "from hydra.core.hydra_config import HydraConfig\n",
    "from hydra.utils import instantiate\n",
    "from wisio.config import init_hydra_config_store\n",
    "from wisio.utils.file_utils import ensure_dir\n",
    "\n",
    "ensure_dir(run_dir)\n",
    "\n",
    "with initialize(version_base=None, config_path=None):\n",
    "    init_hydra_config_store()\n",
    "    cfg = compose(\n",
    "        config_name=\"config\",\n",
    "        overrides=[\n",
    "            f\"+analyzer={analyzer}\",\n",
    "            f\"analyzer.bottleneck_dir={bottleneck_dir}\",\n",
    "            f\"analyzer.checkpoint={checkpoint}\",\n",
    "            f\"analyzer.checkpoint_dir={checkpoint_dir}\",\n",
    "            f\"hydra.run.dir={run_dir}\",\n",
    "            f\"hydra.runtime.output_dir={run_dir}\",\n",
    "            f\"logical_view_types={logical_view_types}\",\n",
    "            f\"output.max_bottlenecks={output_max_bottlenecks}\",\n",
    "            f\"output.root_only={output_root_only}\",\n",
    "            f\"percentile={percentile}\",\n",
    "            f\"trace_path={trace_path}\",\n",
    "        ],\n",
    "        return_hydra_config=True,\n",
    "    )\n",
    "    HydraConfig.instance().set_config(cfg)\n",
    "    cluster = instantiate(cfg.cluster)\n",
    "    client = Client(cluster)\n",
    "    analyzer = instantiate(cfg.analyzer)\n",
    "    output = instantiate(cfg.output)"
   ]
  },
  {
   "cell_type": "code",
   "execution_count": 6,
   "id": "c3b9cfa4",
   "metadata": {
    "execution": {
     "iopub.execute_input": "2024-10-09T23:27:47.206132Z",
     "iopub.status.busy": "2024-10-09T23:27:47.205553Z",
     "iopub.status.idle": "2024-10-09T23:30:52.659004Z",
     "shell.execute_reply": "2024-10-09T23:30:52.658247Z"
    },
    "papermill": {
     "duration": 185.46359,
     "end_time": "2024-10-09T23:30:52.664357",
     "exception": false,
     "start_time": "2024-10-09T23:27:47.200767",
     "status": "completed"
    },
    "tags": []
   },
   "outputs": [
    {
     "name": "stdout",
     "output_type": "stream",
     "text": [
      "time: 3min 5s (started: 2024-10-09 16:27:47 -07:00)\n"
     ]
    }
   ],
   "source": [
    "result = analyzer.analyze_trace(\n",
    "    trace_path=cfg.trace_path,\n",
    "    # accuracy=cfg.accuracy,\n",
    "    exclude_bottlenecks=cfg.exclude_bottlenecks,\n",
    "    exclude_characteristics=cfg.exclude_characteristics,\n",
    "    logical_view_types=cfg.logical_view_types,\n",
    "    metrics=cfg.metrics,\n",
    "    percentile=cfg.percentile,\n",
    "    view_types=cfg.view_types,\n",
    ")"
   ]
  },
  {
   "cell_type": "code",
   "execution_count": 7,
   "id": "c4343ee6",
   "metadata": {
    "execution": {
     "iopub.execute_input": "2024-10-09T23:30:52.673827Z",
     "iopub.status.busy": "2024-10-09T23:30:52.673437Z",
     "iopub.status.idle": "2024-10-09T23:30:58.343138Z",
     "shell.execute_reply": "2024-10-09T23:30:58.342100Z"
    },
    "papermill": {
     "duration": 5.676375,
     "end_time": "2024-10-09T23:30:58.344742",
     "exception": false,
     "start_time": "2024-10-09T23:30:52.668367",
     "status": "completed"
    },
    "tags": []
   },
   "outputs": [
    {
     "data": {
      "text/html": [
       "<pre style=\"white-space:pre;overflow-x:auto;line-height:normal;font-family:Menlo,'DejaVu Sans Mono',consolas,'Courier New',monospace\">╭────────────────────────────────────────────── I/O Characteristics ──────────────────────────────────────────────╮\n",
       "│                                                                                                                 │\n",
       "│ <span style=\"color: #008080; text-decoration-color: #008080\"> Runtime         </span> 202.68 seconds                                                                                │\n",
       "│ <span style=\"color: #008080; text-decoration-color: #008080\"> I/O Time        </span> 2.56 seconds                                                                                  │\n",
       "│ <span style=\"color: #008080; text-decoration-color: #008080\">                 </span> ├── Read - 1.41 seconds (55.26%)                                                              │\n",
       "│ <span style=\"color: #008080; text-decoration-color: #008080\">                 </span> ├── Write - 0.00 seconds (0.08%)                                                              │\n",
       "│ <span style=\"color: #008080; text-decoration-color: #008080\">                 </span> └── Metadata - 2.33 seconds (90.89%)                                                          │\n",
       "│ <span style=\"color: #008080; text-decoration-color: #008080\"> I/O Operations  </span> 11,640,839 ops                                                                                │\n",
       "│ <span style=\"color: #008080; text-decoration-color: #008080\">                 </span> ├── Read - 3,214,719 ops (27.62%)                                                             │\n",
       "│ <span style=\"color: #008080; text-decoration-color: #008080\">                 </span> ├── Write - 4,022 ops (0.03%)                                                                 │\n",
       "│ <span style=\"color: #008080; text-decoration-color: #008080\">                 </span> └── Metadata - 8,386,770 ops (72.05%)                                                         │\n",
       "│ <span style=\"color: #008080; text-decoration-color: #008080\"> I/O Size        </span> 727.93 GiB                                                                                    │\n",
       "│ <span style=\"color: #008080; text-decoration-color: #008080\">                 </span> ├── Read - 727.93 GiB (100.00%)                                                               │\n",
       "│ <span style=\"color: #008080; text-decoration-color: #008080\">                 </span> └── Write - 179.65 kiB (0.00%)                                                                │\n",
       "│ <span style=\"color: #008080; text-decoration-color: #008080\"> Read Requests   </span> 4 kiB-256 kiB - 3,214,136 ops                                                                 │\n",
       "│ <span style=\"color: #008080; text-decoration-color: #008080\">                 </span> ├── &lt;4 kiB - 175,232 ops (5.45%)                                                              │\n",
       "│ <span style=\"color: #008080; text-decoration-color: #008080\">                 </span> ├── 4-16 kiB - 20,032 ops (0.62%)                                                             │\n",
       "│ <span style=\"color: #008080; text-decoration-color: #008080\">                 </span> ├── 16-64 kiB - 31,353 ops (0.98%)                                                            │\n",
       "│ <span style=\"color: #008080; text-decoration-color: #008080\">                 </span> └── 64-256 kiB - 2,987,519 ops (92.95%)                                                       │\n",
       "│ <span style=\"color: #008080; text-decoration-color: #008080\"> Write Requests  </span> 4 kiB-4 kiB - 4,022 ops                                                                       │\n",
       "│ <span style=\"color: #008080; text-decoration-color: #008080\">                 </span> └── &lt;4 kiB - 4,022 ops (100.00%)                                                              │\n",
       "│ <span style=\"color: #008080; text-decoration-color: #008080\"> Nodes           </span> 16 nodes                                                                                      │\n",
       "│ <span style=\"color: #008080; text-decoration-color: #008080\">                 </span> ├── 11194065546293973417 - 2.56 s (100.00%) - 45.50 GiB/10.56 kiB R/W (6.25/0.00%) - 727,549  │\n",
       "│ <span style=\"color: #008080; text-decoration-color: #008080\">                 </span> │   ops (6.25%)                                                                               │\n",
       "│ <span style=\"color: #008080; text-decoration-color: #008080\">                 </span> ├── 784840397337378243 - 2.54 s (99.38%) - 45.50 GiB/10.56 kiB R/W (6.25/0.00%) - 727,548     │\n",
       "│ <span style=\"color: #008080; text-decoration-color: #008080\">                 </span> │   ops (6.25%)                                                                               │\n",
       "│ <span style=\"color: #008080; text-decoration-color: #008080\">                 </span> ├── 13943161580101246997 - 2.52 s (98.25%) - 45.50 GiB/10.56 kiB R/W (6.25/0.00%) - 727,559   │\n",
       "│ <span style=\"color: #008080; text-decoration-color: #008080\">                 </span> │   ops (6.25%)                                                                               │\n",
       "│ <span style=\"color: #008080; text-decoration-color: #008080\">                 </span> ├── 12775585946864612109 - 2.49 s (97.46%) - 45.50 GiB/21.21 kiB R/W (6.25/0.00%) - 727,609   │\n",
       "│ <span style=\"color: #008080; text-decoration-color: #008080\">                 </span> │   ops (6.25%)                                                                               │\n",
       "│ <span style=\"color: #008080; text-decoration-color: #008080\">                 </span> ├── 17424505939907203644 - 2.46 s (96.29%) - 45.50 GiB/10.56 kiB R/W (6.25/0.00%) - 727,547   │\n",
       "│ <span style=\"color: #008080; text-decoration-color: #008080\">                 </span> │   ops (6.25%)                                                                               │\n",
       "│ <span style=\"color: #008080; text-decoration-color: #008080\">                 </span> ├── 3331529830307220231 - 2.46 s (96.17%) - 45.50 GiB/10.56 kiB R/W (6.25/0.00%) - 727,552    │\n",
       "│ <span style=\"color: #008080; text-decoration-color: #008080\">                 </span> │   ops (6.25%)                                                                               │\n",
       "│ <span style=\"color: #008080; text-decoration-color: #008080\">                 </span> ├── 3903101653980564509 - 2.46 s (96.05%) - 45.50 GiB/10.56 kiB R/W (6.25/0.00%) - 727,508    │\n",
       "│ <span style=\"color: #008080; text-decoration-color: #008080\">                 </span> │   ops (6.25%)                                                                               │\n",
       "│ <span style=\"color: #008080; text-decoration-color: #008080\">                 </span> ├── 16317731584986882421 - 2.42 s (94.62%) - 45.50 GiB/10.56 kiB R/W (6.25/0.00%) - 727,551   │\n",
       "│ <span style=\"color: #008080; text-decoration-color: #008080\">                 </span> │   ops (6.25%)                                                                               │\n",
       "│ <span style=\"color: #008080; text-decoration-color: #008080\">                 </span> ├── 11940681009529776706 - 2.42 s (94.38%) - 45.50 GiB/10.56 kiB R/W (6.25/0.00%) - 727,554   │\n",
       "│ <span style=\"color: #008080; text-decoration-color: #008080\">                 </span> │   ops (6.25%)                                                                               │\n",
       "│ <span style=\"color: #008080; text-decoration-color: #008080\">                 </span> ├── 9984750283406985853 - 2.41 s (94.09%) - 45.50 GiB/10.56 kiB R/W (6.25/0.00%) - 727,552    │\n",
       "│ <span style=\"color: #008080; text-decoration-color: #008080\">                 </span> │   ops (6.25%)                                                                               │\n",
       "│ <span style=\"color: #008080; text-decoration-color: #008080\">                 </span> ├── 706977058488264986 - 2.39 s (93.30%) - 45.50 GiB/10.56 kiB R/W (6.25/0.00%) - 727,549     │\n",
       "│ <span style=\"color: #008080; text-decoration-color: #008080\">                 </span> │   ops (6.25%)                                                                               │\n",
       "│ <span style=\"color: #008080; text-decoration-color: #008080\">                 </span> ├── 15304651522364908113 - 2.38 s (93.09%) - 45.50 GiB/10.56 kiB R/W (6.25/0.00%) - 727,551   │\n",
       "│ <span style=\"color: #008080; text-decoration-color: #008080\">                 </span> │   ops (6.25%)                                                                               │\n",
       "│ <span style=\"color: #008080; text-decoration-color: #008080\">                 </span> ├── 16718576285930604672 - 2.36 s (92.25%) - 45.50 GiB/10.56 kiB R/W (6.25/0.00%) - 727,548   │\n",
       "│ <span style=\"color: #008080; text-decoration-color: #008080\">                 </span> │   ops (6.25%)                                                                               │\n",
       "│ <span style=\"color: #008080; text-decoration-color: #008080\">                 </span> ├── 11048751769900308354 - 2.33 s (90.96%) - 45.50 GiB/10.56 kiB R/W (6.25/0.00%) - 727,565   │\n",
       "│ <span style=\"color: #008080; text-decoration-color: #008080\">                 </span> │   ops (6.25%)                                                                               │\n",
       "│ <span style=\"color: #008080; text-decoration-color: #008080\">                 </span> ├── 3206708581496198598 - 2.32 s (90.68%) - 45.50 GiB/10.56 kiB R/W (6.25/0.00%) - 727,549    │\n",
       "│ <span style=\"color: #008080; text-decoration-color: #008080\">                 </span> │   ops (6.25%)                                                                               │\n",
       "│ <span style=\"color: #008080; text-decoration-color: #008080\">                 </span> └── 3084974796030094918 - 2.28 s (89.11%) - 45.50 GiB/10.56 kiB R/W (6.25/0.00%) - 727,548    │\n",
       "│ <span style=\"color: #008080; text-decoration-color: #008080\">                 </span>     ops (6.25%)                                                                               │\n",
       "│ <span style=\"color: #008080; text-decoration-color: #008080\"> Apps            </span> 1 app                                                                                         │\n",
       "│ <span style=\"color: #008080; text-decoration-color: #008080\"> Processes/Ranks </span> 5,889 processes                                                                               │\n",
       "│ <span style=\"color: #008080; text-decoration-color: #008080\"> Files           </span> 6,871 files                                                                                   │\n",
       "│ <span style=\"color: #008080; text-decoration-color: #008080\">                 </span> ├── Shared: 5,973 files (86.93%)                                                              │\n",
       "│ <span style=\"color: #008080; text-decoration-color: #008080\">                 </span> └── FPP: 898 files (13.07%)                                                                   │\n",
       "│ <span style=\"color: #008080; text-decoration-color: #008080\"> Time Periods    </span> 178 time periods (Time Granularity: 1,000,000.0)                                              │\n",
       "│ <span style=\"color: #008080; text-decoration-color: #008080\"> Access Pattern  </span> <span style=\"font-weight: bold\">Sequential</span>: 3,218,741 ops (100.00%) - <span style=\"font-weight: bold\">Random</span>: 0 ops (0.00%)                                   │\n",
       "│                                                                                                                 │\n",
       "╰─ <span style=\"font-weight: bold\">R</span>: Read - <span style=\"font-weight: bold\">W</span>: Write - <span style=\"font-weight: bold\">M</span>: Metadata  ─────────────────────────────────────────────────────────────────────────────╯\n",
       "                                                                                                                   \n",
       "╭───────────────────────────────────── 164 I/O Bottlenecks with 593 Reasons ──────────────────────────────────────╮\n",
       "│                                                                                                                 │\n",
       "│  Time View (2 bottlenecks with 8 reasons)                                                                       │\n",
       "│  ├── <span style=\"color: #d70000; text-decoration-color: #d70000\">[CR1] 768 processes access 768 files within 1 time period (28) across 17,169 I/O operations and have an </span>   │\n",
       "│  │   <span style=\"color: #d70000; text-decoration-color: #d70000\">I/O time of 0.69 seconds which is 27.06% of overall I/O time of the workload.</span>                              │\n",
       "│  │   ├── <span style=\"color: #d70000; text-decoration-color: #d70000\">[Operation imbalance] 'read' operations are 100.00% (17,169 operations) of total I/O operations.</span>       │\n",
       "│  │   ├── <span style=\"color: #d70000; text-decoration-color: #d70000\">[Size imbalance] 'read' size is 100.00% (4.19 GiB) of total I/O size.</span>                                  │\n",
       "│  │   ├── <span style=\"color: #d70000; text-decoration-color: #d70000\">[Small reads] 'read' time is 100.00% (0.69 seconds) of I/O time.</span>                                       │\n",
       "│  │   └── <span style=\"color: #d70000; text-decoration-color: #d70000\">[Small reads] Average 'read's are 256.00 kiB, which is smaller than 1.00 MiB.</span>                          │\n",
       "│  └── (1 more)                                                                                                   │\n",
       "│  File View (69 bottlenecks with 276 reasons)                                                                    │\n",
       "│  ├── <span style=\"color: #d70000; text-decoration-color: #d70000\">[CR3] 5 processes access 1 file (14233967813435404288) within 32 time periods across 821 I/O operations </span>   │\n",
       "│  │   <span style=\"color: #d70000; text-decoration-color: #d70000\">and have an I/O time of 1.20 seconds which is 46.69% of overall I/O time of the workload.</span>                  │\n",
       "│  │   ├── <span style=\"color: #d70000; text-decoration-color: #d70000\">[Operation imbalance] 'read' operations are 99.15% (814 operations) of total I/O operations.</span>           │\n",
       "│  │   ├── <span style=\"color: #d70000; text-decoration-color: #d70000\">[Size imbalance] 'read' size is 100.00% (203.12 MiB) of total I/O size.</span>                                │\n",
       "│  │   ├── <span style=\"color: #d70000; text-decoration-color: #d70000\">[Small reads] 'read' time is 99.60% (1.19 seconds) of I/O time.</span>                                        │\n",
       "│  │   └── <span style=\"color: #d70000; text-decoration-color: #d70000\">[Small reads] Average 'read's are 253.34 kiB, which is smaller than 1.00 MiB.</span>                          │\n",
       "│  └── (68 more)                                                                                                  │\n",
       "│  Process View (59 bottlenecks with 177 reasons)                                                                 │\n",
       "│  ├── <span style=\"color: #d70000; text-decoration-color: #d70000\">[CR72] 1 process (app#13943161580101246997#814207#814633) accesses 1 file within 1 time period across 3 </span>   │\n",
       "│  │   <span style=\"color: #d70000; text-decoration-color: #d70000\">I/O operations and has an I/O time of 0.01 seconds which is 0.53% of overall I/O time of the workload.</span>     │\n",
       "│  │   ├── <span style=\"color: #d70000; text-decoration-color: #d70000\">[Excessive metadata access] Overall 91.57% (0.01 seconds) of I/O time is spent on metadata access, </span>    │\n",
       "│  │   │   <span style=\"color: #d70000; text-decoration-color: #d70000\">specifically 91.57% (0.01 seconds) on the 'open' operation.</span>                                            │\n",
       "│  │   ├── <span style=\"color: #d70000; text-decoration-color: #d70000\">[Operation imbalance] 'read' operations are 66.67% (2 operations) of total I/O operations.</span>             │\n",
       "│  │   └── <span style=\"color: #d70000; text-decoration-color: #d70000\">[Size imbalance] 'read' size is 100.00% (512.00 kiB) of total I/O size.</span>                                │\n",
       "│  └── (58 more)                                                                                                  │\n",
       "│  Time&gt;File View (11 bottlenecks with 44 reasons)                                                                │\n",
       "│  ├── <span style=\"color: #d75f00; text-decoration-color: #d75f00\">[VH131] 1 process accesses 1 file (17840405438622988288) within 1 time period across 19 I/O operations </span>    │\n",
       "│  │   <span style=\"color: #d75f00; text-decoration-color: #d75f00\">and has an I/O time of 0.69 seconds which is 27.06% of overall I/O time of the workload.</span>                   │\n",
       "│  │   ├── <span style=\"color: #d75f00; text-decoration-color: #d75f00\">[Operation imbalance] 'read' operations are 100.00% (19 operations) of total I/O operations.</span>           │\n",
       "│  │   ├── <span style=\"color: #d75f00; text-decoration-color: #d75f00\">[Size imbalance] 'read' size is 100.00% (4.75 MiB) of total I/O size.</span>                                  │\n",
       "│  │   ├── <span style=\"color: #d75f00; text-decoration-color: #d75f00\">[Small reads] 'read' time is 100.00% (0.69 seconds) of I/O time.</span>                                       │\n",
       "│  │   └── <span style=\"color: #d75f00; text-decoration-color: #d75f00\">[Small reads] Average 'read's are 256.00 kiB, which is smaller than 1.00 MiB.</span>                          │\n",
       "│  └── (10 more)                                                                                                  │\n",
       "│  Time&gt;Process View (11 bottlenecks with 44 reasons)                                                             │\n",
       "│  ├── <span style=\"color: #d75f00; text-decoration-color: #d75f00\">[VH142] 1 process (app#9984750283406985853#351971#352410) accesses 1 file within 1 time period across 19 </span>  │\n",
       "│  │   <span style=\"color: #d75f00; text-decoration-color: #d75f00\">I/O operations and has an I/O time of 0.69 seconds which is 27.06% of overall I/O time of the workload.</span>    │\n",
       "│  │   ├── <span style=\"color: #d75f00; text-decoration-color: #d75f00\">[Operation imbalance] 'read' operations are 100.00% (19 operations) of total I/O operations.</span>           │\n",
       "│  │   ├── <span style=\"color: #d75f00; text-decoration-color: #d75f00\">[Size imbalance] 'read' size is 100.00% (4.75 MiB) of total I/O size.</span>                                  │\n",
       "│  │   ├── <span style=\"color: #d75f00; text-decoration-color: #d75f00\">[Small reads] 'read' time is 100.00% (0.69 seconds) of I/O time.</span>                                       │\n",
       "│  │   └── <span style=\"color: #d75f00; text-decoration-color: #d75f00\">[Small reads] Average 'read's are 256.00 kiB, which is smaller than 1.00 MiB.</span>                          │\n",
       "│  └── (10 more)                                                                                                  │\n",
       "│  File&gt;Time View (1 bottleneck with 4 reasons)                                                                   │\n",
       "│  └── <span style=\"color: #d70000; text-decoration-color: #d70000\">[CR153] 2 processes access 2 files within 1 time period (49) across 144 I/O operations and have an I/O </span>    │\n",
       "│      <span style=\"color: #d70000; text-decoration-color: #d70000\">time of 0.58 seconds which is 22.53% of overall I/O time of the workload.</span>                                  │\n",
       "│      ├── <span style=\"color: #d70000; text-decoration-color: #d70000\">[Operation imbalance] 'read' operations are 100.00% (144 operations) of total I/O operations.</span>          │\n",
       "│      ├── <span style=\"color: #d70000; text-decoration-color: #d70000\">[Size imbalance] 'read' size is 100.00% (36.00 MiB) of total I/O size.</span>                                 │\n",
       "│      ├── <span style=\"color: #d70000; text-decoration-color: #d70000\">[Small reads] 'read' time is 100.00% (0.58 seconds) of I/O time.</span>                                       │\n",
       "│      └── <span style=\"color: #d70000; text-decoration-color: #d70000\">[Small reads] Average 'read's are 256.00 kiB, which is smaller than 1.00 MiB.</span>                          │\n",
       "│  File&gt;Process View (3 bottlenecks with 12 reasons)                                                              │\n",
       "│  ├── <span style=\"color: #d75f00; text-decoration-color: #d75f00\">[VH154] 1 process (app#706977058488264986#770884#771338) accesses 1 file within 7 time periods across 161</span>  │\n",
       "│  │   <span style=\"color: #d75f00; text-decoration-color: #d75f00\">I/O operations and has an I/O time of 0.79 seconds which is 30.79% of overall I/O time of the workload.</span>    │\n",
       "│  │   ├── <span style=\"color: #d75f00; text-decoration-color: #d75f00\">[Operation imbalance] 'read' operations are 99.38% (160 operations) of total I/O operations.</span>           │\n",
       "│  │   ├── <span style=\"color: #d75f00; text-decoration-color: #d75f00\">[Size imbalance] 'read' size is 100.00% (40.00 MiB) of total I/O size.</span>                                 │\n",
       "│  │   ├── <span style=\"color: #d75f00; text-decoration-color: #d75f00\">[Small reads] 'read' time is 99.88% (0.79 seconds) of I/O time.</span>                                        │\n",
       "│  │   └── <span style=\"color: #d75f00; text-decoration-color: #d75f00\">[Small reads] Average 'read's are 254.41 kiB, which is smaller than 1.00 MiB.</span>                          │\n",
       "│  └── (2 more)                                                                                                   │\n",
       "│  Process&gt;Time View (1 bottleneck with 3 reasons)                                                                │\n",
       "│  └── <span style=\"color: #87af00; text-decoration-color: #87af00\">[LO157] 24 processes access 24 files within 1 time period (98) across 72 I/O operations and have an I/O </span>   │\n",
       "│      <span style=\"color: #87af00; text-decoration-color: #87af00\">time of 0.01 seconds which is 0.49% of overall I/O time of the workload.</span>                                   │\n",
       "│      ├── <span style=\"color: #87af00; text-decoration-color: #87af00\">[Excessive metadata access] Overall 98.40% (0.01 seconds) of I/O time is spent on metadata access, </span>    │\n",
       "│      │   <span style=\"color: #87af00; text-decoration-color: #87af00\">specifically 98.40% (0.01 seconds) on the 'open' operation.</span>                                            │\n",
       "│      ├── <span style=\"color: #87af00; text-decoration-color: #87af00\">[Operation imbalance] 'read' operations are 66.67% (48 operations) of total I/O operations.</span>            │\n",
       "│      └── <span style=\"color: #87af00; text-decoration-color: #87af00\">[Size imbalance] 'read' size is 100.00% (12.00 MiB) of total I/O size.</span>                                 │\n",
       "│  Process&gt;File View (1 bottleneck with 3 reasons)                                                                │\n",
       "│  └── <span style=\"color: #d7d700; text-decoration-color: #d7d700\">[MD158] 1 process accesses 1 file (15629553152499742688) within 1 time period across 3 I/O operations and</span>  │\n",
       "│      <span style=\"color: #d7d700; text-decoration-color: #d7d700\">has an I/O time of 0.01 seconds which is 0.53% of overall I/O time of the workload.</span>                        │\n",
       "│      ├── <span style=\"color: #d7d700; text-decoration-color: #d7d700\">[Excessive metadata access] Overall 91.57% (0.01 seconds) of I/O time is spent on metadata access, </span>    │\n",
       "│      │   <span style=\"color: #d7d700; text-decoration-color: #d7d700\">specifically 91.57% (0.01 seconds) on the 'open' operation.</span>                                            │\n",
       "│      ├── <span style=\"color: #d7d700; text-decoration-color: #d7d700\">[Operation imbalance] 'read' operations are 66.67% (2 operations) of total I/O operations.</span>             │\n",
       "│      └── <span style=\"color: #d7d700; text-decoration-color: #d7d700\">[Size imbalance] 'read' size is 100.00% (512.00 kiB) of total I/O size.</span>                                │\n",
       "│  Time&gt;File&gt;Process View (1 bottleneck with 4 reasons)                                                           │\n",
       "│  └── <span style=\"color: #87af00; text-decoration-color: #87af00\">[LO159] 1 process (app#9984750283406985853#351971#352410) accesses 1 file within 1 time period across 19 </span>  │\n",
       "│      <span style=\"color: #87af00; text-decoration-color: #87af00\">I/O operations and has an I/O time of 0.69 seconds which is 27.06% of overall I/O time of the workload.</span>    │\n",
       "│      ├── <span style=\"color: #87af00; text-decoration-color: #87af00\">[Operation imbalance] 'read' operations are 100.00% (19 operations) of total I/O operations.</span>           │\n",
       "│      ├── <span style=\"color: #87af00; text-decoration-color: #87af00\">[Size imbalance] 'read' size is 100.00% (4.75 MiB) of total I/O size.</span>                                  │\n",
       "│      ├── <span style=\"color: #87af00; text-decoration-color: #87af00\">[Small reads] 'read' time is 100.00% (0.69 seconds) of I/O time.</span>                                       │\n",
       "│      └── <span style=\"color: #87af00; text-decoration-color: #87af00\">[Small reads] Average 'read's are 256.00 kiB, which is smaller than 1.00 MiB.</span>                          │\n",
       "│  Time&gt;Process&gt;File View (1 bottleneck with 4 reasons)                                                           │\n",
       "│  └── <span style=\"color: #87af00; text-decoration-color: #87af00\">[LO160] 1 process accesses 1 file (17840405438622988288) within 1 time period across 19 I/O operations </span>    │\n",
       "│      <span style=\"color: #87af00; text-decoration-color: #87af00\">and has an I/O time of 0.69 seconds which is 27.06% of overall I/O time of the workload.</span>                   │\n",
       "│      ├── <span style=\"color: #87af00; text-decoration-color: #87af00\">[Operation imbalance] 'read' operations are 100.00% (19 operations) of total I/O operations.</span>           │\n",
       "│      ├── <span style=\"color: #87af00; text-decoration-color: #87af00\">[Size imbalance] 'read' size is 100.00% (4.75 MiB) of total I/O size.</span>                                  │\n",
       "│      ├── <span style=\"color: #87af00; text-decoration-color: #87af00\">[Small reads] 'read' time is 100.00% (0.69 seconds) of I/O time.</span>                                       │\n",
       "│      └── <span style=\"color: #87af00; text-decoration-color: #87af00\">[Small reads] Average 'read's are 256.00 kiB, which is smaller than 1.00 MiB.</span>                          │\n",
       "│  File&gt;Time&gt;Process View (1 bottleneck with 4 reasons)                                                           │\n",
       "│  └── <span style=\"color: #d7d700; text-decoration-color: #d7d700\">[MD161] 1 process (app#16718576285930604672#414084#414495) accesses 1 file within 1 time period across 63</span>  │\n",
       "│      <span style=\"color: #d7d700; text-decoration-color: #d7d700\">I/O operations and has an I/O time of 0.58 seconds which is 22.53% of overall I/O time of the workload.</span>    │\n",
       "│      ├── <span style=\"color: #d7d700; text-decoration-color: #d7d700\">[Operation imbalance] 'read' operations are 100.00% (63 operations) of total I/O operations.</span>           │\n",
       "│      ├── <span style=\"color: #d7d700; text-decoration-color: #d7d700\">[Size imbalance] 'read' size is 100.00% (15.75 MiB) of total I/O size.</span>                                 │\n",
       "│      ├── <span style=\"color: #d7d700; text-decoration-color: #d7d700\">[Small reads] 'read' time is 100.00% (0.58 seconds) of I/O time.</span>                                       │\n",
       "│      └── <span style=\"color: #d7d700; text-decoration-color: #d7d700\">[Small reads] Average 'read's are 256.00 kiB, which is smaller than 1.00 MiB.</span>                          │\n",
       "│  File&gt;Process&gt;Time View (1 bottleneck with 4 reasons)                                                           │\n",
       "│  └── <span style=\"color: #d75f00; text-decoration-color: #d75f00\">[VH162] 3 processes access 3 files within 1 time period (28) across 62 I/O operations and have an I/O </span>     │\n",
       "│      <span style=\"color: #d75f00; text-decoration-color: #d75f00\">time of 0.68 seconds which is 26.75% of overall I/O time of the workload.</span>                                  │\n",
       "│      ├── <span style=\"color: #d75f00; text-decoration-color: #d75f00\">[Operation imbalance] 'read' operations are 100.00% (62 operations) of total I/O operations.</span>           │\n",
       "│      ├── <span style=\"color: #d75f00; text-decoration-color: #d75f00\">[Size imbalance] 'read' size is 100.00% (15.50 MiB) of total I/O size.</span>                                 │\n",
       "│      ├── <span style=\"color: #d75f00; text-decoration-color: #d75f00\">[Small reads] 'read' time is 100.00% (0.68 seconds) of I/O time.</span>                                       │\n",
       "│      └── <span style=\"color: #d75f00; text-decoration-color: #d75f00\">[Small reads] Average 'read's are 256.00 kiB, which is smaller than 1.00 MiB.</span>                          │\n",
       "│  Process&gt;Time&gt;File View (1 bottleneck with 3 reasons)                                                           │\n",
       "│  └── <span style=\"color: #87af00; text-decoration-color: #87af00\">[LO163] 1 process accesses 1 file (6553032042958797453) within 1 time period across 3 I/O operations and </span>  │\n",
       "│      <span style=\"color: #87af00; text-decoration-color: #87af00\">has an I/O time of 0.01 seconds which is 0.49% of overall I/O time of the workload.</span>                        │\n",
       "│      ├── <span style=\"color: #87af00; text-decoration-color: #87af00\">[Excessive metadata access] Overall 98.40% (0.01 seconds) of I/O time is spent on metadata access, </span>    │\n",
       "│      │   <span style=\"color: #87af00; text-decoration-color: #87af00\">specifically 98.40% (0.01 seconds) on the 'open' operation.</span>                                            │\n",
       "│      ├── <span style=\"color: #87af00; text-decoration-color: #87af00\">[Operation imbalance] 'read' operations are 66.67% (2 operations) of total I/O operations.</span>             │\n",
       "│      └── <span style=\"color: #87af00; text-decoration-color: #87af00\">[Size imbalance] 'read' size is 100.00% (512.00 kiB) of total I/O size.</span>                                │\n",
       "│  Process&gt;File&gt;Time View (1 bottleneck with 3 reasons)                                                           │\n",
       "│  └── <span style=\"color: #87af00; text-decoration-color: #87af00\">[LO164] 1 process accesses 1 file within 1 time period (57) across 3 I/O operations and has an I/O time </span>   │\n",
       "│      <span style=\"color: #87af00; text-decoration-color: #87af00\">of 0.01 seconds which is 0.53% of overall I/O time of the workload.</span>                                        │\n",
       "│      ├── <span style=\"color: #87af00; text-decoration-color: #87af00\">[Excessive metadata access] Overall 91.57% (0.01 seconds) of I/O time is spent on metadata access, </span>    │\n",
       "│      │   <span style=\"color: #87af00; text-decoration-color: #87af00\">specifically 91.57% (0.01 seconds) on the 'open' operation.</span>                                            │\n",
       "│      ├── <span style=\"color: #87af00; text-decoration-color: #87af00\">[Operation imbalance] 'read' operations are 66.67% (2 operations) of total I/O operations.</span>             │\n",
       "│      └── <span style=\"color: #87af00; text-decoration-color: #87af00\">[Size imbalance] 'read' size is 100.00% (512.00 kiB) of total I/O size.</span>                                │\n",
       "│                                                                                                                 │\n",
       "╰─────────────────────────────────────────────────────────────────────────────────────────────────────────────────╯\n",
       "</pre>\n"
      ],
      "text/plain": [
       "╭────────────────────────────────────────────── I/O Characteristics ──────────────────────────────────────────────╮\n",
       "│                                                                                                                 │\n",
       "│ \u001b[36m \u001b[0m\u001b[36mRuntime        \u001b[0m\u001b[36m \u001b[0m 202.68 seconds                                                                                │\n",
       "│ \u001b[36m \u001b[0m\u001b[36mI/O Time       \u001b[0m\u001b[36m \u001b[0m 2.56 seconds                                                                                  │\n",
       "│ \u001b[36m                 \u001b[0m ├── Read - 1.41 seconds (55.26%)                                                              │\n",
       "│ \u001b[36m                 \u001b[0m ├── Write - 0.00 seconds (0.08%)                                                              │\n",
       "│ \u001b[36m                 \u001b[0m └── Metadata - 2.33 seconds (90.89%)                                                          │\n",
       "│ \u001b[36m \u001b[0m\u001b[36mI/O Operations \u001b[0m\u001b[36m \u001b[0m 11,640,839 ops                                                                                │\n",
       "│ \u001b[36m                 \u001b[0m ├── Read - 3,214,719 ops (27.62%)                                                             │\n",
       "│ \u001b[36m                 \u001b[0m ├── Write - 4,022 ops (0.03%)                                                                 │\n",
       "│ \u001b[36m                 \u001b[0m └── Metadata - 8,386,770 ops (72.05%)                                                         │\n",
       "│ \u001b[36m \u001b[0m\u001b[36mI/O Size       \u001b[0m\u001b[36m \u001b[0m 727.93 GiB                                                                                    │\n",
       "│ \u001b[36m                 \u001b[0m ├── Read - 727.93 GiB (100.00%)                                                               │\n",
       "│ \u001b[36m                 \u001b[0m └── Write - 179.65 kiB (0.00%)                                                                │\n",
       "│ \u001b[36m \u001b[0m\u001b[36mRead Requests  \u001b[0m\u001b[36m \u001b[0m 4 kiB-256 kiB - 3,214,136 ops                                                                 │\n",
       "│ \u001b[36m                 \u001b[0m ├── <4 kiB - 175,232 ops (5.45%)                                                              │\n",
       "│ \u001b[36m                 \u001b[0m ├── 4-16 kiB - 20,032 ops (0.62%)                                                             │\n",
       "│ \u001b[36m                 \u001b[0m ├── 16-64 kiB - 31,353 ops (0.98%)                                                            │\n",
       "│ \u001b[36m                 \u001b[0m └── 64-256 kiB - 2,987,519 ops (92.95%)                                                       │\n",
       "│ \u001b[36m \u001b[0m\u001b[36mWrite Requests \u001b[0m\u001b[36m \u001b[0m 4 kiB-4 kiB - 4,022 ops                                                                       │\n",
       "│ \u001b[36m                 \u001b[0m └── <4 kiB - 4,022 ops (100.00%)                                                              │\n",
       "│ \u001b[36m \u001b[0m\u001b[36mNodes          \u001b[0m\u001b[36m \u001b[0m 16 nodes                                                                                      │\n",
       "│ \u001b[36m                 \u001b[0m ├── 11194065546293973417 - 2.56 s (100.00%) - 45.50 GiB/10.56 kiB R/W (6.25/0.00%) - 727,549  │\n",
       "│ \u001b[36m                 \u001b[0m │   ops (6.25%)                                                                               │\n",
       "│ \u001b[36m                 \u001b[0m ├── 784840397337378243 - 2.54 s (99.38%) - 45.50 GiB/10.56 kiB R/W (6.25/0.00%) - 727,548     │\n",
       "│ \u001b[36m                 \u001b[0m │   ops (6.25%)                                                                               │\n",
       "│ \u001b[36m                 \u001b[0m ├── 13943161580101246997 - 2.52 s (98.25%) - 45.50 GiB/10.56 kiB R/W (6.25/0.00%) - 727,559   │\n",
       "│ \u001b[36m                 \u001b[0m │   ops (6.25%)                                                                               │\n",
       "│ \u001b[36m                 \u001b[0m ├── 12775585946864612109 - 2.49 s (97.46%) - 45.50 GiB/21.21 kiB R/W (6.25/0.00%) - 727,609   │\n",
       "│ \u001b[36m                 \u001b[0m │   ops (6.25%)                                                                               │\n",
       "│ \u001b[36m                 \u001b[0m ├── 17424505939907203644 - 2.46 s (96.29%) - 45.50 GiB/10.56 kiB R/W (6.25/0.00%) - 727,547   │\n",
       "│ \u001b[36m                 \u001b[0m │   ops (6.25%)                                                                               │\n",
       "│ \u001b[36m                 \u001b[0m ├── 3331529830307220231 - 2.46 s (96.17%) - 45.50 GiB/10.56 kiB R/W (6.25/0.00%) - 727,552    │\n",
       "│ \u001b[36m                 \u001b[0m │   ops (6.25%)                                                                               │\n",
       "│ \u001b[36m                 \u001b[0m ├── 3903101653980564509 - 2.46 s (96.05%) - 45.50 GiB/10.56 kiB R/W (6.25/0.00%) - 727,508    │\n",
       "│ \u001b[36m                 \u001b[0m │   ops (6.25%)                                                                               │\n",
       "│ \u001b[36m                 \u001b[0m ├── 16317731584986882421 - 2.42 s (94.62%) - 45.50 GiB/10.56 kiB R/W (6.25/0.00%) - 727,551   │\n",
       "│ \u001b[36m                 \u001b[0m │   ops (6.25%)                                                                               │\n",
       "│ \u001b[36m                 \u001b[0m ├── 11940681009529776706 - 2.42 s (94.38%) - 45.50 GiB/10.56 kiB R/W (6.25/0.00%) - 727,554   │\n",
       "│ \u001b[36m                 \u001b[0m │   ops (6.25%)                                                                               │\n",
       "│ \u001b[36m                 \u001b[0m ├── 9984750283406985853 - 2.41 s (94.09%) - 45.50 GiB/10.56 kiB R/W (6.25/0.00%) - 727,552    │\n",
       "│ \u001b[36m                 \u001b[0m │   ops (6.25%)                                                                               │\n",
       "│ \u001b[36m                 \u001b[0m ├── 706977058488264986 - 2.39 s (93.30%) - 45.50 GiB/10.56 kiB R/W (6.25/0.00%) - 727,549     │\n",
       "│ \u001b[36m                 \u001b[0m │   ops (6.25%)                                                                               │\n",
       "│ \u001b[36m                 \u001b[0m ├── 15304651522364908113 - 2.38 s (93.09%) - 45.50 GiB/10.56 kiB R/W (6.25/0.00%) - 727,551   │\n",
       "│ \u001b[36m                 \u001b[0m │   ops (6.25%)                                                                               │\n",
       "│ \u001b[36m                 \u001b[0m ├── 16718576285930604672 - 2.36 s (92.25%) - 45.50 GiB/10.56 kiB R/W (6.25/0.00%) - 727,548   │\n",
       "│ \u001b[36m                 \u001b[0m │   ops (6.25%)                                                                               │\n",
       "│ \u001b[36m                 \u001b[0m ├── 11048751769900308354 - 2.33 s (90.96%) - 45.50 GiB/10.56 kiB R/W (6.25/0.00%) - 727,565   │\n",
       "│ \u001b[36m                 \u001b[0m │   ops (6.25%)                                                                               │\n",
       "│ \u001b[36m                 \u001b[0m ├── 3206708581496198598 - 2.32 s (90.68%) - 45.50 GiB/10.56 kiB R/W (6.25/0.00%) - 727,549    │\n",
       "│ \u001b[36m                 \u001b[0m │   ops (6.25%)                                                                               │\n",
       "│ \u001b[36m                 \u001b[0m └── 3084974796030094918 - 2.28 s (89.11%) - 45.50 GiB/10.56 kiB R/W (6.25/0.00%) - 727,548    │\n",
       "│ \u001b[36m                 \u001b[0m     ops (6.25%)                                                                               │\n",
       "│ \u001b[36m \u001b[0m\u001b[36mApps           \u001b[0m\u001b[36m \u001b[0m 1 app                                                                                         │\n",
       "│ \u001b[36m \u001b[0m\u001b[36mProcesses/Ranks\u001b[0m\u001b[36m \u001b[0m 5,889 processes                                                                               │\n",
       "│ \u001b[36m \u001b[0m\u001b[36mFiles          \u001b[0m\u001b[36m \u001b[0m 6,871 files                                                                                   │\n",
       "│ \u001b[36m                 \u001b[0m ├── Shared: 5,973 files (86.93%)                                                              │\n",
       "│ \u001b[36m                 \u001b[0m └── FPP: 898 files (13.07%)                                                                   │\n",
       "│ \u001b[36m \u001b[0m\u001b[36mTime Periods   \u001b[0m\u001b[36m \u001b[0m 178 time periods (Time Granularity: 1,000,000.0)                                              │\n",
       "│ \u001b[36m \u001b[0m\u001b[36mAccess Pattern \u001b[0m\u001b[36m \u001b[0m \u001b[1mSequential\u001b[0m: 3,218,741 ops (100.00%) - \u001b[1mRandom\u001b[0m: 0 ops (0.00%)                                   │\n",
       "│                                                                                                                 │\n",
       "╰─ \u001b[1mR\u001b[0m: Read - \u001b[1mW\u001b[0m: Write - \u001b[1mM\u001b[0m: Metadata  ─────────────────────────────────────────────────────────────────────────────╯\n",
       "                                                                                                                   \n",
       "╭───────────────────────────────────── 164 I/O Bottlenecks with 593 Reasons ──────────────────────────────────────╮\n",
       "│                                                                                                                 │\n",
       "│  Time View (2 bottlenecks with 8 reasons)                                                                       │\n",
       "│  ├── \u001b[38;5;160m[CR1] 768 processes access 768 files within 1 time period (28) across 17,169 I/O operations and have an \u001b[0m   │\n",
       "│  │   \u001b[38;5;160mI/O time of 0.69 seconds which is 27.06% of overall I/O time of the workload.\u001b[0m                              │\n",
       "│  │   ├── \u001b[38;5;160m[Operation imbalance] 'read' operations are 100.00% (17,169 operations) of total I/O operations.\u001b[0m       │\n",
       "│  │   ├── \u001b[38;5;160m[Size imbalance] 'read' size is 100.00% (4.19 GiB) of total I/O size.\u001b[0m                                  │\n",
       "│  │   ├── \u001b[38;5;160m[Small reads] 'read' time is 100.00% (0.69 seconds) of I/O time.\u001b[0m                                       │\n",
       "│  │   └── \u001b[38;5;160m[Small reads] Average 'read's are 256.00 kiB, which is smaller than 1.00 MiB.\u001b[0m                          │\n",
       "│  └── (1 more)                                                                                                   │\n",
       "│  File View (69 bottlenecks with 276 reasons)                                                                    │\n",
       "│  ├── \u001b[38;5;160m[CR3] 5 processes access 1 file (14233967813435404288) within 32 time periods across 821 I/O operations \u001b[0m   │\n",
       "│  │   \u001b[38;5;160mand have an I/O time of 1.20 seconds which is 46.69% of overall I/O time of the workload.\u001b[0m                  │\n",
       "│  │   ├── \u001b[38;5;160m[Operation imbalance] 'read' operations are 99.15% (814 operations) of total I/O operations.\u001b[0m           │\n",
       "│  │   ├── \u001b[38;5;160m[Size imbalance] 'read' size is 100.00% (203.12 MiB) of total I/O size.\u001b[0m                                │\n",
       "│  │   ├── \u001b[38;5;160m[Small reads] 'read' time is 99.60% (1.19 seconds) of I/O time.\u001b[0m                                        │\n",
       "│  │   └── \u001b[38;5;160m[Small reads] Average 'read's are 253.34 kiB, which is smaller than 1.00 MiB.\u001b[0m                          │\n",
       "│  └── (68 more)                                                                                                  │\n",
       "│  Process View (59 bottlenecks with 177 reasons)                                                                 │\n",
       "│  ├── \u001b[38;5;160m[CR72] 1 process (app#13943161580101246997#814207#814633) accesses 1 file within 1 time period across 3 \u001b[0m   │\n",
       "│  │   \u001b[38;5;160mI/O operations and has an I/O time of 0.01 seconds which is 0.53% of overall I/O time of the workload.\u001b[0m     │\n",
       "│  │   ├── \u001b[38;5;160m[Excessive metadata access] Overall 91.57% (0.01 seconds) of I/O time is spent on metadata access, \u001b[0m    │\n",
       "│  │   │   \u001b[38;5;160mspecifically 91.57% (0.01 seconds) on the 'open' operation.\u001b[0m                                            │\n",
       "│  │   ├── \u001b[38;5;160m[Operation imbalance] 'read' operations are 66.67% (2 operations) of total I/O operations.\u001b[0m             │\n",
       "│  │   └── \u001b[38;5;160m[Size imbalance] 'read' size is 100.00% (512.00 kiB) of total I/O size.\u001b[0m                                │\n",
       "│  └── (58 more)                                                                                                  │\n",
       "│  Time>File View (11 bottlenecks with 44 reasons)                                                                │\n",
       "│  ├── \u001b[38;5;166m[VH131] 1 process accesses 1 file (17840405438622988288) within 1 time period across 19 I/O operations \u001b[0m    │\n",
       "│  │   \u001b[38;5;166mand has an I/O time of 0.69 seconds which is 27.06% of overall I/O time of the workload.\u001b[0m                   │\n",
       "│  │   ├── \u001b[38;5;166m[Operation imbalance] 'read' operations are 100.00% (19 operations) of total I/O operations.\u001b[0m           │\n",
       "│  │   ├── \u001b[38;5;166m[Size imbalance] 'read' size is 100.00% (4.75 MiB) of total I/O size.\u001b[0m                                  │\n",
       "│  │   ├── \u001b[38;5;166m[Small reads] 'read' time is 100.00% (0.69 seconds) of I/O time.\u001b[0m                                       │\n",
       "│  │   └── \u001b[38;5;166m[Small reads] Average 'read's are 256.00 kiB, which is smaller than 1.00 MiB.\u001b[0m                          │\n",
       "│  └── (10 more)                                                                                                  │\n",
       "│  Time>Process View (11 bottlenecks with 44 reasons)                                                             │\n",
       "│  ├── \u001b[38;5;166m[VH142] 1 process (app#9984750283406985853#351971#352410) accesses 1 file within 1 time period across 19 \u001b[0m  │\n",
       "│  │   \u001b[38;5;166mI/O operations and has an I/O time of 0.69 seconds which is 27.06% of overall I/O time of the workload.\u001b[0m    │\n",
       "│  │   ├── \u001b[38;5;166m[Operation imbalance] 'read' operations are 100.00% (19 operations) of total I/O operations.\u001b[0m           │\n",
       "│  │   ├── \u001b[38;5;166m[Size imbalance] 'read' size is 100.00% (4.75 MiB) of total I/O size.\u001b[0m                                  │\n",
       "│  │   ├── \u001b[38;5;166m[Small reads] 'read' time is 100.00% (0.69 seconds) of I/O time.\u001b[0m                                       │\n",
       "│  │   └── \u001b[38;5;166m[Small reads] Average 'read's are 256.00 kiB, which is smaller than 1.00 MiB.\u001b[0m                          │\n",
       "│  └── (10 more)                                                                                                  │\n",
       "│  File>Time View (1 bottleneck with 4 reasons)                                                                   │\n",
       "│  └── \u001b[38;5;160m[CR153] 2 processes access 2 files within 1 time period (49) across 144 I/O operations and have an I/O \u001b[0m    │\n",
       "│      \u001b[38;5;160mtime of 0.58 seconds which is 22.53% of overall I/O time of the workload.\u001b[0m                                  │\n",
       "│      ├── \u001b[38;5;160m[Operation imbalance] 'read' operations are 100.00% (144 operations) of total I/O operations.\u001b[0m          │\n",
       "│      ├── \u001b[38;5;160m[Size imbalance] 'read' size is 100.00% (36.00 MiB) of total I/O size.\u001b[0m                                 │\n",
       "│      ├── \u001b[38;5;160m[Small reads] 'read' time is 100.00% (0.58 seconds) of I/O time.\u001b[0m                                       │\n",
       "│      └── \u001b[38;5;160m[Small reads] Average 'read's are 256.00 kiB, which is smaller than 1.00 MiB.\u001b[0m                          │\n",
       "│  File>Process View (3 bottlenecks with 12 reasons)                                                              │\n",
       "│  ├── \u001b[38;5;166m[VH154] 1 process (app#706977058488264986#770884#771338) accesses 1 file within 7 time periods across 161\u001b[0m  │\n",
       "│  │   \u001b[38;5;166mI/O operations and has an I/O time of 0.79 seconds which is 30.79% of overall I/O time of the workload.\u001b[0m    │\n",
       "│  │   ├── \u001b[38;5;166m[Operation imbalance] 'read' operations are 99.38% (160 operations) of total I/O operations.\u001b[0m           │\n",
       "│  │   ├── \u001b[38;5;166m[Size imbalance] 'read' size is 100.00% (40.00 MiB) of total I/O size.\u001b[0m                                 │\n",
       "│  │   ├── \u001b[38;5;166m[Small reads] 'read' time is 99.88% (0.79 seconds) of I/O time.\u001b[0m                                        │\n",
       "│  │   └── \u001b[38;5;166m[Small reads] Average 'read's are 254.41 kiB, which is smaller than 1.00 MiB.\u001b[0m                          │\n",
       "│  └── (2 more)                                                                                                   │\n",
       "│  Process>Time View (1 bottleneck with 3 reasons)                                                                │\n",
       "│  └── \u001b[38;5;106m[LO157] 24 processes access 24 files within 1 time period (98) across 72 I/O operations and have an I/O \u001b[0m   │\n",
       "│      \u001b[38;5;106mtime of 0.01 seconds which is 0.49% of overall I/O time of the workload.\u001b[0m                                   │\n",
       "│      ├── \u001b[38;5;106m[Excessive metadata access] Overall 98.40% (0.01 seconds) of I/O time is spent on metadata access, \u001b[0m    │\n",
       "│      │   \u001b[38;5;106mspecifically 98.40% (0.01 seconds) on the 'open' operation.\u001b[0m                                            │\n",
       "│      ├── \u001b[38;5;106m[Operation imbalance] 'read' operations are 66.67% (48 operations) of total I/O operations.\u001b[0m            │\n",
       "│      └── \u001b[38;5;106m[Size imbalance] 'read' size is 100.00% (12.00 MiB) of total I/O size.\u001b[0m                                 │\n",
       "│  Process>File View (1 bottleneck with 3 reasons)                                                                │\n",
       "│  └── \u001b[38;5;184m[MD158] 1 process accesses 1 file (15629553152499742688) within 1 time period across 3 I/O operations and\u001b[0m  │\n",
       "│      \u001b[38;5;184mhas an I/O time of 0.01 seconds which is 0.53% of overall I/O time of the workload.\u001b[0m                        │\n",
       "│      ├── \u001b[38;5;184m[Excessive metadata access] Overall 91.57% (0.01 seconds) of I/O time is spent on metadata access, \u001b[0m    │\n",
       "│      │   \u001b[38;5;184mspecifically 91.57% (0.01 seconds) on the 'open' operation.\u001b[0m                                            │\n",
       "│      ├── \u001b[38;5;184m[Operation imbalance] 'read' operations are 66.67% (2 operations) of total I/O operations.\u001b[0m             │\n",
       "│      └── \u001b[38;5;184m[Size imbalance] 'read' size is 100.00% (512.00 kiB) of total I/O size.\u001b[0m                                │\n",
       "│  Time>File>Process View (1 bottleneck with 4 reasons)                                                           │\n",
       "│  └── \u001b[38;5;106m[LO159] 1 process (app#9984750283406985853#351971#352410) accesses 1 file within 1 time period across 19 \u001b[0m  │\n",
       "│      \u001b[38;5;106mI/O operations and has an I/O time of 0.69 seconds which is 27.06% of overall I/O time of the workload.\u001b[0m    │\n",
       "│      ├── \u001b[38;5;106m[Operation imbalance] 'read' operations are 100.00% (19 operations) of total I/O operations.\u001b[0m           │\n",
       "│      ├── \u001b[38;5;106m[Size imbalance] 'read' size is 100.00% (4.75 MiB) of total I/O size.\u001b[0m                                  │\n",
       "│      ├── \u001b[38;5;106m[Small reads] 'read' time is 100.00% (0.69 seconds) of I/O time.\u001b[0m                                       │\n",
       "│      └── \u001b[38;5;106m[Small reads] Average 'read's are 256.00 kiB, which is smaller than 1.00 MiB.\u001b[0m                          │\n",
       "│  Time>Process>File View (1 bottleneck with 4 reasons)                                                           │\n",
       "│  └── \u001b[38;5;106m[LO160] 1 process accesses 1 file (17840405438622988288) within 1 time period across 19 I/O operations \u001b[0m    │\n",
       "│      \u001b[38;5;106mand has an I/O time of 0.69 seconds which is 27.06% of overall I/O time of the workload.\u001b[0m                   │\n",
       "│      ├── \u001b[38;5;106m[Operation imbalance] 'read' operations are 100.00% (19 operations) of total I/O operations.\u001b[0m           │\n",
       "│      ├── \u001b[38;5;106m[Size imbalance] 'read' size is 100.00% (4.75 MiB) of total I/O size.\u001b[0m                                  │\n",
       "│      ├── \u001b[38;5;106m[Small reads] 'read' time is 100.00% (0.69 seconds) of I/O time.\u001b[0m                                       │\n",
       "│      └── \u001b[38;5;106m[Small reads] Average 'read's are 256.00 kiB, which is smaller than 1.00 MiB.\u001b[0m                          │\n",
       "│  File>Time>Process View (1 bottleneck with 4 reasons)                                                           │\n",
       "│  └── \u001b[38;5;184m[MD161] 1 process (app#16718576285930604672#414084#414495) accesses 1 file within 1 time period across 63\u001b[0m  │\n",
       "│      \u001b[38;5;184mI/O operations and has an I/O time of 0.58 seconds which is 22.53% of overall I/O time of the workload.\u001b[0m    │\n",
       "│      ├── \u001b[38;5;184m[Operation imbalance] 'read' operations are 100.00% (63 operations) of total I/O operations.\u001b[0m           │\n",
       "│      ├── \u001b[38;5;184m[Size imbalance] 'read' size is 100.00% (15.75 MiB) of total I/O size.\u001b[0m                                 │\n",
       "│      ├── \u001b[38;5;184m[Small reads] 'read' time is 100.00% (0.58 seconds) of I/O time.\u001b[0m                                       │\n",
       "│      └── \u001b[38;5;184m[Small reads] Average 'read's are 256.00 kiB, which is smaller than 1.00 MiB.\u001b[0m                          │\n",
       "│  File>Process>Time View (1 bottleneck with 4 reasons)                                                           │\n",
       "│  └── \u001b[38;5;166m[VH162] 3 processes access 3 files within 1 time period (28) across 62 I/O operations and have an I/O \u001b[0m     │\n",
       "│      \u001b[38;5;166mtime of 0.68 seconds which is 26.75% of overall I/O time of the workload.\u001b[0m                                  │\n",
       "│      ├── \u001b[38;5;166m[Operation imbalance] 'read' operations are 100.00% (62 operations) of total I/O operations.\u001b[0m           │\n",
       "│      ├── \u001b[38;5;166m[Size imbalance] 'read' size is 100.00% (15.50 MiB) of total I/O size.\u001b[0m                                 │\n",
       "│      ├── \u001b[38;5;166m[Small reads] 'read' time is 100.00% (0.68 seconds) of I/O time.\u001b[0m                                       │\n",
       "│      └── \u001b[38;5;166m[Small reads] Average 'read's are 256.00 kiB, which is smaller than 1.00 MiB.\u001b[0m                          │\n",
       "│  Process>Time>File View (1 bottleneck with 3 reasons)                                                           │\n",
       "│  └── \u001b[38;5;106m[LO163] 1 process accesses 1 file (6553032042958797453) within 1 time period across 3 I/O operations and \u001b[0m  │\n",
       "│      \u001b[38;5;106mhas an I/O time of 0.01 seconds which is 0.49% of overall I/O time of the workload.\u001b[0m                        │\n",
       "│      ├── \u001b[38;5;106m[Excessive metadata access] Overall 98.40% (0.01 seconds) of I/O time is spent on metadata access, \u001b[0m    │\n",
       "│      │   \u001b[38;5;106mspecifically 98.40% (0.01 seconds) on the 'open' operation.\u001b[0m                                            │\n",
       "│      ├── \u001b[38;5;106m[Operation imbalance] 'read' operations are 66.67% (2 operations) of total I/O operations.\u001b[0m             │\n",
       "│      └── \u001b[38;5;106m[Size imbalance] 'read' size is 100.00% (512.00 kiB) of total I/O size.\u001b[0m                                │\n",
       "│  Process>File>Time View (1 bottleneck with 3 reasons)                                                           │\n",
       "│  └── \u001b[38;5;106m[LO164] 1 process accesses 1 file within 1 time period (57) across 3 I/O operations and has an I/O time \u001b[0m   │\n",
       "│      \u001b[38;5;106mof 0.01 seconds which is 0.53% of overall I/O time of the workload.\u001b[0m                                        │\n",
       "│      ├── \u001b[38;5;106m[Excessive metadata access] Overall 91.57% (0.01 seconds) of I/O time is spent on metadata access, \u001b[0m    │\n",
       "│      │   \u001b[38;5;106mspecifically 91.57% (0.01 seconds) on the 'open' operation.\u001b[0m                                            │\n",
       "│      ├── \u001b[38;5;106m[Operation imbalance] 'read' operations are 66.67% (2 operations) of total I/O operations.\u001b[0m             │\n",
       "│      └── \u001b[38;5;106m[Size imbalance] 'read' size is 100.00% (512.00 kiB) of total I/O size.\u001b[0m                                │\n",
       "│                                                                                                                 │\n",
       "╰─────────────────────────────────────────────────────────────────────────────────────────────────────────────────╯\n"
      ]
     },
     "metadata": {},
     "output_type": "display_data"
    },
    {
     "name": "stdout",
     "output_type": "stream",
     "text": [
      "time: 5.67 s (started: 2024-10-09 16:30:52 -07:00)\n"
     ]
    }
   ],
   "source": [
    "output.handle_result(metrics=cfg.metrics, result=result)"
   ]
  },
  {
   "cell_type": "code",
   "execution_count": null,
   "id": "fbc937bc",
   "metadata": {
    "papermill": {
     "duration": 0.005218,
     "end_time": "2024-10-09T23:30:58.355915",
     "exception": false,
     "start_time": "2024-10-09T23:30:58.350697",
     "status": "completed"
    },
    "tags": []
   },
   "outputs": [],
   "source": []
  }
 ],
 "metadata": {
  "kernelspec": {
   "display_name": "venv-corona",
   "language": "python",
   "name": "python3"
  },
  "language_info": {
   "codemirror_mode": {
    "name": "ipython",
    "version": 3
   },
   "file_extension": ".py",
   "mimetype": "text/x-python",
   "name": "python",
   "nbconvert_exporter": "python",
   "pygments_lexer": "ipython3",
   "version": "3.9.12"
  },
  "papermill": {
   "default_parameters": {},
   "duration": 202.231178,
   "end_time": "2024-10-09T23:31:00.980570",
   "environment_variables": {},
   "exception": null,
   "input_path": "analysis.ipynb",
   "output_path": "analysis-dftracer-resnet50-dlio-v100-node-16-v3.ipynb",
   "parameters": {
    "analyzer": "dftracer",
    "checkpoint": true,
    "checkpoint_dir": "/usr/workspace/iopp/wisio_logs/_checkpoints/dftracer-resnet50-dlio-v100-node-16-v3",
    "logical_view_types": false,
    "output_max_bottlenecks": 1,
    "output_root_only": false,
    "percentile": 0.99,
    "run_dir": ".wisio/dftracer/resnet50-dlio-v100-node-16-v3",
    "trace_path": "/p/lustre3/iopp/dftracer-traces-lfs/v1.0.5-develop/corona/resnet50/dlio-v100/node-16/v3/COMPACT/*.pfw.gz"
   },
   "start_time": "2024-10-09T23:27:38.749392",
   "version": "2.6.0"
  }
 },
 "nbformat": 4,
 "nbformat_minor": 5
}
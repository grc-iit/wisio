{
 "cells": [
  {
   "cell_type": "code",
   "execution_count": 1,
   "id": "17ac1769-f61e-4463-bccf-3301e8282cce",
   "metadata": {},
   "outputs": [
    {
     "name": "stdout",
     "output_type": "stream",
     "text": [
      "time: 311 µs (started: 2023-03-12 15:20:28 -07:00)\n"
     ]
    }
   ],
   "source": [
    "%load_ext autoreload\n",
    "%load_ext autotime"
   ]
  },
  {
   "cell_type": "code",
   "execution_count": 2,
   "id": "00715874-8f15-4188-8d28-0edab20a49fc",
   "metadata": {},
   "outputs": [
    {
     "name": "stderr",
     "output_type": "stream",
     "text": [
      "/usr/workspace/iopp/.conda/envs/jupyter/lib/python3.9/site-packages/dask_jobqueue/core.py:17: FutureWarning: format_bytes is deprecated and will be removed in a future release. Please use dask.utils.format_bytes instead.\n",
      "  from distributed.utils import format_bytes, parse_bytes, tmpfile, get_ip_interface\n",
      "/usr/workspace/iopp/.conda/envs/jupyter/lib/python3.9/site-packages/dask_jobqueue/core.py:17: FutureWarning: parse_bytes is deprecated and will be removed in a future release. Please use dask.utils.parse_bytes instead.\n",
      "  from distributed.utils import format_bytes, parse_bytes, tmpfile, get_ip_interface\n",
      "/usr/workspace/iopp/.conda/envs/jupyter/lib/python3.9/site-packages/dask_jobqueue/htcondor.py:6: FutureWarning: parse_bytes is deprecated and will be removed in a future release. Please use dask.utils.parse_bytes instead.\n",
      "  from distributed.utils import parse_bytes\n"
     ]
    },
    {
     "name": "stdout",
     "output_type": "stream",
     "text": [
      "{'cls': <class 'distributed.scheduler.Scheduler'>, 'options': {'protocol': 'tcp://', 'interface': None, 'host': None, 'dashboard_address': ':8787', 'security': None}}\n",
      "time: 2.31 s (started: 2023-03-12 15:20:29 -07:00)\n"
     ]
    }
   ],
   "source": [
    "%run init.ipynb"
   ]
  },
  {
   "cell_type": "code",
   "execution_count": 3,
   "id": "171aefcd-b2bf-4f29-a536-642c7676404a",
   "metadata": {},
   "outputs": [
    {
     "data": {
      "text/html": [
       "\n",
       "    <div class=\"bk-root\">\n",
       "        <a href=\"https://bokeh.org\" target=\"_blank\" class=\"bk-logo bk-logo-small bk-logo-notebook\"></a>\n",
       "        <span id=\"1002\">Loading BokehJS ...</span>\n",
       "    </div>"
      ]
     },
     "metadata": {},
     "output_type": "display_data"
    },
    {
     "data": {
      "application/javascript": [
       "\n",
       "(function(root) {\n",
       "  function now() {\n",
       "    return new Date();\n",
       "  }\n",
       "\n",
       "  var force = true;\n",
       "\n",
       "  if (typeof root._bokeh_onload_callbacks === \"undefined\" || force === true) {\n",
       "    root._bokeh_onload_callbacks = [];\n",
       "    root._bokeh_is_loading = undefined;\n",
       "  }\n",
       "\n",
       "  var JS_MIME_TYPE = 'application/javascript';\n",
       "  var HTML_MIME_TYPE = 'text/html';\n",
       "  var EXEC_MIME_TYPE = 'application/vnd.bokehjs_exec.v0+json';\n",
       "  var CLASS_NAME = 'output_bokeh rendered_html';\n",
       "\n",
       "  /**\n",
       "   * Render data to the DOM node\n",
       "   */\n",
       "  function render(props, node) {\n",
       "    var script = document.createElement(\"script\");\n",
       "    node.appendChild(script);\n",
       "  }\n",
       "\n",
       "  /**\n",
       "   * Handle when an output is cleared or removed\n",
       "   */\n",
       "  function handleClearOutput(event, handle) {\n",
       "    var cell = handle.cell;\n",
       "\n",
       "    var id = cell.output_area._bokeh_element_id;\n",
       "    var server_id = cell.output_area._bokeh_server_id;\n",
       "    // Clean up Bokeh references\n",
       "    if (id != null && id in Bokeh.index) {\n",
       "      Bokeh.index[id].model.document.clear();\n",
       "      delete Bokeh.index[id];\n",
       "    }\n",
       "\n",
       "    if (server_id !== undefined) {\n",
       "      // Clean up Bokeh references\n",
       "      var cmd = \"from bokeh.io.state import curstate; print(curstate().uuid_to_server['\" + server_id + \"'].get_sessions()[0].document.roots[0]._id)\";\n",
       "      cell.notebook.kernel.execute(cmd, {\n",
       "        iopub: {\n",
       "          output: function(msg) {\n",
       "            var id = msg.content.text.trim();\n",
       "            if (id in Bokeh.index) {\n",
       "              Bokeh.index[id].model.document.clear();\n",
       "              delete Bokeh.index[id];\n",
       "            }\n",
       "          }\n",
       "        }\n",
       "      });\n",
       "      // Destroy server and session\n",
       "      var cmd = \"import bokeh.io.notebook as ion; ion.destroy_server('\" + server_id + \"')\";\n",
       "      cell.notebook.kernel.execute(cmd);\n",
       "    }\n",
       "  }\n",
       "\n",
       "  /**\n",
       "   * Handle when a new output is added\n",
       "   */\n",
       "  function handleAddOutput(event, handle) {\n",
       "    var output_area = handle.output_area;\n",
       "    var output = handle.output;\n",
       "\n",
       "    // limit handleAddOutput to display_data with EXEC_MIME_TYPE content only\n",
       "    if ((output.output_type != \"display_data\") || (!Object.prototype.hasOwnProperty.call(output.data, EXEC_MIME_TYPE))) {\n",
       "      return\n",
       "    }\n",
       "\n",
       "    var toinsert = output_area.element.find(\".\" + CLASS_NAME.split(' ')[0]);\n",
       "\n",
       "    if (output.metadata[EXEC_MIME_TYPE][\"id\"] !== undefined) {\n",
       "      toinsert[toinsert.length - 1].firstChild.textContent = output.data[JS_MIME_TYPE];\n",
       "      // store reference to embed id on output_area\n",
       "      output_area._bokeh_element_id = output.metadata[EXEC_MIME_TYPE][\"id\"];\n",
       "    }\n",
       "    if (output.metadata[EXEC_MIME_TYPE][\"server_id\"] !== undefined) {\n",
       "      var bk_div = document.createElement(\"div\");\n",
       "      bk_div.innerHTML = output.data[HTML_MIME_TYPE];\n",
       "      var script_attrs = bk_div.children[0].attributes;\n",
       "      for (var i = 0; i < script_attrs.length; i++) {\n",
       "        toinsert[toinsert.length - 1].firstChild.setAttribute(script_attrs[i].name, script_attrs[i].value);\n",
       "        toinsert[toinsert.length - 1].firstChild.textContent = bk_div.children[0].textContent\n",
       "      }\n",
       "      // store reference to server id on output_area\n",
       "      output_area._bokeh_server_id = output.metadata[EXEC_MIME_TYPE][\"server_id\"];\n",
       "    }\n",
       "  }\n",
       "\n",
       "  function register_renderer(events, OutputArea) {\n",
       "\n",
       "    function append_mime(data, metadata, element) {\n",
       "      // create a DOM node to render to\n",
       "      var toinsert = this.create_output_subarea(\n",
       "        metadata,\n",
       "        CLASS_NAME,\n",
       "        EXEC_MIME_TYPE\n",
       "      );\n",
       "      this.keyboard_manager.register_events(toinsert);\n",
       "      // Render to node\n",
       "      var props = {data: data, metadata: metadata[EXEC_MIME_TYPE]};\n",
       "      render(props, toinsert[toinsert.length - 1]);\n",
       "      element.append(toinsert);\n",
       "      return toinsert\n",
       "    }\n",
       "\n",
       "    /* Handle when an output is cleared or removed */\n",
       "    events.on('clear_output.CodeCell', handleClearOutput);\n",
       "    events.on('delete.Cell', handleClearOutput);\n",
       "\n",
       "    /* Handle when a new output is added */\n",
       "    events.on('output_added.OutputArea', handleAddOutput);\n",
       "\n",
       "    /**\n",
       "     * Register the mime type and append_mime function with output_area\n",
       "     */\n",
       "    OutputArea.prototype.register_mime_type(EXEC_MIME_TYPE, append_mime, {\n",
       "      /* Is output safe? */\n",
       "      safe: true,\n",
       "      /* Index of renderer in `output_area.display_order` */\n",
       "      index: 0\n",
       "    });\n",
       "  }\n",
       "\n",
       "  // register the mime type if in Jupyter Notebook environment and previously unregistered\n",
       "  if (root.Jupyter !== undefined) {\n",
       "    var events = require('base/js/events');\n",
       "    var OutputArea = require('notebook/js/outputarea').OutputArea;\n",
       "\n",
       "    if (OutputArea.prototype.mime_types().indexOf(EXEC_MIME_TYPE) == -1) {\n",
       "      register_renderer(events, OutputArea);\n",
       "    }\n",
       "  }\n",
       "\n",
       "  \n",
       "  if (typeof (root._bokeh_timeout) === \"undefined\" || force === true) {\n",
       "    root._bokeh_timeout = Date.now() + 5000;\n",
       "    root._bokeh_failed_load = false;\n",
       "  }\n",
       "\n",
       "  var NB_LOAD_WARNING = {'data': {'text/html':\n",
       "     \"<div style='background-color: #fdd'>\\n\"+\n",
       "     \"<p>\\n\"+\n",
       "     \"BokehJS does not appear to have successfully loaded. If loading BokehJS from CDN, this \\n\"+\n",
       "     \"may be due to a slow or bad network connection. Possible fixes:\\n\"+\n",
       "     \"</p>\\n\"+\n",
       "     \"<ul>\\n\"+\n",
       "     \"<li>re-rerun `output_notebook()` to attempt to load from CDN again, or</li>\\n\"+\n",
       "     \"<li>use INLINE resources instead, as so:</li>\\n\"+\n",
       "     \"</ul>\\n\"+\n",
       "     \"<code>\\n\"+\n",
       "     \"from bokeh.resources import INLINE\\n\"+\n",
       "     \"output_notebook(resources=INLINE)\\n\"+\n",
       "     \"</code>\\n\"+\n",
       "     \"</div>\"}};\n",
       "\n",
       "  function display_loaded() {\n",
       "    var el = document.getElementById(\"1002\");\n",
       "    if (el != null) {\n",
       "      el.textContent = \"BokehJS is loading...\";\n",
       "    }\n",
       "    if (root.Bokeh !== undefined) {\n",
       "      if (el != null) {\n",
       "        el.textContent = \"BokehJS \" + root.Bokeh.version + \" successfully loaded.\";\n",
       "      }\n",
       "    } else if (Date.now() < root._bokeh_timeout) {\n",
       "      setTimeout(display_loaded, 100)\n",
       "    }\n",
       "  }\n",
       "\n",
       "\n",
       "  function run_callbacks() {\n",
       "    try {\n",
       "      root._bokeh_onload_callbacks.forEach(function(callback) {\n",
       "        if (callback != null)\n",
       "          callback();\n",
       "      });\n",
       "    } finally {\n",
       "      delete root._bokeh_onload_callbacks\n",
       "    }\n",
       "    console.debug(\"Bokeh: all callbacks have finished\");\n",
       "  }\n",
       "\n",
       "  function load_libs(css_urls, js_urls, callback) {\n",
       "    if (css_urls == null) css_urls = [];\n",
       "    if (js_urls == null) js_urls = [];\n",
       "\n",
       "    root._bokeh_onload_callbacks.push(callback);\n",
       "    if (root._bokeh_is_loading > 0) {\n",
       "      console.debug(\"Bokeh: BokehJS is being loaded, scheduling callback at\", now());\n",
       "      return null;\n",
       "    }\n",
       "    if (js_urls == null || js_urls.length === 0) {\n",
       "      run_callbacks();\n",
       "      return null;\n",
       "    }\n",
       "    console.debug(\"Bokeh: BokehJS not loaded, scheduling load and callback at\", now());\n",
       "    root._bokeh_is_loading = css_urls.length + js_urls.length;\n",
       "\n",
       "    function on_load() {\n",
       "      root._bokeh_is_loading--;\n",
       "      if (root._bokeh_is_loading === 0) {\n",
       "        console.debug(\"Bokeh: all BokehJS libraries/stylesheets loaded\");\n",
       "        run_callbacks()\n",
       "      }\n",
       "    }\n",
       "\n",
       "    function on_error(url) {\n",
       "      console.error(\"failed to load \" + url);\n",
       "    }\n",
       "\n",
       "    for (let i = 0; i < css_urls.length; i++) {\n",
       "      const url = css_urls[i];\n",
       "      const element = document.createElement(\"link\");\n",
       "      element.onload = on_load;\n",
       "      element.onerror = on_error.bind(null, url);\n",
       "      element.rel = \"stylesheet\";\n",
       "      element.type = \"text/css\";\n",
       "      element.href = url;\n",
       "      console.debug(\"Bokeh: injecting link tag for BokehJS stylesheet: \", url);\n",
       "      document.body.appendChild(element);\n",
       "    }\n",
       "\n",
       "    const hashes = {\"https://cdn.bokeh.org/bokeh/release/bokeh-2.3.3.min.js\": \"dM3QQsP+wXdHg42wTqW85BjZQdLNNIXqlPw/BgKoExPmTG7ZLML4EGqLMfqHT6ON\", \"https://cdn.bokeh.org/bokeh/release/bokeh-tables-2.3.3.min.js\": \"8x57I4YuIfu8XyZfFo0XVr2WAT8EK4rh/uDe3wF7YuW2FNUSNEpJbsPaB1nJ2fz2\", \"https://cdn.bokeh.org/bokeh/release/bokeh-widgets-2.3.3.min.js\": \"3QTqdz9LyAm2i0sG5XTePsHec3UHWwVsrOL68SYRoAXsafvfAyqtQ+h440+qIBhS\"};\n",
       "\n",
       "    for (let i = 0; i < js_urls.length; i++) {\n",
       "      const url = js_urls[i];\n",
       "      const element = document.createElement('script');\n",
       "      element.onload = on_load;\n",
       "      element.onerror = on_error.bind(null, url);\n",
       "      element.async = false;\n",
       "      element.src = url;\n",
       "      if (url in hashes) {\n",
       "        element.crossOrigin = \"anonymous\";\n",
       "        element.integrity = \"sha384-\" + hashes[url];\n",
       "      }\n",
       "      console.debug(\"Bokeh: injecting script tag for BokehJS library: \", url);\n",
       "      document.head.appendChild(element);\n",
       "    }\n",
       "  };\n",
       "\n",
       "  function inject_raw_css(css) {\n",
       "    const element = document.createElement(\"style\");\n",
       "    element.appendChild(document.createTextNode(css));\n",
       "    document.body.appendChild(element);\n",
       "  }\n",
       "\n",
       "  \n",
       "  var js_urls = [\"https://cdn.bokeh.org/bokeh/release/bokeh-2.3.3.min.js\", \"https://cdn.bokeh.org/bokeh/release/bokeh-widgets-2.3.3.min.js\", \"https://cdn.bokeh.org/bokeh/release/bokeh-tables-2.3.3.min.js\"];\n",
       "  var css_urls = [];\n",
       "  \n",
       "\n",
       "  var inline_js = [\n",
       "    function(Bokeh) {\n",
       "      Bokeh.set_log_level(\"info\");\n",
       "    },\n",
       "    function(Bokeh) {\n",
       "    \n",
       "    \n",
       "    }\n",
       "  ];\n",
       "\n",
       "  function run_inline_js() {\n",
       "    \n",
       "    if (root.Bokeh !== undefined || force === true) {\n",
       "      \n",
       "    for (var i = 0; i < inline_js.length; i++) {\n",
       "      inline_js[i].call(root, root.Bokeh);\n",
       "    }\n",
       "    if (force === true) {\n",
       "        display_loaded();\n",
       "      }} else if (Date.now() < root._bokeh_timeout) {\n",
       "      setTimeout(run_inline_js, 100);\n",
       "    } else if (!root._bokeh_failed_load) {\n",
       "      console.log(\"Bokeh: BokehJS failed to load within specified timeout.\");\n",
       "      root._bokeh_failed_load = true;\n",
       "    } else if (force !== true) {\n",
       "      var cell = $(document.getElementById(\"1002\")).parents('.cell').data().cell;\n",
       "      cell.output_area.append_execute_result(NB_LOAD_WARNING)\n",
       "    }\n",
       "\n",
       "  }\n",
       "\n",
       "  if (root._bokeh_is_loading === 0) {\n",
       "    console.debug(\"Bokeh: BokehJS loaded, going straight to plotting\");\n",
       "    run_inline_js();\n",
       "  } else {\n",
       "    load_libs(css_urls, js_urls, function() {\n",
       "      console.debug(\"Bokeh: BokehJS plotting callback run at\", now());\n",
       "      run_inline_js();\n",
       "    });\n",
       "  }\n",
       "}(window));"
      ],
      "application/vnd.bokehjs_load.v0+json": "\n(function(root) {\n  function now() {\n    return new Date();\n  }\n\n  var force = true;\n\n  if (typeof root._bokeh_onload_callbacks === \"undefined\" || force === true) {\n    root._bokeh_onload_callbacks = [];\n    root._bokeh_is_loading = undefined;\n  }\n\n  \n\n  \n  if (typeof (root._bokeh_timeout) === \"undefined\" || force === true) {\n    root._bokeh_timeout = Date.now() + 5000;\n    root._bokeh_failed_load = false;\n  }\n\n  var NB_LOAD_WARNING = {'data': {'text/html':\n     \"<div style='background-color: #fdd'>\\n\"+\n     \"<p>\\n\"+\n     \"BokehJS does not appear to have successfully loaded. If loading BokehJS from CDN, this \\n\"+\n     \"may be due to a slow or bad network connection. Possible fixes:\\n\"+\n     \"</p>\\n\"+\n     \"<ul>\\n\"+\n     \"<li>re-rerun `output_notebook()` to attempt to load from CDN again, or</li>\\n\"+\n     \"<li>use INLINE resources instead, as so:</li>\\n\"+\n     \"</ul>\\n\"+\n     \"<code>\\n\"+\n     \"from bokeh.resources import INLINE\\n\"+\n     \"output_notebook(resources=INLINE)\\n\"+\n     \"</code>\\n\"+\n     \"</div>\"}};\n\n  function display_loaded() {\n    var el = document.getElementById(\"1002\");\n    if (el != null) {\n      el.textContent = \"BokehJS is loading...\";\n    }\n    if (root.Bokeh !== undefined) {\n      if (el != null) {\n        el.textContent = \"BokehJS \" + root.Bokeh.version + \" successfully loaded.\";\n      }\n    } else if (Date.now() < root._bokeh_timeout) {\n      setTimeout(display_loaded, 100)\n    }\n  }\n\n\n  function run_callbacks() {\n    try {\n      root._bokeh_onload_callbacks.forEach(function(callback) {\n        if (callback != null)\n          callback();\n      });\n    } finally {\n      delete root._bokeh_onload_callbacks\n    }\n    console.debug(\"Bokeh: all callbacks have finished\");\n  }\n\n  function load_libs(css_urls, js_urls, callback) {\n    if (css_urls == null) css_urls = [];\n    if (js_urls == null) js_urls = [];\n\n    root._bokeh_onload_callbacks.push(callback);\n    if (root._bokeh_is_loading > 0) {\n      console.debug(\"Bokeh: BokehJS is being loaded, scheduling callback at\", now());\n      return null;\n    }\n    if (js_urls == null || js_urls.length === 0) {\n      run_callbacks();\n      return null;\n    }\n    console.debug(\"Bokeh: BokehJS not loaded, scheduling load and callback at\", now());\n    root._bokeh_is_loading = css_urls.length + js_urls.length;\n\n    function on_load() {\n      root._bokeh_is_loading--;\n      if (root._bokeh_is_loading === 0) {\n        console.debug(\"Bokeh: all BokehJS libraries/stylesheets loaded\");\n        run_callbacks()\n      }\n    }\n\n    function on_error(url) {\n      console.error(\"failed to load \" + url);\n    }\n\n    for (let i = 0; i < css_urls.length; i++) {\n      const url = css_urls[i];\n      const element = document.createElement(\"link\");\n      element.onload = on_load;\n      element.onerror = on_error.bind(null, url);\n      element.rel = \"stylesheet\";\n      element.type = \"text/css\";\n      element.href = url;\n      console.debug(\"Bokeh: injecting link tag for BokehJS stylesheet: \", url);\n      document.body.appendChild(element);\n    }\n\n    const hashes = {\"https://cdn.bokeh.org/bokeh/release/bokeh-2.3.3.min.js\": \"dM3QQsP+wXdHg42wTqW85BjZQdLNNIXqlPw/BgKoExPmTG7ZLML4EGqLMfqHT6ON\", \"https://cdn.bokeh.org/bokeh/release/bokeh-tables-2.3.3.min.js\": \"8x57I4YuIfu8XyZfFo0XVr2WAT8EK4rh/uDe3wF7YuW2FNUSNEpJbsPaB1nJ2fz2\", \"https://cdn.bokeh.org/bokeh/release/bokeh-widgets-2.3.3.min.js\": \"3QTqdz9LyAm2i0sG5XTePsHec3UHWwVsrOL68SYRoAXsafvfAyqtQ+h440+qIBhS\"};\n\n    for (let i = 0; i < js_urls.length; i++) {\n      const url = js_urls[i];\n      const element = document.createElement('script');\n      element.onload = on_load;\n      element.onerror = on_error.bind(null, url);\n      element.async = false;\n      element.src = url;\n      if (url in hashes) {\n        element.crossOrigin = \"anonymous\";\n        element.integrity = \"sha384-\" + hashes[url];\n      }\n      console.debug(\"Bokeh: injecting script tag for BokehJS library: \", url);\n      document.head.appendChild(element);\n    }\n  };\n\n  function inject_raw_css(css) {\n    const element = document.createElement(\"style\");\n    element.appendChild(document.createTextNode(css));\n    document.body.appendChild(element);\n  }\n\n  \n  var js_urls = [\"https://cdn.bokeh.org/bokeh/release/bokeh-2.3.3.min.js\", \"https://cdn.bokeh.org/bokeh/release/bokeh-widgets-2.3.3.min.js\", \"https://cdn.bokeh.org/bokeh/release/bokeh-tables-2.3.3.min.js\"];\n  var css_urls = [];\n  \n\n  var inline_js = [\n    function(Bokeh) {\n      Bokeh.set_log_level(\"info\");\n    },\n    function(Bokeh) {\n    \n    \n    }\n  ];\n\n  function run_inline_js() {\n    \n    if (root.Bokeh !== undefined || force === true) {\n      \n    for (var i = 0; i < inline_js.length; i++) {\n      inline_js[i].call(root, root.Bokeh);\n    }\n    if (force === true) {\n        display_loaded();\n      }} else if (Date.now() < root._bokeh_timeout) {\n      setTimeout(run_inline_js, 100);\n    } else if (!root._bokeh_failed_load) {\n      console.log(\"Bokeh: BokehJS failed to load within specified timeout.\");\n      root._bokeh_failed_load = true;\n    } else if (force !== true) {\n      var cell = $(document.getElementById(\"1002\")).parents('.cell').data().cell;\n      cell.output_area.append_execute_result(NB_LOAD_WARNING)\n    }\n\n  }\n\n  if (root._bokeh_is_loading === 0) {\n    console.debug(\"Bokeh: BokehJS loaded, going straight to plotting\");\n    run_inline_js();\n  } else {\n    load_libs(css_urls, js_urls, function() {\n      console.debug(\"Bokeh: BokehJS plotting callback run at\", now());\n      run_inline_js();\n    });\n  }\n}(window));"
     },
     "metadata": {},
     "output_type": "display_data"
    },
    {
     "name": "stdout",
     "output_type": "stream",
     "text": [
      "time: 11.7 ms (started: 2023-03-12 15:20:31 -07:00)\n"
     ]
    }
   ],
   "source": [
    "import sys\n",
    "sys.path.append(\"../\")\n",
    "import warnings\n",
    "warnings.filterwarnings('ignore')\n",
    "from bokeh.io import output_notebook\n",
    "output_notebook()"
   ]
  },
  {
   "cell_type": "code",
   "execution_count": 4,
   "id": "42fb7065-06ce-4820-bb6b-b50affbe65ed",
   "metadata": {},
   "outputs": [
    {
     "name": "stdout",
     "output_type": "stream",
     "text": [
      "time: 587 ms (started: 2023-03-12 15:20:31 -07:00)\n"
     ]
    }
   ],
   "source": [
    "import dask\n",
    "import dask.array as da\n",
    "import dask.bag as db\n",
    "import dask.dataframe as dd\n",
    "import json\n",
    "import math\n",
    "import numpy as np\n",
    "import os\n",
    "import pandas as pd\n",
    "# import pyarrow as pa\n",
    "from dask import compute, delayed\n",
    "from dask.dataframe import DataFrame\n",
    "from dask.distributed import Client, LocalCluster, fire_and_forget, wait, worker_client\n",
    "from wisio.utils.file_utils import ensure_dir\n",
    "from wisio.utils.json_encoders import NpEncoder\n",
    "from wisio.utils.logger import create_logger, format_log"
   ]
  },
  {
   "cell_type": "code",
   "execution_count": 5,
   "id": "f16db705-1968-4de0-816d-5ac64580da78",
   "metadata": {},
   "outputs": [
    {
     "data": {
      "text/html": [
       "<div>\n",
       "    <div style=\"width: 24px; height: 24px; background-color: #e1e1e1; border: 3px solid #9D9D9D; border-radius: 5px; position: absolute;\"> </div>\n",
       "    <div style=\"margin-left: 48px;\">\n",
       "        <h3 style=\"margin-bottom: 0px;\">Client</h3>\n",
       "        <p style=\"color: #9D9D9D; margin-bottom: 0px;\">Client-19b7f004-c124-11ed-a3d8-70e28414e440</p>\n",
       "        <table style=\"width: 100%; text-align: left;\">\n",
       "\n",
       "        <tr>\n",
       "        \n",
       "            <td style=\"text-align: left;\"><strong>Connection method:</strong> Cluster object</td>\n",
       "            <td style=\"text-align: left;\"><strong>Cluster type:</strong> dask_jobqueue.LSFCluster</td>\n",
       "        \n",
       "        </tr>\n",
       "\n",
       "        \n",
       "            <tr>\n",
       "                <td style=\"text-align: left;\">\n",
       "                    <strong>Dashboard: </strong> <a href=\"http://192.168.129.157:8787/status\" target=\"_blank\">http://192.168.129.157:8787/status</a>\n",
       "                </td>\n",
       "                <td style=\"text-align: left;\"></td>\n",
       "            </tr>\n",
       "        \n",
       "\n",
       "        </table>\n",
       "\n",
       "        \n",
       "            <details>\n",
       "            <summary style=\"margin-bottom: 20px;\"><h3 style=\"display: inline;\">Cluster Info</h3></summary>\n",
       "            <div class=\"jp-RenderedHTMLCommon jp-RenderedHTML jp-mod-trusted jp-OutputArea-output\">\n",
       "    <div style=\"width: 24px; height: 24px; background-color: #e1e1e1; border: 3px solid #9D9D9D; border-radius: 5px; position: absolute;\">\n",
       "    </div>\n",
       "    <div style=\"margin-left: 48px;\">\n",
       "        <h3 style=\"margin-bottom: 0px; margin-top: 0px;\">LSFCluster</h3>\n",
       "        <p style=\"color: #9D9D9D; margin-bottom: 0px;\">c798fbf3</p>\n",
       "        <table style=\"width: 100%; text-align: left;\">\n",
       "            <tr>\n",
       "                <td style=\"text-align: left;\">\n",
       "                    <strong>Dashboard:</strong> <a href=\"http://192.168.129.157:8787/status\" target=\"_blank\">http://192.168.129.157:8787/status</a>\n",
       "                </td>\n",
       "                <td style=\"text-align: left;\">\n",
       "                    <strong>Workers:</strong> 0\n",
       "                </td>\n",
       "            </tr>\n",
       "            <tr>\n",
       "                <td style=\"text-align: left;\">\n",
       "                    <strong>Total threads:</strong> 0\n",
       "                </td>\n",
       "                <td style=\"text-align: left;\">\n",
       "                    <strong>Total memory:</strong> 0 B\n",
       "                </td>\n",
       "            </tr>\n",
       "            \n",
       "        </table>\n",
       "\n",
       "        <details>\n",
       "            <summary style=\"margin-bottom: 20px;\">\n",
       "                <h3 style=\"display: inline;\">Scheduler Info</h3>\n",
       "            </summary>\n",
       "\n",
       "            <div style=\"\">\n",
       "    <div>\n",
       "        <div style=\"width: 24px; height: 24px; background-color: #FFF7E5; border: 3px solid #FF6132; border-radius: 5px; position: absolute;\"> </div>\n",
       "        <div style=\"margin-left: 48px;\">\n",
       "            <h3 style=\"margin-bottom: 0px;\">Scheduler</h3>\n",
       "            <p style=\"color: #9D9D9D; margin-bottom: 0px;\">Scheduler-61ed230e-0a27-4f85-9308-a963d04e1601</p>\n",
       "            <table style=\"width: 100%; text-align: left;\">\n",
       "                <tr>\n",
       "                    <td style=\"text-align: left;\">\n",
       "                        <strong>Comm:</strong> tcp://192.168.129.157:46241\n",
       "                    </td>\n",
       "                    <td style=\"text-align: left;\">\n",
       "                        <strong>Workers:</strong> 0\n",
       "                    </td>\n",
       "                </tr>\n",
       "                <tr>\n",
       "                    <td style=\"text-align: left;\">\n",
       "                        <strong>Dashboard:</strong> <a href=\"http://192.168.129.157:8787/status\" target=\"_blank\">http://192.168.129.157:8787/status</a>\n",
       "                    </td>\n",
       "                    <td style=\"text-align: left;\">\n",
       "                        <strong>Total threads:</strong> 0\n",
       "                    </td>\n",
       "                </tr>\n",
       "                <tr>\n",
       "                    <td style=\"text-align: left;\">\n",
       "                        <strong>Started:</strong> Just now\n",
       "                    </td>\n",
       "                    <td style=\"text-align: left;\">\n",
       "                        <strong>Total memory:</strong> 0 B\n",
       "                    </td>\n",
       "                </tr>\n",
       "            </table>\n",
       "        </div>\n",
       "    </div>\n",
       "\n",
       "    <details style=\"margin-left: 48px;\">\n",
       "        <summary style=\"margin-bottom: 20px;\">\n",
       "            <h3 style=\"display: inline;\">Workers</h3>\n",
       "        </summary>\n",
       "\n",
       "        \n",
       "\n",
       "    </details>\n",
       "</div>\n",
       "\n",
       "        </details>\n",
       "    </div>\n",
       "</div>\n",
       "            </details>\n",
       "        \n",
       "\n",
       "    </div>\n",
       "</div>"
      ],
      "text/plain": [
       "<Client: 'tcp://192.168.129.157:46241' processes=0 threads=0, memory=0 B>"
      ]
     },
     "execution_count": 5,
     "metadata": {},
     "output_type": "execute_result"
    },
    {
     "name": "stdout",
     "output_type": "stream",
     "text": [
      "time: 47.4 ms (started: 2023-03-12 15:20:31 -07:00)\n"
     ]
    }
   ],
   "source": [
    "client"
   ]
  },
  {
   "cell_type": "code",
   "execution_count": 6,
   "id": "acdaa634-8c88-41ae-b275-791656ccccde",
   "metadata": {},
   "outputs": [
    {
     "name": "stdout",
     "output_type": "stream",
     "text": [
      "time: 907 µs (started: 2023-03-12 15:20:32 -07:00)\n"
     ]
    }
   ],
   "source": [
    "import json\n",
    "\n",
    "def load_global_min_max(log_dir: str):\n",
    "    with open(f\"{log_dir}/global.json\") as file:\n",
    "        global_min_max = json.load(file)\n",
    "    return global_min_max"
   ]
  },
  {
   "cell_type": "code",
   "execution_count": 7,
   "id": "6b1709d7-2f75-4cb5-9f6a-dbc3d17a1937",
   "metadata": {},
   "outputs": [
    {
     "data": {
      "text/html": [
       "<div><strong>Dask DataFrame Structure:</strong></div>\n",
       "<div>\n",
       "<style scoped>\n",
       "    .dataframe tbody tr th:only-of-type {\n",
       "        vertical-align: middle;\n",
       "    }\n",
       "\n",
       "    .dataframe tbody tr th {\n",
       "        vertical-align: top;\n",
       "    }\n",
       "\n",
       "    .dataframe thead th {\n",
       "        text-align: right;\n",
       "    }\n",
       "</style>\n",
       "<table border=\"1\" class=\"dataframe\">\n",
       "  <thead>\n",
       "    <tr style=\"text-align: right;\">\n",
       "      <th></th>\n",
       "      <th>index</th>\n",
       "      <th>proc</th>\n",
       "      <th>rank</th>\n",
       "      <th>thread_id</th>\n",
       "      <th>cat</th>\n",
       "      <th>io_cat</th>\n",
       "      <th>tstart</th>\n",
       "      <th>tend</th>\n",
       "      <th>func_id</th>\n",
       "      <th>level</th>\n",
       "      <th>hostname</th>\n",
       "      <th>app</th>\n",
       "      <th>proc_name</th>\n",
       "      <th>file_name</th>\n",
       "      <th>size</th>\n",
       "      <th>acc_pat</th>\n",
       "      <th>bandwidth</th>\n",
       "      <th>duration</th>\n",
       "      <th>tmid</th>\n",
       "      <th>file_id</th>\n",
       "      <th>proc_id</th>\n",
       "    </tr>\n",
       "    <tr>\n",
       "      <th>npartitions=36</th>\n",
       "      <th></th>\n",
       "      <th></th>\n",
       "      <th></th>\n",
       "      <th></th>\n",
       "      <th></th>\n",
       "      <th></th>\n",
       "      <th></th>\n",
       "      <th></th>\n",
       "      <th></th>\n",
       "      <th></th>\n",
       "      <th></th>\n",
       "      <th></th>\n",
       "      <th></th>\n",
       "      <th></th>\n",
       "      <th></th>\n",
       "      <th></th>\n",
       "      <th></th>\n",
       "      <th></th>\n",
       "      <th></th>\n",
       "      <th></th>\n",
       "      <th></th>\n",
       "    </tr>\n",
       "  </thead>\n",
       "  <tbody>\n",
       "    <tr>\n",
       "      <th></th>\n",
       "      <td>int64</td>\n",
       "      <td>int64</td>\n",
       "      <td>int32</td>\n",
       "      <td>int32</td>\n",
       "      <td>int32</td>\n",
       "      <td>int32</td>\n",
       "      <td>float32</td>\n",
       "      <td>float32</td>\n",
       "      <td>object</td>\n",
       "      <td>int32</td>\n",
       "      <td>object</td>\n",
       "      <td>object</td>\n",
       "      <td>object</td>\n",
       "      <td>object</td>\n",
       "      <td>int64</td>\n",
       "      <td>int32</td>\n",
       "      <td>float32</td>\n",
       "      <td>float32</td>\n",
       "      <td>int64</td>\n",
       "      <td>int64</td>\n",
       "      <td>int64</td>\n",
       "    </tr>\n",
       "    <tr>\n",
       "      <th></th>\n",
       "      <td>...</td>\n",
       "      <td>...</td>\n",
       "      <td>...</td>\n",
       "      <td>...</td>\n",
       "      <td>...</td>\n",
       "      <td>...</td>\n",
       "      <td>...</td>\n",
       "      <td>...</td>\n",
       "      <td>...</td>\n",
       "      <td>...</td>\n",
       "      <td>...</td>\n",
       "      <td>...</td>\n",
       "      <td>...</td>\n",
       "      <td>...</td>\n",
       "      <td>...</td>\n",
       "      <td>...</td>\n",
       "      <td>...</td>\n",
       "      <td>...</td>\n",
       "      <td>...</td>\n",
       "      <td>...</td>\n",
       "      <td>...</td>\n",
       "    </tr>\n",
       "    <tr>\n",
       "      <th>...</th>\n",
       "      <td>...</td>\n",
       "      <td>...</td>\n",
       "      <td>...</td>\n",
       "      <td>...</td>\n",
       "      <td>...</td>\n",
       "      <td>...</td>\n",
       "      <td>...</td>\n",
       "      <td>...</td>\n",
       "      <td>...</td>\n",
       "      <td>...</td>\n",
       "      <td>...</td>\n",
       "      <td>...</td>\n",
       "      <td>...</td>\n",
       "      <td>...</td>\n",
       "      <td>...</td>\n",
       "      <td>...</td>\n",
       "      <td>...</td>\n",
       "      <td>...</td>\n",
       "      <td>...</td>\n",
       "      <td>...</td>\n",
       "      <td>...</td>\n",
       "    </tr>\n",
       "    <tr>\n",
       "      <th></th>\n",
       "      <td>...</td>\n",
       "      <td>...</td>\n",
       "      <td>...</td>\n",
       "      <td>...</td>\n",
       "      <td>...</td>\n",
       "      <td>...</td>\n",
       "      <td>...</td>\n",
       "      <td>...</td>\n",
       "      <td>...</td>\n",
       "      <td>...</td>\n",
       "      <td>...</td>\n",
       "      <td>...</td>\n",
       "      <td>...</td>\n",
       "      <td>...</td>\n",
       "      <td>...</td>\n",
       "      <td>...</td>\n",
       "      <td>...</td>\n",
       "      <td>...</td>\n",
       "      <td>...</td>\n",
       "      <td>...</td>\n",
       "      <td>...</td>\n",
       "    </tr>\n",
       "    <tr>\n",
       "      <th></th>\n",
       "      <td>...</td>\n",
       "      <td>...</td>\n",
       "      <td>...</td>\n",
       "      <td>...</td>\n",
       "      <td>...</td>\n",
       "      <td>...</td>\n",
       "      <td>...</td>\n",
       "      <td>...</td>\n",
       "      <td>...</td>\n",
       "      <td>...</td>\n",
       "      <td>...</td>\n",
       "      <td>...</td>\n",
       "      <td>...</td>\n",
       "      <td>...</td>\n",
       "      <td>...</td>\n",
       "      <td>...</td>\n",
       "      <td>...</td>\n",
       "      <td>...</td>\n",
       "      <td>...</td>\n",
       "      <td>...</td>\n",
       "      <td>...</td>\n",
       "    </tr>\n",
       "  </tbody>\n",
       "</table>\n",
       "</div>\n",
       "<div>Dask Name: read-parquet, 36 tasks</div>"
      ],
      "text/plain": [
       "Dask DataFrame Structure:\n",
       "                index   proc   rank thread_id    cat io_cat   tstart     tend func_id  level hostname     app proc_name file_name   size acc_pat bandwidth duration   tmid file_id proc_id\n",
       "npartitions=36                                                                                                                                                                            \n",
       "                int64  int64  int32     int32  int32  int32  float32  float32  object  int32   object  object    object    object  int64   int32   float32  float32  int64   int64   int64\n",
       "                  ...    ...    ...       ...    ...    ...      ...      ...     ...    ...      ...     ...       ...       ...    ...     ...       ...      ...    ...     ...     ...\n",
       "...               ...    ...    ...       ...    ...    ...      ...      ...     ...    ...      ...     ...       ...       ...    ...     ...       ...      ...    ...     ...     ...\n",
       "                  ...    ...    ...       ...    ...    ...      ...      ...     ...    ...      ...     ...       ...       ...    ...     ...       ...      ...    ...     ...     ...\n",
       "                  ...    ...    ...       ...    ...    ...      ...      ...     ...    ...      ...     ...       ...       ...    ...     ...       ...      ...    ...     ...     ...\n",
       "Dask Name: read-parquet, 36 tasks"
      ]
     },
     "execution_count": 7,
     "metadata": {},
     "output_type": "execute_result"
    },
    {
     "name": "stdout",
     "output_type": "stream",
     "text": [
      "time: 8.21 s (started: 2023-03-12 15:20:35 -07:00)\n"
     ]
    }
   ],
   "source": [
    "log_dir = \"/p/gpfs1/iopp/recorder_app_logs/montage_pegasus/nodes-32/_parquet\"\n",
    "ddf = dd.read_parquet(f\"{log_dir}/*.parquet\")\n",
    "ddf "
   ]
  },
  {
   "cell_type": "code",
   "execution_count": 8,
   "id": "c99cb1a8-071a-4e7d-a199-da5a874e898a",
   "metadata": {},
   "outputs": [
    {
     "data": {
      "text/html": [
       "<div>\n",
       "<style scoped>\n",
       "    .dataframe tbody tr th:only-of-type {\n",
       "        vertical-align: middle;\n",
       "    }\n",
       "\n",
       "    .dataframe tbody tr th {\n",
       "        vertical-align: top;\n",
       "    }\n",
       "\n",
       "    .dataframe thead th {\n",
       "        text-align: right;\n",
       "    }\n",
       "</style>\n",
       "<table border=\"1\" class=\"dataframe\">\n",
       "  <thead>\n",
       "    <tr style=\"text-align: right;\">\n",
       "      <th></th>\n",
       "      <th>index</th>\n",
       "      <th>proc</th>\n",
       "      <th>rank</th>\n",
       "      <th>thread_id</th>\n",
       "      <th>cat</th>\n",
       "      <th>io_cat</th>\n",
       "      <th>tstart</th>\n",
       "      <th>tend</th>\n",
       "      <th>func_id</th>\n",
       "      <th>level</th>\n",
       "      <th>...</th>\n",
       "      <th>app</th>\n",
       "      <th>proc_name</th>\n",
       "      <th>file_name</th>\n",
       "      <th>size</th>\n",
       "      <th>acc_pat</th>\n",
       "      <th>bandwidth</th>\n",
       "      <th>duration</th>\n",
       "      <th>tmid</th>\n",
       "      <th>file_id</th>\n",
       "      <th>proc_id</th>\n",
       "    </tr>\n",
       "  </thead>\n",
       "  <tbody>\n",
       "    <tr>\n",
       "      <th>0</th>\n",
       "      <td>1</td>\n",
       "      <td>132672</td>\n",
       "      <td>0</td>\n",
       "      <td>321552</td>\n",
       "      <td>0</td>\n",
       "      <td>3</td>\n",
       "      <td>2.137661</td>\n",
       "      <td>2.137760</td>\n",
       "      <td>fopen64</td>\n",
       "      <td>0</td>\n",
       "      <td>...</td>\n",
       "      <td>mProject</td>\n",
       "      <td>mProject#lassen192#132672#35184372410384</td>\n",
       "      <td>/p/gpfs1/haridev/iopp/montage-workflow/scratch...</td>\n",
       "      <td>0</td>\n",
       "      <td>0</td>\n",
       "      <td>0.000000</td>\n",
       "      <td>0.000099</td>\n",
       "      <td>21377103</td>\n",
       "      <td>4007557435994691998</td>\n",
       "      <td>2303625805466626068</td>\n",
       "    </tr>\n",
       "    <tr>\n",
       "      <th>1</th>\n",
       "      <td>2</td>\n",
       "      <td>132672</td>\n",
       "      <td>0</td>\n",
       "      <td>321552</td>\n",
       "      <td>0</td>\n",
       "      <td>1</td>\n",
       "      <td>2.137835</td>\n",
       "      <td>2.138117</td>\n",
       "      <td>fread</td>\n",
       "      <td>0</td>\n",
       "      <td>...</td>\n",
       "      <td>mProject</td>\n",
       "      <td>mProject#lassen192#132672#35184372410384</td>\n",
       "      <td>/p/gpfs1/haridev/iopp/montage-workflow/scratch...</td>\n",
       "      <td>2</td>\n",
       "      <td>0</td>\n",
       "      <td>0.006764</td>\n",
       "      <td>0.000282</td>\n",
       "      <td>21379759</td>\n",
       "      <td>4007557435994691998</td>\n",
       "      <td>2303625805466626068</td>\n",
       "    </tr>\n",
       "    <tr>\n",
       "      <th>2</th>\n",
       "      <td>3</td>\n",
       "      <td>132672</td>\n",
       "      <td>0</td>\n",
       "      <td>321552</td>\n",
       "      <td>0</td>\n",
       "      <td>3</td>\n",
       "      <td>2.138125</td>\n",
       "      <td>2.138141</td>\n",
       "      <td>fclose</td>\n",
       "      <td>0</td>\n",
       "      <td>...</td>\n",
       "      <td>mProject</td>\n",
       "      <td>mProject#lassen192#132672#35184372410384</td>\n",
       "      <td>/p/gpfs1/haridev/iopp/montage-workflow/scratch...</td>\n",
       "      <td>0</td>\n",
       "      <td>0</td>\n",
       "      <td>0.000000</td>\n",
       "      <td>0.000016</td>\n",
       "      <td>21381327</td>\n",
       "      <td>4007557435994691998</td>\n",
       "      <td>2303625805466626068</td>\n",
       "    </tr>\n",
       "    <tr>\n",
       "      <th>3</th>\n",
       "      <td>4</td>\n",
       "      <td>132672</td>\n",
       "      <td>0</td>\n",
       "      <td>321552</td>\n",
       "      <td>0</td>\n",
       "      <td>3</td>\n",
       "      <td>2.138159</td>\n",
       "      <td>2.138171</td>\n",
       "      <td>fopen64</td>\n",
       "      <td>0</td>\n",
       "      <td>...</td>\n",
       "      <td>mProject</td>\n",
       "      <td>mProject#lassen192#132672#35184372410384</td>\n",
       "      <td>/p/gpfs1/haridev/iopp/montage-workflow/scratch...</td>\n",
       "      <td>0</td>\n",
       "      <td>0</td>\n",
       "      <td>0.000000</td>\n",
       "      <td>0.000012</td>\n",
       "      <td>21381647</td>\n",
       "      <td>4007557435994691998</td>\n",
       "      <td>2303625805466626068</td>\n",
       "    </tr>\n",
       "    <tr>\n",
       "      <th>4</th>\n",
       "      <td>5</td>\n",
       "      <td>132672</td>\n",
       "      <td>0</td>\n",
       "      <td>321552</td>\n",
       "      <td>0</td>\n",
       "      <td>1</td>\n",
       "      <td>2.138231</td>\n",
       "      <td>2.138246</td>\n",
       "      <td>fread</td>\n",
       "      <td>0</td>\n",
       "      <td>...</td>\n",
       "      <td>mProject</td>\n",
       "      <td>mProject#lassen192#132672#35184372410384</td>\n",
       "      <td>/p/gpfs1/haridev/iopp/montage-workflow/scratch...</td>\n",
       "      <td>2</td>\n",
       "      <td>0</td>\n",
       "      <td>0.127157</td>\n",
       "      <td>0.000015</td>\n",
       "      <td>21382382</td>\n",
       "      <td>4007557435994691998</td>\n",
       "      <td>2303625805466626068</td>\n",
       "    </tr>\n",
       "  </tbody>\n",
       "</table>\n",
       "<p>5 rows × 21 columns</p>\n",
       "</div>"
      ],
      "text/plain": [
       "   index    proc  rank  thread_id  cat  io_cat    tstart      tend  func_id  \\\n",
       "0      1  132672     0     321552    0       3  2.137661  2.137760  fopen64   \n",
       "1      2  132672     0     321552    0       1  2.137835  2.138117    fread   \n",
       "2      3  132672     0     321552    0       3  2.138125  2.138141   fclose   \n",
       "3      4  132672     0     321552    0       3  2.138159  2.138171  fopen64   \n",
       "4      5  132672     0     321552    0       1  2.138231  2.138246    fread   \n",
       "\n",
       "   level  ...       app                                 proc_name  \\\n",
       "0      0  ...  mProject  mProject#lassen192#132672#35184372410384   \n",
       "1      0  ...  mProject  mProject#lassen192#132672#35184372410384   \n",
       "2      0  ...  mProject  mProject#lassen192#132672#35184372410384   \n",
       "3      0  ...  mProject  mProject#lassen192#132672#35184372410384   \n",
       "4      0  ...  mProject  mProject#lassen192#132672#35184372410384   \n",
       "\n",
       "                                           file_name size  acc_pat  bandwidth  \\\n",
       "0  /p/gpfs1/haridev/iopp/montage-workflow/scratch...    0        0   0.000000   \n",
       "1  /p/gpfs1/haridev/iopp/montage-workflow/scratch...    2        0   0.006764   \n",
       "2  /p/gpfs1/haridev/iopp/montage-workflow/scratch...    0        0   0.000000   \n",
       "3  /p/gpfs1/haridev/iopp/montage-workflow/scratch...    0        0   0.000000   \n",
       "4  /p/gpfs1/haridev/iopp/montage-workflow/scratch...    2        0   0.127157   \n",
       "\n",
       "   duration      tmid              file_id              proc_id  \n",
       "0  0.000099  21377103  4007557435994691998  2303625805466626068  \n",
       "1  0.000282  21379759  4007557435994691998  2303625805466626068  \n",
       "2  0.000016  21381327  4007557435994691998  2303625805466626068  \n",
       "3  0.000012  21381647  4007557435994691998  2303625805466626068  \n",
       "4  0.000015  21382382  4007557435994691998  2303625805466626068  \n",
       "\n",
       "[5 rows x 21 columns]"
      ]
     },
     "execution_count": 8,
     "metadata": {},
     "output_type": "execute_result"
    },
    {
     "name": "stdout",
     "output_type": "stream",
     "text": [
      "time: 6.65 s (started: 2023-03-12 15:20:43 -07:00)\n"
     ]
    }
   ],
   "source": [
    "ddf.head()"
   ]
  },
  {
   "cell_type": "code",
   "execution_count": 10,
   "id": "15a37e6d-af95-4e5b-91eb-2c18a89e67f8",
   "metadata": {},
   "outputs": [
    {
     "data": {
      "text/plain": [
       "12346353"
      ]
     },
     "execution_count": 10,
     "metadata": {},
     "output_type": "execute_result"
    },
    {
     "name": "stdout",
     "output_type": "stream",
     "text": [
      "time: 2.33 s (started: 2023-03-08 08:41:15 -08:00)\n"
     ]
    }
   ],
   "source": [
    "ddf.index.count().compute()"
   ]
  },
  {
   "cell_type": "code",
   "execution_count": 11,
   "id": "0cee9e05-6c3b-4f12-b06e-c78e769784db",
   "metadata": {},
   "outputs": [
    {
     "data": {
      "text/plain": [
       "433.1474304199219"
      ]
     },
     "execution_count": 11,
     "metadata": {},
     "output_type": "execute_result"
    },
    {
     "name": "stdout",
     "output_type": "stream",
     "text": [
      "time: 792 ms (started: 2023-03-08 08:41:18 -08:00)\n"
     ]
    }
   ],
   "source": [
    "ddf['tend'].max().compute()"
   ]
  },
  {
   "cell_type": "code",
   "execution_count": 12,
   "id": "6359c9b9-4850-487c-8e00-a12db9d955c6",
   "metadata": {},
   "outputs": [
    {
     "data": {
      "text/plain": [
       "19680"
      ]
     },
     "execution_count": 12,
     "metadata": {},
     "output_type": "execute_result"
    },
    {
     "name": "stdout",
     "output_type": "stream",
     "text": [
      "time: 636 ms (started: 2023-03-08 08:41:18 -08:00)\n"
     ]
    }
   ],
   "source": [
    "ddf['file_id'].unique().count().compute()"
   ]
  },
  {
   "cell_type": "code",
   "execution_count": 13,
   "id": "6574157c-bf40-416e-bbb7-057201f88666",
   "metadata": {},
   "outputs": [
    {
     "data": {
      "text/plain": [
       "11488"
      ]
     },
     "execution_count": 13,
     "metadata": {},
     "output_type": "execute_result"
    },
    {
     "name": "stdout",
     "output_type": "stream",
     "text": [
      "time: 576 ms (started: 2023-03-08 08:41:19 -08:00)\n"
     ]
    }
   ],
   "source": [
    "ddf['proc_id'].unique().count().compute()"
   ]
  },
  {
   "cell_type": "code",
   "execution_count": 9,
   "id": "831c796e-bb86-4bc4-a7e9-48798bbfffdb",
   "metadata": {},
   "outputs": [
    {
     "data": {
      "text/plain": [
       "{'file_id': [-9222633358449720911, 9221060788680195852],\n",
       " 'proc_id': [-7874823190951034579, 8829435109697643124],\n",
       " 'tmid': [0, 4331474299]}"
      ]
     },
     "execution_count": 9,
     "metadata": {},
     "output_type": "execute_result"
    },
    {
     "name": "stdout",
     "output_type": "stream",
     "text": [
      "time: 4.6 ms (started: 2023-03-12 15:20:51 -07:00)\n"
     ]
    }
   ],
   "source": [
    "global_min_max = load_global_min_max(log_dir=log_dir)\n",
    "global_min_max"
   ]
  },
  {
   "cell_type": "code",
   "execution_count": 10,
   "id": "177ca85b-a8d4-4511-bea6-fa2299e392e7",
   "metadata": {},
   "outputs": [
    {
     "name": "stdout",
     "output_type": "stream",
     "text": [
      "time: 2.93 ms (started: 2023-03-12 15:20:57 -07:00)\n"
     ]
    }
   ],
   "source": [
    "from dask.distributed import Future, get_client\n",
    "from typing import Union\n",
    "\n",
    "DELTA_BINS = [\n",
    "    0,\n",
    "    0.001,\n",
    "    0.01,\n",
    "    0.1,\n",
    "    0.25,\n",
    "    0.5,\n",
    "    0.75,\n",
    "    1\n",
    "]\n",
    "DELTA_BIN_LABELS = [\n",
    "    'none',\n",
    "    'trivial',\n",
    "    'very low',\n",
    "    'low',\n",
    "    'medium',\n",
    "    'high',\n",
    "    'very high',\n",
    "    'critical'\n",
    "]\n",
    "TIME_PRECISION = 1e7\n",
    "\n",
    "def set_metric_deltas(df: pd.DataFrame, metric: str, max_io_time: float):\n",
    "    metric_col, csp_col, delta_col = (\n",
    "        f\"{metric}_sum\",\n",
    "        f\"{metric}_csp\",\n",
    "        f\"{metric}_delta\",\n",
    "    )\n",
    "    df[csp_col] = df[metric_col].cumsum() / max_io_time\n",
    "    df[delta_col] = df[csp_col].diff().fillna(df[csp_col])\n",
    "    return df\n",
    "\n",
    "\n",
    "def set_metric_percentages(df: pd.DataFrame, metric: str, max_io_time: float):\n",
    "    metric_col, pero_col, perr_col = (\n",
    "        f\"{metric}_sum\",\n",
    "        f\"{metric}_pero\",\n",
    "        f\"{metric}_perr\"\n",
    "    )\n",
    "    df[pero_col] = df[metric_col] / max_io_time\n",
    "    df[perr_col] = df[metric_col] / df[metric_col].sum()\n",
    "    return df\n",
    "\n",
    "\n",
    "def set_metric_scores(df: pd.DataFrame, metric: str, col: str):\n",
    "    bin_col, score_col, threshold_col = (\n",
    "        f\"{metric}_bin\",\n",
    "        f\"{metric}_score\",\n",
    "        f\"{metric}_th\",\n",
    "    )\n",
    "    df[bin_col] = np.digitize(df[col], bins=DELTA_BINS, right=True)\n",
    "    df[score_col] = np.choose(df[bin_col] - 1, choices=DELTA_BIN_LABELS, mode='clip')\n",
    "    df[threshold_col] = np.choose(df[bin_col] - 1, choices=DELTA_BINS, mode='clip')\n",
    "    return df.drop(columns=[bin_col])\n",
    "\n",
    "def compute_tranges(global_min_max: dict, precision=TIME_PRECISION):\n",
    "    tmid_min, tmid_max = global_min_max['tmid']\n",
    "    tranges = np.arange(tmid_min, tmid_max, precision)\n",
    "    return get_client().scatter(tranges)\n",
    "\n",
    "\n",
    "def set_tranges(df: pd.DataFrame, tranges: Union[Future, np.ndarray]):\n",
    "    tranges = tranges.result() if isinstance(tranges, Future) else tranges\n",
    "    return df.assign(trange=np.digitize(df['tmid'], bins=tranges, right=True))"
   ]
  },
  {
   "cell_type": "code",
   "execution_count": 11,
   "id": "8294474b-fb6d-4bbd-8b26-07b45ac6bb9e",
   "metadata": {},
   "outputs": [
    {
     "data": {
      "text/html": [
       "<strong>Future: ndarray</strong>\n",
       "<span style=\"color: var(--jp-ui-font-color2, gray)\"> status: </span>\n",
       "\n",
       "\n",
       "<span style=\"color: var(--jp-error-color0, black)\">finished</span>,\n",
       "\n",
       "\n",
       "\n",
       "<span style=\"color: var(--jp-ui-font-color2, gray)\"> type:</span> numpy.ndarray,\n",
       "\n",
       "\n",
       "<span style=\"color: var(--jp-ui-font-color2, gray)\"> key:</span> ndarray-5f547455df903e46c6ccb05c9c0e68e9"
      ],
      "text/plain": [
       "<Future: finished, type: numpy.ndarray, key: ndarray-5f547455df903e46c6ccb05c9c0e68e9>"
      ]
     },
     "execution_count": 11,
     "metadata": {},
     "output_type": "execute_result"
    },
    {
     "name": "stdout",
     "output_type": "stream",
     "text": [
      "time: 14.3 ms (started: 2023-03-12 15:21:06 -07:00)\n"
     ]
    }
   ],
   "source": [
    "tranges = compute_tranges(global_min_max=global_min_max)\n",
    "tranges"
   ]
  },
  {
   "cell_type": "code",
   "execution_count": 12,
   "id": "263c1e69-ed6e-4a70-9155-00177a24ead1",
   "metadata": {},
   "outputs": [
    {
     "name": "stdout",
     "output_type": "stream",
     "text": [
      "time: 711 µs (started: 2023-03-12 15:21:11 -07:00)\n"
     ]
    }
   ],
   "source": [
    "VIEW_TYPES = ['trange', 'file_name', 'proc_name']"
   ]
  },
  {
   "cell_type": "code",
   "execution_count": 13,
   "id": "a5550ab0-50bc-4367-8669-9f2e4e27c206",
   "metadata": {},
   "outputs": [
    {
     "data": {
      "text/html": [
       "<div><strong>Dask DataFrame Structure:</strong></div>\n",
       "<div>\n",
       "<style scoped>\n",
       "    .dataframe tbody tr th:only-of-type {\n",
       "        vertical-align: middle;\n",
       "    }\n",
       "\n",
       "    .dataframe tbody tr th {\n",
       "        vertical-align: top;\n",
       "    }\n",
       "\n",
       "    .dataframe thead tr th {\n",
       "        text-align: left;\n",
       "    }\n",
       "\n",
       "    .dataframe thead tr:last-of-type th {\n",
       "        text-align: right;\n",
       "    }\n",
       "</style>\n",
       "<table border=\"1\" class=\"dataframe\">\n",
       "  <thead>\n",
       "    <tr>\n",
       "      <th></th>\n",
       "      <th>duration</th>\n",
       "      <th>index</th>\n",
       "      <th colspan=\"3\" halign=\"left\">size</th>\n",
       "    </tr>\n",
       "    <tr>\n",
       "      <th></th>\n",
       "      <th>sum</th>\n",
       "      <th>count</th>\n",
       "      <th>min</th>\n",
       "      <th>max</th>\n",
       "      <th>sum</th>\n",
       "    </tr>\n",
       "    <tr>\n",
       "      <th>npartitions=1</th>\n",
       "      <th></th>\n",
       "      <th></th>\n",
       "      <th></th>\n",
       "      <th></th>\n",
       "      <th></th>\n",
       "    </tr>\n",
       "  </thead>\n",
       "  <tbody>\n",
       "    <tr>\n",
       "      <th></th>\n",
       "      <td>float32</td>\n",
       "      <td>int64</td>\n",
       "      <td>int64</td>\n",
       "      <td>int64</td>\n",
       "      <td>int64</td>\n",
       "    </tr>\n",
       "    <tr>\n",
       "      <th></th>\n",
       "      <td>...</td>\n",
       "      <td>...</td>\n",
       "      <td>...</td>\n",
       "      <td>...</td>\n",
       "      <td>...</td>\n",
       "    </tr>\n",
       "  </tbody>\n",
       "</table>\n",
       "</div>\n",
       "<div>Dask Name: aggregate-agg, 1 tasks</div>"
      ],
      "text/plain": [
       "Dask DataFrame Structure:\n",
       "              duration  index   size              \n",
       "                   sum  count    min    max    sum\n",
       "npartitions=1                                     \n",
       "               float32  int64  int64  int64  int64\n",
       "                   ...    ...    ...    ...    ...\n",
       "Dask Name: aggregate-agg, 1 tasks"
      ]
     },
     "execution_count": 13,
     "metadata": {},
     "output_type": "execute_result"
    },
    {
     "name": "stdout",
     "output_type": "stream",
     "text": [
      "time: 84.4 ms (started: 2023-03-12 15:21:22 -07:00)\n"
     ]
    }
   ],
   "source": [
    "from copy import copy\n",
    "\n",
    "view_types = copy(VIEW_TYPES)\n",
    "view_types.append('io_cat')\n",
    "view_types.append('acc_pat')\n",
    "view_types.append('func_id')\n",
    "\n",
    "main_view = ddf[(ddf['cat'] == 0) & (ddf['io_cat'].isin([1,2,3]))]  \\\n",
    "    .map_partitions(set_tranges, tranges=tranges) \\\n",
    "    .groupby(view_types) \\\n",
    "    .agg({\n",
    "        'duration': [sum],\n",
    "        'index': ['count'],\n",
    "        'size': [min, max, sum],\n",
    "#         'file_name': ['first'],\n",
    "#         'proc_name': ['first'],\n",
    "#         'func_id': [unique_flatten()],\n",
    "    }) \\\n",
    "    .persist()\n",
    "\n",
    "main_view\n"
   ]
  },
  {
   "cell_type": "code",
   "execution_count": 14,
   "id": "71847bec-ebf9-4736-986d-8d90d5191832",
   "metadata": {},
   "outputs": [
    {
     "data": {
      "text/plain": [
       "DoneAndNotDoneFutures(done={<Future: finished, type: pandas.core.frame.DataFrame, key: ('aggregate-agg-f5f3a36ab83c94aa7197e9ef7b58a38b', 0)>}, not_done=set())"
      ]
     },
     "execution_count": 14,
     "metadata": {},
     "output_type": "execute_result"
    },
    {
     "name": "stdout",
     "output_type": "stream",
     "text": [
      "time: 10.6 s (started: 2023-03-12 15:21:23 -07:00)\n"
     ]
    }
   ],
   "source": [
    "wait(main_view)"
   ]
  },
  {
   "cell_type": "code",
   "execution_count": 15,
   "id": "d93b641f-cdbc-4f31-a31c-76eece56b069",
   "metadata": {},
   "outputs": [
    {
     "name": "stdout",
     "output_type": "stream",
     "text": [
      "time: 30.1 ms (started: 2023-03-12 15:21:34 -07:00)\n"
     ]
    }
   ],
   "source": [
    "main_view = main_view.reset_index()\n",
    "main_view.columns = ['_'.join(tup).rstrip('_') for tup in main_view.columns.values]\n",
    "main_view = main_view.persist()"
   ]
  },
  {
   "cell_type": "code",
   "execution_count": 16,
   "id": "005f703c-4c49-434c-a01e-ddc085e912cd",
   "metadata": {},
   "outputs": [
    {
     "data": {
      "text/plain": [
       "DoneAndNotDoneFutures(done={<Future: finished, type: pandas.core.frame.DataFrame, key: ('rename-4a5de259126cca7bda2b0d986075f35d', 0)>}, not_done=set())"
      ]
     },
     "execution_count": 16,
     "metadata": {},
     "output_type": "execute_result"
    },
    {
     "name": "stdout",
     "output_type": "stream",
     "text": [
      "time: 15.5 ms (started: 2023-03-12 15:21:34 -07:00)\n"
     ]
    }
   ],
   "source": [
    "wait(main_view)"
   ]
  },
  {
   "cell_type": "code",
   "execution_count": 17,
   "id": "6b8c8fe5-e7f0-4a5b-97e7-2b6e6a69abc2",
   "metadata": {},
   "outputs": [
    {
     "name": "stdout",
     "output_type": "stream",
     "text": [
      "time: 146 ms (started: 2023-03-12 15:21:47 -07:00)\n"
     ]
    }
   ],
   "source": [
    "!rm -rf {log_dir}/cached & mkdir -p {log_dir}/cached"
   ]
  },
  {
   "cell_type": "code",
   "execution_count": 18,
   "id": "e4418340-4cf2-4a3d-99c1-276dd5cfedf9",
   "metadata": {},
   "outputs": [
    {
     "name": "stdout",
     "output_type": "stream",
     "text": [
      "time: 847 ms (started: 2023-03-12 15:21:56 -07:00)\n"
     ]
    }
   ],
   "source": [
    "main_view.repartition('100MB').to_parquet(f\"{log_dir}/cached/main_view\")"
   ]
  },
  {
   "cell_type": "code",
   "execution_count": 19,
   "id": "c01d4f56-4ca4-4561-940c-ae2e287c94d8",
   "metadata": {},
   "outputs": [
    {
     "name": "stdout",
     "output_type": "stream",
     "text": [
      "total 27M\n",
      "-rw------- 1 izzet iopp 2.0K Mar 12 15:21 _common_metadata\n",
      "-rw------- 1 izzet iopp 3.3K Mar 12 15:21 _metadata\n",
      "-rw------- 1 izzet iopp  27M Mar 12 15:21 part.0.parquet\n",
      "time: 266 ms (started: 2023-03-12 15:22:02 -07:00)\n"
     ]
    }
   ],
   "source": [
    "!ls -lh {log_dir}/cached/main_view | head -n 10"
   ]
  },
  {
   "cell_type": "code",
   "execution_count": 20,
   "id": "c6466f26-119f-42b5-878f-54dca82ac876",
   "metadata": {},
   "outputs": [
    {
     "name": "stdout",
     "output_type": "stream",
     "text": [
      "time: 883 µs (started: 2023-03-12 15:22:12 -07:00)\n"
     ]
    }
   ],
   "source": [
    "del main_view"
   ]
  },
  {
   "cell_type": "code",
   "execution_count": 21,
   "id": "2ea4b157-fe27-4539-a89a-78bf1e94640c",
   "metadata": {},
   "outputs": [
    {
     "data": {
      "text/html": [
       "<div><strong>Dask DataFrame Structure:</strong></div>\n",
       "<div>\n",
       "<style scoped>\n",
       "    .dataframe tbody tr th:only-of-type {\n",
       "        vertical-align: middle;\n",
       "    }\n",
       "\n",
       "    .dataframe tbody tr th {\n",
       "        vertical-align: top;\n",
       "    }\n",
       "\n",
       "    .dataframe thead th {\n",
       "        text-align: right;\n",
       "    }\n",
       "</style>\n",
       "<table border=\"1\" class=\"dataframe\">\n",
       "  <thead>\n",
       "    <tr style=\"text-align: right;\">\n",
       "      <th></th>\n",
       "      <th>trange</th>\n",
       "      <th>file_name</th>\n",
       "      <th>proc_name</th>\n",
       "      <th>io_cat</th>\n",
       "      <th>acc_pat</th>\n",
       "      <th>func_id</th>\n",
       "      <th>duration_sum</th>\n",
       "      <th>index_count</th>\n",
       "      <th>size_min</th>\n",
       "      <th>size_max</th>\n",
       "      <th>size_sum</th>\n",
       "    </tr>\n",
       "    <tr>\n",
       "      <th>npartitions=1</th>\n",
       "      <th></th>\n",
       "      <th></th>\n",
       "      <th></th>\n",
       "      <th></th>\n",
       "      <th></th>\n",
       "      <th></th>\n",
       "      <th></th>\n",
       "      <th></th>\n",
       "      <th></th>\n",
       "      <th></th>\n",
       "      <th></th>\n",
       "    </tr>\n",
       "  </thead>\n",
       "  <tbody>\n",
       "    <tr>\n",
       "      <th>0</th>\n",
       "      <td>int64</td>\n",
       "      <td>object</td>\n",
       "      <td>object</td>\n",
       "      <td>int64</td>\n",
       "      <td>int64</td>\n",
       "      <td>object</td>\n",
       "      <td>float32</td>\n",
       "      <td>int64</td>\n",
       "      <td>int64</td>\n",
       "      <td>int64</td>\n",
       "      <td>int64</td>\n",
       "    </tr>\n",
       "    <tr>\n",
       "      <th>139443</th>\n",
       "      <td>...</td>\n",
       "      <td>...</td>\n",
       "      <td>...</td>\n",
       "      <td>...</td>\n",
       "      <td>...</td>\n",
       "      <td>...</td>\n",
       "      <td>...</td>\n",
       "      <td>...</td>\n",
       "      <td>...</td>\n",
       "      <td>...</td>\n",
       "      <td>...</td>\n",
       "    </tr>\n",
       "  </tbody>\n",
       "</table>\n",
       "</div>\n",
       "<div>Dask Name: read-parquet, 1 tasks</div>"
      ],
      "text/plain": [
       "Dask DataFrame Structure:\n",
       "              trange file_name proc_name io_cat acc_pat func_id duration_sum index_count size_min size_max size_sum\n",
       "npartitions=1                                                                                                      \n",
       "0              int64    object    object  int64   int64  object      float32       int64    int64    int64    int64\n",
       "139443           ...       ...       ...    ...     ...     ...          ...         ...      ...      ...      ...\n",
       "Dask Name: read-parquet, 1 tasks"
      ]
     },
     "execution_count": 21,
     "metadata": {},
     "output_type": "execute_result"
    },
    {
     "name": "stdout",
     "output_type": "stream",
     "text": [
      "time: 37.2 ms (started: 2023-03-12 15:22:19 -07:00)\n"
     ]
    }
   ],
   "source": [
    "main_view = dd.read_parquet(f\"{log_dir}/cached/main_view/*.parquet\")\n",
    "main_view"
   ]
  },
  {
   "cell_type": "code",
   "execution_count": 22,
   "id": "6a6ef7bf-b56c-43e9-a4a4-2e3f0899bef5",
   "metadata": {},
   "outputs": [
    {
     "data": {
      "text/html": [
       "<div><strong>Dask DataFrame Structure:</strong></div>\n",
       "<div>\n",
       "<style scoped>\n",
       "    .dataframe tbody tr th:only-of-type {\n",
       "        vertical-align: middle;\n",
       "    }\n",
       "\n",
       "    .dataframe tbody tr th {\n",
       "        vertical-align: top;\n",
       "    }\n",
       "\n",
       "    .dataframe thead th {\n",
       "        text-align: right;\n",
       "    }\n",
       "</style>\n",
       "<table border=\"1\" class=\"dataframe\">\n",
       "  <thead>\n",
       "    <tr style=\"text-align: right;\">\n",
       "      <th></th>\n",
       "      <th>io_cat</th>\n",
       "      <th>acc_pat</th>\n",
       "      <th>duration_sum</th>\n",
       "      <th>index_count</th>\n",
       "      <th>size_min</th>\n",
       "      <th>size_max</th>\n",
       "      <th>size_sum</th>\n",
       "      <th>read_count</th>\n",
       "      <th>write_count</th>\n",
       "      <th>metadata_count</th>\n",
       "      <th>read_size</th>\n",
       "      <th>write_size</th>\n",
       "      <th>metadata_size</th>\n",
       "      <th>read_time</th>\n",
       "      <th>write_time</th>\n",
       "      <th>metadata_time</th>\n",
       "      <th>sequential_count</th>\n",
       "      <th>random_count</th>\n",
       "      <th>sequential_size</th>\n",
       "      <th>random_size</th>\n",
       "      <th>sequential_time</th>\n",
       "      <th>random_time</th>\n",
       "      <th>data_count</th>\n",
       "      <th>data_size</th>\n",
       "      <th>data_time</th>\n",
       "      <th>open_time</th>\n",
       "      <th>close_time</th>\n",
       "      <th>seek_time</th>\n",
       "      <th>stat_time</th>\n",
       "    </tr>\n",
       "    <tr>\n",
       "      <th>npartitions=1</th>\n",
       "      <th></th>\n",
       "      <th></th>\n",
       "      <th></th>\n",
       "      <th></th>\n",
       "      <th></th>\n",
       "      <th></th>\n",
       "      <th></th>\n",
       "      <th></th>\n",
       "      <th></th>\n",
       "      <th></th>\n",
       "      <th></th>\n",
       "      <th></th>\n",
       "      <th></th>\n",
       "      <th></th>\n",
       "      <th></th>\n",
       "      <th></th>\n",
       "      <th></th>\n",
       "      <th></th>\n",
       "      <th></th>\n",
       "      <th></th>\n",
       "      <th></th>\n",
       "      <th></th>\n",
       "      <th></th>\n",
       "      <th></th>\n",
       "      <th></th>\n",
       "      <th></th>\n",
       "      <th></th>\n",
       "      <th></th>\n",
       "      <th></th>\n",
       "    </tr>\n",
       "  </thead>\n",
       "  <tbody>\n",
       "    <tr>\n",
       "      <th></th>\n",
       "      <td>int64</td>\n",
       "      <td>int64</td>\n",
       "      <td>float32</td>\n",
       "      <td>int64</td>\n",
       "      <td>int64</td>\n",
       "      <td>int64</td>\n",
       "      <td>int64</td>\n",
       "      <td>int64</td>\n",
       "      <td>int64</td>\n",
       "      <td>int64</td>\n",
       "      <td>int64</td>\n",
       "      <td>int64</td>\n",
       "      <td>int64</td>\n",
       "      <td>int64</td>\n",
       "      <td>int64</td>\n",
       "      <td>int64</td>\n",
       "      <td>int64</td>\n",
       "      <td>int64</td>\n",
       "      <td>int64</td>\n",
       "      <td>int64</td>\n",
       "      <td>int64</td>\n",
       "      <td>int64</td>\n",
       "      <td>int64</td>\n",
       "      <td>int64</td>\n",
       "      <td>int64</td>\n",
       "      <td>int64</td>\n",
       "      <td>int64</td>\n",
       "      <td>int64</td>\n",
       "      <td>int64</td>\n",
       "    </tr>\n",
       "    <tr>\n",
       "      <th></th>\n",
       "      <td>...</td>\n",
       "      <td>...</td>\n",
       "      <td>...</td>\n",
       "      <td>...</td>\n",
       "      <td>...</td>\n",
       "      <td>...</td>\n",
       "      <td>...</td>\n",
       "      <td>...</td>\n",
       "      <td>...</td>\n",
       "      <td>...</td>\n",
       "      <td>...</td>\n",
       "      <td>...</td>\n",
       "      <td>...</td>\n",
       "      <td>...</td>\n",
       "      <td>...</td>\n",
       "      <td>...</td>\n",
       "      <td>...</td>\n",
       "      <td>...</td>\n",
       "      <td>...</td>\n",
       "      <td>...</td>\n",
       "      <td>...</td>\n",
       "      <td>...</td>\n",
       "      <td>...</td>\n",
       "      <td>...</td>\n",
       "      <td>...</td>\n",
       "      <td>...</td>\n",
       "      <td>...</td>\n",
       "      <td>...</td>\n",
       "      <td>...</td>\n",
       "    </tr>\n",
       "  </tbody>\n",
       "</table>\n",
       "</div>\n",
       "<div>Dask Name: dataframe-groupby-sum-agg, 1 tasks</div>"
      ],
      "text/plain": [
       "Dask DataFrame Structure:\n",
       "              io_cat acc_pat duration_sum index_count size_min size_max size_sum read_count write_count metadata_count read_size write_size metadata_size read_time write_time metadata_time sequential_count random_count sequential_size random_size sequential_time random_time data_count data_size data_time open_time close_time seek_time stat_time\n",
       "npartitions=1                                                                                                                                                                                                                                                                                                                                             \n",
       "               int64   int64      float32       int64    int64    int64    int64      int64       int64          int64     int64      int64         int64     int64      int64         int64            int64        int64           int64       int64           int64       int64      int64     int64     int64     int64      int64     int64     int64\n",
       "                 ...     ...          ...         ...      ...      ...      ...        ...         ...            ...       ...        ...           ...       ...        ...           ...              ...          ...             ...         ...             ...         ...        ...       ...       ...       ...        ...       ...       ...\n",
       "Dask Name: dataframe-groupby-sum-agg, 1 tasks"
      ]
     },
     "execution_count": 22,
     "metadata": {},
     "output_type": "execute_result"
    },
    {
     "name": "stdout",
     "output_type": "stream",
     "text": [
      "time: 485 ms (started: 2023-03-12 15:22:29 -07:00)\n"
     ]
    }
   ],
   "source": [
    "main_view['read_count'] = 0\n",
    "main_view['write_count'] = 0\n",
    "main_view['metadata_count'] = 0\n",
    "main_view['read_count'] = main_view['read_count'].mask(main_view['io_cat'] == 1, main_view['index_count'])\n",
    "main_view['write_count'] = main_view['write_count'].mask(main_view['io_cat'] == 2,  main_view['index_count'])\n",
    "main_view['metadata_count'] = main_view['metadata_count'].mask(main_view['io_cat'] == 3,  main_view['index_count'])\n",
    "\n",
    "main_view['read_size'] = 0\n",
    "main_view['write_size'] = 0\n",
    "main_view['metadata_size'] = 0\n",
    "main_view['read_size'] = main_view['read_size'].mask(main_view['io_cat'] == 1, main_view['size_sum'])\n",
    "main_view['write_size'] = main_view['write_size'].mask(main_view['io_cat'] == 2,  main_view['size_sum'])\n",
    "main_view['metadata_size'] = main_view['metadata_size'].mask(main_view['io_cat'] == 3,  main_view['size_sum'])\n",
    "\n",
    "main_view['read_time'] = 0\n",
    "main_view['write_time'] = 0\n",
    "main_view['metadata_time'] = 0\n",
    "main_view['read_time'] = main_view['read_time'].mask(main_view['io_cat'] == 1, main_view['duration_sum'])\n",
    "main_view['write_time'] = main_view['write_time'].mask(main_view['io_cat'] == 2,  main_view['duration_sum'])\n",
    "main_view['metadata_time'] = main_view['metadata_time'].mask(main_view['io_cat'] == 3,  main_view['duration_sum'])\n",
    "\n",
    "main_view['sequential_count'] = 0\n",
    "main_view['random_count'] = 0\n",
    "main_view['sequential_count'] = main_view['sequential_count'].mask(main_view['acc_pat'] == 0, main_view['index_count'])\n",
    "main_view['random_count'] = main_view['random_count'].mask(main_view['acc_pat'] == 1, main_view['index_count'])\n",
    "\n",
    "main_view['sequential_size'] = 0\n",
    "main_view['random_size'] = 0\n",
    "main_view['sequential_size'] = main_view['sequential_size'].mask(main_view['acc_pat'] == 0, main_view['size_sum'])\n",
    "main_view['random_size'] = main_view['random_size'].mask(main_view['acc_pat'] == 1, main_view['size_sum'])\n",
    "\n",
    "main_view['sequential_time'] = 0\n",
    "main_view['random_time'] = 0\n",
    "main_view['sequential_time'] = main_view['sequential_time'].mask(main_view['acc_pat'] == 0, main_view['duration_sum'])\n",
    "main_view['random_time'] = main_view['random_time'].mask(main_view['acc_pat'] == 1, main_view['duration_sum'])\n",
    "\n",
    "\n",
    "main_view['data_count'] = main_view['write_count'] + main_view['read_count']\n",
    "main_view['data_size'] = main_view['write_size'] + main_view['read_size']\n",
    "main_view['data_time'] = main_view['write_time'] + main_view['read_time']\n",
    "\n",
    "main_view['open_time'] = 0\n",
    "main_view['close_time'] = 0\n",
    "main_view['seek_time'] = 0\n",
    "main_view['stat_time'] = 0\n",
    "main_view['open_time'] = main_view['open_time'].mask(main_view['func_id'].str.contains('open') & ~main_view['func_id'].str.contains('dir'),  main_view['duration_sum'])\n",
    "main_view['close_time'] = main_view['close_time'].mask(main_view['func_id'].str.contains('close') & ~main_view['func_id'].str.contains('dir'),  main_view['duration_sum'])\n",
    "main_view['seek_time'] = main_view['seek_time'].mask(main_view['func_id'].str.contains('seek'),  main_view['duration_sum'])\n",
    "main_view['stat_time'] = main_view['stat_time'].mask(main_view['func_id'].str.contains('stat'),  main_view['duration_sum'])\n",
    "\n",
    "# main_view['workload_type'] = 0\n",
    "# main_view['workload_type'] = main_view['workload_type'].mask(main_view['read_count'] == 0, 3)\n",
    "# main_view['workload_type'] = main_view['workload_type'].mask(main_view['write_count'] == 0, 1)\n",
    "\n",
    "# agg_dict = {col: sum for col in main_view.columns}\n",
    "# agg_dict['file_name_first'] = 'first'\n",
    "# agg_dict['proc_name_first'] = 'first'\n",
    "# agg_dict['func_id_unique_flatten'] = unique_flatten()\n",
    "# for view_type in VIEW_TYPES:\n",
    "#     agg_dict.pop(view_type)\n",
    "\n",
    "final_view = main_view \\\n",
    "    .groupby(VIEW_TYPES) \\\n",
    "    .sum() \\\n",
    "    .persist()\n",
    "\n",
    "final_view\n"
   ]
  },
  {
   "cell_type": "code",
   "execution_count": 23,
   "id": "afd62fa1-cab7-48b5-a3ed-f2405b65b8b2",
   "metadata": {},
   "outputs": [
    {
     "data": {
      "text/plain": [
       "DoneAndNotDoneFutures(done={<Future: finished, type: pandas.core.frame.DataFrame, key: ('dataframe-groupby-sum-agg-6f65e0af9e62eaf1914aa5ec3bdd1417', 0)>}, not_done=set())"
      ]
     },
     "execution_count": 23,
     "metadata": {},
     "output_type": "execute_result"
    },
    {
     "name": "stdout",
     "output_type": "stream",
     "text": [
      "time: 1.24 s (started: 2023-03-12 15:22:29 -07:00)\n"
     ]
    }
   ],
   "source": [
    "wait(final_view)"
   ]
  },
  {
   "cell_type": "code",
   "execution_count": 24,
   "id": "845e99d5-ad1c-41f7-befc-803f098b7f66",
   "metadata": {},
   "outputs": [
    {
     "name": "stdout",
     "output_type": "stream",
     "text": [
      "time: 22.6 ms (started: 2023-03-12 15:22:41 -07:00)\n"
     ]
    }
   ],
   "source": [
    "final_view = final_view.reset_index().persist()"
   ]
  },
  {
   "cell_type": "code",
   "execution_count": 25,
   "id": "e33159e0-056b-4254-b3c4-e6dad7c6b494",
   "metadata": {},
   "outputs": [
    {
     "data": {
      "text/plain": [
       "DoneAndNotDoneFutures(done={<Future: finished, type: pandas.core.frame.DataFrame, key: ('reset_index-1bf8b3f1ac8a9cfa06c6dbd6f1578f08', 0)>}, not_done=set())"
      ]
     },
     "execution_count": 25,
     "metadata": {},
     "output_type": "execute_result"
    },
    {
     "name": "stdout",
     "output_type": "stream",
     "text": [
      "time: 3.05 ms (started: 2023-03-12 15:22:41 -07:00)\n"
     ]
    }
   ],
   "source": [
    "wait(final_view)"
   ]
  },
  {
   "cell_type": "code",
   "execution_count": 26,
   "id": "cec9747b-56f6-4791-b4cc-38f91f54e0c8",
   "metadata": {},
   "outputs": [
    {
     "name": "stdout",
     "output_type": "stream",
     "text": [
      "time: 852 ms (started: 2023-03-12 15:22:47 -07:00)\n"
     ]
    }
   ],
   "source": [
    "final_view.repartition('100MB').to_parquet(f\"{log_dir}/cached/final_view\")"
   ]
  },
  {
   "cell_type": "code",
   "execution_count": 27,
   "id": "7b3b0a0d-7fef-49de-8283-e89263c4e4ee",
   "metadata": {},
   "outputs": [
    {
     "name": "stdout",
     "output_type": "stream",
     "text": [
      "total 22M\n",
      "-rw------- 1 izzet iopp 4.9K Mar 12 15:22 _common_metadata\n",
      "-rw------- 1 izzet iopp 8.2K Mar 12 15:22 _metadata\n",
      "-rw------- 1 izzet iopp  22M Mar 12 15:22 part.0.parquet\n",
      "time: 267 ms (started: 2023-03-12 15:22:53 -07:00)\n"
     ]
    }
   ],
   "source": [
    "!ls -lh {log_dir}/cached/final_view | head -n 10"
   ]
  },
  {
   "cell_type": "code",
   "execution_count": 28,
   "id": "7914d82c-9bb7-47d4-839d-a2f590ee5c5f",
   "metadata": {},
   "outputs": [
    {
     "name": "stdout",
     "output_type": "stream",
     "text": [
      "time: 852 µs (started: 2023-03-12 15:23:07 -07:00)\n"
     ]
    }
   ],
   "source": [
    "del final_view"
   ]
  },
  {
   "cell_type": "code",
   "execution_count": 29,
   "id": "cb4d60d1-64f8-4283-9693-035a905ebe82",
   "metadata": {},
   "outputs": [
    {
     "data": {
      "text/html": [
       "<div><strong>Dask DataFrame Structure:</strong></div>\n",
       "<div>\n",
       "<style scoped>\n",
       "    .dataframe tbody tr th:only-of-type {\n",
       "        vertical-align: middle;\n",
       "    }\n",
       "\n",
       "    .dataframe tbody tr th {\n",
       "        vertical-align: top;\n",
       "    }\n",
       "\n",
       "    .dataframe thead th {\n",
       "        text-align: right;\n",
       "    }\n",
       "</style>\n",
       "<table border=\"1\" class=\"dataframe\">\n",
       "  <thead>\n",
       "    <tr style=\"text-align: right;\">\n",
       "      <th></th>\n",
       "      <th>trange</th>\n",
       "      <th>file_name</th>\n",
       "      <th>proc_name</th>\n",
       "      <th>io_cat</th>\n",
       "      <th>acc_pat</th>\n",
       "      <th>duration_sum</th>\n",
       "      <th>index_count</th>\n",
       "      <th>size_min</th>\n",
       "      <th>size_max</th>\n",
       "      <th>size_sum</th>\n",
       "      <th>read_count</th>\n",
       "      <th>write_count</th>\n",
       "      <th>metadata_count</th>\n",
       "      <th>read_size</th>\n",
       "      <th>write_size</th>\n",
       "      <th>metadata_size</th>\n",
       "      <th>read_time</th>\n",
       "      <th>write_time</th>\n",
       "      <th>metadata_time</th>\n",
       "      <th>sequential_count</th>\n",
       "      <th>random_count</th>\n",
       "      <th>sequential_size</th>\n",
       "      <th>random_size</th>\n",
       "      <th>sequential_time</th>\n",
       "      <th>random_time</th>\n",
       "      <th>data_count</th>\n",
       "      <th>data_size</th>\n",
       "      <th>data_time</th>\n",
       "      <th>open_time</th>\n",
       "      <th>close_time</th>\n",
       "      <th>seek_time</th>\n",
       "      <th>stat_time</th>\n",
       "    </tr>\n",
       "    <tr>\n",
       "      <th>npartitions=1</th>\n",
       "      <th></th>\n",
       "      <th></th>\n",
       "      <th></th>\n",
       "      <th></th>\n",
       "      <th></th>\n",
       "      <th></th>\n",
       "      <th></th>\n",
       "      <th></th>\n",
       "      <th></th>\n",
       "      <th></th>\n",
       "      <th></th>\n",
       "      <th></th>\n",
       "      <th></th>\n",
       "      <th></th>\n",
       "      <th></th>\n",
       "      <th></th>\n",
       "      <th></th>\n",
       "      <th></th>\n",
       "      <th></th>\n",
       "      <th></th>\n",
       "      <th></th>\n",
       "      <th></th>\n",
       "      <th></th>\n",
       "      <th></th>\n",
       "      <th></th>\n",
       "      <th></th>\n",
       "      <th></th>\n",
       "      <th></th>\n",
       "      <th></th>\n",
       "      <th></th>\n",
       "      <th></th>\n",
       "      <th></th>\n",
       "    </tr>\n",
       "  </thead>\n",
       "  <tbody>\n",
       "    <tr>\n",
       "      <th>0</th>\n",
       "      <td>int64</td>\n",
       "      <td>object</td>\n",
       "      <td>object</td>\n",
       "      <td>int64</td>\n",
       "      <td>int64</td>\n",
       "      <td>float32</td>\n",
       "      <td>int64</td>\n",
       "      <td>int64</td>\n",
       "      <td>int64</td>\n",
       "      <td>int64</td>\n",
       "      <td>int64</td>\n",
       "      <td>int64</td>\n",
       "      <td>int64</td>\n",
       "      <td>int64</td>\n",
       "      <td>int64</td>\n",
       "      <td>int64</td>\n",
       "      <td>int64</td>\n",
       "      <td>int64</td>\n",
       "      <td>int64</td>\n",
       "      <td>int64</td>\n",
       "      <td>int64</td>\n",
       "      <td>int64</td>\n",
       "      <td>int64</td>\n",
       "      <td>int64</td>\n",
       "      <td>int64</td>\n",
       "      <td>int64</td>\n",
       "      <td>int64</td>\n",
       "      <td>int64</td>\n",
       "      <td>int64</td>\n",
       "      <td>int64</td>\n",
       "      <td>int64</td>\n",
       "      <td>int64</td>\n",
       "    </tr>\n",
       "    <tr>\n",
       "      <th>62788</th>\n",
       "      <td>...</td>\n",
       "      <td>...</td>\n",
       "      <td>...</td>\n",
       "      <td>...</td>\n",
       "      <td>...</td>\n",
       "      <td>...</td>\n",
       "      <td>...</td>\n",
       "      <td>...</td>\n",
       "      <td>...</td>\n",
       "      <td>...</td>\n",
       "      <td>...</td>\n",
       "      <td>...</td>\n",
       "      <td>...</td>\n",
       "      <td>...</td>\n",
       "      <td>...</td>\n",
       "      <td>...</td>\n",
       "      <td>...</td>\n",
       "      <td>...</td>\n",
       "      <td>...</td>\n",
       "      <td>...</td>\n",
       "      <td>...</td>\n",
       "      <td>...</td>\n",
       "      <td>...</td>\n",
       "      <td>...</td>\n",
       "      <td>...</td>\n",
       "      <td>...</td>\n",
       "      <td>...</td>\n",
       "      <td>...</td>\n",
       "      <td>...</td>\n",
       "      <td>...</td>\n",
       "      <td>...</td>\n",
       "      <td>...</td>\n",
       "    </tr>\n",
       "  </tbody>\n",
       "</table>\n",
       "</div>\n",
       "<div>Dask Name: read-parquet, 1 tasks</div>"
      ],
      "text/plain": [
       "Dask DataFrame Structure:\n",
       "              trange file_name proc_name io_cat acc_pat duration_sum index_count size_min size_max size_sum read_count write_count metadata_count read_size write_size metadata_size read_time write_time metadata_time sequential_count random_count sequential_size random_size sequential_time random_time data_count data_size data_time open_time close_time seek_time stat_time\n",
       "npartitions=1                                                                                                                                                                                                                                                                                                                                                                        \n",
       "0              int64    object    object  int64   int64      float32       int64    int64    int64    int64      int64       int64          int64     int64      int64         int64     int64      int64         int64            int64        int64           int64       int64           int64       int64      int64     int64     int64     int64      int64     int64     int64\n",
       "62788            ...       ...       ...    ...     ...          ...         ...      ...      ...      ...        ...         ...            ...       ...        ...           ...       ...        ...           ...              ...          ...             ...         ...             ...         ...        ...       ...       ...       ...        ...       ...       ...\n",
       "Dask Name: read-parquet, 1 tasks"
      ]
     },
     "execution_count": 29,
     "metadata": {},
     "output_type": "execute_result"
    },
    {
     "name": "stdout",
     "output_type": "stream",
     "text": [
      "time: 63.6 ms (started: 2023-03-12 15:23:12 -07:00)\n"
     ]
    }
   ],
   "source": [
    "final_view = dd.read_parquet(f\"{log_dir}/cached/final_view/*.parquet\")\n",
    "final_view"
   ]
  },
  {
   "cell_type": "code",
   "execution_count": 30,
   "id": "911c6a6d-42a6-4629-b414-7a0e9bac3758",
   "metadata": {},
   "outputs": [
    {
     "data": {
      "text/plain": [
       "dd.Scalar<series-..., dtype=float64>"
      ]
     },
     "execution_count": 30,
     "metadata": {},
     "output_type": "execute_result"
    },
    {
     "name": "stdout",
     "output_type": "stream",
     "text": [
      "time: 16.7 ms (started: 2023-03-12 15:23:19 -07:00)\n"
     ]
    }
   ],
   "source": [
    "max_io_time = final_view.groupby(['proc_name']).agg({'duration_sum':sum})['duration_sum'].max()\n",
    "max_io_time"
   ]
  },
  {
   "cell_type": "code",
   "execution_count": 31,
   "id": "a24968cf-6b2b-4d4c-a229-2a2d1804ce87",
   "metadata": {},
   "outputs": [
    {
     "name": "stdout",
     "output_type": "stream",
     "text": [
      "time: 887 µs (started: 2023-03-12 15:23:31 -07:00)\n"
     ]
    }
   ],
   "source": [
    "DELTA = 0.0001\n",
    "CUT = 0.5"
   ]
  },
  {
   "cell_type": "code",
   "execution_count": 32,
   "id": "0820afa4-0716-44fc-8c6f-c1d44b449b43",
   "metadata": {},
   "outputs": [
    {
     "data": {
      "text/plain": [
       "15"
      ]
     },
     "execution_count": 32,
     "metadata": {},
     "output_type": "execute_result"
    },
    {
     "name": "stdout",
     "output_type": "stream",
     "text": [
      "time: 535 ms (started: 2023-03-12 15:23:37 -07:00)\n"
     ]
    }
   ],
   "source": [
    "import itertools as it\n",
    "\n",
    "def _view_permutations(r: int):\n",
    "    return it.permutations(VIEW_TYPES, r + 1)\n",
    "\n",
    "metric = 'duration'\n",
    "views = {}\n",
    "for view_permutation in it.chain.from_iterable(map(_view_permutations, range(len(VIEW_TYPES)))):\n",
    "    # Read types\n",
    "    parent_type = view_permutation[:-1]\n",
    "    view_type = view_permutation[-1]\n",
    "    # Get parent view\n",
    "    parent_view = views[parent_type] if parent_type in views else final_view\n",
    "    # Create colum names\n",
    "    metric_col, delta_col = f\"{metric}_sum\", f\"{metric}_delta\"\n",
    "    # Check view type\n",
    "    if view_type is not 'proc_name':\n",
    "        # Compute `proc_id` view first\n",
    "        group_view = parent_view \\\n",
    "            .groupby([view_type, 'proc_name']) \\\n",
    "            .agg({metric_col: sum}) \\\n",
    "            .groupby([view_type]) \\\n",
    "            .max()\n",
    "    else:\n",
    "        # Compute group view\n",
    "        group_view = parent_view \\\n",
    "            .groupby([view_type]) \\\n",
    "            .agg({metric_col: sum})\n",
    "    # Set metric scores\n",
    "    group_view = group_view \\\n",
    "        .map_partitions(set_metric_deltas, metric=metric, max_io_time=max_io_time) \\\n",
    "        .query(f\"{delta_col} > @delta\", local_dict={'delta': DELTA})\n",
    "    # Find filtered records\n",
    "    view = parent_view.query(f\"{view_type} in @indices\", local_dict={'indices': group_view.index.unique()})\n",
    "    # Return views\n",
    "    views[view_permutation] = view\n",
    "\n",
    "len(views)"
   ]
  },
  {
   "cell_type": "code",
   "execution_count": 33,
   "id": "58fce03b-5949-4236-89de-f2a8c836212b",
   "metadata": {},
   "outputs": [
    {
     "name": "stdout",
     "output_type": "stream",
     "text": [
      "('trange',) 62779\n",
      "('file_name',) 43710\n",
      "('proc_name',) 60726\n",
      "('trange', 'file_name') 43702\n",
      "('trange', 'proc_name') 60724\n",
      "('file_name', 'trange') 43709\n",
      "('file_name', 'proc_name') 41750\n",
      "('proc_name', 'trange') 60716\n",
      "('proc_name', 'file_name') 41729\n",
      "('trange', 'file_name', 'proc_name') 41732\n",
      "('trange', 'proc_name', 'file_name') 41730\n",
      "('file_name', 'trange', 'proc_name') 41749\n",
      "('file_name', 'proc_name', 'trange') 41749\n",
      "('proc_name', 'trange', 'file_name') 41727\n",
      "('proc_name', 'file_name', 'trange') 41728\n",
      "time: 5.65 s (started: 2023-03-12 15:23:45 -07:00)\n"
     ]
    }
   ],
   "source": [
    "for view_key, view in views.items():\n",
    "    print(view_key, len(view))"
   ]
  },
  {
   "cell_type": "code",
   "execution_count": 34,
   "id": "be3b777d-566e-45d2-ab1e-8e2655766d75",
   "metadata": {},
   "outputs": [
    {
     "name": "stdout",
     "output_type": "stream",
     "text": [
      "time: 8.62 ms (started: 2023-03-12 15:23:56 -07:00)\n"
     ]
    }
   ],
   "source": [
    "import dask.dataframe as dd\n",
    "import pandas as pd\n",
    "from dask import compute, delayed\n",
    "from dask.distributed import get_client\n",
    "from typing import Any, Dict\n",
    "\n",
    "BOTTLENECK_ORDER = dict(\n",
    "    file_name=('file_name', 'proc_name', 'trange'),\n",
    "    proc_name=('proc_name', 'trange', 'file_name'),\n",
    "    trange=('trange', 'proc_name', 'file_name'),\n",
    ")\n",
    "BOTTLENECK_TYPE = dict(\n",
    "    file_name='file_name',\n",
    "    proc_name='proc_name',\n",
    "    trange='trange'\n",
    ")\n",
    "\n",
    "def _calculate_llc(level_row: pd.Series):\n",
    "    llc = dict(level_row)\n",
    "    for view_type in VIEW_TYPES:\n",
    "        if view_type in llc:\n",
    "            llc.pop(view_type)\n",
    "        bottleneck_type = BOTTLENECK_TYPE[view_type]\n",
    "        if bottleneck_type in llc:\n",
    "            llc.pop(bottleneck_type)\n",
    "    return llc\n",
    "\n",
    "\n",
    "@delayed\n",
    "def _process_bottleneck_view(\n",
    "    view_key: tuple,\n",
    "    threshold: float,\n",
    "    low_level_view: pd.DataFrame,\n",
    "    mid_level_view: pd.DataFrame,\n",
    "    high_level_view: pd.DataFrame,\n",
    "):\n",
    "    # Get view type\n",
    "    view_type = view_key[-1]\n",
    "    # Get ordered bottleneck columns\n",
    "    _, ml_col, ll_col = BOTTLENECK_ORDER[view_type]\n",
    "    # Init bottlenecks\n",
    "    bottlenecks = {}\n",
    "    # Loop through index tuples\n",
    "    ids_tuple = low_level_view.index\n",
    "    for hl_id, ml_id, ll_id in ids_tuple:\n",
    "        hl_row = high_level_view.loc[hl_id]\n",
    "        ml_row = mid_level_view.loc[(hl_id, ml_id)]\n",
    "        ll_row = low_level_view.loc[(hl_id, ml_id, ll_id)]\n",
    "        if hl_id not in bottlenecks:\n",
    "            bottlenecks[hl_id] = {}\n",
    "            bottlenecks[hl_id]['llc'] = _calculate_llc(hl_row)\n",
    "            bottlenecks[hl_id][ml_col] = {}\n",
    "        if ml_id not in bottlenecks[hl_id][ml_col]:\n",
    "            bottlenecks[hl_id][ml_col][ml_id] = {}\n",
    "            bottlenecks[hl_id][ml_col][ml_id]['llc'] = _calculate_llc(ml_row)\n",
    "            bottlenecks[hl_id][ml_col][ml_id][ll_col] = {}\n",
    "        if ll_id not in bottlenecks[hl_id][ml_col][ml_id][ll_col]:\n",
    "            bottlenecks[hl_id][ml_col][ml_id][ll_col][ll_id] = {}\n",
    "            bottlenecks[hl_id][ml_col][ml_id][ll_col][ll_id]['llc'] = _calculate_llc(ll_row)\n",
    "    # Return view key & bottlenecks\n",
    "    return view_key, threshold, bottlenecks\n",
    "\n",
    "def detect_bottlenecks(views: Dict[tuple, dd.DataFrame], view_types: list) -> Dict[tuple, object]:\n",
    "    # Keep bottleneck views\n",
    "    bottleneck_views = {}\n",
    "    # Run through views\n",
    "    for view_key, view in views.items():\n",
    "        # Generate bottleneck views\n",
    "        bottleneck_views[view_key] = _generate_bottlenecks_views(\n",
    "            view_key=view_key,\n",
    "            view=view,\n",
    "            view_types=view_types,\n",
    "            max_io_time=max_io_time,\n",
    "            metric=metric,\n",
    "        )\n",
    "    # Generate bottlenecks\n",
    "    bottlenecks = _process_bottleneck_views(\n",
    "        bottleneck_views=bottleneck_views,\n",
    "        metric=metric,\n",
    "    )\n",
    "    # Return bottleneck views\n",
    "    return bottlenecks, bottleneck_views\n",
    "\n",
    "def _process_bottleneck_views(bottleneck_views: Dict[tuple, dd.DataFrame], metric: str):\n",
    "    # Init bottlenecks\n",
    "    bottlenecks = {}\n",
    "    bottlenecks_delayed = []\n",
    "    # Run through bottleneck views\n",
    "    for view_key, view_dict in bottleneck_views.items():\n",
    "        # For given thresholds\n",
    "        for th in DELTA_BINS[1:-1]:  # [0.25, 0.5, 0.75]\n",
    "\n",
    "            threshold_col = f\"{metric}_th\"\n",
    "\n",
    "            low_level_view = view_dict['low_level_view']\n",
    "            mid_level_view = view_dict['mid_level_view']\n",
    "            high_level_view = view_dict['high_level_view']\n",
    "\n",
    "            bottlenecks_delayed.append(_process_bottleneck_view(\n",
    "                view_key=view_key,\n",
    "                threshold=th,\n",
    "                low_level_view=low_level_view.query(f\"{threshold_col} >= @th\", local_dict={'th': th}),\n",
    "                mid_level_view=mid_level_view.query(f\"{threshold_col} >= @th\", local_dict={'th': th}),\n",
    "                high_level_view=high_level_view.query(f\"{threshold_col} >= @th\", local_dict={'th': th})\n",
    "            ))\n",
    "\n",
    "    # Compute all bottlenecks\n",
    "    results = compute(*bottlenecks_delayed)\n",
    "    for view_key, th, result in results:\n",
    "        bottlenecks[view_key] = bottlenecks[view_key] if view_key in bottlenecks else {}\n",
    "        bottlenecks[view_key][f\"{th:.3f}\"] = result\n",
    "    # Return all bottlenecks\n",
    "    return bottlenecks\n",
    "\n",
    "def _generate_bottlenecks_views(\n",
    "    view_key: tuple,\n",
    "    view: dd.DataFrame,\n",
    "    view_types: list,\n",
    "    max_io_time: dd.core.Scalar,\n",
    "    metric: str,\n",
    "):\n",
    "    # Get view type\n",
    "    view_type = view_key[-1]\n",
    "    bottleneck_type = BOTTLENECK_TYPE[view_type]\n",
    "\n",
    "    # Create lower level view\n",
    "    low_level_view = view \\\n",
    "        .groupby(list(BOTTLENECK_ORDER[view_type])) \\\n",
    "        .first() \\\n",
    "        .drop(columns=['acc_pat', 'io_cat', 'file_id', 'proc_id'], errors='ignore')\n",
    "\n",
    "    # Non-proc agg columns\n",
    "    non_proc_agg_dict = _get_agg_dict(view_types=view_types, view_columns=low_level_view.columns, is_proc=False)\n",
    "    proc_agg_dict = _get_agg_dict(view_types=view_types, view_columns=low_level_view.columns, is_proc=True)\n",
    "\n",
    "    # Create mid and high level views\n",
    "    if bottleneck_type is not 'proc_name':\n",
    "        mid_level_view = low_level_view \\\n",
    "            .reset_index() \\\n",
    "            .groupby([bottleneck_type, 'proc_name']) \\\n",
    "            .agg(non_proc_agg_dict)\n",
    "\n",
    "        high_level_view = mid_level_view \\\n",
    "            .reset_index() \\\n",
    "            .groupby([bottleneck_type]) \\\n",
    "            .agg(proc_agg_dict)\n",
    "    else:\n",
    "        mid_level_view = low_level_view \\\n",
    "            .reset_index() \\\n",
    "            .groupby([bottleneck_type, 'trange']) \\\n",
    "            .agg(non_proc_agg_dict)\n",
    "\n",
    "        high_level_view = mid_level_view \\\n",
    "            .reset_index() \\\n",
    "            .groupby([bottleneck_type]) \\\n",
    "            .agg(non_proc_agg_dict)\n",
    "\n",
    "    low_level_view = low_level_view \\\n",
    "        .map_partitions(set_metric_percentages, metric=metric, max_io_time=max_io_time) \\\n",
    "        .map_partitions(set_metric_scores, metric=metric, col=f\"{metric}_pero\")\n",
    "\n",
    "    mid_level_view = mid_level_view \\\n",
    "        .map_partitions(set_metric_percentages, metric=metric, max_io_time=max_io_time) \\\n",
    "        .map_partitions(set_metric_scores, metric=metric, col=f\"{metric}_pero\")\n",
    "\n",
    "    high_level_view = high_level_view \\\n",
    "        .map_partitions(set_metric_percentages, metric=metric, max_io_time=max_io_time) \\\n",
    "        .map_partitions(set_metric_scores, metric=metric, col=f\"{metric}_pero\")\n",
    "\n",
    "    return dict(\n",
    "        low_level_view=low_level_view,\n",
    "        mid_level_view=mid_level_view,\n",
    "        high_level_view=high_level_view\n",
    "    )\n",
    "\n",
    "def _get_agg_dict(view_types: list, view_columns: list, is_proc=False):\n",
    "    if is_proc:\n",
    "        agg_dict = {col: max if any(x in col for x in 'duration time'.split()) else sum for col in view_columns}\n",
    "    else:\n",
    "        agg_dict = {col: sum for col in view_columns}\n",
    "#     agg_dict['func_id'] = unique_flatten()\n",
    "    agg_dict['size_min'] = min\n",
    "    agg_dict['size_max'] = max\n",
    "    for view_type in view_types:\n",
    "        if view_type in agg_dict:\n",
    "            agg_dict.pop(view_type)\n",
    "        bottleneck_type = BOTTLENECK_TYPE[view_type]\n",
    "        if bottleneck_type in agg_dict:\n",
    "            agg_dict.pop(bottleneck_type)\n",
    "    return agg_dict\n"
   ]
  },
  {
   "cell_type": "code",
   "execution_count": 35,
   "id": "9bb842f9-c6f6-422d-8f30-ecb27960d0c6",
   "metadata": {},
   "outputs": [
    {
     "data": {
      "text/plain": [
       "15"
      ]
     },
     "execution_count": 35,
     "metadata": {},
     "output_type": "execute_result"
    },
    {
     "name": "stdout",
     "output_type": "stream",
     "text": [
      "time: 49.4 s (started: 2023-03-12 15:24:08 -07:00)\n"
     ]
    }
   ],
   "source": [
    "bottlenecks, bottleneck_views = detect_bottlenecks(\n",
    "    views=views,\n",
    "    view_types=VIEW_TYPES,\n",
    ")\n",
    "\n",
    "len(bottlenecks)"
   ]
  },
  {
   "cell_type": "code",
   "execution_count": 36,
   "id": "213593a3-43cc-418e-9332-2af4922c07cc",
   "metadata": {},
   "outputs": [
    {
     "name": "stdout",
     "output_type": "stream",
     "text": [
      "('trange',) 0.001 70\n",
      "('trange',) 0.010 40\n",
      "('trange',) 0.100 0\n",
      "('trange',) 0.250 0\n",
      "('trange',) 0.500 0\n",
      "('trange',) 0.750 0\n",
      "('file_name',) 0.001 2664\n",
      "('file_name',) 0.010 750\n",
      "('file_name',) 0.100 0\n",
      "('file_name',) 0.250 0\n",
      "('file_name',) 0.500 0\n",
      "('file_name',) 0.750 0\n",
      "('proc_name',) 0.001 4841\n",
      "('proc_name',) 0.010 886\n",
      "('proc_name',) 0.100 0\n",
      "('proc_name',) 0.250 0\n",
      "('proc_name',) 0.500 0\n",
      "('proc_name',) 0.750 0\n",
      "('trange', 'file_name') 0.001 2664\n",
      "('trange', 'file_name') 0.010 750\n",
      "('trange', 'file_name') 0.100 0\n",
      "('trange', 'file_name') 0.250 0\n",
      "('trange', 'file_name') 0.500 0\n",
      "('trange', 'file_name') 0.750 0\n",
      "('trange', 'proc_name') 0.001 4841\n",
      "('trange', 'proc_name') 0.010 886\n",
      "('trange', 'proc_name') 0.100 0\n",
      "('trange', 'proc_name') 0.250 0\n",
      "('trange', 'proc_name') 0.500 0\n",
      "('trange', 'proc_name') 0.750 0\n",
      "('file_name', 'trange') 0.001 70\n",
      "('file_name', 'trange') 0.010 40\n",
      "('file_name', 'trange') 0.100 0\n",
      "('file_name', 'trange') 0.250 0\n",
      "('file_name', 'trange') 0.500 0\n",
      "('file_name', 'trange') 0.750 0\n",
      "('file_name', 'proc_name') 0.001 4841\n",
      "('file_name', 'proc_name') 0.010 886\n",
      "('file_name', 'proc_name') 0.100 0\n",
      "('file_name', 'proc_name') 0.250 0\n",
      "('file_name', 'proc_name') 0.500 0\n",
      "('file_name', 'proc_name') 0.750 0\n",
      "('proc_name', 'trange') 0.001 70\n",
      "('proc_name', 'trange') 0.010 40\n",
      "('proc_name', 'trange') 0.100 0\n",
      "('proc_name', 'trange') 0.250 0\n",
      "('proc_name', 'trange') 0.500 0\n",
      "('proc_name', 'trange') 0.750 0\n",
      "('proc_name', 'file_name') 0.001 2664\n",
      "('proc_name', 'file_name') 0.010 750\n",
      "('proc_name', 'file_name') 0.100 0\n",
      "('proc_name', 'file_name') 0.250 0\n",
      "('proc_name', 'file_name') 0.500 0\n",
      "('proc_name', 'file_name') 0.750 0\n",
      "('trange', 'file_name', 'proc_name') 0.001 4841\n",
      "('trange', 'file_name', 'proc_name') 0.010 886\n",
      "('trange', 'file_name', 'proc_name') 0.100 0\n",
      "('trange', 'file_name', 'proc_name') 0.250 0\n",
      "('trange', 'file_name', 'proc_name') 0.500 0\n",
      "('trange', 'file_name', 'proc_name') 0.750 0\n",
      "('trange', 'proc_name', 'file_name') 0.001 2664\n",
      "('trange', 'proc_name', 'file_name') 0.010 750\n",
      "('trange', 'proc_name', 'file_name') 0.100 0\n",
      "('trange', 'proc_name', 'file_name') 0.250 0\n",
      "('trange', 'proc_name', 'file_name') 0.500 0\n",
      "('trange', 'proc_name', 'file_name') 0.750 0\n",
      "('file_name', 'trange', 'proc_name') 0.001 4841\n",
      "('file_name', 'trange', 'proc_name') 0.010 886\n",
      "('file_name', 'trange', 'proc_name') 0.100 0\n",
      "('file_name', 'trange', 'proc_name') 0.250 0\n",
      "('file_name', 'trange', 'proc_name') 0.500 0\n",
      "('file_name', 'trange', 'proc_name') 0.750 0\n",
      "('file_name', 'proc_name', 'trange') 0.001 70\n",
      "('file_name', 'proc_name', 'trange') 0.010 40\n",
      "('file_name', 'proc_name', 'trange') 0.100 0\n",
      "('file_name', 'proc_name', 'trange') 0.250 0\n",
      "('file_name', 'proc_name', 'trange') 0.500 0\n",
      "('file_name', 'proc_name', 'trange') 0.750 0\n",
      "('proc_name', 'trange', 'file_name') 0.001 2664\n",
      "('proc_name', 'trange', 'file_name') 0.010 750\n",
      "('proc_name', 'trange', 'file_name') 0.100 0\n",
      "('proc_name', 'trange', 'file_name') 0.250 0\n",
      "('proc_name', 'trange', 'file_name') 0.500 0\n",
      "('proc_name', 'trange', 'file_name') 0.750 0\n",
      "('proc_name', 'file_name', 'trange') 0.001 70\n",
      "('proc_name', 'file_name', 'trange') 0.010 40\n",
      "('proc_name', 'file_name', 'trange') 0.100 0\n",
      "('proc_name', 'file_name', 'trange') 0.250 0\n",
      "('proc_name', 'file_name', 'trange') 0.500 0\n",
      "('proc_name', 'file_name', 'trange') 0.750 0\n",
      "time: 7.82 ms (started: 2023-03-12 15:24:57 -07:00)\n"
     ]
    }
   ],
   "source": [
    "for view_key, bottleneck in bottlenecks.items():\n",
    "    for th in bottleneck.keys():\n",
    "        print(view_key, th, len(bottleneck[th]))"
   ]
  },
  {
   "cell_type": "code",
   "execution_count": 37,
   "id": "8ff3c255-7cf1-4df7-8c0a-7f6746b09eb1",
   "metadata": {},
   "outputs": [
    {
     "data": {
      "text/plain": [
       "3.7391977310180664"
      ]
     },
     "execution_count": 37,
     "metadata": {},
     "output_type": "execute_result"
    },
    {
     "name": "stdout",
     "output_type": "stream",
     "text": [
      "time: 170 ms (started: 2023-03-12 15:25:21 -07:00)\n"
     ]
    }
   ],
   "source": [
    "max_io_time.compute()"
   ]
  },
  {
   "cell_type": "code",
   "execution_count": 38,
   "id": "41f5ba54-fe05-4279-9906-10d619206f12",
   "metadata": {},
   "outputs": [
    {
     "name": "stdout",
     "output_type": "stream",
     "text": [
      "time: 153 ms (started: 2023-03-12 15:25:30 -07:00)\n"
     ]
    }
   ],
   "source": [
    "!mkdir -p {log_dir}/bottlenecks"
   ]
  },
  {
   "cell_type": "code",
   "execution_count": 39,
   "id": "9a5cd417-c291-4c9a-80c8-6802635f0b67",
   "metadata": {},
   "outputs": [
    {
     "name": "stdout",
     "output_type": "stream",
     "text": [
      "time: 1.94 ms (started: 2023-03-12 15:25:39 -07:00)\n"
     ]
    }
   ],
   "source": [
    "def save_bottlenecks(log_dir: str, bottlenecks: Dict[tuple, object]):\n",
    "    bottleneck_dir = f\"{log_dir}/bottlenecks\"\n",
    "    for view_key, bottleneck_dict in bottlenecks.items():\n",
    "        file_name = '_'.join(view_key) if isinstance(view_key, tuple) else view_key\n",
    "        with open(f\"{bottleneck_dir}/{file_name}.json\", 'w') as json_file:\n",
    "            json.dump(bottleneck_dict, json_file, cls=NpEncoder, sort_keys=True)"
   ]
  },
  {
   "cell_type": "code",
   "execution_count": null,
   "id": "35dd3a8b-c4ae-4fe6-b5fc-957471b5c66e",
   "metadata": {},
   "outputs": [],
   "source": [
    "save_bottlenecks(log_dir=log_dir, bottlenecks=bottlenecks)"
   ]
  },
  {
   "cell_type": "code",
   "execution_count": null,
   "id": "b2b13f45-fa96-4226-b97b-c99ba0211200",
   "metadata": {},
   "outputs": [],
   "source": []
  }
 ],
 "metadata": {
  "kernelspec": {
   "display_name": "iopp",
   "language": "python",
   "name": "iopp"
  },
  "language_info": {
   "codemirror_mode": {
    "name": "ipython",
    "version": 3
   },
   "file_extension": ".py",
   "mimetype": "text/x-python",
   "name": "python",
   "nbconvert_exporter": "python",
   "pygments_lexer": "ipython3",
   "version": "3.9.7"
  }
 },
 "nbformat": 4,
 "nbformat_minor": 5
}

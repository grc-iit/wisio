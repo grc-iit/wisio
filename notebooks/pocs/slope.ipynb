{
 "cells": [
  {
   "cell_type": "code",
   "execution_count": 1,
   "metadata": {},
   "outputs": [
    {
     "name": "stdout",
     "output_type": "stream",
     "text": [
      "time: 165 µs (started: 2024-01-30 22:10:25 -08:00)\n"
     ]
    }
   ],
   "source": [
    "%load_ext autoreload\n",
    "%load_ext autotime"
   ]
  },
  {
   "cell_type": "code",
   "execution_count": 2,
   "metadata": {},
   "outputs": [
    {
     "name": "stdout",
     "output_type": "stream",
     "text": [
      "pandas 2.1.2\n",
      "dask 2023.9.3\n",
      "numpy 1.24.3\n",
      "time: 1.73 s (started: 2024-01-30 22:10:25 -08:00)\n"
     ]
    }
   ],
   "source": [
    "import dask\n",
    "import dask.dataframe as dd\n",
    "import multiprocessing.popen_spawn_posix\n",
    "import numpy as np\n",
    "import pandas as pd\n",
    "print('pandas', pd.__version__)\n",
    "print('dask', dask.__version__)\n",
    "print('numpy', np.__version__)"
   ]
  },
  {
   "cell_type": "code",
   "execution_count": 30,
   "metadata": {},
   "outputs": [
    {
     "data": {
      "text/plain": [
       "0.17632698070846498"
      ]
     },
     "execution_count": 30,
     "metadata": {},
     "output_type": "execute_result"
    },
    {
     "name": "stdout",
     "output_type": "stream",
     "text": [
      "time: 2.66 ms (started: 2024-01-30 22:17:14 -08:00)\n"
     ]
    }
   ],
   "source": [
    "# np.tan(10)\n",
    "\n",
    "import math\n",
    "\n",
    "# math.tan(1)\n",
    "\n",
    "# math.tan(10 * math.pi / 180)\n",
    "\n",
    "# np.tan(45 * math.pi / 180)\n",
    "\n",
    "np.tan(np.deg2rad(10))"
   ]
  },
  {
   "cell_type": "code",
   "execution_count": 4,
   "metadata": {},
   "outputs": [
    {
     "name": "stdout",
     "output_type": "stream",
     "text": [
      "0.17632698070846498 0.17632698\n",
      "0.36397023426620234 0.36397023\n",
      "0.5773502691896257 0.57735027\n",
      "0.8390996311772799 0.83909963\n",
      "1.19175359259421 1.19175359\n",
      "1.7320508075688767 1.73205081\n",
      "2.7474774194546216 2.74747742\n",
      "5.671281819617707 5.67128182\n"
     ]
    }
   ],
   "source": [
    "import numpy as np\n",
    "\n",
    "vals = [\n",
    "    0.17632698,  # tan10 = 0.17632698\n",
    "    0.36397023,  # tan20 = 0.36397023\n",
    "    0.57735027,  # tan30 = 0.57735027\n",
    "    0.83909963,  # tan40 = 0.83909963\n",
    "    1.19175359,  # tan50 = 1.19175359\n",
    "    1.73205081,  # tan60 = 1.73205081\n",
    "    2.74747742,  # tan70 = 2.74747742\n",
    "    5.67128182,  # tan80 = 5.67128182\n",
    "]\n",
    "\n",
    "for i, d in enumerate([10, 20, 30, 40, 50, 60, 70, 80]):\n",
    "    print(np.tan(np.deg2rad(d)), vals[i])"
   ]
  },
  {
   "cell_type": "code",
   "execution_count": 60,
   "metadata": {},
   "outputs": [
    {
     "data": {
      "text/html": [
       "<div>\n",
       "<style scoped>\n",
       "    .dataframe tbody tr th:only-of-type {\n",
       "        vertical-align: middle;\n",
       "    }\n",
       "\n",
       "    .dataframe tbody tr th {\n",
       "        vertical-align: top;\n",
       "    }\n",
       "\n",
       "    .dataframe thead th {\n",
       "        text-align: right;\n",
       "    }\n",
       "</style>\n",
       "<table border=\"1\" class=\"dataframe\">\n",
       "  <thead>\n",
       "    <tr style=\"text-align: right;\">\n",
       "      <th></th>\n",
       "      <th>time_range</th>\n",
       "      <th>count_sum</th>\n",
       "      <th>count</th>\n",
       "      <th>count_cs</th>\n",
       "      <th>count_cs_per</th>\n",
       "      <th>count_cs_per_rev</th>\n",
       "      <th>count_cs_per_rev_diff</th>\n",
       "      <th>time_sum</th>\n",
       "      <th>time</th>\n",
       "      <th>time_per</th>\n",
       "      <th>time_per_rev_cs</th>\n",
       "      <th>time_per_rev_cs_diff</th>\n",
       "      <th>time_slope</th>\n",
       "    </tr>\n",
       "  </thead>\n",
       "  <tbody>\n",
       "    <tr>\n",
       "      <th>0</th>\n",
       "      <td>5</td>\n",
       "      <td>27463</td>\n",
       "      <td>32</td>\n",
       "      <td>32</td>\n",
       "      <td>0.998835</td>\n",
       "      <td>0.001165</td>\n",
       "      <td>0.000000</td>\n",
       "      <td>5.854984</td>\n",
       "      <td>2.191843</td>\n",
       "      <td>0.625645</td>\n",
       "      <td>0.374355</td>\n",
       "      <td>0.000000</td>\n",
       "      <td>0.000000</td>\n",
       "    </tr>\n",
       "    <tr>\n",
       "      <th>1</th>\n",
       "      <td>634</td>\n",
       "      <td>27463</td>\n",
       "      <td>40</td>\n",
       "      <td>72</td>\n",
       "      <td>0.997378</td>\n",
       "      <td>0.002622</td>\n",
       "      <td>0.001457</td>\n",
       "      <td>5.854984</td>\n",
       "      <td>0.328102</td>\n",
       "      <td>0.943962</td>\n",
       "      <td>0.430393</td>\n",
       "      <td>0.056038</td>\n",
       "      <td>1.488861</td>\n",
       "    </tr>\n",
       "    <tr>\n",
       "      <th>2</th>\n",
       "      <td>668</td>\n",
       "      <td>27463</td>\n",
       "      <td>909</td>\n",
       "      <td>981</td>\n",
       "      <td>0.964279</td>\n",
       "      <td>0.035721</td>\n",
       "      <td>0.033099</td>\n",
       "      <td>5.854984</td>\n",
       "      <td>0.277307</td>\n",
       "      <td>0.952637</td>\n",
       "      <td>0.477756</td>\n",
       "      <td>0.047363</td>\n",
       "      <td>34.947604</td>\n",
       "    </tr>\n",
       "    <tr>\n",
       "      <th>3</th>\n",
       "      <td>450</td>\n",
       "      <td>27463</td>\n",
       "      <td>567</td>\n",
       "      <td>1548</td>\n",
       "      <td>0.943633</td>\n",
       "      <td>0.056367</td>\n",
       "      <td>0.020646</td>\n",
       "      <td>5.854984</td>\n",
       "      <td>0.240101</td>\n",
       "      <td>0.958992</td>\n",
       "      <td>0.518764</td>\n",
       "      <td>0.041008</td>\n",
       "      <td>26.723503</td>\n",
       "    </tr>\n",
       "    <tr>\n",
       "      <th>4</th>\n",
       "      <td>128</td>\n",
       "      <td>27463</td>\n",
       "      <td>337</td>\n",
       "      <td>1885</td>\n",
       "      <td>0.931362</td>\n",
       "      <td>0.068638</td>\n",
       "      <td>0.012271</td>\n",
       "      <td>5.854984</td>\n",
       "      <td>0.201961</td>\n",
       "      <td>0.965506</td>\n",
       "      <td>0.553258</td>\n",
       "      <td>0.034494</td>\n",
       "      <td>19.582788</td>\n",
       "    </tr>\n",
       "    <tr>\n",
       "      <th>...</th>\n",
       "      <td>...</td>\n",
       "      <td>...</td>\n",
       "      <td>...</td>\n",
       "      <td>...</td>\n",
       "      <td>...</td>\n",
       "      <td>...</td>\n",
       "      <td>...</td>\n",
       "      <td>...</td>\n",
       "      <td>...</td>\n",
       "      <td>...</td>\n",
       "      <td>...</td>\n",
       "      <td>...</td>\n",
       "      <td>...</td>\n",
       "    </tr>\n",
       "    <tr>\n",
       "      <th>388</th>\n",
       "      <td>553</td>\n",
       "      <td>27463</td>\n",
       "      <td>18</td>\n",
       "      <td>27391</td>\n",
       "      <td>0.002622</td>\n",
       "      <td>0.997378</td>\n",
       "      <td>0.000655</td>\n",
       "      <td>5.854984</td>\n",
       "      <td>0.000670</td>\n",
       "      <td>0.999886</td>\n",
       "      <td>0.999574</td>\n",
       "      <td>0.000114</td>\n",
       "      <td>80.099330</td>\n",
       "    </tr>\n",
       "    <tr>\n",
       "      <th>389</th>\n",
       "      <td>617</td>\n",
       "      <td>27463</td>\n",
       "      <td>18</td>\n",
       "      <td>27409</td>\n",
       "      <td>0.001966</td>\n",
       "      <td>0.998034</td>\n",
       "      <td>0.000655</td>\n",
       "      <td>5.854984</td>\n",
       "      <td>0.000632</td>\n",
       "      <td>0.999892</td>\n",
       "      <td>0.999683</td>\n",
       "      <td>0.000108</td>\n",
       "      <td>80.640646</td>\n",
       "    </tr>\n",
       "    <tr>\n",
       "      <th>390</th>\n",
       "      <td>12</td>\n",
       "      <td>27463</td>\n",
       "      <td>18</td>\n",
       "      <td>27427</td>\n",
       "      <td>0.001311</td>\n",
       "      <td>0.998689</td>\n",
       "      <td>0.000655</td>\n",
       "      <td>5.854984</td>\n",
       "      <td>0.000628</td>\n",
       "      <td>0.999893</td>\n",
       "      <td>0.999790</td>\n",
       "      <td>0.000107</td>\n",
       "      <td>80.704615</td>\n",
       "    </tr>\n",
       "    <tr>\n",
       "      <th>391</th>\n",
       "      <td>509</td>\n",
       "      <td>27463</td>\n",
       "      <td>18</td>\n",
       "      <td>27445</td>\n",
       "      <td>0.000655</td>\n",
       "      <td>0.999345</td>\n",
       "      <td>0.000655</td>\n",
       "      <td>5.854984</td>\n",
       "      <td>0.000623</td>\n",
       "      <td>0.999894</td>\n",
       "      <td>0.999896</td>\n",
       "      <td>0.000106</td>\n",
       "      <td>80.775879</td>\n",
       "    </tr>\n",
       "    <tr>\n",
       "      <th>392</th>\n",
       "      <td>396</td>\n",
       "      <td>27463</td>\n",
       "      <td>18</td>\n",
       "      <td>27463</td>\n",
       "      <td>0.000000</td>\n",
       "      <td>1.000000</td>\n",
       "      <td>0.000655</td>\n",
       "      <td>5.854984</td>\n",
       "      <td>0.000608</td>\n",
       "      <td>0.999896</td>\n",
       "      <td>1.000000</td>\n",
       "      <td>0.000104</td>\n",
       "      <td>81.002954</td>\n",
       "    </tr>\n",
       "  </tbody>\n",
       "</table>\n",
       "<p>393 rows × 13 columns</p>\n",
       "</div>"
      ],
      "text/plain": [
       "     time_range  count_sum  count  count_cs  count_cs_per  count_cs_per_rev  \\\n",
       "0             5      27463     32        32      0.998835          0.001165   \n",
       "1           634      27463     40        72      0.997378          0.002622   \n",
       "2           668      27463    909       981      0.964279          0.035721   \n",
       "3           450      27463    567      1548      0.943633          0.056367   \n",
       "4           128      27463    337      1885      0.931362          0.068638   \n",
       "..          ...        ...    ...       ...           ...               ...   \n",
       "388         553      27463     18     27391      0.002622          0.997378   \n",
       "389         617      27463     18     27409      0.001966          0.998034   \n",
       "390          12      27463     18     27427      0.001311          0.998689   \n",
       "391         509      27463     18     27445      0.000655          0.999345   \n",
       "392         396      27463     18     27463      0.000000          1.000000   \n",
       "\n",
       "     count_cs_per_rev_diff  time_sum      time  time_per  time_per_rev_cs  \\\n",
       "0                 0.000000  5.854984  2.191843  0.625645         0.374355   \n",
       "1                 0.001457  5.854984  0.328102  0.943962         0.430393   \n",
       "2                 0.033099  5.854984  0.277307  0.952637         0.477756   \n",
       "3                 0.020646  5.854984  0.240101  0.958992         0.518764   \n",
       "4                 0.012271  5.854984  0.201961  0.965506         0.553258   \n",
       "..                     ...       ...       ...       ...              ...   \n",
       "388               0.000655  5.854984  0.000670  0.999886         0.999574   \n",
       "389               0.000655  5.854984  0.000632  0.999892         0.999683   \n",
       "390               0.000655  5.854984  0.000628  0.999893         0.999790   \n",
       "391               0.000655  5.854984  0.000623  0.999894         0.999896   \n",
       "392               0.000655  5.854984  0.000608  0.999896         1.000000   \n",
       "\n",
       "     time_per_rev_cs_diff  time_slope  \n",
       "0                0.000000    0.000000  \n",
       "1                0.056038    1.488861  \n",
       "2                0.047363   34.947604  \n",
       "3                0.041008   26.723503  \n",
       "4                0.034494   19.582788  \n",
       "..                    ...         ...  \n",
       "388              0.000114   80.099330  \n",
       "389              0.000108   80.640646  \n",
       "390              0.000107   80.704615  \n",
       "391              0.000106   80.775879  \n",
       "392              0.000104   81.002954  \n",
       "\n",
       "[393 rows x 13 columns]"
      ]
     },
     "execution_count": 60,
     "metadata": {},
     "output_type": "execute_result"
    },
    {
     "name": "stdout",
     "output_type": "stream",
     "text": [
      "time: 22.8 ms (started: 2024-01-30 16:55:52 -08:00)\n"
     ]
    }
   ],
   "source": [
    "# /g/g91/izzet/projects/wisio/.wisio/recorder_montage_pegasus_view_types/1705631601.db\n",
    "import sqlite3\n",
    "\n",
    "con = sqlite3.connect('/g/g91/izzet/projects/wisio/.wisio/recorder_cm1_view_types/1705629201.db')\n",
    "\n",
    "df = pd.read_sql('select * from slope', con=con)\n",
    "df"
   ]
  },
  {
   "cell_type": "code",
   "execution_count": 61,
   "metadata": {},
   "outputs": [
    {
     "data": {
      "text/html": [
       "<div>\n",
       "<style scoped>\n",
       "    .dataframe tbody tr th:only-of-type {\n",
       "        vertical-align: middle;\n",
       "    }\n",
       "\n",
       "    .dataframe tbody tr th {\n",
       "        vertical-align: top;\n",
       "    }\n",
       "\n",
       "    .dataframe thead th {\n",
       "        text-align: right;\n",
       "    }\n",
       "</style>\n",
       "<table border=\"1\" class=\"dataframe\">\n",
       "  <thead>\n",
       "    <tr style=\"text-align: right;\">\n",
       "      <th></th>\n",
       "      <th>id</th>\n",
       "      <th>time</th>\n",
       "      <th>time_range</th>\n",
       "      <th>count</th>\n",
       "      <th>time_slope</th>\n",
       "      <th>time_slope2</th>\n",
       "    </tr>\n",
       "  </thead>\n",
       "  <tbody>\n",
       "    <tr>\n",
       "      <th>0</th>\n",
       "      <td>0</td>\n",
       "      <td>2.191843</td>\n",
       "      <td>5</td>\n",
       "      <td>32</td>\n",
       "      <td>0.000000</td>\n",
       "      <td>321.278545</td>\n",
       "    </tr>\n",
       "    <tr>\n",
       "      <th>1</th>\n",
       "      <td>1</td>\n",
       "      <td>0.328102</td>\n",
       "      <td>634</td>\n",
       "      <td>40</td>\n",
       "      <td>1.488861</td>\n",
       "      <td>38.474294</td>\n",
       "    </tr>\n",
       "    <tr>\n",
       "      <th>10</th>\n",
       "      <td>10</td>\n",
       "      <td>0.151844</td>\n",
       "      <td>449</td>\n",
       "      <td>75</td>\n",
       "      <td>6.011268</td>\n",
       "      <td>9.496399</td>\n",
       "    </tr>\n",
       "    <tr>\n",
       "      <th>13</th>\n",
       "      <td>13</td>\n",
       "      <td>0.031906</td>\n",
       "      <td>150</td>\n",
       "      <td>22</td>\n",
       "      <td>8.362841</td>\n",
       "      <td>6.802511</td>\n",
       "    </tr>\n",
       "    <tr>\n",
       "      <th>12</th>\n",
       "      <td>12</td>\n",
       "      <td>0.033468</td>\n",
       "      <td>185</td>\n",
       "      <td>40</td>\n",
       "      <td>14.294856</td>\n",
       "      <td>3.924629</td>\n",
       "    </tr>\n",
       "    <tr>\n",
       "      <th>...</th>\n",
       "      <td>...</td>\n",
       "      <td>...</td>\n",
       "      <td>...</td>\n",
       "      <td>...</td>\n",
       "      <td>...</td>\n",
       "      <td>...</td>\n",
       "    </tr>\n",
       "    <tr>\n",
       "      <th>390</th>\n",
       "      <td>390</td>\n",
       "      <td>0.000628</td>\n",
       "      <td>12</td>\n",
       "      <td>18</td>\n",
       "      <td>80.704615</td>\n",
       "      <td>0.163674</td>\n",
       "    </tr>\n",
       "    <tr>\n",
       "      <th>391</th>\n",
       "      <td>391</td>\n",
       "      <td>0.000623</td>\n",
       "      <td>509</td>\n",
       "      <td>18</td>\n",
       "      <td>80.775879</td>\n",
       "      <td>0.162397</td>\n",
       "    </tr>\n",
       "    <tr>\n",
       "      <th>392</th>\n",
       "      <td>392</td>\n",
       "      <td>0.000608</td>\n",
       "      <td>396</td>\n",
       "      <td>18</td>\n",
       "      <td>81.002954</td>\n",
       "      <td>0.158332</td>\n",
       "    </tr>\n",
       "    <tr>\n",
       "      <th>25</th>\n",
       "      <td>25</td>\n",
       "      <td>0.011320</td>\n",
       "      <td>6</td>\n",
       "      <td>384</td>\n",
       "      <td>82.127527</td>\n",
       "      <td>0.138272</td>\n",
       "    </tr>\n",
       "    <tr>\n",
       "      <th>23</th>\n",
       "      <td>23</td>\n",
       "      <td>0.020756</td>\n",
       "      <td>3</td>\n",
       "      <td>7673</td>\n",
       "      <td>89.273071</td>\n",
       "      <td>0.012688</td>\n",
       "    </tr>\n",
       "  </tbody>\n",
       "</table>\n",
       "<p>393 rows × 6 columns</p>\n",
       "</div>"
      ],
      "text/plain": [
       "      id      time  time_range  count  time_slope  time_slope2\n",
       "0      0  2.191843           5     32    0.000000   321.278545\n",
       "1      1  0.328102         634     40    1.488861    38.474294\n",
       "10    10  0.151844         449     75    6.011268     9.496399\n",
       "13    13  0.031906         150     22    8.362841     6.802511\n",
       "12    12  0.033468         185     40   14.294856     3.924629\n",
       "..   ...       ...         ...    ...         ...          ...\n",
       "390  390  0.000628          12     18   80.704615     0.163674\n",
       "391  391  0.000623         509     18   80.775879     0.162397\n",
       "392  392  0.000608         396     18   81.002954     0.158332\n",
       "25    25  0.011320           6    384   82.127527     0.138272\n",
       "23    23  0.020756           3   7673   89.273071     0.012688\n",
       "\n",
       "[393 rows x 6 columns]"
      ]
     },
     "execution_count": 61,
     "metadata": {},
     "output_type": "execute_result"
    },
    {
     "name": "stdout",
     "output_type": "stream",
     "text": [
      "time: 11.8 ms (started: 2024-01-30 16:55:56 -08:00)\n"
     ]
    }
   ],
   "source": [
    "metric = 'time'\n",
    "\n",
    "df['id'] = df.index\n",
    "# df['time_cs_diff'] = df[metric].cumsum().diff().fillna(df[metric].iloc[0])\n",
    "df['time_cs_diff_per'] = df[metric] / df[metric].sum()\n",
    "# df['count_cs_diff'] = df['count'].cumsum().diff().fillna(df['count'].iloc[0])\n",
    "df['count_cs_diff_per'] = df['count'] / df['count'].sum()\n",
    "df['time_slope2'] = df['time_cs_diff_per'] / df['count_cs_diff_per']\n",
    "    \n",
    "    # count_cs_diff = df['count'].cumsum().diff()\n",
    "# count_cs_diff_per = df['count'] / df['count'].sum()\n",
    "\n",
    "# slope = np.rad2deg(np.arctan2(time_cs_diff_per, count_cs_diff_per))\n",
    "\n",
    "# df2 = df[['time', 'count', 'time_slope', 'time_cs_diff', 'time_cs_diff_per', 'count_cs_diff', 'count_cs_diff_per', 'time_slope2']]\n",
    "df2 = df[['id', 'time', 'time_range', 'count', 'time_slope', 'time_slope2']]\n",
    "\n",
    "df2.sort_values('time_slope2', ascending=False)\n",
    "# df2"
   ]
  },
  {
   "cell_type": "code",
   "execution_count": 62,
   "metadata": {},
   "outputs": [
    {
     "data": {
      "text/html": [
       "<div>\n",
       "<style scoped>\n",
       "    .dataframe tbody tr th:only-of-type {\n",
       "        vertical-align: middle;\n",
       "    }\n",
       "\n",
       "    .dataframe tbody tr th {\n",
       "        vertical-align: top;\n",
       "    }\n",
       "\n",
       "    .dataframe thead th {\n",
       "        text-align: right;\n",
       "    }\n",
       "</style>\n",
       "<table border=\"1\" class=\"dataframe\">\n",
       "  <thead>\n",
       "    <tr style=\"text-align: right;\">\n",
       "      <th></th>\n",
       "      <th>id</th>\n",
       "      <th>time</th>\n",
       "      <th>time_range</th>\n",
       "      <th>count</th>\n",
       "      <th>time_slope</th>\n",
       "      <th>time_slope2</th>\n",
       "    </tr>\n",
       "  </thead>\n",
       "  <tbody>\n",
       "    <tr>\n",
       "      <th>0</th>\n",
       "      <td>0</td>\n",
       "      <td>2.191843</td>\n",
       "      <td>5</td>\n",
       "      <td>32</td>\n",
       "      <td>0.000000</td>\n",
       "      <td>321.278545</td>\n",
       "    </tr>\n",
       "    <tr>\n",
       "      <th>1</th>\n",
       "      <td>1</td>\n",
       "      <td>0.328102</td>\n",
       "      <td>634</td>\n",
       "      <td>40</td>\n",
       "      <td>1.488861</td>\n",
       "      <td>38.474294</td>\n",
       "    </tr>\n",
       "    <tr>\n",
       "      <th>2</th>\n",
       "      <td>2</td>\n",
       "      <td>0.277307</td>\n",
       "      <td>668</td>\n",
       "      <td>909</td>\n",
       "      <td>34.947604</td>\n",
       "      <td>1.430931</td>\n",
       "    </tr>\n",
       "    <tr>\n",
       "      <th>3</th>\n",
       "      <td>3</td>\n",
       "      <td>0.240101</td>\n",
       "      <td>450</td>\n",
       "      <td>567</td>\n",
       "      <td>26.723503</td>\n",
       "      <td>1.986249</td>\n",
       "    </tr>\n",
       "    <tr>\n",
       "      <th>4</th>\n",
       "      <td>4</td>\n",
       "      <td>0.201961</td>\n",
       "      <td>128</td>\n",
       "      <td>337</td>\n",
       "      <td>19.582788</td>\n",
       "      <td>2.810998</td>\n",
       "    </tr>\n",
       "    <tr>\n",
       "      <th>...</th>\n",
       "      <td>...</td>\n",
       "      <td>...</td>\n",
       "      <td>...</td>\n",
       "      <td>...</td>\n",
       "      <td>...</td>\n",
       "      <td>...</td>\n",
       "    </tr>\n",
       "    <tr>\n",
       "      <th>388</th>\n",
       "      <td>388</td>\n",
       "      <td>0.000670</td>\n",
       "      <td>553</td>\n",
       "      <td>18</td>\n",
       "      <td>80.099330</td>\n",
       "      <td>0.174540</td>\n",
       "    </tr>\n",
       "    <tr>\n",
       "      <th>389</th>\n",
       "      <td>389</td>\n",
       "      <td>0.000632</td>\n",
       "      <td>617</td>\n",
       "      <td>18</td>\n",
       "      <td>80.640646</td>\n",
       "      <td>0.164820</td>\n",
       "    </tr>\n",
       "    <tr>\n",
       "      <th>390</th>\n",
       "      <td>390</td>\n",
       "      <td>0.000628</td>\n",
       "      <td>12</td>\n",
       "      <td>18</td>\n",
       "      <td>80.704615</td>\n",
       "      <td>0.163674</td>\n",
       "    </tr>\n",
       "    <tr>\n",
       "      <th>391</th>\n",
       "      <td>391</td>\n",
       "      <td>0.000623</td>\n",
       "      <td>509</td>\n",
       "      <td>18</td>\n",
       "      <td>80.775879</td>\n",
       "      <td>0.162397</td>\n",
       "    </tr>\n",
       "    <tr>\n",
       "      <th>392</th>\n",
       "      <td>392</td>\n",
       "      <td>0.000608</td>\n",
       "      <td>396</td>\n",
       "      <td>18</td>\n",
       "      <td>81.002954</td>\n",
       "      <td>0.158332</td>\n",
       "    </tr>\n",
       "  </tbody>\n",
       "</table>\n",
       "<p>393 rows × 6 columns</p>\n",
       "</div>"
      ],
      "text/plain": [
       "      id      time  time_range  count  time_slope  time_slope2\n",
       "0      0  2.191843           5     32    0.000000   321.278545\n",
       "1      1  0.328102         634     40    1.488861    38.474294\n",
       "2      2  0.277307         668    909   34.947604     1.430931\n",
       "3      3  0.240101         450    567   26.723503     1.986249\n",
       "4      4  0.201961         128    337   19.582788     2.810998\n",
       "..   ...       ...         ...    ...         ...          ...\n",
       "388  388  0.000670         553     18   80.099330     0.174540\n",
       "389  389  0.000632         617     18   80.640646     0.164820\n",
       "390  390  0.000628          12     18   80.704615     0.163674\n",
       "391  391  0.000623         509     18   80.775879     0.162397\n",
       "392  392  0.000608         396     18   81.002954     0.158332\n",
       "\n",
       "[393 rows x 6 columns]"
      ]
     },
     "execution_count": 62,
     "metadata": {},
     "output_type": "execute_result"
    },
    {
     "name": "stdout",
     "output_type": "stream",
     "text": [
      "time: 9.51 ms (started: 2024-01-30 16:56:28 -08:00)\n"
     ]
    }
   ],
   "source": [
    "df2.sort_values('time', ascending=False)"
   ]
  },
  {
   "cell_type": "code",
   "execution_count": null,
   "metadata": {},
   "outputs": [],
   "source": [
    "# tan10 = 0.17632698\n",
    "# tan20 = 0.36397023\n",
    "# tan30 = 0.57735027\n",
    "# tan40 = 0.83909963\n",
    "# tan50 = 1.19175359\n",
    "# tan60 = 1.73205081\n",
    "# tan70 = 2.74747742\n",
    "# tan80 = 5.67128182"
   ]
  },
  {
   "cell_type": "code",
   "execution_count": 30,
   "metadata": {},
   "outputs": [
    {
     "data": {
      "text/plain": [
       "0      0\n",
       "5      5\n",
       "6      6\n",
       "12    12\n",
       "20    20\n",
       "      ..\n",
       "79    79\n",
       "80    80\n",
       "81    81\n",
       "82    82\n",
       "83    83\n",
       "Name: id, Length: 65, dtype: int64"
      ]
     },
     "execution_count": 30,
     "metadata": {},
     "output_type": "execute_result"
    },
    {
     "name": "stdout",
     "output_type": "stream",
     "text": [
      "time: 4.39 ms (started: 2024-01-30 16:37:29 -08:00)\n"
     ]
    }
   ],
   "source": [
    "tsid = df2[df2['time_slope'] < 15]['id']\n",
    "tsid"
   ]
  },
  {
   "cell_type": "code",
   "execution_count": 31,
   "metadata": {},
   "outputs": [
    {
     "data": {
      "text/plain": [
       "5      5\n",
       "6      6\n",
       "12    12\n",
       "15    15\n",
       "19    19\n",
       "      ..\n",
       "79    79\n",
       "80    80\n",
       "81    81\n",
       "82    82\n",
       "83    83\n",
       "Name: id, Length: 66, dtype: int64"
      ]
     },
     "execution_count": 31,
     "metadata": {},
     "output_type": "execute_result"
    },
    {
     "name": "stdout",
     "output_type": "stream",
     "text": [
      "time: 4.59 ms (started: 2024-01-30 16:37:44 -08:00)\n"
     ]
    }
   ],
   "source": [
    "tsid2 = df2[df2['time_slope2'] > 1.73]['id']\n",
    "tsid2"
   ]
  },
  {
   "cell_type": "code",
   "execution_count": 33,
   "metadata": {},
   "outputs": [
    {
     "data": {
      "text/plain": [
       "64"
      ]
     },
     "execution_count": 33,
     "metadata": {},
     "output_type": "execute_result"
    },
    {
     "name": "stdout",
     "output_type": "stream",
     "text": [
      "time: 1.84 ms (started: 2024-01-30 16:37:48 -08:00)\n"
     ]
    }
   ],
   "source": [
    "len(np.intersect1d(tsid, tsid2))"
   ]
  },
  {
   "cell_type": "code",
   "execution_count": null,
   "metadata": {},
   "outputs": [],
   "source": [
    "# 0.26794919\n",
    "# 0.57735027\n",
    "# 1.73205081\n",
    "# 3.73205081"
   ]
  },
  {
   "cell_type": "code",
   "execution_count": 42,
   "metadata": {},
   "outputs": [
    {
     "name": "stdout",
     "output_type": "stream",
     "text": [
      "time: 972 µs (started: 2024-01-30 16:40:55 -08:00)\n"
     ]
    }
   ],
   "source": [
    "tsid15 = df2[df2['time_slope2'] > 0.26794919]['id']"
   ]
  },
  {
   "cell_type": "code",
   "execution_count": 40,
   "metadata": {},
   "outputs": [
    {
     "name": "stdout",
     "output_type": "stream",
     "text": [
      "time: 1.41 ms (started: 2024-01-30 16:40:39 -08:00)\n"
     ]
    }
   ],
   "source": [
    "tsid30 = df2[df2['time_slope2'] > 0.57735027]['id']"
   ]
  },
  {
   "cell_type": "code",
   "execution_count": 41,
   "metadata": {},
   "outputs": [
    {
     "name": "stdout",
     "output_type": "stream",
     "text": [
      "time: 1.05 ms (started: 2024-01-30 16:40:47 -08:00)\n"
     ]
    }
   ],
   "source": [
    "tsid45 = df2[df2['time_slope2'] > 1]['id']"
   ]
  },
  {
   "cell_type": "code",
   "execution_count": 39,
   "metadata": {},
   "outputs": [
    {
     "name": "stdout",
     "output_type": "stream",
     "text": [
      "time: 845 µs (started: 2024-01-30 16:40:26 -08:00)\n"
     ]
    }
   ],
   "source": [
    "tsid60 = df2[df2['time_slope2'] > 1.73205081]['id']"
   ]
  },
  {
   "cell_type": "code",
   "execution_count": 38,
   "metadata": {},
   "outputs": [
    {
     "name": "stdout",
     "output_type": "stream",
     "text": [
      "time: 1.25 ms (started: 2024-01-30 16:40:24 -08:00)\n"
     ]
    }
   ],
   "source": [
    "tsid75 = df2[df2['time_slope2'] > 3.73205081]['id']"
   ]
  },
  {
   "cell_type": "code",
   "execution_count": 44,
   "metadata": {},
   "outputs": [
    {
     "data": {
      "text/plain": [
       "set()"
      ]
     },
     "execution_count": 44,
     "metadata": {},
     "output_type": "execute_result"
    },
    {
     "name": "stdout",
     "output_type": "stream",
     "text": [
      "time: 2.58 ms (started: 2024-01-30 16:41:35 -08:00)\n"
     ]
    }
   ],
   "source": [
    "set(tsid75).difference(set(tsid60))"
   ]
  },
  {
   "cell_type": "code",
   "execution_count": 45,
   "metadata": {},
   "outputs": [
    {
     "data": {
      "text/plain": [
       "set()"
      ]
     },
     "execution_count": 45,
     "metadata": {},
     "output_type": "execute_result"
    },
    {
     "name": "stdout",
     "output_type": "stream",
     "text": [
      "time: 2.34 ms (started: 2024-01-30 16:41:47 -08:00)\n"
     ]
    }
   ],
   "source": [
    "set(tsid60).difference(set(tsid45))"
   ]
  },
  {
   "cell_type": "code",
   "execution_count": 46,
   "metadata": {},
   "outputs": [
    {
     "data": {
      "text/plain": [
       "set()"
      ]
     },
     "execution_count": 46,
     "metadata": {},
     "output_type": "execute_result"
    },
    {
     "name": "stdout",
     "output_type": "stream",
     "text": [
      "time: 2.21 ms (started: 2024-01-30 16:41:54 -08:00)\n"
     ]
    }
   ],
   "source": [
    "set(tsid45).difference(set(tsid30))"
   ]
  },
  {
   "cell_type": "code",
   "execution_count": 47,
   "metadata": {},
   "outputs": [
    {
     "data": {
      "text/plain": [
       "set()"
      ]
     },
     "execution_count": 47,
     "metadata": {},
     "output_type": "execute_result"
    },
    {
     "name": "stdout",
     "output_type": "stream",
     "text": [
      "time: 1.81 ms (started: 2024-01-30 16:42:00 -08:00)\n"
     ]
    }
   ],
   "source": [
    "set(tsid30).difference(set(tsid15))"
   ]
  },
  {
   "cell_type": "code",
   "execution_count": 55,
   "metadata": {},
   "outputs": [
    {
     "data": {
      "text/plain": [
       "{16}"
      ]
     },
     "execution_count": 55,
     "metadata": {},
     "output_type": "execute_result"
    },
    {
     "name": "stdout",
     "output_type": "stream",
     "text": [
      "time: 2.62 ms (started: 2024-01-30 16:45:04 -08:00)\n"
     ]
    }
   ],
   "source": [
    "set(tsid15).difference(set(tsid30))"
   ]
  },
  {
   "cell_type": "code",
   "execution_count": 56,
   "metadata": {},
   "outputs": [
    {
     "data": {
      "text/plain": [
       "{3, 4, 9, 11, 13, 16, 18, 27, 28}"
      ]
     },
     "execution_count": 56,
     "metadata": {},
     "output_type": "execute_result"
    },
    {
     "name": "stdout",
     "output_type": "stream",
     "text": [
      "time: 1.94 ms (started: 2024-01-30 16:45:08 -08:00)\n"
     ]
    }
   ],
   "source": [
    "set(tsid15).difference(set(tsid45))"
   ]
  },
  {
   "cell_type": "code",
   "execution_count": 57,
   "metadata": {},
   "outputs": [
    {
     "data": {
      "text/plain": [
       "{0, 2, 3, 4, 7, 9, 10, 11, 13, 14, 16, 17, 18, 27, 28}"
      ]
     },
     "execution_count": 57,
     "metadata": {},
     "output_type": "execute_result"
    },
    {
     "name": "stdout",
     "output_type": "stream",
     "text": [
      "time: 2.38 ms (started: 2024-01-30 16:45:16 -08:00)\n"
     ]
    }
   ],
   "source": [
    "set(tsid15).difference(set(tsid60))"
   ]
  },
  {
   "cell_type": "code",
   "execution_count": 50,
   "metadata": {},
   "outputs": [
    {
     "name": "stdout",
     "output_type": "stream",
     "text": [
      "time: 2.88 ms (started: 2024-01-30 16:42:56 -08:00)\n"
     ]
    }
   ],
   "source": [
    "tsid15x = df2[df2['time_slope'] < 15]['id']\n",
    "tsid30x = df2[df2['time_slope'] < 30]['id']\n",
    "tsid45x = df2[df2['time_slope'] < 45]['id']\n",
    "tsid60x = df2[df2['time_slope'] < 60]['id']\n",
    "tsid75x = df2[df2['time_slope'] < 75]['id']"
   ]
  },
  {
   "cell_type": "code",
   "execution_count": 51,
   "metadata": {},
   "outputs": [
    {
     "data": {
      "text/plain": [
       "{16}"
      ]
     },
     "execution_count": 51,
     "metadata": {},
     "output_type": "execute_result"
    },
    {
     "name": "stdout",
     "output_type": "stream",
     "text": [
      "time: 1.92 ms (started: 2024-01-30 16:43:04 -08:00)\n"
     ]
    }
   ],
   "source": [
    "set(tsid75x).difference(set(tsid60x))"
   ]
  },
  {
   "cell_type": "code",
   "execution_count": 52,
   "metadata": {},
   "outputs": [
    {
     "data": {
      "text/plain": [
       "{3, 4, 9, 11, 13, 18, 27, 28}"
      ]
     },
     "execution_count": 52,
     "metadata": {},
     "output_type": "execute_result"
    },
    {
     "name": "stdout",
     "output_type": "stream",
     "text": [
      "time: 2.72 ms (started: 2024-01-30 16:43:23 -08:00)\n"
     ]
    }
   ],
   "source": [
    "set(tsid60x).difference(set(tsid45x))"
   ]
  },
  {
   "cell_type": "code",
   "execution_count": 53,
   "metadata": {},
   "outputs": [
    {
     "data": {
      "text/plain": [
       "{2, 7, 10, 14, 17}"
      ]
     },
     "execution_count": 53,
     "metadata": {},
     "output_type": "execute_result"
    },
    {
     "name": "stdout",
     "output_type": "stream",
     "text": [
      "time: 2.34 ms (started: 2024-01-30 16:43:28 -08:00)\n"
     ]
    }
   ],
   "source": [
    "set(tsid45x).difference(set(tsid30x))"
   ]
  },
  {
   "cell_type": "code",
   "execution_count": 54,
   "metadata": {},
   "outputs": [
    {
     "data": {
      "text/plain": [
       "{15, 19}"
      ]
     },
     "execution_count": 54,
     "metadata": {},
     "output_type": "execute_result"
    },
    {
     "name": "stdout",
     "output_type": "stream",
     "text": [
      "time: 2.7 ms (started: 2024-01-30 16:43:35 -08:00)\n"
     ]
    }
   ],
   "source": [
    "set(tsid30x).difference(set(tsid15x))"
   ]
  },
  {
   "cell_type": "code",
   "execution_count": null,
   "metadata": {},
   "outputs": [],
   "source": []
  }
 ],
 "metadata": {
  "kernelspec": {
   "display_name": "venv-corona",
   "language": "python",
   "name": "python3"
  },
  "language_info": {
   "codemirror_mode": {
    "name": "ipython",
    "version": 3
   },
   "file_extension": ".py",
   "mimetype": "text/x-python",
   "name": "python",
   "nbconvert_exporter": "python",
   "pygments_lexer": "ipython3",
   "version": "3.9.12"
  }
 },
 "nbformat": 4,
 "nbformat_minor": 2
}

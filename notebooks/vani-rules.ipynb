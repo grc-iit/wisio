{
 "cells": [
  {
   "cell_type": "code",
   "execution_count": 2,
   "metadata": {},
   "outputs": [
    {
     "name": "stdout",
     "output_type": "stream",
     "text": [
      "attributes P1 ->50\n",
      "attributes P2 ->50\n",
      "attributes P3 ->50\n",
      "attributes P2 ->150\n",
      "attributes P3 ->150\n",
      "attributes P3 ->250\n"
     ]
    },
    {
     "data": {
      "text/plain": [
       "{'sid': '0', 'id': 'sid-0', '$s': 1}"
      ]
     },
     "execution_count": 2,
     "metadata": {},
     "output_type": "execute_result"
    }
   ],
   "source": [
    "from durable.lang import *\n",
    "\n",
    "with ruleset('attributes'):\n",
    "    @when_all(pri(3), m.amount < 300)\n",
    "    def first_detect(c):\n",
    "        print('attributes P3 ->{0}'.format(c.m.amount))\n",
    "        \n",
    "    @when_all(pri(2), m.amount < 200)\n",
    "    def second_detect(c):\n",
    "        print('attributes P2 ->{0}'.format(c.m.amount))\n",
    "        \n",
    "    @when_all(pri(1), m.amount < 100)\n",
    "    def third_detect(c):\n",
    "        print('attributes P1 ->{0}'.format(c.m.amount))\n",
    "                \n",
    "assert_fact('attributes', { 'amount': 50 })\n",
    "assert_fact('attributes', { 'amount': 150 })\n",
    "assert_fact('attributes', { 'amount': 250 })"
   ]
  },
  {
   "cell_type": "code",
   "execution_count": 3,
   "metadata": {},
   "outputs": [
    {
     "name": "stdout",
     "output_type": "stream",
     "text": [
      "approved [{'amount': 30}, {'amount': 20}, {'amount': 10}]\n",
      "rejected [{'expense': {'amount': 400}, 'approval': {'review': True}}, {'expense': {'amount': 200}, 'approval': {'review': True}}]\n",
      "rejected [{'expense': {'amount': 100}, 'approval': {'review': True}}]\n"
     ]
    },
    {
     "data": {
      "text/plain": [
       "{'sid': '0', 'id': 'sid-0', '$s': 1}"
      ]
     },
     "execution_count": 3,
     "metadata": {},
     "output_type": "execute_result"
    }
   ],
   "source": [
    "from durable.lang import *\n",
    "\n",
    "with ruleset('expense'):\n",
    "    # this rule will trigger as soon as three events match the condition\n",
    "    @when_all(count(3), m.amount < 100)\n",
    "    def approve(c):\n",
    "        print('approved {0}'.format(c.m))\n",
    "\n",
    "    # this rule will be triggered when 'expense' is asserted batching at most two results       \n",
    "    @when_all(cap(2),\n",
    "              c.expense << m.amount >= 100,\n",
    "              c.approval << m.review == True)\n",
    "    def reject(c):\n",
    "        print('rejected {0}'.format(c.m))\n",
    "\n",
    "post_batch('expense', [{ 'amount': 10 },\n",
    "                                    { 'amount': 20 },\n",
    "                                    { 'amount': 100 },\n",
    "                                    { 'amount': 30 },\n",
    "                                    { 'amount': 200 },\n",
    "                                    { 'amount': 400 }])\n",
    "assert_fact('expense', { 'review': True })"
   ]
  },
  {
   "cell_type": "code",
   "execution_count": 4,
   "metadata": {},
   "outputs": [
    {
     "name": "stdout",
     "output_type": "stream",
     "text": [
      "requesting approve amount 100\n",
      "expense approved\n",
      "requesting approve amount 100\n",
      "expense denied\n",
      "denied amount 10000\n"
     ]
    },
    {
     "data": {
      "text/plain": [
       "{'sid': '2', 'id': 'sid-2', '$s': 1, 'running': True}"
      ]
     },
     "execution_count": 4,
     "metadata": {},
     "output_type": "execute_result"
    }
   ],
   "source": [
    "from durable.lang import *\n",
    "\n",
    "with statechart('expense2'):\n",
    "    # initial state 'input' with two triggers\n",
    "    with state('input'):\n",
    "        # trigger to move to 'denied' given a condition\n",
    "        @to('denied')\n",
    "        @when_all((m.subject == 'approve') & (m.amount > 1000))\n",
    "        # action executed before state change\n",
    "        def denied(c):\n",
    "            print ('denied amount {0}'.format(c.m.amount))\n",
    "        \n",
    "        @to('pending')    \n",
    "        @when_all((m.subject == 'approve') & (m.amount <= 1000))\n",
    "        def request(c):\n",
    "            print ('requesting approve amount {0}'.format(c.m.amount))\n",
    "    \n",
    "    # intermediate state 'pending' with two triggers\n",
    "    with state('pending'):\n",
    "        @to('approved')\n",
    "        @when_all(m.subject == 'approved')\n",
    "        def approved(c):\n",
    "            print ('expense approved')\n",
    "            \n",
    "        @to('denied')\n",
    "        @when_all(m.subject == 'denied')\n",
    "        def denied(c):\n",
    "            print ('expense denied')\n",
    "    \n",
    "    # 'denied' and 'approved' are final states    \n",
    "    state('denied')\n",
    "    state('approved')\n",
    "        \n",
    "# events directed to default statechart instance\n",
    "post('expense2', { 'subject': 'approve', 'amount': 100 })\n",
    "post('expense2', { 'subject': 'approved' })\n",
    "\n",
    "# events directed to statechart instance with id '1'\n",
    "post('expense2', { 'sid': 1, 'subject': 'approve', 'amount': 100 })\n",
    "post('expense2', { 'sid': 1, 'subject': 'denied' })\n",
    "\n",
    "# events directed to statechart instance with id '2'\n",
    "post('expense2', { 'sid': 2, 'subject': 'approve', 'amount': 10000 })"
   ]
  },
  {
   "cell_type": "code",
   "execution_count": 5,
   "metadata": {},
   "outputs": [
    {
     "name": "stdout",
     "output_type": "stream",
     "text": [
      "requesting approve\n",
      "requesting approve\n",
      "expense approved\n",
      "requesting approve\n",
      "expense denied\n",
      "expense denied\n"
     ]
    },
    {
     "data": {
      "text/plain": [
       "{'sid': '2', 'id': 'sid-2', '$s': 1, 'running': True}"
      ]
     },
     "execution_count": 5,
     "metadata": {},
     "output_type": "execute_result"
    }
   ],
   "source": [
    "from durable.lang import *\n",
    "\n",
    "with flowchart('expense3'):\n",
    "    # initial stage 'input' has two conditions\n",
    "    with stage('input'): \n",
    "        to('request').when_all((m.subject == 'approve') & (m.amount <= 1000))\n",
    "        to('deny').when_all((m.subject == 'approve') & (m.amount > 1000))\n",
    "    \n",
    "    # intermediate stage 'request' has an action and three conditions\n",
    "    with stage('request'):\n",
    "        @run\n",
    "        def request(c):\n",
    "            print('requesting approve')\n",
    "            \n",
    "        to('approve').when_all(m.subject == 'approved')\n",
    "        to('deny').when_all(m.subject == 'denied')\n",
    "        # reflexive condition: if met, returns to the same stage\n",
    "        to('request').when_all(m.subject == 'retry')\n",
    "    \n",
    "    with stage('approve'):\n",
    "        @run \n",
    "        def approved(c):\n",
    "            print('expense approved')\n",
    "\n",
    "    with stage('deny'):\n",
    "        @run\n",
    "        def denied(c):\n",
    "            print('expense denied')\n",
    "\n",
    "# events for the default flowchart instance, approved after retry\n",
    "post('expense3', { 'subject': 'approve', 'amount': 100 })\n",
    "post('expense3', { 'subject': 'retry' })\n",
    "post('expense3', { 'subject': 'approved' })\n",
    "\n",
    "# events for the flowchart instance '1', denied after first try\n",
    "post('expense3', { 'sid': 1, 'subject': 'approve', 'amount': 100})\n",
    "post('expense3', { 'sid': 1, 'subject': 'denied'})\n",
    "\n",
    "# event for the flowchart instance '2' immediately denied\n",
    "post('expense3', { 'sid': 2, 'subject': 'approve', 'amount': 10000})"
   ]
  },
  {
   "cell_type": "code",
   "execution_count": 6,
   "metadata": {},
   "outputs": [
    {
     "ename": "Exception",
     "evalue": "Chart expense10 has more than one start state pending",
     "output_type": "error",
     "traceback": [
      "\u001b[0;31m---------------------------------------------------------------------------\u001b[0m",
      "\u001b[0;31mException\u001b[0m                                 Traceback (most recent call last)",
      "\u001b[0;32m/var/tmp/izzet/ipykernel_10316/4204686628.py\u001b[0m in \u001b[0;36m<module>\u001b[0;34m\u001b[0m\n\u001b[1;32m     38\u001b[0m \u001b[0;34m\u001b[0m\u001b[0m\n\u001b[1;32m     39\u001b[0m \u001b[0;31m# events directed to default statechart instance\u001b[0m\u001b[0;34m\u001b[0m\u001b[0;34m\u001b[0m\u001b[0;34m\u001b[0m\u001b[0m\n\u001b[0;32m---> 40\u001b[0;31m \u001b[0mpost\u001b[0m\u001b[0;34m(\u001b[0m\u001b[0;34m'expense10'\u001b[0m\u001b[0;34m,\u001b[0m \u001b[0;34m{\u001b[0m \u001b[0;34m'subject'\u001b[0m\u001b[0;34m:\u001b[0m \u001b[0;34m'approve'\u001b[0m\u001b[0;34m,\u001b[0m \u001b[0;34m'amount'\u001b[0m\u001b[0;34m:\u001b[0m \u001b[0;36m100\u001b[0m \u001b[0;34m}\u001b[0m\u001b[0;34m)\u001b[0m\u001b[0;34m\u001b[0m\u001b[0;34m\u001b[0m\u001b[0m\n\u001b[0m\u001b[1;32m     41\u001b[0m \u001b[0;31m# post('expense7', { 'subject': 'approved' })\u001b[0m\u001b[0;34m\u001b[0m\u001b[0;34m\u001b[0m\u001b[0;34m\u001b[0m\u001b[0m\n\u001b[1;32m     42\u001b[0m \u001b[0;34m\u001b[0m\u001b[0m\n",
      "\u001b[0;32m~/projects/iopp/vani-analysis-tool/vani-venv/lib/python3.7/site-packages/durable/lang.py\u001b[0m in \u001b[0;36mpost\u001b[0;34m(ruleset_name, message, complete)\u001b[0m\n\u001b[1;32m    668\u001b[0m \u001b[0;34m\u001b[0m\u001b[0m\n\u001b[1;32m    669\u001b[0m \u001b[0;32mdef\u001b[0m \u001b[0mpost\u001b[0m\u001b[0;34m(\u001b[0m\u001b[0mruleset_name\u001b[0m\u001b[0;34m,\u001b[0m \u001b[0mmessage\u001b[0m\u001b[0;34m,\u001b[0m \u001b[0mcomplete\u001b[0m \u001b[0;34m=\u001b[0m \u001b[0;32mNone\u001b[0m\u001b[0;34m)\u001b[0m\u001b[0;34m:\u001b[0m\u001b[0;34m\u001b[0m\u001b[0;34m\u001b[0m\u001b[0m\n\u001b[0;32m--> 670\u001b[0;31m     \u001b[0;32mreturn\u001b[0m \u001b[0mget_host\u001b[0m\u001b[0;34m(\u001b[0m\u001b[0;34m)\u001b[0m\u001b[0;34m.\u001b[0m\u001b[0mpost\u001b[0m\u001b[0;34m(\u001b[0m\u001b[0mruleset_name\u001b[0m\u001b[0;34m,\u001b[0m \u001b[0mmessage\u001b[0m\u001b[0;34m,\u001b[0m \u001b[0mcomplete\u001b[0m\u001b[0;34m)\u001b[0m\u001b[0;34m\u001b[0m\u001b[0;34m\u001b[0m\u001b[0m\n\u001b[0m\u001b[1;32m    671\u001b[0m \u001b[0;34m\u001b[0m\u001b[0m\n\u001b[1;32m    672\u001b[0m \u001b[0;32mdef\u001b[0m \u001b[0mpost_batch\u001b[0m\u001b[0;34m(\u001b[0m\u001b[0mruleset_name\u001b[0m\u001b[0;34m,\u001b[0m \u001b[0mmessages\u001b[0m\u001b[0;34m,\u001b[0m \u001b[0mcomplete\u001b[0m \u001b[0;34m=\u001b[0m \u001b[0;32mNone\u001b[0m\u001b[0;34m)\u001b[0m\u001b[0;34m:\u001b[0m\u001b[0;34m\u001b[0m\u001b[0;34m\u001b[0m\u001b[0m\n",
      "\u001b[0;32m~/projects/iopp/vani-analysis-tool/vani-venv/lib/python3.7/site-packages/durable/lang.py\u001b[0m in \u001b[0;36mget_host\u001b[0;34m()\u001b[0m\n\u001b[1;32m    661\u001b[0m             \u001b[0mruleset_definitions\u001b[0m\u001b[0;34m[\u001b[0m\u001b[0mfull_name\u001b[0m\u001b[0;34m]\u001b[0m \u001b[0;34m=\u001b[0m \u001b[0mruleset_definition\u001b[0m\u001b[0;34m\u001b[0m\u001b[0;34m\u001b[0m\u001b[0m\n\u001b[1;32m    662\u001b[0m \u001b[0;34m\u001b[0m\u001b[0m\n\u001b[0;32m--> 663\u001b[0;31m         \u001b[0m_main_host\u001b[0m\u001b[0;34m.\u001b[0m\u001b[0mregister_rulesets\u001b[0m\u001b[0;34m(\u001b[0m\u001b[0mruleset_definitions\u001b[0m\u001b[0;34m)\u001b[0m\u001b[0;34m\u001b[0m\u001b[0;34m\u001b[0m\u001b[0m\n\u001b[0m\u001b[1;32m    664\u001b[0m     \u001b[0;32mfinally\u001b[0m\u001b[0;34m:\u001b[0m\u001b[0;34m\u001b[0m\u001b[0;34m\u001b[0m\u001b[0m\n\u001b[1;32m    665\u001b[0m         \u001b[0m_rulesets\u001b[0m \u001b[0;34m=\u001b[0m \u001b[0;34m{\u001b[0m\u001b[0;34m}\u001b[0m\u001b[0;34m\u001b[0m\u001b[0;34m\u001b[0m\u001b[0m\n",
      "\u001b[0;32m~/projects/iopp/vani-analysis-tool/vani-venv/lib/python3.7/site-packages/durable/engine.py\u001b[0m in \u001b[0;36mregister_rulesets\u001b[0;34m(self, ruleset_definitions)\u001b[0m\n\u001b[1;32m    885\u001b[0m \u001b[0;34m\u001b[0m\u001b[0m\n\u001b[1;32m    886\u001b[0m     \u001b[0;32mdef\u001b[0m \u001b[0mregister_rulesets\u001b[0m\u001b[0;34m(\u001b[0m\u001b[0mself\u001b[0m\u001b[0;34m,\u001b[0m \u001b[0mruleset_definitions\u001b[0m\u001b[0;34m)\u001b[0m\u001b[0;34m:\u001b[0m\u001b[0;34m\u001b[0m\u001b[0;34m\u001b[0m\u001b[0m\n\u001b[0;32m--> 887\u001b[0;31m         \u001b[0mrulesets\u001b[0m \u001b[0;34m=\u001b[0m \u001b[0mRuleset\u001b[0m\u001b[0;34m.\u001b[0m\u001b[0mcreate_rulesets\u001b[0m\u001b[0;34m(\u001b[0m\u001b[0mself\u001b[0m\u001b[0;34m,\u001b[0m \u001b[0mruleset_definitions\u001b[0m\u001b[0;34m)\u001b[0m\u001b[0;34m\u001b[0m\u001b[0;34m\u001b[0m\u001b[0m\n\u001b[0m\u001b[1;32m    888\u001b[0m         \u001b[0;32mfor\u001b[0m \u001b[0mruleset_name\u001b[0m\u001b[0;34m,\u001b[0m \u001b[0mruleset\u001b[0m \u001b[0;32min\u001b[0m \u001b[0mrulesets\u001b[0m\u001b[0;34m.\u001b[0m\u001b[0mitems\u001b[0m\u001b[0;34m(\u001b[0m\u001b[0;34m)\u001b[0m\u001b[0;34m:\u001b[0m\u001b[0;34m\u001b[0m\u001b[0;34m\u001b[0m\u001b[0m\n\u001b[1;32m    889\u001b[0m             \u001b[0;32mif\u001b[0m \u001b[0mruleset_name\u001b[0m \u001b[0;32min\u001b[0m \u001b[0mself\u001b[0m\u001b[0;34m.\u001b[0m\u001b[0m_ruleset_directory\u001b[0m\u001b[0;34m:\u001b[0m\u001b[0;34m\u001b[0m\u001b[0;34m\u001b[0m\u001b[0m\n",
      "\u001b[0;32m~/projects/iopp/vani-analysis-tool/vani-venv/lib/python3.7/site-packages/durable/engine.py\u001b[0m in \u001b[0;36mcreate_rulesets\u001b[0;34m(host, ruleset_definitions)\u001b[0m\n\u001b[1;32m    437\u001b[0m             \u001b[0;32mif\u001b[0m \u001b[0mname\u001b[0m\u001b[0;34m.\u001b[0m\u001b[0mrfind\u001b[0m\u001b[0;34m(\u001b[0m\u001b[0;34m'$state'\u001b[0m\u001b[0;34m)\u001b[0m \u001b[0;34m!=\u001b[0m \u001b[0;34m-\u001b[0m\u001b[0;36m1\u001b[0m\u001b[0;34m:\u001b[0m\u001b[0;34m\u001b[0m\u001b[0;34m\u001b[0m\u001b[0m\n\u001b[1;32m    438\u001b[0m                 \u001b[0mname\u001b[0m \u001b[0;34m=\u001b[0m \u001b[0mname\u001b[0m\u001b[0;34m[\u001b[0m\u001b[0;34m:\u001b[0m\u001b[0mname\u001b[0m\u001b[0;34m.\u001b[0m\u001b[0mrfind\u001b[0m\u001b[0;34m(\u001b[0m\u001b[0;34m'$state'\u001b[0m\u001b[0;34m)\u001b[0m\u001b[0;34m]\u001b[0m\u001b[0;34m\u001b[0m\u001b[0;34m\u001b[0m\u001b[0m\n\u001b[0;32m--> 439\u001b[0;31m                 \u001b[0mbranches\u001b[0m\u001b[0;34m[\u001b[0m\u001b[0mname\u001b[0m\u001b[0;34m]\u001b[0m \u001b[0;34m=\u001b[0m \u001b[0mStatechart\u001b[0m\u001b[0;34m(\u001b[0m\u001b[0mname\u001b[0m\u001b[0;34m,\u001b[0m \u001b[0mhost\u001b[0m\u001b[0;34m,\u001b[0m \u001b[0mdefinition\u001b[0m\u001b[0;34m)\u001b[0m\u001b[0;34m\u001b[0m\u001b[0;34m\u001b[0m\u001b[0m\n\u001b[0m\u001b[1;32m    440\u001b[0m             \u001b[0;32melif\u001b[0m \u001b[0mname\u001b[0m\u001b[0;34m.\u001b[0m\u001b[0mrfind\u001b[0m\u001b[0;34m(\u001b[0m\u001b[0;34m'$flow'\u001b[0m\u001b[0;34m)\u001b[0m \u001b[0;34m!=\u001b[0m \u001b[0;34m-\u001b[0m\u001b[0;36m1\u001b[0m\u001b[0;34m:\u001b[0m\u001b[0;34m\u001b[0m\u001b[0;34m\u001b[0m\u001b[0m\n\u001b[1;32m    441\u001b[0m                 \u001b[0mname\u001b[0m \u001b[0;34m=\u001b[0m \u001b[0mname\u001b[0m\u001b[0;34m[\u001b[0m\u001b[0;34m:\u001b[0m\u001b[0mname\u001b[0m\u001b[0;34m.\u001b[0m\u001b[0mrfind\u001b[0m\u001b[0;34m(\u001b[0m\u001b[0;34m'$flow'\u001b[0m\u001b[0;34m)\u001b[0m\u001b[0;34m]\u001b[0m\u001b[0;34m\u001b[0m\u001b[0;34m\u001b[0m\u001b[0m\n",
      "\u001b[0;32m~/projects/iopp/vani-analysis-tool/vani-venv/lib/python3.7/site-packages/durable/engine.py\u001b[0m in \u001b[0;36m__init__\u001b[0;34m(self, name, host, chart_definition)\u001b[0m\n\u001b[1;32m    518\u001b[0m         \u001b[0mself\u001b[0m\u001b[0;34m.\u001b[0m\u001b[0m_host\u001b[0m \u001b[0;34m=\u001b[0m \u001b[0mhost\u001b[0m\u001b[0;34m\u001b[0m\u001b[0;34m\u001b[0m\u001b[0m\n\u001b[1;32m    519\u001b[0m         \u001b[0mruleset_definition\u001b[0m \u001b[0;34m=\u001b[0m \u001b[0;34m{\u001b[0m\u001b[0;34m}\u001b[0m\u001b[0;34m\u001b[0m\u001b[0;34m\u001b[0m\u001b[0m\n\u001b[0;32m--> 520\u001b[0;31m         \u001b[0mself\u001b[0m\u001b[0;34m.\u001b[0m\u001b[0m_transform\u001b[0m\u001b[0;34m(\u001b[0m\u001b[0;32mNone\u001b[0m\u001b[0;34m,\u001b[0m \u001b[0;32mNone\u001b[0m\u001b[0;34m,\u001b[0m \u001b[0;32mNone\u001b[0m\u001b[0;34m,\u001b[0m \u001b[0mchart_definition\u001b[0m\u001b[0;34m,\u001b[0m \u001b[0mruleset_definition\u001b[0m\u001b[0;34m)\u001b[0m\u001b[0;34m\u001b[0m\u001b[0;34m\u001b[0m\u001b[0m\n\u001b[0m\u001b[1;32m    521\u001b[0m         \u001b[0msuper\u001b[0m\u001b[0;34m(\u001b[0m\u001b[0mStatechart\u001b[0m\u001b[0;34m,\u001b[0m \u001b[0mself\u001b[0m\u001b[0;34m)\u001b[0m\u001b[0;34m.\u001b[0m\u001b[0m__init__\u001b[0m\u001b[0;34m(\u001b[0m\u001b[0mname\u001b[0m\u001b[0;34m,\u001b[0m \u001b[0mhost\u001b[0m\u001b[0;34m,\u001b[0m \u001b[0mruleset_definition\u001b[0m\u001b[0;34m)\u001b[0m\u001b[0;34m\u001b[0m\u001b[0;34m\u001b[0m\u001b[0m\n\u001b[1;32m    522\u001b[0m         \u001b[0mself\u001b[0m\u001b[0;34m.\u001b[0m\u001b[0m_definition\u001b[0m \u001b[0;34m=\u001b[0m \u001b[0mchart_definition\u001b[0m\u001b[0;34m\u001b[0m\u001b[0;34m\u001b[0m\u001b[0m\n",
      "\u001b[0;32m~/projects/iopp/vani-analysis-tool/vani-venv/lib/python3.7/site-packages/durable/engine.py\u001b[0m in \u001b[0;36m_transform\u001b[0;34m(self, parent_name, parent_triggers, parent_start_state, chart_definition, rules)\u001b[0m\n\u001b[1;32m    614\u001b[0m         \u001b[0;32mfor\u001b[0m \u001b[0mstate_name\u001b[0m \u001b[0;32min\u001b[0m \u001b[0mstart_state\u001b[0m\u001b[0;34m.\u001b[0m\u001b[0mkeys\u001b[0m\u001b[0;34m(\u001b[0m\u001b[0;34m)\u001b[0m\u001b[0;34m:\u001b[0m\u001b[0;34m\u001b[0m\u001b[0;34m\u001b[0m\u001b[0m\n\u001b[1;32m    615\u001b[0m             \u001b[0;32mif\u001b[0m \u001b[0mstarted\u001b[0m\u001b[0;34m:\u001b[0m\u001b[0;34m\u001b[0m\u001b[0;34m\u001b[0m\u001b[0m\n\u001b[0;32m--> 616\u001b[0;31m                 \u001b[0;32mraise\u001b[0m \u001b[0mException\u001b[0m\u001b[0;34m(\u001b[0m\u001b[0;34m'Chart {0} has more than one start state {1}'\u001b[0m\u001b[0;34m.\u001b[0m\u001b[0mformat\u001b[0m\u001b[0;34m(\u001b[0m\u001b[0mself\u001b[0m\u001b[0;34m.\u001b[0m\u001b[0m_name\u001b[0m\u001b[0;34m,\u001b[0m \u001b[0mstate_name\u001b[0m\u001b[0;34m)\u001b[0m\u001b[0;34m)\u001b[0m\u001b[0;34m\u001b[0m\u001b[0;34m\u001b[0m\u001b[0m\n\u001b[0m\u001b[1;32m    617\u001b[0m \u001b[0;34m\u001b[0m\u001b[0m\n\u001b[1;32m    618\u001b[0m             \u001b[0mstarted\u001b[0m \u001b[0;34m=\u001b[0m \u001b[0;32mTrue\u001b[0m\u001b[0;34m\u001b[0m\u001b[0;34m\u001b[0m\u001b[0m\n",
      "\u001b[0;31mException\u001b[0m: Chart expense10 has more than one start state pending"
     ]
    }
   ],
   "source": [
    "from durable.lang import *\n",
    "\n",
    "with statechart('expense10'):\n",
    "    # initial state 'input' with two triggers\n",
    "    with state('input'):\n",
    "        # trigger to move to 'denied' given a condition\n",
    "        @to('denied')\n",
    "        @when_all((m.subject == 'approve') & (m.amount > 1000))\n",
    "        # action executed before state change\n",
    "        def denied(c):\n",
    "            print ('denied amount {0}'.format(c.m.amount))\n",
    "        \n",
    "        # @to('pending')    \n",
    "        # @when_all((m.subject == 'approve') & (m.amount <= 1000))\n",
    "        # def request(c):\n",
    "        #     print ('requesting approve amount {0}'.format(c.m.amount))\n",
    "\n",
    "        @to('approved')\n",
    "        @when_all(+m.amount)\n",
    "        def all(c):\n",
    "            print(c)\n",
    "    \n",
    "    # intermediate state 'pending' with two triggers\n",
    "    with state('pending'):\n",
    "        @to('approved')\n",
    "        @when_all(m.subject == 'approved')\n",
    "        def approved(c):\n",
    "            print ('expense approved')\n",
    "            \n",
    "        @to('denied')\n",
    "        @when_all(m.subject == 'denied')\n",
    "        def denied(c):\n",
    "            print ('expense denied')\n",
    "    \n",
    "    # 'denied' and 'approved' are final states    \n",
    "    state('denied')\n",
    "    state('approved')\n",
    "        \n",
    "# events directed to default statechart instance\n",
    "post('expense10', { 'subject': 'approve', 'amount': 100 })\n",
    "# post('expense7', { 'subject': 'approved' })\n",
    "\n",
    "# # events directed to statechart instance with id '1'\n",
    "# post('expense2', { 'sid': 1, 'subject': 'approve', 'amount': 100 })\n",
    "# post('expense2', { 'sid': 1, 'subject': 'denied' })\n",
    "\n",
    "# # events directed to statechart instance with id '2'\n",
    "# post('expense2', { 'sid': 2, 'subject': 'approve', 'amount': 10000 })"
   ]
  },
  {
   "cell_type": "code",
   "execution_count": null,
   "metadata": {},
   "outputs": [
    {
     "name": "stdout",
     "output_type": "stream",
     "text": [
      "approved [{'amount': 30}, {'amount': 20}, {'amount': 10}]\n"
     ]
    },
    {
     "data": {
      "text/plain": [
       "{'sid': '0', 'id': 'sid-0', '$s': 1}"
      ]
     },
     "execution_count": 21,
     "metadata": {},
     "output_type": "execute_result"
    }
   ],
   "source": [
    "from durable.lang import *\n",
    "\n",
    "with ruleset('expense14'):\n",
    "    # this rule will trigger as soon as three events match the condition\n",
    "    @when_all(count(3), m.amount < 100)\n",
    "    def approve(c):\n",
    "        print('approved {0}'.format(c.m))\n",
    "\n",
    "    # this rule will be triggered when 'expense' is asserted batching at most two results       \n",
    "    @when_all(cap(2),\n",
    "              c.expense << m.amount >= 300,\n",
    "              c.approval << m.review == True)\n",
    "    def reject(c):\n",
    "        print('rejected {0}'.format(c.m))\n",
    "\n",
    "    @when_all(cap(2),\n",
    "              c.expense << m.amount >= 100,\n",
    "              c.approval << m.review == True)\n",
    "    def reject2(c):\n",
    "        print('rejected2 {0}'.format(c.m))\n",
    "\n",
    "post_batch('expense14', [{ 'amount': 10 },\n",
    "                                    { 'amount': 20 },\n",
    "                                    { 'amount': 100 },\n",
    "                                    { 'amount': 30 },\n",
    "                                    { 'amount': 200 },\n",
    "                                    { 'amount': 400 }])\n",
    "# assert_fact('expense13', { 'review': True })"
   ]
  },
  {
   "cell_type": "code",
   "execution_count": null,
   "metadata": {},
   "outputs": [
    {
     "name": "stdout",
     "output_type": "stream",
     "text": [
      "bookstore-> Added The new book\n",
      "bookstore expected Message has already been observed: {\"reference\": \"75323\", \"name\": \"The new book\", \"price\": 500, \"seller\": \"bookstore\"}\n",
      "bookstore-> Reference 75323 status Active\n",
      "bookstore-> Reference 75323 status Active\n",
      "bookstore-> No books\n"
     ]
    },
    {
     "data": {
      "text/plain": [
       "{'sid': '0', 'id': 'sid-0', '$s': 1}"
      ]
     },
     "execution_count": 22,
     "metadata": {},
     "output_type": "execute_result"
    }
   ],
   "source": [
    "from durable.lang import *\n",
    "\n",
    "with ruleset('bookstore'):\n",
    "    # this rule will trigger for events with status\n",
    "    @when_all(+m.status)\n",
    "    def event(c):\n",
    "        print('bookstore-> Reference {0} status {1}'.format(c.m.reference, c.m.status))\n",
    "\n",
    "    @when_all(+m.name)\n",
    "    def fact(c):\n",
    "        print('bookstore-> Added {0}'.format(c.m.name))\n",
    "        \n",
    "    # this rule will be triggered when the fact is retracted\n",
    "    @when_all(none(+m.name))\n",
    "    def empty(c):\n",
    "        print('bookstore-> No books')\n",
    "\n",
    "# will not throw because the fact assert was successful \n",
    "assert_fact('bookstore', {\n",
    "    'name': 'The new book',\n",
    "    'seller': 'bookstore',\n",
    "    'reference': '75323',\n",
    "    'price': 500\n",
    "})\n",
    "\n",
    "# will throw MessageObservedError because the fact has already been asserted \n",
    "try:\n",
    "    assert_fact('bookstore', {\n",
    "        'reference': '75323',\n",
    "        'name': 'The new book',\n",
    "        'price': 500,\n",
    "        'seller': 'bookstore'\n",
    "    })\n",
    "except BaseException as e:\n",
    "    print('bookstore expected {0}'.format(e.message))\n",
    "\n",
    "# will not throw because a new event is being posted\n",
    "post('bookstore', {\n",
    "    'reference': '75323',\n",
    "    'status': 'Active'\n",
    "})\n",
    "\n",
    "# will not throw because a new event is being posted\n",
    "post('bookstore', {\n",
    "    'reference': '75323',\n",
    "    'status': 'Active'\n",
    "})\n",
    "\n",
    "retract_fact('bookstore', {\n",
    "    'reference': '75323',\n",
    "    'name': 'The new book',\n",
    "    'price': 500,\n",
    "    'seller': 'bookstore'\n",
    "})"
   ]
  },
  {
   "cell_type": "code",
   "execution_count": 7,
   "metadata": {},
   "outputs": [],
   "source": [
    "nodes = [\n",
    "    {\n",
    "        'bin': '0-33',\n",
    "        'depth': 0,\n",
    "        'score': 47.1,\n",
    "        'type': 'read'\n",
    "        # 'size': 50,\n",
    "        # 'time': 13.8\n",
    "    },\n",
    "    # {\n",
    "    #     'bin': 'read-0-16',\n",
    "    #     'depth': 1,\n",
    "    #     'score': 40.1,\n",
    "    #     # 'size': 50,\n",
    "    #     # 'time': 13.8\n",
    "    # },\n",
    "    # {\n",
    "    #     'bin': 'read-16-33',\n",
    "    #     'depth': 1,\n",
    "    #     'score': 45.7,\n",
    "    #     # 'size': 50,\n",
    "    #     # 'time': 13.8\n",
    "    # },\n",
    "    {\n",
    "        'bin': '0-33',\n",
    "        'depth': 0,\n",
    "        'score': 47.1,\n",
    "        'type': 'write'\n",
    "        # 'size': 50,\n",
    "        # 'time': 13.8\n",
    "    },\n",
    "    {\n",
    "        'bin': '0-33',\n",
    "        'depth': 0,\n",
    "        'score': 67.5,\n",
    "        'type': 'metadata'\n",
    "        # 'size': 50,\n",
    "        # 'time': 13.8\n",
    "    },\n",
    "    {\n",
    "        'bin': '0-33',\n",
    "        'depth': 0,\n",
    "        'score': 37.5,\n",
    "        'type': 'metadata2'\n",
    "        # 'size': 50,\n",
    "        # 'time': 13.8\n",
    "    },\n",
    "    {\n",
    "        'bin': '0-33',\n",
    "        'depth': 0,\n",
    "        'score': 77.5,\n",
    "        'type': 'metadata3'\n",
    "        # 'size': 50,\n",
    "        # 'time': 13.8\n",
    "    },\n",
    "    {\n",
    "        'type': 'ready'\n",
    "    }\n",
    "]\n",
    "\n",
    "\n"
   ]
  },
  {
   "cell_type": "code",
   "execution_count": 34,
   "metadata": {},
   "outputs": [],
   "source": [
    "with statechart('analysis45'):\n",
    "\n",
    "    with state('start'):\n",
    "        @when_all(pri(0))\n",
    "        def keep_nodes(c):\n",
    "            print('keep_nodes')\n",
    "            print(c.m)\n",
    "            if not c.s.nodes:\n",
    "                c.s.nodes = []\n",
    "            c.s.nodes.append(c.m)\n",
    "\n",
    "        @to('analyze_root')\n",
    "        @when_all(m.type == 'ready')\n",
    "        def analyzing_root(c):\n",
    "            print('-------')\n",
    "            print('analyzing_roots')\n",
    "            c.s.max_root_score = 0.0\n",
    "            print(c.root)\n",
    "\n",
    "        @to('analyze_node')\n",
    "        @when_all(m.depth == 1)\n",
    "        def analyzing_node(c):\n",
    "            print('-------')\n",
    "            print('analyzing_nodes')\n",
    "\n",
    "    with state('analyze_root'):\n",
    "\n",
    "        @to('analyze_root')\n",
    "        # @when_all(c.r1 << (m.depth == 0), \n",
    "        #           c.r2 << (m.depth == 0) & (m.type != c.r1.type) & (m.score > c.r1.score))\n",
    "        @when_all(m.depth == 0)\n",
    "        def analyze_root(c):\n",
    "            print('-------')\n",
    "            print('analyze_root')\n",
    "            print(c.s.max_root_score)\n",
    "            c.s.max_root_score = c.m.score\n",
    "            # print(c.s.nodes)\n",
    "\n",
    "        @to('analyze_node')\n",
    "        @when_all(pri(1))\n",
    "        def analyzed_root(c):\n",
    "            print('analyzed_roots')\n",
    "            c.s.max_root_score = c.m.score\n",
    "\n",
    "    with state('analyze_node'):\n",
    "\n",
    "        @when_all(m.depth == 1)\n",
    "        def analyze_node(c):\n",
    "            print('-------')\n",
    "            print('analyze_node')\n",
    "            print(c.m)\n",
    "            # print(c.s.nodes)\n",
    "\n",
    "    # state('end')\n"
   ]
  },
  {
   "cell_type": "code",
   "execution_count": 35,
   "metadata": {},
   "outputs": [
    {
     "name": "stdout",
     "output_type": "stream",
     "text": [
      "-------\n",
      "analyzing_roots\n",
      "None\n",
      "-------\n",
      "analyze_root\n",
      "0.0\n",
      "-------\n",
      "analyze_root\n",
      "77.5\n",
      "-------\n",
      "analyze_root\n",
      "37.5\n",
      "-------\n",
      "analyze_root\n",
      "67.5\n",
      "-------\n",
      "analyze_root\n",
      "47.1\n",
      "analyzed_roots\n"
     ]
    }
   ],
   "source": [
    "for node in nodes:\n",
    "    # print(node)\n",
    "    post('analysis45', node)"
   ]
  },
  {
   "cell_type": "code",
   "execution_count": null,
   "metadata": {},
   "outputs": [],
   "source": []
  }
 ],
 "metadata": {
  "kernelspec": {
   "display_name": "Python 3.7.2 ('vani-venv': venv)",
   "language": "python",
   "name": "python3"
  },
  "language_info": {
   "codemirror_mode": {
    "name": "ipython",
    "version": 3
   },
   "file_extension": ".py",
   "mimetype": "text/x-python",
   "name": "python",
   "nbconvert_exporter": "python",
   "pygments_lexer": "ipython3",
   "version": "3.7.2"
  },
  "orig_nbformat": 4,
  "vscode": {
   "interpreter": {
    "hash": "ff6fd221dcfee2bcbbd7540eaccc49ab791772b49cbdf2ff6d7abe2d0b5714b9"
   }
  }
 },
 "nbformat": 4,
 "nbformat_minor": 2
}

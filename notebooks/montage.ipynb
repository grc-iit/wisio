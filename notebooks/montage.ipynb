{
 "cells": [
  {
   "cell_type": "code",
   "execution_count": 1,
   "id": "2a19e149-d47f-4d08-8bf0-b8bdd7b58373",
   "metadata": {},
   "outputs": [
    {
     "name": "stdout",
     "output_type": "stream",
     "text": [
      "Requirement already satisfied: python-intervals in /usr/WS2/iopp/.conda/envs/jupyter/lib/python3.9/site-packages (1.10.0.post1)\n"
     ]
    }
   ],
   "source": [
    "!pip install python-intervals"
   ]
  },
  {
   "cell_type": "code",
   "execution_count": 2,
   "id": "29bc6ef2-c509-4ef8-baec-c35bf6b61288",
   "metadata": {},
   "outputs": [],
   "source": [
    "import sys\n",
    "import os\n",
    "sys.path.append(os.path.dirname(os.getcwd()))\n",
    "import intervals"
   ]
  },
  {
   "cell_type": "code",
   "execution_count": 3,
   "id": "7e619c48-bf08-42ce-92ff-e41e69fa713d",
   "metadata": {},
   "outputs": [],
   "source": [
    "#from vani.analyzer import Analyzer"
   ]
  },
  {
   "cell_type": "code",
   "execution_count": 4,
   "id": "4bb8ece5-4b75-4cb8-819b-32527d8bc590",
   "metadata": {
    "tags": []
   },
   "outputs": [],
   "source": [
    "# # Initialize analyzer\n",
    "# cluster_settings = dict(\n",
    "#     dashboard_port=3446,\n",
    "#     local_directory=\"/var/tmp/dask\",\n",
    "#     log_file=\"digio.worker.log\"\n",
    "# )\n",
    "# vn = Analyzer(debug=True, cluster_settings=cluster_settings)\n",
    "\n",
    "# # Analysis configuration\n",
    "# log_dir = \"/p/gpfs1/iopp/recorder_app_logs/genome_pegasus/nodes-32/_parquet\""
   ]
  },
  {
   "cell_type": "code",
   "execution_count": 5,
   "id": "6569cc59-2172-4770-865f-c5ac740b81ad",
   "metadata": {},
   "outputs": [],
   "source": [
    "#analysis = vn.analyze_parquet_logs(log_dir, depth=10, persist_stats=True, stats_file_prefix=\"cm1_\")"
   ]
  },
  {
   "cell_type": "code",
   "execution_count": 6,
   "id": "7541e2c4-f702-46bc-87a3-fc73fed7f372",
   "metadata": {
    "tags": []
   },
   "outputs": [],
   "source": [
    "#files = vn.ensure_logs_partitioned(log_dir=log_dir)"
   ]
  },
  {
   "cell_type": "code",
   "execution_count": 7,
   "id": "f2a044bd-a320-4b82-8909-c74cd70de7f7",
   "metadata": {},
   "outputs": [],
   "source": [
    "# def wait_until_workers_alive(filter_group_index: str, n_workers: int = None):\n",
    "#     # Get current number of workers\n",
    "#     current_n_workers = len(vn.clients[filter_group_index].scheduler_info()['workers'])\n",
    "#     expected_n_workers = int(vn.n_workers_per_node if n_workers is None else n_workers)\n",
    "#     # Wait until enough number of workers alive\n",
    "#     while vn.clients[filter_group_index].status == 'running' and current_n_workers < expected_n_workers:\n",
    "#         # Log status\n",
    "#         vn.logger.debug(\n",
    "#             format_log(filter_group_index, f\"{current_n_workers}/{expected_n_workers} workers running\"))\n",
    "#         # Ensure loop\n",
    "#         vn.ensure_asyncio_loop()\n",
    "#         # Try correcting state\n",
    "#         # noinspection PyProtectedMember\n",
    "#         vn.clusters[filter_group_index]._correct_state()\n",
    "#         # Sleep a little\n",
    "#         sleep(1)\n",
    "#         # Get current number of workers\n",
    "#         current_n_workers = len(vn.clients[filter_group_index].scheduler_info()['workers'])\n",
    "#     # Print result\n",
    "#     vn.logger.debug(format_log(filter_group_index, \"All workers alive\"))"
   ]
  },
  {
   "cell_type": "code",
   "execution_count": 8,
   "id": "21796ca6-ccb6-471c-8410-a1caef730151",
   "metadata": {},
   "outputs": [],
   "source": [
    "import dask\n",
    "import dask.dataframe as dd\n",
    "import functools\n",
    "import glob\n",
    "import json\n",
    "import logging\n",
    "import math\n",
    "import os\n",
    "import psutil\n",
    "import socket\n",
    "from anytree import PostOrderIter\n",
    "from concurrent.futures import ThreadPoolExecutor, as_completed\n",
    "from dask.distributed import Client, LocalCluster, get_task_stream, progress, wait\n",
    "from distributed.diagnostics.plugin import SchedulerPlugin\n",
    "from dask_jobqueue import LSFCluster\n",
    "from time import perf_counter, sleep\n",
    "from tqdm.auto import tqdm\n",
    "from typing import Union"
   ]
  },
  {
   "cell_type": "code",
   "execution_count": 9,
   "id": "ada62f1c-470e-4452-96cf-396945e92c62",
   "metadata": {},
   "outputs": [],
   "source": [
    "# from vani.utils.logger import ElapsedTimeLogger, create_logger, format_log\n",
    "# filter_group_index='tmid'\n",
    "# wait_until_workers_alive(filter_group_index, vn.n_workers_per_node / 2)\n",
    "# #wait_workers = vn.clients[filter_group_index].submit()\n",
    "# #wait_workers.result()"
   ]
  },
  {
   "cell_type": "code",
   "execution_count": 10,
   "id": "e350d7e0-9929-443a-aa77-43381fff8654",
   "metadata": {},
   "outputs": [],
   "source": [
    "import dask.dataframe as dd\n",
    "from dask.distributed import Client\n",
    "import dask_jobqueue\n",
    "from dask_jobqueue import LSFCluster"
   ]
  },
  {
   "cell_type": "code",
   "execution_count": 11,
   "id": "e82874a0-06a3-4f66-8191-a502a34a320f",
   "metadata": {},
   "outputs": [],
   "source": [
    "node_memory = 1600 # node memory in GB\n",
    "n_workers_per_node = 16 # number of worker processes per node\n",
    "n_threads_per_worker = 1\n",
    "worker_time = 120 # job time per node for worker\n",
    "worker_queue = \"pdebug\" # queue to be used per worker\n",
    "import socket\n",
    "host = socket.gethostname()\n",
    "dashboard_address = '{}:8788'.format(socket.gethostname())\n",
    "memory = '{}GB'.format(node_memory/n_workers_per_node)\n",
    "job_extra = ['-nnodes 1', \n",
    "             '-G asccasc', \n",
    "             '-q {}'.format(worker_queue), \n",
    "             '-W {}'.format(worker_time)]\n",
    "local_directory=\"/var/tmp/dask/\"\n",
    "cluster = LSFCluster(cores = n_workers_per_node*n_threads_per_worker,processes=n_workers_per_node, memory='{}GB'.format(node_memory), \n",
    "                     header_skip=['-n ','-R','-M', '-P', '-W 00:30'], \n",
    "                     job_extra = job_extra, \n",
    "                     death_timeout=worker_time*60,\n",
    "                     local_directory =f\"{local_directory}\",\n",
    "                     use_stdin=True, \n",
    "                     scheduler_options={\"port\": 0,\"host\":host, \"dashboard_address\": ':8788'})\n",
    "client = Client(cluster, set_as_default=True)"
   ]
  },
  {
   "cell_type": "code",
   "execution_count": 12,
   "id": "28632cd5-6196-48d8-ab96-9750c8397098",
   "metadata": {},
   "outputs": [
    {
     "data": {
      "text/html": [
       "<div>\n",
       "    <div style=\"width: 24px; height: 24px; background-color: #e1e1e1; border: 3px solid #9D9D9D; border-radius: 5px; position: absolute;\"> </div>\n",
       "    <div style=\"margin-left: 48px;\">\n",
       "        <h3 style=\"margin-bottom: 0px;\">Client</h3>\n",
       "        <p style=\"color: #9D9D9D; margin-bottom: 0px;\">Client-88f71136-3f87-11ed-a81a-70e28414902d</p>\n",
       "        <table style=\"width: 100%; text-align: left;\">\n",
       "\n",
       "        <tr>\n",
       "        \n",
       "            <td style=\"text-align: left;\"><strong>Connection method:</strong> Cluster object</td>\n",
       "            <td style=\"text-align: left;\"><strong>Cluster type:</strong> dask_jobqueue.LSFCluster</td>\n",
       "        \n",
       "        </tr>\n",
       "\n",
       "        \n",
       "            <tr>\n",
       "                <td style=\"text-align: left;\">\n",
       "                    <strong>Dashboard: </strong> <a href=\"http://192.168.66.200:8788/status\" target=\"_blank\">http://192.168.66.200:8788/status</a>\n",
       "                </td>\n",
       "                <td style=\"text-align: left;\"></td>\n",
       "            </tr>\n",
       "        \n",
       "\n",
       "        </table>\n",
       "\n",
       "        \n",
       "            <details>\n",
       "            <summary style=\"margin-bottom: 20px;\"><h3 style=\"display: inline;\">Cluster Info</h3></summary>\n",
       "            <div class=\"jp-RenderedHTMLCommon jp-RenderedHTML jp-mod-trusted jp-OutputArea-output\">\n",
       "    <div style=\"width: 24px; height: 24px; background-color: #e1e1e1; border: 3px solid #9D9D9D; border-radius: 5px; position: absolute;\">\n",
       "    </div>\n",
       "    <div style=\"margin-left: 48px;\">\n",
       "        <h3 style=\"margin-bottom: 0px; margin-top: 0px;\">LSFCluster</h3>\n",
       "        <p style=\"color: #9D9D9D; margin-bottom: 0px;\">5ad67d5d</p>\n",
       "        <table style=\"width: 100%; text-align: left;\">\n",
       "            <tr>\n",
       "                <td style=\"text-align: left;\">\n",
       "                    <strong>Dashboard:</strong> <a href=\"http://192.168.66.200:8788/status\" target=\"_blank\">http://192.168.66.200:8788/status</a>\n",
       "                </td>\n",
       "                <td style=\"text-align: left;\">\n",
       "                    <strong>Workers:</strong> 0\n",
       "                </td>\n",
       "            </tr>\n",
       "            <tr>\n",
       "                <td style=\"text-align: left;\">\n",
       "                    <strong>Total threads:</strong> 0\n",
       "                </td>\n",
       "                <td style=\"text-align: left;\">\n",
       "                    <strong>Total memory:</strong> 0 B\n",
       "                </td>\n",
       "            </tr>\n",
       "            \n",
       "        </table>\n",
       "\n",
       "        <details>\n",
       "            <summary style=\"margin-bottom: 20px;\">\n",
       "                <h3 style=\"display: inline;\">Scheduler Info</h3>\n",
       "            </summary>\n",
       "\n",
       "            <div style=\"\">\n",
       "    <div>\n",
       "        <div style=\"width: 24px; height: 24px; background-color: #FFF7E5; border: 3px solid #FF6132; border-radius: 5px; position: absolute;\"> </div>\n",
       "        <div style=\"margin-left: 48px;\">\n",
       "            <h3 style=\"margin-bottom: 0px;\">Scheduler</h3>\n",
       "            <p style=\"color: #9D9D9D; margin-bottom: 0px;\">Scheduler-5b24974b-9f13-4598-b53b-5369b4259407</p>\n",
       "            <table style=\"width: 100%; text-align: left;\">\n",
       "                <tr>\n",
       "                    <td style=\"text-align: left;\">\n",
       "                        <strong>Comm:</strong> tcp://192.168.66.200:39273\n",
       "                    </td>\n",
       "                    <td style=\"text-align: left;\">\n",
       "                        <strong>Workers:</strong> 0\n",
       "                    </td>\n",
       "                </tr>\n",
       "                <tr>\n",
       "                    <td style=\"text-align: left;\">\n",
       "                        <strong>Dashboard:</strong> <a href=\"http://192.168.66.200:8788/status\" target=\"_blank\">http://192.168.66.200:8788/status</a>\n",
       "                    </td>\n",
       "                    <td style=\"text-align: left;\">\n",
       "                        <strong>Total threads:</strong> 0\n",
       "                    </td>\n",
       "                </tr>\n",
       "                <tr>\n",
       "                    <td style=\"text-align: left;\">\n",
       "                        <strong>Started:</strong> Just now\n",
       "                    </td>\n",
       "                    <td style=\"text-align: left;\">\n",
       "                        <strong>Total memory:</strong> 0 B\n",
       "                    </td>\n",
       "                </tr>\n",
       "            </table>\n",
       "        </div>\n",
       "    </div>\n",
       "\n",
       "    <details style=\"margin-left: 48px;\">\n",
       "        <summary style=\"margin-bottom: 20px;\">\n",
       "            <h3 style=\"display: inline;\">Workers</h3>\n",
       "        </summary>\n",
       "\n",
       "        \n",
       "\n",
       "    </details>\n",
       "</div>\n",
       "\n",
       "        </details>\n",
       "    </div>\n",
       "</div>\n",
       "            </details>\n",
       "        \n",
       "\n",
       "    </div>\n",
       "</div>"
      ],
      "text/plain": [
       "<Client: 'tcp://192.168.66.200:39273' processes=0 threads=0, memory=0 B>"
      ]
     },
     "execution_count": 12,
     "metadata": {},
     "output_type": "execute_result"
    }
   ],
   "source": [
    "client"
   ]
  },
  {
   "cell_type": "code",
   "execution_count": 13,
   "id": "7344126b-16cc-4949-922e-549fbb665716",
   "metadata": {},
   "outputs": [],
   "source": [
    "cluster.scale(n_workers_per_node*1)"
   ]
  },
  {
   "cell_type": "code",
   "execution_count": 14,
   "id": "af43a5cc-6496-4337-a00b-d3c39bc614b1",
   "metadata": {},
   "outputs": [],
   "source": [
    "def draw_graph(future):\n",
    "    dask_graph = future.__dask_graph__()\n",
    "    edges = []\n",
    "    edge_count = {}\n",
    "    for key, value in dask_graph.dependencies.items():\n",
    "        vals = list(value)\n",
    "        destination = key.split(\"-\")[0]\n",
    "        for val in vals:\n",
    "            source = val.split(\"-\")[0]\n",
    "            str_edge = str(source) + \"-\" + str(destination)\n",
    "            if str_edge not in edge_count:\n",
    "                edge_count[str_edge] = 0\n",
    "            edge_count[str_edge] = edge_count[str_edge] + 1\n",
    "            edges.append((source, destination))\n",
    "    #print(edges[:5])\n",
    "    import networkx as nx\n",
    "    dag = nx.DiGraph()\n",
    "    dag.add_edges_from(edges)\n",
    "    import graphviz\n",
    "    dot = graphviz.Digraph()\n",
    "    for node in dag.nodes:\n",
    "        dot.node(node)\n",
    "        #print(node)\n",
    "    for edge_str, count in edge_count.items():\n",
    "        source, destination  = edge_str.split(\"-\")\n",
    "        dot.edge(source, destination, label=str(count))\n",
    "    return dot"
   ]
  },
  {
   "cell_type": "code",
   "execution_count": 15,
   "id": "9b7ce75b-fcf8-475b-8f5a-1a4c5dba9dac",
   "metadata": {},
   "outputs": [],
   "source": [
    "delimiter = '-'\n",
    "def merge(x, y):\n",
    "    import numpy as np\n",
    "    return {\n",
    "        'read': {\n",
    "            'uniq_ranks': np.union1d(x['read']['uniq_ranks'],y['read']['uniq_ranks']),\n",
    "            'agg_dur': x['read']['agg_dur'] + y['read']['agg_dur'],\n",
    "            'total_io_size': x['read']['total_io_size'] + y['read']['total_io_size'],\n",
    "            'uniq_filenames': np.union1d(x['read']['uniq_filenames'],y['read']['uniq_filenames']),\n",
    "            'bw_sum': x['read']['bw_sum'] + y['read']['bw_sum'],\n",
    "            'ops': x['read']['ops'] + y['read']['ops'],\n",
    "        },\n",
    "        'write': {\n",
    "            'uniq_ranks': np.union1d(x['write']['uniq_ranks'],y['write']['uniq_ranks']),\n",
    "            'agg_dur': x['write']['agg_dur'] + y['write']['agg_dur'],\n",
    "            'total_io_size': x['write']['total_io_size'] + y['write']['total_io_size'],\n",
    "            'uniq_filenames': np.union1d(x['write']['uniq_filenames'],y['write']['uniq_filenames']),\n",
    "            'bw_sum': x['write']['bw_sum'] + y['write']['bw_sum'],\n",
    "            'ops': x['write']['ops'] + y['write']['ops'],\n",
    "        },\n",
    "        'metadata': {\n",
    "            'uniq_ranks': np.union1d(x['metadata']['uniq_ranks'],y['metadata']['uniq_ranks']),\n",
    "            'agg_dur': x['metadata']['agg_dur'] + y['metadata']['agg_dur'],\n",
    "            'uniq_filenames': np.union1d(x['metadata']['uniq_filenames'],y['metadata']['uniq_filenames']),\n",
    "            'ops': x['metadata']['ops'] + y['metadata']['ops'],\n",
    "        }\n",
    "    }\n",
    "\n",
    "def filter(target_ddf, filter_group_index: str):\n",
    "    import numpy as np\n",
    "    #target_ddf = ddf.loc[start:stop]\n",
    "    # Select dataframes\n",
    "    #result = wait(target_ddf)\n",
    "    import intervals\n",
    "    empty = {\n",
    "            'uniq_ranks': [],\n",
    "            'agg_dur': 0.0,\n",
    "            'total_io_size': 0,\n",
    "            'uniq_filenames': [],\n",
    "            'bw_sum': 0.0,\n",
    "            'ops': 0,\n",
    "        }\n",
    "    if target_ddf.empty:\n",
    "        return {\n",
    "        'read': empty,\n",
    "        'write': empty,\n",
    "        'metadata': empty\n",
    "    }\n",
    "    import pandas as pd\n",
    "    def f(x):\n",
    "        d = {}\n",
    "        d['duration'] = x['duration'].sum()\n",
    "        d['size'] = x['size'].sum()\n",
    "        d['bandwidth'] = x['bandwidth'].sum()\n",
    "        d['index'] = x['index'].count()\n",
    "        d['proc_id'] = x['proc_id'].unique()\n",
    "        d['file_id'] = x['file_id'].unique()\n",
    "        return pd.Series(d, index=['duration', 'size', 'bandwidth', 'index', 'proc_id', 'file_id'])\n",
    "    \n",
    "    aggregated_values = target_ddf.groupby('io_cat').apply(f)\n",
    "    \n",
    "    \n",
    "#     read_ddf = target_ddf[(target_ddf['io_cat'] == 1)]\n",
    "#     write_ddf = target_ddf[(target_ddf['io_cat'] == 2)]\n",
    "#     metadata_ddf = target_ddf[(target_ddf['io_cat'] == 3)]\n",
    "#     # TODO: on same compute run for all ddf.\n",
    "#     # Create tasks\n",
    "#     read_tasks = [\n",
    "#         read_ddf.index.unique() if filter_group_index == 'proc_id' else read_ddf['proc_id'].unique(),\n",
    "#         read_ddf['duration'].sum(),\n",
    "#         read_ddf['size'].sum(),\n",
    "#         read_ddf.index.unique() if filter_group_index == 'file_id' else read_ddf['file_id'].unique(),\n",
    "#         read_ddf['bandwidth'].sum(),\n",
    "#         read_ddf['index'].count(),\n",
    "#     ]\n",
    "#     write_tasks = [\n",
    "#         write_ddf.index.unique() if filter_group_index == 'proc_id' else write_ddf['proc_id'].unique(),\n",
    "#         write_ddf['duration'].sum(),\n",
    "#         write_ddf['size'].sum(),\n",
    "#         write_ddf.index.unique() if filter_group_index == 'file_id' else write_ddf['file_id'].unique(),\n",
    "#         write_ddf['bandwidth'].sum(),\n",
    "#         write_ddf['index'].count(),\n",
    "#     ]\n",
    "#     metadata_tasks = [\n",
    "#         metadata_ddf.index.unique() if filter_group_index == 'proc_id' else metadata_ddf['proc_id'].unique(),\n",
    "#         metadata_ddf['duration'].sum(),\n",
    "#         metadata_ddf.index.unique() if filter_group_index == 'file_id' else metadata_ddf['file_id'].unique(),\n",
    "#         metadata_ddf['index'].count(),\n",
    "#     ]\n",
    "#     filter_tasks = []\n",
    "#     filter_tasks.extend(read_tasks)\n",
    "#     filter_tasks.extend(write_tasks)\n",
    "#     filter_tasks.extend(metadata_tasks)\n",
    "#     # Compute all\n",
    "#     filter_results = dask.compute(*filter_tasks)\n",
    "    # Clear dataframes\n",
    "    #del read_ddf\n",
    "    del target_ddf\n",
    "    # Arrange results\n",
    "    #read_start, read_end = 0, len(read_tasks)\n",
    "    #write_start, write_end = len(read_tasks), len(read_tasks) + len(write_tasks)\n",
    "    #metadata_start, metadata_end = len(read_tasks) + len(write_tasks), 0\n",
    "    index_values = aggregated_values.index.unique()\n",
    "    read_values = empty\n",
    "    write_values = empty\n",
    "    metadata_values = empty\n",
    "    if 1 in index_values:\n",
    "        read_values = {\n",
    "            'uniq_ranks': aggregated_values.loc[1]['proc_id'],\n",
    "            'agg_dur': aggregated_values.loc[1]['duration'],\n",
    "            'total_io_size': aggregated_values.loc[1]['size'],\n",
    "            'uniq_filenames': aggregated_values.loc[1]['file_id'],\n",
    "            'bw_sum': aggregated_values.loc[1]['bandwidth'],\n",
    "            'ops': aggregated_values.loc[1]['index'],\n",
    "        }\n",
    "    if 2 in index_values:\n",
    "        write_values = {\n",
    "            'uniq_ranks': aggregated_values.loc[2]['proc_id'],\n",
    "            'agg_dur': aggregated_values.loc[2]['duration'],\n",
    "            'total_io_size': aggregated_values.loc[2]['size'],\n",
    "            'uniq_filenames': aggregated_values.loc[2]['file_id'],\n",
    "            'bw_sum': aggregated_values.loc[2]['bandwidth'],\n",
    "            'ops': aggregated_values.loc[2]['index'],\n",
    "        }\n",
    "    if 3 in index_values:\n",
    "        metadata_values = {\n",
    "            'uniq_ranks': aggregated_values.loc[3]['proc_id'],\n",
    "            'agg_dur': aggregated_values.loc[3]['duration'],\n",
    "            'total_io_size': aggregated_values.loc[3]['size'],\n",
    "            'uniq_filenames': aggregated_values.loc[3]['file_id'],\n",
    "            'bw_sum': aggregated_values.loc[3]['bandwidth'],\n",
    "            'ops': aggregated_values.loc[3]['index'],\n",
    "        }\n",
    "    filter_result = {\n",
    "        'read': read_values,\n",
    "        'write': write_values,\n",
    "        'metadata': metadata_values\n",
    "    }\n",
    "    # Return results\n",
    "    return filter_result\n",
    "def cal_len(x):\n",
    "    return {\n",
    "        'read': {\n",
    "            'uniq_ranks': len(x['read']['uniq_ranks']),\n",
    "            'agg_dur': x['read']['agg_dur'],\n",
    "            'total_io_size': x['read']['total_io_size'],\n",
    "            'uniq_filenames': len(x['read']['uniq_filenames']),\n",
    "            'bw_sum': x['read']['bw_sum'],\n",
    "            'ops': x['read']['ops'],\n",
    "        },\n",
    "        'write': {\n",
    "            'uniq_ranks': len(x['write']['uniq_ranks']),\n",
    "            'agg_dur': x['write']['agg_dur'],\n",
    "            'total_io_size': x['write']['total_io_size'],\n",
    "            'uniq_filenames': len(x['write']['uniq_filenames']),\n",
    "            'bw_sum': x['write']['bw_sum'],\n",
    "            'ops': x['write']['ops'],\n",
    "        },\n",
    "        'metadata': {\n",
    "            'uniq_ranks': len(x['metadata']['uniq_ranks']),\n",
    "            'agg_dur': x['metadata']['agg_dur'],\n",
    "            'uniq_filenames': len(x['metadata']['uniq_filenames']),\n",
    "            'ops': x['metadata']['ops']\n",
    "        }\n",
    "    }\n",
    "\n",
    "from dask.graph_manipulation import bind\n",
    "def compute_min_max(log_dir: str, filter_group_index: str, depth):\n",
    "    with open(f\"{log_dir}/global.json\") as file:\n",
    "        global_metrics = json.load(file)\n",
    "        min_val, max_val = global_metrics[filter_group_index][0], global_metrics[filter_group_index][1]\n",
    "        next_tasks = 2 ** depth\n",
    "        interval = math.ceil((max_val - min_val) * 1.0 / next_tasks)\n",
    "        time_range = range(min_val, max_val, interval)\n",
    "        return interval, time_range\n",
    "\n",
    "def splice_ddf(ddf, start, stop):\n",
    "    if stop != -1:\n",
    "        return ddf.loc[start:stop].reset_index()#.compute()\n",
    "    else:\n",
    "        return ddf.loc[start:].reset_index()#.compute()\n",
    "def compute_metrics(ddf, filter_group_index: str, hostname_ids, wait_persist_delayed):\n",
    "    MAX_DEPTH = math.ceil(math.sqrt(len(hostname_ids)))\n",
    "    iterations = list(range(0, MAX_DEPTH + 1))\n",
    "    iterations.reverse()\n",
    "    all_tasks = [0] * (MAX_DEPTH + 1)\n",
    "    for i in iterations:\n",
    "        tasks = []\n",
    "        if i == MAX_DEPTH:\n",
    "            for index, hostname in enumerate(hostname_ids):\n",
    "                if index < len(hostname_ids) - 1:\n",
    "                    stop = hostname_ids[index + 1] - 1\n",
    "                else:\n",
    "                    stop = -1\n",
    "                target_ddf = delayed_func(splice_ddf, f\"splice_ddf{delimiter}{hostname}_{stop}\", [ddf, hostname, stop])\n",
    "                tasks.append(delayed_func(filter, f\"filter{delimiter}{hostname}_{stop}\", [target_ddf, filter_group_index]))\n",
    "        else:\n",
    "            next_tasks = len(all_tasks[i + 1])\n",
    "            if next_tasks % 2 == 1:\n",
    "                next_tasks = next_tasks - 1\n",
    "            for t in range(0, next_tasks, 2):\n",
    "                tasks.append(delayed_func(merge, f\"merge{delimiter}{i}_{t}_{t+1}\", [all_tasks[i + 1][t], all_tasks[i + 1][t + 1]]))\n",
    "            next_tasks = len(all_tasks[i + 1])\n",
    "            if next_tasks % 2 == 1:\n",
    "                tasks.append(all_tasks[i + 1][next_tasks - 1])\n",
    "            # TODO why are we calling len on everything?\n",
    "            for t, next_tasks in enumerate(all_tasks[i + 1]):\n",
    "                all_tasks[i + 1][t] = delayed_func(cal_len, f\"cal_len{delimiter}{i+1}_{t}\", [next_tasks])\n",
    "        all_tasks[i] = tasks\n",
    "#     if len(all_tasks[0]) == 2:\n",
    "#         all_tasks[0] = [delayed_func(merge, f\"merge{delimiter}{0}_{0}_{1}\", [all_tasks[0][0], all_tasks[0][1]])]\n",
    "#         all_tasks[0] = [delayed_func(cal_len,f\"cal_len{delimiter}0_{t}\",all_tasks[0][0])]\n",
    "    for t, next_tasks in enumerate(all_tasks[0]):\n",
    "        all_tasks[0][t] = delayed_func(cal_len,f\"cal_len{delimiter}0_{t}\",[next_tasks])\n",
    "    metrics = dask.compute(all_tasks)\n",
    "    return metrics"
   ]
  },
  {
   "cell_type": "code",
   "execution_count": 16,
   "id": "93ee5b93-a7bd-4413-9d21-749e668703e5",
   "metadata": {},
   "outputs": [
    {
     "name": "stdout",
     "output_type": "stream",
     "text": [
      "7\n"
     ]
    }
   ],
   "source": [
    "import dask\n",
    "def delayed_func(func, name, args, nout=1):\n",
    "    if name:\n",
    "        func.__name__ = name\n",
    "    obj = dask.delayed(func, nout=nout)(*args, dask_key_name=name)\n",
    "    return obj\n",
    "def wait_delayed(ddf):\n",
    "    result = wait(ddf)\n",
    "    return 1\n",
    "def dummy(x):\n",
    "    return x\n",
    "def cal_range_hostnames(df):\n",
    "    proc_id_list = df.index.unique()\n",
    "    mask =  (2**15 -1) << 48\n",
    "    print(\"{0:b}\".format(mask))\n",
    "    hostname_ids = set()\n",
    "    for proc in proc_id_list:\n",
    "        hostname_ids.add(proc & mask)\n",
    "    s = list(hostname_ids)\n",
    "    s.sort()\n",
    "    return s  \n",
    "import numpy as np\n",
    "MAX_DEPTH = 10\n",
    "log_dir = \"/p/gpfs1/iopp/recorder_app_logs/montage/nodes-32/_parquet\"\n",
    "filter_group_index='proc_id'\n",
    "delayed_list =[]\n",
    "interval, time_range = compute_min_max(log_dir, filter_group_index, MAX_DEPTH)\n",
    "read_delayed = delayed_func(lambda log_dir: dd.read_parquet(f\"{log_dir}/*.parquet\", index=False), f\"read_parquet_{filter_group_index}\", [log_dir])\n",
    "delayed_list.append(read_delayed)\n",
    "index_delayed = delayed_func(lambda filter_group_index, ddf: ddf.set_index([filter_group_index]), f\"index_delayed_{filter_group_index}\", [filter_group_index, read_delayed])\n",
    "delayed_list.append(index_delayed)\n",
    "persist_delayed = delayed_func(lambda ddf: ddf.persist(), f\"persist_{filter_group_index}\" , [index_delayed])\n",
    "delayed_list.append(persist_delayed)\n",
    "unique_processes = delayed_func(lambda ddf: ddf.groupby(ddf.index)['hostname','rank','thread_id'].min().compute(), f\"groupby_{filter_group_index}\" , [index_delayed])\n",
    "delayed_list.append(unique_processes)\n",
    "hostname_ids = delayed_func(cal_range_hostnames, f\"hostname_ids_{filter_group_index}\", [unique_processes])\n",
    "delayed_list.append(hostname_ids)\n",
    "wait_persist_delayed = delayed_func(wait_delayed, f\"wait_delayed_{filter_group_index}\", [persist_delayed])\n",
    "delayed_list.append(wait_persist_delayed)\n",
    "compute_metrics_delayed = delayed_func(compute_metrics, f\"compute_metrics_{filter_group_index}\", [persist_delayed, filter_group_index, hostname_ids, wait_persist_delayed])\n",
    "delayed_list.append(compute_metrics_delayed)\n",
    "#compute_metrics_delayed.reverse()\n",
    "#for index, compute_metric_item in enumerate(compute_metrics_delayed):\n",
    "#    delayed_list.append(dask.delayed(dummy)(compute_metric_item,dask_key_name=f\"depth_{len(compute_metrics_delayed) - index - 1}_{filter_group_index}\"))\n",
    "print(len(delayed_list))\n",
    "#compute_metrics_delayed = delayed_func(compute_metrics, \"compute_metrics\", [wait_persist_delayed, filter_group_index, compute_min_max_delayed])\n",
    "total = dask.delayed(delayed_list)(dask_key_name=f\"{filter_group_index}_all\")"
   ]
  },
  {
   "cell_type": "code",
   "execution_count": 17,
   "id": "eae13c80-b29e-4bf1-9907-d62f72057d7a",
   "metadata": {},
   "outputs": [
    {
     "data": {
      "text/plain": [
       "8735336335147012"
      ]
     },
     "execution_count": 17,
     "metadata": {},
     "output_type": "execute_result"
    }
   ],
   "source": [
    "interval"
   ]
  },
  {
   "cell_type": "code",
   "execution_count": 18,
   "id": "65a47205-6a60-4b9c-b5e3-e0cff29a383c",
   "metadata": {},
   "outputs": [
    {
     "data": {
      "text/plain": [
       "range(115744974875708724, 9060729382066249156, 8735336335147012)"
      ]
     },
     "execution_count": 18,
     "metadata": {},
     "output_type": "execute_result"
    }
   ],
   "source": [
    "time_range"
   ]
  },
  {
   "cell_type": "code",
   "execution_count": 19,
   "id": "156daa8d-a431-4b6e-b753-ce0dc4a0087c",
   "metadata": {},
   "outputs": [],
   "source": [
    "dot = draw_graph(total)"
   ]
  },
  {
   "cell_type": "code",
   "execution_count": 20,
   "id": "e7882abb-0851-4406-98e1-0e61dcda8de3",
   "metadata": {
    "tags": []
   },
   "outputs": [
    {
     "data": {
      "image/svg+xml": [
       "<?xml version=\"1.0\" encoding=\"UTF-8\" standalone=\"no\"?>\n",
       "<!DOCTYPE svg PUBLIC \"-//W3C//DTD SVG 1.1//EN\"\n",
       " \"http://www.w3.org/Graphics/SVG/1.1/DTD/svg11.dtd\">\n",
       "<!-- Generated by graphviz version 2.42.3 (20191010.1750)\n",
       " -->\n",
       "<!-- Title: %3 Pages: 1 -->\n",
       "<svg width=\"695pt\" height=\"566pt\"\n",
       " viewBox=\"0.00 0.00 695.44 566.00\" xmlns=\"http://www.w3.org/2000/svg\" xmlns:xlink=\"http://www.w3.org/1999/xlink\">\n",
       "<g id=\"graph0\" class=\"graph\" transform=\"scale(1 1) rotate(0) translate(4 562)\">\n",
       "<title>%3</title>\n",
       "<polygon fill=\"white\" stroke=\"transparent\" points=\"-4,4 -4,-562 691.44,-562 691.44,4 -4,4\"/>\n",
       "<!-- index_delayed_proc_id -->\n",
       "<g id=\"node1\" class=\"node\">\n",
       "<title>index_delayed_proc_id</title>\n",
       "<ellipse fill=\"none\" stroke=\"black\" cx=\"452\" cy=\"-453\" rx=\"116.18\" ry=\"18\"/>\n",
       "<text text-anchor=\"middle\" x=\"452\" y=\"-449.3\" font-family=\"Times,serif\" font-size=\"14.00\">index_delayed_proc_id</text>\n",
       "</g>\n",
       "<!-- list -->\n",
       "<g id=\"node2\" class=\"node\">\n",
       "<title>list</title>\n",
       "<ellipse fill=\"none\" stroke=\"black\" cx=\"265\" cy=\"-105\" rx=\"27\" ry=\"18\"/>\n",
       "<text text-anchor=\"middle\" x=\"265\" y=\"-101.3\" font-family=\"Times,serif\" font-size=\"14.00\">list</text>\n",
       "</g>\n",
       "<!-- index_delayed_proc_id&#45;&gt;list -->\n",
       "<g id=\"edge1\" class=\"edge\">\n",
       "<title>index_delayed_proc_id&#45;&gt;list</title>\n",
       "<path fill=\"none\" stroke=\"black\" d=\"M353.92,-443.25C220.99,-430.05 0,-402.73 0,-367 0,-367 0,-367 0,-191 0,-143.68 155.13,-119.01 228,-110.03\"/>\n",
       "<polygon fill=\"black\" stroke=\"black\" points=\"228.62,-113.49 238.13,-108.82 227.79,-106.54 228.62,-113.49\"/>\n",
       "<text text-anchor=\"middle\" x=\"5\" y=\"-275.3\" font-family=\"Times,serif\" font-size=\"14.00\">1</text>\n",
       "</g>\n",
       "<!-- groupby_proc_id -->\n",
       "<g id=\"node3\" class=\"node\">\n",
       "<title>groupby_proc_id</title>\n",
       "<ellipse fill=\"none\" stroke=\"black\" cx=\"180\" cy=\"-366\" rx=\"89.08\" ry=\"18\"/>\n",
       "<text text-anchor=\"middle\" x=\"180\" y=\"-362.3\" font-family=\"Times,serif\" font-size=\"14.00\">groupby_proc_id</text>\n",
       "</g>\n",
       "<!-- index_delayed_proc_id&#45;&gt;groupby_proc_id -->\n",
       "<g id=\"edge10\" class=\"edge\">\n",
       "<title>index_delayed_proc_id&#45;&gt;groupby_proc_id</title>\n",
       "<path fill=\"none\" stroke=\"black\" d=\"M402.74,-436.61C355.77,-421.93 285.09,-399.84 235.99,-384.5\"/>\n",
       "<polygon fill=\"black\" stroke=\"black\" points=\"236.76,-381.07 226.17,-381.43 234.67,-387.75 236.76,-381.07\"/>\n",
       "<text text-anchor=\"middle\" x=\"338\" y=\"-405.8\" font-family=\"Times,serif\" font-size=\"14.00\">1</text>\n",
       "</g>\n",
       "<!-- persist_proc_id -->\n",
       "<g id=\"node8\" class=\"node\">\n",
       "<title>persist_proc_id</title>\n",
       "<ellipse fill=\"none\" stroke=\"black\" cx=\"476\" cy=\"-366\" rx=\"82.59\" ry=\"18\"/>\n",
       "<text text-anchor=\"middle\" x=\"476\" y=\"-362.3\" font-family=\"Times,serif\" font-size=\"14.00\">persist_proc_id</text>\n",
       "</g>\n",
       "<!-- index_delayed_proc_id&#45;&gt;persist_proc_id -->\n",
       "<g id=\"edge9\" class=\"edge\">\n",
       "<title>index_delayed_proc_id&#45;&gt;persist_proc_id</title>\n",
       "<path fill=\"none\" stroke=\"black\" d=\"M456.86,-434.8C460.17,-423.05 464.64,-407.24 468.42,-393.84\"/>\n",
       "<polygon fill=\"black\" stroke=\"black\" points=\"471.8,-394.75 471.15,-384.18 465.06,-392.85 471.8,-394.75\"/>\n",
       "<text text-anchor=\"middle\" x=\"471\" y=\"-405.8\" font-family=\"Times,serif\" font-size=\"14.00\">1</text>\n",
       "</g>\n",
       "<!-- proc_id_all -->\n",
       "<g id=\"node9\" class=\"node\">\n",
       "<title>proc_id_all</title>\n",
       "<ellipse fill=\"none\" stroke=\"black\" cx=\"265\" cy=\"-18\" rx=\"61.99\" ry=\"18\"/>\n",
       "<text text-anchor=\"middle\" x=\"265\" y=\"-14.3\" font-family=\"Times,serif\" font-size=\"14.00\">proc_id_all</text>\n",
       "</g>\n",
       "<!-- list&#45;&gt;proc_id_all -->\n",
       "<g id=\"edge16\" class=\"edge\">\n",
       "<title>list&#45;&gt;proc_id_all</title>\n",
       "<path fill=\"none\" stroke=\"black\" d=\"M265,-86.8C265,-75.16 265,-59.55 265,-46.24\"/>\n",
       "<polygon fill=\"black\" stroke=\"black\" points=\"268.5,-46.18 265,-36.18 261.5,-46.18 268.5,-46.18\"/>\n",
       "<text text-anchor=\"middle\" x=\"270\" y=\"-57.8\" font-family=\"Times,serif\" font-size=\"14.00\">1</text>\n",
       "</g>\n",
       "<!-- groupby_proc_id&#45;&gt;list -->\n",
       "<g id=\"edge2\" class=\"edge\">\n",
       "<title>groupby_proc_id&#45;&gt;list</title>\n",
       "<path fill=\"none\" stroke=\"black\" d=\"M130.09,-351.06C103.38,-340.77 72.8,-323.8 57,-297 48.87,-283.22 49.82,-275.3 57,-261 93.86,-187.57 183.81,-140.08 232.47,-118.85\"/>\n",
       "<polygon fill=\"black\" stroke=\"black\" points=\"234.08,-121.97 241.91,-114.84 231.34,-115.53 234.08,-121.97\"/>\n",
       "<text text-anchor=\"middle\" x=\"83\" y=\"-231.8\" font-family=\"Times,serif\" font-size=\"14.00\">1</text>\n",
       "</g>\n",
       "<!-- hostname_ids_proc_id -->\n",
       "<g id=\"node4\" class=\"node\">\n",
       "<title>hostname_ids_proc_id</title>\n",
       "<ellipse fill=\"none\" stroke=\"black\" cx=\"180\" cy=\"-279\" rx=\"114.28\" ry=\"18\"/>\n",
       "<text text-anchor=\"middle\" x=\"180\" y=\"-275.3\" font-family=\"Times,serif\" font-size=\"14.00\">hostname_ids_proc_id</text>\n",
       "</g>\n",
       "<!-- groupby_proc_id&#45;&gt;hostname_ids_proc_id -->\n",
       "<g id=\"edge11\" class=\"edge\">\n",
       "<title>groupby_proc_id&#45;&gt;hostname_ids_proc_id</title>\n",
       "<path fill=\"none\" stroke=\"black\" d=\"M180,-347.8C180,-336.16 180,-320.55 180,-307.24\"/>\n",
       "<polygon fill=\"black\" stroke=\"black\" points=\"183.5,-307.18 180,-297.18 176.5,-307.18 183.5,-307.18\"/>\n",
       "<text text-anchor=\"middle\" x=\"185\" y=\"-318.8\" font-family=\"Times,serif\" font-size=\"14.00\">1</text>\n",
       "</g>\n",
       "<!-- hostname_ids_proc_id&#45;&gt;list -->\n",
       "<g id=\"edge3\" class=\"edge\">\n",
       "<title>hostname_ids_proc_id&#45;&gt;list</title>\n",
       "<path fill=\"none\" stroke=\"black\" d=\"M188.46,-260.88C203.47,-230.51 234.82,-167.07 252.38,-131.53\"/>\n",
       "<polygon fill=\"black\" stroke=\"black\" points=\"255.65,-132.81 256.95,-122.3 249.38,-129.71 255.65,-132.81\"/>\n",
       "<text text-anchor=\"middle\" x=\"236\" y=\"-188.3\" font-family=\"Times,serif\" font-size=\"14.00\">1</text>\n",
       "</g>\n",
       "<!-- compute_metrics_proc_id -->\n",
       "<g id=\"node6\" class=\"node\">\n",
       "<title>compute_metrics_proc_id</title>\n",
       "<ellipse fill=\"none\" stroke=\"black\" cx=\"424\" cy=\"-192\" rx=\"131.08\" ry=\"18\"/>\n",
       "<text text-anchor=\"middle\" x=\"424\" y=\"-188.3\" font-family=\"Times,serif\" font-size=\"14.00\">compute_metrics_proc_id</text>\n",
       "</g>\n",
       "<!-- hostname_ids_proc_id&#45;&gt;compute_metrics_proc_id -->\n",
       "<g id=\"edge15\" class=\"edge\">\n",
       "<title>hostname_ids_proc_id&#45;&gt;compute_metrics_proc_id</title>\n",
       "<path fill=\"none\" stroke=\"black\" d=\"M224.75,-262.41C265.3,-248.28 325.18,-227.42 368.71,-212.26\"/>\n",
       "<polygon fill=\"black\" stroke=\"black\" points=\"370,-215.52 378.29,-208.92 367.69,-208.91 370,-215.52\"/>\n",
       "<text text-anchor=\"middle\" x=\"322\" y=\"-231.8\" font-family=\"Times,serif\" font-size=\"14.00\">1</text>\n",
       "</g>\n",
       "<!-- read_parquet_proc_id -->\n",
       "<g id=\"node5\" class=\"node\">\n",
       "<title>read_parquet_proc_id</title>\n",
       "<ellipse fill=\"none\" stroke=\"black\" cx=\"575\" cy=\"-540\" rx=\"112.38\" ry=\"18\"/>\n",
       "<text text-anchor=\"middle\" x=\"575\" y=\"-536.3\" font-family=\"Times,serif\" font-size=\"14.00\">read_parquet_proc_id</text>\n",
       "</g>\n",
       "<!-- read_parquet_proc_id&#45;&gt;index_delayed_proc_id -->\n",
       "<g id=\"edge8\" class=\"edge\">\n",
       "<title>read_parquet_proc_id&#45;&gt;index_delayed_proc_id</title>\n",
       "<path fill=\"none\" stroke=\"black\" d=\"M550.99,-522.41C532.07,-509.33 505.48,-490.96 484.63,-476.55\"/>\n",
       "<polygon fill=\"black\" stroke=\"black\" points=\"486.58,-473.65 476.37,-470.84 482.6,-479.4 486.58,-473.65\"/>\n",
       "<text text-anchor=\"middle\" x=\"525\" y=\"-492.8\" font-family=\"Times,serif\" font-size=\"14.00\">1</text>\n",
       "</g>\n",
       "<!-- read_parquet_proc_id&#45;&gt;list -->\n",
       "<g id=\"edge4\" class=\"edge\">\n",
       "<title>read_parquet_proc_id&#45;&gt;list</title>\n",
       "<path fill=\"none\" stroke=\"black\" d=\"M601.81,-522.27C622.28,-507.21 647,-483.01 647,-454 647,-454 647,-454 647,-191 647,-120.85 398.42,-108.56 302.31,-106.44\"/>\n",
       "<polygon fill=\"black\" stroke=\"black\" points=\"302.23,-102.93 292.17,-106.24 302.1,-109.93 302.23,-102.93\"/>\n",
       "<text text-anchor=\"middle\" x=\"652\" y=\"-318.8\" font-family=\"Times,serif\" font-size=\"14.00\">1</text>\n",
       "</g>\n",
       "<!-- compute_metrics_proc_id&#45;&gt;list -->\n",
       "<g id=\"edge5\" class=\"edge\">\n",
       "<title>compute_metrics_proc_id&#45;&gt;list</title>\n",
       "<path fill=\"none\" stroke=\"black\" d=\"M392.97,-174.41C364.38,-159.13 322.29,-136.63 294.28,-121.65\"/>\n",
       "<polygon fill=\"black\" stroke=\"black\" points=\"295.83,-118.51 285.36,-116.88 292.53,-124.69 295.83,-118.51\"/>\n",
       "<text text-anchor=\"middle\" x=\"360\" y=\"-144.8\" font-family=\"Times,serif\" font-size=\"14.00\">1</text>\n",
       "</g>\n",
       "<!-- wait_delayed_proc_id -->\n",
       "<g id=\"node7\" class=\"node\">\n",
       "<title>wait_delayed_proc_id</title>\n",
       "<ellipse fill=\"none\" stroke=\"black\" cx=\"424\" cy=\"-279\" rx=\"111.28\" ry=\"18\"/>\n",
       "<text text-anchor=\"middle\" x=\"424\" y=\"-275.3\" font-family=\"Times,serif\" font-size=\"14.00\">wait_delayed_proc_id</text>\n",
       "</g>\n",
       "<!-- wait_delayed_proc_id&#45;&gt;list -->\n",
       "<g id=\"edge6\" class=\"edge\">\n",
       "<title>wait_delayed_proc_id&#45;&gt;list</title>\n",
       "<path fill=\"none\" stroke=\"black\" d=\"M358.37,-264.41C327.73,-254.56 293.73,-237.89 274,-210 258.19,-187.65 257.9,-155.46 260.33,-132.83\"/>\n",
       "<polygon fill=\"black\" stroke=\"black\" points=\"263.8,-133.24 261.63,-122.87 256.86,-132.33 263.8,-133.24\"/>\n",
       "<text text-anchor=\"middle\" x=\"279\" y=\"-188.3\" font-family=\"Times,serif\" font-size=\"14.00\">1</text>\n",
       "</g>\n",
       "<!-- wait_delayed_proc_id&#45;&gt;compute_metrics_proc_id -->\n",
       "<g id=\"edge14\" class=\"edge\">\n",
       "<title>wait_delayed_proc_id&#45;&gt;compute_metrics_proc_id</title>\n",
       "<path fill=\"none\" stroke=\"black\" d=\"M424,-260.8C424,-249.16 424,-233.55 424,-220.24\"/>\n",
       "<polygon fill=\"black\" stroke=\"black\" points=\"427.5,-220.18 424,-210.18 420.5,-220.18 427.5,-220.18\"/>\n",
       "<text text-anchor=\"middle\" x=\"429\" y=\"-231.8\" font-family=\"Times,serif\" font-size=\"14.00\">1</text>\n",
       "</g>\n",
       "<!-- persist_proc_id&#45;&gt;list -->\n",
       "<g id=\"edge7\" class=\"edge\">\n",
       "<title>persist_proc_id&#45;&gt;list</title>\n",
       "<path fill=\"none\" stroke=\"black\" d=\"M512.79,-349.75C522.96,-344.45 533.52,-337.83 542,-330 554.77,-318.2 558.04,-313.66 563,-297 578.59,-244.6 598.1,-216.73 564,-174 531.56,-133.35 374.46,-115.14 301.89,-108.79\"/>\n",
       "<polygon fill=\"black\" stroke=\"black\" points=\"302.08,-105.3 291.82,-107.94 301.49,-112.27 302.08,-105.3\"/>\n",
       "<text text-anchor=\"middle\" x=\"587\" y=\"-231.8\" font-family=\"Times,serif\" font-size=\"14.00\">1</text>\n",
       "</g>\n",
       "<!-- persist_proc_id&#45;&gt;compute_metrics_proc_id -->\n",
       "<g id=\"edge13\" class=\"edge\">\n",
       "<title>persist_proc_id&#45;&gt;compute_metrics_proc_id</title>\n",
       "<path fill=\"none\" stroke=\"black\" d=\"M500.12,-348.4C526.42,-328.15 562.46,-292.69 544,-261 531.07,-238.82 507.92,-223.29 485.38,-212.73\"/>\n",
       "<polygon fill=\"black\" stroke=\"black\" points=\"486.69,-209.48 476.13,-208.64 483.86,-215.88 486.69,-209.48\"/>\n",
       "<text text-anchor=\"middle\" x=\"554\" y=\"-275.3\" font-family=\"Times,serif\" font-size=\"14.00\">1</text>\n",
       "</g>\n",
       "<!-- persist_proc_id&#45;&gt;wait_delayed_proc_id -->\n",
       "<g id=\"edge12\" class=\"edge\">\n",
       "<title>persist_proc_id&#45;&gt;wait_delayed_proc_id</title>\n",
       "<path fill=\"none\" stroke=\"black\" d=\"M465.48,-347.8C458.15,-335.82 448.24,-319.62 439.94,-306.06\"/>\n",
       "<polygon fill=\"black\" stroke=\"black\" points=\"442.71,-303.88 434.51,-297.18 436.74,-307.53 442.71,-303.88\"/>\n",
       "<text text-anchor=\"middle\" x=\"459\" y=\"-318.8\" font-family=\"Times,serif\" font-size=\"14.00\">1</text>\n",
       "</g>\n",
       "</g>\n",
       "</svg>\n"
      ],
      "text/plain": [
       "<graphviz.graphs.Digraph at 0x2000336eac18>"
      ]
     },
     "execution_count": 20,
     "metadata": {},
     "output_type": "execute_result"
    }
   ],
   "source": [
    "dot"
   ]
  },
  {
   "cell_type": "code",
   "execution_count": 21,
   "id": "ad5e9d55-1032-4ff0-b8c5-452ff49607f9",
   "metadata": {},
   "outputs": [
    {
     "name": "stdout",
     "output_type": "stream",
     "text": [
      "CPU times: user 509 ms, sys: 279 ms, total: 788 ms\n",
      "Wall time: 794 ms\n"
     ]
    }
   ],
   "source": [
    "%%time\n",
    "# Progress bar on a single-machine scheduler\n",
    "from dask.distributed import performance_report\n",
    "from dask.distributed import as_completed\n",
    "futures = client.compute(delayed_list, sync=False)"
   ]
  },
  {
   "cell_type": "code",
   "execution_count": 22,
   "id": "dfd51323-a2c3-4d2a-ac2b-8dc4797303a8",
   "metadata": {
    "tags": []
   },
   "outputs": [
    {
     "data": {
      "text/plain": [
       "[Delayed('read_parquet_proc_id'),\n",
       " Delayed('index_delayed_proc_id'),\n",
       " Delayed('persist_proc_id'),\n",
       " Delayed('groupby_proc_id'),\n",
       " Delayed('hostname_ids_proc_id'),\n",
       " Delayed('wait_delayed_proc_id'),\n",
       " Delayed('compute_metrics_proc_id')]"
      ]
     },
     "execution_count": 22,
     "metadata": {},
     "output_type": "execute_result"
    }
   ],
   "source": [
    "delayed_list"
   ]
  },
  {
   "cell_type": "code",
   "execution_count": 23,
   "id": "1f1180e2-d714-49ba-a2c9-c655b8835158",
   "metadata": {
    "tags": []
   },
   "outputs": [
    {
     "name": "stdout",
     "output_type": "stream",
     "text": [
      "read_parquet_proc_id finished 0.3120046337445577\n",
      "index_delayed_proc_id finished 0.4749883929888407\n",
      "persist_proc_id finished 0.4768849571545919\n",
      "wait_delayed_proc_id finished 0.6060381571451823\n",
      "groupby_proc_id finished 0.6060401360193889\n",
      "hostname_ids_proc_id finished 0.6060762961705526\n",
      "compute_metrics_proc_id finished 0.6951766014099121\n",
      "CPU times: user 2.08 s, sys: 269 ms, total: 2.35 s\n",
      "Wall time: 41.7 s\n"
     ]
    }
   ],
   "source": [
    "%%time\n",
    "import time\n",
    "start_time = time.time()\n",
    "for future in as_completed(futures):\n",
    "    end_time = time.time() - start_time\n",
    "    print(f\"{future.key} {future.status} {end_time/60}\")"
   ]
  },
  {
   "cell_type": "code",
   "execution_count": 25,
   "id": "2ad61d10-da4c-472c-b4f1-b0a053761ddc",
   "metadata": {},
   "outputs": [],
   "source": [
    "metrics = futures[6].result()"
   ]
  },
  {
   "cell_type": "code",
   "execution_count": null,
   "id": "e423338c-9935-4df0-a5cd-dcea473a62d7",
   "metadata": {},
   "outputs": [],
   "source": [
    "for future in futures:\n",
    "    if future.status in [\"finished\"]:\n",
    "        print(f\"finished {future.key}\")"
   ]
  },
  {
   "cell_type": "code",
   "execution_count": null,
   "id": "a0620c9c-e710-4aae-bf41-0541ac4d88b9",
   "metadata": {},
   "outputs": [],
   "source": [
    "hostnames = futures[4].result()"
   ]
  },
  {
   "cell_type": "code",
   "execution_count": null,
   "id": "a806a741-8d7b-4d04-ad64-41bf74adbe08",
   "metadata": {},
   "outputs": [],
   "source": [
    "for hostname in hostnames:\n",
    "    print(\"{0:b}\".format(hostname))"
   ]
  },
  {
   "cell_type": "code",
   "execution_count": null,
   "id": "251242c4-8d29-4a6a-963b-85e71cd2bd5c",
   "metadata": {},
   "outputs": [],
   "source": [
    "mask =  (2**15 -1) << 48\n",
    "print(\"{0:b}\".format(mask))"
   ]
  },
  {
   "cell_type": "code",
   "execution_count": null,
   "id": "dba3862e-0860-4ea1-aabf-38ba8cfa9449",
   "metadata": {
    "tags": []
   },
   "outputs": [],
   "source": [
    "metrics = []\n",
    "for i in futures[4:]:\n",
    "    metrics.append(i.result())"
   ]
  },
  {
   "cell_type": "code",
   "execution_count": null,
   "id": "08bb85d8-9d5b-46ea-8fc1-28dd7e2e2d7a",
   "metadata": {},
   "outputs": [],
   "source": [
    "metrics.reverse()"
   ]
  },
  {
   "cell_type": "code",
   "execution_count": 28,
   "id": "cb2b26d9-065e-41d6-9ff7-c2f4b9e17f62",
   "metadata": {},
   "outputs": [
    {
     "data": {
      "text/plain": [
       "32"
      ]
     },
     "execution_count": 28,
     "metadata": {},
     "output_type": "execute_result"
    }
   ],
   "source": [
    "len(metrics[0][6])"
   ]
  },
  {
   "cell_type": "code",
   "execution_count": null,
   "id": "fa7c0e5c-04c7-4aa2-a4c8-c9a51b62f7f9",
   "metadata": {},
   "outputs": [],
   "source": [
    "import numpy as np\n",
    "class NpEncoder(json.JSONEncoder):\n",
    "    def default(self, obj):\n",
    "        if isinstance(obj, np.integer):\n",
    "            return int(obj)\n",
    "        if isinstance(obj, np.floating):\n",
    "            return float(obj)\n",
    "        if isinstance(obj, np.ndarray):\n",
    "            return obj.tolist()\n",
    "        return super(NpEncoder, self).default(obj)\n",
    "with open(\"montage_metrics.json\", \"w\") as f:\n",
    "    json.dump(metrics[0], f, cls=NpEncoder)"
   ]
  },
  {
   "cell_type": "code",
   "execution_count": null,
   "id": "745e8f7e-a19c-499e-8c7b-aff62fe69589",
   "metadata": {},
   "outputs": [],
   "source": [
    "%%time\n",
    "# Progress bar on a single-machine scheduler\n",
    "from dask.diagnostics import ProgressBar\n",
    "futures_2 = client.compute(delayed_list[5:], sync=False)"
   ]
  },
  {
   "cell_type": "code",
   "execution_count": null,
   "id": "c8ec7fd0-6fe8-4abb-a671-00a715316ea8",
   "metadata": {},
   "outputs": [],
   "source": [
    "futures_2"
   ]
  },
  {
   "cell_type": "code",
   "execution_count": null,
   "id": "caf07812-961e-4f82-9a46-6e023141d212",
   "metadata": {},
   "outputs": [],
   "source": [
    "futures_2[-1:][0].result()"
   ]
  },
  {
   "cell_type": "code",
   "execution_count": null,
   "id": "0b58c99f-5800-482b-8e50-ea3702f2f496",
   "metadata": {},
   "outputs": [],
   "source": [
    "for future in futures:\n",
    "    if future.status not in [\"finished\"]:\n",
    "        print(f\"canceling {future.key}\")\n",
    "        future.cancel()"
   ]
  },
  {
   "cell_type": "code",
   "execution_count": null,
   "id": "70c0f330-3349-42e2-b07d-add0e0efad12",
   "metadata": {},
   "outputs": [],
   "source": [
    "for future in futures:\n",
    "    if \"depth\" in future.key:\n",
    "        print(f\"canceling {future.key}\")\n",
    "        future.cancel()\n",
    "        "
   ]
  },
  {
   "cell_type": "code",
   "execution_count": null,
   "id": "05ad846f-0fc3-48d3-9f59-a3dcea830d6b",
   "metadata": {},
   "outputs": [],
   "source": [
    "for future in futures:\n",
    "    future.cancel()"
   ]
  },
  {
   "cell_type": "code",
   "execution_count": null,
   "id": "3f9ab6c6-af2d-4d72-a33b-05ed897fe459",
   "metadata": {
    "tags": []
   },
   "outputs": [],
   "source": [
    "for future in futures:\n",
    "    if future.status in [\"error\"]:\n",
    "        print(f\"printing exception {future.key}\")\n",
    "        print(future.exception())"
   ]
  },
  {
   "cell_type": "code",
   "execution_count": null,
   "id": "c956b25d-e447-4cf5-96fc-cfc53079bac4",
   "metadata": {},
   "outputs": [],
   "source": [
    "for future in futures:\n",
    "    if future.status  in [\"error\"]:\n",
    "        print(f\"canceling {future.key}\")\n",
    "        future.cancel()"
   ]
  },
  {
   "cell_type": "code",
   "execution_count": null,
   "id": "2d41a04f-5739-4d9d-9e0d-cc99826ecec8",
   "metadata": {
    "tags": []
   },
   "outputs": [],
   "source": [
    "if futures[4].done():\n",
    "    metrics = futures[4].result()\n",
    "else:\n",
    "    print(\"future is pending\")"
   ]
  },
  {
   "cell_type": "code",
   "execution_count": null,
   "id": "21a291c6-ffdd-4134-b474-366b8c4a215d",
   "metadata": {},
   "outputs": [],
   "source": [
    "metrics"
   ]
  },
  {
   "cell_type": "code",
   "execution_count": null,
   "id": "4053b7cf-4ffd-4a1a-a567-62e5b281c6df",
   "metadata": {},
   "outputs": [],
   "source": [
    "import numpy as np\n",
    "PARTITION_FOLDER = \"partitioned_hari\"\n",
    "def indexed_ddf(log_dir: str, filter_group_index: str):\n",
    "    ddf = dd.read_parquet(f\"{log_dir}/*.parquet\", index=False)\n",
    "    #ddf[filter_group_index] = ddf[filter_group_index].astype(np.int64)\n",
    "    ddf = ddf.set_index([filter_group_index])\n",
    "    ddf = ddf.persist()\n",
    "    #result = wait(ddf)\n",
    "    return ddf\n",
    "\n",
    "def compute_metrics(ddf, filter_group_index: str, interval):\n",
    "    min_val, max_val = interval\n",
    "    \n",
    "\n",
    "    depth = 10\n",
    "    next_tasks = 2 ** depth\n",
    "    interval = math.ceil((max_val - min_val) * 1.0 / next_tasks)\n",
    "    iterations = list(range(0, depth + 1))\n",
    "    iterations.reverse()\n",
    "    all_tasks = [0] * (depth + 1)\n",
    "    time_range = range(min_val, max_val, interval)\n",
    "    for i in iterations:\n",
    "        tasks = []\n",
    "        if i == depth:\n",
    "            for start in time_range:\n",
    "                stop = start + interval - 1\n",
    "                target_ddf = ddf.loc[start:stop]\n",
    "                tasks.append(dask.delayed(filter)(target_ddf, filter_group_index))\n",
    "        else:\n",
    "            next_tasks = len(all_tasks[i + 1])\n",
    "            if next_tasks % 2 == 1:\n",
    "                next_tasks = next_tasks - 1\n",
    "            for t in range(0, next_tasks, 2):\n",
    "                tasks.append(dask.delayed(merge)(all_tasks[i + 1][t], all_tasks[i + 1][t + 1]))\n",
    "            next_tasks = len(all_tasks[i + 1])\n",
    "            if next_tasks % 2 == 1:\n",
    "                tasks.append(all_tasks[i + 1][next_tasks - 1])\n",
    "            # TODO why are we calling len on everything?\n",
    "            for t, next_tasks in enumerate(all_tasks[i + 1]):\n",
    "                all_tasks[i + 1][t] = dask.delayed(cal_len)(next_tasks)\n",
    "        all_tasks[i] = tasks\n",
    "    for t, next_tasks in enumerate(all_tasks[0]):\n",
    "        all_tasks[0][t] = dask.delayed(cal_len)(next_tasks)\n",
    "    metrics = dask.compute(all_tasks)    \n",
    "    #result = wait(metrics_futures)\n",
    "    #metrics = client.gather(metrics_futures)\n",
    "    return metrics"
   ]
  },
  {
   "cell_type": "code",
   "execution_count": null,
   "id": "9d003126-e7b2-4f00-9e91-c2c785e81735",
   "metadata": {},
   "outputs": [],
   "source": [
    "# json_index = 'tmid'\n",
    "# futures = []\n",
    "# args = [log_dir, json_index, filter_group_index]\n",
    "# interval_ft = vn.clients[filter_group_index].submit(compute_min_max, *args, key=f'{filter_group_index}_compute_min_max')\n",
    "# futures.append(interval_ft)\n",
    "# args = [log_dir, filter_group_index]\n",
    "# indexed_ft = vn.clients[filter_group_index].submit(indexed_ddf, *args, key=f'{filter_group_index}_indexed_ddf')\n",
    "# futures.append(indexed_ft)\n",
    "# args = [indexed_ft, filter_group_index, interval_ft]\n",
    "# metrics_ft = vn.clients[filter_group_index].submit(compute_metrics, *args, key=f'{filter_group_index}_compute_metrics')\n",
    "# futures.append(metrics_ft)"
   ]
  },
  {
   "cell_type": "code",
   "execution_count": null,
   "id": "4287737e-0c1a-4a36-b300-9c8102338faa",
   "metadata": {},
   "outputs": [],
   "source": [
    "# from dask.distributed import as_completed\n",
    "# from tqdm.auto import tqdm\n",
    "# metrics_map = {}\n",
    "# for future in tqdm(as_completed(futures)):\n",
    "#     if \"compute_metrics\" in future.key:\n",
    "#         metrics_map[future.key] = future.result(timeout=(2*60*60))\n",
    "#     print(f'{future.key} completed')"
   ]
  },
  {
   "cell_type": "code",
   "execution_count": null,
   "id": "ef67575d-295b-4c1c-b1b9-4adfd94f0edc",
   "metadata": {
    "tags": []
   },
   "outputs": [],
   "source": [
    "# metrics_map"
   ]
  },
  {
   "cell_type": "code",
   "execution_count": null,
   "id": "580447c9-0593-4bed-94e0-68fd4b779c1c",
   "metadata": {},
   "outputs": [],
   "source": [
    "json_keys = dict(tmid='tmid', proc_id='proc_id', file_id='file_id')\n",
    "futures = []\n",
    "for filter_group_index in vn.filter_group_indices:\n",
    "    json_index = json_keys[filter_group_index]\n",
    "    args = [log_dir, json_index, filter_group_index]\n",
    "    interval_ft = vn.clients[filter_group_index].submit(compute_min_max, *args, key=f'{filter_group_index}_compute_min_max')\n",
    "    futures.append(interval_ft)\n",
    "    args = [log_dir, filter_group_index]\n",
    "    indexed_ft = vn.clients[filter_group_index].submit(indexed_ddf, *args, key=f'{filter_group_index}_indexed_ddf')\n",
    "    futures.append(indexed_ft)\n",
    "    args = [indexed_ft, filter_group_index, interval_ft]\n",
    "    metrics_ft = vn.clients[filter_group_index].submit(compute_metrics, *args, key=f'{filter_group_index}_compute_metrics')\n",
    "    futures.append(metrics_ft)\n"
   ]
  },
  {
   "cell_type": "code",
   "execution_count": null,
   "id": "2af9ecbc-4a95-430d-96aa-7482cd428cbe",
   "metadata": {
    "tags": []
   },
   "outputs": [],
   "source": [
    "%%time\n",
    "from dask.distributed import as_completed\n",
    "from tqdm.auto import tqdm\n",
    "metrics_map = {}\n",
    "for future in tqdm(as_completed(futures)):\n",
    "    if \"compute_metrics\" in future.key:\n",
    "        metrics_map[future.key] = future.result(timeout=(2*60*60))\n",
    "    print(f'{future.key} completed')"
   ]
  },
  {
   "cell_type": "code",
   "execution_count": null,
   "id": "17f5d0c7-694d-4d72-a8a9-c32482186efc",
   "metadata": {},
   "outputs": [],
   "source": [
    "# min_val, max_val = metrics_map[\"tmid_compute_min_max\"]\n",
    "# depth = 10\n",
    "# next_tasks = 2 ** depth\n",
    "# interval = math.ceil((max_val - min_val) * 1.0 / next_tasks)\n",
    "# time_range = range(min_val, max_val, interval)\n",
    "# for start in time_range:\n",
    "#     print(start, start + interval - 1)"
   ]
  },
  {
   "cell_type": "code",
   "execution_count": null,
   "id": "f2e891a2-f7ab-4463-8a08-641cd5d3cb3f",
   "metadata": {},
   "outputs": [],
   "source": [
    "def merge_result(x, y):\n",
    "    return {\n",
    "        'read': {\n",
    "            'uniq_ranks': x['read']['uniq_ranks'] + y['read']['uniq_ranks'],\n",
    "            'agg_dur': x['read']['agg_dur'] + y['read']['agg_dur'],\n",
    "            'total_io_size': x['read']['total_io_size'] + y['read']['total_io_size'],\n",
    "            'uniq_filenames': x['read']['uniq_filenames'] + y['read']['uniq_filenames'],\n",
    "            'bw_sum': x['read']['bw_sum'] + y['read']['bw_sum'],\n",
    "            'ops': x['read']['ops'] + y['read']['ops'],\n",
    "        },\n",
    "        'write': {\n",
    "            'uniq_ranks': x['write']['uniq_ranks'] + y['write']['uniq_ranks'],\n",
    "            'agg_dur': x['write']['agg_dur'] + y['write']['agg_dur'],\n",
    "            'total_io_size': x['write']['total_io_size'] + y['write']['total_io_size'],\n",
    "            'uniq_filenames': x['write']['uniq_filenames'] + y['write']['uniq_filenames'],\n",
    "            'bw_sum': x['write']['bw_sum'] + y['write']['bw_sum'],\n",
    "            'ops': x['write']['ops'] + y['write']['ops'],\n",
    "        },\n",
    "        'metadata': {\n",
    "            'uniq_ranks': x['metadata']['uniq_ranks'] + y['metadata']['uniq_ranks'],\n",
    "            'agg_dur': x['metadata']['agg_dur'] + y['metadata']['agg_dur'],\n",
    "            'uniq_filenames': x['metadata']['uniq_filenames'] + y['metadata']['uniq_filenames'],\n",
    "            'ops': x['metadata']['ops'] + y['metadata']['ops'],\n",
    "        }\n",
    "    }"
   ]
  },
  {
   "cell_type": "code",
   "execution_count": null,
   "id": "3459637a-4a6b-4564-81fd-7c38569d5640",
   "metadata": {},
   "outputs": [],
   "source": [
    "metrics_map['tmid_compute_metrics'][0][0]"
   ]
  },
  {
   "cell_type": "code",
   "execution_count": null,
   "id": "9157a600-18a1-4247-9d4c-3bd2f1d6cddc",
   "metadata": {},
   "outputs": [],
   "source": [
    "merge_result(metrics_map['proc_id_compute_metrics'][0][0][0],metrics_map['proc_id_compute_metrics'][0][0][1])"
   ]
  },
  {
   "cell_type": "code",
   "execution_count": null,
   "id": "c6ad400d-8cdd-4dd3-a8ef-12175353311f",
   "metadata": {},
   "outputs": [],
   "source": [
    "metrics_map['file_id_compute_metrics'][0][0]"
   ]
  },
  {
   "cell_type": "code",
   "execution_count": null,
   "id": "9dd9e5a6-6ee9-4211-9898-f854f9d352b7",
   "metadata": {
    "tags": []
   },
   "outputs": [],
   "source": [
    "metrics_map"
   ]
  },
  {
   "cell_type": "code",
   "execution_count": null,
   "id": "0aaa6121-a22e-4aed-b3aa-c7c1a781f307",
   "metadata": {},
   "outputs": [],
   "source": [
    "metrics_map['file_id_indexed_ddf'].compute()"
   ]
  },
  {
   "cell_type": "code",
   "execution_count": null,
   "id": "e487d8b5-bb34-44b0-8a1c-6b5ac7f00921",
   "metadata": {},
   "outputs": [],
   "source": [
    "metrics_map['tmid_compute_metrics'][0][10]"
   ]
  },
  {
   "cell_type": "code",
   "execution_count": null,
   "id": "696688ed-27f3-4afd-a41b-ae7d6e013734",
   "metadata": {
    "tags": []
   },
   "outputs": [],
   "source": [
    "metrics_map['proc_id_compute_metrics'][0][0]"
   ]
  },
  {
   "cell_type": "code",
   "execution_count": null,
   "id": "834b0de2-9580-4d4b-8ba8-7b273e877ea9",
   "metadata": {},
   "outputs": [],
   "source": [
    "metrics_map['file_id_compute_metrics'][0][0][0]"
   ]
  },
  {
   "cell_type": "code",
   "execution_count": null,
   "id": "392ccfd6-e953-4b2e-9f80-8c0ddc928f11",
   "metadata": {},
   "outputs": [],
   "source": [
    "import dask.dataframe as dd\n",
    "from dask.distributed import Client, LocalCluster\n",
    "local_client = Client(LocalCluster(n_workers=16))"
   ]
  },
  {
   "cell_type": "code",
   "execution_count": null,
   "id": "80679d0b-c47b-4bcc-b0c4-a94e4f0d4206",
   "metadata": {},
   "outputs": [],
   "source": [
    "local_client"
   ]
  },
  {
   "cell_type": "code",
   "execution_count": null,
   "id": "e449aaae-13fb-4815-afdf-ea2bbfc6d5e8",
   "metadata": {},
   "outputs": [],
   "source": [
    "log_dir = \"/p/gpfs1/iopp/recorder_app_logs/genome_pegasus/nodes-32/_parquet\"\n",
    "ddf = dd.read_parquet(f\"{log_dir}/*.parquet\", index=False)"
   ]
  },
  {
   "cell_type": "code",
   "execution_count": null,
   "id": "d3ad1157-b3c5-4ef6-b43c-0695c34671ae",
   "metadata": {},
   "outputs": [],
   "source": [
    "values = dd.compute(ddf['tmid'].min(), ddf['tmid'].max(), ddf['file_id'].min(), ddf['file_id'].max(), ddf['proc_id'].min(), ddf['proc_id'].max())"
   ]
  },
  {
   "cell_type": "code",
   "execution_count": null,
   "id": "88b67fc7-4055-4f00-bb34-396a5ff6cb30",
   "metadata": {},
   "outputs": [],
   "source": [
    "values"
   ]
  },
  {
   "cell_type": "code",
   "execution_count": null,
   "id": "84c919e1-9a92-4ecb-af93-a2885fbddc3e",
   "metadata": {},
   "outputs": [],
   "source": [
    "min_val, max_val = -9223371986035283781, 9223369538921024184\n",
    "\n",
    "next_tasks = 2 ** 10\n",
    "interval = math.ceil((max_val - min_val) * 1.0 / next_tasks)\n",
    "time_range = range(min_val, max_val, interval)\n",
    "print(time_range)\n",
    "for start in time_range:\n",
    "    print(start, start + interval -1)"
   ]
  },
  {
   "cell_type": "code",
   "execution_count": null,
   "id": "59b3173a-d505-4624-931c-0a654afe9039",
   "metadata": {},
   "outputs": [],
   "source": [
    "!pip install python-intervals"
   ]
  },
  {
   "cell_type": "code",
   "execution_count": null,
   "id": "c9efadee-a7e7-4fda-acb9-0bef0ae16138",
   "metadata": {},
   "outputs": [],
   "source": []
  }
 ],
 "metadata": {
  "kernelspec": {
   "display_name": "digio",
   "language": "python",
   "name": "digio"
  },
  "language_info": {
   "codemirror_mode": {
    "name": "ipython",
    "version": 3
   },
   "file_extension": ".py",
   "mimetype": "text/x-python",
   "name": "python",
   "nbconvert_exporter": "python",
   "pygments_lexer": "ipython3",
   "version": "3.7.2"
  },
  "widgets": {
   "application/vnd.jupyter.widget-state+json": {
    "state": {},
    "version_major": 2,
    "version_minor": 0
   }
  }
 },
 "nbformat": 4,
 "nbformat_minor": 5
}

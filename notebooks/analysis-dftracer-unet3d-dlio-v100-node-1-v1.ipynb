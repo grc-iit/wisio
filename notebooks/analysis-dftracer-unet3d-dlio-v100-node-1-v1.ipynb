{
 "cells": [
  {
   "cell_type": "code",
   "execution_count": 1,
   "id": "57d98a4b",
   "metadata": {
    "execution": {
     "iopub.execute_input": "2024-10-09T23:31:02.980500Z",
     "iopub.status.busy": "2024-10-09T23:31:02.980069Z",
     "iopub.status.idle": "2024-10-09T23:31:03.013649Z",
     "shell.execute_reply": "2024-10-09T23:31:03.013014Z"
    },
    "papermill": {
     "duration": 0.040324,
     "end_time": "2024-10-09T23:31:03.015123",
     "exception": false,
     "start_time": "2024-10-09T23:31:02.974799",
     "status": "completed"
    },
    "tags": []
   },
   "outputs": [
    {
     "name": "stdout",
     "output_type": "stream",
     "text": [
      "time: 286 µs (started: 2024-10-09 16:48:51 -07:00)\n"
     ]
    }
   ],
   "source": [
    "%load_ext autoreload\n",
    "%load_ext autotime"
   ]
  },
  {
   "cell_type": "code",
   "execution_count": 2,
   "id": "6bd43a46",
   "metadata": {
    "execution": {
     "iopub.execute_input": "2024-10-09T23:31:03.022798Z",
     "iopub.status.busy": "2024-10-09T23:31:03.022203Z",
     "iopub.status.idle": "2024-10-09T23:31:03.026409Z",
     "shell.execute_reply": "2024-10-09T23:31:03.025787Z"
    },
    "papermill": {
     "duration": 0.009188,
     "end_time": "2024-10-09T23:31:03.027796",
     "exception": false,
     "start_time": "2024-10-09T23:31:03.018608",
     "status": "completed"
    },
    "tags": []
   },
   "outputs": [
    {
     "name": "stdout",
     "output_type": "stream",
     "text": [
      "time: 960 µs (started: 2024-10-09 16:48:51 -07:00)\n"
     ]
    }
   ],
   "source": [
    "import os\n",
    "import sys\n",
    "import time\n",
    "import warnings\n",
    "\n",
    "# Add WisIO to the path\n",
    "sys.path.append(os.path.abspath(\"../\"))\n",
    "\n",
    "# Filter warnings\n",
    "warnings.filterwarnings('ignore')"
   ]
  },
  {
   "cell_type": "code",
   "execution_count": 3,
   "id": "99ff0e30",
   "metadata": {
    "execution": {
     "iopub.execute_input": "2024-10-09T23:31:03.035027Z",
     "iopub.status.busy": "2024-10-09T23:31:03.034603Z",
     "iopub.status.idle": "2024-10-09T23:31:03.039033Z",
     "shell.execute_reply": "2024-10-09T23:31:03.038416Z"
    },
    "papermill": {
     "duration": 0.009817,
     "end_time": "2024-10-09T23:31:03.040698",
     "exception": false,
     "start_time": "2024-10-09T23:31:03.030881",
     "status": "completed"
    },
    "tags": [
     "parameters",
     "parameters2"
    ]
   },
   "outputs": [
    {
     "name": "stdout",
     "output_type": "stream",
     "text": [
      "time: 1.32 ms (started: 2024-10-09 16:48:51 -07:00)\n"
     ]
    }
   ],
   "source": [
    "analyzer = \"dftracer\"\n",
    "checkpoint = True\n",
    "logical_view_types = False\n",
    "output_max_bottlenecks = 1\n",
    "output_root_only = False\n",
    "run_dir = f\".wisio/{analyzer}/{int(time.time())}\"\n",
    "bottleneck_dir = f\"{run_dir}/bottlenecks\"\n",
    "checkpoint_dir = f\"{run_dir}/checkpoints\"\n",
    "percentile = 0.95\n",
    "trace_path = \"/p/lustre3/iopp/dftracer-traces-lfs/v1.0.5-develop/corona/cm1/APP/node-1/v1/RAW/*.pfw.gz\""
   ]
  },
  {
   "cell_type": "code",
   "execution_count": 4,
   "id": "1d8e366f",
   "metadata": {
    "execution": {
     "iopub.execute_input": "2024-10-09T23:31:03.048562Z",
     "iopub.status.busy": "2024-10-09T23:31:03.048062Z",
     "iopub.status.idle": "2024-10-09T23:31:03.052255Z",
     "shell.execute_reply": "2024-10-09T23:31:03.051640Z"
    },
    "papermill": {
     "duration": 0.009506,
     "end_time": "2024-10-09T23:31:03.053636",
     "exception": false,
     "start_time": "2024-10-09T23:31:03.044130",
     "status": "completed"
    },
    "tags": [
     "injected-parameters"
    ]
   },
   "outputs": [
    {
     "name": "stdout",
     "output_type": "stream",
     "text": [
      "time: 1.19 ms (started: 2024-10-09 16:48:52 -07:00)\n"
     ]
    }
   ],
   "source": [
    "# Parameters\n",
    "analyzer = \"dftracer\"\n",
    "checkpoint = True\n",
    "checkpoint_dir = \"/usr/workspace/iopp/wisio_logs/_checkpoints/dftracer-unet3d-dlio-v100-node-1-v1\"\n",
    "logical_view_types = False\n",
    "output_max_bottlenecks = 1\n",
    "output_root_only = False\n",
    "run_dir = \".wisio/dftracer/unet3d-dlio-v100-node-1-v1\"\n",
    "percentile = 0.99\n",
    "trace_path = \"/p/lustre3/iopp/dftracer-traces-lfs/v1.0.5-develop/corona/unet3d/dlio-v100/node-1/v1/RAW/*.pfw.gz\"\n"
   ]
  },
  {
   "cell_type": "code",
   "execution_count": 5,
   "id": "bdbe953e",
   "metadata": {
    "execution": {
     "iopub.execute_input": "2024-10-09T23:31:03.061604Z",
     "iopub.status.busy": "2024-10-09T23:31:03.061056Z",
     "iopub.status.idle": "2024-10-09T23:31:09.369078Z",
     "shell.execute_reply": "2024-10-09T23:31:09.368455Z"
    },
    "papermill": {
     "duration": 6.313794,
     "end_time": "2024-10-09T23:31:09.370863",
     "exception": false,
     "start_time": "2024-10-09T23:31:03.057069",
     "status": "completed"
    },
    "tags": []
   },
   "outputs": [
    {
     "name": "stdout",
     "output_type": "stream",
     "text": [
      "time: 6.3 s (started: 2024-10-09 16:31:03 -07:00)\n"
     ]
    }
   ],
   "source": [
    "from distributed import Client\n",
    "from hydra import compose, initialize\n",
    "from hydra.core.hydra_config import HydraConfig\n",
    "from hydra.utils import instantiate\n",
    "from wisio.config import init_hydra_config_store\n",
    "from wisio.utils.file_utils import ensure_dir\n",
    "\n",
    "ensure_dir(run_dir)\n",
    "\n",
    "with initialize(version_base=None, config_path=None):\n",
    "    init_hydra_config_store()\n",
    "    cfg = compose(\n",
    "        config_name=\"config\",\n",
    "        overrides=[\n",
    "            f\"+analyzer={analyzer}\",\n",
    "            f\"analyzer.bottleneck_dir={bottleneck_dir}\",\n",
    "            f\"analyzer.checkpoint={checkpoint}\",\n",
    "            f\"analyzer.checkpoint_dir={checkpoint_dir}\",\n",
    "            f\"hydra.run.dir={run_dir}\",\n",
    "            f\"hydra.runtime.output_dir={run_dir}\",\n",
    "            f\"logical_view_types={logical_view_types}\",\n",
    "            f\"output.max_bottlenecks={output_max_bottlenecks}\",\n",
    "            f\"output.root_only={output_root_only}\",\n",
    "            f\"percentile={percentile}\",\n",
    "            f\"trace_path={trace_path}\",\n",
    "        ],\n",
    "        return_hydra_config=True,\n",
    "    )\n",
    "    HydraConfig.instance().set_config(cfg)\n",
    "    cluster = instantiate(cfg.cluster)\n",
    "    client = Client(cluster)\n",
    "    analyzer = instantiate(cfg.analyzer)\n",
    "    output = instantiate(cfg.output)"
   ]
  },
  {
   "cell_type": "code",
   "execution_count": 6,
   "id": "db0af776",
   "metadata": {
    "execution": {
     "iopub.execute_input": "2024-10-09T23:31:09.380548Z",
     "iopub.status.busy": "2024-10-09T23:31:09.379950Z",
     "iopub.status.idle": "2024-10-09T23:31:46.712754Z",
     "shell.execute_reply": "2024-10-09T23:31:46.711993Z"
    },
    "papermill": {
     "duration": 37.342847,
     "end_time": "2024-10-09T23:31:46.718147",
     "exception": false,
     "start_time": "2024-10-09T23:31:09.375300",
     "status": "completed"
    },
    "tags": []
   },
   "outputs": [
    {
     "name": "stdout",
     "output_type": "stream",
     "text": [
      "time: 37.3 s (started: 2024-10-09 16:31:09 -07:00)\n"
     ]
    }
   ],
   "source": [
    "result = analyzer.analyze_trace(\n",
    "    trace_path=cfg.trace_path,\n",
    "    # accuracy=cfg.accuracy,\n",
    "    exclude_bottlenecks=cfg.exclude_bottlenecks,\n",
    "    exclude_characteristics=cfg.exclude_characteristics,\n",
    "    logical_view_types=cfg.logical_view_types,\n",
    "    metrics=cfg.metrics,\n",
    "    percentile=cfg.percentile,\n",
    "    view_types=cfg.view_types,\n",
    ")"
   ]
  },
  {
   "cell_type": "code",
   "execution_count": 7,
   "id": "8893e306",
   "metadata": {
    "execution": {
     "iopub.execute_input": "2024-10-09T23:31:46.727023Z",
     "iopub.status.busy": "2024-10-09T23:31:46.726396Z",
     "iopub.status.idle": "2024-10-09T23:31:49.168069Z",
     "shell.execute_reply": "2024-10-09T23:31:49.167330Z"
    },
    "papermill": {
     "duration": 2.447651,
     "end_time": "2024-10-09T23:31:49.169617",
     "exception": false,
     "start_time": "2024-10-09T23:31:46.721966",
     "status": "completed"
    },
    "tags": []
   },
   "outputs": [
    {
     "data": {
      "text/html": [
       "<pre style=\"white-space:pre;overflow-x:auto;line-height:normal;font-family:Menlo,'DejaVu Sans Mono',consolas,'Courier New',monospace\">╭────────────────────────────────────────────── I/O Characteristics ──────────────────────────────────────────────╮\n",
       "│                                                                                                                 │\n",
       "│ <span style=\"color: #008080; text-decoration-color: #008080\"> Runtime         </span> 145.67 seconds                                                                                │\n",
       "│ <span style=\"color: #008080; text-decoration-color: #008080\"> I/O Time        </span> 3.22 seconds                                                                                  │\n",
       "│ <span style=\"color: #008080; text-decoration-color: #008080\">                 </span> ├── Read - 2.45 seconds (76.01%)                                                              │\n",
       "│ <span style=\"color: #008080; text-decoration-color: #008080\">                 </span> ├── Write - 0.00 seconds (0.04%)                                                              │\n",
       "│ <span style=\"color: #008080; text-decoration-color: #008080\">                 </span> └── Metadata - 2.17 seconds (67.31%)                                                          │\n",
       "│ <span style=\"color: #008080; text-decoration-color: #008080\"> I/O Operations  </span> 1,101,599 ops                                                                                 │\n",
       "│ <span style=\"color: #008080; text-decoration-color: #008080\">                 </span> ├── Read - 43,368 ops (3.94%)                                                                 │\n",
       "│ <span style=\"color: #008080; text-decoration-color: #008080\">                 </span> ├── Write - 300 ops (0.03%)                                                                   │\n",
       "│ <span style=\"color: #008080; text-decoration-color: #008080\">                 </span> └── Metadata - 1,055,563 ops (95.82%)                                                         │\n",
       "│ <span style=\"color: #008080; text-decoration-color: #008080\"> I/O Size        </span> 92.50 GiB                                                                                     │\n",
       "│ <span style=\"color: #008080; text-decoration-color: #008080\">                 </span> ├── Read - 92.50 GiB (100.00%)                                                                │\n",
       "│ <span style=\"color: #008080; text-decoration-color: #008080\">                 </span> └── Write - 20.39 kiB (0.00%)                                                                 │\n",
       "│ <span style=\"color: #008080; text-decoration-color: #008080\"> Read Requests   </span> 4 kiB-4 MiB - 43,336 ops                                                                      │\n",
       "│ <span style=\"color: #008080; text-decoration-color: #008080\">                 </span> ├── &lt;4 kiB - 11,927 ops (27.52%)                                                              │\n",
       "│ <span style=\"color: #008080; text-decoration-color: #008080\">                 </span> ├── 4-16 kiB - 2,145 ops (4.95%)                                                              │\n",
       "│ <span style=\"color: #008080; text-decoration-color: #008080\">                 </span> ├── 16-64 kiB - 2,704 ops (6.24%)                                                             │\n",
       "│ <span style=\"color: #008080; text-decoration-color: #008080\">                 </span> ├── 256 kiB-1 MiB - 4 ops (0.01%)                                                             │\n",
       "│ <span style=\"color: #008080; text-decoration-color: #008080\">                 </span> └── 1-4 MiB - 26,556 ops (61.28%)                                                             │\n",
       "│ <span style=\"color: #008080; text-decoration-color: #008080\"> Write Requests  </span> 4 kiB-4 kiB - 300 ops                                                                         │\n",
       "│ <span style=\"color: #008080; text-decoration-color: #008080\">                 </span> └── &lt;4 kiB - 300 ops (100.00%)                                                                │\n",
       "│ <span style=\"color: #008080; text-decoration-color: #008080\"> Nodes           </span> 1 node                                                                                        │\n",
       "│ <span style=\"color: #008080; text-decoration-color: #008080\"> Apps            </span> 1 app                                                                                         │\n",
       "│ <span style=\"color: #008080; text-decoration-color: #008080\"> Processes/Ranks </span> 96 processes                                                                                  │\n",
       "│ <span style=\"color: #008080; text-decoration-color: #008080\"> Files           </span> 6,073 files                                                                                   │\n",
       "│ <span style=\"color: #008080; text-decoration-color: #008080\">                 </span> ├── Shared: 5,464 files (89.97%)                                                              │\n",
       "│ <span style=\"color: #008080; text-decoration-color: #008080\">                 </span> └── FPP: 609 files (10.03%)                                                                   │\n",
       "│ <span style=\"color: #008080; text-decoration-color: #008080\"> Time Periods    </span> 68 time periods (Time Granularity: 1,000,000.0)                                               │\n",
       "│ <span style=\"color: #008080; text-decoration-color: #008080\"> Access Pattern  </span> <span style=\"font-weight: bold\">Sequential</span>: 43,668 ops (100.00%) - <span style=\"font-weight: bold\">Random</span>: 0 ops (0.00%)                                      │\n",
       "│                                                                                                                 │\n",
       "╰─ <span style=\"font-weight: bold\">R</span>: Read - <span style=\"font-weight: bold\">W</span>: Write - <span style=\"font-weight: bold\">M</span>: Metadata  ─────────────────────────────────────────────────────────────────────────────╯\n",
       "                                                                                                                   \n",
       "╭────────────────────────────────────── 75 I/O Bottlenecks with 209 Reasons ──────────────────────────────────────╮\n",
       "│                                                                                                                 │\n",
       "│  Time View (1 bottleneck with 3 reasons)                                                                        │\n",
       "│  └── <span style=\"color: #d70000; text-decoration-color: #d70000\">[CR1] 1 process accesses 1 file within 1 time period (73) across 180 I/O operations and has an I/O time </span>   │\n",
       "│      <span style=\"color: #d70000; text-decoration-color: #d70000\">of 0.21 seconds which is 6.55% of overall I/O time of the workload.</span>                                        │\n",
       "│      ├── <span style=\"color: #d70000; text-decoration-color: #d70000\">[Size imbalance] 'read' size is 100.00% (38.53 MiB) of total I/O size.</span>                                 │\n",
       "│      ├── <span style=\"color: #d70000; text-decoration-color: #d70000\">[Small reads] 'read' time is 97.09% (0.20 seconds) of I/O time.</span>                                        │\n",
       "│      └── <span style=\"color: #d70000; text-decoration-color: #d70000\">[Small reads] Average 'read's are 219.22 kiB, which is smaller than 1.00 MiB.</span>                          │\n",
       "│  File View (61 bottlenecks with 175 reasons)                                                                    │\n",
       "│  ├── <span style=\"color: #d70000; text-decoration-color: #d70000\">[CR2] 1 process accesses 1 file (15155830501235021824) within 1 time period across 1 I/O operation and </span>    │\n",
       "│  │   <span style=\"color: #d70000; text-decoration-color: #d70000\">has an I/O time of 0.01 seconds which is 0.17% of overall I/O time of the workload.</span>                        │\n",
       "│  │   └── <span style=\"color: #d70000; text-decoration-color: #d70000\">[Excessive metadata access] No reason found, investigation needed!</span>                                     │\n",
       "│  └── (60 more)                                                                                                  │\n",
       "│  Process View (1 bottleneck with 2 reasons)                                                                     │\n",
       "│  └── <span style=\"color: #d70000; text-decoration-color: #d70000\">[CR63] 1 process (app#15461096182755994450#188931#191651) accesses 58 files within 3 time periods across </span>  │\n",
       "│      <span style=\"color: #d70000; text-decoration-color: #d70000\">434 I/O operations and has an I/O time of 0.30 seconds which is 9.25% of overall I/O time of the </span>          │\n",
       "│      <span style=\"color: #d70000; text-decoration-color: #d70000\">workload.</span>                                                                                                  │\n",
       "│      ├── <span style=\"color: #d70000; text-decoration-color: #d70000\">[Excessive metadata access] Overall 99.94% (0.30 seconds) of I/O time is spent on metadata access, </span>    │\n",
       "│      │   <span style=\"color: #d70000; text-decoration-color: #d70000\">specifically 91.15% (0.27 seconds) on the 'open' operation.</span>                                            │\n",
       "│      └── <span style=\"color: #d70000; text-decoration-color: #d70000\">[Size imbalance] 'read' size is 100.00% (149.61 kiB) of total I/O size.</span>                                │\n",
       "│  Time&gt;File View (1 bottleneck with 3 reasons)                                                                   │\n",
       "│  └── <span style=\"color: #87af00; text-decoration-color: #87af00\">[LO64] 1 process accesses 1 file (12993561555488102400) within 1 time period across 180 I/O operations </span>    │\n",
       "│      <span style=\"color: #87af00; text-decoration-color: #87af00\">and has an I/O time of 0.21 seconds which is 6.55% of overall I/O time of the workload.</span>                    │\n",
       "│      ├── <span style=\"color: #87af00; text-decoration-color: #87af00\">[Size imbalance] 'read' size is 100.00% (38.53 MiB) of total I/O size.</span>                                 │\n",
       "│      ├── <span style=\"color: #87af00; text-decoration-color: #87af00\">[Small reads] 'read' time is 97.09% (0.20 seconds) of I/O time.</span>                                        │\n",
       "│      └── <span style=\"color: #87af00; text-decoration-color: #87af00\">[Small reads] Average 'read's are 219.22 kiB, which is smaller than 1.00 MiB.</span>                          │\n",
       "│  Time&gt;Process View (1 bottleneck with 3 reasons)                                                                │\n",
       "│  └── <span style=\"color: #87af00; text-decoration-color: #87af00\">[LO65] 1 process (app#15461096182755994450#188942#191336) accesses 1 file within 1 time period across 180</span>  │\n",
       "│      <span style=\"color: #87af00; text-decoration-color: #87af00\">I/O operations and has an I/O time of 0.21 seconds which is 6.55% of overall I/O time of the workload.</span>     │\n",
       "│      ├── <span style=\"color: #87af00; text-decoration-color: #87af00\">[Size imbalance] 'read' size is 100.00% (38.53 MiB) of total I/O size.</span>                                 │\n",
       "│      ├── <span style=\"color: #87af00; text-decoration-color: #87af00\">[Small reads] 'read' time is 97.09% (0.20 seconds) of I/O time.</span>                                        │\n",
       "│      └── <span style=\"color: #87af00; text-decoration-color: #87af00\">[Small reads] Average 'read's are 219.22 kiB, which is smaller than 1.00 MiB.</span>                          │\n",
       "│  File&gt;Time View (1 bottleneck with 0 reasons)                                                                   │\n",
       "│  └── <span style=\"color: #d70000; text-decoration-color: #d70000\">[CR66] 1 process accesses 1 file within 1 time period (1) across 1 I/O operation and has an I/O time of </span>   │\n",
       "│      <span style=\"color: #d70000; text-decoration-color: #d70000\">0.01 seconds which is 0.17% of overall I/O time of the workload.</span>                                           │\n",
       "│      └── <span style=\"color: #d70000; text-decoration-color: #d70000\">[Excessive metadata access] No reason found, investigation needed!</span>                                     │\n",
       "│  File&gt;Process View (1 bottleneck with 3 reasons)                                                                │\n",
       "│  └── <span style=\"color: #d70000; text-decoration-color: #d70000\">[CR67] 1 process (app#15461096182755994450#188942#189136) accesses 3 files within 3 time periods across </span>   │\n",
       "│      <span style=\"color: #d70000; text-decoration-color: #d70000\">35 I/O operations and has an I/O time of 0.28 seconds which is 8.81% of overall I/O time of the workload.</span>  │\n",
       "│      ├── <span style=\"color: #d70000; text-decoration-color: #d70000\">[Excessive metadata access] Overall 99.99% (0.28 seconds) of I/O time is spent on metadata access, </span>    │\n",
       "│      │   <span style=\"color: #d70000; text-decoration-color: #d70000\">specifically 16.98% (0.05 seconds) on the 'open' operation.</span>                                            │\n",
       "│      ├── <span style=\"color: #d70000; text-decoration-color: #d70000\">[Operation imbalance] 'read' operations are 20.00% (7 operations) of total I/O operations.</span>             │\n",
       "│      └── <span style=\"color: #d70000; text-decoration-color: #d70000\">[Size imbalance] 'read' size is 100.00% (22.68 kiB) of total I/O size.</span>                                 │\n",
       "│  Process&gt;Time View (1 bottleneck with 2 reasons)                                                                │\n",
       "│  └── <span style=\"color: #87af00; text-decoration-color: #87af00\">[LO68] 1 process accesses 57 files within 1 time period (71) across 339 I/O operations and has an I/O </span>     │\n",
       "│      <span style=\"color: #87af00; text-decoration-color: #87af00\">time of 0.27 seconds which is 8.53% of overall I/O time of the workload.</span>                                   │\n",
       "│      ├── <span style=\"color: #87af00; text-decoration-color: #87af00\">[Excessive metadata access] Overall 99.93% (0.27 seconds) of I/O time is spent on metadata access, </span>    │\n",
       "│      │   <span style=\"color: #87af00; text-decoration-color: #87af00\">specifically 98.85% (0.27 seconds) on the 'open' operation.</span>                                            │\n",
       "│      └── <span style=\"color: #87af00; text-decoration-color: #87af00\">[Size imbalance] 'read' size is 100.00% (149.61 kiB) of total I/O size.</span>                                │\n",
       "│  Process&gt;File View (1 bottleneck with 3 reasons)                                                                │\n",
       "│  └── <span style=\"color: #d70000; text-decoration-color: #d70000\">[CR69] 1 process accesses 1 file (9334004074817843200) within 1 time period across 7 I/O operations and </span>   │\n",
       "│      <span style=\"color: #d70000; text-decoration-color: #d70000\">has an I/O time of 0.20 seconds which is 6.06% of overall I/O time of the workload.</span>                        │\n",
       "│      ├── <span style=\"color: #d70000; text-decoration-color: #d70000\">[Excessive metadata access] Overall 99.99% (0.20 seconds) of I/O time is spent on metadata access, </span>    │\n",
       "│      │   <span style=\"color: #d70000; text-decoration-color: #d70000\">specifically 99.97% (0.20 seconds) on the 'open' operation.</span>                                            │\n",
       "│      ├── <span style=\"color: #d70000; text-decoration-color: #d70000\">[Operation imbalance] 'read' operations are 28.57% (2 operations) of total I/O operations.</span>             │\n",
       "│      └── <span style=\"color: #d70000; text-decoration-color: #d70000\">[Size imbalance] 'read' size is 100.00% (15.10 kiB) of total I/O size.</span>                                 │\n",
       "│  Time&gt;File&gt;Process View (1 bottleneck with 3 reasons)                                                           │\n",
       "│  └── <span style=\"color: #87af00; text-decoration-color: #87af00\">[LO70] 1 process (app#15461096182755994450#188942#191336) accesses 1 file within 1 time period across 180</span>  │\n",
       "│      <span style=\"color: #87af00; text-decoration-color: #87af00\">I/O operations and has an I/O time of 0.21 seconds which is 6.55% of overall I/O time of the workload.</span>     │\n",
       "│      ├── <span style=\"color: #87af00; text-decoration-color: #87af00\">[Size imbalance] 'read' size is 100.00% (38.53 MiB) of total I/O size.</span>                                 │\n",
       "│      ├── <span style=\"color: #87af00; text-decoration-color: #87af00\">[Small reads] 'read' time is 97.09% (0.20 seconds) of I/O time.</span>                                        │\n",
       "│      └── <span style=\"color: #87af00; text-decoration-color: #87af00\">[Small reads] Average 'read's are 219.22 kiB, which is smaller than 1.00 MiB.</span>                          │\n",
       "│  Time&gt;Process&gt;File View (1 bottleneck with 3 reasons)                                                           │\n",
       "│  └── <span style=\"color: #87af00; text-decoration-color: #87af00\">[LO71] 1 process accesses 1 file (12993561555488102400) within 1 time period across 180 I/O operations </span>    │\n",
       "│      <span style=\"color: #87af00; text-decoration-color: #87af00\">and has an I/O time of 0.21 seconds which is 6.55% of overall I/O time of the workload.</span>                    │\n",
       "│      ├── <span style=\"color: #87af00; text-decoration-color: #87af00\">[Size imbalance] 'read' size is 100.00% (38.53 MiB) of total I/O size.</span>                                 │\n",
       "│      ├── <span style=\"color: #87af00; text-decoration-color: #87af00\">[Small reads] 'read' time is 97.09% (0.20 seconds) of I/O time.</span>                                        │\n",
       "│      └── <span style=\"color: #87af00; text-decoration-color: #87af00\">[Small reads] Average 'read's are 219.22 kiB, which is smaller than 1.00 MiB.</span>                          │\n",
       "│  File&gt;Time&gt;Process View (1 bottleneck with 0 reasons)                                                           │\n",
       "│  └── <span style=\"color: #87af00; text-decoration-color: #87af00\">[LO72] 1 process (app#15461096182755994450#188929#188929) accesses 1 file within 1 time period across 1 </span>   │\n",
       "│      <span style=\"color: #87af00; text-decoration-color: #87af00\">I/O operation and has an I/O time of 0.01 seconds which is 0.17% of overall I/O time of the workload.</span>      │\n",
       "│      └── <span style=\"color: #87af00; text-decoration-color: #87af00\">[Excessive metadata access] No reason found, investigation needed!</span>                                     │\n",
       "│  File&gt;Process&gt;Time View (1 bottleneck with 3 reasons)                                                           │\n",
       "│  └── <span style=\"color: #d78700; text-decoration-color: #d78700\">[HI73] 1 process accesses 3 files within 1 time period (69) across 14 I/O operations and has an I/O time </span>  │\n",
       "│      <span style=\"color: #d78700; text-decoration-color: #d78700\">of 0.24 seconds which is 7.32% of overall I/O time of the workload.</span>                                        │\n",
       "│      ├── <span style=\"color: #d78700; text-decoration-color: #d78700\">[Excessive metadata access] Overall 99.99% (0.24 seconds) of I/O time is spent on metadata access, </span>    │\n",
       "│      │   <span style=\"color: #d78700; text-decoration-color: #d78700\">specifically 0.13% (0.00 seconds) on the 'open' operation.</span>                                             │\n",
       "│      ├── <span style=\"color: #d78700; text-decoration-color: #d78700\">[Operation imbalance] 'read' operations are 14.29% (2 operations) of total I/O operations.</span>             │\n",
       "│      └── <span style=\"color: #d78700; text-decoration-color: #d78700\">[Size imbalance] 'read' size is 100.00% (15.10 kiB) of total I/O size.</span>                                 │\n",
       "│  Process&gt;Time&gt;File View (1 bottleneck with 3 reasons)                                                           │\n",
       "│  └── <span style=\"color: #d70000; text-decoration-color: #d70000\">[CR74] 1 process accesses 1 file (9334004074817843200) within 1 time period across 7 I/O operations and </span>   │\n",
       "│      <span style=\"color: #d70000; text-decoration-color: #d70000\">has an I/O time of 0.20 seconds which is 6.06% of overall I/O time of the workload.</span>                        │\n",
       "│      ├── <span style=\"color: #d70000; text-decoration-color: #d70000\">[Excessive metadata access] Overall 99.99% (0.20 seconds) of I/O time is spent on metadata access, </span>    │\n",
       "│      │   <span style=\"color: #d70000; text-decoration-color: #d70000\">specifically 99.97% (0.20 seconds) on the 'open' operation.</span>                                            │\n",
       "│      ├── <span style=\"color: #d70000; text-decoration-color: #d70000\">[Operation imbalance] 'read' operations are 28.57% (2 operations) of total I/O operations.</span>             │\n",
       "│      └── <span style=\"color: #d70000; text-decoration-color: #d70000\">[Size imbalance] 'read' size is 100.00% (15.10 kiB) of total I/O size.</span>                                 │\n",
       "│  Process&gt;File&gt;Time View (1 bottleneck with 3 reasons)                                                           │\n",
       "│  └── <span style=\"color: #87af00; text-decoration-color: #87af00\">[LO75] 1 process accesses 1 file within 1 time period (71) across 7 I/O operations and has an I/O time of</span>  │\n",
       "│      <span style=\"color: #87af00; text-decoration-color: #87af00\">0.20 seconds which is 6.06% of overall I/O time of the workload.</span>                                           │\n",
       "│      ├── <span style=\"color: #87af00; text-decoration-color: #87af00\">[Excessive metadata access] Overall 99.99% (0.20 seconds) of I/O time is spent on metadata access, </span>    │\n",
       "│      │   <span style=\"color: #87af00; text-decoration-color: #87af00\">specifically 99.97% (0.20 seconds) on the 'open' operation.</span>                                            │\n",
       "│      ├── <span style=\"color: #87af00; text-decoration-color: #87af00\">[Operation imbalance] 'read' operations are 28.57% (2 operations) of total I/O operations.</span>             │\n",
       "│      └── <span style=\"color: #87af00; text-decoration-color: #87af00\">[Size imbalance] 'read' size is 100.00% (15.10 kiB) of total I/O size.</span>                                 │\n",
       "│                                                                                                                 │\n",
       "╰─────────────────────────────────────────────────────────────────────────────────────────────────────────────────╯\n",
       "</pre>\n"
      ],
      "text/plain": [
       "╭────────────────────────────────────────────── I/O Characteristics ──────────────────────────────────────────────╮\n",
       "│                                                                                                                 │\n",
       "│ \u001b[36m \u001b[0m\u001b[36mRuntime        \u001b[0m\u001b[36m \u001b[0m 145.67 seconds                                                                                │\n",
       "│ \u001b[36m \u001b[0m\u001b[36mI/O Time       \u001b[0m\u001b[36m \u001b[0m 3.22 seconds                                                                                  │\n",
       "│ \u001b[36m                 \u001b[0m ├── Read - 2.45 seconds (76.01%)                                                              │\n",
       "│ \u001b[36m                 \u001b[0m ├── Write - 0.00 seconds (0.04%)                                                              │\n",
       "│ \u001b[36m                 \u001b[0m └── Metadata - 2.17 seconds (67.31%)                                                          │\n",
       "│ \u001b[36m \u001b[0m\u001b[36mI/O Operations \u001b[0m\u001b[36m \u001b[0m 1,101,599 ops                                                                                 │\n",
       "│ \u001b[36m                 \u001b[0m ├── Read - 43,368 ops (3.94%)                                                                 │\n",
       "│ \u001b[36m                 \u001b[0m ├── Write - 300 ops (0.03%)                                                                   │\n",
       "│ \u001b[36m                 \u001b[0m └── Metadata - 1,055,563 ops (95.82%)                                                         │\n",
       "│ \u001b[36m \u001b[0m\u001b[36mI/O Size       \u001b[0m\u001b[36m \u001b[0m 92.50 GiB                                                                                     │\n",
       "│ \u001b[36m                 \u001b[0m ├── Read - 92.50 GiB (100.00%)                                                                │\n",
       "│ \u001b[36m                 \u001b[0m └── Write - 20.39 kiB (0.00%)                                                                 │\n",
       "│ \u001b[36m \u001b[0m\u001b[36mRead Requests  \u001b[0m\u001b[36m \u001b[0m 4 kiB-4 MiB - 43,336 ops                                                                      │\n",
       "│ \u001b[36m                 \u001b[0m ├── <4 kiB - 11,927 ops (27.52%)                                                              │\n",
       "│ \u001b[36m                 \u001b[0m ├── 4-16 kiB - 2,145 ops (4.95%)                                                              │\n",
       "│ \u001b[36m                 \u001b[0m ├── 16-64 kiB - 2,704 ops (6.24%)                                                             │\n",
       "│ \u001b[36m                 \u001b[0m ├── 256 kiB-1 MiB - 4 ops (0.01%)                                                             │\n",
       "│ \u001b[36m                 \u001b[0m └── 1-4 MiB - 26,556 ops (61.28%)                                                             │\n",
       "│ \u001b[36m \u001b[0m\u001b[36mWrite Requests \u001b[0m\u001b[36m \u001b[0m 4 kiB-4 kiB - 300 ops                                                                         │\n",
       "│ \u001b[36m                 \u001b[0m └── <4 kiB - 300 ops (100.00%)                                                                │\n",
       "│ \u001b[36m \u001b[0m\u001b[36mNodes          \u001b[0m\u001b[36m \u001b[0m 1 node                                                                                        │\n",
       "│ \u001b[36m \u001b[0m\u001b[36mApps           \u001b[0m\u001b[36m \u001b[0m 1 app                                                                                         │\n",
       "│ \u001b[36m \u001b[0m\u001b[36mProcesses/Ranks\u001b[0m\u001b[36m \u001b[0m 96 processes                                                                                  │\n",
       "│ \u001b[36m \u001b[0m\u001b[36mFiles          \u001b[0m\u001b[36m \u001b[0m 6,073 files                                                                                   │\n",
       "│ \u001b[36m                 \u001b[0m ├── Shared: 5,464 files (89.97%)                                                              │\n",
       "│ \u001b[36m                 \u001b[0m └── FPP: 609 files (10.03%)                                                                   │\n",
       "│ \u001b[36m \u001b[0m\u001b[36mTime Periods   \u001b[0m\u001b[36m \u001b[0m 68 time periods (Time Granularity: 1,000,000.0)                                               │\n",
       "│ \u001b[36m \u001b[0m\u001b[36mAccess Pattern \u001b[0m\u001b[36m \u001b[0m \u001b[1mSequential\u001b[0m: 43,668 ops (100.00%) - \u001b[1mRandom\u001b[0m: 0 ops (0.00%)                                      │\n",
       "│                                                                                                                 │\n",
       "╰─ \u001b[1mR\u001b[0m: Read - \u001b[1mW\u001b[0m: Write - \u001b[1mM\u001b[0m: Metadata  ─────────────────────────────────────────────────────────────────────────────╯\n",
       "                                                                                                                   \n",
       "╭────────────────────────────────────── 75 I/O Bottlenecks with 209 Reasons ──────────────────────────────────────╮\n",
       "│                                                                                                                 │\n",
       "│  Time View (1 bottleneck with 3 reasons)                                                                        │\n",
       "│  └── \u001b[38;5;160m[CR1] 1 process accesses 1 file within 1 time period (73) across 180 I/O operations and has an I/O time \u001b[0m   │\n",
       "│      \u001b[38;5;160mof 0.21 seconds which is 6.55% of overall I/O time of the workload.\u001b[0m                                        │\n",
       "│      ├── \u001b[38;5;160m[Size imbalance] 'read' size is 100.00% (38.53 MiB) of total I/O size.\u001b[0m                                 │\n",
       "│      ├── \u001b[38;5;160m[Small reads] 'read' time is 97.09% (0.20 seconds) of I/O time.\u001b[0m                                        │\n",
       "│      └── \u001b[38;5;160m[Small reads] Average 'read's are 219.22 kiB, which is smaller than 1.00 MiB.\u001b[0m                          │\n",
       "│  File View (61 bottlenecks with 175 reasons)                                                                    │\n",
       "│  ├── \u001b[38;5;160m[CR2] 1 process accesses 1 file (15155830501235021824) within 1 time period across 1 I/O operation and \u001b[0m    │\n",
       "│  │   \u001b[38;5;160mhas an I/O time of 0.01 seconds which is 0.17% of overall I/O time of the workload.\u001b[0m                        │\n",
       "│  │   └── \u001b[38;5;160m[Excessive metadata access] No reason found, investigation needed!\u001b[0m                                     │\n",
       "│  └── (60 more)                                                                                                  │\n",
       "│  Process View (1 bottleneck with 2 reasons)                                                                     │\n",
       "│  └── \u001b[38;5;160m[CR63] 1 process (app#15461096182755994450#188931#191651) accesses 58 files within 3 time periods across \u001b[0m  │\n",
       "│      \u001b[38;5;160m434 I/O operations and has an I/O time of 0.30 seconds which is 9.25% of overall I/O time of the \u001b[0m          │\n",
       "│      \u001b[38;5;160mworkload.\u001b[0m                                                                                                  │\n",
       "│      ├── \u001b[38;5;160m[Excessive metadata access] Overall 99.94% (0.30 seconds) of I/O time is spent on metadata access, \u001b[0m    │\n",
       "│      │   \u001b[38;5;160mspecifically 91.15% (0.27 seconds) on the 'open' operation.\u001b[0m                                            │\n",
       "│      └── \u001b[38;5;160m[Size imbalance] 'read' size is 100.00% (149.61 kiB) of total I/O size.\u001b[0m                                │\n",
       "│  Time>File View (1 bottleneck with 3 reasons)                                                                   │\n",
       "│  └── \u001b[38;5;106m[LO64] 1 process accesses 1 file (12993561555488102400) within 1 time period across 180 I/O operations \u001b[0m    │\n",
       "│      \u001b[38;5;106mand has an I/O time of 0.21 seconds which is 6.55% of overall I/O time of the workload.\u001b[0m                    │\n",
       "│      ├── \u001b[38;5;106m[Size imbalance] 'read' size is 100.00% (38.53 MiB) of total I/O size.\u001b[0m                                 │\n",
       "│      ├── \u001b[38;5;106m[Small reads] 'read' time is 97.09% (0.20 seconds) of I/O time.\u001b[0m                                        │\n",
       "│      └── \u001b[38;5;106m[Small reads] Average 'read's are 219.22 kiB, which is smaller than 1.00 MiB.\u001b[0m                          │\n",
       "│  Time>Process View (1 bottleneck with 3 reasons)                                                                │\n",
       "│  └── \u001b[38;5;106m[LO65] 1 process (app#15461096182755994450#188942#191336) accesses 1 file within 1 time period across 180\u001b[0m  │\n",
       "│      \u001b[38;5;106mI/O operations and has an I/O time of 0.21 seconds which is 6.55% of overall I/O time of the workload.\u001b[0m     │\n",
       "│      ├── \u001b[38;5;106m[Size imbalance] 'read' size is 100.00% (38.53 MiB) of total I/O size.\u001b[0m                                 │\n",
       "│      ├── \u001b[38;5;106m[Small reads] 'read' time is 97.09% (0.20 seconds) of I/O time.\u001b[0m                                        │\n",
       "│      └── \u001b[38;5;106m[Small reads] Average 'read's are 219.22 kiB, which is smaller than 1.00 MiB.\u001b[0m                          │\n",
       "│  File>Time View (1 bottleneck with 0 reasons)                                                                   │\n",
       "│  └── \u001b[38;5;160m[CR66] 1 process accesses 1 file within 1 time period (1) across 1 I/O operation and has an I/O time of \u001b[0m   │\n",
       "│      \u001b[38;5;160m0.01 seconds which is 0.17% of overall I/O time of the workload.\u001b[0m                                           │\n",
       "│      └── \u001b[38;5;160m[Excessive metadata access] No reason found, investigation needed!\u001b[0m                                     │\n",
       "│  File>Process View (1 bottleneck with 3 reasons)                                                                │\n",
       "│  └── \u001b[38;5;160m[CR67] 1 process (app#15461096182755994450#188942#189136) accesses 3 files within 3 time periods across \u001b[0m   │\n",
       "│      \u001b[38;5;160m35 I/O operations and has an I/O time of 0.28 seconds which is 8.81% of overall I/O time of the workload.\u001b[0m  │\n",
       "│      ├── \u001b[38;5;160m[Excessive metadata access] Overall 99.99% (0.28 seconds) of I/O time is spent on metadata access, \u001b[0m    │\n",
       "│      │   \u001b[38;5;160mspecifically 16.98% (0.05 seconds) on the 'open' operation.\u001b[0m                                            │\n",
       "│      ├── \u001b[38;5;160m[Operation imbalance] 'read' operations are 20.00% (7 operations) of total I/O operations.\u001b[0m             │\n",
       "│      └── \u001b[38;5;160m[Size imbalance] 'read' size is 100.00% (22.68 kiB) of total I/O size.\u001b[0m                                 │\n",
       "│  Process>Time View (1 bottleneck with 2 reasons)                                                                │\n",
       "│  └── \u001b[38;5;106m[LO68] 1 process accesses 57 files within 1 time period (71) across 339 I/O operations and has an I/O \u001b[0m     │\n",
       "│      \u001b[38;5;106mtime of 0.27 seconds which is 8.53% of overall I/O time of the workload.\u001b[0m                                   │\n",
       "│      ├── \u001b[38;5;106m[Excessive metadata access] Overall 99.93% (0.27 seconds) of I/O time is spent on metadata access, \u001b[0m    │\n",
       "│      │   \u001b[38;5;106mspecifically 98.85% (0.27 seconds) on the 'open' operation.\u001b[0m                                            │\n",
       "│      └── \u001b[38;5;106m[Size imbalance] 'read' size is 100.00% (149.61 kiB) of total I/O size.\u001b[0m                                │\n",
       "│  Process>File View (1 bottleneck with 3 reasons)                                                                │\n",
       "│  └── \u001b[38;5;160m[CR69] 1 process accesses 1 file (9334004074817843200) within 1 time period across 7 I/O operations and \u001b[0m   │\n",
       "│      \u001b[38;5;160mhas an I/O time of 0.20 seconds which is 6.06% of overall I/O time of the workload.\u001b[0m                        │\n",
       "│      ├── \u001b[38;5;160m[Excessive metadata access] Overall 99.99% (0.20 seconds) of I/O time is spent on metadata access, \u001b[0m    │\n",
       "│      │   \u001b[38;5;160mspecifically 99.97% (0.20 seconds) on the 'open' operation.\u001b[0m                                            │\n",
       "│      ├── \u001b[38;5;160m[Operation imbalance] 'read' operations are 28.57% (2 operations) of total I/O operations.\u001b[0m             │\n",
       "│      └── \u001b[38;5;160m[Size imbalance] 'read' size is 100.00% (15.10 kiB) of total I/O size.\u001b[0m                                 │\n",
       "│  Time>File>Process View (1 bottleneck with 3 reasons)                                                           │\n",
       "│  └── \u001b[38;5;106m[LO70] 1 process (app#15461096182755994450#188942#191336) accesses 1 file within 1 time period across 180\u001b[0m  │\n",
       "│      \u001b[38;5;106mI/O operations and has an I/O time of 0.21 seconds which is 6.55% of overall I/O time of the workload.\u001b[0m     │\n",
       "│      ├── \u001b[38;5;106m[Size imbalance] 'read' size is 100.00% (38.53 MiB) of total I/O size.\u001b[0m                                 │\n",
       "│      ├── \u001b[38;5;106m[Small reads] 'read' time is 97.09% (0.20 seconds) of I/O time.\u001b[0m                                        │\n",
       "│      └── \u001b[38;5;106m[Small reads] Average 'read's are 219.22 kiB, which is smaller than 1.00 MiB.\u001b[0m                          │\n",
       "│  Time>Process>File View (1 bottleneck with 3 reasons)                                                           │\n",
       "│  └── \u001b[38;5;106m[LO71] 1 process accesses 1 file (12993561555488102400) within 1 time period across 180 I/O operations \u001b[0m    │\n",
       "│      \u001b[38;5;106mand has an I/O time of 0.21 seconds which is 6.55% of overall I/O time of the workload.\u001b[0m                    │\n",
       "│      ├── \u001b[38;5;106m[Size imbalance] 'read' size is 100.00% (38.53 MiB) of total I/O size.\u001b[0m                                 │\n",
       "│      ├── \u001b[38;5;106m[Small reads] 'read' time is 97.09% (0.20 seconds) of I/O time.\u001b[0m                                        │\n",
       "│      └── \u001b[38;5;106m[Small reads] Average 'read's are 219.22 kiB, which is smaller than 1.00 MiB.\u001b[0m                          │\n",
       "│  File>Time>Process View (1 bottleneck with 0 reasons)                                                           │\n",
       "│  └── \u001b[38;5;106m[LO72] 1 process (app#15461096182755994450#188929#188929) accesses 1 file within 1 time period across 1 \u001b[0m   │\n",
       "│      \u001b[38;5;106mI/O operation and has an I/O time of 0.01 seconds which is 0.17% of overall I/O time of the workload.\u001b[0m      │\n",
       "│      └── \u001b[38;5;106m[Excessive metadata access] No reason found, investigation needed!\u001b[0m                                     │\n",
       "│  File>Process>Time View (1 bottleneck with 3 reasons)                                                           │\n",
       "│  └── \u001b[38;5;172m[HI73] 1 process accesses 3 files within 1 time period (69) across 14 I/O operations and has an I/O time \u001b[0m  │\n",
       "│      \u001b[38;5;172mof 0.24 seconds which is 7.32% of overall I/O time of the workload.\u001b[0m                                        │\n",
       "│      ├── \u001b[38;5;172m[Excessive metadata access] Overall 99.99% (0.24 seconds) of I/O time is spent on metadata access, \u001b[0m    │\n",
       "│      │   \u001b[38;5;172mspecifically 0.13% (0.00 seconds) on the 'open' operation.\u001b[0m                                             │\n",
       "│      ├── \u001b[38;5;172m[Operation imbalance] 'read' operations are 14.29% (2 operations) of total I/O operations.\u001b[0m             │\n",
       "│      └── \u001b[38;5;172m[Size imbalance] 'read' size is 100.00% (15.10 kiB) of total I/O size.\u001b[0m                                 │\n",
       "│  Process>Time>File View (1 bottleneck with 3 reasons)                                                           │\n",
       "│  └── \u001b[38;5;160m[CR74] 1 process accesses 1 file (9334004074817843200) within 1 time period across 7 I/O operations and \u001b[0m   │\n",
       "│      \u001b[38;5;160mhas an I/O time of 0.20 seconds which is 6.06% of overall I/O time of the workload.\u001b[0m                        │\n",
       "│      ├── \u001b[38;5;160m[Excessive metadata access] Overall 99.99% (0.20 seconds) of I/O time is spent on metadata access, \u001b[0m    │\n",
       "│      │   \u001b[38;5;160mspecifically 99.97% (0.20 seconds) on the 'open' operation.\u001b[0m                                            │\n",
       "│      ├── \u001b[38;5;160m[Operation imbalance] 'read' operations are 28.57% (2 operations) of total I/O operations.\u001b[0m             │\n",
       "│      └── \u001b[38;5;160m[Size imbalance] 'read' size is 100.00% (15.10 kiB) of total I/O size.\u001b[0m                                 │\n",
       "│  Process>File>Time View (1 bottleneck with 3 reasons)                                                           │\n",
       "│  └── \u001b[38;5;106m[LO75] 1 process accesses 1 file within 1 time period (71) across 7 I/O operations and has an I/O time of\u001b[0m  │\n",
       "│      \u001b[38;5;106m0.20 seconds which is 6.06% of overall I/O time of the workload.\u001b[0m                                           │\n",
       "│      ├── \u001b[38;5;106m[Excessive metadata access] Overall 99.99% (0.20 seconds) of I/O time is spent on metadata access, \u001b[0m    │\n",
       "│      │   \u001b[38;5;106mspecifically 99.97% (0.20 seconds) on the 'open' operation.\u001b[0m                                            │\n",
       "│      ├── \u001b[38;5;106m[Operation imbalance] 'read' operations are 28.57% (2 operations) of total I/O operations.\u001b[0m             │\n",
       "│      └── \u001b[38;5;106m[Size imbalance] 'read' size is 100.00% (15.10 kiB) of total I/O size.\u001b[0m                                 │\n",
       "│                                                                                                                 │\n",
       "╰─────────────────────────────────────────────────────────────────────────────────────────────────────────────────╯\n"
      ]
     },
     "metadata": {},
     "output_type": "display_data"
    },
    {
     "name": "stdout",
     "output_type": "stream",
     "text": [
      "time: 2.44 s (started: 2024-10-09 16:31:46 -07:00)\n"
     ]
    }
   ],
   "source": [
    "output.handle_result(metrics=cfg.metrics, result=result)"
   ]
  },
  {
   "cell_type": "code",
   "execution_count": null,
   "id": "bec3270b",
   "metadata": {
    "papermill": {
     "duration": 0.004519,
     "end_time": "2024-10-09T23:31:49.179892",
     "exception": false,
     "start_time": "2024-10-09T23:31:49.175373",
     "status": "completed"
    },
    "tags": []
   },
   "outputs": [],
   "source": []
  }
 ],
 "metadata": {
  "kernelspec": {
   "display_name": "venv-corona",
   "language": "python",
   "name": "python3"
  },
  "language_info": {
   "codemirror_mode": {
    "name": "ipython",
    "version": 3
   },
   "file_extension": ".py",
   "mimetype": "text/x-python",
   "name": "python",
   "nbconvert_exporter": "python",
   "pygments_lexer": "ipython3",
   "version": "3.9.12"
  },
  "papermill": {
   "default_parameters": {},
   "duration": 50.808512,
   "end_time": "2024-10-09T23:31:51.804753",
   "environment_variables": {},
   "exception": null,
   "input_path": "analysis.ipynb",
   "output_path": "analysis-dftracer-unet3d-dlio-v100-node-1-v1.ipynb",
   "parameters": {
    "analyzer": "dftracer",
    "checkpoint": true,
    "checkpoint_dir": "/usr/workspace/iopp/wisio_logs/_checkpoints/dftracer-unet3d-dlio-v100-node-1-v1",
    "logical_view_types": false,
    "output_max_bottlenecks": 1,
    "output_root_only": false,
    "percentile": 0.99,
    "run_dir": ".wisio/dftracer/unet3d-dlio-v100-node-1-v1",
    "trace_path": "/p/lustre3/iopp/dftracer-traces-lfs/v1.0.5-develop/corona/unet3d/dlio-v100/node-1/v1/RAW/*.pfw.gz"
   },
   "start_time": "2024-10-09T23:31:00.996241",
   "version": "2.6.0"
  }
 },
 "nbformat": 4,
 "nbformat_minor": 5
}

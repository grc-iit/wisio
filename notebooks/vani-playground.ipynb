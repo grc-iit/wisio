{
 "cells": [
  {
   "cell_type": "markdown",
   "id": "bc5435c1-732a-4910-89b7-f43f515fa954",
   "metadata": {},
   "source": [
    "# VANI"
   ]
  },
  {
   "cell_type": "markdown",
   "id": "569476c7-d3de-42a0-b9e2-1bdae2a37d3b",
   "metadata": {},
   "source": [
    "**Initial notebook configuration**"
   ]
  },
  {
   "cell_type": "code",
   "execution_count": 1,
   "id": "22f9e735-9736-4603-b4b9-207740614b6a",
   "metadata": {},
   "outputs": [],
   "source": [
    "%load_ext autoreload\n",
    "# %load_ext snakeviz\n",
    "# %load_ext jupyterflame"
   ]
  },
  {
   "cell_type": "code",
   "execution_count": 2,
   "id": "a49c5a6e-9862-41ba-b219-b00389cc3687",
   "metadata": {},
   "outputs": [
    {
     "name": "stdout",
     "output_type": "stream",
     "text": [
      "/g/g92/izzet/projects/iopp/vani-analysis-tool/vani-venv/bin/python\n",
      "3.7.2 (default, Feb 26 2019, 08:59:10) \n",
      "[GCC 4.9.3]\n",
      "sys.version_info(major=3, minor=7, micro=2, releaselevel='final', serial=0)\n"
     ]
    }
   ],
   "source": [
    "import os\n",
    "import sys\n",
    "print(sys.executable)\n",
    "print(sys.version)\n",
    "print(sys.version_info)\n",
    "sys.path.append(os.path.dirname(os.getcwd()))"
   ]
  },
  {
   "cell_type": "code",
   "execution_count": 3,
   "id": "06fe52a1-0a7c-4bc2-8992-0197d82beb24",
   "metadata": {},
   "outputs": [],
   "source": [
    "# Filter unnecessary warnings\n",
    "import warnings\n",
    "warnings.simplefilter(action='ignore', category=FutureWarning)"
   ]
  },
  {
   "cell_type": "markdown",
   "id": "9dc61e64-3fc5-4e15-86dd-8937201a9732",
   "metadata": {},
   "source": [
    "**Import libraries**"
   ]
  },
  {
   "cell_type": "code",
   "execution_count": 4,
   "id": "076b1f4f-7e8f-4a64-8e21-8efe9889fab7",
   "metadata": {},
   "outputs": [],
   "source": [
    "import numpy as np\n",
    "from IPython.display import HTML\n",
    "from vani.analyzer import Analyzer, ClusterOptions, ClusterType\n",
    "from vani.utils.data_filtering import filter_non_io_traces, split_io_mpi_trace, split_read_write_metadata"
   ]
  },
  {
   "cell_type": "markdown",
   "id": "7c056dcd-e1ed-432d-9bfd-08f904dd4611",
   "metadata": {},
   "source": [
    "**Initialize VANI Analyzer**"
   ]
  },
  {
   "cell_type": "code",
   "execution_count": 5,
   "id": "a3e9af43-f87a-4e4b-889b-b430277010b3",
   "metadata": {},
   "outputs": [
    {
     "name": "stdout",
     "output_type": "stream",
     "text": [
      "Dashboard link: http://127.0.0.1:8787/status\n"
     ]
    }
   ],
   "source": [
    "%autoreload 2\n",
    "\n",
    "# Initialize analyzer\n",
    "co = ClusterOptions(cluster_type=ClusterType.Local)\n",
    "vn = Analyzer(n_workers=8, cluster_options=co, debug=True)"
   ]
  },
  {
   "cell_type": "markdown",
   "id": "c1b19ba0-5305-48ad-889c-003181813b03",
   "metadata": {},
   "source": [
    "**Analyze logs**"
   ]
  },
  {
   "cell_type": "code",
   "execution_count": 6,
   "id": "9378d3ba-b1cb-418e-9a66-8927436dae98",
   "metadata": {},
   "outputs": [
    {
     "name": "stdout",
     "output_type": "stream",
     "text": [
      "Logs read (0.08190640527755022)\n",
      "CPU times: user 432 ms, sys: 38.8 ms, total: 471 ms\n",
      "Wall time: 476 ms\n"
     ]
    }
   ],
   "source": [
    "%%time\n",
    "%autoreload 2\n",
    "\n",
    "# Read logs\n",
    "hacc_ddf = vn._read_parquet(log_dir=\"/p/lustre1/iopp/parquet_app_logs/hacc/nodes-32/workflow-0\")\n",
    "hacc_ddf = filter_non_io_traces(hacc_ddf)\n",
    "hacc_io_ddf, hacc_mpi_ddf, hacc_trace_ddf = split_io_mpi_trace(hacc_ddf)\n",
    "hacc_io_ddf_read, hacc_io_ddf_write, hacc_io_ddf_metadata = split_read_write_metadata(hacc_io_ddf)"
   ]
  },
  {
   "cell_type": "code",
   "execution_count": 7,
   "id": "1be06c78",
   "metadata": {},
   "outputs": [
    {
     "data": {
      "text/html": [
       "<div>\n",
       "<style scoped>\n",
       "    .dataframe tbody tr th:only-of-type {\n",
       "        vertical-align: middle;\n",
       "    }\n",
       "\n",
       "    .dataframe tbody tr th {\n",
       "        vertical-align: top;\n",
       "    }\n",
       "\n",
       "    .dataframe thead th {\n",
       "        text-align: right;\n",
       "    }\n",
       "</style>\n",
       "<table border=\"1\" class=\"dataframe\">\n",
       "  <thead>\n",
       "    <tr style=\"text-align: right;\">\n",
       "      <th></th>\n",
       "      <th>index</th>\n",
       "      <th>rank</th>\n",
       "      <th>thread_id</th>\n",
       "      <th>cat</th>\n",
       "      <th>tstart</th>\n",
       "      <th>tend</th>\n",
       "      <th>func_id</th>\n",
       "      <th>level</th>\n",
       "      <th>arg_count</th>\n",
       "      <th>args_1</th>\n",
       "      <th>...</th>\n",
       "      <th>args_7</th>\n",
       "      <th>args_8</th>\n",
       "      <th>args_9</th>\n",
       "      <th>args_10</th>\n",
       "      <th>duration</th>\n",
       "      <th>tmid</th>\n",
       "      <th>filename</th>\n",
       "      <th>size</th>\n",
       "      <th>count</th>\n",
       "      <th>bandwidth</th>\n",
       "    </tr>\n",
       "  </thead>\n",
       "  <tbody>\n",
       "    <tr>\n",
       "      <th>35</th>\n",
       "      <td>36</td>\n",
       "      <td>0</td>\n",
       "      <td>312784</td>\n",
       "      <td>0</td>\n",
       "      <td>18.552891</td>\n",
       "      <td>18.677382</td>\n",
       "      <td>write</td>\n",
       "      <td>0</td>\n",
       "      <td>3</td>\n",
       "      <td>/p/gpfs1/iopp/temp/hacc_dir/test-Part00000000-...</td>\n",
       "      <td>...</td>\n",
       "      <td></td>\n",
       "      <td></td>\n",
       "      <td></td>\n",
       "      <td></td>\n",
       "      <td>0.124491</td>\n",
       "      <td>18.615135</td>\n",
       "      <td>/p/gpfs1/iopp/temp/hacc_dir/test-Part00000000-...</td>\n",
       "      <td>67108864.0</td>\n",
       "      <td>1.0</td>\n",
       "      <td>5.390671e+08</td>\n",
       "    </tr>\n",
       "    <tr>\n",
       "      <th>38</th>\n",
       "      <td>39</td>\n",
       "      <td>0</td>\n",
       "      <td>312784</td>\n",
       "      <td>0</td>\n",
       "      <td>18.677414</td>\n",
       "      <td>18.720806</td>\n",
       "      <td>write</td>\n",
       "      <td>0</td>\n",
       "      <td>3</td>\n",
       "      <td>/p/gpfs1/iopp/temp/hacc_dir/test-Part00000000-...</td>\n",
       "      <td>...</td>\n",
       "      <td></td>\n",
       "      <td></td>\n",
       "      <td></td>\n",
       "      <td></td>\n",
       "      <td>0.043392</td>\n",
       "      <td>18.699110</td>\n",
       "      <td>/p/gpfs1/iopp/temp/hacc_dir/test-Part00000000-...</td>\n",
       "      <td>67108864.0</td>\n",
       "      <td>1.0</td>\n",
       "      <td>1.546566e+09</td>\n",
       "    </tr>\n",
       "    <tr>\n",
       "      <th>41</th>\n",
       "      <td>42</td>\n",
       "      <td>0</td>\n",
       "      <td>312784</td>\n",
       "      <td>0</td>\n",
       "      <td>18.720913</td>\n",
       "      <td>18.840509</td>\n",
       "      <td>write</td>\n",
       "      <td>0</td>\n",
       "      <td>3</td>\n",
       "      <td>/p/gpfs1/iopp/temp/hacc_dir/test-Part00000000-...</td>\n",
       "      <td>...</td>\n",
       "      <td></td>\n",
       "      <td></td>\n",
       "      <td></td>\n",
       "      <td></td>\n",
       "      <td>0.119596</td>\n",
       "      <td>18.780712</td>\n",
       "      <td>/p/gpfs1/iopp/temp/hacc_dir/test-Part00000000-...</td>\n",
       "      <td>67108864.0</td>\n",
       "      <td>1.0</td>\n",
       "      <td>5.611274e+08</td>\n",
       "    </tr>\n",
       "    <tr>\n",
       "      <th>44</th>\n",
       "      <td>45</td>\n",
       "      <td>0</td>\n",
       "      <td>312784</td>\n",
       "      <td>0</td>\n",
       "      <td>18.840620</td>\n",
       "      <td>18.879042</td>\n",
       "      <td>write</td>\n",
       "      <td>0</td>\n",
       "      <td>3</td>\n",
       "      <td>/p/gpfs1/iopp/temp/hacc_dir/test-Part00000000-...</td>\n",
       "      <td>...</td>\n",
       "      <td></td>\n",
       "      <td></td>\n",
       "      <td></td>\n",
       "      <td></td>\n",
       "      <td>0.038422</td>\n",
       "      <td>18.859831</td>\n",
       "      <td>/p/gpfs1/iopp/temp/hacc_dir/test-Part00000000-...</td>\n",
       "      <td>67108864.0</td>\n",
       "      <td>1.0</td>\n",
       "      <td>1.746643e+09</td>\n",
       "    </tr>\n",
       "    <tr>\n",
       "      <th>47</th>\n",
       "      <td>48</td>\n",
       "      <td>0</td>\n",
       "      <td>312784</td>\n",
       "      <td>0</td>\n",
       "      <td>18.879133</td>\n",
       "      <td>18.925989</td>\n",
       "      <td>write</td>\n",
       "      <td>0</td>\n",
       "      <td>3</td>\n",
       "      <td>/p/gpfs1/iopp/temp/hacc_dir/test-Part00000000-...</td>\n",
       "      <td>...</td>\n",
       "      <td></td>\n",
       "      <td></td>\n",
       "      <td></td>\n",
       "      <td></td>\n",
       "      <td>0.046856</td>\n",
       "      <td>18.902561</td>\n",
       "      <td>/p/gpfs1/iopp/temp/hacc_dir/test-Part00000000-...</td>\n",
       "      <td>67108864.0</td>\n",
       "      <td>1.0</td>\n",
       "      <td>1.432239e+09</td>\n",
       "    </tr>\n",
       "  </tbody>\n",
       "</table>\n",
       "<p>5 rows × 25 columns</p>\n",
       "</div>"
      ],
      "text/plain": [
       "    index  rank  thread_id  cat     tstart       tend func_id  level  \\\n",
       "35     36     0     312784    0  18.552891  18.677382   write      0   \n",
       "38     39     0     312784    0  18.677414  18.720806   write      0   \n",
       "41     42     0     312784    0  18.720913  18.840509   write      0   \n",
       "44     45     0     312784    0  18.840620  18.879042   write      0   \n",
       "47     48     0     312784    0  18.879133  18.925989   write      0   \n",
       "\n",
       "    arg_count                                             args_1  ... args_7  \\\n",
       "35          3  /p/gpfs1/iopp/temp/hacc_dir/test-Part00000000-...  ...          \n",
       "38          3  /p/gpfs1/iopp/temp/hacc_dir/test-Part00000000-...  ...          \n",
       "41          3  /p/gpfs1/iopp/temp/hacc_dir/test-Part00000000-...  ...          \n",
       "44          3  /p/gpfs1/iopp/temp/hacc_dir/test-Part00000000-...  ...          \n",
       "47          3  /p/gpfs1/iopp/temp/hacc_dir/test-Part00000000-...  ...          \n",
       "\n",
       "   args_8 args_9 args_10  duration       tmid  \\\n",
       "35                        0.124491  18.615135   \n",
       "38                        0.043392  18.699110   \n",
       "41                        0.119596  18.780712   \n",
       "44                        0.038422  18.859831   \n",
       "47                        0.046856  18.902561   \n",
       "\n",
       "                                             filename        size count  \\\n",
       "35  /p/gpfs1/iopp/temp/hacc_dir/test-Part00000000-...  67108864.0   1.0   \n",
       "38  /p/gpfs1/iopp/temp/hacc_dir/test-Part00000000-...  67108864.0   1.0   \n",
       "41  /p/gpfs1/iopp/temp/hacc_dir/test-Part00000000-...  67108864.0   1.0   \n",
       "44  /p/gpfs1/iopp/temp/hacc_dir/test-Part00000000-...  67108864.0   1.0   \n",
       "47  /p/gpfs1/iopp/temp/hacc_dir/test-Part00000000-...  67108864.0   1.0   \n",
       "\n",
       "       bandwidth  \n",
       "35  5.390671e+08  \n",
       "38  1.546566e+09  \n",
       "41  5.611274e+08  \n",
       "44  1.746643e+09  \n",
       "47  1.432239e+09  \n",
       "\n",
       "[5 rows x 25 columns]"
      ]
     },
     "execution_count": 7,
     "metadata": {},
     "output_type": "execute_result"
    }
   ],
   "source": [
    "hacc_io_ddf_write.head()"
   ]
  },
  {
   "cell_type": "code",
   "execution_count": 8,
   "id": "341a5f81",
   "metadata": {},
   "outputs": [
    {
     "data": {
      "text/html": [
       "<div>\n",
       "<style scoped>\n",
       "    .dataframe tbody tr th:only-of-type {\n",
       "        vertical-align: middle;\n",
       "    }\n",
       "\n",
       "    .dataframe tbody tr th {\n",
       "        vertical-align: top;\n",
       "    }\n",
       "\n",
       "    .dataframe thead th {\n",
       "        text-align: right;\n",
       "    }\n",
       "</style>\n",
       "<table border=\"1\" class=\"dataframe\">\n",
       "  <thead>\n",
       "    <tr style=\"text-align: right;\">\n",
       "      <th></th>\n",
       "      <th>index</th>\n",
       "      <th>rank</th>\n",
       "      <th>thread_id</th>\n",
       "      <th>cat</th>\n",
       "      <th>func_id</th>\n",
       "      <th>size</th>\n",
       "      <th>duration</th>\n",
       "      <th>bandwidth</th>\n",
       "    </tr>\n",
       "  </thead>\n",
       "  <tbody>\n",
       "    <tr>\n",
       "      <th>47</th>\n",
       "      <td>48</td>\n",
       "      <td>0</td>\n",
       "      <td>312784</td>\n",
       "      <td>0</td>\n",
       "      <td>write</td>\n",
       "      <td>67108864.0</td>\n",
       "      <td>0.046856</td>\n",
       "      <td>1.432239e+09</td>\n",
       "    </tr>\n",
       "    <tr>\n",
       "      <th>47</th>\n",
       "      <td>48</td>\n",
       "      <td>8</td>\n",
       "      <td>312784</td>\n",
       "      <td>0</td>\n",
       "      <td>write</td>\n",
       "      <td>67108864.0</td>\n",
       "      <td>0.516968</td>\n",
       "      <td>1.298125e+08</td>\n",
       "    </tr>\n",
       "    <tr>\n",
       "      <th>47</th>\n",
       "      <td>48</td>\n",
       "      <td>16</td>\n",
       "      <td>312784</td>\n",
       "      <td>0</td>\n",
       "      <td>write</td>\n",
       "      <td>67108864.0</td>\n",
       "      <td>0.379725</td>\n",
       "      <td>1.767304e+08</td>\n",
       "    </tr>\n",
       "    <tr>\n",
       "      <th>47</th>\n",
       "      <td>48</td>\n",
       "      <td>24</td>\n",
       "      <td>312784</td>\n",
       "      <td>0</td>\n",
       "      <td>write</td>\n",
       "      <td>67108864.0</td>\n",
       "      <td>0.248793</td>\n",
       "      <td>2.697381e+08</td>\n",
       "    </tr>\n",
       "    <tr>\n",
       "      <th>47</th>\n",
       "      <td>48</td>\n",
       "      <td>32</td>\n",
       "      <td>312784</td>\n",
       "      <td>0</td>\n",
       "      <td>write</td>\n",
       "      <td>67108864.0</td>\n",
       "      <td>0.325239</td>\n",
       "      <td>2.063370e+08</td>\n",
       "    </tr>\n",
       "    <tr>\n",
       "      <th>...</th>\n",
       "      <td>...</td>\n",
       "      <td>...</td>\n",
       "      <td>...</td>\n",
       "      <td>...</td>\n",
       "      <td>...</td>\n",
       "      <td>...</td>\n",
       "      <td>...</td>\n",
       "      <td>...</td>\n",
       "    </tr>\n",
       "    <tr>\n",
       "      <th>47</th>\n",
       "      <td>48</td>\n",
       "      <td>1240</td>\n",
       "      <td>312784</td>\n",
       "      <td>0</td>\n",
       "      <td>write</td>\n",
       "      <td>67108864.0</td>\n",
       "      <td>0.299989</td>\n",
       "      <td>2.237042e+08</td>\n",
       "    </tr>\n",
       "    <tr>\n",
       "      <th>47</th>\n",
       "      <td>48</td>\n",
       "      <td>1248</td>\n",
       "      <td>312784</td>\n",
       "      <td>0</td>\n",
       "      <td>write</td>\n",
       "      <td>67108864.0</td>\n",
       "      <td>0.325312</td>\n",
       "      <td>2.062907e+08</td>\n",
       "    </tr>\n",
       "    <tr>\n",
       "      <th>47</th>\n",
       "      <td>48</td>\n",
       "      <td>1256</td>\n",
       "      <td>312784</td>\n",
       "      <td>0</td>\n",
       "      <td>write</td>\n",
       "      <td>67108864.0</td>\n",
       "      <td>0.048288</td>\n",
       "      <td>1.389767e+09</td>\n",
       "    </tr>\n",
       "    <tr>\n",
       "      <th>47</th>\n",
       "      <td>48</td>\n",
       "      <td>1264</td>\n",
       "      <td>312784</td>\n",
       "      <td>0</td>\n",
       "      <td>write</td>\n",
       "      <td>67108864.0</td>\n",
       "      <td>0.017643</td>\n",
       "      <td>3.803716e+09</td>\n",
       "    </tr>\n",
       "    <tr>\n",
       "      <th>47</th>\n",
       "      <td>48</td>\n",
       "      <td>1272</td>\n",
       "      <td>312784</td>\n",
       "      <td>0</td>\n",
       "      <td>write</td>\n",
       "      <td>67108864.0</td>\n",
       "      <td>0.094713</td>\n",
       "      <td>7.085481e+08</td>\n",
       "    </tr>\n",
       "  </tbody>\n",
       "</table>\n",
       "<p>158 rows × 8 columns</p>\n",
       "</div>"
      ],
      "text/plain": [
       "    index  rank  thread_id  cat func_id        size  duration     bandwidth\n",
       "47     48     0     312784    0   write  67108864.0  0.046856  1.432239e+09\n",
       "47     48     8     312784    0   write  67108864.0  0.516968  1.298125e+08\n",
       "47     48    16     312784    0   write  67108864.0  0.379725  1.767304e+08\n",
       "47     48    24     312784    0   write  67108864.0  0.248793  2.697381e+08\n",
       "47     48    32     312784    0   write  67108864.0  0.325239  2.063370e+08\n",
       "..    ...   ...        ...  ...     ...         ...       ...           ...\n",
       "47     48  1240     312784    0   write  67108864.0  0.299989  2.237042e+08\n",
       "47     48  1248     312784    0   write  67108864.0  0.325312  2.062907e+08\n",
       "47     48  1256     312784    0   write  67108864.0  0.048288  1.389767e+09\n",
       "47     48  1264     312784    0   write  67108864.0  0.017643  3.803716e+09\n",
       "47     48  1272     312784    0   write  67108864.0  0.094713  7.085481e+08\n",
       "\n",
       "[158 rows x 8 columns]"
      ]
     },
     "execution_count": 8,
     "metadata": {},
     "output_type": "execute_result"
    }
   ],
   "source": [
    "hacc_index_ddf = hacc_io_ddf_write[hacc_io_ddf_write['index'] == 48]\n",
    "hacc_index_ddf[['index', 'rank', 'thread_id', 'cat', 'func_id', 'size', 'duration', 'bandwidth']].compute()"
   ]
  },
  {
   "cell_type": "code",
   "execution_count": 9,
   "id": "831de9fc",
   "metadata": {},
   "outputs": [
    {
     "data": {
      "text/html": [
       "<div>\n",
       "<style scoped>\n",
       "    .dataframe tbody tr th:only-of-type {\n",
       "        vertical-align: middle;\n",
       "    }\n",
       "\n",
       "    .dataframe tbody tr th {\n",
       "        vertical-align: top;\n",
       "    }\n",
       "\n",
       "    .dataframe thead th {\n",
       "        text-align: right;\n",
       "    }\n",
       "</style>\n",
       "<table border=\"1\" class=\"dataframe\">\n",
       "  <thead>\n",
       "    <tr style=\"text-align: right;\">\n",
       "      <th></th>\n",
       "      <th>index</th>\n",
       "      <th>rank</th>\n",
       "      <th>thread_id</th>\n",
       "      <th>cat</th>\n",
       "      <th>tstart</th>\n",
       "      <th>tend</th>\n",
       "      <th>level</th>\n",
       "      <th>arg_count</th>\n",
       "      <th>duration</th>\n",
       "      <th>tmid</th>\n",
       "      <th>size</th>\n",
       "      <th>count</th>\n",
       "      <th>bandwidth</th>\n",
       "    </tr>\n",
       "    <tr>\n",
       "      <th>func_id</th>\n",
       "      <th></th>\n",
       "      <th></th>\n",
       "      <th></th>\n",
       "      <th></th>\n",
       "      <th></th>\n",
       "      <th></th>\n",
       "      <th></th>\n",
       "      <th></th>\n",
       "      <th></th>\n",
       "      <th></th>\n",
       "      <th></th>\n",
       "      <th></th>\n",
       "      <th></th>\n",
       "    </tr>\n",
       "  </thead>\n",
       "  <tbody>\n",
       "    <tr>\n",
       "      <th>write</th>\n",
       "      <td>7584</td>\n",
       "      <td>99976</td>\n",
       "      <td>49419872</td>\n",
       "      <td>0</td>\n",
       "      <td>2404.310303</td>\n",
       "      <td>2417.383789</td>\n",
       "      <td>0</td>\n",
       "      <td>474</td>\n",
       "      <td>13.073431</td>\n",
       "      <td>2410.847168</td>\n",
       "      <td>1.060320e+10</td>\n",
       "      <td>158.0</td>\n",
       "      <td>6.822703e+11</td>\n",
       "    </tr>\n",
       "  </tbody>\n",
       "</table>\n",
       "</div>"
      ],
      "text/plain": [
       "         index   rank  thread_id  cat       tstart         tend  level  \\\n",
       "func_id                                                                  \n",
       "write     7584  99976   49419872    0  2404.310303  2417.383789      0   \n",
       "\n",
       "         arg_count   duration         tmid          size  count     bandwidth  \n",
       "func_id                                                                        \n",
       "write          474  13.073431  2410.847168  1.060320e+10  158.0  6.822703e+11  "
      ]
     },
     "execution_count": 9,
     "metadata": {},
     "output_type": "execute_result"
    }
   ],
   "source": [
    "hacc_index_ddf.groupby('func_id').sum().compute()"
   ]
  },
  {
   "cell_type": "code",
   "execution_count": 10,
   "id": "6bd344c0",
   "metadata": {},
   "outputs": [
    {
     "data": {
      "text/plain": [
       "22.203325"
      ]
     },
     "execution_count": 10,
     "metadata": {},
     "output_type": "execute_result"
    }
   ],
   "source": [
    "hacc_tend = hacc_io_ddf_write['tend'].max().compute()\n",
    "hacc_tstart = hacc_io_ddf_write['tstart'].min().compute()\n",
    "hacc_tend - hacc_tstart"
   ]
  },
  {
   "cell_type": "code",
   "execution_count": 11,
   "id": "c2f518dd",
   "metadata": {},
   "outputs": [
    {
     "data": {
      "text/plain": [
       "848256040960.0"
      ]
     },
     "execution_count": 11,
     "metadata": {},
     "output_type": "execute_result"
    }
   ],
   "source": [
    "hacc_total_size = hacc_io_ddf_write['size'].sum().compute()\n",
    "hacc_total_size"
   ]
  },
  {
   "cell_type": "code",
   "execution_count": 12,
   "id": "cdd92159",
   "metadata": {},
   "outputs": [
    {
     "data": {
      "text/plain": [
       "35.58025612543045"
      ]
     },
     "execution_count": 12,
     "metadata": {},
     "output_type": "execute_result"
    }
   ],
   "source": [
    "(hacc_total_size/1024.0/1024.0/1024.0)/(hacc_tend - hacc_tstart)"
   ]
  },
  {
   "cell_type": "code",
   "execution_count": 13,
   "id": "4b357155",
   "metadata": {},
   "outputs": [],
   "source": [
    "hacc_bw_max = hacc_io_ddf_write['bandwidth'].max().compute()\n",
    "hacc_bw_min = hacc_io_ddf_write['bandwidth'].min().compute()\n",
    "hacc_bw_avg = hacc_io_ddf_write['bandwidth'].mean().compute()"
   ]
  },
  {
   "cell_type": "code",
   "execution_count": 14,
   "id": "3ab1d622",
   "metadata": {},
   "outputs": [
    {
     "data": {
      "text/plain": [
       "(10.013139801375095, 0.017386063134839615, 3.936443315686725)"
      ]
     },
     "execution_count": 14,
     "metadata": {},
     "output_type": "execute_result"
    }
   ],
   "source": [
    "hacc_bw_max/1024.0/1024.0/1024.0, hacc_bw_min/1024.0/1024.0/1024.0, hacc_bw_avg/1024.0/1024.0/1024.0"
   ]
  },
  {
   "cell_type": "code",
   "execution_count": 6,
   "id": "5be94acf",
   "metadata": {},
   "outputs": [
    {
     "name": "stdout",
     "output_type": "stream",
     "text": [
      "Logs read (0.44505688454955816)\n"
     ]
    }
   ],
   "source": [
    "# Read logs\n",
    "cm1_ddf = vn._read_parquet(log_dir=\"/p/lustre1/iopp/parquet_app_logs/cm1/nodes-32/workflow-4\")\n",
    "cm1_ddf = filter_non_io_traces(cm1_ddf)\n",
    "cm1_io_ddf, cm1_mpi_ddf, cm1_trace_ddf = split_io_mpi_trace(cm1_ddf)\n",
    "cm1_io_ddf_read, cm1_io_ddf_write, cm1_io_ddf_metadata = split_read_write_metadata(cm1_io_ddf)"
   ]
  },
  {
   "cell_type": "code",
   "execution_count": 22,
   "id": "fc25d097",
   "metadata": {},
   "outputs": [
    {
     "data": {
      "text/plain": [
       "3    /p/gpfs1/iopp/temp/cm1r20.3.2846827/config_files/les_ConvBoundLayer/namelist.input\n",
       "Name: args_1, dtype: object"
      ]
     },
     "execution_count": 22,
     "metadata": {},
     "output_type": "execute_result"
    }
   ],
   "source": [
    "# cm1_io_ddf_read[cm1_io_ddf_read['duration'] < 0.0001]['index'].count().compute()\n",
    "# cm1_io_ddf_read[cm1_io_ddf_read['duration'] < 0.0001].head()\n",
    "import pandas as pd\n",
    "pd.set_option('display.max_colwidth', 1000)\n",
    "file_name = cm1_io_ddf_read[cm1_io_ddf_read['index'] == 4]['args_1'].compute()\n",
    "file_name"
   ]
  },
  {
   "cell_type": "code",
   "execution_count": 25,
   "id": "53b52b79",
   "metadata": {},
   "outputs": [
    {
     "data": {
      "text/plain": [
       "count    1281.000000\n",
       "mean        0.000030\n",
       "std         0.000144\n",
       "min         0.000007\n",
       "25%         0.000009\n",
       "50%         0.000010\n",
       "75%         0.000011\n",
       "max         0.001981\n",
       "Name: duration, dtype: float64"
      ]
     },
     "execution_count": 25,
     "metadata": {},
     "output_type": "execute_result"
    }
   ],
   "source": [
    "cm1_io_ddf_read[cm1_io_ddf_read['args_1'] == '/p/gpfs1/iopp/temp/cm1r20.3.2846827/config_files/les_ConvBoundLayer/namelist.input']['duration'].describe().compute()"
   ]
  },
  {
   "cell_type": "code",
   "execution_count": 16,
   "id": "c8d824b3",
   "metadata": {},
   "outputs": [
    {
     "data": {
      "text/html": [
       "<div>\n",
       "<style scoped>\n",
       "    .dataframe tbody tr th:only-of-type {\n",
       "        vertical-align: middle;\n",
       "    }\n",
       "\n",
       "    .dataframe tbody tr th {\n",
       "        vertical-align: top;\n",
       "    }\n",
       "\n",
       "    .dataframe thead th {\n",
       "        text-align: right;\n",
       "    }\n",
       "</style>\n",
       "<table border=\"1\" class=\"dataframe\">\n",
       "  <thead>\n",
       "    <tr style=\"text-align: right;\">\n",
       "      <th></th>\n",
       "      <th>index</th>\n",
       "      <th>rank</th>\n",
       "      <th>thread_id</th>\n",
       "      <th>cat</th>\n",
       "      <th>tstart</th>\n",
       "      <th>tend</th>\n",
       "      <th>func_id</th>\n",
       "      <th>level</th>\n",
       "      <th>arg_count</th>\n",
       "      <th>args_1</th>\n",
       "      <th>...</th>\n",
       "      <th>args_7</th>\n",
       "      <th>args_8</th>\n",
       "      <th>args_9</th>\n",
       "      <th>args_10</th>\n",
       "      <th>duration</th>\n",
       "      <th>tmid</th>\n",
       "      <th>filename</th>\n",
       "      <th>size</th>\n",
       "      <th>count</th>\n",
       "      <th>bandwidth</th>\n",
       "    </tr>\n",
       "  </thead>\n",
       "  <tbody>\n",
       "    <tr>\n",
       "      <th>11</th>\n",
       "      <td>12</td>\n",
       "      <td>0</td>\n",
       "      <td>322192</td>\n",
       "      <td>0</td>\n",
       "      <td>3.099647</td>\n",
       "      <td>3.099776</td>\n",
       "      <td>write</td>\n",
       "      <td>0</td>\n",
       "      <td>3</td>\n",
       "      <td>/p/gpfs1/iopp/temp/cm1r20.3.2846827/config_fil...</td>\n",
       "      <td>...</td>\n",
       "      <td></td>\n",
       "      <td></td>\n",
       "      <td></td>\n",
       "      <td></td>\n",
       "      <td>0.000129</td>\n",
       "      <td>3.099711</td>\n",
       "      <td>/p/gpfs1/iopp/temp/cm1r20.3.2846827/config_fil...</td>\n",
       "      <td>122854.0</td>\n",
       "      <td>1.0</td>\n",
       "      <td>9.524714e+08</td>\n",
       "    </tr>\n",
       "    <tr>\n",
       "      <th>24</th>\n",
       "      <td>25</td>\n",
       "      <td>0</td>\n",
       "      <td>322192</td>\n",
       "      <td>0</td>\n",
       "      <td>3.376984</td>\n",
       "      <td>3.377056</td>\n",
       "      <td>write</td>\n",
       "      <td>0</td>\n",
       "      <td>3</td>\n",
       "      <td>/p/gpfs1/iopp/temp/cm1r20.3.2846827/config_fil...</td>\n",
       "      <td>...</td>\n",
       "      <td></td>\n",
       "      <td></td>\n",
       "      <td></td>\n",
       "      <td></td>\n",
       "      <td>0.000072</td>\n",
       "      <td>3.377020</td>\n",
       "      <td>/p/gpfs1/iopp/temp/cm1r20.3.2846827/config_fil...</td>\n",
       "      <td>2055.0</td>\n",
       "      <td>1.0</td>\n",
       "      <td>2.854071e+07</td>\n",
       "    </tr>\n",
       "    <tr>\n",
       "      <th>37</th>\n",
       "      <td>38</td>\n",
       "      <td>0</td>\n",
       "      <td>322192</td>\n",
       "      <td>0</td>\n",
       "      <td>5.628629</td>\n",
       "      <td>5.628732</td>\n",
       "      <td>write</td>\n",
       "      <td>0</td>\n",
       "      <td>3</td>\n",
       "      <td>/p/gpfs1/iopp/temp/cm1r20.3.2846827/config_fil...</td>\n",
       "      <td>...</td>\n",
       "      <td></td>\n",
       "      <td></td>\n",
       "      <td></td>\n",
       "      <td></td>\n",
       "      <td>0.000103</td>\n",
       "      <td>5.628681</td>\n",
       "      <td>/p/gpfs1/iopp/temp/cm1r20.3.2846827/config_fil...</td>\n",
       "      <td>5530.0</td>\n",
       "      <td>1.0</td>\n",
       "      <td>5.369097e+07</td>\n",
       "    </tr>\n",
       "    <tr>\n",
       "      <th>43</th>\n",
       "      <td>44</td>\n",
       "      <td>0</td>\n",
       "      <td>322192</td>\n",
       "      <td>0</td>\n",
       "      <td>5.633736</td>\n",
       "      <td>5.633796</td>\n",
       "      <td>write</td>\n",
       "      <td>0</td>\n",
       "      <td>3</td>\n",
       "      <td>/p/gpfs1/iopp/temp/cm1r20.3.2846827/config_fil...</td>\n",
       "      <td>...</td>\n",
       "      <td></td>\n",
       "      <td></td>\n",
       "      <td></td>\n",
       "      <td></td>\n",
       "      <td>0.000060</td>\n",
       "      <td>5.633766</td>\n",
       "      <td>/p/gpfs1/iopp/temp/cm1r20.3.2846827/config_fil...</td>\n",
       "      <td>272.0</td>\n",
       "      <td>1.0</td>\n",
       "      <td>4.527185e+06</td>\n",
       "    </tr>\n",
       "    <tr>\n",
       "      <th>49</th>\n",
       "      <td>50</td>\n",
       "      <td>0</td>\n",
       "      <td>322192</td>\n",
       "      <td>0</td>\n",
       "      <td>5.635682</td>\n",
       "      <td>5.635730</td>\n",
       "      <td>write</td>\n",
       "      <td>0</td>\n",
       "      <td>3</td>\n",
       "      <td>/p/gpfs1/iopp/temp/cm1r20.3.2846827/config_fil...</td>\n",
       "      <td>...</td>\n",
       "      <td></td>\n",
       "      <td></td>\n",
       "      <td></td>\n",
       "      <td></td>\n",
       "      <td>0.000048</td>\n",
       "      <td>5.635706</td>\n",
       "      <td>/p/gpfs1/iopp/temp/cm1r20.3.2846827/config_fil...</td>\n",
       "      <td>20.0</td>\n",
       "      <td>1.0</td>\n",
       "      <td>4.152776e+05</td>\n",
       "    </tr>\n",
       "  </tbody>\n",
       "</table>\n",
       "<p>5 rows × 25 columns</p>\n",
       "</div>"
      ],
      "text/plain": [
       "    index  rank  thread_id  cat    tstart      tend func_id  level  arg_count  \\\n",
       "11     12     0     322192    0  3.099647  3.099776   write      0          3   \n",
       "24     25     0     322192    0  3.376984  3.377056   write      0          3   \n",
       "37     38     0     322192    0  5.628629  5.628732   write      0          3   \n",
       "43     44     0     322192    0  5.633736  5.633796   write      0          3   \n",
       "49     50     0     322192    0  5.635682  5.635730   write      0          3   \n",
       "\n",
       "                                               args_1  ... args_7 args_8  \\\n",
       "11  /p/gpfs1/iopp/temp/cm1r20.3.2846827/config_fil...  ...                 \n",
       "24  /p/gpfs1/iopp/temp/cm1r20.3.2846827/config_fil...  ...                 \n",
       "37  /p/gpfs1/iopp/temp/cm1r20.3.2846827/config_fil...  ...                 \n",
       "43  /p/gpfs1/iopp/temp/cm1r20.3.2846827/config_fil...  ...                 \n",
       "49  /p/gpfs1/iopp/temp/cm1r20.3.2846827/config_fil...  ...                 \n",
       "\n",
       "   args_9 args_10  duration      tmid  \\\n",
       "11                 0.000129  3.099711   \n",
       "24                 0.000072  3.377020   \n",
       "37                 0.000103  5.628681   \n",
       "43                 0.000060  5.633766   \n",
       "49                 0.000048  5.635706   \n",
       "\n",
       "                                             filename      size count  \\\n",
       "11  /p/gpfs1/iopp/temp/cm1r20.3.2846827/config_fil...  122854.0   1.0   \n",
       "24  /p/gpfs1/iopp/temp/cm1r20.3.2846827/config_fil...    2055.0   1.0   \n",
       "37  /p/gpfs1/iopp/temp/cm1r20.3.2846827/config_fil...    5530.0   1.0   \n",
       "43  /p/gpfs1/iopp/temp/cm1r20.3.2846827/config_fil...     272.0   1.0   \n",
       "49  /p/gpfs1/iopp/temp/cm1r20.3.2846827/config_fil...      20.0   1.0   \n",
       "\n",
       "       bandwidth  \n",
       "11  9.524714e+08  \n",
       "24  2.854071e+07  \n",
       "37  5.369097e+07  \n",
       "43  4.527185e+06  \n",
       "49  4.152776e+05  \n",
       "\n",
       "[5 rows x 25 columns]"
      ]
     },
     "execution_count": 16,
     "metadata": {},
     "output_type": "execute_result"
    }
   ],
   "source": [
    "cm1_io_ddf_write.head()"
   ]
  },
  {
   "cell_type": "code",
   "execution_count": 17,
   "id": "5f085ec9",
   "metadata": {},
   "outputs": [
    {
     "data": {
      "text/html": [
       "<div>\n",
       "<style scoped>\n",
       "    .dataframe tbody tr th:only-of-type {\n",
       "        vertical-align: middle;\n",
       "    }\n",
       "\n",
       "    .dataframe tbody tr th {\n",
       "        vertical-align: top;\n",
       "    }\n",
       "\n",
       "    .dataframe thead th {\n",
       "        text-align: right;\n",
       "    }\n",
       "</style>\n",
       "<table border=\"1\" class=\"dataframe\">\n",
       "  <thead>\n",
       "    <tr style=\"text-align: right;\">\n",
       "      <th></th>\n",
       "      <th>index</th>\n",
       "      <th>rank</th>\n",
       "      <th>thread_id</th>\n",
       "      <th>cat</th>\n",
       "      <th>func_id</th>\n",
       "      <th>size</th>\n",
       "      <th>duration</th>\n",
       "      <th>bandwidth</th>\n",
       "    </tr>\n",
       "  </thead>\n",
       "  <tbody>\n",
       "  </tbody>\n",
       "</table>\n",
       "</div>"
      ],
      "text/plain": [
       "Empty DataFrame\n",
       "Columns: [index, rank, thread_id, cat, func_id, size, duration, bandwidth]\n",
       "Index: []"
      ]
     },
     "execution_count": 17,
     "metadata": {},
     "output_type": "execute_result"
    }
   ],
   "source": [
    "cm1_index_ddf = cm1_io_ddf_write[cm1_io_ddf_write['index'] == 30]\n",
    "cm1_index_ddf[['index', 'rank', 'thread_id', 'cat', 'func_id', 'size', 'duration', 'bandwidth']].compute()"
   ]
  },
  {
   "cell_type": "code",
   "execution_count": 18,
   "id": "27de2c9e",
   "metadata": {},
   "outputs": [
    {
     "data": {
      "text/html": [
       "<div>\n",
       "<style scoped>\n",
       "    .dataframe tbody tr th:only-of-type {\n",
       "        vertical-align: middle;\n",
       "    }\n",
       "\n",
       "    .dataframe tbody tr th {\n",
       "        vertical-align: top;\n",
       "    }\n",
       "\n",
       "    .dataframe thead th {\n",
       "        text-align: right;\n",
       "    }\n",
       "</style>\n",
       "<table border=\"1\" class=\"dataframe\">\n",
       "  <thead>\n",
       "    <tr style=\"text-align: right;\">\n",
       "      <th></th>\n",
       "      <th>index</th>\n",
       "      <th>thread_id</th>\n",
       "      <th>cat</th>\n",
       "      <th>tstart</th>\n",
       "      <th>tend</th>\n",
       "      <th>level</th>\n",
       "      <th>arg_count</th>\n",
       "      <th>duration</th>\n",
       "      <th>tmid</th>\n",
       "      <th>size</th>\n",
       "      <th>count</th>\n",
       "      <th>bandwidth</th>\n",
       "    </tr>\n",
       "    <tr>\n",
       "      <th>rank</th>\n",
       "      <th></th>\n",
       "      <th></th>\n",
       "      <th></th>\n",
       "      <th></th>\n",
       "      <th></th>\n",
       "      <th></th>\n",
       "      <th></th>\n",
       "      <th></th>\n",
       "      <th></th>\n",
       "      <th></th>\n",
       "      <th></th>\n",
       "      <th></th>\n",
       "    </tr>\n",
       "  </thead>\n",
       "  <tbody>\n",
       "    <tr>\n",
       "      <th>0</th>\n",
       "      <td>17361919</td>\n",
       "      <td>742008176</td>\n",
       "      <td>0</td>\n",
       "      <td>791691.625</td>\n",
       "      <td>791692.1875</td>\n",
       "      <td>0</td>\n",
       "      <td>6909</td>\n",
       "      <td>0.579684</td>\n",
       "      <td>791691.875</td>\n",
       "      <td>1.230853e+09</td>\n",
       "      <td>2303.0</td>\n",
       "      <td>1.225185e+12</td>\n",
       "    </tr>\n",
       "  </tbody>\n",
       "</table>\n",
       "</div>"
      ],
      "text/plain": [
       "         index  thread_id  cat      tstart         tend  level  arg_count  \\\n",
       "rank                                                                        \n",
       "0     17361919  742008176    0  791691.625  791692.1875      0       6909   \n",
       "\n",
       "      duration        tmid          size   count     bandwidth  \n",
       "rank                                                            \n",
       "0     0.579684  791691.875  1.230853e+09  2303.0  1.225185e+12  "
      ]
     },
     "execution_count": 18,
     "metadata": {},
     "output_type": "execute_result"
    }
   ],
   "source": [
    "cm1_io_ddf_write.groupby('rank').sum().compute()"
   ]
  },
  {
   "cell_type": "code",
   "execution_count": 19,
   "id": "d16bc39e",
   "metadata": {},
   "outputs": [
    {
     "data": {
      "text/plain": [
       "665.2058954238892"
      ]
     },
     "execution_count": 19,
     "metadata": {},
     "output_type": "execute_result"
    }
   ],
   "source": [
    "cm1_tend = cm1_io_ddf_write['tend'].max().compute()\n",
    "cm1_tstart = cm1_io_ddf_write['tstart'].min().compute()\n",
    "cm1_tend - cm1_tstart"
   ]
  },
  {
   "cell_type": "code",
   "execution_count": 20,
   "id": "ceb9745c",
   "metadata": {},
   "outputs": [
    {
     "data": {
      "text/plain": [
       "1230852944.0"
      ]
     },
     "execution_count": 20,
     "metadata": {},
     "output_type": "execute_result"
    }
   ],
   "source": [
    "cm1_total_size = cm1_io_ddf_write['size'].sum().compute()\n",
    "cm1_total_size"
   ]
  },
  {
   "cell_type": "code",
   "execution_count": 21,
   "id": "5e2fd154",
   "metadata": {},
   "outputs": [
    {
     "data": {
      "text/plain": [
       "0.0017232576269466933"
      ]
     },
     "execution_count": 21,
     "metadata": {},
     "output_type": "execute_result"
    }
   ],
   "source": [
    "(cm1_total_size/1024.0/1024.0/1024.0)/(cm1_tend - cm1_tstart)"
   ]
  },
  {
   "cell_type": "code",
   "execution_count": 22,
   "id": "04115034",
   "metadata": {},
   "outputs": [],
   "source": [
    "cm1_bw_max = cm1_io_ddf_write['bandwidth'].max().compute()\n",
    "cm1_bw_min = cm1_io_ddf_write['bandwidth'].min().compute()\n",
    "cm1_bw_avg = cm1_io_ddf_write['bandwidth'].mean().compute()"
   ]
  },
  {
   "cell_type": "code",
   "execution_count": 23,
   "id": "93b35d5e",
   "metadata": {},
   "outputs": [
    {
     "data": {
      "text/plain": [
       "(10.893617021276595, 0.0, 0.4954592155763255)"
      ]
     },
     "execution_count": 23,
     "metadata": {},
     "output_type": "execute_result"
    }
   ],
   "source": [
    "cm1_bw_max/1024.0/1024.0/1024.0, cm1_bw_min/1024.0/1024.0/1024.0, cm1_bw_avg/1024.0/1024.0/1024.0"
   ]
  },
  {
   "cell_type": "code",
   "execution_count": 24,
   "id": "b7d34d1e",
   "metadata": {},
   "outputs": [
    {
     "data": {
      "text/plain": [
       "[4, 6, 7, 10, 10, 3, 1, 4]\n",
       "Categories (10, int64): [1 < 2 < 3 < 4 ... 7 < 8 < 9 < 10]"
      ]
     },
     "execution_count": 24,
     "metadata": {},
     "output_type": "execute_result"
    }
   ],
   "source": [
    "import pandas as pd\n",
    "x = [0, 100, 200, 640, 800, 1400, 1600, 1280]\n",
    "x2 = [0.00037471, 0.0004455, 0.00051434, 0.00068318, 0.00065801, 0.0002929, 0.00017687, 0.00037471]\n",
    "pd.cut(x2, bins=10, labels=[1,2,3,4,5,6,7,8,9,10])"
   ]
  },
  {
   "cell_type": "code",
   "execution_count": 25,
   "id": "bacfbf23",
   "metadata": {},
   "outputs": [
    {
     "name": "stdout",
     "output_type": "stream",
     "text": [
      "0.025527239\n",
      "1\n"
     ]
    }
   ],
   "source": [
    "print(cm1_io_ddf_write.head(50)['duration'].sum())\n",
    "print(cm1_io_ddf_write.head(50)['rank'].nunique())"
   ]
  },
  {
   "cell_type": "code",
   "execution_count": 26,
   "id": "d5fbfeab",
   "metadata": {},
   "outputs": [
    {
     "name": "stdout",
     "output_type": "stream",
     "text": [
      "9.641438\n",
      "5\n"
     ]
    }
   ],
   "source": [
    "print(hacc_io_ddf_write.head(50)['duration'].sum())\n",
    "print(hacc_io_ddf_write.head(50)['rank'].nunique())"
   ]
  },
  {
   "cell_type": "code",
   "execution_count": 27,
   "id": "7ba86a4f",
   "metadata": {},
   "outputs": [
    {
     "data": {
      "text/plain": [
       "12800"
      ]
     },
     "execution_count": 27,
     "metadata": {},
     "output_type": "execute_result"
    }
   ],
   "source": [
    "hacc_io_ddf_write['index'].count().compute()"
   ]
  },
  {
   "cell_type": "code",
   "execution_count": 28,
   "id": "63293f3d",
   "metadata": {},
   "outputs": [
    {
     "name": "stdout",
     "output_type": "stream",
     "text": [
      "Max xfer size: 128.0\n",
      "Avg xfer size: 63.2\n"
     ]
    }
   ],
   "source": [
    "print('Max xfer size:', hacc_io_ddf_write['size'].max().compute()/1024.0/1024.0)\n",
    "print('Avg xfer size:', hacc_io_ddf_write['size'].mean().compute()/1024.0/1024.0)"
   ]
  },
  {
   "cell_type": "code",
   "execution_count": 29,
   "id": "9e53c484",
   "metadata": {},
   "outputs": [
    {
     "data": {
      "text/html": [
       "<div>\n",
       "<style scoped>\n",
       "    .dataframe tbody tr th:only-of-type {\n",
       "        vertical-align: middle;\n",
       "    }\n",
       "\n",
       "    .dataframe tbody tr th {\n",
       "        vertical-align: top;\n",
       "    }\n",
       "\n",
       "    .dataframe thead th {\n",
       "        text-align: right;\n",
       "    }\n",
       "</style>\n",
       "<table border=\"1\" class=\"dataframe\">\n",
       "  <thead>\n",
       "    <tr style=\"text-align: right;\">\n",
       "      <th></th>\n",
       "      <th>index</th>\n",
       "      <th>rank</th>\n",
       "      <th>thread_id</th>\n",
       "      <th>cat</th>\n",
       "      <th>tstart</th>\n",
       "      <th>tend</th>\n",
       "      <th>func_id</th>\n",
       "      <th>level</th>\n",
       "      <th>arg_count</th>\n",
       "      <th>args_1</th>\n",
       "      <th>...</th>\n",
       "      <th>args_8</th>\n",
       "      <th>args_9</th>\n",
       "      <th>args_10</th>\n",
       "      <th>duration</th>\n",
       "      <th>tmid</th>\n",
       "      <th>filename</th>\n",
       "      <th>size</th>\n",
       "      <th>count</th>\n",
       "      <th>bandwidth</th>\n",
       "      <th>xfer_size</th>\n",
       "    </tr>\n",
       "  </thead>\n",
       "  <tbody>\n",
       "    <tr>\n",
       "      <th>938</th>\n",
       "      <td>939</td>\n",
       "      <td>1279</td>\n",
       "      <td>312784</td>\n",
       "      <td>0</td>\n",
       "      <td>5.177905</td>\n",
       "      <td>5.442342</td>\n",
       "      <td>write</td>\n",
       "      <td>0</td>\n",
       "      <td>3</td>\n",
       "      <td>/p/gpfs1/iopp/temp/hacc_dir/test-Part00001279-...</td>\n",
       "      <td>...</td>\n",
       "      <td></td>\n",
       "      <td></td>\n",
       "      <td></td>\n",
       "      <td>0.264437</td>\n",
       "      <td>5.310123</td>\n",
       "      <td>/p/gpfs1/iopp/temp/hacc_dir/test-Part00001279-...</td>\n",
       "      <td>67108864.0</td>\n",
       "      <td>1.0</td>\n",
       "      <td>2.537804e+08</td>\n",
       "      <td>64MB</td>\n",
       "    </tr>\n",
       "    <tr>\n",
       "      <th>941</th>\n",
       "      <td>942</td>\n",
       "      <td>1279</td>\n",
       "      <td>312784</td>\n",
       "      <td>0</td>\n",
       "      <td>5.442410</td>\n",
       "      <td>5.454422</td>\n",
       "      <td>write</td>\n",
       "      <td>0</td>\n",
       "      <td>3</td>\n",
       "      <td>/p/gpfs1/iopp/temp/hacc_dir/test-Part00001279-...</td>\n",
       "      <td>...</td>\n",
       "      <td></td>\n",
       "      <td></td>\n",
       "      <td></td>\n",
       "      <td>0.012012</td>\n",
       "      <td>5.448416</td>\n",
       "      <td>/p/gpfs1/iopp/temp/hacc_dir/test-Part00001279-...</td>\n",
       "      <td>67108864.0</td>\n",
       "      <td>1.0</td>\n",
       "      <td>5.586816e+09</td>\n",
       "      <td>64MB</td>\n",
       "    </tr>\n",
       "    <tr>\n",
       "      <th>944</th>\n",
       "      <td>945</td>\n",
       "      <td>1279</td>\n",
       "      <td>312784</td>\n",
       "      <td>0</td>\n",
       "      <td>5.454483</td>\n",
       "      <td>5.554087</td>\n",
       "      <td>write</td>\n",
       "      <td>0</td>\n",
       "      <td>3</td>\n",
       "      <td>/p/gpfs1/iopp/temp/hacc_dir/test-Part00001279-...</td>\n",
       "      <td>...</td>\n",
       "      <td></td>\n",
       "      <td></td>\n",
       "      <td></td>\n",
       "      <td>0.099604</td>\n",
       "      <td>5.504285</td>\n",
       "      <td>/p/gpfs1/iopp/temp/hacc_dir/test-Part00001279-...</td>\n",
       "      <td>134217728.0</td>\n",
       "      <td>1.0</td>\n",
       "      <td>1.347512e+09</td>\n",
       "      <td>128MB</td>\n",
       "    </tr>\n",
       "    <tr>\n",
       "      <th>947</th>\n",
       "      <td>948</td>\n",
       "      <td>1279</td>\n",
       "      <td>312784</td>\n",
       "      <td>0</td>\n",
       "      <td>5.554137</td>\n",
       "      <td>5.614391</td>\n",
       "      <td>write</td>\n",
       "      <td>0</td>\n",
       "      <td>3</td>\n",
       "      <td>/p/gpfs1/iopp/temp/hacc_dir/test-Part00001279-...</td>\n",
       "      <td>...</td>\n",
       "      <td></td>\n",
       "      <td></td>\n",
       "      <td></td>\n",
       "      <td>0.060254</td>\n",
       "      <td>5.584264</td>\n",
       "      <td>/p/gpfs1/iopp/temp/hacc_dir/test-Part00001279-...</td>\n",
       "      <td>33554432.0</td>\n",
       "      <td>1.0</td>\n",
       "      <td>5.568822e+08</td>\n",
       "      <td>16MB</td>\n",
       "    </tr>\n",
       "    <tr>\n",
       "      <th>951</th>\n",
       "      <td>952</td>\n",
       "      <td>1279</td>\n",
       "      <td>312784</td>\n",
       "      <td>0</td>\n",
       "      <td>6.436961</td>\n",
       "      <td>6.443243</td>\n",
       "      <td>write</td>\n",
       "      <td>0</td>\n",
       "      <td>3</td>\n",
       "      <td>/p/gpfs1/iopp/temp/hacc_dir/test-Part00001279-...</td>\n",
       "      <td>...</td>\n",
       "      <td></td>\n",
       "      <td></td>\n",
       "      <td></td>\n",
       "      <td>0.006282</td>\n",
       "      <td>6.440102</td>\n",
       "      <td>/p/gpfs1/iopp/temp/hacc_dir/test-Part00001279-...</td>\n",
       "      <td>25165824.0</td>\n",
       "      <td>1.0</td>\n",
       "      <td>4.006115e+09</td>\n",
       "      <td>16MB</td>\n",
       "    </tr>\n",
       "  </tbody>\n",
       "</table>\n",
       "<p>5 rows × 26 columns</p>\n",
       "</div>"
      ],
      "text/plain": [
       "     index  rank  thread_id  cat    tstart      tend func_id  level  \\\n",
       "938    939  1279     312784    0  5.177905  5.442342   write      0   \n",
       "941    942  1279     312784    0  5.442410  5.454422   write      0   \n",
       "944    945  1279     312784    0  5.454483  5.554087   write      0   \n",
       "947    948  1279     312784    0  5.554137  5.614391   write      0   \n",
       "951    952  1279     312784    0  6.436961  6.443243   write      0   \n",
       "\n",
       "     arg_count                                             args_1  ... args_8  \\\n",
       "938          3  /p/gpfs1/iopp/temp/hacc_dir/test-Part00001279-...  ...          \n",
       "941          3  /p/gpfs1/iopp/temp/hacc_dir/test-Part00001279-...  ...          \n",
       "944          3  /p/gpfs1/iopp/temp/hacc_dir/test-Part00001279-...  ...          \n",
       "947          3  /p/gpfs1/iopp/temp/hacc_dir/test-Part00001279-...  ...          \n",
       "951          3  /p/gpfs1/iopp/temp/hacc_dir/test-Part00001279-...  ...          \n",
       "\n",
       "    args_9 args_10  duration      tmid  \\\n",
       "938                 0.264437  5.310123   \n",
       "941                 0.012012  5.448416   \n",
       "944                 0.099604  5.504285   \n",
       "947                 0.060254  5.584264   \n",
       "951                 0.006282  6.440102   \n",
       "\n",
       "                                              filename         size count  \\\n",
       "938  /p/gpfs1/iopp/temp/hacc_dir/test-Part00001279-...   67108864.0   1.0   \n",
       "941  /p/gpfs1/iopp/temp/hacc_dir/test-Part00001279-...   67108864.0   1.0   \n",
       "944  /p/gpfs1/iopp/temp/hacc_dir/test-Part00001279-...  134217728.0   1.0   \n",
       "947  /p/gpfs1/iopp/temp/hacc_dir/test-Part00001279-...   33554432.0   1.0   \n",
       "951  /p/gpfs1/iopp/temp/hacc_dir/test-Part00001279-...   25165824.0   1.0   \n",
       "\n",
       "        bandwidth  xfer_size  \n",
       "938  2.537804e+08       64MB  \n",
       "941  5.586816e+09       64MB  \n",
       "944  1.347512e+09      128MB  \n",
       "947  5.568822e+08       16MB  \n",
       "951  4.006115e+09       16MB  \n",
       "\n",
       "[5 rows x 26 columns]"
      ]
     },
     "execution_count": 29,
     "metadata": {},
     "output_type": "execute_result"
    }
   ],
   "source": [
    "import numpy as np\n",
    "xfer_size_labes = [\"0\", \"4KB\", \"16KB\", \"64KB\", \"256KB\", \"1MB\", \"4MB\", \"16MB\", \"64MB\", \"128MB\"]\n",
    "xfer_sizes = np.multiply([0, 4, 16, 64, 256, 1024, 4*1024, 16*1024, 64*1024, 128*1024], 1024.0)\n",
    "xfer_sizes_len = len(xfer_sizes)\n",
    "hacc_io_ddf_write['xfer_size'] = ''\n",
    "for xfer_size_i, xfer_size_start in enumerate(xfer_sizes):\n",
    "    if xfer_size_i == xfer_sizes_len - 1:\n",
    "        xfer_size_cond = hacc_io_ddf_write['size'].ge(xfer_size_start)\n",
    "        hacc_io_ddf_write['xfer_size'] = hacc_io_ddf_write['xfer_size'].mask(xfer_size_cond, xfer_size_labes[xfer_size_i])\n",
    "    else:\n",
    "        xfer_size_end = xfer_sizes[xfer_size_i + 1]\n",
    "        xfer_size_cond = hacc_io_ddf_write['size'].ge(xfer_size_start) & hacc_io_ddf_write['size'].lt(xfer_size_end)\n",
    "        hacc_io_ddf_write['xfer_size'] = hacc_io_ddf_write['xfer_size'].mask(xfer_size_cond, xfer_size_labes[xfer_size_i])\n",
    "hacc_io_ddf_write.tail()"
   ]
  },
  {
   "cell_type": "code",
   "execution_count": 30,
   "id": "a9f9f8d0",
   "metadata": {},
   "outputs": [
    {
     "data": {
      "text/plain": [
       "xfer_size\n",
       "128MB    1280\n",
       "16MB     2560\n",
       "64MB     8960\n",
       "Name: xfer_size, dtype: int64"
      ]
     },
     "execution_count": 30,
     "metadata": {},
     "output_type": "execute_result"
    }
   ],
   "source": [
    "hacc_io_ddf_write.groupby('xfer_size')['xfer_size'].count().compute()"
   ]
  },
  {
   "cell_type": "code",
   "execution_count": 31,
   "id": "a97aa298",
   "metadata": {},
   "outputs": [
    {
     "data": {
      "text/plain": [
       "2303"
      ]
     },
     "execution_count": 31,
     "metadata": {},
     "output_type": "execute_result"
    }
   ],
   "source": [
    "cm1_io_ddf_write['index'].count().compute()"
   ]
  },
  {
   "cell_type": "code",
   "execution_count": 32,
   "id": "86ae3808",
   "metadata": {},
   "outputs": [
    {
     "name": "stdout",
     "output_type": "stream",
     "text": [
      "Max xfer size: 16.0\n",
      "Avg xfer size: 0.5096972817914982\n"
     ]
    }
   ],
   "source": [
    "print('Max xfer size:', cm1_io_ddf_write['size'].max().compute()/1024.0/1024.0)\n",
    "print('Avg xfer size:', cm1_io_ddf_write['size'].mean().compute()/1024.0/1024.0)"
   ]
  },
  {
   "cell_type": "code",
   "execution_count": 33,
   "id": "9f1c8f2c",
   "metadata": {},
   "outputs": [
    {
     "data": {
      "text/html": [
       "<div>\n",
       "<style scoped>\n",
       "    .dataframe tbody tr th:only-of-type {\n",
       "        vertical-align: middle;\n",
       "    }\n",
       "\n",
       "    .dataframe tbody tr th {\n",
       "        vertical-align: top;\n",
       "    }\n",
       "\n",
       "    .dataframe thead th {\n",
       "        text-align: right;\n",
       "    }\n",
       "</style>\n",
       "<table border=\"1\" class=\"dataframe\">\n",
       "  <thead>\n",
       "    <tr style=\"text-align: right;\">\n",
       "      <th></th>\n",
       "      <th>index</th>\n",
       "      <th>rank</th>\n",
       "      <th>thread_id</th>\n",
       "      <th>cat</th>\n",
       "      <th>tstart</th>\n",
       "      <th>tend</th>\n",
       "      <th>func_id</th>\n",
       "      <th>level</th>\n",
       "      <th>arg_count</th>\n",
       "      <th>args_1</th>\n",
       "      <th>...</th>\n",
       "      <th>args_8</th>\n",
       "      <th>args_9</th>\n",
       "      <th>args_10</th>\n",
       "      <th>duration</th>\n",
       "      <th>tmid</th>\n",
       "      <th>filename</th>\n",
       "      <th>size</th>\n",
       "      <th>count</th>\n",
       "      <th>bandwidth</th>\n",
       "      <th>xfer_size</th>\n",
       "    </tr>\n",
       "  </thead>\n",
       "  <tbody>\n",
       "  </tbody>\n",
       "</table>\n",
       "<p>0 rows × 26 columns</p>\n",
       "</div>"
      ],
      "text/plain": [
       "Empty DataFrame\n",
       "Columns: [index, rank, thread_id, cat, tstart, tend, func_id, level, arg_count, args_1, args_2, args_3, args_4, args_5, args_6, args_7, args_8, args_9, args_10, duration, tmid, filename, size, count, bandwidth, xfer_size]\n",
       "Index: []\n",
       "\n",
       "[0 rows x 26 columns]"
      ]
     },
     "execution_count": 33,
     "metadata": {},
     "output_type": "execute_result"
    }
   ],
   "source": [
    "import numpy as np\n",
    "xfer_size_labes = [\"0\", \"4KB\", \"16KB\", \"64KB\", \"256KB\", \"1MB\", \"4MB\", \"16MB\", \"64MB\", \"128MB\"]\n",
    "xfer_sizes = np.multiply([0, 4, 16, 64, 256, 1024, 4*1024, 16*1024, 64*1024, 128*1024], 1024.0)\n",
    "xfer_sizes_len = len(xfer_sizes)\n",
    "cm1_io_ddf_write['xfer_size'] = ''\n",
    "for xfer_size_i, xfer_size_start in enumerate(xfer_sizes):\n",
    "    if xfer_size_i == xfer_sizes_len - 1:\n",
    "        xfer_size_cond = cm1_io_ddf_write['size'].ge(xfer_size_start)\n",
    "        cm1_io_ddf_write['xfer_size'] = cm1_io_ddf_write['xfer_size'].mask(xfer_size_cond, xfer_size_labes[xfer_size_i])\n",
    "    else:\n",
    "        xfer_size_end = xfer_sizes[xfer_size_i + 1]\n",
    "        xfer_size_cond = cm1_io_ddf_write['size'].ge(xfer_size_start) & cm1_io_ddf_write['size'].lt(xfer_size_end)\n",
    "        cm1_io_ddf_write['xfer_size'] = cm1_io_ddf_write['xfer_size'].mask(xfer_size_cond, xfer_size_labes[xfer_size_i])\n",
    "cm1_io_ddf_write.tail()"
   ]
  },
  {
   "cell_type": "code",
   "execution_count": 34,
   "id": "8eb67abf",
   "metadata": {},
   "outputs": [
    {
     "data": {
      "text/plain": [
       "xfer_size\n",
       "0         397\n",
       "16KB      722\n",
       "16MB       55\n",
       "256KB       7\n",
       "4KB      1092\n",
       "4MB        27\n",
       "64KB        3\n",
       "Name: xfer_size, dtype: int64"
      ]
     },
     "execution_count": 34,
     "metadata": {},
     "output_type": "execute_result"
    }
   ],
   "source": [
    "cm1_io_ddf_write.groupby('xfer_size')['xfer_size'].count().compute()"
   ]
  },
  {
   "cell_type": "code",
   "execution_count": 35,
   "id": "ef372014",
   "metadata": {},
   "outputs": [
    {
     "data": {
      "text/html": [
       "<div>\n",
       "<style scoped>\n",
       "    .dataframe tbody tr th:only-of-type {\n",
       "        vertical-align: middle;\n",
       "    }\n",
       "\n",
       "    .dataframe tbody tr th {\n",
       "        vertical-align: top;\n",
       "    }\n",
       "\n",
       "    .dataframe thead th {\n",
       "        text-align: right;\n",
       "    }\n",
       "</style>\n",
       "<table border=\"1\" class=\"dataframe\">\n",
       "  <thead>\n",
       "    <tr style=\"text-align: right;\">\n",
       "      <th></th>\n",
       "      <th>index</th>\n",
       "      <th>rank</th>\n",
       "      <th>thread_id</th>\n",
       "      <th>cat</th>\n",
       "      <th>tstart</th>\n",
       "      <th>tend</th>\n",
       "      <th>func_id</th>\n",
       "      <th>level</th>\n",
       "      <th>arg_count</th>\n",
       "      <th>args_1</th>\n",
       "      <th>...</th>\n",
       "      <th>args_7</th>\n",
       "      <th>args_8</th>\n",
       "      <th>args_9</th>\n",
       "      <th>args_10</th>\n",
       "      <th>duration</th>\n",
       "      <th>tmid</th>\n",
       "      <th>filename</th>\n",
       "      <th>size</th>\n",
       "      <th>count</th>\n",
       "      <th>bandwidth</th>\n",
       "    </tr>\n",
       "  </thead>\n",
       "  <tbody>\n",
       "    <tr>\n",
       "      <th>3</th>\n",
       "      <td>4</td>\n",
       "      <td>0</td>\n",
       "      <td>322192</td>\n",
       "      <td>0</td>\n",
       "      <td>2.823390</td>\n",
       "      <td>2.823399</td>\n",
       "      <td>read</td>\n",
       "      <td>0</td>\n",
       "      <td>3</td>\n",
       "      <td>/p/gpfs1/iopp/temp/cm1r20.3.2846827/config_fil...</td>\n",
       "      <td>...</td>\n",
       "      <td></td>\n",
       "      <td></td>\n",
       "      <td></td>\n",
       "      <td></td>\n",
       "      <td>0.000009</td>\n",
       "      <td>2.823394</td>\n",
       "      <td>/p/gpfs1/iopp/temp/cm1r20.3.2846827/config_fil...</td>\n",
       "      <td>16777216.0</td>\n",
       "      <td>1.0</td>\n",
       "      <td>1.851809e+12</td>\n",
       "    </tr>\n",
       "    <tr>\n",
       "      <th>16</th>\n",
       "      <td>17</td>\n",
       "      <td>0</td>\n",
       "      <td>322192</td>\n",
       "      <td>0</td>\n",
       "      <td>3.102013</td>\n",
       "      <td>3.102023</td>\n",
       "      <td>read</td>\n",
       "      <td>0</td>\n",
       "      <td>3</td>\n",
       "      <td>/p/gpfs1/iopp/temp/cm1r20.3.2846827/config_fil...</td>\n",
       "      <td>...</td>\n",
       "      <td></td>\n",
       "      <td></td>\n",
       "      <td></td>\n",
       "      <td></td>\n",
       "      <td>0.000010</td>\n",
       "      <td>3.102018</td>\n",
       "      <td>/p/gpfs1/iopp/temp/cm1r20.3.2846827/config_fil...</td>\n",
       "      <td>16777216.0</td>\n",
       "      <td>1.0</td>\n",
       "      <td>1.716311e+12</td>\n",
       "    </tr>\n",
       "    <tr>\n",
       "      <th>29</th>\n",
       "      <td>30</td>\n",
       "      <td>0</td>\n",
       "      <td>322192</td>\n",
       "      <td>0</td>\n",
       "      <td>3.413794</td>\n",
       "      <td>3.415101</td>\n",
       "      <td>read</td>\n",
       "      <td>0</td>\n",
       "      <td>3</td>\n",
       "      <td>/p/gpfs1/iopp/temp/cm1r20.3.2846827/config_fil...</td>\n",
       "      <td>...</td>\n",
       "      <td></td>\n",
       "      <td></td>\n",
       "      <td></td>\n",
       "      <td></td>\n",
       "      <td>0.001307</td>\n",
       "      <td>3.414447</td>\n",
       "      <td>/p/gpfs1/iopp/temp/cm1r20.3.2846827/config_fil...</td>\n",
       "      <td>16777216.0</td>\n",
       "      <td>1.0</td>\n",
       "      <td>1.283633e+10</td>\n",
       "    </tr>\n",
       "    <tr>\n",
       "      <th>15032</th>\n",
       "      <td>15033</td>\n",
       "      <td>1</td>\n",
       "      <td>322192</td>\n",
       "      <td>0</td>\n",
       "      <td>2.820954</td>\n",
       "      <td>2.820963</td>\n",
       "      <td>read</td>\n",
       "      <td>0</td>\n",
       "      <td>3</td>\n",
       "      <td>/p/gpfs1/iopp/temp/cm1r20.3.2846827/config_fil...</td>\n",
       "      <td>...</td>\n",
       "      <td></td>\n",
       "      <td></td>\n",
       "      <td></td>\n",
       "      <td></td>\n",
       "      <td>0.000009</td>\n",
       "      <td>2.820958</td>\n",
       "      <td>/p/gpfs1/iopp/temp/cm1r20.3.2846827/config_fil...</td>\n",
       "      <td>16777216.0</td>\n",
       "      <td>1.0</td>\n",
       "      <td>1.851809e+12</td>\n",
       "    </tr>\n",
       "    <tr>\n",
       "      <th>15038</th>\n",
       "      <td>15039</td>\n",
       "      <td>2</td>\n",
       "      <td>322192</td>\n",
       "      <td>0</td>\n",
       "      <td>2.813843</td>\n",
       "      <td>2.813853</td>\n",
       "      <td>read</td>\n",
       "      <td>0</td>\n",
       "      <td>3</td>\n",
       "      <td>/p/gpfs1/iopp/temp/cm1r20.3.2846827/config_fil...</td>\n",
       "      <td>...</td>\n",
       "      <td></td>\n",
       "      <td></td>\n",
       "      <td></td>\n",
       "      <td></td>\n",
       "      <td>0.000010</td>\n",
       "      <td>2.813848</td>\n",
       "      <td>/p/gpfs1/iopp/temp/cm1r20.3.2846827/config_fil...</td>\n",
       "      <td>16777216.0</td>\n",
       "      <td>1.0</td>\n",
       "      <td>1.675446e+12</td>\n",
       "    </tr>\n",
       "  </tbody>\n",
       "</table>\n",
       "<p>5 rows × 25 columns</p>\n",
       "</div>"
      ],
      "text/plain": [
       "       index  rank  thread_id  cat    tstart      tend func_id  level  \\\n",
       "3          4     0     322192    0  2.823390  2.823399    read      0   \n",
       "16        17     0     322192    0  3.102013  3.102023    read      0   \n",
       "29        30     0     322192    0  3.413794  3.415101    read      0   \n",
       "15032  15033     1     322192    0  2.820954  2.820963    read      0   \n",
       "15038  15039     2     322192    0  2.813843  2.813853    read      0   \n",
       "\n",
       "       arg_count                                             args_1  ...  \\\n",
       "3              3  /p/gpfs1/iopp/temp/cm1r20.3.2846827/config_fil...  ...   \n",
       "16             3  /p/gpfs1/iopp/temp/cm1r20.3.2846827/config_fil...  ...   \n",
       "29             3  /p/gpfs1/iopp/temp/cm1r20.3.2846827/config_fil...  ...   \n",
       "15032          3  /p/gpfs1/iopp/temp/cm1r20.3.2846827/config_fil...  ...   \n",
       "15038          3  /p/gpfs1/iopp/temp/cm1r20.3.2846827/config_fil...  ...   \n",
       "\n",
       "      args_7 args_8 args_9 args_10  duration      tmid  \\\n",
       "3                                   0.000009  2.823394   \n",
       "16                                  0.000010  3.102018   \n",
       "29                                  0.001307  3.414447   \n",
       "15032                               0.000009  2.820958   \n",
       "15038                               0.000010  2.813848   \n",
       "\n",
       "                                                filename        size count  \\\n",
       "3      /p/gpfs1/iopp/temp/cm1r20.3.2846827/config_fil...  16777216.0   1.0   \n",
       "16     /p/gpfs1/iopp/temp/cm1r20.3.2846827/config_fil...  16777216.0   1.0   \n",
       "29     /p/gpfs1/iopp/temp/cm1r20.3.2846827/config_fil...  16777216.0   1.0   \n",
       "15032  /p/gpfs1/iopp/temp/cm1r20.3.2846827/config_fil...  16777216.0   1.0   \n",
       "15038  /p/gpfs1/iopp/temp/cm1r20.3.2846827/config_fil...  16777216.0   1.0   \n",
       "\n",
       "          bandwidth  \n",
       "3      1.851809e+12  \n",
       "16     1.716311e+12  \n",
       "29     1.283633e+10  \n",
       "15032  1.851809e+12  \n",
       "15038  1.675446e+12  \n",
       "\n",
       "[5 rows x 25 columns]"
      ]
     },
     "execution_count": 35,
     "metadata": {},
     "output_type": "execute_result"
    }
   ],
   "source": [
    "cm1_io_ddf_read.head()"
   ]
  },
  {
   "cell_type": "code",
   "execution_count": 36,
   "id": "69d6aeec",
   "metadata": {},
   "outputs": [
    {
     "name": "stderr",
     "output_type": "stream",
     "text": [
      "/g/g92/izzet/projects/iopp/vani-analysis-tool/vani-venv/lib/python3.7/site-packages/dask/dataframe/core.py:7117: UserWarning: Insufficient elements for `head`. 5 elements requested, only 1 elements available. Try passing larger `npartitions` to `head`.\n",
      "  f\"Insufficient elements for `head`. {n} elements requested, only {len(r)} \"\n"
     ]
    },
    {
     "data": {
      "text/html": [
       "<div>\n",
       "<style scoped>\n",
       "    .dataframe tbody tr th:only-of-type {\n",
       "        vertical-align: middle;\n",
       "    }\n",
       "\n",
       "    .dataframe tbody tr th {\n",
       "        vertical-align: top;\n",
       "    }\n",
       "\n",
       "    .dataframe thead th {\n",
       "        text-align: right;\n",
       "    }\n",
       "</style>\n",
       "<table border=\"1\" class=\"dataframe\">\n",
       "  <thead>\n",
       "    <tr style=\"text-align: right;\">\n",
       "      <th></th>\n",
       "      <th>index</th>\n",
       "      <th>rank</th>\n",
       "      <th>thread_id</th>\n",
       "      <th>cat</th>\n",
       "      <th>tstart</th>\n",
       "      <th>tend</th>\n",
       "      <th>func_id</th>\n",
       "      <th>level</th>\n",
       "      <th>arg_count</th>\n",
       "      <th>args_1</th>\n",
       "      <th>...</th>\n",
       "      <th>args_7</th>\n",
       "      <th>args_8</th>\n",
       "      <th>args_9</th>\n",
       "      <th>args_10</th>\n",
       "      <th>duration</th>\n",
       "      <th>tmid</th>\n",
       "      <th>filename</th>\n",
       "      <th>size</th>\n",
       "      <th>count</th>\n",
       "      <th>bandwidth</th>\n",
       "    </tr>\n",
       "  </thead>\n",
       "  <tbody>\n",
       "    <tr>\n",
       "      <th>15056</th>\n",
       "      <td>15057</td>\n",
       "      <td>5</td>\n",
       "      <td>322192</td>\n",
       "      <td>0</td>\n",
       "      <td>2.801046</td>\n",
       "      <td>2.801055</td>\n",
       "      <td>read</td>\n",
       "      <td>0</td>\n",
       "      <td>3</td>\n",
       "      <td>/p/gpfs1/iopp/temp/cm1r20.3.2846827/config_fil...</td>\n",
       "      <td>...</td>\n",
       "      <td></td>\n",
       "      <td></td>\n",
       "      <td></td>\n",
       "      <td></td>\n",
       "      <td>0.000009</td>\n",
       "      <td>2.80105</td>\n",
       "      <td>/p/gpfs1/iopp/temp/cm1r20.3.2846827/config_fil...</td>\n",
       "      <td>16777216.0</td>\n",
       "      <td>1.0</td>\n",
       "      <td>1.851809e+12</td>\n",
       "    </tr>\n",
       "  </tbody>\n",
       "</table>\n",
       "<p>1 rows × 25 columns</p>\n",
       "</div>"
      ],
      "text/plain": [
       "       index  rank  thread_id  cat    tstart      tend func_id  level  \\\n",
       "15056  15057     5     322192    0  2.801046  2.801055    read      0   \n",
       "\n",
       "       arg_count                                             args_1  ...  \\\n",
       "15056          3  /p/gpfs1/iopp/temp/cm1r20.3.2846827/config_fil...  ...   \n",
       "\n",
       "      args_7 args_8 args_9 args_10  duration     tmid  \\\n",
       "15056                               0.000009  2.80105   \n",
       "\n",
       "                                                filename        size count  \\\n",
       "15056  /p/gpfs1/iopp/temp/cm1r20.3.2846827/config_fil...  16777216.0   1.0   \n",
       "\n",
       "          bandwidth  \n",
       "15056  1.851809e+12  \n",
       "\n",
       "[1 rows x 25 columns]"
      ]
     },
     "execution_count": 36,
     "metadata": {},
     "output_type": "execute_result"
    }
   ],
   "source": [
    "cm1_io_ddf_read[cm1_io_ddf_read['rank'] == 5].head()"
   ]
  },
  {
   "cell_type": "code",
   "execution_count": 37,
   "id": "5d0e5dd1",
   "metadata": {},
   "outputs": [
    {
     "data": {
      "text/plain": [
       "rank\n",
       "0       662700032.0\n",
       "1       662700032.0\n",
       "2       662700032.0\n",
       "3       662700032.0\n",
       "4       662700032.0\n",
       "           ...     \n",
       "1275    662700032.0\n",
       "1276    662700032.0\n",
       "1277    662700032.0\n",
       "1278    662700032.0\n",
       "1279    662700032.0\n",
       "Name: size, Length: 1280, dtype: float64"
      ]
     },
     "execution_count": 37,
     "metadata": {},
     "output_type": "execute_result"
    }
   ],
   "source": [
    "hacc_io_ddf_write.groupby('rank')['size'].sum().compute()"
   ]
  },
  {
   "cell_type": "code",
   "execution_count": 38,
   "id": "e850efbc",
   "metadata": {},
   "outputs": [
    {
     "data": {
      "text/plain": [
       "rank\n",
       "0       50331648.0\n",
       "1       16777216.0\n",
       "2       16777216.0\n",
       "3       16777216.0\n",
       "4       16777216.0\n",
       "           ...    \n",
       "1275    16777216.0\n",
       "1276    16777216.0\n",
       "1277    16777216.0\n",
       "1278    16777216.0\n",
       "1279    16777216.0\n",
       "Name: size, Length: 1280, dtype: float64"
      ]
     },
     "execution_count": 38,
     "metadata": {},
     "output_type": "execute_result"
    }
   ],
   "source": [
    "cm1_io_ddf_read.groupby('rank')['size'].sum().compute()"
   ]
  },
  {
   "cell_type": "code",
   "execution_count": 45,
   "id": "68d2d0d4",
   "metadata": {},
   "outputs": [
    {
     "data": {
      "text/html": [
       "<div>\n",
       "<style scoped>\n",
       "    .dataframe tbody tr th:only-of-type {\n",
       "        vertical-align: middle;\n",
       "    }\n",
       "\n",
       "    .dataframe tbody tr th {\n",
       "        vertical-align: top;\n",
       "    }\n",
       "\n",
       "    .dataframe thead th {\n",
       "        text-align: right;\n",
       "    }\n",
       "</style>\n",
       "<table border=\"1\" class=\"dataframe\">\n",
       "  <thead>\n",
       "    <tr style=\"text-align: right;\">\n",
       "      <th></th>\n",
       "      <th>index</th>\n",
       "      <th>rank</th>\n",
       "      <th>thread_id</th>\n",
       "      <th>cat</th>\n",
       "      <th>tstart</th>\n",
       "      <th>tend</th>\n",
       "      <th>func_id</th>\n",
       "      <th>level</th>\n",
       "      <th>arg_count</th>\n",
       "      <th>args_1</th>\n",
       "      <th>...</th>\n",
       "      <th>args_4</th>\n",
       "      <th>args_5</th>\n",
       "      <th>args_6</th>\n",
       "      <th>args_7</th>\n",
       "      <th>args_8</th>\n",
       "      <th>args_9</th>\n",
       "      <th>args_10</th>\n",
       "      <th>duration</th>\n",
       "      <th>tmid</th>\n",
       "      <th>filename</th>\n",
       "    </tr>\n",
       "  </thead>\n",
       "  <tbody>\n",
       "    <tr>\n",
       "      <th>4</th>\n",
       "      <td>5</td>\n",
       "      <td>0</td>\n",
       "      <td>312784</td>\n",
       "      <td>0</td>\n",
       "      <td>4.298360</td>\n",
       "      <td>4.298391</td>\n",
       "      <td>open</td>\n",
       "      <td>1</td>\n",
       "      <td>3</td>\n",
       "      <td>/dev/shm/job2154496201-35619-OMPI_COLL_IBM-0-c...</td>\n",
       "      <td>...</td>\n",
       "      <td></td>\n",
       "      <td></td>\n",
       "      <td></td>\n",
       "      <td></td>\n",
       "      <td></td>\n",
       "      <td></td>\n",
       "      <td></td>\n",
       "      <td>0.000031</td>\n",
       "      <td>4.298375</td>\n",
       "      <td>/dev/shm/job2154496201-35619-OMPI_COLL_IBM-0-c...</td>\n",
       "    </tr>\n",
       "    <tr>\n",
       "      <th>5</th>\n",
       "      <td>6</td>\n",
       "      <td>0</td>\n",
       "      <td>312784</td>\n",
       "      <td>0</td>\n",
       "      <td>4.298439</td>\n",
       "      <td>4.298456</td>\n",
       "      <td>open</td>\n",
       "      <td>1</td>\n",
       "      <td>2</td>\n",
       "      <td>/dev/shm/job2154496201-35619-OMPI_COLL_IBM-0-c...</td>\n",
       "      <td>...</td>\n",
       "      <td></td>\n",
       "      <td></td>\n",
       "      <td></td>\n",
       "      <td></td>\n",
       "      <td></td>\n",
       "      <td></td>\n",
       "      <td></td>\n",
       "      <td>0.000017</td>\n",
       "      <td>4.298448</td>\n",
       "      <td>/dev/shm/job2154496201-35619-OMPI_COLL_IBM-0-c...</td>\n",
       "    </tr>\n",
       "    <tr>\n",
       "      <th>6</th>\n",
       "      <td>7</td>\n",
       "      <td>0</td>\n",
       "      <td>312784</td>\n",
       "      <td>0</td>\n",
       "      <td>4.298470</td>\n",
       "      <td>4.298541</td>\n",
       "      <td>ftruncate</td>\n",
       "      <td>1</td>\n",
       "      <td>2</td>\n",
       "      <td>/dev/shm/job2154496201-35619-OMPI_COLL_IBM-0-c...</td>\n",
       "      <td>...</td>\n",
       "      <td></td>\n",
       "      <td></td>\n",
       "      <td></td>\n",
       "      <td></td>\n",
       "      <td></td>\n",
       "      <td></td>\n",
       "      <td></td>\n",
       "      <td>0.000070</td>\n",
       "      <td>4.298506</td>\n",
       "      <td></td>\n",
       "    </tr>\n",
       "    <tr>\n",
       "      <th>7</th>\n",
       "      <td>8</td>\n",
       "      <td>0</td>\n",
       "      <td>312784</td>\n",
       "      <td>0</td>\n",
       "      <td>4.298553</td>\n",
       "      <td>4.298555</td>\n",
       "      <td>close</td>\n",
       "      <td>1</td>\n",
       "      <td>1</td>\n",
       "      <td>/dev/shm/job2154496201-35619-OMPI_COLL_IBM-0-c...</td>\n",
       "      <td>...</td>\n",
       "      <td></td>\n",
       "      <td></td>\n",
       "      <td></td>\n",
       "      <td></td>\n",
       "      <td></td>\n",
       "      <td></td>\n",
       "      <td></td>\n",
       "      <td>0.000002</td>\n",
       "      <td>4.298553</td>\n",
       "      <td>/dev/shm/job2154496201-35619-OMPI_COLL_IBM-0-c...</td>\n",
       "    </tr>\n",
       "    <tr>\n",
       "      <th>8</th>\n",
       "      <td>9</td>\n",
       "      <td>0</td>\n",
       "      <td>312784</td>\n",
       "      <td>0</td>\n",
       "      <td>4.299555</td>\n",
       "      <td>4.299704</td>\n",
       "      <td>unlink</td>\n",
       "      <td>1</td>\n",
       "      <td>1</td>\n",
       "      <td>/dev/shm/job2154496201-35619-OMPI_COLL_IBM-0-c...</td>\n",
       "      <td>...</td>\n",
       "      <td></td>\n",
       "      <td></td>\n",
       "      <td></td>\n",
       "      <td></td>\n",
       "      <td></td>\n",
       "      <td></td>\n",
       "      <td></td>\n",
       "      <td>0.000149</td>\n",
       "      <td>4.299629</td>\n",
       "      <td></td>\n",
       "    </tr>\n",
       "  </tbody>\n",
       "</table>\n",
       "<p>5 rows × 22 columns</p>\n",
       "</div>"
      ],
      "text/plain": [
       "   index  rank  thread_id  cat    tstart      tend    func_id  level  \\\n",
       "4      5     0     312784    0  4.298360  4.298391       open      1   \n",
       "5      6     0     312784    0  4.298439  4.298456       open      1   \n",
       "6      7     0     312784    0  4.298470  4.298541  ftruncate      1   \n",
       "7      8     0     312784    0  4.298553  4.298555      close      1   \n",
       "8      9     0     312784    0  4.299555  4.299704     unlink      1   \n",
       "\n",
       "   arg_count                                             args_1  ... args_4  \\\n",
       "4          3  /dev/shm/job2154496201-35619-OMPI_COLL_IBM-0-c...  ...          \n",
       "5          2  /dev/shm/job2154496201-35619-OMPI_COLL_IBM-0-c...  ...          \n",
       "6          2  /dev/shm/job2154496201-35619-OMPI_COLL_IBM-0-c...  ...          \n",
       "7          1  /dev/shm/job2154496201-35619-OMPI_COLL_IBM-0-c...  ...          \n",
       "8          1  /dev/shm/job2154496201-35619-OMPI_COLL_IBM-0-c...  ...          \n",
       "\n",
       "  args_5 args_6 args_7 args_8 args_9 args_10  duration      tmid  \\\n",
       "4                                             0.000031  4.298375   \n",
       "5                                             0.000017  4.298448   \n",
       "6                                             0.000070  4.298506   \n",
       "7                                             0.000002  4.298553   \n",
       "8                                             0.000149  4.299629   \n",
       "\n",
       "                                            filename  \n",
       "4  /dev/shm/job2154496201-35619-OMPI_COLL_IBM-0-c...  \n",
       "5  /dev/shm/job2154496201-35619-OMPI_COLL_IBM-0-c...  \n",
       "6                                                     \n",
       "7  /dev/shm/job2154496201-35619-OMPI_COLL_IBM-0-c...  \n",
       "8                                                     \n",
       "\n",
       "[5 rows x 22 columns]"
      ]
     },
     "execution_count": 45,
     "metadata": {},
     "output_type": "execute_result"
    }
   ],
   "source": [
    "hacc_io_ddf_metadata.head()"
   ]
  },
  {
   "cell_type": "code",
   "execution_count": null,
   "id": "ee3d4a14",
   "metadata": {},
   "outputs": [],
   "source": []
  }
 ],
 "metadata": {
  "kernelspec": {
   "display_name": "Python 3.7.2 ('vani-venv': venv)",
   "language": "python",
   "name": "python3"
  },
  "language_info": {
   "codemirror_mode": {
    "name": "ipython",
    "version": 3
   },
   "file_extension": ".py",
   "mimetype": "text/x-python",
   "name": "python",
   "nbconvert_exporter": "python",
   "pygments_lexer": "ipython3",
   "version": "3.7.2"
  },
  "vscode": {
   "interpreter": {
    "hash": "ff6fd221dcfee2bcbbd7540eaccc49ab791772b49cbdf2ff6d7abe2d0b5714b9"
   }
  }
 },
 "nbformat": 4,
 "nbformat_minor": 5
}

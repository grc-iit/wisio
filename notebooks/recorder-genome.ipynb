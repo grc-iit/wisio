{
 "cells": [
  {
   "cell_type": "code",
   "execution_count": 1,
   "metadata": {},
   "outputs": [
    {
     "name": "stdout",
     "output_type": "stream",
     "text": [
      "time: 259 µs (started: 2023-10-08 21:03:53 -07:00)\n"
     ]
    }
   ],
   "source": [
    "%load_ext autoreload\n",
    "%load_ext autotime"
   ]
  },
  {
   "cell_type": "code",
   "execution_count": 2,
   "metadata": {},
   "outputs": [
    {
     "data": {
      "text/html": [
       "<div class=\"bk-root\">\n",
       "        <a href=\"https://bokeh.org\" target=\"_blank\" class=\"bk-logo bk-logo-small bk-logo-notebook\"></a>\n",
       "        <span id=\"1001\">Loading BokehJS ...</span>\n",
       "    </div>\n"
      ]
     },
     "metadata": {},
     "output_type": "display_data"
    },
    {
     "data": {
      "application/javascript": [
       "(function(root) {\n",
       "  function now() {\n",
       "    return new Date();\n",
       "  }\n",
       "\n",
       "  const force = true;\n",
       "\n",
       "  if (typeof root._bokeh_onload_callbacks === \"undefined\" || force === true) {\n",
       "    root._bokeh_onload_callbacks = [];\n",
       "    root._bokeh_is_loading = undefined;\n",
       "  }\n",
       "\n",
       "const JS_MIME_TYPE = 'application/javascript';\n",
       "  const HTML_MIME_TYPE = 'text/html';\n",
       "  const EXEC_MIME_TYPE = 'application/vnd.bokehjs_exec.v0+json';\n",
       "  const CLASS_NAME = 'output_bokeh rendered_html';\n",
       "\n",
       "  /**\n",
       "   * Render data to the DOM node\n",
       "   */\n",
       "  function render(props, node) {\n",
       "    const script = document.createElement(\"script\");\n",
       "    node.appendChild(script);\n",
       "  }\n",
       "\n",
       "  /**\n",
       "   * Handle when an output is cleared or removed\n",
       "   */\n",
       "  function handleClearOutput(event, handle) {\n",
       "    const cell = handle.cell;\n",
       "\n",
       "    const id = cell.output_area._bokeh_element_id;\n",
       "    const server_id = cell.output_area._bokeh_server_id;\n",
       "    // Clean up Bokeh references\n",
       "    if (id != null && id in Bokeh.index) {\n",
       "      Bokeh.index[id].model.document.clear();\n",
       "      delete Bokeh.index[id];\n",
       "    }\n",
       "\n",
       "    if (server_id !== undefined) {\n",
       "      // Clean up Bokeh references\n",
       "      const cmd_clean = \"from bokeh.io.state import curstate; print(curstate().uuid_to_server['\" + server_id + \"'].get_sessions()[0].document.roots[0]._id)\";\n",
       "      cell.notebook.kernel.execute(cmd_clean, {\n",
       "        iopub: {\n",
       "          output: function(msg) {\n",
       "            const id = msg.content.text.trim();\n",
       "            if (id in Bokeh.index) {\n",
       "              Bokeh.index[id].model.document.clear();\n",
       "              delete Bokeh.index[id];\n",
       "            }\n",
       "          }\n",
       "        }\n",
       "      });\n",
       "      // Destroy server and session\n",
       "      const cmd_destroy = \"import bokeh.io.notebook as ion; ion.destroy_server('\" + server_id + \"')\";\n",
       "      cell.notebook.kernel.execute(cmd_destroy);\n",
       "    }\n",
       "  }\n",
       "\n",
       "  /**\n",
       "   * Handle when a new output is added\n",
       "   */\n",
       "  function handleAddOutput(event, handle) {\n",
       "    const output_area = handle.output_area;\n",
       "    const output = handle.output;\n",
       "\n",
       "    // limit handleAddOutput to display_data with EXEC_MIME_TYPE content only\n",
       "    if ((output.output_type != \"display_data\") || (!Object.prototype.hasOwnProperty.call(output.data, EXEC_MIME_TYPE))) {\n",
       "      return\n",
       "    }\n",
       "\n",
       "    const toinsert = output_area.element.find(\".\" + CLASS_NAME.split(' ')[0]);\n",
       "\n",
       "    if (output.metadata[EXEC_MIME_TYPE][\"id\"] !== undefined) {\n",
       "      toinsert[toinsert.length - 1].firstChild.textContent = output.data[JS_MIME_TYPE];\n",
       "      // store reference to embed id on output_area\n",
       "      output_area._bokeh_element_id = output.metadata[EXEC_MIME_TYPE][\"id\"];\n",
       "    }\n",
       "    if (output.metadata[EXEC_MIME_TYPE][\"server_id\"] !== undefined) {\n",
       "      const bk_div = document.createElement(\"div\");\n",
       "      bk_div.innerHTML = output.data[HTML_MIME_TYPE];\n",
       "      const script_attrs = bk_div.children[0].attributes;\n",
       "      for (let i = 0; i < script_attrs.length; i++) {\n",
       "        toinsert[toinsert.length - 1].firstChild.setAttribute(script_attrs[i].name, script_attrs[i].value);\n",
       "        toinsert[toinsert.length - 1].firstChild.textContent = bk_div.children[0].textContent\n",
       "      }\n",
       "      // store reference to server id on output_area\n",
       "      output_area._bokeh_server_id = output.metadata[EXEC_MIME_TYPE][\"server_id\"];\n",
       "    }\n",
       "  }\n",
       "\n",
       "  function register_renderer(events, OutputArea) {\n",
       "\n",
       "    function append_mime(data, metadata, element) {\n",
       "      // create a DOM node to render to\n",
       "      const toinsert = this.create_output_subarea(\n",
       "        metadata,\n",
       "        CLASS_NAME,\n",
       "        EXEC_MIME_TYPE\n",
       "      );\n",
       "      this.keyboard_manager.register_events(toinsert);\n",
       "      // Render to node\n",
       "      const props = {data: data, metadata: metadata[EXEC_MIME_TYPE]};\n",
       "      render(props, toinsert[toinsert.length - 1]);\n",
       "      element.append(toinsert);\n",
       "      return toinsert\n",
       "    }\n",
       "\n",
       "    /* Handle when an output is cleared or removed */\n",
       "    events.on('clear_output.CodeCell', handleClearOutput);\n",
       "    events.on('delete.Cell', handleClearOutput);\n",
       "\n",
       "    /* Handle when a new output is added */\n",
       "    events.on('output_added.OutputArea', handleAddOutput);\n",
       "\n",
       "    /**\n",
       "     * Register the mime type and append_mime function with output_area\n",
       "     */\n",
       "    OutputArea.prototype.register_mime_type(EXEC_MIME_TYPE, append_mime, {\n",
       "      /* Is output safe? */\n",
       "      safe: true,\n",
       "      /* Index of renderer in `output_area.display_order` */\n",
       "      index: 0\n",
       "    });\n",
       "  }\n",
       "\n",
       "  // register the mime type if in Jupyter Notebook environment and previously unregistered\n",
       "  if (root.Jupyter !== undefined) {\n",
       "    const events = require('base/js/events');\n",
       "    const OutputArea = require('notebook/js/outputarea').OutputArea;\n",
       "\n",
       "    if (OutputArea.prototype.mime_types().indexOf(EXEC_MIME_TYPE) == -1) {\n",
       "      register_renderer(events, OutputArea);\n",
       "    }\n",
       "  }\n",
       "  if (typeof (root._bokeh_timeout) === \"undefined\" || force === true) {\n",
       "    root._bokeh_timeout = Date.now() + 5000;\n",
       "    root._bokeh_failed_load = false;\n",
       "  }\n",
       "\n",
       "  const NB_LOAD_WARNING = {'data': {'text/html':\n",
       "     \"<div style='background-color: #fdd'>\\n\"+\n",
       "     \"<p>\\n\"+\n",
       "     \"BokehJS does not appear to have successfully loaded. If loading BokehJS from CDN, this \\n\"+\n",
       "     \"may be due to a slow or bad network connection. Possible fixes:\\n\"+\n",
       "     \"</p>\\n\"+\n",
       "     \"<ul>\\n\"+\n",
       "     \"<li>re-rerun `output_notebook()` to attempt to load from CDN again, or</li>\\n\"+\n",
       "     \"<li>use INLINE resources instead, as so:</li>\\n\"+\n",
       "     \"</ul>\\n\"+\n",
       "     \"<code>\\n\"+\n",
       "     \"from bokeh.resources import INLINE\\n\"+\n",
       "     \"output_notebook(resources=INLINE)\\n\"+\n",
       "     \"</code>\\n\"+\n",
       "     \"</div>\"}};\n",
       "\n",
       "  function display_loaded() {\n",
       "    const el = document.getElementById(\"1001\");\n",
       "    if (el != null) {\n",
       "      el.textContent = \"BokehJS is loading...\";\n",
       "    }\n",
       "    if (root.Bokeh !== undefined) {\n",
       "      if (el != null) {\n",
       "        el.textContent = \"BokehJS \" + root.Bokeh.version + \" successfully loaded.\";\n",
       "      }\n",
       "    } else if (Date.now() < root._bokeh_timeout) {\n",
       "      setTimeout(display_loaded, 100)\n",
       "    }\n",
       "  }\n",
       "\n",
       "  function run_callbacks() {\n",
       "    try {\n",
       "      root._bokeh_onload_callbacks.forEach(function(callback) {\n",
       "        if (callback != null)\n",
       "          callback();\n",
       "      });\n",
       "    } finally {\n",
       "      delete root._bokeh_onload_callbacks\n",
       "    }\n",
       "    console.debug(\"Bokeh: all callbacks have finished\");\n",
       "  }\n",
       "\n",
       "  function load_libs(css_urls, js_urls, callback) {\n",
       "    if (css_urls == null) css_urls = [];\n",
       "    if (js_urls == null) js_urls = [];\n",
       "\n",
       "    root._bokeh_onload_callbacks.push(callback);\n",
       "    if (root._bokeh_is_loading > 0) {\n",
       "      console.debug(\"Bokeh: BokehJS is being loaded, scheduling callback at\", now());\n",
       "      return null;\n",
       "    }\n",
       "    if (js_urls == null || js_urls.length === 0) {\n",
       "      run_callbacks();\n",
       "      return null;\n",
       "    }\n",
       "    console.debug(\"Bokeh: BokehJS not loaded, scheduling load and callback at\", now());\n",
       "    root._bokeh_is_loading = css_urls.length + js_urls.length;\n",
       "\n",
       "    function on_load() {\n",
       "      root._bokeh_is_loading--;\n",
       "      if (root._bokeh_is_loading === 0) {\n",
       "        console.debug(\"Bokeh: all BokehJS libraries/stylesheets loaded\");\n",
       "        run_callbacks()\n",
       "      }\n",
       "    }\n",
       "\n",
       "    function on_error(url) {\n",
       "      console.error(\"failed to load \" + url);\n",
       "    }\n",
       "\n",
       "    for (let i = 0; i < css_urls.length; i++) {\n",
       "      const url = css_urls[i];\n",
       "      const element = document.createElement(\"link\");\n",
       "      element.onload = on_load;\n",
       "      element.onerror = on_error.bind(null, url);\n",
       "      element.rel = \"stylesheet\";\n",
       "      element.type = \"text/css\";\n",
       "      element.href = url;\n",
       "      console.debug(\"Bokeh: injecting link tag for BokehJS stylesheet: \", url);\n",
       "      document.body.appendChild(element);\n",
       "    }\n",
       "\n",
       "    for (let i = 0; i < js_urls.length; i++) {\n",
       "      const url = js_urls[i];\n",
       "      const element = document.createElement('script');\n",
       "      element.onload = on_load;\n",
       "      element.onerror = on_error.bind(null, url);\n",
       "      element.async = false;\n",
       "      element.src = url;\n",
       "      console.debug(\"Bokeh: injecting script tag for BokehJS library: \", url);\n",
       "      document.head.appendChild(element);\n",
       "    }\n",
       "  };\n",
       "\n",
       "  function inject_raw_css(css) {\n",
       "    const element = document.createElement(\"style\");\n",
       "    element.appendChild(document.createTextNode(css));\n",
       "    document.body.appendChild(element);\n",
       "  }\n",
       "\n",
       "  const js_urls = [\"https://cdn.bokeh.org/bokeh/release/bokeh-2.4.3.min.js\", \"https://cdn.bokeh.org/bokeh/release/bokeh-gl-2.4.3.min.js\", \"https://cdn.bokeh.org/bokeh/release/bokeh-widgets-2.4.3.min.js\", \"https://cdn.bokeh.org/bokeh/release/bokeh-tables-2.4.3.min.js\", \"https://cdn.bokeh.org/bokeh/release/bokeh-mathjax-2.4.3.min.js\"];\n",
       "  const css_urls = [];\n",
       "\n",
       "  const inline_js = [    function(Bokeh) {\n",
       "      Bokeh.set_log_level(\"info\");\n",
       "    },\n",
       "function(Bokeh) {\n",
       "    }\n",
       "  ];\n",
       "\n",
       "  function run_inline_js() {\n",
       "    if (root.Bokeh !== undefined || force === true) {\n",
       "          for (let i = 0; i < inline_js.length; i++) {\n",
       "      inline_js[i].call(root, root.Bokeh);\n",
       "    }\n",
       "if (force === true) {\n",
       "        display_loaded();\n",
       "      }} else if (Date.now() < root._bokeh_timeout) {\n",
       "      setTimeout(run_inline_js, 100);\n",
       "    } else if (!root._bokeh_failed_load) {\n",
       "      console.log(\"Bokeh: BokehJS failed to load within specified timeout.\");\n",
       "      root._bokeh_failed_load = true;\n",
       "    } else if (force !== true) {\n",
       "      const cell = $(document.getElementById(\"1001\")).parents('.cell').data().cell;\n",
       "      cell.output_area.append_execute_result(NB_LOAD_WARNING)\n",
       "    }\n",
       "  }\n",
       "\n",
       "  if (root._bokeh_is_loading === 0) {\n",
       "    console.debug(\"Bokeh: BokehJS loaded, going straight to plotting\");\n",
       "    run_inline_js();\n",
       "  } else {\n",
       "    load_libs(css_urls, js_urls, function() {\n",
       "      console.debug(\"Bokeh: BokehJS plotting callback run at\", now());\n",
       "      run_inline_js();\n",
       "    });\n",
       "  }\n",
       "}(window));"
      ],
      "application/vnd.bokehjs_load.v0+json": "(function(root) {\n  function now() {\n    return new Date();\n  }\n\n  const force = true;\n\n  if (typeof root._bokeh_onload_callbacks === \"undefined\" || force === true) {\n    root._bokeh_onload_callbacks = [];\n    root._bokeh_is_loading = undefined;\n  }\n\n\n  if (typeof (root._bokeh_timeout) === \"undefined\" || force === true) {\n    root._bokeh_timeout = Date.now() + 5000;\n    root._bokeh_failed_load = false;\n  }\n\n  const NB_LOAD_WARNING = {'data': {'text/html':\n     \"<div style='background-color: #fdd'>\\n\"+\n     \"<p>\\n\"+\n     \"BokehJS does not appear to have successfully loaded. If loading BokehJS from CDN, this \\n\"+\n     \"may be due to a slow or bad network connection. Possible fixes:\\n\"+\n     \"</p>\\n\"+\n     \"<ul>\\n\"+\n     \"<li>re-rerun `output_notebook()` to attempt to load from CDN again, or</li>\\n\"+\n     \"<li>use INLINE resources instead, as so:</li>\\n\"+\n     \"</ul>\\n\"+\n     \"<code>\\n\"+\n     \"from bokeh.resources import INLINE\\n\"+\n     \"output_notebook(resources=INLINE)\\n\"+\n     \"</code>\\n\"+\n     \"</div>\"}};\n\n  function display_loaded() {\n    const el = document.getElementById(\"1001\");\n    if (el != null) {\n      el.textContent = \"BokehJS is loading...\";\n    }\n    if (root.Bokeh !== undefined) {\n      if (el != null) {\n        el.textContent = \"BokehJS \" + root.Bokeh.version + \" successfully loaded.\";\n      }\n    } else if (Date.now() < root._bokeh_timeout) {\n      setTimeout(display_loaded, 100)\n    }\n  }\n\n  function run_callbacks() {\n    try {\n      root._bokeh_onload_callbacks.forEach(function(callback) {\n        if (callback != null)\n          callback();\n      });\n    } finally {\n      delete root._bokeh_onload_callbacks\n    }\n    console.debug(\"Bokeh: all callbacks have finished\");\n  }\n\n  function load_libs(css_urls, js_urls, callback) {\n    if (css_urls == null) css_urls = [];\n    if (js_urls == null) js_urls = [];\n\n    root._bokeh_onload_callbacks.push(callback);\n    if (root._bokeh_is_loading > 0) {\n      console.debug(\"Bokeh: BokehJS is being loaded, scheduling callback at\", now());\n      return null;\n    }\n    if (js_urls == null || js_urls.length === 0) {\n      run_callbacks();\n      return null;\n    }\n    console.debug(\"Bokeh: BokehJS not loaded, scheduling load and callback at\", now());\n    root._bokeh_is_loading = css_urls.length + js_urls.length;\n\n    function on_load() {\n      root._bokeh_is_loading--;\n      if (root._bokeh_is_loading === 0) {\n        console.debug(\"Bokeh: all BokehJS libraries/stylesheets loaded\");\n        run_callbacks()\n      }\n    }\n\n    function on_error(url) {\n      console.error(\"failed to load \" + url);\n    }\n\n    for (let i = 0; i < css_urls.length; i++) {\n      const url = css_urls[i];\n      const element = document.createElement(\"link\");\n      element.onload = on_load;\n      element.onerror = on_error.bind(null, url);\n      element.rel = \"stylesheet\";\n      element.type = \"text/css\";\n      element.href = url;\n      console.debug(\"Bokeh: injecting link tag for BokehJS stylesheet: \", url);\n      document.body.appendChild(element);\n    }\n\n    for (let i = 0; i < js_urls.length; i++) {\n      const url = js_urls[i];\n      const element = document.createElement('script');\n      element.onload = on_load;\n      element.onerror = on_error.bind(null, url);\n      element.async = false;\n      element.src = url;\n      console.debug(\"Bokeh: injecting script tag for BokehJS library: \", url);\n      document.head.appendChild(element);\n    }\n  };\n\n  function inject_raw_css(css) {\n    const element = document.createElement(\"style\");\n    element.appendChild(document.createTextNode(css));\n    document.body.appendChild(element);\n  }\n\n  const js_urls = [\"https://cdn.bokeh.org/bokeh/release/bokeh-2.4.3.min.js\", \"https://cdn.bokeh.org/bokeh/release/bokeh-gl-2.4.3.min.js\", \"https://cdn.bokeh.org/bokeh/release/bokeh-widgets-2.4.3.min.js\", \"https://cdn.bokeh.org/bokeh/release/bokeh-tables-2.4.3.min.js\", \"https://cdn.bokeh.org/bokeh/release/bokeh-mathjax-2.4.3.min.js\"];\n  const css_urls = [];\n\n  const inline_js = [    function(Bokeh) {\n      Bokeh.set_log_level(\"info\");\n    },\nfunction(Bokeh) {\n    }\n  ];\n\n  function run_inline_js() {\n    if (root.Bokeh !== undefined || force === true) {\n          for (let i = 0; i < inline_js.length; i++) {\n      inline_js[i].call(root, root.Bokeh);\n    }\nif (force === true) {\n        display_loaded();\n      }} else if (Date.now() < root._bokeh_timeout) {\n      setTimeout(run_inline_js, 100);\n    } else if (!root._bokeh_failed_load) {\n      console.log(\"Bokeh: BokehJS failed to load within specified timeout.\");\n      root._bokeh_failed_load = true;\n    } else if (force !== true) {\n      const cell = $(document.getElementById(\"1001\")).parents('.cell').data().cell;\n      cell.output_area.append_execute_result(NB_LOAD_WARNING)\n    }\n  }\n\n  if (root._bokeh_is_loading === 0) {\n    console.debug(\"Bokeh: BokehJS loaded, going straight to plotting\");\n    run_inline_js();\n  } else {\n    load_libs(css_urls, js_urls, function() {\n      console.debug(\"Bokeh: BokehJS plotting callback run at\", now());\n      run_inline_js();\n    });\n  }\n}(window));"
     },
     "metadata": {},
     "output_type": "display_data"
    },
    {
     "name": "stdout",
     "output_type": "stream",
     "text": [
      "time: 989 ms (started: 2023-10-08 21:03:53 -07:00)\n"
     ]
    }
   ],
   "source": [
    "import sys\n",
    "sys.path.append(\"../\")\n",
    "import warnings\n",
    "warnings.filterwarnings('ignore')\n",
    "from bokeh.io import output_notebook\n",
    "output_notebook()"
   ]
  },
  {
   "cell_type": "code",
   "execution_count": 3,
   "metadata": {},
   "outputs": [
    {
     "name": "stdout",
     "output_type": "stream",
     "text": [
      "pandas 1.5.3\n",
      "dask 2022.12.1\n",
      "numpy 1.21.0\n",
      "time: 498 ms (started: 2023-10-08 21:03:54 -07:00)\n"
     ]
    }
   ],
   "source": [
    "import csv\n",
    "import dask\n",
    "import dask.dataframe as dd\n",
    "import json\n",
    "import numpy as np\n",
    "import pandas as pd\n",
    "print('pandas', pd.__version__)\n",
    "print('dask', dask.__version__)\n",
    "print('numpy', np.__version__)"
   ]
  },
  {
   "cell_type": "code",
   "execution_count": 4,
   "metadata": {},
   "outputs": [
    {
     "data": {
      "text/plain": [
       "<wisio.recorder.RecorderAnalyzer at 0x2000302351c0>"
      ]
     },
     "execution_count": 4,
     "metadata": {},
     "output_type": "execute_result"
    },
    {
     "name": "stdout",
     "output_type": "stream",
     "text": [
      "time: 1.13 s (started: 2023-10-08 21:03:55 -07:00)\n"
     ]
    }
   ],
   "source": [
    "%autoreload 2\n",
    "\n",
    "from socket import gethostname\n",
    "from wisio.cluster_management import ClusterConfig\n",
    "from wisio.recorder import RecorderAnalyzer\n",
    "\n",
    "n_workers = 8\n",
    "trace_path = \"/p/vast1/iopp/recorder_app_logs/genome_pegasus/nodes-32/_parquet\"\n",
    "working_dir = '.wisio/recorder/genome'\n",
    "log_file = f\"{working_dir}/worker_logs/%J.log\"\n",
    "\n",
    "analyzer = RecorderAnalyzer(\n",
    "    checkpoint=False,\n",
    "    checkpoint_dir=f\"{trace_path}/_checkpoints13\",\n",
    "    cluster_config=ClusterConfig(\n",
    "        cluster_type='lsf',\n",
    "        dashboard_port=3616,\n",
    "        header_skip=['-n', '-R', '-M', '-P', '-W 00:30'],\n",
    "        host=gethostname(),\n",
    "        job_extra=[\n",
    "            '-nnodes 1', \n",
    "            '-G asccasc', \n",
    "            '-q pdebug', \n",
    "            '-W 120', \n",
    "            '-o {}'.format(log_file),\n",
    "            '-e {}'.format(log_file),\n",
    "        ],\n",
    "        local_dir='/var/tmp/wisio-recorder-cm1',\n",
    "        n_workers=n_workers,\n",
    "        n_threads_per_worker=16,\n",
    "        memory=n_workers * 200,\n",
    "        use_stdin=True,\n",
    "        verbose=True,\n",
    "    ),\n",
    "    working_dir=working_dir,\n",
    "    debug=True,\n",
    ")\n",
    "\n",
    "analyzer"
   ]
  },
  {
   "cell_type": "code",
   "execution_count": 5,
   "metadata": {
    "scrolled": false
   },
   "outputs": [
    {
     "data": {
      "text/html": [
       "<div>\n",
       "    <div style=\"width: 24px; height: 24px; background-color: #e1e1e1; border: 3px solid #9D9D9D; border-radius: 5px; position: absolute;\"> </div>\n",
       "    <div style=\"margin-left: 48px;\">\n",
       "        <h3 style=\"margin-bottom: 0px;\">Client</h3>\n",
       "        <p style=\"color: #9D9D9D; margin-bottom: 0px;\">Client-de2cc859-6658-11ee-ab21-70e28414902c</p>\n",
       "        <table style=\"width: 100%; text-align: left;\">\n",
       "\n",
       "        <tr>\n",
       "        \n",
       "            <td style=\"text-align: left;\"><strong>Connection method:</strong> Cluster object</td>\n",
       "            <td style=\"text-align: left;\"><strong>Cluster type:</strong> dask_jobqueue.LSFCluster</td>\n",
       "        \n",
       "        </tr>\n",
       "\n",
       "        \n",
       "            <tr>\n",
       "                <td style=\"text-align: left;\">\n",
       "                    <strong>Dashboard: </strong> <a href=\"http://192.168.66.200:3616/status\" target=\"_blank\">http://192.168.66.200:3616/status</a>\n",
       "                </td>\n",
       "                <td style=\"text-align: left;\"></td>\n",
       "            </tr>\n",
       "        \n",
       "\n",
       "        </table>\n",
       "\n",
       "        \n",
       "\n",
       "        \n",
       "            <details>\n",
       "            <summary style=\"margin-bottom: 20px;\"><h3 style=\"display: inline;\">Cluster Info</h3></summary>\n",
       "            <div class=\"jp-RenderedHTMLCommon jp-RenderedHTML jp-mod-trusted jp-OutputArea-output\">\n",
       "    <div style=\"width: 24px; height: 24px; background-color: #e1e1e1; border: 3px solid #9D9D9D; border-radius: 5px; position: absolute;\">\n",
       "    </div>\n",
       "    <div style=\"margin-left: 48px;\">\n",
       "        <h3 style=\"margin-bottom: 0px; margin-top: 0px;\">LSFCluster</h3>\n",
       "        <p style=\"color: #9D9D9D; margin-bottom: 0px;\">95eeaec9</p>\n",
       "        <table style=\"width: 100%; text-align: left;\">\n",
       "            <tr>\n",
       "                <td style=\"text-align: left;\">\n",
       "                    <strong>Dashboard:</strong> <a href=\"http://192.168.66.200:3616/status\" target=\"_blank\">http://192.168.66.200:3616/status</a>\n",
       "                </td>\n",
       "                <td style=\"text-align: left;\">\n",
       "                    <strong>Workers:</strong> 0\n",
       "                </td>\n",
       "            </tr>\n",
       "            <tr>\n",
       "                <td style=\"text-align: left;\">\n",
       "                    <strong>Total threads:</strong> 0\n",
       "                </td>\n",
       "                <td style=\"text-align: left;\">\n",
       "                    <strong>Total memory:</strong> 0 B\n",
       "                </td>\n",
       "            </tr>\n",
       "            \n",
       "        </table>\n",
       "\n",
       "        <details>\n",
       "            <summary style=\"margin-bottom: 20px;\">\n",
       "                <h3 style=\"display: inline;\">Scheduler Info</h3>\n",
       "            </summary>\n",
       "\n",
       "            <div style=\"\">\n",
       "    <div>\n",
       "        <div style=\"width: 24px; height: 24px; background-color: #FFF7E5; border: 3px solid #FF6132; border-radius: 5px; position: absolute;\"> </div>\n",
       "        <div style=\"margin-left: 48px;\">\n",
       "            <h3 style=\"margin-bottom: 0px;\">Scheduler</h3>\n",
       "            <p style=\"color: #9D9D9D; margin-bottom: 0px;\">Scheduler-9cfdf943-4994-4a37-a6c5-59605ddcb91e</p>\n",
       "            <table style=\"width: 100%; text-align: left;\">\n",
       "                <tr>\n",
       "                    <td style=\"text-align: left;\">\n",
       "                        <strong>Comm:</strong> tcp://192.168.66.200:42585\n",
       "                    </td>\n",
       "                    <td style=\"text-align: left;\">\n",
       "                        <strong>Workers:</strong> 0\n",
       "                    </td>\n",
       "                </tr>\n",
       "                <tr>\n",
       "                    <td style=\"text-align: left;\">\n",
       "                        <strong>Dashboard:</strong> <a href=\"http://192.168.66.200:3616/status\" target=\"_blank\">http://192.168.66.200:3616/status</a>\n",
       "                    </td>\n",
       "                    <td style=\"text-align: left;\">\n",
       "                        <strong>Total threads:</strong> 0\n",
       "                    </td>\n",
       "                </tr>\n",
       "                <tr>\n",
       "                    <td style=\"text-align: left;\">\n",
       "                        <strong>Started:</strong> Just now\n",
       "                    </td>\n",
       "                    <td style=\"text-align: left;\">\n",
       "                        <strong>Total memory:</strong> 0 B\n",
       "                    </td>\n",
       "                </tr>\n",
       "            </table>\n",
       "        </div>\n",
       "    </div>\n",
       "\n",
       "    <details style=\"margin-left: 48px;\">\n",
       "        <summary style=\"margin-bottom: 20px;\">\n",
       "            <h3 style=\"display: inline;\">Workers</h3>\n",
       "        </summary>\n",
       "\n",
       "        \n",
       "\n",
       "    </details>\n",
       "</div>\n",
       "\n",
       "        </details>\n",
       "    </div>\n",
       "</div>\n",
       "            </details>\n",
       "        \n",
       "\n",
       "    </div>\n",
       "</div>"
      ],
      "text/plain": [
       "<Client: 'tcp://192.168.66.200:42585' processes=0 threads=0, memory=0 B>"
      ]
     },
     "execution_count": 5,
     "metadata": {},
     "output_type": "execute_result"
    },
    {
     "name": "stdout",
     "output_type": "stream",
     "text": [
      "time: 34.1 ms (started: 2023-10-08 21:03:56 -07:00)\n"
     ]
    }
   ],
   "source": [
    "analyzer.cluster_manager.client"
   ]
  },
  {
   "cell_type": "code",
   "execution_count": 6,
   "metadata": {},
   "outputs": [
    {
     "name": "stdout",
     "output_type": "stream",
     "text": [
      "computing hlm 2023-10-08 20:22:32.821974\n"
     ]
    },
    {
     "data": {
      "text/html": [
       "<div><strong>Dask DataFrame Structure:</strong></div>\n",
       "<div>\n",
       "<style scoped>\n",
       "    .dataframe tbody tr th:only-of-type {\n",
       "        vertical-align: middle;\n",
       "    }\n",
       "\n",
       "    .dataframe tbody tr th {\n",
       "        vertical-align: top;\n",
       "    }\n",
       "\n",
       "    .dataframe thead th {\n",
       "        text-align: right;\n",
       "    }\n",
       "</style>\n",
       "<table border=\"1\" class=\"dataframe\">\n",
       "  <thead>\n",
       "    <tr style=\"text-align: right;\">\n",
       "      <th></th>\n",
       "      <th>time_range</th>\n",
       "      <th>file_name</th>\n",
       "      <th>proc_name</th>\n",
       "      <th>io_cat</th>\n",
       "      <th>acc_pat</th>\n",
       "      <th>func_id</th>\n",
       "      <th>duration_sum</th>\n",
       "      <th>index_count</th>\n",
       "      <th>size_min</th>\n",
       "      <th>size_max</th>\n",
       "      <th>size_sum</th>\n",
       "    </tr>\n",
       "    <tr>\n",
       "      <th>npartitions=175</th>\n",
       "      <th></th>\n",
       "      <th></th>\n",
       "      <th></th>\n",
       "      <th></th>\n",
       "      <th></th>\n",
       "      <th></th>\n",
       "      <th></th>\n",
       "      <th></th>\n",
       "      <th></th>\n",
       "      <th></th>\n",
       "      <th></th>\n",
       "    </tr>\n",
       "  </thead>\n",
       "  <tbody>\n",
       "    <tr>\n",
       "      <th></th>\n",
       "      <td>int64</td>\n",
       "      <td>object</td>\n",
       "      <td>object</td>\n",
       "      <td>uint64</td>\n",
       "      <td>uint64</td>\n",
       "      <td>object</td>\n",
       "      <td>float64</td>\n",
       "      <td>int64</td>\n",
       "      <td>int64</td>\n",
       "      <td>int64</td>\n",
       "      <td>int64</td>\n",
       "    </tr>\n",
       "    <tr>\n",
       "      <th></th>\n",
       "      <td>...</td>\n",
       "      <td>...</td>\n",
       "      <td>...</td>\n",
       "      <td>...</td>\n",
       "      <td>...</td>\n",
       "      <td>...</td>\n",
       "      <td>...</td>\n",
       "      <td>...</td>\n",
       "      <td>...</td>\n",
       "      <td>...</td>\n",
       "      <td>...</td>\n",
       "    </tr>\n",
       "    <tr>\n",
       "      <th>...</th>\n",
       "      <td>...</td>\n",
       "      <td>...</td>\n",
       "      <td>...</td>\n",
       "      <td>...</td>\n",
       "      <td>...</td>\n",
       "      <td>...</td>\n",
       "      <td>...</td>\n",
       "      <td>...</td>\n",
       "      <td>...</td>\n",
       "      <td>...</td>\n",
       "      <td>...</td>\n",
       "    </tr>\n",
       "    <tr>\n",
       "      <th></th>\n",
       "      <td>...</td>\n",
       "      <td>...</td>\n",
       "      <td>...</td>\n",
       "      <td>...</td>\n",
       "      <td>...</td>\n",
       "      <td>...</td>\n",
       "      <td>...</td>\n",
       "      <td>...</td>\n",
       "      <td>...</td>\n",
       "      <td>...</td>\n",
       "      <td>...</td>\n",
       "    </tr>\n",
       "    <tr>\n",
       "      <th></th>\n",
       "      <td>...</td>\n",
       "      <td>...</td>\n",
       "      <td>...</td>\n",
       "      <td>...</td>\n",
       "      <td>...</td>\n",
       "      <td>...</td>\n",
       "      <td>...</td>\n",
       "      <td>...</td>\n",
       "      <td>...</td>\n",
       "      <td>...</td>\n",
       "      <td>...</td>\n",
       "    </tr>\n",
       "  </tbody>\n",
       "</table>\n",
       "</div>\n",
       "<div>Dask Name: rename, 2 graph layers</div>"
      ],
      "text/plain": [
       "Dask DataFrame Structure:\n",
       "                time_range file_name proc_name  io_cat acc_pat func_id duration_sum index_count size_min size_max size_sum\n",
       "npartitions=175                                                                                                           \n",
       "                     int64    object    object  uint64  uint64  object      float64       int64    int64    int64    int64\n",
       "                       ...       ...       ...     ...     ...     ...          ...         ...      ...      ...      ...\n",
       "...                    ...       ...       ...     ...     ...     ...          ...         ...      ...      ...      ...\n",
       "                       ...       ...       ...     ...     ...     ...          ...         ...      ...      ...      ...\n",
       "                       ...       ...       ...     ...     ...     ...          ...         ...      ...      ...      ...\n",
       "Dask Name: rename, 2 graph layers"
      ]
     },
     "execution_count": 6,
     "metadata": {},
     "output_type": "execute_result"
    },
    {
     "name": "stdout",
     "output_type": "stream",
     "text": [
      "time: 9min 6s (started: 2023-10-08 20:22:32 -07:00)\n"
     ]
    }
   ],
   "source": [
    "from wisio._recorder.analysis import compute_high_level_metrics\n",
    "from wisio._recorder.constants import VIEW_TYPES\n",
    "\n",
    "global_min_max = analyzer.load_global_min_max(trace_path=trace_path)\n",
    "\n",
    "hlm = compute_high_level_metrics(\n",
    "    trace_path=trace_path,\n",
    "    global_min_max=global_min_max,\n",
    "    view_types=VIEW_TYPES,\n",
    ")\n",
    "\n",
    "hlm"
   ]
  },
  {
   "cell_type": "code",
   "execution_count": 7,
   "metadata": {},
   "outputs": [
    {
     "name": "stdout",
     "output_type": "stream",
     "text": [
      "time: 9min 21s (started: 2023-10-08 20:31:42 -07:00)\n"
     ]
    }
   ],
   "source": [
    "from dask.distributed import wait\n",
    "\n",
    "_ = wait(hlm)"
   ]
  },
  {
   "cell_type": "code",
   "execution_count": 8,
   "metadata": {},
   "outputs": [
    {
     "data": {
      "text/plain": [
       "175"
      ]
     },
     "execution_count": 8,
     "metadata": {},
     "output_type": "execute_result"
    },
    {
     "name": "stdout",
     "output_type": "stream",
     "text": [
      "time: 3.09 ms (started: 2023-10-08 20:43:07 -07:00)\n"
     ]
    }
   ],
   "source": [
    "hlm.npartitions"
   ]
  },
  {
   "cell_type": "code",
   "execution_count": 9,
   "metadata": {},
   "outputs": [
    {
     "name": "stdout",
     "output_type": "stream",
     "text": [
      "time: 36.1 s (started: 2023-10-08 20:43:54 -07:00)\n"
     ]
    }
   ],
   "source": [
    "hlm.to_parquet('tmp/genome-hlm', compute=True, write_metadata_file=True)"
   ]
  },
  {
   "cell_type": "code",
   "execution_count": 6,
   "metadata": {},
   "outputs": [
    {
     "data": {
      "text/html": [
       "<div><strong>Dask DataFrame Structure:</strong></div>\n",
       "<div>\n",
       "<style scoped>\n",
       "    .dataframe tbody tr th:only-of-type {\n",
       "        vertical-align: middle;\n",
       "    }\n",
       "\n",
       "    .dataframe tbody tr th {\n",
       "        vertical-align: top;\n",
       "    }\n",
       "\n",
       "    .dataframe thead th {\n",
       "        text-align: right;\n",
       "    }\n",
       "</style>\n",
       "<table border=\"1\" class=\"dataframe\">\n",
       "  <thead>\n",
       "    <tr style=\"text-align: right;\">\n",
       "      <th></th>\n",
       "      <th>time_range</th>\n",
       "      <th>file_name</th>\n",
       "      <th>proc_name</th>\n",
       "      <th>io_cat</th>\n",
       "      <th>acc_pat</th>\n",
       "      <th>func_id</th>\n",
       "      <th>duration_sum</th>\n",
       "      <th>index_count</th>\n",
       "      <th>size_min</th>\n",
       "      <th>size_max</th>\n",
       "      <th>size_sum</th>\n",
       "    </tr>\n",
       "    <tr>\n",
       "      <th>npartitions=175</th>\n",
       "      <th></th>\n",
       "      <th></th>\n",
       "      <th></th>\n",
       "      <th></th>\n",
       "      <th></th>\n",
       "      <th></th>\n",
       "      <th></th>\n",
       "      <th></th>\n",
       "      <th></th>\n",
       "      <th></th>\n",
       "      <th></th>\n",
       "    </tr>\n",
       "  </thead>\n",
       "  <tbody>\n",
       "    <tr>\n",
       "      <th></th>\n",
       "      <td>int64</td>\n",
       "      <td>object</td>\n",
       "      <td>object</td>\n",
       "      <td>uint64</td>\n",
       "      <td>uint64</td>\n",
       "      <td>object</td>\n",
       "      <td>float64</td>\n",
       "      <td>int64</td>\n",
       "      <td>int64</td>\n",
       "      <td>int64</td>\n",
       "      <td>int64</td>\n",
       "    </tr>\n",
       "    <tr>\n",
       "      <th></th>\n",
       "      <td>...</td>\n",
       "      <td>...</td>\n",
       "      <td>...</td>\n",
       "      <td>...</td>\n",
       "      <td>...</td>\n",
       "      <td>...</td>\n",
       "      <td>...</td>\n",
       "      <td>...</td>\n",
       "      <td>...</td>\n",
       "      <td>...</td>\n",
       "      <td>...</td>\n",
       "    </tr>\n",
       "    <tr>\n",
       "      <th>...</th>\n",
       "      <td>...</td>\n",
       "      <td>...</td>\n",
       "      <td>...</td>\n",
       "      <td>...</td>\n",
       "      <td>...</td>\n",
       "      <td>...</td>\n",
       "      <td>...</td>\n",
       "      <td>...</td>\n",
       "      <td>...</td>\n",
       "      <td>...</td>\n",
       "      <td>...</td>\n",
       "    </tr>\n",
       "    <tr>\n",
       "      <th></th>\n",
       "      <td>...</td>\n",
       "      <td>...</td>\n",
       "      <td>...</td>\n",
       "      <td>...</td>\n",
       "      <td>...</td>\n",
       "      <td>...</td>\n",
       "      <td>...</td>\n",
       "      <td>...</td>\n",
       "      <td>...</td>\n",
       "      <td>...</td>\n",
       "      <td>...</td>\n",
       "    </tr>\n",
       "    <tr>\n",
       "      <th></th>\n",
       "      <td>...</td>\n",
       "      <td>...</td>\n",
       "      <td>...</td>\n",
       "      <td>...</td>\n",
       "      <td>...</td>\n",
       "      <td>...</td>\n",
       "      <td>...</td>\n",
       "      <td>...</td>\n",
       "      <td>...</td>\n",
       "      <td>...</td>\n",
       "      <td>...</td>\n",
       "    </tr>\n",
       "  </tbody>\n",
       "</table>\n",
       "</div>\n",
       "<div>Dask Name: read-parquet, 1 graph layer</div>"
      ],
      "text/plain": [
       "Dask DataFrame Structure:\n",
       "                time_range file_name proc_name  io_cat acc_pat func_id duration_sum index_count size_min size_max size_sum\n",
       "npartitions=175                                                                                                           \n",
       "                     int64    object    object  uint64  uint64  object      float64       int64    int64    int64    int64\n",
       "                       ...       ...       ...     ...     ...     ...          ...         ...      ...      ...      ...\n",
       "...                    ...       ...       ...     ...     ...     ...          ...         ...      ...      ...      ...\n",
       "                       ...       ...       ...     ...     ...     ...          ...         ...      ...      ...      ...\n",
       "                       ...       ...       ...     ...     ...     ...          ...         ...      ...      ...      ...\n",
       "Dask Name: read-parquet, 1 graph layer"
      ]
     },
     "execution_count": 6,
     "metadata": {},
     "output_type": "execute_result"
    },
    {
     "name": "stdout",
     "output_type": "stream",
     "text": [
      "time: 122 ms (started: 2023-10-08 21:04:43 -07:00)\n"
     ]
    }
   ],
   "source": [
    "hlm = dd.read_parquet('tmp/genome-hlm')\n",
    "hlm"
   ]
  },
  {
   "cell_type": "code",
   "execution_count": 7,
   "metadata": {},
   "outputs": [
    {
     "ename": "KilledWorker",
     "evalue": "Attempted to run task ('assign-567e3940f1032c33838d0b4ad5dead07', 79) on 3 different workers, but all those workers died while running it. The last worker that attempt to run the task was tcp://192.168.64.33:37535. Inspecting worker logs is often a good next step to diagnose what went wrong. For more information see https://distributed.dask.org/en/stable/killed.html.",
     "output_type": "error",
     "traceback": [
      "\u001b[0;31m---------------------------------------------------------------------------\u001b[0m",
      "\u001b[0;31mKilledWorker\u001b[0m                              Traceback (most recent call last)",
      "Cell \u001b[0;32mIn[7], line 8\u001b[0m\n\u001b[1;32m      6\u001b[0m hlm2 \u001b[38;5;241m=\u001b[39m _set_derived_columns(ddf\u001b[38;5;241m=\u001b[39mhlm)\n\u001b[1;32m      7\u001b[0m \u001b[38;5;66;03m# Compute agg_view\u001b[39;00m\n\u001b[0;32m----> 8\u001b[0m main_view \u001b[38;5;241m=\u001b[39m \u001b[43mhlm2\u001b[49m\u001b[43m \u001b[49m\u001b[43m\\\u001b[49m\n\u001b[1;32m      9\u001b[0m \u001b[43m    \u001b[49m\u001b[38;5;241;43m.\u001b[39;49m\u001b[43mdrop\u001b[49m\u001b[43m(\u001b[49m\u001b[43mcolumns\u001b[49m\u001b[38;5;241;43m=\u001b[39;49m\u001b[43mEXTRA_COLS\u001b[49m\u001b[43m)\u001b[49m\u001b[43m \u001b[49m\u001b[43m\\\u001b[49m\n\u001b[1;32m     10\u001b[0m \u001b[43m    \u001b[49m\u001b[38;5;241;43m.\u001b[39;49m\u001b[43mgroupby\u001b[49m\u001b[43m(\u001b[49m\u001b[43mVIEW_TYPES\u001b[49m\u001b[43m)\u001b[49m\u001b[43m \u001b[49m\u001b[43m\\\u001b[49m\n\u001b[1;32m     11\u001b[0m \u001b[43m    \u001b[49m\u001b[38;5;241;43m.\u001b[39;49m\u001b[43msum\u001b[49m\u001b[43m(\u001b[49m\u001b[43msplit_out\u001b[49m\u001b[38;5;241;43m=\u001b[39;49m\u001b[43mhlm\u001b[49m\u001b[38;5;241;43m.\u001b[39;49m\u001b[43mnpartitions\u001b[49m\u001b[43m)\u001b[49m\u001b[43m \u001b[49m\u001b[43m\\\u001b[49m\n\u001b[1;32m     12\u001b[0m \u001b[43m    \u001b[49m\u001b[38;5;241;43m.\u001b[39;49m\u001b[43mrepartition\u001b[49m\u001b[43m(\u001b[49m\u001b[38;5;124;43m'\u001b[39;49m\u001b[38;5;124;43m256MB\u001b[39;49m\u001b[38;5;124;43m'\u001b[39;49m\u001b[43m)\u001b[49m \\\n\u001b[1;32m     13\u001b[0m     \u001b[38;5;241m.\u001b[39mpersist()\n\u001b[1;32m     14\u001b[0m \u001b[38;5;66;03m# main_view = hlm2 \\\u001b[39;00m\n\u001b[1;32m     15\u001b[0m \u001b[38;5;66;03m#     .drop(columns=EXTRA_COLS) \\\u001b[39;00m\n\u001b[1;32m     16\u001b[0m \u001b[38;5;66;03m#     .groupby(VIEW_TYPES) \\\u001b[39;00m\n\u001b[1;32m     17\u001b[0m \u001b[38;5;66;03m#     .sum(split_out=math.ceil(math.sqrt(hlm.npartitions))) \\\u001b[39;00m\n\u001b[1;32m     18\u001b[0m \u001b[38;5;66;03m#     .persist()\u001b[39;00m\n\u001b[1;32m     19\u001b[0m \u001b[38;5;66;03m# Set hashed ids\u001b[39;00m\n\u001b[1;32m     20\u001b[0m main_view[\u001b[38;5;124m'\u001b[39m\u001b[38;5;124mid\u001b[39m\u001b[38;5;124m'\u001b[39m] \u001b[38;5;241m=\u001b[39m main_view\u001b[38;5;241m.\u001b[39mindex\u001b[38;5;241m.\u001b[39mmap(\u001b[38;5;28mhash\u001b[39m)\n",
      "File \u001b[0;32m/usr/workspace/iopp/anaconda-lassen/envs/wisio_lassen/lib/python3.9/site-packages/dask/dataframe/core.py:1461\u001b[0m, in \u001b[0;36m_Frame.repartition\u001b[0;34m(self, divisions, npartitions, partition_size, freq, force)\u001b[0m\n\u001b[1;32m   1455\u001b[0m     \u001b[38;5;28;01mraise\u001b[39;00m \u001b[38;5;167;01mValueError\u001b[39;00m(\n\u001b[1;32m   1456\u001b[0m         \u001b[38;5;124m\"\u001b[39m\u001b[38;5;124mPlease provide exactly one of ``npartitions=``, ``freq=``, \u001b[39m\u001b[38;5;124m\"\u001b[39m\n\u001b[1;32m   1457\u001b[0m         \u001b[38;5;124m\"\u001b[39m\u001b[38;5;124m``divisions=``, ``partition_size=`` keyword arguments\u001b[39m\u001b[38;5;124m\"\u001b[39m\n\u001b[1;32m   1458\u001b[0m     )\n\u001b[1;32m   1460\u001b[0m \u001b[38;5;28;01mif\u001b[39;00m partition_size \u001b[38;5;129;01mis\u001b[39;00m \u001b[38;5;129;01mnot\u001b[39;00m \u001b[38;5;28;01mNone\u001b[39;00m:\n\u001b[0;32m-> 1461\u001b[0m     \u001b[38;5;28;01mreturn\u001b[39;00m \u001b[43mrepartition_size\u001b[49m\u001b[43m(\u001b[49m\u001b[38;5;28;43mself\u001b[39;49m\u001b[43m,\u001b[49m\u001b[43m \u001b[49m\u001b[43mpartition_size\u001b[49m\u001b[43m)\u001b[49m\n\u001b[1;32m   1462\u001b[0m \u001b[38;5;28;01melif\u001b[39;00m npartitions \u001b[38;5;129;01mis\u001b[39;00m \u001b[38;5;129;01mnot\u001b[39;00m \u001b[38;5;28;01mNone\u001b[39;00m:\n\u001b[1;32m   1463\u001b[0m     \u001b[38;5;28;01mreturn\u001b[39;00m repartition_npartitions(\u001b[38;5;28mself\u001b[39m, npartitions)\n",
      "File \u001b[0;32m/usr/workspace/iopp/anaconda-lassen/envs/wisio_lassen/lib/python3.9/site-packages/dask/dataframe/core.py:7453\u001b[0m, in \u001b[0;36mrepartition_size\u001b[0;34m(df, size)\u001b[0m\n\u001b[1;32m   7450\u001b[0m     size \u001b[38;5;241m=\u001b[39m parse_bytes(size)\n\u001b[1;32m   7451\u001b[0m size \u001b[38;5;241m=\u001b[39m \u001b[38;5;28mint\u001b[39m(size)\n\u001b[0;32m-> 7453\u001b[0m mem_usages \u001b[38;5;241m=\u001b[39m \u001b[43mdf\u001b[49m\u001b[38;5;241;43m.\u001b[39;49m\u001b[43mmap_partitions\u001b[49m\u001b[43m(\u001b[49m\u001b[43mtotal_mem_usage\u001b[49m\u001b[43m,\u001b[49m\u001b[43m \u001b[49m\u001b[43mdeep\u001b[49m\u001b[38;5;241;43m=\u001b[39;49m\u001b[38;5;28;43;01mTrue\u001b[39;49;00m\u001b[43m)\u001b[49m\u001b[38;5;241;43m.\u001b[39;49m\u001b[43mcompute\u001b[49m\u001b[43m(\u001b[49m\u001b[43m)\u001b[49m\n\u001b[1;32m   7455\u001b[0m \u001b[38;5;66;03m# 1. split each partition that is larger than partition_size\u001b[39;00m\n\u001b[1;32m   7456\u001b[0m nsplits \u001b[38;5;241m=\u001b[39m \u001b[38;5;241m1\u001b[39m \u001b[38;5;241m+\u001b[39m mem_usages \u001b[38;5;241m/\u001b[39m\u001b[38;5;241m/\u001b[39m size\n",
      "File \u001b[0;32m/usr/workspace/iopp/anaconda-lassen/envs/wisio_lassen/lib/python3.9/site-packages/dask/base.py:315\u001b[0m, in \u001b[0;36mDaskMethodsMixin.compute\u001b[0;34m(self, **kwargs)\u001b[0m\n\u001b[1;32m    291\u001b[0m \u001b[38;5;28;01mdef\u001b[39;00m \u001b[38;5;21mcompute\u001b[39m(\u001b[38;5;28mself\u001b[39m, \u001b[38;5;241m*\u001b[39m\u001b[38;5;241m*\u001b[39mkwargs):\n\u001b[1;32m    292\u001b[0m \u001b[38;5;250m    \u001b[39m\u001b[38;5;124;03m\"\"\"Compute this dask collection\u001b[39;00m\n\u001b[1;32m    293\u001b[0m \n\u001b[1;32m    294\u001b[0m \u001b[38;5;124;03m    This turns a lazy Dask collection into its in-memory equivalent.\u001b[39;00m\n\u001b[0;32m   (...)\u001b[0m\n\u001b[1;32m    313\u001b[0m \u001b[38;5;124;03m    dask.base.compute\u001b[39;00m\n\u001b[1;32m    314\u001b[0m \u001b[38;5;124;03m    \"\"\"\u001b[39;00m\n\u001b[0;32m--> 315\u001b[0m     (result,) \u001b[38;5;241m=\u001b[39m \u001b[43mcompute\u001b[49m\u001b[43m(\u001b[49m\u001b[38;5;28;43mself\u001b[39;49m\u001b[43m,\u001b[49m\u001b[43m \u001b[49m\u001b[43mtraverse\u001b[49m\u001b[38;5;241;43m=\u001b[39;49m\u001b[38;5;28;43;01mFalse\u001b[39;49;00m\u001b[43m,\u001b[49m\u001b[43m \u001b[49m\u001b[38;5;241;43m*\u001b[39;49m\u001b[38;5;241;43m*\u001b[39;49m\u001b[43mkwargs\u001b[49m\u001b[43m)\u001b[49m\n\u001b[1;32m    316\u001b[0m     \u001b[38;5;28;01mreturn\u001b[39;00m result\n",
      "File \u001b[0;32m/usr/workspace/iopp/anaconda-lassen/envs/wisio_lassen/lib/python3.9/site-packages/dask/base.py:600\u001b[0m, in \u001b[0;36mcompute\u001b[0;34m(traverse, optimize_graph, scheduler, get, *args, **kwargs)\u001b[0m\n\u001b[1;32m    597\u001b[0m     keys\u001b[38;5;241m.\u001b[39mappend(x\u001b[38;5;241m.\u001b[39m__dask_keys__())\n\u001b[1;32m    598\u001b[0m     postcomputes\u001b[38;5;241m.\u001b[39mappend(x\u001b[38;5;241m.\u001b[39m__dask_postcompute__())\n\u001b[0;32m--> 600\u001b[0m results \u001b[38;5;241m=\u001b[39m \u001b[43mschedule\u001b[49m\u001b[43m(\u001b[49m\u001b[43mdsk\u001b[49m\u001b[43m,\u001b[49m\u001b[43m \u001b[49m\u001b[43mkeys\u001b[49m\u001b[43m,\u001b[49m\u001b[43m \u001b[49m\u001b[38;5;241;43m*\u001b[39;49m\u001b[38;5;241;43m*\u001b[39;49m\u001b[43mkwargs\u001b[49m\u001b[43m)\u001b[49m\n\u001b[1;32m    601\u001b[0m \u001b[38;5;28;01mreturn\u001b[39;00m repack([f(r, \u001b[38;5;241m*\u001b[39ma) \u001b[38;5;28;01mfor\u001b[39;00m r, (f, a) \u001b[38;5;129;01min\u001b[39;00m \u001b[38;5;28mzip\u001b[39m(results, postcomputes)])\n",
      "File \u001b[0;32m/usr/workspace/iopp/anaconda-lassen/envs/wisio_lassen/lib/python3.9/site-packages/distributed/client.py:3125\u001b[0m, in \u001b[0;36mClient.get\u001b[0;34m(self, dsk, keys, workers, allow_other_workers, resources, sync, asynchronous, direct, retries, priority, fifo_timeout, actors, **kwargs)\u001b[0m\n\u001b[1;32m   3123\u001b[0m         should_rejoin \u001b[38;5;241m=\u001b[39m \u001b[38;5;28;01mFalse\u001b[39;00m\n\u001b[1;32m   3124\u001b[0m \u001b[38;5;28;01mtry\u001b[39;00m:\n\u001b[0;32m-> 3125\u001b[0m     results \u001b[38;5;241m=\u001b[39m \u001b[38;5;28;43mself\u001b[39;49m\u001b[38;5;241;43m.\u001b[39;49m\u001b[43mgather\u001b[49m\u001b[43m(\u001b[49m\u001b[43mpacked\u001b[49m\u001b[43m,\u001b[49m\u001b[43m \u001b[49m\u001b[43masynchronous\u001b[49m\u001b[38;5;241;43m=\u001b[39;49m\u001b[43masynchronous\u001b[49m\u001b[43m,\u001b[49m\u001b[43m \u001b[49m\u001b[43mdirect\u001b[49m\u001b[38;5;241;43m=\u001b[39;49m\u001b[43mdirect\u001b[49m\u001b[43m)\u001b[49m\n\u001b[1;32m   3126\u001b[0m \u001b[38;5;28;01mfinally\u001b[39;00m:\n\u001b[1;32m   3127\u001b[0m     \u001b[38;5;28;01mfor\u001b[39;00m f \u001b[38;5;129;01min\u001b[39;00m futures\u001b[38;5;241m.\u001b[39mvalues():\n",
      "File \u001b[0;32m/usr/workspace/iopp/anaconda-lassen/envs/wisio_lassen/lib/python3.9/site-packages/distributed/client.py:2294\u001b[0m, in \u001b[0;36mClient.gather\u001b[0;34m(self, futures, errors, direct, asynchronous)\u001b[0m\n\u001b[1;32m   2292\u001b[0m \u001b[38;5;28;01melse\u001b[39;00m:\n\u001b[1;32m   2293\u001b[0m     local_worker \u001b[38;5;241m=\u001b[39m \u001b[38;5;28;01mNone\u001b[39;00m\n\u001b[0;32m-> 2294\u001b[0m \u001b[38;5;28;01mreturn\u001b[39;00m \u001b[38;5;28;43mself\u001b[39;49m\u001b[38;5;241;43m.\u001b[39;49m\u001b[43msync\u001b[49m\u001b[43m(\u001b[49m\n\u001b[1;32m   2295\u001b[0m \u001b[43m    \u001b[49m\u001b[38;5;28;43mself\u001b[39;49m\u001b[38;5;241;43m.\u001b[39;49m\u001b[43m_gather\u001b[49m\u001b[43m,\u001b[49m\n\u001b[1;32m   2296\u001b[0m \u001b[43m    \u001b[49m\u001b[43mfutures\u001b[49m\u001b[43m,\u001b[49m\n\u001b[1;32m   2297\u001b[0m \u001b[43m    \u001b[49m\u001b[43merrors\u001b[49m\u001b[38;5;241;43m=\u001b[39;49m\u001b[43merrors\u001b[49m\u001b[43m,\u001b[49m\n\u001b[1;32m   2298\u001b[0m \u001b[43m    \u001b[49m\u001b[43mdirect\u001b[49m\u001b[38;5;241;43m=\u001b[39;49m\u001b[43mdirect\u001b[49m\u001b[43m,\u001b[49m\n\u001b[1;32m   2299\u001b[0m \u001b[43m    \u001b[49m\u001b[43mlocal_worker\u001b[49m\u001b[38;5;241;43m=\u001b[39;49m\u001b[43mlocal_worker\u001b[49m\u001b[43m,\u001b[49m\n\u001b[1;32m   2300\u001b[0m \u001b[43m    \u001b[49m\u001b[43masynchronous\u001b[49m\u001b[38;5;241;43m=\u001b[39;49m\u001b[43masynchronous\u001b[49m\u001b[43m,\u001b[49m\n\u001b[1;32m   2301\u001b[0m \u001b[43m\u001b[49m\u001b[43m)\u001b[49m\n",
      "File \u001b[0;32m/usr/workspace/iopp/anaconda-lassen/envs/wisio_lassen/lib/python3.9/site-packages/distributed/utils.py:339\u001b[0m, in \u001b[0;36mSyncMethodMixin.sync\u001b[0;34m(self, func, asynchronous, callback_timeout, *args, **kwargs)\u001b[0m\n\u001b[1;32m    337\u001b[0m     \u001b[38;5;28;01mreturn\u001b[39;00m future\n\u001b[1;32m    338\u001b[0m \u001b[38;5;28;01melse\u001b[39;00m:\n\u001b[0;32m--> 339\u001b[0m     \u001b[38;5;28;01mreturn\u001b[39;00m \u001b[43msync\u001b[49m\u001b[43m(\u001b[49m\n\u001b[1;32m    340\u001b[0m \u001b[43m        \u001b[49m\u001b[38;5;28;43mself\u001b[39;49m\u001b[38;5;241;43m.\u001b[39;49m\u001b[43mloop\u001b[49m\u001b[43m,\u001b[49m\u001b[43m \u001b[49m\u001b[43mfunc\u001b[49m\u001b[43m,\u001b[49m\u001b[43m \u001b[49m\u001b[38;5;241;43m*\u001b[39;49m\u001b[43margs\u001b[49m\u001b[43m,\u001b[49m\u001b[43m \u001b[49m\u001b[43mcallback_timeout\u001b[49m\u001b[38;5;241;43m=\u001b[39;49m\u001b[43mcallback_timeout\u001b[49m\u001b[43m,\u001b[49m\u001b[43m \u001b[49m\u001b[38;5;241;43m*\u001b[39;49m\u001b[38;5;241;43m*\u001b[39;49m\u001b[43mkwargs\u001b[49m\n\u001b[1;32m    341\u001b[0m \u001b[43m    \u001b[49m\u001b[43m)\u001b[49m\n",
      "File \u001b[0;32m/usr/workspace/iopp/anaconda-lassen/envs/wisio_lassen/lib/python3.9/site-packages/distributed/utils.py:406\u001b[0m, in \u001b[0;36msync\u001b[0;34m(loop, func, callback_timeout, *args, **kwargs)\u001b[0m\n\u001b[1;32m    404\u001b[0m \u001b[38;5;28;01mif\u001b[39;00m error:\n\u001b[1;32m    405\u001b[0m     typ, exc, tb \u001b[38;5;241m=\u001b[39m error\n\u001b[0;32m--> 406\u001b[0m     \u001b[38;5;28;01mraise\u001b[39;00m exc\u001b[38;5;241m.\u001b[39mwith_traceback(tb)\n\u001b[1;32m    407\u001b[0m \u001b[38;5;28;01melse\u001b[39;00m:\n\u001b[1;32m    408\u001b[0m     \u001b[38;5;28;01mreturn\u001b[39;00m result\n",
      "File \u001b[0;32m/usr/workspace/iopp/anaconda-lassen/envs/wisio_lassen/lib/python3.9/site-packages/distributed/utils.py:379\u001b[0m, in \u001b[0;36msync.<locals>.f\u001b[0;34m()\u001b[0m\n\u001b[1;32m    377\u001b[0m         future \u001b[38;5;241m=\u001b[39m asyncio\u001b[38;5;241m.\u001b[39mwait_for(future, callback_timeout)\n\u001b[1;32m    378\u001b[0m     future \u001b[38;5;241m=\u001b[39m asyncio\u001b[38;5;241m.\u001b[39mensure_future(future)\n\u001b[0;32m--> 379\u001b[0m     result \u001b[38;5;241m=\u001b[39m \u001b[38;5;28;01myield\u001b[39;00m future\n\u001b[1;32m    380\u001b[0m \u001b[38;5;28;01mexcept\u001b[39;00m \u001b[38;5;167;01mException\u001b[39;00m:\n\u001b[1;32m    381\u001b[0m     error \u001b[38;5;241m=\u001b[39m sys\u001b[38;5;241m.\u001b[39mexc_info()\n",
      "File \u001b[0;32m/usr/workspace/iopp/anaconda-lassen/envs/wisio_lassen/lib/python3.9/site-packages/tornado/gen.py:767\u001b[0m, in \u001b[0;36mRunner.run\u001b[0;34m(self)\u001b[0m\n\u001b[1;32m    765\u001b[0m \u001b[38;5;28;01mtry\u001b[39;00m:\n\u001b[1;32m    766\u001b[0m     \u001b[38;5;28;01mtry\u001b[39;00m:\n\u001b[0;32m--> 767\u001b[0m         value \u001b[38;5;241m=\u001b[39m \u001b[43mfuture\u001b[49m\u001b[38;5;241;43m.\u001b[39;49m\u001b[43mresult\u001b[49m\u001b[43m(\u001b[49m\u001b[43m)\u001b[49m\n\u001b[1;32m    768\u001b[0m     \u001b[38;5;28;01mexcept\u001b[39;00m \u001b[38;5;167;01mException\u001b[39;00m \u001b[38;5;28;01mas\u001b[39;00m e:\n\u001b[1;32m    769\u001b[0m         \u001b[38;5;66;03m# Save the exception for later. It's important that\u001b[39;00m\n\u001b[1;32m    770\u001b[0m         \u001b[38;5;66;03m# gen.throw() not be called inside this try/except block\u001b[39;00m\n\u001b[1;32m    771\u001b[0m         \u001b[38;5;66;03m# because that makes sys.exc_info behave unexpectedly.\u001b[39;00m\n\u001b[1;32m    772\u001b[0m         exc: Optional[\u001b[38;5;167;01mException\u001b[39;00m] \u001b[38;5;241m=\u001b[39m e\n",
      "File \u001b[0;32m/usr/workspace/iopp/anaconda-lassen/envs/wisio_lassen/lib/python3.9/site-packages/distributed/client.py:2157\u001b[0m, in \u001b[0;36mClient._gather\u001b[0;34m(self, futures, errors, direct, local_worker)\u001b[0m\n\u001b[1;32m   2155\u001b[0m         exc \u001b[38;5;241m=\u001b[39m CancelledError(key)\n\u001b[1;32m   2156\u001b[0m     \u001b[38;5;28;01melse\u001b[39;00m:\n\u001b[0;32m-> 2157\u001b[0m         \u001b[38;5;28;01mraise\u001b[39;00m exception\u001b[38;5;241m.\u001b[39mwith_traceback(traceback)\n\u001b[1;32m   2158\u001b[0m     \u001b[38;5;28;01mraise\u001b[39;00m exc\n\u001b[1;32m   2159\u001b[0m \u001b[38;5;28;01mif\u001b[39;00m errors \u001b[38;5;241m==\u001b[39m \u001b[38;5;124m\"\u001b[39m\u001b[38;5;124mskip\u001b[39m\u001b[38;5;124m\"\u001b[39m:\n",
      "\u001b[0;31mKilledWorker\u001b[0m: Attempted to run task ('assign-567e3940f1032c33838d0b4ad5dead07', 79) on 3 different workers, but all those workers died while running it. The last worker that attempt to run the task was tcp://192.168.64.33:37535. Inspecting worker logs is often a good next step to diagnose what went wrong. For more information see https://distributed.dask.org/en/stable/killed.html."
     ]
    },
    {
     "name": "stdout",
     "output_type": "stream",
     "text": [
      "time: 3min 22s (started: 2023-10-08 21:04:48 -07:00)\n"
     ]
    }
   ],
   "source": [
    "import math\n",
    "from wisio._recorder.analysis import EXTRA_COLS, _set_derived_columns, compute_main_view\n",
    "from wisio._recorder.constants import VIEW_TYPES\n",
    "\n",
    "# Set derived columns\n",
    "hlm2 = _set_derived_columns(ddf=hlm)\n",
    "# Compute agg_view\n",
    "main_view = hlm2 \\\n",
    "    .drop(columns=EXTRA_COLS) \\\n",
    "    .groupby(VIEW_TYPES) \\\n",
    "    .sum(split_out=hlm.npartitions) \\\n",
    "    .repartition('256MB') \\\n",
    "    .persist()\n",
    "# main_view = hlm2 \\\n",
    "#     .drop(columns=EXTRA_COLS) \\\n",
    "#     .groupby(VIEW_TYPES) \\\n",
    "#     .sum(split_out=math.ceil(math.sqrt(hlm.npartitions))) \\\n",
    "#     .persist()\n",
    "# Set hashed ids\n",
    "main_view['id'] = main_view.index.map(hash)\n",
    "\n",
    "main_view"
   ]
  },
  {
   "cell_type": "code",
   "execution_count": 11,
   "metadata": {},
   "outputs": [
    {
     "ename": "CancelledError",
     "evalue": "[('_groupby_aggregate-493ab7c23a64096a1bdcb4b9fede9b97', 147), ('_groupby_aggregate-493ab7c23a64096a1bdcb4b9fede9b97', 165), ('_groupby_aggregate-493ab7c23a64096a1bdcb4b9fede9b97', 171), ('_groupby_aggregate-493ab7c23a64096a1bdcb4b9fede9b97', 28), ('_groupby_aggregate-493ab7c23a64096a1bdcb4b9fede9b97', 116), ('_groupby_aggregate-493ab7c23a64096a1bdcb4b9fede9b97', 162), ('_groupby_aggregate-493ab7c23a64096a1bdcb4b9fede9b97', 83), ('_groupby_aggregate-493ab7c23a64096a1bdcb4b9fede9b97', 107), ('_groupby_aggregate-493ab7c23a64096a1bdcb4b9fede9b97', 101), ('_groupby_aggregate-493ab7c23a64096a1bdcb4b9fede9b97', 43), ('_groupby_aggregate-493ab7c23a64096a1bdcb4b9fede9b97', 156), ('_groupby_aggregate-493ab7c23a64096a1bdcb4b9fede9b97', 52), ('_groupby_aggregate-493ab7c23a64096a1bdcb4b9fede9b97', 138), ('_groupby_aggregate-493ab7c23a64096a1bdcb4b9fede9b97', 93), ('_groupby_aggregate-493ab7c23a64096a1bdcb4b9fede9b97', 37), ('_groupby_aggregate-493ab7c23a64096a1bdcb4b9fede9b97', 19), ('_groupby_aggregate-493ab7c23a64096a1bdcb4b9fede9b97', 38), ('_groupby_aggregate-493ab7c23a64096a1bdcb4b9fede9b97', 64), ('_groupby_aggregate-493ab7c23a64096a1bdcb4b9fede9b97', 112), ('_groupby_aggregate-493ab7c23a64096a1bdcb4b9fede9b97', 82), ('_groupby_aggregate-493ab7c23a64096a1bdcb4b9fede9b97', 92), ('_groupby_aggregate-493ab7c23a64096a1bdcb4b9fede9b97', 137), ('_groupby_aggregate-493ab7c23a64096a1bdcb4b9fede9b97', 103), ('_groupby_aggregate-493ab7c23a64096a1bdcb4b9fede9b97', 157), ('_groupby_aggregate-493ab7c23a64096a1bdcb4b9fede9b97', 129), ('_groupby_aggregate-493ab7c23a64096a1bdcb4b9fede9b97', 140), ('_groupby_aggregate-493ab7c23a64096a1bdcb4b9fede9b97', 35), ('_groupby_aggregate-493ab7c23a64096a1bdcb4b9fede9b97', 18), ('_groupby_aggregate-493ab7c23a64096a1bdcb4b9fede9b97', 10), ('_groupby_aggregate-493ab7c23a64096a1bdcb4b9fede9b97', 39), ('_groupby_aggregate-493ab7c23a64096a1bdcb4b9fede9b97', 65), ('_groupby_aggregate-493ab7c23a64096a1bdcb4b9fede9b97', 73), ('_groupby_aggregate-493ab7c23a64096a1bdcb4b9fede9b97', 1), ('_groupby_aggregate-493ab7c23a64096a1bdcb4b9fede9b97', 146), ('_groupby_aggregate-493ab7c23a64096a1bdcb4b9fede9b97', 128), ('_groupby_aggregate-493ab7c23a64096a1bdcb4b9fede9b97', 172), ('_groupby_aggregate-493ab7c23a64096a1bdcb4b9fede9b97', 76), ('_groupby_aggregate-493ab7c23a64096a1bdcb4b9fede9b97', 9), ('_groupby_aggregate-493ab7c23a64096a1bdcb4b9fede9b97', 163), ('_groupby_aggregate-493ab7c23a64096a1bdcb4b9fede9b97', 44), ('_groupby_aggregate-493ab7c23a64096a1bdcb4b9fede9b97', 48), ('_groupby_aggregate-493ab7c23a64096a1bdcb4b9fede9b97', 98), ('_groupby_aggregate-493ab7c23a64096a1bdcb4b9fede9b97', 99), ('_groupby_aggregate-493ab7c23a64096a1bdcb4b9fede9b97', 132), ('_groupby_aggregate-493ab7c23a64096a1bdcb4b9fede9b97', 154), ('_groupby_aggregate-493ab7c23a64096a1bdcb4b9fede9b97', 105), ('_groupby_aggregate-493ab7c23a64096a1bdcb4b9fede9b97', 108), ('_groupby_aggregate-493ab7c23a64096a1bdcb4b9fede9b97', 42), ('_groupby_aggregate-493ab7c23a64096a1bdcb4b9fede9b97', 34), ('_groupby_aggregate-493ab7c23a64096a1bdcb4b9fede9b97', 68), ('_groupby_aggregate-493ab7c23a64096a1bdcb4b9fede9b97', 90), ('_groupby_aggregate-493ab7c23a64096a1bdcb4b9fede9b97', 141), ('_groupby_aggregate-493ab7c23a64096a1bdcb4b9fede9b97', 145), ('_groupby_aggregate-493ab7c23a64096a1bdcb4b9fede9b97', 123), ('_groupby_aggregate-493ab7c23a64096a1bdcb4b9fede9b97', 8), ('_groupby_aggregate-493ab7c23a64096a1bdcb4b9fede9b97', 26), ('_groupby_aggregate-493ab7c23a64096a1bdcb4b9fede9b97', 4), ('_groupby_aggregate-493ab7c23a64096a1bdcb4b9fede9b97', 77), ('_groupby_aggregate-493ab7c23a64096a1bdcb4b9fede9b97', 84), ('_groupby_aggregate-493ab7c23a64096a1bdcb4b9fede9b97', 59), ('_groupby_aggregate-493ab7c23a64096a1bdcb4b9fede9b97', 115), ('_groupby_aggregate-493ab7c23a64096a1bdcb4b9fede9b97', 114), ('_groupby_aggregate-493ab7c23a64096a1bdcb4b9fede9b97', 170), ('_groupby_aggregate-493ab7c23a64096a1bdcb4b9fede9b97', 81), ('_groupby_aggregate-493ab7c23a64096a1bdcb4b9fede9b97', 169), ('_groupby_aggregate-493ab7c23a64096a1bdcb4b9fede9b97', 51), ('_groupby_aggregate-493ab7c23a64096a1bdcb4b9fede9b97', 50), ('_groupby_aggregate-493ab7c23a64096a1bdcb4b9fede9b97', 136), ('_groupby_aggregate-493ab7c23a64096a1bdcb4b9fede9b97', 119), ('_groupby_aggregate-493ab7c23a64096a1bdcb4b9fede9b97', 57), ('_groupby_aggregate-493ab7c23a64096a1bdcb4b9fede9b97', 11), ('_groupby_aggregate-493ab7c23a64096a1bdcb4b9fede9b97', 17), ('_groupby_aggregate-493ab7c23a64096a1bdcb4b9fede9b97', 66), ('_groupby_aggregate-493ab7c23a64096a1bdcb4b9fede9b97', 72), ('_groupby_aggregate-493ab7c23a64096a1bdcb4b9fede9b97', 161), ('_groupby_aggregate-493ab7c23a64096a1bdcb4b9fede9b97', 106), ('_groupby_aggregate-493ab7c23a64096a1bdcb4b9fede9b97', 41), ('_groupby_aggregate-493ab7c23a64096a1bdcb4b9fede9b97', 21), ('_groupby_aggregate-493ab7c23a64096a1bdcb4b9fede9b97', 139), ('_groupby_aggregate-493ab7c23a64096a1bdcb4b9fede9b97', 67), ('_groupby_aggregate-493ab7c23a64096a1bdcb4b9fede9b97', 58), ('_groupby_aggregate-493ab7c23a64096a1bdcb4b9fede9b97', 121), ('_groupby_aggregate-493ab7c23a64096a1bdcb4b9fede9b97', 3), ('_groupby_aggregate-493ab7c23a64096a1bdcb4b9fede9b97', 12), ('_groupby_aggregate-493ab7c23a64096a1bdcb4b9fede9b97', 75), ('_groupby_aggregate-493ab7c23a64096a1bdcb4b9fede9b97', 2), ('_groupby_aggregate-493ab7c23a64096a1bdcb4b9fede9b97', 131), ('_groupby_aggregate-493ab7c23a64096a1bdcb4b9fede9b97', 97), ('_groupby_aggregate-493ab7c23a64096a1bdcb4b9fede9b97', 74), ('_groupby_aggregate-493ab7c23a64096a1bdcb4b9fede9b97', 130), ('_groupby_aggregate-493ab7c23a64096a1bdcb4b9fede9b97', 29), ('_groupby_aggregate-493ab7c23a64096a1bdcb4b9fede9b97', 143), ('_groupby_aggregate-493ab7c23a64096a1bdcb4b9fede9b97', 149), ('_groupby_aggregate-493ab7c23a64096a1bdcb4b9fede9b97', 152), ('_groupby_aggregate-493ab7c23a64096a1bdcb4b9fede9b97', 60), ('_groupby_aggregate-493ab7c23a64096a1bdcb4b9fede9b97', 22), ('_groupby_aggregate-493ab7c23a64096a1bdcb4b9fede9b97', 94), ('_groupby_aggregate-493ab7c23a64096a1bdcb4b9fede9b97', 120), ('_groupby_aggregate-493ab7c23a64096a1bdcb4b9fede9b97', 31), ('_groupby_aggregate-493ab7c23a64096a1bdcb4b9fede9b97', 133), ('_groupby_aggregate-493ab7c23a64096a1bdcb4b9fede9b97', 24), ('_groupby_aggregate-493ab7c23a64096a1bdcb4b9fede9b97', 164), ('_groupby_aggregate-493ab7c23a64096a1bdcb4b9fede9b97', 158), ('_groupby_aggregate-493ab7c23a64096a1bdcb4b9fede9b97', 30), ('_groupby_aggregate-493ab7c23a64096a1bdcb4b9fede9b97', 78), ('_groupby_aggregate-493ab7c23a64096a1bdcb4b9fede9b97', 85), ('_groupby_aggregate-493ab7c23a64096a1bdcb4b9fede9b97', 13), ('_groupby_aggregate-493ab7c23a64096a1bdcb4b9fede9b97', 5), ('_groupby_aggregate-493ab7c23a64096a1bdcb4b9fede9b97', 14), ('_groupby_aggregate-493ab7c23a64096a1bdcb4b9fede9b97', 40), ('_groupby_aggregate-493ab7c23a64096a1bdcb4b9fede9b97', 47), ('_groupby_aggregate-493ab7c23a64096a1bdcb4b9fede9b97', 87), ('_groupby_aggregate-493ab7c23a64096a1bdcb4b9fede9b97', 49), ('_groupby_aggregate-493ab7c23a64096a1bdcb4b9fede9b97', 142), ('_groupby_aggregate-493ab7c23a64096a1bdcb4b9fede9b97', 168), ('_groupby_aggregate-493ab7c23a64096a1bdcb4b9fede9b97', 167), ('_groupby_aggregate-493ab7c23a64096a1bdcb4b9fede9b97', 32), ('_groupby_aggregate-493ab7c23a64096a1bdcb4b9fede9b97', 109), ('_groupby_aggregate-493ab7c23a64096a1bdcb4b9fede9b97', 20), ('_groupby_aggregate-493ab7c23a64096a1bdcb4b9fede9b97', 33), ('_groupby_aggregate-493ab7c23a64096a1bdcb4b9fede9b97', 124), ('_groupby_aggregate-493ab7c23a64096a1bdcb4b9fede9b97', 23), ('_groupby_aggregate-493ab7c23a64096a1bdcb4b9fede9b97', 127), ('_groupby_aggregate-493ab7c23a64096a1bdcb4b9fede9b97', 0), ('_groupby_aggregate-493ab7c23a64096a1bdcb4b9fede9b97', 69), ('_groupby_aggregate-493ab7c23a64096a1bdcb4b9fede9b97', 63), ('_groupby_aggregate-493ab7c23a64096a1bdcb4b9fede9b97', 174), ('_groupby_aggregate-493ab7c23a64096a1bdcb4b9fede9b97', 118), ('_groupby_aggregate-493ab7c23a64096a1bdcb4b9fede9b97', 89), ('_groupby_aggregate-493ab7c23a64096a1bdcb4b9fede9b97', 148), ('_groupby_aggregate-493ab7c23a64096a1bdcb4b9fede9b97', 126), ('_groupby_aggregate-493ab7c23a64096a1bdcb4b9fede9b97', 173), ('_groupby_aggregate-493ab7c23a64096a1bdcb4b9fede9b97', 144), ('_groupby_aggregate-493ab7c23a64096a1bdcb4b9fede9b97', 55), ('_groupby_aggregate-493ab7c23a64096a1bdcb4b9fede9b97', 25), ('_groupby_aggregate-493ab7c23a64096a1bdcb4b9fede9b97', 110), ('_groupby_aggregate-493ab7c23a64096a1bdcb4b9fede9b97', 79), ('_groupby_aggregate-493ab7c23a64096a1bdcb4b9fede9b97', 155), ('_groupby_aggregate-493ab7c23a64096a1bdcb4b9fede9b97', 46), ('_groupby_aggregate-493ab7c23a64096a1bdcb4b9fede9b97', 54), ('_groupby_aggregate-493ab7c23a64096a1bdcb4b9fede9b97', 166), ('_groupby_aggregate-493ab7c23a64096a1bdcb4b9fede9b97', 80), ('_groupby_aggregate-493ab7c23a64096a1bdcb4b9fede9b97', 15), ('_groupby_aggregate-493ab7c23a64096a1bdcb4b9fede9b97', 36), ('_groupby_aggregate-493ab7c23a64096a1bdcb4b9fede9b97', 135), ('_groupby_aggregate-493ab7c23a64096a1bdcb4b9fede9b97', 104), ('_groupby_aggregate-493ab7c23a64096a1bdcb4b9fede9b97', 91), ('_groupby_aggregate-493ab7c23a64096a1bdcb4b9fede9b97', 16), ('_groupby_aggregate-493ab7c23a64096a1bdcb4b9fede9b97', 113), ('_groupby_aggregate-493ab7c23a64096a1bdcb4b9fede9b97', 45), ('_groupby_aggregate-493ab7c23a64096a1bdcb4b9fede9b97', 88), ('_groupby_aggregate-493ab7c23a64096a1bdcb4b9fede9b97', 102), ('_groupby_aggregate-493ab7c23a64096a1bdcb4b9fede9b97', 153), ('_groupby_aggregate-493ab7c23a64096a1bdcb4b9fede9b97', 27), ('_groupby_aggregate-493ab7c23a64096a1bdcb4b9fede9b97', 71), ('_groupby_aggregate-493ab7c23a64096a1bdcb4b9fede9b97', 111), ('_groupby_aggregate-493ab7c23a64096a1bdcb4b9fede9b97', 56), ('_groupby_aggregate-493ab7c23a64096a1bdcb4b9fede9b97', 151), ('_groupby_aggregate-493ab7c23a64096a1bdcb4b9fede9b97', 159), ('_groupby_aggregate-493ab7c23a64096a1bdcb4b9fede9b97', 134), ('_groupby_aggregate-493ab7c23a64096a1bdcb4b9fede9b97', 150), ('_groupby_aggregate-493ab7c23a64096a1bdcb4b9fede9b97', 160), ('_groupby_aggregate-493ab7c23a64096a1bdcb4b9fede9b97', 7), ('_groupby_aggregate-493ab7c23a64096a1bdcb4b9fede9b97', 70), ('_groupby_aggregate-493ab7c23a64096a1bdcb4b9fede9b97', 86), ('_groupby_aggregate-493ab7c23a64096a1bdcb4b9fede9b97', 62), ('_groupby_aggregate-493ab7c23a64096a1bdcb4b9fede9b97', 100), ('_groupby_aggregate-493ab7c23a64096a1bdcb4b9fede9b97', 61), ('_groupby_aggregate-493ab7c23a64096a1bdcb4b9fede9b97', 117), ('_groupby_aggregate-493ab7c23a64096a1bdcb4b9fede9b97', 125), ('_groupby_aggregate-493ab7c23a64096a1bdcb4b9fede9b97', 6), ('_groupby_aggregate-493ab7c23a64096a1bdcb4b9fede9b97', 96), ('_groupby_aggregate-493ab7c23a64096a1bdcb4b9fede9b97', 122), ('_groupby_aggregate-493ab7c23a64096a1bdcb4b9fede9b97', 95), ('_groupby_aggregate-493ab7c23a64096a1bdcb4b9fede9b97', 53)]",
     "output_type": "error",
     "traceback": [
      "\u001b[0;31m---------------------------------------------------------------------------\u001b[0m",
      "\u001b[0;31mCancelledError\u001b[0m                            Traceback (most recent call last)",
      "Cell \u001b[0;32mIn[11], line 1\u001b[0m\n\u001b[0;32m----> 1\u001b[0m _ \u001b[38;5;241m=\u001b[39m \u001b[43mwait\u001b[49m\u001b[43m(\u001b[49m\u001b[43mmain_view\u001b[49m\u001b[43m)\u001b[49m\n",
      "File \u001b[0;32m/usr/workspace/iopp/anaconda-lassen/envs/wisio_lassen/lib/python3.9/site-packages/distributed/client.py:4904\u001b[0m, in \u001b[0;36mwait\u001b[0;34m(fs, timeout, return_when)\u001b[0m\n\u001b[1;32m   4902\u001b[0m     timeout \u001b[38;5;241m=\u001b[39m parse_timedelta(timeout, default\u001b[38;5;241m=\u001b[39m\u001b[38;5;124m\"\u001b[39m\u001b[38;5;124ms\u001b[39m\u001b[38;5;124m\"\u001b[39m)\n\u001b[1;32m   4903\u001b[0m client \u001b[38;5;241m=\u001b[39m default_client()\n\u001b[0;32m-> 4904\u001b[0m result \u001b[38;5;241m=\u001b[39m \u001b[43mclient\u001b[49m\u001b[38;5;241;43m.\u001b[39;49m\u001b[43msync\u001b[49m\u001b[43m(\u001b[49m\u001b[43m_wait\u001b[49m\u001b[43m,\u001b[49m\u001b[43m \u001b[49m\u001b[43mfs\u001b[49m\u001b[43m,\u001b[49m\u001b[43m \u001b[49m\u001b[43mtimeout\u001b[49m\u001b[38;5;241;43m=\u001b[39;49m\u001b[43mtimeout\u001b[49m\u001b[43m,\u001b[49m\u001b[43m \u001b[49m\u001b[43mreturn_when\u001b[49m\u001b[38;5;241;43m=\u001b[39;49m\u001b[43mreturn_when\u001b[49m\u001b[43m)\u001b[49m\n\u001b[1;32m   4905\u001b[0m \u001b[38;5;28;01mreturn\u001b[39;00m result\n",
      "File \u001b[0;32m/usr/workspace/iopp/anaconda-lassen/envs/wisio_lassen/lib/python3.9/site-packages/distributed/utils.py:339\u001b[0m, in \u001b[0;36mSyncMethodMixin.sync\u001b[0;34m(self, func, asynchronous, callback_timeout, *args, **kwargs)\u001b[0m\n\u001b[1;32m    337\u001b[0m     \u001b[38;5;28;01mreturn\u001b[39;00m future\n\u001b[1;32m    338\u001b[0m \u001b[38;5;28;01melse\u001b[39;00m:\n\u001b[0;32m--> 339\u001b[0m     \u001b[38;5;28;01mreturn\u001b[39;00m \u001b[43msync\u001b[49m\u001b[43m(\u001b[49m\n\u001b[1;32m    340\u001b[0m \u001b[43m        \u001b[49m\u001b[38;5;28;43mself\u001b[39;49m\u001b[38;5;241;43m.\u001b[39;49m\u001b[43mloop\u001b[49m\u001b[43m,\u001b[49m\u001b[43m \u001b[49m\u001b[43mfunc\u001b[49m\u001b[43m,\u001b[49m\u001b[43m \u001b[49m\u001b[38;5;241;43m*\u001b[39;49m\u001b[43margs\u001b[49m\u001b[43m,\u001b[49m\u001b[43m \u001b[49m\u001b[43mcallback_timeout\u001b[49m\u001b[38;5;241;43m=\u001b[39;49m\u001b[43mcallback_timeout\u001b[49m\u001b[43m,\u001b[49m\u001b[43m \u001b[49m\u001b[38;5;241;43m*\u001b[39;49m\u001b[38;5;241;43m*\u001b[39;49m\u001b[43mkwargs\u001b[49m\n\u001b[1;32m    341\u001b[0m \u001b[43m    \u001b[49m\u001b[43m)\u001b[49m\n",
      "File \u001b[0;32m/usr/workspace/iopp/anaconda-lassen/envs/wisio_lassen/lib/python3.9/site-packages/distributed/utils.py:406\u001b[0m, in \u001b[0;36msync\u001b[0;34m(loop, func, callback_timeout, *args, **kwargs)\u001b[0m\n\u001b[1;32m    404\u001b[0m \u001b[38;5;28;01mif\u001b[39;00m error:\n\u001b[1;32m    405\u001b[0m     typ, exc, tb \u001b[38;5;241m=\u001b[39m error\n\u001b[0;32m--> 406\u001b[0m     \u001b[38;5;28;01mraise\u001b[39;00m exc\u001b[38;5;241m.\u001b[39mwith_traceback(tb)\n\u001b[1;32m    407\u001b[0m \u001b[38;5;28;01melse\u001b[39;00m:\n\u001b[1;32m    408\u001b[0m     \u001b[38;5;28;01mreturn\u001b[39;00m result\n",
      "File \u001b[0;32m/usr/workspace/iopp/anaconda-lassen/envs/wisio_lassen/lib/python3.9/site-packages/distributed/utils.py:379\u001b[0m, in \u001b[0;36msync.<locals>.f\u001b[0;34m()\u001b[0m\n\u001b[1;32m    377\u001b[0m         future \u001b[38;5;241m=\u001b[39m asyncio\u001b[38;5;241m.\u001b[39mwait_for(future, callback_timeout)\n\u001b[1;32m    378\u001b[0m     future \u001b[38;5;241m=\u001b[39m asyncio\u001b[38;5;241m.\u001b[39mensure_future(future)\n\u001b[0;32m--> 379\u001b[0m     result \u001b[38;5;241m=\u001b[39m \u001b[38;5;28;01myield\u001b[39;00m future\n\u001b[1;32m    380\u001b[0m \u001b[38;5;28;01mexcept\u001b[39;00m \u001b[38;5;167;01mException\u001b[39;00m:\n\u001b[1;32m    381\u001b[0m     error \u001b[38;5;241m=\u001b[39m sys\u001b[38;5;241m.\u001b[39mexc_info()\n",
      "File \u001b[0;32m/usr/workspace/iopp/anaconda-lassen/envs/wisio_lassen/lib/python3.9/site-packages/tornado/gen.py:767\u001b[0m, in \u001b[0;36mRunner.run\u001b[0;34m(self)\u001b[0m\n\u001b[1;32m    765\u001b[0m \u001b[38;5;28;01mtry\u001b[39;00m:\n\u001b[1;32m    766\u001b[0m     \u001b[38;5;28;01mtry\u001b[39;00m:\n\u001b[0;32m--> 767\u001b[0m         value \u001b[38;5;241m=\u001b[39m \u001b[43mfuture\u001b[49m\u001b[38;5;241;43m.\u001b[39;49m\u001b[43mresult\u001b[49m\u001b[43m(\u001b[49m\u001b[43m)\u001b[49m\n\u001b[1;32m    768\u001b[0m     \u001b[38;5;28;01mexcept\u001b[39;00m \u001b[38;5;167;01mException\u001b[39;00m \u001b[38;5;28;01mas\u001b[39;00m e:\n\u001b[1;32m    769\u001b[0m         \u001b[38;5;66;03m# Save the exception for later. It's important that\u001b[39;00m\n\u001b[1;32m    770\u001b[0m         \u001b[38;5;66;03m# gen.throw() not be called inside this try/except block\u001b[39;00m\n\u001b[1;32m    771\u001b[0m         \u001b[38;5;66;03m# because that makes sys.exc_info behave unexpectedly.\u001b[39;00m\n\u001b[1;32m    772\u001b[0m         exc: Optional[\u001b[38;5;167;01mException\u001b[39;00m] \u001b[38;5;241m=\u001b[39m e\n",
      "File \u001b[0;32m/usr/workspace/iopp/anaconda-lassen/envs/wisio_lassen/lib/python3.9/site-packages/distributed/client.py:4880\u001b[0m, in \u001b[0;36m_wait\u001b[0;34m(fs, timeout, return_when)\u001b[0m\n\u001b[1;32m   4878\u001b[0m cancelled \u001b[38;5;241m=\u001b[39m [f\u001b[38;5;241m.\u001b[39mkey \u001b[38;5;28;01mfor\u001b[39;00m f \u001b[38;5;129;01min\u001b[39;00m done \u001b[38;5;28;01mif\u001b[39;00m f\u001b[38;5;241m.\u001b[39mstatus \u001b[38;5;241m==\u001b[39m \u001b[38;5;124m\"\u001b[39m\u001b[38;5;124mcancelled\u001b[39m\u001b[38;5;124m\"\u001b[39m]\n\u001b[1;32m   4879\u001b[0m \u001b[38;5;28;01mif\u001b[39;00m cancelled:\n\u001b[0;32m-> 4880\u001b[0m     \u001b[38;5;28;01mraise\u001b[39;00m CancelledError(cancelled)\n\u001b[1;32m   4882\u001b[0m \u001b[38;5;28;01mreturn\u001b[39;00m DoneAndNotDoneFutures(done, not_done)\n",
      "\u001b[0;31mCancelledError\u001b[0m: [('_groupby_aggregate-493ab7c23a64096a1bdcb4b9fede9b97', 147), ('_groupby_aggregate-493ab7c23a64096a1bdcb4b9fede9b97', 165), ('_groupby_aggregate-493ab7c23a64096a1bdcb4b9fede9b97', 171), ('_groupby_aggregate-493ab7c23a64096a1bdcb4b9fede9b97', 28), ('_groupby_aggregate-493ab7c23a64096a1bdcb4b9fede9b97', 116), ('_groupby_aggregate-493ab7c23a64096a1bdcb4b9fede9b97', 162), ('_groupby_aggregate-493ab7c23a64096a1bdcb4b9fede9b97', 83), ('_groupby_aggregate-493ab7c23a64096a1bdcb4b9fede9b97', 107), ('_groupby_aggregate-493ab7c23a64096a1bdcb4b9fede9b97', 101), ('_groupby_aggregate-493ab7c23a64096a1bdcb4b9fede9b97', 43), ('_groupby_aggregate-493ab7c23a64096a1bdcb4b9fede9b97', 156), ('_groupby_aggregate-493ab7c23a64096a1bdcb4b9fede9b97', 52), ('_groupby_aggregate-493ab7c23a64096a1bdcb4b9fede9b97', 138), ('_groupby_aggregate-493ab7c23a64096a1bdcb4b9fede9b97', 93), ('_groupby_aggregate-493ab7c23a64096a1bdcb4b9fede9b97', 37), ('_groupby_aggregate-493ab7c23a64096a1bdcb4b9fede9b97', 19), ('_groupby_aggregate-493ab7c23a64096a1bdcb4b9fede9b97', 38), ('_groupby_aggregate-493ab7c23a64096a1bdcb4b9fede9b97', 64), ('_groupby_aggregate-493ab7c23a64096a1bdcb4b9fede9b97', 112), ('_groupby_aggregate-493ab7c23a64096a1bdcb4b9fede9b97', 82), ('_groupby_aggregate-493ab7c23a64096a1bdcb4b9fede9b97', 92), ('_groupby_aggregate-493ab7c23a64096a1bdcb4b9fede9b97', 137), ('_groupby_aggregate-493ab7c23a64096a1bdcb4b9fede9b97', 103), ('_groupby_aggregate-493ab7c23a64096a1bdcb4b9fede9b97', 157), ('_groupby_aggregate-493ab7c23a64096a1bdcb4b9fede9b97', 129), ('_groupby_aggregate-493ab7c23a64096a1bdcb4b9fede9b97', 140), ('_groupby_aggregate-493ab7c23a64096a1bdcb4b9fede9b97', 35), ('_groupby_aggregate-493ab7c23a64096a1bdcb4b9fede9b97', 18), ('_groupby_aggregate-493ab7c23a64096a1bdcb4b9fede9b97', 10), ('_groupby_aggregate-493ab7c23a64096a1bdcb4b9fede9b97', 39), ('_groupby_aggregate-493ab7c23a64096a1bdcb4b9fede9b97', 65), ('_groupby_aggregate-493ab7c23a64096a1bdcb4b9fede9b97', 73), ('_groupby_aggregate-493ab7c23a64096a1bdcb4b9fede9b97', 1), ('_groupby_aggregate-493ab7c23a64096a1bdcb4b9fede9b97', 146), ('_groupby_aggregate-493ab7c23a64096a1bdcb4b9fede9b97', 128), ('_groupby_aggregate-493ab7c23a64096a1bdcb4b9fede9b97', 172), ('_groupby_aggregate-493ab7c23a64096a1bdcb4b9fede9b97', 76), ('_groupby_aggregate-493ab7c23a64096a1bdcb4b9fede9b97', 9), ('_groupby_aggregate-493ab7c23a64096a1bdcb4b9fede9b97', 163), ('_groupby_aggregate-493ab7c23a64096a1bdcb4b9fede9b97', 44), ('_groupby_aggregate-493ab7c23a64096a1bdcb4b9fede9b97', 48), ('_groupby_aggregate-493ab7c23a64096a1bdcb4b9fede9b97', 98), ('_groupby_aggregate-493ab7c23a64096a1bdcb4b9fede9b97', 99), ('_groupby_aggregate-493ab7c23a64096a1bdcb4b9fede9b97', 132), ('_groupby_aggregate-493ab7c23a64096a1bdcb4b9fede9b97', 154), ('_groupby_aggregate-493ab7c23a64096a1bdcb4b9fede9b97', 105), ('_groupby_aggregate-493ab7c23a64096a1bdcb4b9fede9b97', 108), ('_groupby_aggregate-493ab7c23a64096a1bdcb4b9fede9b97', 42), ('_groupby_aggregate-493ab7c23a64096a1bdcb4b9fede9b97', 34), ('_groupby_aggregate-493ab7c23a64096a1bdcb4b9fede9b97', 68), ('_groupby_aggregate-493ab7c23a64096a1bdcb4b9fede9b97', 90), ('_groupby_aggregate-493ab7c23a64096a1bdcb4b9fede9b97', 141), ('_groupby_aggregate-493ab7c23a64096a1bdcb4b9fede9b97', 145), ('_groupby_aggregate-493ab7c23a64096a1bdcb4b9fede9b97', 123), ('_groupby_aggregate-493ab7c23a64096a1bdcb4b9fede9b97', 8), ('_groupby_aggregate-493ab7c23a64096a1bdcb4b9fede9b97', 26), ('_groupby_aggregate-493ab7c23a64096a1bdcb4b9fede9b97', 4), ('_groupby_aggregate-493ab7c23a64096a1bdcb4b9fede9b97', 77), ('_groupby_aggregate-493ab7c23a64096a1bdcb4b9fede9b97', 84), ('_groupby_aggregate-493ab7c23a64096a1bdcb4b9fede9b97', 59), ('_groupby_aggregate-493ab7c23a64096a1bdcb4b9fede9b97', 115), ('_groupby_aggregate-493ab7c23a64096a1bdcb4b9fede9b97', 114), ('_groupby_aggregate-493ab7c23a64096a1bdcb4b9fede9b97', 170), ('_groupby_aggregate-493ab7c23a64096a1bdcb4b9fede9b97', 81), ('_groupby_aggregate-493ab7c23a64096a1bdcb4b9fede9b97', 169), ('_groupby_aggregate-493ab7c23a64096a1bdcb4b9fede9b97', 51), ('_groupby_aggregate-493ab7c23a64096a1bdcb4b9fede9b97', 50), ('_groupby_aggregate-493ab7c23a64096a1bdcb4b9fede9b97', 136), ('_groupby_aggregate-493ab7c23a64096a1bdcb4b9fede9b97', 119), ('_groupby_aggregate-493ab7c23a64096a1bdcb4b9fede9b97', 57), ('_groupby_aggregate-493ab7c23a64096a1bdcb4b9fede9b97', 11), ('_groupby_aggregate-493ab7c23a64096a1bdcb4b9fede9b97', 17), ('_groupby_aggregate-493ab7c23a64096a1bdcb4b9fede9b97', 66), ('_groupby_aggregate-493ab7c23a64096a1bdcb4b9fede9b97', 72), ('_groupby_aggregate-493ab7c23a64096a1bdcb4b9fede9b97', 161), ('_groupby_aggregate-493ab7c23a64096a1bdcb4b9fede9b97', 106), ('_groupby_aggregate-493ab7c23a64096a1bdcb4b9fede9b97', 41), ('_groupby_aggregate-493ab7c23a64096a1bdcb4b9fede9b97', 21), ('_groupby_aggregate-493ab7c23a64096a1bdcb4b9fede9b97', 139), ('_groupby_aggregate-493ab7c23a64096a1bdcb4b9fede9b97', 67), ('_groupby_aggregate-493ab7c23a64096a1bdcb4b9fede9b97', 58), ('_groupby_aggregate-493ab7c23a64096a1bdcb4b9fede9b97', 121), ('_groupby_aggregate-493ab7c23a64096a1bdcb4b9fede9b97', 3), ('_groupby_aggregate-493ab7c23a64096a1bdcb4b9fede9b97', 12), ('_groupby_aggregate-493ab7c23a64096a1bdcb4b9fede9b97', 75), ('_groupby_aggregate-493ab7c23a64096a1bdcb4b9fede9b97', 2), ('_groupby_aggregate-493ab7c23a64096a1bdcb4b9fede9b97', 131), ('_groupby_aggregate-493ab7c23a64096a1bdcb4b9fede9b97', 97), ('_groupby_aggregate-493ab7c23a64096a1bdcb4b9fede9b97', 74), ('_groupby_aggregate-493ab7c23a64096a1bdcb4b9fede9b97', 130), ('_groupby_aggregate-493ab7c23a64096a1bdcb4b9fede9b97', 29), ('_groupby_aggregate-493ab7c23a64096a1bdcb4b9fede9b97', 143), ('_groupby_aggregate-493ab7c23a64096a1bdcb4b9fede9b97', 149), ('_groupby_aggregate-493ab7c23a64096a1bdcb4b9fede9b97', 152), ('_groupby_aggregate-493ab7c23a64096a1bdcb4b9fede9b97', 60), ('_groupby_aggregate-493ab7c23a64096a1bdcb4b9fede9b97', 22), ('_groupby_aggregate-493ab7c23a64096a1bdcb4b9fede9b97', 94), ('_groupby_aggregate-493ab7c23a64096a1bdcb4b9fede9b97', 120), ('_groupby_aggregate-493ab7c23a64096a1bdcb4b9fede9b97', 31), ('_groupby_aggregate-493ab7c23a64096a1bdcb4b9fede9b97', 133), ('_groupby_aggregate-493ab7c23a64096a1bdcb4b9fede9b97', 24), ('_groupby_aggregate-493ab7c23a64096a1bdcb4b9fede9b97', 164), ('_groupby_aggregate-493ab7c23a64096a1bdcb4b9fede9b97', 158), ('_groupby_aggregate-493ab7c23a64096a1bdcb4b9fede9b97', 30), ('_groupby_aggregate-493ab7c23a64096a1bdcb4b9fede9b97', 78), ('_groupby_aggregate-493ab7c23a64096a1bdcb4b9fede9b97', 85), ('_groupby_aggregate-493ab7c23a64096a1bdcb4b9fede9b97', 13), ('_groupby_aggregate-493ab7c23a64096a1bdcb4b9fede9b97', 5), ('_groupby_aggregate-493ab7c23a64096a1bdcb4b9fede9b97', 14), ('_groupby_aggregate-493ab7c23a64096a1bdcb4b9fede9b97', 40), ('_groupby_aggregate-493ab7c23a64096a1bdcb4b9fede9b97', 47), ('_groupby_aggregate-493ab7c23a64096a1bdcb4b9fede9b97', 87), ('_groupby_aggregate-493ab7c23a64096a1bdcb4b9fede9b97', 49), ('_groupby_aggregate-493ab7c23a64096a1bdcb4b9fede9b97', 142), ('_groupby_aggregate-493ab7c23a64096a1bdcb4b9fede9b97', 168), ('_groupby_aggregate-493ab7c23a64096a1bdcb4b9fede9b97', 167), ('_groupby_aggregate-493ab7c23a64096a1bdcb4b9fede9b97', 32), ('_groupby_aggregate-493ab7c23a64096a1bdcb4b9fede9b97', 109), ('_groupby_aggregate-493ab7c23a64096a1bdcb4b9fede9b97', 20), ('_groupby_aggregate-493ab7c23a64096a1bdcb4b9fede9b97', 33), ('_groupby_aggregate-493ab7c23a64096a1bdcb4b9fede9b97', 124), ('_groupby_aggregate-493ab7c23a64096a1bdcb4b9fede9b97', 23), ('_groupby_aggregate-493ab7c23a64096a1bdcb4b9fede9b97', 127), ('_groupby_aggregate-493ab7c23a64096a1bdcb4b9fede9b97', 0), ('_groupby_aggregate-493ab7c23a64096a1bdcb4b9fede9b97', 69), ('_groupby_aggregate-493ab7c23a64096a1bdcb4b9fede9b97', 63), ('_groupby_aggregate-493ab7c23a64096a1bdcb4b9fede9b97', 174), ('_groupby_aggregate-493ab7c23a64096a1bdcb4b9fede9b97', 118), ('_groupby_aggregate-493ab7c23a64096a1bdcb4b9fede9b97', 89), ('_groupby_aggregate-493ab7c23a64096a1bdcb4b9fede9b97', 148), ('_groupby_aggregate-493ab7c23a64096a1bdcb4b9fede9b97', 126), ('_groupby_aggregate-493ab7c23a64096a1bdcb4b9fede9b97', 173), ('_groupby_aggregate-493ab7c23a64096a1bdcb4b9fede9b97', 144), ('_groupby_aggregate-493ab7c23a64096a1bdcb4b9fede9b97', 55), ('_groupby_aggregate-493ab7c23a64096a1bdcb4b9fede9b97', 25), ('_groupby_aggregate-493ab7c23a64096a1bdcb4b9fede9b97', 110), ('_groupby_aggregate-493ab7c23a64096a1bdcb4b9fede9b97', 79), ('_groupby_aggregate-493ab7c23a64096a1bdcb4b9fede9b97', 155), ('_groupby_aggregate-493ab7c23a64096a1bdcb4b9fede9b97', 46), ('_groupby_aggregate-493ab7c23a64096a1bdcb4b9fede9b97', 54), ('_groupby_aggregate-493ab7c23a64096a1bdcb4b9fede9b97', 166), ('_groupby_aggregate-493ab7c23a64096a1bdcb4b9fede9b97', 80), ('_groupby_aggregate-493ab7c23a64096a1bdcb4b9fede9b97', 15), ('_groupby_aggregate-493ab7c23a64096a1bdcb4b9fede9b97', 36), ('_groupby_aggregate-493ab7c23a64096a1bdcb4b9fede9b97', 135), ('_groupby_aggregate-493ab7c23a64096a1bdcb4b9fede9b97', 104), ('_groupby_aggregate-493ab7c23a64096a1bdcb4b9fede9b97', 91), ('_groupby_aggregate-493ab7c23a64096a1bdcb4b9fede9b97', 16), ('_groupby_aggregate-493ab7c23a64096a1bdcb4b9fede9b97', 113), ('_groupby_aggregate-493ab7c23a64096a1bdcb4b9fede9b97', 45), ('_groupby_aggregate-493ab7c23a64096a1bdcb4b9fede9b97', 88), ('_groupby_aggregate-493ab7c23a64096a1bdcb4b9fede9b97', 102), ('_groupby_aggregate-493ab7c23a64096a1bdcb4b9fede9b97', 153), ('_groupby_aggregate-493ab7c23a64096a1bdcb4b9fede9b97', 27), ('_groupby_aggregate-493ab7c23a64096a1bdcb4b9fede9b97', 71), ('_groupby_aggregate-493ab7c23a64096a1bdcb4b9fede9b97', 111), ('_groupby_aggregate-493ab7c23a64096a1bdcb4b9fede9b97', 56), ('_groupby_aggregate-493ab7c23a64096a1bdcb4b9fede9b97', 151), ('_groupby_aggregate-493ab7c23a64096a1bdcb4b9fede9b97', 159), ('_groupby_aggregate-493ab7c23a64096a1bdcb4b9fede9b97', 134), ('_groupby_aggregate-493ab7c23a64096a1bdcb4b9fede9b97', 150), ('_groupby_aggregate-493ab7c23a64096a1bdcb4b9fede9b97', 160), ('_groupby_aggregate-493ab7c23a64096a1bdcb4b9fede9b97', 7), ('_groupby_aggregate-493ab7c23a64096a1bdcb4b9fede9b97', 70), ('_groupby_aggregate-493ab7c23a64096a1bdcb4b9fede9b97', 86), ('_groupby_aggregate-493ab7c23a64096a1bdcb4b9fede9b97', 62), ('_groupby_aggregate-493ab7c23a64096a1bdcb4b9fede9b97', 100), ('_groupby_aggregate-493ab7c23a64096a1bdcb4b9fede9b97', 61), ('_groupby_aggregate-493ab7c23a64096a1bdcb4b9fede9b97', 117), ('_groupby_aggregate-493ab7c23a64096a1bdcb4b9fede9b97', 125), ('_groupby_aggregate-493ab7c23a64096a1bdcb4b9fede9b97', 6), ('_groupby_aggregate-493ab7c23a64096a1bdcb4b9fede9b97', 96), ('_groupby_aggregate-493ab7c23a64096a1bdcb4b9fede9b97', 122), ('_groupby_aggregate-493ab7c23a64096a1bdcb4b9fede9b97', 95), ('_groupby_aggregate-493ab7c23a64096a1bdcb4b9fede9b97', 53)]"
     ]
    },
    {
     "name": "stdout",
     "output_type": "stream",
     "text": [
      "time: 707 ms (started: 2023-10-08 20:49:06 -07:00)\n"
     ]
    }
   ],
   "source": [
    "_ = wait(main_view)"
   ]
  },
  {
   "cell_type": "code",
   "execution_count": 6,
   "metadata": {},
   "outputs": [
    {
     "name": "stdout",
     "output_type": "stream",
     "text": [
      "loading view _hlm 2023-10-08 18:50:13.036332\n",
      "calling fallback for _hlm 2023-10-08 18:50:13.036460\n",
      "computing hlm 2023-10-08 18:50:13.386624\n",
      "storing view _hlm (175) 2023-10-08 18:58:36.434180\n",
      "killing _hlm memory\n",
      "loading stored _hlm 2023-10-08 19:08:03.512389\n",
      "loading view _main_view 2023-10-08 19:08:03.558970\n",
      "calling fallback for _main_view 2023-10-08 19:08:03.559014\n",
      "storing view _main_view (175) 2023-10-08 19:08:04.315205\n"
     ]
    },
    {
     "ename": "KilledWorker",
     "evalue": "Attempted to run task ('assign-d2813414736e1d51f2ecf478027c282b', 21) on 3 different workers, but all those workers died while running it. The last worker that attempt to run the task was tcp://192.168.65.170:33171. Inspecting worker logs is often a good next step to diagnose what went wrong. For more information see https://distributed.dask.org/en/stable/killed.html.",
     "output_type": "error",
     "traceback": [
      "\u001b[0;31m---------------------------------------------------------------------------\u001b[0m",
      "\u001b[0;31mKilledWorker\u001b[0m                              Traceback (most recent call last)",
      "Cell \u001b[0;32mIn[6], line 9\u001b[0m\n\u001b[1;32m      1\u001b[0m get_ipython()\u001b[38;5;241m.\u001b[39mrun_line_magic(\u001b[38;5;124m'\u001b[39m\u001b[38;5;124mautoreload\u001b[39m\u001b[38;5;124m'\u001b[39m, \u001b[38;5;124m'\u001b[39m\u001b[38;5;124m2\u001b[39m\u001b[38;5;124m'\u001b[39m)\n\u001b[1;32m      2\u001b[0m \u001b[38;5;66;03m# n_workers = 8\u001b[39;00m\n\u001b[1;32m      3\u001b[0m \u001b[38;5;66;03m# no checkpoint\u001b[39;00m\n\u001b[1;32m      4\u001b[0m \u001b[38;5;66;03m# main_view = ddf.npartitions > sqrt(ddf.npartitions)\u001b[39;00m\n\u001b[0;32m   (...)\u001b[0m\n\u001b[1;32m      7\u001b[0m \u001b[38;5;66;03m# group view = sqrt(ddf.npartitions)\u001b[39;00m\n\u001b[1;32m      8\u001b[0m \u001b[38;5;66;03m# persist if parent view type\u001b[39;00m\n\u001b[0;32m----> 9\u001b[0m result \u001b[38;5;241m=\u001b[39m \u001b[43manalyzer\u001b[49m\u001b[38;5;241;43m.\u001b[39;49m\u001b[43manalyze_parquet\u001b[49m\u001b[43m(\u001b[49m\n\u001b[1;32m     10\u001b[0m \u001b[43m    \u001b[49m\u001b[43mtrace_path\u001b[49m\u001b[38;5;241;43m=\u001b[39;49m\u001b[43mtrace_path\u001b[49m\u001b[43m,\u001b[49m\u001b[43m \u001b[49m\n\u001b[1;32m     11\u001b[0m \u001b[43m    \u001b[49m\u001b[43mmetrics\u001b[49m\u001b[38;5;241;43m=\u001b[39;49m\u001b[43m[\u001b[49m\u001b[38;5;124;43m'\u001b[39;49m\u001b[38;5;124;43mduration\u001b[39;49m\u001b[38;5;124;43m'\u001b[39;49m\u001b[43m]\u001b[49m\u001b[43m,\u001b[49m\n\u001b[1;32m     12\u001b[0m \u001b[43m)\u001b[49m\n",
      "File \u001b[0;32m~/projects/wisio/wisio/recorder.py:71\u001b[0m, in \u001b[0;36mRecorderAnalyzer.analyze_parquet\u001b[0;34m(self, trace_path, metrics, accuracy, slope_threshold, view_names)\u001b[0m\n\u001b[1;32m     69\u001b[0m \u001b[38;5;66;03m# Compute main view\u001b[39;00m\n\u001b[1;32m     70\u001b[0m \u001b[38;5;28;01mwith\u001b[39;00m ElapsedTimeLogger(logger\u001b[38;5;241m=\u001b[39m\u001b[38;5;28mself\u001b[39m\u001b[38;5;241m.\u001b[39mlogger, message\u001b[38;5;241m=\u001b[39m\u001b[38;5;124m'\u001b[39m\u001b[38;5;124mCompute main view\u001b[39m\u001b[38;5;124m'\u001b[39m):\n\u001b[0;32m---> 71\u001b[0m     main_view \u001b[38;5;241m=\u001b[39m \u001b[38;5;28;43mself\u001b[39;49m\u001b[38;5;241;43m.\u001b[39;49m\u001b[43mload_view\u001b[49m\u001b[43m(\u001b[49m\u001b[43mview_name\u001b[49m\u001b[38;5;241;43m=\u001b[39;49m\u001b[43mCHECKPOINT_MAIN_VIEW\u001b[49m\u001b[43m,\u001b[49m\u001b[43m \u001b[49m\u001b[43mfallback\u001b[49m\u001b[38;5;241;43m=\u001b[39;49m\u001b[38;5;28;43;01mlambda\u001b[39;49;00m\u001b[43m:\u001b[49m\u001b[43m \u001b[49m\u001b[43mcompute_main_view\u001b[49m\u001b[43m(\u001b[49m\n\u001b[1;32m     72\u001b[0m \u001b[43m        \u001b[49m\u001b[43mhlm\u001b[49m\u001b[38;5;241;43m=\u001b[39;49m\u001b[43mhlm\u001b[49m\u001b[43m,\u001b[49m\n\u001b[1;32m     73\u001b[0m \u001b[43m        \u001b[49m\u001b[43mview_types\u001b[49m\u001b[38;5;241;43m=\u001b[39;49m\u001b[43mVIEW_TYPES\u001b[49m\u001b[43m,\u001b[49m\n\u001b[1;32m     74\u001b[0m \u001b[43m    \u001b[49m\u001b[43m)\u001b[49m\u001b[43m,\u001b[49m\u001b[43m \u001b[49m\u001b[43mforce\u001b[49m\u001b[38;5;241;43m=\u001b[39;49m\u001b[38;5;28;43;01mTrue\u001b[39;49;00m\u001b[43m)\u001b[49m\n\u001b[1;32m     76\u001b[0m \u001b[38;5;66;03m# Keep views & tasks\u001b[39;00m\n\u001b[1;32m     78\u001b[0m checkpoint_tasks \u001b[38;5;241m=\u001b[39m []\n",
      "File \u001b[0;32m~/projects/wisio/wisio/analyzer.py:70\u001b[0m, in \u001b[0;36mAnalyzer.load_view\u001b[0;34m(self, view_name, fallback, force)\u001b[0m\n\u001b[1;32m     66\u001b[0m \u001b[38;5;66;03m# print(f\"waiting view {view_name}\", datetime.now())\u001b[39;00m\n\u001b[1;32m     67\u001b[0m \u001b[38;5;66;03m# wait(view)\u001b[39;00m\n\u001b[1;32m     68\u001b[0m \u001b[38;5;28mprint\u001b[39m(\n\u001b[1;32m     69\u001b[0m     \u001b[38;5;124mf\u001b[39m\u001b[38;5;124m\"\u001b[39m\u001b[38;5;124mstoring view \u001b[39m\u001b[38;5;132;01m{\u001b[39;00mview_name\u001b[38;5;132;01m}\u001b[39;00m\u001b[38;5;124m (\u001b[39m\u001b[38;5;132;01m{\u001b[39;00mview\u001b[38;5;241m.\u001b[39mnpartitions\u001b[38;5;132;01m}\u001b[39;00m\u001b[38;5;124m)\u001b[39m\u001b[38;5;124m\"\u001b[39m, datetime\u001b[38;5;241m.\u001b[39mnow())\n\u001b[0;32m---> 70\u001b[0m \u001b[43mview\u001b[49m\u001b[38;5;241;43m.\u001b[39;49m\u001b[43mto_parquet\u001b[49m\u001b[43m(\u001b[49m\u001b[38;5;124;43mf\u001b[39;49m\u001b[38;5;124;43m\"\u001b[39;49m\u001b[38;5;132;43;01m{\u001b[39;49;00m\u001b[43mview_path\u001b[49m\u001b[38;5;132;43;01m}\u001b[39;49;00m\u001b[38;5;124;43m\"\u001b[39;49m\u001b[43m,\u001b[49m\u001b[43m \u001b[49m\u001b[43mcompute\u001b[49m\u001b[38;5;241;43m=\u001b[39;49m\u001b[38;5;28;43;01mTrue\u001b[39;49;00m\u001b[43m,\u001b[49m\n\u001b[1;32m     71\u001b[0m \u001b[43m                \u001b[49m\u001b[43mwrite_metadata_file\u001b[49m\u001b[38;5;241;43m=\u001b[39;49m\u001b[38;5;28;43;01mTrue\u001b[39;49;00m\u001b[43m)\u001b[49m\n\u001b[1;32m     72\u001b[0m \u001b[38;5;28mprint\u001b[39m(\u001b[38;5;124mf\u001b[39m\u001b[38;5;124m\"\u001b[39m\u001b[38;5;124mkilling \u001b[39m\u001b[38;5;132;01m{\u001b[39;00mview_name\u001b[38;5;132;01m}\u001b[39;00m\u001b[38;5;124m memory\u001b[39m\u001b[38;5;124m\"\u001b[39m)\n\u001b[1;32m     73\u001b[0m \u001b[38;5;28mself\u001b[39m\u001b[38;5;241m.\u001b[39mcluster_manager\u001b[38;5;241m.\u001b[39mclient\u001b[38;5;241m.\u001b[39mcancel(view)\n",
      "File \u001b[0;32m/usr/workspace/iopp/anaconda-lassen/envs/wisio_lassen/lib/python3.9/site-packages/dask/dataframe/core.py:5272\u001b[0m, in \u001b[0;36mDataFrame.to_parquet\u001b[0;34m(self, path, *args, **kwargs)\u001b[0m\n\u001b[1;32m   5269\u001b[0m \u001b[38;5;250m\u001b[39m\u001b[38;5;124;03m\"\"\"See dd.to_parquet docstring for more information\"\"\"\u001b[39;00m\n\u001b[1;32m   5270\u001b[0m \u001b[38;5;28;01mfrom\u001b[39;00m \u001b[38;5;21;01mdask\u001b[39;00m\u001b[38;5;21;01m.\u001b[39;00m\u001b[38;5;21;01mdataframe\u001b[39;00m\u001b[38;5;21;01m.\u001b[39;00m\u001b[38;5;21;01mio\u001b[39;00m \u001b[38;5;28;01mimport\u001b[39;00m to_parquet\n\u001b[0;32m-> 5272\u001b[0m \u001b[38;5;28;01mreturn\u001b[39;00m \u001b[43mto_parquet\u001b[49m\u001b[43m(\u001b[49m\u001b[38;5;28;43mself\u001b[39;49m\u001b[43m,\u001b[49m\u001b[43m \u001b[49m\u001b[43mpath\u001b[49m\u001b[43m,\u001b[49m\u001b[43m \u001b[49m\u001b[38;5;241;43m*\u001b[39;49m\u001b[43margs\u001b[49m\u001b[43m,\u001b[49m\u001b[43m \u001b[49m\u001b[38;5;241;43m*\u001b[39;49m\u001b[38;5;241;43m*\u001b[39;49m\u001b[43mkwargs\u001b[49m\u001b[43m)\u001b[49m\n",
      "File \u001b[0;32m/usr/workspace/iopp/anaconda-lassen/envs/wisio_lassen/lib/python3.9/site-packages/dask/dataframe/io/parquet/core.py:1037\u001b[0m, in \u001b[0;36mto_parquet\u001b[0;34m(df, path, engine, compression, write_index, append, overwrite, ignore_divisions, partition_on, storage_options, custom_metadata, write_metadata_file, compute, compute_kwargs, schema, name_function, **kwargs)\u001b[0m\n\u001b[1;32m   1034\u001b[0m out \u001b[38;5;241m=\u001b[39m Scalar(graph, final_name, \u001b[38;5;124m\"\u001b[39m\u001b[38;5;124m\"\u001b[39m)\n\u001b[1;32m   1036\u001b[0m \u001b[38;5;28;01mif\u001b[39;00m compute:\n\u001b[0;32m-> 1037\u001b[0m     out \u001b[38;5;241m=\u001b[39m \u001b[43mout\u001b[49m\u001b[38;5;241;43m.\u001b[39;49m\u001b[43mcompute\u001b[49m\u001b[43m(\u001b[49m\u001b[38;5;241;43m*\u001b[39;49m\u001b[38;5;241;43m*\u001b[39;49m\u001b[43mcompute_kwargs\u001b[49m\u001b[43m)\u001b[49m\n\u001b[1;32m   1039\u001b[0m \u001b[38;5;66;03m# Invalidate the filesystem listing cache for the output path after write.\u001b[39;00m\n\u001b[1;32m   1040\u001b[0m \u001b[38;5;66;03m# We do this before returning, even if `compute=False`. This helps ensure\u001b[39;00m\n\u001b[1;32m   1041\u001b[0m \u001b[38;5;66;03m# that reading files that were just written succeeds.\u001b[39;00m\n\u001b[1;32m   1042\u001b[0m fs\u001b[38;5;241m.\u001b[39minvalidate_cache(path)\n",
      "File \u001b[0;32m/usr/workspace/iopp/anaconda-lassen/envs/wisio_lassen/lib/python3.9/site-packages/dask/base.py:315\u001b[0m, in \u001b[0;36mDaskMethodsMixin.compute\u001b[0;34m(self, **kwargs)\u001b[0m\n\u001b[1;32m    291\u001b[0m \u001b[38;5;28;01mdef\u001b[39;00m \u001b[38;5;21mcompute\u001b[39m(\u001b[38;5;28mself\u001b[39m, \u001b[38;5;241m*\u001b[39m\u001b[38;5;241m*\u001b[39mkwargs):\n\u001b[1;32m    292\u001b[0m \u001b[38;5;250m    \u001b[39m\u001b[38;5;124;03m\"\"\"Compute this dask collection\u001b[39;00m\n\u001b[1;32m    293\u001b[0m \n\u001b[1;32m    294\u001b[0m \u001b[38;5;124;03m    This turns a lazy Dask collection into its in-memory equivalent.\u001b[39;00m\n\u001b[0;32m   (...)\u001b[0m\n\u001b[1;32m    313\u001b[0m \u001b[38;5;124;03m    dask.base.compute\u001b[39;00m\n\u001b[1;32m    314\u001b[0m \u001b[38;5;124;03m    \"\"\"\u001b[39;00m\n\u001b[0;32m--> 315\u001b[0m     (result,) \u001b[38;5;241m=\u001b[39m \u001b[43mcompute\u001b[49m\u001b[43m(\u001b[49m\u001b[38;5;28;43mself\u001b[39;49m\u001b[43m,\u001b[49m\u001b[43m \u001b[49m\u001b[43mtraverse\u001b[49m\u001b[38;5;241;43m=\u001b[39;49m\u001b[38;5;28;43;01mFalse\u001b[39;49;00m\u001b[43m,\u001b[49m\u001b[43m \u001b[49m\u001b[38;5;241;43m*\u001b[39;49m\u001b[38;5;241;43m*\u001b[39;49m\u001b[43mkwargs\u001b[49m\u001b[43m)\u001b[49m\n\u001b[1;32m    316\u001b[0m     \u001b[38;5;28;01mreturn\u001b[39;00m result\n",
      "File \u001b[0;32m/usr/workspace/iopp/anaconda-lassen/envs/wisio_lassen/lib/python3.9/site-packages/dask/base.py:600\u001b[0m, in \u001b[0;36mcompute\u001b[0;34m(traverse, optimize_graph, scheduler, get, *args, **kwargs)\u001b[0m\n\u001b[1;32m    597\u001b[0m     keys\u001b[38;5;241m.\u001b[39mappend(x\u001b[38;5;241m.\u001b[39m__dask_keys__())\n\u001b[1;32m    598\u001b[0m     postcomputes\u001b[38;5;241m.\u001b[39mappend(x\u001b[38;5;241m.\u001b[39m__dask_postcompute__())\n\u001b[0;32m--> 600\u001b[0m results \u001b[38;5;241m=\u001b[39m \u001b[43mschedule\u001b[49m\u001b[43m(\u001b[49m\u001b[43mdsk\u001b[49m\u001b[43m,\u001b[49m\u001b[43m \u001b[49m\u001b[43mkeys\u001b[49m\u001b[43m,\u001b[49m\u001b[43m \u001b[49m\u001b[38;5;241;43m*\u001b[39;49m\u001b[38;5;241;43m*\u001b[39;49m\u001b[43mkwargs\u001b[49m\u001b[43m)\u001b[49m\n\u001b[1;32m    601\u001b[0m \u001b[38;5;28;01mreturn\u001b[39;00m repack([f(r, \u001b[38;5;241m*\u001b[39ma) \u001b[38;5;28;01mfor\u001b[39;00m r, (f, a) \u001b[38;5;129;01min\u001b[39;00m \u001b[38;5;28mzip\u001b[39m(results, postcomputes)])\n",
      "File \u001b[0;32m/usr/workspace/iopp/anaconda-lassen/envs/wisio_lassen/lib/python3.9/site-packages/distributed/client.py:3125\u001b[0m, in \u001b[0;36mClient.get\u001b[0;34m(self, dsk, keys, workers, allow_other_workers, resources, sync, asynchronous, direct, retries, priority, fifo_timeout, actors, **kwargs)\u001b[0m\n\u001b[1;32m   3123\u001b[0m         should_rejoin \u001b[38;5;241m=\u001b[39m \u001b[38;5;28;01mFalse\u001b[39;00m\n\u001b[1;32m   3124\u001b[0m \u001b[38;5;28;01mtry\u001b[39;00m:\n\u001b[0;32m-> 3125\u001b[0m     results \u001b[38;5;241m=\u001b[39m \u001b[38;5;28;43mself\u001b[39;49m\u001b[38;5;241;43m.\u001b[39;49m\u001b[43mgather\u001b[49m\u001b[43m(\u001b[49m\u001b[43mpacked\u001b[49m\u001b[43m,\u001b[49m\u001b[43m \u001b[49m\u001b[43masynchronous\u001b[49m\u001b[38;5;241;43m=\u001b[39;49m\u001b[43masynchronous\u001b[49m\u001b[43m,\u001b[49m\u001b[43m \u001b[49m\u001b[43mdirect\u001b[49m\u001b[38;5;241;43m=\u001b[39;49m\u001b[43mdirect\u001b[49m\u001b[43m)\u001b[49m\n\u001b[1;32m   3126\u001b[0m \u001b[38;5;28;01mfinally\u001b[39;00m:\n\u001b[1;32m   3127\u001b[0m     \u001b[38;5;28;01mfor\u001b[39;00m f \u001b[38;5;129;01min\u001b[39;00m futures\u001b[38;5;241m.\u001b[39mvalues():\n",
      "File \u001b[0;32m/usr/workspace/iopp/anaconda-lassen/envs/wisio_lassen/lib/python3.9/site-packages/distributed/client.py:2294\u001b[0m, in \u001b[0;36mClient.gather\u001b[0;34m(self, futures, errors, direct, asynchronous)\u001b[0m\n\u001b[1;32m   2292\u001b[0m \u001b[38;5;28;01melse\u001b[39;00m:\n\u001b[1;32m   2293\u001b[0m     local_worker \u001b[38;5;241m=\u001b[39m \u001b[38;5;28;01mNone\u001b[39;00m\n\u001b[0;32m-> 2294\u001b[0m \u001b[38;5;28;01mreturn\u001b[39;00m \u001b[38;5;28;43mself\u001b[39;49m\u001b[38;5;241;43m.\u001b[39;49m\u001b[43msync\u001b[49m\u001b[43m(\u001b[49m\n\u001b[1;32m   2295\u001b[0m \u001b[43m    \u001b[49m\u001b[38;5;28;43mself\u001b[39;49m\u001b[38;5;241;43m.\u001b[39;49m\u001b[43m_gather\u001b[49m\u001b[43m,\u001b[49m\n\u001b[1;32m   2296\u001b[0m \u001b[43m    \u001b[49m\u001b[43mfutures\u001b[49m\u001b[43m,\u001b[49m\n\u001b[1;32m   2297\u001b[0m \u001b[43m    \u001b[49m\u001b[43merrors\u001b[49m\u001b[38;5;241;43m=\u001b[39;49m\u001b[43merrors\u001b[49m\u001b[43m,\u001b[49m\n\u001b[1;32m   2298\u001b[0m \u001b[43m    \u001b[49m\u001b[43mdirect\u001b[49m\u001b[38;5;241;43m=\u001b[39;49m\u001b[43mdirect\u001b[49m\u001b[43m,\u001b[49m\n\u001b[1;32m   2299\u001b[0m \u001b[43m    \u001b[49m\u001b[43mlocal_worker\u001b[49m\u001b[38;5;241;43m=\u001b[39;49m\u001b[43mlocal_worker\u001b[49m\u001b[43m,\u001b[49m\n\u001b[1;32m   2300\u001b[0m \u001b[43m    \u001b[49m\u001b[43masynchronous\u001b[49m\u001b[38;5;241;43m=\u001b[39;49m\u001b[43masynchronous\u001b[49m\u001b[43m,\u001b[49m\n\u001b[1;32m   2301\u001b[0m \u001b[43m\u001b[49m\u001b[43m)\u001b[49m\n",
      "File \u001b[0;32m/usr/workspace/iopp/anaconda-lassen/envs/wisio_lassen/lib/python3.9/site-packages/distributed/utils.py:339\u001b[0m, in \u001b[0;36mSyncMethodMixin.sync\u001b[0;34m(self, func, asynchronous, callback_timeout, *args, **kwargs)\u001b[0m\n\u001b[1;32m    337\u001b[0m     \u001b[38;5;28;01mreturn\u001b[39;00m future\n\u001b[1;32m    338\u001b[0m \u001b[38;5;28;01melse\u001b[39;00m:\n\u001b[0;32m--> 339\u001b[0m     \u001b[38;5;28;01mreturn\u001b[39;00m \u001b[43msync\u001b[49m\u001b[43m(\u001b[49m\n\u001b[1;32m    340\u001b[0m \u001b[43m        \u001b[49m\u001b[38;5;28;43mself\u001b[39;49m\u001b[38;5;241;43m.\u001b[39;49m\u001b[43mloop\u001b[49m\u001b[43m,\u001b[49m\u001b[43m \u001b[49m\u001b[43mfunc\u001b[49m\u001b[43m,\u001b[49m\u001b[43m \u001b[49m\u001b[38;5;241;43m*\u001b[39;49m\u001b[43margs\u001b[49m\u001b[43m,\u001b[49m\u001b[43m \u001b[49m\u001b[43mcallback_timeout\u001b[49m\u001b[38;5;241;43m=\u001b[39;49m\u001b[43mcallback_timeout\u001b[49m\u001b[43m,\u001b[49m\u001b[43m \u001b[49m\u001b[38;5;241;43m*\u001b[39;49m\u001b[38;5;241;43m*\u001b[39;49m\u001b[43mkwargs\u001b[49m\n\u001b[1;32m    341\u001b[0m \u001b[43m    \u001b[49m\u001b[43m)\u001b[49m\n",
      "File \u001b[0;32m/usr/workspace/iopp/anaconda-lassen/envs/wisio_lassen/lib/python3.9/site-packages/distributed/utils.py:406\u001b[0m, in \u001b[0;36msync\u001b[0;34m(loop, func, callback_timeout, *args, **kwargs)\u001b[0m\n\u001b[1;32m    404\u001b[0m \u001b[38;5;28;01mif\u001b[39;00m error:\n\u001b[1;32m    405\u001b[0m     typ, exc, tb \u001b[38;5;241m=\u001b[39m error\n\u001b[0;32m--> 406\u001b[0m     \u001b[38;5;28;01mraise\u001b[39;00m exc\u001b[38;5;241m.\u001b[39mwith_traceback(tb)\n\u001b[1;32m    407\u001b[0m \u001b[38;5;28;01melse\u001b[39;00m:\n\u001b[1;32m    408\u001b[0m     \u001b[38;5;28;01mreturn\u001b[39;00m result\n",
      "File \u001b[0;32m/usr/workspace/iopp/anaconda-lassen/envs/wisio_lassen/lib/python3.9/site-packages/distributed/utils.py:379\u001b[0m, in \u001b[0;36msync.<locals>.f\u001b[0;34m()\u001b[0m\n\u001b[1;32m    377\u001b[0m         future \u001b[38;5;241m=\u001b[39m asyncio\u001b[38;5;241m.\u001b[39mwait_for(future, callback_timeout)\n\u001b[1;32m    378\u001b[0m     future \u001b[38;5;241m=\u001b[39m asyncio\u001b[38;5;241m.\u001b[39mensure_future(future)\n\u001b[0;32m--> 379\u001b[0m     result \u001b[38;5;241m=\u001b[39m \u001b[38;5;28;01myield\u001b[39;00m future\n\u001b[1;32m    380\u001b[0m \u001b[38;5;28;01mexcept\u001b[39;00m \u001b[38;5;167;01mException\u001b[39;00m:\n\u001b[1;32m    381\u001b[0m     error \u001b[38;5;241m=\u001b[39m sys\u001b[38;5;241m.\u001b[39mexc_info()\n",
      "File \u001b[0;32m/usr/workspace/iopp/anaconda-lassen/envs/wisio_lassen/lib/python3.9/site-packages/tornado/gen.py:767\u001b[0m, in \u001b[0;36mRunner.run\u001b[0;34m(self)\u001b[0m\n\u001b[1;32m    765\u001b[0m \u001b[38;5;28;01mtry\u001b[39;00m:\n\u001b[1;32m    766\u001b[0m     \u001b[38;5;28;01mtry\u001b[39;00m:\n\u001b[0;32m--> 767\u001b[0m         value \u001b[38;5;241m=\u001b[39m \u001b[43mfuture\u001b[49m\u001b[38;5;241;43m.\u001b[39;49m\u001b[43mresult\u001b[49m\u001b[43m(\u001b[49m\u001b[43m)\u001b[49m\n\u001b[1;32m    768\u001b[0m     \u001b[38;5;28;01mexcept\u001b[39;00m \u001b[38;5;167;01mException\u001b[39;00m \u001b[38;5;28;01mas\u001b[39;00m e:\n\u001b[1;32m    769\u001b[0m         \u001b[38;5;66;03m# Save the exception for later. It's important that\u001b[39;00m\n\u001b[1;32m    770\u001b[0m         \u001b[38;5;66;03m# gen.throw() not be called inside this try/except block\u001b[39;00m\n\u001b[1;32m    771\u001b[0m         \u001b[38;5;66;03m# because that makes sys.exc_info behave unexpectedly.\u001b[39;00m\n\u001b[1;32m    772\u001b[0m         exc: Optional[\u001b[38;5;167;01mException\u001b[39;00m] \u001b[38;5;241m=\u001b[39m e\n",
      "File \u001b[0;32m/usr/workspace/iopp/anaconda-lassen/envs/wisio_lassen/lib/python3.9/site-packages/distributed/client.py:2157\u001b[0m, in \u001b[0;36mClient._gather\u001b[0;34m(self, futures, errors, direct, local_worker)\u001b[0m\n\u001b[1;32m   2155\u001b[0m         exc \u001b[38;5;241m=\u001b[39m CancelledError(key)\n\u001b[1;32m   2156\u001b[0m     \u001b[38;5;28;01melse\u001b[39;00m:\n\u001b[0;32m-> 2157\u001b[0m         \u001b[38;5;28;01mraise\u001b[39;00m exception\u001b[38;5;241m.\u001b[39mwith_traceback(traceback)\n\u001b[1;32m   2158\u001b[0m     \u001b[38;5;28;01mraise\u001b[39;00m exc\n\u001b[1;32m   2159\u001b[0m \u001b[38;5;28;01mif\u001b[39;00m errors \u001b[38;5;241m==\u001b[39m \u001b[38;5;124m\"\u001b[39m\u001b[38;5;124mskip\u001b[39m\u001b[38;5;124m\"\u001b[39m:\n",
      "\u001b[0;31mKilledWorker\u001b[0m: Attempted to run task ('assign-d2813414736e1d51f2ecf478027c282b', 21) on 3 different workers, but all those workers died while running it. The last worker that attempt to run the task was tcp://192.168.65.170:33171. Inspecting worker logs is often a good next step to diagnose what went wrong. For more information see https://distributed.dask.org/en/stable/killed.html."
     ]
    },
    {
     "name": "stdout",
     "output_type": "stream",
     "text": [
      "time: 27min 35s (started: 2023-10-08 18:50:13 -07:00)\n"
     ]
    }
   ],
   "source": [
    "%autoreload 2\n",
    "# n_workers = 8\n",
    "# no checkpoint\n",
    "# main_view = ddf.npartitions > sqrt(ddf.npartitions)\n",
    "# persist\n",
    "# checkpoint\n",
    "# group view = sqrt(ddf.npartitions)\n",
    "# persist if parent view type\n",
    "result = analyzer.analyze_parquet(\n",
    "    trace_path=trace_path, \n",
    "    metrics=['duration'],\n",
    ")"
   ]
  },
  {
   "cell_type": "code",
   "execution_count": 7,
   "metadata": {},
   "outputs": [
    {
     "name": "stdout",
     "output_type": "stream",
     "text": [
      "time: 47min 4s (started: 2023-09-28 12:08:51 -07:00)\n"
     ]
    }
   ],
   "source": [
    "%autoreload 2\n",
    "# n_workers = 8\n",
    "# checkpointed\n",
    "# main_view = ddf.npartitions > sqrt(ddf.npartitions)\n",
    "# persist\n",
    "# checkpoint\n",
    "# group view = sqrt(ddf.npartitions)\n",
    "# persist if parent view type\n",
    "result = analyzer.analyze_parquet(\n",
    "    trace_path=trace_path, \n",
    "    checkpoint=True,\n",
    "    checkpoint_dir=f\"{trace_path}/_checkpoints11\",\n",
    "    metrics=['duration'],\n",
    ")"
   ]
  },
  {
   "cell_type": "code",
   "execution_count": 9,
   "metadata": {},
   "outputs": [
    {
     "data": {
      "text/plain": [
       "15132117747"
      ]
     },
     "execution_count": 9,
     "metadata": {},
     "output_type": "execute_result"
    },
    {
     "name": "stdout",
     "output_type": "stream",
     "text": [
      "time: 2.52 s (started: 2023-09-28 13:29:14 -07:00)\n"
     ]
    }
   ],
   "source": [
    "result.main_view.memory_usage(deep=True).sum().compute()"
   ]
  },
  {
   "cell_type": "code",
   "execution_count": 10,
   "metadata": {},
   "outputs": [
    {
     "data": {
      "text/plain": [
       "14.092882859520614"
      ]
     },
     "execution_count": 10,
     "metadata": {},
     "output_type": "execute_result"
    },
    {
     "name": "stdout",
     "output_type": "stream",
     "text": [
      "time: 2.54 ms (started: 2023-09-28 13:29:27 -07:00)\n"
     ]
    }
   ],
   "source": [
    "15132117747 / 1024 ** 3"
   ]
  },
  {
   "cell_type": "code",
   "execution_count": 11,
   "metadata": {},
   "outputs": [
    {
     "data": {
      "text/plain": [
       "9407816105"
      ]
     },
     "execution_count": 11,
     "metadata": {},
     "output_type": "execute_result"
    },
    {
     "name": "stdout",
     "output_type": "stream",
     "text": [
      "time: 4.97 s (started: 2023-09-28 13:38:21 -07:00)\n"
     ]
    }
   ],
   "source": [
    "result.view_results['duration'][('proc_name',)].view.memory_usage(deep=True).sum().compute()"
   ]
  },
  {
   "cell_type": "code",
   "execution_count": 12,
   "metadata": {},
   "outputs": [
    {
     "data": {
      "text/plain": [
       "8.761711516417563"
      ]
     },
     "execution_count": 12,
     "metadata": {},
     "output_type": "execute_result"
    },
    {
     "name": "stdout",
     "output_type": "stream",
     "text": [
      "time: 3.33 ms (started: 2023-09-28 13:38:36 -07:00)\n"
     ]
    }
   ],
   "source": [
    "9407816105 / 1024 ** 3"
   ]
  },
  {
   "cell_type": "code",
   "execution_count": null,
   "metadata": {},
   "outputs": [],
   "source": [
    "%autoreload 2\n",
    "# n_workers = 8\n",
    "# checkpointed\n",
    "# main_view = ddf.npartitions > sqrt(ddf.npartitions)\n",
    "# persist\n",
    "# checkpoint\n",
    "# group view = sqrt(ddf.npartitions)\n",
    "# persist if parent view type\n",
    "result = analyzer.analyze_parquet(\n",
    "    log_dir=log_dir, \n",
    "    checkpoint=True,\n",
    "    checkpoint_dir=f\"{log_dir}/_checkpoints10\",\n",
    "    metrics=['duration'],\n",
    ")"
   ]
  },
  {
   "cell_type": "code",
   "execution_count": 6,
   "metadata": {},
   "outputs": [
    {
     "name": "stdout",
     "output_type": "stream",
     "text": [
      "time: 50min 20s (started: 2023-09-26 08:25:06 -07:00)\n"
     ]
    }
   ],
   "source": [
    "%autoreload 2\n",
    "# n_workers=8, main_view=ddf.npartitions > sqrt(ddf.npartitions), checkpointed\n",
    "result = analyzer.analyze_parquet(\n",
    "    log_dir=log_dir, \n",
    "    checkpoint=True,\n",
    "    checkpoint_dir=f\"{log_dir}/_checkpoints10\",\n",
    "    metrics=['duration'],\n",
    ")"
   ]
  },
  {
   "cell_type": "code",
   "execution_count": 6,
   "metadata": {},
   "outputs": [
    {
     "name": "stdout",
     "output_type": "stream",
     "text": [
      "time: 1h 6min 21s (started: 2023-09-25 22:52:13 -07:00)\n"
     ]
    }
   ],
   "source": [
    "%autoreload 2\n",
    "# n_workers=8, main_view=ddf.npartitions > sqrt(ddf.npartitions)\n",
    "result = analyzer.analyze_parquet(\n",
    "    log_dir=log_dir, \n",
    "    checkpoint=True,\n",
    "    checkpoint_dir=f\"{log_dir}/_checkpoints10\",\n",
    "    metrics=['duration'],\n",
    ")"
   ]
  },
  {
   "cell_type": "code",
   "execution_count": 6,
   "metadata": {},
   "outputs": [
    {
     "name": "stdout",
     "output_type": "stream",
     "text": [
      "time: 59min 13s (started: 2023-09-25 21:28:25 -07:00)\n"
     ]
    }
   ],
   "source": [
    "%autoreload 2\n",
    "# n_workers=16, main_view=ddf.npartitions > sqrt(ddf.npartitions)\n",
    "result = analyzer.analyze_parquet(\n",
    "    log_dir=log_dir, \n",
    "    checkpoint=True,\n",
    "    checkpoint_dir=f\"{log_dir}/_checkpoints9\",\n",
    "    metrics=['duration'],\n",
    ")"
   ]
  },
  {
   "cell_type": "code",
   "execution_count": 6,
   "metadata": {},
   "outputs": [
    {
     "name": "stdout",
     "output_type": "stream",
     "text": [
      "time: 1h 30min 17s (started: 2023-09-24 20:13:02 -07:00)\n"
     ]
    }
   ],
   "source": [
    "%autoreload 2\n",
    "# n_workers=16\n",
    "result = analyzer.analyze_parquet(\n",
    "    log_dir=log_dir, \n",
    "    checkpoint=True,\n",
    "    checkpoint_dir=f\"{log_dir}/_checkpoints\",\n",
    "    metrics=['duration'],\n",
    ")"
   ]
  },
  {
   "cell_type": "code",
   "execution_count": 8,
   "metadata": {},
   "outputs": [
    {
     "data": {
      "text/html": [
       "<div><strong>Dask DataFrame Structure:</strong></div>\n",
       "<div>\n",
       "<style scoped>\n",
       "    .dataframe tbody tr th:only-of-type {\n",
       "        vertical-align: middle;\n",
       "    }\n",
       "\n",
       "    .dataframe tbody tr th {\n",
       "        vertical-align: top;\n",
       "    }\n",
       "\n",
       "    .dataframe thead th {\n",
       "        text-align: right;\n",
       "    }\n",
       "</style>\n",
       "<table border=\"1\" class=\"dataframe\">\n",
       "  <thead>\n",
       "    <tr style=\"text-align: right;\">\n",
       "      <th></th>\n",
       "      <th>duration_sum</th>\n",
       "      <th>index_count</th>\n",
       "      <th>size_min</th>\n",
       "      <th>size_max</th>\n",
       "      <th>size_sum</th>\n",
       "      <th>read_time</th>\n",
       "      <th>write_time</th>\n",
       "      <th>metadata_time</th>\n",
       "      <th>read_size</th>\n",
       "      <th>write_size</th>\n",
       "      <th>metadata_size</th>\n",
       "      <th>read_count</th>\n",
       "      <th>write_count</th>\n",
       "      <th>metadata_count</th>\n",
       "      <th>read_min</th>\n",
       "      <th>read_max</th>\n",
       "      <th>write_min</th>\n",
       "      <th>write_max</th>\n",
       "      <th>metadata_min</th>\n",
       "      <th>metadata_max</th>\n",
       "      <th>data_count</th>\n",
       "      <th>data_size</th>\n",
       "      <th>data_time</th>\n",
       "      <th>sequential_time</th>\n",
       "      <th>random_time</th>\n",
       "      <th>sequential_size</th>\n",
       "      <th>random_size</th>\n",
       "      <th>sequential_count</th>\n",
       "      <th>random_count</th>\n",
       "      <th>close_time</th>\n",
       "      <th>open_time</th>\n",
       "      <th>seek_time</th>\n",
       "      <th>stat_time</th>\n",
       "      <th>close_count</th>\n",
       "      <th>open_count</th>\n",
       "      <th>seek_count</th>\n",
       "      <th>stat_count</th>\n",
       "      <th>bw</th>\n",
       "      <th>iops</th>\n",
       "      <th>intensity</th>\n",
       "      <th>id</th>\n",
       "    </tr>\n",
       "    <tr>\n",
       "      <th>npartitions=698</th>\n",
       "      <th></th>\n",
       "      <th></th>\n",
       "      <th></th>\n",
       "      <th></th>\n",
       "      <th></th>\n",
       "      <th></th>\n",
       "      <th></th>\n",
       "      <th></th>\n",
       "      <th></th>\n",
       "      <th></th>\n",
       "      <th></th>\n",
       "      <th></th>\n",
       "      <th></th>\n",
       "      <th></th>\n",
       "      <th></th>\n",
       "      <th></th>\n",
       "      <th></th>\n",
       "      <th></th>\n",
       "      <th></th>\n",
       "      <th></th>\n",
       "      <th></th>\n",
       "      <th></th>\n",
       "      <th></th>\n",
       "      <th></th>\n",
       "      <th></th>\n",
       "      <th></th>\n",
       "      <th></th>\n",
       "      <th></th>\n",
       "      <th></th>\n",
       "      <th></th>\n",
       "      <th></th>\n",
       "      <th></th>\n",
       "      <th></th>\n",
       "      <th></th>\n",
       "      <th></th>\n",
       "      <th></th>\n",
       "      <th></th>\n",
       "      <th></th>\n",
       "      <th></th>\n",
       "      <th></th>\n",
       "      <th></th>\n",
       "    </tr>\n",
       "  </thead>\n",
       "  <tbody>\n",
       "    <tr>\n",
       "      <th></th>\n",
       "      <td>float64</td>\n",
       "      <td>int64</td>\n",
       "      <td>int64</td>\n",
       "      <td>int64</td>\n",
       "      <td>int64</td>\n",
       "      <td>float64</td>\n",
       "      <td>float64</td>\n",
       "      <td>float64</td>\n",
       "      <td>int64</td>\n",
       "      <td>int64</td>\n",
       "      <td>int64</td>\n",
       "      <td>int64</td>\n",
       "      <td>int64</td>\n",
       "      <td>int64</td>\n",
       "      <td>int64</td>\n",
       "      <td>int64</td>\n",
       "      <td>int64</td>\n",
       "      <td>int64</td>\n",
       "      <td>int64</td>\n",
       "      <td>int64</td>\n",
       "      <td>int64</td>\n",
       "      <td>int64</td>\n",
       "      <td>float64</td>\n",
       "      <td>float64</td>\n",
       "      <td>float64</td>\n",
       "      <td>int64</td>\n",
       "      <td>int64</td>\n",
       "      <td>int64</td>\n",
       "      <td>int64</td>\n",
       "      <td>float64</td>\n",
       "      <td>float64</td>\n",
       "      <td>float64</td>\n",
       "      <td>float64</td>\n",
       "      <td>int64</td>\n",
       "      <td>int64</td>\n",
       "      <td>int64</td>\n",
       "      <td>int64</td>\n",
       "      <td>float64</td>\n",
       "      <td>float64</td>\n",
       "      <td>float64</td>\n",
       "      <td>int64</td>\n",
       "    </tr>\n",
       "    <tr>\n",
       "      <th></th>\n",
       "      <td>...</td>\n",
       "      <td>...</td>\n",
       "      <td>...</td>\n",
       "      <td>...</td>\n",
       "      <td>...</td>\n",
       "      <td>...</td>\n",
       "      <td>...</td>\n",
       "      <td>...</td>\n",
       "      <td>...</td>\n",
       "      <td>...</td>\n",
       "      <td>...</td>\n",
       "      <td>...</td>\n",
       "      <td>...</td>\n",
       "      <td>...</td>\n",
       "      <td>...</td>\n",
       "      <td>...</td>\n",
       "      <td>...</td>\n",
       "      <td>...</td>\n",
       "      <td>...</td>\n",
       "      <td>...</td>\n",
       "      <td>...</td>\n",
       "      <td>...</td>\n",
       "      <td>...</td>\n",
       "      <td>...</td>\n",
       "      <td>...</td>\n",
       "      <td>...</td>\n",
       "      <td>...</td>\n",
       "      <td>...</td>\n",
       "      <td>...</td>\n",
       "      <td>...</td>\n",
       "      <td>...</td>\n",
       "      <td>...</td>\n",
       "      <td>...</td>\n",
       "      <td>...</td>\n",
       "      <td>...</td>\n",
       "      <td>...</td>\n",
       "      <td>...</td>\n",
       "      <td>...</td>\n",
       "      <td>...</td>\n",
       "      <td>...</td>\n",
       "      <td>...</td>\n",
       "    </tr>\n",
       "    <tr>\n",
       "      <th>...</th>\n",
       "      <td>...</td>\n",
       "      <td>...</td>\n",
       "      <td>...</td>\n",
       "      <td>...</td>\n",
       "      <td>...</td>\n",
       "      <td>...</td>\n",
       "      <td>...</td>\n",
       "      <td>...</td>\n",
       "      <td>...</td>\n",
       "      <td>...</td>\n",
       "      <td>...</td>\n",
       "      <td>...</td>\n",
       "      <td>...</td>\n",
       "      <td>...</td>\n",
       "      <td>...</td>\n",
       "      <td>...</td>\n",
       "      <td>...</td>\n",
       "      <td>...</td>\n",
       "      <td>...</td>\n",
       "      <td>...</td>\n",
       "      <td>...</td>\n",
       "      <td>...</td>\n",
       "      <td>...</td>\n",
       "      <td>...</td>\n",
       "      <td>...</td>\n",
       "      <td>...</td>\n",
       "      <td>...</td>\n",
       "      <td>...</td>\n",
       "      <td>...</td>\n",
       "      <td>...</td>\n",
       "      <td>...</td>\n",
       "      <td>...</td>\n",
       "      <td>...</td>\n",
       "      <td>...</td>\n",
       "      <td>...</td>\n",
       "      <td>...</td>\n",
       "      <td>...</td>\n",
       "      <td>...</td>\n",
       "      <td>...</td>\n",
       "      <td>...</td>\n",
       "      <td>...</td>\n",
       "    </tr>\n",
       "    <tr>\n",
       "      <th></th>\n",
       "      <td>...</td>\n",
       "      <td>...</td>\n",
       "      <td>...</td>\n",
       "      <td>...</td>\n",
       "      <td>...</td>\n",
       "      <td>...</td>\n",
       "      <td>...</td>\n",
       "      <td>...</td>\n",
       "      <td>...</td>\n",
       "      <td>...</td>\n",
       "      <td>...</td>\n",
       "      <td>...</td>\n",
       "      <td>...</td>\n",
       "      <td>...</td>\n",
       "      <td>...</td>\n",
       "      <td>...</td>\n",
       "      <td>...</td>\n",
       "      <td>...</td>\n",
       "      <td>...</td>\n",
       "      <td>...</td>\n",
       "      <td>...</td>\n",
       "      <td>...</td>\n",
       "      <td>...</td>\n",
       "      <td>...</td>\n",
       "      <td>...</td>\n",
       "      <td>...</td>\n",
       "      <td>...</td>\n",
       "      <td>...</td>\n",
       "      <td>...</td>\n",
       "      <td>...</td>\n",
       "      <td>...</td>\n",
       "      <td>...</td>\n",
       "      <td>...</td>\n",
       "      <td>...</td>\n",
       "      <td>...</td>\n",
       "      <td>...</td>\n",
       "      <td>...</td>\n",
       "      <td>...</td>\n",
       "      <td>...</td>\n",
       "      <td>...</td>\n",
       "      <td>...</td>\n",
       "    </tr>\n",
       "    <tr>\n",
       "      <th></th>\n",
       "      <td>...</td>\n",
       "      <td>...</td>\n",
       "      <td>...</td>\n",
       "      <td>...</td>\n",
       "      <td>...</td>\n",
       "      <td>...</td>\n",
       "      <td>...</td>\n",
       "      <td>...</td>\n",
       "      <td>...</td>\n",
       "      <td>...</td>\n",
       "      <td>...</td>\n",
       "      <td>...</td>\n",
       "      <td>...</td>\n",
       "      <td>...</td>\n",
       "      <td>...</td>\n",
       "      <td>...</td>\n",
       "      <td>...</td>\n",
       "      <td>...</td>\n",
       "      <td>...</td>\n",
       "      <td>...</td>\n",
       "      <td>...</td>\n",
       "      <td>...</td>\n",
       "      <td>...</td>\n",
       "      <td>...</td>\n",
       "      <td>...</td>\n",
       "      <td>...</td>\n",
       "      <td>...</td>\n",
       "      <td>...</td>\n",
       "      <td>...</td>\n",
       "      <td>...</td>\n",
       "      <td>...</td>\n",
       "      <td>...</td>\n",
       "      <td>...</td>\n",
       "      <td>...</td>\n",
       "      <td>...</td>\n",
       "      <td>...</td>\n",
       "      <td>...</td>\n",
       "      <td>...</td>\n",
       "      <td>...</td>\n",
       "      <td>...</td>\n",
       "      <td>...</td>\n",
       "    </tr>\n",
       "  </tbody>\n",
       "</table>\n",
       "</div>\n",
       "<div>Dask Name: read-parquet, 1 graph layer</div>"
      ],
      "text/plain": [
       "Dask DataFrame Structure:\n",
       "                duration_sum index_count size_min size_max size_sum read_time write_time metadata_time read_size write_size metadata_size read_count write_count metadata_count read_min read_max write_min write_max metadata_min metadata_max data_count data_size data_time sequential_time random_time sequential_size random_size sequential_count random_count close_time open_time seek_time stat_time close_count open_count seek_count stat_count       bw     iops intensity     id\n",
       "npartitions=698                                                                                                                                                                                                                                                                                                                                                                                                                                                                              \n",
       "                     float64       int64    int64    int64    int64   float64    float64       float64     int64      int64         int64      int64       int64          int64    int64    int64     int64     int64        int64        int64      int64     int64   float64         float64     float64           int64       int64            int64        int64    float64   float64   float64   float64       int64      int64      int64      int64  float64  float64   float64  int64\n",
       "                         ...         ...      ...      ...      ...       ...        ...           ...       ...        ...           ...        ...         ...            ...      ...      ...       ...       ...          ...          ...        ...       ...       ...             ...         ...             ...         ...              ...          ...        ...       ...       ...       ...         ...        ...        ...        ...      ...      ...       ...    ...\n",
       "...                      ...         ...      ...      ...      ...       ...        ...           ...       ...        ...           ...        ...         ...            ...      ...      ...       ...       ...          ...          ...        ...       ...       ...             ...         ...             ...         ...              ...          ...        ...       ...       ...       ...         ...        ...        ...        ...      ...      ...       ...    ...\n",
       "                         ...         ...      ...      ...      ...       ...        ...           ...       ...        ...           ...        ...         ...            ...      ...      ...       ...       ...          ...          ...        ...       ...       ...             ...         ...             ...         ...              ...          ...        ...       ...       ...       ...         ...        ...        ...        ...      ...      ...       ...    ...\n",
       "                         ...         ...      ...      ...      ...       ...        ...           ...       ...        ...           ...        ...         ...            ...      ...      ...       ...       ...          ...          ...        ...       ...       ...             ...         ...             ...         ...              ...          ...        ...       ...       ...       ...         ...        ...        ...        ...      ...      ...       ...    ...\n",
       "Dask Name: read-parquet, 1 graph layer"
      ]
     },
     "execution_count": 8,
     "metadata": {},
     "output_type": "execute_result"
    },
    {
     "name": "stdout",
     "output_type": "stream",
     "text": [
      "time: 967 ms (started: 2023-09-25 14:05:40 -07:00)\n"
     ]
    }
   ],
   "source": [
    "ddf = dd.read_parquet(f\"{log_dir}/_checkpoints/_main_view\")\n",
    "ddf"
   ]
  },
  {
   "cell_type": "code",
   "execution_count": 9,
   "metadata": {},
   "outputs": [
    {
     "data": {
      "text/plain": [
       "33186162"
      ]
     },
     "execution_count": 9,
     "metadata": {},
     "output_type": "execute_result"
    },
    {
     "name": "stdout",
     "output_type": "stream",
     "text": [
      "time: 9 s (started: 2023-09-25 14:06:02 -07:00)\n"
     ]
    }
   ],
   "source": [
    "len(ddf.index)"
   ]
  },
  {
   "cell_type": "code",
   "execution_count": 17,
   "metadata": {},
   "outputs": [
    {
     "data": {
      "text/plain": [
       "11.145508049055934"
      ]
     },
     "execution_count": 17,
     "metadata": {},
     "output_type": "execute_result"
    },
    {
     "name": "stdout",
     "output_type": "stream",
     "text": [
      "time: 8.89 s (started: 2023-09-25 14:09:31 -07:00)\n"
     ]
    }
   ],
   "source": [
    "ddf.memory_usage().sum().compute() / (1024.0 ** 3)"
   ]
  },
  {
   "cell_type": "code",
   "execution_count": 18,
   "metadata": {},
   "outputs": [
    {
     "data": {
      "text/plain": [
       "14.690227598883212"
      ]
     },
     "execution_count": 18,
     "metadata": {},
     "output_type": "execute_result"
    },
    {
     "name": "stdout",
     "output_type": "stream",
     "text": [
      "time: 9.72 s (started: 2023-09-25 14:09:40 -07:00)\n"
     ]
    }
   ],
   "source": [
    "ddf.memory_usage(deep=True).sum().compute() / (1024.0 ** 3)"
   ]
  },
  {
   "cell_type": "code",
   "execution_count": 7,
   "metadata": {},
   "outputs": [
    {
     "data": {
      "text/plain": [
       "<matplotlib.axes._subplots.AxesSubplot at 0x20004da22be0>"
      ]
     },
     "execution_count": 7,
     "metadata": {},
     "output_type": "execute_result"
    },
    {
     "data": {
      "image/png": "[encoded data removed]",
      "text/plain": [
       "<Figure size 640x480 with 1 Axes>"
      ]
     },
     "metadata": {},
     "output_type": "display_data"
    },
    {
     "name": "stdout",
     "output_type": "stream",
     "text": [
      "time: 13.9 s (started: 2023-09-24 21:44:23 -07:00)\n"
     ]
    }
   ],
   "source": [
    "ax, _ = result.plot.slope(\n",
    "    metric='duration',\n",
    "    view_keys=[('time_range',)],\n",
    "#     ax=ax,\n",
    "    xlabel='% of I/O Time Explained',\n",
    "    ylabel='% of I/O Records Retained',\n",
    "#     color=f\"C{i}\"\n",
    ")\n",
    "ax"
   ]
  },
  {
   "cell_type": "code",
   "execution_count": 7,
   "metadata": {},
   "outputs": [
    {
     "data": {
      "image/png": "[encoded data removed]",
      "text/plain": [
       "<Figure size 500x500 with 1 Axes>"
      ]
     },
     "metadata": {},
     "output_type": "display_data"
    },
    {
     "name": "stdout",
     "output_type": "stream",
     "text": [
      "time: 55.6 s (started: 2023-09-25 22:29:15 -07:00)\n"
     ]
    }
   ],
   "source": [
    "fig, ax = result.plot.view_relations3(\n",
    "    metric='duration',\n",
    "    view_key1=('time_range',),\n",
    "    view_key2=('file_name',),\n",
    "    view_key3=('proc_name',),\n",
    "    label1='Time-based',\n",
    "    label2='File-based',\n",
    "    label3='Process-based'\n",
    ")\n",
    "ax.get_legend().remove()"
   ]
  },
  {
   "cell_type": "code",
   "execution_count": 9,
   "metadata": {},
   "outputs": [
    {
     "name": "stdout",
     "output_type": "stream",
     "text": [
      "duration ('time_range',) 889\n",
      "duration ('file_name',) 475152\n",
      "duration ('proc_name',) 857\n",
      "duration ('time_range', 'file_name') 148139\n",
      "duration ('time_range', 'proc_name') 1291\n",
      "duration ('file_name', 'time_range') 1404\n",
      "duration ('file_name', 'proc_name') 1460\n",
      "duration ('proc_name', 'time_range') 855\n",
      "duration ('proc_name', 'file_name') 245494\n",
      "duration ('time_range', 'file_name', 'proc_name') 1399\n",
      "duration ('time_range', 'proc_name', 'file_name') 58345\n",
      "duration ('file_name', 'time_range', 'proc_name') 808\n",
      "duration ('file_name', 'proc_name', 'time_range') 1060\n",
      "duration ('proc_name', 'time_range', 'file_name') 61341\n",
      "duration ('proc_name', 'file_name', 'time_range') 1312\n",
      "time: 50min 35s (started: 2023-09-26 09:19:42 -07:00)\n"
     ]
    },
    {
     "name": "stderr",
     "output_type": "stream",
     "text": [
      "2023-09-26 10:24:47,061 - distributed.scheduler - ERROR - Error transitioning \"('unique-chunk-05c40aef689398fca2a883603d1fed29-bf59accc838eca672e6bcb43c0d14e84', 0)\" from 'processing' to 'erred'\n",
      "Traceback (most recent call last):\n",
      "  File \"/usr/workspace/iopp/anaconda-lassen/envs/wisio_lassen/lib/python3.9/site-packages/distributed/scheduler.py\", line 1853, in _transition\n",
      "    recommendations, client_msgs, worker_msgs = func(\n",
      "TypeError: transition_processing_erred() missing 1 required keyword-only argument: 'worker'\n",
      "2023-09-26 10:24:47,099 - distributed.scheduler - ERROR - transition_processing_erred() missing 1 required keyword-only argument: 'worker'\n",
      "Traceback (most recent call last):\n",
      "  File \"/usr/workspace/iopp/anaconda-lassen/envs/wisio_lassen/lib/python3.9/site-packages/distributed/utils.py\", line 742, in wrapper\n",
      "    return await func(*args, **kwargs)\n",
      "  File \"/usr/workspace/iopp/anaconda-lassen/envs/wisio_lassen/lib/python3.9/site-packages/distributed/scheduler.py\", line 4850, in remove_worker\n",
      "    self.transitions(recommendations, stimulus_id=stimulus_id)\n",
      "  File \"/usr/workspace/iopp/anaconda-lassen/envs/wisio_lassen/lib/python3.9/site-packages/distributed/scheduler.py\", line 7265, in transitions\n",
      "    self._transitions(recommendations, client_msgs, worker_msgs, stimulus_id)\n",
      "  File \"/usr/workspace/iopp/anaconda-lassen/envs/wisio_lassen/lib/python3.9/site-packages/distributed/scheduler.py\", line 1957, in _transitions\n",
      "    new_recs, new_cmsgs, new_wmsgs = self._transition(key, finish, stimulus_id)\n",
      "  File \"/usr/workspace/iopp/anaconda-lassen/envs/wisio_lassen/lib/python3.9/site-packages/distributed/scheduler.py\", line 1853, in _transition\n",
      "    recommendations, client_msgs, worker_msgs = func(\n",
      "TypeError: transition_processing_erred() missing 1 required keyword-only argument: 'worker'\n",
      "2023-09-26 10:24:47,101 - distributed.core - ERROR - transition_processing_erred() missing 1 required keyword-only argument: 'worker'\n",
      "Traceback (most recent call last):\n",
      "  File \"/usr/workspace/iopp/anaconda-lassen/envs/wisio_lassen/lib/python3.9/site-packages/distributed/utils.py\", line 742, in wrapper\n",
      "    return await func(*args, **kwargs)\n",
      "  File \"/usr/workspace/iopp/anaconda-lassen/envs/wisio_lassen/lib/python3.9/site-packages/distributed/scheduler.py\", line 4235, in add_worker\n",
      "    await self.handle_worker(comm, address)\n",
      "  File \"/usr/workspace/iopp/anaconda-lassen/envs/wisio_lassen/lib/python3.9/site-packages/distributed/scheduler.py\", line 5440, in handle_worker\n",
      "    await self.remove_worker(\n",
      "  File \"/usr/workspace/iopp/anaconda-lassen/envs/wisio_lassen/lib/python3.9/site-packages/distributed/utils.py\", line 742, in wrapper\n",
      "    return await func(*args, **kwargs)\n",
      "  File \"/usr/workspace/iopp/anaconda-lassen/envs/wisio_lassen/lib/python3.9/site-packages/distributed/scheduler.py\", line 4850, in remove_worker\n",
      "    self.transitions(recommendations, stimulus_id=stimulus_id)\n",
      "  File \"/usr/workspace/iopp/anaconda-lassen/envs/wisio_lassen/lib/python3.9/site-packages/distributed/scheduler.py\", line 7265, in transitions\n",
      "    self._transitions(recommendations, client_msgs, worker_msgs, stimulus_id)\n",
      "  File \"/usr/workspace/iopp/anaconda-lassen/envs/wisio_lassen/lib/python3.9/site-packages/distributed/scheduler.py\", line 1957, in _transitions\n",
      "    new_recs, new_cmsgs, new_wmsgs = self._transition(key, finish, stimulus_id)\n",
      "  File \"/usr/workspace/iopp/anaconda-lassen/envs/wisio_lassen/lib/python3.9/site-packages/distributed/scheduler.py\", line 1853, in _transition\n",
      "    recommendations, client_msgs, worker_msgs = func(\n",
      "TypeError: transition_processing_erred() missing 1 required keyword-only argument: 'worker'\n",
      "2023-09-26 10:24:47,102 - distributed.core - ERROR - Exception while handling op register-worker\n",
      "Traceback (most recent call last):\n",
      "  File \"/usr/workspace/iopp/anaconda-lassen/envs/wisio_lassen/lib/python3.9/site-packages/distributed/core.py\", line 820, in _handle_comm\n",
      "    result = await result\n",
      "  File \"/usr/workspace/iopp/anaconda-lassen/envs/wisio_lassen/lib/python3.9/site-packages/distributed/utils.py\", line 742, in wrapper\n",
      "    return await func(*args, **kwargs)\n",
      "  File \"/usr/workspace/iopp/anaconda-lassen/envs/wisio_lassen/lib/python3.9/site-packages/distributed/scheduler.py\", line 4235, in add_worker\n",
      "    await self.handle_worker(comm, address)\n",
      "  File \"/usr/workspace/iopp/anaconda-lassen/envs/wisio_lassen/lib/python3.9/site-packages/distributed/scheduler.py\", line 5440, in handle_worker\n",
      "    await self.remove_worker(\n",
      "  File \"/usr/workspace/iopp/anaconda-lassen/envs/wisio_lassen/lib/python3.9/site-packages/distributed/utils.py\", line 742, in wrapper\n",
      "    return await func(*args, **kwargs)\n",
      "  File \"/usr/workspace/iopp/anaconda-lassen/envs/wisio_lassen/lib/python3.9/site-packages/distributed/scheduler.py\", line 4850, in remove_worker\n",
      "    self.transitions(recommendations, stimulus_id=stimulus_id)\n",
      "  File \"/usr/workspace/iopp/anaconda-lassen/envs/wisio_lassen/lib/python3.9/site-packages/distributed/scheduler.py\", line 7265, in transitions\n",
      "    self._transitions(recommendations, client_msgs, worker_msgs, stimulus_id)\n",
      "  File \"/usr/workspace/iopp/anaconda-lassen/envs/wisio_lassen/lib/python3.9/site-packages/distributed/scheduler.py\", line 1957, in _transitions\n",
      "    new_recs, new_cmsgs, new_wmsgs = self._transition(key, finish, stimulus_id)\n",
      "  File \"/usr/workspace/iopp/anaconda-lassen/envs/wisio_lassen/lib/python3.9/site-packages/distributed/scheduler.py\", line 1853, in _transition\n",
      "    recommendations, client_msgs, worker_msgs = func(\n",
      "TypeError: transition_processing_erred() missing 1 required keyword-only argument: 'worker'\n",
      "Task exception was never retrieved\n",
      "future: <Task finished name='Task-20755' coro=<Server._handle_comm() done, defined at /usr/workspace/iopp/anaconda-lassen/envs/wisio_lassen/lib/python3.9/site-packages/distributed/core.py:726> exception=TypeError(\"transition_processing_erred() missing 1 required keyword-only argument: 'worker'\")>\n",
      "Traceback (most recent call last):\n",
      "  File \"/usr/workspace/iopp/anaconda-lassen/envs/wisio_lassen/lib/python3.9/site-packages/distributed/core.py\", line 820, in _handle_comm\n",
      "    result = await result\n",
      "  File \"/usr/workspace/iopp/anaconda-lassen/envs/wisio_lassen/lib/python3.9/site-packages/distributed/utils.py\", line 742, in wrapper\n",
      "    return await func(*args, **kwargs)\n",
      "  File \"/usr/workspace/iopp/anaconda-lassen/envs/wisio_lassen/lib/python3.9/site-packages/distributed/scheduler.py\", line 4235, in add_worker\n",
      "    await self.handle_worker(comm, address)\n",
      "  File \"/usr/workspace/iopp/anaconda-lassen/envs/wisio_lassen/lib/python3.9/site-packages/distributed/scheduler.py\", line 5440, in handle_worker\n",
      "    await self.remove_worker(\n",
      "  File \"/usr/workspace/iopp/anaconda-lassen/envs/wisio_lassen/lib/python3.9/site-packages/distributed/utils.py\", line 742, in wrapper\n",
      "    return await func(*args, **kwargs)\n",
      "  File \"/usr/workspace/iopp/anaconda-lassen/envs/wisio_lassen/lib/python3.9/site-packages/distributed/scheduler.py\", line 4850, in remove_worker\n",
      "    self.transitions(recommendations, stimulus_id=stimulus_id)\n",
      "  File \"/usr/workspace/iopp/anaconda-lassen/envs/wisio_lassen/lib/python3.9/site-packages/distributed/scheduler.py\", line 7265, in transitions\n",
      "    self._transitions(recommendations, client_msgs, worker_msgs, stimulus_id)\n",
      "  File \"/usr/workspace/iopp/anaconda-lassen/envs/wisio_lassen/lib/python3.9/site-packages/distributed/scheduler.py\", line 1957, in _transitions\n",
      "    new_recs, new_cmsgs, new_wmsgs = self._transition(key, finish, stimulus_id)\n",
      "  File \"/usr/workspace/iopp/anaconda-lassen/envs/wisio_lassen/lib/python3.9/site-packages/distributed/scheduler.py\", line 1853, in _transition\n",
      "    recommendations, client_msgs, worker_msgs = func(\n",
      "TypeError: transition_processing_erred() missing 1 required keyword-only argument: 'worker'\n"
     ]
    }
   ],
   "source": [
    "for metric in result.bottlenecks:\n",
    "    for view_type in result.bottlenecks[metric]:\n",
    "        print(metric, view_type, len(result.bottlenecks[metric][view_type].high_level_view))"
   ]
  },
  {
   "cell_type": "code",
   "execution_count": 8,
   "metadata": {},
   "outputs": [
    {
     "data": {
      "text/plain": [
       "<wisio._recorder.rules.RecorderRuleEngine at 0x200067712400>"
      ]
     },
     "execution_count": 8,
     "metadata": {},
     "output_type": "execute_result"
    },
    {
     "name": "stdout",
     "output_type": "stream",
     "text": [
      "time: 81.6 ms (started: 2023-09-25 22:30:20 -07:00)\n"
     ]
    }
   ],
   "source": [
    "from wisio.rules import Rule\n",
    "from wisio._recorder.rules import RecorderRuleEngine\n",
    "\n",
    "rules = dict(\n",
    "    # app_name=[Rule.BOTT_METADATA_ACCESS, Rule.BOTT_SMALL_READS, Rule.BOTT_SMALL_WRITES],\n",
    "    # file_dir=[Rule.BOTT_METADATA_ACCESS, Rule.BOTT_SMALL_READS, Rule.BOTT_SMALL_WRITES],\n",
    "    # file_name=[Rule.BOTT_METADATA_ACCESS, Rule.BOTT_SMALL_READS, Rule.BOTT_SMALL_WRITES],\n",
    "    # file_regex=[Rule.BOTT_METADATA_ACCESS, Rule.BOTT_SMALL_READS, Rule.BOTT_SMALL_WRITES],\n",
    "    # node_name=[Rule.BOTT_METADATA_ACCESS, Rule.BOTT_SMALL_READS, Rule.BOTT_SMALL_WRITES],\n",
    "    # proc_name=[Rule.BOTT_METADATA_ACCESS, Rule.BOTT_SMALL_READS, Rule.BOTT_SMALL_WRITES],\n",
    "    # rank=[Rule.BOTT_METADATA_ACCESS, Rule.BOTT_SMALL_READS, Rule.BOTT_SMALL_WRITES],\n",
    "    time_range=[Rule.BOTT_METADATA_ACCESS],\n",
    ")\n",
    "\n",
    "rule_engine = RecorderRuleEngine(rules=rules)\n",
    "\n",
    "rule_engine\n"
   ]
  },
  {
   "cell_type": "code",
   "execution_count": null,
   "metadata": {},
   "outputs": [],
   "source": [
    "%autoreload 2\n",
    "\n",
    "characteristics = rule_engine.process_characteristics(view=result.main_view)\n",
    "characteristics\n"
   ]
  },
  {
   "cell_type": "code",
   "execution_count": null,
   "metadata": {},
   "outputs": [],
   "source": [
    "from rich.console import Console\n",
    "from rich.panel import Panel\n",
    "from rich.table import Table\n",
    "from rich.tree import Tree\n",
    "\n",
    "# Create a new Table object from Rich library\n",
    "table = Table(box=None, show_header=False)\n",
    "\n",
    "# Add columns to the table for the key and value\n",
    "table.add_column(style=\"cyan\")\n",
    "table.add_column()\n",
    "\n",
    "# Add each key-value pair to the table as a row\n",
    "for rule, result in characteristics.items():\n",
    "    if result.detail_list is None:\n",
    "        table.add_row(result.description, result.value_fmt)\n",
    "    else:\n",
    "        detail_tree = Tree(result.value_fmt)\n",
    "        for detail in result.detail_list:\n",
    "            detail_tree.add(detail)\n",
    "        table.add_row(result.description, detail_tree)\n",
    "\n",
    "# Create a Console object from Rich library\n",
    "console = Console()\n",
    "\n",
    "# Print the table with Rich formatting\n",
    "console.print(Panel(table, title='Summary'))\n"
   ]
  },
  {
   "cell_type": "code",
   "execution_count": null,
   "metadata": {},
   "outputs": [],
   "source": []
  }
 ],
 "metadata": {
  "kernelspec": {
   "display_name": "Python [conda env:anaconda-lassen-wisio_lassen] *",
   "language": "python",
   "name": "conda-env-anaconda-lassen-wisio_lassen-py"
  },
  "language_info": {
   "codemirror_mode": {
    "name": "ipython",
    "version": 3
   },
   "file_extension": ".py",
   "mimetype": "text/x-python",
   "name": "python",
   "nbconvert_exporter": "python",
   "pygments_lexer": "ipython3",
   "version": "3.9.18"
  },
  "vscode": {
   "interpreter": {
    "hash": "5fec0851e4f6f01b6df5374e9d9a00bfd82bb6133a08238edb641111344e8885"
   }
  }
 },
 "nbformat": 4,
 "nbformat_minor": 4
}

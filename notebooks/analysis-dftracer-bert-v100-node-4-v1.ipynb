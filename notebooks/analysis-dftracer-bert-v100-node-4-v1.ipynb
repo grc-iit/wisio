{
 "cells": [
  {
   "cell_type": "code",
   "execution_count": 1,
   "id": "9e3bbdc3",
   "metadata": {
    "execution": {
     "iopub.execute_input": "2024-10-08T06:39:00.468473Z",
     "iopub.status.busy": "2024-10-08T06:39:00.467978Z",
     "iopub.status.idle": "2024-10-08T06:39:00.501962Z",
     "shell.execute_reply": "2024-10-08T06:39:00.501313Z"
    },
    "papermill": {
     "duration": 0.041054,
     "end_time": "2024-10-08T06:39:00.503455",
     "exception": false,
     "start_time": "2024-10-08T06:39:00.462401",
     "status": "completed"
    },
    "tags": []
   },
   "outputs": [
    {
     "name": "stdout",
     "output_type": "stream",
     "text": [
      "time: 186 µs (started: 2024-10-07 23:39:00 -07:00)\n"
     ]
    }
   ],
   "source": [
    "%load_ext autoreload\n",
    "%load_ext autotime"
   ]
  },
  {
   "cell_type": "code",
   "execution_count": 2,
   "id": "7e688b6e",
   "metadata": {
    "execution": {
     "iopub.execute_input": "2024-10-08T06:39:00.511437Z",
     "iopub.status.busy": "2024-10-08T06:39:00.510963Z",
     "iopub.status.idle": "2024-10-08T06:39:00.515246Z",
     "shell.execute_reply": "2024-10-08T06:39:00.514644Z"
    },
    "papermill": {
     "duration": 0.009531,
     "end_time": "2024-10-08T06:39:00.516621",
     "exception": false,
     "start_time": "2024-10-08T06:39:00.507090",
     "status": "completed"
    },
    "tags": []
   },
   "outputs": [
    {
     "name": "stdout",
     "output_type": "stream",
     "text": [
      "time: 571 µs (started: 2024-10-07 23:39:00 -07:00)\n"
     ]
    }
   ],
   "source": [
    "import os\n",
    "import sys\n",
    "import time\n",
    "import warnings\n",
    "\n",
    "# Add WisIO to the path\n",
    "sys.path.append(os.path.abspath(\"../\"))\n",
    "\n",
    "# Filter warnings\n",
    "warnings.filterwarnings('ignore')"
   ]
  },
  {
   "cell_type": "code",
   "execution_count": 3,
   "id": "15160798",
   "metadata": {
    "execution": {
     "iopub.execute_input": "2024-10-08T06:39:00.534407Z",
     "iopub.status.busy": "2024-10-08T06:39:00.533949Z",
     "iopub.status.idle": "2024-10-08T06:39:02.268393Z",
     "shell.execute_reply": "2024-10-08T06:39:02.267289Z"
    },
    "papermill": {
     "duration": 1.750141,
     "end_time": "2024-10-08T06:39:02.270136",
     "exception": false,
     "start_time": "2024-10-08T06:39:00.519995",
     "status": "completed"
    },
    "tags": []
   },
   "outputs": [
    {
     "name": "stdout",
     "output_type": "stream",
     "text": [
      "pandas 2.2.3\n",
      "dask 2023.5.1\n",
      "numpy 1.24.3\n",
      "time: 1.73 s (started: 2024-10-07 23:39:00 -07:00)\n"
     ]
    }
   ],
   "source": [
    "import dask\n",
    "import dask.dataframe as dd\n",
    "import numpy as np\n",
    "import pandas as pd\n",
    "print('pandas', pd.__version__)\n",
    "print('dask', dask.__version__)\n",
    "print('numpy', np.__version__)"
   ]
  },
  {
   "cell_type": "code",
   "execution_count": 4,
   "id": "31692efd",
   "metadata": {
    "execution": {
     "iopub.execute_input": "2024-10-08T06:39:02.279509Z",
     "iopub.status.busy": "2024-10-08T06:39:02.279038Z",
     "iopub.status.idle": "2024-10-08T06:39:02.284529Z",
     "shell.execute_reply": "2024-10-08T06:39:02.283755Z"
    },
    "papermill": {
     "duration": 0.011538,
     "end_time": "2024-10-08T06:39:02.285974",
     "exception": false,
     "start_time": "2024-10-08T06:39:02.274436",
     "status": "completed"
    },
    "tags": [
     "parameters"
    ]
   },
   "outputs": [
    {
     "name": "stdout",
     "output_type": "stream",
     "text": [
      "time: 985 µs (started: 2024-10-07 23:39:02 -07:00)\n"
     ]
    }
   ],
   "source": [
    "analyzer = \"dftracer\"\n",
    "checkpoint = False\n",
    "logical_view_types = False\n",
    "output_max_bottlenecks = 1\n",
    "output_root_only = False\n",
    "run_dir = f\".wisio/{analyzer}/{int(time.time())}\"\n",
    "bottleneck_dir = f\"{run_dir}/bottlenecks\"\n",
    "checkpoint_dir = f\"{run_dir}/checkpoints\"\n",
    "trace_path = \"/p/lustre3/iopp/dftracer-traces/v1.0.5-develop/corona/cm1_1_48_20240926/cm1_1_48_20240926-COMPACT/*.pfw.gz\""
   ]
  },
  {
   "cell_type": "code",
   "execution_count": 5,
   "id": "a8c9343c",
   "metadata": {
    "execution": {
     "iopub.execute_input": "2024-10-08T06:39:02.295020Z",
     "iopub.status.busy": "2024-10-08T06:39:02.294409Z",
     "iopub.status.idle": "2024-10-08T06:39:02.298980Z",
     "shell.execute_reply": "2024-10-08T06:39:02.298231Z"
    },
    "papermill": {
     "duration": 0.010568,
     "end_time": "2024-10-08T06:39:02.300426",
     "exception": false,
     "start_time": "2024-10-08T06:39:02.289858",
     "status": "completed"
    },
    "tags": [
     "injected-parameters"
    ]
   },
   "outputs": [
    {
     "name": "stdout",
     "output_type": "stream",
     "text": [
      "time: 675 µs (started: 2024-10-07 23:39:02 -07:00)\n"
     ]
    }
   ],
   "source": [
    "# Parameters\n",
    "analyzer = \"dftracer\"\n",
    "checkpoint = True\n",
    "checkpoint_dir = \"/usr/workspace/iopp/wisio_logs/_checkpoints/dftracer-bert-v100-node-4-v1\"\n",
    "logical_view_types = False\n",
    "output_max_bottlenecks = 1\n",
    "output_root_only = False\n",
    "run_dir = \".wisio/dftracer/bert-v100-node-4-v1\"\n",
    "trace_path = \"/p/lustre3/iopp/dftracer-traces-lfs/v1.0.5-develop/corona/bert/v100/node-4/v1/RAW/*.pfw.gz\"\n"
   ]
  },
  {
   "cell_type": "code",
   "execution_count": 6,
   "id": "59e8e3de",
   "metadata": {
    "execution": {
     "iopub.execute_input": "2024-10-08T06:39:02.308939Z",
     "iopub.status.busy": "2024-10-08T06:39:02.308444Z",
     "iopub.status.idle": "2024-10-08T06:39:07.197357Z",
     "shell.execute_reply": "2024-10-08T06:39:07.196565Z"
    },
    "papermill": {
     "duration": 4.894791,
     "end_time": "2024-10-08T06:39:07.198965",
     "exception": false,
     "start_time": "2024-10-08T06:39:02.304174",
     "status": "completed"
    },
    "tags": []
   },
   "outputs": [
    {
     "name": "stdout",
     "output_type": "stream",
     "text": [
      "time: 4.88 s (started: 2024-10-07 23:39:02 -07:00)\n"
     ]
    }
   ],
   "source": [
    "from distributed import Client\n",
    "from hydra import compose, initialize\n",
    "from hydra.core.hydra_config import HydraConfig\n",
    "from hydra.utils import instantiate\n",
    "from wisio.config import init_hydra_config_store\n",
    "from wisio.utils.file_utils import ensure_dir\n",
    "\n",
    "ensure_dir(run_dir)\n",
    "\n",
    "with initialize(version_base=None, config_path=None):\n",
    "    init_hydra_config_store()\n",
    "    cfg = compose(\n",
    "        config_name=\"config\",\n",
    "        overrides=[\n",
    "            f\"+analyzer={analyzer}\",\n",
    "            f\"analyzer.bottleneck_dir={bottleneck_dir}\",\n",
    "            f\"analyzer.checkpoint={checkpoint}\",\n",
    "            f\"analyzer.checkpoint_dir={checkpoint_dir}\",\n",
    "            f\"hydra.run.dir={run_dir}\",\n",
    "            f\"hydra.runtime.output_dir={run_dir}\",\n",
    "            f\"logical_view_types={logical_view_types}\",\n",
    "            f\"output.max_bottlenecks={output_max_bottlenecks}\",\n",
    "            f\"output.root_only={output_root_only}\",\n",
    "            f\"trace_path={trace_path}\",\n",
    "        ],\n",
    "        return_hydra_config=True,\n",
    "    )\n",
    "    HydraConfig.instance().set_config(cfg)\n",
    "    cluster = instantiate(cfg.cluster)\n",
    "    client = Client(cluster)\n",
    "    analyzer = instantiate(cfg.analyzer)\n",
    "    output = instantiate(cfg.output)"
   ]
  },
  {
   "cell_type": "code",
   "execution_count": 7,
   "id": "b54ebb10",
   "metadata": {
    "execution": {
     "iopub.execute_input": "2024-10-08T06:39:07.209025Z",
     "iopub.status.busy": "2024-10-08T06:39:07.208453Z",
     "iopub.status.idle": "2024-10-08T06:39:28.784172Z",
     "shell.execute_reply": "2024-10-08T06:39:28.779358Z"
    },
    "papermill": {
     "duration": 21.582415,
     "end_time": "2024-10-08T06:39:28.786084",
     "exception": false,
     "start_time": "2024-10-08T06:39:07.203669",
     "status": "completed"
    },
    "tags": []
   },
   "outputs": [
    {
     "name": "stdout",
     "output_type": "stream",
     "text": [
      "time: 21.6 s (started: 2024-10-07 23:39:07 -07:00)\n"
     ]
    }
   ],
   "source": [
    "result = analyzer.analyze_trace(\n",
    "    trace_path=cfg.trace_path,\n",
    "    # accuracy=cfg.accuracy,\n",
    "    exclude_bottlenecks=cfg.exclude_bottlenecks,\n",
    "    exclude_characteristics=cfg.exclude_characteristics,\n",
    "    logical_view_types=cfg.logical_view_types,\n",
    "    metrics=cfg.metrics,\n",
    "    threshold=cfg.threshold,\n",
    "    view_types=cfg.view_types,\n",
    ")"
   ]
  },
  {
   "cell_type": "code",
   "execution_count": 8,
   "id": "13409425",
   "metadata": {
    "execution": {
     "iopub.execute_input": "2024-10-08T06:39:28.796180Z",
     "iopub.status.busy": "2024-10-08T06:39:28.795793Z",
     "iopub.status.idle": "2024-10-08T06:39:31.393412Z",
     "shell.execute_reply": "2024-10-08T06:39:31.392491Z"
    },
    "papermill": {
     "duration": 2.60437,
     "end_time": "2024-10-08T06:39:31.395066",
     "exception": false,
     "start_time": "2024-10-08T06:39:28.790696",
     "status": "completed"
    },
    "tags": []
   },
   "outputs": [
    {
     "data": {
      "text/html": [
       "<pre style=\"white-space:pre;overflow-x:auto;line-height:normal;font-family:Menlo,'DejaVu Sans Mono',consolas,'Courier New',monospace\">╭────────────────────────────────────────────── I/O Characteristics ──────────────────────────────────────────────╮\n",
       "│                                                                                                                 │\n",
       "│ <span style=\"color: #008080; text-decoration-color: #008080\"> Runtime         </span> 1097.44 seconds                                                                               │\n",
       "│ <span style=\"color: #008080; text-decoration-color: #008080\"> I/O Time        </span> 3.41 seconds                                                                                  │\n",
       "│ <span style=\"color: #008080; text-decoration-color: #008080\">                 </span> ├── Read - 1.00 seconds (29.30%)                                                              │\n",
       "│ <span style=\"color: #008080; text-decoration-color: #008080\">                 </span> ├── Write - 0.01 seconds (0.25%)                                                              │\n",
       "│ <span style=\"color: #008080; text-decoration-color: #008080\">                 </span> └── Metadata - 2.49 seconds (72.85%)                                                          │\n",
       "│ <span style=\"color: #008080; text-decoration-color: #008080\"> I/O Operations  </span> 2,175,579 ops                                                                                 │\n",
       "│ <span style=\"color: #008080; text-decoration-color: #008080\">                 </span> ├── Read - 72,292 ops (3.32%)                                                                 │\n",
       "│ <span style=\"color: #008080; text-decoration-color: #008080\">                 </span> ├── Write - 2,029 ops (0.09%)                                                                 │\n",
       "│ <span style=\"color: #008080; text-decoration-color: #008080\">                 </span> └── Metadata - 2,092,426 ops (96.18%)                                                         │\n",
       "│ <span style=\"color: #008080; text-decoration-color: #008080\"> I/O Size        </span> 3.94 GiB                                                                                      │\n",
       "│ <span style=\"color: #008080; text-decoration-color: #008080\">                 </span> ├── Read - 3.94 GiB (99.99%)                                                                  │\n",
       "│ <span style=\"color: #008080; text-decoration-color: #008080\">                 </span> └── Write - 248.63 kiB (0.01%)                                                                │\n",
       "│ <span style=\"color: #008080; text-decoration-color: #008080\"> Read Requests   </span> 4 kiB-256 kiB - 72,164 ops                                                                    │\n",
       "│ <span style=\"color: #008080; text-decoration-color: #008080\">                 </span> ├── &lt;4 kiB - 43,632 ops (60.46%)                                                              │\n",
       "│ <span style=\"color: #008080; text-decoration-color: #008080\">                 </span> ├── 4-16 kiB - 4,992 ops (6.92%)                                                              │\n",
       "│ <span style=\"color: #008080; text-decoration-color: #008080\">                 </span> ├── 16-64 kiB - 7,872 ops (10.91%)                                                            │\n",
       "│ <span style=\"color: #008080; text-decoration-color: #008080\">                 </span> └── 64-256 kiB - 15,668 ops (21.71%)                                                          │\n",
       "│ <span style=\"color: #008080; text-decoration-color: #008080\"> Write Requests  </span> 4 kiB-4 kiB - 2,029 ops                                                                       │\n",
       "│ <span style=\"color: #008080; text-decoration-color: #008080\">                 </span> └── &lt;4 kiB - 2,029 ops (100.00%)                                                              │\n",
       "│ <span style=\"color: #008080; text-decoration-color: #008080\"> Nodes           </span> 4 nodes                                                                                       │\n",
       "│ <span style=\"color: #008080; text-decoration-color: #008080\">                 </span> ├── c51182251654b704 - 3.41 s (100.00%) - 0.98 GiB/10.55 kiB R/W (24.99/0.00%) - 543,587 ops  │\n",
       "│ <span style=\"color: #008080; text-decoration-color: #008080\">                 </span> │   (24.99%)                                                                                  │\n",
       "│ <span style=\"color: #008080; text-decoration-color: #008080\">                 </span> ├── b14bffbb1056730d - 3.37 s (98.66%) - 0.98 GiB/10.55 kiB R/W (24.97/0.00%) - 543,593 ops   │\n",
       "│ <span style=\"color: #008080; text-decoration-color: #008080\">                 </span> │   (24.99%)                                                                                  │\n",
       "│ <span style=\"color: #008080; text-decoration-color: #008080\">                 </span> ├── 0b2e877f7c065ff0 - 3.36 s (98.32%) - 0.99 GiB/10.55 kiB R/W (25.02/0.00%) - 543,599 ops   │\n",
       "│ <span style=\"color: #008080; text-decoration-color: #008080\">                 </span> │   (24.99%)                                                                                  │\n",
       "│ <span style=\"color: #008080; text-decoration-color: #008080\">                 </span> └── aeed2ff63b9a3441 - 3.33 s (97.54%) - 0.99 GiB/216.99 kiB R/W (25.02/0.01%) - 544,800 ops  │\n",
       "│ <span style=\"color: #008080; text-decoration-color: #008080\">                 </span>     (25.04%)                                                                                  │\n",
       "│ <span style=\"color: #008080; text-decoration-color: #008080\"> Apps            </span> 1 app                                                                                         │\n",
       "│ <span style=\"color: #008080; text-decoration-color: #008080\"> Processes/Ranks </span> 709 processes                                                                                 │\n",
       "│ <span style=\"color: #008080; text-decoration-color: #008080\"> Files           </span> 5,065 files                                                                                   │\n",
       "│ <span style=\"color: #008080; text-decoration-color: #008080\">                 </span> ├── Shared: 4,775 files (94.27%)                                                              │\n",
       "│ <span style=\"color: #008080; text-decoration-color: #008080\">                 </span> └── FPP: 290 files (5.73%)                                                                    │\n",
       "│ <span style=\"color: #008080; text-decoration-color: #008080\"> Time Periods    </span> 1,022 time periods (Time Granularity: 1,000,000.0)                                            │\n",
       "│ <span style=\"color: #008080; text-decoration-color: #008080\"> Access Pattern  </span> <span style=\"font-weight: bold\">Sequential</span>: 74,321 ops (100.00%) - <span style=\"font-weight: bold\">Random</span>: 0 ops (0.00%)                                      │\n",
       "│                                                                                                                 │\n",
       "╰─ <span style=\"font-weight: bold\">R</span>: Read - <span style=\"font-weight: bold\">W</span>: Write - <span style=\"font-weight: bold\">M</span>: Metadata  ─────────────────────────────────────────────────────────────────────────────╯\n",
       "                                                                                                                   \n",
       "╭──────────────────────────────────── 5947 I/O Bottlenecks with 20242 Reasons ────────────────────────────────────╮\n",
       "│                                                                                                                 │\n",
       "│  Time View (983 bottlenecks with 3885 reasons)                                                                  │\n",
       "│  ├── <span style=\"color: #d70000; text-decoration-color: #d70000\">[CR1] 193 processes access 193 files within 1 time period (872) across 193 I/O operations and have an I/O</span>  │\n",
       "│  │   <span style=\"color: #d70000; text-decoration-color: #d70000\">time of 0.49 seconds which is 14.29% of overall I/O time of the workload.</span>                                  │\n",
       "│  │   ├── <span style=\"color: #d70000; text-decoration-color: #d70000\">[Operation imbalance] 'read' operations are 99.48% (192 operations) of total I/O operations.</span>           │\n",
       "│  │   ├── <span style=\"color: #d70000; text-decoration-color: #d70000\">[Size imbalance] 'read' size is 100.00% (48.00 MiB) of total I/O size.</span>                                 │\n",
       "│  │   ├── <span style=\"color: #d70000; text-decoration-color: #d70000\">[Small reads] 'read' time is 100.00% (0.49 seconds) of I/O time.</span>                                       │\n",
       "│  │   └── <span style=\"color: #d70000; text-decoration-color: #d70000\">[Small reads] Average 'read's are 254.67 kiB, which is smaller than 1.00 MiB.</span>                          │\n",
       "│  └── (982 more)                                                                                                 │\n",
       "│  File View (578 bottlenecks with 2071 reasons)                                                                  │\n",
       "│  ├── <span style=\"color: #d70000; text-decoration-color: #d70000\">[CR984] 2 processes access 1 file (1c648df1b7595550) within 2 time periods across 3 I/O operations and </span>    │\n",
       "│  │   <span style=\"color: #d70000; text-decoration-color: #d70000\">have an I/O time of 0.11 seconds which is 3.19% of overall I/O time of the workload.</span>                       │\n",
       "│  │   ├── <span style=\"color: #d70000; text-decoration-color: #d70000\">[Operation imbalance] 'read' operations are 33.33% (1 operations) of total I/O operations.</span>             │\n",
       "│  │   ├── <span style=\"color: #d70000; text-decoration-color: #d70000\">[Size imbalance] 'read' size is 100.00% (256.00 kiB) of total I/O size.</span>                                │\n",
       "│  │   ├── <span style=\"color: #d70000; text-decoration-color: #d70000\">[Small reads] 'read' time is 95.62% (0.10 seconds) of I/O time.</span>                                        │\n",
       "│  │   └── <span style=\"color: #d70000; text-decoration-color: #d70000\">[Small reads] Average 'read's are 85.33 kiB, which is smaller than 1.00 MiB.</span>                           │\n",
       "│  └── (577 more)                                                                                                 │\n",
       "│  Process View (660 bottlenecks with 2000 reasons)                                                               │\n",
       "│  ├── <span style=\"color: #d70000; text-decoration-color: #d70000\">[CR1562] 1 process (app#aeed2ff63b9a3441#473878#474386) accesses 1 file within 1 time period across 2 I/O</span>  │\n",
       "│  │   <span style=\"color: #d70000; text-decoration-color: #d70000\">operations and has an I/O time of 0.11 seconds which is 3.19% of overall I/O time of the workload.</span>         │\n",
       "│  │   ├── <span style=\"color: #d70000; text-decoration-color: #d70000\">[Operation imbalance] 'read' operations are 50.00% (1 operations) of total I/O operations.</span>             │\n",
       "│  │   ├── <span style=\"color: #d70000; text-decoration-color: #d70000\">[Size imbalance] 'read' size is 100.00% (256.00 kiB) of total I/O size.</span>                                │\n",
       "│  │   ├── <span style=\"color: #d70000; text-decoration-color: #d70000\">[Small reads] 'read' time is 95.62% (0.10 seconds) of I/O time.</span>                                        │\n",
       "│  │   └── <span style=\"color: #d70000; text-decoration-color: #d70000\">[Small reads] Average 'read's are 128.00 kiB, which is smaller than 1.00 MiB.</span>                          │\n",
       "│  └── (659 more)                                                                                                 │\n",
       "│  Time&gt;File View (533 bottlenecks with 1999 reasons)                                                             │\n",
       "│  ├── <span style=\"color: #d70000; text-decoration-color: #d70000\">[CR2222] 2 processes access 1 file (1c648df1b7595550) within 2 time periods across 3 I/O operations and </span>   │\n",
       "│  │   <span style=\"color: #d70000; text-decoration-color: #d70000\">have an I/O time of 0.11 seconds which is 3.19% of overall I/O time of the workload.</span>                       │\n",
       "│  │   ├── <span style=\"color: #d70000; text-decoration-color: #d70000\">[Operation imbalance] 'read' operations are 33.33% (1 operations) of total I/O operations.</span>             │\n",
       "│  │   ├── <span style=\"color: #d70000; text-decoration-color: #d70000\">[Size imbalance] 'read' size is 100.00% (256.00 kiB) of total I/O size.</span>                                │\n",
       "│  │   ├── <span style=\"color: #d70000; text-decoration-color: #d70000\">[Small reads] 'read' time is 95.62% (0.10 seconds) of I/O time.</span>                                        │\n",
       "│  │   └── <span style=\"color: #d70000; text-decoration-color: #d70000\">[Small reads] Average 'read's are 85.33 kiB, which is smaller than 1.00 MiB.</span>                           │\n",
       "│  └── (532 more)                                                                                                 │\n",
       "│  Time&gt;Process View (660 bottlenecks with 2000 reasons)                                                          │\n",
       "│  ├── <span style=\"color: #d70000; text-decoration-color: #d70000\">[CR2755] 1 process (app#aeed2ff63b9a3441#473878#474386) accesses 1 file within 1 time period across 2 I/O</span>  │\n",
       "│  │   <span style=\"color: #d70000; text-decoration-color: #d70000\">operations and has an I/O time of 0.11 seconds which is 3.19% of overall I/O time of the workload.</span>         │\n",
       "│  │   ├── <span style=\"color: #d70000; text-decoration-color: #d70000\">[Operation imbalance] 'read' operations are 50.00% (1 operations) of total I/O operations.</span>             │\n",
       "│  │   ├── <span style=\"color: #d70000; text-decoration-color: #d70000\">[Size imbalance] 'read' size is 100.00% (256.00 kiB) of total I/O size.</span>                                │\n",
       "│  │   ├── <span style=\"color: #d70000; text-decoration-color: #d70000\">[Small reads] 'read' time is 95.62% (0.10 seconds) of I/O time.</span>                                        │\n",
       "│  │   └── <span style=\"color: #d70000; text-decoration-color: #d70000\">[Small reads] Average 'read's are 128.00 kiB, which is smaller than 1.00 MiB.</span>                          │\n",
       "│  └── (659 more)                                                                                                 │\n",
       "│  File&gt;Time View (15 bottlenecks with 37 reasons)                                                                │\n",
       "│  ├── <span style=\"color: #d70000; text-decoration-color: #d70000\">[CR3415] 192 processes access 192 files within 1 time period (872) across 192 I/O operations and have an </span>  │\n",
       "│  │   <span style=\"color: #d70000; text-decoration-color: #d70000\">I/O time of 0.49 seconds which is 14.29% of overall I/O time of the workload.</span>                              │\n",
       "│  │   ├── <span style=\"color: #d70000; text-decoration-color: #d70000\">[Operation imbalance] 'read' operations are 100.00% (192 operations) of total I/O operations.</span>          │\n",
       "│  │   ├── <span style=\"color: #d70000; text-decoration-color: #d70000\">[Size imbalance] 'read' size is 100.00% (48.00 MiB) of total I/O size.</span>                                 │\n",
       "│  │   ├── <span style=\"color: #d70000; text-decoration-color: #d70000\">[Small reads] 'read' time is 100.00% (0.49 seconds) of I/O time.</span>                                       │\n",
       "│  │   └── <span style=\"color: #d70000; text-decoration-color: #d70000\">[Small reads] Average 'read's are 256.00 kiB, which is smaller than 1.00 MiB.</span>                          │\n",
       "│  └── (14 more)                                                                                                  │\n",
       "│  File&gt;Process View (559 bottlenecks with 1596 reasons)                                                          │\n",
       "│  ├── <span style=\"color: #d70000; text-decoration-color: #d70000\">[CR3430] 1 process (app#aeed2ff63b9a3441#473878#474386) accesses 1 file within 1 time period across 2 I/O</span>  │\n",
       "│  │   <span style=\"color: #d70000; text-decoration-color: #d70000\">operations and has an I/O time of 0.11 seconds which is 3.19% of overall I/O time of the workload.</span>         │\n",
       "│  │   ├── <span style=\"color: #d70000; text-decoration-color: #d70000\">[Operation imbalance] 'read' operations are 50.00% (1 operations) of total I/O operations.</span>             │\n",
       "│  │   ├── <span style=\"color: #d70000; text-decoration-color: #d70000\">[Size imbalance] 'read' size is 100.00% (256.00 kiB) of total I/O size.</span>                                │\n",
       "│  │   ├── <span style=\"color: #d70000; text-decoration-color: #d70000\">[Small reads] 'read' time is 95.62% (0.10 seconds) of I/O time.</span>                                        │\n",
       "│  │   └── <span style=\"color: #d70000; text-decoration-color: #d70000\">[Small reads] Average 'read's are 128.00 kiB, which is smaller than 1.00 MiB.</span>                          │\n",
       "│  └── (558 more)                                                                                                 │\n",
       "│  Process&gt;Time View (7 bottlenecks with 12 reasons)                                                              │\n",
       "│  ├── <span style=\"color: #d70000; text-decoration-color: #d70000\">[CR3989] 11 processes access 1 file within 1 time period (97) across 11 I/O operations and have an I/O </span>    │\n",
       "│  │   <span style=\"color: #d70000; text-decoration-color: #d70000\">time of 0.04 seconds which is 1.29% of overall I/O time of the workload.</span>                                   │\n",
       "│  │   └── <span style=\"color: #d70000; text-decoration-color: #d70000\">[Excessive metadata access] No reason found, investigation needed!</span>                                     │\n",
       "│  └── (6 more)                                                                                                   │\n",
       "│  Process&gt;File View (387 bottlenecks with 1548 reasons)                                                          │\n",
       "│  ├── <span style=\"color: #d70000; text-decoration-color: #d70000\">[CR3996] 1 process accesses 1 file (1c648df1b7595550) within 1 time period across 2 I/O operations and </span>    │\n",
       "│  │   <span style=\"color: #d70000; text-decoration-color: #d70000\">has an I/O time of 0.11 seconds which is 3.19% of overall I/O time of the workload.</span>                        │\n",
       "│  │   ├── <span style=\"color: #d70000; text-decoration-color: #d70000\">[Operation imbalance] 'read' operations are 50.00% (1 operations) of total I/O operations.</span>             │\n",
       "│  │   ├── <span style=\"color: #d70000; text-decoration-color: #d70000\">[Size imbalance] 'read' size is 100.00% (256.00 kiB) of total I/O size.</span>                                │\n",
       "│  │   ├── <span style=\"color: #d70000; text-decoration-color: #d70000\">[Small reads] 'read' time is 95.62% (0.10 seconds) of I/O time.</span>                                        │\n",
       "│  │   └── <span style=\"color: #d70000; text-decoration-color: #d70000\">[Small reads] Average 'read's are 128.00 kiB, which is smaller than 1.00 MiB.</span>                          │\n",
       "│  └── (386 more)                                                                                                 │\n",
       "│  Time&gt;File&gt;Process View (550 bottlenecks with 1546 reasons)                                                     │\n",
       "│  ├── <span style=\"color: #d70000; text-decoration-color: #d70000\">[CR4383] 1 process (app#aeed2ff63b9a3441#473878#474386) accesses 1 file within 1 time period across 2 I/O</span>  │\n",
       "│  │   <span style=\"color: #d70000; text-decoration-color: #d70000\">operations and has an I/O time of 0.11 seconds which is 3.19% of overall I/O time of the workload.</span>         │\n",
       "│  │   ├── <span style=\"color: #d70000; text-decoration-color: #d70000\">[Operation imbalance] 'read' operations are 50.00% (1 operations) of total I/O operations.</span>             │\n",
       "│  │   ├── <span style=\"color: #d70000; text-decoration-color: #d70000\">[Size imbalance] 'read' size is 100.00% (256.00 kiB) of total I/O size.</span>                                │\n",
       "│  │   ├── <span style=\"color: #d70000; text-decoration-color: #d70000\">[Small reads] 'read' time is 95.62% (0.10 seconds) of I/O time.</span>                                        │\n",
       "│  │   └── <span style=\"color: #d70000; text-decoration-color: #d70000\">[Small reads] Average 'read's are 128.00 kiB, which is smaller than 1.00 MiB.</span>                          │\n",
       "│  └── (549 more)                                                                                                 │\n",
       "│  Time&gt;Process&gt;File View (387 bottlenecks with 1548 reasons)                                                     │\n",
       "│  ├── <span style=\"color: #d70000; text-decoration-color: #d70000\">[CR4933] 1 process accesses 1 file (1c648df1b7595550) within 1 time period across 2 I/O operations and </span>    │\n",
       "│  │   <span style=\"color: #d70000; text-decoration-color: #d70000\">has an I/O time of 0.11 seconds which is 3.19% of overall I/O time of the workload.</span>                        │\n",
       "│  │   ├── <span style=\"color: #d70000; text-decoration-color: #d70000\">[Operation imbalance] 'read' operations are 50.00% (1 operations) of total I/O operations.</span>             │\n",
       "│  │   ├── <span style=\"color: #d70000; text-decoration-color: #d70000\">[Size imbalance] 'read' size is 100.00% (256.00 kiB) of total I/O size.</span>                                │\n",
       "│  │   ├── <span style=\"color: #d70000; text-decoration-color: #d70000\">[Small reads] 'read' time is 95.62% (0.10 seconds) of I/O time.</span>                                        │\n",
       "│  │   └── <span style=\"color: #d70000; text-decoration-color: #d70000\">[Small reads] Average 'read's are 128.00 kiB, which is smaller than 1.00 MiB.</span>                          │\n",
       "│  └── (386 more)                                                                                                 │\n",
       "│  File&gt;Time&gt;Process View (465 bottlenecks with 1364 reasons)                                                     │\n",
       "│  ├── <span style=\"color: #d70000; text-decoration-color: #d70000\">[CR5320] 1 process (app#0b2e877f7c065ff0#643183#643659) accesses 1 file within 3 time periods across 5 </span>    │\n",
       "│  │   <span style=\"color: #d70000; text-decoration-color: #d70000\">I/O operations and has an I/O time of 0.65 seconds which is 19.13% of overall I/O time of the workload.</span>    │\n",
       "│  │   ├── <span style=\"color: #d70000; text-decoration-color: #d70000\">[Operation imbalance] 'read' operations are 80.00% (4 operations) of total I/O operations.</span>             │\n",
       "│  │   ├── <span style=\"color: #d70000; text-decoration-color: #d70000\">[Size imbalance] 'read' size is 100.00% (1.00 MiB) of total I/O size.</span>                                  │\n",
       "│  │   ├── <span style=\"color: #d70000; text-decoration-color: #d70000\">[Small reads] 'read' time is 98.56% (0.64 seconds) of I/O time.</span>                                        │\n",
       "│  │   └── <span style=\"color: #d70000; text-decoration-color: #d70000\">[Small reads] Average 'read's are 204.80 kiB, which is smaller than 1.00 MiB.</span>                          │\n",
       "│  └── (464 more)                                                                                                 │\n",
       "│  File&gt;Process&gt;Time View (7 bottlenecks with 12 reasons)                                                         │\n",
       "│  ├── <span style=\"color: #d70000; text-decoration-color: #d70000\">[CR5785] 91 processes access 91 files within 1 time period (872) across 91 I/O operations and have an I/O</span>  │\n",
       "│  │   <span style=\"color: #d70000; text-decoration-color: #d70000\">time of 0.49 seconds which is 14.29% of overall I/O time of the workload.</span>                                  │\n",
       "│  │   ├── <span style=\"color: #d70000; text-decoration-color: #d70000\">[Operation imbalance] 'read' operations are 100.00% (91 operations) of total I/O operations.</span>           │\n",
       "│  │   ├── <span style=\"color: #d70000; text-decoration-color: #d70000\">[Size imbalance] 'read' size is 100.00% (22.75 MiB) of total I/O size.</span>                                 │\n",
       "│  │   ├── <span style=\"color: #d70000; text-decoration-color: #d70000\">[Small reads] 'read' time is 100.00% (0.49 seconds) of I/O time.</span>                                       │\n",
       "│  │   └── <span style=\"color: #d70000; text-decoration-color: #d70000\">[Small reads] Average 'read's are 256.00 kiB, which is smaller than 1.00 MiB.</span>                          │\n",
       "│  └── (6 more)                                                                                                   │\n",
       "│  Process&gt;Time&gt;File View (153 bottlenecks with 612 reasons)                                                      │\n",
       "│  ├── <span style=\"color: #d78700; text-decoration-color: #d78700\">[HI5792] 1 process accesses 1 file (9d9a75ba6a7725b0) within 3 time periods across 5 I/O operations and </span>   │\n",
       "│  │   <span style=\"color: #d78700; text-decoration-color: #d78700\">has an I/O time of 0.65 seconds which is 19.13% of overall I/O time of the workload.</span>                       │\n",
       "│  │   ├── <span style=\"color: #d78700; text-decoration-color: #d78700\">[Operation imbalance] 'read' operations are 80.00% (4 operations) of total I/O operations.</span>             │\n",
       "│  │   ├── <span style=\"color: #d78700; text-decoration-color: #d78700\">[Size imbalance] 'read' size is 100.00% (1.00 MiB) of total I/O size.</span>                                  │\n",
       "│  │   ├── <span style=\"color: #d78700; text-decoration-color: #d78700\">[Small reads] 'read' time is 98.56% (0.64 seconds) of I/O time.</span>                                        │\n",
       "│  │   └── <span style=\"color: #d78700; text-decoration-color: #d78700\">[Small reads] Average 'read's are 204.80 kiB, which is smaller than 1.00 MiB.</span>                          │\n",
       "│  └── (152 more)                                                                                                 │\n",
       "│  Process&gt;File&gt;Time View (3 bottlenecks with 12 reasons)                                                         │\n",
       "│  ├── <span style=\"color: #d70000; text-decoration-color: #d70000\">[CR5945] 79 processes access 79 files within 1 time period (872) across 79 I/O operations and have an I/O</span>  │\n",
       "│  │   <span style=\"color: #d70000; text-decoration-color: #d70000\">time of 0.49 seconds which is 14.29% of overall I/O time of the workload.</span>                                  │\n",
       "│  │   ├── <span style=\"color: #d70000; text-decoration-color: #d70000\">[Operation imbalance] 'read' operations are 100.00% (79 operations) of total I/O operations.</span>           │\n",
       "│  │   ├── <span style=\"color: #d70000; text-decoration-color: #d70000\">[Size imbalance] 'read' size is 100.00% (19.75 MiB) of total I/O size.</span>                                 │\n",
       "│  │   ├── <span style=\"color: #d70000; text-decoration-color: #d70000\">[Small reads] 'read' time is 100.00% (0.49 seconds) of I/O time.</span>                                       │\n",
       "│  │   └── <span style=\"color: #d70000; text-decoration-color: #d70000\">[Small reads] Average 'read's are 256.00 kiB, which is smaller than 1.00 MiB.</span>                          │\n",
       "│  └── (2 more)                                                                                                   │\n",
       "│                                                                                                                 │\n",
       "╰─────────────────────────────────────────────────────────────────────────────────────────────────────────────────╯\n",
       "</pre>\n"
      ],
      "text/plain": [
       "╭────────────────────────────────────────────── I/O Characteristics ──────────────────────────────────────────────╮\n",
       "│                                                                                                                 │\n",
       "│ \u001b[36m \u001b[0m\u001b[36mRuntime        \u001b[0m\u001b[36m \u001b[0m 1097.44 seconds                                                                               │\n",
       "│ \u001b[36m \u001b[0m\u001b[36mI/O Time       \u001b[0m\u001b[36m \u001b[0m 3.41 seconds                                                                                  │\n",
       "│ \u001b[36m                 \u001b[0m ├── Read - 1.00 seconds (29.30%)                                                              │\n",
       "│ \u001b[36m                 \u001b[0m ├── Write - 0.01 seconds (0.25%)                                                              │\n",
       "│ \u001b[36m                 \u001b[0m └── Metadata - 2.49 seconds (72.85%)                                                          │\n",
       "│ \u001b[36m \u001b[0m\u001b[36mI/O Operations \u001b[0m\u001b[36m \u001b[0m 2,175,579 ops                                                                                 │\n",
       "│ \u001b[36m                 \u001b[0m ├── Read - 72,292 ops (3.32%)                                                                 │\n",
       "│ \u001b[36m                 \u001b[0m ├── Write - 2,029 ops (0.09%)                                                                 │\n",
       "│ \u001b[36m                 \u001b[0m └── Metadata - 2,092,426 ops (96.18%)                                                         │\n",
       "│ \u001b[36m \u001b[0m\u001b[36mI/O Size       \u001b[0m\u001b[36m \u001b[0m 3.94 GiB                                                                                      │\n",
       "│ \u001b[36m                 \u001b[0m ├── Read - 3.94 GiB (99.99%)                                                                  │\n",
       "│ \u001b[36m                 \u001b[0m └── Write - 248.63 kiB (0.01%)                                                                │\n",
       "│ \u001b[36m \u001b[0m\u001b[36mRead Requests  \u001b[0m\u001b[36m \u001b[0m 4 kiB-256 kiB - 72,164 ops                                                                    │\n",
       "│ \u001b[36m                 \u001b[0m ├── <4 kiB - 43,632 ops (60.46%)                                                              │\n",
       "│ \u001b[36m                 \u001b[0m ├── 4-16 kiB - 4,992 ops (6.92%)                                                              │\n",
       "│ \u001b[36m                 \u001b[0m ├── 16-64 kiB - 7,872 ops (10.91%)                                                            │\n",
       "│ \u001b[36m                 \u001b[0m └── 64-256 kiB - 15,668 ops (21.71%)                                                          │\n",
       "│ \u001b[36m \u001b[0m\u001b[36mWrite Requests \u001b[0m\u001b[36m \u001b[0m 4 kiB-4 kiB - 2,029 ops                                                                       │\n",
       "│ \u001b[36m                 \u001b[0m └── <4 kiB - 2,029 ops (100.00%)                                                              │\n",
       "│ \u001b[36m \u001b[0m\u001b[36mNodes          \u001b[0m\u001b[36m \u001b[0m 4 nodes                                                                                       │\n",
       "│ \u001b[36m                 \u001b[0m ├── c51182251654b704 - 3.41 s (100.00%) - 0.98 GiB/10.55 kiB R/W (24.99/0.00%) - 543,587 ops  │\n",
       "│ \u001b[36m                 \u001b[0m │   (24.99%)                                                                                  │\n",
       "│ \u001b[36m                 \u001b[0m ├── b14bffbb1056730d - 3.37 s (98.66%) - 0.98 GiB/10.55 kiB R/W (24.97/0.00%) - 543,593 ops   │\n",
       "│ \u001b[36m                 \u001b[0m │   (24.99%)                                                                                  │\n",
       "│ \u001b[36m                 \u001b[0m ├── 0b2e877f7c065ff0 - 3.36 s (98.32%) - 0.99 GiB/10.55 kiB R/W (25.02/0.00%) - 543,599 ops   │\n",
       "│ \u001b[36m                 \u001b[0m │   (24.99%)                                                                                  │\n",
       "│ \u001b[36m                 \u001b[0m └── aeed2ff63b9a3441 - 3.33 s (97.54%) - 0.99 GiB/216.99 kiB R/W (25.02/0.01%) - 544,800 ops  │\n",
       "│ \u001b[36m                 \u001b[0m     (25.04%)                                                                                  │\n",
       "│ \u001b[36m \u001b[0m\u001b[36mApps           \u001b[0m\u001b[36m \u001b[0m 1 app                                                                                         │\n",
       "│ \u001b[36m \u001b[0m\u001b[36mProcesses/Ranks\u001b[0m\u001b[36m \u001b[0m 709 processes                                                                                 │\n",
       "│ \u001b[36m \u001b[0m\u001b[36mFiles          \u001b[0m\u001b[36m \u001b[0m 5,065 files                                                                                   │\n",
       "│ \u001b[36m                 \u001b[0m ├── Shared: 4,775 files (94.27%)                                                              │\n",
       "│ \u001b[36m                 \u001b[0m └── FPP: 290 files (5.73%)                                                                    │\n",
       "│ \u001b[36m \u001b[0m\u001b[36mTime Periods   \u001b[0m\u001b[36m \u001b[0m 1,022 time periods (Time Granularity: 1,000,000.0)                                            │\n",
       "│ \u001b[36m \u001b[0m\u001b[36mAccess Pattern \u001b[0m\u001b[36m \u001b[0m \u001b[1mSequential\u001b[0m: 74,321 ops (100.00%) - \u001b[1mRandom\u001b[0m: 0 ops (0.00%)                                      │\n",
       "│                                                                                                                 │\n",
       "╰─ \u001b[1mR\u001b[0m: Read - \u001b[1mW\u001b[0m: Write - \u001b[1mM\u001b[0m: Metadata  ─────────────────────────────────────────────────────────────────────────────╯\n",
       "                                                                                                                   \n",
       "╭──────────────────────────────────── 5947 I/O Bottlenecks with 20242 Reasons ────────────────────────────────────╮\n",
       "│                                                                                                                 │\n",
       "│  Time View (983 bottlenecks with 3885 reasons)                                                                  │\n",
       "│  ├── \u001b[38;5;160m[CR1] 193 processes access 193 files within 1 time period (872) across 193 I/O operations and have an I/O\u001b[0m  │\n",
       "│  │   \u001b[38;5;160mtime of 0.49 seconds which is 14.29% of overall I/O time of the workload.\u001b[0m                                  │\n",
       "│  │   ├── \u001b[38;5;160m[Operation imbalance] 'read' operations are 99.48% (192 operations) of total I/O operations.\u001b[0m           │\n",
       "│  │   ├── \u001b[38;5;160m[Size imbalance] 'read' size is 100.00% (48.00 MiB) of total I/O size.\u001b[0m                                 │\n",
       "│  │   ├── \u001b[38;5;160m[Small reads] 'read' time is 100.00% (0.49 seconds) of I/O time.\u001b[0m                                       │\n",
       "│  │   └── \u001b[38;5;160m[Small reads] Average 'read's are 254.67 kiB, which is smaller than 1.00 MiB.\u001b[0m                          │\n",
       "│  └── (982 more)                                                                                                 │\n",
       "│  File View (578 bottlenecks with 2071 reasons)                                                                  │\n",
       "│  ├── \u001b[38;5;160m[CR984] 2 processes access 1 file (1c648df1b7595550) within 2 time periods across 3 I/O operations and \u001b[0m    │\n",
       "│  │   \u001b[38;5;160mhave an I/O time of 0.11 seconds which is 3.19% of overall I/O time of the workload.\u001b[0m                       │\n",
       "│  │   ├── \u001b[38;5;160m[Operation imbalance] 'read' operations are 33.33% (1 operations) of total I/O operations.\u001b[0m             │\n",
       "│  │   ├── \u001b[38;5;160m[Size imbalance] 'read' size is 100.00% (256.00 kiB) of total I/O size.\u001b[0m                                │\n",
       "│  │   ├── \u001b[38;5;160m[Small reads] 'read' time is 95.62% (0.10 seconds) of I/O time.\u001b[0m                                        │\n",
       "│  │   └── \u001b[38;5;160m[Small reads] Average 'read's are 85.33 kiB, which is smaller than 1.00 MiB.\u001b[0m                           │\n",
       "│  └── (577 more)                                                                                                 │\n",
       "│  Process View (660 bottlenecks with 2000 reasons)                                                               │\n",
       "│  ├── \u001b[38;5;160m[CR1562] 1 process (app#aeed2ff63b9a3441#473878#474386) accesses 1 file within 1 time period across 2 I/O\u001b[0m  │\n",
       "│  │   \u001b[38;5;160moperations and has an I/O time of 0.11 seconds which is 3.19% of overall I/O time of the workload.\u001b[0m         │\n",
       "│  │   ├── \u001b[38;5;160m[Operation imbalance] 'read' operations are 50.00% (1 operations) of total I/O operations.\u001b[0m             │\n",
       "│  │   ├── \u001b[38;5;160m[Size imbalance] 'read' size is 100.00% (256.00 kiB) of total I/O size.\u001b[0m                                │\n",
       "│  │   ├── \u001b[38;5;160m[Small reads] 'read' time is 95.62% (0.10 seconds) of I/O time.\u001b[0m                                        │\n",
       "│  │   └── \u001b[38;5;160m[Small reads] Average 'read's are 128.00 kiB, which is smaller than 1.00 MiB.\u001b[0m                          │\n",
       "│  └── (659 more)                                                                                                 │\n",
       "│  Time>File View (533 bottlenecks with 1999 reasons)                                                             │\n",
       "│  ├── \u001b[38;5;160m[CR2222] 2 processes access 1 file (1c648df1b7595550) within 2 time periods across 3 I/O operations and \u001b[0m   │\n",
       "│  │   \u001b[38;5;160mhave an I/O time of 0.11 seconds which is 3.19% of overall I/O time of the workload.\u001b[0m                       │\n",
       "│  │   ├── \u001b[38;5;160m[Operation imbalance] 'read' operations are 33.33% (1 operations) of total I/O operations.\u001b[0m             │\n",
       "│  │   ├── \u001b[38;5;160m[Size imbalance] 'read' size is 100.00% (256.00 kiB) of total I/O size.\u001b[0m                                │\n",
       "│  │   ├── \u001b[38;5;160m[Small reads] 'read' time is 95.62% (0.10 seconds) of I/O time.\u001b[0m                                        │\n",
       "│  │   └── \u001b[38;5;160m[Small reads] Average 'read's are 85.33 kiB, which is smaller than 1.00 MiB.\u001b[0m                           │\n",
       "│  └── (532 more)                                                                                                 │\n",
       "│  Time>Process View (660 bottlenecks with 2000 reasons)                                                          │\n",
       "│  ├── \u001b[38;5;160m[CR2755] 1 process (app#aeed2ff63b9a3441#473878#474386) accesses 1 file within 1 time period across 2 I/O\u001b[0m  │\n",
       "│  │   \u001b[38;5;160moperations and has an I/O time of 0.11 seconds which is 3.19% of overall I/O time of the workload.\u001b[0m         │\n",
       "│  │   ├── \u001b[38;5;160m[Operation imbalance] 'read' operations are 50.00% (1 operations) of total I/O operations.\u001b[0m             │\n",
       "│  │   ├── \u001b[38;5;160m[Size imbalance] 'read' size is 100.00% (256.00 kiB) of total I/O size.\u001b[0m                                │\n",
       "│  │   ├── \u001b[38;5;160m[Small reads] 'read' time is 95.62% (0.10 seconds) of I/O time.\u001b[0m                                        │\n",
       "│  │   └── \u001b[38;5;160m[Small reads] Average 'read's are 128.00 kiB, which is smaller than 1.00 MiB.\u001b[0m                          │\n",
       "│  └── (659 more)                                                                                                 │\n",
       "│  File>Time View (15 bottlenecks with 37 reasons)                                                                │\n",
       "│  ├── \u001b[38;5;160m[CR3415] 192 processes access 192 files within 1 time period (872) across 192 I/O operations and have an \u001b[0m  │\n",
       "│  │   \u001b[38;5;160mI/O time of 0.49 seconds which is 14.29% of overall I/O time of the workload.\u001b[0m                              │\n",
       "│  │   ├── \u001b[38;5;160m[Operation imbalance] 'read' operations are 100.00% (192 operations) of total I/O operations.\u001b[0m          │\n",
       "│  │   ├── \u001b[38;5;160m[Size imbalance] 'read' size is 100.00% (48.00 MiB) of total I/O size.\u001b[0m                                 │\n",
       "│  │   ├── \u001b[38;5;160m[Small reads] 'read' time is 100.00% (0.49 seconds) of I/O time.\u001b[0m                                       │\n",
       "│  │   └── \u001b[38;5;160m[Small reads] Average 'read's are 256.00 kiB, which is smaller than 1.00 MiB.\u001b[0m                          │\n",
       "│  └── (14 more)                                                                                                  │\n",
       "│  File>Process View (559 bottlenecks with 1596 reasons)                                                          │\n",
       "│  ├── \u001b[38;5;160m[CR3430] 1 process (app#aeed2ff63b9a3441#473878#474386) accesses 1 file within 1 time period across 2 I/O\u001b[0m  │\n",
       "│  │   \u001b[38;5;160moperations and has an I/O time of 0.11 seconds which is 3.19% of overall I/O time of the workload.\u001b[0m         │\n",
       "│  │   ├── \u001b[38;5;160m[Operation imbalance] 'read' operations are 50.00% (1 operations) of total I/O operations.\u001b[0m             │\n",
       "│  │   ├── \u001b[38;5;160m[Size imbalance] 'read' size is 100.00% (256.00 kiB) of total I/O size.\u001b[0m                                │\n",
       "│  │   ├── \u001b[38;5;160m[Small reads] 'read' time is 95.62% (0.10 seconds) of I/O time.\u001b[0m                                        │\n",
       "│  │   └── \u001b[38;5;160m[Small reads] Average 'read's are 128.00 kiB, which is smaller than 1.00 MiB.\u001b[0m                          │\n",
       "│  └── (558 more)                                                                                                 │\n",
       "│  Process>Time View (7 bottlenecks with 12 reasons)                                                              │\n",
       "│  ├── \u001b[38;5;160m[CR3989] 11 processes access 1 file within 1 time period (97) across 11 I/O operations and have an I/O \u001b[0m    │\n",
       "│  │   \u001b[38;5;160mtime of 0.04 seconds which is 1.29% of overall I/O time of the workload.\u001b[0m                                   │\n",
       "│  │   └── \u001b[38;5;160m[Excessive metadata access] No reason found, investigation needed!\u001b[0m                                     │\n",
       "│  └── (6 more)                                                                                                   │\n",
       "│  Process>File View (387 bottlenecks with 1548 reasons)                                                          │\n",
       "│  ├── \u001b[38;5;160m[CR3996] 1 process accesses 1 file (1c648df1b7595550) within 1 time period across 2 I/O operations and \u001b[0m    │\n",
       "│  │   \u001b[38;5;160mhas an I/O time of 0.11 seconds which is 3.19% of overall I/O time of the workload.\u001b[0m                        │\n",
       "│  │   ├── \u001b[38;5;160m[Operation imbalance] 'read' operations are 50.00% (1 operations) of total I/O operations.\u001b[0m             │\n",
       "│  │   ├── \u001b[38;5;160m[Size imbalance] 'read' size is 100.00% (256.00 kiB) of total I/O size.\u001b[0m                                │\n",
       "│  │   ├── \u001b[38;5;160m[Small reads] 'read' time is 95.62% (0.10 seconds) of I/O time.\u001b[0m                                        │\n",
       "│  │   └── \u001b[38;5;160m[Small reads] Average 'read's are 128.00 kiB, which is smaller than 1.00 MiB.\u001b[0m                          │\n",
       "│  └── (386 more)                                                                                                 │\n",
       "│  Time>File>Process View (550 bottlenecks with 1546 reasons)                                                     │\n",
       "│  ├── \u001b[38;5;160m[CR4383] 1 process (app#aeed2ff63b9a3441#473878#474386) accesses 1 file within 1 time period across 2 I/O\u001b[0m  │\n",
       "│  │   \u001b[38;5;160moperations and has an I/O time of 0.11 seconds which is 3.19% of overall I/O time of the workload.\u001b[0m         │\n",
       "│  │   ├── \u001b[38;5;160m[Operation imbalance] 'read' operations are 50.00% (1 operations) of total I/O operations.\u001b[0m             │\n",
       "│  │   ├── \u001b[38;5;160m[Size imbalance] 'read' size is 100.00% (256.00 kiB) of total I/O size.\u001b[0m                                │\n",
       "│  │   ├── \u001b[38;5;160m[Small reads] 'read' time is 95.62% (0.10 seconds) of I/O time.\u001b[0m                                        │\n",
       "│  │   └── \u001b[38;5;160m[Small reads] Average 'read's are 128.00 kiB, which is smaller than 1.00 MiB.\u001b[0m                          │\n",
       "│  └── (549 more)                                                                                                 │\n",
       "│  Time>Process>File View (387 bottlenecks with 1548 reasons)                                                     │\n",
       "│  ├── \u001b[38;5;160m[CR4933] 1 process accesses 1 file (1c648df1b7595550) within 1 time period across 2 I/O operations and \u001b[0m    │\n",
       "│  │   \u001b[38;5;160mhas an I/O time of 0.11 seconds which is 3.19% of overall I/O time of the workload.\u001b[0m                        │\n",
       "│  │   ├── \u001b[38;5;160m[Operation imbalance] 'read' operations are 50.00% (1 operations) of total I/O operations.\u001b[0m             │\n",
       "│  │   ├── \u001b[38;5;160m[Size imbalance] 'read' size is 100.00% (256.00 kiB) of total I/O size.\u001b[0m                                │\n",
       "│  │   ├── \u001b[38;5;160m[Small reads] 'read' time is 95.62% (0.10 seconds) of I/O time.\u001b[0m                                        │\n",
       "│  │   └── \u001b[38;5;160m[Small reads] Average 'read's are 128.00 kiB, which is smaller than 1.00 MiB.\u001b[0m                          │\n",
       "│  └── (386 more)                                                                                                 │\n",
       "│  File>Time>Process View (465 bottlenecks with 1364 reasons)                                                     │\n",
       "│  ├── \u001b[38;5;160m[CR5320] 1 process (app#0b2e877f7c065ff0#643183#643659) accesses 1 file within 3 time periods across 5 \u001b[0m    │\n",
       "│  │   \u001b[38;5;160mI/O operations and has an I/O time of 0.65 seconds which is 19.13% of overall I/O time of the workload.\u001b[0m    │\n",
       "│  │   ├── \u001b[38;5;160m[Operation imbalance] 'read' operations are 80.00% (4 operations) of total I/O operations.\u001b[0m             │\n",
       "│  │   ├── \u001b[38;5;160m[Size imbalance] 'read' size is 100.00% (1.00 MiB) of total I/O size.\u001b[0m                                  │\n",
       "│  │   ├── \u001b[38;5;160m[Small reads] 'read' time is 98.56% (0.64 seconds) of I/O time.\u001b[0m                                        │\n",
       "│  │   └── \u001b[38;5;160m[Small reads] Average 'read's are 204.80 kiB, which is smaller than 1.00 MiB.\u001b[0m                          │\n",
       "│  └── (464 more)                                                                                                 │\n",
       "│  File>Process>Time View (7 bottlenecks with 12 reasons)                                                         │\n",
       "│  ├── \u001b[38;5;160m[CR5785] 91 processes access 91 files within 1 time period (872) across 91 I/O operations and have an I/O\u001b[0m  │\n",
       "│  │   \u001b[38;5;160mtime of 0.49 seconds which is 14.29% of overall I/O time of the workload.\u001b[0m                                  │\n",
       "│  │   ├── \u001b[38;5;160m[Operation imbalance] 'read' operations are 100.00% (91 operations) of total I/O operations.\u001b[0m           │\n",
       "│  │   ├── \u001b[38;5;160m[Size imbalance] 'read' size is 100.00% (22.75 MiB) of total I/O size.\u001b[0m                                 │\n",
       "│  │   ├── \u001b[38;5;160m[Small reads] 'read' time is 100.00% (0.49 seconds) of I/O time.\u001b[0m                                       │\n",
       "│  │   └── \u001b[38;5;160m[Small reads] Average 'read's are 256.00 kiB, which is smaller than 1.00 MiB.\u001b[0m                          │\n",
       "│  └── (6 more)                                                                                                   │\n",
       "│  Process>Time>File View (153 bottlenecks with 612 reasons)                                                      │\n",
       "│  ├── \u001b[38;5;172m[HI5792] 1 process accesses 1 file (9d9a75ba6a7725b0) within 3 time periods across 5 I/O operations and \u001b[0m   │\n",
       "│  │   \u001b[38;5;172mhas an I/O time of 0.65 seconds which is 19.13% of overall I/O time of the workload.\u001b[0m                       │\n",
       "│  │   ├── \u001b[38;5;172m[Operation imbalance] 'read' operations are 80.00% (4 operations) of total I/O operations.\u001b[0m             │\n",
       "│  │   ├── \u001b[38;5;172m[Size imbalance] 'read' size is 100.00% (1.00 MiB) of total I/O size.\u001b[0m                                  │\n",
       "│  │   ├── \u001b[38;5;172m[Small reads] 'read' time is 98.56% (0.64 seconds) of I/O time.\u001b[0m                                        │\n",
       "│  │   └── \u001b[38;5;172m[Small reads] Average 'read's are 204.80 kiB, which is smaller than 1.00 MiB.\u001b[0m                          │\n",
       "│  └── (152 more)                                                                                                 │\n",
       "│  Process>File>Time View (3 bottlenecks with 12 reasons)                                                         │\n",
       "│  ├── \u001b[38;5;160m[CR5945] 79 processes access 79 files within 1 time period (872) across 79 I/O operations and have an I/O\u001b[0m  │\n",
       "│  │   \u001b[38;5;160mtime of 0.49 seconds which is 14.29% of overall I/O time of the workload.\u001b[0m                                  │\n",
       "│  │   ├── \u001b[38;5;160m[Operation imbalance] 'read' operations are 100.00% (79 operations) of total I/O operations.\u001b[0m           │\n",
       "│  │   ├── \u001b[38;5;160m[Size imbalance] 'read' size is 100.00% (19.75 MiB) of total I/O size.\u001b[0m                                 │\n",
       "│  │   ├── \u001b[38;5;160m[Small reads] 'read' time is 100.00% (0.49 seconds) of I/O time.\u001b[0m                                       │\n",
       "│  │   └── \u001b[38;5;160m[Small reads] Average 'read's are 256.00 kiB, which is smaller than 1.00 MiB.\u001b[0m                          │\n",
       "│  └── (2 more)                                                                                                   │\n",
       "│                                                                                                                 │\n",
       "╰─────────────────────────────────────────────────────────────────────────────────────────────────────────────────╯\n"
      ]
     },
     "metadata": {},
     "output_type": "display_data"
    },
    {
     "name": "stdout",
     "output_type": "stream",
     "text": [
      "time: 2.59 s (started: 2024-10-07 23:39:28 -07:00)\n"
     ]
    }
   ],
   "source": [
    "output.handle_result(metrics=cfg.metrics, result=result)"
   ]
  },
  {
   "cell_type": "code",
   "execution_count": null,
   "id": "efbd7bf2",
   "metadata": {
    "papermill": {
     "duration": 0.005307,
     "end_time": "2024-10-08T06:39:31.406628",
     "exception": false,
     "start_time": "2024-10-08T06:39:31.401321",
     "status": "completed"
    },
    "tags": []
   },
   "outputs": [],
   "source": []
  }
 ],
 "metadata": {
  "kernelspec": {
   "display_name": "venv-corona",
   "language": "python",
   "name": "python3"
  },
  "language_info": {
   "codemirror_mode": {
    "name": "ipython",
    "version": 3
   },
   "file_extension": ".py",
   "mimetype": "text/x-python",
   "name": "python",
   "nbconvert_exporter": "python",
   "pygments_lexer": "ipython3",
   "version": "3.9.12"
  },
  "papermill": {
   "default_parameters": {},
   "duration": 36.051855,
   "end_time": "2024-10-08T06:39:34.029838",
   "environment_variables": {},
   "exception": null,
   "input_path": "analysis.ipynb",
   "output_path": "analysis-dftracer-bert-v100-node-4-v1.ipynb",
   "parameters": {
    "analyzer": "dftracer",
    "checkpoint": true,
    "checkpoint_dir": "/usr/workspace/iopp/wisio_logs/_checkpoints/dftracer-bert-v100-node-4-v1",
    "logical_view_types": false,
    "output_max_bottlenecks": 1,
    "output_root_only": false,
    "run_dir": ".wisio/dftracer/bert-v100-node-4-v1",
    "trace_path": "/p/lustre3/iopp/dftracer-traces-lfs/v1.0.5-develop/corona/bert/v100/node-4/v1/RAW/*.pfw.gz"
   },
   "start_time": "2024-10-08T06:38:57.977983",
   "version": "2.6.0"
  }
 },
 "nbformat": 4,
 "nbformat_minor": 5
}
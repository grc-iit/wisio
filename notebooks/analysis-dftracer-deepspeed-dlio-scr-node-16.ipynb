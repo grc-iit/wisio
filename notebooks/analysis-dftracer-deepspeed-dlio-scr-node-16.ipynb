{
 "cells": [
  {
   "cell_type": "code",
   "execution_count": 1,
   "id": "9000d977",
   "metadata": {
    "execution": {
     "iopub.execute_input": "2024-10-08T21:01:22.427150Z",
     "iopub.status.busy": "2024-10-08T21:01:22.426426Z",
     "iopub.status.idle": "2024-10-08T21:01:22.477413Z",
     "shell.execute_reply": "2024-10-08T21:01:22.476807Z"
    },
    "papermill": {
     "duration": 0.058319,
     "end_time": "2024-10-08T21:01:22.479004",
     "exception": false,
     "start_time": "2024-10-08T21:01:22.420685",
     "status": "completed"
    },
    "tags": []
   },
   "outputs": [
    {
     "name": "stdout",
     "output_type": "stream",
     "text": [
      "time: 247 µs (started: 2024-10-08 14:01:22 -07:00)\n"
     ]
    }
   ],
   "source": [
    "%load_ext autoreload\n",
    "%load_ext autotime"
   ]
  },
  {
   "cell_type": "code",
   "execution_count": 2,
   "id": "37848bcf",
   "metadata": {
    "execution": {
     "iopub.execute_input": "2024-10-08T21:01:22.489173Z",
     "iopub.status.busy": "2024-10-08T21:01:22.488121Z",
     "iopub.status.idle": "2024-10-08T21:01:22.493617Z",
     "shell.execute_reply": "2024-10-08T21:01:22.493093Z"
    },
    "papermill": {
     "duration": 0.011859,
     "end_time": "2024-10-08T21:01:22.495072",
     "exception": false,
     "start_time": "2024-10-08T21:01:22.483213",
     "status": "completed"
    },
    "tags": []
   },
   "outputs": [
    {
     "name": "stdout",
     "output_type": "stream",
     "text": [
      "time: 983 µs (started: 2024-10-08 14:01:22 -07:00)\n"
     ]
    }
   ],
   "source": [
    "import os\n",
    "import sys\n",
    "import time\n",
    "import warnings\n",
    "\n",
    "# Add WisIO to the path\n",
    "sys.path.append(os.path.abspath(\"../\"))\n",
    "\n",
    "# Filter warnings\n",
    "warnings.filterwarnings('ignore')"
   ]
  },
  {
   "cell_type": "code",
   "execution_count": 3,
   "id": "d8d67a53",
   "metadata": {
    "execution": {
     "iopub.execute_input": "2024-10-08T21:01:22.504052Z",
     "iopub.status.busy": "2024-10-08T21:01:22.503744Z",
     "iopub.status.idle": "2024-10-08T21:01:22.507770Z",
     "shell.execute_reply": "2024-10-08T21:01:22.507257Z"
    },
    "papermill": {
     "duration": 0.010348,
     "end_time": "2024-10-08T21:01:22.509044",
     "exception": false,
     "start_time": "2024-10-08T21:01:22.498696",
     "status": "completed"
    },
    "tags": [
     "parameters"
    ]
   },
   "outputs": [
    {
     "name": "stdout",
     "output_type": "stream",
     "text": [
      "time: 738 µs (started: 2024-10-08 14:01:22 -07:00)\n"
     ]
    }
   ],
   "source": [
    "analyzer = \"dftracer\"\n",
    "checkpoint = True\n",
    "logical_view_types = False\n",
    "output_max_bottlenecks = 1\n",
    "output_root_only = False\n",
    "run_dir = f\".wisio/{analyzer}/{int(time.time())}\"\n",
    "bottleneck_dir = f\"{run_dir}/bottlenecks\"\n",
    "checkpoint_dir = f\"{run_dir}/checkpoints\"\n",
    "trace_path = \"/p/lustre3/iopp/dftracer-traces/v1.0.5-develop/corona/cm1_1_48_20240926/cm1_1_48_20240926-COMPACT/*.pfw.gz\""
   ]
  },
  {
   "cell_type": "code",
   "execution_count": 4,
   "id": "41268c68",
   "metadata": {
    "execution": {
     "iopub.execute_input": "2024-10-08T21:01:22.517161Z",
     "iopub.status.busy": "2024-10-08T21:01:22.516855Z",
     "iopub.status.idle": "2024-10-08T21:01:22.520488Z",
     "shell.execute_reply": "2024-10-08T21:01:22.519998Z"
    },
    "papermill": {
     "duration": 0.008902,
     "end_time": "2024-10-08T21:01:22.521750",
     "exception": false,
     "start_time": "2024-10-08T21:01:22.512848",
     "status": "completed"
    },
    "tags": [
     "injected-parameters"
    ]
   },
   "outputs": [
    {
     "name": "stdout",
     "output_type": "stream",
     "text": [
      "time: 619 µs (started: 2024-10-08 14:01:22 -07:00)\n"
     ]
    }
   ],
   "source": [
    "# Parameters\n",
    "analyzer = \"dftracer\"\n",
    "checkpoint = True\n",
    "checkpoint_dir = \"/usr/workspace/iopp/wisio_logs/_checkpoints/dftracer-deepspeed-dlio-scr-node-16\"\n",
    "logical_view_types = False\n",
    "output_max_bottlenecks = 1\n",
    "output_root_only = False\n",
    "run_dir = \".wisio/dftracer/deepspeed-dlio-scr-node-16\"\n",
    "trace_path = \"/p/lustre3/iopp/dftracer-traces/v1.0.5-develop/corona/megatron_deepspeed-1-100-1_16_8_scr/megatron_deepspeed-1-100-1_16_8_scr-COMPACT/*.pfw.gz\"\n"
   ]
  },
  {
   "cell_type": "code",
   "execution_count": 5,
   "id": "1f59f36f",
   "metadata": {
    "execution": {
     "iopub.execute_input": "2024-10-08T21:01:22.529573Z",
     "iopub.status.busy": "2024-10-08T21:01:22.529261Z",
     "iopub.status.idle": "2024-10-08T21:01:31.635488Z",
     "shell.execute_reply": "2024-10-08T21:01:31.634817Z"
    },
    "papermill": {
     "duration": 9.112688,
     "end_time": "2024-10-08T21:01:31.637855",
     "exception": false,
     "start_time": "2024-10-08T21:01:22.525167",
     "status": "completed"
    },
    "tags": []
   },
   "outputs": [
    {
     "name": "stdout",
     "output_type": "stream",
     "text": [
      "time: 9.1 s (started: 2024-10-08 14:01:22 -07:00)\n"
     ]
    }
   ],
   "source": [
    "from distributed import Client\n",
    "from hydra import compose, initialize\n",
    "from hydra.core.hydra_config import HydraConfig\n",
    "from hydra.utils import instantiate\n",
    "from wisio.config import init_hydra_config_store\n",
    "from wisio.utils.file_utils import ensure_dir\n",
    "\n",
    "ensure_dir(run_dir)\n",
    "\n",
    "with initialize(version_base=None, config_path=None):\n",
    "    init_hydra_config_store()\n",
    "    cfg = compose(\n",
    "        config_name=\"config\",\n",
    "        overrides=[\n",
    "            f\"+analyzer={analyzer}\",\n",
    "            f\"analyzer.bottleneck_dir={bottleneck_dir}\",\n",
    "            f\"analyzer.checkpoint={checkpoint}\",\n",
    "            f\"analyzer.checkpoint_dir={checkpoint_dir}\",\n",
    "            f\"hydra.run.dir={run_dir}\",\n",
    "            f\"hydra.runtime.output_dir={run_dir}\",\n",
    "            f\"logical_view_types={logical_view_types}\",\n",
    "            f\"output.max_bottlenecks={output_max_bottlenecks}\",\n",
    "            f\"output.root_only={output_root_only}\",\n",
    "            f\"trace_path={trace_path}\",\n",
    "        ],\n",
    "        return_hydra_config=True,\n",
    "    )\n",
    "    HydraConfig.instance().set_config(cfg)\n",
    "    cluster = instantiate(cfg.cluster)\n",
    "    client = Client(cluster)\n",
    "    analyzer = instantiate(cfg.analyzer)\n",
    "    output = instantiate(cfg.output)"
   ]
  },
  {
   "cell_type": "code",
   "execution_count": 6,
   "id": "942182d1",
   "metadata": {
    "execution": {
     "iopub.execute_input": "2024-10-08T21:01:31.647786Z",
     "iopub.status.busy": "2024-10-08T21:01:31.646939Z",
     "iopub.status.idle": "2024-10-08T21:15:43.757025Z",
     "shell.execute_reply": "2024-10-08T21:15:43.756375Z"
    },
    "papermill": {
     "duration": 852.121342,
     "end_time": "2024-10-08T21:15:43.763484",
     "exception": false,
     "start_time": "2024-10-08T21:01:31.642142",
     "status": "completed"
    },
    "tags": []
   },
   "outputs": [
    {
     "name": "stdout",
     "output_type": "stream",
     "text": [
      "time: 14min 12s (started: 2024-10-08 14:01:31 -07:00)\n"
     ]
    }
   ],
   "source": [
    "result = analyzer.analyze_trace(\n",
    "    trace_path=cfg.trace_path,\n",
    "    # accuracy=cfg.accuracy,\n",
    "    exclude_bottlenecks=cfg.exclude_bottlenecks,\n",
    "    exclude_characteristics=cfg.exclude_characteristics,\n",
    "    logical_view_types=cfg.logical_view_types,\n",
    "    metrics=cfg.metrics,\n",
    "    threshold=cfg.threshold,\n",
    "    view_types=cfg.view_types,\n",
    ")"
   ]
  },
  {
   "cell_type": "code",
   "execution_count": 7,
   "id": "b5c1cb0d",
   "metadata": {
    "execution": {
     "iopub.execute_input": "2024-10-08T21:15:43.775724Z",
     "iopub.status.busy": "2024-10-08T21:15:43.775326Z",
     "iopub.status.idle": "2024-10-08T21:25:40.613446Z",
     "shell.execute_reply": "2024-10-08T21:25:40.612489Z"
    },
    "papermill": {
     "duration": 596.847107,
     "end_time": "2024-10-08T21:25:40.615116",
     "exception": false,
     "start_time": "2024-10-08T21:15:43.768009",
     "status": "completed"
    },
    "tags": []
   },
   "outputs": [
    {
     "data": {
      "text/html": [
       "<pre style=\"white-space:pre;overflow-x:auto;line-height:normal;font-family:Menlo,'DejaVu Sans Mono',consolas,'Courier New',monospace\">╭────────────────────────────────────────────── I/O Characteristics ──────────────────────────────────────────────╮\n",
       "│                                                                                                                 │\n",
       "│ <span style=\"color: #008080; text-decoration-color: #008080\"> Runtime         </span> 338.02 seconds                                                                                │\n",
       "│ <span style=\"color: #008080; text-decoration-color: #008080\"> I/O Time        </span> 35.27 seconds                                                                                 │\n",
       "│ <span style=\"color: #008080; text-decoration-color: #008080\">                 </span> ├── Read - 4.45 seconds (12.60%)                                                              │\n",
       "│ <span style=\"color: #008080; text-decoration-color: #008080\">                 </span> ├── Write - 0.04 seconds (0.10%)                                                              │\n",
       "│ <span style=\"color: #008080; text-decoration-color: #008080\">                 </span> └── Metadata - 30.96 seconds (87.77%)                                                         │\n",
       "│ <span style=\"color: #008080; text-decoration-color: #008080\"> I/O Operations  </span> 25,820,495 ops                                                                                │\n",
       "│ <span style=\"color: #008080; text-decoration-color: #008080\">                 </span> ├── Read - 1,316,696 ops (5.10%)                                                              │\n",
       "│ <span style=\"color: #008080; text-decoration-color: #008080\">                 </span> ├── Write - 544,799 ops (2.11%)                                                               │\n",
       "│ <span style=\"color: #008080; text-decoration-color: #008080\">                 </span> └── Metadata - 23,462,488 ops (90.87%)                                                        │\n",
       "│ <span style=\"color: #008080; text-decoration-color: #008080\"> I/O Size        </span> 8.15 GiB                                                                                      │\n",
       "│ <span style=\"color: #008080; text-decoration-color: #008080\">                 </span> ├── Read - 7.58 GiB (93.00%)                                                                  │\n",
       "│ <span style=\"color: #008080; text-decoration-color: #008080\">                 </span> └── Write - 584.08 MiB (7.00%)                                                                │\n",
       "│ <span style=\"color: #008080; text-decoration-color: #008080\"> Read Requests   </span> 4 kiB-1 MiB - 1,316,170 ops                                                                   │\n",
       "│ <span style=\"color: #008080; text-decoration-color: #008080\">                 </span> ├── &lt;4 kiB - 662,135 ops (50.31%)                                                             │\n",
       "│ <span style=\"color: #008080; text-decoration-color: #008080\">                 </span> ├── 4-16 kiB - 371,411 ops (28.22%)                                                           │\n",
       "│ <span style=\"color: #008080; text-decoration-color: #008080\">                 </span> ├── 16-64 kiB - 244,448 ops (18.57%)                                                          │\n",
       "│ <span style=\"color: #008080; text-decoration-color: #008080\">                 </span> ├── 64-256 kiB - 35,872 ops (2.73%)                                                           │\n",
       "│ <span style=\"color: #008080; text-decoration-color: #008080\">                 </span> └── 256 kiB-1 MiB - 2,304 ops (0.18%)                                                         │\n",
       "│ <span style=\"color: #008080; text-decoration-color: #008080\"> Write Requests  </span> 4 kiB-64 kiB - 544,799 ops                                                                    │\n",
       "│ <span style=\"color: #008080; text-decoration-color: #008080\">                 </span> ├── &lt;4 kiB - 535,197 ops (98.24%)                                                             │\n",
       "│ <span style=\"color: #008080; text-decoration-color: #008080\">                 </span> ├── 4-16 kiB - 130 ops (0.02%)                                                                │\n",
       "│ <span style=\"color: #008080; text-decoration-color: #008080\">                 </span> └── 16-64 kiB - 9,472 ops (1.74%)                                                             │\n",
       "│ <span style=\"color: #008080; text-decoration-color: #008080\"> Nodes           </span> 16 nodes                                                                                      │\n",
       "│ <span style=\"color: #008080; text-decoration-color: #008080\">                 </span> ├── 39194 - 35.27 s (100.00%) - 485.24 MiB/36.45 MiB R/W (5.81/0.44%) - 1,613,491 ops         │\n",
       "│ <span style=\"color: #008080; text-decoration-color: #008080\">                 </span> │   (6.25%)                                                                                   │\n",
       "│ <span style=\"color: #008080; text-decoration-color: #008080\">                 </span> ├── 12967 - 34.65 s (98.23%) - 485.23 MiB/37.31 MiB R/W (5.81/0.45%) - 1,617,918 ops (6.27%)  │\n",
       "│ <span style=\"color: #008080; text-decoration-color: #008080\">                 </span> ├── 35656 - 34.40 s (97.51%) - 485.24 MiB/36.45 MiB R/W (5.81/0.44%) - 1,613,505 ops (6.25%)  │\n",
       "│ <span style=\"color: #008080; text-decoration-color: #008080\">                 </span> ├── 60580 - 33.30 s (94.39%) - 485.24 MiB/36.45 MiB R/W (5.81/0.44%) - 1,613,514 ops (6.25%)  │\n",
       "│ <span style=\"color: #008080; text-decoration-color: #008080\">                 </span> ├── 51714 - 33.12 s (93.89%) - 485.24 MiB/36.45 MiB R/W (5.81/0.44%) - 1,613,513 ops (6.25%)  │\n",
       "│ <span style=\"color: #008080; text-decoration-color: #008080\">                 </span> ├── 11383 - 32.50 s (92.13%) - 485.24 MiB/36.45 MiB R/W (5.81/0.44%) - 1,613,503 ops (6.25%)  │\n",
       "│ <span style=\"color: #008080; text-decoration-color: #008080\">                 </span> ├── 23424 - 32.50 s (92.12%) - 485.24 MiB/36.45 MiB R/W (5.81/0.44%) - 1,613,506 ops (6.25%)  │\n",
       "│ <span style=\"color: #008080; text-decoration-color: #008080\">                 </span> ├── 62039 - 32.47 s (92.05%) - 485.24 MiB/36.45 MiB R/W (5.81/0.44%) - 1,613,514 ops (6.25%)  │\n",
       "│ <span style=\"color: #008080; text-decoration-color: #008080\">                 </span> ├── 33196 - 32.38 s (91.79%) - 485.21 MiB/36.45 MiB R/W (5.81/0.44%) - 1,613,500 ops (6.25%)  │\n",
       "│ <span style=\"color: #008080; text-decoration-color: #008080\">                 </span> ├── 6999 - 32.30 s (91.56%) - 485.24 MiB/36.45 MiB R/W (5.81/0.44%) - 1,613,501 ops (6.25%)   │\n",
       "│ <span style=\"color: #008080; text-decoration-color: #008080\">                 </span> ├── 61175 - 32.29 s (91.54%) - 485.24 MiB/36.45 MiB R/W (5.81/0.44%) - 1,613,533 ops (6.25%)  │\n",
       "│ <span style=\"color: #008080; text-decoration-color: #008080\">                 </span> ├── 43148 - 32.19 s (91.24%) - 485.24 MiB/36.45 MiB R/W (5.81/0.44%) - 1,613,505 ops (6.25%)  │\n",
       "│ <span style=\"color: #008080; text-decoration-color: #008080\">                 </span> ├── 47124 - 32.10 s (90.99%) - 485.24 MiB/36.45 MiB R/W (5.81/0.44%) - 1,613,516 ops (6.25%)  │\n",
       "│ <span style=\"color: #008080; text-decoration-color: #008080\">                 </span> ├── 60895 - 32.03 s (90.81%) - 485.24 MiB/36.45 MiB R/W (5.81/0.44%) - 1,613,512 ops (6.25%)  │\n",
       "│ <span style=\"color: #008080; text-decoration-color: #008080\">                 </span> ├── 53071 - 31.84 s (90.26%) - 485.24 MiB/36.45 MiB R/W (5.81/0.44%) - 1,613,450 ops (6.25%)  │\n",
       "│ <span style=\"color: #008080; text-decoration-color: #008080\">                 </span> └── 20635 - 31.73 s (89.95%) - 485.24 MiB/36.45 MiB R/W (5.81/0.44%) - 1,613,514 ops (6.25%)  │\n",
       "│ <span style=\"color: #008080; text-decoration-color: #008080\"> Apps            </span> 1 app                                                                                         │\n",
       "│ <span style=\"color: #008080; text-decoration-color: #008080\"> Processes/Ranks </span> 1,024 processes                                                                               │\n",
       "│ <span style=\"color: #008080; text-decoration-color: #008080\"> Files           </span> 65,523 files                                                                                  │\n",
       "│ <span style=\"color: #008080; text-decoration-color: #008080\">                 </span> ├── Shared: 65,518 files (99.99%)                                                             │\n",
       "│ <span style=\"color: #008080; text-decoration-color: #008080\">                 </span> └── FPP: 5 files (0.01%)                                                                      │\n",
       "│ <span style=\"color: #008080; text-decoration-color: #008080\"> Time Periods    </span> 206 time periods (Time Granularity: 1,000,000.0)                                              │\n",
       "│ <span style=\"color: #008080; text-decoration-color: #008080\"> Access Pattern  </span> <span style=\"font-weight: bold\">Sequential</span>: 1,861,495 ops (100.00%) - <span style=\"font-weight: bold\">Random</span>: 0 ops (0.00%)                                   │\n",
       "│                                                                                                                 │\n",
       "╰─ <span style=\"font-weight: bold\">R</span>: Read - <span style=\"font-weight: bold\">W</span>: Write - <span style=\"font-weight: bold\">M</span>: Metadata  ─────────────────────────────────────────────────────────────────────────────╯\n",
       "                                                                                                                   \n",
       "╭─────────────────────────────────── 50685 I/O Bottlenecks with 84466 Reasons ────────────────────────────────────╮\n",
       "│                                                                                                                 │\n",
       "│  Time View (49 bottlenecks with 135 reasons)                                                                    │\n",
       "│  ├── <span style=\"color: #d70000; text-decoration-color: #d70000\">[CR1] 38 processes access 1 file within 1 time period (335) across 38 I/O operations and have an I/O time</span>  │\n",
       "│  │   <span style=\"color: #d70000; text-decoration-color: #d70000\">of 0.00 seconds which is 0.01% of overall I/O time of the workload.</span>                                        │\n",
       "│  │   └── <span style=\"color: #d70000; text-decoration-color: #d70000\">[Excessive metadata access] Overall 100.00% (0.00 seconds) of I/O time is spent on metadata access, </span>   │\n",
       "│  │       <span style=\"color: #d70000; text-decoration-color: #d70000\">specifically 0.00% (0.00 seconds) on the 'close' operation.</span>                                            │\n",
       "│  └── (48 more)                                                                                                  │\n",
       "│  File View (13868 bottlenecks with 34242 reasons)                                                               │\n",
       "│  ├── <span style=\"color: #d70000; text-decoration-color: #d70000\">[CR50] 5 processes access 1 file (23078) within 3 time periods across 28 I/O operations and have an I/O </span>   │\n",
       "│  │   <span style=\"color: #d70000; text-decoration-color: #d70000\">time of 0.04 seconds which is 0.12% of overall I/O time of the workload.</span>                                   │\n",
       "│  │   ├── <span style=\"color: #d70000; text-decoration-color: #d70000\">[Excessive metadata access] Overall 99.20% (0.04 seconds) of I/O time is spent on metadata access, </span>    │\n",
       "│  │   │   <span style=\"color: #d70000; text-decoration-color: #d70000\">specifically 64.96% (0.03 seconds) on the 'open' operation.</span>                                            │\n",
       "│  │   ├── <span style=\"color: #d70000; text-decoration-color: #d70000\">[Operation imbalance] 'write' operations are 32.14% (9 operations) of total I/O operations.</span>            │\n",
       "│  │   └── <span style=\"color: #d70000; text-decoration-color: #d70000\">[Size imbalance] 'write' size is 100.00% (396.25 kiB) of total I/O size.</span>                               │\n",
       "│  └── (13867 more)                                                                                               │\n",
       "│  Process View (890 bottlenecks with 628 reasons)                                                                │\n",
       "│  ├── <span style=\"color: #d70000; text-decoration-color: #d70000\">[CR13918] 1 process (app#53071#1816807#1816950) accesses 1 file within 1 time period across 1 I/O </span>         │\n",
       "│  │   <span style=\"color: #d70000; text-decoration-color: #d70000\">operation and has an I/O time of 0.23 seconds which is 0.65% of overall I/O time of the workload.</span>          │\n",
       "│  │   └── <span style=\"color: #d70000; text-decoration-color: #d70000\">[Excessive metadata access] No reason found, investigation needed!</span>                                     │\n",
       "│  └── (889 more)                                                                                                 │\n",
       "│  Time&gt;File View (7079 bottlenecks with 7350 reasons)                                                            │\n",
       "│  ├── <span style=\"color: #d70000; text-decoration-color: #d70000\">[CR14808] 4 processes access 1 file (55968) within 1 time period across 7 I/O operations and have an I/O </span>  │\n",
       "│  │   <span style=\"color: #d70000; text-decoration-color: #d70000\">time of 0.04 seconds which is 0.11% of overall I/O time of the workload.</span>                                   │\n",
       "│  │   └── <span style=\"color: #d70000; text-decoration-color: #d70000\">[Excessive metadata access] No reason found, investigation needed!</span>                                     │\n",
       "│  └── (7078 more)                                                                                                │\n",
       "│  Time&gt;Process View (460 bottlenecks with 728 reasons)                                                           │\n",
       "│  ├── <span style=\"color: #d70000; text-decoration-color: #d70000\">[CR21887] 1 process (app#53071#1816807#1817164) accesses 1 file within 1 time period across 1 I/O </span>         │\n",
       "│  │   <span style=\"color: #d70000; text-decoration-color: #d70000\">operation and has an I/O time of 0.17 seconds which is 0.49% of overall I/O time of the workload.</span>          │\n",
       "│  │   └── <span style=\"color: #d70000; text-decoration-color: #d70000\">[Excessive metadata access] No reason found, investigation needed!</span>                                     │\n",
       "│  └── (459 more)                                                                                                 │\n",
       "│  File&gt;Time View (36 bottlenecks with 91 reasons)                                                                │\n",
       "│  ├── <span style=\"color: #d70000; text-decoration-color: #d70000\">[CR22347] 384 processes access 600 files within 1 time period (183) across 5,925 I/O operations and have </span>  │\n",
       "│  │   <span style=\"color: #d70000; text-decoration-color: #d70000\">an I/O time of 0.34 seconds which is 0.97% of overall I/O time of the workload.</span>                            │\n",
       "│  │   ├── <span style=\"color: #d70000; text-decoration-color: #d70000\">[Excessive metadata access] Overall 99.94% (0.34 seconds) of I/O time is spent on metadata access, </span>    │\n",
       "│  │   │   <span style=\"color: #d70000; text-decoration-color: #d70000\">specifically 2.05% (0.01 seconds) on the 'open' operation.</span>                                             │\n",
       "│  │   ├── <span style=\"color: #d70000; text-decoration-color: #d70000\">[Operation imbalance] 'read' operations are 19.07% (1,130 operations) of total I/O operations.</span>         │\n",
       "│  │   └── <span style=\"color: #d70000; text-decoration-color: #d70000\">[Size imbalance] 'read' size is 100.00% (1.57 MiB) of total I/O size.</span>                                  │\n",
       "│  └── (35 more)                                                                                                  │\n",
       "│  File&gt;Process View (764 bottlenecks with 371 reasons)                                                           │\n",
       "│  ├── <span style=\"color: #d70000; text-decoration-color: #d70000\">[CR22383] 1 process (app#53071#1816807#1816950) accesses 1 file within 1 time period across 1 I/O </span>         │\n",
       "│  │   <span style=\"color: #d70000; text-decoration-color: #d70000\">operation and has an I/O time of 0.23 seconds which is 0.65% of overall I/O time of the workload.</span>          │\n",
       "│  │   └── <span style=\"color: #d70000; text-decoration-color: #d70000\">[Excessive metadata access] No reason found, investigation needed!</span>                                     │\n",
       "│  └── (763 more)                                                                                                 │\n",
       "│  Process&gt;Time View (47 bottlenecks with 130 reasons)                                                            │\n",
       "│  ├── <span style=\"color: #d70000; text-decoration-color: #d70000\">[CR23147] 38 processes access 1 file within 1 time period (335) across 38 I/O operations and have an I/O </span>  │\n",
       "│  │   <span style=\"color: #d70000; text-decoration-color: #d70000\">time of 0.00 seconds which is 0.01% of overall I/O time of the workload.</span>                                   │\n",
       "│  │   └── <span style=\"color: #d70000; text-decoration-color: #d70000\">[Excessive metadata access] Overall 100.00% (0.00 seconds) of I/O time is spent on metadata access, </span>   │\n",
       "│  │       <span style=\"color: #d70000; text-decoration-color: #d70000\">specifically 0.00% (0.00 seconds) on the 'close' operation.</span>                                            │\n",
       "│  └── (46 more)                                                                                                  │\n",
       "│  Process&gt;File View (14070 bottlenecks with 27664 reasons)                                                       │\n",
       "│  ├── <span style=\"color: #d70000; text-decoration-color: #d70000\">[CR23194] 6 processes access 1 file (50881) within 6 time periods across 22 I/O operations and have an </span>    │\n",
       "│  │   <span style=\"color: #d70000; text-decoration-color: #d70000\">I/O time of 0.07 seconds which is 0.21% of overall I/O time of the workload.</span>                               │\n",
       "│  │   ├── <span style=\"color: #d70000; text-decoration-color: #d70000\">[Excessive metadata access] Overall 99.58% (0.07 seconds) of I/O time is spent on metadata access, </span>    │\n",
       "│  │   │   <span style=\"color: #d70000; text-decoration-color: #d70000\">specifically 95.80% (0.07 seconds) on the 'open' operation.</span>                                            │\n",
       "│  │   ├── <span style=\"color: #d70000; text-decoration-color: #d70000\">[Operation imbalance] 'write' operations are 31.82% (7 operations) of total I/O operations.</span>            │\n",
       "│  │   └── <span style=\"color: #d70000; text-decoration-color: #d70000\">[Size imbalance] 'write' size is 100.00% (396.24 kiB) of total I/O size.</span>                               │\n",
       "│  └── (14069 more)                                                                                               │\n",
       "│  Time&gt;File&gt;Process View (434 bottlenecks with 435 reasons)                                                      │\n",
       "│  ├── <span style=\"color: #d70000; text-decoration-color: #d70000\">[CR37264] 1 process (app#53071#1816807#1817164) accesses 1 file within 1 time period across 1 I/O </span>         │\n",
       "│  │   <span style=\"color: #d70000; text-decoration-color: #d70000\">operation and has an I/O time of 0.17 seconds which is 0.49% of overall I/O time of the workload.</span>          │\n",
       "│  │   └── <span style=\"color: #d70000; text-decoration-color: #d70000\">[Excessive metadata access] No reason found, investigation needed!</span>                                     │\n",
       "│  └── (433 more)                                                                                                 │\n",
       "│  Time&gt;Process&gt;File View (5951 bottlenecks with 6482 reasons)                                                    │\n",
       "│  ├── <span style=\"color: #d70000; text-decoration-color: #d70000\">[CR37698] 40 processes access 1 file (40486) within 2 time periods across 40 I/O operations and have an </span>   │\n",
       "│  │   <span style=\"color: #d70000; text-decoration-color: #d70000\">I/O time of 0.09 seconds which is 0.26% of overall I/O time of the workload.</span>                               │\n",
       "│  │   └── <span style=\"color: #d70000; text-decoration-color: #d70000\">[Excessive metadata access] No reason found, investigation needed!</span>                                     │\n",
       "│  └── (5950 more)                                                                                                │\n",
       "│  File&gt;Time&gt;Process View (808 bottlenecks with 504 reasons)                                                      │\n",
       "│  ├── <span style=\"color: #d70000; text-decoration-color: #d70000\">[CR43649] 1 process (app#53071#1816807#1816950) accesses 1 file within 1 time period across 1 I/O </span>         │\n",
       "│  │   <span style=\"color: #d70000; text-decoration-color: #d70000\">operation and has an I/O time of 0.23 seconds which is 0.65% of overall I/O time of the workload.</span>          │\n",
       "│  │   └── <span style=\"color: #d70000; text-decoration-color: #d70000\">[Excessive metadata access] No reason found, investigation needed!</span>                                     │\n",
       "│  └── (807 more)                                                                                                 │\n",
       "│  File&gt;Process&gt;Time View (33 bottlenecks with 87 reasons)                                                        │\n",
       "│  ├── <span style=\"color: #d70000; text-decoration-color: #d70000\">[CR44457] 1 process accesses 1 file within 1 time period (211) across 27 I/O operations and has an I/O </span>    │\n",
       "│  │   <span style=\"color: #d70000; text-decoration-color: #d70000\">time of 0.00 seconds which is 0.01% of overall I/O time of the workload.</span>                                   │\n",
       "│  │   ├── <span style=\"color: #d70000; text-decoration-color: #d70000\">[Operation imbalance] 'write' operations are 100.00% (27 operations) of total I/O operations.</span>          │\n",
       "│  │   ├── <span style=\"color: #d70000; text-decoration-color: #d70000\">[Size imbalance] 'write' size is 100.00% (5.62 kiB) of total I/O size.</span>                                 │\n",
       "│  │   ├── <span style=\"color: #d70000; text-decoration-color: #d70000\">[Small writes] 'write' time is 100.00% (0.00 seconds) of I/O time.</span>                                     │\n",
       "│  │   └── <span style=\"color: #d70000; text-decoration-color: #d70000\">[Small writes] Average 'write's are 213.25925925925927 B, which is smaller than 1.00 MiB.</span>              │\n",
       "│  └── (32 more)                                                                                                  │\n",
       "│  Process&gt;Time&gt;File View (6166 bottlenecks with 5546 reasons)                                                    │\n",
       "│  ├── <span style=\"color: #d70000; text-decoration-color: #d70000\">[CR44490] 1 process accesses 1 file (27018) within 1 time period across 12 I/O operations and has an I/O </span>  │\n",
       "│  │   <span style=\"color: #d70000; text-decoration-color: #d70000\">time of 0.08 seconds which is 0.22% of overall I/O time of the workload.</span>                                   │\n",
       "│  │   ├── <span style=\"color: #d70000; text-decoration-color: #d70000\">[Excessive metadata access] Overall 99.58% (0.08 seconds) of I/O time is spent on metadata access, </span>    │\n",
       "│  │   │   <span style=\"color: #d70000; text-decoration-color: #d70000\">specifically 88.40% (0.07 seconds) on the 'open' operation.</span>                                            │\n",
       "│  │   ├── <span style=\"color: #d70000; text-decoration-color: #d70000\">[Operation imbalance] 'write' operations are 58.33% (7 operations) of total I/O operations.</span>            │\n",
       "│  │   └── <span style=\"color: #d70000; text-decoration-color: #d70000\">[Size imbalance] 'write' size is 100.00% (396.15 kiB) of total I/O size.</span>                               │\n",
       "│  └── (6165 more)                                                                                                │\n",
       "│  Process&gt;File&gt;Time View (30 bottlenecks with 73 reasons)                                                        │\n",
       "│  ├── <span style=\"color: #d70000; text-decoration-color: #d70000\">[CR50656] 508 processes access 41 files within 1 time period (182) across 3,496 I/O operations and have </span>   │\n",
       "│  │   <span style=\"color: #d70000; text-decoration-color: #d70000\">an I/O time of 0.41 seconds which is 1.17% of overall I/O time of the workload.</span>                            │\n",
       "│  │   ├── <span style=\"color: #d70000; text-decoration-color: #d70000\">[Excessive metadata access] Overall 99.93% (0.41 seconds) of I/O time is spent on metadata access, </span>    │\n",
       "│  │   │   <span style=\"color: #d70000; text-decoration-color: #d70000\">specifically 0.58% (0.00 seconds) on the 'open' operation.</span>                                             │\n",
       "│  │   ├── <span style=\"color: #d70000; text-decoration-color: #d70000\">[Operation imbalance] 'read' operations are 16.08% (562 operations) of total I/O operations.</span>           │\n",
       "│  │   └── <span style=\"color: #d70000; text-decoration-color: #d70000\">[Size imbalance] 'read' size is 99.24% (47.92 kiB) of total I/O size.</span>                                  │\n",
       "│  └── (29 more)                                                                                                  │\n",
       "│                                                                                                                 │\n",
       "╰─────────────────────────────────────────────────────────────────────────────────────────────────────────────────╯\n",
       "</pre>\n"
      ],
      "text/plain": [
       "╭────────────────────────────────────────────── I/O Characteristics ──────────────────────────────────────────────╮\n",
       "│                                                                                                                 │\n",
       "│ \u001b[36m \u001b[0m\u001b[36mRuntime        \u001b[0m\u001b[36m \u001b[0m 338.02 seconds                                                                                │\n",
       "│ \u001b[36m \u001b[0m\u001b[36mI/O Time       \u001b[0m\u001b[36m \u001b[0m 35.27 seconds                                                                                 │\n",
       "│ \u001b[36m                 \u001b[0m ├── Read - 4.45 seconds (12.60%)                                                              │\n",
       "│ \u001b[36m                 \u001b[0m ├── Write - 0.04 seconds (0.10%)                                                              │\n",
       "│ \u001b[36m                 \u001b[0m └── Metadata - 30.96 seconds (87.77%)                                                         │\n",
       "│ \u001b[36m \u001b[0m\u001b[36mI/O Operations \u001b[0m\u001b[36m \u001b[0m 25,820,495 ops                                                                                │\n",
       "│ \u001b[36m                 \u001b[0m ├── Read - 1,316,696 ops (5.10%)                                                              │\n",
       "│ \u001b[36m                 \u001b[0m ├── Write - 544,799 ops (2.11%)                                                               │\n",
       "│ \u001b[36m                 \u001b[0m └── Metadata - 23,462,488 ops (90.87%)                                                        │\n",
       "│ \u001b[36m \u001b[0m\u001b[36mI/O Size       \u001b[0m\u001b[36m \u001b[0m 8.15 GiB                                                                                      │\n",
       "│ \u001b[36m                 \u001b[0m ├── Read - 7.58 GiB (93.00%)                                                                  │\n",
       "│ \u001b[36m                 \u001b[0m └── Write - 584.08 MiB (7.00%)                                                                │\n",
       "│ \u001b[36m \u001b[0m\u001b[36mRead Requests  \u001b[0m\u001b[36m \u001b[0m 4 kiB-1 MiB - 1,316,170 ops                                                                   │\n",
       "│ \u001b[36m                 \u001b[0m ├── <4 kiB - 662,135 ops (50.31%)                                                             │\n",
       "│ \u001b[36m                 \u001b[0m ├── 4-16 kiB - 371,411 ops (28.22%)                                                           │\n",
       "│ \u001b[36m                 \u001b[0m ├── 16-64 kiB - 244,448 ops (18.57%)                                                          │\n",
       "│ \u001b[36m                 \u001b[0m ├── 64-256 kiB - 35,872 ops (2.73%)                                                           │\n",
       "│ \u001b[36m                 \u001b[0m └── 256 kiB-1 MiB - 2,304 ops (0.18%)                                                         │\n",
       "│ \u001b[36m \u001b[0m\u001b[36mWrite Requests \u001b[0m\u001b[36m \u001b[0m 4 kiB-64 kiB - 544,799 ops                                                                    │\n",
       "│ \u001b[36m                 \u001b[0m ├── <4 kiB - 535,197 ops (98.24%)                                                             │\n",
       "│ \u001b[36m                 \u001b[0m ├── 4-16 kiB - 130 ops (0.02%)                                                                │\n",
       "│ \u001b[36m                 \u001b[0m └── 16-64 kiB - 9,472 ops (1.74%)                                                             │\n",
       "│ \u001b[36m \u001b[0m\u001b[36mNodes          \u001b[0m\u001b[36m \u001b[0m 16 nodes                                                                                      │\n",
       "│ \u001b[36m                 \u001b[0m ├── 39194 - 35.27 s (100.00%) - 485.24 MiB/36.45 MiB R/W (5.81/0.44%) - 1,613,491 ops         │\n",
       "│ \u001b[36m                 \u001b[0m │   (6.25%)                                                                                   │\n",
       "│ \u001b[36m                 \u001b[0m ├── 12967 - 34.65 s (98.23%) - 485.23 MiB/37.31 MiB R/W (5.81/0.45%) - 1,617,918 ops (6.27%)  │\n",
       "│ \u001b[36m                 \u001b[0m ├── 35656 - 34.40 s (97.51%) - 485.24 MiB/36.45 MiB R/W (5.81/0.44%) - 1,613,505 ops (6.25%)  │\n",
       "│ \u001b[36m                 \u001b[0m ├── 60580 - 33.30 s (94.39%) - 485.24 MiB/36.45 MiB R/W (5.81/0.44%) - 1,613,514 ops (6.25%)  │\n",
       "│ \u001b[36m                 \u001b[0m ├── 51714 - 33.12 s (93.89%) - 485.24 MiB/36.45 MiB R/W (5.81/0.44%) - 1,613,513 ops (6.25%)  │\n",
       "│ \u001b[36m                 \u001b[0m ├── 11383 - 32.50 s (92.13%) - 485.24 MiB/36.45 MiB R/W (5.81/0.44%) - 1,613,503 ops (6.25%)  │\n",
       "│ \u001b[36m                 \u001b[0m ├── 23424 - 32.50 s (92.12%) - 485.24 MiB/36.45 MiB R/W (5.81/0.44%) - 1,613,506 ops (6.25%)  │\n",
       "│ \u001b[36m                 \u001b[0m ├── 62039 - 32.47 s (92.05%) - 485.24 MiB/36.45 MiB R/W (5.81/0.44%) - 1,613,514 ops (6.25%)  │\n",
       "│ \u001b[36m                 \u001b[0m ├── 33196 - 32.38 s (91.79%) - 485.21 MiB/36.45 MiB R/W (5.81/0.44%) - 1,613,500 ops (6.25%)  │\n",
       "│ \u001b[36m                 \u001b[0m ├── 6999 - 32.30 s (91.56%) - 485.24 MiB/36.45 MiB R/W (5.81/0.44%) - 1,613,501 ops (6.25%)   │\n",
       "│ \u001b[36m                 \u001b[0m ├── 61175 - 32.29 s (91.54%) - 485.24 MiB/36.45 MiB R/W (5.81/0.44%) - 1,613,533 ops (6.25%)  │\n",
       "│ \u001b[36m                 \u001b[0m ├── 43148 - 32.19 s (91.24%) - 485.24 MiB/36.45 MiB R/W (5.81/0.44%) - 1,613,505 ops (6.25%)  │\n",
       "│ \u001b[36m                 \u001b[0m ├── 47124 - 32.10 s (90.99%) - 485.24 MiB/36.45 MiB R/W (5.81/0.44%) - 1,613,516 ops (6.25%)  │\n",
       "│ \u001b[36m                 \u001b[0m ├── 60895 - 32.03 s (90.81%) - 485.24 MiB/36.45 MiB R/W (5.81/0.44%) - 1,613,512 ops (6.25%)  │\n",
       "│ \u001b[36m                 \u001b[0m ├── 53071 - 31.84 s (90.26%) - 485.24 MiB/36.45 MiB R/W (5.81/0.44%) - 1,613,450 ops (6.25%)  │\n",
       "│ \u001b[36m                 \u001b[0m └── 20635 - 31.73 s (89.95%) - 485.24 MiB/36.45 MiB R/W (5.81/0.44%) - 1,613,514 ops (6.25%)  │\n",
       "│ \u001b[36m \u001b[0m\u001b[36mApps           \u001b[0m\u001b[36m \u001b[0m 1 app                                                                                         │\n",
       "│ \u001b[36m \u001b[0m\u001b[36mProcesses/Ranks\u001b[0m\u001b[36m \u001b[0m 1,024 processes                                                                               │\n",
       "│ \u001b[36m \u001b[0m\u001b[36mFiles          \u001b[0m\u001b[36m \u001b[0m 65,523 files                                                                                  │\n",
       "│ \u001b[36m                 \u001b[0m ├── Shared: 65,518 files (99.99%)                                                             │\n",
       "│ \u001b[36m                 \u001b[0m └── FPP: 5 files (0.01%)                                                                      │\n",
       "│ \u001b[36m \u001b[0m\u001b[36mTime Periods   \u001b[0m\u001b[36m \u001b[0m 206 time periods (Time Granularity: 1,000,000.0)                                              │\n",
       "│ \u001b[36m \u001b[0m\u001b[36mAccess Pattern \u001b[0m\u001b[36m \u001b[0m \u001b[1mSequential\u001b[0m: 1,861,495 ops (100.00%) - \u001b[1mRandom\u001b[0m: 0 ops (0.00%)                                   │\n",
       "│                                                                                                                 │\n",
       "╰─ \u001b[1mR\u001b[0m: Read - \u001b[1mW\u001b[0m: Write - \u001b[1mM\u001b[0m: Metadata  ─────────────────────────────────────────────────────────────────────────────╯\n",
       "                                                                                                                   \n",
       "╭─────────────────────────────────── 50685 I/O Bottlenecks with 84466 Reasons ────────────────────────────────────╮\n",
       "│                                                                                                                 │\n",
       "│  Time View (49 bottlenecks with 135 reasons)                                                                    │\n",
       "│  ├── \u001b[38;5;160m[CR1] 38 processes access 1 file within 1 time period (335) across 38 I/O operations and have an I/O time\u001b[0m  │\n",
       "│  │   \u001b[38;5;160mof 0.00 seconds which is 0.01% of overall I/O time of the workload.\u001b[0m                                        │\n",
       "│  │   └── \u001b[38;5;160m[Excessive metadata access] Overall 100.00% (0.00 seconds) of I/O time is spent on metadata access, \u001b[0m   │\n",
       "│  │       \u001b[38;5;160mspecifically 0.00% (0.00 seconds) on the 'close' operation.\u001b[0m                                            │\n",
       "│  └── (48 more)                                                                                                  │\n",
       "│  File View (13868 bottlenecks with 34242 reasons)                                                               │\n",
       "│  ├── \u001b[38;5;160m[CR50] 5 processes access 1 file (23078) within 3 time periods across 28 I/O operations and have an I/O \u001b[0m   │\n",
       "│  │   \u001b[38;5;160mtime of 0.04 seconds which is 0.12% of overall I/O time of the workload.\u001b[0m                                   │\n",
       "│  │   ├── \u001b[38;5;160m[Excessive metadata access] Overall 99.20% (0.04 seconds) of I/O time is spent on metadata access, \u001b[0m    │\n",
       "│  │   │   \u001b[38;5;160mspecifically 64.96% (0.03 seconds) on the 'open' operation.\u001b[0m                                            │\n",
       "│  │   ├── \u001b[38;5;160m[Operation imbalance] 'write' operations are 32.14% (9 operations) of total I/O operations.\u001b[0m            │\n",
       "│  │   └── \u001b[38;5;160m[Size imbalance] 'write' size is 100.00% (396.25 kiB) of total I/O size.\u001b[0m                               │\n",
       "│  └── (13867 more)                                                                                               │\n",
       "│  Process View (890 bottlenecks with 628 reasons)                                                                │\n",
       "│  ├── \u001b[38;5;160m[CR13918] 1 process (app#53071#1816807#1816950) accesses 1 file within 1 time period across 1 I/O \u001b[0m         │\n",
       "│  │   \u001b[38;5;160moperation and has an I/O time of 0.23 seconds which is 0.65% of overall I/O time of the workload.\u001b[0m          │\n",
       "│  │   └── \u001b[38;5;160m[Excessive metadata access] No reason found, investigation needed!\u001b[0m                                     │\n",
       "│  └── (889 more)                                                                                                 │\n",
       "│  Time>File View (7079 bottlenecks with 7350 reasons)                                                            │\n",
       "│  ├── \u001b[38;5;160m[CR14808] 4 processes access 1 file (55968) within 1 time period across 7 I/O operations and have an I/O \u001b[0m  │\n",
       "│  │   \u001b[38;5;160mtime of 0.04 seconds which is 0.11% of overall I/O time of the workload.\u001b[0m                                   │\n",
       "│  │   └── \u001b[38;5;160m[Excessive metadata access] No reason found, investigation needed!\u001b[0m                                     │\n",
       "│  └── (7078 more)                                                                                                │\n",
       "│  Time>Process View (460 bottlenecks with 728 reasons)                                                           │\n",
       "│  ├── \u001b[38;5;160m[CR21887] 1 process (app#53071#1816807#1817164) accesses 1 file within 1 time period across 1 I/O \u001b[0m         │\n",
       "│  │   \u001b[38;5;160moperation and has an I/O time of 0.17 seconds which is 0.49% of overall I/O time of the workload.\u001b[0m          │\n",
       "│  │   └── \u001b[38;5;160m[Excessive metadata access] No reason found, investigation needed!\u001b[0m                                     │\n",
       "│  └── (459 more)                                                                                                 │\n",
       "│  File>Time View (36 bottlenecks with 91 reasons)                                                                │\n",
       "│  ├── \u001b[38;5;160m[CR22347] 384 processes access 600 files within 1 time period (183) across 5,925 I/O operations and have \u001b[0m  │\n",
       "│  │   \u001b[38;5;160man I/O time of 0.34 seconds which is 0.97% of overall I/O time of the workload.\u001b[0m                            │\n",
       "│  │   ├── \u001b[38;5;160m[Excessive metadata access] Overall 99.94% (0.34 seconds) of I/O time is spent on metadata access, \u001b[0m    │\n",
       "│  │   │   \u001b[38;5;160mspecifically 2.05% (0.01 seconds) on the 'open' operation.\u001b[0m                                             │\n",
       "│  │   ├── \u001b[38;5;160m[Operation imbalance] 'read' operations are 19.07% (1,130 operations) of total I/O operations.\u001b[0m         │\n",
       "│  │   └── \u001b[38;5;160m[Size imbalance] 'read' size is 100.00% (1.57 MiB) of total I/O size.\u001b[0m                                  │\n",
       "│  └── (35 more)                                                                                                  │\n",
       "│  File>Process View (764 bottlenecks with 371 reasons)                                                           │\n",
       "│  ├── \u001b[38;5;160m[CR22383] 1 process (app#53071#1816807#1816950) accesses 1 file within 1 time period across 1 I/O \u001b[0m         │\n",
       "│  │   \u001b[38;5;160moperation and has an I/O time of 0.23 seconds which is 0.65% of overall I/O time of the workload.\u001b[0m          │\n",
       "│  │   └── \u001b[38;5;160m[Excessive metadata access] No reason found, investigation needed!\u001b[0m                                     │\n",
       "│  └── (763 more)                                                                                                 │\n",
       "│  Process>Time View (47 bottlenecks with 130 reasons)                                                            │\n",
       "│  ├── \u001b[38;5;160m[CR23147] 38 processes access 1 file within 1 time period (335) across 38 I/O operations and have an I/O \u001b[0m  │\n",
       "│  │   \u001b[38;5;160mtime of 0.00 seconds which is 0.01% of overall I/O time of the workload.\u001b[0m                                   │\n",
       "│  │   └── \u001b[38;5;160m[Excessive metadata access] Overall 100.00% (0.00 seconds) of I/O time is spent on metadata access, \u001b[0m   │\n",
       "│  │       \u001b[38;5;160mspecifically 0.00% (0.00 seconds) on the 'close' operation.\u001b[0m                                            │\n",
       "│  └── (46 more)                                                                                                  │\n",
       "│  Process>File View (14070 bottlenecks with 27664 reasons)                                                       │\n",
       "│  ├── \u001b[38;5;160m[CR23194] 6 processes access 1 file (50881) within 6 time periods across 22 I/O operations and have an \u001b[0m    │\n",
       "│  │   \u001b[38;5;160mI/O time of 0.07 seconds which is 0.21% of overall I/O time of the workload.\u001b[0m                               │\n",
       "│  │   ├── \u001b[38;5;160m[Excessive metadata access] Overall 99.58% (0.07 seconds) of I/O time is spent on metadata access, \u001b[0m    │\n",
       "│  │   │   \u001b[38;5;160mspecifically 95.80% (0.07 seconds) on the 'open' operation.\u001b[0m                                            │\n",
       "│  │   ├── \u001b[38;5;160m[Operation imbalance] 'write' operations are 31.82% (7 operations) of total I/O operations.\u001b[0m            │\n",
       "│  │   └── \u001b[38;5;160m[Size imbalance] 'write' size is 100.00% (396.24 kiB) of total I/O size.\u001b[0m                               │\n",
       "│  └── (14069 more)                                                                                               │\n",
       "│  Time>File>Process View (434 bottlenecks with 435 reasons)                                                      │\n",
       "│  ├── \u001b[38;5;160m[CR37264] 1 process (app#53071#1816807#1817164) accesses 1 file within 1 time period across 1 I/O \u001b[0m         │\n",
       "│  │   \u001b[38;5;160moperation and has an I/O time of 0.17 seconds which is 0.49% of overall I/O time of the workload.\u001b[0m          │\n",
       "│  │   └── \u001b[38;5;160m[Excessive metadata access] No reason found, investigation needed!\u001b[0m                                     │\n",
       "│  └── (433 more)                                                                                                 │\n",
       "│  Time>Process>File View (5951 bottlenecks with 6482 reasons)                                                    │\n",
       "│  ├── \u001b[38;5;160m[CR37698] 40 processes access 1 file (40486) within 2 time periods across 40 I/O operations and have an \u001b[0m   │\n",
       "│  │   \u001b[38;5;160mI/O time of 0.09 seconds which is 0.26% of overall I/O time of the workload.\u001b[0m                               │\n",
       "│  │   └── \u001b[38;5;160m[Excessive metadata access] No reason found, investigation needed!\u001b[0m                                     │\n",
       "│  └── (5950 more)                                                                                                │\n",
       "│  File>Time>Process View (808 bottlenecks with 504 reasons)                                                      │\n",
       "│  ├── \u001b[38;5;160m[CR43649] 1 process (app#53071#1816807#1816950) accesses 1 file within 1 time period across 1 I/O \u001b[0m         │\n",
       "│  │   \u001b[38;5;160moperation and has an I/O time of 0.23 seconds which is 0.65% of overall I/O time of the workload.\u001b[0m          │\n",
       "│  │   └── \u001b[38;5;160m[Excessive metadata access] No reason found, investigation needed!\u001b[0m                                     │\n",
       "│  └── (807 more)                                                                                                 │\n",
       "│  File>Process>Time View (33 bottlenecks with 87 reasons)                                                        │\n",
       "│  ├── \u001b[38;5;160m[CR44457] 1 process accesses 1 file within 1 time period (211) across 27 I/O operations and has an I/O \u001b[0m    │\n",
       "│  │   \u001b[38;5;160mtime of 0.00 seconds which is 0.01% of overall I/O time of the workload.\u001b[0m                                   │\n",
       "│  │   ├── \u001b[38;5;160m[Operation imbalance] 'write' operations are 100.00% (27 operations) of total I/O operations.\u001b[0m          │\n",
       "│  │   ├── \u001b[38;5;160m[Size imbalance] 'write' size is 100.00% (5.62 kiB) of total I/O size.\u001b[0m                                 │\n",
       "│  │   ├── \u001b[38;5;160m[Small writes] 'write' time is 100.00% (0.00 seconds) of I/O time.\u001b[0m                                     │\n",
       "│  │   └── \u001b[38;5;160m[Small writes] Average 'write's are 213.25925925925927 B, which is smaller than 1.00 MiB.\u001b[0m              │\n",
       "│  └── (32 more)                                                                                                  │\n",
       "│  Process>Time>File View (6166 bottlenecks with 5546 reasons)                                                    │\n",
       "│  ├── \u001b[38;5;160m[CR44490] 1 process accesses 1 file (27018) within 1 time period across 12 I/O operations and has an I/O \u001b[0m  │\n",
       "│  │   \u001b[38;5;160mtime of 0.08 seconds which is 0.22% of overall I/O time of the workload.\u001b[0m                                   │\n",
       "│  │   ├── \u001b[38;5;160m[Excessive metadata access] Overall 99.58% (0.08 seconds) of I/O time is spent on metadata access, \u001b[0m    │\n",
       "│  │   │   \u001b[38;5;160mspecifically 88.40% (0.07 seconds) on the 'open' operation.\u001b[0m                                            │\n",
       "│  │   ├── \u001b[38;5;160m[Operation imbalance] 'write' operations are 58.33% (7 operations) of total I/O operations.\u001b[0m            │\n",
       "│  │   └── \u001b[38;5;160m[Size imbalance] 'write' size is 100.00% (396.15 kiB) of total I/O size.\u001b[0m                               │\n",
       "│  └── (6165 more)                                                                                                │\n",
       "│  Process>File>Time View (30 bottlenecks with 73 reasons)                                                        │\n",
       "│  ├── \u001b[38;5;160m[CR50656] 508 processes access 41 files within 1 time period (182) across 3,496 I/O operations and have \u001b[0m   │\n",
       "│  │   \u001b[38;5;160man I/O time of 0.41 seconds which is 1.17% of overall I/O time of the workload.\u001b[0m                            │\n",
       "│  │   ├── \u001b[38;5;160m[Excessive metadata access] Overall 99.93% (0.41 seconds) of I/O time is spent on metadata access, \u001b[0m    │\n",
       "│  │   │   \u001b[38;5;160mspecifically 0.58% (0.00 seconds) on the 'open' operation.\u001b[0m                                             │\n",
       "│  │   ├── \u001b[38;5;160m[Operation imbalance] 'read' operations are 16.08% (562 operations) of total I/O operations.\u001b[0m           │\n",
       "│  │   └── \u001b[38;5;160m[Size imbalance] 'read' size is 99.24% (47.92 kiB) of total I/O size.\u001b[0m                                  │\n",
       "│  └── (29 more)                                                                                                  │\n",
       "│                                                                                                                 │\n",
       "╰─────────────────────────────────────────────────────────────────────────────────────────────────────────────────╯\n"
      ]
     },
     "metadata": {},
     "output_type": "display_data"
    },
    {
     "name": "stdout",
     "output_type": "stream",
     "text": [
      "time: 9min 56s (started: 2024-10-08 14:15:43 -07:00)\n"
     ]
    }
   ],
   "source": [
    "output.handle_result(metrics=cfg.metrics, result=result)"
   ]
  }
 ],
 "metadata": {
  "kernelspec": {
   "display_name": "venv-corona",
   "language": "python",
   "name": "python3"
  },
  "language_info": {
   "codemirror_mode": {
    "name": "ipython",
    "version": 3
   },
   "file_extension": ".py",
   "mimetype": "text/x-python",
   "name": "python",
   "nbconvert_exporter": "python",
   "pygments_lexer": "ipython3",
   "version": "3.9.12"
  },
  "papermill": {
   "default_parameters": {},
   "duration": 1462.779356,
   "end_time": "2024-10-08T21:25:43.245806",
   "environment_variables": {},
   "exception": null,
   "input_path": "analysis.ipynb",
   "output_path": "analysis-dftracer-deepspeed-dlio-scr-node-16.ipynb",
   "parameters": {
    "analyzer": "dftracer",
    "checkpoint": true,
    "checkpoint_dir": "/usr/workspace/iopp/wisio_logs/_checkpoints/dftracer-deepspeed-dlio-scr-node-16",
    "logical_view_types": false,
    "output_max_bottlenecks": 1,
    "output_root_only": false,
    "run_dir": ".wisio/dftracer/deepspeed-dlio-scr-node-16",
    "trace_path": "/p/lustre3/iopp/dftracer-traces/v1.0.5-develop/corona/megatron_deepspeed-1-100-1_16_8_scr/megatron_deepspeed-1-100-1_16_8_scr-COMPACT/*.pfw.gz"
   },
   "start_time": "2024-10-08T21:01:20.466450",
   "version": "2.6.0"
  }
 },
 "nbformat": 4,
 "nbformat_minor": 5
}
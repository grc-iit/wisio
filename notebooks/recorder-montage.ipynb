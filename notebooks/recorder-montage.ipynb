{
 "cells": [
  {
   "cell_type": "code",
   "execution_count": 1,
   "metadata": {},
   "outputs": [
    {
     "name": "stdout",
     "output_type": "stream",
     "text": [
      "time: 394 µs (started: 2023-03-16 14:13:18 -07:00)\n"
     ]
    }
   ],
   "source": [
    "%load_ext autoreload\n",
    "%load_ext autotime"
   ]
  },
  {
   "cell_type": "code",
   "execution_count": 2,
   "metadata": {},
   "outputs": [
    {
     "data": {
      "text/html": [
       "<div class=\"bk-root\">\n",
       "        <a href=\"https://bokeh.org\" target=\"_blank\" class=\"bk-logo bk-logo-small bk-logo-notebook\"></a>\n",
       "        <span id=\"1001\">Loading BokehJS ...</span>\n",
       "    </div>\n"
      ]
     },
     "metadata": {},
     "output_type": "display_data"
    },
    {
     "data": {
      "application/javascript": "(function(root) {\n  function now() {\n    return new Date();\n  }\n\n  const force = true;\n\n  if (typeof root._bokeh_onload_callbacks === \"undefined\" || force === true) {\n    root._bokeh_onload_callbacks = [];\n    root._bokeh_is_loading = undefined;\n  }\n\nconst JS_MIME_TYPE = 'application/javascript';\n  const HTML_MIME_TYPE = 'text/html';\n  const EXEC_MIME_TYPE = 'application/vnd.bokehjs_exec.v0+json';\n  const CLASS_NAME = 'output_bokeh rendered_html';\n\n  /**\n   * Render data to the DOM node\n   */\n  function render(props, node) {\n    const script = document.createElement(\"script\");\n    node.appendChild(script);\n  }\n\n  /**\n   * Handle when an output is cleared or removed\n   */\n  function handleClearOutput(event, handle) {\n    const cell = handle.cell;\n\n    const id = cell.output_area._bokeh_element_id;\n    const server_id = cell.output_area._bokeh_server_id;\n    // Clean up Bokeh references\n    if (id != null && id in Bokeh.index) {\n      Bokeh.index[id].model.document.clear();\n      delete Bokeh.index[id];\n    }\n\n    if (server_id !== undefined) {\n      // Clean up Bokeh references\n      const cmd_clean = \"from bokeh.io.state import curstate; print(curstate().uuid_to_server['\" + server_id + \"'].get_sessions()[0].document.roots[0]._id)\";\n      cell.notebook.kernel.execute(cmd_clean, {\n        iopub: {\n          output: function(msg) {\n            const id = msg.content.text.trim();\n            if (id in Bokeh.index) {\n              Bokeh.index[id].model.document.clear();\n              delete Bokeh.index[id];\n            }\n          }\n        }\n      });\n      // Destroy server and session\n      const cmd_destroy = \"import bokeh.io.notebook as ion; ion.destroy_server('\" + server_id + \"')\";\n      cell.notebook.kernel.execute(cmd_destroy);\n    }\n  }\n\n  /**\n   * Handle when a new output is added\n   */\n  function handleAddOutput(event, handle) {\n    const output_area = handle.output_area;\n    const output = handle.output;\n\n    // limit handleAddOutput to display_data with EXEC_MIME_TYPE content only\n    if ((output.output_type != \"display_data\") || (!Object.prototype.hasOwnProperty.call(output.data, EXEC_MIME_TYPE))) {\n      return\n    }\n\n    const toinsert = output_area.element.find(\".\" + CLASS_NAME.split(' ')[0]);\n\n    if (output.metadata[EXEC_MIME_TYPE][\"id\"] !== undefined) {\n      toinsert[toinsert.length - 1].firstChild.textContent = output.data[JS_MIME_TYPE];\n      // store reference to embed id on output_area\n      output_area._bokeh_element_id = output.metadata[EXEC_MIME_TYPE][\"id\"];\n    }\n    if (output.metadata[EXEC_MIME_TYPE][\"server_id\"] !== undefined) {\n      const bk_div = document.createElement(\"div\");\n      bk_div.innerHTML = output.data[HTML_MIME_TYPE];\n      const script_attrs = bk_div.children[0].attributes;\n      for (let i = 0; i < script_attrs.length; i++) {\n        toinsert[toinsert.length - 1].firstChild.setAttribute(script_attrs[i].name, script_attrs[i].value);\n        toinsert[toinsert.length - 1].firstChild.textContent = bk_div.children[0].textContent\n      }\n      // store reference to server id on output_area\n      output_area._bokeh_server_id = output.metadata[EXEC_MIME_TYPE][\"server_id\"];\n    }\n  }\n\n  function register_renderer(events, OutputArea) {\n\n    function append_mime(data, metadata, element) {\n      // create a DOM node to render to\n      const toinsert = this.create_output_subarea(\n        metadata,\n        CLASS_NAME,\n        EXEC_MIME_TYPE\n      );\n      this.keyboard_manager.register_events(toinsert);\n      // Render to node\n      const props = {data: data, metadata: metadata[EXEC_MIME_TYPE]};\n      render(props, toinsert[toinsert.length - 1]);\n      element.append(toinsert);\n      return toinsert\n    }\n\n    /* Handle when an output is cleared or removed */\n    events.on('clear_output.CodeCell', handleClearOutput);\n    events.on('delete.Cell', handleClearOutput);\n\n    /* Handle when a new output is added */\n    events.on('output_added.OutputArea', handleAddOutput);\n\n    /**\n     * Register the mime type and append_mime function with output_area\n     */\n    OutputArea.prototype.register_mime_type(EXEC_MIME_TYPE, append_mime, {\n      /* Is output safe? */\n      safe: true,\n      /* Index of renderer in `output_area.display_order` */\n      index: 0\n    });\n  }\n\n  // register the mime type if in Jupyter Notebook environment and previously unregistered\n  if (root.Jupyter !== undefined) {\n    const events = require('base/js/events');\n    const OutputArea = require('notebook/js/outputarea').OutputArea;\n\n    if (OutputArea.prototype.mime_types().indexOf(EXEC_MIME_TYPE) == -1) {\n      register_renderer(events, OutputArea);\n    }\n  }\n  if (typeof (root._bokeh_timeout) === \"undefined\" || force === true) {\n    root._bokeh_timeout = Date.now() + 5000;\n    root._bokeh_failed_load = false;\n  }\n\n  const NB_LOAD_WARNING = {'data': {'text/html':\n     \"<div style='background-color: #fdd'>\\n\"+\n     \"<p>\\n\"+\n     \"BokehJS does not appear to have successfully loaded. If loading BokehJS from CDN, this \\n\"+\n     \"may be due to a slow or bad network connection. Possible fixes:\\n\"+\n     \"</p>\\n\"+\n     \"<ul>\\n\"+\n     \"<li>re-rerun `output_notebook()` to attempt to load from CDN again, or</li>\\n\"+\n     \"<li>use INLINE resources instead, as so:</li>\\n\"+\n     \"</ul>\\n\"+\n     \"<code>\\n\"+\n     \"from bokeh.resources import INLINE\\n\"+\n     \"output_notebook(resources=INLINE)\\n\"+\n     \"</code>\\n\"+\n     \"</div>\"}};\n\n  function display_loaded() {\n    const el = document.getElementById(\"1001\");\n    if (el != null) {\n      el.textContent = \"BokehJS is loading...\";\n    }\n    if (root.Bokeh !== undefined) {\n      if (el != null) {\n        el.textContent = \"BokehJS \" + root.Bokeh.version + \" successfully loaded.\";\n      }\n    } else if (Date.now() < root._bokeh_timeout) {\n      setTimeout(display_loaded, 100)\n    }\n  }\n\n  function run_callbacks() {\n    try {\n      root._bokeh_onload_callbacks.forEach(function(callback) {\n        if (callback != null)\n          callback();\n      });\n    } finally {\n      delete root._bokeh_onload_callbacks\n    }\n    console.debug(\"Bokeh: all callbacks have finished\");\n  }\n\n  function load_libs(css_urls, js_urls, callback) {\n    if (css_urls == null) css_urls = [];\n    if (js_urls == null) js_urls = [];\n\n    root._bokeh_onload_callbacks.push(callback);\n    if (root._bokeh_is_loading > 0) {\n      console.debug(\"Bokeh: BokehJS is being loaded, scheduling callback at\", now());\n      return null;\n    }\n    if (js_urls == null || js_urls.length === 0) {\n      run_callbacks();\n      return null;\n    }\n    console.debug(\"Bokeh: BokehJS not loaded, scheduling load and callback at\", now());\n    root._bokeh_is_loading = css_urls.length + js_urls.length;\n\n    function on_load() {\n      root._bokeh_is_loading--;\n      if (root._bokeh_is_loading === 0) {\n        console.debug(\"Bokeh: all BokehJS libraries/stylesheets loaded\");\n        run_callbacks()\n      }\n    }\n\n    function on_error(url) {\n      console.error(\"failed to load \" + url);\n    }\n\n    for (let i = 0; i < css_urls.length; i++) {\n      const url = css_urls[i];\n      const element = document.createElement(\"link\");\n      element.onload = on_load;\n      element.onerror = on_error.bind(null, url);\n      element.rel = \"stylesheet\";\n      element.type = \"text/css\";\n      element.href = url;\n      console.debug(\"Bokeh: injecting link tag for BokehJS stylesheet: \", url);\n      document.body.appendChild(element);\n    }\n\n    for (let i = 0; i < js_urls.length; i++) {\n      const url = js_urls[i];\n      const element = document.createElement('script');\n      element.onload = on_load;\n      element.onerror = on_error.bind(null, url);\n      element.async = false;\n      element.src = url;\n      console.debug(\"Bokeh: injecting script tag for BokehJS library: \", url);\n      document.head.appendChild(element);\n    }\n  };\n\n  function inject_raw_css(css) {\n    const element = document.createElement(\"style\");\n    element.appendChild(document.createTextNode(css));\n    document.body.appendChild(element);\n  }\n\n  const js_urls = [\"https://cdn.bokeh.org/bokeh/release/bokeh-2.4.3.min.js\", \"https://cdn.bokeh.org/bokeh/release/bokeh-gl-2.4.3.min.js\", \"https://cdn.bokeh.org/bokeh/release/bokeh-widgets-2.4.3.min.js\", \"https://cdn.bokeh.org/bokeh/release/bokeh-tables-2.4.3.min.js\", \"https://cdn.bokeh.org/bokeh/release/bokeh-mathjax-2.4.3.min.js\"];\n  const css_urls = [];\n\n  const inline_js = [    function(Bokeh) {\n      Bokeh.set_log_level(\"info\");\n    },\nfunction(Bokeh) {\n    }\n  ];\n\n  function run_inline_js() {\n    if (root.Bokeh !== undefined || force === true) {\n          for (let i = 0; i < inline_js.length; i++) {\n      inline_js[i].call(root, root.Bokeh);\n    }\nif (force === true) {\n        display_loaded();\n      }} else if (Date.now() < root._bokeh_timeout) {\n      setTimeout(run_inline_js, 100);\n    } else if (!root._bokeh_failed_load) {\n      console.log(\"Bokeh: BokehJS failed to load within specified timeout.\");\n      root._bokeh_failed_load = true;\n    } else if (force !== true) {\n      const cell = $(document.getElementById(\"1001\")).parents('.cell').data().cell;\n      cell.output_area.append_execute_result(NB_LOAD_WARNING)\n    }\n  }\n\n  if (root._bokeh_is_loading === 0) {\n    console.debug(\"Bokeh: BokehJS loaded, going straight to plotting\");\n    run_inline_js();\n  } else {\n    load_libs(css_urls, js_urls, function() {\n      console.debug(\"Bokeh: BokehJS plotting callback run at\", now());\n      run_inline_js();\n    });\n  }\n}(window));",
      "application/vnd.bokehjs_load.v0+json": ""
     },
     "metadata": {},
     "output_type": "display_data"
    },
    {
     "name": "stdout",
     "output_type": "stream",
     "text": [
      "time: 1.29 s (started: 2023-03-16 14:13:18 -07:00)\n"
     ]
    }
   ],
   "source": [
    "import sys\n",
    "sys.path.append(\"../\")\n",
    "import warnings\n",
    "warnings.filterwarnings('ignore')\n",
    "from bokeh.io import output_notebook\n",
    "output_notebook()"
   ]
  },
  {
   "cell_type": "code",
   "execution_count": 3,
   "metadata": {},
   "outputs": [
    {
     "name": "stdout",
     "output_type": "stream",
     "text": [
      "time: 555 ms (started: 2023-03-16 14:13:20 -07:00)\n"
     ]
    }
   ],
   "source": [
    "import dask.dataframe as dd\n",
    "import numpy as np\n",
    "import pandas as pd\n"
   ]
  },
  {
   "cell_type": "code",
   "execution_count": 4,
   "metadata": {},
   "outputs": [
    {
     "data": {
      "text/plain": [
       "<wisio.recorder.RecorderAnalyzer at 0x2aab3bd70898>"
      ]
     },
     "execution_count": 4,
     "metadata": {},
     "output_type": "execute_result"
    },
    {
     "name": "stdout",
     "output_type": "stream",
     "text": [
      "time: 2.14 s (started: 2023-03-16 14:13:20 -07:00)\n"
     ]
    }
   ],
   "source": [
    "%autoreload 2\n",
    "\n",
    "from wisio.recorder import RecorderAnalyzer\n",
    "\n",
    "log_dir = \"/p/vast1/iopp/recorder_app_logs/montage/nodes-32/_parquet\"\n",
    "\n",
    "recorder_analyzer = RecorderAnalyzer(\n",
    "    cluster_manager_args=dict(\n",
    "        force_local=True,\n",
    "        cluster_settings=dict(\n",
    "            cores=4,\n",
    "            dashboard_port=3666,\n",
    "            local_directory=\"/var/tmp/dask-recorder\",\n",
    "            log_file=\"%J.log\",\n",
    "            worker_queue=\"pdebug\"\n",
    "        )\n",
    "    ),\n",
    "    working_dir='.recorder',\n",
    "    debug=True\n",
    ") \n",
    "\n",
    "recorder_analyzer"
   ]
  },
  {
   "cell_type": "code",
   "execution_count": 5,
   "metadata": {},
   "outputs": [
    {
     "data": {
      "text/plain": [
       "['http://192.168.135.144:3666/status']"
      ]
     },
     "execution_count": 5,
     "metadata": {},
     "output_type": "execute_result"
    },
    {
     "name": "stdout",
     "output_type": "stream",
     "text": [
      "time: 2.96 ms (started: 2023-03-16 14:13:23 -07:00)\n"
     ]
    }
   ],
   "source": [
    "[client.dashboard_link for client in recorder_analyzer.cluster_manager.clients]"
   ]
  },
  {
   "cell_type": "code",
   "execution_count": 6,
   "metadata": {},
   "outputs": [
    {
     "name": "stdout",
     "output_type": "stream",
     "text": [
      "time: 5.05 s (started: 2023-03-16 14:13:32 -07:00)\n"
     ]
    }
   ],
   "source": [
    "%autoreload 2\n",
    "\n",
    "res = recorder_analyzer.analyze_parquet(log_dir=log_dir)"
   ]
  },
  {
   "cell_type": "code",
   "execution_count": 7,
   "metadata": {},
   "outputs": [
    {
     "name": "stdout",
     "output_type": "stream",
     "text": [
      "time: 839 µs (started: 2023-03-16 14:13:41 -07:00)\n"
     ]
    }
   ],
   "source": [
    "views, bottlenecks = res"
   ]
  },
  {
   "cell_type": "code",
   "execution_count": 11,
   "metadata": {},
   "outputs": [
    {
     "data": {
      "text/plain": [
       "((<Rule.METADATA_ACCESS_ISSUE: 21>, ('file_name',), {}),\n",
       " (<Rule.SMALL_IO_ACCESS: 30>,\n",
       "  ('file_name',),\n",
       "  {'/p/gpfs1/iopp/temp/montage/2854964/1/run/ngc3372.fits': RuleResult(rule=<Rule.SMALL_IO_ACCESS: 30>, description=\"'/p/gpfs1/iopp/temp/montage/2854964/1/run/ngc3372.fits' is accessed by process(es) 'mAddMPI#lassen246#41731#35184372406720' during the 1th second(s) with a transfer size smaller than 256KB (100.27KB).\", reasons=[RuleReason(description=\"'write' time is 99.66% (4.50 seconds) of I/O time.\", value=0.9966153583826323)]),\n",
       "   '/p/gpfs1/iopp/temp/montage/2854964/25/run/ngc3372_area.fits': RuleResult(rule=<Rule.SMALL_IO_ACCESS: 30>, description=\"'/p/gpfs1/iopp/temp/montage/2854964/25/run/ngc3372_area.fits' is accessed by process(es) 'mAddMPI#lassen578#12579#35184372406720' during the 1th second(s) with a transfer size smaller than 256KB (20.82KB).\", reasons=[RuleReason(description=\"'write' time is 99.93% (4.89 seconds) of I/O time.\", value=0.9992767731217669)])}),\n",
       " (<Rule.METADATA_ACCESS_ISSUE: 21>, ('proc_name',), {}),\n",
       " (<Rule.METADATA_ACCESS_ISSUE: 21>, ('trange', 'file_name'), {}),\n",
       " (<Rule.SMALL_IO_ACCESS: 30>,\n",
       "  ('trange', 'file_name'),\n",
       "  {'/p/gpfs1/iopp/temp/montage/2854964/1/run/ngc3372.fits': RuleResult(rule=<Rule.SMALL_IO_ACCESS: 30>, description=\"'/p/gpfs1/iopp/temp/montage/2854964/1/run/ngc3372.fits' is accessed by process(es) 'mAddMPI#lassen246#41731#35184372406720' during the 1th second(s) with a transfer size smaller than 256KB (100.27KB).\", reasons=[RuleReason(description=\"'write' time is 99.66% (4.50 seconds) of I/O time.\", value=0.9966153583826323)]),\n",
       "   '/p/gpfs1/iopp/temp/montage/2854964/25/run/ngc3372_area.fits': RuleResult(rule=<Rule.SMALL_IO_ACCESS: 30>, description=\"'/p/gpfs1/iopp/temp/montage/2854964/25/run/ngc3372_area.fits' is accessed by process(es) 'mAddMPI#lassen578#12579#35184372406720' during the 1th second(s) with a transfer size smaller than 256KB (20.82KB).\", reasons=[RuleReason(description=\"'write' time is 99.93% (4.89 seconds) of I/O time.\", value=0.9992767731217669)])}),\n",
       " (<Rule.METADATA_ACCESS_ISSUE: 21>, ('trange', 'proc_name'), {}),\n",
       " (<Rule.METADATA_ACCESS_ISSUE: 21>, ('file_name', 'proc_name'), {}),\n",
       " (<Rule.METADATA_ACCESS_ISSUE: 21>, ('proc_name', 'file_name'), {}),\n",
       " (<Rule.SMALL_IO_ACCESS: 30>,\n",
       "  ('proc_name', 'file_name'),\n",
       "  {'/p/gpfs1/iopp/temp/montage/2854964/1/run/ngc3372.fits': RuleResult(rule=<Rule.SMALL_IO_ACCESS: 30>, description=\"'/p/gpfs1/iopp/temp/montage/2854964/1/run/ngc3372.fits' is accessed by process(es) 'mAddMPI#lassen246#41731#35184372406720' during the 1th second(s) with a transfer size smaller than 256KB (100.27KB).\", reasons=[RuleReason(description=\"'write' time is 99.66% (4.50 seconds) of I/O time.\", value=0.9966153583826323)]),\n",
       "   '/p/gpfs1/iopp/temp/montage/2854964/25/run/ngc3372_area.fits': RuleResult(rule=<Rule.SMALL_IO_ACCESS: 30>, description=\"'/p/gpfs1/iopp/temp/montage/2854964/25/run/ngc3372_area.fits' is accessed by process(es) 'mAddMPI#lassen578#12579#35184372406720' during the 1th second(s) with a transfer size smaller than 256KB (20.82KB).\", reasons=[RuleReason(description=\"'write' time is 99.93% (4.89 seconds) of I/O time.\", value=0.9992767731217669)])}),\n",
       " (<Rule.METADATA_ACCESS_ISSUE: 21>, ('trange', 'file_name', 'proc_name'), {}),\n",
       " (<Rule.METADATA_ACCESS_ISSUE: 21>, ('trange', 'proc_name', 'file_name'), {}),\n",
       " (<Rule.SMALL_IO_ACCESS: 30>,\n",
       "  ('trange', 'proc_name', 'file_name'),\n",
       "  {'/p/gpfs1/iopp/temp/montage/2854964/1/run/ngc3372.fits': RuleResult(rule=<Rule.SMALL_IO_ACCESS: 30>, description=\"'/p/gpfs1/iopp/temp/montage/2854964/1/run/ngc3372.fits' is accessed by process(es) 'mAddMPI#lassen246#41731#35184372406720' during the 1th second(s) with a transfer size smaller than 256KB (100.27KB).\", reasons=[RuleReason(description=\"'write' time is 99.66% (4.50 seconds) of I/O time.\", value=0.9966153583826323)]),\n",
       "   '/p/gpfs1/iopp/temp/montage/2854964/25/run/ngc3372_area.fits': RuleResult(rule=<Rule.SMALL_IO_ACCESS: 30>, description=\"'/p/gpfs1/iopp/temp/montage/2854964/25/run/ngc3372_area.fits' is accessed by process(es) 'mAddMPI#lassen578#12579#35184372406720' during the 1th second(s) with a transfer size smaller than 256KB (20.82KB).\", reasons=[RuleReason(description=\"'write' time is 99.93% (4.89 seconds) of I/O time.\", value=0.9992767731217669)])}),\n",
       " (<Rule.METADATA_ACCESS_ISSUE: 21>, ('file_name', 'trange', 'proc_name'), {}),\n",
       " (<Rule.METADATA_ACCESS_ISSUE: 21>, ('proc_name', 'trange', 'file_name'), {}),\n",
       " (<Rule.SMALL_IO_ACCESS: 30>,\n",
       "  ('proc_name', 'trange', 'file_name'),\n",
       "  {'/p/gpfs1/iopp/temp/montage/2854964/1/run/ngc3372.fits': RuleResult(rule=<Rule.SMALL_IO_ACCESS: 30>, description=\"'/p/gpfs1/iopp/temp/montage/2854964/1/run/ngc3372.fits' is accessed by process(es) 'mAddMPI#lassen246#41731#35184372406720' during the 1th second(s) with a transfer size smaller than 256KB (100.27KB).\", reasons=[RuleReason(description=\"'write' time is 99.66% (4.50 seconds) of I/O time.\", value=0.9966153583826323)]),\n",
       "   '/p/gpfs1/iopp/temp/montage/2854964/25/run/ngc3372_area.fits': RuleResult(rule=<Rule.SMALL_IO_ACCESS: 30>, description=\"'/p/gpfs1/iopp/temp/montage/2854964/25/run/ngc3372_area.fits' is accessed by process(es) 'mAddMPI#lassen578#12579#35184372406720' during the 1th second(s) with a transfer size smaller than 256KB (20.82KB).\", reasons=[RuleReason(description=\"'write' time is 99.93% (4.89 seconds) of I/O time.\", value=0.9992767731217669)])}))"
      ]
     },
     "execution_count": 11,
     "metadata": {},
     "output_type": "execute_result"
    },
    {
     "name": "stdout",
     "output_type": "stream",
     "text": [
      "time: 2.42 s (started: 2023-03-16 14:19:45 -07:00)\n"
     ]
    }
   ],
   "source": [
    "from wisio.rules import Rule\n",
    "from wisio._recorder.rules import RecorderRuleEngine\n",
    "\n",
    "rules = dict(\n",
    "    file_name=[Rule.METADATA_ACCESS_ISSUE, Rule.SMALL_IO_ACCESS],\n",
    "    proc_name=[Rule.METADATA_ACCESS_ISSUE],\n",
    "    trange=[],\n",
    ")\n",
    "\n",
    "rule_engine = RecorderRuleEngine(rules=rules)\n",
    "\n",
    "rule_engine.process_bottlenecks(bottlenecks=bottlenecks)\n"
   ]
  },
  {
   "cell_type": "code",
   "execution_count": 11,
   "metadata": {},
   "outputs": [
    {
     "name": "stdout",
     "output_type": "stream",
     "text": [
      "('trange',) 0.001 42\n",
      "('trange',) 0.010 14\n",
      "('trange',) 0.100 3\n",
      "('trange',) 0.250 1\n",
      "('trange',) 0.500 0\n",
      "('trange',) 0.750 0\n",
      "('file_name',) 0.001 725\n",
      "('file_name',) 0.010 113\n",
      "('file_name',) 0.100 10\n",
      "('file_name',) 0.250 4\n",
      "('file_name',) 0.500 0\n",
      "('file_name',) 0.750 0\n",
      "('proc_name',) 0.001 74\n",
      "('proc_name',) 0.010 61\n",
      "('proc_name',) 0.100 6\n",
      "('proc_name',) 0.250 3\n",
      "('proc_name',) 0.500 0\n",
      "('proc_name',) 0.750 0\n",
      "('trange', 'file_name') 0.001 725\n",
      "('trange', 'file_name') 0.010 113\n",
      "('trange', 'file_name') 0.100 10\n",
      "('trange', 'file_name') 0.250 4\n",
      "('trange', 'file_name') 0.500 0\n",
      "('trange', 'file_name') 0.750 0\n",
      "('trange', 'proc_name') 0.001 74\n",
      "('trange', 'proc_name') 0.010 61\n",
      "('trange', 'proc_name') 0.100 6\n",
      "('trange', 'proc_name') 0.250 3\n",
      "('trange', 'proc_name') 0.500 0\n",
      "('trange', 'proc_name') 0.750 0\n",
      "('file_name', 'trange') 0.001 42\n",
      "('file_name', 'trange') 0.010 14\n",
      "('file_name', 'trange') 0.100 3\n",
      "('file_name', 'trange') 0.250 1\n",
      "('file_name', 'trange') 0.500 0\n",
      "('file_name', 'trange') 0.750 0\n",
      "('file_name', 'proc_name') 0.001 74\n",
      "('file_name', 'proc_name') 0.010 61\n",
      "('file_name', 'proc_name') 0.100 6\n",
      "('file_name', 'proc_name') 0.250 3\n",
      "('file_name', 'proc_name') 0.500 0\n",
      "('file_name', 'proc_name') 0.750 0\n",
      "('proc_name', 'trange') 0.001 42\n",
      "('proc_name', 'trange') 0.010 14\n",
      "('proc_name', 'trange') 0.100 3\n",
      "('proc_name', 'trange') 0.250 1\n",
      "('proc_name', 'trange') 0.500 0\n",
      "('proc_name', 'trange') 0.750 0\n",
      "('proc_name', 'file_name') 0.001 725\n",
      "('proc_name', 'file_name') 0.010 113\n",
      "('proc_name', 'file_name') 0.100 10\n",
      "('proc_name', 'file_name') 0.250 4\n",
      "('proc_name', 'file_name') 0.500 0\n",
      "('proc_name', 'file_name') 0.750 0\n",
      "('trange', 'file_name', 'proc_name') 0.001 74\n",
      "('trange', 'file_name', 'proc_name') 0.010 61\n",
      "('trange', 'file_name', 'proc_name') 0.100 6\n",
      "('trange', 'file_name', 'proc_name') 0.250 3\n",
      "('trange', 'file_name', 'proc_name') 0.500 0\n",
      "('trange', 'file_name', 'proc_name') 0.750 0\n",
      "('trange', 'proc_name', 'file_name') 0.001 725\n",
      "('trange', 'proc_name', 'file_name') 0.010 113\n",
      "('trange', 'proc_name', 'file_name') 0.100 10\n",
      "('trange', 'proc_name', 'file_name') 0.250 4\n",
      "('trange', 'proc_name', 'file_name') 0.500 0\n",
      "('trange', 'proc_name', 'file_name') 0.750 0\n",
      "('file_name', 'trange', 'proc_name') 0.001 74\n",
      "('file_name', 'trange', 'proc_name') 0.010 61\n",
      "('file_name', 'trange', 'proc_name') 0.100 6\n",
      "('file_name', 'trange', 'proc_name') 0.250 3\n",
      "('file_name', 'trange', 'proc_name') 0.500 0\n",
      "('file_name', 'trange', 'proc_name') 0.750 0\n",
      "('file_name', 'proc_name', 'trange') 0.001 42\n",
      "('file_name', 'proc_name', 'trange') 0.010 14\n",
      "('file_name', 'proc_name', 'trange') 0.100 3\n",
      "('file_name', 'proc_name', 'trange') 0.250 1\n",
      "('file_name', 'proc_name', 'trange') 0.500 0\n",
      "('file_name', 'proc_name', 'trange') 0.750 0\n",
      "('proc_name', 'trange', 'file_name') 0.001 725\n",
      "('proc_name', 'trange', 'file_name') 0.010 113\n",
      "('proc_name', 'trange', 'file_name') 0.100 10\n",
      "('proc_name', 'trange', 'file_name') 0.250 4\n",
      "('proc_name', 'trange', 'file_name') 0.500 0\n",
      "('proc_name', 'trange', 'file_name') 0.750 0\n",
      "('proc_name', 'file_name', 'trange') 0.001 42\n",
      "('proc_name', 'file_name', 'trange') 0.010 14\n",
      "('proc_name', 'file_name', 'trange') 0.100 3\n",
      "('proc_name', 'file_name', 'trange') 0.250 1\n",
      "('proc_name', 'file_name', 'trange') 0.500 0\n",
      "('proc_name', 'file_name', 'trange') 0.750 0\n",
      "time: 2.34 ms (started: 2023-03-12 17:53:18 -07:00)\n"
     ]
    }
   ],
   "source": [
    "for view_key, bottleneck in bottlenecks.items():\n",
    "    for th in bottleneck.keys():\n",
    "        print(view_key, th, len(bottleneck[th]))"
   ]
  },
  {
   "cell_type": "code",
   "execution_count": 8,
   "metadata": {},
   "outputs": [
    {
     "name": "stdout",
     "output_type": "stream",
     "text": [
      "time: 343 ms (started: 2023-03-12 17:52:39 -07:00)\n"
     ]
    }
   ],
   "source": [
    "!rm -rf {log_dir}/bottlenecks"
   ]
  },
  {
   "cell_type": "code",
   "execution_count": 9,
   "metadata": {},
   "outputs": [
    {
     "name": "stdout",
     "output_type": "stream",
     "text": [
      "time: 7.35 s (started: 2023-03-12 17:52:39 -07:00)\n"
     ]
    }
   ],
   "source": [
    "recorder_analyzer.save_bottlenecks(log_dir=log_dir, bottlenecks=bottlenecks)\n"
   ]
  },
  {
   "cell_type": "code",
   "execution_count": 10,
   "metadata": {},
   "outputs": [
    {
     "name": "stdout",
     "output_type": "stream",
     "text": [
      "total 27M\n",
      "-rw-r--r-- 1 izzet iopp 2.5M Mar 12 17:52 file_name.json\n",
      "-rw-r--r-- 1 izzet iopp 1.5M Mar 12 17:52 file_name_proc_name.json\n",
      "-rw-r--r-- 1 izzet iopp 1.4M Mar 12 17:52 file_name_proc_name_trange.json\n",
      "-rw-r--r-- 1 izzet iopp 1.4M Mar 12 17:52 file_name_trange.json\n",
      "-rw-r--r-- 1 izzet iopp 1.5M Mar 12 17:52 file_name_trange_proc_name.json\n",
      "-rw-r--r-- 1 izzet iopp 1.5M Mar 12 17:52 proc_name.json\n",
      "-rw-r--r-- 1 izzet iopp 2.5M Mar 12 17:52 proc_name_file_name.json\n",
      "-rw-r--r-- 1 izzet iopp 1.4M Mar 12 17:52 proc_name_file_name_trange.json\n",
      "-rw-r--r-- 1 izzet iopp 1.4M Mar 12 17:52 proc_name_trange.json\n",
      "-rw-r--r-- 1 izzet iopp 2.5M Mar 12 17:52 proc_name_trange_file_name.json\n",
      "-rw-r--r-- 1 izzet iopp 1.4M Mar 12 17:52 trange.json\n",
      "-rw-r--r-- 1 izzet iopp 2.5M Mar 12 17:52 trange_file_name.json\n",
      "-rw-r--r-- 1 izzet iopp 1.5M Mar 12 17:52 trange_file_name_proc_name.json\n",
      "-rw-r--r-- 1 izzet iopp 1.5M Mar 12 17:52 trange_proc_name.json\n",
      "-rw-r--r-- 1 izzet iopp 2.5M Mar 12 17:52 trange_proc_name_file_name.json\n",
      "time: 587 ms (started: 2023-03-12 17:52:47 -07:00)\n"
     ]
    }
   ],
   "source": [
    "!chmod g+r {log_dir}/bottlenecks/*\n",
    "!ls -lh {log_dir}/bottlenecks"
   ]
  },
  {
   "cell_type": "code",
   "execution_count": null,
   "metadata": {},
   "outputs": [],
   "source": []
  }
 ],
 "metadata": {
  "kernelspec": {
   "display_name": "venv-quartz",
   "language": "python",
   "name": "python3"
  },
  "language_info": {
   "codemirror_mode": {
    "name": "ipython",
    "version": 3
   },
   "file_extension": ".py",
   "mimetype": "text/x-python",
   "name": "python",
   "nbconvert_exporter": "python",
   "pygments_lexer": "ipython3",
   "version": "3.7.2"
  },
  "orig_nbformat": 4,
  "vscode": {
   "interpreter": {
    "hash": "5fec0851e4f6f01b6df5374e9d9a00bfd82bb6133a08238edb641111344e8885"
   }
  }
 },
 "nbformat": 4,
 "nbformat_minor": 2
}

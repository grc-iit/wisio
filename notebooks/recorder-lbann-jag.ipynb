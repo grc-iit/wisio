{
 "cells": [
  {
   "cell_type": "code",
   "execution_count": 1,
   "metadata": {},
   "outputs": [
    {
     "name": "stdout",
     "output_type": "stream",
     "text": [
      "time: 336 µs (started: 2024-03-25 15:32:09 -07:00)\n"
     ]
    }
   ],
   "source": [
    "%load_ext autoreload\n",
    "%load_ext autotime"
   ]
  },
  {
   "cell_type": "code",
   "execution_count": 2,
   "metadata": {},
   "outputs": [
    {
     "name": "stdout",
     "output_type": "stream",
     "text": [
      "time: 553 µs (started: 2024-03-25 15:32:09 -07:00)\n"
     ]
    }
   ],
   "source": [
    "import sys\n",
    "sys.path.append(\"../\")\n",
    "import warnings\n",
    "warnings.filterwarnings('ignore')"
   ]
  },
  {
   "cell_type": "code",
   "execution_count": 3,
   "metadata": {},
   "outputs": [
    {
     "name": "stdout",
     "output_type": "stream",
     "text": [
      "pandas 1.3.2\n",
      "dask 2021.08.1\n",
      "numpy 1.20.3\n",
      "time: 4.16 s (started: 2024-03-25 15:32:09 -07:00)\n"
     ]
    }
   ],
   "source": [
    "import dask\n",
    "import dask.dataframe as dd\n",
    "import numpy as np\n",
    "import pandas as pd\n",
    "print('pandas', pd.__version__)\n",
    "print('dask', dask.__version__)\n",
    "print('numpy', np.__version__)"
   ]
  },
  {
   "cell_type": "code",
   "execution_count": 4,
   "metadata": {},
   "outputs": [
    {
     "name": "stdout",
     "output_type": "stream",
     "text": [
      "_hlm\n",
      "_hlm_file_name_proc_name_time_range\n",
      "_hlm_proc_name\n",
      "_hlm_proc_name_time_range\n",
      "_main_view\n",
      "_main_view_file_name_proc_name_time_range\n",
      "_main_view_proc_name\n",
      "_main_view_proc_name_time_range\n",
      "_metric_boundaries_iops_file_name_proc_name_time_range.json\n",
      "_metric_boundaries_iops_proc_name.json\n",
      "_metric_boundaries_iops_proc_name_time_range.json\n",
      "_metric_boundaries_time_file_name_proc_name_time_range.json\n",
      "_raw_stats.json\n",
      "time: 5.66 s (started: 2024-03-25 15:32:13 -07:00)\n"
     ]
    }
   ],
   "source": [
    "!ls /p/gpfs1/iopp/wisio_logs/_checkpoints/recorder_lbann_jag_32"
   ]
  },
  {
   "cell_type": "code",
   "execution_count": 5,
   "metadata": {},
   "outputs": [
    {
     "name": "stdout",
     "output_type": "stream",
     "text": [
      "time: 862 µs (started: 2024-03-25 15:32:23 -07:00)\n"
     ]
    }
   ],
   "source": [
    "trace_path = '/p/gpfs1/iopp/wisio_logs/recorder_lbann_jag_32/_parquet'\n",
    "trace_path = '/p/gpfs1/iopp/wisio_logs/_checkpoints/recorder_lbann_jag_32/_main_view_file_name_proc_name_time_range'"
   ]
  },
  {
   "cell_type": "code",
   "execution_count": 7,
   "metadata": {},
   "outputs": [
    {
     "data": {
      "text/html": [
       "<div>\n",
       "<style scoped>\n",
       "    .dataframe tbody tr th:only-of-type {\n",
       "        vertical-align: middle;\n",
       "    }\n",
       "\n",
       "    .dataframe tbody tr th {\n",
       "        vertical-align: top;\n",
       "    }\n",
       "\n",
       "    .dataframe thead th {\n",
       "        text-align: right;\n",
       "    }\n",
       "</style>\n",
       "<table border=\"1\" class=\"dataframe\">\n",
       "  <thead>\n",
       "    <tr style=\"text-align: right;\">\n",
       "      <th></th>\n",
       "      <th></th>\n",
       "      <th></th>\n",
       "      <th>time</th>\n",
       "      <th>count</th>\n",
       "      <th>size_min</th>\n",
       "      <th>size_max</th>\n",
       "      <th>size</th>\n",
       "      <th>read_time</th>\n",
       "      <th>write_time</th>\n",
       "      <th>metadata_time</th>\n",
       "      <th>read_size</th>\n",
       "      <th>write_size</th>\n",
       "      <th>...</th>\n",
       "      <th>seek_time</th>\n",
       "      <th>stat_time</th>\n",
       "      <th>close_count</th>\n",
       "      <th>open_count</th>\n",
       "      <th>seek_count</th>\n",
       "      <th>stat_count</th>\n",
       "      <th>bw</th>\n",
       "      <th>iops</th>\n",
       "      <th>intensity</th>\n",
       "      <th>id</th>\n",
       "    </tr>\n",
       "    <tr>\n",
       "      <th>file_name</th>\n",
       "      <th>proc_name</th>\n",
       "      <th>time_range</th>\n",
       "      <th></th>\n",
       "      <th></th>\n",
       "      <th></th>\n",
       "      <th></th>\n",
       "      <th></th>\n",
       "      <th></th>\n",
       "      <th></th>\n",
       "      <th></th>\n",
       "      <th></th>\n",
       "      <th></th>\n",
       "      <th></th>\n",
       "      <th></th>\n",
       "      <th></th>\n",
       "      <th></th>\n",
       "      <th></th>\n",
       "      <th></th>\n",
       "      <th></th>\n",
       "      <th></th>\n",
       "      <th></th>\n",
       "      <th></th>\n",
       "      <th></th>\n",
       "    </tr>\n",
       "  </thead>\n",
       "  <tbody>\n",
       "    <tr>\n",
       "      <th rowspan=\"5\" valign=\"top\">UNKNOWN</th>\n",
       "      <th>app1#localhost#0#-1188030288</th>\n",
       "      <th>3</th>\n",
       "      <td>0.000417</td>\n",
       "      <td>230</td>\n",
       "      <td>0</td>\n",
       "      <td>0</td>\n",
       "      <td>0</td>\n",
       "      <td>0.0</td>\n",
       "      <td>0.0</td>\n",
       "      <td>0.000417</td>\n",
       "      <td>0</td>\n",
       "      <td>0</td>\n",
       "      <td>...</td>\n",
       "      <td>0.0</td>\n",
       "      <td>0.0</td>\n",
       "      <td>0</td>\n",
       "      <td>0</td>\n",
       "      <td>0</td>\n",
       "      <td>0</td>\n",
       "      <td>0.0</td>\n",
       "      <td>0.0</td>\n",
       "      <td>0.0</td>\n",
       "      <td>-297158297078910678</td>\n",
       "    </tr>\n",
       "    <tr>\n",
       "      <th>app1#localhost#1#-1188292432</th>\n",
       "      <th>3</th>\n",
       "      <td>0.000346</td>\n",
       "      <td>230</td>\n",
       "      <td>0</td>\n",
       "      <td>0</td>\n",
       "      <td>0</td>\n",
       "      <td>0.0</td>\n",
       "      <td>0.0</td>\n",
       "      <td>0.000346</td>\n",
       "      <td>0</td>\n",
       "      <td>0</td>\n",
       "      <td>...</td>\n",
       "      <td>0.0</td>\n",
       "      <td>0.0</td>\n",
       "      <td>0</td>\n",
       "      <td>0</td>\n",
       "      <td>0</td>\n",
       "      <td>0</td>\n",
       "      <td>0.0</td>\n",
       "      <td>0.0</td>\n",
       "      <td>0.0</td>\n",
       "      <td>-5278854646121587561</td>\n",
       "    </tr>\n",
       "    <tr>\n",
       "      <th>app1#localhost#10#-1188292432</th>\n",
       "      <th>3</th>\n",
       "      <td>0.000338</td>\n",
       "      <td>230</td>\n",
       "      <td>0</td>\n",
       "      <td>0</td>\n",
       "      <td>0</td>\n",
       "      <td>0.0</td>\n",
       "      <td>0.0</td>\n",
       "      <td>0.000338</td>\n",
       "      <td>0</td>\n",
       "      <td>0</td>\n",
       "      <td>...</td>\n",
       "      <td>0.0</td>\n",
       "      <td>0.0</td>\n",
       "      <td>0</td>\n",
       "      <td>0</td>\n",
       "      <td>0</td>\n",
       "      <td>0</td>\n",
       "      <td>0.0</td>\n",
       "      <td>0.0</td>\n",
       "      <td>0.0</td>\n",
       "      <td>-4736474928307412857</td>\n",
       "    </tr>\n",
       "    <tr>\n",
       "      <th>app1#localhost#100#-1188292432</th>\n",
       "      <th>3</th>\n",
       "      <td>0.000527</td>\n",
       "      <td>230</td>\n",
       "      <td>0</td>\n",
       "      <td>0</td>\n",
       "      <td>0</td>\n",
       "      <td>0.0</td>\n",
       "      <td>0.0</td>\n",
       "      <td>0.000527</td>\n",
       "      <td>0</td>\n",
       "      <td>0</td>\n",
       "      <td>...</td>\n",
       "      <td>0.0</td>\n",
       "      <td>0.0</td>\n",
       "      <td>0</td>\n",
       "      <td>0</td>\n",
       "      <td>0</td>\n",
       "      <td>0</td>\n",
       "      <td>0.0</td>\n",
       "      <td>0.0</td>\n",
       "      <td>0.0</td>\n",
       "      <td>-2726446444825781010</td>\n",
       "    </tr>\n",
       "    <tr>\n",
       "      <th>app1#localhost#101#-1188292432</th>\n",
       "      <th>3</th>\n",
       "      <td>0.000528</td>\n",
       "      <td>230</td>\n",
       "      <td>0</td>\n",
       "      <td>0</td>\n",
       "      <td>0</td>\n",
       "      <td>0.0</td>\n",
       "      <td>0.0</td>\n",
       "      <td>0.000528</td>\n",
       "      <td>0</td>\n",
       "      <td>0</td>\n",
       "      <td>...</td>\n",
       "      <td>0.0</td>\n",
       "      <td>0.0</td>\n",
       "      <td>0</td>\n",
       "      <td>0</td>\n",
       "      <td>0</td>\n",
       "      <td>0</td>\n",
       "      <td>0.0</td>\n",
       "      <td>0.0</td>\n",
       "      <td>0.0</td>\n",
       "      <td>1013644552397326848</td>\n",
       "    </tr>\n",
       "  </tbody>\n",
       "</table>\n",
       "<p>5 rows × 41 columns</p>\n",
       "</div>"
      ],
      "text/plain": [
       "                                                         time  count  \\\n",
       "file_name proc_name                      time_range                    \n",
       "UNKNOWN   app1#localhost#0#-1188030288   3           0.000417    230   \n",
       "          app1#localhost#1#-1188292432   3           0.000346    230   \n",
       "          app1#localhost#10#-1188292432  3           0.000338    230   \n",
       "          app1#localhost#100#-1188292432 3           0.000527    230   \n",
       "          app1#localhost#101#-1188292432 3           0.000528    230   \n",
       "\n",
       "                                                     size_min  size_max  size  \\\n",
       "file_name proc_name                      time_range                             \n",
       "UNKNOWN   app1#localhost#0#-1188030288   3                  0         0     0   \n",
       "          app1#localhost#1#-1188292432   3                  0         0     0   \n",
       "          app1#localhost#10#-1188292432  3                  0         0     0   \n",
       "          app1#localhost#100#-1188292432 3                  0         0     0   \n",
       "          app1#localhost#101#-1188292432 3                  0         0     0   \n",
       "\n",
       "                                                     read_time  write_time  \\\n",
       "file_name proc_name                      time_range                          \n",
       "UNKNOWN   app1#localhost#0#-1188030288   3                 0.0         0.0   \n",
       "          app1#localhost#1#-1188292432   3                 0.0         0.0   \n",
       "          app1#localhost#10#-1188292432  3                 0.0         0.0   \n",
       "          app1#localhost#100#-1188292432 3                 0.0         0.0   \n",
       "          app1#localhost#101#-1188292432 3                 0.0         0.0   \n",
       "\n",
       "                                                     metadata_time  read_size  \\\n",
       "file_name proc_name                      time_range                             \n",
       "UNKNOWN   app1#localhost#0#-1188030288   3                0.000417          0   \n",
       "          app1#localhost#1#-1188292432   3                0.000346          0   \n",
       "          app1#localhost#10#-1188292432  3                0.000338          0   \n",
       "          app1#localhost#100#-1188292432 3                0.000527          0   \n",
       "          app1#localhost#101#-1188292432 3                0.000528          0   \n",
       "\n",
       "                                                     write_size  ...  \\\n",
       "file_name proc_name                      time_range              ...   \n",
       "UNKNOWN   app1#localhost#0#-1188030288   3                    0  ...   \n",
       "          app1#localhost#1#-1188292432   3                    0  ...   \n",
       "          app1#localhost#10#-1188292432  3                    0  ...   \n",
       "          app1#localhost#100#-1188292432 3                    0  ...   \n",
       "          app1#localhost#101#-1188292432 3                    0  ...   \n",
       "\n",
       "                                                     seek_time  stat_time  \\\n",
       "file_name proc_name                      time_range                         \n",
       "UNKNOWN   app1#localhost#0#-1188030288   3                 0.0        0.0   \n",
       "          app1#localhost#1#-1188292432   3                 0.0        0.0   \n",
       "          app1#localhost#10#-1188292432  3                 0.0        0.0   \n",
       "          app1#localhost#100#-1188292432 3                 0.0        0.0   \n",
       "          app1#localhost#101#-1188292432 3                 0.0        0.0   \n",
       "\n",
       "                                                     close_count  open_count  \\\n",
       "file_name proc_name                      time_range                            \n",
       "UNKNOWN   app1#localhost#0#-1188030288   3                     0           0   \n",
       "          app1#localhost#1#-1188292432   3                     0           0   \n",
       "          app1#localhost#10#-1188292432  3                     0           0   \n",
       "          app1#localhost#100#-1188292432 3                     0           0   \n",
       "          app1#localhost#101#-1188292432 3                     0           0   \n",
       "\n",
       "                                                     seek_count  stat_count  \\\n",
       "file_name proc_name                      time_range                           \n",
       "UNKNOWN   app1#localhost#0#-1188030288   3                    0           0   \n",
       "          app1#localhost#1#-1188292432   3                    0           0   \n",
       "          app1#localhost#10#-1188292432  3                    0           0   \n",
       "          app1#localhost#100#-1188292432 3                    0           0   \n",
       "          app1#localhost#101#-1188292432 3                    0           0   \n",
       "\n",
       "                                                      bw  iops  intensity  \\\n",
       "file_name proc_name                      time_range                         \n",
       "UNKNOWN   app1#localhost#0#-1188030288   3           0.0   0.0        0.0   \n",
       "          app1#localhost#1#-1188292432   3           0.0   0.0        0.0   \n",
       "          app1#localhost#10#-1188292432  3           0.0   0.0        0.0   \n",
       "          app1#localhost#100#-1188292432 3           0.0   0.0        0.0   \n",
       "          app1#localhost#101#-1188292432 3           0.0   0.0        0.0   \n",
       "\n",
       "                                                                      id  \n",
       "file_name proc_name                      time_range                       \n",
       "UNKNOWN   app1#localhost#0#-1188030288   3           -297158297078910678  \n",
       "          app1#localhost#1#-1188292432   3          -5278854646121587561  \n",
       "          app1#localhost#10#-1188292432  3          -4736474928307412857  \n",
       "          app1#localhost#100#-1188292432 3          -2726446444825781010  \n",
       "          app1#localhost#101#-1188292432 3           1013644552397326848  \n",
       "\n",
       "[5 rows x 41 columns]"
      ]
     },
     "execution_count": 7,
     "metadata": {},
     "output_type": "execute_result"
    },
    {
     "name": "stdout",
     "output_type": "stream",
     "text": [
      "time: 191 ms (started: 2024-03-25 15:32:36 -07:00)\n"
     ]
    }
   ],
   "source": [
    "ddf = dd.read_parquet(f\"{trace_path}/*.parquet\", engine='pyarrow')\n",
    "ddf.head()"
   ]
  },
  {
   "cell_type": "code",
   "execution_count": 10,
   "metadata": {},
   "outputs": [
    {
     "name": "stdout",
     "output_type": "stream",
     "text": [
      "time: 1.43 ms (started: 2024-03-25 15:33:57 -07:00)\n"
     ]
    }
   ],
   "source": [
    "import os\n",
    "import re\n",
    "\n",
    "def set_file_dir(df: pd.DataFrame):\n",
    "    return df.assign(file_dir=df.index.get_level_values('file_name').map(os.path.dirname))\n",
    "\n",
    "def set_file_pattern(df: pd.DataFrame):\n",
    "    def _apply_regex(file_name: str):\n",
    "        return re.sub('[0-9]+', '[0-9]', file_name)\n",
    "    return df.assign(file_pattern=df.index.get_level_values('file_name').map(_apply_regex))"
   ]
  },
  {
   "cell_type": "code",
   "execution_count": 12,
   "metadata": {},
   "outputs": [
    {
     "data": {
      "text/plain": [
       "4"
      ]
     },
     "execution_count": 12,
     "metadata": {},
     "output_type": "execute_result"
    },
    {
     "name": "stdout",
     "output_type": "stream",
     "text": [
      "time: 59.9 ms (started: 2024-03-25 15:35:16 -07:00)\n"
     ]
    }
   ],
   "source": [
    "ddf.reset_index()['file_name'].nunique().compute()"
   ]
  },
  {
   "cell_type": "code",
   "execution_count": 14,
   "metadata": {},
   "outputs": [
    {
     "data": {
      "text/plain": [
       "UNKNOWN                                                                                                  5581\n",
       "/p/gpfs1/brainusr/datasets/jag/jag100K1vw_train.npy                                                       412\n",
       "/p/gpfs1/haridev/software/lbann/applications/physics/ICF/20210908_125606_jag_wae/experiment.prototext     384\n",
       "/g/g92/haridev/.nccl.conf                                                                                 128\n",
       "Name: file_name, dtype: int64"
      ]
     },
     "execution_count": 14,
     "metadata": {},
     "output_type": "execute_result"
    },
    {
     "name": "stdout",
     "output_type": "stream",
     "text": [
      "time: 59.3 ms (started: 2024-03-25 15:35:35 -07:00)\n"
     ]
    }
   ],
   "source": [
    "ddf.reset_index()['file_name'].value_counts().compute()"
   ]
  },
  {
   "cell_type": "code",
   "execution_count": 11,
   "metadata": {},
   "outputs": [
    {
     "data": {
      "text/plain": [
       "/p/gpfs1/brainusr/datasets/jag/jag100K1vw_train.npy    412\n",
       "Name: file_name, dtype: int64"
      ]
     },
     "execution_count": 11,
     "metadata": {},
     "output_type": "execute_result"
    },
    {
     "name": "stdout",
     "output_type": "stream",
     "text": [
      "time: 102 ms (started: 2024-03-25 15:34:27 -07:00)\n"
     ]
    }
   ],
   "source": [
    "file_patterns = ddf.map_partitions(set_file_pattern).reset_index()\n",
    "file_patterns[file_patterns['file_pattern'].str.contains('vw_train')]['file_name'].value_counts().compute()"
   ]
  },
  {
   "cell_type": "code",
   "execution_count": 8,
   "metadata": {},
   "outputs": [
    {
     "ename": "KeyError",
     "evalue": "'file_name'",
     "output_type": "error",
     "traceback": [
      "\u001b[0;31m---------------------------------------------------------------------------\u001b[0m",
      "\u001b[0;31mKeyError\u001b[0m                                  Traceback (most recent call last)",
      "\u001b[0;32m/usr/workspace/iopp/.conda/envs/jupyter/lib/python3.9/site-packages/pandas/core/indexes/base.py\u001b[0m in \u001b[0;36mget_loc\u001b[0;34m(self, key, method, tolerance)\u001b[0m\n\u001b[1;32m   3360\u001b[0m             \u001b[0;32mtry\u001b[0m\u001b[0;34m:\u001b[0m\u001b[0;34m\u001b[0m\u001b[0;34m\u001b[0m\u001b[0m\n\u001b[0;32m-> 3361\u001b[0;31m                 \u001b[0;32mreturn\u001b[0m \u001b[0mself\u001b[0m\u001b[0;34m.\u001b[0m\u001b[0m_engine\u001b[0m\u001b[0;34m.\u001b[0m\u001b[0mget_loc\u001b[0m\u001b[0;34m(\u001b[0m\u001b[0mcasted_key\u001b[0m\u001b[0;34m)\u001b[0m\u001b[0;34m\u001b[0m\u001b[0;34m\u001b[0m\u001b[0m\n\u001b[0m\u001b[1;32m   3362\u001b[0m             \u001b[0;32mexcept\u001b[0m \u001b[0mKeyError\u001b[0m \u001b[0;32mas\u001b[0m \u001b[0merr\u001b[0m\u001b[0;34m:\u001b[0m\u001b[0;34m\u001b[0m\u001b[0;34m\u001b[0m\u001b[0m\n",
      "\u001b[0;32m/usr/workspace/iopp/.conda/envs/jupyter/lib/python3.9/site-packages/pandas/_libs/index.pyx\u001b[0m in \u001b[0;36mpandas._libs.index.IndexEngine.get_loc\u001b[0;34m()\u001b[0m\n",
      "\u001b[0;32m/usr/workspace/iopp/.conda/envs/jupyter/lib/python3.9/site-packages/pandas/_libs/index.pyx\u001b[0m in \u001b[0;36mpandas._libs.index.IndexEngine.get_loc\u001b[0;34m()\u001b[0m\n",
      "\u001b[0;32mpandas/_libs/hashtable_class_helper.pxi\u001b[0m in \u001b[0;36mpandas._libs.hashtable.PyObjectHashTable.get_item\u001b[0;34m()\u001b[0m\n",
      "\u001b[0;32mpandas/_libs/hashtable_class_helper.pxi\u001b[0m in \u001b[0;36mpandas._libs.hashtable.PyObjectHashTable.get_item\u001b[0;34m()\u001b[0m\n",
      "\u001b[0;31mKeyError\u001b[0m: 'file_name'",
      "\nThe above exception was the direct cause of the following exception:\n",
      "\u001b[0;31mKeyError\u001b[0m                                  Traceback (most recent call last)",
      "\u001b[0;32m/tmp/ipykernel_38777/484368023.py\u001b[0m in \u001b[0;36m<module>\u001b[0;34m\u001b[0m\n\u001b[0;32m----> 1\u001b[0;31m \u001b[0mddf\u001b[0m\u001b[0;34m[\u001b[0m\u001b[0mddf\u001b[0m\u001b[0;34m[\u001b[0m\u001b[0;34m'file_name'\u001b[0m\u001b[0;34m]\u001b[0m\u001b[0;34m.\u001b[0m\u001b[0mstr\u001b[0m\u001b[0;34m.\u001b[0m\u001b[0mcontains\u001b[0m\u001b[0;34m(\u001b[0m\u001b[0;34m'vw_train.npy'\u001b[0m\u001b[0;34m)\u001b[0m\u001b[0;34m]\u001b[0m\u001b[0;34m.\u001b[0m\u001b[0mhead\u001b[0m\u001b[0;34m(\u001b[0m\u001b[0;34m)\u001b[0m\u001b[0;34m\u001b[0m\u001b[0;34m\u001b[0m\u001b[0m\n\u001b[0m",
      "\u001b[0;32m/usr/workspace/iopp/.conda/envs/jupyter/lib/python3.9/site-packages/dask/dataframe/core.py\u001b[0m in \u001b[0;36m__getitem__\u001b[0;34m(self, key)\u001b[0m\n\u001b[1;32m   3959\u001b[0m \u001b[0;34m\u001b[0m\u001b[0m\n\u001b[1;32m   3960\u001b[0m             \u001b[0;31m# error is raised from pandas\u001b[0m\u001b[0;34m\u001b[0m\u001b[0;34m\u001b[0m\u001b[0m\n\u001b[0;32m-> 3961\u001b[0;31m             \u001b[0mmeta\u001b[0m \u001b[0;34m=\u001b[0m \u001b[0mself\u001b[0m\u001b[0;34m.\u001b[0m\u001b[0m_meta\u001b[0m\u001b[0;34m[\u001b[0m\u001b[0m_extract_meta\u001b[0m\u001b[0;34m(\u001b[0m\u001b[0mkey\u001b[0m\u001b[0;34m)\u001b[0m\u001b[0;34m]\u001b[0m\u001b[0;34m\u001b[0m\u001b[0;34m\u001b[0m\u001b[0m\n\u001b[0m\u001b[1;32m   3962\u001b[0m             \u001b[0mdsk\u001b[0m \u001b[0;34m=\u001b[0m \u001b[0mpartitionwise_graph\u001b[0m\u001b[0;34m(\u001b[0m\u001b[0moperator\u001b[0m\u001b[0;34m.\u001b[0m\u001b[0mgetitem\u001b[0m\u001b[0;34m,\u001b[0m \u001b[0mname\u001b[0m\u001b[0;34m,\u001b[0m \u001b[0mself\u001b[0m\u001b[0;34m,\u001b[0m \u001b[0mkey\u001b[0m\u001b[0;34m)\u001b[0m\u001b[0;34m\u001b[0m\u001b[0;34m\u001b[0m\u001b[0m\n\u001b[1;32m   3963\u001b[0m             \u001b[0mgraph\u001b[0m \u001b[0;34m=\u001b[0m \u001b[0mHighLevelGraph\u001b[0m\u001b[0;34m.\u001b[0m\u001b[0mfrom_collections\u001b[0m\u001b[0;34m(\u001b[0m\u001b[0mname\u001b[0m\u001b[0;34m,\u001b[0m \u001b[0mdsk\u001b[0m\u001b[0;34m,\u001b[0m \u001b[0mdependencies\u001b[0m\u001b[0;34m=\u001b[0m\u001b[0;34m[\u001b[0m\u001b[0mself\u001b[0m\u001b[0;34m]\u001b[0m\u001b[0;34m)\u001b[0m\u001b[0;34m\u001b[0m\u001b[0;34m\u001b[0m\u001b[0m\n",
      "\u001b[0;32m/usr/workspace/iopp/.conda/envs/jupyter/lib/python3.9/site-packages/pandas/core/frame.py\u001b[0m in \u001b[0;36m__getitem__\u001b[0;34m(self, key)\u001b[0m\n\u001b[1;32m   3453\u001b[0m             \u001b[0;32mif\u001b[0m \u001b[0mself\u001b[0m\u001b[0;34m.\u001b[0m\u001b[0mcolumns\u001b[0m\u001b[0;34m.\u001b[0m\u001b[0mnlevels\u001b[0m \u001b[0;34m>\u001b[0m \u001b[0;36m1\u001b[0m\u001b[0;34m:\u001b[0m\u001b[0;34m\u001b[0m\u001b[0;34m\u001b[0m\u001b[0m\n\u001b[1;32m   3454\u001b[0m                 \u001b[0;32mreturn\u001b[0m \u001b[0mself\u001b[0m\u001b[0;34m.\u001b[0m\u001b[0m_getitem_multilevel\u001b[0m\u001b[0;34m(\u001b[0m\u001b[0mkey\u001b[0m\u001b[0;34m)\u001b[0m\u001b[0;34m\u001b[0m\u001b[0;34m\u001b[0m\u001b[0m\n\u001b[0;32m-> 3455\u001b[0;31m             \u001b[0mindexer\u001b[0m \u001b[0;34m=\u001b[0m \u001b[0mself\u001b[0m\u001b[0;34m.\u001b[0m\u001b[0mcolumns\u001b[0m\u001b[0;34m.\u001b[0m\u001b[0mget_loc\u001b[0m\u001b[0;34m(\u001b[0m\u001b[0mkey\u001b[0m\u001b[0;34m)\u001b[0m\u001b[0;34m\u001b[0m\u001b[0;34m\u001b[0m\u001b[0m\n\u001b[0m\u001b[1;32m   3456\u001b[0m             \u001b[0;32mif\u001b[0m \u001b[0mis_integer\u001b[0m\u001b[0;34m(\u001b[0m\u001b[0mindexer\u001b[0m\u001b[0;34m)\u001b[0m\u001b[0;34m:\u001b[0m\u001b[0;34m\u001b[0m\u001b[0;34m\u001b[0m\u001b[0m\n\u001b[1;32m   3457\u001b[0m                 \u001b[0mindexer\u001b[0m \u001b[0;34m=\u001b[0m \u001b[0;34m[\u001b[0m\u001b[0mindexer\u001b[0m\u001b[0;34m]\u001b[0m\u001b[0;34m\u001b[0m\u001b[0;34m\u001b[0m\u001b[0m\n",
      "\u001b[0;32m/usr/workspace/iopp/.conda/envs/jupyter/lib/python3.9/site-packages/pandas/core/indexes/base.py\u001b[0m in \u001b[0;36mget_loc\u001b[0;34m(self, key, method, tolerance)\u001b[0m\n\u001b[1;32m   3361\u001b[0m                 \u001b[0;32mreturn\u001b[0m \u001b[0mself\u001b[0m\u001b[0;34m.\u001b[0m\u001b[0m_engine\u001b[0m\u001b[0;34m.\u001b[0m\u001b[0mget_loc\u001b[0m\u001b[0;34m(\u001b[0m\u001b[0mcasted_key\u001b[0m\u001b[0;34m)\u001b[0m\u001b[0;34m\u001b[0m\u001b[0;34m\u001b[0m\u001b[0m\n\u001b[1;32m   3362\u001b[0m             \u001b[0;32mexcept\u001b[0m \u001b[0mKeyError\u001b[0m \u001b[0;32mas\u001b[0m \u001b[0merr\u001b[0m\u001b[0;34m:\u001b[0m\u001b[0;34m\u001b[0m\u001b[0;34m\u001b[0m\u001b[0m\n\u001b[0;32m-> 3363\u001b[0;31m                 \u001b[0;32mraise\u001b[0m \u001b[0mKeyError\u001b[0m\u001b[0;34m(\u001b[0m\u001b[0mkey\u001b[0m\u001b[0;34m)\u001b[0m \u001b[0;32mfrom\u001b[0m \u001b[0merr\u001b[0m\u001b[0;34m\u001b[0m\u001b[0;34m\u001b[0m\u001b[0m\n\u001b[0m\u001b[1;32m   3364\u001b[0m \u001b[0;34m\u001b[0m\u001b[0m\n\u001b[1;32m   3365\u001b[0m         \u001b[0;32mif\u001b[0m \u001b[0mis_scalar\u001b[0m\u001b[0;34m(\u001b[0m\u001b[0mkey\u001b[0m\u001b[0;34m)\u001b[0m \u001b[0;32mand\u001b[0m \u001b[0misna\u001b[0m\u001b[0;34m(\u001b[0m\u001b[0mkey\u001b[0m\u001b[0;34m)\u001b[0m \u001b[0;32mand\u001b[0m \u001b[0;32mnot\u001b[0m \u001b[0mself\u001b[0m\u001b[0;34m.\u001b[0m\u001b[0mhasnans\u001b[0m\u001b[0;34m:\u001b[0m\u001b[0;34m\u001b[0m\u001b[0;34m\u001b[0m\u001b[0m\n",
      "\u001b[0;31mKeyError\u001b[0m: 'file_name'"
     ]
    },
    {
     "name": "stdout",
     "output_type": "stream",
     "text": [
      "time: 59.1 ms (started: 2024-03-25 15:33:04 -07:00)\n"
     ]
    }
   ],
   "source": [
    "ddf[ddf['file_name'].str.contains('vw_train.npy')].head()"
   ]
  },
  {
   "cell_type": "code",
   "execution_count": 5,
   "metadata": {},
   "outputs": [
    {
     "name": "stderr",
     "output_type": "stream",
     "text": [
      "[INFO] [21:27:49] Initializing Recorder analyzer [/g/g91/izzet/projects/wisio/wisio/analyzer.py:110]\n",
      "[DEBUG] [21:27:49] Using selector: EpollSelector [/collab/usr/gapps/python/build/spack-toss4.1/var/spack/environments/python/._view/75prb56irmif5ejtirjthpx6kq3gqo52/lib/python3.9/asyncio/selector_events.py:54]\n",
      "[DEBUG] [21:27:52] Client dashboard at http://127.0.0.1:8787/status [/g/g91/izzet/projects/wisio/wisio/cluster_management.py:43]\n"
     ]
    },
    {
     "data": {
      "text/plain": [
       "'http://127.0.0.1:8787/status'"
      ]
     },
     "execution_count": 5,
     "metadata": {},
     "output_type": "execute_result"
    },
    {
     "name": "stdout",
     "output_type": "stream",
     "text": [
      "time: 4.75 s (started: 2024-03-24 21:27:47 -07:00)\n"
     ]
    }
   ],
   "source": [
    "%autoreload 2\n",
    "\n",
    "from wisio.cluster_management import load_cluster_config\n",
    "from wisio.recorder import RecorderAnalyzer\n",
    "\n",
    "cluster_config = load_cluster_config('cluster_config_local.yml')\n",
    "cluster_config.local_dir = '/var/tmp/recorder_lbann_cosmoflow_32'\n",
    "\n",
    "analyzer = RecorderAnalyzer(\n",
    "    checkpoint=True,\n",
    "    checkpoint_dir='/usr/workspace/iopp/wisio_logs/_checkpoints/recorder_lbann_cosmoflow_32',\n",
    "    cluster_config=cluster_config,\n",
    "    working_dir='.wisio/recorder_lbann_cosmoflow_32',\n",
    "    debug=True,\n",
    ")\n",
    "\n",
    "analyzer.cluster_manager.client.dashboard_link"
   ]
  },
  {
   "cell_type": "code",
   "execution_count": 6,
   "metadata": {},
   "outputs": [
    {
     "name": "stderr",
     "output_type": "stream",
     "text": [
      "[INFO] [21:28:00] Compute main view (1.1213530111126602) [/g/g91/izzet/projects/wisio/wisio/analyzer.py:165]\n",
      "[INFO] [21:28:00] Compute metric boundaries (0.0015143270138651133) [/g/g91/izzet/projects/wisio/wisio/analyzer.py:182]\n",
      "[INFO] [21:28:15] Compute perspectives (14.7810480480548) [/g/g91/izzet/projects/wisio/wisio/analyzer.py:203]\n",
      "[INFO] [21:28:16] Detect I/O bottlenecks (1.1096589069347829) [/g/g91/izzet/projects/wisio/wisio/analyzer.py:213]\n",
      "[INFO] [21:41:07] Attach reasons to I/O bottlenecks (771.8306293999776) [/g/g91/izzet/projects/wisio/wisio/analyzer.py:228]\n",
      "[DEBUG] [21:41:09] Save I/O bottlenecks (1.065265087876469) [/g/g91/izzet/projects/wisio/wisio/analyzer.py:231]\n"
     ]
    },
    {
     "name": "stdout",
     "output_type": "stream",
     "text": [
      "time: 13min 9s (started: 2024-03-24 21:27:59 -07:00)\n"
     ]
    }
   ],
   "source": [
    "%autoreload 2\n",
    "\n",
    "result = analyzer.analyze_parquet(\n",
    "    trace_path=trace_path, \n",
    "    metrics=['iops'],\n",
    "    # slope_threshold=60,\n",
    "    # view_types=['proc_name'],\n",
    ")"
   ]
  },
  {
   "cell_type": "code",
   "execution_count": 8,
   "metadata": {},
   "outputs": [
    {
     "data": {
      "text/html": [
       "<pre style=\"white-space:pre;overflow-x:auto;line-height:normal;font-family:Menlo,'DejaVu Sans Mono',consolas,'Courier New',monospace\">╭────────────────────────────────────────────── I/O Characteristics ──────────────────────────────────────────────╮\n",
       "│                                                                                                                 │\n",
       "│ <span style=\"color: #008080; text-decoration-color: #008080\"> Runtime         </span> 12023158.71 s                                                                                 │\n",
       "│ <span style=\"color: #008080; text-decoration-color: #008080\"> I/O Time        </span> 134.06 s - <span style=\"font-weight: bold\">R</span>: 98.66% - <span style=\"font-weight: bold\">W</span>: 0.11% - <span style=\"font-weight: bold\">M</span>: 1.36%                                                    │\n",
       "│ <span style=\"color: #008080; text-decoration-color: #008080\"> I/O Operations  </span> 10.4M ops - <span style=\"font-weight: bold\">R</span>: 19.87% - <span style=\"font-weight: bold\">W</span>: 0.36% - <span style=\"font-weight: bold\">M</span>: 79.77%                                                  │\n",
       "│ <span style=\"color: #008080; text-decoration-color: #008080\"> I/O Size        </span> 1.42 TiB - <span style=\"font-weight: bold\">R</span>: 100.00% - <span style=\"font-weight: bold\">W</span>: 0.00%                                                              │\n",
       "│ <span style=\"color: #008080; text-decoration-color: #008080\"> Read Requests   </span> 4 kiB-4 MiB                                                                                   │\n",
       "│ <span style=\"color: #008080; text-decoration-color: #008080\"> Write Requests  </span> 4 kiB-4 kiB                                                                                   │\n",
       "│ <span style=\"color: #008080; text-decoration-color: #008080\"> Nodes           </span> 1 node                                                                                        │\n",
       "│ <span style=\"color: #008080; text-decoration-color: #008080\"> Apps            </span> 1 app                                                                                         │\n",
       "│ <span style=\"color: #008080; text-decoration-color: #008080\"> Processes/Ranks </span> 652 processes                                                                                 │\n",
       "│ <span style=\"color: #008080; text-decoration-color: #008080\"> Files           </span> 49,521 files - <span style=\"font-weight: bold\">Shared</span>: 98.70% - <span style=\"font-weight: bold\">FPP</span>: 1.30%                                                    │\n",
       "│ <span style=\"color: #008080; text-decoration-color: #008080\"> Time Periods    </span> 285,892 time periods                                                                          │\n",
       "│ <span style=\"color: #008080; text-decoration-color: #008080\"> Access Pattern  </span> <span style=\"font-weight: bold\">Sequential</span>: 100.00% - <span style=\"font-weight: bold\">Random</span>: 0.00%                                                           │\n",
       "│                                                                                                                 │\n",
       "╰─ <span style=\"font-weight: bold\">R</span>: Read - <span style=\"font-weight: bold\">W</span>: Write - <span style=\"font-weight: bold\">M</span>: Metadata  ─────────────────────────────────────────────────────────────────────────────╯\n",
       "                                                                                                                   \n",
       "╭──────────────────────────────────── 9959 I/O Bottlenecks with 38971 Reasons ────────────────────────────────────╮\n",
       "│                                                                                                                 │\n",
       "│  File View (1736 bottlenecks with 6772 reasons)                                                                 │\n",
       "│  ├── <span style=\"color: #d70000; text-decoration-color: #d70000\">[CR1] 4 processes access 1 file (univ_ics_2019-03_a1002673_2_1_0_float.hdf5) within 12 time periods </span>       │\n",
       "│  │   <span style=\"color: #d70000; text-decoration-color: #d70000\">across 55 I/O operations and have an I/O time of 6.72 seconds which is 5.02% of overall I/O time of the </span>   │\n",
       "│  │   <span style=\"color: #d70000; text-decoration-color: #d70000\">workload.</span>                                                                                                  │\n",
       "│  │   ├── <span style=\"color: #d70000; text-decoration-color: #d70000\">[Operation imbalance] 'read' operations are 80.00% (44 operations) of total I/O operations.</span>            │\n",
       "│  │   ├── <span style=\"color: #d70000; text-decoration-color: #d70000\">[Size imbalance] 'read' size is 100.00% (32.01 MiB) of total I/O size.</span>                                 │\n",
       "│  │   ├── <span style=\"color: #d70000; text-decoration-color: #d70000\">[Small reads] 'read' time is 99.99% (6.72 seconds) of I/O time.</span>                                        │\n",
       "│  │   └── <span style=\"color: #d70000; text-decoration-color: #d70000\">[Small reads] Average 'read's are 595.96 kiB, which is smaller than 1.00 MiB.</span>                          │\n",
       "│  └── (1735 more)                                                                                                │\n",
       "│  Process View (103 bottlenecks with 412 reasons)                                                                │\n",
       "│  ├── <span style=\"color: #d78700; text-decoration-color: #d78700\">[HI1737] 1 process (app1#localhost#6#-622323536) accesses 1,557 files within 2,111 time periods across </span>    │\n",
       "│  │   <span style=\"color: #d78700; text-decoration-color: #d78700\">30,785 I/O operations and has an I/O time of 98.87 seconds which is 73.75% of overall I/O time of the </span>     │\n",
       "│  │   <span style=\"color: #d78700; text-decoration-color: #d78700\">workload.</span>                                                                                                  │\n",
       "│  │   ├── <span style=\"color: #d78700; text-decoration-color: #d78700\">[Operation imbalance] 'read' operations are 50.41% (15,520 operations) of total I/O operations.</span>        │\n",
       "│  │   ├── <span style=\"color: #d78700; text-decoration-color: #d78700\">[Size imbalance] 'read' size is 100.00% (12.13 GiB) of total I/O size.</span>                                 │\n",
       "│  │   ├── <span style=\"color: #d78700; text-decoration-color: #d78700\">[Small reads] 'read' time is 99.51% (98.38 seconds) of I/O time.</span>                                       │\n",
       "│  │   └── <span style=\"color: #d78700; text-decoration-color: #d78700\">[Small reads] Average 'read's are 413.11 kiB, which is smaller than 1.00 MiB.</span>                          │\n",
       "│  └── (102 more)                                                                                                 │\n",
       "│  Time Period View (8120 bottlenecks with 31787 reasons)                                                         │\n",
       "│  ├── <span style=\"color: #d70000; text-decoration-color: #d70000\">[CR1840] 4 processes access 4 files within 4 time periods (7468904) across 1 I/O operation and have an </span>    │\n",
       "│  │   <span style=\"color: #d70000; text-decoration-color: #d70000\">I/O time of 6.71 seconds which is 5.01% of overall I/O time of the workload.</span>                               │\n",
       "│  │   ├── <span style=\"color: #d70000; text-decoration-color: #d70000\">[Operation imbalance] 'read' operations are 100.00% (1 operations) of total I/O operations.</span>            │\n",
       "│  │   └── <span style=\"color: #d70000; text-decoration-color: #d70000\">[Size imbalance] 'read' size is 100.00% (2.00 MiB) of total I/O size.</span>                                  │\n",
       "│  └── (8119 more)                                                                                                │\n",
       "│                                                                                                                 │\n",
       "╰─────────────────────────────────────────────────────────────────────────────────────────────────────────────────╯\n",
       "</pre>\n"
      ],
      "text/plain": [
       "╭────────────────────────────────────────────── I/O Characteristics ──────────────────────────────────────────────╮\n",
       "│                                                                                                                 │\n",
       "│ \u001b[36m \u001b[0m\u001b[36mRuntime        \u001b[0m\u001b[36m \u001b[0m 12023158.71 s                                                                                 │\n",
       "│ \u001b[36m \u001b[0m\u001b[36mI/O Time       \u001b[0m\u001b[36m \u001b[0m 134.06 s - \u001b[1mR\u001b[0m: 98.66% - \u001b[1mW\u001b[0m: 0.11% - \u001b[1mM\u001b[0m: 1.36%                                                    │\n",
       "│ \u001b[36m \u001b[0m\u001b[36mI/O Operations \u001b[0m\u001b[36m \u001b[0m 10.4M ops - \u001b[1mR\u001b[0m: 19.87% - \u001b[1mW\u001b[0m: 0.36% - \u001b[1mM\u001b[0m: 79.77%                                                  │\n",
       "│ \u001b[36m \u001b[0m\u001b[36mI/O Size       \u001b[0m\u001b[36m \u001b[0m 1.42 TiB - \u001b[1mR\u001b[0m: 100.00% - \u001b[1mW\u001b[0m: 0.00%                                                              │\n",
       "│ \u001b[36m \u001b[0m\u001b[36mRead Requests  \u001b[0m\u001b[36m \u001b[0m 4 kiB-4 MiB                                                                                   │\n",
       "│ \u001b[36m \u001b[0m\u001b[36mWrite Requests \u001b[0m\u001b[36m \u001b[0m 4 kiB-4 kiB                                                                                   │\n",
       "│ \u001b[36m \u001b[0m\u001b[36mNodes          \u001b[0m\u001b[36m \u001b[0m 1 node                                                                                        │\n",
       "│ \u001b[36m \u001b[0m\u001b[36mApps           \u001b[0m\u001b[36m \u001b[0m 1 app                                                                                         │\n",
       "│ \u001b[36m \u001b[0m\u001b[36mProcesses/Ranks\u001b[0m\u001b[36m \u001b[0m 652 processes                                                                                 │\n",
       "│ \u001b[36m \u001b[0m\u001b[36mFiles          \u001b[0m\u001b[36m \u001b[0m 49,521 files - \u001b[1mShared\u001b[0m: 98.70% - \u001b[1mFPP\u001b[0m: 1.30%                                                    │\n",
       "│ \u001b[36m \u001b[0m\u001b[36mTime Periods   \u001b[0m\u001b[36m \u001b[0m 285,892 time periods                                                                          │\n",
       "│ \u001b[36m \u001b[0m\u001b[36mAccess Pattern \u001b[0m\u001b[36m \u001b[0m \u001b[1mSequential\u001b[0m: 100.00% - \u001b[1mRandom\u001b[0m: 0.00%                                                           │\n",
       "│                                                                                                                 │\n",
       "╰─ \u001b[1mR\u001b[0m: Read - \u001b[1mW\u001b[0m: Write - \u001b[1mM\u001b[0m: Metadata  ─────────────────────────────────────────────────────────────────────────────╯\n",
       "                                                                                                                   \n",
       "╭──────────────────────────────────── 9959 I/O Bottlenecks with 38971 Reasons ────────────────────────────────────╮\n",
       "│                                                                                                                 │\n",
       "│  File View (1736 bottlenecks with 6772 reasons)                                                                 │\n",
       "│  ├── \u001b[38;5;160m[CR1] 4 processes access 1 file (univ_ics_2019-03_a1002673_2_1_0_float.hdf5) within 12 time periods \u001b[0m       │\n",
       "│  │   \u001b[38;5;160macross 55 I/O operations and have an I/O time of 6.72 seconds which is 5.02% of overall I/O time of the \u001b[0m   │\n",
       "│  │   \u001b[38;5;160mworkload.\u001b[0m                                                                                                  │\n",
       "│  │   ├── \u001b[38;5;160m[Operation imbalance] 'read' operations are 80.00% (44 operations) of total I/O operations.\u001b[0m            │\n",
       "│  │   ├── \u001b[38;5;160m[Size imbalance] 'read' size is 100.00% (32.01 MiB) of total I/O size.\u001b[0m                                 │\n",
       "│  │   ├── \u001b[38;5;160m[Small reads] 'read' time is 99.99% (6.72 seconds) of I/O time.\u001b[0m                                        │\n",
       "│  │   └── \u001b[38;5;160m[Small reads] Average 'read's are 595.96 kiB, which is smaller than 1.00 MiB.\u001b[0m                          │\n",
       "│  └── (1735 more)                                                                                                │\n",
       "│  Process View (103 bottlenecks with 412 reasons)                                                                │\n",
       "│  ├── \u001b[38;5;172m[HI1737] 1 process (app1#localhost#6#-622323536) accesses 1,557 files within 2,111 time periods across \u001b[0m    │\n",
       "│  │   \u001b[38;5;172m30,785 I/O operations and has an I/O time of 98.87 seconds which is 73.75% of overall I/O time of the \u001b[0m     │\n",
       "│  │   \u001b[38;5;172mworkload.\u001b[0m                                                                                                  │\n",
       "│  │   ├── \u001b[38;5;172m[Operation imbalance] 'read' operations are 50.41% (15,520 operations) of total I/O operations.\u001b[0m        │\n",
       "│  │   ├── \u001b[38;5;172m[Size imbalance] 'read' size is 100.00% (12.13 GiB) of total I/O size.\u001b[0m                                 │\n",
       "│  │   ├── \u001b[38;5;172m[Small reads] 'read' time is 99.51% (98.38 seconds) of I/O time.\u001b[0m                                       │\n",
       "│  │   └── \u001b[38;5;172m[Small reads] Average 'read's are 413.11 kiB, which is smaller than 1.00 MiB.\u001b[0m                          │\n",
       "│  └── (102 more)                                                                                                 │\n",
       "│  Time Period View (8120 bottlenecks with 31787 reasons)                                                         │\n",
       "│  ├── \u001b[38;5;160m[CR1840] 4 processes access 4 files within 4 time periods (7468904) across 1 I/O operation and have an \u001b[0m    │\n",
       "│  │   \u001b[38;5;160mI/O time of 6.71 seconds which is 5.01% of overall I/O time of the workload.\u001b[0m                               │\n",
       "│  │   ├── \u001b[38;5;160m[Operation imbalance] 'read' operations are 100.00% (1 operations) of total I/O operations.\u001b[0m            │\n",
       "│  │   └── \u001b[38;5;160m[Size imbalance] 'read' size is 100.00% (2.00 MiB) of total I/O size.\u001b[0m                                  │\n",
       "│  └── (8119 more)                                                                                                │\n",
       "│                                                                                                                 │\n",
       "╰─────────────────────────────────────────────────────────────────────────────────────────────────────────────────╯\n"
      ]
     },
     "metadata": {},
     "output_type": "display_data"
    },
    {
     "name": "stdout",
     "output_type": "stream",
     "text": [
      "time: 7.23 s (started: 2024-03-24 21:45:17 -07:00)\n"
     ]
    }
   ],
   "source": [
    "result.output.console(compact=True, max_bottlenecks=1, root_only=True, show_debug=False)"
   ]
  },
  {
   "cell_type": "code",
   "execution_count": 6,
   "metadata": {},
   "outputs": [
    {
     "name": "stdout",
     "output_type": "stream",
     "text": [
      "time: 2min 43s (started: 2023-09-23 16:21:18 -07:00)\n"
     ]
    }
   ],
   "source": [
    "%autoreload 2\n",
    "\n",
    "result = analyzer.analyze_parquet(log_dir=log_dir, checkpoint=False, metrics=['duration'])"
   ]
  },
  {
   "cell_type": "code",
   "execution_count": 7,
   "metadata": {},
   "outputs": [
    {
     "data": {
      "image/png": "[encoded data removed]",
      "text/plain": [
       "<Figure size 800x400 with 1 Axes>"
      ]
     },
     "metadata": {},
     "output_type": "display_data"
    },
    {
     "name": "stdout",
     "output_type": "stream",
     "text": [
      "time: 2.35 s (started: 2023-09-23 16:24:39 -07:00)\n"
     ]
    }
   ],
   "source": [
    "import matplotlib.pyplot as plt\n",
    "plt.style.use('seaborn-poster')\n",
    "fig, ax = result.plot.slope(\n",
    "    metric='duration', \n",
    "    view_keys=[('time_range',)], #, ('file_name',), ('proc_name',)],\n",
    "    figsize=(8, 4)\n",
    ")\n",
    "# fig"
   ]
  },
  {
   "cell_type": "code",
   "execution_count": 8,
   "metadata": {},
   "outputs": [
    {
     "data": {
      "text/plain": [
       "(<Figure size 500x500 with 1 Axes>,\n",
       " <matplotlib.axes._subplots.AxesSubplot at 0x200040408ac0>)"
      ]
     },
     "execution_count": 8,
     "metadata": {},
     "output_type": "execute_result"
    },
    {
     "data": {
      "image/png": "[encoded data removed]",
      "text/plain": [
       "<Figure size 500x500 with 1 Axes>"
      ]
     },
     "metadata": {},
     "output_type": "display_data"
    },
    {
     "name": "stdout",
     "output_type": "stream",
     "text": [
      "time: 6.58 s (started: 2023-09-23 16:25:25 -07:00)\n"
     ]
    }
   ],
   "source": [
    "result.plot.view_relations3('duration', ('time_range',), ('file_name',), ('proc_name',))"
   ]
  },
  {
   "cell_type": "code",
   "execution_count": 11,
   "metadata": {},
   "outputs": [
    {
     "data": {
      "text/plain": [
       "829067"
      ]
     },
     "execution_count": 11,
     "metadata": {},
     "output_type": "execute_result"
    },
    {
     "name": "stdout",
     "output_type": "stream",
     "text": [
      "time: 410 ms (started: 2023-09-23 16:27:03 -07:00)\n"
     ]
    }
   ],
   "source": [
    "len(result.main_view.index)"
   ]
  },
  {
   "cell_type": "code",
   "execution_count": null,
   "metadata": {},
   "outputs": [],
   "source": []
  }
 ],
 "metadata": {
  "kernelspec": {
   "display_name": "iopp",
   "language": "python",
   "name": "iopp"
  },
  "language_info": {
   "codemirror_mode": {
    "name": "ipython",
    "version": 3
   },
   "file_extension": ".py",
   "mimetype": "text/x-python",
   "name": "python",
   "nbconvert_exporter": "python",
   "pygments_lexer": "ipython3",
   "version": "3.9.7"
  }
 },
 "nbformat": 4,
 "nbformat_minor": 4
}

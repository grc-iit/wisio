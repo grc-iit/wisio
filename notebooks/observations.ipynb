{
 "cells": [
  {
   "cell_type": "code",
   "execution_count": 1,
   "metadata": {},
   "outputs": [],
   "source": [
    "import json\n",
    "import pandas as pd\n",
    "from pathlib import PurePath"
   ]
  },
  {
   "cell_type": "code",
   "execution_count": 1,
   "metadata": {},
   "outputs": [],
   "source": [
    "def filename(x):\n",
    "#     print(x)\n",
    "    # return x\n",
    "    if not hasattr(x, '__len__') or len(x) == 0:\n",
    "        return \"''\"\n",
    "    pure_path = PurePath(x[0])\n",
    "    # print(pure_path.parent.name)\n",
    "    if pure_path.parent.name:\n",
    "        return f\"../{pure_path.name}\"\n",
    "    return pure_path.name\n",
    "\n",
    "\n",
    "def llc_to_df(json_file, name, index_column, per_column):\n",
    "    with open(json_file) as file:\n",
    "        json_arr = json.load(file)\n",
    "    df = pd.json_normalize(json_arr[-1])\n",
    "    df[\"all.agg_bw\"] = df[\"all.agg_bw\"].apply(lambda x: format(float(x)/1024.0/1024.0/1024.0, \".3f\") + \"GB/s\")\n",
    "    df[\"all.agg_size\"] = df[\"all.agg_size\"].apply(lambda x: format(float(x)/1024.0/1024.0/1024.0, \".3f\") + \"GB\")\n",
    "    df['all.unique_filename'] = df[\"all.unique_filename\"].apply(filename)\n",
    "    df['file'] = df['all.unique_filename']\n",
    "    df['rank'] = df['all.unique_rank']\n",
    "    df['start_seconds'] = df['start'].apply(lambda x: format(float(x)/1e7, \".2f\"))\n",
    "    df['stop_seconds'] = df['stop'].apply(lambda x: format(float(x)/1e7, \".2f\"))\n",
    "    df['time'] = df['start_seconds'] + '-' + df['stop_seconds']\n",
    "    df['time_start'] = df['time_start'].apply(lambda x: format(x, \".2f\"))\n",
    "    df['time_end'] = df['time_end'].apply(lambda x: format(x, \".2f\"))\n",
    "    df[\"md_io_ratio\"] = df[\"md_io_ratio\"].apply(lambda x: format(float(x)*100.0, \".2f\") + \"%\")\n",
    "    df[per_column] = df[per_column].apply(lambda x: format(float(x)*100.0, \".2f\") + \"%\")    \n",
    "    df.drop(columns=['all.unique_filename', 'all.unique_func_id', 'all.unique_rank'], inplace=True)\n",
    "    df.drop(columns=['is_collective', 'is_hdf5', 'is_md_only', 'start', 'stop', 'start_seconds', 'stop_seconds'], inplace=True)\n",
    "    if index_column == 'file':\n",
    "        df.drop(columns=['rank', 'time'], inplace=True)\n",
    "    elif index_column == 'rank':\n",
    "        df.drop(columns=['file', 'time'], inplace=True)\n",
    "    else:\n",
    "        df.drop(columns=['file', 'rank', 'time_start', 'time_end'], inplace=True)\n",
    "    df.rename(columns={'all.total_index': 'all.ops'}, inplace=True)\n",
    "    df.rename(columns={'all.total_unique_filename': 'all.files'}, inplace=True)\n",
    "    df.rename(columns={'all.total_unique_func_id': 'all.funcs'}, inplace=True)\n",
    "    df.rename(columns={'all.total_unique_rank': 'all.ranks'}, inplace=True)\n",
    "    df.rename(columns={'all.xfer_size_fmt': 'all.xfer_size'}, inplace=True)\n",
    "    df.rename(columns={'read.xfer_size_fmt': 'r.xfer'}, inplace=True)\n",
    "    df.rename(columns={'write.xfer_size_fmt': 'w.xfer'}, inplace=True)\n",
    "    df.rename(columns={per_column: '%'}, inplace=True)\n",
    "    df = df.loc[:, ~df.columns.str.startswith('per_')]\n",
    "    df = df.loc[:, ~df.columns.str.startswith('metadata.')]\n",
    "    df = df.loc[:, ~df.columns.str.startswith('read.')]\n",
    "    df = df.loc[:, ~df.columns.str.startswith('write.')]\n",
    "    df.insert(0, index_column, df.pop(index_column))\n",
    "    df.insert(1, '%', df.pop('%'))\n",
    "    if index_column != 'time':\n",
    "        df.insert(2, 'time_start', df.pop('time_start'))\n",
    "        df.insert(3, 'time_end', df.pop('time_end'))\n",
    "    tuple_cols = df.columns.str.split('.')\n",
    "    tuples = [tuple(i) if len(i) == 2 else tuple([name, i[0]]) for i in tuple_cols]\n",
    "    df.columns = pd.MultiIndex.from_tuples(tuples)\n",
    "    return df\n"
   ]
  },
  {
   "cell_type": "code",
   "execution_count": null,
   "metadata": {},
   "outputs": [],
   "source": []
  }
 ],
 "metadata": {
  "kernelspec": {
   "display_name": "Python 3 (ipykernel)",
   "language": "python",
   "name": "python3"
  },
  "language_info": {
   "codemirror_mode": {
    "name": "ipython",
    "version": 3
   },
   "file_extension": ".py",
   "mimetype": "text/x-python",
   "name": "python",
   "nbconvert_exporter": "python",
   "pygments_lexer": "ipython3",
   "version": "3.9.7"
  },
  "vscode": {
   "interpreter": {
    "hash": "60e611992ff4884e53704c792d3e673c1345bc4edefd19673c75adce4311bc94"
   }
  }
 },
 "nbformat": 4,
 "nbformat_minor": 4
}
